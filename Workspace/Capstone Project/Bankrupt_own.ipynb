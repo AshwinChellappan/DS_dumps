{
 "cells": [
  {
   "cell_type": "code",
   "execution_count": 1,
   "id": "d2daa0c2",
   "metadata": {},
   "outputs": [],
   "source": [
    "import numpy as np\n",
    "import pandas as pd\n",
    "import matplotlib.pyplot as plt\n",
    "import seaborn as sns"
   ]
  },
  {
   "cell_type": "code",
   "execution_count": 2,
   "id": "a4ec473d",
   "metadata": {},
   "outputs": [],
   "source": [
    "df=pd.read_csv('data.csv')"
   ]
  },
  {
   "cell_type": "code",
   "execution_count": 3,
   "id": "b9c77c17",
   "metadata": {},
   "outputs": [
    {
     "data": {
      "text/plain": [
       "(6819, 96)"
      ]
     },
     "execution_count": 3,
     "metadata": {},
     "output_type": "execute_result"
    }
   ],
   "source": [
    "df.shape"
   ]
  },
  {
   "cell_type": "code",
   "execution_count": 4,
   "id": "97f7832f",
   "metadata": {},
   "outputs": [
    {
     "data": {
      "text/plain": [
       "Index(['Bankrupt?', ' ROA(C) before interest and depreciation before interest',\n",
       "       ' ROA(A) before interest and % after tax',\n",
       "       ' ROA(B) before interest and depreciation after tax',\n",
       "       ' Operating Gross Margin', ' Realized Sales Gross Margin',\n",
       "       ' Operating Profit Rate', ' Pre-tax net Interest Rate',\n",
       "       ' After-tax net Interest Rate',\n",
       "       ' Non-industry income and expenditure/revenue',\n",
       "       ' Continuous interest rate (after tax)', ' Operating Expense Rate',\n",
       "       ' Research and development expense rate', ' Cash flow rate',\n",
       "       ' Interest-bearing debt interest rate', ' Tax rate (A)',\n",
       "       ' Net Value Per Share (B)', ' Net Value Per Share (A)',\n",
       "       ' Net Value Per Share (C)', ' Persistent EPS in the Last Four Seasons',\n",
       "       ' Cash Flow Per Share', ' Revenue Per Share (Yuan ¥)',\n",
       "       ' Operating Profit Per Share (Yuan ¥)',\n",
       "       ' Per Share Net profit before tax (Yuan ¥)',\n",
       "       ' Realized Sales Gross Profit Growth Rate',\n",
       "       ' Operating Profit Growth Rate', ' After-tax Net Profit Growth Rate',\n",
       "       ' Regular Net Profit Growth Rate', ' Continuous Net Profit Growth Rate',\n",
       "       ' Total Asset Growth Rate', ' Net Value Growth Rate',\n",
       "       ' Total Asset Return Growth Rate Ratio', ' Cash Reinvestment %',\n",
       "       ' Current Ratio', ' Quick Ratio', ' Interest Expense Ratio',\n",
       "       ' Total debt/Total net worth', ' Debt ratio %', ' Net worth/Assets',\n",
       "       ' Long-term fund suitability ratio (A)', ' Borrowing dependency',\n",
       "       ' Contingent liabilities/Net worth',\n",
       "       ' Operating profit/Paid-in capital',\n",
       "       ' Net profit before tax/Paid-in capital',\n",
       "       ' Inventory and accounts receivable/Net value', ' Total Asset Turnover',\n",
       "       ' Accounts Receivable Turnover', ' Average Collection Days',\n",
       "       ' Inventory Turnover Rate (times)', ' Fixed Assets Turnover Frequency',\n",
       "       ' Net Worth Turnover Rate (times)', ' Revenue per person',\n",
       "       ' Operating profit per person', ' Allocation rate per person',\n",
       "       ' Working Capital to Total Assets', ' Quick Assets/Total Assets',\n",
       "       ' Current Assets/Total Assets', ' Cash/Total Assets',\n",
       "       ' Quick Assets/Current Liability', ' Cash/Current Liability',\n",
       "       ' Current Liability to Assets', ' Operating Funds to Liability',\n",
       "       ' Inventory/Working Capital', ' Inventory/Current Liability',\n",
       "       ' Current Liabilities/Liability', ' Working Capital/Equity',\n",
       "       ' Current Liabilities/Equity', ' Long-term Liability to Current Assets',\n",
       "       ' Retained Earnings to Total Assets', ' Total income/Total expense',\n",
       "       ' Total expense/Assets', ' Current Asset Turnover Rate',\n",
       "       ' Quick Asset Turnover Rate', ' Working capitcal Turnover Rate',\n",
       "       ' Cash Turnover Rate', ' Cash Flow to Sales', ' Fixed Assets to Assets',\n",
       "       ' Current Liability to Liability', ' Current Liability to Equity',\n",
       "       ' Equity to Long-term Liability', ' Cash Flow to Total Assets',\n",
       "       ' Cash Flow to Liability', ' CFO to Assets', ' Cash Flow to Equity',\n",
       "       ' Current Liability to Current Assets', ' Liability-Assets Flag',\n",
       "       ' Net Income to Total Assets', ' Total assets to GNP price',\n",
       "       ' No-credit Interval', ' Gross Profit to Sales',\n",
       "       ' Net Income to Stockholder's Equity', ' Liability to Equity',\n",
       "       ' Degree of Financial Leverage (DFL)',\n",
       "       ' Interest Coverage Ratio (Interest expense to EBIT)',\n",
       "       ' Net Income Flag', ' Equity to Liability'],\n",
       "      dtype='object')"
      ]
     },
     "execution_count": 4,
     "metadata": {},
     "output_type": "execute_result"
    }
   ],
   "source": [
    "df.columns"
   ]
  },
  {
   "cell_type": "code",
   "execution_count": 5,
   "id": "360527b4",
   "metadata": {},
   "outputs": [],
   "source": [
    "#Removing space in columns\n",
    "df.columns=df.columns.str.strip()\n",
    "df.columns = df.columns.str.replace(\" \" ,\"_\")\n",
    "df.rename(columns = {'Bankrupt?' :'Bankrupt' },inplace=True)"
   ]
  },
  {
   "cell_type": "code",
   "execution_count": null,
   "id": "00ea48f0",
   "metadata": {},
   "outputs": [],
   "source": [
    "#Check data description"
   ]
  },
  {
   "cell_type": "markdown",
   "id": "3eaa8ce0",
   "metadata": {},
   "source": [
    "1.EDA(Data preprocessing and story telling)\n",
    "2.Model building\n",
    "3.Feature Transformation-(Feature selection (REF))\n",
    "    Feature selection-If variance is zero we can remove the variable\n",
    "4.Model Validation\n",
    "5.Model Evaluation-(Cross validation -KFold)\n",
    "6.Hyper parameter tuning (Grid Search)\n",
    "    Can give L1_ratio, alpha as a parameter in Elastic net\n",
    "7.Picking best model\n",
    "8.Final submission\n",
    "\n",
    "#To avoid overfitting in Linear regression, compare score of Train RMSE and Test RMSE should be similar"
   ]
  },
  {
   "cell_type": "markdown",
   "id": "bd56c6c7",
   "metadata": {},
   "source": [
    "#EDA(Data preprocessing and story telling)\n",
    "1.Univariate,Bivariate,Multivariate Analysis\n",
    "2.check skewness and kurtosis\n",
    "    skewness - Even after log transformation, can use reciprocal transformation\n",
    "3.Data Anamolies\n",
    "    1.Check for duplicate values\n",
    "    2.Missing value treatment\n",
    "    3.Handling Outliers\n",
    "4.Transformation (Z-score,Minmax scaling)\n",
    "5.Handling imbalance data set\n",
    "6.Multicollinearity- VIF method -Threshold as 10 and remove variables above than 10"
   ]
  },
  {
   "cell_type": "code",
   "execution_count": 6,
   "id": "4338000c",
   "metadata": {},
   "outputs": [
    {
     "name": "stdout",
     "output_type": "stream",
     "text": [
      "Duplicate: 0\n",
      "Null values: 0\n",
      "Nan values: 0\n"
     ]
    }
   ],
   "source": [
    "#Data Anamalies\n",
    "print('Duplicate:',df.duplicated().sum())\n",
    "print('Null values:',df.isnull().values.sum())\n",
    "print('Nan values:',df.isna().values.sum())"
   ]
  },
  {
   "cell_type": "code",
   "execution_count": 7,
   "id": "1a5dcfd3",
   "metadata": {},
   "outputs": [
    {
     "data": {
      "text/plain": [
       "(6552, 96)"
      ]
     },
     "execution_count": 7,
     "metadata": {},
     "output_type": "execute_result"
    }
   ],
   "source": [
    "#Removing Outliers\n",
    "Q1 = df.quantile(0.01)\n",
    "Q3 = df.quantile(0.99)\n",
    "IQR = Q3 - Q1\n",
    "df = df[~((df < (Q1-6*IQR)) | (df > (Q3 + 6*IQR))).any(axis = 1)]\n",
    "df.shape"
   ]
  },
  {
   "cell_type": "code",
   "execution_count": 8,
   "id": "c77d9b0e",
   "metadata": {},
   "outputs": [],
   "source": [
    "input_cols=df.drop('Bankrupt',axis=1)\n",
    "target_cols=df['Bankrupt']"
   ]
  },
  {
   "cell_type": "code",
   "execution_count": 9,
   "id": "35165528",
   "metadata": {},
   "outputs": [],
   "source": [
    "#Scaling Data\n",
    "from sklearn.preprocessing import MinMaxScaler\n",
    "minmax=MinMaxScaler()\n",
    "input_sc=minmax.fit_transform(input_cols)\n",
    "input_sc=pd.DataFrame(data=input_sc,columns=input_cols.columns)"
   ]
  },
  {
   "cell_type": "code",
   "execution_count": 9,
   "id": "ef91fd3f",
   "metadata": {},
   "outputs": [
    {
     "data": {
      "text/plain": [
       "(12738, 86)"
      ]
     },
     "execution_count": 9,
     "metadata": {},
     "output_type": "execute_result"
    }
   ],
   "source": [
    "#Handling Imbalanced dataset\n",
    "from sklearn.feature_selection import mutual_info_classif \n",
    "from imblearn.over_sampling import SMOTE \n",
    "mutual_info = mutual_info_classif(X= input_sc,y= target_cols)  # get mutual info all predictors\n",
    "pruned_features = input_sc.columns[np.where(mutual_info>0)]  # retain features only with mi >0\n",
    "X_scaled_pruned = input_sc[pruned_features]\n",
    "sm = SMOTE(random_state=123)\n",
    "X_sm , y_sm = sm.fit_resample(X_scaled_pruned,target_cols)\n",
    "X_sm.shape"
   ]
  },
  {
   "cell_type": "code",
   "execution_count": 10,
   "id": "edb841c4",
   "metadata": {},
   "outputs": [
    {
     "data": {
      "text/plain": [
       "((8916, 86), (3822, 86), (8916,), (3822,))"
      ]
     },
     "execution_count": 10,
     "metadata": {},
     "output_type": "execute_result"
    }
   ],
   "source": [
    "from sklearn.model_selection import train_test_split, cross_val_score, GridSearchCV\n",
    "x_train,x_test,y_train,y_test=train_test_split(X_sm,y_sm,\n",
    "                                                       test_size=0.3,random_state=1)\n",
    "x_train.shape,x_test.shape,y_train.shape,y_test.shape"
   ]
  },
  {
   "cell_type": "code",
   "execution_count": null,
   "id": "83400964",
   "metadata": {},
   "outputs": [],
   "source": [
    "#Baseline model"
   ]
  },
  {
   "cell_type": "code",
   "execution_count": 22,
   "id": "62a43ea9",
   "metadata": {},
   "outputs": [],
   "source": [
    "from sklearn.linear_model import LogisticRegression\n",
    "from sklearn.tree import DecisionTreeClassifier\n",
    "from sklearn.ensemble import RandomForestClassifier\n",
    "from sklearn.ensemble import StackingClassifier\n",
    "from sklearn.ensemble import GradientBoostingClassifier\n",
    "from xgboost import XGBClassifier\n",
    "from sklearn.naive_bayes import GaussianNB\n",
    "from sklearn.neighbors import KNeighborsClassifier\n",
    "from sklearn.metrics import accuracy_score, confusion_matrix, classification_report, roc_curve, roc_auc_score, f1_score, precision_score"
   ]
  },
  {
   "cell_type": "code",
   "execution_count": 12,
   "id": "f554513b",
   "metadata": {},
   "outputs": [
    {
     "name": "stdout",
     "output_type": "stream",
     "text": [
      "0.8950811093668236\n",
      "[[1696  256]\n",
      " [ 145 1725]]\n"
     ]
    },
    {
     "name": "stderr",
     "output_type": "stream",
     "text": [
      "C:\\Ashwin\\Learning\\Datascience\\lib\\site-packages\\sklearn\\linear_model\\_logistic.py:763: ConvergenceWarning: lbfgs failed to converge (status=1):\n",
      "STOP: TOTAL NO. of ITERATIONS REACHED LIMIT.\n",
      "\n",
      "Increase the number of iterations (max_iter) or scale the data as shown in:\n",
      "    https://scikit-learn.org/stable/modules/preprocessing.html\n",
      "Please also refer to the documentation for alternative solver options:\n",
      "    https://scikit-learn.org/stable/modules/linear_model.html#logistic-regression\n",
      "  n_iter_i = _check_optimize_result(\n"
     ]
    }
   ],
   "source": [
    "log_model=LogisticRegression().fit(x_train,y_train)\n",
    "y_pred=log_model.predict(x_test)\n",
    "print(accuracy_score(y_test,y_pred))\n",
    "print(confusion_matrix(y_test,y_pred))"
   ]
  },
  {
   "cell_type": "code",
   "execution_count": 13,
   "id": "f9b821fc",
   "metadata": {},
   "outputs": [
    {
     "name": "stdout",
     "output_type": "stream",
     "text": [
      "0.9387755102040817\n",
      "[[1753  199]\n",
      " [  35 1835]]\n"
     ]
    }
   ],
   "source": [
    "dt_model=DecisionTreeClassifier(max_depth=8,random_state=1).fit(x_train,y_train)\n",
    "y_pred=dt_model.predict(x_test)\n",
    "print(accuracy_score(y_test,y_pred))\n",
    "print(confusion_matrix(y_test,y_pred))"
   ]
  },
  {
   "cell_type": "code",
   "execution_count": 14,
   "id": "993d5ea2",
   "metadata": {},
   "outputs": [
    {
     "name": "stdout",
     "output_type": "stream",
     "text": [
      "0.9610151753008895\n",
      "[[1815  137]\n",
      " [  12 1858]]\n"
     ]
    }
   ],
   "source": [
    "dt_model=RandomForestClassifier(max_depth=8,random_state=1).fit(x_train,y_train)\n",
    "y_pred=dt_model.predict(x_test)\n",
    "print(accuracy_score(y_test,y_pred))\n",
    "print(confusion_matrix(y_test,y_pred))"
   ]
  },
  {
   "cell_type": "code",
   "execution_count": 15,
   "id": "1e18481f",
   "metadata": {},
   "outputs": [
    {
     "name": "stdout",
     "output_type": "stream",
     "text": [
      "0.9635306418852335\n"
     ]
    },
    {
     "data": {
      "text/plain": [
       "(12738, 20)"
      ]
     },
     "execution_count": 15,
     "metadata": {},
     "output_type": "execute_result"
    }
   ],
   "source": [
    "from sklearn.decomposition import PCA\n",
    "pca = PCA(n_components = 20)\n",
    "new_X = pca.fit_transform(X_sm)\n",
    "print(sum(pca.explained_variance_ratio_))\n",
    "new_data = pd.DataFrame(data = new_X, columns = range(1, 21))\n",
    "new_data.shape"
   ]
  },
  {
   "cell_type": "code",
   "execution_count": 16,
   "id": "1aced36f",
   "metadata": {},
   "outputs": [
    {
     "data": {
      "text/plain": [
       "((8916, 20), (3822, 20), (8916,), (3822,))"
      ]
     },
     "execution_count": 16,
     "metadata": {},
     "output_type": "execute_result"
    }
   ],
   "source": [
    "x_train,x_test,y_train,y_test=train_test_split(new_data,y_sm,test_size=0.3,random_state=1)\n",
    "x_train.shape,x_test.shape,y_train.shape,y_test.shape"
   ]
  },
  {
   "cell_type": "code",
   "execution_count": 17,
   "id": "b142e5e6",
   "metadata": {},
   "outputs": [
    {
     "name": "stdout",
     "output_type": "stream",
     "text": [
      "0.9215070643642073\n",
      "[[1731  221]\n",
      " [  79 1791]]\n"
     ]
    }
   ],
   "source": [
    "dt_model=DecisionTreeClassifier(max_depth=8,random_state=1).fit(x_train,y_train)\n",
    "y_pred=dt_model.predict(x_test)\n",
    "print(accuracy_score(y_test,y_pred))\n",
    "print(confusion_matrix(y_test,y_pred))"
   ]
  },
  {
   "cell_type": "code",
   "execution_count": 18,
   "id": "304ffa83",
   "metadata": {},
   "outputs": [
    {
     "name": "stdout",
     "output_type": "stream",
     "text": [
      "0.945839874411303\n",
      "[[1783  169]\n",
      " [  38 1832]]\n"
     ]
    }
   ],
   "source": [
    "dt_model=RandomForestClassifier(max_depth=8,random_state=1).fit(x_train,y_train)\n",
    "y_pred=dt_model.predict(x_test)\n",
    "print(accuracy_score(y_test,y_pred))\n",
    "print(confusion_matrix(y_test,y_pred))"
   ]
  },
  {
   "cell_type": "code",
   "execution_count": 20,
   "id": "c166853f",
   "metadata": {},
   "outputs": [
    {
     "name": "stdout",
     "output_type": "stream",
     "text": [
      "0.7752485609628467\n",
      "[[1230  722]\n",
      " [ 137 1733]]\n"
     ]
    }
   ],
   "source": [
    "naiveBayes=GaussianNB().fit(x_train,y_train)\n",
    "y_pred=naiveBayes.predict(x_test)\n",
    "print(accuracy_score(y_test,y_pred))\n",
    "print(confusion_matrix(y_test,y_pred))"
   ]
  },
  {
   "cell_type": "code",
   "execution_count": 27,
   "id": "53a016df",
   "metadata": {},
   "outputs": [
    {
     "name": "stdout",
     "output_type": "stream",
     "text": [
      "0.9552590266875981\n",
      "[[1782  170]\n",
      " [   1 1869]]\n"
     ]
    }
   ],
   "source": [
    "knnclassifier=KNeighborsClassifier(n_neighbors=3).fit(x_train,y_train)\n",
    "y_pred=knnclassifier.predict(x_test)\n",
    "print(accuracy_score(y_test,y_pred))\n",
    "print(confusion_matrix(y_test,y_pred))"
   ]
  },
  {
   "cell_type": "code",
   "execution_count": null,
   "id": "e96885cf",
   "metadata": {},
   "outputs": [],
   "source": [
    "#Hyper parameter Tuning\n",
    "#params = [{\"max_depth\":[7,8,9,10,11], \"max_features\":[6,7,8,9], \"n_estimators\":[100,120,140,150]}]\n",
    "#RF = RandomForestClassifier()\n",
    "#RF_grid = GridSearchCV(estimator = RF, param_grid = params, cv = 5, scoring = \"recall\")\n",
    "#RF_grid.fit(x_train,y_train)\n",
    "#RF_grid.best_params_"
   ]
  },
  {
   "cell_type": "code",
   "execution_count": null,
   "id": "e1497818",
   "metadata": {},
   "outputs": [],
   "source": []
  },
  {
   "cell_type": "code",
   "execution_count": 19,
   "id": "a8721a93",
   "metadata": {},
   "outputs": [
    {
     "data": {
      "text/plain": [
       "array([0.95852018, 0.94506726, 0.93161435, 0.94506726, 0.94506726,\n",
       "       0.94618834, 0.92817059, 0.94388328, 0.94612795, 0.9315376 ])"
      ]
     },
     "execution_count": 19,
     "metadata": {},
     "output_type": "execute_result"
    }
   ],
   "source": [
    "#cross-validation\n",
    "cross_val_score(estimator = dt_model, X = x_train, y = y_train, scoring = \"accuracy\", cv = 10)"
   ]
  },
  {
   "cell_type": "code",
   "execution_count": 36,
   "id": "8c14b59b",
   "metadata": {},
   "outputs": [
    {
     "data": {
      "text/plain": [
       "array([0.96860987, 0.96188341, 0.95964126, 0.96748879, 0.9529148 ,\n",
       "       0.95403587, 0.95510662, 0.96296296, 0.96969697, 0.95847363])"
      ]
     },
     "execution_count": 36,
     "metadata": {},
     "output_type": "execute_result"
    }
   ],
   "source": [
    "#Cross validation for KNN\n",
    "cross_val_score(estimator = knnclassifier, X = x_train, y = y_train, scoring = \"accuracy\", cv = 10)"
   ]
  },
  {
   "cell_type": "code",
   "execution_count": 38,
   "id": "37d8e245",
   "metadata": {},
   "outputs": [
    {
     "data": {
      "text/plain": [
       "{'n_neighbors': 1}"
      ]
     },
     "execution_count": 38,
     "metadata": {},
     "output_type": "execute_result"
    }
   ],
   "source": [
    "#Hyper parameter tuning for KNN Algorithm\n",
    "params = [{\"n_neighbors\":[1,2,3,4,5]}]\n",
    "knnclassifier = KNeighborsClassifier()\n",
    "RF_grid = GridSearchCV(estimator = knnclassifier, param_grid = params, cv = 5, scoring = \"recall\")\n",
    "RF_grid.fit(x_train,y_train)\n",
    "RF_grid.best_params_"
   ]
  },
  {
   "cell_type": "code",
   "execution_count": 20,
   "id": "6472ec9f",
   "metadata": {},
   "outputs": [
    {
     "name": "stdout",
     "output_type": "stream",
     "text": [
      "0.9416535845107273\n",
      "[[1770  182]\n",
      " [  41 1829]]\n"
     ]
    }
   ],
   "source": [
    "#XGBoost\n",
    "XGB = XGBClassifier(learning_rate = 0.01, gamma = 2, use_label_encoder = False, eval_metric = \"logloss\", n_estimators = 200, max_depth = 6)\n",
    "XGB.fit(x_train, y_train)\n",
    "y_pred=dt_model.predict(x_test)\n",
    "print(accuracy_score(y_test,y_pred))\n",
    "print(confusion_matrix(y_test,y_pred))\n",
    "#print(classification_report(ytest, XGB.predict(xtest)))"
   ]
  },
  {
   "cell_type": "code",
   "execution_count": 21,
   "id": "55e5e609",
   "metadata": {},
   "outputs": [
    {
     "name": "stdout",
     "output_type": "stream",
     "text": [
      "0.9811616954474097\n",
      "[[1897   55]\n",
      " [  17 1853]]\n"
     ]
    }
   ],
   "source": [
    "#Stacking classifier\n",
    "base_learners = [('Decision Tree', DecisionTreeClassifier()),\n",
    "                 ('Random Forest', RandomForestClassifier())]\n",
    "\n",
    "stack_model_gdBoost = StackingClassifier(estimators = base_learners, final_estimator = GradientBoostingClassifier(random_state = 8))\n",
    "stack_model_gdBoost.fit(x_train, y_train)\n",
    "y_pred = stack_model_gdBoost.predict(x_test)\n",
    "print(accuracy_score(y_test,y_pred))\n",
    "print(confusion_matrix(y_test,y_pred))"
   ]
  },
  {
   "cell_type": "code",
   "execution_count": 35,
   "id": "67670aca",
   "metadata": {},
   "outputs": [
    {
     "name": "stdout",
     "output_type": "stream",
     "text": [
      "0.9774986917844061\n",
      "[[1883   69]\n",
      " [  17 1853]]\n"
     ]
    }
   ],
   "source": [
    "base_learners = [('KNN', KNeighborsClassifier()),\n",
    "                 ('KNN1', KNeighborsClassifier())]\n",
    "\n",
    "stack_model_gdBoost = StackingClassifier(estimators = base_learners, final_estimator = KNeighborsClassifier())\n",
    "stack_model_gdBoost.fit(x_train, y_train)\n",
    "y_pred = stack_model_gdBoost.predict(x_test)\n",
    "print(accuracy_score(y_test,y_pred))\n",
    "print(confusion_matrix(y_test,y_pred))"
   ]
  }
 ],
 "metadata": {
  "kernelspec": {
   "display_name": "Python 3",
   "language": "python",
   "name": "python3"
  },
  "language_info": {
   "codemirror_mode": {
    "name": "ipython",
    "version": 3
   },
   "file_extension": ".py",
   "mimetype": "text/x-python",
   "name": "python",
   "nbconvert_exporter": "python",
   "pygments_lexer": "ipython3",
   "version": "3.8.8"
  }
 },
 "nbformat": 4,
 "nbformat_minor": 5
}
