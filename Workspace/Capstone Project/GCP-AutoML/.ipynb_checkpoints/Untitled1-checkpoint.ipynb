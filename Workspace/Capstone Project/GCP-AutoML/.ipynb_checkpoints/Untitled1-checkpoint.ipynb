{
 "cells": [
  {
   "cell_type": "code",
   "execution_count": 13,
   "id": "9d1eb852",
   "metadata": {},
   "outputs": [
    {
     "ename": "SyntaxError",
     "evalue": "invalid syntax (<ipython-input-13-dd52e89d89cf>, line 12)",
     "output_type": "error",
     "traceback": [
      "\u001b[1;36m  File \u001b[1;32m\"<ipython-input-13-dd52e89d89cf>\"\u001b[1;36m, line \u001b[1;32m12\u001b[0m\n\u001b[1;33m    endpoint_id=\"1822867133550297088\"\u001b[0m\n\u001b[1;37m    ^\u001b[0m\n\u001b[1;31mSyntaxError\u001b[0m\u001b[1;31m:\u001b[0m invalid syntax\n"
     ]
    }
   ],
   "source": [
    "from typing import Dict\n",
    "\n",
    "from google.cloud import aiplatform\n",
    "from google.protobuf import json_format\n",
    "from google.protobuf.struct_pb2 import Value\n",
    "\n",
    "\n",
    "def predict_tabular_classification_sample(\n",
    "    \n",
    "    \n",
    "    project=\"1023054429972\"\n",
    "    endpoint_id=\"1822867133550297088\"\n",
    "    location=\"asia-south1\"\n",
    "    instance_dict={\"N\":90 ,\"P\":42, \"K\":43, \"temperature\":21, \"humidity\":82 ,\"ph\":6.5, \"rainfall\":203}\n",
    "    api_endpoint: str = \"lyrical-chassis-339002\"# \"us-central1-aiplatform.googleapis.com\",\n",
    "):\n",
    "    # The AI Platform services require regional API endpoints.\n",
    "    client_options = {\"api_endpoint\": api_endpoint}\n",
    "    # Initialize client that will be used to create and send requests.\n",
    "    # This client only needs to be created once, and can be reused for multiple requests.\n",
    "    client = aiplatform.gapic.PredictionServiceClient(client_options=client_options)\n",
    "    # for more info on the instance schema, please use get_model_sample.py\n",
    "    # and look at the yaml found in instance_schema_uri\n",
    "    instance = json_format.ParseDict(instance_dict, Value())\n",
    "    instances = [instance]\n",
    "    parameters_dict = {}\n",
    "    parameters = json_format.ParseDict(parameters_dict, Value())\n",
    "    endpoint = client.endpoint_path(\n",
    "        project=project, location=location, endpoint=endpoint_id\n",
    "    )\n",
    "    response = client.predict(\n",
    "        endpoint=endpoint, instances=instances, parameters=parameters\n",
    "    )\n",
    "    print(\"response\")\n",
    "    print(\" deployed_model_id:\", response.deployed_model_id)\n",
    "    # See gs://google-cloud-aiplatform/schema/predict/prediction/tabular_classification_1.0.0.yaml for the format of the predictions.\n",
    "    predictions = response.predictions\n",
    "    for prediction in predictions:\n",
    "        print(\" prediction:\", dict(prediction))\n",
    "\n",
    "\n",
    "# [END aiplatform_predict_tabular_classification_sample]"
   ]
  },
  {
   "cell_type": "code",
   "execution_count": 9,
   "id": "88a09b3d",
   "metadata": {},
   "outputs": [
    {
     "ename": "TypeError",
     "evalue": "predict_tabular_classification_sample() got an unexpected keyword argument 'instances'",
     "output_type": "error",
     "traceback": [
      "\u001b[1;31m---------------------------------------------------------------------------\u001b[0m",
      "\u001b[1;31mTypeError\u001b[0m                                 Traceback (most recent call last)",
      "\u001b[1;32m<ipython-input-9-57940c3baa05>\u001b[0m in \u001b[0;36m<module>\u001b[1;34m\u001b[0m\n\u001b[1;32m----> 1\u001b[1;33m predict_tabular_classification_sample(\n\u001b[0m\u001b[0;32m      2\u001b[0m     \u001b[1;31m#project=\"1023054429972\",\u001b[0m\u001b[1;33m\u001b[0m\u001b[1;33m\u001b[0m\u001b[1;33m\u001b[0m\u001b[0m\n\u001b[0;32m      3\u001b[0m     \u001b[1;31m#endpoint_id=\"1822867133550297088\",\u001b[0m\u001b[1;33m\u001b[0m\u001b[1;33m\u001b[0m\u001b[1;33m\u001b[0m\u001b[0m\n\u001b[0;32m      4\u001b[0m     \u001b[1;31m#location=\"asia-south1\",\u001b[0m\u001b[1;33m\u001b[0m\u001b[1;33m\u001b[0m\u001b[1;33m\u001b[0m\u001b[0m\n\u001b[0;32m      5\u001b[0m     \u001b[0minstances\u001b[0m\u001b[1;33m=\u001b[0m\u001b[1;33m{\u001b[0m\u001b[1;34m\"N\"\u001b[0m\u001b[1;33m:\u001b[0m\u001b[1;36m90\u001b[0m \u001b[1;33m,\u001b[0m\u001b[1;34m\"P\"\u001b[0m\u001b[1;33m:\u001b[0m\u001b[1;36m42\u001b[0m\u001b[1;33m,\u001b[0m \u001b[1;34m\"K\"\u001b[0m\u001b[1;33m:\u001b[0m\u001b[1;36m43\u001b[0m\u001b[1;33m,\u001b[0m \u001b[1;34m\"temperature\"\u001b[0m\u001b[1;33m:\u001b[0m\u001b[1;36m21\u001b[0m\u001b[1;33m,\u001b[0m \u001b[1;34m\"humidity\"\u001b[0m\u001b[1;33m:\u001b[0m\u001b[1;36m82\u001b[0m \u001b[1;33m,\u001b[0m\u001b[1;34m\"ph\"\u001b[0m\u001b[1;33m:\u001b[0m\u001b[1;36m6.5\u001b[0m\u001b[1;33m,\u001b[0m \u001b[1;34m\"rainfall\"\u001b[0m\u001b[1;33m:\u001b[0m\u001b[1;36m203\u001b[0m\u001b[1;33m}\u001b[0m\u001b[1;33m\u001b[0m\u001b[1;33m\u001b[0m\u001b[0m\n",
      "\u001b[1;31mTypeError\u001b[0m: predict_tabular_classification_sample() got an unexpected keyword argument 'instances'"
     ]
    }
   ],
   "source": [
    "predict_tabular_classification_sample(\n",
    "    #project=\"1023054429972\",\n",
    "    #endpoint_id=\"1822867133550297088\",\n",
    "    #location=\"asia-south1\",\n",
    "    instances={\"N\":90 ,\"P\":42, \"K\":43, \"temperature\":21, \"humidity\":82 ,\"ph\":6.5, \"rainfall\":203}\n",
    ")"
   ]
  },
  {
   "cell_type": "code",
   "execution_count": 6,
   "id": "7771bddf",
   "metadata": {},
   "outputs": [
    {
     "ename": "TypeError",
     "evalue": "predict_tabular_classification_sample() got an unexpected keyword argument 'instances'",
     "output_type": "error",
     "traceback": [
      "\u001b[1;31m---------------------------------------------------------------------------\u001b[0m",
      "\u001b[1;31mTypeError\u001b[0m                                 Traceback (most recent call last)",
      "\u001b[1;32m<ipython-input-6-01a6bd7af4c6>\u001b[0m in \u001b[0;36m<module>\u001b[1;34m\u001b[0m\n\u001b[1;32m----> 1\u001b[1;33m predict_tabular_classification_sample(\n\u001b[0m\u001b[0;32m      2\u001b[0m     \u001b[0mproject\u001b[0m\u001b[1;33m=\u001b[0m\u001b[1;34m\"1023054429972\"\u001b[0m\u001b[1;33m,\u001b[0m\u001b[1;33m\u001b[0m\u001b[1;33m\u001b[0m\u001b[0m\n\u001b[0;32m      3\u001b[0m     \u001b[0mendpoint_id\u001b[0m\u001b[1;33m=\u001b[0m\u001b[1;34m\"1822867133550297088\"\u001b[0m\u001b[1;33m,\u001b[0m\u001b[1;33m\u001b[0m\u001b[1;33m\u001b[0m\u001b[0m\n\u001b[0;32m      4\u001b[0m     \u001b[0mlocation\u001b[0m\u001b[1;33m=\u001b[0m\u001b[1;34m\"asia-south1\"\u001b[0m\u001b[1;33m,\u001b[0m\u001b[1;33m\u001b[0m\u001b[1;33m\u001b[0m\u001b[0m\n\u001b[0;32m      5\u001b[0m     \u001b[0minstances\u001b[0m\u001b[1;33m=\u001b[0m\u001b[1;33m[\u001b[0m\u001b[1;33m{\u001b[0m \u001b[1;34m\"feature_column_a\"\u001b[0m\u001b[1;33m:\u001b[0m \u001b[1;34m\"value\"\u001b[0m\u001b[1;33m,\u001b[0m \u001b[1;34m\"feature_column_b\"\u001b[0m\u001b[1;33m:\u001b[0m \u001b[1;34m\"value\"\u001b[0m \u001b[1;33m}\u001b[0m\u001b[1;33m,\u001b[0m \u001b[1;33m{\u001b[0m\u001b[1;33m...\u001b[0m\u001b[1;33m}\u001b[0m\u001b[1;33m]\u001b[0m\u001b[1;33m\u001b[0m\u001b[1;33m\u001b[0m\u001b[0m\n",
      "\u001b[1;31mTypeError\u001b[0m: predict_tabular_classification_sample() got an unexpected keyword argument 'instances'"
     ]
    }
   ],
   "source": [
    "predict_tabular_classification_sample(\n",
    "    project=\"1023054429972\",\n",
    "    endpoint_id=\"1822867133550297088\",\n",
    "    location=\"asia-south1\",\n",
    "    instances=[{ \"feature_column_a\": \"value\", \"feature_column_b\": \"value\" }, {...}]\n",
    ")"
   ]
  },
  {
   "cell_type": "code",
   "execution_count": null,
   "id": "9b68e91a",
   "metadata": {},
   "outputs": [],
   "source": [
    "\"N\":90 \"P\":42 \"K\":43 \"temperature\":21 \"humidity\":82 \"ph\":6.5 \"rainfall\":203\n"
   ]
  }
 ],
 "metadata": {
  "kernelspec": {
   "display_name": "Python 3",
   "language": "python",
   "name": "python3"
  },
  "language_info": {
   "codemirror_mode": {
    "name": "ipython",
    "version": 3
   },
   "file_extension": ".py",
   "mimetype": "text/x-python",
   "name": "python",
   "nbconvert_exporter": "python",
   "pygments_lexer": "ipython3",
   "version": "3.8.8"
  }
 },
 "nbformat": 4,
 "nbformat_minor": 5
}
