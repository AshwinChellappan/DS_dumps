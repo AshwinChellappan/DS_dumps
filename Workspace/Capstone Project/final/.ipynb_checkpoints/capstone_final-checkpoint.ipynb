{
 "cells": [
  {
   "cell_type": "code",
   "execution_count": 7,
   "metadata": {},
   "outputs": [],
   "source": [
    "import pandas as pd\n",
    "import numpy as np\n",
    "import matplotlib.pyplot as plt\n",
    "import seaborn as sns"
   ]
  },
  {
   "cell_type": "code",
   "execution_count": 8,
   "metadata": {},
   "outputs": [],
   "source": [
    "from sklearn.neighbors import KNeighborsClassifier\n",
    "from sklearn.ensemble import RandomForestClassifier, StackingClassifier\n",
    "from sklearn.tree import DecisionTreeClassifier\n",
    "from sklearn.linear_model import LogisticRegression\n",
    "from sklearn.naive_bayes import GaussianNB\n",
    "from sklearn.metrics import accuracy_score, confusion_matrix, classification_report, roc_curve, roc_auc_score\n",
    "from sklearn.model_selection import train_test_split, cross_val_score\n",
    "from sklearn.preprocessing import MinMaxScaler"
   ]
  },
  {
   "cell_type": "code",
   "execution_count": 4,
   "metadata": {},
   "outputs": [],
   "source": [
    "import scipy.stats as stats"
   ]
  },
  {
   "cell_type": "code",
   "execution_count": 42,
   "metadata": {},
   "outputs": [
    {
     "data": {
      "text/html": [
       "<div>\n",
       "<style scoped>\n",
       "    .dataframe tbody tr th:only-of-type {\n",
       "        vertical-align: middle;\n",
       "    }\n",
       "\n",
       "    .dataframe tbody tr th {\n",
       "        vertical-align: top;\n",
       "    }\n",
       "\n",
       "    .dataframe thead th {\n",
       "        text-align: right;\n",
       "    }\n",
       "</style>\n",
       "<table border=\"1\" class=\"dataframe\">\n",
       "  <thead>\n",
       "    <tr style=\"text-align: right;\">\n",
       "      <th></th>\n",
       "      <th>Operating Profit Rate</th>\n",
       "      <th>Non-industry income and expenditure/revenue</th>\n",
       "      <th>Realized Sales Gross Profit Growth Rate</th>\n",
       "      <th>Operating Profit Growth Rate</th>\n",
       "      <th>Continuous Net Profit Growth Rate</th>\n",
       "      <th>Total Asset Growth Rate</th>\n",
       "      <th>Total Asset Return Growth Rate Ratio</th>\n",
       "      <th>Long-term fund suitability ratio (A)</th>\n",
       "      <th>Inventory and accounts receivable/Net value</th>\n",
       "      <th>Operating profit per person</th>\n",
       "      <th>...</th>\n",
       "      <th>Turnover</th>\n",
       "      <th>ROA+Net Income to Equity_2</th>\n",
       "      <th>ROA+Net Income to Equity_1</th>\n",
       "      <th>ROA+Net Income to Equity_3</th>\n",
       "      <th>CF_2</th>\n",
       "      <th>Interest_1</th>\n",
       "      <th>CF_3</th>\n",
       "      <th>CF_1</th>\n",
       "      <th>CD_LA_WC_1</th>\n",
       "      <th>Bankrupt?</th>\n",
       "    </tr>\n",
       "  </thead>\n",
       "  <tbody>\n",
       "    <tr>\n",
       "      <th>0</th>\n",
       "      <td>0.697207</td>\n",
       "      <td>0.491858</td>\n",
       "      <td>0.521267</td>\n",
       "      <td>0.496663</td>\n",
       "      <td>0.525500</td>\n",
       "      <td>6.291197e-01</td>\n",
       "      <td>0.445770</td>\n",
       "      <td>0.133842</td>\n",
       "      <td>0.172472</td>\n",
       "      <td>0.376062</td>\n",
       "      <td>...</td>\n",
       "      <td>0.279639</td>\n",
       "      <td>0.324330</td>\n",
       "      <td>0.311478</td>\n",
       "      <td>0.369572</td>\n",
       "      <td>0.489320</td>\n",
       "      <td>0.457709</td>\n",
       "      <td>0.512379</td>\n",
       "      <td>0.529165</td>\n",
       "      <td>0.527044</td>\n",
       "      <td>0.0</td>\n",
       "    </tr>\n",
       "    <tr>\n",
       "      <th>1</th>\n",
       "      <td>0.768030</td>\n",
       "      <td>0.505162</td>\n",
       "      <td>0.498777</td>\n",
       "      <td>0.485051</td>\n",
       "      <td>0.516281</td>\n",
       "      <td>8.020515e-01</td>\n",
       "      <td>0.305309</td>\n",
       "      <td>0.033159</td>\n",
       "      <td>0.071665</td>\n",
       "      <td>0.399119</td>\n",
       "      <td>...</td>\n",
       "      <td>0.198777</td>\n",
       "      <td>0.323960</td>\n",
       "      <td>0.389586</td>\n",
       "      <td>0.343355</td>\n",
       "      <td>0.501172</td>\n",
       "      <td>0.465250</td>\n",
       "      <td>0.510251</td>\n",
       "      <td>0.587894</td>\n",
       "      <td>0.480429</td>\n",
       "      <td>0.0</td>\n",
       "    </tr>\n",
       "    <tr>\n",
       "      <th>2</th>\n",
       "      <td>0.747505</td>\n",
       "      <td>0.489625</td>\n",
       "      <td>0.490905</td>\n",
       "      <td>0.466431</td>\n",
       "      <td>0.493142</td>\n",
       "      <td>7.656189e-01</td>\n",
       "      <td>0.282196</td>\n",
       "      <td>0.051546</td>\n",
       "      <td>0.216785</td>\n",
       "      <td>0.405103</td>\n",
       "      <td>...</td>\n",
       "      <td>0.263004</td>\n",
       "      <td>0.338339</td>\n",
       "      <td>0.386704</td>\n",
       "      <td>0.371231</td>\n",
       "      <td>0.480130</td>\n",
       "      <td>0.512586</td>\n",
       "      <td>0.511161</td>\n",
       "      <td>0.502603</td>\n",
       "      <td>0.477365</td>\n",
       "      <td>0.0</td>\n",
       "    </tr>\n",
       "    <tr>\n",
       "      <th>3</th>\n",
       "      <td>0.783856</td>\n",
       "      <td>0.497393</td>\n",
       "      <td>0.522208</td>\n",
       "      <td>0.552881</td>\n",
       "      <td>0.610750</td>\n",
       "      <td>4.754758e-08</td>\n",
       "      <td>0.408482</td>\n",
       "      <td>0.172246</td>\n",
       "      <td>0.139720</td>\n",
       "      <td>0.425497</td>\n",
       "      <td>...</td>\n",
       "      <td>0.298598</td>\n",
       "      <td>0.335413</td>\n",
       "      <td>0.420506</td>\n",
       "      <td>0.338423</td>\n",
       "      <td>0.510306</td>\n",
       "      <td>0.468014</td>\n",
       "      <td>0.414712</td>\n",
       "      <td>0.550379</td>\n",
       "      <td>0.402824</td>\n",
       "      <td>0.0</td>\n",
       "    </tr>\n",
       "    <tr>\n",
       "      <th>4</th>\n",
       "      <td>0.837501</td>\n",
       "      <td>0.665830</td>\n",
       "      <td>0.491506</td>\n",
       "      <td>0.478024</td>\n",
       "      <td>0.519969</td>\n",
       "      <td>7.798823e-01</td>\n",
       "      <td>0.343853</td>\n",
       "      <td>0.191380</td>\n",
       "      <td>0.057315</td>\n",
       "      <td>0.536007</td>\n",
       "      <td>...</td>\n",
       "      <td>0.100155</td>\n",
       "      <td>0.231429</td>\n",
       "      <td>0.654220</td>\n",
       "      <td>0.234550</td>\n",
       "      <td>0.524742</td>\n",
       "      <td>0.461734</td>\n",
       "      <td>0.549473</td>\n",
       "      <td>0.446409</td>\n",
       "      <td>0.400803</td>\n",
       "      <td>0.0</td>\n",
       "    </tr>\n",
       "  </tbody>\n",
       "</table>\n",
       "<p>5 rows × 30 columns</p>\n",
       "</div>"
      ],
      "text/plain": [
       "    Operating Profit Rate   Non-industry income and expenditure/revenue  \\\n",
       "0                0.697207                                      0.491858   \n",
       "1                0.768030                                      0.505162   \n",
       "2                0.747505                                      0.489625   \n",
       "3                0.783856                                      0.497393   \n",
       "4                0.837501                                      0.665830   \n",
       "\n",
       "    Realized Sales Gross Profit Growth Rate   Operating Profit Growth Rate  \\\n",
       "0                                  0.521267                       0.496663   \n",
       "1                                  0.498777                       0.485051   \n",
       "2                                  0.490905                       0.466431   \n",
       "3                                  0.522208                       0.552881   \n",
       "4                                  0.491506                       0.478024   \n",
       "\n",
       "    Continuous Net Profit Growth Rate   Total Asset Growth Rate  \\\n",
       "0                            0.525500              6.291197e-01   \n",
       "1                            0.516281              8.020515e-01   \n",
       "2                            0.493142              7.656189e-01   \n",
       "3                            0.610750              4.754758e-08   \n",
       "4                            0.519969              7.798823e-01   \n",
       "\n",
       "    Total Asset Return Growth Rate Ratio  \\\n",
       "0                               0.445770   \n",
       "1                               0.305309   \n",
       "2                               0.282196   \n",
       "3                               0.408482   \n",
       "4                               0.343853   \n",
       "\n",
       "    Long-term fund suitability ratio (A)  \\\n",
       "0                               0.133842   \n",
       "1                               0.033159   \n",
       "2                               0.051546   \n",
       "3                               0.172246   \n",
       "4                               0.191380   \n",
       "\n",
       "    Inventory and accounts receivable/Net value   Operating profit per person  \\\n",
       "0                                      0.172472                      0.376062   \n",
       "1                                      0.071665                      0.399119   \n",
       "2                                      0.216785                      0.405103   \n",
       "3                                      0.139720                      0.425497   \n",
       "4                                      0.057315                      0.536007   \n",
       "\n",
       "   ...  Turnover  ROA+Net Income to Equity_2  ROA+Net Income to Equity_1  \\\n",
       "0  ...  0.279639                    0.324330                    0.311478   \n",
       "1  ...  0.198777                    0.323960                    0.389586   \n",
       "2  ...  0.263004                    0.338339                    0.386704   \n",
       "3  ...  0.298598                    0.335413                    0.420506   \n",
       "4  ...  0.100155                    0.231429                    0.654220   \n",
       "\n",
       "   ROA+Net Income to Equity_3      CF_2  Interest_1      CF_3      CF_1  \\\n",
       "0                    0.369572  0.489320    0.457709  0.512379  0.529165   \n",
       "1                    0.343355  0.501172    0.465250  0.510251  0.587894   \n",
       "2                    0.371231  0.480130    0.512586  0.511161  0.502603   \n",
       "3                    0.338423  0.510306    0.468014  0.414712  0.550379   \n",
       "4                    0.234550  0.524742    0.461734  0.549473  0.446409   \n",
       "\n",
       "   CD_LA_WC_1  Bankrupt?  \n",
       "0    0.527044        0.0  \n",
       "1    0.480429        0.0  \n",
       "2    0.477365        0.0  \n",
       "3    0.402824        0.0  \n",
       "4    0.400803        0.0  \n",
       "\n",
       "[5 rows x 30 columns]"
      ]
     },
     "execution_count": 42,
     "metadata": {},
     "output_type": "execute_result"
    }
   ],
   "source": [
    "data = pd.read_csv(\"Data_final.csv\")\n",
    "data_old = pd.read_csv(\"Data_4.csv\")\n",
    "data.drop(\"Unnamed: 0\", axis = 1, inplace = True)\n",
    "data.head()"
   ]
  },
  {
   "cell_type": "code",
   "execution_count": 44,
   "metadata": {},
   "outputs": [],
   "source": [
    "X_old = data_old.drop(\"Bankrupt?\", axis = 1)\n",
    "Y_old = data_old[\"Bankrupt?\"]"
   ]
  },
  {
   "cell_type": "code",
   "execution_count": 51,
   "metadata": {},
   "outputs": [
    {
     "data": {
      "text/html": [
       "<div>\n",
       "<style scoped>\n",
       "    .dataframe tbody tr th:only-of-type {\n",
       "        vertical-align: middle;\n",
       "    }\n",
       "\n",
       "    .dataframe tbody tr th {\n",
       "        vertical-align: top;\n",
       "    }\n",
       "\n",
       "    .dataframe thead th {\n",
       "        text-align: right;\n",
       "    }\n",
       "</style>\n",
       "<table border=\"1\" class=\"dataframe\">\n",
       "  <thead>\n",
       "    <tr style=\"text-align: right;\">\n",
       "      <th></th>\n",
       "      <th>ROA(A) before interest and % after tax</th>\n",
       "      <th>Operating Profit Rate</th>\n",
       "      <th>Non-industry income and expenditure/revenue</th>\n",
       "      <th>Continuous interest rate (after tax)</th>\n",
       "      <th>Cash flow rate</th>\n",
       "      <th>Net Value Per Share (A)</th>\n",
       "      <th>Cash Flow Per Share</th>\n",
       "      <th>Realized Sales Gross Profit Growth Rate</th>\n",
       "      <th>Operating Profit Growth Rate</th>\n",
       "      <th>Continuous Net Profit Growth Rate</th>\n",
       "      <th>...</th>\n",
       "      <th>CFO to Assets</th>\n",
       "      <th>Cash Flow to Equity</th>\n",
       "      <th>No-credit Interval</th>\n",
       "      <th>Gross Profit to Sales</th>\n",
       "      <th>Net Income to Stockholder's Equity</th>\n",
       "      <th>Degree of Financial Leverage (DFL)</th>\n",
       "      <th>Interest Coverage Ratio (Interest expense to EBIT)</th>\n",
       "      <th>Debt ratio %</th>\n",
       "      <th>Regular Net Profit Growth Rate</th>\n",
       "      <th>Current Liability to Current Assets</th>\n",
       "    </tr>\n",
       "  </thead>\n",
       "  <tbody>\n",
       "    <tr>\n",
       "      <th>0</th>\n",
       "      <td>0.598965</td>\n",
       "      <td>0.697207</td>\n",
       "      <td>0.491858</td>\n",
       "      <td>0.611586</td>\n",
       "      <td>0.485865</td>\n",
       "      <td>0.305667</td>\n",
       "      <td>0.498737</td>\n",
       "      <td>0.521267</td>\n",
       "      <td>0.496663</td>\n",
       "      <td>0.525500</td>\n",
       "      <td>...</td>\n",
       "      <td>0.474347</td>\n",
       "      <td>0.434959</td>\n",
       "      <td>0.479548</td>\n",
       "      <td>0.492426</td>\n",
       "      <td>0.573330</td>\n",
       "      <td>0.493312</td>\n",
       "      <td>0.454652</td>\n",
       "      <td>0.425139</td>\n",
       "      <td>0.516753</td>\n",
       "      <td>0.346834</td>\n",
       "    </tr>\n",
       "    <tr>\n",
       "      <th>1</th>\n",
       "      <td>0.679915</td>\n",
       "      <td>0.768030</td>\n",
       "      <td>0.505162</td>\n",
       "      <td>0.664033</td>\n",
       "      <td>0.461128</td>\n",
       "      <td>0.329167</td>\n",
       "      <td>0.465345</td>\n",
       "      <td>0.498777</td>\n",
       "      <td>0.485051</td>\n",
       "      <td>0.516281</td>\n",
       "      <td>...</td>\n",
       "      <td>0.413045</td>\n",
       "      <td>0.459768</td>\n",
       "      <td>0.480611</td>\n",
       "      <td>0.915448</td>\n",
       "      <td>0.651869</td>\n",
       "      <td>0.499030</td>\n",
       "      <td>0.462163</td>\n",
       "      <td>0.355136</td>\n",
       "      <td>0.494327</td>\n",
       "      <td>0.312571</td>\n",
       "    </tr>\n",
       "    <tr>\n",
       "      <th>2</th>\n",
       "      <td>0.664909</td>\n",
       "      <td>0.747505</td>\n",
       "      <td>0.489625</td>\n",
       "      <td>0.645232</td>\n",
       "      <td>0.506702</td>\n",
       "      <td>0.346652</td>\n",
       "      <td>0.521242</td>\n",
       "      <td>0.490905</td>\n",
       "      <td>0.466431</td>\n",
       "      <td>0.493142</td>\n",
       "      <td>...</td>\n",
       "      <td>0.508756</td>\n",
       "      <td>0.423828</td>\n",
       "      <td>0.477706</td>\n",
       "      <td>0.565842</td>\n",
       "      <td>0.643278</td>\n",
       "      <td>0.545533</td>\n",
       "      <td>0.505568</td>\n",
       "      <td>0.521575</td>\n",
       "      <td>0.483435</td>\n",
       "      <td>0.246388</td>\n",
       "    </tr>\n",
       "    <tr>\n",
       "      <th>3</th>\n",
       "      <td>0.719591</td>\n",
       "      <td>0.783856</td>\n",
       "      <td>0.497393</td>\n",
       "      <td>0.668968</td>\n",
       "      <td>0.476250</td>\n",
       "      <td>0.344763</td>\n",
       "      <td>0.471331</td>\n",
       "      <td>0.522208</td>\n",
       "      <td>0.552881</td>\n",
       "      <td>0.610750</td>\n",
       "      <td>...</td>\n",
       "      <td>0.458496</td>\n",
       "      <td>0.592841</td>\n",
       "      <td>0.487689</td>\n",
       "      <td>0.633542</td>\n",
       "      <td>0.663265</td>\n",
       "      <td>0.501055</td>\n",
       "      <td>0.464672</td>\n",
       "      <td>0.339507</td>\n",
       "      <td>0.587235</td>\n",
       "      <td>0.218086</td>\n",
       "    </tr>\n",
       "    <tr>\n",
       "      <th>4</th>\n",
       "      <td>0.737356</td>\n",
       "      <td>0.837501</td>\n",
       "      <td>0.665830</td>\n",
       "      <td>0.806733</td>\n",
       "      <td>0.579718</td>\n",
       "      <td>0.450859</td>\n",
       "      <td>0.540960</td>\n",
       "      <td>0.491506</td>\n",
       "      <td>0.478024</td>\n",
       "      <td>0.519969</td>\n",
       "      <td>...</td>\n",
       "      <td>0.546054</td>\n",
       "      <td>0.456042</td>\n",
       "      <td>0.497351</td>\n",
       "      <td>0.611982</td>\n",
       "      <td>0.683781</td>\n",
       "      <td>0.496463</td>\n",
       "      <td>0.458871</td>\n",
       "      <td>0.164536</td>\n",
       "      <td>0.511358</td>\n",
       "      <td>0.263684</td>\n",
       "    </tr>\n",
       "    <tr>\n",
       "      <th>...</th>\n",
       "      <td>...</td>\n",
       "      <td>...</td>\n",
       "      <td>...</td>\n",
       "      <td>...</td>\n",
       "      <td>...</td>\n",
       "      <td>...</td>\n",
       "      <td>...</td>\n",
       "      <td>...</td>\n",
       "      <td>...</td>\n",
       "      <td>...</td>\n",
       "      <td>...</td>\n",
       "      <td>...</td>\n",
       "      <td>...</td>\n",
       "      <td>...</td>\n",
       "      <td>...</td>\n",
       "      <td>...</td>\n",
       "      <td>...</td>\n",
       "      <td>...</td>\n",
       "      <td>...</td>\n",
       "      <td>...</td>\n",
       "      <td>...</td>\n",
       "    </tr>\n",
       "    <tr>\n",
       "      <th>3259</th>\n",
       "      <td>0.633276</td>\n",
       "      <td>0.711950</td>\n",
       "      <td>0.477534</td>\n",
       "      <td>0.607485</td>\n",
       "      <td>0.500958</td>\n",
       "      <td>0.350193</td>\n",
       "      <td>0.516511</td>\n",
       "      <td>0.665955</td>\n",
       "      <td>0.475937</td>\n",
       "      <td>0.472561</td>\n",
       "      <td>...</td>\n",
       "      <td>0.510654</td>\n",
       "      <td>0.467005</td>\n",
       "      <td>0.493879</td>\n",
       "      <td>0.470891</td>\n",
       "      <td>0.608157</td>\n",
       "      <td>0.434393</td>\n",
       "      <td>0.278728</td>\n",
       "      <td>0.438072</td>\n",
       "      <td>0.454765</td>\n",
       "      <td>0.500931</td>\n",
       "    </tr>\n",
       "    <tr>\n",
       "      <th>3260</th>\n",
       "      <td>0.574691</td>\n",
       "      <td>0.656121</td>\n",
       "      <td>0.453880</td>\n",
       "      <td>0.531999</td>\n",
       "      <td>0.510907</td>\n",
       "      <td>0.291617</td>\n",
       "      <td>0.532090</td>\n",
       "      <td>0.490844</td>\n",
       "      <td>0.481305</td>\n",
       "      <td>0.507507</td>\n",
       "      <td>...</td>\n",
       "      <td>0.537156</td>\n",
       "      <td>0.479752</td>\n",
       "      <td>0.489837</td>\n",
       "      <td>0.380516</td>\n",
       "      <td>0.504759</td>\n",
       "      <td>0.473192</td>\n",
       "      <td>0.421800</td>\n",
       "      <td>0.547772</td>\n",
       "      <td>0.497854</td>\n",
       "      <td>0.589866</td>\n",
       "    </tr>\n",
       "    <tr>\n",
       "      <th>3261</th>\n",
       "      <td>0.632072</td>\n",
       "      <td>0.726259</td>\n",
       "      <td>0.477073</td>\n",
       "      <td>0.619753</td>\n",
       "      <td>0.502071</td>\n",
       "      <td>0.290443</td>\n",
       "      <td>0.524836</td>\n",
       "      <td>0.488985</td>\n",
       "      <td>0.456515</td>\n",
       "      <td>0.512242</td>\n",
       "      <td>...</td>\n",
       "      <td>0.536623</td>\n",
       "      <td>0.506622</td>\n",
       "      <td>0.339487</td>\n",
       "      <td>0.482921</td>\n",
       "      <td>0.590223</td>\n",
       "      <td>0.497955</td>\n",
       "      <td>0.323117</td>\n",
       "      <td>0.522573</td>\n",
       "      <td>0.504022</td>\n",
       "      <td>0.400345</td>\n",
       "    </tr>\n",
       "    <tr>\n",
       "      <th>3262</th>\n",
       "      <td>0.689461</td>\n",
       "      <td>0.766512</td>\n",
       "      <td>0.483677</td>\n",
       "      <td>0.664969</td>\n",
       "      <td>0.468747</td>\n",
       "      <td>0.380633</td>\n",
       "      <td>0.444939</td>\n",
       "      <td>0.501232</td>\n",
       "      <td>0.474967</td>\n",
       "      <td>0.516834</td>\n",
       "      <td>...</td>\n",
       "      <td>0.426030</td>\n",
       "      <td>0.524893</td>\n",
       "      <td>0.596905</td>\n",
       "      <td>0.542210</td>\n",
       "      <td>0.663308</td>\n",
       "      <td>0.562074</td>\n",
       "      <td>0.515239</td>\n",
       "      <td>0.549237</td>\n",
       "      <td>0.510314</td>\n",
       "      <td>0.328785</td>\n",
       "    </tr>\n",
       "    <tr>\n",
       "      <th>3263</th>\n",
       "      <td>0.633880</td>\n",
       "      <td>0.715346</td>\n",
       "      <td>0.506376</td>\n",
       "      <td>0.613203</td>\n",
       "      <td>0.507214</td>\n",
       "      <td>0.329698</td>\n",
       "      <td>0.548277</td>\n",
       "      <td>0.451836</td>\n",
       "      <td>0.475638</td>\n",
       "      <td>0.671817</td>\n",
       "      <td>...</td>\n",
       "      <td>0.542071</td>\n",
       "      <td>0.476373</td>\n",
       "      <td>0.449799</td>\n",
       "      <td>0.512131</td>\n",
       "      <td>0.565200</td>\n",
       "      <td>0.506831</td>\n",
       "      <td>0.468674</td>\n",
       "      <td>0.562897</td>\n",
       "      <td>0.809516</td>\n",
       "      <td>0.462901</td>\n",
       "    </tr>\n",
       "  </tbody>\n",
       "</table>\n",
       "<p>3264 rows × 45 columns</p>\n",
       "</div>"
      ],
      "text/plain": [
       "       ROA(A) before interest and % after tax   Operating Profit Rate  \\\n",
       "0                                    0.598965                0.697207   \n",
       "1                                    0.679915                0.768030   \n",
       "2                                    0.664909                0.747505   \n",
       "3                                    0.719591                0.783856   \n",
       "4                                    0.737356                0.837501   \n",
       "...                                       ...                     ...   \n",
       "3259                                 0.633276                0.711950   \n",
       "3260                                 0.574691                0.656121   \n",
       "3261                                 0.632072                0.726259   \n",
       "3262                                 0.689461                0.766512   \n",
       "3263                                 0.633880                0.715346   \n",
       "\n",
       "       Non-industry income and expenditure/revenue  \\\n",
       "0                                         0.491858   \n",
       "1                                         0.505162   \n",
       "2                                         0.489625   \n",
       "3                                         0.497393   \n",
       "4                                         0.665830   \n",
       "...                                            ...   \n",
       "3259                                      0.477534   \n",
       "3260                                      0.453880   \n",
       "3261                                      0.477073   \n",
       "3262                                      0.483677   \n",
       "3263                                      0.506376   \n",
       "\n",
       "       Continuous interest rate (after tax)   Cash flow rate  \\\n",
       "0                                  0.611586         0.485865   \n",
       "1                                  0.664033         0.461128   \n",
       "2                                  0.645232         0.506702   \n",
       "3                                  0.668968         0.476250   \n",
       "4                                  0.806733         0.579718   \n",
       "...                                     ...              ...   \n",
       "3259                               0.607485         0.500958   \n",
       "3260                               0.531999         0.510907   \n",
       "3261                               0.619753         0.502071   \n",
       "3262                               0.664969         0.468747   \n",
       "3263                               0.613203         0.507214   \n",
       "\n",
       "       Net Value Per Share (A)   Cash Flow Per Share  \\\n",
       "0                     0.305667              0.498737   \n",
       "1                     0.329167              0.465345   \n",
       "2                     0.346652              0.521242   \n",
       "3                     0.344763              0.471331   \n",
       "4                     0.450859              0.540960   \n",
       "...                        ...                   ...   \n",
       "3259                  0.350193              0.516511   \n",
       "3260                  0.291617              0.532090   \n",
       "3261                  0.290443              0.524836   \n",
       "3262                  0.380633              0.444939   \n",
       "3263                  0.329698              0.548277   \n",
       "\n",
       "       Realized Sales Gross Profit Growth Rate   Operating Profit Growth Rate  \\\n",
       "0                                     0.521267                       0.496663   \n",
       "1                                     0.498777                       0.485051   \n",
       "2                                     0.490905                       0.466431   \n",
       "3                                     0.522208                       0.552881   \n",
       "4                                     0.491506                       0.478024   \n",
       "...                                        ...                            ...   \n",
       "3259                                  0.665955                       0.475937   \n",
       "3260                                  0.490844                       0.481305   \n",
       "3261                                  0.488985                       0.456515   \n",
       "3262                                  0.501232                       0.474967   \n",
       "3263                                  0.451836                       0.475638   \n",
       "\n",
       "       Continuous Net Profit Growth Rate  ...   CFO to Assets  \\\n",
       "0                               0.525500  ...        0.474347   \n",
       "1                               0.516281  ...        0.413045   \n",
       "2                               0.493142  ...        0.508756   \n",
       "3                               0.610750  ...        0.458496   \n",
       "4                               0.519969  ...        0.546054   \n",
       "...                                  ...  ...             ...   \n",
       "3259                            0.472561  ...        0.510654   \n",
       "3260                            0.507507  ...        0.537156   \n",
       "3261                            0.512242  ...        0.536623   \n",
       "3262                            0.516834  ...        0.426030   \n",
       "3263                            0.671817  ...        0.542071   \n",
       "\n",
       "       Cash Flow to Equity   No-credit Interval   Gross Profit to Sales  \\\n",
       "0                 0.434959             0.479548                0.492426   \n",
       "1                 0.459768             0.480611                0.915448   \n",
       "2                 0.423828             0.477706                0.565842   \n",
       "3                 0.592841             0.487689                0.633542   \n",
       "4                 0.456042             0.497351                0.611982   \n",
       "...                    ...                  ...                     ...   \n",
       "3259              0.467005             0.493879                0.470891   \n",
       "3260              0.479752             0.489837                0.380516   \n",
       "3261              0.506622             0.339487                0.482921   \n",
       "3262              0.524893             0.596905                0.542210   \n",
       "3263              0.476373             0.449799                0.512131   \n",
       "\n",
       "       Net Income to Stockholder's Equity  \\\n",
       "0                                0.573330   \n",
       "1                                0.651869   \n",
       "2                                0.643278   \n",
       "3                                0.663265   \n",
       "4                                0.683781   \n",
       "...                                   ...   \n",
       "3259                             0.608157   \n",
       "3260                             0.504759   \n",
       "3261                             0.590223   \n",
       "3262                             0.663308   \n",
       "3263                             0.565200   \n",
       "\n",
       "       Degree of Financial Leverage (DFL)  \\\n",
       "0                                0.493312   \n",
       "1                                0.499030   \n",
       "2                                0.545533   \n",
       "3                                0.501055   \n",
       "4                                0.496463   \n",
       "...                                   ...   \n",
       "3259                             0.434393   \n",
       "3260                             0.473192   \n",
       "3261                             0.497955   \n",
       "3262                             0.562074   \n",
       "3263                             0.506831   \n",
       "\n",
       "       Interest Coverage Ratio (Interest expense to EBIT)   Debt ratio %  \\\n",
       "0                                              0.454652         0.425139   \n",
       "1                                              0.462163         0.355136   \n",
       "2                                              0.505568         0.521575   \n",
       "3                                              0.464672         0.339507   \n",
       "4                                              0.458871         0.164536   \n",
       "...                                                 ...              ...   \n",
       "3259                                           0.278728         0.438072   \n",
       "3260                                           0.421800         0.547772   \n",
       "3261                                           0.323117         0.522573   \n",
       "3262                                           0.515239         0.549237   \n",
       "3263                                           0.468674         0.562897   \n",
       "\n",
       "       Regular Net Profit Growth Rate   Current Liability to Current Assets  \n",
       "0                            0.516753                              0.346834  \n",
       "1                            0.494327                              0.312571  \n",
       "2                            0.483435                              0.246388  \n",
       "3                            0.587235                              0.218086  \n",
       "4                            0.511358                              0.263684  \n",
       "...                               ...                                   ...  \n",
       "3259                         0.454765                              0.500931  \n",
       "3260                         0.497854                              0.589866  \n",
       "3261                         0.504022                              0.400345  \n",
       "3262                         0.510314                              0.328785  \n",
       "3263                         0.809516                              0.462901  \n",
       "\n",
       "[3264 rows x 45 columns]"
      ]
     },
     "execution_count": 51,
     "metadata": {},
     "output_type": "execute_result"
    }
   ],
   "source": [
    "Sc = MinMaxScaler()\n",
    "X_old = pd.DataFrame(Sc.fit_transform(X_old), columns = X_old.columns)"
   ]
  },
  {
   "cell_type": "code",
   "execution_count": 10,
   "metadata": {},
   "outputs": [],
   "source": [
    "X = data.drop(\"Bankrupt?\", axis = 1)\n",
    "Y = data[\"Bankrupt?\"]"
   ]
  },
  {
   "cell_type": "code",
   "execution_count": 106,
   "metadata": {},
   "outputs": [],
   "source": [
    "KNN = KNeighborsClassifier(n_neighbors = 4)\n",
    "RF = RandomForestClassifier(max_depth = 3, max_features = 3, n_estimators = 50)\n",
    "LR = LogisticRegression(fit_intercept = True)\n",
    "DT = DecisionTreeClassifier(max_depth = 4)"
   ]
  },
  {
   "cell_type": "code",
   "execution_count": 71,
   "metadata": {},
   "outputs": [],
   "source": [
    "LR?"
   ]
  },
  {
   "cell_type": "code",
   "execution_count": 107,
   "metadata": {},
   "outputs": [
    {
     "data": {
      "text/plain": [
       "array([[792,  24],\n",
       "       [ 50, 114]], dtype=int64)"
      ]
     },
     "execution_count": 107,
     "metadata": {},
     "output_type": "execute_result"
    }
   ],
   "source": [
    "LR.fit(xtrain_old, ytrain_old)\n",
    "confusion_matrix(ytest_old, LR.predict(xtest_old))"
   ]
  },
  {
   "cell_type": "code",
   "execution_count": 103,
   "metadata": {},
   "outputs": [
    {
     "data": {
      "text/plain": [
       "0.9040816326530612"
      ]
     },
     "execution_count": 103,
     "metadata": {},
     "output_type": "execute_result"
    }
   ],
   "source": [
    "accuracy_score(ytest, LR.predict(xtest))"
   ]
  },
  {
   "cell_type": "code",
   "execution_count": 99,
   "metadata": {},
   "outputs": [
    {
     "data": {
      "text/html": [
       "<div>\n",
       "<style scoped>\n",
       "    .dataframe tbody tr th:only-of-type {\n",
       "        vertical-align: middle;\n",
       "    }\n",
       "\n",
       "    .dataframe tbody tr th {\n",
       "        vertical-align: top;\n",
       "    }\n",
       "\n",
       "    .dataframe thead th {\n",
       "        text-align: right;\n",
       "    }\n",
       "</style>\n",
       "<table border=\"1\" class=\"dataframe\">\n",
       "  <thead>\n",
       "    <tr style=\"text-align: right;\">\n",
       "      <th></th>\n",
       "      <th>TPR</th>\n",
       "      <th>FPR</th>\n",
       "      <th>Threshold</th>\n",
       "      <th>Difference</th>\n",
       "    </tr>\n",
       "  </thead>\n",
       "  <tbody>\n",
       "    <tr>\n",
       "      <th>0</th>\n",
       "      <td>0.939</td>\n",
       "      <td>0.105</td>\n",
       "      <td>0.467</td>\n",
       "      <td>0.834</td>\n",
       "    </tr>\n",
       "    <tr>\n",
       "      <th>1</th>\n",
       "      <td>0.933</td>\n",
       "      <td>0.100</td>\n",
       "      <td>0.493</td>\n",
       "      <td>0.833</td>\n",
       "    </tr>\n",
       "    <tr>\n",
       "      <th>2</th>\n",
       "      <td>0.951</td>\n",
       "      <td>0.120</td>\n",
       "      <td>0.436</td>\n",
       "      <td>0.831</td>\n",
       "    </tr>\n",
       "    <tr>\n",
       "      <th>3</th>\n",
       "      <td>0.933</td>\n",
       "      <td>0.105</td>\n",
       "      <td>0.476</td>\n",
       "      <td>0.828</td>\n",
       "    </tr>\n",
       "    <tr>\n",
       "      <th>4</th>\n",
       "      <td>0.945</td>\n",
       "      <td>0.119</td>\n",
       "      <td>0.440</td>\n",
       "      <td>0.826</td>\n",
       "    </tr>\n",
       "  </tbody>\n",
       "</table>\n",
       "</div>"
      ],
      "text/plain": [
       "     TPR    FPR  Threshold  Difference\n",
       "0  0.939  0.105      0.467       0.834\n",
       "1  0.933  0.100      0.493       0.833\n",
       "2  0.951  0.120      0.436       0.831\n",
       "3  0.933  0.105      0.476       0.828\n",
       "4  0.945  0.119      0.440       0.826"
      ]
     },
     "execution_count": 99,
     "metadata": {},
     "output_type": "execute_result"
    }
   ],
   "source": [
    "youden = pd.DataFrame({\"TPR\":np.round(tpr_new, 3), \"FPR\":np.round(fpr_new, 3), \"Threshold\":np.round(th_new,3)})\n",
    "youden[\"Difference\"] = youden.TPR - youden.FPR\n",
    "youden.sort_values(by = [\"Difference\"], ascending = False, ignore_index = True).head()"
   ]
  },
  {
   "cell_type": "code",
   "execution_count": 105,
   "metadata": {},
   "outputs": [],
   "source": [
    "fpr_new, tpr_new, th_new = roc_curve(ytest, LR.predict(xtest))"
   ]
  },
  {
   "cell_type": "code",
   "execution_count": 115,
   "metadata": {},
   "outputs": [
    {
     "data": {
      "image/png": "[encoded data removed]",
      "text/plain": [
       "<Figure size 432x288 with 1 Axes>"
      ]
     },
     "metadata": {
      "needs_background": "light"
     },
     "output_type": "display_data"
    }
   ],
   "source": [
    "fpr_old, tpr_old, th_old = roc_curve(ytest_old, LR.predict(xtest_old))\n",
    "plt.plot(fpr_old, tpr_old, label = \"Base Model\")\n",
    "plt.plot(fpr_new, tpr_new, label = \"Improved Base Model\", color = \"orange\")\n",
    "plt.plot(fpr_test, tpr_test, color = \"green\", label = \"Final Model\")\n",
    "plt.plot([1,0],[1,0], \"r--\")\n",
    "plt.plot([0,1],[1,1], \"r--\")\n",
    "plt.legend(loc = \"best\")\n",
    "plt.xlabel(\"FPR\")\n",
    "plt.ylabel(\"TPR\")\n",
    "plt.title(\"Improvement in ROC\")\n",
    "plt.show()"
   ]
  },
  {
   "cell_type": "code",
   "execution_count": 92,
   "metadata": {},
   "outputs": [
    {
     "data": {
      "text/plain": [
       "0.9058614299378288"
      ]
     },
     "execution_count": 92,
     "metadata": {},
     "output_type": "execute_result"
    }
   ],
   "source": [
    "roc_auc_score(ytest, LR.predict(xtest))"
   ]
  },
  {
   "cell_type": "code",
   "execution_count": 15,
   "metadata": {},
   "outputs": [],
   "source": [
    "NB = GaussianNB()"
   ]
  },
  {
   "cell_type": "code",
   "execution_count": 54,
   "metadata": {},
   "outputs": [],
   "source": [
    "xtrain, xtest, ytrain, ytest = train_test_split(X, Y, test_size = 0.3, random_state = 10)\n",
    "xtrain_old, xtest_old, ytrain_old, ytest_old = train_test_split(X_old, Y_old, test_size = 0.3, random_state = 10)\n"
   ]
  },
  {
   "cell_type": "code",
   "execution_count": 20,
   "metadata": {},
   "outputs": [
    {
     "name": "stdout",
     "output_type": "stream",
     "text": [
      "              precision    recall  f1-score   support\n",
      "\n",
      "         0.0       0.99      0.95      0.97       816\n",
      "         1.0       0.79      0.96      0.86       164\n",
      "\n",
      "    accuracy                           0.95       980\n",
      "   macro avg       0.89      0.95      0.92       980\n",
      "weighted avg       0.96      0.95      0.95       980\n",
      "\n",
      "              precision    recall  f1-score   support\n",
      "\n",
      "         0.0       0.99      0.93      0.96      1904\n",
      "         1.0       0.74      0.97      0.84       380\n",
      "\n",
      "    accuracy                           0.94      2284\n",
      "   macro avg       0.86      0.95      0.90      2284\n",
      "weighted avg       0.95      0.94      0.94      2284\n",
      "\n"
     ]
    }
   ],
   "source": [
    "SC = StackingClassifier(estimators = [(\"KN\", KNN), (\"LR\", LR), (\"NB\", NB)], final_estimator = NB)\n",
    "SC.fit(xtrain, ytrain)\n",
    "print(classification_report(ytest, SC.predict(xtest)))\n",
    "print(classification_report(ytrain, SC.predict(xtrain)))"
   ]
  },
  {
   "cell_type": "code",
   "execution_count": 40,
   "metadata": {},
   "outputs": [
    {
     "data": {
      "text/plain": [
       "0.9523104973696795"
      ]
     },
     "execution_count": 40,
     "metadata": {},
     "output_type": "execute_result"
    }
   ],
   "source": [
    "roc_auc_score(ytest, SC.predict(xtest))"
   ]
  },
  {
   "cell_type": "code",
   "execution_count": 41,
   "metadata": {},
   "outputs": [
    {
     "data": {
      "text/plain": [
       "0.949546660769571"
      ]
     },
     "execution_count": 41,
     "metadata": {},
     "output_type": "execute_result"
    }
   ],
   "source": [
    "roc_auc_score(ytrain, SC.predict(xtrain))"
   ]
  },
  {
   "cell_type": "code",
   "execution_count": 25,
   "metadata": {},
   "outputs": [],
   "source": [
    "cm_train = confusion_matrix(ytrain, SC.predict(xtrain))"
   ]
  },
  {
   "cell_type": "code",
   "execution_count": 26,
   "metadata": {},
   "outputs": [],
   "source": [
    "cm_test = confusion_matrix(ytest, SC.predict(xtest))"
   ]
  },
  {
   "cell_type": "code",
   "execution_count": 24,
   "metadata": {},
   "outputs": [],
   "source": [
    "fpr_test, tpr_test, th_test = roc_curve(ytest, SC.predict(xtest))\n",
    "fpr_train, tpr_train, th_train = roc_curve(ytrain, SC.predict(xtrain))"
   ]
  },
  {
   "cell_type": "code",
   "execution_count": 29,
   "metadata": {},
   "outputs": [
    {
     "data": {
      "image/png": "[encoded data removed]",
      "text/plain": [
       "<Figure size 432x288 with 1 Axes>"
      ]
     },
     "metadata": {
      "needs_background": "light"
     },
     "output_type": "display_data"
    }
   ],
   "source": [
    "sns.heatmap(pd.DataFrame(cm_train, index = [\"Actual 0\", \"Actual 1\"], columns = [\"Predicted 0\", \"Predicted 1\"]), annot = True, fmt = \"g\", cmap =\"Blues\", cbar = False)\n",
    "plt.title(\"Train Classification - Final Model\")\n",
    "plt.show()"
   ]
  },
  {
   "cell_type": "code",
   "execution_count": 30,
   "metadata": {},
   "outputs": [
    {
     "data": {
      "image/png": "[encoded data removed]",
      "text/plain": [
       "<Figure size 432x288 with 1 Axes>"
      ]
     },
     "metadata": {
      "needs_background": "light"
     },
     "output_type": "display_data"
    }
   ],
   "source": [
    "sns.heatmap(pd.DataFrame(cm_test, index = [\"Actual 0\", \"Actual 1\"], columns = [\"Predicted 0\", \"Predicted 1\"]), annot = True, fmt = \"g\", cmap =\"Blues\", cbar = False)\n",
    "plt.title(\"Test Classification - Final Model\")\n",
    "plt.show()"
   ]
  },
  {
   "cell_type": "code",
   "execution_count": 35,
   "metadata": {},
   "outputs": [
    {
     "data": {
      "image/png": "[encoded data removed]",
      "text/plain": [
       "<Figure size 432x288 with 1 Axes>"
      ]
     },
     "metadata": {
      "needs_background": "light"
     },
     "output_type": "display_data"
    }
   ],
   "source": [
    "plt.plot(fpr_test, tpr_test)\n",
    "plt.plot([1,0], [1,0], \"r--\")\n",
    "plt.xlabel(\"FPR\")\n",
    "plt.ylabel(\"TPR\")\n",
    "plt.title(\"Test ROC - Final Model\")\n",
    "plt.show()"
   ]
  },
  {
   "cell_type": "code",
   "execution_count": 37,
   "metadata": {},
   "outputs": [
    {
     "data": {
      "image/png": "[encoded data removed]",
      "text/plain": [
       "<Figure size 432x288 with 1 Axes>"
      ]
     },
     "metadata": {
      "needs_background": "light"
     },
     "output_type": "display_data"
    }
   ],
   "source": [
    "plt.plot(fpr_train, tpr_train)\n",
    "plt.plot([1,0], [1,0], \"r--\")\n",
    "plt.xlabel(\"FPR\")\n",
    "plt.ylabel(\"TPR\")\n",
    "plt.title(\"Train ROC - Final Model\")\n",
    "plt.show()"
   ]
  },
  {
   "cell_type": "code",
   "execution_count": 38,
   "metadata": {},
   "outputs": [
    {
     "data": {
      "text/plain": [
       "0.9489795918367347"
      ]
     },
     "execution_count": 38,
     "metadata": {},
     "output_type": "execute_result"
    }
   ],
   "source": [
    "accuracy_score(ytest, SC.predict(xtest))"
   ]
  },
  {
   "cell_type": "code",
   "execution_count": 39,
   "metadata": {},
   "outputs": [
    {
     "data": {
      "text/plain": [
       "0.9369527145359019"
      ]
     },
     "execution_count": 39,
     "metadata": {},
     "output_type": "execute_result"
    }
   ],
   "source": [
    "accuracy_score(ytrain, SC.predict(xtrain))"
   ]
  },
  {
   "cell_type": "code",
   "execution_count": 244,
   "metadata": {},
   "outputs": [
    {
     "name": "stdout",
     "output_type": "stream",
     "text": [
      "1 2 3 4 5 6 7 8 9 10 11 12 13 14 15 16 17 18 19 20 21 22 23 24 25 26 27 28 29 30 31 32 33 34 35 36 37 38 39 40 41 42 43 44 45 46 47 48 49 50 "
     ]
    }
   ],
   "source": [
    "acc_diff_2 = []\n",
    "\n",
    "for i in range(1,51):\n",
    "    xtrain, xtest, ytrain, ytest = train_test_split(X_new, Y, test_size = 0.34, random_state = i)\n",
    "    SC.fit(xtrain, ytrain)\n",
    "    acc_diff_2.append(accuracy_score(ytrain, SC.predict(xtrain)) - accuracy_score(ytest, SC.predict(xtest)))\n",
    "    print(i, end = \" \")\n",
    "    "
   ]
  },
  {
   "cell_type": "code",
   "execution_count": 245,
   "metadata": {},
   "outputs": [
    {
     "data": {
      "text/plain": [
       "<matplotlib.axes._subplots.AxesSubplot at 0x1b783248688>"
      ]
     },
     "execution_count": 245,
     "metadata": {},
     "output_type": "execute_result"
    },
    {
     "data": {
      "image/png": "[encoded data removed]",
      "text/plain": [
       "<Figure size 432x288 with 1 Axes>"
      ]
     },
     "metadata": {
      "needs_background": "light"
     },
     "output_type": "display_data"
    }
   ],
   "source": [
    "sns.distplot(acc_diff_2)\n",
    "sns.distplot(acc_diff_1)"
   ]
  },
  {
   "cell_type": "code",
   "execution_count": 178,
   "metadata": {},
   "outputs": [
    {
     "data": {
      "text/plain": [
       "0.014208988933222923"
      ]
     },
     "execution_count": 178,
     "metadata": {},
     "output_type": "execute_result"
    }
   ],
   "source": [
    "np.mean(acc_diff_1)"
   ]
  },
  {
   "cell_type": "code",
   "execution_count": 5,
   "metadata": {},
   "outputs": [
    {
     "data": {
      "text/html": [
       "<div>\n",
       "<style scoped>\n",
       "    .dataframe tbody tr th:only-of-type {\n",
       "        vertical-align: middle;\n",
       "    }\n",
       "\n",
       "    .dataframe tbody tr th {\n",
       "        vertical-align: top;\n",
       "    }\n",
       "\n",
       "    .dataframe thead th {\n",
       "        text-align: right;\n",
       "    }\n",
       "</style>\n",
       "<table border=\"1\" class=\"dataframe\">\n",
       "  <thead>\n",
       "    <tr style=\"text-align: right;\">\n",
       "      <th></th>\n",
       "      <th>Significance</th>\n",
       "    </tr>\n",
       "  </thead>\n",
       "  <tbody>\n",
       "    <tr>\n",
       "      <th>ROA+Net Income to Equity_2</th>\n",
       "      <td>1.651861e-01</td>\n",
       "    </tr>\n",
       "    <tr>\n",
       "      <th>Current Liability to Liability</th>\n",
       "      <td>2.601232e-02</td>\n",
       "    </tr>\n",
       "    <tr>\n",
       "      <th>Total Asset Growth Rate</th>\n",
       "      <td>2.537971e-03</td>\n",
       "    </tr>\n",
       "    <tr>\n",
       "      <th>ROA+Net Income to Equity_3</th>\n",
       "      <td>2.012909e-03</td>\n",
       "    </tr>\n",
       "    <tr>\n",
       "      <th>CF_2</th>\n",
       "      <td>8.000441e-05</td>\n",
       "    </tr>\n",
       "    <tr>\n",
       "      <th>Turnover</th>\n",
       "      <td>1.932542e-06</td>\n",
       "    </tr>\n",
       "    <tr>\n",
       "      <th>Inventory/Current Liability</th>\n",
       "      <td>9.252451e-14</td>\n",
       "    </tr>\n",
       "    <tr>\n",
       "      <th>Degree of Financial Leverage (DFL)</th>\n",
       "      <td>8.038156e-14</td>\n",
       "    </tr>\n",
       "    <tr>\n",
       "      <th>CF_3</th>\n",
       "      <td>3.348623e-14</td>\n",
       "    </tr>\n",
       "    <tr>\n",
       "      <th>Long-term fund suitability ratio (A)</th>\n",
       "      <td>1.705944e-14</td>\n",
       "    </tr>\n",
       "    <tr>\n",
       "      <th>Realized Sales Gross Profit Growth Rate</th>\n",
       "      <td>1.103090e-14</td>\n",
       "    </tr>\n",
       "    <tr>\n",
       "      <th>No-credit Interval</th>\n",
       "      <td>2.600639e-16</td>\n",
       "    </tr>\n",
       "    <tr>\n",
       "      <th>Quick Assets/Total Assets</th>\n",
       "      <td>1.176833e-27</td>\n",
       "    </tr>\n",
       "    <tr>\n",
       "      <th>Operating Profit Growth Rate</th>\n",
       "      <td>2.727934e-31</td>\n",
       "    </tr>\n",
       "    <tr>\n",
       "      <th>Cash Flow to Equity</th>\n",
       "      <td>2.935931e-34</td>\n",
       "    </tr>\n",
       "    <tr>\n",
       "      <th>Total expense/Assets</th>\n",
       "      <td>2.264115e-38</td>\n",
       "    </tr>\n",
       "    <tr>\n",
       "      <th>Inventory and accounts receivable/Net value</th>\n",
       "      <td>8.500524e-44</td>\n",
       "    </tr>\n",
       "    <tr>\n",
       "      <th>Total Asset Return Growth Rate Ratio</th>\n",
       "      <td>7.831510e-47</td>\n",
       "    </tr>\n",
       "    <tr>\n",
       "      <th>CF_1</th>\n",
       "      <td>1.432151e-60</td>\n",
       "    </tr>\n",
       "    <tr>\n",
       "      <th>Interest_1</th>\n",
       "      <td>1.893749e-62</td>\n",
       "    </tr>\n",
       "    <tr>\n",
       "      <th>Operating profit per person</th>\n",
       "      <td>2.535461e-63</td>\n",
       "    </tr>\n",
       "    <tr>\n",
       "      <th>Regular Net Profit Growth Rate</th>\n",
       "      <td>3.938378e-65</td>\n",
       "    </tr>\n",
       "    <tr>\n",
       "      <th>Gross Profit to Sales</th>\n",
       "      <td>5.330876e-67</td>\n",
       "    </tr>\n",
       "    <tr>\n",
       "      <th>Equity to Long-term Liability</th>\n",
       "      <td>1.615716e-71</td>\n",
       "    </tr>\n",
       "    <tr>\n",
       "      <th>Continuous Net Profit Growth Rate</th>\n",
       "      <td>2.598974e-72</td>\n",
       "    </tr>\n",
       "    <tr>\n",
       "      <th>Operating Profit Rate</th>\n",
       "      <td>3.396340e-91</td>\n",
       "    </tr>\n",
       "    <tr>\n",
       "      <th>Non-industry income and expenditure/revenue</th>\n",
       "      <td>9.651988e-155</td>\n",
       "    </tr>\n",
       "    <tr>\n",
       "      <th>CD_LA_WC_1</th>\n",
       "      <td>7.785826e-191</td>\n",
       "    </tr>\n",
       "    <tr>\n",
       "      <th>ROA+Net Income to Equity_1</th>\n",
       "      <td>3.275790e-246</td>\n",
       "    </tr>\n",
       "  </tbody>\n",
       "</table>\n",
       "</div>"
      ],
      "text/plain": [
       "                                               Significance\n",
       "ROA+Net Income to Equity_2                     1.651861e-01\n",
       " Current Liability to Liability                2.601232e-02\n",
       " Total Asset Growth Rate                       2.537971e-03\n",
       "ROA+Net Income to Equity_3                     2.012909e-03\n",
       "CF_2                                           8.000441e-05\n",
       "Turnover                                       1.932542e-06\n",
       " Inventory/Current Liability                   9.252451e-14\n",
       " Degree of Financial Leverage (DFL)            8.038156e-14\n",
       "CF_3                                           3.348623e-14\n",
       " Long-term fund suitability ratio (A)          1.705944e-14\n",
       " Realized Sales Gross Profit Growth Rate       1.103090e-14\n",
       " No-credit Interval                            2.600639e-16\n",
       " Quick Assets/Total Assets                     1.176833e-27\n",
       " Operating Profit Growth Rate                  2.727934e-31\n",
       " Cash Flow to Equity                           2.935931e-34\n",
       " Total expense/Assets                          2.264115e-38\n",
       " Inventory and accounts receivable/Net value   8.500524e-44\n",
       " Total Asset Return Growth Rate Ratio          7.831510e-47\n",
       "CF_1                                           1.432151e-60\n",
       "Interest_1                                     1.893749e-62\n",
       " Operating profit per person                   2.535461e-63\n",
       " Regular Net Profit Growth Rate                3.938378e-65\n",
       " Gross Profit to Sales                         5.330876e-67\n",
       " Equity to Long-term Liability                 1.615716e-71\n",
       " Continuous Net Profit Growth Rate             2.598974e-72\n",
       " Operating Profit Rate                         3.396340e-91\n",
       " Non-industry income and expenditure/revenue  9.651988e-155\n",
       "CD_LA_WC_1                                    7.785826e-191\n",
       "ROA+Net Income to Equity_1                    3.275790e-246"
      ]
     },
     "execution_count": 5,
     "metadata": {},
     "output_type": "execute_result"
    }
   ],
   "source": [
    "sig = pd.DataFrame(index = data.drop(\"Bankrupt?\", axis=1).columns)\n",
    "sig[\"Significance\"] = stats.ttest_ind(data.drop(\"Bankrupt?\", axis = 1)[data[\"Bankrupt?\"] == 1], data.drop(\"Bankrupt?\", axis = 1)[data[\"Bankrupt?\"] == 0]).pvalue\n",
    "sig.sort_values(ascending = False, by = [\"Significance\"])"
   ]
  },
  {
   "cell_type": "code",
   "execution_count": 194,
   "metadata": {},
   "outputs": [],
   "source": [
    "X_new_2 = X.drop([\"ROA+Net Income to Equity_3\", \" Long-term fund suitability ratio (A)\"], axis = 1)"
   ]
  },
  {
   "cell_type": "code",
   "execution_count": 201,
   "metadata": {},
   "outputs": [
    {
     "data": {
      "text/plain": [
       " Operating Profit Rate                         -2.752005\n",
       " Non-industry income and expenditure/revenue   -1.193602\n",
       " Realized Sales Gross Profit Growth Rate        2.827732\n",
       " Operating Profit Growth Rate                   1.575806\n",
       " Continuous Net Profit Growth Rate             -1.437847\n",
       " Total Asset Growth Rate                       -1.449924\n",
       " Total Asset Return Growth Rate Ratio           2.088951\n",
       " Inventory and accounts receivable/Net value    2.020473\n",
       " Operating profit per person                    1.948489\n",
       " Quick Assets/Total Assets                     -0.233271\n",
       " Inventory/Current Liability                    0.656711\n",
       " Total expense/Assets                           1.166791\n",
       " Current Liability to Liability                -1.254052\n",
       " Equity to Long-term Liability                  2.487338\n",
       " Cash Flow to Equity                            0.359506\n",
       " No-credit Interval                             0.109973\n",
       " Gross Profit to Sales                          0.810825\n",
       " Degree of Financial Leverage (DFL)             2.062504\n",
       " Regular Net Profit Growth Rate                -1.337807\n",
       "Turnover                                        1.197832\n",
       "ROA+Net Income to Equity_2                      2.815238\n",
       "ROA+Net Income to Equity_1                      0.147615\n",
       "CF_2                                            0.498319\n",
       "Interest_1                                     -1.253404\n",
       "CF_3                                           -0.473799\n",
       "CF_1                                            0.094205\n",
       "CD_LA_WC_1                                     -0.025793\n",
       "dtype: float64"
      ]
     },
     "execution_count": 201,
     "metadata": {},
     "output_type": "execute_result"
    }
   ],
   "source": [
    "X_new_2.skew()"
   ]
  }
 ],
 "metadata": {
  "kernelspec": {
   "display_name": "Python 3",
   "language": "python",
   "name": "python3"
  },
  "language_info": {
   "codemirror_mode": {
    "name": "ipython",
    "version": 3
   },
   "file_extension": ".py",
   "mimetype": "text/x-python",
   "name": "python",
   "nbconvert_exporter": "python",
   "pygments_lexer": "ipython3",
   "version": "3.7.6"
  }
 },
 "nbformat": 4,
 "nbformat_minor": 4
}
