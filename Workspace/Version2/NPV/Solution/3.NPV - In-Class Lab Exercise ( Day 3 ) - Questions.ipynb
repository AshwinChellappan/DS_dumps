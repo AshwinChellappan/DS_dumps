{
 "cells": [
  {
   "cell_type": "markdown",
   "metadata": {
    "collapsed": true
   },
   "source": [
    "<table align=\"left\" width=100%>\n",
    "    <tr>\n",
    "        <td width=\"10%\">\n",
    "            <img src=\"in_class.png\">\n",
    "        </td>\n",
    "        <td>\n",
    "            <div align=\"center\">\n",
    "                <font color=\"#21618C\" size=8px>\n",
    "                    <b>Inclass - Lab<br> (Day 3)\n",
    "                    </b>\n",
    "                </font>\n",
    "            </div>\n",
    "        </td>\n",
    "    </tr>\n",
    "</table>"
   ]
  },
  {
   "cell_type": "markdown",
   "metadata": {},
   "source": [
    "## Table of Content\n",
    "1. **[Reshape](#Reshape)[Learning material]**\n",
    "2. **[Pivot Table](#Pivoting)**\n",
    "3. **[Duplicate](#Duplicating)**\n",
    "4. **[Replace](#Replacing)**\n",
    "5. **[Index](#Indexing)**\n",
    "6. **[Merge, Join, Concatenate](#merge)[ Prerequisite]** \n",
    "7. **[Plots using Library Matplotlib ](#matplotlib)**\n",
    "8. **[Plots using Library Seaborn ](#seaborn)[Self Learning material]**\n",
    "9. **[Plots using Library Plotly](#plotly)[Self Learning material]**\n"
   ]
  },
  {
   "cell_type": "markdown",
   "metadata": {},
   "source": [
    "**Let us import the required library**"
   ]
  },
  {
   "cell_type": "code",
   "execution_count": 1,
   "metadata": {},
   "outputs": [],
   "source": [
    "import pandas as pd\n",
    "import numpy as np"
   ]
  },
  {
   "cell_type": "markdown",
   "metadata": {},
   "source": [
    "### Let's begin with some hands-on practice exercises"
   ]
  },
  {
   "cell_type": "markdown",
   "metadata": {},
   "source": [
    "<a id='Reshape'></a>\n",
    "## 1. Reshape[Learning material]"
   ]
  },
  {
   "cell_type": "markdown",
   "metadata": {},
   "source": [
    "<table align=\"left\" width=100%>\n",
    "    <tr>\n",
    "        <td width=\"6%\">\n",
    "            <img src=\"question_icon.png\">\n",
    "        </td>\n",
    "        <td>\n",
    "            <div align=\"left\">\n",
    "                <font color=\"#21618C\" size=4px>\n",
    "                    <b> 1. Write a program to reshape the given dataframe using the melt function, considering 'Day' as the identifier variable\n",
    "                    </b>\n",
    "                </font>\n",
    "            </div>\n",
    "        </td>\n",
    "    </tr>\n",
    "</table>"
   ]
  },
  {
   "cell_type": "markdown",
   "metadata": {},
   "source": [
    "**Use the dataframe given below:**\n",
    "   \n",
    "<table>\n",
    "<tr>\n",
    "<th>Day</th>\n",
    "<th>ICICI</th>\n",
    "<th>HDFC</th>\n",
    "</tr>\n",
    "<tr>\n",
    "<td>MON</td>\n",
    "<td>1129</td>\n",
    "<td>191</td>\n",
    "</tr>\n",
    "<tr>\n",
    "<td>TUES</td>\n",
    "<td>1132</td>\n",
    "<td>192</td>\n",
    "</tr>\n",
    "<tr>\n",
    "<td>WED</td>\n",
    "<td>1134</td>\n",
    "<td>190</td>\n",
    "</tr>\n",
    "<tr>\n",
    "<td>THU</td>\n",
    "<td>1152</td>\n",
    "<td>190</td>\n",
    "</tr>\n",
    "<tr>\n",
    "<td>FRI</td>\n",
    "<td>1152</td>\n",
    "<td>188</td>\n",
    "</tr>\n",
    "   \n",
    "</table>"
   ]
  },
  {
   "cell_type": "code",
   "execution_count": 3,
   "metadata": {},
   "outputs": [
    {
     "data": {
      "text/html": [
       "<div>\n",
       "<style scoped>\n",
       "    .dataframe tbody tr th:only-of-type {\n",
       "        vertical-align: middle;\n",
       "    }\n",
       "\n",
       "    .dataframe tbody tr th {\n",
       "        vertical-align: top;\n",
       "    }\n",
       "\n",
       "    .dataframe thead th {\n",
       "        text-align: right;\n",
       "    }\n",
       "</style>\n",
       "<table border=\"1\" class=\"dataframe\">\n",
       "  <thead>\n",
       "    <tr style=\"text-align: right;\">\n",
       "      <th></th>\n",
       "      <th>Day</th>\n",
       "      <th>variable</th>\n",
       "      <th>value</th>\n",
       "    </tr>\n",
       "  </thead>\n",
       "  <tbody>\n",
       "    <tr>\n",
       "      <th>0</th>\n",
       "      <td>MON</td>\n",
       "      <td>ICICI</td>\n",
       "      <td>1129</td>\n",
       "    </tr>\n",
       "    <tr>\n",
       "      <th>1</th>\n",
       "      <td>TUE</td>\n",
       "      <td>ICICI</td>\n",
       "      <td>1132</td>\n",
       "    </tr>\n",
       "    <tr>\n",
       "      <th>2</th>\n",
       "      <td>WED</td>\n",
       "      <td>ICICI</td>\n",
       "      <td>1134</td>\n",
       "    </tr>\n",
       "    <tr>\n",
       "      <th>3</th>\n",
       "      <td>THU</td>\n",
       "      <td>ICICI</td>\n",
       "      <td>1152</td>\n",
       "    </tr>\n",
       "    <tr>\n",
       "      <th>4</th>\n",
       "      <td>FRI</td>\n",
       "      <td>ICICI</td>\n",
       "      <td>1152</td>\n",
       "    </tr>\n",
       "    <tr>\n",
       "      <th>5</th>\n",
       "      <td>MON</td>\n",
       "      <td>HDFC</td>\n",
       "      <td>191</td>\n",
       "    </tr>\n",
       "    <tr>\n",
       "      <th>6</th>\n",
       "      <td>TUE</td>\n",
       "      <td>HDFC</td>\n",
       "      <td>192</td>\n",
       "    </tr>\n",
       "    <tr>\n",
       "      <th>7</th>\n",
       "      <td>WED</td>\n",
       "      <td>HDFC</td>\n",
       "      <td>190</td>\n",
       "    </tr>\n",
       "    <tr>\n",
       "      <th>8</th>\n",
       "      <td>THU</td>\n",
       "      <td>HDFC</td>\n",
       "      <td>190</td>\n",
       "    </tr>\n",
       "    <tr>\n",
       "      <th>9</th>\n",
       "      <td>FRI</td>\n",
       "      <td>HDFC</td>\n",
       "      <td>188</td>\n",
       "    </tr>\n",
       "  </tbody>\n",
       "</table>\n",
       "</div>"
      ],
      "text/plain": [
       "   Day variable  value\n",
       "0  MON    ICICI   1129\n",
       "1  TUE    ICICI   1132\n",
       "2  WED    ICICI   1134\n",
       "3  THU    ICICI   1152\n",
       "4  FRI    ICICI   1152\n",
       "5  MON     HDFC    191\n",
       "6  TUE     HDFC    192\n",
       "7  WED     HDFC    190\n",
       "8  THU     HDFC    190\n",
       "9  FRI     HDFC    188"
      ]
     },
     "execution_count": 3,
     "metadata": {},
     "output_type": "execute_result"
    }
   ],
   "source": [
    "df_bank = pd.DataFrame(data = {\n",
    "    'Day' : ['MON', 'TUE', 'WED', 'THU', 'FRI'], \n",
    "    'ICICI' : [1129,1132,1134,1152,1152], \n",
    "    'HDFC' : [191,192,190,190,188] })\n",
    "\n",
    "# print the dataframe\n",
    "df_bank\n",
    "df_reshaped = df_bank.melt(id_vars=['Day'])\n",
    "\n",
    "# print the data\n",
    "df_reshaped"
   ]
  },
  {
   "cell_type": "markdown",
   "metadata": {},
   "source": [
    "<table align=\"left\" width=100%>\n",
    "    <tr>\n",
    "        <td width=\"6%\">\n",
    "            <img src=\"question_icon.png\">\n",
    "        </td>\n",
    "        <td>\n",
    "            <div align=\"left\">\n",
    "                <font color=\"#21618C\" size=4px>\n",
    "                    <b> 2. Stack the dataframe at institute level\n",
    "                    <br>\n",
    "                    </b>\n",
    "                </font>\n",
    "            </div>\n",
    "        </td>\n",
    "    </tr>\n",
    "</table>"
   ]
  },
  {
   "cell_type": "markdown",
   "metadata": {},
   "source": [
    "**Use the dataframe given below:**                     \n",
    "<img src=\"que2.png\">"
   ]
  },
  {
   "cell_type": "code",
   "execution_count": 4,
   "metadata": {},
   "outputs": [
    {
     "data": {
      "text/html": [
       "<div>\n",
       "<style scoped>\n",
       "    .dataframe tbody tr th:only-of-type {\n",
       "        vertical-align: middle;\n",
       "    }\n",
       "\n",
       "    .dataframe tbody tr th {\n",
       "        vertical-align: top;\n",
       "    }\n",
       "\n",
       "    .dataframe thead tr th {\n",
       "        text-align: left;\n",
       "    }\n",
       "</style>\n",
       "<table border=\"1\" class=\"dataframe\">\n",
       "  <thead>\n",
       "    <tr>\n",
       "      <th></th>\n",
       "      <th colspan=\"2\" halign=\"left\">Institute_A</th>\n",
       "      <th colspan=\"2\" halign=\"left\">Institute_B</th>\n",
       "    </tr>\n",
       "    <tr>\n",
       "      <th></th>\n",
       "      <th>Machine Learning</th>\n",
       "      <th>Python</th>\n",
       "      <th>Machine Learning</th>\n",
       "      <th>Python</th>\n",
       "    </tr>\n",
       "  </thead>\n",
       "  <tbody>\n",
       "    <tr>\n",
       "      <th>Student_1</th>\n",
       "      <td>12</td>\n",
       "      <td>45</td>\n",
       "      <td>67</td>\n",
       "      <td>56</td>\n",
       "    </tr>\n",
       "    <tr>\n",
       "      <th>Student_2</th>\n",
       "      <td>78</td>\n",
       "      <td>89</td>\n",
       "      <td>45</td>\n",
       "      <td>67</td>\n",
       "    </tr>\n",
       "    <tr>\n",
       "      <th>Student_3</th>\n",
       "      <td>45</td>\n",
       "      <td>67</td>\n",
       "      <td>89</td>\n",
       "      <td>90</td>\n",
       "    </tr>\n",
       "    <tr>\n",
       "      <th>Student_4</th>\n",
       "      <td>67</td>\n",
       "      <td>44</td>\n",
       "      <td>56</td>\n",
       "      <td>55</td>\n",
       "    </tr>\n",
       "  </tbody>\n",
       "</table>\n",
       "</div>"
      ],
      "text/plain": [
       "               Institute_A             Institute_B       \n",
       "          Machine Learning Python Machine Learning Python\n",
       "Student_1               12     45               67     56\n",
       "Student_2               78     89               45     67\n",
       "Student_3               45     67               89     90\n",
       "Student_4               67     44               56     55"
      ]
     },
     "execution_count": 4,
     "metadata": {},
     "output_type": "execute_result"
    }
   ],
   "source": [
    "header = pd.MultiIndex.from_product([['Institute_A','Institute_B'],['Machine Learning','Python']])\n",
    "\n",
    "# create a list of data\n",
    "data=([[12,45,67,56],[78,89,45,67],[45,67,89,90],[67,44,56,55]])\n",
    "\n",
    "# create a dataframe\n",
    "# index: row labels\n",
    "df_student = pd.DataFrame(data,\n",
    "                  index=['Student_1','Student_2','Student_3','Student_4'],\n",
    "                  columns=header)\n",
    "\n",
    "# print the dataframe\n",
    "df_student"
   ]
  },
  {
   "cell_type": "markdown",
   "metadata": {},
   "source": [
    "<a id='Pivoting'></a>\n",
    "## 2. Pivot Table"
   ]
  },
  {
   "cell_type": "markdown",
   "metadata": {},
   "source": [
    "<table align=\"left\" width=100%>\n",
    "    <tr>\n",
    "        <td width=\"6%\">\n",
    "            <img src=\"question_icon.png\">\n",
    "        </td>\n",
    "        <td>\n",
    "            <div align=\"left\">\n",
    "                <font color=\"#21618C\" size=4px>\n",
    "                    <b> 3. Find the average sales for each store\n",
    "                    </b>\n",
    "                </font>\n",
    "            </div>\n",
    "        </td>\n",
    "    </tr>\n",
    "</table>"
   ]
  },
  {
   "cell_type": "markdown",
   "metadata": {},
   "source": [
    "**Use the dataframe given below:**\n",
    "   \n",
    "<table>\n",
    "<tr>\n",
    "<th>Store</th>\n",
    "<th>Location</th>\n",
    "<th>Sales</th>\n",
    "</tr>\n",
    "<tr>\n",
    "<td>A</td>\n",
    "<td>Mumbai</td>\n",
    "<td>40000</td>\n",
    "</tr>\n",
    "<tr>\n",
    "<td>B</td>\n",
    "<td>Pune</td>\n",
    "<td>45000</td>\n",
    "</tr>\n",
    "<tr>\n",
    "<td>A</td>\n",
    "<td>Hyderabad</td>\n",
    "<td>50000</td>\n",
    "</tr>\n",
    "<tr>\n",
    "<td>C</td>\n",
    "<td>Mumbai</td>\n",
    "<td>90000</td>\n",
    "</tr>\n",
    "<tr>\n",
    "<td>D</td>\n",
    "<td>Pune</td>\n",
    "<td>89000</td>\n",
    "</tr>\n",
    "<tr>\n",
    "<td>A</td>\n",
    "<td>Delhi</td>\n",
    "<td>87000</td>\n",
    "</tr>\n",
    "<tr>\n",
    "<td>D</td>\n",
    "<td>Hyderabad</td>\n",
    "<td>85000</td>\n",
    "</tr>\n",
    "<tr>\n",
    "<td>A</td>\n",
    "<td>Pune</td>\n",
    "<td>78000</td>\n",
    "</tr>\n",
    "<tr>\n",
    "<td>C</td>\n",
    "<td>Mumbai</td>\n",
    "<td>89000</td>\n",
    "</tr>\n",
    "<tr>\n",
    "<td>B</td>\n",
    "<td>Pune</td>\n",
    "<td>70000</td>\n",
    "</tr>\n",
    "   \n",
    "</table>"
   ]
  },
  {
   "cell_type": "code",
   "execution_count": 6,
   "metadata": {},
   "outputs": [
    {
     "data": {
      "text/html": [
       "<div>\n",
       "<style scoped>\n",
       "    .dataframe tbody tr th:only-of-type {\n",
       "        vertical-align: middle;\n",
       "    }\n",
       "\n",
       "    .dataframe tbody tr th {\n",
       "        vertical-align: top;\n",
       "    }\n",
       "\n",
       "    .dataframe thead th {\n",
       "        text-align: right;\n",
       "    }\n",
       "</style>\n",
       "<table border=\"1\" class=\"dataframe\">\n",
       "  <thead>\n",
       "    <tr style=\"text-align: right;\">\n",
       "      <th>Store</th>\n",
       "      <th>A</th>\n",
       "      <th>B</th>\n",
       "      <th>C</th>\n",
       "      <th>D</th>\n",
       "    </tr>\n",
       "  </thead>\n",
       "  <tbody>\n",
       "    <tr>\n",
       "      <th>Sales</th>\n",
       "      <td>65250</td>\n",
       "      <td>57800</td>\n",
       "      <td>89500</td>\n",
       "      <td>87000</td>\n",
       "    </tr>\n",
       "  </tbody>\n",
       "</table>\n",
       "</div>"
      ],
      "text/plain": [
       "Store      A      B      C      D\n",
       "Sales  65250  57800  89500  87000"
      ]
     },
     "execution_count": 6,
     "metadata": {},
     "output_type": "execute_result"
    }
   ],
   "source": [
    "df_store = pd.DataFrame({'Store': ['A', 'B', 'A', 'C', 'D', 'A', 'D', 'A', 'C', 'B'],\n",
    "'Location': ['Mumbai', 'Pune', 'Hyderabad', 'Mumbai', 'Pune', 'Delhi', 'Hyderabad', 'Pune',\n",
    "'Mumbai', 'Pune'],\n",
    "'Sales': [40000, 45600, 56000, 90000, 89000, 87000, 85000, 78000, 89000, 70000]})\n",
    "\n",
    "df_store\n",
    "pd.pivot_table(df_store,values='Sales',columns='Store',aggfunc=np.mean)"
   ]
  },
  {
   "cell_type": "markdown",
   "metadata": {},
   "source": [
    "<table align=\"left\" width=100%>\n",
    "    <tr>\n",
    "        <td width=\"6%\">\n",
    "            <img src=\"question_icon.png\">\n",
    "        </td>\n",
    "        <td>\n",
    "            <div align=\"left\">\n",
    "                <font color=\"#21618C\" size=4px>\n",
    "                    <b> 4. Compute the average sales for each store in every city\n",
    "                    </b>\n",
    "                </font>\n",
    "            </div>\n",
    "        </td>\n",
    "    </tr>\n",
    "</table>"
   ]
  },
  {
   "cell_type": "markdown",
   "metadata": {},
   "source": [
    "**Use the dataframe given below:**\n",
    "   \n",
    "<table>\n",
    "<tr>\n",
    "<th>Store</th>\n",
    "<th>Location</th>\n",
    "<th>Sales</th>\n",
    "</tr>\n",
    "<tr>\n",
    "<td>A</td>\n",
    "<td>Mumbai</td>\n",
    "<td>40000</td>\n",
    "</tr>\n",
    "<tr>\n",
    "<td>B</td>\n",
    "<td>Pune</td>\n",
    "<td>45000</td>\n",
    "</tr>\n",
    "<tr>\n",
    "<td>A</td>\n",
    "<td>Hyderabad</td>\n",
    "<td>50000</td>\n",
    "</tr>\n",
    "<tr>\n",
    "<td>C</td>\n",
    "<td>Mumbai</td>\n",
    "<td>90000</td>\n",
    "</tr>\n",
    "<tr>\n",
    "<td>D</td>\n",
    "<td>Pune</td>\n",
    "<td>89000</td>\n",
    "</tr>\n",
    "<tr>\n",
    "<td>A</td>\n",
    "<td>Delhi</td>\n",
    "<td>87000</td>\n",
    "</tr>\n",
    "<tr>\n",
    "<td>D</td>\n",
    "<td>Hyderabad</td>\n",
    "<td>85000</td>\n",
    "</tr>\n",
    "<tr>\n",
    "<td>A</td>\n",
    "<td>Pune</td>\n",
    "<td>78000</td>\n",
    "</tr>\n",
    "<tr>\n",
    "<td>C</td>\n",
    "<td>Mumbai</td>\n",
    "<td>89000</td>\n",
    "</tr>\n",
    "<tr>\n",
    "<td>B</td>\n",
    "<td>Pune</td>\n",
    "<td>70000</td>\n",
    "</tr>\n",
    "   \n",
    "</table>"
   ]
  },
  {
   "cell_type": "code",
   "execution_count": 8,
   "metadata": {},
   "outputs": [
    {
     "data": {
      "text/html": [
       "<div>\n",
       "<style scoped>\n",
       "    .dataframe tbody tr th:only-of-type {\n",
       "        vertical-align: middle;\n",
       "    }\n",
       "\n",
       "    .dataframe tbody tr th {\n",
       "        vertical-align: top;\n",
       "    }\n",
       "\n",
       "    .dataframe thead th {\n",
       "        text-align: right;\n",
       "    }\n",
       "</style>\n",
       "<table border=\"1\" class=\"dataframe\">\n",
       "  <thead>\n",
       "    <tr style=\"text-align: right;\">\n",
       "      <th>Location</th>\n",
       "      <th>Delhi</th>\n",
       "      <th>Hyderabad</th>\n",
       "      <th>Mumbai</th>\n",
       "      <th>Pune</th>\n",
       "    </tr>\n",
       "    <tr>\n",
       "      <th>Store</th>\n",
       "      <th></th>\n",
       "      <th></th>\n",
       "      <th></th>\n",
       "      <th></th>\n",
       "    </tr>\n",
       "  </thead>\n",
       "  <tbody>\n",
       "    <tr>\n",
       "      <th>A</th>\n",
       "      <td>87000.0</td>\n",
       "      <td>56000.0</td>\n",
       "      <td>40000.0</td>\n",
       "      <td>78000.0</td>\n",
       "    </tr>\n",
       "    <tr>\n",
       "      <th>B</th>\n",
       "      <td>NaN</td>\n",
       "      <td>NaN</td>\n",
       "      <td>NaN</td>\n",
       "      <td>57800.0</td>\n",
       "    </tr>\n",
       "    <tr>\n",
       "      <th>C</th>\n",
       "      <td>NaN</td>\n",
       "      <td>NaN</td>\n",
       "      <td>89500.0</td>\n",
       "      <td>NaN</td>\n",
       "    </tr>\n",
       "    <tr>\n",
       "      <th>D</th>\n",
       "      <td>NaN</td>\n",
       "      <td>85000.0</td>\n",
       "      <td>NaN</td>\n",
       "      <td>89000.0</td>\n",
       "    </tr>\n",
       "  </tbody>\n",
       "</table>\n",
       "</div>"
      ],
      "text/plain": [
       "Location    Delhi  Hyderabad   Mumbai     Pune\n",
       "Store                                         \n",
       "A         87000.0    56000.0  40000.0  78000.0\n",
       "B             NaN        NaN      NaN  57800.0\n",
       "C             NaN        NaN  89500.0      NaN\n",
       "D             NaN    85000.0      NaN  89000.0"
      ]
     },
     "execution_count": 8,
     "metadata": {},
     "output_type": "execute_result"
    }
   ],
   "source": [
    "pd.pivot_table(df_store,values='Sales',columns='Location',index=['Store'])"
   ]
  },
  {
   "cell_type": "markdown",
   "metadata": {},
   "source": [
    "<table align=\"left\" width=100%>\n",
    "    <tr>\n",
    "        <td width=\"6%\">\n",
    "            <img src=\"question_icon.png\">\n",
    "        </td>\n",
    "        <td>\n",
    "            <div align=\"left\">\n",
    "                <font color=\"#21618C\" size=4px>\n",
    "                    <b> 5. Compute the minimum sales for each store in every city\n",
    "                    </b>\n",
    "                </font>\n",
    "            </div>\n",
    "        </td>\n",
    "    </tr>\n",
    "</table>"
   ]
  },
  {
   "cell_type": "markdown",
   "metadata": {},
   "source": [
    "**Use the dataframe given below:**\n",
    "   \n",
    "<table>\n",
    "<tr>\n",
    "<th>Store</th>\n",
    "<th>Location</th>\n",
    "<th>Sales</th>\n",
    "</tr>\n",
    "<tr>\n",
    "<td>A</td>\n",
    "<td>Mumbai</td>\n",
    "<td>40000</td>\n",
    "</tr>\n",
    "<tr>\n",
    "<td>B</td>\n",
    "<td>Pune</td>\n",
    "<td>45000</td>\n",
    "</tr>\n",
    "<tr>\n",
    "<td>A</td>\n",
    "<td>Hyderabad</td>\n",
    "<td>50000</td>\n",
    "</tr>\n",
    "<tr>\n",
    "<td>C</td>\n",
    "<td>Mumbai</td>\n",
    "<td>90000</td>\n",
    "</tr>\n",
    "<tr>\n",
    "<td>D</td>\n",
    "<td>Pune</td>\n",
    "<td>89000</td>\n",
    "</tr>\n",
    "<tr>\n",
    "<td>A</td>\n",
    "<td>Delhi</td>\n",
    "<td>87000</td>\n",
    "</tr>\n",
    "<tr>\n",
    "<td>D</td>\n",
    "<td>Hyderabad</td>\n",
    "<td>85000</td>\n",
    "</tr>\n",
    "<tr>\n",
    "<td>A</td>\n",
    "<td>Pune</td>\n",
    "<td>78000</td>\n",
    "</tr>\n",
    "<tr>\n",
    "<td>C</td>\n",
    "<td>Mumbai</td>\n",
    "<td>89000</td>\n",
    "</tr>\n",
    "<tr>\n",
    "<td>B</td>\n",
    "<td>Pune</td>\n",
    "<td>70000</td>\n",
    "</tr>\n",
    "   \n",
    "</table>"
   ]
  },
  {
   "cell_type": "code",
   "execution_count": 11,
   "metadata": {},
   "outputs": [
    {
     "data": {
      "text/html": [
       "<div>\n",
       "<style scoped>\n",
       "    .dataframe tbody tr th:only-of-type {\n",
       "        vertical-align: middle;\n",
       "    }\n",
       "\n",
       "    .dataframe tbody tr th {\n",
       "        vertical-align: top;\n",
       "    }\n",
       "\n",
       "    .dataframe thead th {\n",
       "        text-align: right;\n",
       "    }\n",
       "</style>\n",
       "<table border=\"1\" class=\"dataframe\">\n",
       "  <thead>\n",
       "    <tr style=\"text-align: right;\">\n",
       "      <th>Location</th>\n",
       "      <th>Delhi</th>\n",
       "      <th>Hyderabad</th>\n",
       "      <th>Mumbai</th>\n",
       "      <th>Pune</th>\n",
       "    </tr>\n",
       "    <tr>\n",
       "      <th>Store</th>\n",
       "      <th></th>\n",
       "      <th></th>\n",
       "      <th></th>\n",
       "      <th></th>\n",
       "    </tr>\n",
       "  </thead>\n",
       "  <tbody>\n",
       "    <tr>\n",
       "      <th>A</th>\n",
       "      <td>87000.0</td>\n",
       "      <td>56000.0</td>\n",
       "      <td>40000.0</td>\n",
       "      <td>78000.0</td>\n",
       "    </tr>\n",
       "    <tr>\n",
       "      <th>B</th>\n",
       "      <td>NaN</td>\n",
       "      <td>NaN</td>\n",
       "      <td>NaN</td>\n",
       "      <td>45600.0</td>\n",
       "    </tr>\n",
       "    <tr>\n",
       "      <th>C</th>\n",
       "      <td>NaN</td>\n",
       "      <td>NaN</td>\n",
       "      <td>89000.0</td>\n",
       "      <td>NaN</td>\n",
       "    </tr>\n",
       "    <tr>\n",
       "      <th>D</th>\n",
       "      <td>NaN</td>\n",
       "      <td>85000.0</td>\n",
       "      <td>NaN</td>\n",
       "      <td>89000.0</td>\n",
       "    </tr>\n",
       "  </tbody>\n",
       "</table>\n",
       "</div>"
      ],
      "text/plain": [
       "Location    Delhi  Hyderabad   Mumbai     Pune\n",
       "Store                                         \n",
       "A         87000.0    56000.0  40000.0  78000.0\n",
       "B             NaN        NaN      NaN  45600.0\n",
       "C             NaN        NaN  89000.0      NaN\n",
       "D             NaN    85000.0      NaN  89000.0"
      ]
     },
     "execution_count": 11,
     "metadata": {},
     "output_type": "execute_result"
    }
   ],
   "source": [
    "pd.pivot_table(df_store, values = 'Sales', index = ['Store'], columns = 'Location', aggfunc = 'min')"
   ]
  },
  {
   "cell_type": "markdown",
   "metadata": {},
   "source": [
    "<a id='Duplicating'></a>\n",
    "## 3. Duplicate"
   ]
  },
  {
   "cell_type": "markdown",
   "metadata": {},
   "source": [
    "<table align=\"left\" width=100%>\n",
    "    <tr>\n",
    "        <td width=\"6%\">\n",
    "            <img src=\"question_icon.png\">\n",
    "        </td>\n",
    "        <td>\n",
    "            <div align=\"left\">\n",
    "                <font color=\"#21618C\" size=4px>\n",
    "                    <b> 6. Find duplicate rows in the data\n",
    "                    </b>\n",
    "                </font>\n",
    "            </div>\n",
    "        </td>\n",
    "    </tr>\n",
    "</table>"
   ]
  },
  {
   "cell_type": "markdown",
   "metadata": {},
   "source": [
    "**Use the dataframe given below:**\n",
    "   \n",
    "<table>\n",
    "<tr>\n",
    "<th>Name</th>\n",
    "<th>Salary</th>\n",
    "<th>City</th>\n",
    "</tr>\n",
    "<tr>\n",
    "<td>John</td>\n",
    "<td>3400</td>\n",
    "<td>Sydeny</td>\n",
    "</tr>\n",
    "<tr>\n",
    "<td>Robert</td>\n",
    "<td>3000</td>\n",
    "<td>Chicago</td>\n",
    "</tr>\n",
    "<tr>\n",
    "<td>Aadi</td>\n",
    "<td>1600</td>\n",
    "<td>New York</td>\n",
    "</tr>\n",
    "<tr>\n",
    "<td>Robert</td>\n",
    "<td>3000</td>\n",
    "<td>Chicago</td>\n",
    "</tr>\n",
    "<tr>\n",
    "<td>Robert</td>\n",
    "<td>3000</td>\n",
    "<td>Chicago</td>\n",
    "</tr>\n",
    "<tr>\n",
    "<td>Robert</td>\n",
    "<td>3000</td>\n",
    "<td>Texas</td>\n",
    "</tr>\n",
    "<tr>\n",
    "<td>Aadi</td>\n",
    "<td>4000</td>\n",
    "<td>London</td>\n",
    "</tr>\n",
    "<tr>\n",
    "<td>Sachine</td>\n",
    "<td>3000</td>\n",
    "<td>Chicago</td>\n",
    "</tr>\n",
    "   \n",
    "</table>"
   ]
  },
  {
   "cell_type": "code",
   "execution_count": 20,
   "metadata": {},
   "outputs": [
    {
     "data": {
      "text/plain": [
       "2"
      ]
     },
     "execution_count": 20,
     "metadata": {},
     "output_type": "execute_result"
    }
   ],
   "source": [
    "df_employee = [('John', 3400, 'Sydeny'),\n",
    "            ('Robert', 3000, 'Chicago'),\n",
    "            ('Aadi', 1600, 'New York'),\n",
    "            ('Robert', 3000, 'Chicago'),\n",
    "            ('Robert', 3000, 'Chicago'),\n",
    "            ('Robert', 3000, 'Texas'),\n",
    "            ('Aadi', 4000, 'London'),\n",
    "            ('Sachin', 3000, 'Chicago')]\n",
    " \n",
    "# create a DataFrame object\n",
    "df_employee = pd.DataFrame(df_employee, columns=['Name', 'Salary', 'City'])\n",
    "df_employee.duplicated().sum()\n"
   ]
  },
  {
   "cell_type": "markdown",
   "metadata": {},
   "source": [
    "<table align=\"left\" width=100%>\n",
    "    <tr>\n",
    "        <td width=\"6%\">\n",
    "            <img src=\"question_icon.png\">\n",
    "        </td>\n",
    "        <td>\n",
    "            <div align=\"left\">\n",
    "                <font color=\"#21618C\" size=4px>\n",
    "                    <b> 7. Select duplicate rows, except the last occurrence \n",
    "                    </b>\n",
    "                </font>\n",
    "            </div>\n",
    "        </td>\n",
    "    </tr>\n",
    "</table>"
   ]
  },
  {
   "cell_type": "markdown",
   "metadata": {},
   "source": [
    "**Use the dataframe given below:**\n",
    "   \n",
    "<table>\n",
    "<tr>\n",
    "<th>Name</th>\n",
    "<th>Salary</th>\n",
    "<th>City</th>\n",
    "</tr>\n",
    "<tr>\n",
    "<td>John</td>\n",
    "<td>3400</td>\n",
    "<td>Sydeny</td>\n",
    "</tr>\n",
    "<tr>\n",
    "<td>Robert</td>\n",
    "<td>3000</td>\n",
    "<td>Chicago</td>\n",
    "</tr>\n",
    "<tr>\n",
    "<td>Aadi</td>\n",
    "<td>1600</td>\n",
    "<td>New York</td>\n",
    "</tr>\n",
    "<tr>\n",
    "<td>Robert</td>\n",
    "<td>3000</td>\n",
    "<td>Chicago</td>\n",
    "</tr>\n",
    "<tr>\n",
    "<td>Robert</td>\n",
    "<td>3000</td>\n",
    "<td>Chicago</td>\n",
    "</tr>\n",
    "<tr>\n",
    "<td>Robert</td>\n",
    "<td>3000</td>\n",
    "<td>Texas</td>\n",
    "</tr>\n",
    "<tr>\n",
    "<td>Aadi</td>\n",
    "<td>4000</td>\n",
    "<td>London</td>\n",
    "</tr>\n",
    "<tr>\n",
    "<td>Sachine</td>\n",
    "<td>3000</td>\n",
    "<td>Chicago</td>\n",
    "</tr>\n",
    "   \n",
    "</table>"
   ]
  },
  {
   "cell_type": "code",
   "execution_count": 22,
   "metadata": {},
   "outputs": [
    {
     "data": {
      "text/html": [
       "<div>\n",
       "<style scoped>\n",
       "    .dataframe tbody tr th:only-of-type {\n",
       "        vertical-align: middle;\n",
       "    }\n",
       "\n",
       "    .dataframe tbody tr th {\n",
       "        vertical-align: top;\n",
       "    }\n",
       "\n",
       "    .dataframe thead th {\n",
       "        text-align: right;\n",
       "    }\n",
       "</style>\n",
       "<table border=\"1\" class=\"dataframe\">\n",
       "  <thead>\n",
       "    <tr style=\"text-align: right;\">\n",
       "      <th></th>\n",
       "      <th>Name</th>\n",
       "      <th>Salary</th>\n",
       "      <th>City</th>\n",
       "    </tr>\n",
       "  </thead>\n",
       "  <tbody>\n",
       "    <tr>\n",
       "      <th>1</th>\n",
       "      <td>Robert</td>\n",
       "      <td>3000</td>\n",
       "      <td>Chicago</td>\n",
       "    </tr>\n",
       "    <tr>\n",
       "      <th>3</th>\n",
       "      <td>Robert</td>\n",
       "      <td>3000</td>\n",
       "      <td>Chicago</td>\n",
       "    </tr>\n",
       "  </tbody>\n",
       "</table>\n",
       "</div>"
      ],
      "text/plain": [
       "     Name  Salary     City\n",
       "1  Robert    3000  Chicago\n",
       "3  Robert    3000  Chicago"
      ]
     },
     "execution_count": 22,
     "metadata": {},
     "output_type": "execute_result"
    }
   ],
   "source": [
    "df_duplicate_rows = df_employee[df_employee.duplicated(keep='last')]\n",
    "df_duplicate_rows"
   ]
  },
  {
   "cell_type": "markdown",
   "metadata": {},
   "source": [
    "<table align=\"left\" width=100%>\n",
    "    <tr>\n",
    "        <td width=\"6%\">\n",
    "            <img src=\"question_icon.png\">\n",
    "        </td>\n",
    "        <td>\n",
    "            <div align=\"left\">\n",
    "                <font color=\"#21618C\" size=4px>\n",
    "                    <b> 8.  Select the duplicated rows based on the column names 'Salary' and 'City'\n",
    "                    </b>\n",
    "                </font>\n",
    "            </div>\n",
    "        </td>\n",
    "    </tr>\n",
    "</table>"
   ]
  },
  {
   "cell_type": "markdown",
   "metadata": {},
   "source": [
    "**Use the dataframe given below:**\n",
    "   \n",
    "<table>\n",
    "<tr>\n",
    "<th>Name</th>\n",
    "<th>Salary</th>\n",
    "<th>City</th>\n",
    "</tr>\n",
    "<tr>\n",
    "<td>John</td>\n",
    "<td>3400</td>\n",
    "<td>Sydeny</td>\n",
    "</tr>\n",
    "<tr>\n",
    "<td>Robert</td>\n",
    "<td>3000</td>\n",
    "<td>Chicago</td>\n",
    "</tr>\n",
    "<tr>\n",
    "<td>Aadi</td>\n",
    "<td>1600</td>\n",
    "<td>New York</td>\n",
    "</tr>\n",
    "<tr>\n",
    "<td>Robert</td>\n",
    "<td>3000</td>\n",
    "<td>Chicago</td>\n",
    "</tr>\n",
    "<tr>\n",
    "<td>Robert</td>\n",
    "<td>3000</td>\n",
    "<td>Chicago</td>\n",
    "</tr>\n",
    "<tr>\n",
    "<td>Robert</td>\n",
    "<td>3000</td>\n",
    "<td>Texas</td>\n",
    "</tr>\n",
    "<tr>\n",
    "<td>Aadi</td>\n",
    "<td>4000</td>\n",
    "<td>London</td>\n",
    "</tr>\n",
    "<tr>\n",
    "<td>Sachine</td>\n",
    "<td>3000</td>\n",
    "<td>Chicago</td>\n",
    "</tr>\n",
    "   \n",
    "</table>"
   ]
  },
  {
   "cell_type": "code",
   "execution_count": 24,
   "metadata": {},
   "outputs": [
    {
     "data": {
      "text/html": [
       "<div>\n",
       "<style scoped>\n",
       "    .dataframe tbody tr th:only-of-type {\n",
       "        vertical-align: middle;\n",
       "    }\n",
       "\n",
       "    .dataframe tbody tr th {\n",
       "        vertical-align: top;\n",
       "    }\n",
       "\n",
       "    .dataframe thead th {\n",
       "        text-align: right;\n",
       "    }\n",
       "</style>\n",
       "<table border=\"1\" class=\"dataframe\">\n",
       "  <thead>\n",
       "    <tr style=\"text-align: right;\">\n",
       "      <th></th>\n",
       "      <th>Name</th>\n",
       "      <th>Salary</th>\n",
       "      <th>City</th>\n",
       "    </tr>\n",
       "  </thead>\n",
       "  <tbody>\n",
       "    <tr>\n",
       "      <th>3</th>\n",
       "      <td>Robert</td>\n",
       "      <td>3000</td>\n",
       "      <td>Chicago</td>\n",
       "    </tr>\n",
       "    <tr>\n",
       "      <th>4</th>\n",
       "      <td>Robert</td>\n",
       "      <td>3000</td>\n",
       "      <td>Chicago</td>\n",
       "    </tr>\n",
       "    <tr>\n",
       "      <th>7</th>\n",
       "      <td>Sachin</td>\n",
       "      <td>3000</td>\n",
       "      <td>Chicago</td>\n",
       "    </tr>\n",
       "  </tbody>\n",
       "</table>\n",
       "</div>"
      ],
      "text/plain": [
       "     Name  Salary     City\n",
       "3  Robert    3000  Chicago\n",
       "4  Robert    3000  Chicago\n",
       "7  Sachin    3000  Chicago"
      ]
     },
     "execution_count": 24,
     "metadata": {},
     "output_type": "execute_result"
    }
   ],
   "source": [
    "df_duplicate_rows = df_employee[df_employee.duplicated(['Salary', 'City'])]\n",
    "df_duplicate_rows"
   ]
  },
  {
   "cell_type": "markdown",
   "metadata": {},
   "source": [
    "<a id='Replacing'></a>\n",
    "## 4. Replace"
   ]
  },
  {
   "cell_type": "markdown",
   "metadata": {},
   "source": [
    "<table align=\"left\" width=100%>\n",
    "    <tr>\n",
    "        <td width=\"6%\">\n",
    "            <img src=\"question_icon.png\">\n",
    "        </td>\n",
    "        <td>\n",
    "            <div align=\"left\">\n",
    "                <font color=\"#21618C\" size=4px>\n",
    "                    <b> 9.  Replace 'football' with 'hockey' in the column tournament \n",
    "                    </b>\n",
    "                </font>\n",
    "            </div>\n",
    "        </td>\n",
    "    </tr>\n",
    "</table>"
   ]
  },
  {
   "cell_type": "markdown",
   "metadata": {},
   "source": [
    " \n",
    "<table>\n",
    "<tr>\n",
    "<th>Days</th>\n",
    "<th>Tournament</th>\n",
    "</tr>\n",
    "<tr>\n",
    "<td>Mon</td>\n",
    "<td>Football</td>\n",
    "</tr>\n",
    "<tr>\n",
    "<td>Tues</td>\n",
    "<td>Cricket</td>\n",
    "</tr>\n",
    "<tr>\n",
    "<td>Wed</td>\n",
    "<td>Football</td>\n",
    "</tr>\n",
    "<tr>\n",
    "<td>Thurs</td>\n",
    "<td>Football</td>\n",
    "</tr>\n",
    "<tr>\n",
    "<td>Fri</td>\n",
    "<td>Cricket</td>\n",
    "</tr>\n",
    "   \n",
    "</table>"
   ]
  },
  {
   "cell_type": "code",
   "execution_count": 26,
   "metadata": {},
   "outputs": [],
   "source": [
    "df_sports = pd.DataFrame({'Day' : ['Mon', 'Tues', 'Wed', 'Thurs', 'Fri'], \n",
    "                'Tournament' : ['Football', 'Cricket', 'Football', 'Football', 'Cricket']})\n",
    "df_sports.loc[df_sports['Tournament']=='Football']='Hockey'"
   ]
  },
  {
   "cell_type": "code",
   "execution_count": 27,
   "metadata": {},
   "outputs": [
    {
     "data": {
      "text/html": [
       "<div>\n",
       "<style scoped>\n",
       "    .dataframe tbody tr th:only-of-type {\n",
       "        vertical-align: middle;\n",
       "    }\n",
       "\n",
       "    .dataframe tbody tr th {\n",
       "        vertical-align: top;\n",
       "    }\n",
       "\n",
       "    .dataframe thead th {\n",
       "        text-align: right;\n",
       "    }\n",
       "</style>\n",
       "<table border=\"1\" class=\"dataframe\">\n",
       "  <thead>\n",
       "    <tr style=\"text-align: right;\">\n",
       "      <th></th>\n",
       "      <th>Day</th>\n",
       "      <th>Tournament</th>\n",
       "    </tr>\n",
       "  </thead>\n",
       "  <tbody>\n",
       "    <tr>\n",
       "      <th>0</th>\n",
       "      <td>Hockey</td>\n",
       "      <td>Hockey</td>\n",
       "    </tr>\n",
       "    <tr>\n",
       "      <th>1</th>\n",
       "      <td>Tues</td>\n",
       "      <td>Cricket</td>\n",
       "    </tr>\n",
       "    <tr>\n",
       "      <th>2</th>\n",
       "      <td>Hockey</td>\n",
       "      <td>Hockey</td>\n",
       "    </tr>\n",
       "    <tr>\n",
       "      <th>3</th>\n",
       "      <td>Hockey</td>\n",
       "      <td>Hockey</td>\n",
       "    </tr>\n",
       "    <tr>\n",
       "      <th>4</th>\n",
       "      <td>Fri</td>\n",
       "      <td>Cricket</td>\n",
       "    </tr>\n",
       "  </tbody>\n",
       "</table>\n",
       "</div>"
      ],
      "text/plain": [
       "      Day Tournament\n",
       "0  Hockey     Hockey\n",
       "1    Tues    Cricket\n",
       "2  Hockey     Hockey\n",
       "3  Hockey     Hockey\n",
       "4     Fri    Cricket"
      ]
     },
     "execution_count": 27,
     "metadata": {},
     "output_type": "execute_result"
    }
   ],
   "source": [
    "df_sports"
   ]
  },
  {
   "cell_type": "markdown",
   "metadata": {},
   "source": [
    "<table align=\"left\" width=100%>\n",
    "    <tr>\n",
    "        <td width=\"6%\">\n",
    "            <img src=\"question_icon.png\">\n",
    "        </td>\n",
    "        <td>\n",
    "            <div align=\"left\">\n",
    "                <font color=\"#21618C\" size=4px>\n",
    "                    <b> 10.  Replace all 0's with male and all 1's with female in the gender column\n",
    "                    </b>\n",
    "                </font>\n",
    "            </div>\n",
    "        </td>\n",
    "    </tr>\n",
    "</table>"
   ]
  },
  {
   "cell_type": "markdown",
   "metadata": {},
   "source": [
    "**Use the dataframe given below:**\n",
    "   \n",
    "<table>\n",
    "<tr>\n",
    "<th>Name</th>\n",
    "<th>Num_Children</th>\n",
    "<th>Gender</th>\n",
    "</tr>\n",
    "<tr>\n",
    "<td>John</td>\n",
    "<td>0</td>\n",
    "<td>0</td>\n",
    "</tr>\n",
    "<tr>\n",
    "<td>Robert</td>\n",
    "<td>4</td>\n",
    "<td>0</td>\n",
    "</tr>\n",
    "<tr>\n",
    "<td>Johny</td>\n",
    "<td>5</td>\n",
    "<td>0</td>\n",
    "</tr>\n",
    "<tr>\n",
    "<td>Mia</td>\n",
    "<td>3</td>\n",
    "<td>1</td>\n",
    "</tr>\n",
    "   \n",
    "</table>"
   ]
  },
  {
   "cell_type": "code",
   "execution_count": 31,
   "metadata": {},
   "outputs": [
    {
     "data": {
      "text/html": [
       "<div>\n",
       "<style scoped>\n",
       "    .dataframe tbody tr th:only-of-type {\n",
       "        vertical-align: middle;\n",
       "    }\n",
       "\n",
       "    .dataframe tbody tr th {\n",
       "        vertical-align: top;\n",
       "    }\n",
       "\n",
       "    .dataframe thead th {\n",
       "        text-align: right;\n",
       "    }\n",
       "</style>\n",
       "<table border=\"1\" class=\"dataframe\">\n",
       "  <thead>\n",
       "    <tr style=\"text-align: right;\">\n",
       "      <th></th>\n",
       "      <th>Name</th>\n",
       "      <th>Num_Children</th>\n",
       "      <th>Gender</th>\n",
       "    </tr>\n",
       "  </thead>\n",
       "  <tbody>\n",
       "    <tr>\n",
       "      <th>0</th>\n",
       "      <td>John</td>\n",
       "      <td>0</td>\n",
       "      <td>male</td>\n",
       "    </tr>\n",
       "    <tr>\n",
       "      <th>1</th>\n",
       "      <td>Robert</td>\n",
       "      <td>4</td>\n",
       "      <td>male</td>\n",
       "    </tr>\n",
       "    <tr>\n",
       "      <th>2</th>\n",
       "      <td>Jonny</td>\n",
       "      <td>5</td>\n",
       "      <td>male</td>\n",
       "    </tr>\n",
       "    <tr>\n",
       "      <th>3</th>\n",
       "      <td>Mia</td>\n",
       "      <td>3</td>\n",
       "      <td>female</td>\n",
       "    </tr>\n",
       "  </tbody>\n",
       "</table>\n",
       "</div>"
      ],
      "text/plain": [
       "     Name  Num_Children  Gender\n",
       "0    John             0    male\n",
       "1  Robert             4    male\n",
       "2   Jonny             5    male\n",
       "3     Mia             3  female"
      ]
     },
     "execution_count": 31,
     "metadata": {},
     "output_type": "execute_result"
    }
   ],
   "source": [
    "df_personal = pd.DataFrame({\n",
    "    'Name':['John', 'Robert', 'Jonny', 'Mia'],\n",
    "    'Num_Children':[0,4,5,3],\n",
    "    'Gender':[0,0,0,1]})\n",
    "df_personal.replace({'Gender':{0:'male', 1:'female'}})"
   ]
  },
  {
   "cell_type": "markdown",
   "metadata": {},
   "source": [
    "<a id='Indexing'></a>\n",
    "## 5. Index"
   ]
  },
  {
   "cell_type": "markdown",
   "metadata": {},
   "source": [
    "<table align=\"left\" width=100%>\n",
    "    <tr>\n",
    "        <td width=\"6%\">\n",
    "            <img src=\"question_icon.png\">\n",
    "        </td>\n",
    "        <td>\n",
    "            <div align=\"left\">\n",
    "                <font color=\"#21618C\" size=4px>\n",
    "                    <b> 11.  Set 'Name' and 'City' columns as indices for the below dataframe\n",
    "                    </b>\n",
    "                </font>\n",
    "            </div>\n",
    "        </td>\n",
    "    </tr>\n",
    "</table>"
   ]
  },
  {
   "cell_type": "markdown",
   "metadata": {},
   "source": [
    "**Use the dataframe given below:**\n",
    "   \n",
    "<table>\n",
    "<tr>\n",
    "<th>Name</th>\n",
    "<th>City</th>\n",
    "<th>Sales</th>\n",
    "<th>Expenses</th>\n",
    "</tr>\n",
    "<tr>\n",
    "<td>John</td>\n",
    "<td>New York</td>\n",
    "<td>60000</td>\n",
    "<td>12000</td>\n",
    "</tr>\n",
    "<tr>\n",
    "<td>Robert</td>\n",
    "<td>Chicago</td>\n",
    "<td>42000</td>\n",
    "<td>33000</td>\n",
    "</tr>\n",
    "<tr>\n",
    "<td>Jony</td>\n",
    "<td>Texas</td>\n",
    "<td>50000</td>\n",
    "<td>40000</td>\n",
    "</tr>\n",
    "<tr>\n",
    "<td>Mia</td>\n",
    "<td>California</td>\n",
    "<td>24000</td>\n",
    "<td>34000</td>\n",
    "</tr>\n",
    "<tr>\n",
    "<td>Edward</td>\n",
    "<td>Sydney</td>\n",
    "<td>12000</td>\n",
    "<td>28000</td>\n",
    "</tr>\n",
    "<tr>\n",
    "<td>Thomas</td>\n",
    "<td>New York</td>\n",
    "<td>82000</td>\n",
    "<td>19000</td>\n",
    "</tr>\n",
    "<tr>\n",
    "<td>Ethan</td>\n",
    "<td>Chicago</td>\n",
    "<td>59000</td>\n",
    "<td>32000</td>\n",
    "</tr>\n",
    "<tr>\n",
    "<td>Olivia</td>\n",
    "<td>Sydeney</td>\n",
    "<td>85000</td>\n",
    "<td>10000</td>\n",
    "</tr>\n",
    "<tr>\n",
    "<td>Arun</td>\n",
    "<td>California</td>\n",
    "<td>97000</td>\n",
    "<td>49000</td>\n",
    "</tr>\n",
    "<tr>\n",
    "<td>Ankita</td>\n",
    "<td>Texas</td>\n",
    "<td>35000</td>\n",
    "<td>34000</td>\n",
    "</tr>\n",
    "<tr>\n",
    "<td>Paulo</td>\n",
    "<td>Chicago</td>\n",
    "<td>47000</td>\n",
    "<td>55000</td>\n",
    "</tr>\n",
    "\n",
    "</table>"
   ]
  },
  {
   "cell_type": "code",
   "execution_count": 33,
   "metadata": {},
   "outputs": [
    {
     "data": {
      "text/html": [
       "<div>\n",
       "<style scoped>\n",
       "    .dataframe tbody tr th:only-of-type {\n",
       "        vertical-align: middle;\n",
       "    }\n",
       "\n",
       "    .dataframe tbody tr th {\n",
       "        vertical-align: top;\n",
       "    }\n",
       "\n",
       "    .dataframe thead th {\n",
       "        text-align: right;\n",
       "    }\n",
       "</style>\n",
       "<table border=\"1\" class=\"dataframe\">\n",
       "  <thead>\n",
       "    <tr style=\"text-align: right;\">\n",
       "      <th></th>\n",
       "      <th></th>\n",
       "      <th>Sales</th>\n",
       "      <th>Expenses</th>\n",
       "    </tr>\n",
       "    <tr>\n",
       "      <th>Name</th>\n",
       "      <th>City</th>\n",
       "      <th></th>\n",
       "      <th></th>\n",
       "    </tr>\n",
       "  </thead>\n",
       "  <tbody>\n",
       "    <tr>\n",
       "      <th>John</th>\n",
       "      <th>New York</th>\n",
       "      <td>60000</td>\n",
       "      <td>12000</td>\n",
       "    </tr>\n",
       "    <tr>\n",
       "      <th>Robert</th>\n",
       "      <th>Chicago</th>\n",
       "      <td>42000</td>\n",
       "      <td>33000</td>\n",
       "    </tr>\n",
       "    <tr>\n",
       "      <th>Jonny</th>\n",
       "      <th>Texas</th>\n",
       "      <td>50000</td>\n",
       "      <td>40000</td>\n",
       "    </tr>\n",
       "    <tr>\n",
       "      <th>Mia</th>\n",
       "      <th>California</th>\n",
       "      <td>24000</td>\n",
       "      <td>34000</td>\n",
       "    </tr>\n",
       "    <tr>\n",
       "      <th>Edward</th>\n",
       "      <th>Sydney</th>\n",
       "      <td>12000</td>\n",
       "      <td>28000</td>\n",
       "    </tr>\n",
       "    <tr>\n",
       "      <th>Thomas</th>\n",
       "      <th>New York</th>\n",
       "      <td>82000</td>\n",
       "      <td>19000</td>\n",
       "    </tr>\n",
       "    <tr>\n",
       "      <th>Ethan</th>\n",
       "      <th>Chicago</th>\n",
       "      <td>59000</td>\n",
       "      <td>32000</td>\n",
       "    </tr>\n",
       "    <tr>\n",
       "      <th>Olivia</th>\n",
       "      <th>Sydney</th>\n",
       "      <td>85000</td>\n",
       "      <td>10000</td>\n",
       "    </tr>\n",
       "    <tr>\n",
       "      <th>Arun</th>\n",
       "      <th>California</th>\n",
       "      <td>97000</td>\n",
       "      <td>49000</td>\n",
       "    </tr>\n",
       "    <tr>\n",
       "      <th>Anika</th>\n",
       "      <th>Texas</th>\n",
       "      <td>35000</td>\n",
       "      <td>34000</td>\n",
       "    </tr>\n",
       "    <tr>\n",
       "      <th>Paulo</th>\n",
       "      <th>Chicago</th>\n",
       "      <td>47000</td>\n",
       "      <td>55000</td>\n",
       "    </tr>\n",
       "  </tbody>\n",
       "</table>\n",
       "</div>"
      ],
      "text/plain": [
       "                    Sales  Expenses\n",
       "Name   City                        \n",
       "John   New York     60000     12000\n",
       "Robert Chicago      42000     33000\n",
       "Jonny  Texas        50000     40000\n",
       "Mia     California  24000     34000\n",
       "Edward Sydney       12000     28000\n",
       "Thomas New York     82000     19000\n",
       "Ethan  Chicago      59000     32000\n",
       "Olivia Sydney       85000     10000\n",
       "Arun   California   97000     49000\n",
       "Anika  Texas        35000     34000\n",
       "Paulo  Chicago      47000     55000"
      ]
     },
     "execution_count": 33,
     "metadata": {},
     "output_type": "execute_result"
    }
   ],
   "source": [
    "df_sales = pd.DataFrame({\n",
    "\"Name\":['John', 'Robert', 'Jonny', 'Mia',\"Edward\",\"Thomas\",\"Ethan\",\"Olivia\",\"Arun\",\"Anika\",\"Paulo\"]\n",
    ",\"City\":[\"New York\",\"Chicago\",\"Texas\",\" California\",\"Sydney\",\"New York\",\"Chicago\",\"Sydney\",\"California\",\"Texas\",\"Chicago\"]\n",
    ",\"Sales\":[60000,42000,50000,24000,12000,82000,59000,85000,97000,35000,47000]\n",
    ",\"Expenses\":[12000,33000,40000,34000,28000,19000,32000,10000,49000,34000,55000]})\n",
    "df_sales.set_index(['Name','City'])"
   ]
  },
  {
   "cell_type": "markdown",
   "metadata": {},
   "source": [
    "<a id='merge'></a>\n",
    "## 6. Merge, Join, Concatenate[Prerequisite]"
   ]
  },
  {
   "cell_type": "markdown",
   "metadata": {},
   "source": [
    "<table align=\"left\" width=100%>\n",
    "    <tr>\n",
    "        <td width=\"6%\">\n",
    "            <img src=\"question_icon.png\">\n",
    "        </td>\n",
    "        <td>\n",
    "            <div align=\"left\">\n",
    "                <font color=\"#21618C\" size=4px>\n",
    "                    <b> 12. Merge the given dataframes on the column 'Brand'\n",
    "                    </b>\n",
    "                </font>\n",
    "            </div>\n",
    "        </td>\n",
    "    </tr>\n",
    "</table>"
   ]
  },
  {
   "cell_type": "markdown",
   "metadata": {},
   "source": [
    "**Use the dataframe given below:**\n",
    "   \n",
    "<table>\n",
    "<tr>\n",
    "<th>ID</th>\n",
    "<th>Brand</th>\n",
    "<th>Product</th>\n",
    "</tr>\n",
    "<tr>\n",
    "<td>101</td>\n",
    "<td>Apple</td>\n",
    "<td>iPhone</td>\n",
    "</tr>\n",
    "<tr>\n",
    "<td>102</td>\n",
    "<td>Canon</td>\n",
    "<td>DSLR</td>\n",
    "</tr>\n",
    "<tr>\n",
    "<td>103</td>\n",
    "<td>Samsung</td>\n",
    "<td>SmartPhone</td>\n",
    "</tr>\n",
    "<tr>\n",
    "<td>104</td>\n",
    "<td>Nikon</td>\n",
    "<td>DSLR</td>\n",
    "</tr>\n",
    "<td>105</td>\n",
    "<td>Sony</td>\n",
    "<td>SmartTV</td>\n",
    "</tr>\n",
    "   \n",
    "</table><br>\n",
    "\n",
    "<table>\n",
    "<tr>\n",
    "    <th>ID</th>\n",
    "<th>Brand</th>\n",
    "<th>Quantity_sold</th>\n",
    "</tr>\n",
    "<tr>\n",
    "    <td>101</td>\n",
    "<td>Apple</td>\n",
    "<td>234</td>\n",
    "</tr>\n",
    "<tr>\n",
    "    <td>102</td>\n",
    "<td>Canon</td>\n",
    "<td>344</td>\n",
    "</tr>\n",
    "<tr>\n",
    "    <td>104</td>\n",
    "<td>Samsung</td>\n",
    "<td>345</td>\n",
    "</tr>\n",
    "<tr>\n",
    "    <td>103</td>\n",
    "<td>Nikon</td>\n",
    "<td>262</td>\n",
    "</tr>\n",
    "    <td>105</td>\n",
    "<td>Sony</td>\n",
    "<td>356</td>\n",
    "</tr>\n",
    "</table>"
   ]
  },
  {
   "cell_type": "code",
   "execution_count": 39,
   "metadata": {},
   "outputs": [
    {
     "data": {
      "text/html": [
       "<div>\n",
       "<style scoped>\n",
       "    .dataframe tbody tr th:only-of-type {\n",
       "        vertical-align: middle;\n",
       "    }\n",
       "\n",
       "    .dataframe tbody tr th {\n",
       "        vertical-align: top;\n",
       "    }\n",
       "\n",
       "    .dataframe thead th {\n",
       "        text-align: right;\n",
       "    }\n",
       "</style>\n",
       "<table border=\"1\" class=\"dataframe\">\n",
       "  <thead>\n",
       "    <tr style=\"text-align: right;\">\n",
       "      <th></th>\n",
       "      <th>ID_x</th>\n",
       "      <th>Brand</th>\n",
       "      <th>Product</th>\n",
       "      <th>ID_y</th>\n",
       "      <th>Quantity_sold</th>\n",
       "    </tr>\n",
       "  </thead>\n",
       "  <tbody>\n",
       "    <tr>\n",
       "      <th>0</th>\n",
       "      <td>101</td>\n",
       "      <td>Apple</td>\n",
       "      <td>iPhone</td>\n",
       "      <td>101</td>\n",
       "      <td>234</td>\n",
       "    </tr>\n",
       "    <tr>\n",
       "      <th>1</th>\n",
       "      <td>102</td>\n",
       "      <td>Canon</td>\n",
       "      <td>DSLR</td>\n",
       "      <td>102</td>\n",
       "      <td>344</td>\n",
       "    </tr>\n",
       "    <tr>\n",
       "      <th>2</th>\n",
       "      <td>103</td>\n",
       "      <td>Samsung</td>\n",
       "      <td>SmartPhone</td>\n",
       "      <td>103</td>\n",
       "      <td>345</td>\n",
       "    </tr>\n",
       "    <tr>\n",
       "      <th>3</th>\n",
       "      <td>104</td>\n",
       "      <td>Nikon</td>\n",
       "      <td>DSLR</td>\n",
       "      <td>104</td>\n",
       "      <td>262</td>\n",
       "    </tr>\n",
       "    <tr>\n",
       "      <th>4</th>\n",
       "      <td>105</td>\n",
       "      <td>Sony</td>\n",
       "      <td>SmartTV</td>\n",
       "      <td>105</td>\n",
       "      <td>356</td>\n",
       "    </tr>\n",
       "  </tbody>\n",
       "</table>\n",
       "</div>"
      ],
      "text/plain": [
       "   ID_x    Brand     Product  ID_y  Quantity_sold\n",
       "0   101    Apple      iPhone   101            234\n",
       "1   102    Canon        DSLR   102            344\n",
       "2   103  Samsung  SmartPhone   103            345\n",
       "3   104    Nikon        DSLR   104            262\n",
       "4   105     Sony     SmartTV   105            356"
      ]
     },
     "execution_count": 39,
     "metadata": {},
     "output_type": "execute_result"
    }
   ],
   "source": [
    "df_product = pd.DataFrame({\n",
    "   'ID':[101,102,103,104,105],\n",
    "   'Brand': ['Apple', 'Canon', 'Samsung', 'Nikon', 'Sony'],\n",
    "   'Product':['iPhone','DSLR','SmartPhone','DSLR','SmartTV']})\n",
    "\n",
    "# create a dataframe\n",
    "df_sales = pd.DataFrame({ 'ID':[101,102,103,104,105],\n",
    "                          'Brand': ['Apple', 'Canon', 'Samsung', 'Nikon', 'Sony'],\n",
    "                          'Quantity_sold':[234,344,345,262,356] })\n",
    "\n",
    "\n",
    "df=pd.merge(df_product,df_sales,on=['Brand'])\n",
    "df"
   ]
  },
  {
   "cell_type": "markdown",
   "metadata": {},
   "source": [
    "<table align=\"left\" width=100%>\n",
    "    <tr>\n",
    "        <td width=\"6%\">\n",
    "            <img src=\"question_icon.png\">\n",
    "        </td>\n",
    "        <td>\n",
    "            <div align=\"left\">\n",
    "                <font color=\"#21618C\" size=4px>\n",
    "                    <b> 13. Using the dataframes created in question 16, merge the given dataframes by 'ID' and 'Brand'\n",
    "                    </b>\n",
    "                </font>\n",
    "            </div>\n",
    "        </td>\n",
    "    </tr>\n",
    "</table>"
   ]
  },
  {
   "cell_type": "code",
   "execution_count": 40,
   "metadata": {},
   "outputs": [
    {
     "data": {
      "text/html": [
       "<div>\n",
       "<style scoped>\n",
       "    .dataframe tbody tr th:only-of-type {\n",
       "        vertical-align: middle;\n",
       "    }\n",
       "\n",
       "    .dataframe tbody tr th {\n",
       "        vertical-align: top;\n",
       "    }\n",
       "\n",
       "    .dataframe thead th {\n",
       "        text-align: right;\n",
       "    }\n",
       "</style>\n",
       "<table border=\"1\" class=\"dataframe\">\n",
       "  <thead>\n",
       "    <tr style=\"text-align: right;\">\n",
       "      <th></th>\n",
       "      <th>ID</th>\n",
       "      <th>Brand</th>\n",
       "      <th>Product</th>\n",
       "      <th>Quantity_sold</th>\n",
       "    </tr>\n",
       "  </thead>\n",
       "  <tbody>\n",
       "    <tr>\n",
       "      <th>0</th>\n",
       "      <td>101</td>\n",
       "      <td>Apple</td>\n",
       "      <td>iPhone</td>\n",
       "      <td>234</td>\n",
       "    </tr>\n",
       "    <tr>\n",
       "      <th>1</th>\n",
       "      <td>102</td>\n",
       "      <td>Canon</td>\n",
       "      <td>DSLR</td>\n",
       "      <td>344</td>\n",
       "    </tr>\n",
       "    <tr>\n",
       "      <th>2</th>\n",
       "      <td>103</td>\n",
       "      <td>Samsung</td>\n",
       "      <td>SmartPhone</td>\n",
       "      <td>345</td>\n",
       "    </tr>\n",
       "    <tr>\n",
       "      <th>3</th>\n",
       "      <td>104</td>\n",
       "      <td>Nikon</td>\n",
       "      <td>DSLR</td>\n",
       "      <td>262</td>\n",
       "    </tr>\n",
       "    <tr>\n",
       "      <th>4</th>\n",
       "      <td>105</td>\n",
       "      <td>Sony</td>\n",
       "      <td>SmartTV</td>\n",
       "      <td>356</td>\n",
       "    </tr>\n",
       "  </tbody>\n",
       "</table>\n",
       "</div>"
      ],
      "text/plain": [
       "    ID    Brand     Product  Quantity_sold\n",
       "0  101    Apple      iPhone            234\n",
       "1  102    Canon        DSLR            344\n",
       "2  103  Samsung  SmartPhone            345\n",
       "3  104    Nikon        DSLR            262\n",
       "4  105     Sony     SmartTV            356"
      ]
     },
     "execution_count": 40,
     "metadata": {},
     "output_type": "execute_result"
    }
   ],
   "source": [
    "df=pd.merge(df_product,df_sales,on=['Brand','ID'])\n",
    "df"
   ]
  },
  {
   "cell_type": "markdown",
   "metadata": {},
   "source": [
    "<table align=\"left\" width=100%>\n",
    "    <tr>\n",
    "        <td width=\"6%\">\n",
    "            <img src=\"question_icon.png\">\n",
    "        </td>\n",
    "        <td>\n",
    "            <div align=\"left\">\n",
    "                <font color=\"#21618C\" size=4px>\n",
    "                    <b> 14. Using the dataframes created in question 16, perform left join to combine values in the columns 'Brand' and 'ID'\n",
    "                    </b>\n",
    "                </font>\n",
    "            </div>\n",
    "        </td>\n",
    "    </tr>\n",
    "</table>"
   ]
  },
  {
   "cell_type": "code",
   "execution_count": 41,
   "metadata": {},
   "outputs": [
    {
     "data": {
      "text/html": [
       "<div>\n",
       "<style scoped>\n",
       "    .dataframe tbody tr th:only-of-type {\n",
       "        vertical-align: middle;\n",
       "    }\n",
       "\n",
       "    .dataframe tbody tr th {\n",
       "        vertical-align: top;\n",
       "    }\n",
       "\n",
       "    .dataframe thead th {\n",
       "        text-align: right;\n",
       "    }\n",
       "</style>\n",
       "<table border=\"1\" class=\"dataframe\">\n",
       "  <thead>\n",
       "    <tr style=\"text-align: right;\">\n",
       "      <th></th>\n",
       "      <th>ID</th>\n",
       "      <th>Brand</th>\n",
       "      <th>Product</th>\n",
       "      <th>Quantity_sold</th>\n",
       "    </tr>\n",
       "  </thead>\n",
       "  <tbody>\n",
       "    <tr>\n",
       "      <th>0</th>\n",
       "      <td>101</td>\n",
       "      <td>Apple</td>\n",
       "      <td>iPhone</td>\n",
       "      <td>234</td>\n",
       "    </tr>\n",
       "    <tr>\n",
       "      <th>1</th>\n",
       "      <td>102</td>\n",
       "      <td>Canon</td>\n",
       "      <td>DSLR</td>\n",
       "      <td>344</td>\n",
       "    </tr>\n",
       "    <tr>\n",
       "      <th>2</th>\n",
       "      <td>103</td>\n",
       "      <td>Samsung</td>\n",
       "      <td>SmartPhone</td>\n",
       "      <td>345</td>\n",
       "    </tr>\n",
       "    <tr>\n",
       "      <th>3</th>\n",
       "      <td>104</td>\n",
       "      <td>Nikon</td>\n",
       "      <td>DSLR</td>\n",
       "      <td>262</td>\n",
       "    </tr>\n",
       "    <tr>\n",
       "      <th>4</th>\n",
       "      <td>105</td>\n",
       "      <td>Sony</td>\n",
       "      <td>SmartTV</td>\n",
       "      <td>356</td>\n",
       "    </tr>\n",
       "  </tbody>\n",
       "</table>\n",
       "</div>"
      ],
      "text/plain": [
       "    ID    Brand     Product  Quantity_sold\n",
       "0  101    Apple      iPhone            234\n",
       "1  102    Canon        DSLR            344\n",
       "2  103  Samsung  SmartPhone            345\n",
       "3  104    Nikon        DSLR            262\n",
       "4  105     Sony     SmartTV            356"
      ]
     },
     "execution_count": 41,
     "metadata": {},
     "output_type": "execute_result"
    }
   ],
   "source": [
    "df_left = pd.merge(df_product, df_sales ,on=['Brand','ID'], how='left')\n",
    "\n",
    "# print the dataframe\n",
    "df_left"
   ]
  },
  {
   "cell_type": "markdown",
   "metadata": {},
   "source": [
    "<table align=\"left\" width=100%>\n",
    "    <tr>\n",
    "        <td width=\"6%\">\n",
    "            <img src=\"question_icon.png\">\n",
    "        </td>\n",
    "        <td>\n",
    "            <div align=\"left\">\n",
    "                <font color=\"#21618C\" size=4px>\n",
    "                    <b> 15. Using the dataframes created in question 16, perform outer join to combine values in the columns 'Brand' and 'ID'\n",
    "                    </b>\n",
    "                </font>\n",
    "            </div>\n",
    "        </td>\n",
    "    </tr>\n",
    "</table>"
   ]
  },
  {
   "cell_type": "code",
   "execution_count": 42,
   "metadata": {},
   "outputs": [
    {
     "data": {
      "text/html": [
       "<div>\n",
       "<style scoped>\n",
       "    .dataframe tbody tr th:only-of-type {\n",
       "        vertical-align: middle;\n",
       "    }\n",
       "\n",
       "    .dataframe tbody tr th {\n",
       "        vertical-align: top;\n",
       "    }\n",
       "\n",
       "    .dataframe thead th {\n",
       "        text-align: right;\n",
       "    }\n",
       "</style>\n",
       "<table border=\"1\" class=\"dataframe\">\n",
       "  <thead>\n",
       "    <tr style=\"text-align: right;\">\n",
       "      <th></th>\n",
       "      <th>ID</th>\n",
       "      <th>Brand</th>\n",
       "      <th>Product</th>\n",
       "      <th>Quantity_sold</th>\n",
       "    </tr>\n",
       "  </thead>\n",
       "  <tbody>\n",
       "    <tr>\n",
       "      <th>0</th>\n",
       "      <td>101</td>\n",
       "      <td>Apple</td>\n",
       "      <td>iPhone</td>\n",
       "      <td>234</td>\n",
       "    </tr>\n",
       "    <tr>\n",
       "      <th>1</th>\n",
       "      <td>102</td>\n",
       "      <td>Canon</td>\n",
       "      <td>DSLR</td>\n",
       "      <td>344</td>\n",
       "    </tr>\n",
       "    <tr>\n",
       "      <th>2</th>\n",
       "      <td>103</td>\n",
       "      <td>Samsung</td>\n",
       "      <td>SmartPhone</td>\n",
       "      <td>345</td>\n",
       "    </tr>\n",
       "    <tr>\n",
       "      <th>3</th>\n",
       "      <td>104</td>\n",
       "      <td>Nikon</td>\n",
       "      <td>DSLR</td>\n",
       "      <td>262</td>\n",
       "    </tr>\n",
       "    <tr>\n",
       "      <th>4</th>\n",
       "      <td>105</td>\n",
       "      <td>Sony</td>\n",
       "      <td>SmartTV</td>\n",
       "      <td>356</td>\n",
       "    </tr>\n",
       "  </tbody>\n",
       "</table>\n",
       "</div>"
      ],
      "text/plain": [
       "    ID    Brand     Product  Quantity_sold\n",
       "0  101    Apple      iPhone            234\n",
       "1  102    Canon        DSLR            344\n",
       "2  103  Samsung  SmartPhone            345\n",
       "3  104    Nikon        DSLR            262\n",
       "4  105     Sony     SmartTV            356"
      ]
     },
     "execution_count": 42,
     "metadata": {},
     "output_type": "execute_result"
    }
   ],
   "source": [
    "df_right = pd.merge(df_product, df_sales ,on=['Brand','ID'], how='right')\n",
    "\n",
    "# print the dataframe\n",
    "df_right"
   ]
  },
  {
   "cell_type": "markdown",
   "metadata": {},
   "source": [
    "<table align=\"left\" width=100%>\n",
    "    <tr>\n",
    "        <td width=\"6%\">\n",
    "            <img src=\"question_icon.png\">\n",
    "        </td>\n",
    "        <td>\n",
    "            <div align=\"left\">\n",
    "                <font color=\"#21618C\" size=4px>\n",
    "                    <b> 16. Concatenate rows of the given dataframes and assign the store as its key \n",
    "                    </b>\n",
    "                </font>\n",
    "            </div>\n",
    "        </td>\n",
    "    </tr>\n",
    "</table>"
   ]
  },
  {
   "cell_type": "markdown",
   "metadata": {},
   "source": [
    "                           Products in Store_A:\n",
    "<table>\n",
    "    <tr>\n",
    "        <th>ID</th>\n",
    "        <th>Brand</th>\n",
    "        <th>Product</th>\n",
    "    </tr>\n",
    "    <tr>\n",
    "        <td>101</td>\n",
    "        <td>Apple</td>\n",
    "        <td>iPhone</td>\n",
    "        </tr>\n",
    "    <tr>\n",
    "        <td>102</td>\n",
    "        <td>Canon</td>\n",
    "        <td>DSLR</td>\n",
    "    </tr>\n",
    "    <tr>\n",
    "        <td>103</td>\n",
    "        <td>Samsung</td>\n",
    "        <td>SmartPhone</td>\n",
    "    </tr>\n",
    "    <tr>\n",
    "        <td>104</td>\n",
    "        <td>Nikon</td>\n",
    "        <td>DSLR</td>\n",
    "  </tr>\n",
    "      <td>105</td>\n",
    "      <td>Sony</td>\n",
    "      <td>SmartTV</td>\n",
    "  </tr> \n",
    "</table>"
   ]
  },
  {
   "cell_type": "markdown",
   "metadata": {},
   "source": [
    "                          Products in Store_B:\n",
    "<table>\n",
    "    <tr>\n",
    "        <th>ID</th>\n",
    "        <th>Brand</th>\n",
    "        <th>Product</th>\n",
    "    </tr>\n",
    "    <tr>\n",
    "        <td>103</td>\n",
    "        <td>Apple</td>\n",
    "        <td>iPhone</td>\n",
    "        </tr>\n",
    "    <tr>\n",
    "        <td>104</td>\n",
    "        <td>Apple</td>\n",
    "        <td>iPod</td>\n",
    "    </tr>\n",
    "    <tr>\n",
    "        <td>104</td>\n",
    "        <td>Samsung</td>\n",
    "        <td>SmartPhone</td>\n",
    "    </tr>\n",
    "    <tr>\n",
    "        <td>107</td>\n",
    "        <td>Canon</td>\n",
    "        <td>DSLR</td>\n",
    "  </tr>\n",
    "      <td>101</td>\n",
    "      <td>Sony</td>\n",
    "      <td>SmartTV</td>\n",
    "  </tr> \n",
    "</table>"
   ]
  },
  {
   "cell_type": "code",
   "execution_count": 44,
   "metadata": {},
   "outputs": [
    {
     "data": {
      "text/html": [
       "<div>\n",
       "<style scoped>\n",
       "    .dataframe tbody tr th:only-of-type {\n",
       "        vertical-align: middle;\n",
       "    }\n",
       "\n",
       "    .dataframe tbody tr th {\n",
       "        vertical-align: top;\n",
       "    }\n",
       "\n",
       "    .dataframe thead th {\n",
       "        text-align: right;\n",
       "    }\n",
       "</style>\n",
       "<table border=\"1\" class=\"dataframe\">\n",
       "  <thead>\n",
       "    <tr style=\"text-align: right;\">\n",
       "      <th></th>\n",
       "      <th>ID</th>\n",
       "      <th>Brand</th>\n",
       "      <th>Product</th>\n",
       "    </tr>\n",
       "  </thead>\n",
       "  <tbody>\n",
       "    <tr>\n",
       "      <th>0</th>\n",
       "      <td>101</td>\n",
       "      <td>Apple</td>\n",
       "      <td>iPhone</td>\n",
       "    </tr>\n",
       "    <tr>\n",
       "      <th>1</th>\n",
       "      <td>102</td>\n",
       "      <td>Canon</td>\n",
       "      <td>DSLR</td>\n",
       "    </tr>\n",
       "    <tr>\n",
       "      <th>2</th>\n",
       "      <td>103</td>\n",
       "      <td>Samsung</td>\n",
       "      <td>SmartPhone</td>\n",
       "    </tr>\n",
       "    <tr>\n",
       "      <th>3</th>\n",
       "      <td>104</td>\n",
       "      <td>Nikon</td>\n",
       "      <td>DSLR</td>\n",
       "    </tr>\n",
       "    <tr>\n",
       "      <th>4</th>\n",
       "      <td>105</td>\n",
       "      <td>Sony</td>\n",
       "      <td>SmartTV</td>\n",
       "    </tr>\n",
       "    <tr>\n",
       "      <th>0</th>\n",
       "      <td>103</td>\n",
       "      <td>Apple</td>\n",
       "      <td>iPhone</td>\n",
       "    </tr>\n",
       "    <tr>\n",
       "      <th>1</th>\n",
       "      <td>104</td>\n",
       "      <td>Apple</td>\n",
       "      <td>iPod</td>\n",
       "    </tr>\n",
       "    <tr>\n",
       "      <th>2</th>\n",
       "      <td>105</td>\n",
       "      <td>Samsung</td>\n",
       "      <td>SmartPhone</td>\n",
       "    </tr>\n",
       "    <tr>\n",
       "      <th>3</th>\n",
       "      <td>107</td>\n",
       "      <td>Canon</td>\n",
       "      <td>DSLR</td>\n",
       "    </tr>\n",
       "    <tr>\n",
       "      <th>4</th>\n",
       "      <td>101</td>\n",
       "      <td>Sony</td>\n",
       "      <td>SmartTV</td>\n",
       "    </tr>\n",
       "  </tbody>\n",
       "</table>\n",
       "</div>"
      ],
      "text/plain": [
       "    ID    Brand     Product\n",
       "0  101    Apple      iPhone\n",
       "1  102    Canon        DSLR\n",
       "2  103  Samsung  SmartPhone\n",
       "3  104    Nikon        DSLR\n",
       "4  105     Sony     SmartTV\n",
       "0  103    Apple      iPhone\n",
       "1  104    Apple        iPod\n",
       "2  105  Samsung  SmartPhone\n",
       "3  107    Canon        DSLR\n",
       "4  101     Sony     SmartTV"
      ]
     },
     "execution_count": 44,
     "metadata": {},
     "output_type": "execute_result"
    }
   ],
   "source": [
    "df_products_A = pd.DataFrame({\n",
    "   'ID':[101,102,103,104,105],\n",
    "   'Brand': ['Apple', 'Canon', 'Samsung', 'Nikon', 'Sony'],\n",
    "   'Product':['iPhone','DSLR','SmartPhone','DSLR','SmartTV']})\n",
    "df_products_B = pd.DataFrame({\n",
    "   'ID':[103,104,105,107,101],\n",
    "   'Brand': ['Apple', 'Apple', 'Samsung', 'Canon', 'Sony'],\n",
    "   'Product':['iPhone','iPod','SmartPhone','DSLR','SmartTV']})\n",
    "a=pd.concat([df_products_A,df_products_B])\n",
    "a"
   ]
  },
  {
   "cell_type": "markdown",
   "metadata": {},
   "source": [
    "<a id='matplotlib'></a>\n",
    "## 7. Plots using Library Matplotlib "
   ]
  },
  {
   "cell_type": "markdown",
   "metadata": {},
   "source": [
    "### Let us import the required libraries."
   ]
  },
  {
   "cell_type": "code",
   "execution_count": 45,
   "metadata": {},
   "outputs": [],
   "source": [
    "import matplotlib.pyplot as plt\n",
    "import seaborn as sns"
   ]
  },
  {
   "cell_type": "markdown",
   "metadata": {},
   "source": [
    "### a. Scatter Plots"
   ]
  },
  {
   "cell_type": "markdown",
   "metadata": {},
   "source": [
    "<table align=\"left\">\n",
    "    <tr>\n",
    "        <td width=\"6%\">\n",
    "            <img src=\"question_icon.png\">\n",
    "        </td>\n",
    "        <td>\n",
    "            <div align=\"left\", style=\"font-size:120%\">\n",
    "                <font color=\"#21618C\">\n",
    "                    <b>17. Plot a scatter plot for the following data. Also add title and axis names</b>\n",
    "                </font>\n",
    "            </div>\n",
    "        </td>\n",
    "    </tr>\n",
    "</table>"
   ]
  },
  {
   "cell_type": "markdown",
   "metadata": {},
   "source": [
    "            bmi = (18, 34, 54, 45, 45, 45, 23, 23, 54)\n",
    "            medical_claim = (145, 456, 764, 234, 156, 786, 345, 455, 675)"
   ]
  },
  {
   "cell_type": "code",
   "execution_count": 47,
   "metadata": {},
   "outputs": [
    {
     "data": {
      "image/png": "[encoded data removed]",
      "text/plain": [
       "<Figure size 432x288 with 1 Axes>"
      ]
     },
     "metadata": {
      "needs_background": "light"
     },
     "output_type": "display_data"
    }
   ],
   "source": [
    "bmi = (18, 34, 54, 45, 45, 45, 23, 23, 54)\n",
    "medical_claim = (145, 456, 764, 234, 156, 786, 345, 455, 675)\n",
    "sns.scatterplot(x=bmi,y=medical_claim)\n",
    "plt.show()"
   ]
  },
  {
   "cell_type": "markdown",
   "metadata": {},
   "source": [
    "<table align=\"left\">\n",
    "    <tr>\n",
    "        <td width=\"6%\">\n",
    "            <img src=\"question_icon.png\">\n",
    "        </td>\n",
    "        <td>\n",
    "            <div align=\"left\", style=\"font-size:120%\">\n",
    "                <font color=\"#21618C\">\n",
    "                    <b>18. Write a code to get the following output </b>\n",
    "                </font>\n",
    "            </div>\n",
    "        </td>\n",
    "    </tr>\n",
    "</table>\n",
    "\n",
    "<img src=\"cos_curve.png\" width = '500' > "
   ]
  },
  {
   "cell_type": "code",
   "execution_count": 48,
   "metadata": {},
   "outputs": [
    {
     "data": {
      "image/png": "[encoded data removed]",
      "text/plain": [
       "<Figure size 1080x576 with 1 Axes>"
      ]
     },
     "metadata": {
      "needs_background": "light"
     },
     "output_type": "display_data"
    }
   ],
   "source": [
    "# set the plot size\n",
    "plt.figure(figsize=(15,8))\n",
    "\n",
    "# create the variable x using linspace()\n",
    "x = np.linspace(0, 20, 100)\n",
    "\n",
    "# create the variable y taking \n",
    "y = np.cos(x)\n",
    "\n",
    "# plot the data using the plot()\n",
    "plt.plot(x, y, '-ok', color='black')\n",
    "\n",
    "# add plot title\n",
    "# fontsize sets the size of the title\n",
    "plt.title(\"Cosine Curve\", fontsize=30)\n",
    "\n",
    "# add x-axis label\n",
    "# fontsize sets the size of the label\n",
    "plt.xlabel(\"x\", fontsize=20)\n",
    "\n",
    "# add y-axis label\n",
    "# fontsize sets the size of the label\n",
    "plt.ylabel( \"Cosine(x)\", fontsize=20)\n",
    "\n",
    "# display the plot\n",
    "plt.show()"
   ]
  },
  {
   "cell_type": "markdown",
   "metadata": {},
   "source": [
    "<table align=\"left\">\n",
    "    <tr>\n",
    "        <td width=\"6%\">\n",
    "            <img src=\"question_icon.png\">\n",
    "        </td>\n",
    "        <td>\n",
    "            <div align=\"left\", style=\"font-size:120%\">\n",
    "                <font color=\"#21618C\">\n",
    "                    <b>19. Create a bubble plot. Further use the parameter 'alpha' to adjust the transparency level. (Generate the data using random number)</b>\n",
    "                </font>\n",
    "            </div>\n",
    "        </td>\n",
    "    </tr>\n",
    "</table>\n",
    "\n",
    "**Note:** A bubble chart is a type of scatter plot that represents three dimensional data. The third variable is represented by the size of a point (marker)."
   ]
  },
  {
   "cell_type": "code",
   "execution_count": 49,
   "metadata": {},
   "outputs": [
    {
     "data": {
      "image/png": "[encoded data removed]",
      "text/plain": [
       "<Figure size 1080x576 with 1 Axes>"
      ]
     },
     "metadata": {
      "needs_background": "light"
     },
     "output_type": "display_data"
    }
   ],
   "source": [
    "plt.figure(figsize=(15,8))\n",
    "rnd = np.random.RandomState(5)\n",
    "x = rnd.randn(35)\n",
    "y = rnd.randn(35)\n",
    "sizes = 1000 * rnd.rand(35)      \n",
    "plt.scatter(x, y,  s=sizes, alpha=0.7)\n",
    "plt.show()"
   ]
  },
  {
   "cell_type": "markdown",
   "metadata": {},
   "source": [
    "<table align=\"left\">\n",
    "    <tr>\n",
    "        <td width=\"6%\">\n",
    "            <img src=\"question_icon.png\">\n",
    "        </td>\n",
    "        <td>\n",
    "            <div align=\"left\", style=\"font-size:120%\">\n",
    "                <font color=\"#21618C\">\n",
    "                    <b> 20. Plot cosine curve and exponential curve for natural numbers from 0.1 to 20, in the same plot (get the following output)\n",
    "                    </b>\n",
    "                </font>\n",
    "            </div>\n",
    "        </td>\n",
    "    </tr>\n",
    "</table>\n",
    "\n",
    "<img src=\"dual_axis.png\" width ='500' > "
   ]
  },
  {
   "cell_type": "code",
   "execution_count": null,
   "metadata": {},
   "outputs": [],
   "source": []
  },
  {
   "cell_type": "markdown",
   "metadata": {},
   "source": [
    "### b. Barplots"
   ]
  },
  {
   "cell_type": "markdown",
   "metadata": {},
   "source": [
    "<table align=\"left\">\n",
    "    <tr>\n",
    "        <td width=\"6%\">\n",
    "            <img src=\"question_icon.png\">\n",
    "        </td>\n",
    "        <td>\n",
    "            <div align=\"left\", style=\"font-size:120%\">\n",
    "                <font color=\"#21618C\">\n",
    "                    <b> 21. The exports and imports (in billion dollars) is given for a country from 2001 to 2005. Draw a barplot for the data\n",
    "                    </b>\n",
    "                </font>\n",
    "            </div>\n",
    "        </td>\n",
    "    </tr>\n",
    "</table>"
   ]
  },
  {
   "cell_type": "markdown",
   "metadata": {},
   "source": [
    "<table>\n",
    "  <tr>\n",
    "  <th>Year</th>\n",
    "  <th>Import</th>\n",
    "  <th>Export</th>\n",
    "  </tr>\n",
    "  <tr>\n",
    "  <td>2001</td>\n",
    "  <td>54.4</td>\n",
    "  <td>42.5 </td>\n",
    "  </tr>\n",
    "  <tr>\n",
    "  <td>2002</td>\n",
    "  <td>53.8</td>\n",
    "  <td>44.5</td>\n",
    "  </tr>\n",
    "  <tr>\n",
    "  <td>2003</td>\n",
    "  <td>61.6</td>\n",
    "  <td>48.3</td>\n",
    "  </tr>\n",
    "  <tr>\n",
    "  <td>2004</td>\n",
    "  <td>74.15</td>\n",
    "  <td>57.24</td>\n",
    "  </tr>\n",
    "  <tr>\n",
    "  <td>2005</td>\n",
    "  <td>89.33</td>\n",
    "  <td>69.18</td>\n",
    "  </tr>\n",
    "</table>"
   ]
  },
  {
   "cell_type": "code",
   "execution_count": 50,
   "metadata": {},
   "outputs": [
    {
     "data": {
      "image/png": "[encoded data removed]",
      "text/plain": [
       "<Figure size 432x288 with 2 Axes>"
      ]
     },
     "metadata": {
      "needs_background": "light"
     },
     "output_type": "display_data"
    }
   ],
   "source": [
    "# generate data using the np.arange()\n",
    "x = np.arange(0.1,5,0.01)\n",
    "\n",
    "# let variable y1 be the exponential of values in x\n",
    "y1 = np.exp(x)\n",
    "\n",
    "# let variable y2 be the cosine of values in x\n",
    "y2 = np.cos(2 * np.pi * x)\n",
    "\n",
    "# initiate the plot \n",
    "fig, ax1 = plt.subplots()\n",
    "\n",
    "# ploting on the first axis\n",
    "# plot the exponential data\n",
    "# color is the colour of the plot\n",
    "ax1.plot(x, y1, color= 'tab:blue' )\n",
    "\n",
    "# modify the y-axis (left) ticks\n",
    "# axis represent the axis to be modified\n",
    "# labelcolor is the color of the axis\n",
    "ax1.tick_params(axis='y', labelcolor='tab:blue')\n",
    "\n",
    "# set y axis label\n",
    "# color is the colour of the label\n",
    "# fontsize specifies the font size of the label\n",
    "ax1.set_ylabel('Exp(x)', color='tab:blue', fontsize = 10)\n",
    "\n",
    "# introduce the second axis\n",
    "ax2 = ax1.twinx()  \n",
    "\n",
    "# ploting on the second axis\n",
    "# plot the cosine data\n",
    "# color is the colour of the plot\n",
    "ax2.plot(x, y2, color='tab:red')\n",
    "\n",
    "# modify the y-axis (right) ticks\n",
    "# axis represent the axis to be modified\n",
    "# labelcolor is the color of the axis\n",
    "ax2.tick_params(axis='y', labelcolor='tab:red')\n",
    "\n",
    "# set y axis label\n",
    "# color is the colour of the label\n",
    "# fontsize specifies the font size of the label\n",
    "ax2.set_ylabel('Cos(x)', color = 'tab:red', fontsize = 10) \n",
    "\n",
    "# set the x-axis lablel\n",
    "ax1.set_xlabel('X')\n",
    "\n",
    "# display the plot\n",
    "plt.show()"
   ]
  },
  {
   "cell_type": "markdown",
   "metadata": {},
   "source": [
    "### c. Pie plots"
   ]
  },
  {
   "cell_type": "markdown",
   "metadata": {},
   "source": [
    "<table align=\"left\">\n",
    "    <tr>\n",
    "        <td width=\"6%\">\n",
    "            <img src=\"question_icon.png\">\n",
    "        </td>\n",
    "        <td>\n",
    "            <div align=\"left\", style=\"font-size:120%\">\n",
    "                <font color=\"#21618C\">\n",
    "                    <b> 22. Plot a pie chart for the following data\n",
    "                    </b>\n",
    "                </font>\n",
    "            </div>\n",
    "        </td>\n",
    "    </tr>\n",
    "</table>"
   ]
  },
  {
   "cell_type": "markdown",
   "metadata": {},
   "source": [
    "        prices = [50, 25, 50, 20]\n",
    "        labels = ['Apple', 'Orange','Banana', 'Mango']"
   ]
  },
  {
   "cell_type": "code",
   "execution_count": 56,
   "metadata": {},
   "outputs": [
    {
     "data": {
      "image/png": "[encoded data removed]",
      "text/plain": [
       "<Figure size 432x288 with 1 Axes>"
      ]
     },
     "metadata": {},
     "output_type": "display_data"
    }
   ],
   "source": [
    "prices = [50, 25, 50, 20]\n",
    "labels = ['Apple', 'Orange','Banana', 'Mango']\n",
    "plt.pie(prices,labels=labels,autopct = '%1.2f%%')\n",
    "plt.show()"
   ]
  },
  {
   "cell_type": "markdown",
   "metadata": {},
   "source": [
    "<table align=\"left\">\n",
    "    <tr>\n",
    "        <td width=\"6%\">\n",
    "            <img src=\"question_icon.png\">\n",
    "        </td>\n",
    "        <td>\n",
    "            <div align=\"left\", style=\"font-size:120%\">\n",
    "                <font color=\"#21618C\">\n",
    "                    <b> 23. Following is the information release after the Indian budget is declared. Plot a donut chart for it\n",
    "                    </b>\n",
    "                </font>\n",
    "            </div>\n",
    "        </td>\n",
    "    </tr>\n",
    "</table>"
   ]
  },
  {
   "cell_type": "markdown",
   "metadata": {},
   "source": [
    "<table>\n",
    "  <tr>\n",
    "  <th>Income Form </th>\n",
    "  <th>Amount (in paise)</th>\n",
    "  </tr>\n",
    "  <tr>\n",
    "  <td>Corporation Tax</td>\n",
    "  <td>21</td>\n",
    "  </tr>\n",
    "  <tr>\n",
    "  <td>Income Tax</td>\n",
    "  <td>16</td>\n",
    "  </tr>\n",
    "  <tr>\n",
    "  <td>Customs</td>\n",
    "  <td>4</td>\n",
    "  </tr>\n",
    "  <tr>\n",
    "  <td>Union Excise Duties</td>\n",
    "  <td>8</td>\n",
    "</tr>\n",
    "  <tr>\n",
    "  <td>GST & Other Taxes</td>\n",
    "  <td>19</td>\n",
    "</tr>\n",
    "<tr>\n",
    "  <td>Non-Tax Revenue</td>\n",
    "  <td>9</td>\n",
    "  </tr>\n",
    "  <tr>\n",
    "  <td>Non-Debt Capital Receipts</td>\n",
    "  <td>3</td>\n",
    "</tr>\n",
    "  <tr>\n",
    "  <td>Borrowings and Other Liabilities</td>\n",
    "  <td>20</td>\n",
    "  </tr>\n",
    "</table>"
   ]
  },
  {
   "cell_type": "code",
   "execution_count": 57,
   "metadata": {},
   "outputs": [
    {
     "data": {
      "image/png": "[encoded data removed]",
      "text/plain": [
       "<Figure size 504x504 with 1 Axes>"
      ]
     },
     "metadata": {},
     "output_type": "display_data"
    }
   ],
   "source": [
    "# create data list\n",
    "income = ['Corporation Tax', 'Income Tax', 'Customs', 'Union Excise Duties', 'GST & Other Taxes', \n",
    "          'Non-Tax Revenue' , 'Non-Debt Capital Receipts', 'Borrowings and Other Liabilities']\n",
    "amount = [21,16,4,8,19,9,3,20]\n",
    "\n",
    "# set plot size\n",
    "plt.figure(figsize=(7,7))\n",
    "\n",
    "# create the circle for the center of the plot\n",
    "# (0,0) specifies the center of the plot\n",
    "# radius specifies the radius of the plot\n",
    "# specifies the colour of the plot\n",
    "my_circle = plt.Circle((0,0), radius = 0.5, color='white')\n",
    "\n",
    "# plot the pie chart\n",
    "# amount is the data\n",
    "# labels are the labels given to each wedge\n",
    "# wedgeprops are the wedge properties\n",
    "# linewidth specifies the width of each line\n",
    "# white is the colour of the edge\n",
    "plt.pie(amount, labels = income, wedgeprops = { 'linewidth' : 7, 'edgecolor' : 'white' })\n",
    "\n",
    "# set title of the plot\n",
    "# fontsize specifies the plot size\n",
    "plt.title(\"Where a rupee comes from?\", fontsize = 20)\n",
    "\n",
    "# plotting a donut plot\n",
    "# gcf() gets the current figure\n",
    "donut = plt.gcf()\n",
    "\n",
    "# place the white circle 'my_circle' on it\n",
    "donut.gca().add_artist(my_circle)\n",
    "\n",
    "# display the plot\n",
    "plt.show()"
   ]
  },
  {
   "cell_type": "markdown",
   "metadata": {},
   "source": [
    "### d. Line plots"
   ]
  },
  {
   "cell_type": "markdown",
   "metadata": {},
   "source": [
    "<table align=\"left\">\n",
    "    <tr>\n",
    "        <td width=\"6%\">\n",
    "            <img src=\"question_icon.png\">\n",
    "        </td>\n",
    "        <td>\n",
    "            <div align=\"left\", style=\"font-size:120%\">\n",
    "                <font color=\"#21618C\">\n",
    "                    <b> 24. Create a tuple of numbers 12, 34, 54, 45, 45, 45, 23, 23, 54 and plot a simple line plot\n",
    "                    </b>\n",
    "                </font>\n",
    "            </div>\n",
    "        </td>\n",
    "    </tr>\n",
    "</table>"
   ]
  },
  {
   "cell_type": "code",
   "execution_count": 58,
   "metadata": {},
   "outputs": [
    {
     "data": {
      "image/png": "[encoded data removed]",
      "text/plain": [
       "<Figure size 432x288 with 1 Axes>"
      ]
     },
     "metadata": {
      "needs_background": "light"
     },
     "output_type": "display_data"
    }
   ],
   "source": [
    "x = (12, 34, 54, 45, 45, 45, 23, 23, 54)\n",
    "\n",
    "# plot a simple line plot\n",
    "plt.plot(x)\n",
    "\n",
    "# display the plot\n",
    "plt.show()"
   ]
  },
  {
   "cell_type": "markdown",
   "metadata": {},
   "source": [
    "<table align=\"left\">\n",
    "    <tr>\n",
    "        <td width=\"6%\">\n",
    "            <img src=\"question_icon.png\">\n",
    "        </td>\n",
    "        <td>\n",
    "            <div align=\"left\", style=\"font-size:120%\">\n",
    "                <font color=\"#21618C\">\n",
    "                    <b> 25. Import the 'Returns.csv'. Plot a multiple line plot for the returns of each company\n",
    "                    </b>\n",
    "                </font>\n",
    "            </div>\n",
    "        </td>\n",
    "    </tr>\n",
    "</table>"
   ]
  },
  {
   "cell_type": "code",
   "execution_count": null,
   "metadata": {},
   "outputs": [],
   "source": []
  },
  {
   "cell_type": "markdown",
   "metadata": {},
   "source": [
    "<a id='seaborn'></a>\n",
    "## 8. Plots using Library Seaborn[ Self Learning material]"
   ]
  },
  {
   "cell_type": "markdown",
   "metadata": {},
   "source": [
    "import the seaborn library as sns. \n",
    "\n",
    "Check for the available datasets in it."
   ]
  },
  {
   "cell_type": "code",
   "execution_count": null,
   "metadata": {},
   "outputs": [],
   "source": []
  },
  {
   "cell_type": "markdown",
   "metadata": {},
   "source": [
    "<table align=\"left\">\n",
    "    <tr>\n",
    "        <td width=\"6%\">\n",
    "            <img src=\"question_icon.png\">\n",
    "        </td>\n",
    "        <td>\n",
    "            <div align=\"left\", style=\"font-size:120%\">\n",
    "                <font color=\"#21618C\">\n",
    "                    <b> 26. Plot a  strip plot using inbuilt data-set 'iris' given in seaborn\n",
    "                    </b>\n",
    "                </font>\n",
    "            </div>\n",
    "        </td>\n",
    "    </tr>\n",
    "</table>"
   ]
  },
  {
   "cell_type": "code",
   "execution_count": 60,
   "metadata": {},
   "outputs": [
    {
     "data": {
      "text/plain": [
       "<AxesSubplot:xlabel='species', ylabel='sepal_length'>"
      ]
     },
     "execution_count": 60,
     "metadata": {},
     "output_type": "execute_result"
    },
    {
     "data": {
      "image/png": "[encoded data removed]",
      "text/plain": [
       "<Figure size 432x288 with 1 Axes>"
      ]
     },
     "metadata": {
      "needs_background": "light"
     },
     "output_type": "display_data"
    }
   ],
   "source": [
    "iris = sns.load_dataset('iris')\n",
    "sns.stripplot(x = 'species', y = 'sepal_length', data = iris)"
   ]
  },
  {
   "cell_type": "code",
   "execution_count": null,
   "metadata": {},
   "outputs": [],
   "source": []
  },
  {
   "cell_type": "markdown",
   "metadata": {},
   "source": [
    "<table align=\"left\">\n",
    "    <tr>\n",
    "        <td width=\"6%\">\n",
    "            <img src=\"question_icon.png\">\n",
    "        </td>\n",
    "        <td>\n",
    "            <div align=\"left\", style=\"font-size:120%\">\n",
    "                <font color=\"#21618C\">\n",
    "                    <b> 27. Import the dataset age_height.csv. Plot a heat map for the correlation matrix\n",
    "                    </b>\n",
    "                </font>\n",
    "            </div>\n",
    "        </td>\n",
    "    </tr>\n",
    "</table>"
   ]
  },
  {
   "cell_type": "code",
   "execution_count": null,
   "metadata": {},
   "outputs": [],
   "source": []
  },
  {
   "cell_type": "markdown",
   "metadata": {},
   "source": [
    "<table align=\"left\">\n",
    "    <tr>\n",
    "        <td width=\"6%\">\n",
    "            <img src=\"question_icon.png\">\n",
    "        </td>\n",
    "        <td>\n",
    "            <div align=\"left\", style=\"font-size:120%\">\n",
    "                <font color=\"#21618C\">\n",
    "                    <b> 28. Plot a  swarmplot using inbuilt data-set 'iris' given in seaborn\n",
    "                    </b>\n",
    "                </font>\n",
    "            </div>\n",
    "        </td>\n",
    "    </tr>\n",
    "</table>"
   ]
  },
  {
   "cell_type": "code",
   "execution_count": 61,
   "metadata": {},
   "outputs": [
    {
     "name": "stderr",
     "output_type": "stream",
     "text": [
      "C:\\Users\\AS20188795\\Anaconda3\\lib\\site-packages\\seaborn\\categorical.py:1296: UserWarning: 14.0% of the points cannot be placed; you may want to decrease the size of the markers or use stripplot.\n",
      "  warnings.warn(msg, UserWarning)\n"
     ]
    },
    {
     "data": {
      "text/plain": [
       "<AxesSubplot:xlabel='species', ylabel='petal_length'>"
      ]
     },
     "execution_count": 61,
     "metadata": {},
     "output_type": "execute_result"
    },
    {
     "data": {
      "image/png": "[encoded data removed]",
      "text/plain": [
       "<Figure size 432x288 with 1 Axes>"
      ]
     },
     "metadata": {
      "needs_background": "light"
     },
     "output_type": "display_data"
    }
   ],
   "source": [
    "sns.swarmplot(x = 'species', y = 'petal_length', data = iris)"
   ]
  },
  {
   "cell_type": "markdown",
   "metadata": {},
   "source": [
    "<table align=\"left\">\n",
    "    <tr>\n",
    "        <td width=\"6%\">\n",
    "            <img src=\"question_icon.png\">\n",
    "        </td>\n",
    "        <td>\n",
    "            <div align=\"left\", style=\"font-size:120%\">\n",
    "                <font color=\"#21618C\">\n",
    "                    <b> 28a. Using the following data, plot a scatter plot with  the function available in seaborn\n",
    "                    </b>\n",
    "                </font>\n",
    "            </div>\n",
    "        </td>\n",
    "    </tr>\n",
    "</table>"
   ]
  },
  {
   "cell_type": "markdown",
   "metadata": {},
   "source": [
    "            x = (12, 34, 54, 45, 45, 45, 23, 23, 54)\n",
    "            y = (145, 456, 764, 234, 156, 786, 345, 455, 675)"
   ]
  },
  {
   "cell_type": "code",
   "execution_count": 62,
   "metadata": {},
   "outputs": [
    {
     "data": {
      "image/png": "[encoded data removed]",
      "text/plain": [
       "<Figure size 432x288 with 1 Axes>"
      ]
     },
     "metadata": {
      "needs_background": "light"
     },
     "output_type": "display_data"
    }
   ],
   "source": [
    "x = (12, 34, 54, 45, 45, 45, 23, 23, 54)\n",
    "y = (145, 456, 764, 234, 156, 786, 345, 455, 675)\n",
    "plt.scatter(x,y)\n",
    "plt.show()"
   ]
  },
  {
   "cell_type": "markdown",
   "metadata": {},
   "source": [
    "<table align=\"left\">\n",
    "    <tr>\n",
    "        <td width=\"6%\">\n",
    "            <img src=\"question_icon.png\">\n",
    "        </td>\n",
    "        <td>\n",
    "            <div align=\"left\", style=\"font-size:120%\">\n",
    "                <font color=\"#21618C\">\n",
    "                    <b> 28b. Using the data generated in question 3, plot a scatter plot with the function available in seaborn\n",
    "                    </b>\n",
    "                </font>\n",
    "            </div>\n",
    "        </td>\n",
    "    </tr>\n",
    "</table>"
   ]
  },
  {
   "cell_type": "code",
   "execution_count": 65,
   "metadata": {},
   "outputs": [
    {
     "data": {
      "image/png": "[encoded data removed]",
      "text/plain": [
       "<Figure size 432x288 with 1 Axes>"
      ]
     },
     "metadata": {
      "needs_background": "light"
     },
     "output_type": "display_data"
    }
   ],
   "source": [
    "sns.scatterplot(x = x, y = y )\n",
    "plt.show()"
   ]
  },
  {
   "cell_type": "markdown",
   "metadata": {},
   "source": [
    "<table align=\"left\">\n",
    "    <tr>\n",
    "        <td width=\"6%\">\n",
    "            <img src=\"question_icon.png\">\n",
    "        </td>\n",
    "        <td>\n",
    "            <div align=\"left\", style=\"font-size:120%\">\n",
    "                <font color=\"#21618C\">\n",
    "                    <b> 29. Using the 'diamonds' data available in the library seaborn, consider the price for the type of cut. Display the data using the following plots:\n",
    "                        <ol>\n",
    "                            <li> Multiple boxplot</li>\n",
    "                            <li> Violin Plot </li>\n",
    "                            <li> Boxen Plot </li>\n",
    "                        </ol>\n",
    "                    </b>\n",
    "                </font>\n",
    "            </div>\n",
    "        </td>\n",
    "    </tr>\n",
    "</table>"
   ]
  },
  {
   "cell_type": "code",
   "execution_count": 66,
   "metadata": {},
   "outputs": [
    {
     "data": {
      "text/html": [
       "<div>\n",
       "<style scoped>\n",
       "    .dataframe tbody tr th:only-of-type {\n",
       "        vertical-align: middle;\n",
       "    }\n",
       "\n",
       "    .dataframe tbody tr th {\n",
       "        vertical-align: top;\n",
       "    }\n",
       "\n",
       "    .dataframe thead th {\n",
       "        text-align: right;\n",
       "    }\n",
       "</style>\n",
       "<table border=\"1\" class=\"dataframe\">\n",
       "  <thead>\n",
       "    <tr style=\"text-align: right;\">\n",
       "      <th></th>\n",
       "      <th>carat</th>\n",
       "      <th>cut</th>\n",
       "      <th>color</th>\n",
       "      <th>clarity</th>\n",
       "      <th>depth</th>\n",
       "      <th>table</th>\n",
       "      <th>price</th>\n",
       "      <th>x</th>\n",
       "      <th>y</th>\n",
       "      <th>z</th>\n",
       "    </tr>\n",
       "  </thead>\n",
       "  <tbody>\n",
       "    <tr>\n",
       "      <th>0</th>\n",
       "      <td>0.23</td>\n",
       "      <td>Ideal</td>\n",
       "      <td>E</td>\n",
       "      <td>SI2</td>\n",
       "      <td>61.5</td>\n",
       "      <td>55.0</td>\n",
       "      <td>326</td>\n",
       "      <td>3.95</td>\n",
       "      <td>3.98</td>\n",
       "      <td>2.43</td>\n",
       "    </tr>\n",
       "    <tr>\n",
       "      <th>1</th>\n",
       "      <td>0.21</td>\n",
       "      <td>Premium</td>\n",
       "      <td>E</td>\n",
       "      <td>SI1</td>\n",
       "      <td>59.8</td>\n",
       "      <td>61.0</td>\n",
       "      <td>326</td>\n",
       "      <td>3.89</td>\n",
       "      <td>3.84</td>\n",
       "      <td>2.31</td>\n",
       "    </tr>\n",
       "    <tr>\n",
       "      <th>2</th>\n",
       "      <td>0.23</td>\n",
       "      <td>Good</td>\n",
       "      <td>E</td>\n",
       "      <td>VS1</td>\n",
       "      <td>56.9</td>\n",
       "      <td>65.0</td>\n",
       "      <td>327</td>\n",
       "      <td>4.05</td>\n",
       "      <td>4.07</td>\n",
       "      <td>2.31</td>\n",
       "    </tr>\n",
       "    <tr>\n",
       "      <th>3</th>\n",
       "      <td>0.29</td>\n",
       "      <td>Premium</td>\n",
       "      <td>I</td>\n",
       "      <td>VS2</td>\n",
       "      <td>62.4</td>\n",
       "      <td>58.0</td>\n",
       "      <td>334</td>\n",
       "      <td>4.20</td>\n",
       "      <td>4.23</td>\n",
       "      <td>2.63</td>\n",
       "    </tr>\n",
       "    <tr>\n",
       "      <th>4</th>\n",
       "      <td>0.31</td>\n",
       "      <td>Good</td>\n",
       "      <td>J</td>\n",
       "      <td>SI2</td>\n",
       "      <td>63.3</td>\n",
       "      <td>58.0</td>\n",
       "      <td>335</td>\n",
       "      <td>4.34</td>\n",
       "      <td>4.35</td>\n",
       "      <td>2.75</td>\n",
       "    </tr>\n",
       "  </tbody>\n",
       "</table>\n",
       "</div>"
      ],
      "text/plain": [
       "   carat      cut color clarity  depth  table  price     x     y     z\n",
       "0   0.23    Ideal     E     SI2   61.5   55.0    326  3.95  3.98  2.43\n",
       "1   0.21  Premium     E     SI1   59.8   61.0    326  3.89  3.84  2.31\n",
       "2   0.23     Good     E     VS1   56.9   65.0    327  4.05  4.07  2.31\n",
       "3   0.29  Premium     I     VS2   62.4   58.0    334  4.20  4.23  2.63\n",
       "4   0.31     Good     J     SI2   63.3   58.0    335  4.34  4.35  2.75"
      ]
     },
     "execution_count": 66,
     "metadata": {},
     "output_type": "execute_result"
    }
   ],
   "source": [
    "diamonds = sns.load_dataset('diamonds')\n",
    "diamonds.head()"
   ]
  },
  {
   "cell_type": "code",
   "execution_count": 67,
   "metadata": {},
   "outputs": [
    {
     "data": {
      "image/png": "[encoded data removed]",
      "text/plain": [
       "<Figure size 360x360 with 1 Axes>"
      ]
     },
     "metadata": {
      "needs_background": "light"
     },
     "output_type": "display_data"
    }
   ],
   "source": [
    "sns.catplot(x = \"cut\", y = \"price\", kind=\"box\", data = diamonds)\n",
    "\n",
    "# add title\n",
    "# fontsize specifies the fontsize of the title\n",
    "plt.title(\"Multiple Boxplot\", fontsize = 15)\n",
    "\n",
    "# display the plot\n",
    "plt.show()"
   ]
  },
  {
   "cell_type": "code",
   "execution_count": 68,
   "metadata": {},
   "outputs": [
    {
     "data": {
      "image/png": "[encoded data removed]",
      "text/plain": [
       "<Figure size 360x360 with 1 Axes>"
      ]
     },
     "metadata": {
      "needs_background": "light"
     },
     "output_type": "display_data"
    }
   ],
   "source": [
    "sns.catplot(x = \"cut\", y = \"price\", kind = \"violin\", data = diamonds)\n",
    "\n",
    "# add title\n",
    "# fontsize specifies the fontsize of the title\n",
    "plt.title(\"Multiple Violin Plot\", fontsize = 15)\n",
    "\n",
    "# display the plot\n",
    "plt.show()"
   ]
  },
  {
   "cell_type": "code",
   "execution_count": 69,
   "metadata": {},
   "outputs": [
    {
     "data": {
      "image/png": "[encoded data removed]",
      "text/plain": [
       "<Figure size 432x288 with 1 Axes>"
      ]
     },
     "metadata": {
      "needs_background": "light"
     },
     "output_type": "display_data"
    }
   ],
   "source": [
    "sns.boxenplot(x = \"cut\", y = \"price\", data = diamonds)\n",
    "\n",
    "# add title\n",
    "# fontsize specifies the fontsize of the title\n",
    "plt.title(\"Multiple Boxen plot\", fontsize = 15)\n",
    "\n",
    "# display the plot\n",
    "plt.show()"
   ]
  },
  {
   "cell_type": "markdown",
   "metadata": {},
   "source": [
    "<table align=\"left\">\n",
    "    <tr>\n",
    "        <td width=\"6%\">\n",
    "            <img src=\"question_icon.png\">\n",
    "        </td>\n",
    "        <td>\n",
    "            <div align=\"left\", style=\"font-size:120%\">\n",
    "                <font color=\"#21618C\">\n",
    "                    <b> 30. Generate random number form normal distribution, plot the following:\n",
    "                        <ol>\n",
    "                            <li> Histogram</li>\n",
    "                            <li> Histogram with frequency curve </li>\n",
    "                        </ol>\n",
    "                    </b>\n",
    "                </font>\n",
    "            </div>\n",
    "        </td>\n",
    "    </tr>\n",
    "</table>"
   ]
  },
  {
   "cell_type": "code",
   "execution_count": 73,
   "metadata": {},
   "outputs": [
    {
     "data": {
      "image/png": "[encoded data removed]",
      "text/plain": [
       "<Figure size 432x288 with 1 Axes>"
      ]
     },
     "metadata": {
      "needs_background": "light"
     },
     "output_type": "display_data"
    }
   ],
   "source": [
    "x = np.random.normal(size=100)\n",
    "sns.histplot(x,kde=True)\n",
    "plt.show()"
   ]
  },
  {
   "cell_type": "markdown",
   "metadata": {},
   "source": [
    "<a id='plotly'></a>\n",
    "## 9. Plots using Library Plotly[ Self Learning material]"
   ]
  },
  {
   "cell_type": "markdown",
   "metadata": {},
   "source": [
    "<table align=\"left\">\n",
    "    <tr>\n",
    "        <td width=\"6%\">\n",
    "            <img src=\"question_icon.png\">\n",
    "        </td>\n",
    "        <td>\n",
    "            <div align=\"left\", style=\"font-size:120%\">\n",
    "                <font color=\"#21618C\">\n",
    "                    <b> 31. Use the 'diamonds' data set from seaborn to plot the histogram of price by colors\n",
    "                    </b>\n",
    "                </font>\n",
    "            </div>\n",
    "        </td>\n",
    "    </tr>\n",
    "</table>"
   ]
  },
  {
   "cell_type": "code",
   "execution_count": 79,
   "metadata": {},
   "outputs": [
    {
     "ename": "AttributeError",
     "evalue": "'Rectangle' object has no property 'data_frame'",
     "output_type": "error",
     "traceback": [
      "\u001b[1;31m---------------------------------------------------------------------------\u001b[0m",
      "\u001b[1;31mAttributeError\u001b[0m                            Traceback (most recent call last)",
      "\u001b[1;32m<ipython-input-79-23f8d8a30cdd>\u001b[0m in \u001b[0;36m<module>\u001b[1;34m\u001b[0m\n\u001b[1;32m----> 1\u001b[1;33m \u001b[0mplt\u001b[0m\u001b[1;33m.\u001b[0m\u001b[0mhist\u001b[0m\u001b[1;33m(\u001b[0m\u001b[0mdata_frame\u001b[0m \u001b[1;33m=\u001b[0m \u001b[0mdiamonds\u001b[0m\u001b[1;33m,\u001b[0m \u001b[0mx\u001b[0m\u001b[1;33m=\u001b[0m\u001b[1;34m\"price\"\u001b[0m\u001b[1;33m)\u001b[0m\u001b[1;33m\u001b[0m\u001b[1;33m\u001b[0m\u001b[0m\n\u001b[0m\u001b[0;32m      2\u001b[0m \u001b[1;33m\u001b[0m\u001b[0m\n\u001b[0;32m      3\u001b[0m \u001b[0mplt\u001b[0m\u001b[1;33m.\u001b[0m\u001b[0mshow\u001b[0m\u001b[1;33m(\u001b[0m\u001b[1;33m)\u001b[0m\u001b[1;33m\u001b[0m\u001b[1;33m\u001b[0m\u001b[0m\n",
      "\u001b[1;32m~\\Anaconda3\\lib\\site-packages\\matplotlib\\pyplot.py\u001b[0m in \u001b[0;36mhist\u001b[1;34m(x, bins, range, density, weights, cumulative, bottom, histtype, align, orientation, rwidth, log, color, label, stacked, data, **kwargs)\u001b[0m\n\u001b[0;32m   2683\u001b[0m         \u001b[0morientation\u001b[0m\u001b[1;33m=\u001b[0m\u001b[1;34m'vertical'\u001b[0m\u001b[1;33m,\u001b[0m \u001b[0mrwidth\u001b[0m\u001b[1;33m=\u001b[0m\u001b[1;32mNone\u001b[0m\u001b[1;33m,\u001b[0m \u001b[0mlog\u001b[0m\u001b[1;33m=\u001b[0m\u001b[1;32mFalse\u001b[0m\u001b[1;33m,\u001b[0m \u001b[0mcolor\u001b[0m\u001b[1;33m=\u001b[0m\u001b[1;32mNone\u001b[0m\u001b[1;33m,\u001b[0m\u001b[1;33m\u001b[0m\u001b[1;33m\u001b[0m\u001b[0m\n\u001b[0;32m   2684\u001b[0m         label=None, stacked=False, *, data=None, **kwargs):\n\u001b[1;32m-> 2685\u001b[1;33m     return gca().hist(\n\u001b[0m\u001b[0;32m   2686\u001b[0m         \u001b[0mx\u001b[0m\u001b[1;33m,\u001b[0m \u001b[0mbins\u001b[0m\u001b[1;33m=\u001b[0m\u001b[0mbins\u001b[0m\u001b[1;33m,\u001b[0m \u001b[0mrange\u001b[0m\u001b[1;33m=\u001b[0m\u001b[0mrange\u001b[0m\u001b[1;33m,\u001b[0m \u001b[0mdensity\u001b[0m\u001b[1;33m=\u001b[0m\u001b[0mdensity\u001b[0m\u001b[1;33m,\u001b[0m \u001b[0mweights\u001b[0m\u001b[1;33m=\u001b[0m\u001b[0mweights\u001b[0m\u001b[1;33m,\u001b[0m\u001b[1;33m\u001b[0m\u001b[1;33m\u001b[0m\u001b[0m\n\u001b[0;32m   2687\u001b[0m         \u001b[0mcumulative\u001b[0m\u001b[1;33m=\u001b[0m\u001b[0mcumulative\u001b[0m\u001b[1;33m,\u001b[0m \u001b[0mbottom\u001b[0m\u001b[1;33m=\u001b[0m\u001b[0mbottom\u001b[0m\u001b[1;33m,\u001b[0m \u001b[0mhisttype\u001b[0m\u001b[1;33m=\u001b[0m\u001b[0mhisttype\u001b[0m\u001b[1;33m,\u001b[0m\u001b[1;33m\u001b[0m\u001b[1;33m\u001b[0m\u001b[0m\n",
      "\u001b[1;32m~\\Anaconda3\\lib\\site-packages\\matplotlib\\__init__.py\u001b[0m in \u001b[0;36minner\u001b[1;34m(ax, data, *args, **kwargs)\u001b[0m\n\u001b[0;32m   1436\u001b[0m     \u001b[1;32mdef\u001b[0m \u001b[0minner\u001b[0m\u001b[1;33m(\u001b[0m\u001b[0max\u001b[0m\u001b[1;33m,\u001b[0m \u001b[1;33m*\u001b[0m\u001b[0margs\u001b[0m\u001b[1;33m,\u001b[0m \u001b[0mdata\u001b[0m\u001b[1;33m=\u001b[0m\u001b[1;32mNone\u001b[0m\u001b[1;33m,\u001b[0m \u001b[1;33m**\u001b[0m\u001b[0mkwargs\u001b[0m\u001b[1;33m)\u001b[0m\u001b[1;33m:\u001b[0m\u001b[1;33m\u001b[0m\u001b[1;33m\u001b[0m\u001b[0m\n\u001b[0;32m   1437\u001b[0m         \u001b[1;32mif\u001b[0m \u001b[0mdata\u001b[0m \u001b[1;32mis\u001b[0m \u001b[1;32mNone\u001b[0m\u001b[1;33m:\u001b[0m\u001b[1;33m\u001b[0m\u001b[1;33m\u001b[0m\u001b[0m\n\u001b[1;32m-> 1438\u001b[1;33m             \u001b[1;32mreturn\u001b[0m \u001b[0mfunc\u001b[0m\u001b[1;33m(\u001b[0m\u001b[0max\u001b[0m\u001b[1;33m,\u001b[0m \u001b[1;33m*\u001b[0m\u001b[0mmap\u001b[0m\u001b[1;33m(\u001b[0m\u001b[0msanitize_sequence\u001b[0m\u001b[1;33m,\u001b[0m \u001b[0margs\u001b[0m\u001b[1;33m)\u001b[0m\u001b[1;33m,\u001b[0m \u001b[1;33m**\u001b[0m\u001b[0mkwargs\u001b[0m\u001b[1;33m)\u001b[0m\u001b[1;33m\u001b[0m\u001b[1;33m\u001b[0m\u001b[0m\n\u001b[0m\u001b[0;32m   1439\u001b[0m \u001b[1;33m\u001b[0m\u001b[0m\n\u001b[0;32m   1440\u001b[0m         \u001b[0mbound\u001b[0m \u001b[1;33m=\u001b[0m \u001b[0mnew_sig\u001b[0m\u001b[1;33m.\u001b[0m\u001b[0mbind\u001b[0m\u001b[1;33m(\u001b[0m\u001b[0max\u001b[0m\u001b[1;33m,\u001b[0m \u001b[1;33m*\u001b[0m\u001b[0margs\u001b[0m\u001b[1;33m,\u001b[0m \u001b[1;33m**\u001b[0m\u001b[0mkwargs\u001b[0m\u001b[1;33m)\u001b[0m\u001b[1;33m\u001b[0m\u001b[1;33m\u001b[0m\u001b[0m\n",
      "\u001b[1;32m~\\Anaconda3\\lib\\site-packages\\matplotlib\\axes\\_axes.py\u001b[0m in \u001b[0;36mhist\u001b[1;34m(self, x, bins, range, density, weights, cumulative, bottom, histtype, align, orientation, rwidth, log, color, label, stacked, **kwargs)\u001b[0m\n\u001b[0;32m   6818\u001b[0m             \u001b[1;32mif\u001b[0m \u001b[0mpatch\u001b[0m\u001b[1;33m:\u001b[0m\u001b[1;33m\u001b[0m\u001b[1;33m\u001b[0m\u001b[0m\n\u001b[0;32m   6819\u001b[0m                 \u001b[0mp\u001b[0m \u001b[1;33m=\u001b[0m \u001b[0mpatch\u001b[0m\u001b[1;33m[\u001b[0m\u001b[1;36m0\u001b[0m\u001b[1;33m]\u001b[0m\u001b[1;33m\u001b[0m\u001b[1;33m\u001b[0m\u001b[0m\n\u001b[1;32m-> 6820\u001b[1;33m                 \u001b[0mp\u001b[0m\u001b[1;33m.\u001b[0m\u001b[0mupdate\u001b[0m\u001b[1;33m(\u001b[0m\u001b[0mkwargs\u001b[0m\u001b[1;33m)\u001b[0m\u001b[1;33m\u001b[0m\u001b[1;33m\u001b[0m\u001b[0m\n\u001b[0m\u001b[0;32m   6821\u001b[0m                 \u001b[1;32mif\u001b[0m \u001b[0mlbl\u001b[0m \u001b[1;32mis\u001b[0m \u001b[1;32mnot\u001b[0m \u001b[1;32mNone\u001b[0m\u001b[1;33m:\u001b[0m\u001b[1;33m\u001b[0m\u001b[1;33m\u001b[0m\u001b[0m\n\u001b[0;32m   6822\u001b[0m                     \u001b[0mp\u001b[0m\u001b[1;33m.\u001b[0m\u001b[0mset_label\u001b[0m\u001b[1;33m(\u001b[0m\u001b[0mlbl\u001b[0m\u001b[1;33m)\u001b[0m\u001b[1;33m\u001b[0m\u001b[1;33m\u001b[0m\u001b[0m\n",
      "\u001b[1;32m~\\Anaconda3\\lib\\site-packages\\matplotlib\\artist.py\u001b[0m in \u001b[0;36mupdate\u001b[1;34m(self, props)\u001b[0m\n\u001b[0;32m    994\u001b[0m                     \u001b[0mfunc\u001b[0m \u001b[1;33m=\u001b[0m \u001b[0mgetattr\u001b[0m\u001b[1;33m(\u001b[0m\u001b[0mself\u001b[0m\u001b[1;33m,\u001b[0m \u001b[1;34mf\"set_{k}\"\u001b[0m\u001b[1;33m,\u001b[0m \u001b[1;32mNone\u001b[0m\u001b[1;33m)\u001b[0m\u001b[1;33m\u001b[0m\u001b[1;33m\u001b[0m\u001b[0m\n\u001b[0;32m    995\u001b[0m                     \u001b[1;32mif\u001b[0m \u001b[1;32mnot\u001b[0m \u001b[0mcallable\u001b[0m\u001b[1;33m(\u001b[0m\u001b[0mfunc\u001b[0m\u001b[1;33m)\u001b[0m\u001b[1;33m:\u001b[0m\u001b[1;33m\u001b[0m\u001b[1;33m\u001b[0m\u001b[0m\n\u001b[1;32m--> 996\u001b[1;33m                         raise AttributeError(f\"{type(self).__name__!r} object \"\n\u001b[0m\u001b[0;32m    997\u001b[0m                                              f\"has no property {k!r}\")\n\u001b[0;32m    998\u001b[0m                     \u001b[0mret\u001b[0m\u001b[1;33m.\u001b[0m\u001b[0mappend\u001b[0m\u001b[1;33m(\u001b[0m\u001b[0mfunc\u001b[0m\u001b[1;33m(\u001b[0m\u001b[0mv\u001b[0m\u001b[1;33m)\u001b[0m\u001b[1;33m)\u001b[0m\u001b[1;33m\u001b[0m\u001b[1;33m\u001b[0m\u001b[0m\n",
      "\u001b[1;31mAttributeError\u001b[0m: 'Rectangle' object has no property 'data_frame'"
     ]
    },
    {
     "data": {
      "image/png": "[encoded data removed]",
      "text/plain": [
       "<Figure size 432x288 with 1 Axes>"
      ]
     },
     "metadata": {
      "needs_background": "light"
     },
     "output_type": "display_data"
    }
   ],
   "source": [
    "plt.hist(data_frame = diamonds, x=\"price\")\n",
    "\n",
    "plt.show()"
   ]
  },
  {
   "cell_type": "markdown",
   "metadata": {},
   "source": [
    "<table align=\"left\">\n",
    "    <tr>\n",
    "        <td width=\"6%\">\n",
    "            <img src=\"question_icon.png\">\n",
    "        </td>\n",
    "        <td>\n",
    "            <div align=\"left\", style=\"font-size:120%\">\n",
    "                <font color=\"#21618C\">\n",
    "                    <b> 32. Plot a histrogram for 500 random numbers which have mean 0 and variance 1\n",
    "                    </b>\n",
    "                </font>\n",
    "            </div>\n",
    "        </td>\n",
    "    </tr>\n",
    "</table>"
   ]
  },
  {
   "cell_type": "code",
   "execution_count": 80,
   "metadata": {},
   "outputs": [
    {
     "ename": "NameError",
     "evalue": "name 'ff' is not defined",
     "output_type": "error",
     "traceback": [
      "\u001b[1;31m---------------------------------------------------------------------------\u001b[0m",
      "\u001b[1;31mNameError\u001b[0m                                 Traceback (most recent call last)",
      "\u001b[1;32m<ipython-input-80-e3095cdb2aa8>\u001b[0m in \u001b[0;36m<module>\u001b[1;34m\u001b[0m\n\u001b[0;32m      3\u001b[0m \u001b[1;31m# plot the distribution plot\u001b[0m\u001b[1;33m\u001b[0m\u001b[1;33m\u001b[0m\u001b[1;33m\u001b[0m\u001b[0m\n\u001b[0;32m      4\u001b[0m \u001b[1;31m# group_labels is the a necessary argument, set it to \"X\" for univariate data\u001b[0m\u001b[1;33m\u001b[0m\u001b[1;33m\u001b[0m\u001b[1;33m\u001b[0m\u001b[0m\n\u001b[1;32m----> 5\u001b[1;33m \u001b[0mfig\u001b[0m \u001b[1;33m=\u001b[0m \u001b[0mff\u001b[0m\u001b[1;33m.\u001b[0m\u001b[0mcreate_distplot\u001b[0m\u001b[1;33m(\u001b[0m\u001b[1;33m[\u001b[0m\u001b[0mnp\u001b[0m\u001b[1;33m.\u001b[0m\u001b[0mrandom\u001b[0m\u001b[1;33m.\u001b[0m\u001b[0mrandn\u001b[0m\u001b[1;33m(\u001b[0m\u001b[1;36m500\u001b[0m\u001b[1;33m)\u001b[0m\u001b[1;33m]\u001b[0m\u001b[1;33m,\u001b[0m \u001b[0mgroup_labels\u001b[0m \u001b[1;33m=\u001b[0m \u001b[1;34m'X'\u001b[0m\u001b[1;33m,\u001b[0m \u001b[0mbin_size\u001b[0m\u001b[1;33m=\u001b[0m\u001b[1;36m.1\u001b[0m\u001b[1;33m)\u001b[0m\u001b[1;33m\u001b[0m\u001b[1;33m\u001b[0m\u001b[0m\n\u001b[0m\u001b[0;32m      6\u001b[0m \u001b[0mfig\u001b[0m\u001b[1;33m.\u001b[0m\u001b[0mshow\u001b[0m\u001b[1;33m(\u001b[0m\u001b[1;33m)\u001b[0m\u001b[1;33m\u001b[0m\u001b[1;33m\u001b[0m\u001b[0m\n",
      "\u001b[1;31mNameError\u001b[0m: name 'ff' is not defined"
     ]
    }
   ],
   "source": [
    "np.random.seed(10)\n",
    "\n",
    "# plot the distribution plot\n",
    "# group_labels is the a necessary argument, set it to \"X\" for univariate data\n",
    "fig = ff.create_distplot([np.random.randn(500)], group_labels = 'X', bin_size=.1)\n",
    "fig.show()"
   ]
  },
  {
   "cell_type": "markdown",
   "metadata": {},
   "source": [
    "<table align=\"left\">\n",
    "    <tr>\n",
    "        <td width=\"6%\">\n",
    "            <img src=\"question_icon.png\">\n",
    "        </td>\n",
    "        <td>\n",
    "            <div align=\"left\", style=\"font-size:120%\">\n",
    "                <font color=\"#21618C\">\n",
    "                    <b> 33. Using the 'tips' data from seaborn, plot a violin plot for 'tips' based on the 'sex'\n",
    "                    </b>\n",
    "                </font>\n",
    "            </div>\n",
    "        </td>\n",
    "    </tr>\n",
    "</table>    "
   ]
  },
  {
   "cell_type": "code",
   "execution_count": 82,
   "metadata": {},
   "outputs": [
    {
     "ename": "NameError",
     "evalue": "name 'go' is not defined",
     "output_type": "error",
     "traceback": [
      "\u001b[1;31m---------------------------------------------------------------------------\u001b[0m",
      "\u001b[1;31mNameError\u001b[0m                                 Traceback (most recent call last)",
      "\u001b[1;32m<ipython-input-82-6a11b124a727>\u001b[0m in \u001b[0;36m<module>\u001b[1;34m\u001b[0m\n\u001b[0;32m      1\u001b[0m \u001b[0mtips\u001b[0m \u001b[1;33m=\u001b[0m \u001b[0msns\u001b[0m\u001b[1;33m.\u001b[0m\u001b[0mload_dataset\u001b[0m\u001b[1;33m(\u001b[0m\u001b[1;34m'tips'\u001b[0m\u001b[1;33m)\u001b[0m\u001b[1;33m\u001b[0m\u001b[1;33m\u001b[0m\u001b[0m\n\u001b[0;32m      2\u001b[0m \u001b[0mtips\u001b[0m\u001b[1;33m.\u001b[0m\u001b[0mhead\u001b[0m\u001b[1;33m(\u001b[0m\u001b[1;33m)\u001b[0m\u001b[1;33m\u001b[0m\u001b[1;33m\u001b[0m\u001b[0m\n\u001b[1;32m----> 3\u001b[1;33m \u001b[0mfig\u001b[0m \u001b[1;33m=\u001b[0m \u001b[0mgo\u001b[0m\u001b[1;33m.\u001b[0m\u001b[0mFigure\u001b[0m\u001b[1;33m(\u001b[0m\u001b[1;33m)\u001b[0m\u001b[1;33m\u001b[0m\u001b[1;33m\u001b[0m\u001b[0m\n\u001b[0m\u001b[0;32m      4\u001b[0m \u001b[1;33m\u001b[0m\u001b[0m\n\u001b[0;32m      5\u001b[0m \u001b[1;31m# plot the violin plot\u001b[0m\u001b[1;33m\u001b[0m\u001b[1;33m\u001b[0m\u001b[1;33m\u001b[0m\u001b[0m\n",
      "\u001b[1;31mNameError\u001b[0m: name 'go' is not defined"
     ]
    }
   ],
   "source": [
    "tips = sns.load_dataset('tips')\n",
    "tips.head()\n",
    "fig = go.Figure()\n",
    "\n",
    "# plot the violin plot\n",
    "# x specifies the data on x axis\n",
    "# y specifies the data on y axis\n",
    "# name is the label give to that side\n",
    "# side specifies the side of the violin plot\n",
    "# line_color sets the color of the plot\n",
    "\n",
    "# plot tips given by females\n",
    "fig.add_trace(go.Violin(x = tips['day'][ tips['sex'] == 'Female'],\n",
    "                        y = tips['total_bill'][ tips['sex'] == 'Female'],\n",
    "                        name='Yes',side = 'negative', line_color = 'blue'))\n",
    "\n",
    "# plot tips given by males\n",
    "fig.add_trace(go.Violin(x=tips['day'][ tips['sex'] == 'Male' ],\n",
    "                        y=tips['total_bill'][ tips['sex'] == 'Male'],\n",
    "                        name='No', side='positive', line_color='orange') )\n",
    "\n",
    "\n",
    "# plot the mean line\n",
    "fig.update_traces(meanline_visible=True)\n",
    "\n",
    "# display the plot\n",
    "fig.show()"
   ]
  },
  {
   "cell_type": "markdown",
   "metadata": {},
   "source": [
    "<table align=\"left\">\n",
    "    <tr>\n",
    "        <td width=\"6%\">\n",
    "            <img src=\"question_icon.png\">\n",
    "        </td>\n",
    "        <td>\n",
    "            <div align=\"left\", style=\"font-size:120%\">\n",
    "                <font color=\"#21618C\">\n",
    "                    <b> 34. Using the tips dataset from seaborn, plot a donut plot with legend representing the percentage of the tip got on that day\n",
    "                    </b>\n",
    "                </font>\n",
    "            </div>\n",
    "        </td>\n",
    "    </tr>\n",
    "</table>"
   ]
  },
  {
   "cell_type": "code",
   "execution_count": null,
   "metadata": {},
   "outputs": [],
   "source": [
    "df = px.data.tips()\n",
    "\n",
    "# plot a pie plot\n",
    "# value specify the values of the data\n",
    "# names specify the labels for the legend\n",
    "fig = px.pie(df, values='tip', names='day')\n",
    "\n",
    "# modify the pie plot\n",
    "# hoverinfo specifies the hover information\n",
    "# textfont_size specifies the font of text size\n",
    "# hole sets the size of the inner circle\n",
    "# marker represent the modifications to be made to each wedge\n",
    "# colors specify the color of each wedge\n",
    "# line specify modification on the border\n",
    "# color='#000000' specifies that the border color should be black\n",
    "# width=2 specifies that the border size should be 2\n",
    "fig.update_traces(hoverinfo='label', textfont_size=20, hole=.4,               \n",
    "               marker=dict(colors= ['gold', 'mediumturquoise', 'darkorange', 'lightgreen'], \n",
    "                           line=dict(color='#000000', width=2)))\n",
    "\n",
    "# display the plot\n",
    "fig.show()"
   ]
  },
  {
   "cell_type": "markdown",
   "metadata": {},
   "source": [
    "<table align=\"left\">\n",
    "    <tr>\n",
    "        <td width=\"6%\">\n",
    "            <img src=\"question_icon.png\">\n",
    "        </td>\n",
    "        <td>\n",
    "            <div align=\"left\", style=\"font-size:120%\">\n",
    "                <font color=\"#21618C\">\n",
    "                    <b> 35. The exports and imports (in billion dollars) is given for a country from 2001 to 2005. Draw a barplot for the data\n",
    "                    </b>\n",
    "                </font>\n",
    "            </div>\n",
    "        </td>\n",
    "    </tr>\n",
    "</table>"
   ]
  },
  {
   "cell_type": "code",
   "execution_count": null,
   "metadata": {},
   "outputs": [],
   "source": [
    "year = ['2001', '2002', '2003', '2004', '2005']\n",
    "imports = [54.4, 53.8, 61.6, 74.15, 89.33]\n",
    "exports = [42.5, 44.5, 48.3, 57.24, 69.1]\n",
    "\n",
    "# initialize the plot\n",
    "fig = go.Figure()\n",
    "\n",
    "# plot the multiple barplot\n",
    "# x is the variable on x-axis\n",
    "# y is the variable on y-axis\n",
    "# marker_color specifies the marker color\n",
    "# text specifies the text to go on each barplot\n",
    "# textposition is the position where the text is to be displayed\n",
    "\n",
    "# plot the imports data\n",
    "fig.add_trace(go.Bar(x = year, y = imports, name = 'Imports', marker_color = 'lightslategrey', text=imports,\n",
    "            textposition='auto'))\n",
    "\n",
    "# plot the exports data\n",
    "fig.add_trace(go.Bar(x = year, y = exports, name='Exports', marker_color = 'crimson',text=exports,\n",
    "            textposition='auto'))\n",
    "\n",
    "# set the tickangle of the x-axis\n",
    "fig.update_layout(barmode='group', xaxis_tickangle=-90)\n",
    "fig.show()"
   ]
  }
 ],
 "metadata": {
  "kernelspec": {
   "display_name": "Python 3",
   "language": "python",
   "name": "python3"
  },
  "language_info": {
   "codemirror_mode": {
    "name": "ipython",
    "version": 3
   },
   "file_extension": ".py",
   "mimetype": "text/x-python",
   "name": "python",
   "nbconvert_exporter": "python",
   "pygments_lexer": "ipython3",
   "version": "3.8.5"
  }
 },
 "nbformat": 4,
 "nbformat_minor": 2
}
