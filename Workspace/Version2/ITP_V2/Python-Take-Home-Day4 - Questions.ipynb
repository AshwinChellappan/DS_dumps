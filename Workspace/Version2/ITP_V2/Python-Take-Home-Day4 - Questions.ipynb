{
 "cells": [
  {
   "cell_type": "raw",
   "metadata": {
    "colab_type": "text",
    "id": "NNeCVvUeQKBd"
   },
   "source": [
    "1.Write a Python function to check whether 3 is prime or not?"
   ]
  },
  {
   "cell_type": "code",
   "execution_count": 8,
   "metadata": {
    "colab": {},
    "colab_type": "code",
    "id": "BIg1fk9aQKBg"
   },
   "outputs": [
    {
     "data": {
      "text/plain": [
       "'prime'"
      ]
     },
     "execution_count": 8,
     "metadata": {},
     "output_type": "execute_result"
    }
   ],
   "source": [
    "def checkprime(x):\n",
    "    if(x>1):\n",
    "        for i in range(2,x+1):\n",
    "            if(x%i==0):\n",
    "                return('Not a Prime')\n",
    "                break\n",
    "            else:\n",
    "                return('prime')\n",
    "checkprime(3)"
   ]
  },
  {
   "cell_type": "raw",
   "metadata": {
    "colab_type": "text",
    "id": "xnwMyT8rQKBn"
   },
   "source": [
    "2.Write a Python function to check the 'string = ASDBDSA' is palindrome or not?"
   ]
  },
  {
   "cell_type": "code",
   "execution_count": 5,
   "metadata": {
    "colab": {},
    "colab_type": "code",
    "id": "wT2gBvS_QKBo"
   },
   "outputs": [
    {
     "data": {
      "text/plain": [
       "'Palindrome'"
      ]
     },
     "execution_count": 5,
     "metadata": {},
     "output_type": "execute_result"
    }
   ],
   "source": [
    "def checkPalindrome(x):\n",
    "    if(''.join(reversed(x))==x):\n",
    "        return\"Palindrome\"\n",
    "    else:\n",
    "        return \"Not a palindrome\"\n",
    "\n",
    "checkPalindrome(\"ASDBDSA\")"
   ]
  },
  {
   "cell_type": "raw",
   "metadata": {
    "colab_type": "text",
    "id": "-T681W99QKBx"
   },
   "source": [
    "3. Write a Python function to print  i**2 in the given range (1,10) "
   ]
  },
  {
   "cell_type": "code",
   "execution_count": 6,
   "metadata": {
    "colab": {},
    "colab_type": "code",
    "id": "aawW_qJFQKBy"
   },
   "outputs": [
    {
     "data": {
      "text/plain": [
       "[1, 4, 9, 16, 25, 36, 49, 64, 81]"
      ]
     },
     "execution_count": 6,
     "metadata": {},
     "output_type": "execute_result"
    }
   ],
   "source": [
    "def getfunct():\n",
    "    a=[]\n",
    "    for i in range(1,10):\n",
    "        a.append(i**2)\n",
    "    return (a)\n",
    "getfunct()"
   ]
  },
  {
   "cell_type": "raw",
   "metadata": {
    "colab_type": "text",
    "id": "aWHZaERWQKB1"
   },
   "source": [
    "4.Write a Python function to calculate the harmonic [1 / n + (sum(n - 1))] for numbers (4,9)"
   ]
  },
  {
   "cell_type": "code",
   "execution_count": null,
   "metadata": {},
   "outputs": [],
   "source": [
    "def getfunct1():\n",
    "    a=[]\n",
    "    for i in range(4,9):\n",
    "        a.append(1/i+(sum(i-1)))\n",
    "    return (a)\n",
    "getfunct1()"
   ]
  },
  {
   "cell_type": "raw",
   "metadata": {
    "colab_type": "text",
    "id": "NGmjB-9VQKB8"
   },
   "source": [
    "5.Write a Python function to calculate the geometric [1 / (pow(2, n)) + sum(n - 1)] for numbers (4,9)"
   ]
  },
  {
   "cell_type": "code",
   "execution_count": null,
   "metadata": {},
   "outputs": [],
   "source": [
    "def getgeometric(n):\n",
    "    a=1/(pow(2,n))+sum(n-1)\n",
    "    return a       \n",
    "getgeometric(4)\n",
    "getgeometric(9)"
   ]
  },
  {
   "cell_type": "raw",
   "metadata": {
    "colab_type": "text",
    "id": "TAa4mr9SQKCA"
   },
   "source": [
    "Types of arguments\n",
    "\n",
    "\n",
    "    1. Required arguments\n",
    "    2. Keyword arguments\n",
    "    3. Default arguments\n",
    "    4. Variable-length arguments"
   ]
  },
  {
   "cell_type": "raw",
   "metadata": {
    "colab_type": "text",
    "id": "x71L5EyYQKCE"
   },
   "source": [
    "1. Required arguments: \n",
    "Write a program to calculate sum of two numbers, accept 2 arguments and return the sum accordingly"
   ]
  },
  {
   "cell_type": "code",
   "execution_count": 8,
   "metadata": {
    "colab": {},
    "colab_type": "code",
    "id": "QFVqchijQKCF"
   },
   "outputs": [
    {
     "data": {
      "text/plain": [
       "5"
      ]
     },
     "execution_count": 8,
     "metadata": {},
     "output_type": "execute_result"
    }
   ],
   "source": [
    "def dosum(x,y):\n",
    "    return(x+y)\n",
    "dosum(2,3)"
   ]
  },
  {
   "cell_type": "raw",
   "metadata": {
    "colab_type": "text",
    "id": "3w-oozDqQKCI"
   },
   "source": [
    "2.Keyword arguments:\n",
    "calculate the compund interest using 3 arguments. \n",
    "Formula: principle * (pow((1 + rate / 100), time)"
   ]
  },
  {
   "cell_type": "code",
   "execution_count": 12,
   "metadata": {
    "colab": {},
    "colab_type": "code",
    "id": "hi7dHWUjQKCJ"
   },
   "outputs": [
    {
     "data": {
      "text/plain": [
       "112.55088100000002"
      ]
     },
     "execution_count": 12,
     "metadata": {},
     "output_type": "execute_result"
    }
   ],
   "source": [
    "def docompound (x,y,z):\n",
    "    return(x*(pow((1+y/100),z)))\n",
    "docompound(100,3,4)"
   ]
  },
  {
   "cell_type": "raw",
   "metadata": {
    "colab_type": "text",
    "id": "4XThVLgDQKCM"
   },
   "source": [
    "3. Default arguments:\n",
    "For the above compund interest calculation set default rate as 90"
   ]
  },
  {
   "cell_type": "code",
   "execution_count": 13,
   "metadata": {
    "colab": {},
    "colab_type": "code",
    "id": "9r-CLgEzQKCM"
   },
   "outputs": [
    {
     "data": {
      "text/plain": [
       "112.55088100000002"
      ]
     },
     "execution_count": 13,
     "metadata": {},
     "output_type": "execute_result"
    }
   ],
   "source": [
    "def docompound (x,y,z=4):\n",
    "    return(x*(pow((1+y/100),z)))\n",
    "docompound(100,3)"
   ]
  },
  {
   "cell_type": "markdown",
   "metadata": {
    "colab_type": "text",
    "id": "YiOEdq03QKCP"
   },
   "source": [
    "## lambda function"
   ]
  },
  {
   "cell_type": "raw",
   "metadata": {
    "colab_type": "text",
    "id": "OK3oLGy1QKCP"
   },
   "source": [
    "1. Write a map function to find if the given list = [15, 47, 122, 48, 54, 562, 80, 923, 173, 461]  is divisible by 16 output should be boolean"
   ]
  },
  {
   "cell_type": "code",
   "execution_count": 1,
   "metadata": {
    "colab": {},
    "colab_type": "code",
    "id": "Qs_1tzQ2QKCQ"
   },
   "outputs": [
    {
     "data": {
      "text/plain": [
       "['False',\n",
       " 'False',\n",
       " 'False',\n",
       " 'True',\n",
       " 'False',\n",
       " 'False',\n",
       " 'True',\n",
       " 'False',\n",
       " 'False',\n",
       " 'False']"
      ]
     },
     "execution_count": 1,
     "metadata": {},
     "output_type": "execute_result"
    }
   ],
   "source": [
    " list1 = [15, 47, 122, 48, 54, 562, 80, 923, 173, 461]\n",
    "list(map(lambda x: \"True\" if(x%16==0) else \"False\",list1))\n"
   ]
  },
  {
   "cell_type": "raw",
   "metadata": {
    "colab_type": "text",
    "id": "HXf-NmDbQKCT"
   },
   "source": [
    "2. Use the map() function to calculate the cube of all numbers in the list: lis1 = [2,4,5,6677,353,464]\n"
   ]
  },
  {
   "cell_type": "code",
   "execution_count": 3,
   "metadata": {
    "colab": {},
    "colab_type": "code",
    "id": "lE_T6MFSQKCU"
   },
   "outputs": [
    {
     "data": {
      "text/plain": [
       "[8, 64, 125, 297676210733, 43986977, 99897344]"
      ]
     },
     "execution_count": 3,
     "metadata": {},
     "output_type": "execute_result"
    }
   ],
   "source": [
    "lis1 = [2,4,5,6677,353,464]\n",
    "list(map(lambda x: x*x*x,lis1))"
   ]
  },
  {
   "cell_type": "raw",
   "metadata": {
    "colab_type": "text",
    "id": "OV0zvWSqQKCY"
   },
   "source": [
    "3.In the given list = [1,2,3,4,5] get the square of numbers using lambda function"
   ]
  },
  {
   "cell_type": "code",
   "execution_count": 1,
   "metadata": {
    "colab": {},
    "colab_type": "code",
    "id": "9JqBjvTZQKCa"
   },
   "outputs": [
    {
     "data": {
      "text/plain": [
       "[1, 4, 9, 16, 25]"
      ]
     },
     "execution_count": 1,
     "metadata": {},
     "output_type": "execute_result"
    }
   ],
   "source": [
    "list1 = [1,2,3,4,5]\n",
    "list(map(lambda x:x**2,list1))"
   ]
  }
 ],
 "metadata": {
  "colab": {
   "collapsed_sections": [
    "NNeCVvUeQKBd",
    "TAa4mr9SQKCA",
    "OV0zvWSqQKCY"
   ],
   "name": "Take-Home-Day4-Questions-Bug_Free.ipynb",
   "provenance": []
  },
  "kernelspec": {
   "display_name": "Python 3",
   "language": "python",
   "name": "python3"
  },
  "language_info": {
   "codemirror_mode": {
    "name": "ipython",
    "version": 3
   },
   "file_extension": ".py",
   "mimetype": "text/x-python",
   "name": "python",
   "nbconvert_exporter": "python",
   "pygments_lexer": "ipython3",
   "version": "3.8.3"
  }
 },
 "nbformat": 4,
 "nbformat_minor": 1
}
