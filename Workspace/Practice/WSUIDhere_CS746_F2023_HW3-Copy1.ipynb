{
 "cells": [
  {
   "cell_type": "code",
   "execution_count": 40,
   "id": "2deef7ae-0a30-40b4-a97a-27271348d6a4",
   "metadata": {
    "scrolled": true
   },
   "outputs": [
    {
     "ename": "SyntaxError",
     "evalue": "name 'gf_table_size' is parameter and global (<ipython-input-40-7750e1f8d6f7>, line 2)",
     "output_type": "error",
     "traceback": [
      "\u001b[1;36m  File \u001b[1;32m\"<ipython-input-40-7750e1f8d6f7>\"\u001b[1;36m, line \u001b[1;32m2\u001b[0m\n\u001b[1;33m    global gf_table_size\u001b[0m\n\u001b[1;37m    ^\u001b[0m\n\u001b[1;31mSyntaxError\u001b[0m\u001b[1;31m:\u001b[0m name 'gf_table_size' is parameter and global\n"
     ]
    }
   ],
   "source": [
    "\n",
    "def generate_tables(gf_table_size,polynomial):\n",
    "    global gf_table_size\n",
    "    polynomial = 0x11d # 2**8 + 2**4 + 2**3 + 2**2 + 1 =  1 0001 1101 binary\n",
    "    s = 8\n",
    "    gf_table_size = 1 << s # 1<<8 = 0x100 = 256 = 2**8\n",
    "\n",
    "    # Initialize \n",
    "    gflog = gf_table_size * [0]\n",
    "    gfilog = gf_table_size * [0]\n",
    "    #print(\"gflog-->\",gflog)\n",
    "\n",
    "    b = 1\n",
    "    for i in range(0, gf_table_size):\n",
    "        gflog[b] = i    # & 255\n",
    "        gfilog[i] = b   # & 255 \n",
    "        b <<= 1\n",
    "        # Following line could also be expressed as \"if b >= gf_table_size\"\n",
    "        if b & gf_table_size:\n",
    "            b ^= polynomial\n",
    "\n",
    "    gflog[1] = 0; # Q for students: Why do you think is this needed? Try printing it out and see.\n",
    "    return (gflog, gfilog)\n",
    "\n",
    "# Note gf_table_size is now a global variable. Consider writing a helper function to control access to it.\n"
   ]
  },
  {
   "cell_type": "code",
   "execution_count": 1,
   "id": "003e05c1",
   "metadata": {},
   "outputs": [],
   "source": [
    "def dump_table(caption, tab):\n",
    "    item = 0\n",
    "    print(\"--- {} ---\".format(caption))\n",
    "    for i in tab:\n",
    "        print(\"0x{:02x}, \".format(i), end=\"\")\n",
    "        item += 1\n",
    "        if item % 16 == 0:\n",
    "            item = 0\n",
    "            print()\n",
    "    print(\"\")"
   ]
  },
  {
   "cell_type": "code",
   "execution_count": 2,
   "id": "108ae0e9",
   "metadata": {},
   "outputs": [],
   "source": [
    "def qdump(tab):\n",
    "    item = 0\n",
    "    for i in tab:\n",
    "        print(\"0x{:02x}, \".format(i), end=\"\")\n",
    "        item += 1\n",
    "        if item % 16 == 0:\n",
    "            item = 0\n",
    "            print()\n",
    "    print(\"\")"
   ]
  },
  {
   "cell_type": "code",
   "execution_count": 5,
   "id": "2be872ac",
   "metadata": {},
   "outputs": [],
   "source": [
    "#(gflog, gfilog) = generate_tables()\n",
    "#Sample of desired new interface:\n",
    "(gflog, gfilog) = generate_tables(8,0x11d)"
   ]
  },
  {
   "cell_type": "code",
   "execution_count": 7,
   "id": "4b225d42-720c-45ef-b9af-1e995e64bc52",
   "metadata": {
    "scrolled": false
   },
   "outputs": [
    {
     "name": "stdout",
     "output_type": "stream",
     "text": [
      "--- gflog ---\n",
      "0x00, 0x00, 0x01, 0x19, 0x02, 0x32, 0x1a, 0xc6, 0x03, 0xdf, 0x33, 0xee, 0x1b, 0x68, 0xc7, 0x4b, \n",
      "0x04, 0x64, 0xe0, 0x0e, 0x34, 0x8d, 0xef, 0x81, 0x1c, 0xc1, 0x69, 0xf8, 0xc8, 0x08, 0x4c, 0x71, \n",
      "0x05, 0x8a, 0x65, 0x2f, 0xe1, 0x24, 0x0f, 0x21, 0x35, 0x93, 0x8e, 0xda, 0xf0, 0x12, 0x82, 0x45, \n",
      "0x1d, 0xb5, 0xc2, 0x7d, 0x6a, 0x27, 0xf9, 0xb9, 0xc9, 0x9a, 0x09, 0x78, 0x4d, 0xe4, 0x72, 0xa6, \n",
      "0x06, 0xbf, 0x8b, 0x62, 0x66, 0xdd, 0x30, 0xfd, 0xe2, 0x98, 0x25, 0xb3, 0x10, 0x91, 0x22, 0x88, \n",
      "0x36, 0xd0, 0x94, 0xce, 0x8f, 0x96, 0xdb, 0xbd, 0xf1, 0xd2, 0x13, 0x5c, 0x83, 0x38, 0x46, 0x40, \n",
      "0x1e, 0x42, 0xb6, 0xa3, 0xc3, 0x48, 0x7e, 0x6e, 0x6b, 0x3a, 0x28, 0x54, 0xfa, 0x85, 0xba, 0x3d, \n",
      "0xca, 0x5e, 0x9b, 0x9f, 0x0a, 0x15, 0x79, 0x2b, 0x4e, 0xd4, 0xe5, 0xac, 0x73, 0xf3, 0xa7, 0x57, \n",
      "0x07, 0x70, 0xc0, 0xf7, 0x8c, 0x80, 0x63, 0x0d, 0x67, 0x4a, 0xde, 0xed, 0x31, 0xc5, 0xfe, 0x18, \n",
      "0xe3, 0xa5, 0x99, 0x77, 0x26, 0xb8, 0xb4, 0x7c, 0x11, 0x44, 0x92, 0xd9, 0x23, 0x20, 0x89, 0x2e, \n",
      "0x37, 0x3f, 0xd1, 0x5b, 0x95, 0xbc, 0xcf, 0xcd, 0x90, 0x87, 0x97, 0xb2, 0xdc, 0xfc, 0xbe, 0x61, \n",
      "0xf2, 0x56, 0xd3, 0xab, 0x14, 0x2a, 0x5d, 0x9e, 0x84, 0x3c, 0x39, 0x53, 0x47, 0x6d, 0x41, 0xa2, \n",
      "0x1f, 0x2d, 0x43, 0xd8, 0xb7, 0x7b, 0xa4, 0x76, 0xc4, 0x17, 0x49, 0xec, 0x7f, 0x0c, 0x6f, 0xf6, \n",
      "0x6c, 0xa1, 0x3b, 0x52, 0x29, 0x9d, 0x55, 0xaa, 0xfb, 0x60, 0x86, 0xb1, 0xbb, 0xcc, 0x3e, 0x5a, \n",
      "0xcb, 0x59, 0x5f, 0xb0, 0x9c, 0xa9, 0xa0, 0x51, 0x0b, 0xf5, 0x16, 0xeb, 0x7a, 0x75, 0x2c, 0xd7, \n",
      "0x4f, 0xae, 0xd5, 0xe9, 0xe6, 0xe7, 0xad, 0xe8, 0x74, 0xd6, 0xf4, 0xea, 0xa8, 0x50, 0x58, 0xaf, \n",
      "\n",
      "--- gfilog ---\n",
      "0x01, 0x02, 0x04, 0x08, 0x10, 0x20, 0x40, 0x80, 0x1d, 0x3a, 0x74, 0xe8, 0xcd, 0x87, 0x13, 0x26, \n",
      "0x4c, 0x98, 0x2d, 0x5a, 0xb4, 0x75, 0xea, 0xc9, 0x8f, 0x03, 0x06, 0x0c, 0x18, 0x30, 0x60, 0xc0, \n",
      "0x9d, 0x27, 0x4e, 0x9c, 0x25, 0x4a, 0x94, 0x35, 0x6a, 0xd4, 0xb5, 0x77, 0xee, 0xc1, 0x9f, 0x23, \n",
      "0x46, 0x8c, 0x05, 0x0a, 0x14, 0x28, 0x50, 0xa0, 0x5d, 0xba, 0x69, 0xd2, 0xb9, 0x6f, 0xde, 0xa1, \n",
      "0x5f, 0xbe, 0x61, 0xc2, 0x99, 0x2f, 0x5e, 0xbc, 0x65, 0xca, 0x89, 0x0f, 0x1e, 0x3c, 0x78, 0xf0, \n",
      "0xfd, 0xe7, 0xd3, 0xbb, 0x6b, 0xd6, 0xb1, 0x7f, 0xfe, 0xe1, 0xdf, 0xa3, 0x5b, 0xb6, 0x71, 0xe2, \n",
      "0xd9, 0xaf, 0x43, 0x86, 0x11, 0x22, 0x44, 0x88, 0x0d, 0x1a, 0x34, 0x68, 0xd0, 0xbd, 0x67, 0xce, \n",
      "0x81, 0x1f, 0x3e, 0x7c, 0xf8, 0xed, 0xc7, 0x93, 0x3b, 0x76, 0xec, 0xc5, 0x97, 0x33, 0x66, 0xcc, \n",
      "0x85, 0x17, 0x2e, 0x5c, 0xb8, 0x6d, 0xda, 0xa9, 0x4f, 0x9e, 0x21, 0x42, 0x84, 0x15, 0x2a, 0x54, \n",
      "0xa8, 0x4d, 0x9a, 0x29, 0x52, 0xa4, 0x55, 0xaa, 0x49, 0x92, 0x39, 0x72, 0xe4, 0xd5, 0xb7, 0x73, \n",
      "0xe6, 0xd1, 0xbf, 0x63, 0xc6, 0x91, 0x3f, 0x7e, 0xfc, 0xe5, 0xd7, 0xb3, 0x7b, 0xf6, 0xf1, 0xff, \n",
      "0xe3, 0xdb, 0xab, 0x4b, 0x96, 0x31, 0x62, 0xc4, 0x95, 0x37, 0x6e, 0xdc, 0xa5, 0x57, 0xae, 0x41, \n",
      "0x82, 0x19, 0x32, 0x64, 0xc8, 0x8d, 0x07, 0x0e, 0x1c, 0x38, 0x70, 0xe0, 0xdd, 0xa7, 0x53, 0xa6, \n",
      "0x51, 0xa2, 0x59, 0xb2, 0x79, 0xf2, 0xf9, 0xef, 0xc3, 0x9b, 0x2b, 0x56, 0xac, 0x45, 0x8a, 0x09, \n",
      "0x12, 0x24, 0x48, 0x90, 0x3d, 0x7a, 0xf4, 0xf5, 0xf7, 0xf3, 0xfb, 0xeb, 0xcb, 0x8b, 0x0b, 0x16, \n",
      "0x2c, 0x58, 0xb0, 0x7d, 0xfa, 0xe9, 0xcf, 0x83, 0x1b, 0x36, 0x6c, 0xd8, 0xad, 0x47, 0x8e, 0x01, \n",
      "\n"
     ]
    }
   ],
   "source": [
    "#You may uncomment this code for testing.\n",
    "dump_table(\"gflog\",gflog)\n",
    "dump_table(\"gfilog\",gfilog)"
   ]
  },
  {
   "cell_type": "code",
   "execution_count": 10,
   "id": "d1add74d",
   "metadata": {},
   "outputs": [
    {
     "ename": "NameError",
     "evalue": "name 'gf_table_size' is not defined",
     "output_type": "error",
     "traceback": [
      "\u001b[1;31m---------------------------------------------------------------------------\u001b[0m",
      "\u001b[1;31mNameError\u001b[0m                                 Traceback (most recent call last)",
      "\u001b[1;32m<ipython-input-10-3a9e0cbc062a>\u001b[0m in \u001b[0;36m<module>\u001b[1;34m\u001b[0m\n\u001b[1;32m----> 1\u001b[1;33m \u001b[0mgf_table_size\u001b[0m\u001b[1;33m\u001b[0m\u001b[1;33m\u001b[0m\u001b[0m\n\u001b[0m",
      "\u001b[1;31mNameError\u001b[0m: name 'gf_table_size' is not defined"
     ]
    }
   ],
   "source": [
    "gf_table_size"
   ]
  },
  {
   "cell_type": "code",
   "execution_count": 13,
   "id": "0e59135a",
   "metadata": {},
   "outputs": [
    {
     "name": "stdout",
     "output_type": "stream",
     "text": [
      "gflog(n) n   gfilog(n)\n"
     ]
    }
   ],
   "source": [
    "#You may uncomment this code to dump log/antilog columns for testing.\n",
    "print (\"gflog(n) n   gfilog(n)\")\n",
    "#num_to_print=min(64,gf_table_size)\n",
    "#for index in range(num_to_print):\n",
    "#    print (\"{:02x}       {:02x}  {:02x}\".format(gflog[index],index, gfilog[index]))"
   ]
  },
  {
   "cell_type": "code",
   "execution_count": 14,
   "id": "0409860b-9258-41f3-af0b-e0b5d66f9692",
   "metadata": {
    "scrolled": true
   },
   "outputs": [],
   "source": [
    "# Galois Field Mathematics"
   ]
  },
  {
   "cell_type": "code",
   "execution_count": 14,
   "id": "b67af9f2",
   "metadata": {},
   "outputs": [],
   "source": [
    "# Addition\n",
    "# Under a Galois Field 2^n, addition is always a simple XOR.\n",
    "#The below code doesn't rely on specific field size (2^8 or 2^n). So code remains same\n",
    "def gf_add(*args):\n",
    "    result = 0\n",
    "    for arg in args:\n",
    "        result ^= arg\n",
    "\n",
    "    return result"
   ]
  },
  {
   "cell_type": "code",
   "execution_count": 15,
   "id": "3fe89d67",
   "metadata": {},
   "outputs": [],
   "source": [
    "# Multiplication\n",
    "#Specific to GF(2^8)\n",
    "def gf_mul(a, b):\n",
    "    global gflog\n",
    "    global gfilog\n",
    "\n",
    "    if a == 0 or b == 0:\n",
    "        return 0\n",
    "    else:\n",
    "        return gfilog[(gflog[a] + gflog[b]) % 255]"
   ]
  },
  {
   "cell_type": "code",
   "execution_count": 16,
   "id": "13ee3be6",
   "metadata": {},
   "outputs": [],
   "source": [
    "# Multiplication\n",
    "#Specific to GF(2^n)\n",
    "def gf_mul(a, b, gf_table_size):\n",
    "    global gflog\n",
    "    global gfilog\n",
    "    if a == 0 or b == 0:\n",
    "        return 0\n",
    "    else:\n",
    "        return gfilog[(gflog[a] + gflog[b]) % gf_table_size]"
   ]
  },
  {
   "cell_type": "code",
   "execution_count": 17,
   "id": "b23a9ffd",
   "metadata": {},
   "outputs": [],
   "source": [
    "# Subtraction (Division helper) \n",
    "#Specific to GF(2^8)\n",
    "def sub_gf8(a, b):\n",
    "    if a > b:\n",
    "        return a - b\n",
    "    else:\n",
    "        return (255 - (0 - (a - b)))  # Weird way to do modulus. \n"
   ]
  },
  {
   "cell_type": "code",
   "execution_count": 18,
   "id": "d18a08e9",
   "metadata": {},
   "outputs": [],
   "source": [
    "# Subtraction (Division helper) \n",
    "#Specific to GF(2^n)\n",
    "def sub_gf(a, b, gf_table_size):\n",
    "    if a >= b:\n",
    "        return a ^ b\n",
    "    else:\n",
    "        return (a + gf_table_size) ^ b"
   ]
  },
  {
   "cell_type": "code",
   "execution_count": 19,
   "id": "059895e6",
   "metadata": {},
   "outputs": [],
   "source": [
    "# Division\n",
    "#Specific to GF(2^8) because of sub_gf8 reliance\n",
    "def gf_div(a, b):\n",
    "    global gfilog\n",
    "    global gflog\n",
    "\n",
    "    return gfilog[sub_gf8(gflog[a], gflog[b])]"
   ]
  },
  {
   "cell_type": "code",
   "execution_count": 20,
   "id": "b359d021",
   "metadata": {},
   "outputs": [],
   "source": [
    "# Division\n",
    "#Specific to GF(2^n) \n",
    "def gf_div(a, b, gf_table_size):\n",
    "    if a == 0:\n",
    "        return 0  # Division by 0 is 0 in any finite field\n",
    "    elif b == 0:\n",
    "        raise ZeroDivisionError(\"Division by zero is undefined in finite fields.\")\n",
    "\n",
    "    global gflog\n",
    "    global gfilog\n",
    "\n",
    "    return gfilog[(gflog[a] - gflog[b] + gf_table_size) % gf_table_size]"
   ]
  },
  {
   "cell_type": "code",
   "execution_count": 21,
   "id": "7a6727ab-e17e-4c59-9ec6-b609446cb718",
   "metadata": {
    "scrolled": false
   },
   "outputs": [],
   "source": [
    "commentedout='''#Print a portion of the gf Multiplication Table\n",
    "startx=0x0\n",
    "starty=0x0\n",
    "\n",
    "numrows=min(32,gf_table_size)\n",
    "numcols=min(32,gf_table_size)\n",
    "\n",
    "endx=startx+numcols\n",
    "endy=starty+numrows\n",
    "\n",
    "print (\"   |\", end=\"\")\n",
    "for x in range(startx,endx):\n",
    "    print(\" {:02x}\".format(x), end=\"\")\n",
    "print(\"\")\n",
    "print (\"---+\", end=\"\")\n",
    "for x in range(startx,endx):\n",
    "    print(\"---\",end=\"\")\n",
    "print(\"\")\n",
    "\n",
    "for y in range(starty,endy):\n",
    "    print(\"{:02x} |\".format(y), end=\"\")\n",
    "    for x in range(startx,endx):\n",
    "        print(\" {:02x}\".format(gf_mul(x,y)), end=\"\")\n",
    "    print(\"\")\n",
    "'''       \n"
   ]
  },
  {
   "cell_type": "code",
   "execution_count": null,
   "id": "1d8bfdcc-4ab6-4a70-bb07-4589159c5c01",
   "metadata": {
    "scrolled": true
   },
   "outputs": [],
   "source": []
  },
  {
   "cell_type": "code",
   "execution_count": 22,
   "id": "bcafcd01-176c-45df-9ffd-b73f096cf73f",
   "metadata": {
    "scrolled": false
   },
   "outputs": [],
   "source": [
    "# initialize data on all the data drives\n",
    "\n",
    "numdrives = 4\n",
    "blocksize = 5\n",
    "drive=[0] * numdrives\n",
    "drive[0] = [ ord('f'), ord('i'), ord('r'), ord('s'), ord('t') ]\n",
    "drive[1] = [ ord('s'), ord('e'), ord('c'), ord('n'), ord('d') ]\n",
    "drive[2] = [ ord('t'), ord('h'), ord('i'), ord('r'), ord('d') ]\n",
    "drive[3] = [ ord('f'), ord('o'), ord('r'), ord('t'), ord('h') ]"
   ]
  },
  {
   "cell_type": "code",
   "execution_count": 23,
   "id": "cfe575f3",
   "metadata": {},
   "outputs": [],
   "source": [
    "# Replace above with, e.g.:\n",
    "#def initialize_data_drives(int numdrives, int blocks_per_drive, random=True):\n",
    "#   code...\n",
    "# Where random=false leaves all drives populated with zeroes, \n",
    "#   and random=true initializes all data blocks with random bytes.\n",
    "\n",
    "# You may leave numdrives and blocksize as global variables, or write helper functions to manage them.\n",
    "def initialize_data_drives(numdrives, blocks_per_drive):\n",
    "    data_drives = []\n",
    "    for _ in range(numdrives):\n",
    "        drive = [random.randint(0, 255) for _ in range(blocks_per_drive)]\n",
    "        data_drives.append(drive)\n",
    "    return data_drives"
   ]
  },
  {
   "cell_type": "code",
   "execution_count": 24,
   "id": "7ae6f333-531a-4a20-9055-620ee611858f",
   "metadata": {
    "scrolled": true
   },
   "outputs": [],
   "source": [
    "# rezero P and Q parity drives.\n",
    "def zeroP(blocks_per_drive):\n",
    "    return [0] * blocks_per_drive\n",
    "#driveP = [0] * blocksize\n",
    "#driveQ = [0] * blocksize\n",
    "#driveP = [0] * blocks_per_drive\n",
    "#driveQ = [0] * blocks_per_drive\n",
    "def zeroQ(blocks_per_drive):\n",
    "    return [0] * blocks_per_drive\n",
    "\n",
    "# Replace above with zeroP and zeroQ functions."
   ]
  },
  {
   "cell_type": "code",
   "execution_count": 27,
   "id": "41d46356",
   "metadata": {},
   "outputs": [],
   "source": [
    "#Calling functions to create zero-filled P and Q drives.\n",
    "#zeroP(blocks_per_drive)\n",
    "#zeroQ(blocks_per_drive)"
   ]
  },
  {
   "cell_type": "code",
   "execution_count": 25,
   "id": "e206ddc2-8d22-4183-93b8-58b94fd0bfe9",
   "metadata": {
    "scrolled": true
   },
   "outputs": [],
   "source": [
    "# initialize P and Q parity drives\n",
    "\n",
    "def generateP():\n",
    "    for i in range(0, blocksize):\n",
    "        driveP[i] = 0\n",
    "        for d in range (0,numdrives):\n",
    "            driveP[i] = driveP[i] ^ drive[d][i]\n",
    "            \n",
    "    return\n"
   ]
  },
  {
   "cell_type": "code",
   "execution_count": 26,
   "id": "9be955d7",
   "metadata": {},
   "outputs": [],
   "source": [
    "def generateQ():\n",
    "    for i in range(0,blocksize):\n",
    "        driveQ[i] = 0\n",
    "        for d in range(0,numdrives):\n",
    "            driveQ[i] = gf_add(gf_mul(gfilog[d],drive[d][i]), driveQ[i])\n",
    "    return"
   ]
  },
  {
   "cell_type": "code",
   "execution_count": 27,
   "id": "c5003e53",
   "metadata": {},
   "outputs": [],
   "source": [
    "#generateP()\n",
    "#generateQ()\n",
    "# Also support (at least) single-stripe reconstruction\n",
    "\n",
    "def generateP(data_drives, failed_drives):\n",
    "    # Implement P generation logic for a single stripe\n",
    "    for i in range(0, blocksize):\n",
    "        driveP[i] = 0\n",
    "        for d in range (0,numdrives):\n",
    "            driveP[i] = driveP[i] ^ drive[d][i]\n",
    "            \n",
    "    return\n",
    "    \n",
    "def generateQ(data_drives, failed_drives):\n",
    "    # Implement Q generation logic for a single stripe\n",
    "    for i in range(0,blocksize):\n",
    "        driveQ[i] = 0\n",
    "        for d in range(0,numdrives):\n",
    "            driveQ[i] = gf_add(gf_mul(gfilog[d],drive[d][i]), driveQ[i])\n",
    "    return\n"
   ]
  },
  {
   "cell_type": "code",
   "execution_count": 34,
   "id": "fa7e33da",
   "metadata": {},
   "outputs": [
    {
     "ename": "TypeError",
     "evalue": "generateP() got an unexpected keyword argument 'stripe'",
     "output_type": "error",
     "traceback": [
      "\u001b[1;31m---------------------------------------------------------------------------\u001b[0m",
      "\u001b[1;31mTypeError\u001b[0m                                 Traceback (most recent call last)",
      "\u001b[1;32m<ipython-input-34-97613b2c1033>\u001b[0m in \u001b[0;36m<module>\u001b[1;34m\u001b[0m\n\u001b[1;32m----> 1\u001b[1;33m \u001b[0mgenerateP\u001b[0m \u001b[1;33m(\u001b[0m\u001b[0mstripe\u001b[0m\u001b[1;33m=\u001b[0m\u001b[1;36m2\u001b[0m\u001b[1;33m)\u001b[0m\u001b[1;33m\u001b[0m\u001b[1;33m\u001b[0m\u001b[0m\n\u001b[0m\u001b[0;32m      2\u001b[0m \u001b[1;31m#generateQ (stripe=2)\u001b[0m\u001b[1;33m\u001b[0m\u001b[1;33m\u001b[0m\u001b[1;33m\u001b[0m\u001b[0m\n",
      "\u001b[1;31mTypeError\u001b[0m: generateP() got an unexpected keyword argument 'stripe'"
     ]
    }
   ],
   "source": [
    "generateP (stripe=2)\n",
    "#generateQ (stripe=2)"
   ]
  },
  {
   "cell_type": "code",
   "execution_count": 28,
   "id": "bd18c37b-b8c7-4d43-bc6e-28c17af52c64",
   "metadata": {
    "scrolled": true
   },
   "outputs": [],
   "source": [
    "def dump_all_drives():\n",
    "    for d in range(0,numdrives):\n",
    "        s = \"drive{}\".format(d)\n",
    "        dump_table(s,drive[d])\n",
    "    dump_table(\"P parity\",driveP)\n",
    "    dump_table(\"Q parity\",driveQ)\n",
    "    return\n",
    "\n"
   ]
  },
  {
   "cell_type": "code",
   "execution_count": 29,
   "id": "40985201",
   "metadata": {},
   "outputs": [
    {
     "name": "stdout",
     "output_type": "stream",
     "text": [
      "--- drive0 ---\n",
      "0x66, 0x69, 0x72, 0x73, 0x74, \n",
      "--- drive1 ---\n",
      "0x73, 0x65, 0x63, 0x6e, 0x64, \n",
      "--- drive2 ---\n",
      "0x74, 0x68, 0x69, 0x72, 0x64, \n",
      "--- drive3 ---\n",
      "0x66, 0x6f, 0x72, 0x74, 0x68, \n"
     ]
    },
    {
     "ename": "NameError",
     "evalue": "name 'driveP' is not defined",
     "output_type": "error",
     "traceback": [
      "\u001b[1;31m---------------------------------------------------------------------------\u001b[0m",
      "\u001b[1;31mNameError\u001b[0m                                 Traceback (most recent call last)",
      "\u001b[1;32m<ipython-input-29-7431ba7f105c>\u001b[0m in \u001b[0;36m<module>\u001b[1;34m\u001b[0m\n\u001b[1;32m----> 1\u001b[1;33m \u001b[0mdump_all_drives\u001b[0m\u001b[1;33m(\u001b[0m\u001b[1;33m)\u001b[0m\u001b[1;33m\u001b[0m\u001b[1;33m\u001b[0m\u001b[0m\n\u001b[0m",
      "\u001b[1;32m<ipython-input-28-0eac141e683f>\u001b[0m in \u001b[0;36mdump_all_drives\u001b[1;34m()\u001b[0m\n\u001b[0;32m      3\u001b[0m         \u001b[0ms\u001b[0m \u001b[1;33m=\u001b[0m \u001b[1;34m\"drive{}\"\u001b[0m\u001b[1;33m.\u001b[0m\u001b[0mformat\u001b[0m\u001b[1;33m(\u001b[0m\u001b[0md\u001b[0m\u001b[1;33m)\u001b[0m\u001b[1;33m\u001b[0m\u001b[1;33m\u001b[0m\u001b[0m\n\u001b[0;32m      4\u001b[0m         \u001b[0mdump_table\u001b[0m\u001b[1;33m(\u001b[0m\u001b[0ms\u001b[0m\u001b[1;33m,\u001b[0m\u001b[0mdrive\u001b[0m\u001b[1;33m[\u001b[0m\u001b[0md\u001b[0m\u001b[1;33m]\u001b[0m\u001b[1;33m)\u001b[0m\u001b[1;33m\u001b[0m\u001b[1;33m\u001b[0m\u001b[0m\n\u001b[1;32m----> 5\u001b[1;33m     \u001b[0mdump_table\u001b[0m\u001b[1;33m(\u001b[0m\u001b[1;34m\"P parity\"\u001b[0m\u001b[1;33m,\u001b[0m\u001b[0mdriveP\u001b[0m\u001b[1;33m)\u001b[0m\u001b[1;33m\u001b[0m\u001b[1;33m\u001b[0m\u001b[0m\n\u001b[0m\u001b[0;32m      6\u001b[0m     \u001b[0mdump_table\u001b[0m\u001b[1;33m(\u001b[0m\u001b[1;34m\"Q parity\"\u001b[0m\u001b[1;33m,\u001b[0m\u001b[0mdriveQ\u001b[0m\u001b[1;33m)\u001b[0m\u001b[1;33m\u001b[0m\u001b[1;33m\u001b[0m\u001b[0m\n\u001b[0;32m      7\u001b[0m     \u001b[1;32mreturn\u001b[0m\u001b[1;33m\u001b[0m\u001b[1;33m\u001b[0m\u001b[0m\n",
      "\u001b[1;31mNameError\u001b[0m: name 'driveP' is not defined"
     ]
    }
   ],
   "source": [
    "dump_all_drives()"
   ]
  },
  {
   "cell_type": "code",
   "execution_count": 35,
   "id": "56741daf-817c-4623-9a9e-7f27617a514d",
   "metadata": {
    "scrolled": true
   },
   "outputs": [
    {
     "name": "stdout",
     "output_type": "stream",
     "text": [
      "--- driveP ---\n",
      "0x00, 0x00, 0x00, 0x00, 0x00, \n"
     ]
    },
    {
     "ename": "TypeError",
     "evalue": "generateP() missing 2 required positional arguments: 'data_drives' and 'failed_drives'",
     "output_type": "error",
     "traceback": [
      "\u001b[1;31m---------------------------------------------------------------------------\u001b[0m",
      "\u001b[1;31mTypeError\u001b[0m                                 Traceback (most recent call last)",
      "\u001b[1;32m~\\AppData\\Local\\Temp\\ipykernel_59120\\1027046393.py\u001b[0m in \u001b[0;36m<module>\u001b[1;34m\u001b[0m\n\u001b[0;32m      2\u001b[0m \u001b[0mdriveP\u001b[0m \u001b[1;33m=\u001b[0m \u001b[1;33m[\u001b[0m\u001b[1;36m0\u001b[0m\u001b[1;33m]\u001b[0m \u001b[1;33m*\u001b[0m \u001b[0mblocksize\u001b[0m\u001b[1;33m\u001b[0m\u001b[1;33m\u001b[0m\u001b[0m\n\u001b[0;32m      3\u001b[0m \u001b[0mdump_table\u001b[0m\u001b[1;33m(\u001b[0m\u001b[1;34m\"driveP\"\u001b[0m\u001b[1;33m,\u001b[0m\u001b[0mdriveP\u001b[0m\u001b[1;33m)\u001b[0m\u001b[1;33m\u001b[0m\u001b[1;33m\u001b[0m\u001b[0m\n\u001b[1;32m----> 4\u001b[1;33m \u001b[0mgenerateP\u001b[0m\u001b[1;33m(\u001b[0m\u001b[1;33m)\u001b[0m\u001b[1;33m\u001b[0m\u001b[1;33m\u001b[0m\u001b[0m\n\u001b[0m\u001b[0;32m      5\u001b[0m \u001b[0mdump_table\u001b[0m\u001b[1;33m(\u001b[0m\u001b[1;34m\"driveP\"\u001b[0m\u001b[1;33m,\u001b[0m\u001b[0mdriveP\u001b[0m\u001b[1;33m)\u001b[0m\u001b[1;33m\u001b[0m\u001b[1;33m\u001b[0m\u001b[0m\n",
      "\u001b[1;31mTypeError\u001b[0m: generateP() missing 2 required positional arguments: 'data_drives' and 'failed_drives'"
     ]
    }
   ],
   "source": [
    "#Fail and Reconstruct P Parity\n",
    "driveP = [0] * blocksize\n",
    "dump_table(\"driveP\",driveP)\n",
    "generateP()\n",
    "dump_table(\"driveP\",driveP)"
   ]
  },
  {
   "cell_type": "code",
   "execution_count": null,
   "id": "c97a2d00",
   "metadata": {},
   "outputs": [],
   "source": []
  },
  {
   "cell_type": "code",
   "execution_count": 23,
   "id": "a9f7537b",
   "metadata": {
    "scrolled": false
   },
   "outputs": [],
   "source": [
    "#Show difference between gflog, gfilog, and inverse gfilog\n",
    "code='''\n",
    "print (\"gflog(n) n   gfilog(n)  1/gfilog(n)\")\n",
    "for index in range(32):\n",
    "    print (\"{:02x}       {:02x}  {:02x}         {:02x}\".format(gflog[index],index, gfilog[index],gf_div(1,gfilog[index])))\n",
    "'''    "
   ]
  },
  {
   "cell_type": "code",
   "execution_count": 24,
   "id": "759fa59c",
   "metadata": {},
   "outputs": [],
   "source": [
    "# Add fail and reconstruct here:\n",
    "#def fail_drive(drive)\n",
    "def fail_drive(drive_num, data_drives, failed_drives):\n",
    "    if drive_num < len(data_drives):\n",
    "        data_drives[drive_num] = [0] * len(data_drives[0])\n",
    "        failed_drives.add(drive_num)"
   ]
  },
  {
   "cell_type": "code",
   "execution_count": null,
   "id": "08b4853c",
   "metadata": {},
   "outputs": [],
   "source": [
    "def reconstruct_drive(drive_num, data_drives, failed_drives):\n",
    "    if drive_num in failed_drives:\n",
    "        failed_drives.remove(drive_num)\n",
    "        # Implement drive reconstruction logic here\n",
    "        # ...\n"
   ]
  },
  {
   "cell_type": "code",
   "execution_count": null,
   "id": "006b35da",
   "metadata": {},
   "outputs": [],
   "source": []
  },
  {
   "cell_type": "code",
   "execution_count": 25,
   "id": "60e7425a-6ee4-4e91-a620-25c13cbc97ca",
   "metadata": {
    "scrolled": true
   },
   "outputs": [
    {
     "name": "stdout",
     "output_type": "stream",
     "text": [
      "after failing drives 2 and P\n",
      "--- drive0 ---\n",
      "0x66, 0x69, 0x72, 0x73, 0x74, \n",
      "--- drive1 ---\n",
      "0x73, 0x65, 0x63, 0x6e, 0x64, \n",
      "--- drive2 ---\n",
      "0x00, 0x00, 0x00, 0x00, 0x00, \n",
      "--- drive3 ---\n",
      "0x66, 0x6f, 0x72, 0x74, 0x68, \n",
      "--- P parity ---\n",
      "0x00, 0x00, 0x00, 0x00, 0x00, \n",
      "--- Q parity ---\n",
      "0x5a, 0x41, 0xba, 0xfd, 0x56, \n",
      "\n",
      "rebuilding drive 2 byte 0; 74 = gf_mul( cd, 47)\n",
      "rebuilding drive 2 byte 1; 68 = gf_mul( bd, 47)\n",
      "rebuilding drive 2 byte 2; 69 = gf_mul( b9, 47)\n",
      "rebuilding drive 2 byte 3; 72 = gf_mul( d5, 47)\n",
      "rebuilding drive 2 byte 4; 64 = gf_mul( 8d, 47)\n",
      "\n",
      "after reconstructing data drive\n",
      "--- drive0 ---\n",
      "0x66, 0x69, 0x72, 0x73, 0x74, \n",
      "--- drive1 ---\n",
      "0x73, 0x65, 0x63, 0x6e, 0x64, \n",
      "--- drive2 ---\n",
      "0x74, 0x68, 0x69, 0x72, 0x64, \n",
      "--- drive3 ---\n",
      "0x66, 0x6f, 0x72, 0x74, 0x68, \n",
      "--- P parity ---\n",
      "0x00, 0x00, 0x00, 0x00, 0x00, \n",
      "--- Q parity ---\n",
      "0x5a, 0x41, 0xba, 0xfd, 0x56, \n",
      "\n",
      "after reconstructing p drive\n",
      "--- drive0 ---\n",
      "0x66, 0x69, 0x72, 0x73, 0x74, \n",
      "--- drive1 ---\n",
      "0x73, 0x65, 0x63, 0x6e, 0x64, \n",
      "--- drive2 ---\n",
      "0x74, 0x68, 0x69, 0x72, 0x64, \n",
      "--- drive3 ---\n",
      "0x66, 0x6f, 0x72, 0x74, 0x68, \n",
      "--- P parity ---\n",
      "0x07, 0x0b, 0x0a, 0x1b, 0x1c, \n",
      "--- Q parity ---\n",
      "0x5a, 0x41, 0xba, 0xfd, 0x56, \n"
     ]
    }
   ],
   "source": [
    "# Fail and reconstruct drive[2] and the P Parity\n",
    "drive[2] = [0] * blocksize\n",
    "driveP = [0] * blocksize\n",
    "print (\"after failing drives 2 and P\")\n",
    "dump_all_drives()\n",
    "print ()\n",
    "\n",
    "# Rebuild drive[2]\n",
    "for i in range(0,blocksize):\n",
    "    partialQ = 0  # a.k.a. Q syndrome\n",
    "    for d in range(0,numdrives):\n",
    "        partialQ = gf_add(gf_mul(gfilog[d],drive[d][i]),\n",
    "                          partialQ)\n",
    "    partialQ = gf_add(partialQ,driveQ[i])\n",
    "    \n",
    "    # Divide the partialQ by the GF multiplier for the missing drive (multiply by the inverse)\n",
    "    inverse = gf_div(1,gfilog[2])\n",
    "    drive[2][i] = gf_mul(partialQ,inverse)\n",
    "    print(\"rebuilding drive 2 byte {}; {:02x} = gf_mul( {:02x}, {:02x})\".format(i,drive[2][i],partialQ,inverse))\n",
    "    #dump_table(\"drive[2]\",drive[2])   \n",
    "\n",
    "print (\"\\nafter reconstructing data drive\")\n",
    "dump_all_drives()\n",
    "    \n",
    "# rebuild P\n",
    "generateP()\n",
    "\n",
    "print(\"\\nafter reconstructing p drive\")\n",
    "dump_all_drives()\n",
    "    \n",
    "                    "
   ]
  },
  {
   "cell_type": "code",
   "execution_count": 26,
   "id": "b0bcc49e-b5fe-4c89-9289-166e14b25a25",
   "metadata": {
    "scrolled": true
   },
   "outputs": [
    {
     "name": "stdout",
     "output_type": "stream",
     "text": [
      "after failing drives 1 and 2\n",
      "--- drive0 ---\n",
      "0x66, 0x69, 0x72, 0x73, 0x74, \n",
      "--- drive1 ---\n",
      "0x00, 0x00, 0x00, 0x00, 0x00, \n",
      "--- drive2 ---\n",
      "0x00, 0x00, 0x00, 0x00, 0x00, \n",
      "--- drive3 ---\n",
      "0x66, 0x6f, 0x72, 0x74, 0x68, \n",
      "--- P parity ---\n",
      "0x07, 0x0b, 0x0a, 0x1b, 0x1c, \n",
      "--- Q parity ---\n",
      "0x5a, 0x41, 0xba, 0xfd, 0x56, \n",
      "\n",
      "rebuilding byte 0 of drive[1], 73 = gf_mul(37,7a)\n",
      "rebuilding byte 1 of drive[1], 65 = gf_mul(43,7a)\n",
      "rebuilding byte 2 of drive[1], 63 = gf_mul(57,7a)\n",
      "rebuilding byte 3 of drive[1], 6e = gf_mul(79,7a)\n",
      "rebuilding byte 4 of drive[1], 64 = gf_mul(45,7a)\n",
      "--- drive0 ---\n",
      "0x66, 0x69, 0x72, 0x73, 0x74, \n",
      "--- drive1 ---\n",
      "0x73, 0x65, 0x63, 0x6e, 0x64, \n",
      "--- drive2 ---\n",
      "0x00, 0x00, 0x00, 0x00, 0x00, \n",
      "--- drive3 ---\n",
      "0x66, 0x6f, 0x72, 0x74, 0x68, \n",
      "--- P parity ---\n",
      "0x07, 0x0b, 0x0a, 0x1b, 0x1c, \n",
      "--- Q parity ---\n",
      "0x5a, 0x41, 0xba, 0xfd, 0x56, \n",
      "\n",
      "rebuilding byte 0 of drive[2], 74 = gf_add(66,...07)\n",
      "rebuilding byte 1 of drive[2], 68 = gf_add(69,...0b)\n",
      "rebuilding byte 2 of drive[2], 69 = gf_add(72,...0a)\n",
      "rebuilding byte 3 of drive[2], 72 = gf_add(73,...1b)\n",
      "rebuilding byte 4 of drive[2], 64 = gf_add(74,...1c)\n",
      "--- drive0 ---\n",
      "0x66, 0x69, 0x72, 0x73, 0x74, \n",
      "--- drive1 ---\n",
      "0x73, 0x65, 0x63, 0x6e, 0x64, \n",
      "--- drive2 ---\n",
      "0x74, 0x68, 0x69, 0x72, 0x64, \n",
      "--- drive3 ---\n",
      "0x66, 0x6f, 0x72, 0x74, 0x68, \n",
      "--- P parity ---\n",
      "0x07, 0x0b, 0x0a, 0x1b, 0x1c, \n",
      "--- Q parity ---\n",
      "0x5a, 0x41, 0xba, 0xfd, 0x56, \n"
     ]
    }
   ],
   "source": [
    "# Fail and reconstruct two data drives\n",
    "drive[1] = [0]*5\n",
    "drive[2] = [0]*5\n",
    "print(\"after failing drives 1 and 2\")\n",
    "dump_all_drives()\n",
    "print()\n",
    "\n",
    "#Rebuild the data for drive[1] using Galois divisors\n",
    "for i in range(0, blocksize):\n",
    "    partialP = 0\n",
    "    partialQ = 0\n",
    "    for d in range(0,numdrives):\n",
    "        partialP = gf_add(partialP,drive[d][i])\n",
    "        partialQ = gf_add(gf_mul(gfilog[d],drive[d][i]),\n",
    "                          partialQ)\n",
    "\n",
    "    # Calculations here proceed a bit differently from the Anvin paper.\n",
    "    \n",
    "    #We calculate the (P + Pxy) and (Q + Qxy) terms:\n",
    "    partialP = gf_add(partialP,driveP[i])\n",
    "    partialQ = gf_add(partialQ,driveQ[i])\n",
    "    \n",
    " \n",
    "    # Now we calculate a partial sum 'assuming' there was just one missing drive (2nd)\n",
    "    mid = gf_add(gf_mul(gfilog[2],partialP), \n",
    "                 partialQ)\n",
    "    \n",
    "    #Generate the GF divisor that sums the two missing drives\n",
    "    g = gf_div(1,(gf_add(gfilog[1],gfilog[2]))) \n",
    "    \n",
    "    #Divide the \"partial sum\" by the syndrome for both missing drives. This eliminates the second drive and leaves the first.\n",
    "    data=gf_mul(mid,g)\n",
    "    drive[1][i] = data\n",
    "    print(\"rebuilding byte {} of drive[1], {:02x} = gf_mul({:02x},{:02x})\".format(i,data,mid,g))\n",
    "\n",
    "dump_all_drives()\n",
    "print()\n",
    "\n",
    "# Now we can easily rebuild the data for the second missing drive with simple xor\n",
    "for i in range(0,blocksize):\n",
    "    drive[2][i] = gf_add(drive[0][i],drive[1][i],drive[3][i],driveP[i])\n",
    "    print(\"rebuilding byte {} of drive[2], {:02x} = gf_add({:02x},...{:02x})\".format(i,drive[2][i],drive[0][i],driveP[i]))\n",
    "    \n",
    "dump_all_drives()\n",
    "            "
   ]
  },
  {
   "cell_type": "code",
   "execution_count": null,
   "id": "5bc72ed8-fd1f-45d3-9e31-1cf60af9b4e4",
   "metadata": {
    "scrolled": true
   },
   "outputs": [],
   "source": [
    "def full_stripe_write(start_byte, data, data_drives, failed_drives):\n",
    "    stripe_size = len(data_drives)\n",
    "    if start_byte % stripe_size != 0:\n",
    "        print(\"Starting byte must be a multiple of stripe size.\")\n",
    "        return\n",
    "    \n",
    "    for i in range(start_byte, start_byte + len(data), stripe_size):\n",
    "        stripe_data = data[i:i + stripe_size]\n",
    "        for drive_num in range(stripe_size):\n",
    "            if drive_num not in failed_drives:\n",
    "                data_drives[drive_num][i // stripe_size] = stripe_data[drive_num]\n",
    "        \n",
    "        generateP(data_drives, failed_drives)\n",
    "        generateQ(data_drives, failed_drives)\n"
   ]
  },
  {
   "cell_type": "markdown",
   "id": "1f484c45",
   "metadata": {},
   "source": [
    "These changes should address the limitations and make the RAID-6 simulator more flexible and functional. You can integrate these functions into your existing code, and make sure to test them thoroughly to ensure their correctness and functionality."
   ]
  }
 ],
 "metadata": {
  "kernelspec": {
   "display_name": "Python 3",
   "language": "python",
   "name": "python3"
  },
  "language_info": {
   "codemirror_mode": {
    "name": "ipython",
    "version": 3
   },
   "file_extension": ".py",
   "mimetype": "text/x-python",
   "name": "python",
   "nbconvert_exporter": "python",
   "pygments_lexer": "ipython3",
   "version": "3.8.8"
  }
 },
 "nbformat": 4,
 "nbformat_minor": 5
}
