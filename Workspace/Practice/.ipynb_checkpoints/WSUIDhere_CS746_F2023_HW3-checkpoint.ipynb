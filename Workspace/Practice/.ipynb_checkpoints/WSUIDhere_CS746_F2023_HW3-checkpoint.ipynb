{
 "cells": [
  {
   "cell_type": "code",
   "execution_count": 1,
   "id": "2deef7ae-0a30-40b4-a97a-27271348d6a4",
   "metadata": {
    "scrolled": true
   },
   "outputs": [],
   "source": [
    "\n",
    "def generate_tables():\n",
    "    global gf_table_size\n",
    "    polynomial = 0x11d # 2**8 + 2**4 + 2**3 + 2**2 + 1 =  1 0001 1101 binary\n",
    "    s = 8\n",
    "    gf_table_size = 1 << s # 1<<8 = 0x100 = 256 = 2**8\n",
    "\n",
    "    # Initialize \n",
    "    gflog = gf_table_size * [0]\n",
    "    gfilog = gf_table_size * [0]\n",
    "\n",
    "    b = 1\n",
    "    for i in range(0, gf_table_size):\n",
    "        gflog[b] = i    # & 255\n",
    "        gfilog[i] = b   # & 255 \n",
    "        b <<= 1\n",
    "        # Following line could also be expressed as \"if b >= gf_table_size\"\n",
    "        if b & gf_table_size:\n",
    "            b ^= polynomial\n",
    "\n",
    "    gflog[1] = 0; # Q for students: Why do you think is this needed? Try printing it out and see.\n",
    "    return (gflog, gfilog)\n",
    "\n",
    "# Note gf_table_size is now a global variable. Consider writing a helper function to control access to it.\n"
   ]
  },
  {
   "cell_type": "code",
   "execution_count": 2,
   "id": "003e05c1",
   "metadata": {},
   "outputs": [],
   "source": [
    "def dump_table(caption, tab):\n",
    "    item = 0\n",
    "    print(\"--- {} ---\".format(caption))\n",
    "    for i in tab:\n",
    "        print(\"0x{:02x}, \".format(i), end=\"\")\n",
    "        item += 1\n",
    "        if item % 16 == 0:\n",
    "            item = 0\n",
    "            print()\n",
    "    print(\"\")"
   ]
  },
  {
   "cell_type": "code",
   "execution_count": 3,
   "id": "108ae0e9",
   "metadata": {},
   "outputs": [],
   "source": [
    "def qdump(tab):\n",
    "    item = 0\n",
    "    for i in tab:\n",
    "        print(\"0x{:02x}, \".format(i), end=\"\")\n",
    "        item += 1\n",
    "        if item % 16 == 0:\n",
    "            item = 0\n",
    "            print()\n",
    "    print(\"\")"
   ]
  },
  {
   "cell_type": "code",
   "execution_count": 4,
   "id": "2be872ac",
   "metadata": {},
   "outputs": [],
   "source": [
    "(gflog, gfilog) = generate_tables()\n",
    "#Sample of desired new interface:\n",
    "#(gflog, gfilog) = generate_tables(power=8, polynomial=0x11d)"
   ]
  },
  {
   "cell_type": "code",
   "execution_count": 5,
   "id": "4b225d42-720c-45ef-b9af-1e995e64bc52",
   "metadata": {
    "scrolled": false
   },
   "outputs": [],
   "source": [
    "#You may uncomment this code for testing.\n",
    "#dump_table(\"gflog\",gflog)\n",
    "#dump_table(\"gfilog\",gfilog)"
   ]
  },
  {
   "cell_type": "code",
   "execution_count": null,
   "id": "d1add74d",
   "metadata": {},
   "outputs": [],
   "source": []
  },
  {
   "cell_type": "code",
   "execution_count": 6,
   "id": "0e59135a",
   "metadata": {},
   "outputs": [],
   "source": [
    "#You may uncomment this code to dump log/antilog columns for testing.\n",
    "#print (\"gflog(n) n   gfilog(n)\")\n",
    "#num_to_print=min(64,gf_table_size)\n",
    "#for index in range(num_to_print):\n",
    "#    print (\"{:02x}       {:02x}  {:02x}\".format(gflog[index],index, gfilog[index]))"
   ]
  },
  {
   "cell_type": "code",
   "execution_count": 7,
   "id": "0409860b-9258-41f3-af0b-e0b5d66f9692",
   "metadata": {
    "scrolled": true
   },
   "outputs": [],
   "source": [
    "# Galois Field Mathematics"
   ]
  },
  {
   "cell_type": "code",
   "execution_count": 8,
   "id": "b67af9f2",
   "metadata": {},
   "outputs": [],
   "source": [
    "# Addition\n",
    "# Under a Galois Field 2^n, addition is always a simple XOR.\n",
    "def gf_add(*args):\n",
    "    result = 0\n",
    "    for arg in args:\n",
    "        result ^= arg\n",
    "\n",
    "    return result"
   ]
  },
  {
   "cell_type": "code",
   "execution_count": 9,
   "id": "3fe89d67",
   "metadata": {},
   "outputs": [],
   "source": [
    "# Multiplication\n",
    "#Specific to GF(2^8)\n",
    "def gf_mul(a, b):\n",
    "    global gflog\n",
    "    global gfilog\n",
    "\n",
    "    if a == 0 or b == 0:\n",
    "        return 0\n",
    "    else:\n",
    "        return gfilog[(gflog[a] + gflog[b]) % 255]"
   ]
  },
  {
   "cell_type": "code",
   "execution_count": 10,
   "id": "b23a9ffd",
   "metadata": {},
   "outputs": [],
   "source": [
    "# Subtraction (Division helper) \n",
    "#Specific to GF(2^8)\n",
    "def sub_gf8(a, b):\n",
    "    if a > b:\n",
    "        return a - b\n",
    "    else:\n",
    "        return (255 - (0 - (a - b)))  # Weird way to do modulus. \n"
   ]
  },
  {
   "cell_type": "code",
   "execution_count": 11,
   "id": "059895e6",
   "metadata": {},
   "outputs": [],
   "source": [
    "# Division\n",
    "#Specific to GF(2^8) because of sub_gf8 reliance\n",
    "def gf_div(a, b):\n",
    "    global gfilog\n",
    "    global gflog\n",
    "\n",
    "    return gfilog[sub_gf8(gflog[a], gflog[b])]"
   ]
  },
  {
   "cell_type": "code",
   "execution_count": 12,
   "id": "7a6727ab-e17e-4c59-9ec6-b609446cb718",
   "metadata": {
    "scrolled": false
   },
   "outputs": [],
   "source": [
    "commentedout='''#Print a portion of the gf Multiplication Table\n",
    "startx=0x0\n",
    "starty=0x0\n",
    "\n",
    "numrows=min(32,gf_table_size)\n",
    "numcols=min(32,gf_table_size)\n",
    "\n",
    "endx=startx+numcols\n",
    "endy=starty+numrows\n",
    "\n",
    "print (\"   |\", end=\"\")\n",
    "for x in range(startx,endx):\n",
    "    print(\" {:02x}\".format(x), end=\"\")\n",
    "print(\"\")\n",
    "print (\"---+\", end=\"\")\n",
    "for x in range(startx,endx):\n",
    "    print(\"---\",end=\"\")\n",
    "print(\"\")\n",
    "\n",
    "for y in range(starty,endy):\n",
    "    print(\"{:02x} |\".format(y), end=\"\")\n",
    "    for x in range(startx,endx):\n",
    "        print(\" {:02x}\".format(gf_mul(x,y)), end=\"\")\n",
    "    print(\"\")\n",
    "'''       \n"
   ]
  },
  {
   "cell_type": "code",
   "execution_count": null,
   "id": "1d8bfdcc-4ab6-4a70-bb07-4589159c5c01",
   "metadata": {
    "scrolled": true
   },
   "outputs": [],
   "source": []
  },
  {
   "cell_type": "code",
   "execution_count": 13,
   "id": "bcafcd01-176c-45df-9ffd-b73f096cf73f",
   "metadata": {
    "scrolled": false
   },
   "outputs": [],
   "source": [
    "# initialize data on all the data drives\n",
    "\n",
    "numdrives = 4\n",
    "blocksize = 5\n",
    "drive=[0] * numdrives\n",
    "drive[0] = [ ord('f'), ord('i'), ord('r'), ord('s'), ord('t') ]\n",
    "drive[1] = [ ord('s'), ord('e'), ord('c'), ord('n'), ord('d') ]\n",
    "drive[2] = [ ord('t'), ord('h'), ord('i'), ord('r'), ord('d') ]\n",
    "drive[3] = [ ord('f'), ord('o'), ord('r'), ord('t'), ord('h') ]"
   ]
  },
  {
   "cell_type": "code",
   "execution_count": 14,
   "id": "cfe575f3",
   "metadata": {},
   "outputs": [],
   "source": [
    "# Replace above with, e.g.:\n",
    "#def initialize_data_drives(int numdrives, int blocks_per_drive, random=True):\n",
    "#   code...\n",
    "# Where random=false leaves all drives populated with zeroes, \n",
    "#   and random=true initializes all data blocks with random bytes.\n",
    "\n",
    "# You may leave numdrives and blocksize as global variables, or write helper functions to manage them."
   ]
  },
  {
   "cell_type": "code",
   "execution_count": 15,
   "id": "7ae6f333-531a-4a20-9055-620ee611858f",
   "metadata": {
    "scrolled": true
   },
   "outputs": [],
   "source": [
    "# rezero P and Q parity drives.\n",
    "\n",
    "driveP = [0] * blocksize\n",
    "driveQ = [0] * blocksize\n",
    "\n",
    "# Replace above with zeroP and zeroQ functions."
   ]
  },
  {
   "cell_type": "code",
   "execution_count": 16,
   "id": "41d46356",
   "metadata": {},
   "outputs": [],
   "source": [
    "#Calling functions to create zero-filled P and Q drives.\n",
    "#zeroP(blocks_per_drive)\n",
    "#zeroQ(blocks_per_drive)"
   ]
  },
  {
   "cell_type": "code",
   "execution_count": 17,
   "id": "e206ddc2-8d22-4183-93b8-58b94fd0bfe9",
   "metadata": {
    "scrolled": true
   },
   "outputs": [],
   "source": [
    "# initialize P and Q parity drives\n",
    "\n",
    "def generateP():\n",
    "    for i in range(0, blocksize):\n",
    "        driveP[i] = 0\n",
    "        for d in range (0,numdrives):\n",
    "            driveP[i] = driveP[i] ^ drive[d][i]\n",
    "            \n",
    "    return\n"
   ]
  },
  {
   "cell_type": "code",
   "execution_count": 18,
   "id": "9be955d7",
   "metadata": {},
   "outputs": [],
   "source": [
    "def generateQ():\n",
    "    for i in range(0,blocksize):\n",
    "        driveQ[i] = 0\n",
    "        for d in range(0,numdrives):\n",
    "            driveQ[i] = gf_add(gf_mul(gfilog[d],drive[d][i]), driveQ[i])\n",
    "    return"
   ]
  },
  {
   "cell_type": "code",
   "execution_count": 19,
   "id": "c5003e53",
   "metadata": {},
   "outputs": [],
   "source": [
    "generateP()\n",
    "generateQ()\n",
    "# Also support (at least) single-stripe reconstruction\n",
    "#generateP (stripe=2)\n",
    "#generateQ (stripe=2)"
   ]
  },
  {
   "cell_type": "code",
   "execution_count": 20,
   "id": "bd18c37b-b8c7-4d43-bc6e-28c17af52c64",
   "metadata": {
    "scrolled": true
   },
   "outputs": [],
   "source": [
    "def dump_all_drives():\n",
    "    for d in range(0,numdrives):\n",
    "        s = \"drive{}\".format(d)\n",
    "        dump_table(s,drive[d])\n",
    "    dump_table(\"P parity\",driveP)\n",
    "    dump_table(\"Q parity\",driveQ)\n",
    "    return\n",
    "\n"
   ]
  },
  {
   "cell_type": "code",
   "execution_count": 21,
   "id": "40985201",
   "metadata": {},
   "outputs": [
    {
     "name": "stdout",
     "output_type": "stream",
     "text": [
      "--- drive0 ---\n",
      "0x66, 0x69, 0x72, 0x73, 0x74, \n",
      "--- drive1 ---\n",
      "0x73, 0x65, 0x63, 0x6e, 0x64, \n",
      "--- drive2 ---\n",
      "0x74, 0x68, 0x69, 0x72, 0x64, \n",
      "--- drive3 ---\n",
      "0x66, 0x6f, 0x72, 0x74, 0x68, \n",
      "--- P parity ---\n",
      "0x07, 0x0b, 0x0a, 0x1b, 0x1c, \n",
      "--- Q parity ---\n",
      "0x5a, 0x41, 0xba, 0xfd, 0x56, \n"
     ]
    }
   ],
   "source": [
    "dump_all_drives()"
   ]
  },
  {
   "cell_type": "code",
   "execution_count": 22,
   "id": "56741daf-817c-4623-9a9e-7f27617a514d",
   "metadata": {
    "scrolled": true
   },
   "outputs": [
    {
     "name": "stdout",
     "output_type": "stream",
     "text": [
      "--- driveP ---\n",
      "0x00, 0x00, 0x00, 0x00, 0x00, \n",
      "--- driveP ---\n",
      "0x07, 0x0b, 0x0a, 0x1b, 0x1c, \n"
     ]
    }
   ],
   "source": [
    "#Fail and Reconstruct P Parity\n",
    "driveP = [0] * blocksize\n",
    "dump_table(\"driveP\",driveP)\n",
    "generateP()\n",
    "dump_table(\"driveP\",driveP)"
   ]
  },
  {
   "cell_type": "code",
   "execution_count": null,
   "id": "c97a2d00",
   "metadata": {},
   "outputs": [],
   "source": []
  },
  {
   "cell_type": "code",
   "execution_count": 23,
   "id": "a9f7537b",
   "metadata": {
    "scrolled": false
   },
   "outputs": [],
   "source": [
    "#Show difference between gflog, gfilog, and inverse gfilog\n",
    "code='''\n",
    "print (\"gflog(n) n   gfilog(n)  1/gfilog(n)\")\n",
    "for index in range(32):\n",
    "    print (\"{:02x}       {:02x}  {:02x}         {:02x}\".format(gflog[index],index, gfilog[index],gf_div(1,gfilog[index])))\n",
    "'''    "
   ]
  },
  {
   "cell_type": "code",
   "execution_count": 24,
   "id": "759fa59c",
   "metadata": {},
   "outputs": [],
   "source": [
    "# Add fail and reconstruct here:\n",
    "#def fail_drive(drive)\n"
   ]
  },
  {
   "cell_type": "code",
   "execution_count": 25,
   "id": "60e7425a-6ee4-4e91-a620-25c13cbc97ca",
   "metadata": {
    "scrolled": true
   },
   "outputs": [
    {
     "name": "stdout",
     "output_type": "stream",
     "text": [
      "after failing drives 2 and P\n",
      "--- drive0 ---\n",
      "0x66, 0x69, 0x72, 0x73, 0x74, \n",
      "--- drive1 ---\n",
      "0x73, 0x65, 0x63, 0x6e, 0x64, \n",
      "--- drive2 ---\n",
      "0x00, 0x00, 0x00, 0x00, 0x00, \n",
      "--- drive3 ---\n",
      "0x66, 0x6f, 0x72, 0x74, 0x68, \n",
      "--- P parity ---\n",
      "0x00, 0x00, 0x00, 0x00, 0x00, \n",
      "--- Q parity ---\n",
      "0x5a, 0x41, 0xba, 0xfd, 0x56, \n",
      "\n",
      "rebuilding drive 2 byte 0; 74 = gf_mul( cd, 47)\n",
      "rebuilding drive 2 byte 1; 68 = gf_mul( bd, 47)\n",
      "rebuilding drive 2 byte 2; 69 = gf_mul( b9, 47)\n",
      "rebuilding drive 2 byte 3; 72 = gf_mul( d5, 47)\n",
      "rebuilding drive 2 byte 4; 64 = gf_mul( 8d, 47)\n",
      "\n",
      "after reconstructing data drive\n",
      "--- drive0 ---\n",
      "0x66, 0x69, 0x72, 0x73, 0x74, \n",
      "--- drive1 ---\n",
      "0x73, 0x65, 0x63, 0x6e, 0x64, \n",
      "--- drive2 ---\n",
      "0x74, 0x68, 0x69, 0x72, 0x64, \n",
      "--- drive3 ---\n",
      "0x66, 0x6f, 0x72, 0x74, 0x68, \n",
      "--- P parity ---\n",
      "0x00, 0x00, 0x00, 0x00, 0x00, \n",
      "--- Q parity ---\n",
      "0x5a, 0x41, 0xba, 0xfd, 0x56, \n",
      "\n",
      "after reconstructing p drive\n",
      "--- drive0 ---\n",
      "0x66, 0x69, 0x72, 0x73, 0x74, \n",
      "--- drive1 ---\n",
      "0x73, 0x65, 0x63, 0x6e, 0x64, \n",
      "--- drive2 ---\n",
      "0x74, 0x68, 0x69, 0x72, 0x64, \n",
      "--- drive3 ---\n",
      "0x66, 0x6f, 0x72, 0x74, 0x68, \n",
      "--- P parity ---\n",
      "0x07, 0x0b, 0x0a, 0x1b, 0x1c, \n",
      "--- Q parity ---\n",
      "0x5a, 0x41, 0xba, 0xfd, 0x56, \n"
     ]
    }
   ],
   "source": [
    "# Fail and reconstruct drive[2] and the P Parity\n",
    "drive[2] = [0] * blocksize\n",
    "driveP = [0] * blocksize\n",
    "print (\"after failing drives 2 and P\")\n",
    "dump_all_drives()\n",
    "print ()\n",
    "\n",
    "# Rebuild drive[2]\n",
    "for i in range(0,blocksize):\n",
    "    partialQ = 0  # a.k.a. Q syndrome\n",
    "    for d in range(0,numdrives):\n",
    "        partialQ = gf_add(gf_mul(gfilog[d],drive[d][i]),\n",
    "                          partialQ)\n",
    "    partialQ = gf_add(partialQ,driveQ[i])\n",
    "    \n",
    "    # Divide the partialQ by the GF multiplier for the missing drive (multiply by the inverse)\n",
    "    inverse = gf_div(1,gfilog[2])\n",
    "    drive[2][i] = gf_mul(partialQ,inverse)\n",
    "    print(\"rebuilding drive 2 byte {}; {:02x} = gf_mul( {:02x}, {:02x})\".format(i,drive[2][i],partialQ,inverse))\n",
    "    #dump_table(\"drive[2]\",drive[2])   \n",
    "\n",
    "print (\"\\nafter reconstructing data drive\")\n",
    "dump_all_drives()\n",
    "    \n",
    "# rebuild P\n",
    "generateP()\n",
    "\n",
    "print(\"\\nafter reconstructing p drive\")\n",
    "dump_all_drives()\n",
    "    \n",
    "                    "
   ]
  },
  {
   "cell_type": "code",
   "execution_count": 26,
   "id": "b0bcc49e-b5fe-4c89-9289-166e14b25a25",
   "metadata": {
    "scrolled": true
   },
   "outputs": [
    {
     "name": "stdout",
     "output_type": "stream",
     "text": [
      "after failing drives 1 and 2\n",
      "--- drive0 ---\n",
      "0x66, 0x69, 0x72, 0x73, 0x74, \n",
      "--- drive1 ---\n",
      "0x00, 0x00, 0x00, 0x00, 0x00, \n",
      "--- drive2 ---\n",
      "0x00, 0x00, 0x00, 0x00, 0x00, \n",
      "--- drive3 ---\n",
      "0x66, 0x6f, 0x72, 0x74, 0x68, \n",
      "--- P parity ---\n",
      "0x07, 0x0b, 0x0a, 0x1b, 0x1c, \n",
      "--- Q parity ---\n",
      "0x5a, 0x41, 0xba, 0xfd, 0x56, \n",
      "\n",
      "rebuilding byte 0 of drive[1], 73 = gf_mul(37,7a)\n",
      "rebuilding byte 1 of drive[1], 65 = gf_mul(43,7a)\n",
      "rebuilding byte 2 of drive[1], 63 = gf_mul(57,7a)\n",
      "rebuilding byte 3 of drive[1], 6e = gf_mul(79,7a)\n",
      "rebuilding byte 4 of drive[1], 64 = gf_mul(45,7a)\n",
      "--- drive0 ---\n",
      "0x66, 0x69, 0x72, 0x73, 0x74, \n",
      "--- drive1 ---\n",
      "0x73, 0x65, 0x63, 0x6e, 0x64, \n",
      "--- drive2 ---\n",
      "0x00, 0x00, 0x00, 0x00, 0x00, \n",
      "--- drive3 ---\n",
      "0x66, 0x6f, 0x72, 0x74, 0x68, \n",
      "--- P parity ---\n",
      "0x07, 0x0b, 0x0a, 0x1b, 0x1c, \n",
      "--- Q parity ---\n",
      "0x5a, 0x41, 0xba, 0xfd, 0x56, \n",
      "\n",
      "rebuilding byte 0 of drive[2], 74 = gf_add(66,...07)\n",
      "rebuilding byte 1 of drive[2], 68 = gf_add(69,...0b)\n",
      "rebuilding byte 2 of drive[2], 69 = gf_add(72,...0a)\n",
      "rebuilding byte 3 of drive[2], 72 = gf_add(73,...1b)\n",
      "rebuilding byte 4 of drive[2], 64 = gf_add(74,...1c)\n",
      "--- drive0 ---\n",
      "0x66, 0x69, 0x72, 0x73, 0x74, \n",
      "--- drive1 ---\n",
      "0x73, 0x65, 0x63, 0x6e, 0x64, \n",
      "--- drive2 ---\n",
      "0x74, 0x68, 0x69, 0x72, 0x64, \n",
      "--- drive3 ---\n",
      "0x66, 0x6f, 0x72, 0x74, 0x68, \n",
      "--- P parity ---\n",
      "0x07, 0x0b, 0x0a, 0x1b, 0x1c, \n",
      "--- Q parity ---\n",
      "0x5a, 0x41, 0xba, 0xfd, 0x56, \n"
     ]
    }
   ],
   "source": [
    "# Fail and reconstruct two data drives\n",
    "drive[1] = [0]*5\n",
    "drive[2] = [0]*5\n",
    "print(\"after failing drives 1 and 2\")\n",
    "dump_all_drives()\n",
    "print()\n",
    "\n",
    "#Rebuild the data for drive[1] using Galois divisors\n",
    "for i in range(0, blocksize):\n",
    "    partialP = 0\n",
    "    partialQ = 0\n",
    "    for d in range(0,numdrives):\n",
    "        partialP = gf_add(partialP,drive[d][i])\n",
    "        partialQ = gf_add(gf_mul(gfilog[d],drive[d][i]),\n",
    "                          partialQ)\n",
    "\n",
    "    # Calculations here proceed a bit differently from the Anvin paper.\n",
    "    \n",
    "    #We calculate the (P + Pxy) and (Q + Qxy) terms:\n",
    "    partialP = gf_add(partialP,driveP[i])\n",
    "    partialQ = gf_add(partialQ,driveQ[i])\n",
    "    \n",
    " \n",
    "    # Now we calculate a partial sum 'assuming' there was just one missing drive (2nd)\n",
    "    mid = gf_add(gf_mul(gfilog[2],partialP), \n",
    "                 partialQ)\n",
    "    \n",
    "    #Generate the GF divisor that sums the two missing drives\n",
    "    g = gf_div(1,(gf_add(gfilog[1],gfilog[2]))) \n",
    "    \n",
    "    #Divide the \"partial sum\" by the syndrome for both missing drives. This eliminates the second drive and leaves the first.\n",
    "    data=gf_mul(mid,g)\n",
    "    drive[1][i] = data\n",
    "    print(\"rebuilding byte {} of drive[1], {:02x} = gf_mul({:02x},{:02x})\".format(i,data,mid,g))\n",
    "\n",
    "dump_all_drives()\n",
    "print()\n",
    "\n",
    "# Now we can easily rebuild the data for the second missing drive with simple xor\n",
    "for i in range(0,blocksize):\n",
    "    drive[2][i] = gf_add(drive[0][i],drive[1][i],drive[3][i],driveP[i])\n",
    "    print(\"rebuilding byte {} of drive[2], {:02x} = gf_add({:02x},...{:02x})\".format(i,drive[2][i],drive[0][i],driveP[i]))\n",
    "    \n",
    "dump_all_drives()\n",
    "            "
   ]
  },
  {
   "cell_type": "code",
   "execution_count": null,
   "id": "5bc72ed8-fd1f-45d3-9e31-1cf60af9b4e4",
   "metadata": {
    "scrolled": true
   },
   "outputs": [],
   "source": []
  }
 ],
 "metadata": {
  "kernelspec": {
   "display_name": "Python 3 (ipykernel)",
   "language": "python",
   "name": "python3"
  },
  "language_info": {
   "codemirror_mode": {
    "name": "ipython",
    "version": 3
   },
   "file_extension": ".py",
   "mimetype": "text/x-python",
   "name": "python",
   "nbconvert_exporter": "python",
   "pygments_lexer": "ipython3",
   "version": "3.11.4"
  }
 },
 "nbformat": 4,
 "nbformat_minor": 5
}
