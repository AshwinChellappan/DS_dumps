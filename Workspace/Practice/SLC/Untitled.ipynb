{
 "cells": [
  {
   "cell_type": "code",
   "execution_count": 2,
   "id": "b04fcebe",
   "metadata": {},
   "outputs": [],
   "source": [
    "import numpy as np\n",
    "import pandas as pd\n",
    "import seaborn as sns\n",
    "import matplotlib.pyplot as plt"
   ]
  },
  {
   "cell_type": "code",
   "execution_count": 5,
   "id": "9a9c1c30",
   "metadata": {},
   "outputs": [
    {
     "name": "stdout",
     "output_type": "stream",
     "text": [
      "<class 'pandas.core.frame.DataFrame'>\n",
      "RangeIndex: 9920 entries, 0 to 9919\n",
      "Data columns (total 9 columns):\n",
      " #   Column            Non-Null Count  Dtype  \n",
      "---  ------            --------------  -----  \n",
      " 0   CreditScore       9920 non-null   int64  \n",
      " 1   Geography         9920 non-null   object \n",
      " 2   Gender            9920 non-null   object \n",
      " 3   Age               9920 non-null   int64  \n",
      " 4   NumOfYrsWithBank  9920 non-null   int64  \n",
      " 5   Balance           9920 non-null   float64\n",
      " 6   NumOfProducts     9920 non-null   int64  \n",
      " 7   HasCrCard         9920 non-null   int64  \n",
      " 8   Closed_Acc        9920 non-null   int64  \n",
      "dtypes: float64(1), int64(6), object(2)\n",
      "memory usage: 697.6+ KB\n"
     ]
    }
   ],
   "source": [
    "df=pd.read_csv('bank_churn.csv')\n",
    "df.info()"
   ]
  },
  {
   "cell_type": "code",
   "execution_count": 6,
   "id": "643f8a77",
   "metadata": {},
   "outputs": [
    {
     "data": {
      "text/html": [
       "<div>\n",
       "<style scoped>\n",
       "    .dataframe tbody tr th:only-of-type {\n",
       "        vertical-align: middle;\n",
       "    }\n",
       "\n",
       "    .dataframe tbody tr th {\n",
       "        vertical-align: top;\n",
       "    }\n",
       "\n",
       "    .dataframe thead th {\n",
       "        text-align: right;\n",
       "    }\n",
       "</style>\n",
       "<table border=\"1\" class=\"dataframe\">\n",
       "  <thead>\n",
       "    <tr style=\"text-align: right;\">\n",
       "      <th></th>\n",
       "      <th>CreditScore</th>\n",
       "      <th>Geography</th>\n",
       "      <th>Gender</th>\n",
       "      <th>Age</th>\n",
       "      <th>NumOfYrsWithBank</th>\n",
       "      <th>Balance</th>\n",
       "      <th>NumOfProducts</th>\n",
       "      <th>HasCrCard</th>\n",
       "      <th>Closed_Acc</th>\n",
       "    </tr>\n",
       "  </thead>\n",
       "  <tbody>\n",
       "    <tr>\n",
       "      <th>0</th>\n",
       "      <td>619</td>\n",
       "      <td>France</td>\n",
       "      <td>Female</td>\n",
       "      <td>42</td>\n",
       "      <td>2</td>\n",
       "      <td>0.00</td>\n",
       "      <td>1</td>\n",
       "      <td>1</td>\n",
       "      <td>1</td>\n",
       "    </tr>\n",
       "    <tr>\n",
       "      <th>1</th>\n",
       "      <td>608</td>\n",
       "      <td>Spain</td>\n",
       "      <td>Female</td>\n",
       "      <td>41</td>\n",
       "      <td>1</td>\n",
       "      <td>83807.86</td>\n",
       "      <td>1</td>\n",
       "      <td>0</td>\n",
       "      <td>0</td>\n",
       "    </tr>\n",
       "    <tr>\n",
       "      <th>2</th>\n",
       "      <td>502</td>\n",
       "      <td>France</td>\n",
       "      <td>Female</td>\n",
       "      <td>42</td>\n",
       "      <td>8</td>\n",
       "      <td>159660.80</td>\n",
       "      <td>3</td>\n",
       "      <td>1</td>\n",
       "      <td>1</td>\n",
       "    </tr>\n",
       "    <tr>\n",
       "      <th>3</th>\n",
       "      <td>699</td>\n",
       "      <td>France</td>\n",
       "      <td>Female</td>\n",
       "      <td>39</td>\n",
       "      <td>1</td>\n",
       "      <td>0.00</td>\n",
       "      <td>2</td>\n",
       "      <td>0</td>\n",
       "      <td>0</td>\n",
       "    </tr>\n",
       "    <tr>\n",
       "      <th>4</th>\n",
       "      <td>850</td>\n",
       "      <td>Spain</td>\n",
       "      <td>Female</td>\n",
       "      <td>43</td>\n",
       "      <td>2</td>\n",
       "      <td>125510.82</td>\n",
       "      <td>1</td>\n",
       "      <td>1</td>\n",
       "      <td>0</td>\n",
       "    </tr>\n",
       "  </tbody>\n",
       "</table>\n",
       "</div>"
      ],
      "text/plain": [
       "   CreditScore Geography  Gender  Age  NumOfYrsWithBank    Balance  \\\n",
       "0          619    France  Female   42                 2       0.00   \n",
       "1          608     Spain  Female   41                 1   83807.86   \n",
       "2          502    France  Female   42                 8  159660.80   \n",
       "3          699    France  Female   39                 1       0.00   \n",
       "4          850     Spain  Female   43                 2  125510.82   \n",
       "\n",
       "   NumOfProducts  HasCrCard  Closed_Acc  \n",
       "0              1          1           1  \n",
       "1              1          0           0  \n",
       "2              3          1           1  \n",
       "3              2          0           0  \n",
       "4              1          1           0  "
      ]
     },
     "execution_count": 6,
     "metadata": {},
     "output_type": "execute_result"
    }
   ],
   "source": [
    "df.head()"
   ]
  },
  {
   "cell_type": "code",
   "execution_count": 9,
   "id": "5e15e8ed",
   "metadata": {},
   "outputs": [
    {
     "data": {
      "text/plain": [
       "5"
      ]
     },
     "execution_count": 9,
     "metadata": {},
     "output_type": "execute_result"
    }
   ],
   "source": [
    "df.duplicated().sum()"
   ]
  },
  {
   "cell_type": "code",
   "execution_count": 10,
   "id": "cc9eabad",
   "metadata": {},
   "outputs": [],
   "source": [
    "df.drop_duplicates(inplace=True)"
   ]
  },
  {
   "cell_type": "code",
   "execution_count": 12,
   "id": "e51e209e",
   "metadata": {},
   "outputs": [
    {
     "data": {
      "text/plain": [
       "(9915, 9)"
      ]
     },
     "execution_count": 12,
     "metadata": {},
     "output_type": "execute_result"
    }
   ],
   "source": [
    "df.shape"
   ]
  },
  {
   "cell_type": "code",
   "execution_count": 13,
   "id": "0be23c3e",
   "metadata": {},
   "outputs": [
    {
     "name": "stderr",
     "output_type": "stream",
     "text": [
      "<ipython-input-13-a6a87c4224dd>:4: FutureWarning: Automatic reindexing on DataFrame vs Series comparisons is deprecated and will raise ValueError in a future version.  Do `left, right = left.align(right, axis=1, copy=False)` before e.g. `left == right`\n",
      "  df = df[~((df < (Q1-6*IQR)) | (df > (Q3 + 6*IQR))).any(axis = 1)]\n",
      "<ipython-input-13-a6a87c4224dd>:4: FutureWarning: Automatic reindexing on DataFrame vs Series comparisons is deprecated and will raise ValueError in a future version.  Do `left, right = left.align(right, axis=1, copy=False)` before e.g. `left == right`\n",
      "  df = df[~((df < (Q1-6*IQR)) | (df > (Q3 + 6*IQR))).any(axis = 1)]\n"
     ]
    },
    {
     "data": {
      "text/plain": [
       "(9915, 9)"
      ]
     },
     "execution_count": 13,
     "metadata": {},
     "output_type": "execute_result"
    }
   ],
   "source": [
    "Q1 = df.quantile(0.01)\n",
    "Q3 = df.quantile(0.99)\n",
    "IQR = Q3 - Q1\n",
    "df = df[~((df < (Q1-6*IQR)) | (df > (Q3 + 6*IQR))).any(axis = 1)]\n",
    "df.shape"
   ]
  },
  {
   "cell_type": "code",
   "execution_count": 16,
   "id": "504967f9",
   "metadata": {},
   "outputs": [
    {
     "data": {
      "text/html": [
       "<div>\n",
       "<style scoped>\n",
       "    .dataframe tbody tr th:only-of-type {\n",
       "        vertical-align: middle;\n",
       "    }\n",
       "\n",
       "    .dataframe tbody tr th {\n",
       "        vertical-align: top;\n",
       "    }\n",
       "\n",
       "    .dataframe thead th {\n",
       "        text-align: right;\n",
       "    }\n",
       "</style>\n",
       "<table border=\"1\" class=\"dataframe\">\n",
       "  <thead>\n",
       "    <tr style=\"text-align: right;\">\n",
       "      <th></th>\n",
       "      <th>Geography_Germany</th>\n",
       "      <th>Geography_Spain</th>\n",
       "      <th>Gender_Male</th>\n",
       "    </tr>\n",
       "  </thead>\n",
       "  <tbody>\n",
       "    <tr>\n",
       "      <th>0</th>\n",
       "      <td>0</td>\n",
       "      <td>0</td>\n",
       "      <td>0</td>\n",
       "    </tr>\n",
       "    <tr>\n",
       "      <th>1</th>\n",
       "      <td>0</td>\n",
       "      <td>1</td>\n",
       "      <td>0</td>\n",
       "    </tr>\n",
       "    <tr>\n",
       "      <th>2</th>\n",
       "      <td>0</td>\n",
       "      <td>0</td>\n",
       "      <td>0</td>\n",
       "    </tr>\n",
       "    <tr>\n",
       "      <th>3</th>\n",
       "      <td>0</td>\n",
       "      <td>0</td>\n",
       "      <td>0</td>\n",
       "    </tr>\n",
       "    <tr>\n",
       "      <th>4</th>\n",
       "      <td>0</td>\n",
       "      <td>1</td>\n",
       "      <td>0</td>\n",
       "    </tr>\n",
       "  </tbody>\n",
       "</table>\n",
       "</div>"
      ],
      "text/plain": [
       "   Geography_Germany  Geography_Spain  Gender_Male\n",
       "0                  0                0            0\n",
       "1                  0                1            0\n",
       "2                  0                0            0\n",
       "3                  0                0            0\n",
       "4                  0                1            0"
      ]
     },
     "execution_count": 16,
     "metadata": {},
     "output_type": "execute_result"
    }
   ],
   "source": [
    "df_cat = df.select_dtypes(include=\"object\")\n",
    "cat= pd.get_dummies(df_cat, drop_first=True)\n",
    "cat.head()"
   ]
  },
  {
   "cell_type": "code",
   "execution_count": 21,
   "id": "d940c7fc",
   "metadata": {},
   "outputs": [
    {
     "data": {
      "text/html": [
       "<div>\n",
       "<style scoped>\n",
       "    .dataframe tbody tr th:only-of-type {\n",
       "        vertical-align: middle;\n",
       "    }\n",
       "\n",
       "    .dataframe tbody tr th {\n",
       "        vertical-align: top;\n",
       "    }\n",
       "\n",
       "    .dataframe thead th {\n",
       "        text-align: right;\n",
       "    }\n",
       "</style>\n",
       "<table border=\"1\" class=\"dataframe\">\n",
       "  <thead>\n",
       "    <tr style=\"text-align: right;\">\n",
       "      <th></th>\n",
       "      <th>CreditScore</th>\n",
       "      <th>Age</th>\n",
       "      <th>NumOfYrsWithBank</th>\n",
       "      <th>Balance</th>\n",
       "      <th>NumOfProducts</th>\n",
       "      <th>HasCrCard</th>\n",
       "      <th>Closed_Acc</th>\n",
       "    </tr>\n",
       "  </thead>\n",
       "  <tbody>\n",
       "    <tr>\n",
       "      <th>0</th>\n",
       "      <td>619</td>\n",
       "      <td>42</td>\n",
       "      <td>2</td>\n",
       "      <td>0.00</td>\n",
       "      <td>1</td>\n",
       "      <td>1</td>\n",
       "      <td>1</td>\n",
       "    </tr>\n",
       "    <tr>\n",
       "      <th>1</th>\n",
       "      <td>608</td>\n",
       "      <td>41</td>\n",
       "      <td>1</td>\n",
       "      <td>83807.86</td>\n",
       "      <td>1</td>\n",
       "      <td>0</td>\n",
       "      <td>0</td>\n",
       "    </tr>\n",
       "    <tr>\n",
       "      <th>2</th>\n",
       "      <td>502</td>\n",
       "      <td>42</td>\n",
       "      <td>8</td>\n",
       "      <td>159660.80</td>\n",
       "      <td>3</td>\n",
       "      <td>1</td>\n",
       "      <td>1</td>\n",
       "    </tr>\n",
       "    <tr>\n",
       "      <th>3</th>\n",
       "      <td>699</td>\n",
       "      <td>39</td>\n",
       "      <td>1</td>\n",
       "      <td>0.00</td>\n",
       "      <td>2</td>\n",
       "      <td>0</td>\n",
       "      <td>0</td>\n",
       "    </tr>\n",
       "    <tr>\n",
       "      <th>4</th>\n",
       "      <td>850</td>\n",
       "      <td>43</td>\n",
       "      <td>2</td>\n",
       "      <td>125510.82</td>\n",
       "      <td>1</td>\n",
       "      <td>1</td>\n",
       "      <td>0</td>\n",
       "    </tr>\n",
       "  </tbody>\n",
       "</table>\n",
       "</div>"
      ],
      "text/plain": [
       "   CreditScore  Age  NumOfYrsWithBank    Balance  NumOfProducts  HasCrCard  \\\n",
       "0          619   42                 2       0.00              1          1   \n",
       "1          608   41                 1   83807.86              1          0   \n",
       "2          502   42                 8  159660.80              3          1   \n",
       "3          699   39                 1       0.00              2          0   \n",
       "4          850   43                 2  125510.82              1          1   \n",
       "\n",
       "   Closed_Acc  \n",
       "0           1  \n",
       "1           0  \n",
       "2           1  \n",
       "3           0  \n",
       "4           0  "
      ]
     },
     "execution_count": 21,
     "metadata": {},
     "output_type": "execute_result"
    }
   ],
   "source": [
    "df_num=df.select_dtypes(include=[\"int64\",\"float64\"])\n",
    "df_num.head()"
   ]
  },
  {
   "cell_type": "code",
   "execution_count": 25,
   "id": "f1eb4514",
   "metadata": {},
   "outputs": [
    {
     "data": {
      "text/html": [
       "<div>\n",
       "<style scoped>\n",
       "    .dataframe tbody tr th:only-of-type {\n",
       "        vertical-align: middle;\n",
       "    }\n",
       "\n",
       "    .dataframe tbody tr th {\n",
       "        vertical-align: top;\n",
       "    }\n",
       "\n",
       "    .dataframe thead th {\n",
       "        text-align: right;\n",
       "    }\n",
       "</style>\n",
       "<table border=\"1\" class=\"dataframe\">\n",
       "  <thead>\n",
       "    <tr style=\"text-align: right;\">\n",
       "      <th></th>\n",
       "      <th>skew</th>\n",
       "      <th>kurtosis</th>\n",
       "    </tr>\n",
       "  </thead>\n",
       "  <tbody>\n",
       "    <tr>\n",
       "      <th>CreditScore</th>\n",
       "      <td>-0.044792</td>\n",
       "      <td>-0.481827</td>\n",
       "    </tr>\n",
       "    <tr>\n",
       "      <th>Age</th>\n",
       "      <td>0.890756</td>\n",
       "      <td>0.907203</td>\n",
       "    </tr>\n",
       "    <tr>\n",
       "      <th>NumOfYrsWithBank</th>\n",
       "      <td>0.015013</td>\n",
       "      <td>-1.166435</td>\n",
       "    </tr>\n",
       "    <tr>\n",
       "      <th>Balance</th>\n",
       "      <td>-0.141744</td>\n",
       "      <td>-1.488799</td>\n",
       "    </tr>\n",
       "    <tr>\n",
       "      <th>NumOfProducts</th>\n",
       "      <td>0.743381</td>\n",
       "      <td>0.575488</td>\n",
       "    </tr>\n",
       "    <tr>\n",
       "      <th>HasCrCard</th>\n",
       "      <td>-0.903927</td>\n",
       "      <td>-1.183155</td>\n",
       "    </tr>\n",
       "    <tr>\n",
       "      <th>Closed_Acc</th>\n",
       "      <td>1.469827</td>\n",
       "      <td>0.160423</td>\n",
       "    </tr>\n",
       "  </tbody>\n",
       "</table>\n",
       "</div>"
      ],
      "text/plain": [
       "                      skew  kurtosis\n",
       "CreditScore      -0.044792 -0.481827\n",
       "Age               0.890756  0.907203\n",
       "NumOfYrsWithBank  0.015013 -1.166435\n",
       "Balance          -0.141744 -1.488799\n",
       "NumOfProducts     0.743381  0.575488\n",
       "HasCrCard        -0.903927 -1.183155\n",
       "Closed_Acc        1.469827  0.160423"
      ]
     },
     "execution_count": 25,
     "metadata": {},
     "output_type": "execute_result"
    }
   ],
   "source": [
    "df_num.agg(['skew', 'kurtosis']).transpose()"
   ]
  },
  {
   "cell_type": "code",
   "execution_count": 29,
   "id": "9d4d01bd",
   "metadata": {},
   "outputs": [
    {
     "data": {
      "text/html": [
       "<div>\n",
       "<style scoped>\n",
       "    .dataframe tbody tr th:only-of-type {\n",
       "        vertical-align: middle;\n",
       "    }\n",
       "\n",
       "    .dataframe tbody tr th {\n",
       "        vertical-align: top;\n",
       "    }\n",
       "\n",
       "    .dataframe thead th {\n",
       "        text-align: right;\n",
       "    }\n",
       "</style>\n",
       "<table border=\"1\" class=\"dataframe\">\n",
       "  <thead>\n",
       "    <tr style=\"text-align: right;\">\n",
       "      <th></th>\n",
       "      <th>CreditScore</th>\n",
       "      <th>Age</th>\n",
       "      <th>NumOfYrsWithBank</th>\n",
       "      <th>Balance</th>\n",
       "      <th>NumOfProducts</th>\n",
       "      <th>HasCrCard</th>\n",
       "      <th>Closed_Acc</th>\n",
       "      <th>Geography_Germany</th>\n",
       "      <th>Geography_Spain</th>\n",
       "      <th>Gender_Male</th>\n",
       "    </tr>\n",
       "  </thead>\n",
       "  <tbody>\n",
       "    <tr>\n",
       "      <th>0</th>\n",
       "      <td>619</td>\n",
       "      <td>42</td>\n",
       "      <td>2</td>\n",
       "      <td>0.00</td>\n",
       "      <td>1</td>\n",
       "      <td>1</td>\n",
       "      <td>1</td>\n",
       "      <td>0</td>\n",
       "      <td>0</td>\n",
       "      <td>0</td>\n",
       "    </tr>\n",
       "    <tr>\n",
       "      <th>1</th>\n",
       "      <td>608</td>\n",
       "      <td>41</td>\n",
       "      <td>1</td>\n",
       "      <td>83807.86</td>\n",
       "      <td>1</td>\n",
       "      <td>0</td>\n",
       "      <td>0</td>\n",
       "      <td>0</td>\n",
       "      <td>1</td>\n",
       "      <td>0</td>\n",
       "    </tr>\n",
       "    <tr>\n",
       "      <th>2</th>\n",
       "      <td>502</td>\n",
       "      <td>42</td>\n",
       "      <td>8</td>\n",
       "      <td>159660.80</td>\n",
       "      <td>3</td>\n",
       "      <td>1</td>\n",
       "      <td>1</td>\n",
       "      <td>0</td>\n",
       "      <td>0</td>\n",
       "      <td>0</td>\n",
       "    </tr>\n",
       "    <tr>\n",
       "      <th>3</th>\n",
       "      <td>699</td>\n",
       "      <td>39</td>\n",
       "      <td>1</td>\n",
       "      <td>0.00</td>\n",
       "      <td>2</td>\n",
       "      <td>0</td>\n",
       "      <td>0</td>\n",
       "      <td>0</td>\n",
       "      <td>0</td>\n",
       "      <td>0</td>\n",
       "    </tr>\n",
       "    <tr>\n",
       "      <th>4</th>\n",
       "      <td>850</td>\n",
       "      <td>43</td>\n",
       "      <td>2</td>\n",
       "      <td>125510.82</td>\n",
       "      <td>1</td>\n",
       "      <td>1</td>\n",
       "      <td>0</td>\n",
       "      <td>0</td>\n",
       "      <td>1</td>\n",
       "      <td>0</td>\n",
       "    </tr>\n",
       "  </tbody>\n",
       "</table>\n",
       "</div>"
      ],
      "text/plain": [
       "   CreditScore  Age  NumOfYrsWithBank    Balance  NumOfProducts  HasCrCard  \\\n",
       "0          619   42                 2       0.00              1          1   \n",
       "1          608   41                 1   83807.86              1          0   \n",
       "2          502   42                 8  159660.80              3          1   \n",
       "3          699   39                 1       0.00              2          0   \n",
       "4          850   43                 2  125510.82              1          1   \n",
       "\n",
       "   Closed_Acc  Geography_Germany  Geography_Spain  Gender_Male  \n",
       "0           1                  0                0            0  \n",
       "1           0                  0                1            0  \n",
       "2           1                  0                0            0  \n",
       "3           0                  0                0            0  \n",
       "4           0                  0                1            0  "
      ]
     },
     "execution_count": 29,
     "metadata": {},
     "output_type": "execute_result"
    }
   ],
   "source": [
    "df_final=pd.concat([df_num,cat], axis=1)\n",
    "df_final.head()"
   ]
  },
  {
   "cell_type": "code",
   "execution_count": 33,
   "id": "eb2f8cce",
   "metadata": {},
   "outputs": [],
   "source": [
    "input_cols=df_final.drop(['Closed_Acc'],axis=1)\n",
    "target_cols=df_final['Closed_Acc']"
   ]
  },
  {
   "cell_type": "code",
   "execution_count": 39,
   "id": "486c1ff5",
   "metadata": {},
   "outputs": [],
   "source": [
    "import statsmodels.api as sm\n",
    "from sklearn.model_selection import train_test_split"
   ]
  },
  {
   "cell_type": "code",
   "execution_count": 40,
   "id": "5728bc3c",
   "metadata": {},
   "outputs": [
    {
     "name": "stdout",
     "output_type": "stream",
     "text": [
      "Optimization terminated successfully.\n",
      "         Current function value: 0.441514\n",
      "         Iterations 6\n",
      "                           Logit Regression Results                           \n",
      "==============================================================================\n",
      "Dep. Variable:             Closed_Acc   No. Observations:                 7932\n",
      "Model:                          Logit   Df Residuals:                     7922\n",
      "Method:                           MLE   Df Model:                            9\n",
      "Date:                Thu, 28 Jul 2022   Pseudo R-squ.:                  0.1218\n",
      "Time:                        05:36:20   Log-Likelihood:                -3502.1\n",
      "converged:                       True   LL-Null:                       -3988.0\n",
      "Covariance Type:            nonrobust   LLR p-value:                2.100e-203\n",
      "=====================================================================================\n",
      "                        coef    std err          z      P>|z|      [0.025      0.975]\n",
      "-------------------------------------------------------------------------------------\n",
      "const                -3.7562      0.268    -13.995      0.000      -4.282      -3.230\n",
      "CreditScore          -0.0008      0.000     -2.503      0.012      -0.001      -0.000\n",
      "Age                   0.0695      0.003     24.327      0.000       0.064       0.075\n",
      "NumOfYrsWithBank     -0.0046      0.010     -0.446      0.655      -0.025       0.016\n",
      "Balance             2.83e-06   5.71e-07      4.959      0.000    1.71e-06    3.95e-06\n",
      "NumOfProducts        -0.0572      0.052     -1.110      0.267      -0.158       0.044\n",
      "HasCrCard             0.0193      0.066      0.293      0.770      -0.110       0.149\n",
      "Geography_Germany     0.7197      0.074      9.683      0.000       0.574       0.865\n",
      "Geography_Spain      -0.0874      0.080     -1.099      0.272      -0.243       0.068\n",
      "Gender_Male          -0.5360      0.060     -8.887      0.000      -0.654      -0.418\n",
      "=====================================================================================\n"
     ]
    }
   ],
   "source": [
    "X = sm.add_constant(input_cols)\n",
    "X_train, X_test, y_train, y_test = train_test_split(X, target_cols, random_state = 1, test_size = 0.2)\n",
    "logreg = sm.Logit(y_train, X_train).fit()\n",
    "print(logreg.summary())"
   ]
  },
  {
   "cell_type": "code",
   "execution_count": 45,
   "id": "c44e8f4d",
   "metadata": {},
   "outputs": [],
   "source": [
    "from sklearn.preprocessing import StandardScaler\n",
    "from sklearn.preprocessing import MinMaxScaler\n",
    "from sklearn.model_selection import train_test_split\n",
    "from sklearn.linear_model import LogisticRegression\n",
    "from sklearn.metrics import accuracy_score\n",
    "from sklearn import metrics\n",
    "from sklearn.metrics import confusion_matrix"
   ]
  },
  {
   "cell_type": "code",
   "execution_count": 50,
   "id": "af2569e8",
   "metadata": {},
   "outputs": [
    {
     "data": {
      "text/plain": [
       "0.7801311144730206"
      ]
     },
     "execution_count": 50,
     "metadata": {},
     "output_type": "execute_result"
    }
   ],
   "source": [
    "logreg=LogisticRegression()\n",
    "logreg.fit(X_train,y_train)\n",
    "log_pred=logreg.predict(X_test)\n",
    "accuracy_score(log_pred,y_test)"
   ]
  },
  {
   "cell_type": "code",
   "execution_count": 48,
   "id": "9d822d9c",
   "metadata": {},
   "outputs": [
    {
     "name": "stdout",
     "output_type": "stream",
     "text": [
      "All scores:  [-0.29170777 -0.3112791  -0.26450928 -0.25276461 -0.28408373]\n",
      "\n",
      "Minimum score obtained:  -0.3113\n",
      "Maximum score obtained:  -0.2528\n",
      "Average score obtained:  -0.2809\n"
     ]
    }
   ],
   "source": [
    "from sklearn.model_selection import cross_val_score\n",
    "scores = cross_val_score(   estimator = LogisticRegression(), \n",
    "                            X = X_train, \n",
    "                            y = y_train, \n",
    "                            cv = 5, \n",
    "                            scoring = 'r2',\n",
    "                         )\n",
    "print('All scores: ', scores)  \n",
    "print(\"\\nMinimum score obtained: \", round(min(scores), 4)) \n",
    "print(\"Maximum score obtained: \", round(max(scores), 4))  \n",
    "print(\"Average score obtained: \", round(np.mean(scores), 4))"
   ]
  },
  {
   "cell_type": "code",
   "execution_count": 52,
   "id": "7b19c1b5",
   "metadata": {},
   "outputs": [
    {
     "data": {
      "text/plain": [
       "<AxesSubplot:>"
      ]
     },
     "execution_count": 52,
     "metadata": {},
     "output_type": "execute_result"
    },
    {
     "data": {
      "image/png": "[encoded data removed]",
      "text/plain": [
       "<Figure size 432x288 with 2 Axes>"
      ]
     },
     "metadata": {},
     "output_type": "display_data"
    }
   ],
   "source": [
    "sns.heatmap(df.corr(),annot=True)"
   ]
  },
  {
   "cell_type": "code",
   "execution_count": 53,
   "id": "cbec2f59",
   "metadata": {},
   "outputs": [
    {
     "name": "stdout",
     "output_type": "stream",
     "text": [
      "            Features        VIF\n",
      "0        CreditScore  20.436361\n",
      "1                Age  12.648665\n",
      "2   NumOfYrsWithBank   3.858384\n",
      "3            Balance   3.177816\n",
      "4      NumOfProducts   7.783409\n",
      "5          HasCrCard   3.293774\n",
      "6  Geography_Germany   1.786866\n",
      "7    Geography_Spain   1.486866\n",
      "8        Gender_Male   2.167338\n"
     ]
    }
   ],
   "source": [
    "from statsmodels.stats.outliers_influence import variance_inflation_factor\n",
    "vif = pd.DataFrame()\n",
    "vif[\"Features\"] = input_cols.columns\n",
    "vif[\"VIF\"] = [variance_inflation_factor(input_cols.values, i) for i in range(input_cols.shape[1])]\n",
    "print(vif)\n",
    "incols_vif=input_cols[vif[vif['VIF']<=11]['Features']]"
   ]
  },
  {
   "cell_type": "code",
   "execution_count": 79,
   "id": "db94c7f8",
   "metadata": {},
   "outputs": [],
   "source": [
    "from sklearn.preprocessing import StandardScaler\n",
    "standard=StandardScaler()\n",
    "input_st=standard.fit_transform(input_cols)\n",
    "input_st=pd.DataFrame(data=input_st,columns=input_cols.columns)"
   ]
  },
  {
   "cell_type": "code",
   "execution_count": 81,
   "id": "914491ac",
   "metadata": {},
   "outputs": [
    {
     "name": "stdout",
     "output_type": "stream",
     "text": [
      "Optimization terminated successfully.\n",
      "         Current function value: 0.441514\n",
      "         Iterations 6\n",
      "                           Logit Regression Results                           \n",
      "==============================================================================\n",
      "Dep. Variable:                      y   No. Observations:                 7932\n",
      "Model:                          Logit   Df Residuals:                     7922\n",
      "Method:                           MLE   Df Model:                            9\n",
      "Date:                Thu, 28 Jul 2022   Pseudo R-squ.:                  0.1218\n",
      "Time:                        05:55:47   Log-Likelihood:                -3502.1\n",
      "converged:                       True   LL-Null:                       -3988.0\n",
      "Covariance Type:            nonrobust   LLR p-value:                2.100e-203\n",
      "=====================================================================================\n",
      "                        coef    std err          z      P>|z|      [0.025      0.975]\n",
      "-------------------------------------------------------------------------------------\n",
      "const                -1.5864      0.033    -48.331      0.000      -1.651      -1.522\n",
      "CreditScore          -0.0755      0.030     -2.503      0.012      -0.135      -0.016\n",
      "Age                   0.7041      0.029     24.327      0.000       0.647       0.761\n",
      "NumOfYrsWithBank     -0.0133      0.030     -0.446      0.655      -0.072       0.045\n",
      "Balance               0.1766      0.036      4.959      0.000       0.107       0.246\n",
      "NumOfProducts        -0.0332      0.030     -1.110      0.267      -0.092       0.025\n",
      "HasCrCard             0.0088      0.030      0.293      0.770      -0.050       0.068\n",
      "Geography_Germany     0.3122      0.032      9.683      0.000       0.249       0.375\n",
      "Geography_Spain      -0.0377      0.034     -1.099      0.272      -0.105       0.030\n",
      "Gender_Male          -0.2669      0.030     -8.887      0.000      -0.326      -0.208\n",
      "=====================================================================================\n"
     ]
    }
   ],
   "source": [
    "X = sm.add_constant(input_st)\n",
    "X_train, X_test, y_train, y_test = train_test_split(X, list(target_cols), random_state = 1, test_size = 0.2)\n",
    "logreg = sm.Logit(y_train, X_train).fit()\n",
    "print(logreg.summary())"
   ]
  },
  {
   "cell_type": "code",
   "execution_count": 82,
   "id": "f0c847ba",
   "metadata": {},
   "outputs": [
    {
     "data": {
      "text/plain": [
       "0.7887039838628341"
      ]
     },
     "execution_count": 82,
     "metadata": {},
     "output_type": "execute_result"
    }
   ],
   "source": [
    "logreg=LogisticRegression()\n",
    "logreg.fit(X_train,y_train)\n",
    "log_pred=logreg.predict(X_test)\n",
    "accuracy_score(log_pred,y_test)"
   ]
  },
  {
   "cell_type": "code",
   "execution_count": 83,
   "id": "f3d92e62",
   "metadata": {},
   "outputs": [
    {
     "name": "stdout",
     "output_type": "stream",
     "text": [
      "All scores:  [-0.24865085 -0.28387924 -0.26059439 -0.24493483 -0.27233906]\n",
      "\n",
      "Minimum score obtained:  -0.2839\n",
      "Maximum score obtained:  -0.2449\n",
      "Average score obtained:  -0.2621\n"
     ]
    }
   ],
   "source": [
    "scores = cross_val_score(   estimator = LogisticRegression(), \n",
    "                            X = X_train, \n",
    "                            y = y_train, \n",
    "                            cv = 5, \n",
    "                            scoring = 'r2',\n",
    "                         )\n",
    "print('All scores: ', scores)  \n",
    "print(\"\\nMinimum score obtained: \", round(min(scores), 4)) \n",
    "print(\"Maximum score obtained: \", round(max(scores), 4))  \n",
    "print(\"Average score obtained: \", round(np.mean(scores), 4))"
   ]
  }
 ],
 "metadata": {
  "kernelspec": {
   "display_name": "Python 3",
   "language": "python",
   "name": "python3"
  },
  "language_info": {
   "codemirror_mode": {
    "name": "ipython",
    "version": 3
   },
   "file_extension": ".py",
   "mimetype": "text/x-python",
   "name": "python",
   "nbconvert_exporter": "python",
   "pygments_lexer": "ipython3",
   "version": "3.8.8"
  }
 },
 "nbformat": 4,
 "nbformat_minor": 5
}
