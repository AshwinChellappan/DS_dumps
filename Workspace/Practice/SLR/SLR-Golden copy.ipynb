{
 "cells": [
  {
   "cell_type": "code",
   "execution_count": 1,
   "id": "a1ffc5aa",
   "metadata": {},
   "outputs": [],
   "source": [
    "import pandas as pd\n",
    "import numpy as np\n",
    "import seaborn as sns\n",
    "import matplotlib.pyplot as plt"
   ]
  },
  {
   "cell_type": "code",
   "execution_count": 2,
   "id": "5d876f44",
   "metadata": {},
   "outputs": [
    {
     "data": {
      "text/plain": [
       "(1030, 9)"
      ]
     },
     "execution_count": 2,
     "metadata": {},
     "output_type": "execute_result"
    }
   ],
   "source": [
    "df=pd.read_csv('Concrete_Data_Yeh.csv')\n",
    "df.shape"
   ]
  },
  {
   "cell_type": "code",
   "execution_count": 7,
   "id": "2c92d718",
   "metadata": {},
   "outputs": [
    {
     "data": {
      "text/html": [
       "<div>\n",
       "<style scoped>\n",
       "    .dataframe tbody tr th:only-of-type {\n",
       "        vertical-align: middle;\n",
       "    }\n",
       "\n",
       "    .dataframe tbody tr th {\n",
       "        vertical-align: top;\n",
       "    }\n",
       "\n",
       "    .dataframe thead th {\n",
       "        text-align: right;\n",
       "    }\n",
       "</style>\n",
       "<table border=\"1\" class=\"dataframe\">\n",
       "  <thead>\n",
       "    <tr style=\"text-align: right;\">\n",
       "      <th></th>\n",
       "      <th>cement</th>\n",
       "      <th>slag</th>\n",
       "      <th>flyash</th>\n",
       "      <th>water</th>\n",
       "      <th>superplasticizer</th>\n",
       "      <th>coarseaggregate</th>\n",
       "      <th>fineaggregate</th>\n",
       "      <th>age</th>\n",
       "      <th>csMPa</th>\n",
       "    </tr>\n",
       "  </thead>\n",
       "  <tbody>\n",
       "    <tr>\n",
       "      <th>count</th>\n",
       "      <td>1030.000000</td>\n",
       "      <td>1030.000000</td>\n",
       "      <td>1030.000000</td>\n",
       "      <td>1030.000000</td>\n",
       "      <td>1030.000000</td>\n",
       "      <td>1030.000000</td>\n",
       "      <td>1030.000000</td>\n",
       "      <td>1030.000000</td>\n",
       "      <td>1030.000000</td>\n",
       "    </tr>\n",
       "    <tr>\n",
       "      <th>mean</th>\n",
       "      <td>281.167864</td>\n",
       "      <td>73.895825</td>\n",
       "      <td>54.188350</td>\n",
       "      <td>181.567282</td>\n",
       "      <td>6.204660</td>\n",
       "      <td>972.918932</td>\n",
       "      <td>773.580485</td>\n",
       "      <td>45.662136</td>\n",
       "      <td>35.817961</td>\n",
       "    </tr>\n",
       "    <tr>\n",
       "      <th>std</th>\n",
       "      <td>104.506364</td>\n",
       "      <td>86.279342</td>\n",
       "      <td>63.997004</td>\n",
       "      <td>21.354219</td>\n",
       "      <td>5.973841</td>\n",
       "      <td>77.753954</td>\n",
       "      <td>80.175980</td>\n",
       "      <td>63.169912</td>\n",
       "      <td>16.705742</td>\n",
       "    </tr>\n",
       "    <tr>\n",
       "      <th>min</th>\n",
       "      <td>102.000000</td>\n",
       "      <td>0.000000</td>\n",
       "      <td>0.000000</td>\n",
       "      <td>121.800000</td>\n",
       "      <td>0.000000</td>\n",
       "      <td>801.000000</td>\n",
       "      <td>594.000000</td>\n",
       "      <td>1.000000</td>\n",
       "      <td>2.330000</td>\n",
       "    </tr>\n",
       "    <tr>\n",
       "      <th>25%</th>\n",
       "      <td>192.375000</td>\n",
       "      <td>0.000000</td>\n",
       "      <td>0.000000</td>\n",
       "      <td>164.900000</td>\n",
       "      <td>0.000000</td>\n",
       "      <td>932.000000</td>\n",
       "      <td>730.950000</td>\n",
       "      <td>7.000000</td>\n",
       "      <td>23.710000</td>\n",
       "    </tr>\n",
       "    <tr>\n",
       "      <th>50%</th>\n",
       "      <td>272.900000</td>\n",
       "      <td>22.000000</td>\n",
       "      <td>0.000000</td>\n",
       "      <td>185.000000</td>\n",
       "      <td>6.400000</td>\n",
       "      <td>968.000000</td>\n",
       "      <td>779.500000</td>\n",
       "      <td>28.000000</td>\n",
       "      <td>34.445000</td>\n",
       "    </tr>\n",
       "    <tr>\n",
       "      <th>75%</th>\n",
       "      <td>350.000000</td>\n",
       "      <td>142.950000</td>\n",
       "      <td>118.300000</td>\n",
       "      <td>192.000000</td>\n",
       "      <td>10.200000</td>\n",
       "      <td>1029.400000</td>\n",
       "      <td>824.000000</td>\n",
       "      <td>56.000000</td>\n",
       "      <td>46.135000</td>\n",
       "    </tr>\n",
       "    <tr>\n",
       "      <th>max</th>\n",
       "      <td>540.000000</td>\n",
       "      <td>359.400000</td>\n",
       "      <td>200.100000</td>\n",
       "      <td>247.000000</td>\n",
       "      <td>32.200000</td>\n",
       "      <td>1145.000000</td>\n",
       "      <td>992.600000</td>\n",
       "      <td>365.000000</td>\n",
       "      <td>82.600000</td>\n",
       "    </tr>\n",
       "  </tbody>\n",
       "</table>\n",
       "</div>"
      ],
      "text/plain": [
       "            cement         slag       flyash        water  superplasticizer  \\\n",
       "count  1030.000000  1030.000000  1030.000000  1030.000000       1030.000000   \n",
       "mean    281.167864    73.895825    54.188350   181.567282          6.204660   \n",
       "std     104.506364    86.279342    63.997004    21.354219          5.973841   \n",
       "min     102.000000     0.000000     0.000000   121.800000          0.000000   \n",
       "25%     192.375000     0.000000     0.000000   164.900000          0.000000   \n",
       "50%     272.900000    22.000000     0.000000   185.000000          6.400000   \n",
       "75%     350.000000   142.950000   118.300000   192.000000         10.200000   \n",
       "max     540.000000   359.400000   200.100000   247.000000         32.200000   \n",
       "\n",
       "       coarseaggregate  fineaggregate          age        csMPa  \n",
       "count      1030.000000    1030.000000  1030.000000  1030.000000  \n",
       "mean        972.918932     773.580485    45.662136    35.817961  \n",
       "std          77.753954      80.175980    63.169912    16.705742  \n",
       "min         801.000000     594.000000     1.000000     2.330000  \n",
       "25%         932.000000     730.950000     7.000000    23.710000  \n",
       "50%         968.000000     779.500000    28.000000    34.445000  \n",
       "75%        1029.400000     824.000000    56.000000    46.135000  \n",
       "max        1145.000000     992.600000   365.000000    82.600000  "
      ]
     },
     "execution_count": 7,
     "metadata": {},
     "output_type": "execute_result"
    }
   ],
   "source": [
    "df.describe()"
   ]
  },
  {
   "cell_type": "code",
   "execution_count": 12,
   "id": "023fa3bd",
   "metadata": {},
   "outputs": [
    {
     "name": "stdout",
     "output_type": "stream",
     "text": [
      "<class 'pandas.core.frame.DataFrame'>\n",
      "RangeIndex: 1030 entries, 0 to 1029\n",
      "Data columns (total 9 columns):\n",
      " #   Column            Non-Null Count  Dtype  \n",
      "---  ------            --------------  -----  \n",
      " 0   cement            1030 non-null   float64\n",
      " 1   slag              1030 non-null   float64\n",
      " 2   flyash            1030 non-null   float64\n",
      " 3   water             1030 non-null   float64\n",
      " 4   superplasticizer  1030 non-null   float64\n",
      " 5   coarseaggregate   1030 non-null   float64\n",
      " 6   fineaggregate     1030 non-null   float64\n",
      " 7   age               1030 non-null   int64  \n",
      " 8   csMPa             1030 non-null   float64\n",
      "dtypes: float64(8), int64(1)\n",
      "memory usage: 72.5 KB\n"
     ]
    }
   ],
   "source": [
    "df.info()"
   ]
  },
  {
   "cell_type": "code",
   "execution_count": 15,
   "id": "bd2807cb",
   "metadata": {},
   "outputs": [
    {
     "data": {
      "text/plain": [
       "cement              0\n",
       "slag                0\n",
       "flyash              0\n",
       "water               0\n",
       "superplasticizer    0\n",
       "coarseaggregate     0\n",
       "fineaggregate       0\n",
       "age                 0\n",
       "csMPa               0\n",
       "dtype: int64"
      ]
     },
     "execution_count": 15,
     "metadata": {},
     "output_type": "execute_result"
    }
   ],
   "source": [
    "df.isnull().sum()\n",
    "df.isna().sum()"
   ]
  },
  {
   "cell_type": "code",
   "execution_count": 3,
   "id": "534f348a",
   "metadata": {},
   "outputs": [
    {
     "data": {
      "text/plain": [
       "25"
      ]
     },
     "execution_count": 3,
     "metadata": {},
     "output_type": "execute_result"
    }
   ],
   "source": [
    "df.duplicated().sum()"
   ]
  },
  {
   "cell_type": "code",
   "execution_count": 3,
   "id": "d52c4456",
   "metadata": {},
   "outputs": [],
   "source": [
    "df.drop_duplicates(inplace=True)"
   ]
  },
  {
   "cell_type": "code",
   "execution_count": 4,
   "id": "05ce59a1",
   "metadata": {},
   "outputs": [
    {
     "name": "stdout",
     "output_type": "stream",
     "text": [
      "cement              158.30\n",
      "slag                142.50\n",
      "flyash              118.30\n",
      "water                26.30\n",
      "superplasticizer     10.00\n",
      "coarseaggregate      99.00\n",
      "fineaggregate        97.90\n",
      "age                  49.00\n",
      "csMPa                21.35\n",
      "dtype: float64\n"
     ]
    },
    {
     "data": {
      "text/plain": [
       "(911, 9)"
      ]
     },
     "execution_count": 4,
     "metadata": {},
     "output_type": "execute_result"
    }
   ],
   "source": [
    "Q1=df.quantile(0.25)\n",
    "Q3=df.quantile(0.75)\n",
    "IQR=Q3-Q1\n",
    "print(IQR)\n",
    "df = df[~((df < (Q1 - 1.5 * IQR)) |(df > (Q3 + 1.5 * IQR))).any(axis=1)]\n",
    "df.shape"
   ]
  },
  {
   "cell_type": "code",
   "execution_count": 6,
   "id": "0d9c0eb9",
   "metadata": {},
   "outputs": [
    {
     "data": {
      "image/png": "[encoded data removed]",
      "text/plain": [
       "<Figure size 432x288 with 2 Axes>"
      ]
     },
     "metadata": {
      "needs_background": "light"
     },
     "output_type": "display_data"
    }
   ],
   "source": [
    "sns.heatmap(df.corr(),annot=True)\n",
    "plt.show()"
   ]
  },
  {
   "cell_type": "code",
   "execution_count": 23,
   "id": "55339d81",
   "metadata": {},
   "outputs": [
    {
     "data": {
      "text/plain": [
       "(916, 9)"
      ]
     },
     "execution_count": 23,
     "metadata": {},
     "output_type": "execute_result"
    }
   ],
   "source": [
    "df.shape"
   ]
  },
  {
   "cell_type": "code",
   "execution_count": 24,
   "id": "39fad355",
   "metadata": {},
   "outputs": [
    {
     "data": {
      "text/html": [
       "<div>\n",
       "<style scoped>\n",
       "    .dataframe tbody tr th:only-of-type {\n",
       "        vertical-align: middle;\n",
       "    }\n",
       "\n",
       "    .dataframe tbody tr th {\n",
       "        vertical-align: top;\n",
       "    }\n",
       "\n",
       "    .dataframe thead th {\n",
       "        text-align: right;\n",
       "    }\n",
       "</style>\n",
       "<table border=\"1\" class=\"dataframe\">\n",
       "  <thead>\n",
       "    <tr style=\"text-align: right;\">\n",
       "      <th></th>\n",
       "      <th>cement</th>\n",
       "      <th>slag</th>\n",
       "      <th>flyash</th>\n",
       "      <th>water</th>\n",
       "      <th>superplasticizer</th>\n",
       "      <th>coarseaggregate</th>\n",
       "      <th>fineaggregate</th>\n",
       "      <th>age</th>\n",
       "      <th>csMPa</th>\n",
       "    </tr>\n",
       "  </thead>\n",
       "  <tbody>\n",
       "    <tr>\n",
       "      <th>1</th>\n",
       "      <td>540.0</td>\n",
       "      <td>0.0</td>\n",
       "      <td>0.0</td>\n",
       "      <td>162.0</td>\n",
       "      <td>2.5</td>\n",
       "      <td>1055.0</td>\n",
       "      <td>676.0</td>\n",
       "      <td>28</td>\n",
       "      <td>61.89</td>\n",
       "    </tr>\n",
       "    <tr>\n",
       "      <th>5</th>\n",
       "      <td>266.0</td>\n",
       "      <td>114.0</td>\n",
       "      <td>0.0</td>\n",
       "      <td>228.0</td>\n",
       "      <td>0.0</td>\n",
       "      <td>932.0</td>\n",
       "      <td>670.0</td>\n",
       "      <td>90</td>\n",
       "      <td>47.03</td>\n",
       "    </tr>\n",
       "    <tr>\n",
       "      <th>7</th>\n",
       "      <td>380.0</td>\n",
       "      <td>95.0</td>\n",
       "      <td>0.0</td>\n",
       "      <td>228.0</td>\n",
       "      <td>0.0</td>\n",
       "      <td>932.0</td>\n",
       "      <td>594.0</td>\n",
       "      <td>28</td>\n",
       "      <td>36.45</td>\n",
       "    </tr>\n",
       "    <tr>\n",
       "      <th>8</th>\n",
       "      <td>266.0</td>\n",
       "      <td>114.0</td>\n",
       "      <td>0.0</td>\n",
       "      <td>228.0</td>\n",
       "      <td>0.0</td>\n",
       "      <td>932.0</td>\n",
       "      <td>670.0</td>\n",
       "      <td>28</td>\n",
       "      <td>45.85</td>\n",
       "    </tr>\n",
       "    <tr>\n",
       "      <th>9</th>\n",
       "      <td>475.0</td>\n",
       "      <td>0.0</td>\n",
       "      <td>0.0</td>\n",
       "      <td>228.0</td>\n",
       "      <td>0.0</td>\n",
       "      <td>932.0</td>\n",
       "      <td>594.0</td>\n",
       "      <td>28</td>\n",
       "      <td>39.29</td>\n",
       "    </tr>\n",
       "  </tbody>\n",
       "</table>\n",
       "</div>"
      ],
      "text/plain": [
       "   cement   slag  flyash  water  superplasticizer  coarseaggregate  \\\n",
       "1   540.0    0.0     0.0  162.0               2.5           1055.0   \n",
       "5   266.0  114.0     0.0  228.0               0.0            932.0   \n",
       "7   380.0   95.0     0.0  228.0               0.0            932.0   \n",
       "8   266.0  114.0     0.0  228.0               0.0            932.0   \n",
       "9   475.0    0.0     0.0  228.0               0.0            932.0   \n",
       "\n",
       "   fineaggregate  age  csMPa  \n",
       "1          676.0   28  61.89  \n",
       "5          670.0   90  47.03  \n",
       "7          594.0   28  36.45  \n",
       "8          670.0   28  45.85  \n",
       "9          594.0   28  39.29  "
      ]
     },
     "execution_count": 24,
     "metadata": {},
     "output_type": "execute_result"
    }
   ],
   "source": [
    "df.head()"
   ]
  },
  {
   "cell_type": "code",
   "execution_count": 5,
   "id": "161cbc4d",
   "metadata": {},
   "outputs": [],
   "source": [
    "input_cols=df.drop(['csMPa'],axis=1)\n",
    "target_cols=df['csMPa']"
   ]
  },
  {
   "cell_type": "code",
   "execution_count": 33,
   "id": "cf7085a7",
   "metadata": {},
   "outputs": [
    {
     "data": {
      "image/png": "[encoded data removed]",
      "text/plain": [
       "<Figure size 432x288 with 1 Axes>"
      ]
     },
     "metadata": {
      "needs_background": "light"
     },
     "output_type": "display_data"
    }
   ],
   "source": [
    "sns.histplot(df['age'])\n",
    "plt.show()"
   ]
  },
  {
   "cell_type": "code",
   "execution_count": 6,
   "id": "1993371c",
   "metadata": {},
   "outputs": [],
   "source": [
    "from sklearn.preprocessing import StandardScaler\n",
    "standard=StandardScaler()\n",
    "input_st=standard.fit_transform(input_cols)\n",
    "input_st=pd.DataFrame(data=input_st,columns=input_cols.columns)"
   ]
  },
  {
   "cell_type": "code",
   "execution_count": 7,
   "id": "07ccd5db",
   "metadata": {},
   "outputs": [],
   "source": [
    "input_cols_trans=np.sqrt(input_cols)\n",
    "target_cols_trans=np.sqrt(target_cols)"
   ]
  },
  {
   "cell_type": "code",
   "execution_count": 36,
   "id": "de600cb8",
   "metadata": {},
   "outputs": [
    {
     "data": {
      "text/html": [
       "<div>\n",
       "<style scoped>\n",
       "    .dataframe tbody tr th:only-of-type {\n",
       "        vertical-align: middle;\n",
       "    }\n",
       "\n",
       "    .dataframe tbody tr th {\n",
       "        vertical-align: top;\n",
       "    }\n",
       "\n",
       "    .dataframe thead th {\n",
       "        text-align: right;\n",
       "    }\n",
       "</style>\n",
       "<table border=\"1\" class=\"dataframe\">\n",
       "  <thead>\n",
       "    <tr style=\"text-align: right;\">\n",
       "      <th></th>\n",
       "      <th>skew</th>\n",
       "      <th>kurtosis</th>\n",
       "    </tr>\n",
       "  </thead>\n",
       "  <tbody>\n",
       "    <tr>\n",
       "      <th>cement</th>\n",
       "      <td>0.586987</td>\n",
       "      <td>-0.385842</td>\n",
       "    </tr>\n",
       "    <tr>\n",
       "      <th>slag</th>\n",
       "      <td>0.820831</td>\n",
       "      <td>-0.564474</td>\n",
       "    </tr>\n",
       "    <tr>\n",
       "      <th>flyash</th>\n",
       "      <td>0.375191</td>\n",
       "      <td>-1.454731</td>\n",
       "    </tr>\n",
       "    <tr>\n",
       "      <th>water</th>\n",
       "      <td>0.031672</td>\n",
       "      <td>-0.130368</td>\n",
       "    </tr>\n",
       "    <tr>\n",
       "      <th>superplasticizer</th>\n",
       "      <td>0.307890</td>\n",
       "      <td>-0.692067</td>\n",
       "    </tr>\n",
       "    <tr>\n",
       "      <th>coarseaggregate</th>\n",
       "      <td>-0.137206</td>\n",
       "      <td>-0.563569</td>\n",
       "    </tr>\n",
       "    <tr>\n",
       "      <th>fineaggregate</th>\n",
       "      <td>-0.290960</td>\n",
       "      <td>-0.031464</td>\n",
       "    </tr>\n",
       "    <tr>\n",
       "      <th>age</th>\n",
       "      <td>1.266122</td>\n",
       "      <td>0.667388</td>\n",
       "    </tr>\n",
       "    <tr>\n",
       "      <th>csMPa</th>\n",
       "      <td>0.423756</td>\n",
       "      <td>-0.332932</td>\n",
       "    </tr>\n",
       "  </tbody>\n",
       "</table>\n",
       "</div>"
      ],
      "text/plain": [
       "                      skew  kurtosis\n",
       "cement            0.586987 -0.385842\n",
       "slag              0.820831 -0.564474\n",
       "flyash            0.375191 -1.454731\n",
       "water             0.031672 -0.130368\n",
       "superplasticizer  0.307890 -0.692067\n",
       "coarseaggregate  -0.137206 -0.563569\n",
       "fineaggregate    -0.290960 -0.031464\n",
       "age               1.266122  0.667388\n",
       "csMPa             0.423756 -0.332932"
      ]
     },
     "execution_count": 36,
     "metadata": {},
     "output_type": "execute_result"
    }
   ],
   "source": [
    "df.agg(['skew', 'kurtosis']).transpose()"
   ]
  },
  {
   "cell_type": "code",
   "execution_count": 8,
   "id": "aa247483",
   "metadata": {},
   "outputs": [
    {
     "name": "stdout",
     "output_type": "stream",
     "text": [
      "                            OLS Regression Results                            \n",
      "==============================================================================\n",
      "Dep. Variable:                  csMPa   R-squared:                       0.759\n",
      "Model:                            OLS   Adj. R-squared:                  0.757\n",
      "Method:                 Least Squares   F-statistic:                     355.1\n",
      "Date:                Thu, 28 Jul 2022   Prob (F-statistic):          1.35e-272\n",
      "Time:                        04:59:33   Log-Likelihood:                -3161.4\n",
      "No. Observations:                 911   AIC:                             6341.\n",
      "Df Residuals:                     902   BIC:                             6384.\n",
      "Df Model:                           8                                         \n",
      "Covariance Type:            nonrobust                                         \n",
      "====================================================================================\n",
      "                       coef    std err          t      P>|t|      [0.025      0.975]\n",
      "------------------------------------------------------------------------------------\n",
      "const               54.5668     22.163      2.462      0.014      11.069      98.064\n",
      "cement               0.1001      0.007     14.473      0.000       0.087       0.114\n",
      "slag                 0.0727      0.008      8.706      0.000       0.056       0.089\n",
      "flyash               0.0480      0.010      4.727      0.000       0.028       0.068\n",
      "water               -0.2545      0.034     -7.381      0.000      -0.322      -0.187\n",
      "superplasticizer     0.1881      0.086      2.199      0.028       0.020       0.356\n",
      "coarseaggregate     -0.0129      0.008     -1.670      0.095      -0.028       0.002\n",
      "fineaggregate       -0.0106      0.009     -1.193      0.233      -0.028       0.007\n",
      "age                  0.3088      0.009     33.655      0.000       0.291       0.327\n",
      "==============================================================================\n",
      "Omnibus:                        6.616   Durbin-Watson:                   1.344\n",
      "Prob(Omnibus):                  0.037   Jarque-Bera (JB):                7.332\n",
      "Skew:                           0.129   Prob(JB):                       0.0256\n",
      "Kurtosis:                       3.355   Cond. No.                     1.11e+05\n",
      "==============================================================================\n",
      "\n",
      "Notes:\n",
      "[1] Standard Errors assume that the covariance matrix of the errors is correctly specified.\n",
      "[2] The condition number is large, 1.11e+05. This might indicate that there are\n",
      "strong multicollinearity or other numerical problems.\n"
     ]
    }
   ],
   "source": [
    "import statsmodels.api as sm\n",
    "X = sm.add_constant(input_cols)\n",
    "y=target_cols\n",
    "MLR_model = sm.OLS(y,X).fit()\n",
    "print(MLR_model.summary())"
   ]
  },
  {
   "cell_type": "code",
   "execution_count": 9,
   "id": "0d286fbe",
   "metadata": {},
   "outputs": [
    {
     "data": {
      "text/plain": [
       "((637, 8), (274, 8), (637,), (274,))"
      ]
     },
     "execution_count": 9,
     "metadata": {},
     "output_type": "execute_result"
    }
   ],
   "source": [
    "from sklearn.linear_model import LinearRegression\n",
    "from sklearn.metrics import r2_score,mean_squared_error\n",
    "from sklearn.model_selection import train_test_split, cross_val_score, GridSearchCV\n",
    "x_train,x_test,y_train,y_test=train_test_split(input_cols,target_cols,\n",
    "                                                       test_size=0.3,random_state=1)\n",
    "x_train.shape,x_test.shape,y_train.shape,y_test.shape"
   ]
  },
  {
   "cell_type": "code",
   "execution_count": 10,
   "id": "04cc00df",
   "metadata": {},
   "outputs": [
    {
     "name": "stdout",
     "output_type": "stream",
     "text": [
      "Test Root Mean Squared Error 7.8136\n",
      "Train Root Mean Squared Error 7.7685\n"
     ]
    }
   ],
   "source": [
    "log_model=LinearRegression().fit(x_train,y_train)\n",
    "y_pred=log_model.predict(x_test)\n",
    "train_pred=log_model.predict(x_train)\n",
    "mean_squar_error_test=mean_squared_error(y_pred,y_test)\n",
    "#mean_squar_error_train=mean_squared_error(y_pred,y_train)\n",
    "mean_squar_error_train = mean_squared_error(y_train, train_pred)\n",
    "print('Test Root Mean Squared Error',round(np.sqrt(mean_squar_error_test), 4))\n",
    "print('Train Root Mean Squared Error',round(np.sqrt(mean_squar_error_train), 4))"
   ]
  },
  {
   "cell_type": "code",
   "execution_count": 16,
   "id": "264c6977",
   "metadata": {},
   "outputs": [
    {
     "name": "stdout",
     "output_type": "stream",
     "text": [
      "r-squared using VIF is:  0.7508297967475663\n"
     ]
    }
   ],
   "source": [
    "lin_model=LinearRegression().fit(x_train,y_train)\n",
    "y_pred=lin_model.predict(x_test)\n",
    "mean_squar_error=mean_squared_error(y_pred,y_test)\n",
    "#print('Root Mean Squared Error',round(np.sqrt(mse_test), 4))\n",
    "r2_value_rfe = lin_model.score(x_train, y_train)\n",
    "print('r-squared using VIF is: ', r2_value_rfe)"
   ]
  },
  {
   "cell_type": "code",
   "execution_count": 17,
   "id": "55ff75d6",
   "metadata": {},
   "outputs": [
    {
     "name": "stdout",
     "output_type": "stream",
     "text": [
      "           Features        VIF\n",
      "0            cement  14.145787\n",
      "1              slag   3.411673\n",
      "2            flyash   4.975581\n",
      "3             water  95.274494\n",
      "4  superplasticizer   5.952955\n",
      "5   coarseaggregate  84.706969\n",
      "6     fineaggregate  76.819920\n",
      "7               age   2.301346\n"
     ]
    }
   ],
   "source": [
    "#Eliminating multicollinearity Calculating VIF\n",
    "from statsmodels.stats.outliers_influence import variance_inflation_factor\n",
    "vif = pd.DataFrame()\n",
    "vif[\"Features\"] = input_cols.columns\n",
    "vif[\"VIF\"] = [variance_inflation_factor(input_cols.values, i) for i in range(input_cols.shape[1])]\n",
    "print(vif)\n",
    "incols_vif=input_cols[vif[vif['VIF']<=11]['Features']]"
   ]
  },
  {
   "cell_type": "code",
   "execution_count": 11,
   "id": "eab6967e",
   "metadata": {},
   "outputs": [
    {
     "name": "stdout",
     "output_type": "stream",
     "text": [
      "           Features        VIF\n",
      "0            cement  13.306334\n",
      "1              slag   3.058325\n",
      "2            flyash   4.777136\n",
      "3             water  21.214473\n",
      "4  superplasticizer   4.541739\n",
      "5               age   2.284390\n"
     ]
    }
   ],
   "source": [
    "from statsmodels.stats.outliers_influence import variance_inflation_factor\n",
    "vif = pd.DataFrame()\n",
    "test_col=input_cols.drop(['coarseaggregate','fineaggregate'], axis=1)\n",
    "vif[\"Features\"] = test_col.columns\n",
    "vif[\"VIF\"] = [variance_inflation_factor(test_col.values, i) for i in range(test_col.shape[1])]\n",
    "print(vif)\n",
    "incols_vif=input_cols[vif[vif['VIF']<=11]['Features']]"
   ]
  },
  {
   "cell_type": "code",
   "execution_count": 12,
   "id": "f218f533",
   "metadata": {},
   "outputs": [
    {
     "data": {
      "text/plain": [
       "((637, 6), (274, 6), (637,), (274,))"
      ]
     },
     "execution_count": 12,
     "metadata": {},
     "output_type": "execute_result"
    }
   ],
   "source": [
    "from sklearn.linear_model import LinearRegression\n",
    "from sklearn.metrics import r2_score,mean_squared_error\n",
    "from sklearn.model_selection import train_test_split, cross_val_score, GridSearchCV\n",
    "x_train,x_test,y_train,y_test=train_test_split(test_col,target_cols,\n",
    "                                                       test_size=0.3,random_state=1)\n",
    "x_train.shape,x_test.shape,y_train.shape,y_test.shape"
   ]
  },
  {
   "cell_type": "code",
   "execution_count": 13,
   "id": "7c51235a",
   "metadata": {},
   "outputs": [
    {
     "name": "stdout",
     "output_type": "stream",
     "text": [
      "                            OLS Regression Results                            \n",
      "==============================================================================\n",
      "Dep. Variable:                  csMPa   R-squared:                       0.758\n",
      "Model:                            OLS   Adj. R-squared:                  0.757\n",
      "Method:                 Least Squares   F-statistic:                     472.4\n",
      "Date:                Thu, 28 Jul 2022   Prob (F-statistic):          1.24e-274\n",
      "Time:                        04:59:57   Log-Likelihood:                -3162.9\n",
      "No. Observations:                 911   AIC:                             6340.\n",
      "Df Residuals:                     904   BIC:                             6373.\n",
      "Df Model:                           6                                         \n",
      "Covariance Type:            nonrobust                                         \n",
      "====================================================================================\n",
      "                       coef    std err          t      P>|t|      [0.025      0.975]\n",
      "------------------------------------------------------------------------------------\n",
      "const               21.8288      3.667      5.952      0.000      14.631      29.026\n",
      "cement               0.1084      0.003     32.279      0.000       0.102       0.115\n",
      "slag                 0.0829      0.004     20.478      0.000       0.075       0.091\n",
      "flyash               0.0587      0.006      9.098      0.000       0.046       0.071\n",
      "water               -0.2102      0.018    -11.384      0.000      -0.246      -0.174\n",
      "superplasticizer     0.2425      0.079      3.053      0.002       0.087       0.398\n",
      "age                  0.3078      0.009     33.607      0.000       0.290       0.326\n",
      "==============================================================================\n",
      "Omnibus:                        7.206   Durbin-Watson:                   1.338\n",
      "Prob(Omnibus):                  0.027   Jarque-Bera (JB):                8.151\n",
      "Skew:                           0.133   Prob(JB):                       0.0170\n",
      "Kurtosis:                       3.380   Cond. No.                     4.95e+03\n",
      "==============================================================================\n",
      "\n",
      "Notes:\n",
      "[1] Standard Errors assume that the covariance matrix of the errors is correctly specified.\n",
      "[2] The condition number is large, 4.95e+03. This might indicate that there are\n",
      "strong multicollinearity or other numerical problems.\n"
     ]
    }
   ],
   "source": [
    "import statsmodels.api as sm\n",
    "X = sm.add_constant(test_col)\n",
    "y=target_cols\n",
    "MLR_model = sm.OLS(y,X).fit()\n",
    "print(MLR_model.summary())"
   ]
  },
  {
   "cell_type": "code",
   "execution_count": 14,
   "id": "72ce6c07",
   "metadata": {},
   "outputs": [
    {
     "name": "stdout",
     "output_type": "stream",
     "text": [
      "Test Root Mean Squared Error 7.8236\n",
      "Train Root Mean Squared Error 7.7823\n"
     ]
    }
   ],
   "source": [
    "log_model=LinearRegression().fit(x_train,y_train)\n",
    "y_pred=log_model.predict(x_test)\n",
    "train_pred=log_model.predict(x_train)\n",
    "mean_squar_error_test=mean_squared_error(y_pred,y_test)\n",
    "#mean_squar_error_train=mean_squared_error(y_pred,y_train)\n",
    "mean_squar_error_train = mean_squared_error(y_train, train_pred)\n",
    "print('Test Root Mean Squared Error',round(np.sqrt(mean_squar_error_test), 4))\n",
    "print('Train Root Mean Squared Error',round(np.sqrt(mean_squar_error_train), 4))"
   ]
  },
  {
   "cell_type": "code",
   "execution_count": 18,
   "id": "67459c98",
   "metadata": {},
   "outputs": [
    {
     "data": {
      "image/png": "[encoded data removed]",
      "text/plain": [
       "<Figure size 432x288 with 2 Axes>"
      ]
     },
     "metadata": {
      "needs_background": "light"
     },
     "output_type": "display_data"
    }
   ],
   "source": [
    "sns.heatmap(df.corr(),annot=True)\n",
    "plt.show()"
   ]
  },
  {
   "cell_type": "code",
   "execution_count": 15,
   "id": "19acf2e3",
   "metadata": {},
   "outputs": [
    {
     "name": "stdout",
     "output_type": "stream",
     "text": [
      "Index(['cement', 'slag', 'flyash', 'water', 'superplasticizer', 'age'], dtype='object')\n"
     ]
    }
   ],
   "source": [
    "#Feature selection using REF\n",
    "from sklearn.feature_selection import RFE\n",
    "linreg_rfe = LinearRegression()\n",
    "rfe_model = RFE(estimator=linreg_rfe, n_features_to_select = 8)\n",
    "rfe_model = rfe_model.fit(x_train, y_train)\n",
    "feat_index = pd.Series(data = rfe_model.ranking_, index = x_train.columns)\n",
    "signi_feat_rfe = feat_index[feat_index==1].index\n",
    "print(signi_feat_rfe)"
   ]
  },
  {
   "cell_type": "code",
   "execution_count": 42,
   "id": "fc797801",
   "metadata": {},
   "outputs": [
    {
     "name": "stdout",
     "output_type": "stream",
     "text": [
      "All scores:  [0.77190962 0.67663707 0.80754817 0.72604492 0.68909748]\n",
      "\n",
      "Minimum score obtained:  0.6766\n",
      "Maximum score obtained:  0.8075\n",
      "Average score obtained:  0.7342\n"
     ]
    }
   ],
   "source": [
    "#Model Evaluation using Cross validation score\n",
    "scores = cross_val_score(   estimator = LinearRegression(), \n",
    "                            X = x_train, \n",
    "                            y = y_train, \n",
    "                            cv = 5, \n",
    "                            scoring = 'r2',\n",
    "                         )\n",
    "print('All scores: ', scores)  \n",
    "print(\"\\nMinimum score obtained: \", round(min(scores), 4)) \n",
    "print(\"Maximum score obtained: \", round(max(scores), 4))  \n",
    "print(\"Average score obtained: \", round(np.mean(scores), 4))"
   ]
  },
  {
   "cell_type": "code",
   "execution_count": 43,
   "id": "e008aa82",
   "metadata": {},
   "outputs": [
    {
     "name": "stdout",
     "output_type": "stream",
     "text": [
      "All scores:  [0.7719096196832986, 0.6766370748709984, 0.8075481684207243, 0.7260449191336148, 0.6890974776001]\n",
      "\n",
      "Minimum score obtained:  0.6766\n",
      "Maximum score obtained:  0.8075\n",
      "Average score obtained:  0.7342\n"
     ]
    }
   ],
   "source": [
    "#Model Evaluation using K-Fold\n",
    "from sklearn.model_selection import cross_val_score\n",
    "from sklearn.model_selection import KFold\n",
    "\n",
    "def get_score(model, X_train_k, X_test_k, y_train_k, y_test_k):\n",
    "    model.fit(X_train_k, y_train_k)                                # fit the model \n",
    "    return model.score(X_test_k, y_test_k)  \n",
    "\n",
    "kf = KFold(n_splits = 5)\n",
    "scores = []\n",
    "for train_index, test_index in kf.split(x_train):\n",
    "    x_train_k, x_test_k, y_train_k, y_test_k = x_train.iloc[train_index], x_train.iloc[test_index], \\\n",
    "                                               y_train.iloc[train_index], y_train.iloc[test_index]\n",
    "    scores.append(get_score(LinearRegression(), x_train_k, x_test_k, y_train_k, y_test_k))\n",
    "print('All scores: ', scores)  \n",
    "print(\"\\nMinimum score obtained: \", round(min(scores), 4)) \n",
    "print(\"Maximum score obtained: \", round(max(scores), 4))  \n",
    "print(\"Average score obtained: \", round(np.mean(scores), 4))"
   ]
  },
  {
   "cell_type": "code",
   "execution_count": 48,
   "id": "f38a7e48",
   "metadata": {},
   "outputs": [
    {
     "name": "stdout",
     "output_type": "stream",
     "text": [
      "Root Mean Squared Error (RMSE) on training set:  7.7823\n",
      "Root Mean Squared Error (RMSE) on test set:  7.8234\n",
      "Least significant variables obtained from Lasso Regression when alpha is 1: []\n"
     ]
    }
   ],
   "source": [
    "#Lasso Regression\n",
    "from sklearn.linear_model import Lasso\n",
    "lasso = Lasso(alpha = 0.1)\n",
    "lasso_model = lasso.fit(x_train, y_train)\n",
    "train_pred = lasso_model.predict(x_train)\n",
    "mse_train = mean_squared_error(y_train, train_pred)\n",
    "rmse_train = round(np.sqrt(mse_train), 4)\n",
    "print(\"Root Mean Squared Error (RMSE) on training set: \", rmse_train)\n",
    "\n",
    "\n",
    "test_pred = lasso_model.predict(x_test)\n",
    "mse_test = mean_squared_error(y_test, test_pred)\n",
    "rmse_test = round(np.sqrt(mse_test), 4)\n",
    "print(\"Root Mean Squared Error (RMSE) on test set: \", rmse_test)\n",
    "\n",
    "df_lasso_coeff = pd.DataFrame(data = {'Variable': x_train.columns, 'Coefficient': lasso_model.coef_})\n",
    "\n",
    "print('Least significant variables obtained from Lasso Regression when alpha is 1:',\n",
    "      df_lasso_coeff.Variable[df_lasso_coeff.Coefficient == 0].to_list())\n",
    "\n",
    "#Can remove the Status_Developing as it is leastly impacting"
   ]
  },
  {
   "cell_type": "code",
   "execution_count": 46,
   "id": "185602fd",
   "metadata": {},
   "outputs": [
    {
     "name": "stdout",
     "output_type": "stream",
     "text": [
      "Best parameters for ELastic-net Regression:  {'alpha': 0.1, 'l1_ratio': 0.5} \n",
      "\n"
     ]
    }
   ],
   "source": [
    "#Grid search\n",
    "from sklearn.linear_model import ElasticNet\n",
    "tuned_paramaters = [{'alpha':[0.1,0.5,1,1.5,2,2.5,3,3.5,4],\n",
    "                      'l1_ratio':[0.5,0.55,0.6,0.65,0.7,0.75,0.8,0.85,0.9]}]\n",
    "enet = ElasticNet()\n",
    "enet_grid = GridSearchCV(estimator = enet, \n",
    "                          param_grid = tuned_paramaters, \n",
    "                          cv = 10)\n",
    "enet_grid.fit(x_train, y_train)\n",
    "print('Best parameters for ELastic-net Regression: ', enet_grid.best_params_, '\\n')"
   ]
  }
 ],
 "metadata": {
  "kernelspec": {
   "display_name": "Python 3",
   "language": "python",
   "name": "python3"
  },
  "language_info": {
   "codemirror_mode": {
    "name": "ipython",
    "version": 3
   },
   "file_extension": ".py",
   "mimetype": "text/x-python",
   "name": "python",
   "nbconvert_exporter": "python",
   "pygments_lexer": "ipython3",
   "version": "3.8.8"
  }
 },
 "nbformat": 4,
 "nbformat_minor": 5
}
