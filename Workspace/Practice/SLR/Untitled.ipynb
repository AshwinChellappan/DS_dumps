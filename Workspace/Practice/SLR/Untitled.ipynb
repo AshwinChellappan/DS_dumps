{
 "cells": [
  {
   "cell_type": "code",
   "execution_count": 13,
   "id": "e2bf5d7e",
   "metadata": {},
   "outputs": [],
   "source": [
    "import numpy as np\n",
    "import pandas as pd\n",
    "import matplotlib.pyplot as plt\n",
    "import seaborn as sns\n",
    "from sklearn.model_selection import train_test_split, cross_val_score, GridSearchCV\n",
    "from sklearn.linear_model import LinearRegression\n",
    "from sklearn.tree import DecisionTreeRegressor\n",
    "from sklearn.ensemble import RandomForestRegressor"
   ]
  },
  {
   "cell_type": "code",
   "execution_count": 2,
   "id": "1e3240be",
   "metadata": {},
   "outputs": [
    {
     "data": {
      "text/html": [
       "<div>\n",
       "<style scoped>\n",
       "    .dataframe tbody tr th:only-of-type {\n",
       "        vertical-align: middle;\n",
       "    }\n",
       "\n",
       "    .dataframe tbody tr th {\n",
       "        vertical-align: top;\n",
       "    }\n",
       "\n",
       "    .dataframe thead th {\n",
       "        text-align: right;\n",
       "    }\n",
       "</style>\n",
       "<table border=\"1\" class=\"dataframe\">\n",
       "  <thead>\n",
       "    <tr style=\"text-align: right;\">\n",
       "      <th></th>\n",
       "      <th>cement</th>\n",
       "      <th>slag</th>\n",
       "      <th>flyash</th>\n",
       "      <th>water</th>\n",
       "      <th>superplasticizer</th>\n",
       "      <th>coarseaggregate</th>\n",
       "      <th>fineaggregate</th>\n",
       "      <th>age</th>\n",
       "      <th>csMPa</th>\n",
       "    </tr>\n",
       "  </thead>\n",
       "  <tbody>\n",
       "    <tr>\n",
       "      <th>0</th>\n",
       "      <td>540.0</td>\n",
       "      <td>0.0</td>\n",
       "      <td>0.0</td>\n",
       "      <td>162.0</td>\n",
       "      <td>2.5</td>\n",
       "      <td>1040.0</td>\n",
       "      <td>676.0</td>\n",
       "      <td>28</td>\n",
       "      <td>79.99</td>\n",
       "    </tr>\n",
       "    <tr>\n",
       "      <th>1</th>\n",
       "      <td>540.0</td>\n",
       "      <td>0.0</td>\n",
       "      <td>0.0</td>\n",
       "      <td>162.0</td>\n",
       "      <td>2.5</td>\n",
       "      <td>1055.0</td>\n",
       "      <td>676.0</td>\n",
       "      <td>28</td>\n",
       "      <td>61.89</td>\n",
       "    </tr>\n",
       "    <tr>\n",
       "      <th>2</th>\n",
       "      <td>332.5</td>\n",
       "      <td>142.5</td>\n",
       "      <td>0.0</td>\n",
       "      <td>228.0</td>\n",
       "      <td>0.0</td>\n",
       "      <td>932.0</td>\n",
       "      <td>594.0</td>\n",
       "      <td>270</td>\n",
       "      <td>40.27</td>\n",
       "    </tr>\n",
       "    <tr>\n",
       "      <th>3</th>\n",
       "      <td>332.5</td>\n",
       "      <td>142.5</td>\n",
       "      <td>0.0</td>\n",
       "      <td>228.0</td>\n",
       "      <td>0.0</td>\n",
       "      <td>932.0</td>\n",
       "      <td>594.0</td>\n",
       "      <td>365</td>\n",
       "      <td>41.05</td>\n",
       "    </tr>\n",
       "    <tr>\n",
       "      <th>4</th>\n",
       "      <td>198.6</td>\n",
       "      <td>132.4</td>\n",
       "      <td>0.0</td>\n",
       "      <td>192.0</td>\n",
       "      <td>0.0</td>\n",
       "      <td>978.4</td>\n",
       "      <td>825.5</td>\n",
       "      <td>360</td>\n",
       "      <td>44.30</td>\n",
       "    </tr>\n",
       "  </tbody>\n",
       "</table>\n",
       "</div>"
      ],
      "text/plain": [
       "   cement   slag  flyash  water  superplasticizer  coarseaggregate  \\\n",
       "0   540.0    0.0     0.0  162.0               2.5           1040.0   \n",
       "1   540.0    0.0     0.0  162.0               2.5           1055.0   \n",
       "2   332.5  142.5     0.0  228.0               0.0            932.0   \n",
       "3   332.5  142.5     0.0  228.0               0.0            932.0   \n",
       "4   198.6  132.4     0.0  192.0               0.0            978.4   \n",
       "\n",
       "   fineaggregate  age  csMPa  \n",
       "0          676.0   28  79.99  \n",
       "1          676.0   28  61.89  \n",
       "2          594.0  270  40.27  \n",
       "3          594.0  365  41.05  \n",
       "4          825.5  360  44.30  "
      ]
     },
     "execution_count": 2,
     "metadata": {},
     "output_type": "execute_result"
    }
   ],
   "source": [
    "df=pd.read_csv('Concrete_Data_Yeh.csv')\n",
    "df.head()"
   ]
  },
  {
   "cell_type": "code",
   "execution_count": 9,
   "id": "eb12ee87",
   "metadata": {},
   "outputs": [],
   "source": [
    "tran_df=np.sqrt(df)"
   ]
  },
  {
   "cell_type": "code",
   "execution_count": 15,
   "id": "2e5b9759",
   "metadata": {},
   "outputs": [
    {
     "data": {
      "text/plain": [
       "((703, 8), (302, 8), (703,), (302,))"
      ]
     },
     "execution_count": 15,
     "metadata": {},
     "output_type": "execute_result"
    }
   ],
   "source": [
    "input_cols=tran_df.drop(['csMPa'],axis=1)\n",
    "target_cols=tran_df['csMPa']\n",
    "x_train,x_test,y_train,y_test=train_test_split(input_cols,target_cols,test_size=0.3,random_state=1)\n",
    "x_train.shape,x_test.shape,y_train.shape,y_test.shape"
   ]
  },
  {
   "cell_type": "code",
   "execution_count": 16,
   "id": "fb263244",
   "metadata": {},
   "outputs": [
    {
     "name": "stdout",
     "output_type": "stream",
     "text": [
      "Root Mean Squared Error: 0.7754\n",
      "r-squared :  0.8836578671604377\n",
      "r-squared :  0.8316499324850676\n"
     ]
    }
   ],
   "source": [
    "rf_model=RandomForestRegressor(max_depth=5,random_state=1).fit(x_train,y_train)\n",
    "validate_y_pred=rf_model.predict(x_test)\n",
    "rmse=mean_squared_error(y_test,validate_y_pred,squared=False)\n",
    "print('Root Mean Squared Error:',round(np.sqrt(rmse), 4))\n",
    "r2_value_rfe = rf_model.score(x_train, y_train)\n",
    "print('r-squared : ', r2_value_rfe)\n",
    "r2_value_rfe_test = rf_model.score(x_test, y_test)\n",
    "print('r-squared : ', r2_value_rfe_test)"
   ]
  },
  {
   "cell_type": "code",
   "execution_count": 17,
   "id": "630d1c7d",
   "metadata": {},
   "outputs": [
    {
     "name": "stdout",
     "output_type": "stream",
     "text": [
      "Root Mean Squared Error: 0.857\n",
      "r-squared :  0.8836578671604377\n",
      "r-squared :  0.8316499324850676\n"
     ]
    }
   ],
   "source": [
    "dt_model=DecisionTreeRegressor(max_depth=5,random_state=1).fit(x_train,y_train)\n",
    "validate_y_pred=dt_model.predict(x_test)\n",
    "rmse=mean_squared_error(y_test,validate_y_pred,squared=False)\n",
    "print('Root Mean Squared Error:',round(np.sqrt(rmse), 4))\n",
    "r2_value_rfe = rf_model.score(x_train, y_train)\n",
    "print('r-squared : ', r2_value_rfe)\n",
    "r2_value_rfe_test = rf_model.score(x_test, y_test)\n",
    "print('r-squared : ', r2_value_rfe_test)"
   ]
  },
  {
   "cell_type": "code",
   "execution_count": 18,
   "id": "f2d6f176",
   "metadata": {},
   "outputs": [
    {
     "name": "stdout",
     "output_type": "stream",
     "text": [
      "Root Mean Squared Error: 0.7754\n",
      "r-squared :  0.8836578671604377\n",
      "r-squared :  0.8316499324850676\n"
     ]
    }
   ],
   "source": [
    "rf_model=RandomForestRegressor(max_depth=5,random_state=1).fit(x_train,y_train)\n",
    "validate_y_pred=rf_model.predict(x_test)\n",
    "rmse=mean_squared_error(y_test,validate_y_pred,squared=False)\n",
    "print('Root Mean Squared Error:',round(np.sqrt(rmse), 4))\n",
    "r2_value_rfe = rf_model.score(x_train, y_train)\n",
    "print('r-squared : ', r2_value_rfe)\n",
    "r2_value_rfe_test = rf_model.score(x_test, y_test)\n",
    "print('r-squared : ', r2_value_rfe_test)"
   ]
  },
  {
   "cell_type": "code",
   "execution_count": 41,
   "id": "4db60c0a",
   "metadata": {},
   "outputs": [
    {
     "name": "stdout",
     "output_type": "stream",
     "text": [
      "Root Mean Squared Error: 0.8684\n",
      "r-squared :  0.8552246816692122\n",
      "r-squared :  0.7661750439935542\n"
     ]
    }
   ],
   "source": [
    "dt_model=DecisionTreeRegressor(max_depth=5,random_state=1).fit(x_train,y_train)\n",
    "validate_y_pred=dt_model.predict(x_test)\n",
    "rmse=mean_squared_error(y_test,validate_y_pred,squared=False)\n",
    "print('Root Mean Squared Error:',round(np.sqrt(rmse), 4))\n",
    "r2_value_rfe = rf_model.score(x_train, y_train)\n",
    "print('r-squared : ', r2_value_rfe)\n",
    "r2_value_rfe_test = rf_model.score(x_test, y_test)\n",
    "print('r-squared : ', r2_value_rfe_test)"
   ]
  },
  {
   "cell_type": "code",
   "execution_count": 21,
   "id": "ef25b384",
   "metadata": {},
   "outputs": [
    {
     "name": "stdout",
     "output_type": "stream",
     "text": [
      "Root Mean Squared Error: 0.8045\n",
      "r-squared :  0.7404314957454639\n",
      "r-squared :  0.69859381426768\n"
     ]
    }
   ],
   "source": [
    "enet = ElasticNet(alpha=0.1,l1_ratio=0.5).fit(x_train,y_train)\n",
    "y_pred=enet.predict(x_test)\n",
    "mse_test=mean_squared_error(y_pred,y_test)\n",
    "print('Root Mean Squared Error:',round(np.sqrt(mse_test), 4))\n",
    "r2_value_rfe = enet.score(x_train, y_train)\n",
    "print('r-squared : ', r2_value_rfe)\n",
    "r2_value_rfe_test = enet.score(x_test, y_test)\n",
    "print('r-squared : ', r2_value_rfe_test)"
   ]
  },
  {
   "cell_type": "code",
   "execution_count": 20,
   "id": "70655df2",
   "metadata": {},
   "outputs": [
    {
     "name": "stdout",
     "output_type": "stream",
     "text": [
      "Best parameters for ELastic-net Regression:  {'alpha': 0.1, 'l1_ratio': 0.5} \n",
      "\n"
     ]
    }
   ],
   "source": [
    "#Hyper parameter tuning\n",
    "#Grid search\n",
    "from sklearn.linear_model import ElasticNet\n",
    "tuned_paramaters = [{'alpha':[0.1,0.5,1,1.5,2,2.5,3,3.5,4],\n",
    "                      'l1_ratio':[0.5,0.55,0.6,0.65,0.7,0.75,0.8,0.85,0.9]}]\n",
    "enet = ElasticNet()\n",
    "enet_grid = GridSearchCV(estimator = enet, \n",
    "                          param_grid = tuned_paramaters, \n",
    "                          cv = 10)\n",
    "enet_grid.fit(x_train, y_train)\n",
    "print('Best parameters for ELastic-net Regression: ', enet_grid.best_params_, '\\n')"
   ]
  },
  {
   "cell_type": "code",
   "execution_count": 28,
   "id": "4cf9da6b",
   "metadata": {},
   "outputs": [
    {
     "data": {
      "text/plain": [
       "((721, 4), (309, 4), (721,), (309,))"
      ]
     },
     "execution_count": 28,
     "metadata": {},
     "output_type": "execute_result"
    }
   ],
   "source": [
    "#Removing insignificant variables\n",
    "input_cols=tran_df.drop(['csMPa','water','superplasticizer','coarseaggregate','fineaggregate'],axis=1)\n",
    "target_cols=tran_df['csMPa']\n",
    "x_train,x_test,y_train,y_test=train_test_split(input_cols,target_cols,test_size=0.3,random_state=1)\n",
    "x_train.shape,x_test.shape,y_train.shape,y_test.shape"
   ]
  },
  {
   "cell_type": "code",
   "execution_count": 29,
   "id": "eabb502e",
   "metadata": {},
   "outputs": [
    {
     "name": "stdout",
     "output_type": "stream",
     "text": [
      "Root Mean Squared Error: 0.9015\n",
      "r-squared :  0.688987639070534\n",
      "r-squared :  0.5751469890958112\n"
     ]
    }
   ],
   "source": [
    "lin_model=LinearRegression().fit(x_train,y_train)\n",
    "y_pred=lin_model.predict(x_test)\n",
    "mse_test=mean_squared_error(y_pred,y_test)\n",
    "print('Root Mean Squared Error:',round(np.sqrt(mse_test), 4))\n",
    "r2_value_rfe = lin_model.score(x_train, y_train)\n",
    "print('r-squared : ', r2_value_rfe)\n",
    "r2_value_rfe_test = lin_model.score(x_test, y_test)\n",
    "print('r-squared : ', r2_value_rfe_test)"
   ]
  },
  {
   "cell_type": "code",
   "execution_count": null,
   "id": "784e5860",
   "metadata": {},
   "outputs": [],
   "source": []
  },
  {
   "cell_type": "code",
   "execution_count": 30,
   "id": "feae4769",
   "metadata": {},
   "outputs": [
    {
     "name": "stdout",
     "output_type": "stream",
     "text": [
      "Root Mean Squared Error (RMSE) on training set:  1.0908\n",
      "Root Mean Squared Error (RMSE) on test set:  1.0242\n",
      "Least significant variables obtained from Lasso Regression when alpha is 1: []\n"
     ]
    }
   ],
   "source": [
    "#Lasso Regression\n",
    "from sklearn.linear_model import Lasso\n",
    "lasso = Lasso(alpha = 1)\n",
    "lasso_model = lasso.fit(x_train, y_train)\n",
    "train_pred = lasso_model.predict(x_train)\n",
    "mse_train = mean_squared_error(y_train, train_pred)\n",
    "rmse_train = round(np.sqrt(mse_train), 4)\n",
    "print(\"Root Mean Squared Error (RMSE) on training set: \", rmse_train)\n",
    "\n",
    "\n",
    "test_pred = lasso_model.predict(x_test)\n",
    "mse_test = mean_squared_error(y_test, test_pred)\n",
    "rmse_test = round(np.sqrt(mse_test), 4)\n",
    "print(\"Root Mean Squared Error (RMSE) on test set: \", rmse_test)\n",
    "\n",
    "df_lasso_coeff = pd.DataFrame(data = {'Variable': x_train.columns, 'Coefficient': lasso_model.coef_})\n",
    "\n",
    "print('Least significant variables obtained from Lasso Regression when alpha is 1:',\n",
    "      df_lasso_coeff.Variable[df_lasso_coeff.Coefficient == 0].to_list())\n",
    "\n",
    "#Can remove the Status_Developing as it is leastly impacting"
   ]
  },
  {
   "cell_type": "code",
   "execution_count": null,
   "id": "955e4b32",
   "metadata": {},
   "outputs": [],
   "source": []
  },
  {
   "cell_type": "code",
   "execution_count": 4,
   "id": "24a3a1c2",
   "metadata": {},
   "outputs": [],
   "source": [
    "input_cols=tran_df.drop(['csMPa'],axis=1)\n",
    "target_cols=tran_df['csMPa']"
   ]
  },
  {
   "cell_type": "code",
   "execution_count": 10,
   "id": "d459cc21",
   "metadata": {},
   "outputs": [
    {
     "data": {
      "text/plain": [
       "((721, 8), (309, 8), (721,), (309,))"
      ]
     },
     "execution_count": 10,
     "metadata": {},
     "output_type": "execute_result"
    }
   ],
   "source": [
    "x_train,x_test,y_train,y_test=train_test_split(input_cols,target_cols,test_size=0.3,random_state=1)\n",
    "X_train.shape,x_test.shape,y_train.shape,y_test.shape"
   ]
  },
  {
   "cell_type": "code",
   "execution_count": 14,
   "id": "4372a723",
   "metadata": {},
   "outputs": [],
   "source": [
    "from sklearn.linear_model import LinearRegression\n",
    "from sklearn.metrics import r2_score,mean_squared_error"
   ]
  },
  {
   "cell_type": "code",
   "execution_count": 24,
   "id": "f996a621",
   "metadata": {},
   "outputs": [
    {
     "name": "stdout",
     "output_type": "stream",
     "text": [
      "Root Mean Squared Error: 0.7765\n",
      "r-squared :  0.7610649557308017\n",
      "r-squared :  0.6847533302700095\n"
     ]
    }
   ],
   "source": [
    "lin_model=LinearRegression().fit(x_train,y_train)\n",
    "y_pred=lin_model.predict(x_test)\n",
    "mse_test=mean_squared_error(y_pred,y_test)\n",
    "print('Root Mean Squared Error:',round(np.sqrt(mse_test), 4))\n",
    "r2_value_rfe = lin_model.score(x_train, y_train)\n",
    "print('r-squared : ', r2_value_rfe)\n",
    "r2_value_rfe_test = lin_model.score(x_test, y_test)\n",
    "print('r-squared : ', r2_value_rfe_test)"
   ]
  },
  {
   "cell_type": "code",
   "execution_count": 17,
   "id": "0e5be85e",
   "metadata": {},
   "outputs": [
    {
     "name": "stdout",
     "output_type": "stream",
     "text": [
      "All Train scores:  [0.69341927 0.79037552 0.78876145 0.74586429 0.7540509 ]\n",
      "\n",
      "Minimum score obtained:  0.6934\n",
      "Maximum score obtained:  0.7904\n",
      "Average score obtained:  0.7545\n",
      "\n",
      "All Test scores:  [0.63262019 0.72342705 0.59257141 0.73686041 0.70746009]\n",
      "\n",
      "Minimum score obtained:  0.5926\n",
      "Maximum score obtained:  0.7369\n",
      "Average score obtained:  0.6786\n"
     ]
    }
   ],
   "source": [
    "#Model Evaluation using Cross validation score\n",
    "scores = cross_val_score(   estimator = LinearRegression(), \n",
    "                            X = x_train, \n",
    "                            y = y_train, \n",
    "                            cv = 5, \n",
    "                            scoring = 'r2',\n",
    "                         )\n",
    "print('All Train scores: ', scores)  \n",
    "print(\"\\nMinimum score obtained: \", round(min(scores), 4)) \n",
    "print(\"Maximum score obtained: \", round(max(scores), 4))  \n",
    "print(\"Average score obtained: \", round(np.mean(scores), 4))\n",
    "\n",
    "\n",
    "scores = cross_val_score(   estimator = LinearRegression(), \n",
    "                            X = x_test, \n",
    "                            y = y_test, \n",
    "                            cv = 5, \n",
    "                            scoring = 'r2',\n",
    "                         )\n",
    "print('\\nAll Test scores: ', scores)  \n",
    "print(\"\\nMinimum score obtained: \", round(min(scores), 4)) \n",
    "print(\"Maximum score obtained: \", round(max(scores), 4))  \n",
    "print(\"Average score obtained: \", round(np.mean(scores), 4))"
   ]
  },
  {
   "cell_type": "code",
   "execution_count": 8,
   "id": "af39471e",
   "metadata": {},
   "outputs": [
    {
     "name": "stdout",
     "output_type": "stream",
     "text": [
      "                                 OLS Regression Results                                \n",
      "=======================================================================================\n",
      "Dep. Variable:                  csMPa   R-squared (uncentered):                   0.985\n",
      "Model:                            OLS   Adj. R-squared (uncentered):              0.985\n",
      "Method:                 Least Squares   F-statistic:                              8370.\n",
      "Date:                Wed, 22 Dec 2021   Prob (F-statistic):                        0.00\n",
      "Time:                        19:04:51   Log-Likelihood:                         -1142.7\n",
      "No. Observations:                1030   AIC:                                      2301.\n",
      "Df Residuals:                    1022   BIC:                                      2341.\n",
      "Df Model:                           8                                                  \n",
      "Covariance Type:            nonrobust                                                  \n",
      "====================================================================================\n",
      "                       coef    std err          t      P>|t|      [0.025      0.975]\n",
      "------------------------------------------------------------------------------------\n",
      "cement               0.3053      0.010     31.312      0.000       0.286       0.324\n",
      "slag                 0.1043      0.005     19.825      0.000       0.094       0.115\n",
      "flyash               0.0588      0.007      8.017      0.000       0.044       0.073\n",
      "water               -0.3500      0.030    -11.701      0.000      -0.409      -0.291\n",
      "superplasticizer     0.1498      0.027      5.636      0.000       0.098       0.202\n",
      "coarseaggregate      0.0765      0.013      5.722      0.000       0.050       0.103\n",
      "fineaggregate        0.0205      0.014      1.515      0.130      -0.006       0.047\n",
      "age                  0.2291      0.007     33.935      0.000       0.216       0.242\n",
      "==============================================================================\n",
      "Omnibus:                       24.533   Durbin-Watson:                   1.381\n",
      "Prob(Omnibus):                  0.000   Jarque-Bera (JB):               25.715\n",
      "Skew:                          -0.369   Prob(JB):                     2.61e-06\n",
      "Kurtosis:                       3.235   Cond. No.                         77.8\n",
      "==============================================================================\n",
      "\n",
      "Notes:\n",
      "[1] R² is computed without centering (uncentered) since the model does not contain a constant.\n",
      "[2] Standard Errors assume that the covariance matrix of the errors is correctly specified.\n"
     ]
    }
   ],
   "source": [
    "import statsmodels.api as sm\n",
    "X=input_cols\n",
    "y=target_cols\n",
    "MLR_model = sm.OLS(y,X).fit()\n",
    "print(MLR_model.summary())"
   ]
  },
  {
   "cell_type": "code",
   "execution_count": null,
   "id": "7a452e96",
   "metadata": {},
   "outputs": [],
   "source": []
  },
  {
   "cell_type": "code",
   "execution_count": 74,
   "id": "f62edbae",
   "metadata": {},
   "outputs": [
    {
     "data": {
      "image/png": "[encoded data removed]",
      "text/plain": [
       "<Figure size 432x288 with 2 Axes>"
      ]
     },
     "metadata": {
      "needs_background": "light"
     },
     "output_type": "display_data"
    }
   ],
   "source": [
    "sns.heatmap(input_cols.corr(),annot=True)\n",
    "plt.show()"
   ]
  },
  {
   "cell_type": "code",
   "execution_count": 7,
   "id": "7198a730",
   "metadata": {},
   "outputs": [],
   "source": [
    "input_cols=df.drop(['csMPa'],axis=1)\n",
    "target_cols=df['csMPa']"
   ]
  },
  {
   "cell_type": "code",
   "execution_count": 51,
   "id": "903dc64a",
   "metadata": {},
   "outputs": [],
   "source": [
    "from sklearn.preprocessing import MinMaxScaler\n",
    "minmax=MinMaxScaler()\n",
    "input_sc=minmax.fit_transform(input_cols)\n",
    "input_sc=pd.DataFrame(data=input_sc,columns=input_cols.columns)"
   ]
  },
  {
   "cell_type": "code",
   "execution_count": 8,
   "id": "4f52c55b",
   "metadata": {},
   "outputs": [],
   "source": [
    "from sklearn.preprocessing import StandardScaler\n",
    "standard=StandardScaler()\n",
    "input_st=standard.fit_transform(input_cols)\n",
    "input_st=pd.DataFrame(data=input_st,columns=input_cols.columns)"
   ]
  },
  {
   "cell_type": "code",
   "execution_count": 64,
   "id": "c94a375d",
   "metadata": {},
   "outputs": [
    {
     "data": {
      "text/plain": [
       "cement              0.238154\n",
       "slag                0.304994\n",
       "flyash              0.264502\n",
       "water              -0.158241\n",
       "superplasticizer   -0.125252\n",
       "coarseaggregate    -0.150530\n",
       "fineaggregate      -0.395881\n",
       "age                 1.580774\n",
       "csMPa              -0.174911\n",
       "dtype: float64"
      ]
     },
     "execution_count": 64,
     "metadata": {},
     "output_type": "execute_result"
    }
   ],
   "source": [
    "np.sqrt(df).skew()"
   ]
  },
  {
   "cell_type": "code",
   "execution_count": 52,
   "id": "ef3fb1e4",
   "metadata": {},
   "outputs": [
    {
     "data": {
      "text/plain": [
       "cement              0.564959\n",
       "slag                0.855225\n",
       "flyash              0.497231\n",
       "water               0.034433\n",
       "superplasticizer    0.980604\n",
       "coarseaggregate    -0.065256\n",
       "fineaggregate      -0.252353\n",
       "age                 3.253974\n",
       "dtype: float64"
      ]
     },
     "execution_count": 52,
     "metadata": {},
     "output_type": "execute_result"
    }
   ],
   "source": [
    "input_sc.skew()"
   ]
  },
  {
   "cell_type": "code",
   "execution_count": 54,
   "id": "899d0765",
   "metadata": {},
   "outputs": [
    {
     "data": {
      "text/plain": [
       "cement              0.564959\n",
       "slag                0.855225\n",
       "flyash              0.497231\n",
       "water               0.034433\n",
       "superplasticizer    0.980604\n",
       "coarseaggregate    -0.065256\n",
       "fineaggregate      -0.252353\n",
       "age                 3.253974\n",
       "dtype: float64"
      ]
     },
     "execution_count": 54,
     "metadata": {},
     "output_type": "execute_result"
    }
   ],
   "source": [
    "input_st.skew()"
   ]
  },
  {
   "cell_type": "code",
   "execution_count": 5,
   "id": "4e32b464",
   "metadata": {},
   "outputs": [],
   "source": [
    "#Removing Outliers\n",
    "Q1 = data.quantile(0.01)\n",
    "Q3 = data.quantile(0.99)\n",
    "IQR = Q3 - Q1\n",
    "df=data[~((data < (Q1-1.5*IQR)) | (data > (Q3 + 1.5*IQR))).any(axis = 1)]"
   ]
  },
  {
   "cell_type": "code",
   "execution_count": 39,
   "id": "b041b5d2",
   "metadata": {},
   "outputs": [
    {
     "data": {
      "text/plain": [
       "(1005, 9)"
      ]
     },
     "execution_count": 39,
     "metadata": {},
     "output_type": "execute_result"
    }
   ],
   "source": [
    "data.shape"
   ]
  },
  {
   "cell_type": "code",
   "execution_count": 4,
   "id": "593fadac",
   "metadata": {},
   "outputs": [],
   "source": [
    "data=df.drop_duplicates()"
   ]
  },
  {
   "cell_type": "code",
   "execution_count": 25,
   "id": "6175043d",
   "metadata": {},
   "outputs": [
    {
     "data": {
      "text/plain": [
       "(1030, 9)"
      ]
     },
     "execution_count": 25,
     "metadata": {},
     "output_type": "execute_result"
    }
   ],
   "source": [
    "df.shape"
   ]
  },
  {
   "cell_type": "code",
   "execution_count": 23,
   "id": "5956c4f4",
   "metadata": {},
   "outputs": [
    {
     "data": {
      "text/plain": [
       "cement              0\n",
       "slag                0\n",
       "flyash              0\n",
       "water               0\n",
       "superplasticizer    0\n",
       "coarseaggregate     0\n",
       "fineaggregate       0\n",
       "age                 0\n",
       "csMPa               0\n",
       "dtype: int64"
      ]
     },
     "execution_count": 23,
     "metadata": {},
     "output_type": "execute_result"
    }
   ],
   "source": [
    "df.duplicated().sum()\n",
    "#df.isna().sum()\n",
    "df.isnull().sum()"
   ]
  },
  {
   "cell_type": "code",
   "execution_count": 3,
   "id": "e7baefb3",
   "metadata": {},
   "outputs": [],
   "source": [
    "df.columns=df.columns.str.strip()\n",
    "df.columns = df.columns.str.replace(\" \" ,\"_\")"
   ]
  },
  {
   "cell_type": "code",
   "execution_count": 4,
   "id": "51fffbcb",
   "metadata": {},
   "outputs": [
    {
     "name": "stdout",
     "output_type": "stream",
     "text": [
      "<class 'pandas.core.frame.DataFrame'>\n",
      "RangeIndex: 1030 entries, 0 to 1029\n",
      "Data columns (total 9 columns):\n",
      " #   Column            Non-Null Count  Dtype  \n",
      "---  ------            --------------  -----  \n",
      " 0   cement            1030 non-null   float64\n",
      " 1   slag              1030 non-null   float64\n",
      " 2   flyash            1030 non-null   float64\n",
      " 3   water             1030 non-null   float64\n",
      " 4   superplasticizer  1030 non-null   float64\n",
      " 5   coarseaggregate   1030 non-null   float64\n",
      " 6   fineaggregate     1030 non-null   float64\n",
      " 7   age               1030 non-null   int64  \n",
      " 8   csMPa             1030 non-null   float64\n",
      "dtypes: float64(8), int64(1)\n",
      "memory usage: 72.5 KB\n"
     ]
    }
   ],
   "source": [
    "df.info()"
   ]
  },
  {
   "cell_type": "code",
   "execution_count": 8,
   "id": "fcb64076",
   "metadata": {},
   "outputs": [
    {
     "data": {
      "text/plain": [
       "cement              0.509481\n",
       "slag                0.800717\n",
       "flyash              0.537354\n",
       "water               0.074628\n",
       "superplasticizer    0.907203\n",
       "coarseaggregate    -0.040220\n",
       "fineaggregate      -0.253010\n",
       "age                 3.269177\n",
       "csMPa               0.416977\n",
       "dtype: float64"
      ]
     },
     "execution_count": 8,
     "metadata": {},
     "output_type": "execute_result"
    }
   ],
   "source": [
    "df.skew()"
   ]
  },
  {
   "cell_type": "code",
   "execution_count": 65,
   "id": "bc60a497",
   "metadata": {},
   "outputs": [
    {
     "name": "stderr",
     "output_type": "stream",
     "text": [
      "C:\\Ashwin\\Learning\\Datascience\\lib\\site-packages\\seaborn\\distributions.py:2557: FutureWarning: `distplot` is a deprecated function and will be removed in a future version. Please adapt your code to use either `displot` (a figure-level function with similar flexibility) or `histplot` (an axes-level function for histograms).\n",
      "  warnings.warn(msg, FutureWarning)\n"
     ]
    },
    {
     "data": {
      "text/plain": [
       "<AxesSubplot:xlabel='age', ylabel='Density'>"
      ]
     },
     "execution_count": 65,
     "metadata": {},
     "output_type": "execute_result"
    },
    {
     "data": {
      "image/png": "[encoded data removed]",
      "text/plain": [
       "<Figure size 432x288 with 1 Axes>"
      ]
     },
     "metadata": {
      "needs_background": "light"
     },
     "output_type": "display_data"
    }
   ],
   "source": [
    "sns.distplot(np.sqrt(df['age']))"
   ]
  },
  {
   "cell_type": "code",
   "execution_count": 62,
   "id": "8894fe0b",
   "metadata": {},
   "outputs": [
    {
     "name": "stderr",
     "output_type": "stream",
     "text": [
      "C:\\Ashwin\\Learning\\Datascience\\lib\\site-packages\\seaborn\\distributions.py:2557: FutureWarning: `distplot` is a deprecated function and will be removed in a future version. Please adapt your code to use either `displot` (a figure-level function with similar flexibility) or `histplot` (an axes-level function for histograms).\n",
      "  warnings.warn(msg, FutureWarning)\n"
     ]
    },
    {
     "data": {
      "text/plain": [
       "<AxesSubplot:xlabel='age', ylabel='Density'>"
      ]
     },
     "execution_count": 62,
     "metadata": {},
     "output_type": "execute_result"
    },
    {
     "data": {
      "image/png": "[encoded data removed]",
      "text/plain": [
       "<Figure size 432x288 with 1 Axes>"
      ]
     },
     "metadata": {
      "needs_background": "light"
     },
     "output_type": "display_data"
    }
   ],
   "source": [
    "sns.distplot(np.log(df['age']))"
   ]
  },
  {
   "cell_type": "code",
   "execution_count": 18,
   "id": "04bcff7b",
   "metadata": {},
   "outputs": [
    {
     "name": "stderr",
     "output_type": "stream",
     "text": [
      "C:\\Ashwin\\Learning\\Datascience\\lib\\site-packages\\seaborn\\distributions.py:2557: FutureWarning: `distplot` is a deprecated function and will be removed in a future version. Please adapt your code to use either `displot` (a figure-level function with similar flexibility) or `histplot` (an axes-level function for histograms).\n",
      "  warnings.warn(msg, FutureWarning)\n"
     ]
    },
    {
     "data": {
      "text/plain": [
       "<AxesSubplot:xlabel='age', ylabel='Density'>"
      ]
     },
     "execution_count": 18,
     "metadata": {},
     "output_type": "execute_result"
    },
    {
     "data": {
      "image/png": "[encoded data removed]",
      "text/plain": [
       "<Figure size 432x288 with 1 Axes>"
      ]
     },
     "metadata": {
      "needs_background": "light"
     },
     "output_type": "display_data"
    }
   ],
   "source": [
    "sns.distplot(df['age'])"
   ]
  },
  {
   "cell_type": "code",
   "execution_count": 10,
   "id": "f9f200b8",
   "metadata": {},
   "outputs": [
    {
     "data": {
      "text/plain": [
       "cement              -0.520652\n",
       "slag                -0.508175\n",
       "flyash              -1.328746\n",
       "water                0.122082\n",
       "superplasticizer     1.411269\n",
       "coarseaggregate     -0.599016\n",
       "fineaggregate       -0.102177\n",
       "age                 12.168989\n",
       "csMPa               -0.313725\n",
       "dtype: float64"
      ]
     },
     "execution_count": 10,
     "metadata": {},
     "output_type": "execute_result"
    }
   ],
   "source": [
    "df.kurt()"
   ]
  }
 ],
 "metadata": {
  "kernelspec": {
   "display_name": "Python 3",
   "language": "python",
   "name": "python3"
  },
  "language_info": {
   "codemirror_mode": {
    "name": "ipython",
    "version": 3
   },
   "file_extension": ".py",
   "mimetype": "text/x-python",
   "name": "python",
   "nbconvert_exporter": "python",
   "pygments_lexer": "ipython3",
   "version": "3.8.8"
  }
 },
 "nbformat": 4,
 "nbformat_minor": 5
}
