{
 "cells": [
  {
   "cell_type": "markdown",
   "id": "8f41c315",
   "metadata": {},
   "source": [
    "Convert a given string to int using a single line of code."
   ]
  },
  {
   "cell_type": "code",
   "execution_count": 8,
   "id": "8352d806",
   "metadata": {},
   "outputs": [
    {
     "data": {
      "text/plain": [
       "['ashwin']"
      ]
     },
     "execution_count": 8,
     "metadata": {},
     "output_type": "execute_result"
    }
   ],
   "source": [
    "a='12345'\n",
    "int(a)\n",
    "#Write a code snippet to convert a string to a list.\n",
    "b='ashwin'\n",
    "#Two ways for converting a list\n",
    "b.split(\" \")\n",
    "list(b)"
   ]
  },
  {
   "cell_type": "code",
   "execution_count": 19,
   "id": "dd023417",
   "metadata": {},
   "outputs": [
    {
     "name": "stdout",
     "output_type": "stream",
     "text": [
      "niwhsa\n",
      "niwhsa\n"
     ]
    }
   ],
   "source": [
    "#Write a code snippet to reverse a string.\n",
    "b='ashwin'\n",
    "print(\"\".join(reversed(b)))\n",
    "b.split(\" \")\n",
    "print(b[::-1])"
   ]
  },
  {
   "cell_type": "code",
   "execution_count": 38,
   "id": "8f016ce8",
   "metadata": {},
   "outputs": [
    {
     "name": "stdout",
     "output_type": "stream",
     "text": [
      "['a', 'h', 'i', 'n', 's', 'w']\n",
      "None\n"
     ]
    }
   ],
   "source": [
    "#Write a code snippet to sort a list in Python.\n",
    "b='ashwin'\n",
    "lis1=list(b)\n",
    "print(sorted(b))\n",
    "print(list(b).sort())\n",
    "lis1.remove('a')\n",
    "\n",
    "#List has no object as delete"
   ]
  },
  {
   "cell_type": "code",
   "execution_count": 47,
   "id": "484300f0",
   "metadata": {},
   "outputs": [
    {
     "data": {
      "text/plain": [
       "array([3, 2, 1])"
      ]
     },
     "execution_count": 47,
     "metadata": {},
     "output_type": "execute_result"
    }
   ],
   "source": [
    "#Write a code snippet to reverse an array.\n",
    "import numpy as np\n",
    "arr1 = np.array([1, 2, 3, 4])\n",
    "arr2=np.array(list(reversed(arr1)))\n",
    "arr2=np.delete(arr2,0)\n",
    "arr2"
   ]
  },
  {
   "cell_type": "code",
   "execution_count": 51,
   "id": "78244468",
   "metadata": {},
   "outputs": [
    {
     "name": "stdout",
     "output_type": "stream",
     "text": [
      "['w', 'a', 'b', 'c', 'e', 'log']\n",
      "None\n"
     ]
    }
   ],
   "source": [
    "#concatenate list\n",
    "List1= ['w','a','b','c']\n",
    "List2 = ['e','log']\n",
    "\n",
    "print(List1+List2)\n",
    "print(List1.extend(List2))"
   ]
  },
  {
   "cell_type": "code",
   "execution_count": 52,
   "id": "6cabe672",
   "metadata": {},
   "outputs": [
    {
     "name": "stdout",
     "output_type": "stream",
     "text": [
      "[1, 4, 9, 16]\n"
     ]
    }
   ],
   "source": [
    "#Write a code snippet to generate the square of every element of a list.\n",
    "a=[1,2,3,4]\n",
    "print([ i*i for i in a])"
   ]
  },
  {
   "cell_type": "code",
   "execution_count": 59,
   "id": "6148192f",
   "metadata": {},
   "outputs": [],
   "source": [
    "#arange- returns numpy array similar to range\n",
    "import numpy as np\n",
    "for i in np.arange(0,10):\n",
    "    i"
   ]
  },
  {
   "cell_type": "code",
   "execution_count": 1,
   "id": "92734db5",
   "metadata": {},
   "outputs": [
    {
     "name": "stdout",
     "output_type": "stream",
     "text": [
      "HiRthere\n"
     ]
    }
   ],
   "source": [
    "import re\n",
    "a='Hi @3#R$ there'\n",
    "b=re.sub('[^a-zA-Z]','',a)\n",
    "print(b)"
   ]
  },
  {
   "cell_type": "code",
   "execution_count": 5,
   "id": "bb3d6396",
   "metadata": {},
   "outputs": [
    {
     "name": "stdout",
     "output_type": "stream",
     "text": [
      "20\n"
     ]
    }
   ],
   "source": [
    "nums = [10, 5, 8, 20, 3]\n",
    "for i in nums:\n",
    "    for j in range(0,len(nums)-1):\n",
    "        if i > nums[j]:\n",
    "            grt=i\n",
    "            \n",
    "print(grt)\n",
    "        "
   ]
  },
  {
   "cell_type": "code",
   "execution_count": 16,
   "id": "c3662c5a",
   "metadata": {},
   "outputs": [
    {
     "data": {
      "text/plain": [
       "['Hi', '@3#R$', 'there']"
      ]
     },
     "execution_count": 16,
     "metadata": {},
     "output_type": "execute_result"
    }
   ],
   "source": [
    "#Write a Python program to reverse a string.\n",
    "a='Hi @3#R$ there'\n",
    "''.join(reversed(a))\n",
    "a.split(' ')"
   ]
  },
  {
   "cell_type": "code",
   "execution_count": 25,
   "id": "5644b4aa",
   "metadata": {},
   "outputs": [
    {
     "data": {
      "text/plain": [
       "{10: 2, 5: 3, 8: 3, 20: 1, 3: 1}"
      ]
     },
     "execution_count": 25,
     "metadata": {},
     "output_type": "execute_result"
    }
   ],
   "source": [
    "#Write a Python program to count the frequency of each element in list\n",
    "nums = [10, 5, 8, 20, 3 , 5,8,5,8,10]\n",
    "fre={}\n",
    "for i in nums:\n",
    "    if i in fre:\n",
    "        fre[i]+=1\n",
    "    else:\n",
    "        fre[i]=1\n",
    "fre"
   ]
  },
  {
   "cell_type": "code",
   "execution_count": 30,
   "id": "d2691d57",
   "metadata": {},
   "outputs": [
    {
     "data": {
      "text/plain": [
       "[10, 5, 8, 20, 3, 5, 8, 5, 8, 10]"
      ]
     },
     "execution_count": 30,
     "metadata": {},
     "output_type": "execute_result"
    }
   ],
   "source": [
    "#Write a Python program to find the common elements between two lists.\n",
    "lis1 = [10, 5, 8, 20, 3 , 5,8,5,8,10,11]\n",
    "lis2 = [20, 3 , 5,8,5,8,10]\n",
    "import numpy as np\n",
    "d=np.intersect1d(lis1, lis2)\n",
    "\n",
    "[ i for i in lis1 if i in lis2]"
   ]
  },
  {
   "cell_type": "code",
   "execution_count": 32,
   "id": "7a714972",
   "metadata": {},
   "outputs": [
    {
     "data": {
      "text/plain": [
       "array([ 3,  5,  5,  8,  8, 10, 20])"
      ]
     },
     "execution_count": 32,
     "metadata": {},
     "output_type": "execute_result"
    }
   ],
   "source": [
    "#Write a Python program to sort a list of elements \n",
    "lis2 = [20, 3 , 5,8,5,8,10]\n",
    "import numpy as np\n",
    "np.sort(lis2)"
   ]
  },
  {
   "cell_type": "code",
   "execution_count": 37,
   "id": "99155b4a",
   "metadata": {},
   "outputs": [
    {
     "data": {
      "text/plain": [
       "10"
      ]
     },
     "execution_count": 37,
     "metadata": {},
     "output_type": "execute_result"
    }
   ],
   "source": [
    "#Write a Python program to find the second largest number in a list.\n",
    "lis1 = [10, 5, 8, 20, 3 , 5,8,5,8,10,11]\n",
    "import numpy as np\n",
    "b=a[::-1]\n",
    "b[1]"
   ]
  },
  {
   "cell_type": "code",
   "execution_count": 39,
   "id": "24e6c7b7",
   "metadata": {},
   "outputs": [
    {
     "data": {
      "text/plain": [
       "[3, 5, 8, 10, 11, 20]"
      ]
     },
     "execution_count": 39,
     "metadata": {},
     "output_type": "execute_result"
    }
   ],
   "source": [
    "#Write a Python program to remove duplicates from a list.\n",
    "lis1 = [10, 5, 8, 20, 3 , 5,8,5,8,10,11]\n",
    "lis1=set(lis1)\n",
    "list(lis1)"
   ]
  },
  {
   "cell_type": "code",
   "execution_count": 46,
   "id": "c17372b5",
   "metadata": {},
   "outputs": [
    {
     "name": "stdout",
     "output_type": "stream",
     "text": [
      "93\n"
     ]
    }
   ],
   "source": [
    "#Write a program to find the sum of all numbers in a list. \n",
    "lis1 = [10, 5, 8, 20, 3 , 5,8,5,8,10,11]\n",
    "sum=0\n",
    "for i in lis1:\n",
    "    sum=sum+i\n",
    "print(sum)"
   ]
  },
  {
   "cell_type": "code",
   "execution_count": 52,
   "id": "ec58b106",
   "metadata": {},
   "outputs": [
    {
     "name": "stdout",
     "output_type": "stream",
     "text": [
      "palindrome\n"
     ]
    }
   ],
   "source": [
    "#Write a program to check if a string is a palindrome. \n",
    "str1=\"MadaM\"\n",
    "if str1==''.join(reversed(str1)):\n",
    "    print(\"palindrome\")"
   ]
  },
  {
   "cell_type": "code",
   "execution_count": 66,
   "id": "6fba3eb2",
   "metadata": {},
   "outputs": [
    {
     "name": "stdout",
     "output_type": "stream",
     "text": [
      "5040\n"
     ]
    }
   ],
   "source": [
    "#Write a program to find the factorial of a number. \n",
    "num=8\n",
    "fact=1\n",
    "if num==0:\n",
    "    print(\"0\")\n",
    "else:\n",
    "    for i in range(2,num):\n",
    "        fact*=i\n",
    "print(fact)"
   ]
  },
  {
   "cell_type": "code",
   "execution_count": 80,
   "id": "a3be0a86",
   "metadata": {},
   "outputs": [
    {
     "data": {
      "text/plain": [
       "[10, 8, 5, 8, 5, 3, 20, 8]"
      ]
     },
     "execution_count": 80,
     "metadata": {},
     "output_type": "execute_result"
    }
   ],
   "source": [
    "#Write a  Python function to reverse a list at a specific location.\n",
    "lis1 = [10, 5, 8, 20, 3 , 5,8,5,8,10,11]\n",
    "b=lis1[2:-1]\n",
    "b[::-1]"
   ]
  },
  {
   "cell_type": "code",
   "execution_count": 84,
   "id": "b56ca4b6",
   "metadata": {},
   "outputs": [
    {
     "name": "stdout",
     "output_type": "stream",
     "text": [
      "[1 2 3 4 5 6 7 8]\n",
      "[1]\n"
     ]
    }
   ],
   "source": [
    "a=[1,2,3,4]\n",
    "b=[5,6,7,8,1]\n",
    "import numpy as np\n",
    "print(np.union1d(a,b))\n",
    "print(np.intersect1d(a,b))"
   ]
  },
  {
   "cell_type": "code",
   "execution_count": 95,
   "id": "094b7c01",
   "metadata": {},
   "outputs": [],
   "source": [
    "lis1 = [10, 5, 8, 20, 3 , 5,8,5,8,10,11]\n",
    "lis1.remove(10)\n",
    "\n",
    "#list - insert,append  remove,pop"
   ]
  },
  {
   "cell_type": "code",
   "execution_count": 110,
   "id": "d9e191a0",
   "metadata": {},
   "outputs": [
    {
     "data": {
      "text/plain": [
       "1"
      ]
     },
     "execution_count": 110,
     "metadata": {},
     "output_type": "execute_result"
    }
   ],
   "source": [
    "lis1 = {10, 5, 8, 20, 3, 5,8,5,8,10,11}\n",
    "lis1.add(11)\n",
    "lis1.update([1,2,3])\n",
    "lis1.remove(10)\n",
    "lis1.pop()\n",
    "#set - add,update  remove,pop"
   ]
  },
  {
   "cell_type": "code",
   "execution_count": 143,
   "id": "db06a400",
   "metadata": {},
   "outputs": [
    {
     "data": {
      "text/plain": [
       "{6: 'a', 7: 'b', 8: 'Ashwin', 9: 'd', 10: 'e'}"
      ]
     },
     "execution_count": 143,
     "metadata": {},
     "output_type": "execute_result"
    }
   ],
   "source": [
    "a={1:'a',2:'b',3:'c'}\n",
    "a.update({4:'d',5:'e'})\n",
    "b=[6,7,8,9,10]\n",
    "c=dict(zip(b,a.values()))\n",
    "c[8]='Ashwin'\n",
    "c"
   ]
  },
  {
   "cell_type": "code",
   "execution_count": 144,
   "id": "9ecb9cae",
   "metadata": {},
   "outputs": [
    {
     "data": {
      "text/plain": [
       "{6: 'a', 7: 'b', 8: 'Ashwin', 9: 'd', 10: 'e', 12: 'Giraffe'}"
      ]
     },
     "execution_count": 144,
     "metadata": {},
     "output_type": "execute_result"
    }
   ],
   "source": [
    "c.update({11:'f',12:'g'})\n",
    "c[12]='Giraffe'\n",
    "c.pop(11)\n",
    "c"
   ]
  },
  {
   "cell_type": "code",
   "execution_count": null,
   "id": "51af10c8",
   "metadata": {},
   "outputs": [],
   "source": []
  }
 ],
 "metadata": {
  "kernelspec": {
   "display_name": "Python 3",
   "language": "python",
   "name": "python3"
  },
  "language_info": {
   "codemirror_mode": {
    "name": "ipython",
    "version": 3
   },
   "file_extension": ".py",
   "mimetype": "text/x-python",
   "name": "python",
   "nbconvert_exporter": "python",
   "pygments_lexer": "ipython3",
   "version": "3.8.8"
  }
 },
 "nbformat": 4,
 "nbformat_minor": 5
}
