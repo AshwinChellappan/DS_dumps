{
 "cells": [
  {
   "cell_type": "code",
   "execution_count": 1,
   "id": "ea14f29d",
   "metadata": {},
   "outputs": [
    {
     "data": {
      "text/plain": [
       "'odd'"
      ]
     },
     "execution_count": 1,
     "metadata": {},
     "output_type": "execute_result"
    }
   ],
   "source": [
    "a=lambda x: 'even' if(x%2==0) else 'odd'\n",
    "a(7)"
   ]
  },
  {
   "cell_type": "code",
   "execution_count": 10,
   "id": "041b0065",
   "metadata": {},
   "outputs": [
    {
     "data": {
      "text/plain": [
       "178"
      ]
     },
     "execution_count": 10,
     "metadata": {},
     "output_type": "execute_result"
    }
   ],
   "source": [
    "from functools import reduce\n",
    "lis1=[12,34,56,76]\n",
    "reduce(lambda a,b:a+b, lis1)"
   ]
  },
  {
   "cell_type": "code",
   "execution_count": null,
   "id": "dfc11c0e",
   "metadata": {},
   "outputs": [],
   "source": []
  },
  {
   "cell_type": "code",
   "execution_count": 14,
   "id": "97036985",
   "metadata": {},
   "outputs": [
    {
     "data": {
      "text/plain": [
       "72"
      ]
     },
     "execution_count": 14,
     "metadata": {},
     "output_type": "execute_result"
    }
   ],
   "source": [
    "lis1 = [12, 24, 36]\n",
    "reduce(lambda a,b: a+b, lis1) "
   ]
  },
  {
   "cell_type": "code",
   "execution_count": 26,
   "id": "e5ec55a7",
   "metadata": {},
   "outputs": [
    {
     "data": {
      "text/plain": [
       "[3, 2]"
      ]
     },
     "execution_count": 26,
     "metadata": {},
     "output_type": "execute_result"
    }
   ],
   "source": [
    "list1 = [1, 2, 3, 4,5]\n",
    "list1[2:0:-1]"
   ]
  },
  {
   "cell_type": "code",
   "execution_count": 3,
   "id": "181a3990",
   "metadata": {},
   "outputs": [
    {
     "data": {
      "text/plain": [
       "<map at 0x29c82e1e6a0>"
      ]
     },
     "execution_count": 3,
     "metadata": {},
     "output_type": "execute_result"
    }
   ],
   "source": [
    "from operator import add\n",
    "lis1 = [12, 24, 36] \n",
    "lis2 = [41, 54, 69] \n",
    "list(map(add,lis1,lis2))"
   ]
  },
  {
   "cell_type": "code",
   "execution_count": 5,
   "id": "0ca4541e",
   "metadata": {},
   "outputs": [
    {
     "data": {
      "text/plain": [
       "[144, 576, 1296]"
      ]
     },
     "execution_count": 5,
     "metadata": {},
     "output_type": "execute_result"
    }
   ],
   "source": [
    "list(map(lambda a: a**2,lis1))"
   ]
  },
  {
   "cell_type": "code",
   "execution_count": 8,
   "id": "5e4670c2",
   "metadata": {},
   "outputs": [
    {
     "data": {
      "text/plain": [
       "[12, 24, 36, 654, 65432, 2, 654]"
      ]
     },
     "execution_count": 8,
     "metadata": {},
     "output_type": "execute_result"
    }
   ],
   "source": [
    "lis1 = [3,12, 24, 36,43,654,65432,2,654,455,43,543]\n",
    "list(filter(lambda a: a%2==0,lis1))"
   ]
  },
  {
   "cell_type": "code",
   "execution_count": 11,
   "id": "6c5bc4ab",
   "metadata": {},
   "outputs": [
    {
     "data": {
      "text/plain": [
       "15"
      ]
     },
     "execution_count": 11,
     "metadata": {},
     "output_type": "execute_result"
    }
   ],
   "source": [
    "from functools import reduce\n",
    "list1 = [1, 2, 3, 4,5]\n",
    "reduce(lambda x,y : x+y,list1)"
   ]
  },
  {
   "cell_type": "code",
   "execution_count": 17,
   "id": "329a28a3",
   "metadata": {},
   "outputs": [
    {
     "data": {
      "text/plain": [
       "[2, 4, 6, 8, 10, 12, 14, 16, 18]"
      ]
     },
     "execution_count": 17,
     "metadata": {},
     "output_type": "execute_result"
    }
   ],
   "source": [
    "[ i  for i in range(1,20) if((i%2==0))  ]"
   ]
  },
  {
   "cell_type": "code",
   "execution_count": 21,
   "id": "793e6675",
   "metadata": {},
   "outputs": [
    {
     "name": "stdout",
     "output_type": "stream",
     "text": [
      "['Learn', 'Ash', 24, 'Blue', False, -8, 'w', 'i', 'n', 'Ash']\n"
     ]
    }
   ],
   "source": [
    "#Operations in list\n",
    "mix_list_1 = ['Learn', 24, 'Blue', False, -8]\n",
    "\n",
    "#Adding a elements in list\n",
    "mix_list_1.extend('win') \n",
    "mix_list_1.append('Ash') #add elements at the last position\n",
    "mix_list_1.insert(1,'Ash') # insert specifically by providing the index position\n",
    "##mix_list_1.add(1,'Ash') - list does not work with add command\n",
    "print(mix_list_1)\n",
    "\n",
    "#Removing elements in list\n",
    "mix_list_2 = ['Learn', 24, 'Blue', False, -8]\n",
    "mix_list_2.remove('Blue') #Remove the element specifically\n",
    "mix_list_2.pop(1) #Removes elements at a specific index\n",
    "mix_list_2.clear() #Clears elements in the list\n",
    "del mix_list_2[2] # deleted value at specific index\n",
    "print(mix_list_2)"
   ]
  },
  {
   "cell_type": "code",
   "execution_count": 84,
   "id": "7611bdb2",
   "metadata": {},
   "outputs": [
    {
     "name": "stdout",
     "output_type": "stream",
     "text": [
      "('Learn', 24, 'Blue', False, -8, 4)\n"
     ]
    }
   ],
   "source": [
    "#Operations in tuple\n",
    "#Values in the tuple cannot be changed.Changed by changing dtype to list and the action can be performed\n",
    "mix_list_1 = ('Learn', 24, 'Blue', False, -8)\n",
    "mix_list_1=mix_list_1+(4,)\n",
    "#Adding a elements in list\n",
    "#mix_list_1.add('ash') # Does not have add function\n",
    "#mix_list_1.append('Ash')\n",
    "#mix_list_1.extend('win') \n",
    "\n",
    "#Removing elements in list\n",
    "#mix_list_2.remove('Blue')\n",
    "#mix_list_2.pop(1) \n",
    "#mix_list_2.clear()\n",
    "\n",
    "print(mix_list_1)"
   ]
  },
  {
   "cell_type": "code",
   "execution_count": 54,
   "id": "01a2e548",
   "metadata": {},
   "outputs": [
    {
     "name": "stdout",
     "output_type": "stream",
     "text": [
      "{False, 3, 'Learn', 'Blue', -8, 'win', 24, 'Win', '123'}\n",
      "set()\n"
     ]
    }
   ],
   "source": [
    "#Operations in set\n",
    "mix_list_1 = {'Learn', 24, 'Blue', False, -8}\n",
    "#mix_list_1.append('Ash')  #not having\n",
    "#mix_list_1.extend('win') #not having\n",
    "mix_list_1.add('Win')\n",
    "mix_list_2={'123','win',3}\n",
    "mix_list_1.update(mix_list_2)\n",
    "print(mix_list_1)\n",
    "\n",
    "mix_list_2 = {'Learn', 24, 'Blue', False, -8}\n",
    "mix_list_2.remove('Blue') #Remove the element specifically\n",
    "mix_list_2.pop() #Removes elements at a last\n",
    "mix_list_2.clear() #Clears elements in the list\n",
    "#del mix_list_2 #not working deletes the elements in the list \n",
    "print(mix_list_2)"
   ]
  },
  {
   "cell_type": "code",
   "execution_count": 80,
   "id": "d893bb3f",
   "metadata": {},
   "outputs": [
    {
     "name": "stdout",
     "output_type": "stream",
     "text": [
      "dict_keys([1, 2, 3, 4, 'test'])\n",
      "dict_values([1, 4, 9, 3, 3])\n",
      "dict_items([(1, 1), (2, 4), (3, 9), (4, 3), ('test', 3)])\n",
      "4\n",
      "{1: 1, 2: 4, 3: 9, 4: 3, 'test': 3}\n",
      "{'a': 1, 'b': 2, 'c': 3, 'd': 4}\n",
      "{1: 1, 2: 'newVal', 3: 9, 4: 3, 'test': 3, '3': 97}\n",
      "{}\n"
     ]
    }
   ],
   "source": [
    "#Operations in dictionary\n",
    "square_dictionary = {1:1, 2:4, 3:9}\n",
    "square_dictionary[4]=3\n",
    "square_dictionary['test']=3\n",
    "\n",
    "#Retrieve key values\n",
    "print(square_dictionary.keys())\n",
    "print(square_dictionary.values())\n",
    "print(square_dictionary.items())\n",
    "print(square_dictionary[2])\n",
    "print(square_dictionary)\n",
    "\n",
    "#Zipping key and value pairs\n",
    "key = ['a','b','c','d']\n",
    "value = [1, 2, 3, 4]\n",
    "print(dict(zip(key,value)))\n",
    "\n",
    "#Changing values\n",
    "square_dictionary[2]='newVal'\n",
    "square_dictionary.update({\"3\":97})\n",
    "print(square_dictionary)\n",
    "\n",
    "#Removing values\n",
    "square_dictionary.pop(3)\n",
    "square_dictionary.clear()\n",
    "#del square_dictionary does not work\n",
    "print(square_dictionary)"
   ]
  },
  {
   "cell_type": "code",
   "execution_count": 1,
   "id": "dbb4fe2a",
   "metadata": {},
   "outputs": [
    {
     "data": {
      "text/plain": [
       "0"
      ]
     },
     "execution_count": 1,
     "metadata": {},
     "output_type": "execute_result"
    }
   ],
   "source": [
    "import numpy as np\n",
    "a=np.array([-1,1])\n",
    "b=np.array([1,1])\n",
    "np.dot(a,b) "
   ]
  },
  {
   "cell_type": "code",
   "execution_count": 2,
   "id": "dc5e672c",
   "metadata": {},
   "outputs": [
    {
     "data": {
      "text/plain": [
       "array([0, 1])"
      ]
     },
     "execution_count": 2,
     "metadata": {},
     "output_type": "execute_result"
    }
   ],
   "source": [
    "X=np.array([[1,0,1],[2,2,2]]) \n",
    "out=X[0,1:3]\n",
    "out"
   ]
  },
  {
   "cell_type": "code",
   "execution_count": 4,
   "id": "72ffe8bd",
   "metadata": {},
   "outputs": [
    {
     "data": {
      "text/plain": [
       "array([[2, 2],\n",
       "       [2, 2]])"
      ]
     },
     "execution_count": 4,
     "metadata": {},
     "output_type": "execute_result"
    }
   ],
   "source": [
    "X=np.array([[1,0],[0,1]])\n",
    "Y=np.array([[2,2],[2,2]])\n",
    "Z=np.dot(X,Y)\n",
    "Z"
   ]
  },
  {
   "cell_type": "code",
   "execution_count": 6,
   "id": "b9f17a23",
   "metadata": {},
   "outputs": [
    {
     "name": "stdout",
     "output_type": "stream",
     "text": [
      "[0, 2, 4, 6]\n"
     ]
    }
   ],
   "source": [
    "var = [0,1,2,3,4,5,6,7]\n",
    "print(var[::2])"
   ]
  },
  {
   "cell_type": "code",
   "execution_count": 7,
   "id": "fe886a1f",
   "metadata": {},
   "outputs": [
    {
     "data": {
      "text/plain": [
       "1"
      ]
     },
     "execution_count": 7,
     "metadata": {},
     "output_type": "execute_result"
    }
   ],
   "source": [
    "Name=\"ABCDE\"\n",
    "Name.find(\"B\")"
   ]
  },
  {
   "cell_type": "code",
   "execution_count": 14,
   "id": "42d63e68",
   "metadata": {},
   "outputs": [
    {
     "name": "stderr",
     "output_type": "stream",
     "text": [
      "<ipython-input-14-e7aa1f47ed85>:3: RuntimeWarning: divide by zero encountered in true_divide\n",
      "  a/b\n"
     ]
    },
    {
     "data": {
      "text/plain": [
       "array([ 0., inf,  0., inf,  0.])"
      ]
     },
     "execution_count": 14,
     "metadata": {},
     "output_type": "execute_result"
    }
   ],
   "source": [
    "a=np.array([0,1,0,1,0]) \n",
    "b=np.array([1,0,1,0,1]) \n",
    "a/b "
   ]
  }
 ],
 "metadata": {
  "kernelspec": {
   "display_name": "Python 3",
   "language": "python",
   "name": "python3"
  },
  "language_info": {
   "codemirror_mode": {
    "name": "ipython",
    "version": 3
   },
   "file_extension": ".py",
   "mimetype": "text/x-python",
   "name": "python",
   "nbconvert_exporter": "python",
   "pygments_lexer": "ipython3",
   "version": "3.8.8"
  }
 },
 "nbformat": 4,
 "nbformat_minor": 5
}
