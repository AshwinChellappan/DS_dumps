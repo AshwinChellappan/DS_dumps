{
 "cells": [
  {
   "cell_type": "code",
   "execution_count": 1,
   "id": "24f689ae",
   "metadata": {},
   "outputs": [],
   "source": [
    "import numpy as np"
   ]
  },
  {
   "cell_type": "code",
   "execution_count": 2,
   "id": "a5616965",
   "metadata": {},
   "outputs": [
    {
     "name": "stdout",
     "output_type": "stream",
     "text": [
      "[10 50]\n"
     ]
    }
   ],
   "source": [
    "#Find common elements in a list\n",
    "prices_monday = [10, 30, 50, 60, 90]\n",
    "prices_tuesday = [50, 20, 80, 125, 10, 70]\n",
    "\n",
    "a=np.array(prices_monday)\n",
    "b=np.array(prices_tuesday)\n",
    "print(np.intersect1d(a,b))"
   ]
  },
  {
   "cell_type": "code",
   "execution_count": 5,
   "id": "97c28111",
   "metadata": {},
   "outputs": [
    {
     "name": "stdout",
     "output_type": "stream",
     "text": [
      "[22.54657648 22.53061224 19.59645812 21.46915048 26.39797739 20.9572742\n",
      " 23.922423  ]\n"
     ]
    }
   ],
   "source": [
    "#Find BMI of patience\n",
    "weights = [57, 69, 54, 65 ,71, 62, 56]\n",
    "heights = [1.59, 1.75, 1.66, 1.74, 1.64, 1.72, 1.53]\n",
    "a=np.array(weights)\n",
    "b=np.array(heights)\n",
    "print(a/b**2)"
   ]
  },
  {
   "cell_type": "code",
   "execution_count": 13,
   "id": "9f418bfc",
   "metadata": {},
   "outputs": [
    {
     "data": {
      "text/plain": [
       "array([[[3, 4],\n",
       "        [8, 2],\n",
       "        [5, 9],\n",
       "        [5, 9]]])"
      ]
     },
     "execution_count": 13,
     "metadata": {},
     "output_type": "execute_result"
    }
   ],
   "source": [
    "#Adding a element in an array\n",
    "array1 = [[[3, 4], [8, 2],[5, 9]]]\n",
    "array1=np.array(array1)\n",
    "np.insert(array1,obj=3,values=[5, 9], axis= 1)"
   ]
  },
  {
   "cell_type": "code",
   "execution_count": 14,
   "id": "d47e57f3",
   "metadata": {},
   "outputs": [],
   "source": [
    "#Creating eye matrix\n",
    "identity_5 = np.eye(5)"
   ]
  },
  {
   "cell_type": "code",
   "execution_count": 15,
   "id": "4bf09a95",
   "metadata": {},
   "outputs": [
    {
     "data": {
      "text/plain": [
       "array([[15,  7, 54,  0],\n",
       "       [17, 42,  3, 87],\n",
       "       [45, 15, 61, 16],\n",
       "       [56, 63, 41, 20]])"
      ]
     },
     "execution_count": 15,
     "metadata": {},
     "output_type": "execute_result"
    }
   ],
   "source": [
    "#Tranposing a matrix\n",
    "M = [[15, 17, 45, 56], [7, 42, 15, 63], [54, 3, 61, 41], [0, 87, 16, 20]]\n",
    "np.transpose(M)"
   ]
  },
  {
   "cell_type": "code",
   "execution_count": 19,
   "id": "a1c8964c",
   "metadata": {},
   "outputs": [
    {
     "name": "stdout",
     "output_type": "stream",
     "text": [
      "[[ 5  9]\n",
      " [ 7  6]\n",
      " [ 8 -7]\n",
      " [ 0  4]]\n"
     ]
    }
   ],
   "source": [
    "#Write a program to combine the two arrays vertically\n",
    "A1 = [[5, 9], [7, 6]]\n",
    "A1 = np.array(A1)\n",
    "A2 = [[8,-7], [0,4]]\n",
    "A2=np.array(A2)\n",
    "print(np.vstack((A1,A2)))"
   ]
  },
  {
   "cell_type": "code",
   "execution_count": 22,
   "id": "f95c0aa3",
   "metadata": {},
   "outputs": [
    {
     "name": "stdout",
     "output_type": "stream",
     "text": [
      "[[-81  75  40  15  54]\n",
      " [ 27  67  52  39  56]]\n"
     ]
    }
   ],
   "source": [
    "#Write a code to combine the two arrays horizontally\n",
    "A1 = [[-81, 75, 40], [27, 67, 52]]\n",
    "A1 = np.array(A1)\n",
    "A2 = [[15, 54], [39, 56]]\n",
    "A2 = np.array(A2)\n",
    "print(np.hstack((A1,A2)))"
   ]
  },
  {
   "cell_type": "code",
   "execution_count": 25,
   "id": "c6dcb093",
   "metadata": {},
   "outputs": [
    {
     "data": {
      "text/plain": [
       "[array([[ 4,  7],\n",
       "        [ 2, -3]]),\n",
       " array([[8, 1],\n",
       "        [0, 9]]),\n",
       " array([[ 5, -1],\n",
       "        [ 8,  3]])]"
      ]
     },
     "execution_count": 25,
     "metadata": {},
     "output_type": "execute_result"
    }
   ],
   "source": [
    "#Write a code to divide the array into three sub-arrays containing equal number of rows\n",
    "A = [[4, 7], [2, -3], [8, 1], [0, 9], [5,-1], [8, 3]]\n",
    "A = np.array(A)\n",
    "np.split(A,3)"
   ]
  },
  {
   "cell_type": "code",
   "execution_count": 26,
   "id": "71bf2fb2",
   "metadata": {},
   "outputs": [
    {
     "data": {
      "text/plain": [
       "[array([[ 8,  7],\n",
       "        [ 2, -3],\n",
       "        [ 8,  5]]),\n",
       " array([[ 0,  9],\n",
       "        [ 5, 10],\n",
       "        [-1,  3]])]"
      ]
     },
     "execution_count": 26,
     "metadata": {},
     "output_type": "execute_result"
    }
   ],
   "source": [
    "#Write a program to divide the array into two sub-arrays containing equal number of columns\n",
    "B = [[8, 7, 0, 9], [2, -3, 5, 10], [8, 5, -1,3]]\n",
    "B = np.array(B)\n",
    "np.hsplit(B,2)"
   ]
  },
  {
   "cell_type": "code",
   "execution_count": 28,
   "id": "7f6821b1",
   "metadata": {},
   "outputs": [
    {
     "name": "stdout",
     "output_type": "stream",
     "text": [
      "[(45, 21), (67, 52), (56, 64), (71, 10), (54, 49), (62, 74), (56, 26)]\n"
     ]
    }
   ],
   "source": [
    "#Write a program to perform one-to-one mapping of the two lists\n",
    "L1 = [45, 67, 56, 71, 54, 62, 56]\n",
    "L2 = [21, 52, 64, 10, 49, 74, 26]\n",
    "#for x,y in zip(L1,L2):\n",
    "print(list(zip(L1,L2)))"
   ]
  },
  {
   "cell_type": "code",
   "execution_count": 31,
   "id": "0ee60a04",
   "metadata": {},
   "outputs": [
    {
     "name": "stdout",
     "output_type": "stream",
     "text": [
      "1.0\n",
      "0.9\n",
      "0.625\n",
      "1.45\n"
     ]
    }
   ],
   "source": [
    "#Define a for loop to apply the function (2x-1)/(x+5) on every element of an array\n",
    "numbers = [6, 5, 3, 15]\n",
    "numbers=np.array(numbers)\n",
    "for x in numbers:\n",
    "     print((2*x-1)/(x+5))"
   ]
  },
  {
   "cell_type": "markdown",
   "id": "bfb949e2",
   "metadata": {},
   "source": [
    "# Day 2"
   ]
  },
  {
   "cell_type": "code",
   "execution_count": 33,
   "id": "0090df86",
   "metadata": {},
   "outputs": [],
   "source": [
    "import pandas as pd"
   ]
  },
  {
   "cell_type": "code",
   "execution_count": 39,
   "id": "0250a99a",
   "metadata": {},
   "outputs": [
    {
     "data": {
      "text/html": [
       "<div>\n",
       "<style scoped>\n",
       "    .dataframe tbody tr th:only-of-type {\n",
       "        vertical-align: middle;\n",
       "    }\n",
       "\n",
       "    .dataframe tbody tr th {\n",
       "        vertical-align: top;\n",
       "    }\n",
       "\n",
       "    .dataframe thead th {\n",
       "        text-align: right;\n",
       "    }\n",
       "</style>\n",
       "<table border=\"1\" class=\"dataframe\">\n",
       "  <thead>\n",
       "    <tr style=\"text-align: right;\">\n",
       "      <th></th>\n",
       "      <th>Name</th>\n",
       "      <th>Age</th>\n",
       "    </tr>\n",
       "  </thead>\n",
       "  <tbody>\n",
       "    <tr>\n",
       "      <th>0</th>\n",
       "      <td>Ashwin</td>\n",
       "      <td>25</td>\n",
       "    </tr>\n",
       "    <tr>\n",
       "      <th>1</th>\n",
       "      <td>Vasu</td>\n",
       "      <td>22</td>\n",
       "    </tr>\n",
       "  </tbody>\n",
       "</table>\n",
       "</div>"
      ],
      "text/plain": [
       "     Name  Age\n",
       "0  Ashwin   25\n",
       "1    Vasu   22"
      ]
     },
     "execution_count": 39,
     "metadata": {},
     "output_type": "execute_result"
    }
   ],
   "source": [
    "#Write a program to create a dataframe from list of lists\n",
    "data = [['Joy', 21], ['Mia', 15], ['Sam', 14]]\n",
    "a=pd.DataFrame(data,columns=['Name','Age'])\n",
    "\n",
    "b=pd.DataFrame({'Name':['Ashwin','Vasu'],'Age':[25,22]})\n",
    "b"
   ]
  },
  {
   "cell_type": "code",
   "execution_count": 38,
   "id": "9d81fb33",
   "metadata": {},
   "outputs": [
    {
     "data": {
      "text/plain": [
       "'confident'"
      ]
     },
     "execution_count": 38,
     "metadata": {},
     "output_type": "execute_result"
    }
   ],
   "source": [
    "#Extract the second word from the given string\n",
    "sentence = 'Be confident and be yourself'\n",
    "sentence.split(' ')[1]"
   ]
  },
  {
   "cell_type": "code",
   "execution_count": 53,
   "id": "9700f89b",
   "metadata": {},
   "outputs": [
    {
     "data": {
      "text/html": [
       "<div>\n",
       "<style scoped>\n",
       "    .dataframe tbody tr th:only-of-type {\n",
       "        vertical-align: middle;\n",
       "    }\n",
       "\n",
       "    .dataframe tbody tr th {\n",
       "        vertical-align: top;\n",
       "    }\n",
       "\n",
       "    .dataframe thead th {\n",
       "        text-align: right;\n",
       "    }\n",
       "</style>\n",
       "<table border=\"1\" class=\"dataframe\">\n",
       "  <thead>\n",
       "    <tr style=\"text-align: right;\">\n",
       "      <th></th>\n",
       "      <th>Name</th>\n",
       "      <th>Marks</th>\n",
       "    </tr>\n",
       "  </thead>\n",
       "  <tbody>\n",
       "    <tr>\n",
       "      <th>1</th>\n",
       "      <td>Robert</td>\n",
       "      <td>50</td>\n",
       "    </tr>\n",
       "    <tr>\n",
       "      <th>3</th>\n",
       "      <td>Mia</td>\n",
       "      <td>55</td>\n",
       "    </tr>\n",
       "  </tbody>\n",
       "</table>\n",
       "</div>"
      ],
      "text/plain": [
       "     Name  Marks\n",
       "1  Robert     50\n",
       "3     Mia     55"
      ]
     },
     "execution_count": 53,
     "metadata": {},
     "output_type": "execute_result"
    }
   ],
   "source": [
    "#Select the rows from below dataframe where marks are less than 60\n",
    "df_student = pd.DataFrame({'Name': ['John', 'Robert', 'Jonny', 'Mia'],\n",
    "                           'Marks': [90, 50, 89, 55]})\n",
    "df_student[df_student['Marks']<60]"
   ]
  },
  {
   "cell_type": "code",
   "execution_count": 70,
   "id": "aea495f8",
   "metadata": {},
   "outputs": [
    {
     "data": {
      "text/html": [
       "<div>\n",
       "<style scoped>\n",
       "    .dataframe tbody tr th:only-of-type {\n",
       "        vertical-align: middle;\n",
       "    }\n",
       "\n",
       "    .dataframe tbody tr th {\n",
       "        vertical-align: top;\n",
       "    }\n",
       "\n",
       "    .dataframe thead th {\n",
       "        text-align: right;\n",
       "    }\n",
       "</style>\n",
       "<table border=\"1\" class=\"dataframe\">\n",
       "  <thead>\n",
       "    <tr style=\"text-align: right;\">\n",
       "      <th></th>\n",
       "      <th>Store</th>\n",
       "      <th>Location</th>\n",
       "      <th>Sales</th>\n",
       "    </tr>\n",
       "  </thead>\n",
       "  <tbody>\n",
       "    <tr>\n",
       "      <th>3</th>\n",
       "      <td>C</td>\n",
       "      <td>Mumbai</td>\n",
       "      <td>90000</td>\n",
       "    </tr>\n",
       "    <tr>\n",
       "      <th>8</th>\n",
       "      <td>C</td>\n",
       "      <td>Mumbai</td>\n",
       "      <td>89000</td>\n",
       "    </tr>\n",
       "  </tbody>\n",
       "</table>\n",
       "</div>"
      ],
      "text/plain": [
       "  Store Location  Sales\n",
       "3     C   Mumbai  90000\n",
       "8     C   Mumbai  89000"
      ]
     },
     "execution_count": 70,
     "metadata": {},
     "output_type": "execute_result"
    }
   ],
   "source": [
    "#Write a program to select the rows where the sales are higher than 60000 for Mumbai\n",
    "df_store = pd.DataFrame({'Store': ['A', 'B', 'A', 'C', 'D', 'A', 'D', 'A', 'C', 'B'],\n",
    "                         'Location': ['Mumbai', 'Pune', 'Hyderabad', 'Mumbai', 'Pune', 'Delhi', 'Hyderabad', 'Pune', 'Mumbai', 'Pune'],\n",
    "                         'Sales': [40000, 45000, 56000, 90000, 89000, 87000, 85000, 78000, 89000, 70000]})\n",
    "\n",
    "df_store[(df_store['Sales']>60000) & (df_store['Location']=='Mumbai')]"
   ]
  },
  {
   "cell_type": "code",
   "execution_count": 67,
   "id": "ba00444c",
   "metadata": {},
   "outputs": [
    {
     "data": {
      "text/plain": [
       "Series([], Name: Store, dtype: object)"
      ]
     },
     "execution_count": 67,
     "metadata": {},
     "output_type": "execute_result"
    }
   ],
   "source": [
    "#Write a program to select stores located in Hyderabad\n",
    "df_store[df_store['Store']=='Hyderabad']['Store']"
   ]
  },
  {
   "cell_type": "code",
   "execution_count": 71,
   "id": "80c84b5f",
   "metadata": {},
   "outputs": [
    {
     "data": {
      "text/html": [
       "<div>\n",
       "<style scoped>\n",
       "    .dataframe tbody tr th:only-of-type {\n",
       "        vertical-align: middle;\n",
       "    }\n",
       "\n",
       "    .dataframe tbody tr th {\n",
       "        vertical-align: top;\n",
       "    }\n",
       "\n",
       "    .dataframe thead th {\n",
       "        text-align: right;\n",
       "    }\n",
       "</style>\n",
       "<table border=\"1\" class=\"dataframe\">\n",
       "  <thead>\n",
       "    <tr style=\"text-align: right;\">\n",
       "      <th></th>\n",
       "      <th>Store</th>\n",
       "      <th>Location</th>\n",
       "      <th>Sales</th>\n",
       "    </tr>\n",
       "  </thead>\n",
       "  <tbody>\n",
       "    <tr>\n",
       "      <th>0</th>\n",
       "      <td>Store_A</td>\n",
       "      <td>Mumbai</td>\n",
       "      <td>40000</td>\n",
       "    </tr>\n",
       "    <tr>\n",
       "      <th>1</th>\n",
       "      <td>Store_B</td>\n",
       "      <td>Pune</td>\n",
       "      <td>45000</td>\n",
       "    </tr>\n",
       "    <tr>\n",
       "      <th>2</th>\n",
       "      <td>Store_A</td>\n",
       "      <td>Hyderabad</td>\n",
       "      <td>56000</td>\n",
       "    </tr>\n",
       "    <tr>\n",
       "      <th>3</th>\n",
       "      <td>Store_C</td>\n",
       "      <td>Mumbai</td>\n",
       "      <td>90000</td>\n",
       "    </tr>\n",
       "    <tr>\n",
       "      <th>4</th>\n",
       "      <td>Store_D</td>\n",
       "      <td>Pune</td>\n",
       "      <td>89000</td>\n",
       "    </tr>\n",
       "    <tr>\n",
       "      <th>5</th>\n",
       "      <td>Store_A</td>\n",
       "      <td>Delhi</td>\n",
       "      <td>87000</td>\n",
       "    </tr>\n",
       "    <tr>\n",
       "      <th>6</th>\n",
       "      <td>Store_D</td>\n",
       "      <td>Hyderabad</td>\n",
       "      <td>85000</td>\n",
       "    </tr>\n",
       "    <tr>\n",
       "      <th>7</th>\n",
       "      <td>Store_A</td>\n",
       "      <td>Pune</td>\n",
       "      <td>78000</td>\n",
       "    </tr>\n",
       "    <tr>\n",
       "      <th>8</th>\n",
       "      <td>Store_C</td>\n",
       "      <td>Mumbai</td>\n",
       "      <td>89000</td>\n",
       "    </tr>\n",
       "    <tr>\n",
       "      <th>9</th>\n",
       "      <td>Store_B</td>\n",
       "      <td>Pune</td>\n",
       "      <td>70000</td>\n",
       "    </tr>\n",
       "  </tbody>\n",
       "</table>\n",
       "</div>"
      ],
      "text/plain": [
       "     Store   Location  Sales\n",
       "0  Store_A     Mumbai  40000\n",
       "1  Store_B       Pune  45000\n",
       "2  Store_A  Hyderabad  56000\n",
       "3  Store_C     Mumbai  90000\n",
       "4  Store_D       Pune  89000\n",
       "5  Store_A      Delhi  87000\n",
       "6  Store_D  Hyderabad  85000\n",
       "7  Store_A       Pune  78000\n",
       "8  Store_C     Mumbai  89000\n",
       "9  Store_B       Pune  70000"
      ]
     },
     "execution_count": 71,
     "metadata": {},
     "output_type": "execute_result"
    }
   ],
   "source": [
    "#map() function to replace 'A', 'B', 'C', and 'D' with 'Store_A', Store_B', 'Store_C' and 'Store_D' respectively\n",
    "df_store['Store']=df_store['Store'].map({'A':'Store_A','B':'Store_B','C':'Store_C','D':'Store_D'})\n",
    "df_store"
   ]
  },
  {
   "cell_type": "code",
   "execution_count": 74,
   "id": "e1c2025c",
   "metadata": {},
   "outputs": [
    {
     "data": {
      "text/html": [
       "<div>\n",
       "<style scoped>\n",
       "    .dataframe tbody tr th:only-of-type {\n",
       "        vertical-align: middle;\n",
       "    }\n",
       "\n",
       "    .dataframe tbody tr th {\n",
       "        vertical-align: top;\n",
       "    }\n",
       "\n",
       "    .dataframe thead th {\n",
       "        text-align: right;\n",
       "    }\n",
       "</style>\n",
       "<table border=\"1\" class=\"dataframe\">\n",
       "  <thead>\n",
       "    <tr style=\"text-align: right;\">\n",
       "      <th></th>\n",
       "      <th>0</th>\n",
       "    </tr>\n",
       "  </thead>\n",
       "  <tbody>\n",
       "    <tr>\n",
       "      <th>0</th>\n",
       "      <td>Delhi</td>\n",
       "    </tr>\n",
       "    <tr>\n",
       "      <th>1</th>\n",
       "      <td>Mumbai</td>\n",
       "    </tr>\n",
       "    <tr>\n",
       "      <th>2</th>\n",
       "      <td>Chennai</td>\n",
       "    </tr>\n",
       "    <tr>\n",
       "      <th>3</th>\n",
       "      <td>Kolkata</td>\n",
       "    </tr>\n",
       "  </tbody>\n",
       "</table>\n",
       "</div>"
      ],
      "text/plain": [
       "         0\n",
       "0    Delhi\n",
       "1   Mumbai\n",
       "2  Chennai\n",
       "3  Kolkata"
      ]
     },
     "execution_count": 74,
     "metadata": {},
     "output_type": "execute_result"
    }
   ],
   "source": [
    "city = ['Delhi', 'Mumbai', 'Chennai', 'Kolkata']\n",
    "a=pd.DataFrame(city)\n",
    "a"
   ]
  },
  {
   "cell_type": "code",
   "execution_count": 79,
   "id": "53a6dca3",
   "metadata": {},
   "outputs": [
    {
     "data": {
      "text/html": [
       "<div>\n",
       "<style scoped>\n",
       "    .dataframe tbody tr th:only-of-type {\n",
       "        vertical-align: middle;\n",
       "    }\n",
       "\n",
       "    .dataframe tbody tr th {\n",
       "        vertical-align: top;\n",
       "    }\n",
       "\n",
       "    .dataframe thead th {\n",
       "        text-align: right;\n",
       "    }\n",
       "</style>\n",
       "<table border=\"1\" class=\"dataframe\">\n",
       "  <thead>\n",
       "    <tr style=\"text-align: right;\">\n",
       "      <th></th>\n",
       "      <th>Location</th>\n",
       "      <th>Sales</th>\n",
       "    </tr>\n",
       "    <tr>\n",
       "      <th>Store</th>\n",
       "      <th></th>\n",
       "      <th></th>\n",
       "    </tr>\n",
       "  </thead>\n",
       "  <tbody>\n",
       "    <tr>\n",
       "      <th>A</th>\n",
       "      <td>Pune</td>\n",
       "      <td>87000</td>\n",
       "    </tr>\n",
       "    <tr>\n",
       "      <th>B</th>\n",
       "      <td>Pune</td>\n",
       "      <td>70000</td>\n",
       "    </tr>\n",
       "    <tr>\n",
       "      <th>C</th>\n",
       "      <td>Mumbai</td>\n",
       "      <td>90000</td>\n",
       "    </tr>\n",
       "    <tr>\n",
       "      <th>D</th>\n",
       "      <td>Pune</td>\n",
       "      <td>89000</td>\n",
       "    </tr>\n",
       "  </tbody>\n",
       "</table>\n",
       "</div>"
      ],
      "text/plain": [
       "      Location  Sales\n",
       "Store                \n",
       "A         Pune  87000\n",
       "B         Pune  70000\n",
       "C       Mumbai  90000\n",
       "D         Pune  89000"
      ]
     },
     "execution_count": 79,
     "metadata": {},
     "output_type": "execute_result"
    }
   ],
   "source": [
    "#Find the maximum sales for each store\n",
    "df_store = pd.DataFrame({'Store': ['A', 'B', 'A', 'C', 'D', 'A', 'D', 'A', 'C', 'B'],\n",
    "                         'Location': ['Mumbai', 'Pune', 'Hyderabad', 'Mumbai', 'Pune', 'Delhi', 'HyderabadFind the maximum sales for each store', 'Pune', 'Mumbai', 'Pune'],\n",
    "                         'Sales': [40000, 45000, 56000, 90000, 89000, 87000, 85000, 78000, 89000, 70000]})\n",
    "\n",
    "df_store.groupby('Store').max()"
   ]
  },
  {
   "cell_type": "code",
   "execution_count": 82,
   "id": "f235d220",
   "metadata": {},
   "outputs": [
    {
     "data": {
      "text/html": [
       "<div>\n",
       "<style scoped>\n",
       "    .dataframe tbody tr th:only-of-type {\n",
       "        vertical-align: middle;\n",
       "    }\n",
       "\n",
       "    .dataframe tbody tr th {\n",
       "        vertical-align: top;\n",
       "    }\n",
       "\n",
       "    .dataframe thead th {\n",
       "        text-align: right;\n",
       "    }\n",
       "</style>\n",
       "<table border=\"1\" class=\"dataframe\">\n",
       "  <thead>\n",
       "    <tr style=\"text-align: right;\">\n",
       "      <th></th>\n",
       "      <th>Store</th>\n",
       "      <th>Sales</th>\n",
       "    </tr>\n",
       "  </thead>\n",
       "  <tbody>\n",
       "    <tr>\n",
       "      <th>0</th>\n",
       "      <td>A</td>\n",
       "      <td>40000</td>\n",
       "    </tr>\n",
       "    <tr>\n",
       "      <th>1</th>\n",
       "      <td>B</td>\n",
       "      <td>45000</td>\n",
       "    </tr>\n",
       "    <tr>\n",
       "      <th>2</th>\n",
       "      <td>A</td>\n",
       "      <td>56000</td>\n",
       "    </tr>\n",
       "    <tr>\n",
       "      <th>3</th>\n",
       "      <td>C</td>\n",
       "      <td>90000</td>\n",
       "    </tr>\n",
       "    <tr>\n",
       "      <th>4</th>\n",
       "      <td>D</td>\n",
       "      <td>89000</td>\n",
       "    </tr>\n",
       "    <tr>\n",
       "      <th>5</th>\n",
       "      <td>A</td>\n",
       "      <td>87000</td>\n",
       "    </tr>\n",
       "    <tr>\n",
       "      <th>6</th>\n",
       "      <td>D</td>\n",
       "      <td>85000</td>\n",
       "    </tr>\n",
       "    <tr>\n",
       "      <th>7</th>\n",
       "      <td>A</td>\n",
       "      <td>78000</td>\n",
       "    </tr>\n",
       "    <tr>\n",
       "      <th>8</th>\n",
       "      <td>C</td>\n",
       "      <td>89000</td>\n",
       "    </tr>\n",
       "    <tr>\n",
       "      <th>9</th>\n",
       "      <td>B</td>\n",
       "      <td>70000</td>\n",
       "    </tr>\n",
       "  </tbody>\n",
       "</table>\n",
       "</div>"
      ],
      "text/plain": [
       "  Store  Sales\n",
       "0     A  40000\n",
       "1     B  45000\n",
       "2     A  56000\n",
       "3     C  90000\n",
       "4     D  89000\n",
       "5     A  87000\n",
       "6     D  85000\n",
       "7     A  78000\n",
       "8     C  89000\n",
       "9     B  70000"
      ]
     },
     "execution_count": 82,
     "metadata": {},
     "output_type": "execute_result"
    }
   ],
   "source": [
    "df_store.iloc[:,df_store.columns!='Location']"
   ]
  },
  {
   "cell_type": "code",
   "execution_count": 90,
   "id": "b3b998bb",
   "metadata": {},
   "outputs": [
    {
     "data": {
      "text/html": [
       "<div>\n",
       "<style scoped>\n",
       "    .dataframe tbody tr th:only-of-type {\n",
       "        vertical-align: middle;\n",
       "    }\n",
       "\n",
       "    .dataframe tbody tr th {\n",
       "        vertical-align: top;\n",
       "    }\n",
       "\n",
       "    .dataframe thead th {\n",
       "        text-align: right;\n",
       "    }\n",
       "</style>\n",
       "<table border=\"1\" class=\"dataframe\">\n",
       "  <thead>\n",
       "    <tr style=\"text-align: right;\">\n",
       "      <th></th>\n",
       "      <th>Name</th>\n",
       "      <th>Salary</th>\n",
       "      <th>Age</th>\n",
       "    </tr>\n",
       "  </thead>\n",
       "  <tbody>\n",
       "    <tr>\n",
       "      <th>0</th>\n",
       "      <td>Emma Larter</td>\n",
       "      <td>35000</td>\n",
       "      <td>34</td>\n",
       "    </tr>\n",
       "    <tr>\n",
       "      <th>1</th>\n",
       "      <td>Mia Junior</td>\n",
       "      <td>24000</td>\n",
       "      <td>59</td>\n",
       "    </tr>\n",
       "    <tr>\n",
       "      <th>2</th>\n",
       "      <td>Sophia Depp</td>\n",
       "      <td>55000</td>\n",
       "      <td>32</td>\n",
       "    </tr>\n",
       "    <tr>\n",
       "      <th>3</th>\n",
       "      <td>James Smith</td>\n",
       "      <td>40000</td>\n",
       "      <td>40</td>\n",
       "    </tr>\n",
       "  </tbody>\n",
       "</table>\n",
       "</div>"
      ],
      "text/plain": [
       "          Name  Salary  Age\n",
       "0  Emma Larter   35000   34\n",
       "1   Mia Junior   24000   59\n",
       "2  Sophia Depp   55000   32\n",
       "3  James Smith   40000   40"
      ]
     },
     "execution_count": 90,
     "metadata": {},
     "output_type": "execute_result"
    }
   ],
   "source": [
    "data = {'Name': ['Emma Larter', 'Mia Junior', 'Sophia Depp', 'James Smith'], 'Age': [34, 59, 32, 40]}\n",
    "df_student = pd.DataFrame(data=data)\n",
    "value = [35000, 24000, 55000, 40000]\n",
    "df_student.insert(loc=1,value=value,column='Salary')\n",
    "df_student"
   ]
  },
  {
   "cell_type": "code",
   "execution_count": 92,
   "id": "6e5f2ec0",
   "metadata": {},
   "outputs": [
    {
     "data": {
      "text/html": [
       "<div>\n",
       "<style scoped>\n",
       "    .dataframe tbody tr th:only-of-type {\n",
       "        vertical-align: middle;\n",
       "    }\n",
       "\n",
       "    .dataframe tbody tr th {\n",
       "        vertical-align: top;\n",
       "    }\n",
       "\n",
       "    .dataframe thead th {\n",
       "        text-align: right;\n",
       "    }\n",
       "</style>\n",
       "<table border=\"1\" class=\"dataframe\">\n",
       "  <thead>\n",
       "    <tr style=\"text-align: right;\">\n",
       "      <th></th>\n",
       "      <th>Sales</th>\n",
       "    </tr>\n",
       "    <tr>\n",
       "      <th>Store</th>\n",
       "      <th></th>\n",
       "    </tr>\n",
       "  </thead>\n",
       "  <tbody>\n",
       "    <tr>\n",
       "      <th>A</th>\n",
       "      <td>261000</td>\n",
       "    </tr>\n",
       "    <tr>\n",
       "      <th>B</th>\n",
       "      <td>115000</td>\n",
       "    </tr>\n",
       "    <tr>\n",
       "      <th>C</th>\n",
       "      <td>179000</td>\n",
       "    </tr>\n",
       "    <tr>\n",
       "      <th>D</th>\n",
       "      <td>174000</td>\n",
       "    </tr>\n",
       "  </tbody>\n",
       "</table>\n",
       "</div>"
      ],
      "text/plain": [
       "        Sales\n",
       "Store        \n",
       "A      261000\n",
       "B      115000\n",
       "C      179000\n",
       "D      174000"
      ]
     },
     "execution_count": 92,
     "metadata": {},
     "output_type": "execute_result"
    }
   ],
   "source": [
    "#Write a program to count total sales per store\n",
    "df_store = pd.DataFrame({'Store': ['A', 'B', 'A', 'C', 'D', 'A', 'D', 'A', 'C', 'B'],\n",
    "                         'Location': ['Mumbai', 'Pune', 'Hyderabad', 'Mumbai', 'Pune', 'Delhi', 'Hyderabad', 'Pune',\n",
    "                         'Mumbai', 'Pune'],\n",
    "                         'Sales': [40000, 45000, 56000, 90000, 89000, 87000, 85000, 78000, 89000, 70000]})\n",
    "df_store.groupby('Store').sum()"
   ]
  },
  {
   "cell_type": "code",
   "execution_count": 96,
   "id": "f979c37d",
   "metadata": {},
   "outputs": [
    {
     "data": {
      "text/html": [
       "<div>\n",
       "<style scoped>\n",
       "    .dataframe tbody tr th:only-of-type {\n",
       "        vertical-align: middle;\n",
       "    }\n",
       "\n",
       "    .dataframe tbody tr th {\n",
       "        vertical-align: top;\n",
       "    }\n",
       "\n",
       "    .dataframe thead th {\n",
       "        text-align: right;\n",
       "    }\n",
       "</style>\n",
       "<table border=\"1\" class=\"dataframe\">\n",
       "  <thead>\n",
       "    <tr style=\"text-align: right;\">\n",
       "      <th></th>\n",
       "      <th>Store</th>\n",
       "      <th>Location</th>\n",
       "      <th>Sales</th>\n",
       "    </tr>\n",
       "  </thead>\n",
       "  <tbody>\n",
       "    <tr>\n",
       "      <th>0</th>\n",
       "      <td>A</td>\n",
       "      <td>Mumbai</td>\n",
       "      <td>40000</td>\n",
       "    </tr>\n",
       "    <tr>\n",
       "      <th>1</th>\n",
       "      <td>B</td>\n",
       "      <td>Pune</td>\n",
       "      <td>45000</td>\n",
       "    </tr>\n",
       "    <tr>\n",
       "      <th>2</th>\n",
       "      <td>A</td>\n",
       "      <td>Hyderabad</td>\n",
       "      <td>56000</td>\n",
       "    </tr>\n",
       "    <tr>\n",
       "      <th>9</th>\n",
       "      <td>B</td>\n",
       "      <td>Pune</td>\n",
       "      <td>70000</td>\n",
       "    </tr>\n",
       "    <tr>\n",
       "      <th>7</th>\n",
       "      <td>A</td>\n",
       "      <td>Pune</td>\n",
       "      <td>78000</td>\n",
       "    </tr>\n",
       "    <tr>\n",
       "      <th>6</th>\n",
       "      <td>D</td>\n",
       "      <td>Hyderabad</td>\n",
       "      <td>85000</td>\n",
       "    </tr>\n",
       "    <tr>\n",
       "      <th>5</th>\n",
       "      <td>A</td>\n",
       "      <td>Delhi</td>\n",
       "      <td>87000</td>\n",
       "    </tr>\n",
       "    <tr>\n",
       "      <th>4</th>\n",
       "      <td>D</td>\n",
       "      <td>Pune</td>\n",
       "      <td>89000</td>\n",
       "    </tr>\n",
       "    <tr>\n",
       "      <th>8</th>\n",
       "      <td>C</td>\n",
       "      <td>Mumbai</td>\n",
       "      <td>89000</td>\n",
       "    </tr>\n",
       "    <tr>\n",
       "      <th>3</th>\n",
       "      <td>C</td>\n",
       "      <td>Mumbai</td>\n",
       "      <td>90000</td>\n",
       "    </tr>\n",
       "  </tbody>\n",
       "</table>\n",
       "</div>"
      ],
      "text/plain": [
       "  Store   Location  Sales\n",
       "0     A     Mumbai  40000\n",
       "1     B       Pune  45000\n",
       "2     A  Hyderabad  56000\n",
       "9     B       Pune  70000\n",
       "7     A       Pune  78000\n",
       "6     D  Hyderabad  85000\n",
       "5     A      Delhi  87000\n",
       "4     D       Pune  89000\n",
       "8     C     Mumbai  89000\n",
       "3     C     Mumbai  90000"
      ]
     },
     "execution_count": 96,
     "metadata": {},
     "output_type": "execute_result"
    }
   ],
   "source": [
    "#Write a program to sort the dataframe by 'Sales' in ascending order\n",
    "df_store = pd.DataFrame({'Store': ['A', 'B', 'A', 'C', 'D', 'A', 'D', 'A', 'C', 'B'],\n",
    "                         'Location': ['Mumbai', 'Pune', 'Hyderabad', 'Mumbai', 'Pune', 'Delhi', 'Hyderabad', 'Pune',\n",
    "                         'Mumbai', 'Pune'],\n",
    "                         'Sales': [40000, 45000, 56000, 90000, 89000, 87000, 85000, 78000, 89000, 70000]})\n",
    "df_store.sort_values(by=['Sales'],ascending=True)"
   ]
  },
  {
   "cell_type": "code",
   "execution_count": 97,
   "id": "ae3348cb",
   "metadata": {},
   "outputs": [
    {
     "data": {
      "text/html": [
       "<div>\n",
       "<style scoped>\n",
       "    .dataframe tbody tr th:only-of-type {\n",
       "        vertical-align: middle;\n",
       "    }\n",
       "\n",
       "    .dataframe tbody tr th {\n",
       "        vertical-align: top;\n",
       "    }\n",
       "\n",
       "    .dataframe thead th {\n",
       "        text-align: right;\n",
       "    }\n",
       "</style>\n",
       "<table border=\"1\" class=\"dataframe\">\n",
       "  <thead>\n",
       "    <tr style=\"text-align: right;\">\n",
       "      <th></th>\n",
       "      <th>Store</th>\n",
       "      <th>Location</th>\n",
       "      <th>Sales</th>\n",
       "    </tr>\n",
       "  </thead>\n",
       "  <tbody>\n",
       "    <tr>\n",
       "      <th>5</th>\n",
       "      <td>A</td>\n",
       "      <td>Delhi</td>\n",
       "      <td>87000</td>\n",
       "    </tr>\n",
       "    <tr>\n",
       "      <th>7</th>\n",
       "      <td>A</td>\n",
       "      <td>Pune</td>\n",
       "      <td>78000</td>\n",
       "    </tr>\n",
       "    <tr>\n",
       "      <th>2</th>\n",
       "      <td>A</td>\n",
       "      <td>Hyderabad</td>\n",
       "      <td>56000</td>\n",
       "    </tr>\n",
       "    <tr>\n",
       "      <th>0</th>\n",
       "      <td>A</td>\n",
       "      <td>Mumbai</td>\n",
       "      <td>40000</td>\n",
       "    </tr>\n",
       "    <tr>\n",
       "      <th>9</th>\n",
       "      <td>B</td>\n",
       "      <td>Pune</td>\n",
       "      <td>70000</td>\n",
       "    </tr>\n",
       "    <tr>\n",
       "      <th>1</th>\n",
       "      <td>B</td>\n",
       "      <td>Pune</td>\n",
       "      <td>45000</td>\n",
       "    </tr>\n",
       "    <tr>\n",
       "      <th>3</th>\n",
       "      <td>C</td>\n",
       "      <td>Mumbai</td>\n",
       "      <td>90000</td>\n",
       "    </tr>\n",
       "    <tr>\n",
       "      <th>8</th>\n",
       "      <td>C</td>\n",
       "      <td>Mumbai</td>\n",
       "      <td>89000</td>\n",
       "    </tr>\n",
       "    <tr>\n",
       "      <th>4</th>\n",
       "      <td>D</td>\n",
       "      <td>Pune</td>\n",
       "      <td>89000</td>\n",
       "    </tr>\n",
       "    <tr>\n",
       "      <th>6</th>\n",
       "      <td>D</td>\n",
       "      <td>Hyderabad</td>\n",
       "      <td>85000</td>\n",
       "    </tr>\n",
       "  </tbody>\n",
       "</table>\n",
       "</div>"
      ],
      "text/plain": [
       "  Store   Location  Sales\n",
       "5     A      Delhi  87000\n",
       "7     A       Pune  78000\n",
       "2     A  Hyderabad  56000\n",
       "0     A     Mumbai  40000\n",
       "9     B       Pune  70000\n",
       "1     B       Pune  45000\n",
       "3     C     Mumbai  90000\n",
       "8     C     Mumbai  89000\n",
       "4     D       Pune  89000\n",
       "6     D  Hyderabad  85000"
      ]
     },
     "execution_count": 97,
     "metadata": {},
     "output_type": "execute_result"
    }
   ],
   "source": [
    "#Write a program to sort the dataframe by 'Store' in ascending order and by 'Sales' in descending order simultaneously\n",
    "df_store.sort_values(by=['Store','Sales'],ascending=[True,False])"
   ]
  },
  {
   "cell_type": "code",
   "execution_count": 99,
   "id": "53f0de48",
   "metadata": {},
   "outputs": [
    {
     "data": {
      "text/html": [
       "<div>\n",
       "<style scoped>\n",
       "    .dataframe tbody tr th:only-of-type {\n",
       "        vertical-align: middle;\n",
       "    }\n",
       "\n",
       "    .dataframe tbody tr th {\n",
       "        vertical-align: top;\n",
       "    }\n",
       "\n",
       "    .dataframe thead th {\n",
       "        text-align: right;\n",
       "    }\n",
       "</style>\n",
       "<table border=\"1\" class=\"dataframe\">\n",
       "  <thead>\n",
       "    <tr style=\"text-align: right;\">\n",
       "      <th></th>\n",
       "      <th>Store</th>\n",
       "      <th>Location</th>\n",
       "      <th>Sales</th>\n",
       "    </tr>\n",
       "  </thead>\n",
       "  <tbody>\n",
       "    <tr>\n",
       "      <th>0</th>\n",
       "      <td>A</td>\n",
       "      <td>Mumbai</td>\n",
       "      <td>40000</td>\n",
       "    </tr>\n",
       "    <tr>\n",
       "      <th>1</th>\n",
       "      <td>B</td>\n",
       "      <td>Pune</td>\n",
       "      <td>45000</td>\n",
       "    </tr>\n",
       "    <tr>\n",
       "      <th>2</th>\n",
       "      <td>A</td>\n",
       "      <td>Hyderabad</td>\n",
       "      <td>56000</td>\n",
       "    </tr>\n",
       "    <tr>\n",
       "      <th>3</th>\n",
       "      <td>C</td>\n",
       "      <td>Mumbai</td>\n",
       "      <td>90000</td>\n",
       "    </tr>\n",
       "    <tr>\n",
       "      <th>4</th>\n",
       "      <td>D</td>\n",
       "      <td>Pune</td>\n",
       "      <td>89000</td>\n",
       "    </tr>\n",
       "    <tr>\n",
       "      <th>5</th>\n",
       "      <td>A</td>\n",
       "      <td>Delhi</td>\n",
       "      <td>87000</td>\n",
       "    </tr>\n",
       "    <tr>\n",
       "      <th>6</th>\n",
       "      <td>D</td>\n",
       "      <td>Hyderabad</td>\n",
       "      <td>85000</td>\n",
       "    </tr>\n",
       "    <tr>\n",
       "      <th>7</th>\n",
       "      <td>A</td>\n",
       "      <td>Pune</td>\n",
       "      <td>78000</td>\n",
       "    </tr>\n",
       "    <tr>\n",
       "      <th>8</th>\n",
       "      <td>C</td>\n",
       "      <td>Mumbai</td>\n",
       "      <td>89000</td>\n",
       "    </tr>\n",
       "    <tr>\n",
       "      <th>9</th>\n",
       "      <td>B</td>\n",
       "      <td>Pune</td>\n",
       "      <td>70000</td>\n",
       "    </tr>\n",
       "  </tbody>\n",
       "</table>\n",
       "</div>"
      ],
      "text/plain": [
       "  Store   Location  Sales\n",
       "0     A     Mumbai  40000\n",
       "1     B       Pune  45000\n",
       "2     A  Hyderabad  56000\n",
       "3     C     Mumbai  90000\n",
       "4     D       Pune  89000\n",
       "5     A      Delhi  87000\n",
       "6     D  Hyderabad  85000\n",
       "7     A       Pune  78000\n",
       "8     C     Mumbai  89000\n",
       "9     B       Pune  70000"
      ]
     },
     "execution_count": 99,
     "metadata": {},
     "output_type": "execute_result"
    }
   ],
   "source": [
    "#Create a column 'Rank_sales' which contains the rank of each store based on sales of the product in ascending order\n",
    "df_store = pd.DataFrame({'Store': ['A', 'B', 'A', 'C', 'D', 'A', 'D', 'A', 'C', 'B'],\n",
    "                         'Location': ['Mumbai', 'Pune', 'Hyderabad', 'Mumbai', 'Pune', 'Delhi', 'Hyderabad', 'Pune',\n",
    "                         'Mumbai', 'Pune'],\n",
    "                         'Sales': [40000, 45000, 56000, 90000, 89000, 87000, 85000, 78000, 89000, 70000]})\n",
    "\n",
    "# print the data\n",
    "df_store"
   ]
  },
  {
   "cell_type": "code",
   "execution_count": 103,
   "id": "2e295419",
   "metadata": {},
   "outputs": [
    {
     "data": {
      "text/html": [
       "<div>\n",
       "<style scoped>\n",
       "    .dataframe tbody tr th:only-of-type {\n",
       "        vertical-align: middle;\n",
       "    }\n",
       "\n",
       "    .dataframe tbody tr th {\n",
       "        vertical-align: top;\n",
       "    }\n",
       "\n",
       "    .dataframe thead th {\n",
       "        text-align: right;\n",
       "    }\n",
       "</style>\n",
       "<table border=\"1\" class=\"dataframe\">\n",
       "  <thead>\n",
       "    <tr style=\"text-align: right;\">\n",
       "      <th></th>\n",
       "      <th>Store</th>\n",
       "      <th>Location</th>\n",
       "      <th>Sales</th>\n",
       "      <th>Ranked_sales</th>\n",
       "    </tr>\n",
       "  </thead>\n",
       "  <tbody>\n",
       "    <tr>\n",
       "      <th>0</th>\n",
       "      <td>A</td>\n",
       "      <td>Mumbai</td>\n",
       "      <td>40000</td>\n",
       "      <td>1.0</td>\n",
       "    </tr>\n",
       "    <tr>\n",
       "      <th>1</th>\n",
       "      <td>B</td>\n",
       "      <td>Pune</td>\n",
       "      <td>45000</td>\n",
       "      <td>2.0</td>\n",
       "    </tr>\n",
       "    <tr>\n",
       "      <th>2</th>\n",
       "      <td>A</td>\n",
       "      <td>Hyderabad</td>\n",
       "      <td>56000</td>\n",
       "      <td>3.0</td>\n",
       "    </tr>\n",
       "    <tr>\n",
       "      <th>3</th>\n",
       "      <td>C</td>\n",
       "      <td>Mumbai</td>\n",
       "      <td>90000</td>\n",
       "      <td>10.0</td>\n",
       "    </tr>\n",
       "    <tr>\n",
       "      <th>4</th>\n",
       "      <td>D</td>\n",
       "      <td>Pune</td>\n",
       "      <td>89000</td>\n",
       "      <td>8.5</td>\n",
       "    </tr>\n",
       "    <tr>\n",
       "      <th>5</th>\n",
       "      <td>A</td>\n",
       "      <td>Delhi</td>\n",
       "      <td>87000</td>\n",
       "      <td>7.0</td>\n",
       "    </tr>\n",
       "    <tr>\n",
       "      <th>6</th>\n",
       "      <td>D</td>\n",
       "      <td>Hyderabad</td>\n",
       "      <td>85000</td>\n",
       "      <td>6.0</td>\n",
       "    </tr>\n",
       "    <tr>\n",
       "      <th>7</th>\n",
       "      <td>A</td>\n",
       "      <td>Pune</td>\n",
       "      <td>78000</td>\n",
       "      <td>5.0</td>\n",
       "    </tr>\n",
       "    <tr>\n",
       "      <th>8</th>\n",
       "      <td>C</td>\n",
       "      <td>Mumbai</td>\n",
       "      <td>89000</td>\n",
       "      <td>8.5</td>\n",
       "    </tr>\n",
       "    <tr>\n",
       "      <th>9</th>\n",
       "      <td>B</td>\n",
       "      <td>Pune</td>\n",
       "      <td>70000</td>\n",
       "      <td>4.0</td>\n",
       "    </tr>\n",
       "  </tbody>\n",
       "</table>\n",
       "</div>"
      ],
      "text/plain": [
       "  Store   Location  Sales  Ranked_sales\n",
       "0     A     Mumbai  40000           1.0\n",
       "1     B       Pune  45000           2.0\n",
       "2     A  Hyderabad  56000           3.0\n",
       "3     C     Mumbai  90000          10.0\n",
       "4     D       Pune  89000           8.5\n",
       "5     A      Delhi  87000           7.0\n",
       "6     D  Hyderabad  85000           6.0\n",
       "7     A       Pune  78000           5.0\n",
       "8     C     Mumbai  89000           8.5\n",
       "9     B       Pune  70000           4.0"
      ]
     },
     "execution_count": 103,
     "metadata": {},
     "output_type": "execute_result"
    }
   ],
   "source": [
    "df_store['Ranked_sales']=df_store['Sales'].rank(ascending=True)\n",
    "df_store"
   ]
  },
  {
   "cell_type": "code",
   "execution_count": 106,
   "id": "9091fc1d",
   "metadata": {},
   "outputs": [
    {
     "data": {
      "text/html": [
       "<div>\n",
       "<style scoped>\n",
       "    .dataframe tbody tr th:only-of-type {\n",
       "        vertical-align: middle;\n",
       "    }\n",
       "\n",
       "    .dataframe tbody tr th {\n",
       "        vertical-align: top;\n",
       "    }\n",
       "\n",
       "    .dataframe thead th {\n",
       "        text-align: right;\n",
       "    }\n",
       "</style>\n",
       "<table border=\"1\" class=\"dataframe\">\n",
       "  <thead>\n",
       "    <tr style=\"text-align: right;\">\n",
       "      <th></th>\n",
       "      <th>Store</th>\n",
       "      <th>Location</th>\n",
       "      <th>Sales</th>\n",
       "      <th>Ranked_sales</th>\n",
       "    </tr>\n",
       "  </thead>\n",
       "  <tbody>\n",
       "    <tr>\n",
       "      <th>0</th>\n",
       "      <td>A</td>\n",
       "      <td>Mumbai</td>\n",
       "      <td>40000</td>\n",
       "      <td>10.0</td>\n",
       "    </tr>\n",
       "    <tr>\n",
       "      <th>1</th>\n",
       "      <td>B</td>\n",
       "      <td>Pune</td>\n",
       "      <td>45000</td>\n",
       "      <td>9.0</td>\n",
       "    </tr>\n",
       "    <tr>\n",
       "      <th>2</th>\n",
       "      <td>A</td>\n",
       "      <td>Hyderabad</td>\n",
       "      <td>56000</td>\n",
       "      <td>8.0</td>\n",
       "    </tr>\n",
       "    <tr>\n",
       "      <th>3</th>\n",
       "      <td>C</td>\n",
       "      <td>Mumbai</td>\n",
       "      <td>90000</td>\n",
       "      <td>1.0</td>\n",
       "    </tr>\n",
       "    <tr>\n",
       "      <th>4</th>\n",
       "      <td>D</td>\n",
       "      <td>Pune</td>\n",
       "      <td>89000</td>\n",
       "      <td>2.5</td>\n",
       "    </tr>\n",
       "    <tr>\n",
       "      <th>5</th>\n",
       "      <td>A</td>\n",
       "      <td>Delhi</td>\n",
       "      <td>87000</td>\n",
       "      <td>4.0</td>\n",
       "    </tr>\n",
       "    <tr>\n",
       "      <th>6</th>\n",
       "      <td>D</td>\n",
       "      <td>Hyderabad</td>\n",
       "      <td>85000</td>\n",
       "      <td>5.0</td>\n",
       "    </tr>\n",
       "    <tr>\n",
       "      <th>7</th>\n",
       "      <td>A</td>\n",
       "      <td>Pune</td>\n",
       "      <td>78000</td>\n",
       "      <td>6.0</td>\n",
       "    </tr>\n",
       "    <tr>\n",
       "      <th>8</th>\n",
       "      <td>C</td>\n",
       "      <td>Mumbai</td>\n",
       "      <td>89000</td>\n",
       "      <td>2.5</td>\n",
       "    </tr>\n",
       "    <tr>\n",
       "      <th>9</th>\n",
       "      <td>B</td>\n",
       "      <td>Pune</td>\n",
       "      <td>70000</td>\n",
       "      <td>7.0</td>\n",
       "    </tr>\n",
       "  </tbody>\n",
       "</table>\n",
       "</div>"
      ],
      "text/plain": [
       "  Store   Location  Sales  Ranked_sales\n",
       "0     A     Mumbai  40000          10.0\n",
       "1     B       Pune  45000           9.0\n",
       "2     A  Hyderabad  56000           8.0\n",
       "3     C     Mumbai  90000           1.0\n",
       "4     D       Pune  89000           2.5\n",
       "5     A      Delhi  87000           4.0\n",
       "6     D  Hyderabad  85000           5.0\n",
       "7     A       Pune  78000           6.0\n",
       "8     C     Mumbai  89000           2.5\n",
       "9     B       Pune  70000           7.0"
      ]
     },
     "execution_count": 106,
     "metadata": {},
     "output_type": "execute_result"
    }
   ],
   "source": [
    "#Rank the dataframe in descending order of sales by each store\n",
    "df_store['Ranked_sales']=df_store['Sales'].rank(ascending=False)\n",
    "df_store"
   ]
  }
 ],
 "metadata": {
  "kernelspec": {
   "display_name": "Python 3",
   "language": "python",
   "name": "python3"
  },
  "language_info": {
   "codemirror_mode": {
    "name": "ipython",
    "version": 3
   },
   "file_extension": ".py",
   "mimetype": "text/x-python",
   "name": "python",
   "nbconvert_exporter": "python",
   "pygments_lexer": "ipython3",
   "version": "3.8.8"
  }
 },
 "nbformat": 4,
 "nbformat_minor": 5
}
