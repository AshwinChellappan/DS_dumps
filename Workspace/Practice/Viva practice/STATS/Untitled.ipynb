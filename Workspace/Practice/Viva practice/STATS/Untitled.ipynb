{
 "cells": [
  {
   "cell_type": "code",
   "execution_count": 1,
   "id": "209f7cf0",
   "metadata": {},
   "outputs": [],
   "source": [
    "import numpy as np\n",
    "import pandas as pd\n",
    "from scipy import stats"
   ]
  },
  {
   "cell_type": "code",
   "execution_count": null,
   "id": "da2e66d3",
   "metadata": {},
   "outputs": [],
   "source": [
    "#The production manager at tea emporium wants to estimate the weight of a green tea bag. \n",
    "#The previous study shows that the standard deviation of weight is 2.3 g. \n",
    "#The manager collects 65 tea bags for the study. \n",
    "#How much margin of error the manager should consider to estimate the weight with 99% confidence."
   ]
  },
  {
   "cell_type": "code",
   "execution_count": 7,
   "id": "53f6ffde",
   "metadata": {},
   "outputs": [
    {
     "data": {
      "text/plain": [
       "0.7348239395162313"
      ]
     },
     "execution_count": 7,
     "metadata": {},
     "output_type": "execute_result"
    }
   ],
   "source": [
    "sd=2.3\n",
    "n=65\n",
    "alpha=0.01\n",
    "z_alpha_by_2 =np.abs(round(stats.norm.isf(q=0.01/2),4))\n",
    "error=z_alpha_by_2*sd/np.sqrt(n)\n",
    "error"
   ]
  },
  {
   "cell_type": "code",
   "execution_count": null,
   "id": "204c8372",
   "metadata": {},
   "outputs": [],
   "source": [
    "#The bank manager has received several fraud complaints from past a few weeks. \n",
    "#The report from accountant states that the standard deviation in frauds is 16. \n",
    "#The manager is ready to consider the margin of error as 5. \n",
    "#To estimate the average number of frauds with 90% confidence how many transactions should the manager consider?"
   ]
  },
  {
   "cell_type": "code",
   "execution_count": 12,
   "id": "b622525c",
   "metadata": {},
   "outputs": [
    {
     "data": {
      "text/plain": [
       "27.7063271424"
      ]
     },
     "execution_count": 12,
     "metadata": {},
     "output_type": "execute_result"
    }
   ],
   "source": [
    "sd=16\n",
    "alpha=0.10\n",
    "ME=5\n",
    "z_alpha_by_2=np.abs(round(stats.norm.isf(q=0.10/2),4))\n",
    "z_alpha_by_2\n",
    "n = ((z_alpha_by_2)**2)*(sd**2)/(ME**2)\n",
    "n"
   ]
  },
  {
   "cell_type": "code",
   "execution_count": null,
   "id": "2f470c8c",
   "metadata": {},
   "outputs": [],
   "source": [
    "#A paediatrician wants to check the amount of sugar in the 100g pack of baby food produced by KidsGrow company. \n",
    "#The medical journal states that a standard deviation of sugar in 100g pack is 8g. \n",
    "#The paediatrician collects 37 packets of baby food and found that the average sugar is 24g. \n",
    "#Find the 90% confidence interval for the population mean."
   ]
  },
  {
   "cell_type": "code",
   "execution_count": 16,
   "id": "640809b5",
   "metadata": {},
   "outputs": [
    {
     "data": {
      "text/plain": [
       "(23.83473121466879, 24.16526878533121)"
      ]
     },
     "execution_count": 16,
     "metadata": {},
     "output_type": "execute_result"
    }
   ],
   "source": [
    "#n>30\n",
    "SD=8\n",
    "n=37\n",
    "sample_mean=24\n",
    "interval =stats.norm.interval(alpha=0.10,loc=sample_mean,scale = SD / np.sqrt(n))\n",
    "interval"
   ]
  },
  {
   "cell_type": "code",
   "execution_count": 17,
   "id": "621727da",
   "metadata": {},
   "outputs": [
    {
     "data": {
      "text/plain": [
       "(167.84920638377392, 168.15079361622608)"
      ]
     },
     "execution_count": 17,
     "metadata": {},
     "output_type": "execute_result"
    }
   ],
   "source": [
    "#The physical trainer at a university wants to estimate the average height of students at the university.\n",
    "#The trainer collects the data of 100 students and found that the average height is 168 cm with a standard deviation of 12 cm.\n",
    "#Find the 95% confidence interval for the population average height.\n",
    "n=100\n",
    "sample_mean=168\n",
    "sd=12\n",
    "stats.norm.interval(alpha=0.10,loc=sample_mean,scale=sd/np.sqrt(n))"
   ]
  },
  {
   "cell_type": "code",
   "execution_count": 22,
   "id": "f0749500",
   "metadata": {},
   "outputs": [
    {
     "data": {
      "text/plain": [
       "(1.3726158392212553, 1.8273841607787449)"
      ]
     },
     "execution_count": 22,
     "metadata": {},
     "output_type": "execute_result"
    }
   ],
   "source": [
    "#The health magazine in Los Angeles states that a person should drink 1.8 L water every day.\n",
    "#To study this statement, the physician collects the data of 15 people and found that the average water intake for\n",
    "#these people is 1.6 L with a standard deviation of 0.5 L. \n",
    "#Calculate the 90% confidence interval for the population average water intake.\n",
    "#n<30\n",
    "n=15\n",
    "sample_mean=1.6\n",
    "sd=0.5\n",
    "stats.t.interval(0.90,df=n-1,loc=sample_mean,scale=sd/np.sqrt(n))"
   ]
  }
 ],
 "metadata": {
  "kernelspec": {
   "display_name": "Python 3",
   "language": "python",
   "name": "python3"
  },
  "language_info": {
   "codemirror_mode": {
    "name": "ipython",
    "version": 3
   },
   "file_extension": ".py",
   "mimetype": "text/x-python",
   "name": "python",
   "nbconvert_exporter": "python",
   "pygments_lexer": "ipython3",
   "version": "3.8.8"
  }
 },
 "nbformat": 4,
 "nbformat_minor": 5
}
