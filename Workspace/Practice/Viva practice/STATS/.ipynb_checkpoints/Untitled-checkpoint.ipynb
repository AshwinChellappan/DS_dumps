{
 "cells": [
  {
   "cell_type": "code",
   "execution_count": 1,
   "id": "209f7cf0",
   "metadata": {},
   "outputs": [],
   "source": [
    "import numpy as np\n",
    "import pandas as pd"
   ]
  },
  {
   "cell_type": "code",
   "execution_count": null,
   "id": "da2e66d3",
   "metadata": {},
   "outputs": [],
   "source": [
    "#The production manager at tea emporium wants to estimate the weight of a green tea bag. \n",
    "#The previous study shows that the standard deviation of weight is 2.3 g. \n",
    "#The manager collects 65 tea bags for the study. \n",
    "#How much margin of error the manager should consider to estimate the weight with 99% confidence."
   ]
  },
  {
   "cell_type": "code",
   "execution_count": null,
   "id": "bf508a37",
   "metadata": {},
   "outputs": [],
   "source": []
  }
 ],
 "metadata": {
  "kernelspec": {
   "display_name": "Python 3",
   "language": "python",
   "name": "python3"
  },
  "language_info": {
   "codemirror_mode": {
    "name": "ipython",
    "version": 3
   },
   "file_extension": ".py",
   "mimetype": "text/x-python",
   "name": "python",
   "nbconvert_exporter": "python",
   "pygments_lexer": "ipython3",
   "version": "3.8.8"
  }
 },
 "nbformat": 4,
 "nbformat_minor": 5
}
