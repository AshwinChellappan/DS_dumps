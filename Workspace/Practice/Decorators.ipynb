{
 "cells": [
  {
   "cell_type": "code",
   "execution_count": 2,
   "id": "48551ca5",
   "metadata": {},
   "outputs": [],
   "source": [
    "#Decorators\n",
    "#Basically, a decorator takes in a function, adds some functionality and returns it."
   ]
  },
  {
   "cell_type": "code",
   "execution_count": 13,
   "id": "3bc70014",
   "metadata": {},
   "outputs": [],
   "source": [
    "def make_pretty(func):\n",
    "    def inner():\n",
    "        print(\"I got decorated\")\n",
    "        func()\n",
    "    return inner\n",
    "\n",
    "\n",
    "def ordinary():\n",
    "    print(\"I am ordinary Ashwin\")"
   ]
  },
  {
   "cell_type": "code",
   "execution_count": 14,
   "id": "0097e5d8",
   "metadata": {},
   "outputs": [
    {
     "name": "stdout",
     "output_type": "stream",
     "text": [
      "I got decorated\n",
      "I am ordinary Ashwin\n"
     ]
    }
   ],
   "source": [
    "pretty = make_pretty(ordinary)\n",
    "pretty()"
   ]
  },
  {
   "cell_type": "code",
   "execution_count": null,
   "id": "9aa0ab08",
   "metadata": {},
   "outputs": [],
   "source": []
  },
  {
   "cell_type": "code",
   "execution_count": 15,
   "id": "9a6830b9",
   "metadata": {},
   "outputs": [],
   "source": [
    "def smart_divide(func):\n",
    "    def inner(a, b):\n",
    "        print(\"I am going to divide\", a, \"and\", b)\n",
    "        if b == 0:\n",
    "            print(\"Whoops! cannot divide\")\n",
    "            return\n",
    "\n",
    "        return func(a, b)\n",
    "    return inner\n",
    "\n",
    "\n",
    "@smart_divide\n",
    "def divide(a, b):\n",
    "    print(a/b)"
   ]
  },
  {
   "cell_type": "code",
   "execution_count": 16,
   "id": "6af86e7a",
   "metadata": {},
   "outputs": [
    {
     "name": "stdout",
     "output_type": "stream",
     "text": [
      "I am going to divide 3 and 2\n",
      "1.5\n"
     ]
    }
   ],
   "source": [
    "divide(3,2)"
   ]
  },
  {
   "cell_type": "code",
   "execution_count": null,
   "id": "5e3d7982",
   "metadata": {},
   "outputs": [],
   "source": []
  },
  {
   "cell_type": "markdown",
   "id": "5f20e61c",
   "metadata": {},
   "source": [
    "#Iterator\n",
    "Iterator in python is an object that is used to iterate over iterable objects like lists, tuples, dicts, and sets. \n",
    "The iterator object is initialized using the iter() method. It uses the next() method for iteration. \n",
    "__iter__,__next__"
   ]
  },
  {
   "cell_type": "code",
   "execution_count": 19,
   "id": "e18b9a5a",
   "metadata": {},
   "outputs": [
    {
     "name": "stdout",
     "output_type": "stream",
     "text": [
      "1\n",
      "2\n",
      "3\n",
      "4\n",
      "5\n"
     ]
    }
   ],
   "source": [
    "class MyNumbers:\n",
    "  def __iter__(self):\n",
    "    self.a = 1\n",
    "    return self\n",
    "\n",
    "  def __next__(self):\n",
    "    x = self.a\n",
    "    self.a += 1\n",
    "    return x\n",
    "\n",
    "myclass = MyNumbers()\n",
    "myiter = iter(myclass)\n",
    "\n",
    "print(next(myiter))\n",
    "print(next(myiter))\n",
    "print(next(myiter))\n",
    "print(next(myiter))\n",
    "print(next(myiter))"
   ]
  },
  {
   "cell_type": "code",
   "execution_count": 15,
   "id": "36ad9d96",
   "metadata": {},
   "outputs": [],
   "source": [
    "import pandas as pd\n",
    "df=open('ages.txt','r')\n",
    "mark=open('marks.txt','r');\n",
    "df=pd.concat([age,mark] ,on='Name', axis=0)\n",
    "df[df.age>15].groupby('Name').avg()"
   ]
  },
  {
   "cell_type": "code",
   "execution_count": null,
   "id": "cf586839",
   "metadata": {},
   "outputs": [],
   "source": [
    "#List"
   ]
  }
 ],
 "metadata": {
  "kernelspec": {
   "display_name": "Python 3",
   "language": "python",
   "name": "python3"
  },
  "language_info": {
   "codemirror_mode": {
    "name": "ipython",
    "version": 3
   },
   "file_extension": ".py",
   "mimetype": "text/x-python",
   "name": "python",
   "nbconvert_exporter": "python",
   "pygments_lexer": "ipython3",
   "version": "3.8.8"
  }
 },
 "nbformat": 4,
 "nbformat_minor": 5
}
