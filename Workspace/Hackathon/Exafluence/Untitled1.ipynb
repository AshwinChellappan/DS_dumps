{
 "cells": [
  {
   "cell_type": "code",
   "execution_count": 82,
   "id": "74e34fed",
   "metadata": {},
   "outputs": [],
   "source": [
    "import numpy as np\n",
    "import pandas as pd\n",
    "import seaborn as sns\n",
    "import matplotlib.pyplot as plt\n",
    "from sklearn.tree import DecisionTreeRegressor\n",
    "from sklearn.model_selection import train_test_split, cross_val_score, GridSearchCV\n",
    "from sklearn.metrics import r2_score,mean_squared_error\n",
    "from sklearn.ensemble import RandomForestRegressor"
   ]
  },
  {
   "cell_type": "code",
   "execution_count": 57,
   "id": "5cd2eb51",
   "metadata": {},
   "outputs": [],
   "source": [
    "df_train=pd.read_csv('Train_Set_90621.csv')\n",
    "df_test=pd.read_csv('Test_Set_90621.csv')"
   ]
  },
  {
   "cell_type": "code",
   "execution_count": 3,
   "id": "8c621d98",
   "metadata": {},
   "outputs": [
    {
     "name": "stdout",
     "output_type": "stream",
     "text": [
      "(195118, 29)\n",
      "(83623, 28)\n"
     ]
    }
   ],
   "source": [
    "print(df_train.shape)\n",
    "print(df_test.shape)"
   ]
  },
  {
   "cell_type": "code",
   "execution_count": 58,
   "id": "69445718",
   "metadata": {},
   "outputs": [],
   "source": [
    "df_train.columns=df_train.columns.str.strip()\n",
    "df_train.columns = df_train.columns.str.replace(\" \" ,\"_\")\n",
    "df_test.columns=df_test.columns.str.strip()\n",
    "df_test.columns = df_test.columns.str.replace(\" \" ,\"_\")"
   ]
  },
  {
   "cell_type": "code",
   "execution_count": 86,
   "id": "3713e0a0",
   "metadata": {},
   "outputs": [
    {
     "data": {
      "text/plain": [
       "Application_ID                      0\n",
       "Bank_Masked                        80\n",
       "Bank_Type                          80\n",
       "Approved_Timestamp                426\n",
       "Name_Masked                         1\n",
       "Business_Owner_State                3\n",
       "Business_Industry_Type_Code         0\n",
       "Approved_Year                       0\n",
       "New_Business                       36\n",
       "Term                                0\n",
       "BankState                          81\n",
       "Interest_Rate                       0\n",
       "Employees                           0\n",
       "Gross_Disbursed_Amount              0\n",
       "Term_years                          0\n",
       "Jobs_Retained                       0\n",
       "Male_to_Female_Employees_Ratio      0\n",
       "Expected_Company_Income             3\n",
       "Funds_available_with_company        0\n",
       "Gross_Apprv_Amount                  0\n",
       "Company_Branch_Code                 0\n",
       "City_or_Rural                       0\n",
       "Jobs_Generated                      0\n",
       "Carry-forward_Credit              978\n",
       "Documents_Provided                552\n",
       "Balance_Left                        0\n",
       "Amount_Defaulted                    0\n",
       "Final_Appved_Amount                 0\n",
       "Default_Status                      0\n",
       "dtype: int64"
      ]
     },
     "execution_count": 86,
     "metadata": {},
     "output_type": "execute_result"
    }
   ],
   "source": [
    "df_train.isnull().sum()"
   ]
  },
  {
   "cell_type": "code",
   "execution_count": 5,
   "id": "5686ddd9",
   "metadata": {},
   "outputs": [
    {
     "data": {
      "text/html": [
       "<div>\n",
       "<style scoped>\n",
       "    .dataframe tbody tr th:only-of-type {\n",
       "        vertical-align: middle;\n",
       "    }\n",
       "\n",
       "    .dataframe tbody tr th {\n",
       "        vertical-align: top;\n",
       "    }\n",
       "\n",
       "    .dataframe thead th {\n",
       "        text-align: right;\n",
       "    }\n",
       "</style>\n",
       "<table border=\"1\" class=\"dataframe\">\n",
       "  <thead>\n",
       "    <tr style=\"text-align: right;\">\n",
       "      <th></th>\n",
       "      <th>Application_ID</th>\n",
       "      <th>Bank_Masked</th>\n",
       "      <th>Bank_Type</th>\n",
       "      <th>Approved_Timestamp</th>\n",
       "      <th>Name_Masked</th>\n",
       "      <th>Business_Owner_State</th>\n",
       "      <th>Business_Industry_Type_Code</th>\n",
       "      <th>Approved_Year</th>\n",
       "      <th>New_Business</th>\n",
       "      <th>Term</th>\n",
       "      <th>...</th>\n",
       "      <th>Gross_Apprv_Amount</th>\n",
       "      <th>Company_Branch_Code</th>\n",
       "      <th>City_or_Rural</th>\n",
       "      <th>Jobs_Generated</th>\n",
       "      <th>Carry-forward_Credit</th>\n",
       "      <th>Documents_Provided</th>\n",
       "      <th>Balance_Left</th>\n",
       "      <th>Amount_Defaulted</th>\n",
       "      <th>Final_Appved_Amount</th>\n",
       "      <th>Default_Status</th>\n",
       "    </tr>\n",
       "  </thead>\n",
       "  <tbody>\n",
       "    <tr>\n",
       "      <th>0</th>\n",
       "      <td>1020200001</td>\n",
       "      <td>Bank_Name_316</td>\n",
       "      <td>Private</td>\n",
       "      <td>12-10-2005</td>\n",
       "      <td>Business_Name_10007</td>\n",
       "      <td>Uttar Pradesh</td>\n",
       "      <td>525161</td>\n",
       "      <td>2005</td>\n",
       "      <td>1.0</td>\n",
       "      <td>219</td>\n",
       "      <td>...</td>\n",
       "      <td>18550000</td>\n",
       "      <td>25650</td>\n",
       "      <td>1</td>\n",
       "      <td>3</td>\n",
       "      <td>N</td>\n",
       "      <td>N</td>\n",
       "      <td>0</td>\n",
       "      <td>0</td>\n",
       "      <td>13912500</td>\n",
       "      <td>0</td>\n",
       "    </tr>\n",
       "    <tr>\n",
       "      <th>1</th>\n",
       "      <td>1020200002</td>\n",
       "      <td>Bank_Name_1062</td>\n",
       "      <td>Govt</td>\n",
       "      <td>21-11-2006</td>\n",
       "      <td>Business_Name_130906</td>\n",
       "      <td>Uttar Pradesh</td>\n",
       "      <td>1231</td>\n",
       "      <td>2006</td>\n",
       "      <td>1.0</td>\n",
       "      <td>71</td>\n",
       "      <td>...</td>\n",
       "      <td>2450000</td>\n",
       "      <td>0</td>\n",
       "      <td>1</td>\n",
       "      <td>0</td>\n",
       "      <td>Y</td>\n",
       "      <td>N</td>\n",
       "      <td>0</td>\n",
       "      <td>2369500</td>\n",
       "      <td>1225000</td>\n",
       "      <td>1</td>\n",
       "    </tr>\n",
       "    <tr>\n",
       "      <th>2</th>\n",
       "      <td>1020200003</td>\n",
       "      <td>Bank_Name_39</td>\n",
       "      <td>Private</td>\n",
       "      <td>28-11-2007</td>\n",
       "      <td>Business_Name_105953</td>\n",
       "      <td>Uttar Pradesh</td>\n",
       "      <td>322442</td>\n",
       "      <td>2007</td>\n",
       "      <td>2.0</td>\n",
       "      <td>84</td>\n",
       "      <td>...</td>\n",
       "      <td>1750000</td>\n",
       "      <td>0</td>\n",
       "      <td>2</td>\n",
       "      <td>2</td>\n",
       "      <td>Y</td>\n",
       "      <td>N</td>\n",
       "      <td>0</td>\n",
       "      <td>0</td>\n",
       "      <td>1487500</td>\n",
       "      <td>0</td>\n",
       "    </tr>\n",
       "    <tr>\n",
       "      <th>3</th>\n",
       "      <td>1020200004</td>\n",
       "      <td>Bank_Name_3</td>\n",
       "      <td>Govt</td>\n",
       "      <td>18-04-2009</td>\n",
       "      <td>Business_Name_103197</td>\n",
       "      <td>Kerala</td>\n",
       "      <td>1231</td>\n",
       "      <td>2009</td>\n",
       "      <td>1.0</td>\n",
       "      <td>300</td>\n",
       "      <td>...</td>\n",
       "      <td>38850000</td>\n",
       "      <td>1</td>\n",
       "      <td>1</td>\n",
       "      <td>0</td>\n",
       "      <td>N</td>\n",
       "      <td>N</td>\n",
       "      <td>0</td>\n",
       "      <td>0</td>\n",
       "      <td>29137500</td>\n",
       "      <td>0</td>\n",
       "    </tr>\n",
       "    <tr>\n",
       "      <th>4</th>\n",
       "      <td>1020200005</td>\n",
       "      <td>Bank_Name_126</td>\n",
       "      <td>Govt</td>\n",
       "      <td>23-11-2002</td>\n",
       "      <td>Business_Name_118932</td>\n",
       "      <td>Delhi</td>\n",
       "      <td>1231</td>\n",
       "      <td>2002</td>\n",
       "      <td>2.0</td>\n",
       "      <td>153</td>\n",
       "      <td>...</td>\n",
       "      <td>2800000</td>\n",
       "      <td>1</td>\n",
       "      <td>2</td>\n",
       "      <td>0</td>\n",
       "      <td>N</td>\n",
       "      <td>Y</td>\n",
       "      <td>0</td>\n",
       "      <td>0</td>\n",
       "      <td>2380000</td>\n",
       "      <td>0</td>\n",
       "    </tr>\n",
       "  </tbody>\n",
       "</table>\n",
       "<p>5 rows × 29 columns</p>\n",
       "</div>"
      ],
      "text/plain": [
       "   Application_ID     Bank_Masked Bank_Type Approved_Timestamp  \\\n",
       "0      1020200001   Bank_Name_316   Private         12-10-2005   \n",
       "1      1020200002  Bank_Name_1062      Govt         21-11-2006   \n",
       "2      1020200003    Bank_Name_39   Private         28-11-2007   \n",
       "3      1020200004     Bank_Name_3      Govt         18-04-2009   \n",
       "4      1020200005   Bank_Name_126      Govt         23-11-2002   \n",
       "\n",
       "            Name_Masked Business_Owner_State  Business_Industry_Type_Code  \\\n",
       "0   Business_Name_10007        Uttar Pradesh                       525161   \n",
       "1  Business_Name_130906        Uttar Pradesh                         1231   \n",
       "2  Business_Name_105953        Uttar Pradesh                       322442   \n",
       "3  Business_Name_103197               Kerala                         1231   \n",
       "4  Business_Name_118932                Delhi                         1231   \n",
       "\n",
       "   Approved_Year  New_Business  Term  ... Gross_Apprv_Amount  \\\n",
       "0           2005           1.0   219  ...           18550000   \n",
       "1           2006           1.0    71  ...            2450000   \n",
       "2           2007           2.0    84  ...            1750000   \n",
       "3           2009           1.0   300  ...           38850000   \n",
       "4           2002           2.0   153  ...            2800000   \n",
       "\n",
       "   Company_Branch_Code  City_or_Rural  Jobs_Generated  Carry-forward_Credit  \\\n",
       "0                25650              1               3                     N   \n",
       "1                    0              1               0                     Y   \n",
       "2                    0              2               2                     Y   \n",
       "3                    1              1               0                     N   \n",
       "4                    1              2               0                     N   \n",
       "\n",
       "   Documents_Provided  Balance_Left  Amount_Defaulted  Final_Appved_Amount  \\\n",
       "0                   N             0                 0             13912500   \n",
       "1                   N             0           2369500              1225000   \n",
       "2                   N             0                 0              1487500   \n",
       "3                   N             0                 0             29137500   \n",
       "4                   Y             0                 0              2380000   \n",
       "\n",
       "   Default_Status  \n",
       "0               0  \n",
       "1               1  \n",
       "2               0  \n",
       "3               0  \n",
       "4               0  \n",
       "\n",
       "[5 rows x 29 columns]"
      ]
     },
     "execution_count": 5,
     "metadata": {},
     "output_type": "execute_result"
    }
   ],
   "source": [
    "df_train.head()"
   ]
  },
  {
   "cell_type": "code",
   "execution_count": 59,
   "id": "b49a9e69",
   "metadata": {},
   "outputs": [
    {
     "name": "stderr",
     "output_type": "stream",
     "text": [
      "<ipython-input-59-2cd0638cfc13>:1: DeprecationWarning: `np.object` is a deprecated alias for the builtin `object`. To silence this warning, use `object` by itself. Doing this will not modify any behavior and is safe. \n",
      "Deprecated in NumPy 1.20; for more details and guidance: https://numpy.org/devdocs/release/1.20.0-notes.html#deprecations\n",
      "  df_train_ob=df_train.select_dtypes(include=[np.object])\n"
     ]
    }
   ],
   "source": [
    "df_train_ob=df_train.select_dtypes(include=[np.object])\n",
    "df_train_num=df_train.select_dtypes(include=[np.int64])"
   ]
  },
  {
   "cell_type": "code",
   "execution_count": 22,
   "id": "57138846",
   "metadata": {},
   "outputs": [
    {
     "data": {
      "text/plain": [
       "N    170021\n",
       "Y     24545\n",
       "Name: Documents_Provided, dtype: int64"
      ]
     },
     "execution_count": 22,
     "metadata": {},
     "output_type": "execute_result"
    }
   ],
   "source": [
    "df_train_ob['Documents_Provided'].value_counts()"
   ]
  },
  {
   "cell_type": "code",
   "execution_count": 60,
   "id": "d3abe3b8",
   "metadata": {},
   "outputs": [],
   "source": [
    "drop_cols=['Bank_Masked','Approved_Timestamp','Name_Masked','Business_Owner_State','BankState','Carry-forward_Credit']"
   ]
  },
  {
   "cell_type": "code",
   "execution_count": 61,
   "id": "ca76e051",
   "metadata": {},
   "outputs": [],
   "source": [
    "df_train_ob=df_train_ob.drop(drop_cols,axis=1)"
   ]
  },
  {
   "cell_type": "code",
   "execution_count": 62,
   "id": "f81c1be7",
   "metadata": {},
   "outputs": [],
   "source": [
    "df_train_cat = pd.get_dummies(df_train_ob, drop_first=True)"
   ]
  },
  {
   "cell_type": "code",
   "execution_count": 63,
   "id": "29300ee8",
   "metadata": {},
   "outputs": [],
   "source": [
    "train_in_cols=pd.concat([df_train_num,df_train_cat],axis=1)"
   ]
  },
  {
   "cell_type": "code",
   "execution_count": 64,
   "id": "d160d93a",
   "metadata": {},
   "outputs": [],
   "source": [
    "train_in_cols=train_in_cols.drop(['Default_Status','Application_ID'],axis=1)\n",
    "train_target_cols=df_train['Default_Status']"
   ]
  },
  {
   "cell_type": "code",
   "execution_count": 85,
   "id": "54780df6",
   "metadata": {},
   "outputs": [
    {
     "data": {
      "text/plain": [
       "Business_Industry_Type_Code       0\n",
       "Approved_Year                     0\n",
       "Term                              0\n",
       "Interest_Rate                     0\n",
       "Employees                         0\n",
       "Gross_Disbursed_Amount            0\n",
       "Term_years                        0\n",
       "Jobs_Retained                     0\n",
       "Male_to_Female_Employees_Ratio    0\n",
       "Funds_available_with_company      0\n",
       "Gross_Apprv_Amount                0\n",
       "Company_Branch_Code               0\n",
       "City_or_Rural                     0\n",
       "Jobs_Generated                    0\n",
       "Balance_Left                      0\n",
       "Amount_Defaulted                  0\n",
       "Final_Appved_Amount               0\n",
       "Bank_Type_Private                 0\n",
       "Documents_Provided_Y              0\n",
       "dtype: int64"
      ]
     },
     "execution_count": 85,
     "metadata": {},
     "output_type": "execute_result"
    }
   ],
   "source": [
    "train_in_cols.isnull().sum()"
   ]
  },
  {
   "cell_type": "code",
   "execution_count": 87,
   "id": "e9bbc251",
   "metadata": {},
   "outputs": [
    {
     "data": {
      "text/plain": [
       "0    170573\n",
       "1     24545\n",
       "Name: Documents_Provided_Y, dtype: int64"
      ]
     },
     "execution_count": 87,
     "metadata": {},
     "output_type": "execute_result"
    }
   ],
   "source": [
    "train_in_cols['Documents_Provided_Y'].value_counts()"
   ]
  },
  {
   "cell_type": "code",
   "execution_count": 73,
   "id": "a3bbf431",
   "metadata": {},
   "outputs": [],
   "source": [
    "from sklearn.preprocessing import StandardScaler\n",
    "standard=StandardScaler()\n",
    "input_st=standard.fit_transform(train_in_cols)\n",
    "input_st=pd.DataFrame(data=input_st,columns=train_in_cols.columns)"
   ]
  },
  {
   "cell_type": "code",
   "execution_count": 77,
   "id": "5303301a",
   "metadata": {},
   "outputs": [
    {
     "data": {
      "text/plain": [
       "((136582, 19), (58536, 19), (136582,), (58536,))"
      ]
     },
     "execution_count": 77,
     "metadata": {},
     "output_type": "execute_result"
    }
   ],
   "source": [
    "x_train,x_test,y_train,y_test=train_test_split(input_st,train_target_cols,test_size=0.3,random_state=1)\n",
    "x_train.shape,x_test.shape,y_train.shape,y_test.shape"
   ]
  },
  {
   "cell_type": "code",
   "execution_count": 81,
   "id": "5a655d33",
   "metadata": {},
   "outputs": [
    {
     "name": "stdout",
     "output_type": "stream",
     "text": [
      "Root Mean Squared Error: 0.4953\n",
      "r-squared :  0.5949389929864912\n",
      "r-squared :  0.5953295095374649\n"
     ]
    }
   ],
   "source": [
    "dt_model=DecisionTreeRegressor(max_depth=5,random_state=1).fit(x_train,y_train)\n",
    "validate_y_pred=dt_model.predict(x_test)\n",
    "rmse=mean_squared_error(y_test,validate_y_pred,squared=False)\n",
    "print('Root Mean Squared Error:',round(np.sqrt(rmse), 4))\n",
    "r2_value_rfe = dt_model.score(x_train, y_train)\n",
    "print('r-squared : ', r2_value_rfe)\n",
    "r2_value_rfe_test = dt_model.score(x_test, y_test)\n",
    "print('r-squared : ', r2_value_rfe_test)"
   ]
  },
  {
   "cell_type": "code",
   "execution_count": 83,
   "id": "0b0c5129",
   "metadata": {},
   "outputs": [
    {
     "name": "stdout",
     "output_type": "stream",
     "text": [
      "Root Mean Squared Error: 0.4947\n",
      "r-squared :  0.5965054343865893\n",
      "r-squared :  0.5969997192031772\n"
     ]
    }
   ],
   "source": [
    "rf_model=RandomForestRegressor(max_depth=5,random_state=1).fit(x_train,y_train)\n",
    "validate_y_pred=rf_model.predict(x_test)\n",
    "rmse=mean_squared_error(y_test,validate_y_pred,squared=False)\n",
    "print('Root Mean Squared Error:',round(np.sqrt(rmse), 4))\n",
    "r2_value_rfe = rf_model.score(x_train, y_train)\n",
    "print('r-squared : ', r2_value_rfe)\n",
    "r2_value_rfe_test = rf_model.score(x_test, y_test)\n",
    "print('r-squared : ', r2_value_rfe_test)"
   ]
  }
 ],
 "metadata": {
  "kernelspec": {
   "display_name": "Python 3",
   "language": "python",
   "name": "python3"
  },
  "language_info": {
   "codemirror_mode": {
    "name": "ipython",
    "version": 3
   },
   "file_extension": ".py",
   "mimetype": "text/x-python",
   "name": "python",
   "nbconvert_exporter": "python",
   "pygments_lexer": "ipython3",
   "version": "3.8.8"
  }
 },
 "nbformat": 4,
 "nbformat_minor": 5
}
