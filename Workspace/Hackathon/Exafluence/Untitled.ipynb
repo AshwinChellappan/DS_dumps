{
 "cells": [
  {
   "cell_type": "code",
   "execution_count": 1,
   "metadata": {},
   "outputs": [],
   "source": [
    "import numpy as np\n",
    "import pandas as pd\n",
    "import matplotlib.pyplot as plt\n",
    "import seaborn as sns"
   ]
  },
  {
   "cell_type": "code",
   "execution_count": 2,
   "metadata": {},
   "outputs": [],
   "source": [
    "df=pd.read_csv('Test_Set_90621.csv')"
   ]
  },
  {
   "cell_type": "code",
   "execution_count": 3,
   "metadata": {},
   "outputs": [
    {
     "data": {
      "text/html": [
       "<div>\n",
       "<style scoped>\n",
       "    .dataframe tbody tr th:only-of-type {\n",
       "        vertical-align: middle;\n",
       "    }\n",
       "\n",
       "    .dataframe tbody tr th {\n",
       "        vertical-align: top;\n",
       "    }\n",
       "\n",
       "    .dataframe thead th {\n",
       "        text-align: right;\n",
       "    }\n",
       "</style>\n",
       "<table border=\"1\" class=\"dataframe\">\n",
       "  <thead>\n",
       "    <tr style=\"text-align: right;\">\n",
       "      <th></th>\n",
       "      <th>Application ID</th>\n",
       "      <th>Bank Masked</th>\n",
       "      <th>Bank Type</th>\n",
       "      <th>Approved_Timestamp</th>\n",
       "      <th>Name Masked</th>\n",
       "      <th>Business Owner State</th>\n",
       "      <th>Business_Industry_Type_Code</th>\n",
       "      <th>Approved_Year</th>\n",
       "      <th>New Business</th>\n",
       "      <th>Term</th>\n",
       "      <th>...</th>\n",
       "      <th>Funds available with company</th>\n",
       "      <th>Gross_Apprv_Amount</th>\n",
       "      <th>Company Branch Code</th>\n",
       "      <th>City or Rural</th>\n",
       "      <th>Jobs Generated</th>\n",
       "      <th>Carry-forward Credit</th>\n",
       "      <th>Documents Provided</th>\n",
       "      <th>Balance Left</th>\n",
       "      <th>Amount Defaulted</th>\n",
       "      <th>Final_Appved_Amount</th>\n",
       "    </tr>\n",
       "  </thead>\n",
       "  <tbody>\n",
       "    <tr>\n",
       "      <th>0</th>\n",
       "      <td>20210600001</td>\n",
       "      <td>Bank_Name_17</td>\n",
       "      <td>Private</td>\n",
       "      <td>16-12-2003</td>\n",
       "      <td>Business_Name_113587</td>\n",
       "      <td>Maharashtra</td>\n",
       "      <td>562961</td>\n",
       "      <td>2003</td>\n",
       "      <td>2.0</td>\n",
       "      <td>240</td>\n",
       "      <td>...</td>\n",
       "      <td>650447</td>\n",
       "      <td>30100000</td>\n",
       "      <td>1</td>\n",
       "      <td>0</td>\n",
       "      <td>15</td>\n",
       "      <td>N</td>\n",
       "      <td>N</td>\n",
       "      <td>0</td>\n",
       "      <td>0</td>\n",
       "      <td>30100000</td>\n",
       "    </tr>\n",
       "    <tr>\n",
       "      <th>1</th>\n",
       "      <td>20210600002</td>\n",
       "      <td>Bank_Number_2123</td>\n",
       "      <td>Govt</td>\n",
       "      <td>23-07-2010</td>\n",
       "      <td>Business_Name_22345</td>\n",
       "      <td>Delhi</td>\n",
       "      <td>1230</td>\n",
       "      <td>2010</td>\n",
       "      <td>1.0</td>\n",
       "      <td>87</td>\n",
       "      <td>...</td>\n",
       "      <td>1762036</td>\n",
       "      <td>7000000</td>\n",
       "      <td>30811</td>\n",
       "      <td>0</td>\n",
       "      <td>0</td>\n",
       "      <td>N</td>\n",
       "      <td>Y</td>\n",
       "      <td>0</td>\n",
       "      <td>0</td>\n",
       "      <td>6300000</td>\n",
       "    </tr>\n",
       "    <tr>\n",
       "      <th>2</th>\n",
       "      <td>20210600003</td>\n",
       "      <td>Bank_Number_581</td>\n",
       "      <td>Private</td>\n",
       "      <td>20-07-2012</td>\n",
       "      <td>Business_Name_31551</td>\n",
       "      <td>Maharashtra</td>\n",
       "      <td>612749</td>\n",
       "      <td>2012</td>\n",
       "      <td>1.0</td>\n",
       "      <td>84</td>\n",
       "      <td>...</td>\n",
       "      <td>127229</td>\n",
       "      <td>1680000</td>\n",
       "      <td>0</td>\n",
       "      <td>1</td>\n",
       "      <td>0</td>\n",
       "      <td>Y</td>\n",
       "      <td>N</td>\n",
       "      <td>0</td>\n",
       "      <td>0</td>\n",
       "      <td>840000</td>\n",
       "    </tr>\n",
       "    <tr>\n",
       "      <th>3</th>\n",
       "      <td>20210600004</td>\n",
       "      <td>Bank_Number_61</td>\n",
       "      <td>Private</td>\n",
       "      <td>01-04-2010</td>\n",
       "      <td>Business_Name_62545</td>\n",
       "      <td>Uttar Pradesh</td>\n",
       "      <td>237160</td>\n",
       "      <td>2010</td>\n",
       "      <td>1.0</td>\n",
       "      <td>93</td>\n",
       "      <td>...</td>\n",
       "      <td>317054</td>\n",
       "      <td>6230000</td>\n",
       "      <td>78760</td>\n",
       "      <td>0</td>\n",
       "      <td>0</td>\n",
       "      <td>N</td>\n",
       "      <td>N</td>\n",
       "      <td>0</td>\n",
       "      <td>0</td>\n",
       "      <td>5607000</td>\n",
       "    </tr>\n",
       "    <tr>\n",
       "      <th>4</th>\n",
       "      <td>20210600005</td>\n",
       "      <td>Bank_Name_5452</td>\n",
       "      <td>Private</td>\n",
       "      <td>26-07-2004</td>\n",
       "      <td>Business_Name_139383</td>\n",
       "      <td>Haryana</td>\n",
       "      <td>444351</td>\n",
       "      <td>2004</td>\n",
       "      <td>1.0</td>\n",
       "      <td>240</td>\n",
       "      <td>...</td>\n",
       "      <td>1803649</td>\n",
       "      <td>41930000</td>\n",
       "      <td>1</td>\n",
       "      <td>0</td>\n",
       "      <td>4</td>\n",
       "      <td>N</td>\n",
       "      <td>N</td>\n",
       "      <td>0</td>\n",
       "      <td>0</td>\n",
       "      <td>41930000</td>\n",
       "    </tr>\n",
       "  </tbody>\n",
       "</table>\n",
       "<p>5 rows × 28 columns</p>\n",
       "</div>"
      ],
      "text/plain": [
       "   Application ID       Bank Masked Bank Type Approved_Timestamp  \\\n",
       "0     20210600001      Bank_Name_17   Private         16-12-2003   \n",
       "1     20210600002  Bank_Number_2123      Govt         23-07-2010   \n",
       "2     20210600003   Bank_Number_581   Private         20-07-2012   \n",
       "3     20210600004    Bank_Number_61   Private         01-04-2010   \n",
       "4     20210600005    Bank_Name_5452   Private         26-07-2004   \n",
       "\n",
       "            Name Masked Business Owner State  Business_Industry_Type_Code  \\\n",
       "0  Business_Name_113587          Maharashtra                       562961   \n",
       "1   Business_Name_22345                Delhi                         1230   \n",
       "2   Business_Name_31551          Maharashtra                       612749   \n",
       "3   Business_Name_62545        Uttar Pradesh                       237160   \n",
       "4  Business_Name_139383              Haryana                       444351   \n",
       "\n",
       "   Approved_Year  New Business  Term  ... Funds available with company  \\\n",
       "0           2003           2.0   240  ...                       650447   \n",
       "1           2010           1.0    87  ...                      1762036   \n",
       "2           2012           1.0    84  ...                       127229   \n",
       "3           2010           1.0    93  ...                       317054   \n",
       "4           2004           1.0   240  ...                      1803649   \n",
       "\n",
       "   Gross_Apprv_Amount  Company Branch Code  City or Rural  Jobs Generated  \\\n",
       "0            30100000                    1              0              15   \n",
       "1             7000000                30811              0               0   \n",
       "2             1680000                    0              1               0   \n",
       "3             6230000                78760              0               0   \n",
       "4            41930000                    1              0               4   \n",
       "\n",
       "   Carry-forward Credit  Documents Provided  Balance Left  Amount Defaulted  \\\n",
       "0                     N                   N             0                 0   \n",
       "1                     N                   Y             0                 0   \n",
       "2                     Y                   N             0                 0   \n",
       "3                     N                   N             0                 0   \n",
       "4                     N                   N             0                 0   \n",
       "\n",
       "   Final_Appved_Amount  \n",
       "0             30100000  \n",
       "1              6300000  \n",
       "2               840000  \n",
       "3              5607000  \n",
       "4             41930000  \n",
       "\n",
       "[5 rows x 28 columns]"
      ]
     },
     "execution_count": 3,
     "metadata": {},
     "output_type": "execute_result"
    }
   ],
   "source": [
    "df.head()"
   ]
  },
  {
   "cell_type": "code",
   "execution_count": 5,
   "metadata": {},
   "outputs": [
    {
     "data": {
      "text/plain": [
       "(83623, 28)"
      ]
     },
     "execution_count": 5,
     "metadata": {},
     "output_type": "execute_result"
    }
   ],
   "source": [
    "df.shape"
   ]
  },
  {
   "cell_type": "code",
   "execution_count": 7,
   "metadata": {},
   "outputs": [
    {
     "data": {
      "text/plain": [
       "Application ID                      0\n",
       "Bank Masked                        48\n",
       "Bank Type                          48\n",
       "Approved_Timestamp                174\n",
       "Name Masked                         0\n",
       "Business Owner State                0\n",
       "Business_Industry_Type_Code         0\n",
       "Approved_Year                       0\n",
       "New Business                       15\n",
       "Term                                0\n",
       "BankState                          48\n",
       "Interest Rate                       0\n",
       "Employees                           0\n",
       "Gross Disbursed Amount              0\n",
       "Term_years                          0\n",
       "Jobs Retained                       0\n",
       "Male to Female Employees Ratio      0\n",
       "Expected Company Income             0\n",
       "Funds available with company        0\n",
       "Gross_Apprv_Amount                  0\n",
       "Company Branch Code                 0\n",
       "City or Rural                       0\n",
       "Jobs Generated                      0\n",
       "Carry-forward Credit              412\n",
       "Documents Provided                247\n",
       "Balance Left                        0\n",
       "Amount Defaulted                    0\n",
       "Final_Appved_Amount                 0\n",
       "dtype: int64"
      ]
     },
     "execution_count": 7,
     "metadata": {},
     "output_type": "execute_result"
    }
   ],
   "source": [
    "df.isnull().sum()"
   ]
  },
  {
   "cell_type": "code",
   "execution_count": 8,
   "metadata": {},
   "outputs": [],
   "source": [
    "df.dropna(inplace=True)"
   ]
  },
  {
   "cell_type": "code",
   "execution_count": 9,
   "metadata": {},
   "outputs": [
    {
     "data": {
      "text/plain": [
       "Application ID                      int64\n",
       "Bank Masked                        object\n",
       "Bank Type                          object\n",
       "Approved_Timestamp                 object\n",
       "Name Masked                        object\n",
       "Business Owner State               object\n",
       "Business_Industry_Type_Code         int64\n",
       "Approved_Year                       int64\n",
       "New Business                      float64\n",
       "Term                                int64\n",
       "BankState                          object\n",
       "Interest Rate                       int64\n",
       "Employees                           int64\n",
       "Gross Disbursed Amount              int64\n",
       "Term_years                          int64\n",
       "Jobs Retained                       int64\n",
       "Male to Female Employees Ratio      int64\n",
       "Expected Company Income             int64\n",
       "Funds available with company        int64\n",
       "Gross_Apprv_Amount                  int64\n",
       "Company Branch Code                 int64\n",
       "City or Rural                       int64\n",
       "Jobs Generated                      int64\n",
       "Carry-forward Credit               object\n",
       "Documents Provided                 object\n",
       "Balance Left                        int64\n",
       "Amount Defaulted                    int64\n",
       "Final_Appved_Amount                 int64\n",
       "dtype: object"
      ]
     },
     "execution_count": 9,
     "metadata": {},
     "output_type": "execute_result"
    }
   ],
   "source": [
    "df.dtypes"
   ]
  },
  {
   "cell_type": "code",
   "execution_count": 13,
   "metadata": {},
   "outputs": [],
   "source": [
    "Q1=df.quantile(0.25)\n",
    "Q3=df.quantile(0.75)\n",
    "IQR=Q3-Q1\n",
    "df = df[~((df < (Q1 - 1.5 * IQR)) |(df > (Q3 + 1.5 * IQR))).any(axis=1)]"
   ]
  },
  {
   "cell_type": "code",
   "execution_count": 14,
   "metadata": {},
   "outputs": [
    {
     "data": {
      "text/plain": [
       "(25312, 28)"
      ]
     },
     "execution_count": 14,
     "metadata": {},
     "output_type": "execute_result"
    }
   ],
   "source": [
    "df.shape"
   ]
  },
  {
   "cell_type": "code",
   "execution_count": 15,
   "metadata": {},
   "outputs": [],
   "source": [
    "df_train=df.drop(columns=['Application ID','Bank Masked','Name Masked','Approved_Timestamp'],axis=1)"
   ]
  },
  {
   "cell_type": "code",
   "execution_count": 16,
   "metadata": {},
   "outputs": [],
   "source": [
    "df_cat_train=df_train.select_dtypes('object')"
   ]
  },
  {
   "cell_type": "code",
   "execution_count": 17,
   "metadata": {},
   "outputs": [],
   "source": [
    "df_cat_train=df_cat_train.drop(columns=['Business Owner State','BankState'],axis=0)"
   ]
  },
  {
   "cell_type": "code",
   "execution_count": 18,
   "metadata": {},
   "outputs": [],
   "source": [
    "df_cat_train_x1 = pd.get_dummies(df_cat_train, drop_first=True)"
   ]
  },
  {
   "cell_type": "code",
   "execution_count": 19,
   "metadata": {},
   "outputs": [],
   "source": [
    "from sklearn.preprocessing import LabelEncoder\n",
    "le = LabelEncoder()"
   ]
  },
  {
   "cell_type": "code",
   "execution_count": 20,
   "metadata": {},
   "outputs": [],
   "source": [
    "df_train['Business Owner State']=le.fit_transform(df_train['Business Owner State'])\n",
    "df_train['BankState']=le.fit_transform(df_train['BankState'])"
   ]
  }
 ],
 "metadata": {
  "kernelspec": {
   "display_name": "Python 3",
   "language": "python",
   "name": "python3"
  },
  "language_info": {
   "codemirror_mode": {
    "name": "ipython",
    "version": 3
   },
   "file_extension": ".py",
   "mimetype": "text/x-python",
   "name": "python",
   "nbconvert_exporter": "python",
   "pygments_lexer": "ipython3",
   "version": "3.8.8"
  }
 },
 "nbformat": 4,
 "nbformat_minor": 4
}
