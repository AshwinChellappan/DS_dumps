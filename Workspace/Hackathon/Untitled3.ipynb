{
 "cells": [
  {
   "cell_type": "code",
   "execution_count": null,
   "metadata": {},
   "outputs": [],
   "source": [
    "pip install auto-sklearn"
   ]
  },
  {
   "cell_type": "code",
   "execution_count": null,
   "metadata": {},
   "outputs": [],
   "source": [
    "pip install mlxtend"
   ]
  },
  {
   "cell_type": "code",
   "execution_count": 1,
   "metadata": {},
   "outputs": [
    {
     "name": "stdout",
     "output_type": "stream",
     "text": [
      "Collecting featuretools\n",
      "  Downloading featuretools-0.24.0-py3-none-any.whl (297 kB)\n",
      "Requirement already satisfied: scipy>=0.13.3 in c:\\users\\as20188795\\anaconda3\\lib\\site-packages (from featuretools) (1.5.2)\n",
      "Requirement already satisfied: click>=7.0.0 in c:\\users\\as20188795\\anaconda3\\lib\\site-packages (from featuretools) (7.1.2)\n",
      "Requirement already satisfied: pandas!=1.1.0,!=1.1.1,<2.0.0,>=0.24.1 in c:\\users\\as20188795\\anaconda3\\lib\\site-packages (from featuretools) (1.1.3)\n",
      "Requirement already satisfied: tqdm>=4.32.0 in c:\\users\\as20188795\\anaconda3\\lib\\site-packages (from featuretools) (4.50.2)\n",
      "Requirement already satisfied: dask[dataframe]>=2.12.0 in c:\\users\\as20188795\\anaconda3\\lib\\site-packages (from featuretools) (2.30.0)\n",
      "Requirement already satisfied: cloudpickle>=0.4.0 in c:\\users\\as20188795\\anaconda3\\lib\\site-packages (from featuretools) (1.6.0)\n",
      "Requirement already satisfied: pyyaml>=3.12 in c:\\users\\as20188795\\anaconda3\\lib\\site-packages (from featuretools) (5.3.1)\n",
      "Requirement already satisfied: numpy>=1.13.3 in c:\\users\\as20188795\\anaconda3\\lib\\site-packages (from featuretools) (1.19.2)\n",
      "Requirement already satisfied: psutil>=5.4.8 in c:\\users\\as20188795\\anaconda3\\lib\\site-packages (from featuretools) (5.7.2)\n",
      "Requirement already satisfied: distributed>=2.12.0 in c:\\users\\as20188795\\anaconda3\\lib\\site-packages (from featuretools) (2.30.1)\n",
      "Requirement already satisfied: pytz>=2017.2 in c:\\users\\as20188795\\anaconda3\\lib\\site-packages (from pandas!=1.1.0,!=1.1.1,<2.0.0,>=0.24.1->featuretools) (2020.1)\n",
      "Requirement already satisfied: python-dateutil>=2.7.3 in c:\\users\\as20188795\\anaconda3\\lib\\site-packages (from pandas!=1.1.0,!=1.1.1,<2.0.0,>=0.24.1->featuretools) (2.8.1)\n",
      "Requirement already satisfied: partd>=0.3.10; extra == \"dataframe\" in c:\\users\\as20188795\\anaconda3\\lib\\site-packages (from dask[dataframe]>=2.12.0->featuretools) (1.1.0)\n",
      "Requirement already satisfied: fsspec>=0.6.0; extra == \"dataframe\" in c:\\users\\as20188795\\anaconda3\\lib\\site-packages (from dask[dataframe]>=2.12.0->featuretools) (0.8.3)\n",
      "Requirement already satisfied: toolz>=0.8.2; extra == \"dataframe\" in c:\\users\\as20188795\\anaconda3\\lib\\site-packages (from dask[dataframe]>=2.12.0->featuretools) (0.11.1)\n",
      "Requirement already satisfied: msgpack>=0.6.0 in c:\\users\\as20188795\\anaconda3\\lib\\site-packages (from distributed>=2.12.0->featuretools) (1.0.0)\n",
      "Requirement already satisfied: tblib>=1.6.0 in c:\\users\\as20188795\\anaconda3\\lib\\site-packages (from distributed>=2.12.0->featuretools) (1.7.0)\n",
      "Requirement already satisfied: tornado>=6.0.3; python_version >= \"3.8\" in c:\\users\\as20188795\\anaconda3\\lib\\site-packages (from distributed>=2.12.0->featuretools) (6.0.4)\n",
      "Requirement already satisfied: setuptools in c:\\users\\as20188795\\anaconda3\\lib\\site-packages (from distributed>=2.12.0->featuretools) (50.3.1.post20201107)\n",
      "Requirement already satisfied: sortedcontainers!=2.0.0,!=2.0.1 in c:\\users\\as20188795\\anaconda3\\lib\\site-packages (from distributed>=2.12.0->featuretools) (2.2.2)\n",
      "Requirement already satisfied: zict>=0.1.3 in c:\\users\\as20188795\\anaconda3\\lib\\site-packages (from distributed>=2.12.0->featuretools) (2.0.0)\n",
      "Requirement already satisfied: six>=1.5 in c:\\users\\as20188795\\anaconda3\\lib\\site-packages (from python-dateutil>=2.7.3->pandas!=1.1.0,!=1.1.1,<2.0.0,>=0.24.1->featuretools) (1.15.0)\n",
      "Requirement already satisfied: locket in c:\\users\\as20188795\\anaconda3\\lib\\site-packages (from partd>=0.3.10; extra == \"dataframe\"->dask[dataframe]>=2.12.0->featuretools) (0.2.0)\n",
      "Requirement already satisfied: heapdict in c:\\users\\as20188795\\anaconda3\\lib\\site-packages (from zict>=0.1.3->distributed>=2.12.0->featuretools) (1.0.1)\n",
      "Installing collected packages: featuretools\n",
      "Successfully installed featuretools-0.24.0\n",
      "Note: you may need to restart the kernel to use updated packages.\n"
     ]
    }
   ],
   "source": [
    "pip install featuretools"
   ]
  },
  {
   "cell_type": "code",
   "execution_count": 2,
   "metadata": {},
   "outputs": [],
   "source": [
    "import featuretools as ft"
   ]
  },
  {
   "cell_type": "code",
   "execution_count": 3,
   "metadata": {},
   "outputs": [],
   "source": []
  },
  {
   "cell_type": "code",
   "execution_count": 5,
   "metadata": {},
   "outputs": [
    {
     "name": "stdout",
     "output_type": "stream",
     "text": [
      "Collecting tensorflow\n",
      "  Downloading tensorflow-2.5.0-cp38-cp38-win_amd64.whl (422.6 MB)\n",
      "Collecting wrapt~=1.12.1\n",
      "  Downloading wrapt-1.12.1.tar.gz (27 kB)\n",
      "Requirement already satisfied: six~=1.15.0 in c:\\users\\as20188795\\anaconda3\\lib\\site-packages (from tensorflow) (1.15.0)\n",
      "Collecting termcolor~=1.1.0\n",
      "  Downloading termcolor-1.1.0.tar.gz (3.9 kB)\n",
      "Requirement already satisfied: typing-extensions~=3.7.4 in c:\\users\\as20188795\\anaconda3\\lib\\site-packages (from tensorflow) (3.7.4.3)\n",
      "Collecting absl-py~=0.10\n",
      "  Downloading absl_py-0.12.0-py3-none-any.whl (129 kB)\n",
      "Collecting google-pasta~=0.2\n",
      "  Downloading google_pasta-0.2.0-py3-none-any.whl (57 kB)\n",
      "Collecting opt-einsum~=3.3.0\n",
      "  Downloading opt_einsum-3.3.0-py3-none-any.whl (65 kB)\n",
      "Collecting keras-preprocessing~=1.1.2\n",
      "  Downloading Keras_Preprocessing-1.1.2-py2.py3-none-any.whl (42 kB)\n",
      "Collecting protobuf>=3.9.2\n",
      "  Downloading protobuf-3.17.0-py2.py3-none-any.whl (173 kB)\n",
      "Collecting flatbuffers~=1.12.0\n",
      "  Downloading flatbuffers-1.12-py2.py3-none-any.whl (15 kB)\n",
      "Collecting astunparse~=1.6.3\n",
      "  Downloading astunparse-1.6.3-py2.py3-none-any.whl (12 kB)\n",
      "Collecting tensorboard~=2.5\n",
      "  Downloading tensorboard-2.5.0-py3-none-any.whl (6.0 MB)\n",
      "Collecting keras-nightly~=2.5.0.dev\n",
      "  Downloading keras_nightly-2.5.0.dev2021032900-py2.py3-none-any.whl (1.2 MB)\n",
      "Requirement already satisfied: wheel~=0.35 in c:\\users\\as20188795\\anaconda3\\lib\\site-packages (from tensorflow) (0.35.1)\n",
      "Collecting tensorflow-estimator<2.6.0,>=2.5.0rc0\n",
      "  Downloading tensorflow_estimator-2.5.0-py2.py3-none-any.whl (462 kB)\n",
      "Collecting gast==0.4.0\n",
      "  Downloading gast-0.4.0-py3-none-any.whl (9.8 kB)\n",
      "Note: you may need to restart the kernel to use updated packages.Requirement already satisfied: numpy~=1.19.2 in c:\\users\\as20188795\\anaconda3\\lib\\site-packages (from tensorflow) (1.19.2)\n",
      "Collecting grpcio~=1.34.0\n",
      "  Downloading grpcio-1.34.1-cp38-cp38-win_amd64.whl (2.9 MB)\n",
      "Collecting h5py~=3.1.0\n",
      "  Downloading h5py-3.1.0-cp38-cp38-win_amd64.whl (2.7 MB)\n",
      "Collecting google-auth<2,>=1.6.3\n",
      "  Downloading google_auth-1.30.0-py2.py3-none-any.whl (146 kB)\n",
      "Collecting markdown>=2.6.8\n",
      "  Downloading Markdown-3.3.4-py3-none-any.whl (97 kB)\n",
      "Requirement already satisfied: requests<3,>=2.21.0 in c:\\users\\as20188795\\anaconda3\\lib\\site-packages (from tensorboard~=2.5->tensorflow) (2.24.0)\n",
      "Collecting tensorboard-data-server<0.7.0,>=0.6.0\n",
      "  Downloading tensorboard_data_server-0.6.1-py3-none-any.whl (2.4 kB)\n",
      "Collecting tensorboard-plugin-wit>=1.6.0\n",
      "  Downloading tensorboard_plugin_wit-1.8.0-py3-none-any.whl (781 kB)\n",
      "Requirement already satisfied: werkzeug>=0.11.15 in c:\\users\\as20188795\\anaconda3\\lib\\site-packages (from tensorboard~=2.5->tensorflow) (1.0.1)\n",
      "Collecting google-auth-oauthlib<0.5,>=0.4.1\n",
      "  Downloading google_auth_oauthlib-0.4.4-py2.py3-none-any.whl (18 kB)\n",
      "Requirement already satisfied: setuptools>=41.0.0 in c:\\users\\as20188795\\anaconda3\\lib\\site-packages (from tensorboard~=2.5->tensorflow) (50.3.1.post20201107)\n",
      "Collecting rsa<5,>=3.1.4; python_version >= \"3.6\"\n",
      "  Downloading rsa-4.7.2-py3-none-any.whl (34 kB)\n",
      "Collecting cachetools<5.0,>=2.0.0\n",
      "  Downloading cachetools-4.2.2-py3-none-any.whl (11 kB)\n",
      "Collecting pyasn1-modules>=0.2.1\n",
      "  Downloading pyasn1_modules-0.2.8-py2.py3-none-any.whl (155 kB)\n",
      "Requirement already satisfied: certifi>=2017.4.17 in c:\\users\\as20188795\\anaconda3\\lib\\site-packages (from requests<3,>=2.21.0->tensorboard~=2.5->tensorflow) (2020.6.20)\n",
      "Requirement already satisfied: idna<3,>=2.5 in c:\\users\\as20188795\\anaconda3\\lib\\site-packages (from requests<3,>=2.21.0->tensorboard~=2.5->tensorflow) (2.10)\n",
      "Requirement already satisfied: urllib3!=1.25.0,!=1.25.1,<1.26,>=1.21.1 in c:\\users\\as20188795\\anaconda3\\lib\\site-packages (from requests<3,>=2.21.0->tensorboard~=2.5->tensorflow) (1.25.11)\n",
      "Requirement already satisfied: chardet<4,>=3.0.2 in c:\\users\\as20188795\\anaconda3\\lib\\site-packages (from requests<3,>=2.21.0->tensorboard~=2.5->tensorflow) (3.0.4)\n",
      "Collecting requests-oauthlib>=0.7.0\n",
      "  Downloading requests_oauthlib-1.3.0-py2.py3-none-any.whl (23 kB)\n",
      "Collecting pyasn1>=0.1.3\n",
      "  Downloading pyasn1-0.4.8-py2.py3-none-any.whl (77 kB)\n",
      "\n",
      "Collecting oauthlib>=3.0.0\n",
      "  Downloading oauthlib-3.1.0-py2.py3-none-any.whl (147 kB)\n",
      "Building wheels for collected packages: wrapt, termcolor\n",
      "  Building wheel for wrapt (setup.py): started\n",
      "  Building wheel for wrapt (setup.py): finished with status 'done'\n",
      "  Created wheel for wrapt: filename=wrapt-1.12.1-py3-none-any.whl size=19558 sha256=9051318faab045bfb3fa725368048a8ead45ea41b74d1f59a51b08a06126ea99\n",
      "  Stored in directory: c:\\users\\as20188795\\appdata\\local\\pip\\cache\\wheels\\5f\\fd\\9e\\b6cf5890494cb8ef0b5eaff72e5d55a70fb56316007d6dfe73\n",
      "  Building wheel for termcolor (setup.py): started\n",
      "  Building wheel for termcolor (setup.py): finished with status 'done'\n",
      "  Created wheel for termcolor: filename=termcolor-1.1.0-py3-none-any.whl size=4835 sha256=e425a66b9d3dd31dc673d62ce76ab3ad6d3f4452a90b54b24ee75a2f37d928ff\n",
      "  Stored in directory: c:\\users\\as20188795\\appdata\\local\\pip\\cache\\wheels\\a0\\16\\9c\\5473df82468f958445479c59e784896fa24f4a5fc024b0f501\n",
      "Successfully built wrapt termcolor\n",
      "Installing collected packages: wrapt, termcolor, absl-py, google-pasta, opt-einsum, keras-preprocessing, protobuf, flatbuffers, astunparse, pyasn1, rsa, cachetools, pyasn1-modules, google-auth, markdown, tensorboard-data-server, tensorboard-plugin-wit, grpcio, oauthlib, requests-oauthlib, google-auth-oauthlib, tensorboard, keras-nightly, tensorflow-estimator, gast, h5py, tensorflow\n",
      "  Attempting uninstall: wrapt\n",
      "    Found existing installation: wrapt 1.11.2\n",
      "    Uninstalling wrapt-1.11.2:\n",
      "      Successfully uninstalled wrapt-1.11.2\n",
      "  Attempting uninstall: h5py\n",
      "    Found existing installation: h5py 2.10.0\n",
      "    Uninstalling h5py-2.10.0:\n",
      "      Successfully uninstalled h5py-2.10.0\n",
      "Successfully installed absl-py-0.12.0 astunparse-1.6.3 cachetools-4.2.2 flatbuffers-1.12 gast-0.4.0 google-auth-1.30.0 google-auth-oauthlib-0.4.4 google-pasta-0.2.0 grpcio-1.34.1 h5py-3.1.0 keras-nightly-2.5.0.dev2021032900 keras-preprocessing-1.1.2 markdown-3.3.4 oauthlib-3.1.0 opt-einsum-3.3.0 protobuf-3.17.0 pyasn1-0.4.8 pyasn1-modules-0.2.8 requests-oauthlib-1.3.0 rsa-4.7.2 tensorboard-2.5.0 tensorboard-data-server-0.6.1 tensorboard-plugin-wit-1.8.0 tensorflow-2.5.0 tensorflow-estimator-2.5.0 termcolor-1.1.0 wrapt-1.12.1\n"
     ]
    }
   ],
   "source": [
    "pip install tensorflow"
   ]
  },
  {
   "cell_type": "code",
   "execution_count": 6,
   "metadata": {},
   "outputs": [
    {
     "name": "stdout",
     "output_type": "stream",
     "text": [
      "Collecting opencv-python\n",
      "  Downloading opencv_python-4.5.2.52-cp38-cp38-win_amd64.whl (34.7 MB)\n",
      "Requirement already satisfied: numpy>=1.17.3 in c:\\users\\as20188795\\anaconda3\\lib\\site-packages (from opencv-python) (1.19.2)\n",
      "Installing collected packages: opencv-python\n",
      "Successfully installed opencv-python-4.5.2.52\n",
      "Note: you may need to restart the kernel to use updated packages.\n"
     ]
    }
   ],
   "source": [
    "pip install opencv-python"
   ]
  },
  {
   "cell_type": "code",
   "execution_count": 7,
   "metadata": {},
   "outputs": [
    {
     "name": "stdout",
     "output_type": "stream",
     "text": [
      "Collecting keras\n",
      "  Downloading Keras-2.4.3-py2.py3-none-any.whl (36 kB)\n",
      "Requirement already satisfied: scipy>=0.14 in c:\\users\\as20188795\\anaconda3\\lib\\site-packages (from keras) (1.5.2)\n",
      "Requirement already satisfied: numpy>=1.9.1 in c:\\users\\as20188795\\anaconda3\\lib\\site-packages (from keras) (1.19.2)\n",
      "Requirement already satisfied: h5py in c:\\users\\as20188795\\anaconda3\\lib\\site-packages (from keras) (3.1.0)\n",
      "Requirement already satisfied: pyyaml in c:\\users\\as20188795\\anaconda3\\lib\\site-packages (from keras) (5.3.1)\n",
      "Installing collected packages: keras\n",
      "Successfully installed keras-2.4.3\n",
      "Note: you may need to restart the kernel to use updated packages.\n"
     ]
    }
   ],
   "source": [
    "pip install keras"
   ]
  },
  {
   "cell_type": "code",
   "execution_count": 9,
   "metadata": {},
   "outputs": [
    {
     "name": "stdout",
     "output_type": "stream",
     "text": [
      "Collecting imageAI\n",
      "  Using cached imageai-2.1.6-py3-none-any.whl (160 kB)\n",
      "Collecting pillow==7.0.0\n",
      "  Using cached Pillow-7.0.0-cp38-cp38-win_amd64.whl (2.0 MB)\n",
      "Requirement already satisfied: matplotlib==3.3.2 in c:\\users\\as20188795\\anaconda3\\lib\\site-packages (from imageAI) (3.3.2)\n",
      "Requirement already satisfied: opencv-python in c:\\users\\as20188795\\anaconda3\\lib\\site-packages (from imageAI) (4.5.2.52)\n",
      "Collecting scipy==1.4.1\n",
      "  Using cached scipy-1.4.1-cp38-cp38-win_amd64.whl (31.0 MB)Note: you may need to restart the kernel to use updated packages.\n",
      "Requirement already satisfied: numpy==1.19.3 in c:\\users\\as20188795\\anaconda3\\lib\\site-packages (from imageAI) (1.19.3)\n",
      "Collecting h5py==2.10.0\n"
     ]
    },
    {
     "name": "stderr",
     "output_type": "stream",
     "text": [
      "ERROR: Could not install packages due to an EnvironmentError: [WinError 5] Access is denied: 'C:\\\\Users\\\\AS20188795\\\\Anaconda3\\\\Lib\\\\site-packages\\\\~cipy\\\\fft\\\\_pocketfft\\\\pypocketfft.cp38-win_amd64.pyd'\n",
      "Consider using the `--user` option or check the permissions.\n",
      "\n"
     ]
    },
    {
     "name": "stdout",
     "output_type": "stream",
     "text": [
      "\n",
      "  Using cached h5py-2.10.0-cp38-cp38-win_amd64.whl (2.5 MB)\n",
      "Processing c:\\users\\as20188795\\appdata\\local\\pip\\cache\\wheels\\be\\90\\98\\9d455f04a7ca277366b36c660c89d171ff5abb7bdd8a8b8e75\\keras_resnet-0.2.0-py2.py3-none-any.whl\n",
      "Requirement already satisfied: keras==2.4.3 in c:\\users\\as20188795\\anaconda3\\lib\\site-packages (from imageAI) (2.4.3)\n",
      "Requirement already satisfied: cycler>=0.10 in c:\\users\\as20188795\\anaconda3\\lib\\site-packages (from matplotlib==3.3.2->imageAI) (0.10.0)\n",
      "Requirement already satisfied: python-dateutil>=2.1 in c:\\users\\as20188795\\anaconda3\\lib\\site-packages (from matplotlib==3.3.2->imageAI) (2.8.1)\n",
      "Requirement already satisfied: certifi>=2020.06.20 in c:\\users\\as20188795\\anaconda3\\lib\\site-packages (from matplotlib==3.3.2->imageAI) (2020.6.20)\n",
      "Requirement already satisfied: pyparsing!=2.0.4,!=2.1.2,!=2.1.6,>=2.0.3 in c:\\users\\as20188795\\anaconda3\\lib\\site-packages (from matplotlib==3.3.2->imageAI) (2.4.7)\n",
      "Requirement already satisfied: kiwisolver>=1.0.1 in c:\\users\\as20188795\\anaconda3\\lib\\site-packages (from matplotlib==3.3.2->imageAI) (1.3.0)\n",
      "Requirement already satisfied: six in c:\\users\\as20188795\\anaconda3\\lib\\site-packages (from h5py==2.10.0->imageAI) (1.15.0)\n",
      "Requirement already satisfied: pyyaml in c:\\users\\as20188795\\anaconda3\\lib\\site-packages (from keras==2.4.3->imageAI) (5.3.1)\n",
      "Installing collected packages: pillow, scipy, h5py, keras-resnet, imageAI\n",
      "  Attempting uninstall: pillow\n",
      "    Found existing installation: Pillow 8.0.1\n",
      "    Uninstalling Pillow-8.0.1:\n",
      "      Successfully uninstalled Pillow-8.0.1\n",
      "  Attempting uninstall: scipy\n",
      "    Found existing installation: scipy 1.5.2\n",
      "    Uninstalling scipy-1.5.2:\n",
      "      Successfully uninstalled scipy-1.5.2\n"
     ]
    }
   ],
   "source": [
    "pip install imageAI"
   ]
  },
  {
   "cell_type": "code",
   "execution_count": 3,
   "metadata": {},
   "outputs": [
    {
     "name": "stdout",
     "output_type": "stream",
     "text": [
      "Collecting imageai\n",
      "  Using cached imageai-2.1.6-py3-none-any.whl (160 kB)\n",
      "Requirement already satisfied, skipping upgrade: keras==2.4.3 in c:\\users\\as20188795\\anaconda3\\lib\\site-packages (from imageai) (2.4.3)\n",
      "Requirement already satisfied, skipping upgrade: matplotlib==3.3.2 in c:\\users\\as20188795\\anaconda3\\lib\\site-packages (from imageai) (3.3.2)\n",
      "Processing c:\\users\\as20188795\\appdata\\local\\pip\\cache\\wheels\\be\\90\\98\\9d455f04a7ca277366b36c660c89d171ff5abb7bdd8a8b8e75\\keras_resnet-0.2.0-py2.py3-none-any.whl\n",
      "Requirement already satisfied, skipping upgrade: numpy==1.19.3 in c:\\users\\as20188795\\anaconda3\\lib\\site-packages (from imageai) (1.19.3)\n",
      "Collecting h5py==2.10.0\n",
      "  Using cached h5py-2.10.0-cp38-cp38-win_amd64.whl (2.5 MB)\n",
      "Requirement already satisfied, skipping upgrade: pillow==7.0.0 in c:\\users\\as20188795\\anaconda3\\lib\\site-packages (from imageai) (7.0.0)\n",
      "Requirement already satisfied, skipping upgrade: opencv-python in c:\\users\\as20188795\\anaconda3\\lib\\site-packages (from imageai) (4.5.2.52)\n",
      "Requirement already satisfied, skipping upgrade: scipy==1.4.1 in c:\\users\\as20188795\\anaconda3\\lib\\site-packages (from imageai) (1.4.1)\n",
      "Requirement already satisfied, skipping upgrade: pyyaml in c:\\users\\as20188795\\anaconda3\\lib\\site-packages (from keras==2.4.3->imageai) (5.3.1)\n",
      "Requirement already satisfied, skipping upgrade: python-dateutil>=2.1 in c:\\users\\as20188795\\anaconda3\\lib\\site-packages (from matplotlib==3.3.2->imageai) (2.8.1)\n",
      "Requirement already satisfied, skipping upgrade: certifi>=2020.06.20 in c:\\users\\as20188795\\anaconda3\\lib\\site-packages (from matplotlib==3.3.2->imageai) (2020.6.20)\n",
      "Requirement already satisfied, skipping upgrade: pyparsing!=2.0.4,!=2.1.2,!=2.1.6,>=2.0.3 in c:\\users\\as20188795\\anaconda3\\lib\\site-packages (from matplotlib==3.3.2->imageai) (2.4.7)\n",
      "Requirement already satisfied, skipping upgrade: cycler>=0.10 in c:\\users\\as20188795\\anaconda3\\lib\\site-packages (from matplotlib==3.3.2->imageai) (0.10.0)\n",
      "Requirement already satisfied, skipping upgrade: kiwisolver>=1.0.1 in c:\\users\\as20188795\\anaconda3\\lib\\site-packages (from matplotlib==3.3.2->imageai) (1.3.0)\n",
      "Note: you may need to restart the kernel to use updated packages.Requirement already satisfied, skipping upgrade: six in c:\\users\\as20188795\\anaconda3\\lib\\site-packages (from h5py==2.10.0->imageai) (1.15.0)\n",
      "Installing collected packages: keras-resnet, h5py, imageai\n",
      "  Attempting uninstall: h5py\n",
      "    Found existing installation: h5py 3.1.0\n",
      "    Uninstalling h5py-3.1.0:\n",
      "      Successfully uninstalled h5py-3.1.0\n",
      "Successfully installed h5py-2.10.0 imageai-2.1.6 keras-resnet-0.2.0\n",
      "\n"
     ]
    },
    {
     "name": "stderr",
     "output_type": "stream",
     "text": [
      "ERROR: After October 2020 you may experience errors when installing or updating packages. This is because pip will change the way that it resolves dependency conflicts.\n",
      "\n",
      "We recommend you use --use-feature=2020-resolver to test your packages with the new resolver before it becomes the default.\n",
      "\n",
      "tensorflow 2.5.0 requires h5py~=3.1.0, but you'll have h5py 2.10.0 which is incompatible.\n"
     ]
    }
   ],
   "source": [
    "pip install imageai --upgrade"
   ]
  },
  {
   "cell_type": "code",
   "execution_count": 2,
   "metadata": {},
   "outputs": [
    {
     "name": "stdout",
     "output_type": "stream",
     "text": [
      "Requirement already satisfied: imageAI in c:\\users\\as20188795\\anaconda3\\lib\\site-packages (2.1.6)\n",
      "Note: you may need to restart the kernel to use updated packages.Requirement already satisfied: numpy==1.19.3 in c:\\users\\as20188795\\anaconda3\\lib\\site-packages (from imageAI) (1.19.3)\n",
      "Requirement already satisfied: keras-resnet==0.2.0 in c:\\users\\as20188795\\anaconda3\\lib\\site-packages (from imageAI) (0.2.0)\n",
      "Requirement already satisfied: pillow==7.0.0 in c:\\users\\as20188795\\anaconda3\\lib\\site-packages (from imageAI) (7.0.0)\n",
      "Requirement already satisfied: opencv-python in c:\\users\\as20188795\\anaconda3\\lib\\site-packages (from imageAI) (4.5.2.52)\n",
      "Collecting h5py==2.10.0\n",
      "  Using cached h5py-2.10.0-cp38-cp38-win_amd64.whl (2.5 MB)\n",
      "Requirement already satisfied: matplotlib==3.3.2 in c:\\users\\as20188795\\anaconda3\\lib\\site-packages (from imageAI) (3.3.2)\n",
      "Requirement already satisfied: keras==2.4.3 in c:\\users\\as20188795\\anaconda3\\lib\\site-packages (from imageAI) (2.4.3)\n",
      "Requirement already satisfied: scipy==1.4.1 in c:\\users\\as20188795\\anaconda3\\lib\\site-packages (from imageAI) (1.4.1)\n",
      "Requirement already satisfied: six in c:\\users\\as20188795\\anaconda3\\lib\\site-packages (from h5py==2.10.0->imageAI) (1.15.0)\n",
      "Requirement already satisfied: pyparsing!=2.0.4,!=2.1.2,!=2.1.6,>=2.0.3 in c:\\users\\as20188795\\anaconda3\\lib\\site-packages (from matplotlib==3.3.2->imageAI) (2.4.7)\n",
      "Requirement already satisfied: python-dateutil>=2.1 in c:\\users\\as20188795\\anaconda3\\lib\\site-packages (from matplotlib==3.3.2->imageAI) (2.8.1)\n",
      "Requirement already satisfied: cycler>=0.10 in c:\\users\\as20188795\\anaconda3\\lib\\site-packages (from matplotlib==3.3.2->imageAI) (0.10.0)\n",
      "Requirement already satisfied: kiwisolver>=1.0.1 in c:\\users\\as20188795\\anaconda3\\lib\\site-packages (from matplotlib==3.3.2->imageAI) (1.3.0)\n",
      "Requirement already satisfied: certifi>=2020.06.20 in c:\\users\\as20188795\\anaconda3\\lib\\site-packages (from matplotlib==3.3.2->imageAI) (2020.12.5)\n",
      "Requirement already satisfied: pyyaml in c:\\users\\as20188795\\anaconda3\\lib\\site-packages (from keras==2.4.3->imageAI) (5.3.1)\n",
      "Installing collected packages: h5py\n",
      "  Attempting uninstall: h5py\n",
      "    Found existing installation: h5py 3.1.0\n",
      "    Uninstalling h5py-3.1.0:\n",
      "      Successfully uninstalled h5py-3.1.0\n",
      "Successfully installed h5py-2.10.0\n",
      "\n"
     ]
    }
   ],
   "source": [
    "pip install imageAI"
   ]
  }
 ],
 "metadata": {
  "kernelspec": {
   "display_name": "Python 3",
   "language": "python",
   "name": "python3"
  },
  "language_info": {
   "codemirror_mode": {
    "name": "ipython",
    "version": 3
   },
   "file_extension": ".py",
   "mimetype": "text/x-python",
   "name": "python",
   "nbconvert_exporter": "python",
   "pygments_lexer": "ipython3",
   "version": "3.8.5"
  }
 },
 "nbformat": 4,
 "nbformat_minor": 4
}
