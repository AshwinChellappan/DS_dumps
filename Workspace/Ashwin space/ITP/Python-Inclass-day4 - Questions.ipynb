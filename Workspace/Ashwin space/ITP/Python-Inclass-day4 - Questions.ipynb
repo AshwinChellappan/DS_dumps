{
 "cells": [
  {
   "cell_type": "raw",
   "metadata": {
    "colab_type": "text",
    "id": "ewz9z--GQgh8"
   },
   "source": [
    "1. Write a Python function to multiply all the numbers in a list."
   ]
  },
  {
   "cell_type": "code",
   "execution_count": 3,
   "metadata": {
    "colab": {},
    "colab_type": "code",
    "id": "lK-hZOrfQgh_"
   },
   "outputs": [
    {
     "data": {
      "text/plain": [
       "120"
      ]
     },
     "execution_count": 3,
     "metadata": {},
     "output_type": "execute_result"
    }
   ],
   "source": [
    "def mul(l):\n",
    "    val=1\n",
    "    for i in l:\n",
    "        val=val*i\n",
    "    return val\n",
    "\n",
    "l=[1,2,3,4,5]\n",
    "mul(l)"
   ]
  },
  {
   "cell_type": "raw",
   "metadata": {
    "colab_type": "text",
    "id": "u87J1CV1QgiC"
   },
   "source": [
    "2. Write a Python function to reverse a string \n",
    "i) use for loop\n",
    "ii) use while loop "
   ]
  },
  {
   "cell_type": "code",
   "execution_count": 5,
   "metadata": {
    "colab": {},
    "colab_type": "code",
    "id": "BlZ3CK0RQgiD"
   },
   "outputs": [
    {
     "data": {
      "text/plain": [
       "'HFDA'"
      ]
     },
     "execution_count": 5,
     "metadata": {},
     "output_type": "execute_result"
    }
   ],
   "source": [
    "def rev(a):\n",
    "    b=''\n",
    "    for i in a:\n",
    "        b=i+b\n",
    "    return b\n",
    "    \n",
    "a=\"ADFH\"\n",
    "rev(a)"
   ]
  },
  {
   "cell_type": "code",
   "execution_count": 10,
   "metadata": {},
   "outputs": [
    {
     "data": {
      "text/plain": [
       "'HFDA'"
      ]
     },
     "execution_count": 10,
     "metadata": {},
     "output_type": "execute_result"
    }
   ],
   "source": [
    "def rev(a):\n",
    "    length=len(a)\n",
    "    b=''\n",
    "    while length>0:\n",
    "        b+=a[length-1]\n",
    "        length=length-1\n",
    "    return b\n",
    "        \n",
    "a=\"ADFH\"\n",
    "rev(a)"
   ]
  },
  {
   "cell_type": "raw",
   "metadata": {
    "colab_type": "text",
    "id": "9SENBvktQgiG"
   },
   "source": [
    "3. Write a function to add and subtract two variables"
   ]
  },
  {
   "cell_type": "code",
   "execution_count": 11,
   "metadata": {
    "colab": {},
    "colab_type": "code",
    "id": "rwQ6-v82QgiH"
   },
   "outputs": [
    {
     "name": "stdout",
     "output_type": "stream",
     "text": [
      "9\n",
      "1\n"
     ]
    }
   ],
   "source": [
    "def add1(x,y):\n",
    "    return x+y\n",
    "def sub1(x,y):\n",
    "    return(x-y)\n",
    "\n",
    "print(add1(5,4))\n",
    "print(sub1(5,4))"
   ]
  },
  {
   "cell_type": "raw",
   "metadata": {
    "colab_type": "text",
    "id": "g2Z8raThQgiK"
   },
   "source": [
    "4. Write a function to check the number is divisible by 12"
   ]
  },
  {
   "cell_type": "code",
   "execution_count": 14,
   "metadata": {
    "colab": {},
    "colab_type": "code",
    "id": "IVEQ_4cXQgiL"
   },
   "outputs": [
    {
     "data": {
      "text/plain": [
       "'Divisible by 12'"
      ]
     },
     "execution_count": 14,
     "metadata": {},
     "output_type": "execute_result"
    }
   ],
   "source": [
    "def check(x):\n",
    "    if(x%12==0):\n",
    "        return \"Divisible by 12\"\n",
    "    else:\n",
    "        return \"Not Divisible by 12\"\n",
    "check(24)"
   ]
  },
  {
   "cell_type": "raw",
   "metadata": {
    "colab_type": "text",
    "id": "RIsrZfBnQgiP"
   },
   "source": [
    "5. Write a function to calculate the number of days and weeks"
   ]
  },
  {
   "cell_type": "code",
   "execution_count": 16,
   "metadata": {
    "colab": {},
    "colab_type": "code",
    "id": "vhEQgxw5QgiQ"
   },
   "outputs": [
    {
     "data": {
      "text/plain": [
       "(90, 12)"
      ]
     },
     "execution_count": 16,
     "metadata": {},
     "output_type": "execute_result"
    }
   ],
   "source": [
    "def check_week(x):\n",
    "    y=x*30\n",
    "    z=x*4\n",
    "    return y,z\n",
    "check_week(3)"
   ]
  },
  {
   "cell_type": "raw",
   "metadata": {
    "colab_type": "text",
    "id": "NIZ46IPLQgiU"
   },
   "source": [
    "6.Write a Python function to Find the 5!?"
   ]
  },
  {
   "cell_type": "code",
   "execution_count": 17,
   "metadata": {
    "colab": {},
    "colab_type": "code",
    "id": "PQnTOPBHQgiV"
   },
   "outputs": [
    {
     "data": {
      "text/plain": [
       "24"
      ]
     },
     "execution_count": 17,
     "metadata": {},
     "output_type": "execute_result"
    }
   ],
   "source": [
    "def fact(x):\n",
    "    fact=1\n",
    "    for i in range(1,x):\n",
    "        fact*=i\n",
    "    return fact\n",
    "fact(5)"
   ]
  },
  {
   "cell_type": "raw",
   "metadata": {
    "colab_type": "text",
    "id": "litT6sm5QgiX"
   },
   "source": [
    "7. Write a Python function to find the unique elements of the list = [1,2,3,3,3,3,4,5,4,2,4,2,4,4,2,4,5,4,34,654,5,7,6,5,4,3]\n"
   ]
  },
  {
   "cell_type": "code",
   "execution_count": 20,
   "metadata": {
    "colab": {},
    "colab_type": "code",
    "id": "wQFmhxsZQgiZ"
   },
   "outputs": [
    {
     "data": {
      "text/plain": [
       "array([  1,   2,   3,   4,   5,   6,   7,  34, 654])"
      ]
     },
     "execution_count": 20,
     "metadata": {},
     "output_type": "execute_result"
    }
   ],
   "source": [
    "import numpy as np \n",
    "def getUnique(list1):\n",
    "    x = np.array(list1) \n",
    "    return(np.unique(x))\n",
    "\n",
    "list1 = [1,2,3,3,3,3,4,5,4,2,4,2,4,4,2,4,5,4,34,654,5,7,6,5,4,3]\n",
    "getUnique(list1)"
   ]
  },
  {
   "cell_type": "raw",
   "metadata": {
    "colab_type": "text",
    "id": "9agw2EBoQgib"
   },
   "source": [
    "Types of arguments\n",
    "\n",
    "\n",
    "    1. Required arguments\n",
    "    2. Keyword arguments\n",
    "    3. Default arguments\n",
    "   "
   ]
  },
  {
   "cell_type": "raw",
   "metadata": {
    "colab_type": "text",
    "id": "VZ9GRyB3Qgic"
   },
   "source": [
    "1. Required arguments: \n",
    "Write a program to calculate Simple Interest which accepts three arguments and returns the simple interest accordingly"
   ]
  },
  {
   "cell_type": "code",
   "execution_count": 21,
   "metadata": {
    "colab": {},
    "colab_type": "code",
    "id": "lS3oIyt8Qgie"
   },
   "outputs": [
    {
     "data": {
      "text/plain": [
       "120.0"
      ]
     },
     "execution_count": 21,
     "metadata": {},
     "output_type": "execute_result"
    }
   ],
   "source": [
    "def cal(x,y,z):\n",
    "    return(x*y*z/100)\n",
    "\n",
    "cal(1000,4,3)"
   ]
  },
  {
   "cell_type": "raw",
   "metadata": {
    "colab_type": "text",
    "id": "xbotxe88Qgig"
   },
   "source": [
    "2.Keyword arguments:\n",
    "Write a function which will be called with the name and message as the keyword arguments. Output will be \"printing the message with 'name' and  'message'\""
   ]
  },
  {
   "cell_type": "code",
   "execution_count": 27,
   "metadata": {
    "colab": {},
    "colab_type": "code",
    "id": "vXrs1SGPQgih"
   },
   "outputs": [
    {
     "data": {
      "text/plain": [
       "('Name is ', 'ashwin', ' and Age is ', 24)"
      ]
     },
     "execution_count": 27,
     "metadata": {},
     "output_type": "execute_result"
    }
   ],
   "source": [
    "def defKey(x,y):\n",
    "    return('Name is ',x,' and Age is ',y)\n",
    "defKey('ashwin',24)"
   ]
  },
  {
   "cell_type": "raw",
   "metadata": {
    "colab_type": "text",
    "id": "_LcvVsPrQgim"
   },
   "source": [
    "3.Default Arguments:\n",
    "Write a function which will be called with the name as keyword argument and age as the default arguments. Output will be \"My name is 'name' and 'age is 27'\""
   ]
  },
  {
   "cell_type": "code",
   "execution_count": 29,
   "metadata": {
    "colab": {},
    "colab_type": "code",
    "id": "FyHnBEofQgim"
   },
   "outputs": [
    {
     "data": {
      "text/plain": [
       "('Name is ', 'ashwin', ' and Age is ', 27)"
      ]
     },
     "execution_count": 29,
     "metadata": {},
     "output_type": "execute_result"
    }
   ],
   "source": [
    "def defKey(x,y=27):\n",
    "    return('Name is ',x,' and Age is ',y)\n",
    "defKey('ashwin')"
   ]
  },
  {
   "cell_type": "markdown",
   "metadata": {
    "colab_type": "text",
    "id": "vlbfErrdQgip"
   },
   "source": [
    "### lambda function"
   ]
  },
  {
   "cell_type": "code",
   "execution_count": 0,
   "metadata": {
    "colab": {},
    "colab_type": "code",
    "id": "cXDL9-AdQgiq"
   },
   "outputs": [],
   "source": []
  },
  {
   "cell_type": "raw",
   "metadata": {
    "colab_type": "text",
    "id": "LfFUwKixQgi1"
   },
   "source": [
    "1. Get a number from user,  find if it is even or odd number?"
   ]
  },
  {
   "cell_type": "code",
   "execution_count": 35,
   "metadata": {
    "colab": {},
    "colab_type": "code",
    "id": "s8HgnLo6Qgi1"
   },
   "outputs": [
    {
     "name": "stdout",
     "output_type": "stream",
     "text": [
      "Enter a number7\n"
     ]
    },
    {
     "data": {
      "text/plain": [
       "'Odd'"
      ]
     },
     "execution_count": 35,
     "metadata": {},
     "output_type": "execute_result"
    }
   ],
   "source": [
    "a=int(input(\"Enter a number\"))\n",
    "b=lambda a: \"Even\" if(a%2==0) else \"Odd\"\n",
    "b(a)"
   ]
  },
  {
   "cell_type": "raw",
   "metadata": {
    "colab_type": "text",
    "id": "NBvh7UY8Qgi4"
   },
   "source": [
    "2. Take a input from user and  square it"
   ]
  },
  {
   "cell_type": "code",
   "execution_count": 37,
   "metadata": {
    "colab": {},
    "colab_type": "code",
    "id": "xUG47hOsQgi5"
   },
   "outputs": [
    {
     "name": "stdout",
     "output_type": "stream",
     "text": [
      "Enter a number6\n"
     ]
    },
    {
     "data": {
      "text/plain": [
       "36"
      ]
     },
     "execution_count": 37,
     "metadata": {},
     "output_type": "execute_result"
    }
   ],
   "source": [
    "a=int(input(\"Enter a number\"))\n",
    "b=lambda a: a*a\n",
    "b(a)"
   ]
  },
  {
   "cell_type": "raw",
   "metadata": {
    "colab_type": "text",
    "id": "ht5XKfNXQgi8"
   },
   "source": [
    "3. Write a lambda function using logical operators?\n"
   ]
  },
  {
   "cell_type": "raw",
   "metadata": {
    "colab_type": "raw",
    "id": "va_12U9vUKeX"
   },
   "source": [
    "Hint:\n",
    "Check x < 10\n",
    "Output: False / True"
   ]
  },
  {
   "cell_type": "code",
   "execution_count": 39,
   "metadata": {
    "colab": {},
    "colab_type": "code",
    "id": "wjYpySTcQgi9"
   },
   "outputs": [
    {
     "name": "stdout",
     "output_type": "stream",
     "text": [
      "Enter a number13\n"
     ]
    },
    {
     "data": {
      "text/plain": [
       "'True'"
      ]
     },
     "execution_count": 39,
     "metadata": {},
     "output_type": "execute_result"
    }
   ],
   "source": [
    "a=int(input(\"Enter a number\"))\n",
    "b=lambda a: \"True\" if(a>10) else \"False\"\n",
    "b(a)"
   ]
  },
  {
   "cell_type": "raw",
   "metadata": {
    "colab_type": "text",
    "id": "OkNj5AiXQgjA"
   },
   "source": [
    "4. Take an integer input from the user,  add 5 to the number and print it back?"
   ]
  },
  {
   "cell_type": "code",
   "execution_count": 40,
   "metadata": {
    "colab": {},
    "colab_type": "code",
    "id": "1PIvlyTdQgjB"
   },
   "outputs": [
    {
     "name": "stdout",
     "output_type": "stream",
     "text": [
      "Enter a number5\n",
      "10\n"
     ]
    }
   ],
   "source": [
    "a=int(input(\"Enter a number\"))\n",
    "b=lambda a:a+5\n",
    "print(b(a))"
   ]
  },
  {
   "cell_type": "markdown",
   "metadata": {
    "colab_type": "text",
    "id": "OujnXYLsQgjD"
   },
   "source": [
    "### Map"
   ]
  },
  {
   "cell_type": "raw",
   "metadata": {
    "colab_type": "text",
    "id": "KaskbPD5QgjH"
   },
   "source": [
    "1. Add two lists using map ()\n",
    "     lis1 = [12, 24, 36] \n",
    "     lis2 = [41, 54, 69] \n",
    "     \n",
    "     Output:\n",
    "     [53, 78, 105]"
   ]
  },
  {
   "cell_type": "code",
   "execution_count": 48,
   "metadata": {
    "colab": {},
    "colab_type": "code",
    "id": "0Zze5CElQgjI"
   },
   "outputs": [
    {
     "name": "stdout",
     "output_type": "stream",
     "text": [
      "[53, 78, 105]\n"
     ]
    }
   ],
   "source": [
    "from operator import add\n",
    "lis1 = [12, 24, 36] \n",
    "lis2 = [41, 54, 69] \n",
    "res=list(map(add,lis1,lis2))\n",
    "print(str(res))"
   ]
  },
  {
   "cell_type": "raw",
   "metadata": {
    "colab_type": "text",
    "id": "WR4oaWUFQgjL"
   },
   "source": [
    "2. Use Lambda and map functions on a List, to square each element in the list = [1, 2, 3, 4, 5, 6, 7]"
   ]
  },
  {
   "cell_type": "code",
   "execution_count": 2,
   "metadata": {
    "colab": {},
    "colab_type": "code",
    "id": "VySlMocZQgjM"
   },
   "outputs": [
    {
     "data": {
      "text/plain": [
       "[1, 4, 9, 16, 25, 36, 49]"
      ]
     },
     "execution_count": 2,
     "metadata": {},
     "output_type": "execute_result"
    }
   ],
   "source": [
    "list1 = [1, 2, 3, 4, 5, 6, 7]\n",
    "list(map(lambda a: a**2,list1))\n"
   ]
  },
  {
   "cell_type": "raw",
   "metadata": {
    "colab_type": "text",
    "id": "F4UwyBbzQgjQ"
   },
   "source": [
    "3.In the given list [1, 2, 3, 4, 5, 6, 7], find the even and odd elements in the list, use the map()function"
   ]
  },
  {
   "cell_type": "code",
   "execution_count": 4,
   "metadata": {
    "colab": {},
    "colab_type": "code",
    "id": "VwpRnZmyQgjR"
   },
   "outputs": [
    {
     "data": {
      "text/plain": [
       "['Odd', 'Even', 'Odd', 'Even', 'Odd', 'Even', 'Odd']"
      ]
     },
     "execution_count": 4,
     "metadata": {},
     "output_type": "execute_result"
    }
   ],
   "source": [
    "list1= [1, 2, 3, 4, 5, 6, 7]\n",
    "list(map(lambda x: \"Even\"if x%2==0 else \"Odd\",list1))"
   ]
  },
  {
   "cell_type": "raw",
   "metadata": {
    "colab_type": "text",
    "id": "3sPPwRkMQgjU"
   },
   "source": [
    "4. In the given list [11, 12, 13, 14, 435, 6, 27], perform the Floor division using 7 on each elements on the list"
   ]
  },
  {
   "cell_type": "code",
   "execution_count": 6,
   "metadata": {
    "colab": {},
    "colab_type": "code",
    "id": "x-oTxbRNQgjV"
   },
   "outputs": [
    {
     "data": {
      "text/plain": [
       "[1, 1, 1, 2, 62, 0, 3]"
      ]
     },
     "execution_count": 6,
     "metadata": {},
     "output_type": "execute_result"
    }
   ],
   "source": [
    "list1= [11, 12, 13, 14, 435, 6, 27]\n",
    "list(map(lambda x: x//7,list1))"
   ]
  },
  {
   "cell_type": "markdown",
   "metadata": {
    "colab_type": "text",
    "id": "u5734lwxQgjX"
   },
   "source": [
    "### Filter"
   ]
  },
  {
   "cell_type": "code",
   "execution_count": 0,
   "metadata": {
    "colab": {},
    "colab_type": "code",
    "id": "ie4jXCpEQgjY"
   },
   "outputs": [],
   "source": []
  },
  {
   "cell_type": "raw",
   "metadata": {
    "colab_type": "text",
    "id": "WSodeSmEQgja"
   },
   "source": [
    "1.Using the given list lis1 = [3,12, 24, 36,43,654,65432,2,654,455,43,543] filter the numbers in list which are not divisible by 2"
   ]
  },
  {
   "cell_type": "code",
   "execution_count": 10,
   "metadata": {
    "colab": {},
    "colab_type": "code",
    "id": "T-4yE3BsQgja"
   },
   "outputs": [
    {
     "data": {
      "text/plain": [
       "[3, 43, 455, 43, 543]"
      ]
     },
     "execution_count": 10,
     "metadata": {},
     "output_type": "execute_result"
    }
   ],
   "source": [
    "lis1 = [3,12, 24, 36,43,654,65432,2,654,455,43,543]\n",
    "list(filter(lambda x: x%2!=0,lis1))"
   ]
  },
  {
   "cell_type": "raw",
   "metadata": {
    "colab_type": "text",
    "id": "M3sKB6_wQgje"
   },
   "source": [
    "2.For a given list1 = [1, 2, 3, 4, 5, 6] filter only the even numbers (Use filter)."
   ]
  },
  {
   "cell_type": "code",
   "execution_count": 2,
   "metadata": {
    "colab": {},
    "colab_type": "code",
    "id": "2Jw4E2m7Qgjf"
   },
   "outputs": [
    {
     "data": {
      "text/plain": [
       "[2, 4, 6]"
      ]
     },
     "execution_count": 2,
     "metadata": {},
     "output_type": "execute_result"
    }
   ],
   "source": [
    "list1 = [1, 2, 3, 4, 5, 6]\n",
    "list(filter(lambda x:  x%2==0 ,list1))"
   ]
  },
  {
   "cell_type": "raw",
   "metadata": {
    "colab_type": "text",
    "id": "FuKAfu6XQgjj"
   },
   "source": [
    "3. For a given list = [2,3,5,3,6,3,7,4,6,7] filter only the even numbers using user defined function.\n"
   ]
  },
  {
   "cell_type": "code",
   "execution_count": 7,
   "metadata": {
    "colab": {},
    "colab_type": "code",
    "id": "Fw7TeM4RQgjk"
   },
   "outputs": [
    {
     "data": {
      "text/plain": [
       "[2, 6, 4, 6]"
      ]
     },
     "execution_count": 7,
     "metadata": {},
     "output_type": "execute_result"
    }
   ],
   "source": [
    "def checkfil (y):\n",
    "    return(list(filter(lambda x : x%2==0,y)))\n",
    "\n",
    "list1 = [2,3,5,3,6,3,7,4,6,7]\n",
    "checkfil(list1)"
   ]
  },
  {
   "cell_type": "raw",
   "metadata": {
    "colab_type": "text",
    "id": "PQpZ1YM3Qgjn"
   },
   "source": [
    "4. For a given list = [1, 12, 31, 4, 15, 6, 7] filter only the odd numbers using user defined function.\n"
   ]
  },
  {
   "cell_type": "code",
   "execution_count": 11,
   "metadata": {
    "colab": {},
    "colab_type": "code",
    "id": "5Ffm9ZyHQgjp"
   },
   "outputs": [
    {
     "data": {
      "text/plain": [
       "[1, 31, 15, 7]"
      ]
     },
     "execution_count": 11,
     "metadata": {},
     "output_type": "execute_result"
    }
   ],
   "source": [
    "def checkfil (y):\n",
    "    return(list(filter(lambda x : x%2!=0,y)))\n",
    "\n",
    "list1 = [1, 12, 31, 4, 15, 6, 7]\n",
    "checkfil(list1)"
   ]
  },
  {
   "cell_type": "markdown",
   "metadata": {
    "colab_type": "text",
    "id": "CCHzjGMAQgjt"
   },
   "source": [
    "### Reduce"
   ]
  },
  {
   "cell_type": "raw",
   "metadata": {
    "colab_type": "text",
    "id": "UuqCl94bQgjx"
   },
   "source": [
    "1.For list = [1, 2, 3, 4] multiply all the elements (use reduce function)"
   ]
  },
  {
   "cell_type": "code",
   "execution_count": 15,
   "metadata": {
    "colab": {},
    "colab_type": "code",
    "id": "Sl79fpY4Qgjy"
   },
   "outputs": [
    {
     "data": {
      "text/plain": [
       "120"
      ]
     },
     "execution_count": 15,
     "metadata": {},
     "output_type": "execute_result"
    }
   ],
   "source": [
    "from functools import reduce\n",
    "list = [1, 2, 3, 4,5]\n",
    "reduce(lambda x,y: x*y,list)"
   ]
  },
  {
   "cell_type": "raw",
   "metadata": {
    "colab_type": "text",
    "id": "7OpO82ZOQgj0"
   },
   "source": [
    "2. For list = [ 11 , 13, 15, 16, 2,43 ]  sum all the elements (use reduce function)"
   ]
  },
  {
   "cell_type": "code",
   "execution_count": 16,
   "metadata": {
    "colab": {},
    "colab_type": "code",
    "id": "kEz0P23ZQgj2"
   },
   "outputs": [
    {
     "data": {
      "text/plain": [
       "100"
      ]
     },
     "execution_count": 16,
     "metadata": {},
     "output_type": "execute_result"
    }
   ],
   "source": [
    "list = [ 11 , 13, 15, 16, 2,43 ]\n",
    "reduce(lambda x,y:x+y,list)"
   ]
  },
  {
   "cell_type": "raw",
   "metadata": {
    "colab_type": "text",
    "id": "cywlkri5Qgj4"
   },
   "source": [
    "3. Find the maximum value in the list = [543,7,6,4567,7,78,6,6,78,765,678] (use reduce function)"
   ]
  },
  {
   "cell_type": "code",
   "execution_count": 17,
   "metadata": {
    "colab": {},
    "colab_type": "code",
    "id": "Teo4jNuoQgj4"
   },
   "outputs": [
    {
     "data": {
      "text/plain": [
       "4567"
      ]
     },
     "execution_count": 17,
     "metadata": {},
     "output_type": "execute_result"
    }
   ],
   "source": [
    "list = [543,7,6,4567,7,78,6,6,78,765,678]\n",
    "reduce(lambda x,y: x if x>y else y ,list)"
   ]
  },
  {
   "cell_type": "raw",
   "metadata": {
    "colab_type": "text",
    "id": "zzraoBTEQgj7"
   },
   "source": [
    "4. Find the minimum value in the list= [543,7,6,4567,7,78,6,6,78,765,678] (use reduce function)"
   ]
  },
  {
   "cell_type": "code",
   "execution_count": 18,
   "metadata": {
    "colab": {},
    "colab_type": "code",
    "id": "ZDjddZY4Qgj8"
   },
   "outputs": [
    {
     "data": {
      "text/plain": [
       "6"
      ]
     },
     "execution_count": 18,
     "metadata": {},
     "output_type": "execute_result"
    }
   ],
   "source": [
    "list= [543,7,6,4567,7,78,6,6,78,765,678]\n",
    "reduce(lambda x,y: x if x<y else y ,list)"
   ]
  }
 ],
 "metadata": {
  "colab": {
   "name": "Inclass-day4-Questions-Bug_Free.ipynb",
   "provenance": []
  },
  "kernelspec": {
   "display_name": "Python 3",
   "language": "python",
   "name": "python3"
  },
  "language_info": {
   "codemirror_mode": {
    "name": "ipython",
    "version": 3
   },
   "file_extension": ".py",
   "mimetype": "text/x-python",
   "name": "python",
   "nbconvert_exporter": "python",
   "pygments_lexer": "ipython3",
   "version": "3.8.8"
  }
 },
 "nbformat": 4,
 "nbformat_minor": 1
}
