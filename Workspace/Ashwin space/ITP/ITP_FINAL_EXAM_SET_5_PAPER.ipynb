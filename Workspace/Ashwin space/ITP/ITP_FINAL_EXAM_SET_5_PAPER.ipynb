{
 "cells": [
  {
   "cell_type": "markdown",
   "metadata": {
    "id": "IkdRRS_jZM-V"
   },
   "source": [
    "# INTRODUCTION TO PYTHON FINAL EXAM"
   ]
  },
  {
   "cell_type": "markdown",
   "metadata": {
    "id": "p5Gdy2ROZM-W"
   },
   "source": [
    "# SECTION A: 20 MARKS"
   ]
  },
  {
   "cell_type": "markdown",
   "metadata": {
    "id": "XpJKu9HgZM-X"
   },
   "source": [
    " _________________"
   ]
  },
  {
   "cell_type": "markdown",
   "metadata": {
    "id": "_cy1Xg-pqwic"
   },
   "source": [
    "### 1. Write a program to find out, the number of times a writer has used ‘A’  as a word in his writing.(Mark – 5)"
   ]
  },
  {
   "cell_type": "markdown",
   "metadata": {
    "id": "8HPwQ3BBZM-Y"
   },
   "source": [
    "**Sample Input:**\n",
    "\n",
    "Perhaps the best way to help a child explore, express, understand emotions, problems, problem-solving, habits, and much more is via stories. Be it a quick bedtime tale or a grandma fable, each story helps a child enter a completely different magical and imaginative world that has no boundaries.\n",
    "\n",
    "\n",
    "**Sample Output:**\n",
    "\n",
    "5\n"
   ]
  },
  {
   "cell_type": "code",
   "execution_count": null,
   "metadata": {
    "id": "Z0qQP4v9ZM-Y"
   },
   "outputs": [],
   "source": [
    ""
   ]
  },
  {
   "cell_type": "markdown",
   "metadata": {
    "id": "sLWaarmTZM-Y"
   },
   "source": [
    "### 2. Write a python program to manipulate lists. Take two lists \n",
    "\n",
    "#### L1=[1,2,3,4,5,6,7,8,9,10] and L2=[10,20,30,40,50,60,70,80,90,100].\n",
    "\n",
    "\n",
    "a) Concatenate L1 and L2.(1 mark)\n",
    "\n",
    "b) Use the inbuilt function zip and save a copy of the zipped lists as L3.(2 marks)\n",
    "\n",
    "c) Identify the common elements between the two L1 and L2 and print the answer. (2 marks)"
   ]
  },
  {
   "cell_type": "markdown",
   "metadata": {
    "id": "hO5WVdq9ZM-Z"
   },
   "source": [
    "**SAMPLE INPUT AND OUTPUT:**\n",
    "\n",
    "\n",
    "L1=[1,2,3,4,5,6,7,8,9,10]\n",
    "\n",
    "L2=[10,20,30,40,50,60,70,80,90,100]\n",
    "\n",
    "Concatenation: [1, 2, 3, 4, 5, 6, 7, 8, 9, 10, 10, 20, 30, 40, 50, 60, 70, 80, 90, 100]\n",
    "\n",
    "L3=[(1, 10), (2, 20), (3, 30), (4, 40), (5, 50), (6, 60), (7, 70), (8, 80), (9, 90), (10, 100)]\n",
    "\n",
    "The common element in both the list is 10\n"
   ]
  },
  {
   "cell_type": "code",
   "execution_count": null,
   "metadata": {
    "id": "SihvV7bpZM-Z"
   },
   "outputs": [],
   "source": [
    ""
   ]
  },
  {
   "cell_type": "markdown",
   "metadata": {
    "id": "m9yg5P8XZM-Z"
   },
   "source": [
    "### 3. Write a numbers guessing game in python. Roll a dice and it shows up numbers between 1 and 6. The user has to guess the number on the dice. If the guess is correct, then the user wins. If the guess is not correct the user looses the game. (5 marks)"
   ]
  },
  {
   "cell_type": "markdown",
   "metadata": {
    "id": "BzuLYtPxZM-Z"
   },
   "source": [
    "**SAMPLE INPUT AND OUTPUT:**\n",
    "    \n",
    "Guess the number on the dice   23\n",
    "\n",
    "your guess is wrong\n",
    "\n"
   ]
  },
  {
   "cell_type": "code",
   "execution_count": null,
   "metadata": {
    "id": "rYdJ6KGPZM-a"
   },
   "outputs": [],
   "source": [
    ""
   ]
  },
  {
   "cell_type": "markdown",
   "metadata": {
    "id": "pQH9yXZRZM-a"
   },
   "source": [
    "#### 46. Write A pseudocode and  Python Program to Reverse a Given Number?"
   ]
  },
  {
   "cell_type": "markdown",
   "metadata": {
    "id": "t3cenXXOZM-a"
   },
   "source": [
    "  \n",
    "\n",
    "             INPUT:12345\n",
    "\n",
    "             OUTPUT:54321"
   ]
  },
  {
   "cell_type": "markdown",
   "metadata": {
    "id": "1mGNggGhZM-a"
   },
   "source": [
    "#### pseudocode:\n",
    "\n",
    "    1.\tTake the value of the integer and store in a variable.\n",
    "    2.\tUsing a while loop, get each digit of the number and store the reversed number in another variable.\n",
    "    3.\tPrint the reverse of the number.\n",
    "    4.\tExit."
   ]
  },
  {
   "cell_type": "code",
   "execution_count": null,
   "metadata": {
    "id": "VxHhYq3sZM-a"
   },
   "outputs": [],
   "source": [
    ""
   ]
  },
  {
   "cell_type": "markdown",
   "metadata": {
    "id": "5VzUuGDOZM-b"
   },
   "source": [
    "# SECTION B: 20 MARKS"
   ]
  },
  {
   "cell_type": "markdown",
   "metadata": {
    "id": "Xo_G8WFWZM-b"
   },
   "source": [
    "---------------------"
   ]
  },
  {
   "cell_type": "markdown",
   "metadata": {
    "id": "XL7KHvfZZM-b"
   },
   "source": [
    "### 5.India conducted a survey on Data Science colleges in India. Let us assume that the survey was conducted in an ‘n’ number of institutes. The experts were asked to rank the institutes based on three different metrics. The metrics are facilities, academics, and infrastructure. The maximum score in each category is as follows. (10 Marks)\n",
    "\n",
    " Facilities = 25\n",
    " \n",
    " Academics = 50\n",
    " \n",
    " Infrastructure = 25\n",
    " \n",
    " At the end of the survey, the scores of the individual metrics are added up to get the total score and the institutes are ranked based on the total score. The institute that scores the highest score is ranked 1st. The next highest score is given the rank 2 and so on. Write a program to read the scores of the three metrics for each institute, store the scores in a list. Make a list of individual score list for 3 institutes. Print only the Total score in the sorted (Descending) order.\n",
    " \n",
    " Input format:\n",
    " \n",
    " First-line contains the number of institutes\n",
    " \n",
    " Next line contains the scores for Facilities of Institute 1\n",
    " \n",
    " Next line contains the scores for Academics of Institute 1\n",
    " \n",
    " Next line contains the scores for Infrastructure of Institute 1\n",
    " \n",
    " Next line contains the scores for Facilities of Institute 2\n",
    " \n",
    " Next line contains the scores for Academics of Institute 2\n",
    " \n",
    " Next line contains the scores for Infrastructure of Institute 2\n",
    " \n",
    " Next line contains the scores for Facilities of Institute\n",
    " \n",
    " Next line contains the scores for Academics of Institute\n",
    " \n",
    " Next line contains the scores for Infrastructure of Institute\n",
    " \n",
    " \n",
    " \n",
    " Note: Facilities = 25 if your giving above 25 code will display: \"score cant exceed 25, please enter again\"\n",
    "  \n",
    "  Academics = 50 if your giving above 50 code will display: \"score cant exceed 50, please enter again\"\n",
    "  Infrastructure = 25 if your giving above 25 code will display: \"score cant exceed 25, please enter again\"\n",
    "  \n",
    " Output format:\n",
    " \n",
    " List of total scores in the descending order sample input:\n",
    " \n",
    " 3 \n",
    " \n",
    " 20\n",
    " \n",
    " 20\n",
    " \n",
    " 20\n",
    " \n",
    " 22\n",
    " \n",
    " 22\n",
    " \n",
    " 22\n",
    " \n",
    " 21\n",
    " \n",
    " 21\n",
    " \n",
    " 21\n",
    " \n",
    " sample output: [66,63,60]"
   ]
  },
  {
   "cell_type": "code",
   "execution_count": null,
   "metadata": {
    "id": "dFnwfWQYZM-b"
   },
   "outputs": [],
   "source": [
    ""
   ]
  },
  {
   "cell_type": "markdown",
   "metadata": {
    "id": "aOR0k0KRZM-c"
   },
   "source": [
    "### 6.Suppose you are playing rummy cards.\n",
    "  \n",
    "  Create a variable that takes a random number(1 to 10) as an input.(2 marks)\n",
    "  \n",
    " Create a loop for the following below Conversation( 8 marks)\n",
    " \n",
    " \n",
    " Step1. System: \"guess the correct card number \"\n",
    " \n",
    " step2. User: Random numbers (1 to 10)\n",
    " \n",
    " step3. system: \"Would you like to guess again? Yes or No? \"\n",
    " \n",
    " step4. User: (Yes or no) if you say yes\n",
    " \n",
    " step5. system: \"What's your next guess? \"\n",
    " \n",
    " step6. User: random number(1 to 10)\n",
    " \n",
    " step7. system: \"Just one more try! Enter your last guess, \"\n",
    " \n",
    " step8. User:random number(1 to 10)\n",
    " \n",
    " step9. system: \"That's too bad! Thanks for playing.\"\n",
    " \n",
    " Note: If user guessing is correct it will show \"Great job\" and Step number 4 if your guess is \"NO\" it will display \"That's too bad! Thanks for playing.\""
   ]
  },
  {
   "cell_type": "code",
   "execution_count": null,
   "metadata": {
    "id": "kVuv1wd0ZM-c"
   },
   "outputs": [],
   "source": [
    ""
   ]
  },
  {
   "cell_type": "markdown",
   "metadata": {
    "id": "12_cs_LuZM-c"
   },
   "source": [
    "# SECTION C: 30 MARKS"
   ]
  },
  {
   "cell_type": "markdown",
   "metadata": {
    "id": "JoRFilFtZM-d"
   },
   "source": [
    " _________________"
   ]
  },
  {
   "cell_type": "markdown",
   "metadata": {
    "id": "LrGPD-M_ZM-d"
   },
   "source": [
    "### 7. Write a function called merge that takes two already sorted lists of possibly different lengths, and merges them into a single sorted list.    (15 Marks)                                                                                       \n",
    "(a) Do this using the sort method. (7 Marks)\n",
    "    \n",
    "(b) Do this without using the sort method.(8 Marks)"
   ]
  },
  {
   "cell_type": "code",
   "execution_count": null,
   "metadata": {
    "id": "l0FzNzH-ZM-d"
   },
   "outputs": [],
   "source": [
    ""
   ]
  },
  {
   "cell_type": "markdown",
   "metadata": {
    "id": "wd2z4rNSZM-d"
   },
   "source": [
    "### 8. Write a python program for monthly finance management system. The program should ask the user about the salary/pocket money that a person gets for a month. Then it should ask the user monthly about how much he spends on rent, food, travel, health and miscellaneous. At the end of every month it should display about the money that the user saved in that month. At the MONTH end, it should tell the complete summary of how much a person earned, saved, invested and spent on various things. You should give a choice to the user whether he wants to enter any other expense monthly or not. If yes, please ask about the extra expenditures and include it in the summary. Any innovation in this basic model will be given weightage in marks. (15 Marks)"
   ]
  },
  {
   "cell_type": "code",
   "execution_count": null,
   "metadata": {
    "id": "hL16r-EQZM-d"
   },
   "outputs": [],
   "source": [
    ""
   ]
  }
 ],
 "metadata": {
  "colab": {
   "collapsed_sections": [],
   "name": "ITP_FINAL_EXAM_SET_5_PAPER.ipynb",
   "provenance": []
  },
  "kernelspec": {
   "display_name": "Python 3",
   "language": "python",
   "name": "python3"
  },
  "language_info": {
   "codemirror_mode": {
    "name": "ipython",
    "version": 3
   },
   "file_extension": ".py",
   "mimetype": "text/x-python",
   "name": "python",
   "nbconvert_exporter": "python",
   "pygments_lexer": "ipython3",
   "version": "3.8.3"
  }
 },
 "nbformat": 4,
 "nbformat_minor": 0
}
