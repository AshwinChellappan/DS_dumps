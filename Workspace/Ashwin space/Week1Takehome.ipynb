{
 "cells": [
  {
   "cell_type": "raw",
   "metadata": {
    "colab_type": "text",
    "id": "21KtRpyGIckL"
   },
   "source": [
    "1. Take two inputs from user and check whether they are equal or not."
   ]
  },
  {
   "cell_type": "code",
   "execution_count": 5,
   "metadata": {
    "colab": {},
    "colab_type": "code",
    "id": "VAIeB3vmIckN",
    "scrolled": true
   },
   "outputs": [
    {
     "name": "stdout",
     "output_type": "stream",
     "text": [
      "Enter value A: 1\n",
      "Enter value B: 2\n",
      "Inputs are not same\n"
     ]
    }
   ],
   "source": [
    "a=input(\"Enter value A: \")\n",
    "b=input(\"Enter value B: \")\n",
    "\n",
    "if(a==b):\n",
    "    print(\"Inputs are same\")\n",
    "else:\n",
    "    print(\"Inputs are not same\")"
   ]
  },
  {
   "cell_type": "raw",
   "metadata": {
    "colab_type": "text",
    "id": "jMBBv9RbIckS"
   },
   "source": [
    "2. Take a single digit integer input from the user for example (3), print an output \n",
    "\n",
    "---\n",
    "\n",
    "(3+(33))\n"
   ]
  },
  {
   "cell_type": "code",
   "execution_count": 4,
   "metadata": {
    "colab": {},
    "colab_type": "code",
    "id": "9iuvz30RIckT"
   },
   "outputs": [
    {
     "name": "stdout",
     "output_type": "stream",
     "text": [
      "Enter the integer value3\n",
      "3 +( 3 3 )\n"
     ]
    }
   ],
   "source": [
    "a=int(input(\"Enter the integer value\"))\n",
    "print(a,\"+(\",a,a,\")\")"
   ]
  },
  {
   "cell_type": "raw",
   "metadata": {
    "colab_type": "text",
    "id": "-6Vyt6WrIckX"
   },
   "source": [
    "3.  Write Python code to get a runtime variable as float and display as integer\n",
    "                   input: float number\n",
    "                   output: int number"
   ]
  },
  {
   "cell_type": "code",
   "execution_count": 7,
   "metadata": {
    "colab": {},
    "colab_type": "code",
    "id": "HgZbKiQEIckY",
    "scrolled": false
   },
   "outputs": [
    {
     "name": "stdout",
     "output_type": "stream",
     "text": [
      "Enter the float variable3.5\n",
      "3\n"
     ]
    }
   ],
   "source": [
    "flt=float(input(\"Enter the float variable\"))\n",
    "print(int(flt))"
   ]
  },
  {
   "cell_type": "raw",
   "metadata": {
    "colab_type": "text",
    "id": "tVLNiT5_Ickb"
   },
   "source": [
    "4. Create a single string from a LIST of characters.\n",
    " For Example :\n",
    " charList = ['p','y','t','h','o','n',' ','p','r','o','g','r','a','m','m','i','n','g']\n",
    " Output: python programming"
   ]
  },
  {
   "cell_type": "code",
   "execution_count": 15,
   "metadata": {
    "colab": {},
    "colab_type": "code",
    "id": "0q_IJRvuIckc"
   },
   "outputs": [
    {
     "name": "stdout",
     "output_type": "stream",
     "text": [
      "python programming\n"
     ]
    }
   ],
   "source": [
    " charList = ['p','y','t','h','o','n',' ','p','r','o','g','r','a','m','m','i','n','g']\n",
    "print(''.join(map(str,charList)))"
   ]
  },
  {
   "cell_type": "raw",
   "metadata": {
    "colab_type": "text",
    "id": "U8HCfXYcIckg"
   },
   "source": [
    "5. Python Program to Convert Celsius  to Fahrenheit\n",
    "  celsius * 1.8 = fahrenheit - 32"
   ]
  },
  {
   "cell_type": "code",
   "execution_count": 18,
   "metadata": {
    "colab": {},
    "colab_type": "code",
    "id": "bS2q1gvdIckg"
   },
   "outputs": [
    {
     "name": "stdout",
     "output_type": "stream",
     "text": [
      "Enter celsius36\n",
      "Fahrenheit  64.8\n"
     ]
    }
   ],
   "source": [
    "cel=int(input(\"Enter celsius\"))\n",
    "print(\"Fahrenheit \",cel*1.8)"
   ]
  },
  {
   "cell_type": "raw",
   "metadata": {
    "colab_type": "text",
    "id": "m4hjdLrnIckm"
   },
   "source": [
    "6. Write a program which reverse the given input number."
   ]
  },
  {
   "cell_type": "code",
   "execution_count": 24,
   "metadata": {
    "colab": {},
    "colab_type": "code",
    "id": "7-kf_-I5Ickn"
   },
   "outputs": [
    {
     "name": "stdout",
     "output_type": "stream",
     "text": [
      "Enter the variableertrd\n",
      "drtre\n"
     ]
    }
   ],
   "source": [
    "val=input(\"Enter the variable\")\n",
    "print(\"\".join(reversed(val)))"
   ]
  },
  {
   "cell_type": "raw",
   "metadata": {
    "colab_type": "text",
    "id": "N_056yUoIckv"
   },
   "source": [
    "7. Check if the given runtime variable nm = \"madam\" is Palindrome without using loop, output can be boolean."
   ]
  },
  {
   "cell_type": "code",
   "execution_count": 28,
   "metadata": {
    "colab": {},
    "colab_type": "code",
    "id": "YPY1RYlIIckw"
   },
   "outputs": [
    {
     "name": "stdout",
     "output_type": "stream",
     "text": [
      "Enter the variablemadam\n",
      "Palindrome\n"
     ]
    }
   ],
   "source": [
    "val=input(\"Enter the variable\")\n",
    "val1=\"\".join(reversed(val))\n",
    "print(\"Palindrome\" if(val==val1) else \"Not palindrome\")"
   ]
  },
  {
   "cell_type": "raw",
   "metadata": {
    "colab_type": "text",
    "id": "CujCTN1QIck4"
   },
   "source": [
    "8.Write a Python code for the below question:\n",
    "For a given number of days, find how many weeks and balance how many days are left \n",
    "eg. input = 15 days, \n",
    "Output: # weeks = 2, # days left = 1"
   ]
  },
  {
   "cell_type": "code",
   "execution_count": 33,
   "metadata": {
    "colab": {},
    "colab_type": "code",
    "id": "HX4JbQwwIck4"
   },
   "outputs": [
    {
     "name": "stdout",
     "output_type": "stream",
     "text": [
      "Enter the variable24\n",
      "Weeks 3\n",
      "Remaining days  3\n"
     ]
    }
   ],
   "source": [
    "val=int(input(\"Enter the variable\"))\n",
    "a=val%7\n",
    "b=(val % 365)/7\n",
    "print(\"Weeks\",int(b))\n",
    "print(\"Remaining days \",a)"
   ]
  },
  {
   "cell_type": "raw",
   "metadata": {
    "colab_type": "text",
    "id": "H2p6mCxIIck8"
   },
   "source": [
    "9. Check if the given number is even  without using loops. Output can be in boolean"
   ]
  },
  {
   "cell_type": "code",
   "execution_count": null,
   "metadata": {
    "colab": {},
    "colab_type": "code",
    "id": "jymOPdXpIck8"
   },
   "outputs": [],
   "source": [
    "val=int(input(\"Enter the variable\"))\n",
    "print(val/2)"
   ]
  },
  {
   "cell_type": "code",
   "execution_count": 0,
   "metadata": {
    "colab": {},
    "colab_type": "code",
    "id": "E7qqTZg_IclC"
   },
   "outputs": [],
   "source": []
  }
 ],
 "metadata": {
  "colab": {
   "collapsed_sections": [],
   "name": "Python-Takehome-Day1-Questions.ipynb",
   "provenance": []
  },
  "kernelspec": {
   "display_name": "Python 3",
   "language": "python",
   "name": "python3"
  },
  "language_info": {
   "codemirror_mode": {
    "name": "ipython",
    "version": 3
   },
   "file_extension": ".py",
   "mimetype": "text/x-python",
   "name": "python",
   "nbconvert_exporter": "python",
   "pygments_lexer": "ipython3",
   "version": "3.8.3"
  }
 },
 "nbformat": 4,
 "nbformat_minor": 1
}
