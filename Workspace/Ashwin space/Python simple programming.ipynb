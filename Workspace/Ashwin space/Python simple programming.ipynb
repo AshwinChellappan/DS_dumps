{
 "cells": [
  {
   "cell_type": "raw",
   "metadata": {
    "colab_type": "text",
    "id": "D-KgkVX3IZ-S"
   },
   "source": [
    "1.  Python Program to exchange the values of two numbers without using a temporary variable. "
   ]
  },
  {
   "cell_type": "code",
   "execution_count": 3,
   "metadata": {
    "colab": {},
    "colab_type": "code",
    "id": "yldf_YhdIZ-T"
   },
   "outputs": [
    {
     "name": "stdout",
     "output_type": "stream",
     "text": [
      "Enter the variable a :4\n",
      "Enter the variable b :6\n",
      "6    4\n"
     ]
    }
   ],
   "source": [
    "a=int(input(\"Enter the variable a :\"))\n",
    "b=int(input(\"Enter the variable b :\"))\n",
    "a,b=b,a\n",
    "print(a,\"  \",b)"
   ]
  },
  {
   "cell_type": "raw",
   "metadata": {
    "colab_type": "text",
    "id": "MrK3aZMGIZ-Y"
   },
   "source": [
    "2. Write a python code to replace all  \"a\"  with 2 for the given variable\n",
    "s = 'abc12321cba'"
   ]
  },
  {
   "cell_type": "code",
   "execution_count": 4,
   "metadata": {
    "colab": {},
    "colab_type": "code",
    "id": "J7rr7O5XIZ-Z"
   },
   "outputs": [
    {
     "name": "stdout",
     "output_type": "stream",
     "text": [
      "2bc12321cb2\n"
     ]
    }
   ],
   "source": [
    "s = 'abc12321cba'\n",
    "print(s.replace(\"a\",\"2\"))"
   ]
  },
  {
   "cell_type": "raw",
   "metadata": {
    "colab_type": "text",
    "id": "Zo8gMGlbIZ-g"
   },
   "source": [
    "3. Python code for to  remove first character in string?"
   ]
  },
  {
   "cell_type": "code",
   "execution_count": 8,
   "metadata": {
    "colab": {},
    "colab_type": "code",
    "id": "XTIKmVpiIZ-h"
   },
   "outputs": [
    {
     "name": "stdout",
     "output_type": "stream",
     "text": [
      "Enter the stringasdsd\n",
      "sdsd\n"
     ]
    }
   ],
   "source": [
    "a=input(\"Enter the string\")\n",
    "\n",
    "print(a.replace(a[:1],\"\"))\n"
   ]
  },
  {
   "cell_type": "raw",
   "metadata": {
    "colab_type": "text",
    "id": "XBhfFfEIIZ-n"
   },
   "source": [
    "4. Concatenate two strings  \n",
    "First Input : \"Great\" \n",
    "Second Input : \"Learning\"\n",
    "desired output :   \"Great Learning\""
   ]
  },
  {
   "cell_type": "code",
   "execution_count": 9,
   "metadata": {
    "colab": {},
    "colab_type": "code",
    "id": "qVhNDe9mIZ-p"
   },
   "outputs": [
    {
     "name": "stdout",
     "output_type": "stream",
     "text": [
      "Great Learning\n"
     ]
    }
   ],
   "source": [
    "a=\"Great\"\n",
    "b=\"Learning\"\n",
    "print(a,b)"
   ]
  },
  {
   "cell_type": "raw",
   "metadata": {
    "colab_type": "text",
    "id": "W1CyejMTIZ-t"
   },
   "source": [
    "5. Repeat the string \"Great Learning\" 3 times \n",
    "desired output :  'Great Learning Great Learning Great Learning '"
   ]
  },
  {
   "cell_type": "code",
   "execution_count": 11,
   "metadata": {
    "colab": {},
    "colab_type": "code",
    "id": "6B83XYHVIZ-u"
   },
   "outputs": [
    {
     "name": "stdout",
     "output_type": "stream",
     "text": [
      " Great Learning Great Learning Great Learning\n"
     ]
    }
   ],
   "source": [
    "a=\" Great Learning\"\n",
    "\n",
    "print(a*3)"
   ]
  },
  {
   "cell_type": "raw",
   "metadata": {
    "colab_type": "text",
    "id": "4oblWnrSIZ-y"
   },
   "source": [
    "6. Create 3 variables a1,a2,a3. Assign the same value \" 4 \" to all the variables in a single line of code."
   ]
  },
  {
   "cell_type": "code",
   "execution_count": 14,
   "metadata": {
    "colab": {},
    "colab_type": "code",
    "id": "O7nH3nd-IZ-y"
   },
   "outputs": [
    {
     "name": "stdout",
     "output_type": "stream",
     "text": [
      "4 4 4\n"
     ]
    }
   ],
   "source": [
    "a1,a2,a3=4,4,4\n",
    "print(a1 ,a2, a3)"
   ]
  },
  {
   "cell_type": "raw",
   "metadata": {
    "colab_type": "text",
    "id": "fs_t4D-oIZ-2"
   },
   "source": [
    "7. Calculate BMI of a person using the height and weight.\n",
    "BMI = weight / (height **2)\n"
   ]
  },
  {
   "cell_type": "code",
   "execution_count": 23,
   "metadata": {
    "colab": {},
    "colab_type": "code",
    "id": "N_VZSoYjIZ-3"
   },
   "outputs": [
    {
     "name": "stdout",
     "output_type": "stream",
     "text": [
      "Enter weight67\n",
      "Enter height6.2\n",
      "1.7429760665972942\n"
     ]
    }
   ],
   "source": [
    "weight=int(input(\"Enter weight\"))\n",
    "height=float(input(\"Enter height\"))\n",
    "print(weight/(height**2))"
   ]
  },
  {
   "cell_type": "raw",
   "metadata": {
    "colab_type": "text",
    "id": "JgXK2m28IZ-7"
   },
   "source": [
    "8.Write a python program to calculate the area of circle."
   ]
  },
  {
   "cell_type": "code",
   "execution_count": 19,
   "metadata": {
    "colab": {},
    "colab_type": "code",
    "id": "m73v7qoCIZ-8"
   },
   "outputs": [
    {
     "name": "stdout",
     "output_type": "stream",
     "text": [
      "Enter the radius5\n",
      "78.5\n"
     ]
    }
   ],
   "source": [
    "radius=float(input(\"Enter the radius\"))\n",
    "print( 3.14*(radius*radius))"
   ]
  },
  {
   "cell_type": "raw",
   "metadata": {
    "colab_type": "text",
    "id": "BHXFt9VwIZ_A"
   },
   "source": [
    "9.Calculate the simple interest\n",
    "simple_interest = p * n * r /100"
   ]
  },
  {
   "cell_type": "code",
   "execution_count": 21,
   "metadata": {
    "colab": {},
    "colab_type": "code",
    "id": "7wHLjXC4IZ_B"
   },
   "outputs": [
    {
     "name": "stdout",
     "output_type": "stream",
     "text": [
      "Enter the principal10000\n",
      "Enter the N7\n",
      "Enter the rate3\n",
      "2100.0\n"
     ]
    }
   ],
   "source": [
    "Principal=float(input(\"Enter the principal\"))\n",
    "interest=float(input(\"Enter the N\"))\n",
    "rate=float(input(\"Enter the rate\"))\n",
    "print((Principal*interest*rate)/100)"
   ]
  },
  {
   "cell_type": "raw",
   "metadata": {
    "colab_type": "text",
    "id": "afLADSCGIZ_G"
   },
   "source": [
    "10.Python code to calculate the square root of the given number(run time variable)"
   ]
  },
  {
   "cell_type": "code",
   "execution_count": 24,
   "metadata": {
    "colab": {},
    "colab_type": "code",
    "id": "XBTku4euIZ_H"
   },
   "outputs": [
    {
     "name": "stdout",
     "output_type": "stream",
     "text": [
      "Enter the number to find square root5\n",
      "2.23606797749979\n"
     ]
    }
   ],
   "source": [
    "import math as m\n",
    "number=int(input(\"Enter the number to find square root\"))\n",
    "print(m.sqrt(number))"
   ]
  },
  {
   "cell_type": "code",
   "execution_count": null,
   "metadata": {},
   "outputs": [],
   "source": []
  }
 ],
 "metadata": {
  "colab": {
   "collapsed_sections": [],
   "name": "Python-Inclass-Day1- (Questions).ipynb",
   "provenance": []
  },
  "kernelspec": {
   "display_name": "Python 3",
   "language": "python",
   "name": "python3"
  },
  "language_info": {
   "codemirror_mode": {
    "name": "ipython",
    "version": 3
   },
   "file_extension": ".py",
   "mimetype": "text/x-python",
   "name": "python",
   "nbconvert_exporter": "python",
   "pygments_lexer": "ipython3",
   "version": "3.8.8"
  }
 },
 "nbformat": 4,
 "nbformat_minor": 1
}
