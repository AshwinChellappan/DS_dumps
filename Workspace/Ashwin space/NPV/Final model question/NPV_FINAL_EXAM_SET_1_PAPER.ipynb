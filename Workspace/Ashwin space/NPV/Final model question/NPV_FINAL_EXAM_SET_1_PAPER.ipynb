{
 "cells": [
  {
   "cell_type": "markdown",
   "metadata": {
    "colab_type": "text",
    "id": "MAqv6aTWW0ce"
   },
   "source": [
    "# NPV FINAL EXAM"
   ]
  },
  {
   "cell_type": "markdown",
   "metadata": {
    "colab_type": "text",
    "id": "lLljTSuE7ynC"
   },
   "source": [
    "-----------------------"
   ]
  },
  {
   "cell_type": "markdown",
   "metadata": {
    "colab_type": "text",
    "id": "9O__loLwW0cp"
   },
   "source": [
    "# SECTION A: 20 MARKS"
   ]
  },
  {
   "cell_type": "markdown",
   "metadata": {
    "colab_type": "text",
    "id": "7xtvJfT3W0cq"
   },
   "source": [
    " _________________"
   ]
  },
  {
   "cell_type": "markdown",
   "metadata": {
    "colab_type": "text",
    "id": "wpAt-7zA7ynH"
   },
   "source": [
    "### 1. Create a Numpy array of size 20 elements using random package. Convert the above numpy array into 2 equal arrays of size 2x5 each. Convert the second array to a 1-D array and reverse the elements.And find the 4th element in the reversed array.(5 Marks)"
   ]
  },
  {
   "cell_type": "code",
   "execution_count": null,
   "metadata": {
    "colab": {},
    "colab_type": "code",
    "id": "EKird3md7ynJ"
   },
   "outputs": [],
   "source": []
  },
  {
   "cell_type": "markdown",
   "metadata": {
    "colab_type": "text",
    "id": "qbp8eqRy7ynP"
   },
   "source": [
    "### 2. Write a Program\n",
    "\n",
    "A.\tCreate a Series with words 'hello how are you'. as the contents. (1marks)\n",
    "\n",
    "B.\tConvert the first letter of every element in series to uppercase. (1marks)\n",
    "\n",
    "C.\tFind the length of each element in the series. And find the lengthiest word in the series. (3marks)\n"
   ]
  },
  {
   "cell_type": "code",
   "execution_count": null,
   "metadata": {
    "colab": {},
    "colab_type": "code",
    "id": "BIADDUDX7ynR"
   },
   "outputs": [],
   "source": []
  },
  {
   "cell_type": "markdown",
   "metadata": {
    "colab_type": "text",
    "id": "tqVuBx7n7ynW"
   },
   "source": [
    "### 3. Write a Program\n",
    "    \n",
    "A.\tCreate a 5x5 array with random values and find the minimum and maximum values (1 mark)\n",
    "\n",
    "B.\tAdd a padding (filled with 0's) around random array of size 5*5 created in Question number 'A' (1 Mark)\n",
    "\n",
    "C.\tCreate a zero matrix of size 5x5 and add values 1,2,3,4,5 as diagonal values of that matrix (1 Mark)\n",
    "\n",
    "D.\tGiven a 1D array (1-20), negate all elements which are between 11 and 18 (Both included), in place. (2 Marks)\n",
    "\n"
   ]
  },
  {
   "cell_type": "code",
   "execution_count": null,
   "metadata": {
    "colab": {},
    "colab_type": "code",
    "id": "loBqrIwJ7ynX"
   },
   "outputs": [],
   "source": []
  },
  {
   "cell_type": "code",
   "execution_count": null,
   "metadata": {
    "colab": {},
    "colab_type": "code",
    "id": "VN8SkWQL75AT"
   },
   "outputs": [],
   "source": []
  },
  {
   "cell_type": "markdown",
   "metadata": {
    "colab_type": "text",
    "id": "0JExzQRz7ynd"
   },
   "source": [
    "### 4.\tWrite a program to \n",
    "\n",
    "A.\tCreate a pandas Series with consecutive numbers between 10 to 20 (include both the boundary values in the series). (1 Mark)\n",
    "\n",
    "B.\tReplace all the even numbers with number 30. (1 Mark)\n",
    "\n",
    "C.\tDisplay the series in descending order. (1 Mark)\n",
    "\n",
    "D.\tCreate a Data frame from the above-created series with column names as numbers. Fetch the data from 2nd, 6th, and 7th rows. \n",
    "(2 Marks)\n"
   ]
  },
  {
   "cell_type": "code",
   "execution_count": null,
   "metadata": {
    "colab": {},
    "colab_type": "code",
    "id": "jWKsa6s57yng"
   },
   "outputs": [],
   "source": []
  },
  {
   "cell_type": "markdown",
   "metadata": {
    "colab_type": "text",
    "id": "gXqnKPeSW0cy"
   },
   "source": [
    "# SECTION B: 20 MARKS"
   ]
  },
  {
   "cell_type": "markdown",
   "metadata": {
    "colab_type": "text",
    "id": "u3U_rlY47yno"
   },
   "source": [
    "--------------"
   ]
  },
  {
   "cell_type": "markdown",
   "metadata": {
    "colab_type": "text",
    "id": "5q2VrzPeW0cf"
   },
   "source": [
    "\n",
    "\n",
    "\n",
    "### We combined Two datasets in single CSV file and mention below columns belongs to \n",
    "\n",
    "\n",
    "\n",
    "### UK_Flight_2018\n",
    "\n",
    "This dataset contains information about Every quarter we will update key figures which summarise the levels of activity at the UK’s airports. In each edition we will also include some different interesting facts derived from the various data sources available to the CAA.\n",
    "\n",
    "\n",
    "* run_date\t\n",
    "* reporting_period\t\n",
    "* reporting_airport\t\n",
    "* origin_destination_country\t\n",
    "* origin_destination\t\n",
    "* airline_name\tscheduled_charter\t\n",
    "* number_flights_matched\t\n",
    "* actual_flights_unmatched\t\n",
    "* number_flights_cancelled\t\n",
    "* flights_more_than_15_minutes_early_percent\t\n",
    "* flights_15_minutes_early_to_1_minute_early_percent\t\n",
    "* flights_0_to_15_minutes_late_percent\t\n",
    "* flights_between_16_and_30_minutes_late_percent\t\n",
    "* flights_between_31_and_60_minutes_late_percent\t\n",
    "* flights_between_61_and_120_minutes_late_percent\t\n",
    "* flights_between_121_and_180_minutes_late_percent\t\n",
    "* flights_between_181_and_360_minutes_late_percent\t\n",
    "* flights_more_than_360_minutes_late_percent\t\n",
    "* flights_unmatched_percent\t\n",
    "\n",
    "* flights_cancelled_percent\taverage_delay_mins\t\n",
    "* previous_year_month_flights_matched\t\n",
    "* previous_year_month_early_to_15_mins_late_percent\tprevious_year_month_average_delay\n"
   ]
  },
  {
   "cell_type": "markdown",
   "metadata": {
    "colab_type": "text",
    "id": "YqPR1CQy7ynr"
   },
   "source": [
    "### ramen_ratings"
   ]
  },
  {
   "cell_type": "markdown",
   "metadata": {
    "colab_type": "text",
    "id": "b5LLzEre7yns"
   },
   "source": [
    "The Ramen Rater is a product review website for the hardcore ramen enthusiast (or \"ramenphile\"), with over 1128 reviews to date. \n",
    "\n",
    "Each record in the dataset is a single ramen product review. Review numbers are contiguous: more recently reviewed ramen varieties have higher numbers. Brand, Variety (the product name), Country, and Style (Cup? Bowl? Tray?) are pretty self-explanatory. Stars indicate the ramen quality, as assessed by the reviewer, on a 5-point scale; this is the most important column in the dataset!"
   ]
  },
  {
   "cell_type": "markdown",
   "metadata": {
    "colab_type": "text",
    "id": "hVKuRZCe7ynt"
   },
   "source": [
    "* Review #\n",
    "* Brand\t\n",
    "* Variety\t\n",
    "* Style\t\n",
    "* Country\t\n",
    "* Stars\t\n",
    "* Top Ten"
   ]
  },
  {
   "cell_type": "markdown",
   "metadata": {
    "colab_type": "raw",
    "id": "wEgYP9-oW0cg"
   },
   "source": [
    "## Kindly change the below cells from markdown to code and execute it "
   ]
  },
  {
   "cell_type": "markdown",
   "metadata": {
    "colab_type": "raw",
    "id": "VQ_WA9jKW0ch"
   },
   "source": [
    "import pandas as pd\n",
    "\n",
    "import csv\n",
    "\n",
    "with open(\"data_set.csv\",\"r\")as file:\n",
    "    \n",
    "    reader=csv.reader(file)\n",
    "\n",
    "df=pd.read_csv(\"data_set.csv\")\n",
    "\n",
    "df.head()\n"
   ]
  },
  {
   "cell_type": "code",
   "execution_count": null,
   "metadata": {
    "colab": {},
    "colab_type": "code",
    "id": "QYbukIDmW0cl",
    "outputId": "3abf353b-879b-49ff-d794-4ad4629942ba",
    "scrolled": true
   },
   "outputs": [
    {
     "data": {
      "text/html": [
       "<div>\n",
       "<style scoped>\n",
       "    .dataframe tbody tr th:only-of-type {\n",
       "        vertical-align: middle;\n",
       "    }\n",
       "\n",
       "    .dataframe tbody tr th {\n",
       "        vertical-align: top;\n",
       "    }\n",
       "\n",
       "    .dataframe thead th {\n",
       "        text-align: right;\n",
       "    }\n",
       "</style>\n",
       "<table border=\"1\" class=\"dataframe\">\n",
       "  <thead>\n",
       "    <tr style=\"text-align: right;\">\n",
       "      <th></th>\n",
       "      <th>run_date</th>\n",
       "      <th>reporting_period</th>\n",
       "      <th>reporting_airport</th>\n",
       "      <th>origin_destination_country</th>\n",
       "      <th>origin_destination</th>\n",
       "      <th>airline_name</th>\n",
       "      <th>scheduled_charter</th>\n",
       "      <th>number_flights_matched</th>\n",
       "      <th>actual_flights_unmatched</th>\n",
       "      <th>number_flights_cancelled</th>\n",
       "      <th>...</th>\n",
       "      <th>flights_between_61_and_120_minutes_late_percent</th>\n",
       "      <th>flights_between_121_and_180_minutes_late_percent</th>\n",
       "      <th>flights_between_181_and_360_minutes_late_percent</th>\n",
       "      <th>flights_more_than_360_minutes_late_percent</th>\n",
       "      <th>flights_unmatched_percent</th>\n",
       "      <th>flights_cancelled_percent</th>\n",
       "      <th>average_delay_mins</th>\n",
       "      <th>previous_year_month_flights_matched</th>\n",
       "      <th>previous_year_month_early_to_15_mins_late_percent</th>\n",
       "      <th>previous_year_month_average_delay</th>\n",
       "    </tr>\n",
       "  </thead>\n",
       "  <tbody>\n",
       "    <tr>\n",
       "      <th>0</th>\n",
       "      <td>30-04-2018 13:48</td>\n",
       "      <td>201801</td>\n",
       "      <td>ABERDEEN</td>\n",
       "      <td>POLAND</td>\n",
       "      <td>GDANSK</td>\n",
       "      <td>WIZZ AIR</td>\n",
       "      <td>S</td>\n",
       "      <td>18</td>\n",
       "      <td>0</td>\n",
       "      <td>2</td>\n",
       "      <td>...</td>\n",
       "      <td>0.0</td>\n",
       "      <td>5.0</td>\n",
       "      <td>0.0</td>\n",
       "      <td>0.0</td>\n",
       "      <td>0.0</td>\n",
       "      <td>10.0</td>\n",
       "      <td>11.0</td>\n",
       "      <td>19</td>\n",
       "      <td>63.157895</td>\n",
       "      <td>33.736842</td>\n",
       "    </tr>\n",
       "  </tbody>\n",
       "</table>\n",
       "<p>1 rows × 25 columns</p>\n",
       "</div>"
      ],
      "text/plain": [
       "           run_date  reporting_period reporting_airport  \\\n",
       "0  30-04-2018 13:48            201801          ABERDEEN   \n",
       "\n",
       "  origin_destination_country origin_destination airline_name  \\\n",
       "0                     POLAND             GDANSK     WIZZ AIR   \n",
       "\n",
       "  scheduled_charter  number_flights_matched  actual_flights_unmatched  \\\n",
       "0                 S                      18                         0   \n",
       "\n",
       "   number_flights_cancelled  ...  \\\n",
       "0                         2  ...   \n",
       "\n",
       "   flights_between_61_and_120_minutes_late_percent  \\\n",
       "0                                              0.0   \n",
       "\n",
       "   flights_between_121_and_180_minutes_late_percent  \\\n",
       "0                                               5.0   \n",
       "\n",
       "   flights_between_181_and_360_minutes_late_percent  \\\n",
       "0                                               0.0   \n",
       "\n",
       "   flights_more_than_360_minutes_late_percent  flights_unmatched_percent  \\\n",
       "0                                         0.0                        0.0   \n",
       "\n",
       "   flights_cancelled_percent  average_delay_mins  \\\n",
       "0                       10.0                11.0   \n",
       "\n",
       "   previous_year_month_flights_matched  \\\n",
       "0                                   19   \n",
       "\n",
       "   previous_year_month_early_to_15_mins_late_percent  \\\n",
       "0                                          63.157895   \n",
       "\n",
       "   previous_year_month_average_delay  \n",
       "0                          33.736842  \n",
       "\n",
       "[1 rows x 25 columns]"
      ]
     },
     "execution_count": 143,
     "metadata": {
      "tags": []
     },
     "output_type": "execute_result"
    }
   ],
   "source": [
    "UK_Flight_2018 = df.iloc[:, 7:]\n",
    "UK_Flight_2018.head(1)"
   ]
  },
  {
   "cell_type": "code",
   "execution_count": null,
   "metadata": {
    "colab": {},
    "colab_type": "code",
    "id": "BM-deEV0W0cn",
    "outputId": "e10bf95b-44b1-4132-f04b-569b805aa65f",
    "scrolled": false
   },
   "outputs": [
    {
     "data": {
      "text/html": [
       "<div>\n",
       "<style scoped>\n",
       "    .dataframe tbody tr th:only-of-type {\n",
       "        vertical-align: middle;\n",
       "    }\n",
       "\n",
       "    .dataframe tbody tr th {\n",
       "        vertical-align: top;\n",
       "    }\n",
       "\n",
       "    .dataframe thead th {\n",
       "        text-align: right;\n",
       "    }\n",
       "</style>\n",
       "<table border=\"1\" class=\"dataframe\">\n",
       "  <thead>\n",
       "    <tr style=\"text-align: right;\">\n",
       "      <th></th>\n",
       "      <th>Review #</th>\n",
       "      <th>Brand</th>\n",
       "      <th>Variety</th>\n",
       "      <th>Style</th>\n",
       "      <th>Country</th>\n",
       "      <th>Stars</th>\n",
       "      <th>Top Ten</th>\n",
       "    </tr>\n",
       "  </thead>\n",
       "  <tbody>\n",
       "    <tr>\n",
       "      <th>0</th>\n",
       "      <td>2580</td>\n",
       "      <td>New Touch</td>\n",
       "      <td>T's Restaurant Tantanmen</td>\n",
       "      <td>Cup</td>\n",
       "      <td>Japan</td>\n",
       "      <td>3.75</td>\n",
       "      <td>NaN</td>\n",
       "    </tr>\n",
       "  </tbody>\n",
       "</table>\n",
       "</div>"
      ],
      "text/plain": [
       "   Review #      Brand                    Variety Style Country  Stars Top Ten\n",
       "0      2580  New Touch  T's Restaurant Tantanmen    Cup   Japan   3.75     NaN"
      ]
     },
     "execution_count": 144,
     "metadata": {
      "tags": []
     },
     "output_type": "execute_result"
    }
   ],
   "source": [
    "ramen_ratings = df.iloc[:, :7]\n",
    "ramen_ratings.head(1)"
   ]
  },
  {
   "cell_type": "code",
   "execution_count": null,
   "metadata": {
    "colab": {},
    "colab_type": "code",
    "id": "2Q8j4lS17yoA"
   },
   "outputs": [],
   "source": []
  },
  {
   "cell_type": "markdown",
   "metadata": {
    "colab_type": "text",
    "id": "_4-j8UR87yoK"
   },
   "source": [
    "### 5. Read the given Dataset UK_Flight_2018.\n",
    "\n",
    "A.\tFind the number of rows and columns present in it. (1 Marks)\n",
    "\n",
    "B.\tIdentify the airline names flying in the UK. (1 Marks)\n",
    "\n",
    "C.\tFind the list of flights that origin from Vietnam. (1 Marks)\n",
    "\n",
    "D.\tFind the number of airlines under each reporting airport. (1 Marks)\n",
    "\n",
    "E.\tFind the number of flights that origin from Los Angeles and reporting at Heathrow Airport. (2 Marks)\n",
    "\n",
    "F.\tFind the total number of flights matched, unmatched and canceled. (2 Marks)\n",
    "\n",
    "G.\tFor flights originating from the USA and find the average delay in minutes for every airline. (2 Marks)\n",
    "\n",
    "H.\tFind the list of airlines whose flights are delayed for more than an hour for at least 10% of the time. Calculate the total percentage collectively as the average of all the delay percentages for 60 minutes till 360 minutes. (5 Marks)\n",
    "\n",
    "I. Identify the scheduled_charter names with counts flying in the UK and also, Plot the bar plot for scheduled_charter. (5 Marks)\n"
   ]
  },
  {
   "cell_type": "code",
   "execution_count": null,
   "metadata": {
    "colab": {},
    "colab_type": "code",
    "id": "wyblABb67yoK"
   },
   "outputs": [],
   "source": []
  },
  {
   "cell_type": "markdown",
   "metadata": {
    "colab_type": "text",
    "id": "osuRV5e-7yoX"
   },
   "source": [
    "# SECTION C: 30 MARKS"
   ]
  },
  {
   "cell_type": "markdown",
   "metadata": {
    "colab_type": "text",
    "id": "l6YnGKTRW0cz"
   },
   "source": [
    " _________________"
   ]
  },
  {
   "cell_type": "markdown",
   "metadata": {
    "colab_type": "text",
    "id": "WIP1sO3E7yoa"
   },
   "source": [
    "### 6.Read the given Dataset (Ramen-rating)\n",
    "\n",
    "A.\tIdentify number of brands about which the information is being captured in the dataset (2 MARKS)\n",
    "\n",
    "B.\tWhich brands are having the highest number of reviews (2 MARKS)\n",
    "\n",
    "C.\tIdentify for how many rows the data for column Top Ten exists? (2 Marks)\n",
    "\n",
    "D.\t Store the data of bowl noodles for countries China and Taiwan in a data frame and display it. (3 MARKS)\n",
    "\n",
    "E.\tStore the result in a data frame. Using the data frame find the brands that have ranking more than 4. (2 Marks)\n",
    "\n",
    "F.\tWrite a function to return the year in numbers or null if there is no value for Top Ten column. Use this value to create a \n",
    "new column Top_Year. (5 Marks)\n",
    "\n",
    "Add the column to the dataset. (1 Marks)\n",
    "\n",
    "\n",
    "G.\t For every “Country” and “Style” of noodle find the average “Stars”. Order them by stars highest to lowest. (3 MARKS)\n",
    "\n",
    "H.\tWhich “Country” and “Style” of the noodle combinations are having the overall highest rating (5 MARKS)\n",
    "\n",
    "\n",
    "I.\t Find out the “Country” about which we have maximum number of information in the dataset (5 MARKS)\n",
    "\n",
    "\n"
   ]
  },
  {
   "cell_type": "code",
   "execution_count": null,
   "metadata": {
    "colab": {},
    "colab_type": "code",
    "id": "Jktqh0qI7yob"
   },
   "outputs": [],
   "source": []
  }
 ],
 "metadata": {
  "colab": {
   "collapsed_sections": [],
   "name": "NPV_FINAL_EXAM_SET_1_PAPER.ipynb",
   "provenance": []
  },
  "kernelspec": {
   "display_name": "Python 3",
   "language": "python",
   "name": "python3"
  },
  "language_info": {
   "codemirror_mode": {
    "name": "ipython",
    "version": 3
   },
   "file_extension": ".py",
   "mimetype": "text/x-python",
   "name": "python",
   "nbconvert_exporter": "python",
   "pygments_lexer": "ipython3",
   "version": "3.8.3"
  }
 },
 "nbformat": 4,
 "nbformat_minor": 1
}
