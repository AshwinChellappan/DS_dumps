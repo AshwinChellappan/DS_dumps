{
 "cells": [
  {
   "cell_type": "markdown",
   "metadata": {},
   "source": [
    "<table align=\"center\" width=100%>\n",
    "    <tr>\n",
    "        <td width=\"15%\">\n",
    "            <img src=\"in_class.png\">\n",
    "        </td>\n",
    "        <td>\n",
    "            <div align=\"center\">\n",
    "                <font color=\"#21618C\" size=8px>\n",
    "                    <b> Inclass - Lab <br>(Day 1)\n",
    "                    </b>\n",
    "                </font>\n",
    "            </div>\n",
    "        </td>\n",
    "    </tr>\n",
    "</table>"
   ]
  },
  {
   "cell_type": "markdown",
   "metadata": {},
   "source": [
    "### About the data set 1 (Life Expectancy data)\n",
    "\n",
    "The dataset contains information about several health and economic factors that contribute to average life expectancy for different countries. <br> Attribute information: \n",
    "\n",
    "**Country:** Name of the country\n",
    "\n",
    "**Status:** Whether the country is Developed or Developing\n",
    "\n",
    "**Adult_Mortality:** Mortality rate for age group 15-60 out of every 1000 individuals of the population\n",
    "\n",
    "**Infant_Deaths:** Number of infant deaths per 1000 population\n",
    "\n",
    "**Hepatitis:** Hepatitis B (HepB) immunization coverage for 1 year olds (Percentage)\n",
    "\n",
    "**Measles:** Number of reported cases for measles per 1000 from population\n",
    "\n",
    "**BMI:** Average Body Mass Index for entire population\n",
    "\n",
    "**Underfive_Deaths:** Number of deaths under 5 years of age per 1000 population\n",
    "\n",
    "**Polio:** Polio (Pol3) immunization coverage for 1 year olds (Percentage)\n",
    "\n",
    "**Diphtheria:** Diphtheria tetanus toxoid and pertussis (DTP3) immunization coverage for 1 year olds (Percentage)\n",
    "\n",
    "**HIV:** Deaths per 1000 live births due to HIV/AIDS (0-4 years)\n",
    "\n",
    "**GDP:** Gross Domestic Product per capita (in USD)\n",
    "\n",
    "**Population:** Population of the country\n",
    "\n",
    "**Malnourished10_19:** Prevalence of malnutrition among children and adolescents for Age 10 to 19 (Percentage)\n",
    "\n",
    "**Malnourished5_9:** Prevalence of malnutrition among children for Age 5 to 9 (Percentage)\n",
    "\n",
    "**Income_Index:** Human Development Index (HDI) in terms of national income per capita (index ranging from 0 to 1)\n",
    "\n",
    "**Schooling:** Number of years of Schooling\n",
    "\n",
    "**Life_Expectancy:** Life Expectancy in age for the country\n",
    "\n",
    "\n",
    "\n"
   ]
  },
  {
   "cell_type": "markdown",
   "metadata": {},
   "source": [
    "## Table of Content\n",
    "\n",
    "1. **[Bivariate Regression](#Bivariate)**\n",
    "2. **[Multiple Linear Regression (MLR)](#MLR)**\n",
    "3. **[Inferences about slope](#ins)**\n",
    "4. **[Model Evaluation](#ML_eval)**\n",
    "5. **[Assumptions of Linear Regression](#assum)**\n",
    "6. **[Model Performance](#ml_perf)**"
   ]
  },
  {
   "cell_type": "markdown",
   "metadata": {},
   "source": [
    "**Import the required libraries**"
   ]
  },
  {
   "cell_type": "code",
   "execution_count": 1,
   "metadata": {},
   "outputs": [],
   "source": [
    "# import 'Pandas' \n",
    "import pandas as pd \n",
    "\n",
    "# import 'Numpy' \n",
    "import numpy as np\n",
    "\n",
    "# import 'matplotlib.pyplot' \n",
    "import matplotlib.pyplot as plt\n",
    "\n",
    "# import 'Seaborn' \n",
    "import seaborn as sns\n",
    "\n",
    "# to suppress warnings \n",
    "from warnings import filterwarnings\n",
    "filterwarnings('ignore')\n",
    "\n",
    "# display all columns of the dataframe\n",
    "pd.options.display.max_columns = None\n",
    "\n",
    "# display all rows of the dataframe\n",
    "pd.options.display.max_rows = None\n",
    " \n",
    "# to suppress the notation 'e'    \n",
    "pd.options.display.float_format = '{:.6f}'.format\n",
    "\n",
    "# import various metrics from 'Scikit-learn' (sklearn)\n",
    "from sklearn.model_selection import train_test_split\n",
    "\n",
    "# 'Statsmodels' is used to build and analyze various statistical models\n",
    "import statsmodels\n",
    "import statsmodels.api as sm\n",
    "import statsmodels.stats.api as sms\n",
    "import statsmodels.formula.api as smf\n",
    "from statsmodels.tools.eval_measures import rmse\n",
    "from statsmodels.compat import lzip\n",
    "from statsmodels.stats.outliers_influence import variance_inflation_factor\n",
    "from statsmodels.stats.diagnostic import linear_rainbow\n",
    "import statsmodels.tsa.api as smt\n",
    "from statsmodels.graphics.gofplots import qqplot\n",
    "from statsmodels.stats.stattools import durbin_watson\n",
    "\n",
    "# 'SciPy' is used to perform scientific computations\n",
    "from scipy import stats\n",
    "from scipy.stats import shapiro\n",
    "\n",
    "# 'metrics' from sklearn is used for evaluating the model performance\n",
    "from sklearn.metrics import mean_absolute_error\n",
    "from sklearn.metrics import mean_squared_error"
   ]
  },
  {
   "cell_type": "markdown",
   "metadata": {},
   "source": [
    "#### Load the first dataset and check the first five observations\n",
    "\n",
    "Load the csv file and set the first column as index"
   ]
  },
  {
   "cell_type": "code",
   "execution_count": 2,
   "metadata": {},
   "outputs": [
    {
     "data": {
      "text/html": [
       "<div>\n",
       "<style scoped>\n",
       "    .dataframe tbody tr th:only-of-type {\n",
       "        vertical-align: middle;\n",
       "    }\n",
       "\n",
       "    .dataframe tbody tr th {\n",
       "        vertical-align: top;\n",
       "    }\n",
       "\n",
       "    .dataframe thead th {\n",
       "        text-align: right;\n",
       "    }\n",
       "</style>\n",
       "<table border=\"1\" class=\"dataframe\">\n",
       "  <thead>\n",
       "    <tr style=\"text-align: right;\">\n",
       "      <th></th>\n",
       "      <th>Status</th>\n",
       "      <th>Adult_Mortality</th>\n",
       "      <th>Infant_Deaths</th>\n",
       "      <th>Hepatitis</th>\n",
       "      <th>Measles</th>\n",
       "      <th>BMI</th>\n",
       "      <th>Underfive_Deaths</th>\n",
       "      <th>Polio</th>\n",
       "      <th>Diphtheria</th>\n",
       "      <th>HIV</th>\n",
       "      <th>GDP</th>\n",
       "      <th>Population</th>\n",
       "      <th>Malnourished10_19</th>\n",
       "      <th>Malnourished5_9</th>\n",
       "      <th>Income_Index</th>\n",
       "      <th>Schooling</th>\n",
       "      <th>Expected</th>\n",
       "    </tr>\n",
       "    <tr>\n",
       "      <th>Country</th>\n",
       "      <th></th>\n",
       "      <th></th>\n",
       "      <th></th>\n",
       "      <th></th>\n",
       "      <th></th>\n",
       "      <th></th>\n",
       "      <th></th>\n",
       "      <th></th>\n",
       "      <th></th>\n",
       "      <th></th>\n",
       "      <th></th>\n",
       "      <th></th>\n",
       "      <th></th>\n",
       "      <th></th>\n",
       "      <th></th>\n",
       "      <th></th>\n",
       "      <th></th>\n",
       "    </tr>\n",
       "  </thead>\n",
       "  <tbody>\n",
       "    <tr>\n",
       "      <th>Afghanistan</th>\n",
       "      <td>Developing</td>\n",
       "      <td>263</td>\n",
       "      <td>62</td>\n",
       "      <td>65</td>\n",
       "      <td>1154</td>\n",
       "      <td>19.100000</td>\n",
       "      <td>83</td>\n",
       "      <td>6</td>\n",
       "      <td>65</td>\n",
       "      <td>0.100000</td>\n",
       "      <td>584.259210</td>\n",
       "      <td>33736494</td>\n",
       "      <td>17.200000</td>\n",
       "      <td>17.300000</td>\n",
       "      <td>0.479000</td>\n",
       "      <td>10.100000</td>\n",
       "      <td>65.000000</td>\n",
       "    </tr>\n",
       "    <tr>\n",
       "      <th>Albania</th>\n",
       "      <td>Developing</td>\n",
       "      <td>8</td>\n",
       "      <td>0</td>\n",
       "      <td>98</td>\n",
       "      <td>0</td>\n",
       "      <td>57.200000</td>\n",
       "      <td>1</td>\n",
       "      <td>98</td>\n",
       "      <td>98</td>\n",
       "      <td>0.100000</td>\n",
       "      <td>4575.763787</td>\n",
       "      <td>288914</td>\n",
       "      <td>1.200000</td>\n",
       "      <td>1.300000</td>\n",
       "      <td>0.761000</td>\n",
       "      <td>14.200000</td>\n",
       "      <td>77.500000</td>\n",
       "    </tr>\n",
       "  </tbody>\n",
       "</table>\n",
       "</div>"
      ],
      "text/plain": [
       "                 Status  Adult_Mortality  Infant_Deaths  Hepatitis   Measles   \\\n",
       "Country                                                                         \n",
       "Afghanistan  Developing              263             62          65      1154   \n",
       "Albania      Developing                8              0          98         0   \n",
       "\n",
       "                 BMI   Underfive_Deaths   Polio  Diphtheria       HIV  \\\n",
       "Country                                                                 \n",
       "Afghanistan 19.100000                 83      6           65 0.100000   \n",
       "Albania     57.200000                  1     98           98 0.100000   \n",
       "\n",
       "                    GDP  Population  Malnourished10_19   Malnourished5_9  \\\n",
       "Country                                                                    \n",
       "Afghanistan  584.259210    33736494           17.200000        17.300000   \n",
       "Albania     4575.763787      288914            1.200000         1.300000   \n",
       "\n",
       "             Income_Index  Schooling  Expected  \n",
       "Country                                         \n",
       "Afghanistan      0.479000  10.100000 65.000000  \n",
       "Albania          0.761000  14.200000 77.500000  "
      ]
     },
     "execution_count": 2,
     "metadata": {},
     "output_type": "execute_result"
    }
   ],
   "source": [
    "# load the csv file\n",
    "df_lifeExp = pd.read_csv('Life_Expectancy.csv', index_col=0)\n",
    "\n",
    "# display the first two observations\n",
    "df_lifeExp.head(2)"
   ]
  },
  {
   "cell_type": "code",
   "execution_count": 3,
   "metadata": {},
   "outputs": [
    {
     "data": {
      "text/plain": [
       "Status                 object\n",
       "Adult_Mortality         int64\n",
       "Infant_Deaths           int64\n",
       "Hepatitis               int64\n",
       "Measles                 int64\n",
       " BMI                  float64\n",
       "Underfive_Deaths        int64\n",
       "Polio                   int64\n",
       "Diphtheria              int64\n",
       " HIV                  float64\n",
       "GDP                   float64\n",
       "Population              int64\n",
       "Malnourished10_19     float64\n",
       "Malnourished5_9       float64\n",
       "Income_Index          float64\n",
       "Schooling             float64\n",
       "Expected              float64\n",
       "dtype: object"
      ]
     },
     "execution_count": 3,
     "metadata": {},
     "output_type": "execute_result"
    }
   ],
   "source": [
    "# check data types of variables\n",
    "df_lifeExp.dtypes"
   ]
  },
  {
   "cell_type": "markdown",
   "metadata": {},
   "source": [
    "### Let's begin with some hands-on practice exercises"
   ]
  },
  {
   "cell_type": "markdown",
   "metadata": {},
   "source": [
    "<a id=\"Bivariate\"> </a>\n",
    "## 1. Bivariate Regression"
   ]
  },
  {
   "cell_type": "markdown",
   "metadata": {},
   "source": [
    "## We shall use the life expectancy dataset"
   ]
  },
  {
   "cell_type": "markdown",
   "metadata": {
    "collapsed": true
   },
   "source": [
    "<table align=\"left\">\n",
    "    <tr>\n",
    "        <td width=\"6%\">\n",
    "            <img src=\"question_icon.png\">\n",
    "        </td>\n",
    "        <td>\n",
    "            <div align=\"left\", style=\"font-size:120%\">\n",
    "                <font color=\"#21618C\">\n",
    "                    <b>1. How do we analyze the impact of adult mortality rate on average life expectancy of a country?</b>\n",
    "                </font>\n",
    "            </div>\n",
    "        </td>\n",
    "    </tr>\n",
    "</table>"
   ]
  },
  {
   "cell_type": "code",
   "execution_count": 4,
   "metadata": {},
   "outputs": [
    {
     "data": {
      "image/png": "[encoded data removed]",
      "text/plain": [
       "<Figure size 1080x576 with 1 Axes>"
      ]
     },
     "metadata": {
      "needs_background": "light"
     },
     "output_type": "display_data"
    }
   ],
   "source": [
    "# set dimensions for the plot figure\n",
    "fig_dims = (15,8)\n",
    "fig, ax = plt.subplots(figsize=fig_dims)\n",
    "\n",
    "# plot a scatter plot to check the relationship\n",
    "sns.scatterplot(df_lifeExp['Adult_Mortality'],df_lifeExp.Expected)\n",
    "\n",
    "# display the plot\n",
    "plt.show()"
   ]
  },
  {
   "cell_type": "markdown",
   "metadata": {},
   "source": [
    "As we can see from the figure above, the adult mortality rate and average life expectancy of a country have a negative linear relationship between them. Hence bivariate regression can be used to capture and analyze the impact adult mortality has on life expectancy."
   ]
  },
  {
   "cell_type": "markdown",
   "metadata": {
    "collapsed": true
   },
   "source": [
    "<table align=\"left\">\n",
    "    <tr>\n",
    "        <td width=\"6%\">\n",
    "            <img src=\"question_icon.png\">\n",
    "        </td>\n",
    "        <td>\n",
    "            <div align=\"left\", style=\"font-size:120%\">\n",
    "                <font color=\"#21618C\">\n",
    "                    <b>2. A regression model is built to check the impact of Human Development Index (Income) on the life expectancy of a nation. What is the expected error value?</b>\n",
    "                </font>\n",
    "            </div>\n",
    "        </td>\n",
    "    </tr>\n",
    "</table>"
   ]
  },
  {
   "cell_type": "code",
   "execution_count": 5,
   "metadata": {},
   "outputs": [
    {
     "name": "stdout",
     "output_type": "stream",
     "text": [
      "Sum of all residuals -0.0000000000018\n",
      "Expected residual value -0.0000000000000\n"
     ]
    }
   ],
   "source": [
    "# selecting independent variables that describe immunization\n",
    "X = df_lifeExp['Income_Index']\n",
    "\n",
    "# 'sm.add_constant' adds the intercept to the model\n",
    "X = sm.add_constant(X)\n",
    "\n",
    "# set the dependent variable\n",
    "y = df_lifeExp.Expected\n",
    "\n",
    "# building a model with an intercept\n",
    "# fit() is used to fit the OLS model\n",
    "SLR_model = sm.OLS(y,X).fit()\n",
    "\n",
    "# capture predicted values\n",
    "predictions = SLR_model.predict(X)\n",
    "\n",
    "# find the residuals\n",
    "residual = df_lifeExp.Expected - predictions\n",
    "\n",
    "# calculate the sum of residuals\n",
    "sum_resid = np.sum(residual)\n",
    "\n",
    "# display the 13 digits after decimal\n",
    "#\"{:.13f}\". format(): displays the 13 digits after decimal\n",
    "output_residual = \"{:.13f}\". format(np.sum(residual))\n",
    "\n",
    "# print sum of residuals\n",
    "print(\"Sum of all residuals\",output_residual)\n",
    "\n",
    "# get the total number of rows\n",
    "#len(): gives the count of the observations\n",
    "sample_size = len(df_lifeExp.index)\n",
    "\n",
    "# calculate expected value for residuals\n",
    "expected_value = sum_resid/sample_size\n",
    "\n",
    "# for suppressing the e symbol format of printing output\n",
    "#\"{:.13f}\". format(): displays the 13 digits after decimal\n",
    "output = \"{:.13f}\". format(expected_value)\n",
    "\n",
    "# print expected residual value\n",
    "print(\"Expected residual value\",output)"
   ]
  },
  {
   "cell_type": "markdown",
   "metadata": {},
   "source": [
    "The sum of residuals for regression line is always zero which can be verified from the above result. "
   ]
  },
  {
   "cell_type": "markdown",
   "metadata": {},
   "source": [
    "<a id=\"MLR\"> </a>\n",
    "## 2. Multiple Linear Regression(MLR)"
   ]
  },
  {
   "cell_type": "markdown",
   "metadata": {
    "collapsed": true
   },
   "source": [
    "<table align=\"left\">\n",
    "    <tr>\n",
    "        <td width=\"6%\">\n",
    "            <img src=\"question_icon.png\">\n",
    "        </td>\n",
    "        <td>\n",
    "            <div align=\"left\", style=\"font-size:120%\">\n",
    "                <font color=\"#21618C\">\n",
    "                    <b>3. Analyze the impact of immunization on life expectancy. </b>\n",
    "                </font>\n",
    "            </div>\n",
    "        </td>\n",
    "    </tr>\n",
    "</table>"
   ]
  },
  {
   "cell_type": "code",
   "execution_count": 6,
   "metadata": {},
   "outputs": [
    {
     "name": "stdout",
     "output_type": "stream",
     "text": [
      "                            OLS Regression Results                            \n",
      "==============================================================================\n",
      "Dep. Variable:               Expected   R-squared:                       0.138\n",
      "Model:                            OLS   Adj. R-squared:                  0.116\n",
      "Method:                 Least Squares   F-statistic:                     6.395\n",
      "Date:                Fri, 08 Jan 2021   Prob (F-statistic):           0.000468\n",
      "Time:                        18:56:41   Log-Likelihood:                -431.15\n",
      "No. Observations:                 124   AIC:                             870.3\n",
      "Df Residuals:                     120   BIC:                             881.6\n",
      "Df Model:                           3                                         \n",
      "Covariance Type:            nonrobust                                         \n",
      "===============================================================================\n",
      "                  coef    std err          t      P>|t|      [0.025      0.975]\n",
      "-------------------------------------------------------------------------------\n",
      "const          57.9881      3.524     16.453      0.000      51.010      64.966\n",
      "Hepatitis      -0.1037      0.068     -1.528      0.129      -0.238       0.031\n",
      "Polio           0.0910      0.043      2.099      0.038       0.005       0.177\n",
      "Diphtheria      0.1613      0.082      1.969      0.051      -0.001       0.323\n",
      "==============================================================================\n",
      "Omnibus:                        4.513   Durbin-Watson:                   1.000\n",
      "Prob(Omnibus):                  0.105   Jarque-Bera (JB):                4.279\n",
      "Skew:                          -0.396   Prob(JB):                        0.118\n",
      "Kurtosis:                       2.550   Cond. No.                         755.\n",
      "==============================================================================\n",
      "\n",
      "Warnings:\n",
      "[1] Standard Errors assume that the covariance matrix of the errors is correctly specified.\n"
     ]
    }
   ],
   "source": [
    "# selecting independent variables that describe immunization\n",
    "X = df_lifeExp.iloc[:,[3,7,8]]\n",
    "\n",
    "# 'sm.add_constant' adds the intercept to the model\n",
    "X = sm.add_constant(X)\n",
    "\n",
    "# set the dependent variable\n",
    "y = df_lifeExp['Expected']\n",
    "\n",
    "# building a model with an intercept\n",
    "# fit() is used to fit the OLS model\n",
    "MLR_model = sm.OLS(y,X).fit()\n",
    "\n",
    "# print the model summary\n",
    "print(MLR_model.summary())"
   ]
  },
  {
   "cell_type": "markdown",
   "metadata": {},
   "source": [
    "From the above output we can see that :<br> \n",
    "β<sub>Hepatitis</sub> = - 0.1037, it implies that 0.1037 is the percent decrease in life expectancy for every new child who gets immunized against Hepatitis B in that country, keeping other variables constant. <br>\n",
    "\n",
    "β<sub>Polio </sub> = 0.0910, it implies that 0.0910 is the percent increase in life expectancy for every new child who gets immunized against Polio in that country, keeping other variables constant.<br>\n",
    "\n",
    "β<sub>Diphtheria</sub> = 0.1613, it implies that 0.1613 is the average increase in life expectancy for every new child who gets immunized against Diphtheria in that country, keeping other variables constant.<br>\n",
    "\n",
    "β<sub>const</sub> = 57.9881, it implies that if no immunization is provided the average life expectancy is 58 years(57.988133).\n",
    "\n",
    "So, we can conclude that if no immunization is given the average life expectancy is 58 years. Further, immunization for Diphtheria and Hepatitis do not significantly affect the life expectancy since the corresponding p-values > 0.05."
   ]
  },
  {
   "cell_type": "markdown",
   "metadata": {
    "collapsed": true
   },
   "source": [
    "<table align=\"left\">\n",
    "    <tr>\n",
    "        <td width=\"6%\">\n",
    "            <img src=\"question_icon.png\">\n",
    "        </td>\n",
    "        <td>\n",
    "            <div align=\"left\", style=\"font-size:120%\">\n",
    "                <font color=\"#21618C\">\n",
    "                    <b>4. If the information that whether the country is a developed or a developing country is included, does it alter the impact of immunzation on life expectancy ?</b>\n",
    "                </font>\n",
    "            </div>\n",
    "        </td>\n",
    "    </tr>\n",
    "</table>"
   ]
  },
  {
   "cell_type": "markdown",
   "metadata": {},
   "source": [
    "In question 3, we build the model to check for impact of immunization on life expectancy. We shall now add the categorical variable `Status` representing the extent of development of a country."
   ]
  },
  {
   "cell_type": "code",
   "execution_count": 7,
   "metadata": {},
   "outputs": [
    {
     "name": "stdout",
     "output_type": "stream",
     "text": [
      "                            OLS Regression Results                            \n",
      "==============================================================================\n",
      "Dep. Variable:               Expected   R-squared:                       0.321\n",
      "Model:                            OLS   Adj. R-squared:                  0.298\n",
      "Method:                 Least Squares   F-statistic:                     14.06\n",
      "Date:                Fri, 08 Jan 2021   Prob (F-statistic):           2.00e-09\n",
      "Time:                        18:56:41   Log-Likelihood:                -416.35\n",
      "No. Observations:                 124   AIC:                             842.7\n",
      "Df Residuals:                     119   BIC:                             856.8\n",
      "Df Model:                           4                                         \n",
      "Covariance Type:            nonrobust                                         \n",
      "=====================================================================================\n",
      "                        coef    std err          t      P>|t|      [0.025      0.975]\n",
      "-------------------------------------------------------------------------------------\n",
      "const                69.8090      3.771     18.512      0.000      62.342      77.276\n",
      "Hepatitis            -0.0035      0.063     -0.056      0.955      -0.128       0.121\n",
      "Polio                 0.0771      0.039      1.993      0.049       0.000       0.154\n",
      "Diphtheria            0.0456      0.076      0.602      0.548      -0.104       0.196\n",
      "Status_Developing   -10.6036      1.872     -5.664      0.000     -14.310      -6.897\n",
      "==============================================================================\n",
      "Omnibus:                        2.973   Durbin-Watson:                   1.211\n",
      "Prob(Omnibus):                  0.226   Jarque-Bera (JB):                2.635\n",
      "Skew:                          -0.355   Prob(JB):                        0.268\n",
      "Kurtosis:                       3.077   Cond. No.                         946.\n",
      "==============================================================================\n",
      "\n",
      "Warnings:\n",
      "[1] Standard Errors assume that the covariance matrix of the errors is correctly specified.\n"
     ]
    }
   ],
   "source": [
    "# selecting independent variables that describe immunization\n",
    "X = df_lifeExp.iloc[:,[3,7,8]]\n",
    "\n",
    "# create n-1 dummy variables\n",
    "# 'drop_first': creates (n-1) dummy variables using get_dummies()\n",
    "# 'prefix': adds prefix to category of dummy variable\n",
    "encoded_status = pd.get_dummies(data = df_lifeExp['Status'], drop_first=True, prefix = 'Status')\n",
    "\n",
    "# concate the dummy variable with features describing immunization using concat()\n",
    "# create a dataframe of all relevant independent variables\n",
    "# 'axis=1' concates the dataframes along columns \n",
    "X = pd.concat([pd.DataFrame(X), encoded_status], axis=1)\n",
    "\n",
    "# 'sm.add_constant' adds the intercept to the model\n",
    "X = sm.add_constant(X)\n",
    "\n",
    "# set the dependent variable\n",
    "y = df_lifeExp['Expected']\n",
    "\n",
    "# building a model with an intercept\n",
    "# fit() is used to fit the OLS model\n",
    "MLR_newmodel = sm.OLS(y,X).fit()\n",
    "\n",
    "# print the model summary\n",
    "print(MLR_newmodel.summary())"
   ]
  },
  {
   "cell_type": "markdown",
   "metadata": {},
   "source": [
    "If the country considered is a developed country: **Status_Developing = 0**\n",
    "<br>The life expectancy when no immunization is given as: **69.808975+ (-10.603614)(0) = 69.808975** = **70 years**. <br>\n",
    "\n",
    "<br>If the country considered is a developing country: **Status_Developing = 1**\n",
    "<br>The life expectancy when no immunization is given as: **69.808975+ (-10.603614)(1) = 59.205361** = **59 years**.\n",
    "\n",
    "<br>**Which makes sense since the developed countries usually have a higher life expectancy because of availability of advanced health facilities and better standards of living.**"
   ]
  },
  {
   "cell_type": "markdown",
   "metadata": {},
   "source": [
    "<a id=\"ins\"> </a>\n",
    "## 3. Inferences about slope"
   ]
  },
  {
   "cell_type": "markdown",
   "metadata": {
    "collapsed": true
   },
   "source": [
    "<table align=\"left\">\n",
    "    <tr>\n",
    "        <td width=\"6%\">\n",
    "            <img src=\"question_icon.png\">\n",
    "        </td>\n",
    "        <td>\n",
    "            <div align=\"left\", style=\"font-size:120%\">\n",
    "                <font color=\"#21618C\">\n",
    "                    <b>5. Find the significant variables in the full model when all the variables are considered for prediction of life expectancy.</b>\n",
    "                </font>\n",
    "            </div>\n",
    "        </td>\n",
    "    </tr>\n",
    "</table>"
   ]
  },
  {
   "cell_type": "code",
   "execution_count": 8,
   "metadata": {},
   "outputs": [
    {
     "data": {
      "text/plain": [
       "['const',\n",
       " 'Adult_Mortality',\n",
       " 'Hepatitis ',\n",
       " ' HIV',\n",
       " 'Population',\n",
       " 'Income_Index']"
      ]
     },
     "execution_count": 8,
     "metadata": {},
     "output_type": "execute_result"
    }
   ],
   "source": [
    "# we include all the numeric predictors\n",
    "X = df_lifeExp.iloc[:,1:16]\n",
    "\n",
    "# create n-1 dummy variables using get_dummies()\n",
    "# use 'drop_first' to create (n-1) dummy variables\n",
    "# use 'prefix' to add prefix to category of dummy variable\n",
    "encoded_status = pd.get_dummies(data = df_lifeExp['Status'], drop_first=True, prefix = 'Status')\n",
    "\n",
    "# concat the dummy variable with other features \n",
    "# 'axis=1' concates the dataframes along columns \n",
    "X = pd.concat([X, encoded_status], axis=1)\n",
    "\n",
    "# 'sm.add_constant' adds the intercept to the model\n",
    "X = sm.add_constant(X)\n",
    "\n",
    "# set the dependent variable\n",
    "y = df_lifeExp['Expected']\n",
    "\n",
    "# building a model with an intercept\n",
    "# fit() is used to fit the OLS model\n",
    "MLR_model = sm.OLS(y, X).fit()\n",
    "\n",
    "# calculate p-values for all the variables\n",
    "MLR_pvalues = pd.DataFrame(MLR_model.pvalues, columns = [\"P-Value\"])\n",
    "\n",
    "# filter the variables with p-value less than 0.05\n",
    "significant_var = MLR_pvalues[MLR_pvalues['P-Value'] < 0.05]\n",
    "\n",
    "# get insignificant variables using index\n",
    "# to_list: converts the variables to 'list' type\n",
    "signi_var = significant_var.index.to_list()\n",
    "\n",
    "# print the list of significant variables\n",
    "signi_var"
   ]
  },
  {
   "cell_type": "markdown",
   "metadata": {},
   "source": [
    "From the output we can see that, `Adult_Mortality`, `Hepatitis`, `HIV`, `Population`,`Income_Index` are the features that contribute significantly in prediction of life expectancy for the considered model. "
   ]
  },
  {
   "cell_type": "markdown",
   "metadata": {
    "collapsed": true
   },
   "source": [
    "<table align=\"left\">\n",
    "    <tr>\n",
    "        <td width=\"6%\">\n",
    "            <img src=\"question_icon.png\">\n",
    "        </td>\n",
    "        <td>\n",
    "            <div align=\"left\", style=\"font-size:120%\">\n",
    "                <font color=\"#21618C\">\n",
    "                    <b>6. If economic indices are used to predict the life expectancy, calculate the total variation for the observed values of life expectancy.</b>\n",
    "                </font>\n",
    "            </div>\n",
    "        </td>\n",
    "    </tr>\n",
    "</table>"
   ]
  },
  {
   "cell_type": "code",
   "execution_count": 9,
   "metadata": {},
   "outputs": [
    {
     "name": "stdout",
     "output_type": "stream",
     "text": [
      "SSR: 6292.571603999841\n",
      "SSE: 2527.2338798711353\n",
      "SST: 8819.805483870976\n"
     ]
    }
   ],
   "source": [
    "# selecting independent variables that represent the economic indices of GDP and HDI(Income)\n",
    "X = df_lifeExp.iloc[:,[10,14]]\n",
    "\n",
    "# 'sm.add_constant' adds the intercept to the model\n",
    "X = sm.add_constant(X)\n",
    "\n",
    "# set the dependent variable\n",
    "y = df_lifeExp['Expected']\n",
    " \n",
    "# building a model with an intercept\n",
    "# fit() is used to fit the OLS model\n",
    "MLR_model = sm.OLS(y,X).fit()\n",
    "\n",
    "# capture predicted values\n",
    "predicted = MLR_model.predict(X)\n",
    "\n",
    "# calculate the SSR on train dataset\n",
    "ssr = np.sum((predicted - y.mean())**2)\n",
    "\n",
    "# print the SSR value\n",
    "print(\"SSR:\",ssr)\n",
    "\n",
    "# calculate the SSE on train dataset\n",
    "sse = np.sum((y - predicted)**2)\n",
    "\n",
    "# print the SSE value\n",
    "print(\"SSE:\",sse)\n",
    "\n",
    "# calculate the SST on train dataset\n",
    "# print the SST value\n",
    "print(\"SST:\",(sse+ssr))"
   ]
  },
  {
   "cell_type": "markdown",
   "metadata": {},
   "source": [
    "The total variance of observed values when using a regression model is calculated as:\n",
    "<p style='text-indent:20em'> <strong>SST=SSE+SSR  </strong>\n",
    "<br>  Here,\n",
    "    SSE is unexplained variance and SSR is explained variance </p>"
   ]
  },
  {
   "cell_type": "markdown",
   "metadata": {
    "collapsed": true
   },
   "source": [
    "<table align=\"left\">\n",
    "    <tr>\n",
    "        <td width=\"6%\">\n",
    "            <img src=\"question_icon.png\">\n",
    "        </td>\n",
    "        <td>\n",
    "            <div align=\"left\", style=\"font-size:120%\">\n",
    "                <font color=\"#21618C\">\n",
    "                    <b>7. Determine the lower bound and upper bound for estimated value of life expectancy per unit change in HDI (for income)</b>\n",
    "                </font>\n",
    "            </div>\n",
    "        </td>\n",
    "    </tr>\n",
    "</table>"
   ]
  },
  {
   "cell_type": "code",
   "execution_count": 10,
   "metadata": {},
   "outputs": [
    {
     "name": "stdout",
     "output_type": "stream",
     "text": [
      "                     0          1\n",
      "Income_Index 97.009477 102.472029\n"
     ]
    }
   ],
   "source": [
    "# selecting independent variables that describes HDI\n",
    "X = df_lifeExp.iloc[:,[14]]\n",
    "\n",
    "# set the dependent variable\n",
    "y = df_lifeExp['Expected']\n",
    "\n",
    "# building a model with an intercept\n",
    "# fit() is used to fit the OLS model\n",
    "SLR_model = sm.OLS(y,X).fit()\n",
    "\n",
    "# CI for β coefficient\n",
    "print(SLR_model.conf_int())"
   ]
  },
  {
   "cell_type": "markdown",
   "metadata": {},
   "source": [
    "The β coefficient gives the amount of change in the target variable per unit change in the predictor. Here, we have the confidence interval of β coefficient for variable 'Index_Income' as (97.009, 102.472)."
   ]
  },
  {
   "cell_type": "markdown",
   "metadata": {},
   "source": [
    "<a id=\"ML_eval\"> </a>\n",
    "## 4. Model Evaluation"
   ]
  },
  {
   "cell_type": "markdown",
   "metadata": {
    "collapsed": true
   },
   "source": [
    "<table align=\"left\">\n",
    "    <tr>\n",
    "        <td width=\"6%\">\n",
    "            <img src=\"question_icon.png\">\n",
    "        </td>\n",
    "        <td>\n",
    "            <div align=\"left\", style=\"font-size:120%\">\n",
    "                <font color=\"#21618C\">\n",
    "                    <b>8. A model is built to analyze the impact of mortality on Life expectancy. Would the addition of information about population of the country lead to a better prediction?</b>\n",
    "                </font>\n",
    "            </div>\n",
    "        </td>\n",
    "    </tr>\n",
    "</table>"
   ]
  },
  {
   "cell_type": "code",
   "execution_count": 11,
   "metadata": {
    "scrolled": true
   },
   "outputs": [
    {
     "data": {
      "text/plain": [
       "Index(['Status', 'Adult_Mortality', 'Infant_Deaths', 'Hepatitis ', 'Measles ',\n",
       "       ' BMI ', 'Underfive_Deaths ', 'Polio', 'Diphtheria ', ' HIV', 'GDP',\n",
       "       'Population', 'Malnourished10_19 ', 'Malnourished5_9', 'Income_Index',\n",
       "       'Schooling', 'Expected'],\n",
       "      dtype='object')"
      ]
     },
     "execution_count": 11,
     "metadata": {},
     "output_type": "execute_result"
    }
   ],
   "source": [
    "df_lifeExp.columns"
   ]
  },
  {
   "cell_type": "code",
   "execution_count": 12,
   "metadata": {},
   "outputs": [
    {
     "name": "stdout",
     "output_type": "stream",
     "text": [
      "                            OLS Regression Results                            \n",
      "==============================================================================\n",
      "Dep. Variable:               Expected   R-squared:                       0.530\n",
      "Model:                            OLS   Adj. R-squared:                  0.519\n",
      "Method:                 Least Squares   F-statistic:                     45.18\n",
      "Date:                Fri, 08 Jan 2021   Prob (F-statistic):           1.29e-19\n",
      "Time:                        18:56:41   Log-Likelihood:                -393.48\n",
      "No. Observations:                 124   AIC:                             795.0\n",
      "Df Residuals:                     120   BIC:                             806.2\n",
      "Df Model:                           3                                         \n",
      "Covariance Type:            nonrobust                                         \n",
      "=====================================================================================\n",
      "                        coef    std err          t      P>|t|      [0.025      0.975]\n",
      "-------------------------------------------------------------------------------------\n",
      "const                80.3623      1.004     80.060      0.000      78.375      82.350\n",
      "Adult_Mortality      -0.0548      0.005     -9.996      0.000      -0.066      -0.044\n",
      "Infant_Deaths         0.0905      0.049      1.844      0.068      -0.007       0.188\n",
      "Underfive_Deaths     -0.0775      0.038     -2.033      0.044      -0.153      -0.002\n",
      "==============================================================================\n",
      "Omnibus:                       54.244   Durbin-Watson:                   1.530\n",
      "Prob(Omnibus):                  0.000   Jarque-Bera (JB):              142.185\n",
      "Skew:                          -1.734   Prob(JB):                     1.33e-31\n",
      "Kurtosis:                       6.937   Cond. No.                         392.\n",
      "==============================================================================\n",
      "\n",
      "Warnings:\n",
      "[1] Standard Errors assume that the covariance matrix of the errors is correctly specified.\n"
     ]
    }
   ],
   "source": [
    "# selecting independent variables that describe immunization and diseases\n",
    "X = df_lifeExp.iloc[:,[1,2,6]]\n",
    "\n",
    "# 'sm.add_constant' adds the intercept to the model\n",
    "X = sm.add_constant(X)\n",
    "\n",
    "# set the dependent variable\n",
    "y = df_lifeExp['Expected']\n",
    "\n",
    "# building a model with an intercept\n",
    "# fit() is used to fit the OLS model\n",
    "MLR_model = sm.OLS(y,X).fit()\n",
    "\n",
    "# print the model summary\n",
    "print(MLR_model.summary())"
   ]
  },
  {
   "cell_type": "code",
   "execution_count": 13,
   "metadata": {},
   "outputs": [
    {
     "name": "stdout",
     "output_type": "stream",
     "text": [
      "                            OLS Regression Results                            \n",
      "==============================================================================\n",
      "Dep. Variable:               Expected   R-squared:                       0.531\n",
      "Model:                            OLS   Adj. R-squared:                  0.515\n",
      "Method:                 Least Squares   F-statistic:                     33.68\n",
      "Date:                Fri, 08 Jan 2021   Prob (F-statistic):           8.93e-19\n",
      "Time:                        18:56:41   Log-Likelihood:                -393.41\n",
      "No. Observations:                 124   AIC:                             796.8\n",
      "Df Residuals:                     119   BIC:                             810.9\n",
      "Df Model:                           4                                         \n",
      "Covariance Type:            nonrobust                                         \n",
      "=====================================================================================\n",
      "                        coef    std err          t      P>|t|      [0.025      0.975]\n",
      "-------------------------------------------------------------------------------------\n",
      "const                80.3071      1.019     78.813      0.000      78.289      82.325\n",
      "Adult_Mortality      -0.0550      0.006     -9.929      0.000      -0.066      -0.044\n",
      "Infant_Deaths         0.0886      0.050      1.788      0.076      -0.010       0.187\n",
      "Underfive_Deaths     -0.0760      0.038     -1.975      0.051      -0.152       0.000\n",
      "Population         4.736e-09   1.31e-08      0.361      0.718   -2.12e-08    3.07e-08\n",
      "==============================================================================\n",
      "Omnibus:                       54.418   Durbin-Watson:                   1.537\n",
      "Prob(Omnibus):                  0.000   Jarque-Bera (JB):              143.042\n",
      "Skew:                          -1.738   Prob(JB):                     8.69e-32\n",
      "Kurtosis:                       6.949   Cond. No.                     8.72e+07\n",
      "==============================================================================\n",
      "\n",
      "Warnings:\n",
      "[1] Standard Errors assume that the covariance matrix of the errors is correctly specified.\n",
      "[2] The condition number is large, 8.72e+07. This might indicate that there are\n",
      "strong multicollinearity or other numerical problems.\n"
     ]
    }
   ],
   "source": [
    "# selecting independent variables that describe immunization and diseases\n",
    "# add the population column\n",
    "X = df_lifeExp.iloc[:,[1,2,6,11]]\n",
    "\n",
    "# 'sm.add_constant' adds the intercept to the model\n",
    "X = sm.add_constant(X)\n",
    "\n",
    "# set the dependent variable\n",
    "y = df_lifeExp['Expected']\n",
    "\n",
    "# building a model with an intercept\n",
    "# fit() is used to fit the OLS model\n",
    "MLR_model = sm.OLS(y,X).fit()\n",
    "\n",
    "# print the model summary\n",
    "print(MLR_model.summary())"
   ]
  },
  {
   "cell_type": "markdown",
   "metadata": {},
   "source": [
    "On comparing the two models (with and without the variable population), we see that the model with the variable population has an increased R-squared of 0.531 and a decreased adjusted R-squared of 0.515 compared to the model without the variable population which has an R-squared of 0.530 and an adjusted R-squared of 0.519. This implies that the variable population is not significant. And the corresponding p-value also supports the statement. "
   ]
  },
  {
   "cell_type": "markdown",
   "metadata": {
    "collapsed": true
   },
   "source": [
    "<table align=\"left\">\n",
    "    <tr>\n",
    "        <td width=\"6%\">\n",
    "            <img src=\"question_icon.png\">\n",
    "        </td>\n",
    "        <td>\n",
    "            <div align=\"left\", style=\"font-size:120%\">\n",
    "                <font color=\"#21618C\">\n",
    "                    <b>9. Fit a full model and test the significance of the overall model. <br></b>\n",
    "                </font>\n",
    "            </div>\n",
    "        </td>\n",
    "    </tr>\n",
    "</table>"
   ]
  },
  {
   "cell_type": "markdown",
   "metadata": {},
   "source": [
    "The test hypothesis for F-test is given as:\n",
    "<p style='text-indent:20em'> <strong> H<sub>o</sub>: The regression model is not significant  </strong> </p>\n",
    "<p style='text-indent:20em'> <strong> H<sub>1</sub>: The regression model is significant </strong> </p>"
   ]
  },
  {
   "cell_type": "code",
   "execution_count": 14,
   "metadata": {
    "scrolled": true
   },
   "outputs": [
    {
     "name": "stdout",
     "output_type": "stream",
     "text": [
      "1.943066855484856e-36\n"
     ]
    }
   ],
   "source": [
    "# we include all the numeric predictors\n",
    "X = df_lifeExp.iloc[:,1:16]\n",
    "\n",
    "# use 'drop_first' to create (n-1) dummy variables using get_dummies()\n",
    "# use 'prefix' to add prefix to category of dummy variable\n",
    "encoded_status = pd.get_dummies(data = df_lifeExp['Status'], drop_first=True, prefix = 'Status')\n",
    "\n",
    "# concat the dummy variable with other features \n",
    "# 'axis=1' concates the dataframes along columns \n",
    "X = pd.concat([pd.DataFrame(X), encoded_status], axis=1)\n",
    "\n",
    "# 'sm.add_constant' adds the intercept to the model\n",
    "X = sm.add_constant(X)\n",
    "\n",
    "# set the dependent variable\n",
    "y = df_lifeExp['Expected']\n",
    "\n",
    "# building a model with an intercept\n",
    "# fit() is used to fit the OLS model\n",
    "MLR_model_full = sm.OLS(y,X).fit()\n",
    "\n",
    "# print the f-value\n",
    "print(MLR_model_full.f_pvalue)"
   ]
  },
  {
   "cell_type": "markdown",
   "metadata": {},
   "source": [
    "<br>From the above output we can see that the probability for F-statistic i.e the associated p-value is far less than the significance level 0.05, hence we can reject the H<sub>o</sub> and conclude that the regression model is not significant."
   ]
  },
  {
   "cell_type": "markdown",
   "metadata": {},
   "source": [
    "<a id=\"assum\"> </a>\n",
    "## 5. Assumptions of Linear Regression"
   ]
  },
  {
   "cell_type": "markdown",
   "metadata": {
    "collapsed": true
   },
   "source": [
    "<table align=\"left\">\n",
    "    <tr>\n",
    "        <td width=\"6%\">\n",
    "            <img src=\"question_icon.png\">\n",
    "        </td>\n",
    "        <td>\n",
    "            <div align=\"left\", style=\"font-size:120%\">\n",
    "                <font color=\"#21618C\">\n",
    "                    <b>10. A model is built using all the features (full model) to predict the life expectancy. Check whether the residuals obtained from the model follow a normal distribution.</b>\n",
    "                </font>\n",
    "            </div>\n",
    "        </td>\n",
    "    </tr>\n",
    "</table>"
   ]
  },
  {
   "cell_type": "markdown",
   "metadata": {},
   "source": [
    "The test hypothesis for testing normality is given as:\n",
    "<p style='text-indent:20em'> <strong> H<sub>o</sub>: The data is normally distributed </strong> </p>\n",
    "<p style='text-indent:20em'> <strong> H<sub>1</sub>: The data is not normally distributed </strong> </p>"
   ]
  },
  {
   "cell_type": "code",
   "execution_count": 15,
   "metadata": {},
   "outputs": [],
   "source": [
    "# we include all the numeric predictors\n",
    "X = df_lifeExp.iloc[:,1:16]\n",
    "\n",
    "# use 'drop_first' to create (n-1) dummy variables using get_dummies()\n",
    "# use 'prefix' to add prefix to category of dummy variable\n",
    "encoded_status = pd.get_dummies(data = df_lifeExp['Status'], drop_first=True, prefix = 'Status')\n",
    "\n",
    "# concat the dummy variable with features describing immunization \n",
    "# create a dataframe of all relevant independent variables\n",
    "# 'axis=1' concates the dataframes along columns \n",
    "X = pd.concat([pd.DataFrame(X), encoded_status], axis=1)\n",
    "\n",
    "# 'sm.add_constant' adds the intercept to the model\n",
    "X =  sm.add_constant(X)\n",
    "\n",
    "# set the dependent variable\n",
    "y = df_lifeExp['Expected']\n",
    "\n",
    "# building a model with an intercept\n",
    "# fit() is used to fit the OLS model\n",
    "MLR_model_full = sm.OLS(y,X).fit()"
   ]
  },
  {
   "cell_type": "code",
   "execution_count": 16,
   "metadata": {},
   "outputs": [
    {
     "name": "stdout",
     "output_type": "stream",
     "text": [
      "Test statistic: 0.9769425392150879\n",
      "P-Value: 0.03209252282977104\n"
     ]
    }
   ],
   "source": [
    "# shapiro() returns a tuple having the values of test statistics and the corresponding p-value\n",
    "stat, p_value = shapiro(MLR_model_full.resid)\n",
    "\n",
    "# print the test statistic and corresponding p-value \n",
    "print('Test statistic:', stat)\n",
    "print('P-Value:', p_value)"
   ]
  },
  {
   "cell_type": "markdown",
   "metadata": {},
   "source": [
    "Here, we have used the Shapiro-Wilk test since it is suitable when the number of records are less than 5000. From the above output we can see that the p-value (0.03209) < 0.05, which concludes that the residuals are not normal.\n",
    "\n",
    "However, let us check the distribution plot."
   ]
  },
  {
   "cell_type": "code",
   "execution_count": 17,
   "metadata": {},
   "outputs": [
    {
     "data": {
      "image/png": "[encoded data removed]",
      "text/plain": [
       "<Figure size 432x288 with 1 Axes>"
      ]
     },
     "metadata": {
      "needs_background": "light"
     },
     "output_type": "display_data"
    }
   ],
   "source": [
    "# plot a distribution plot using distplot()\n",
    "sns.distplot(MLR_model_full.resid)\n",
    "\n",
    "# display the plot\n",
    "plt.show()"
   ]
  },
  {
   "cell_type": "markdown",
   "metadata": {},
   "source": [
    "The distribution plot shows a near normal distribution. So, we assume the normality."
   ]
  },
  {
   "cell_type": "markdown",
   "metadata": {
    "collapsed": true
   },
   "source": [
    "<table align=\"left\">\n",
    "    <tr>\n",
    "        <td width=\"6%\">\n",
    "            <img src=\"question_icon.png\">\n",
    "        </td>\n",
    "        <td>\n",
    "            <div align=\"left\", style=\"font-size:120%\">\n",
    "                <font color=\"#21618C\">\n",
    "                        <b>11. Consider the full model build in the previous question. Can we say that the residuals have equal variance? </b>\n",
    "                </font>\n",
    "            </div>\n",
    "        </td>\n",
    "    </tr>\n",
    "</table>"
   ]
  },
  {
   "cell_type": "markdown",
   "metadata": {},
   "source": [
    "Use Breusch-Pagan test for detecting homoskedasticity (equal variance) in the residuals.<br>\n",
    "The test hypothesis for the Breusch-Pagan test is given as:\n",
    "<p style='text-indent:25em'> <strong> H<sub>o</sub>:  There is homoskedasticity present in the data </strong> </p>\n",
    "<p style='text-indent:25em'> <strong> H<sub>1</sub>:  There is a heteroskedasticity present in the data </strong> </p>"
   ]
  },
  {
   "cell_type": "code",
   "execution_count": 32,
   "metadata": {},
   "outputs": [
    {
     "name": "stdout",
     "output_type": "stream",
     "text": [
      "p-value: 0.11374698255206975\n",
      "Homoskedasticity is present in the data.\n"
     ]
    }
   ],
   "source": [
    "# perform Breusch-Pagan test using residuals and independent variables\n",
    "# compute residuals using 'resid'\n",
    "# 'exog' returns the independent variables in the model along with the intercept\n",
    "test = sms.het_breuschpagan(MLR_model_full.resid, MLR_model_full.model.exog)\n",
    "\n",
    "# the test retuns 4 outputs, the last value is the p-value of the f-statistic\n",
    "# print the p-value\n",
    "print('p-value:', test[3])\n",
    "\n",
    "# print the decision\n",
    "if test[3] < 0.05:\n",
    "    print('Heteroskedasticity is present in the data.')\n",
    "else: \n",
    "    print('Homoskedasticity is present in the data.')"
   ]
  },
  {
   "cell_type": "markdown",
   "metadata": {
    "collapsed": true
   },
   "source": [
    "<table align=\"left\">\n",
    "    <tr>\n",
    "        <td width=\"6%\">\n",
    "            <img src=\"question_icon.png\">\n",
    "        </td>\n",
    "        <td>\n",
    "            <div align=\"left\", style=\"font-size:120%\">\n",
    "                <font color=\"#21618C\">\n",
    "                    <b>12. Construct a full no-intecept model. What would you conclude when all the variables take value 0? </b>\n",
    "                </font>\n",
    "            </div>\n",
    "        </td>\n",
    "    </tr>\n",
    "</table>"
   ]
  },
  {
   "cell_type": "code",
   "execution_count": 19,
   "metadata": {},
   "outputs": [
    {
     "name": "stdout",
     "output_type": "stream",
     "text": [
      "                                 OLS Regression Results                                \n",
      "=======================================================================================\n",
      "Dep. Variable:               Expected   R-squared (uncentered):                   0.993\n",
      "Model:                            OLS   Adj. R-squared (uncentered):              0.992\n",
      "Method:                 Least Squares   F-statistic:                              940.0\n",
      "Date:                Fri, 08 Jan 2021   Prob (F-statistic):                   4.84e-108\n",
      "Time:                        18:56:41   Log-Likelihood:                         -399.28\n",
      "No. Observations:                 124   AIC:                                      830.6\n",
      "Df Residuals:                     108   BIC:                                      875.7\n",
      "Df Model:                          16                                                  \n",
      "Covariance Type:            nonrobust                                                  \n",
      "======================================================================================\n",
      "                         coef    std err          t      P>|t|      [0.025      0.975]\n",
      "--------------------------------------------------------------------------------------\n",
      "Adult_Mortality       -0.0069      0.007     -0.960      0.339      -0.021       0.007\n",
      "Infant_Deaths         -0.0807      0.066     -1.224      0.223      -0.211       0.050\n",
      "Hepatitis              0.0305      0.058      0.523      0.602      -0.085       0.146\n",
      "Measles               -0.0002      0.000     -1.516      0.133      -0.000    5.18e-05\n",
      " BMI                  -0.0697      0.041     -1.696      0.093      -0.151       0.012\n",
      "Underfive_Deaths       0.0712      0.048      1.482      0.141      -0.024       0.166\n",
      "Polio                  0.0180      0.040      0.449      0.654      -0.061       0.097\n",
      "Diphtheria             0.0388      0.073      0.535      0.593      -0.105       0.183\n",
      " HIV                   0.5728      0.455      1.258      0.211      -0.330       1.475\n",
      "GDP                -3.684e-05    6.3e-05     -0.585      0.560      -0.000    8.81e-05\n",
      "Population         -1.747e-08   1.58e-08     -1.107      0.271   -4.87e-08    1.38e-08\n",
      "Malnourished10_19     -1.1120      0.546     -2.035      0.044      -2.195      -0.029\n",
      "Malnourished5_9        1.6540      0.496      3.334      0.001       0.671       2.637\n",
      "Income_Index          43.2384     11.241      3.846      0.000      20.956      65.520\n",
      "Schooling              2.1667      0.601      3.608      0.000       0.976       3.357\n",
      "Status_Developing      7.8535      1.821      4.313      0.000       4.244      11.463\n",
      "==============================================================================\n",
      "Omnibus:                        7.813   Durbin-Watson:                   1.591\n",
      "Prob(Omnibus):                  0.020   Jarque-Bera (JB):                7.565\n",
      "Skew:                           0.588   Prob(JB):                       0.0228\n",
      "Kurtosis:                       3.282   Cond. No.                     8.75e+08\n",
      "==============================================================================\n",
      "\n",
      "Warnings:\n",
      "[1] Standard Errors assume that the covariance matrix of the errors is correctly specified.\n",
      "[2] The condition number is large, 8.75e+08. This might indicate that there are\n",
      "strong multicollinearity or other numerical problems.\n"
     ]
    }
   ],
   "source": [
    "# we include all the numeric predictors\n",
    "X = df_lifeExp.iloc[:,1:16]\n",
    "\n",
    "# use 'drop_first' to create (n-1) dummy variables using get_dummies()\n",
    "# use 'prefix' to add prefix to category of dummy variable\n",
    "encoded_status = pd.get_dummies(data = df_lifeExp['Status'], drop_first=True, prefix = 'Status')\n",
    "\n",
    "# concat the dummy variable with features describing immunization \n",
    "# create a dataframe of all relevant independent variables\n",
    "# 'axis=1' concates the dataframes along columns \n",
    "X = pd.concat([pd.DataFrame(X), encoded_status], axis=1)\n",
    "\n",
    "# set the dependent variable\n",
    "y = df_lifeExp['Expected']\n",
    "\n",
    "# building a model with an intercept\n",
    "# fit() is used to fit the OLS model\n",
    "MLR_model_full_no_intercept = sm.OLS(y,X).fit()\n",
    "\n",
    "# print the model sumary\n",
    "print(MLR_model_full_no_intercept.summary())"
   ]
  },
  {
   "cell_type": "markdown",
   "metadata": {},
   "source": [
    "If we don't add a constant intercept i.e. the column containing all ones, then the OLS method assumes a column with all zeroes i.e. no intercept. As seen from the above model with no intercept, we got very high values of R-Squared (0.993) and adj. R-Squared (0.992). \n",
    "\n",
    "Also, the equation of linear regression that we get will have no intercept(constant term). This means that our regression line will pass through the origin. This means that if the value of all the variables is zero, the life expectancy is 0 and that is not possible. There should be some value of life expectancy.\n",
    "\n",
    "Lets check what will be the impact on the residuals for this no intercept model. "
   ]
  },
  {
   "cell_type": "code",
   "execution_count": 20,
   "metadata": {},
   "outputs": [
    {
     "data": {
      "text/plain": [
       "53.449"
      ]
     },
     "execution_count": 20,
     "metadata": {},
     "output_type": "execute_result"
    }
   ],
   "source": [
    "# calculating the sum of the residuals\n",
    "round(MLR_model_full_no_intercept.resid.sum(), 4)"
   ]
  },
  {
   "cell_type": "markdown",
   "metadata": {},
   "source": [
    "The sum of all the residuals must be zero or atleast close to zero for an intercept model. But as we can see from the above calculated sum of residuals, the sum is 53.449. Thus, this model will not perform better."
   ]
  },
  {
   "cell_type": "markdown",
   "metadata": {},
   "source": [
    "### Now we shall consider the FEV dataset."
   ]
  },
  {
   "cell_type": "markdown",
   "metadata": {},
   "source": [
    "### About the data set (Respiratory function data)\n",
    "\n",
    "Dataset consists of information about respiratory function in youths and factors that might impact the respiratory function. <br> Attribute information: \n",
    "\n",
    "**Age:** Age in years\n",
    "\n",
    "**Height (cm):** Height (cm) in cm \n",
    "\n",
    "**Sex:** Gender of a person\n",
    "\n",
    "**Smoke_habits** Whether the person is a smoker or non- smoker\n",
    "\n",
    "**FEV:**  Forced Exhalation Volume (FEV), a measure of how much air somebody can forcibly exhale from their lung (Percentage)"
   ]
  },
  {
   "cell_type": "markdown",
   "metadata": {},
   "source": [
    "#### Load the dataset and check the first five observations"
   ]
  },
  {
   "cell_type": "code",
   "execution_count": 21,
   "metadata": {},
   "outputs": [
    {
     "data": {
      "text/html": [
       "<div>\n",
       "<style scoped>\n",
       "    .dataframe tbody tr th:only-of-type {\n",
       "        vertical-align: middle;\n",
       "    }\n",
       "\n",
       "    .dataframe tbody tr th {\n",
       "        vertical-align: top;\n",
       "    }\n",
       "\n",
       "    .dataframe thead th {\n",
       "        text-align: right;\n",
       "    }\n",
       "</style>\n",
       "<table border=\"1\" class=\"dataframe\">\n",
       "  <thead>\n",
       "    <tr style=\"text-align: right;\">\n",
       "      <th></th>\n",
       "      <th>Age</th>\n",
       "      <th>Height (cm)</th>\n",
       "      <th>Sex</th>\n",
       "      <th>Smoke_habit</th>\n",
       "      <th>FEV</th>\n",
       "    </tr>\n",
       "  </thead>\n",
       "  <tbody>\n",
       "    <tr>\n",
       "      <th>0</th>\n",
       "      <td>16</td>\n",
       "      <td>157.000000</td>\n",
       "      <td>F</td>\n",
       "      <td>smoker</td>\n",
       "      <td>1.708000</td>\n",
       "    </tr>\n",
       "    <tr>\n",
       "      <th>1</th>\n",
       "      <td>17</td>\n",
       "      <td>167.500000</td>\n",
       "      <td>F</td>\n",
       "      <td>smoker</td>\n",
       "      <td>1.724000</td>\n",
       "    </tr>\n",
       "  </tbody>\n",
       "</table>\n",
       "</div>"
      ],
      "text/plain": [
       "   Age  Height (cm) Sex Smoke_habit      FEV\n",
       "0   16   157.000000   F      smoker 1.708000\n",
       "1   17   167.500000   F      smoker 1.724000"
      ]
     },
     "execution_count": 21,
     "metadata": {},
     "output_type": "execute_result"
    }
   ],
   "source": [
    "# load the csv file\n",
    "df_FEV = pd.read_csv('FEV_data.csv')\n",
    "\n",
    "# display the first two observations\n",
    "df_FEV.head(2)"
   ]
  },
  {
   "cell_type": "markdown",
   "metadata": {
    "collapsed": true
   },
   "source": [
    "<table align=\"left\">\n",
    "    <tr>\n",
    "        <td width=\"6%\">\n",
    "            <img src=\"question_icon.png\">\n",
    "        </td>\n",
    "        <td>\n",
    "            <div align=\"left\", style=\"font-size:120%\">\n",
    "                <font color=\"#21618C\">\n",
    "                    <b>13. Identify the numeric variable(s) that have highest impact on the FEV of a person</b>\n",
    "                </font>\n",
    "            </div>\n",
    "        </td>\n",
    "    </tr>\n",
    "</table>"
   ]
  },
  {
   "cell_type": "markdown",
   "metadata": {},
   "source": [
    "To Identify the numeric variable(s) that have highest impact on the FEV, we plot the correlation plot displaying the correlation between the idependent numeric and target variable."
   ]
  },
  {
   "cell_type": "code",
   "execution_count": 22,
   "metadata": {},
   "outputs": [
    {
     "data": {
      "image/png": "[encoded data removed]",
      "text/plain": [
       "<Figure size 1080x576 with 2 Axes>"
      ]
     },
     "metadata": {
      "needs_background": "light"
     },
     "output_type": "display_data"
    }
   ],
   "source": [
    "# set dimensions for the plot figure\n",
    "fig_dims = (15,8)\n",
    "fig, ax = plt.subplots(figsize=fig_dims)\n",
    "\n",
    "# create a copy of dataframe\n",
    "df_FEV_num = df_FEV[[\"Age\",\"Height (cm)\", \"FEV\"]]\n",
    "\n",
    "# plot the heat map\n",
    "# corr: give the correlation matrix\n",
    "# annot: prints the correlation values in the chart\n",
    "# annot_kws: sets the font size of the annotation\n",
    "sns.heatmap(df_FEV_num.corr(), annot = True, annot_kws = {\"size\": 20})\n",
    "\n",
    "# rotate the y-axis labels\n",
    "# set text size using 'fontsize'\n",
    "plt.yticks(rotation = 'horizontal', fontsize = 15)\n",
    "plt.xticks(fontsize = 15)\n",
    "\n",
    "# display the plot\n",
    "plt.show()"
   ]
  },
  {
   "cell_type": "markdown",
   "metadata": {},
   "source": [
    "The correlation plot shows that, the variables 'Height (cm)' and 'FEV' have a high positive correlation value (0.83). "
   ]
  },
  {
   "cell_type": "markdown",
   "metadata": {
    "collapsed": true
   },
   "source": [
    "<table align=\"left\">\n",
    "    <tr>\n",
    "        <td width=\"6%\">\n",
    "            <img src=\"question_icon.png\">\n",
    "        </td>\n",
    "        <td>\n",
    "            <div align=\"left\", style=\"font-size:120%\">\n",
    "                <font color=\"#21618C\">\n",
    "                    <b>14. What is the impact of smoking habit of a person on FEV?\n",
    "                    </b>\n",
    "                </font>\n",
    "            </div>\n",
    "        </td>\n",
    "    </tr>\n",
    "</table>"
   ]
  },
  {
   "cell_type": "code",
   "execution_count": 23,
   "metadata": {},
   "outputs": [
    {
     "name": "stdout",
     "output_type": "stream",
     "text": [
      "                            OLS Regression Results                            \n",
      "==============================================================================\n",
      "Dep. Variable:                    FEV   R-squared:                       0.098\n",
      "Model:                            OLS   Adj. R-squared:                  0.097\n",
      "Method:                 Least Squares   F-statistic:                     70.92\n",
      "Date:                Fri, 08 Jan 2021   Prob (F-statistic):           2.36e-16\n",
      "Time:                        18:56:41   Log-Likelihood:                -800.43\n",
      "No. Observations:                 654   AIC:                             1605.\n",
      "Df Residuals:                     652   BIC:                             1614.\n",
      "Df Model:                           1                                         \n",
      "Covariance Type:            nonrobust                                         \n",
      "==============================================================================\n",
      "                 coef    std err          t      P>|t|      [0.025      0.975]\n",
      "------------------------------------------------------------------------------\n",
      "const          3.4206      0.098     34.729      0.000       3.227       3.614\n",
      "smoker        -0.8778      0.104     -8.422      0.000      -1.082      -0.673\n",
      "==============================================================================\n",
      "Omnibus:                       37.782   Durbin-Watson:                   1.125\n",
      "Prob(Omnibus):                  0.000   Jarque-Bera (JB):               42.957\n",
      "Skew:                           0.622   Prob(JB):                     4.70e-10\n",
      "Kurtosis:                       3.167   Cond. No.                         5.96\n",
      "==============================================================================\n",
      "\n",
      "Warnings:\n",
      "[1] Standard Errors assume that the covariance matrix of the errors is correctly specified.\n"
     ]
    }
   ],
   "source": [
    "# consider the independent variables\n",
    "X = df_FEV[\"Smoke_habit\"]\n",
    "\n",
    "# convert the categorical variable to dummy variable\n",
    "# get_dummies(): converts the variable to categorical variable\n",
    "# drop_first=True: indicates n-1 dummy enoding; if set to false indicated one-hot encoding\n",
    "X = pd.get_dummies(X, drop_first=True)\n",
    "\n",
    "# consider the dependent variable\n",
    "y = df_FEV[\"FEV\"]\n",
    "\n",
    "# fit a model with an intercept using fit()\n",
    "# add_constant(): adds the intercept term to the model\n",
    "LM_model = sm.OLS(y, sm.add_constant(X)).fit()\n",
    "\n",
    "# print the summary output\n",
    "print(LM_model.summary())"
   ]
  },
  {
   "cell_type": "markdown",
   "metadata": {},
   "source": [
    "Considering only the smoking habit, we see that the variable contributes to 9.8% of variation in FEV. The parameter 'const' represents the level 'non-smoker'."
   ]
  },
  {
   "cell_type": "markdown",
   "metadata": {
    "collapsed": true
   },
   "source": [
    "<table align=\"left\">\n",
    "    <tr>\n",
    "        <td width=\"6%\">\n",
    "            <img src=\"question_icon.png\">\n",
    "        </td>\n",
    "        <td>\n",
    "            <div align=\"left\", style=\"font-size:120%\">\n",
    "                <font color=\"#21618C\">\n",
    "                    <b>15. A Linear regression model is used to analyze the impact of all possible features on respiratory function (FEV). How do we check whether there is multicollinearity present or not?</b>\n",
    "                </font>\n",
    "            </div>\n",
    "        </td>\n",
    "    </tr>\n",
    "</table>"
   ]
  },
  {
   "cell_type": "code",
   "execution_count": 24,
   "metadata": {
    "scrolled": false
   },
   "outputs": [
    {
     "name": "stdout",
     "output_type": "stream",
     "text": [
      "                            OLS Regression Results                            \n",
      "==============================================================================\n",
      "Dep. Variable:                    FEV   R-squared:                       0.701\n",
      "Model:                            OLS   Adj. R-squared:                  0.699\n",
      "Method:                 Least Squares   F-statistic:                     379.5\n",
      "Date:                Fri, 08 Jan 2021   Prob (F-statistic):          2.78e-168\n",
      "Time:                        18:56:41   Log-Likelihood:                -439.94\n",
      "No. Observations:                 654   AIC:                             889.9\n",
      "Df Residuals:                     649   BIC:                             912.3\n",
      "Df Model:                           4                                         \n",
      "Covariance Type:            nonrobust                                         \n",
      "======================================================================================\n",
      "                         coef    std err          t      P>|t|      [0.025      0.975]\n",
      "--------------------------------------------------------------------------------------\n",
      "const                -16.5268      0.575    -28.727      0.000     -17.656     -15.397\n",
      "Age                    0.0026      0.007      0.374      0.708      -0.011       0.016\n",
      "Height (cm)            0.1192      0.003     34.063      0.000       0.112       0.126\n",
      "Sex_M                  0.1801      0.038      4.769      0.000       0.106       0.254\n",
      "Smoke_habit_smoker    -0.2231      0.063     -3.515      0.000      -0.348      -0.098\n",
      "==============================================================================\n",
      "Omnibus:                      113.397   Durbin-Watson:                   1.647\n",
      "Prob(Omnibus):                  0.000   Jarque-Bera (JB):              652.393\n",
      "Skew:                          -0.625   Prob(JB):                    2.16e-142\n",
      "Kurtosis:                       7.730   Cond. No.                     5.03e+03\n",
      "==============================================================================\n",
      "\n",
      "Warnings:\n",
      "[1] Standard Errors assume that the covariance matrix of the errors is correctly specified.\n",
      "[2] The condition number is large, 5.03e+03. This might indicate that there are\n",
      "strong multicollinearity or other numerical problems.\n"
     ]
    }
   ],
   "source": [
    "# consider the independent variables\n",
    "# select_dtypes: selects the desired the variable having specified datatype\n",
    "# include: includes the variables with specified datatype\n",
    "# drop(): drops specified column(s)/row(s) from the dataframe\n",
    "# axis: specifies whether to drop labels from index or columns; use 1 for columns and 0 for index\n",
    "df_FEV_num = df_FEV.select_dtypes(include=np.number).drop([\"FEV\"],axis=1)\n",
    "\n",
    "# consider all the categorical variables in the data\n",
    "# select_dtypes: selects the desired the variable having specified datatype\n",
    "# include: includes the variables with specified datatype\n",
    "df_FEV_cat = df_FEV.select_dtypes(include=\"object\")\n",
    "\n",
    "# convert the categorical variable to dummy variable\n",
    "# get_dummies(): converts the variable to categorical variable\n",
    "# drop_first=True: indicates n-1 dummy enoding; if set to false indicated one-hot encoding\n",
    "dummy_variables = pd.get_dummies(df_FEV_cat, drop_first=True)\n",
    "\n",
    "# concatenate the numerical and dummy variables\n",
    "# axis: specifies whether to drop labels from index or columns; use 1 for columns and 0 for index\n",
    "X = pd.concat([df_FEV_num, dummy_variables],axis=1)\n",
    "\n",
    "# consider the dependent variable\n",
    "y = df_FEV[\"FEV\"]\n",
    "\n",
    "# fit a full model with an intercept using fit()\n",
    "# add_constant(): adds the intercept term to the model\n",
    "MLR_model = sm.OLS(y, sm.add_constant(X)).fit()\n",
    "\n",
    "# print the summary output\n",
    "print(MLR_model.summary())"
   ]
  },
  {
   "cell_type": "markdown",
   "metadata": {},
   "source": [
    "As the condition number is very high (5.03e+03) we can see that the multicollinearity is present in the data."
   ]
  },
  {
   "cell_type": "markdown",
   "metadata": {
    "collapsed": true
   },
   "source": [
    "<table align=\"left\">\n",
    "    <tr>\n",
    "        <td width=\"6%\">\n",
    "            <img src=\"question_icon.png\">\n",
    "        </td>\n",
    "        <td>\n",
    "            <div align=\"left\", style=\"font-size:120%\">\n",
    "                <font color=\"#21618C\">\n",
    "                    <b>16.  A Linear regression model is used to analyze the impact of all possible features on respiratory function (FEV). Check whether the error terms are serially independent?</b>\n",
    "                </font>\n",
    "            </div>\n",
    "        </td>\n",
    "    </tr>\n",
    "</table>"
   ]
  },
  {
   "cell_type": "markdown",
   "metadata": {},
   "source": [
    "To check the assumption of autocorrelation we shall conduct the Durbin-Watson test.\n",
    "The hypothesis for the test are:\n",
    "\n",
    "<p style='text-indent:20em'> <strong> H<sub>o</sub>: The error terms are not autocorrelated </strong> </p>\n",
    "<p style='text-indent:20em'> <strong> H<sub>1</sub>: TThe error terms are autocorrelated  </strong> </p>"
   ]
  },
  {
   "cell_type": "code",
   "execution_count": 25,
   "metadata": {},
   "outputs": [
    {
     "data": {
      "text/plain": [
       "1.6472983005218602"
      ]
     },
     "execution_count": 25,
     "metadata": {},
     "output_type": "execute_result"
    }
   ],
   "source": [
    "# consider the independent variables\n",
    "# select_dtypes: selects the desired the variable having specified datatype\n",
    "# include: includes the variables with specified datatype\n",
    "# drop(): drops specified column(s)/row(s) from the dataframe\n",
    "# axis: specifies whether to drop labels from index or columns; use 1 for columns and 0 for index\n",
    "df_FEV_num = df_FEV.select_dtypes(include=np.number).drop([\"FEV\"],axis=1)\n",
    "\n",
    "# consider all the categorical variables in the data\n",
    "# select_dtypes: selects the desired the variable having specified datatype\n",
    "# include: includes the variables with specified datatype\n",
    "df_FEV_cat = df_FEV.select_dtypes(include=\"object\")\n",
    "\n",
    "# convert the categorical variable to dummy variable\n",
    "# get_dummies(): converts the variable to categorical variable\n",
    "# drop_first=True: indicates n-1 dummy enoding; if set to false indicated one-hot encoding\n",
    "dummy_variables = pd.get_dummies(df_FEV_cat, drop_first=True)\n",
    "\n",
    "# concatenate the numerical and dummy variables\n",
    "# axis: specifies whether to drop labels from index or columns; use 1 for columns and 0 for index\n",
    "X = pd.concat([df_FEV_num, dummy_variables],axis=1)\n",
    "\n",
    "# consider the dependent variable\n",
    "y = df_FEV[\"FEV\"]\n",
    "\n",
    "# fit a full model with an intercept using fit()\n",
    "# add_constant(): adds the intercept term to the model\n",
    "MLR_model = sm.OLS(y, sm.add_constant(X)).fit()\n",
    "\n",
    "# compute residuals using 'resid'\n",
    "residuals = MLR_model.resid\n",
    "\n",
    "# perform Durbin-Watson test \n",
    "durbin_watson(residuals)  "
   ]
  },
  {
   "cell_type": "markdown",
   "metadata": {},
   "source": [
    "From the test statistic, we conclude that there is a slight positive serial correlation."
   ]
  },
  {
   "cell_type": "markdown",
   "metadata": {
    "collapsed": true
   },
   "source": [
    "<table align=\"left\">\n",
    "    <tr>\n",
    "        <td width=\"6%\">\n",
    "            <img src=\"question_icon.png\">\n",
    "        </td>\n",
    "        <td>\n",
    "            <div align=\"left\", style=\"font-size:120%\">\n",
    "                <font color=\"#21618C\">\n",
    "                    <b>17. A model is built using all the features to predict the FEV. Check whether the residuals obtained form the model are normally distributed. </b>\n",
    "                </font>\n",
    "            </div>\n",
    "        </td>\n",
    "    </tr>\n",
    "</table>"
   ]
  },
  {
   "cell_type": "code",
   "execution_count": 26,
   "metadata": {
    "scrolled": false
   },
   "outputs": [
    {
     "data": {
      "image/png": "[encoded data removed]",
      "text/plain": [
       "<Figure size 1080x576 with 1 Axes>"
      ]
     },
     "metadata": {
      "needs_background": "light"
     },
     "output_type": "display_data"
    }
   ],
   "source": [
    "# consider the independent variables\n",
    "# select_dtypes: selects the desired the variable having specified datatype\n",
    "# include: includes the variables with specified datatype\n",
    "# drop(): drops specified column(s)/row(s) from the dataframe\n",
    "# axis: specifies whether to drop labels from index or columns; use 1 for columns and 0 for index\n",
    "df_FEV_num = df_FEV.select_dtypes(include=np.number).drop([\"FEV\"],axis=1)\n",
    "\n",
    "# consider all the categorical variables in the data\n",
    "# select_dtypes: selects the desired the variable having specified datatype\n",
    "# include: includes the variables with specified datatype\n",
    "df_FEV_cat = df_FEV.select_dtypes(include=\"object\")\n",
    "\n",
    "# convert the categorical variable to dummy variable\n",
    "# get_dummies(): converts the variable to categorical variable\n",
    "# drop_first=True: indicates n-1 dummy enoding; if set to false indicated one-hot encoding\n",
    "dummy_variables = pd.get_dummies(df_FEV_cat, drop_first=True)\n",
    "\n",
    "# concatenate the numerical and dummy variables\n",
    "# axis: specifies whether to drop labels from index or columns; use 1 for columns and 0 for index\n",
    "X = pd.concat([df_FEV_num, dummy_variables],axis=1)\n",
    "\n",
    "# consider the dependent variable\n",
    "y = df_FEV[\"FEV\"]\n",
    "\n",
    "# fit a full model with an intercept using fit()\n",
    "# add_constant(): adds the intercept term to the model\n",
    "MLR_model = sm.OLS(y, sm.add_constant(X)).fit()\n",
    "\n",
    "# set the plot size\n",
    "plt.rcParams['figure.figsize'] = (15,8)\n",
    "\n",
    "# plot the Q-Q plot\n",
    "# 'r' represents the regression line\n",
    "qqplot(MLR_model.resid, line = 'r')\n",
    "\n",
    "# set plot and axes labels\n",
    "# set text size using 'fontsize'\n",
    "plt.title('Q-Q Plot', fontsize = 15)\n",
    "plt.xlabel('Theoretical Quantiles', fontsize = 15)\n",
    "plt.ylabel('Sample Quantiles', fontsize = 15)\n",
    "\n",
    "# display the plot\n",
    "plt.show()"
   ]
  },
  {
   "cell_type": "markdown",
   "metadata": {},
   "source": [
    "The diagonal line (red line) is the regression line and the blue points are the cumulative distribution of the residuals. As, most of the points are close to the diagonal line, we conclude that the residuals follow a near normal distribution."
   ]
  },
  {
   "cell_type": "markdown",
   "metadata": {},
   "source": [
    "<a id=\"ml_perf\"> </a>\n",
    "## 6. Model Performance"
   ]
  },
  {
   "cell_type": "markdown",
   "metadata": {
    "collapsed": true
   },
   "source": [
    "<table align=\"left\">\n",
    "    <tr>\n",
    "        <td width=\"6%\">\n",
    "            <img src=\"question_icon.png\">\n",
    "        </td>\n",
    "        <td>\n",
    "            <div align=\"left\", style=\"font-size:120%\">\n",
    "                <font color=\"#21618C\">\n",
    "                    <b>18. Build a full model on 70% of the given data. Calculate the mean square error and the root mean square error on the test set.</b>\n",
    "                </font>\n",
    "            </div>\n",
    "        </td>\n",
    "    </tr>\n",
    "</table>"
   ]
  },
  {
   "cell_type": "code",
   "execution_count": 27,
   "metadata": {},
   "outputs": [],
   "source": [
    "# consider the independent variables\n",
    "# select_dtypes: selects the desired the variable having specified datatype\n",
    "# include: includes the variables with specified datatype\n",
    "# drop(): drops specified column(s)/row(s) from the dataframe\n",
    "# axis: specifies whether to drop labels from index or columns; use 1 for columns and 0 for index\n",
    "df_FEV_num = df_FEV.select_dtypes(include=np.number).drop([\"FEV\"],axis=1)\n",
    "\n",
    "# consider all the categorical variables in the data\n",
    "# select_dtypes: selects the desired the variable having specified datatype\n",
    "# include: includes the variables with specified datatype\n",
    "df_FEV_cat = df_FEV.select_dtypes(include=\"object\")\n",
    "\n",
    "# convert the categorical variable to dummy variable\n",
    "# get_dummies(): converts the variable to categorical variable\n",
    "# drop_first=True: indicates n-1 dummy enoding; if set to false indicated one-hot encoding\n",
    "dummy_variables = pd.get_dummies(df_FEV_cat, drop_first=True)\n",
    "\n",
    "# concatenate the numerical and dummy variables\n",
    "# axis: specifies whether to drop labels from index or columns; use 1 for columns and 0 for index\n",
    "X = pd.concat([df_FEV_num, dummy_variables],axis=1)\n",
    "\n",
    "# add_constant(): adds the intercept term to the model\n",
    "X = sm.add_constant(X)\n",
    "\n",
    "# consider the dependent variable\n",
    "y = df_FEV[\"FEV\"]\n",
    "\n",
    "# split data into train subset and test subset\n",
    "# set 'random_state' to generate the same dataset each time you run the code \n",
    "# 'test_size' returns the proportion of data to be included in the testing set\n",
    "X_train, X_test, y_train, y_test = train_test_split(X, y, random_state = 1, test_size = 0.3)\n",
    "\n",
    "# fit a full model using fit()\n",
    "MLR_model = sm.OLS(y, X).fit()"
   ]
  },
  {
   "cell_type": "code",
   "execution_count": 28,
   "metadata": {},
   "outputs": [
    {
     "name": "stdout",
     "output_type": "stream",
     "text": [
      "Mean Squared Error (MSE):  0.2403\n",
      "Root Mean Squared Error (RMSE):  0.4902\n"
     ]
    }
   ],
   "source": [
    "# predict the y values\n",
    "y_pred = MLR_model.predict(X_test)\n",
    "\n",
    "# calculating the MSE for the test data and then rounding the value upto 4 digits\n",
    "mse_test = round(mean_squared_error(y_test, y_pred),4)\n",
    "\n",
    "# printing the mse for the test set\n",
    "print(\"Mean Squared Error (MSE): \", mse_test)\n",
    "\n",
    "# taking the square root of the mse and then rounding the value upto 4 digits\n",
    "rmse_test = round(np.sqrt(mse_test), 4)\n",
    "\n",
    "# printing the rmse for the test set\n",
    "print(\"Root Mean Squared Error (RMSE): \", rmse_test)"
   ]
  },
  {
   "cell_type": "markdown",
   "metadata": {
    "collapsed": true
   },
   "source": [
    "<table align=\"left\">\n",
    "    <tr>\n",
    "        <td width=\"6%\">\n",
    "            <img src=\"question_icon.png\">\n",
    "        </td>\n",
    "        <td>\n",
    "            <div align=\"left\", style=\"font-size:120%\">\n",
    "                <font color=\"#21618C\">\n",
    "                    <b>19. Calculate the mean absolute error and the  mean absolute percentage error for the test set using the model in Q18. Compare the values of RMSE and MAE. </b>\n",
    "                </font>\n",
    "            </div>\n",
    "        </td>\n",
    "    </tr>\n",
    "</table>"
   ]
  },
  {
   "cell_type": "code",
   "execution_count": 29,
   "metadata": {},
   "outputs": [],
   "source": [
    "# a user defined function to calculate MAPE \n",
    "# the function take arguments: actual and predicted values\n",
    "# it returns the MAPE \n",
    "def mape(actual, predicted):\n",
    "    return (np.mean(np.abs((actual - predicted) / actual)) * 100)"
   ]
  },
  {
   "cell_type": "code",
   "execution_count": 30,
   "metadata": {},
   "outputs": [
    {
     "name": "stdout",
     "output_type": "stream",
     "text": [
      "Mean Absolute Error (MAE) on test set:  0.3572\n",
      "Mean Absolute Percentage Error (MAPE) on test set:  14.4264\n"
     ]
    }
   ],
   "source": [
    "# consider the full model in Q18\n",
    "# calculating the MAE for the test data and then rounding the value upto 4 digits\n",
    "mae_test = round(mean_absolute_error(y_test, y_pred),4)\n",
    "\n",
    "# printing the MAE for the test set\n",
    "print(\"Mean Absolute Error (MAE) on test set: \", mae_test)\n",
    "\n",
    "# Calculating the MAPE using the \"mape()\" function created above\n",
    "\n",
    "# calculating the MAPE for the  data and then rounding the value upto 4 digits\n",
    "mape_test = round(mape(y_test, y_pred),4)\n",
    "\n",
    "# printing the mape for the tra set\n",
    "print(\"Mean Absolute Percentage Error (MAPE) on test set: \", mape_test)"
   ]
  },
  {
   "cell_type": "markdown",
   "metadata": {},
   "source": [
    "As you can see, the value of RMSE is greater than the value of MAE. The reason for this is that the RMSE punishes the model for large error terms. Thus, RMSE is a robust method that is generally used."
   ]
  },
  {
   "cell_type": "markdown",
   "metadata": {
    "collapsed": true
   },
   "source": [
    "<table align=\"left\">\n",
    "    <tr>\n",
    "        <td width=\"6%\">\n",
    "            <img src=\"question_icon.png\">\n",
    "        </td>\n",
    "        <td>\n",
    "            <div align=\"left\", style=\"font-size:120%\">\n",
    "                <font color=\"#21618C\">\n",
    "                    <b>20. Build the full model on 80% of the given data and check if the model is overfitted? </b>\n",
    "                </font>\n",
    "            </div>\n",
    "        </td>\n",
    "    </tr>\n",
    "</table>"
   ]
  },
  {
   "cell_type": "code",
   "execution_count": 31,
   "metadata": {},
   "outputs": [
    {
     "name": "stdout",
     "output_type": "stream",
     "text": [
      "                            OLS Regression Results                            \n",
      "==============================================================================\n",
      "Dep. Variable:                    FEV   R-squared:                       0.701\n",
      "Model:                            OLS   Adj. R-squared:                  0.699\n",
      "Method:                 Least Squares   F-statistic:                     379.5\n",
      "Date:                Fri, 08 Jan 2021   Prob (F-statistic):          2.78e-168\n",
      "Time:                        18:56:42   Log-Likelihood:                -439.94\n",
      "No. Observations:                 654   AIC:                             889.9\n",
      "Df Residuals:                     649   BIC:                             912.3\n",
      "Df Model:                           4                                         \n",
      "Covariance Type:            nonrobust                                         \n",
      "======================================================================================\n",
      "                         coef    std err          t      P>|t|      [0.025      0.975]\n",
      "--------------------------------------------------------------------------------------\n",
      "const                -16.5268      0.575    -28.727      0.000     -17.656     -15.397\n",
      "Age                    0.0026      0.007      0.374      0.708      -0.011       0.016\n",
      "Height (cm)            0.1192      0.003     34.063      0.000       0.112       0.126\n",
      "Sex_M                  0.1801      0.038      4.769      0.000       0.106       0.254\n",
      "Smoke_habit_smoker    -0.2231      0.063     -3.515      0.000      -0.348      -0.098\n",
      "==============================================================================\n",
      "Omnibus:                      113.397   Durbin-Watson:                   1.647\n",
      "Prob(Omnibus):                  0.000   Jarque-Bera (JB):              652.393\n",
      "Skew:                          -0.625   Prob(JB):                    2.16e-142\n",
      "Kurtosis:                       7.730   Cond. No.                     5.03e+03\n",
      "==============================================================================\n",
      "\n",
      "Warnings:\n",
      "[1] Standard Errors assume that the covariance matrix of the errors is correctly specified.\n",
      "[2] The condition number is large, 5.03e+03. This might indicate that there are\n",
      "strong multicollinearity or other numerical problems.\n",
      "\n",
      " Root Mean Squared Error (RMSE) on train set:  0.4694\n",
      "\n",
      " Root Mean Squared Error (RMSE) on test set:  0.4928\n"
     ]
    }
   ],
   "source": [
    "# consider the independent variables\n",
    "# select_dtypes: selects the desired the variable having specified datatype\n",
    "# include: includes the variables with specified datatype\n",
    "# drop(): drops specified column(s)/row(s) from the dataframe\n",
    "# axis: specifies whether to drop labels from index or columns; use 1 for columns and 0 for index\n",
    "df_FEV_num = df_FEV.select_dtypes(include=np.number).drop([\"FEV\"],axis=1)\n",
    "\n",
    "# consider all the categorical variables in the data\n",
    "# select_dtypes: selects the desired the variable having specified datatype\n",
    "# include: includes the variables with specified datatype\n",
    "df_FEV_cat = df_FEV.select_dtypes(include=\"object\")\n",
    "\n",
    "# convert the categorical variable to dummy variable\n",
    "# get_dummies(): converts the variable to categorical variable\n",
    "# drop_first=True: indicates n-1 dummy enoding; if set to false indicated one-hot encoding\n",
    "dummy_variables = pd.get_dummies(df_FEV_cat, drop_first=True)\n",
    "\n",
    "# concatenate the numerical and dummy variables\n",
    "# axis: specifies whether to drop labels from index or columns; use 1 for columns and 0 for index\n",
    "X = pd.concat([df_FEV_num, dummy_variables],axis=1)\n",
    "\n",
    "# add_constant(): adds the intercept term to the model\n",
    "X = sm.add_constant(X)\n",
    "\n",
    "# consider the dependent variable\n",
    "y = df_FEV[\"FEV\"]\n",
    "\n",
    "# split data into train subset and test subset\n",
    "# set 'random_state' to generate the same dataset each time you run the code \n",
    "# 'test_size' returns the proportion of data to be included in the testing set\n",
    "X_train, X_test, y_train, y_test = train_test_split(X, y, random_state = 1, test_size = 0.2)\n",
    "\n",
    "# fit a full model using fit()\n",
    "MLR_model = sm.OLS(y, X).fit()\n",
    "\n",
    "# print the model summary\n",
    "print(MLR_model.summary())\n",
    "\n",
    "# For training set:\n",
    "# train_pred: Prediction made by the model on the training dataset 'X_train'\n",
    "# y_train: Actual values of the target variable for the train dataset\n",
    "\n",
    "# For testing set:\n",
    "# test_pred: Prediction made by the model on the test dataset 'y_train'\n",
    "# y_test: Actual values of the target variable for the test dataset\n",
    "\n",
    "# Predicting the output of the target variable from the train data\n",
    "train_pred = MLR_model.predict(X_train)\n",
    "\n",
    "# Predicting the output of the target variable from the test data\n",
    "test_pred = MLR_model.predict(X_test)\n",
    "\n",
    "# Calculating the mse using the \"mean_squared_error\" function\n",
    "\n",
    "# MSE for the train data\n",
    "mse_train = mean_squared_error(y_train, train_pred)\n",
    "\n",
    "# taking the square root of the mse and then rounding the value upto 4 digits\n",
    "rmse_train = round(np.sqrt(mse_train), 4)\n",
    "\n",
    "# printing the rmse for the train set\n",
    "print(\"\\n Root Mean Squared Error (RMSE) on train set: \", rmse_train)\n",
    "\n",
    "# MSE for the test data\n",
    "mse_test = mean_squared_error(y_test, test_pred)\n",
    "\n",
    "# taking the square root of the mse and then rounding the value upto 4 digits\n",
    "rmse_test = round(np.sqrt(mse_test), 4)\n",
    "\n",
    "# printing the rmse for the test set\n",
    "print(\"\\n Root Mean Squared Error (RMSE) on test set: \", rmse_test)"
   ]
  },
  {
   "cell_type": "markdown",
   "metadata": {},
   "source": [
    "The difference between the RMSE values of the train and the test set is very less. Thus, it can be said that the model is not overfitted. If a significant difference is seen in the RMSE of the train and the test set, then it can be said that the model is overfitted on the train set."
   ]
  }
 ],
 "metadata": {
  "kernelspec": {
   "display_name": "Python 3",
   "language": "python",
   "name": "python3"
  },
  "language_info": {
   "codemirror_mode": {
    "name": "ipython",
    "version": 3
   },
   "file_extension": ".py",
   "mimetype": "text/x-python",
   "name": "python",
   "nbconvert_exporter": "python",
   "pygments_lexer": "ipython3",
   "version": "3.8.8"
  }
 },
 "nbformat": 4,
 "nbformat_minor": 2
}
