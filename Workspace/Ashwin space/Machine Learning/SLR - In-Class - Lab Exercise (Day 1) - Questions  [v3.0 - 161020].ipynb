{
 "cells": [
  {
   "cell_type": "markdown",
   "metadata": {},
   "source": [
    "<table align=\"center\" width=100%>\n",
    "    <tr>\n",
    "        <td width=\"15%\">\n",
    "            <img src=\"in_class.png\">\n",
    "        </td>\n",
    "        <td>\n",
    "            <div align=\"center\">\n",
    "                <font color=\"#21618C\" size=8px>\n",
    "                    <b> Inclass - Lab <br>(Day 1)\n",
    "                    </b>\n",
    "                </font>\n",
    "            </div>\n",
    "        </td>\n",
    "    </tr>\n",
    "</table>"
   ]
  },
  {
   "cell_type": "markdown",
   "metadata": {},
   "source": [
    "### About the data set 1 (Life Expectancy data)\n",
    "\n",
    "The dataset contains information about several health and economic factors that contribute to average life expectancy for different countries. <br> Attribute information: \n",
    "\n",
    "**Country:** Name of the country\n",
    "\n",
    "**Status:** Whether the country is Developed or Developing\n",
    "\n",
    "**Adult_Mortality:** Mortality rate for age group 15-60 out of every 1000 individuals of the population\n",
    "\n",
    "**Infant_Deaths:** Number of infant deaths per 1000 population\n",
    "\n",
    "**Hepatitis:** Hepatitis B (HepB) immunization coverage for 1 year olds (Percentage)\n",
    "\n",
    "**Measles:** Number of reported cases for measles per 1000 from population\n",
    "\n",
    "**BMI:** Average Body Mass Index for entire population\n",
    "\n",
    "**Underfive_Deaths:** Number of deaths under 5 years of age per 1000 population\n",
    "\n",
    "**Polio:** Polio (Pol3) immunization coverage for 1 year olds (Percentage)\n",
    "\n",
    "**Diphtheria:** Diphtheria tetanus toxoid and pertussis (DTP3) immunization coverage for 1 year olds (Percentage)\n",
    "\n",
    "**HIV:** Deaths per 1000 live births due to HIV/AIDS (0-4 years)\n",
    "\n",
    "**GDP:** Gross Domestic Product per capita (in USD)\n",
    "\n",
    "**Population:** Population of the country\n",
    "\n",
    "**Malnourished10_19:** Prevalence of malnutrition among children and adolescents for Age 10 to 19 (Percentage)\n",
    "\n",
    "**Malnourished5_9:** Prevalence of malnutrition among children for Age 5 to 9 (Percentage)\n",
    "\n",
    "**Income_Index:** Human Development Index (HDI) in terms of national income per capita (index ranging from 0 to 1)\n",
    "\n",
    "**Schooling:** Number of years of Schooling\n",
    "\n",
    "**Life_Expectancy:** Life Expectancy in age for the country\n",
    "\n",
    "\n",
    "\n"
   ]
  },
  {
   "cell_type": "markdown",
   "metadata": {},
   "source": [
    "## Table of Content\n",
    "\n",
    "1. **[Bivariate Regression](#Bivariate)**\n",
    "2. **[Multiple Linear Regression (MLR)](#MLR)**\n",
    "3. **[Inferences about slope](#ins)**\n",
    "4. **[Model Evaluation](#ML_eval)**\n",
    "5. **[Assumptions of Linear Regression](#assum)**\n",
    "6. **[Model Performance](#ml_perf)**"
   ]
  },
  {
   "cell_type": "markdown",
   "metadata": {},
   "source": [
    "**Import the required libraries**"
   ]
  },
  {
   "cell_type": "code",
   "execution_count": 60,
   "metadata": {},
   "outputs": [],
   "source": [
    "# type your code here\n",
    "# 'Statsmodels' is used to build and analyze various statistical models\n",
    "import statsmodels\n",
    "import statsmodels.api as sm\n",
    "import statsmodels.stats.api as sms\n",
    "import statsmodels.formula.api as smf\n",
    "from statsmodels.tools.eval_measures import rmse\n",
    "from statsmodels.compat import lzip\n",
    "from statsmodels.stats.outliers_influence import variance_inflation_factor\n",
    "from statsmodels.stats.diagnostic import linear_rainbow\n",
    "import statsmodels.tsa.api as smt\n",
    "from statsmodels.graphics.gofplots import qqplot\n",
    "from statsmodels.stats.stattools import durbin_watson\n",
    "\n",
    "# 'SciPy' is used to perform scientific computations\n",
    "from scipy import stats\n",
    "from scipy.stats import shapiro\n",
    "\n",
    "# 'metrics' from sklearn is used for evaluating the model performance\n",
    "from sklearn.metrics import mean_absolute_error\n",
    "from sklearn.metrics import mean_squared_error\n",
    "# import 'Pandas' \n",
    "import pandas as pd \n",
    "\n",
    "# import 'Numpy' \n",
    "import numpy as np\n",
    "\n",
    "# import 'matplotlib.pyplot' \n",
    "import matplotlib.pyplot as plt\n",
    "\n",
    "# import 'Seaborn' \n",
    "import seaborn as sns\n",
    "\n",
    "# to suppress warnings \n",
    "from warnings import filterwarnings\n",
    "filterwarnings('ignore')\n",
    "\n",
    "# display all columns of the dataframe\n",
    "pd.options.display.max_columns = None\n",
    "\n",
    "# display all rows of the dataframe\n",
    "pd.options.display.max_rows = None\n",
    " \n",
    "# to suppress the notation 'e'    \n",
    "pd.options.display.float_format = '{:.6f}'.format\n",
    "\n",
    "# import various metrics from 'Scikit-learn' (sklearn)\n",
    "from sklearn.model_selection import train_test_split"
   ]
  },
  {
   "cell_type": "markdown",
   "metadata": {},
   "source": [
    "#### Load the first dataset and check the first five observations\n",
    "\n",
    "Load the csv file and set the first column as index"
   ]
  },
  {
   "cell_type": "code",
   "execution_count": 21,
   "metadata": {},
   "outputs": [
    {
     "data": {
      "text/html": [
       "<div>\n",
       "<style scoped>\n",
       "    .dataframe tbody tr th:only-of-type {\n",
       "        vertical-align: middle;\n",
       "    }\n",
       "\n",
       "    .dataframe tbody tr th {\n",
       "        vertical-align: top;\n",
       "    }\n",
       "\n",
       "    .dataframe thead th {\n",
       "        text-align: right;\n",
       "    }\n",
       "</style>\n",
       "<table border=\"1\" class=\"dataframe\">\n",
       "  <thead>\n",
       "    <tr style=\"text-align: right;\">\n",
       "      <th></th>\n",
       "      <th>Country</th>\n",
       "      <th>Status</th>\n",
       "      <th>Adult_Mortality</th>\n",
       "      <th>Infant_Deaths</th>\n",
       "      <th>Hepatitis</th>\n",
       "      <th>Measles</th>\n",
       "      <th>BMI</th>\n",
       "      <th>Underfive_Deaths</th>\n",
       "      <th>Polio</th>\n",
       "      <th>Diphtheria</th>\n",
       "      <th>HIV</th>\n",
       "      <th>GDP</th>\n",
       "      <th>Population</th>\n",
       "      <th>Malnourished10_19</th>\n",
       "      <th>Malnourished5_9</th>\n",
       "      <th>Income_Index</th>\n",
       "      <th>Schooling</th>\n",
       "      <th>Expected</th>\n",
       "    </tr>\n",
       "  </thead>\n",
       "  <tbody>\n",
       "    <tr>\n",
       "      <th>0</th>\n",
       "      <td>Afghanistan</td>\n",
       "      <td>Developing</td>\n",
       "      <td>263</td>\n",
       "      <td>62</td>\n",
       "      <td>65</td>\n",
       "      <td>1154</td>\n",
       "      <td>19.100000</td>\n",
       "      <td>83</td>\n",
       "      <td>6</td>\n",
       "      <td>65</td>\n",
       "      <td>0.100000</td>\n",
       "      <td>584.259210</td>\n",
       "      <td>33736494</td>\n",
       "      <td>17.200000</td>\n",
       "      <td>17.300000</td>\n",
       "      <td>0.479000</td>\n",
       "      <td>10.100000</td>\n",
       "      <td>65.000000</td>\n",
       "    </tr>\n",
       "    <tr>\n",
       "      <th>1</th>\n",
       "      <td>Albania</td>\n",
       "      <td>Developing</td>\n",
       "      <td>8</td>\n",
       "      <td>0</td>\n",
       "      <td>98</td>\n",
       "      <td>0</td>\n",
       "      <td>57.200000</td>\n",
       "      <td>1</td>\n",
       "      <td>98</td>\n",
       "      <td>98</td>\n",
       "      <td>0.100000</td>\n",
       "      <td>4575.763787</td>\n",
       "      <td>288914</td>\n",
       "      <td>1.200000</td>\n",
       "      <td>1.300000</td>\n",
       "      <td>0.761000</td>\n",
       "      <td>14.200000</td>\n",
       "      <td>77.500000</td>\n",
       "    </tr>\n",
       "    <tr>\n",
       "      <th>2</th>\n",
       "      <td>Algeria</td>\n",
       "      <td>Developing</td>\n",
       "      <td>19</td>\n",
       "      <td>21</td>\n",
       "      <td>95</td>\n",
       "      <td>63</td>\n",
       "      <td>59.500000</td>\n",
       "      <td>24</td>\n",
       "      <td>95</td>\n",
       "      <td>95</td>\n",
       "      <td>0.100000</td>\n",
       "      <td>4132.762920</td>\n",
       "      <td>39871528</td>\n",
       "      <td>6.000000</td>\n",
       "      <td>5.800000</td>\n",
       "      <td>0.743000</td>\n",
       "      <td>14.400000</td>\n",
       "      <td>75.600000</td>\n",
       "    </tr>\n",
       "    <tr>\n",
       "      <th>3</th>\n",
       "      <td>Angola</td>\n",
       "      <td>Developing</td>\n",
       "      <td>335</td>\n",
       "      <td>66</td>\n",
       "      <td>64</td>\n",
       "      <td>118</td>\n",
       "      <td>23.300000</td>\n",
       "      <td>98</td>\n",
       "      <td>7</td>\n",
       "      <td>64</td>\n",
       "      <td>1.900000</td>\n",
       "      <td>3695.793748</td>\n",
       "      <td>2785935</td>\n",
       "      <td>8.300000</td>\n",
       "      <td>8.200000</td>\n",
       "      <td>0.531000</td>\n",
       "      <td>11.400000</td>\n",
       "      <td>52.400000</td>\n",
       "    </tr>\n",
       "    <tr>\n",
       "      <th>4</th>\n",
       "      <td>Argentina</td>\n",
       "      <td>Developing</td>\n",
       "      <td>116</td>\n",
       "      <td>8</td>\n",
       "      <td>94</td>\n",
       "      <td>0</td>\n",
       "      <td>62.800000</td>\n",
       "      <td>9</td>\n",
       "      <td>93</td>\n",
       "      <td>94</td>\n",
       "      <td>0.100000</td>\n",
       "      <td>13467.123600</td>\n",
       "      <td>43417765</td>\n",
       "      <td>1.000000</td>\n",
       "      <td>0.900000</td>\n",
       "      <td>0.826000</td>\n",
       "      <td>17.300000</td>\n",
       "      <td>76.300000</td>\n",
       "    </tr>\n",
       "  </tbody>\n",
       "</table>\n",
       "</div>"
      ],
      "text/plain": [
       "       Country      Status  Adult_Mortality  Infant_Deaths  Hepatitis   \\\n",
       "0  Afghanistan  Developing              263             62          65   \n",
       "1      Albania  Developing                8              0          98   \n",
       "2      Algeria  Developing               19             21          95   \n",
       "3       Angola  Developing              335             66          64   \n",
       "4    Argentina  Developing              116              8          94   \n",
       "\n",
       "   Measles       BMI   Underfive_Deaths   Polio  Diphtheria       HIV  \\\n",
       "0      1154 19.100000                 83      6           65 0.100000   \n",
       "1         0 57.200000                  1     98           98 0.100000   \n",
       "2        63 59.500000                 24     95           95 0.100000   \n",
       "3       118 23.300000                 98      7           64 1.900000   \n",
       "4         0 62.800000                  9     93           94 0.100000   \n",
       "\n",
       "           GDP  Population  Malnourished10_19   Malnourished5_9  Income_Index  \\\n",
       "0   584.259210    33736494           17.200000        17.300000      0.479000   \n",
       "1  4575.763787      288914            1.200000         1.300000      0.761000   \n",
       "2  4132.762920    39871528            6.000000         5.800000      0.743000   \n",
       "3  3695.793748     2785935            8.300000         8.200000      0.531000   \n",
       "4 13467.123600    43417765            1.000000         0.900000      0.826000   \n",
       "\n",
       "   Schooling  Expected  \n",
       "0  10.100000 65.000000  \n",
       "1  14.200000 77.500000  \n",
       "2  14.400000 75.600000  \n",
       "3  11.400000 52.400000  \n",
       "4  17.300000 76.300000  "
      ]
     },
     "execution_count": 21,
     "metadata": {},
     "output_type": "execute_result"
    }
   ],
   "source": [
    "# load the csv file\n",
    "df_lifeExp=pd.read_csv('Life_Expectancy.csv')\n",
    "df_lifeExp.head()\n",
    "# type your code here"
   ]
  },
  {
   "cell_type": "code",
   "execution_count": 12,
   "metadata": {},
   "outputs": [
    {
     "name": "stdout",
     "output_type": "stream",
     "text": [
      "<class 'pandas.core.frame.DataFrame'>\n",
      "RangeIndex: 124 entries, 0 to 123\n",
      "Data columns (total 18 columns):\n",
      " #   Column              Non-Null Count  Dtype  \n",
      "---  ------              --------------  -----  \n",
      " 0   Country             124 non-null    object \n",
      " 1   Status              124 non-null    object \n",
      " 2   Adult_Mortality     124 non-null    int64  \n",
      " 3   Infant_Deaths       124 non-null    int64  \n",
      " 4   Hepatitis           124 non-null    int64  \n",
      " 5   Measles             124 non-null    int64  \n",
      " 6    BMI                124 non-null    float64\n",
      " 7   Underfive_Deaths    124 non-null    int64  \n",
      " 8   Polio               124 non-null    int64  \n",
      " 9   Diphtheria          124 non-null    int64  \n",
      " 10   HIV                124 non-null    float64\n",
      " 11  GDP                 124 non-null    float64\n",
      " 12  Population          124 non-null    int64  \n",
      " 13  Malnourished10_19   124 non-null    float64\n",
      " 14  Malnourished5_9     124 non-null    float64\n",
      " 15  Income_Index        124 non-null    float64\n",
      " 16  Schooling           124 non-null    float64\n",
      " 17  Expected            124 non-null    float64\n",
      "dtypes: float64(8), int64(8), object(2)\n",
      "memory usage: 17.6+ KB\n"
     ]
    }
   ],
   "source": [
    "df_lifeExp.info() #4,8,9"
   ]
  },
  {
   "cell_type": "markdown",
   "metadata": {},
   "source": [
    "### Let's begin with some hands-on practice exercises"
   ]
  },
  {
   "cell_type": "markdown",
   "metadata": {},
   "source": [
    "<a id=\"Bivariate\"> </a>\n",
    "## 1. Bivariate Regression"
   ]
  },
  {
   "cell_type": "markdown",
   "metadata": {},
   "source": [
    "## We shall use the life expectancy dataset"
   ]
  },
  {
   "cell_type": "markdown",
   "metadata": {
    "collapsed": true
   },
   "source": [
    "<table align=\"left\">\n",
    "    <tr>\n",
    "        <td width=\"6%\">\n",
    "            <img src=\"question_icon.png\">\n",
    "        </td>\n",
    "        <td>\n",
    "            <div align=\"left\", style=\"font-size:120%\">\n",
    "                <font color=\"#21618C\">\n",
    "                    <b>1. How do we analyze the impact of adult mortality rate on average life expectancy of a country?</b>\n",
    "                </font>\n",
    "            </div>\n",
    "        </td>\n",
    "    </tr>\n",
    "</table>"
   ]
  },
  {
   "cell_type": "code",
   "execution_count": 6,
   "metadata": {},
   "outputs": [
    {
     "data": {
      "text/plain": [
       "<function matplotlib.pyplot.show(close=None, block=None)>"
      ]
     },
     "execution_count": 6,
     "metadata": {},
     "output_type": "execute_result"
    },
    {
     "data": {
      "image/png": "[encoded data removed]",
      "text/plain": [
       "<Figure size 432x288 with 1 Axes>"
      ]
     },
     "metadata": {
      "needs_background": "light"
     },
     "output_type": "display_data"
    }
   ],
   "source": [
    "# type your code here\n",
    "sns.scatterplot(df['Adult_Mortality'],df['Expected'])\n",
    "plt.show"
   ]
  },
  {
   "cell_type": "markdown",
   "metadata": {
    "collapsed": true
   },
   "source": [
    "<table align=\"left\">\n",
    "    <tr>\n",
    "        <td width=\"6%\">\n",
    "            <img src=\"question_icon.png\">\n",
    "        </td>\n",
    "        <td>\n",
    "            <div align=\"left\", style=\"font-size:120%\">\n",
    "                <font color=\"#21618C\">\n",
    "                    <b>2. A regression model is built to check the impact of Human Development Index (Income) on the life expectancy of a nation. What is the expected error value?</b>\n",
    "                </font>\n",
    "            </div>\n",
    "        </td>\n",
    "    </tr>\n",
    "</table>"
   ]
  },
  {
   "cell_type": "code",
   "execution_count": 11,
   "metadata": {},
   "outputs": [
    {
     "name": "stdout",
     "output_type": "stream",
     "text": [
      "Sum of all residuals -0.0000000000018\n",
      "Expected residual value -0.0000000000000\n"
     ]
    }
   ],
   "source": [
    "# type your code here\n",
    "#Expected error value is required for the impact of human development index on life expectancy of nation\n",
    "# selecting independent variables that describe immunization\n",
    "X = df_lifeExp['Income_Index']\n",
    "\n",
    "# 'sm.add_constant' adds the intercept to the model\n",
    "# Addding constant because there is some value with zero,which should be not happen,So adding constant with value as 1\n",
    "X = sm.add_constant(X)\n",
    "\n",
    "# set the dependent variable\n",
    "y = df_lifeExp.Expected\n",
    "\n",
    "# building a model with an intercept\n",
    "# fit() is used to fit the OLS model\n",
    "SLR_model = sm.OLS(y,X).fit()\n",
    "\n",
    "# capture predicted values\n",
    "predictions = SLR_model.predict(X)\n",
    "\n",
    "# find the residuals\n",
    "residual = df_lifeExp.Expected - predictions\n",
    "\n",
    "# calculate the sum of residuals\n",
    "sum_resid = np.sum(residual)\n",
    "\n",
    "# display the 13 digits after decimal\n",
    "#\"{:.13f}\". format(): displays the 13 digits after decimal\n",
    "output_residual = \"{:.13f}\". format(np.sum(residual))\n",
    "\n",
    "# print sum of residuals\n",
    "print(\"Sum of all residuals\",output_residual)\n",
    "\n",
    "# get the total number of rows\n",
    "#len(): gives the count of the observations\n",
    "sample_size = len(df_lifeExp.index)\n",
    "\n",
    "# calculate expected value for residuals\n",
    "expected_value = sum_resid/sample_size\n",
    "\n",
    "# for suppressing the e symbol format of printing output\n",
    "#\"{:.13f}\". format(): display\n",
    "#Residual value -That our predicted value matching with the regression value\n",
    "\n",
    "output = \"{:.13f}\". format(expected_value)\n",
    "\n",
    "# print expected residual value\n",
    "print(\"Expected residual value\",output)\n",
    "\n"
   ]
  },
  {
   "cell_type": "markdown",
   "metadata": {},
   "source": [
    "<a id=\"MLR\"> </a>\n",
    "## 2. Multiple Linear Regression(MLR)"
   ]
  },
  {
   "cell_type": "markdown",
   "metadata": {
    "collapsed": true
   },
   "source": [
    "<table align=\"left\">\n",
    "    <tr>\n",
    "        <td width=\"6%\">\n",
    "            <img src=\"question_icon.png\">\n",
    "        </td>\n",
    "        <td>\n",
    "            <div align=\"left\", style=\"font-size:120%\">\n",
    "                <font color=\"#21618C\">\n",
    "                    <b>3. Analyze the impact of immunization on life expectancy. </b>\n",
    "                </font>\n",
    "            </div>\n",
    "        </td>\n",
    "    </tr>\n",
    "</table>"
   ]
  },
  {
   "cell_type": "code",
   "execution_count": 13,
   "metadata": {},
   "outputs": [
    {
     "name": "stdout",
     "output_type": "stream",
     "text": [
      "                            OLS Regression Results                            \n",
      "==============================================================================\n",
      "Dep. Variable:               Expected   R-squared:                       0.138\n",
      "Model:                            OLS   Adj. R-squared:                  0.116\n",
      "Method:                 Least Squares   F-statistic:                     6.395\n",
      "Date:                Sun, 28 Mar 2021   Prob (F-statistic):           0.000468\n",
      "Time:                        10:16:38   Log-Likelihood:                -431.15\n",
      "No. Observations:                 124   AIC:                             870.3\n",
      "Df Residuals:                     120   BIC:                             881.6\n",
      "Df Model:                           3                                         \n",
      "Covariance Type:            nonrobust                                         \n",
      "===============================================================================\n",
      "                  coef    std err          t      P>|t|      [0.025      0.975]\n",
      "-------------------------------------------------------------------------------\n",
      "const          57.9881      3.524     16.453      0.000      51.010      64.966\n",
      "Hepatitis      -0.1037      0.068     -1.528      0.129      -0.238       0.031\n",
      "Polio           0.0910      0.043      2.099      0.038       0.005       0.177\n",
      "Diphtheria      0.1613      0.082      1.969      0.051      -0.001       0.323\n",
      "==============================================================================\n",
      "Omnibus:                        4.513   Durbin-Watson:                   1.000\n",
      "Prob(Omnibus):                  0.105   Jarque-Bera (JB):                4.279\n",
      "Skew:                          -0.396   Prob(JB):                        0.118\n",
      "Kurtosis:                       2.550   Cond. No.                         755.\n",
      "==============================================================================\n",
      "\n",
      "Notes:\n",
      "[1] Standard Errors assume that the covariance matrix of the errors is correctly specified.\n"
     ]
    }
   ],
   "source": [
    "# type your code here\n",
    "# selecting independent variables that describe immunization\n",
    "X = df_lifeExp.iloc[:,[4,8,9]]\n",
    "\n",
    "# 'sm.add_constant' adds the intercept to the model\n",
    "X = sm.add_constant(X)\n",
    "\n",
    "# set the dependent variable\n",
    "y = df_lifeExp['Expected']\n",
    "\n",
    "# building a model with an intercept\n",
    "# fit() is used to fit the OLS model\n",
    "MLR_model = sm.OLS(y,X).fit()\n",
    "\n",
    "# print the model summary\n",
    "print(MLR_model.summary())"
   ]
  },
  {
   "cell_type": "code",
   "execution_count": null,
   "metadata": {},
   "outputs": [],
   "source": []
  },
  {
   "cell_type": "markdown",
   "metadata": {
    "collapsed": true
   },
   "source": [
    "<table align=\"left\">\n",
    "    <tr>\n",
    "        <td width=\"6%\">\n",
    "            <img src=\"question_icon.png\">\n",
    "        </td>\n",
    "        <td>\n",
    "            <div align=\"left\", style=\"font-size:120%\">\n",
    "                <font color=\"#21618C\">\n",
    "                    <b>4. If the information that whether the country is a developed or a developing country is included, does it alter the impact of immunzation on life expectancy ?</b>\n",
    "                </font>\n",
    "            </div>\n",
    "        </td>\n",
    "    </tr>\n",
    "</table>"
   ]
  },
  {
   "cell_type": "code",
   "execution_count": 14,
   "metadata": {},
   "outputs": [
    {
     "name": "stdout",
     "output_type": "stream",
     "text": [
      "                            OLS Regression Results                            \n",
      "==============================================================================\n",
      "Dep. Variable:               Expected   R-squared:                       0.321\n",
      "Model:                            OLS   Adj. R-squared:                  0.298\n",
      "Method:                 Least Squares   F-statistic:                     14.06\n",
      "Date:                Sun, 28 Mar 2021   Prob (F-statistic):           2.00e-09\n",
      "Time:                        10:31:32   Log-Likelihood:                -416.35\n",
      "No. Observations:                 124   AIC:                             842.7\n",
      "Df Residuals:                     119   BIC:                             856.8\n",
      "Df Model:                           4                                         \n",
      "Covariance Type:            nonrobust                                         \n",
      "=====================================================================================\n",
      "                        coef    std err          t      P>|t|      [0.025      0.975]\n",
      "-------------------------------------------------------------------------------------\n",
      "const                69.8090      3.771     18.512      0.000      62.342      77.276\n",
      "Hepatitis            -0.0035      0.063     -0.056      0.955      -0.128       0.121\n",
      "Polio                 0.0771      0.039      1.993      0.049       0.000       0.154\n",
      "Diphtheria            0.0456      0.076      0.602      0.548      -0.104       0.196\n",
      "Status_Developing   -10.6036      1.872     -5.664      0.000     -14.310      -6.897\n",
      "==============================================================================\n",
      "Omnibus:                        2.973   Durbin-Watson:                   1.211\n",
      "Prob(Omnibus):                  0.226   Jarque-Bera (JB):                2.635\n",
      "Skew:                          -0.355   Prob(JB):                        0.268\n",
      "Kurtosis:                       3.077   Cond. No.                         946.\n",
      "==============================================================================\n",
      "\n",
      "Notes:\n",
      "[1] Standard Errors assume that the covariance matrix of the errors is correctly specified.\n"
     ]
    }
   ],
   "source": [
    "# type your code here\n",
    "# selecting independent variables that describe immunization\n",
    "X = df_lifeExp.iloc[:,[4,8,9]]\n",
    "\n",
    "#Developed will be zero and Develping will one\n",
    "# create n-1 dummy variables\n",
    "# 'drop_first': creates (n-1) dummy variables using get_dummies()\n",
    "# 'prefix': adds prefix to category of dummy variable\n",
    "encoded_status = pd.get_dummies(data = df_lifeExp['Status'], drop_first=True, prefix = 'Status')\n",
    "\n",
    "# concate the dummy variable with features describing immunization using concat()\n",
    "# create a dataframe of all relevant independent variables\n",
    "# 'axis=1' concates the dataframes along columns \n",
    "X = pd.concat([pd.DataFrame(X), encoded_status], axis=1)\n",
    "\n",
    "# 'sm.add_constant' adds the intercept to the model\n",
    "X = sm.add_constant(X)\n",
    "\n",
    "# set the dependent variable\n",
    "y = df_lifeExp['Expected']\n",
    "\n",
    "# building a model with an intercept\n",
    "# fit() is used to fit the OLS model\n",
    "MLR_newmodel = sm.OLS(y,X).fit()\n",
    "\n",
    "# print the model summary\n",
    "print(MLR_newmodel.summary())"
   ]
  },
  {
   "cell_type": "markdown",
   "metadata": {},
   "source": [
    "<a id=\"ins\"> </a>\n",
    "## 3. Inferences about slope"
   ]
  },
  {
   "cell_type": "markdown",
   "metadata": {
    "collapsed": true
   },
   "source": [
    "<table align=\"left\">\n",
    "    <tr>\n",
    "        <td width=\"6%\">\n",
    "            <img src=\"question_icon.png\">\n",
    "        </td>\n",
    "        <td>\n",
    "            <div align=\"left\", style=\"font-size:120%\">\n",
    "                <font color=\"#21618C\">\n",
    "                    <b>5. Find the significant variables in the full model when all the variables are considered for prediction of life expectancy.</b>\n",
    "                </font>\n",
    "            </div>\n",
    "        </td>\n",
    "    </tr>\n",
    "</table>"
   ]
  },
  {
   "cell_type": "code",
   "execution_count": 24,
   "metadata": {},
   "outputs": [
    {
     "data": {
      "text/plain": [
       "['const',\n",
       " 'Adult_Mortality',\n",
       " 'Hepatitis ',\n",
       " ' HIV',\n",
       " 'Population',\n",
       " 'Income_Index',\n",
       " 'Status_Developing']"
      ]
     },
     "execution_count": 24,
     "metadata": {},
     "output_type": "execute_result"
    }
   ],
   "source": [
    "# we include all the numeric predictors\n",
    "x=df_lifeExp.drop(columns='Expected')\n",
    "X = df_lifeExp.iloc[:,2:16]\n",
    "\n",
    "# create n-1 dummy variables using get_dummies()\n",
    "# use 'drop_first' to create (n-1) dummy variables\n",
    "# use 'prefix' to add prefix to category of dummy variable\n",
    "encoded_status = pd.get_dummies(data = df_lifeExp['Status'], drop_first=True, prefix = 'Status')\n",
    "\n",
    "# concat the dummy variable with other features \n",
    "# 'axis=1' concates the dataframes along columns \n",
    "X = pd.concat([X, encoded_status], axis=1)\n",
    "\n",
    "# 'sm.add_constant' adds the intercept to the model\n",
    "X = sm.add_constant(X)\n",
    "\n",
    "# set the dependent variable\n",
    "y = df_lifeExp['Expected']\n",
    "\n",
    "# building a model with an intercept\n",
    "# fit() is used to fit the OLS model\n",
    "MLR_model = sm.OLS(y, X).fit()\n",
    "# calculate p-values for all the variables\n",
    "MLR_pvalues = pd.DataFrame(MLR_model.pvalues, columns = [\"P-Value\"])\n",
    "\n",
    "# filter the variables with p-value less than 0.05\n",
    "significant_var = MLR_pvalues[MLR_pvalues['P-Value'] < 0.05]\n",
    "\n",
    "# get insignificant variables using index\n",
    "# to_list: converts the variables to 'list' type\n",
    "signi_var = significant_var.index.to_list()\n",
    "\n",
    "# print the list of significant variables\n",
    "signi_var"
   ]
  },
  {
   "cell_type": "code",
   "execution_count": 26,
   "metadata": {},
   "outputs": [
    {
     "data": {
      "text/html": [
       "<table class=\"simpletable\">\n",
       "<caption>OLS Regression Results</caption>\n",
       "<tr>\n",
       "  <th>Dep. Variable:</th>        <td>Expected</td>     <th>  R-squared:         </th> <td>   0.847</td>\n",
       "</tr>\n",
       "<tr>\n",
       "  <th>Model:</th>                   <td>OLS</td>       <th>  Adj. R-squared:    </th> <td>   0.826</td>\n",
       "</tr>\n",
       "<tr>\n",
       "  <th>Method:</th>             <td>Least Squares</td>  <th>  F-statistic:       </th> <td>   39.82</td>\n",
       "</tr>\n",
       "<tr>\n",
       "  <th>Date:</th>             <td>Sun, 28 Mar 2021</td> <th>  Prob (F-statistic):</th> <td>5.10e-37</td>\n",
       "</tr>\n",
       "<tr>\n",
       "  <th>Time:</th>                 <td>10:56:27</td>     <th>  Log-Likelihood:    </th> <td> -324.00</td>\n",
       "</tr>\n",
       "<tr>\n",
       "  <th>No. Observations:</th>      <td>   124</td>      <th>  AIC:               </th> <td>   680.0</td>\n",
       "</tr>\n",
       "<tr>\n",
       "  <th>Df Residuals:</th>          <td>   108</td>      <th>  BIC:               </th> <td>   725.1</td>\n",
       "</tr>\n",
       "<tr>\n",
       "  <th>Df Model:</th>              <td>    15</td>      <th>                     </th>     <td> </td>   \n",
       "</tr>\n",
       "<tr>\n",
       "  <th>Covariance Type:</th>      <td>nonrobust</td>    <th>                     </th>     <td> </td>   \n",
       "</tr>\n",
       "</table>\n",
       "<table class=\"simpletable\">\n",
       "<tr>\n",
       "           <td></td>             <th>coef</th>     <th>std err</th>      <th>t</th>      <th>P>|t|</th>  <th>[0.025</th>    <th>0.975]</th>  \n",
       "</tr>\n",
       "<tr>\n",
       "  <th>const</th>              <td>   61.3372</td> <td>    3.544</td> <td>   17.306</td> <td> 0.000</td> <td>   54.312</td> <td>   68.363</td>\n",
       "</tr>\n",
       "<tr>\n",
       "  <th>Adult_Mortality</th>    <td>   -0.0230</td> <td>    0.004</td> <td>   -5.670</td> <td> 0.000</td> <td>   -0.031</td> <td>   -0.015</td>\n",
       "</tr>\n",
       "<tr>\n",
       "  <th>Infant_Deaths</th>      <td>    0.0571</td> <td>    0.037</td> <td>    1.550</td> <td> 0.124</td> <td>   -0.016</td> <td>    0.130</td>\n",
       "</tr>\n",
       "<tr>\n",
       "  <th>Hepatitis </th>         <td>    0.0691</td> <td>    0.032</td> <td>    2.179</td> <td> 0.031</td> <td>    0.006</td> <td>    0.132</td>\n",
       "</tr>\n",
       "<tr>\n",
       "  <th>Measles </th>           <td>-5.634e-05</td> <td> 6.09e-05</td> <td>   -0.926</td> <td> 0.357</td> <td>   -0.000</td> <td> 6.43e-05</td>\n",
       "</tr>\n",
       "<tr>\n",
       "  <th> BMI </th>              <td>   -0.0241</td> <td>    0.022</td> <td>   -1.073</td> <td> 0.286</td> <td>   -0.069</td> <td>    0.020</td>\n",
       "</tr>\n",
       "<tr>\n",
       "  <th>Underfive_Deaths </th>  <td>   -0.0404</td> <td>    0.027</td> <td>   -1.494</td> <td> 0.138</td> <td>   -0.094</td> <td>    0.013</td>\n",
       "</tr>\n",
       "<tr>\n",
       "  <th>Polio</th>              <td>   -0.0101</td> <td>    0.022</td> <td>   -0.459</td> <td> 0.647</td> <td>   -0.053</td> <td>    0.033</td>\n",
       "</tr>\n",
       "<tr>\n",
       "  <th>Diphtheria </th>        <td>   -0.0331</td> <td>    0.040</td> <td>   -0.833</td> <td> 0.407</td> <td>   -0.112</td> <td>    0.046</td>\n",
       "</tr>\n",
       "<tr>\n",
       "  <th> HIV</th>               <td>   -1.0481</td> <td>    0.268</td> <td>   -3.917</td> <td> 0.000</td> <td>   -1.578</td> <td>   -0.518</td>\n",
       "</tr>\n",
       "<tr>\n",
       "  <th>GDP</th>                <td> 5.253e-05</td> <td> 3.47e-05</td> <td>    1.514</td> <td> 0.133</td> <td>-1.62e-05</td> <td>    0.000</td>\n",
       "</tr>\n",
       "<tr>\n",
       "  <th>Population</th>         <td>-1.931e-08</td> <td> 8.56e-09</td> <td>   -2.256</td> <td> 0.026</td> <td>-3.63e-08</td> <td>-2.34e-09</td>\n",
       "</tr>\n",
       "<tr>\n",
       "  <th>Malnourished10_19 </th> <td>   -0.4381</td> <td>    0.297</td> <td>   -1.476</td> <td> 0.143</td> <td>   -1.027</td> <td>    0.150</td>\n",
       "</tr>\n",
       "<tr>\n",
       "  <th>Malnourished5_9</th>    <td>    0.2444</td> <td>    0.278</td> <td>    0.878</td> <td> 0.382</td> <td>   -0.308</td> <td>    0.796</td>\n",
       "</tr>\n",
       "<tr>\n",
       "  <th>Income_Index</th>       <td>   23.4857</td> <td>    4.273</td> <td>    5.496</td> <td> 0.000</td> <td>   15.016</td> <td>   31.956</td>\n",
       "</tr>\n",
       "<tr>\n",
       "  <th>Status_Developing</th>  <td>   -2.3978</td> <td>    1.116</td> <td>   -2.149</td> <td> 0.034</td> <td>   -4.609</td> <td>   -0.187</td>\n",
       "</tr>\n",
       "</table>\n",
       "<table class=\"simpletable\">\n",
       "<tr>\n",
       "  <th>Omnibus:</th>       <td> 7.747</td> <th>  Durbin-Watson:     </th> <td>   1.757</td>\n",
       "</tr>\n",
       "<tr>\n",
       "  <th>Prob(Omnibus):</th> <td> 0.021</td> <th>  Jarque-Bera (JB):  </th> <td>  13.151</td>\n",
       "</tr>\n",
       "<tr>\n",
       "  <th>Skew:</th>          <td> 0.191</td> <th>  Prob(JB):          </th> <td> 0.00139</td>\n",
       "</tr>\n",
       "<tr>\n",
       "  <th>Kurtosis:</th>      <td> 4.549</td> <th>  Cond. No.          </th> <td>7.47e+08</td>\n",
       "</tr>\n",
       "</table><br/><br/>Notes:<br/>[1] Standard Errors assume that the covariance matrix of the errors is correctly specified.<br/>[2] The condition number is large, 7.47e+08. This might indicate that there are<br/>strong multicollinearity or other numerical problems."
      ],
      "text/plain": [
       "<class 'statsmodels.iolib.summary.Summary'>\n",
       "\"\"\"\n",
       "                            OLS Regression Results                            \n",
       "==============================================================================\n",
       "Dep. Variable:               Expected   R-squared:                       0.847\n",
       "Model:                            OLS   Adj. R-squared:                  0.826\n",
       "Method:                 Least Squares   F-statistic:                     39.82\n",
       "Date:                Sun, 28 Mar 2021   Prob (F-statistic):           5.10e-37\n",
       "Time:                        10:56:27   Log-Likelihood:                -324.00\n",
       "No. Observations:                 124   AIC:                             680.0\n",
       "Df Residuals:                     108   BIC:                             725.1\n",
       "Df Model:                          15                                         \n",
       "Covariance Type:            nonrobust                                         \n",
       "======================================================================================\n",
       "                         coef    std err          t      P>|t|      [0.025      0.975]\n",
       "--------------------------------------------------------------------------------------\n",
       "const                 61.3372      3.544     17.306      0.000      54.312      68.363\n",
       "Adult_Mortality       -0.0230      0.004     -5.670      0.000      -0.031      -0.015\n",
       "Infant_Deaths          0.0571      0.037      1.550      0.124      -0.016       0.130\n",
       "Hepatitis              0.0691      0.032      2.179      0.031       0.006       0.132\n",
       "Measles            -5.634e-05   6.09e-05     -0.926      0.357      -0.000    6.43e-05\n",
       " BMI                  -0.0241      0.022     -1.073      0.286      -0.069       0.020\n",
       "Underfive_Deaths      -0.0404      0.027     -1.494      0.138      -0.094       0.013\n",
       "Polio                 -0.0101      0.022     -0.459      0.647      -0.053       0.033\n",
       "Diphtheria            -0.0331      0.040     -0.833      0.407      -0.112       0.046\n",
       " HIV                  -1.0481      0.268     -3.917      0.000      -1.578      -0.518\n",
       "GDP                 5.253e-05   3.47e-05      1.514      0.133   -1.62e-05       0.000\n",
       "Population         -1.931e-08   8.56e-09     -2.256      0.026   -3.63e-08   -2.34e-09\n",
       "Malnourished10_19     -0.4381      0.297     -1.476      0.143      -1.027       0.150\n",
       "Malnourished5_9        0.2444      0.278      0.878      0.382      -0.308       0.796\n",
       "Income_Index          23.4857      4.273      5.496      0.000      15.016      31.956\n",
       "Status_Developing     -2.3978      1.116     -2.149      0.034      -4.609      -0.187\n",
       "==============================================================================\n",
       "Omnibus:                        7.747   Durbin-Watson:                   1.757\n",
       "Prob(Omnibus):                  0.021   Jarque-Bera (JB):               13.151\n",
       "Skew:                           0.191   Prob(JB):                      0.00139\n",
       "Kurtosis:                       4.549   Cond. No.                     7.47e+08\n",
       "==============================================================================\n",
       "\n",
       "Notes:\n",
       "[1] Standard Errors assume that the covariance matrix of the errors is correctly specified.\n",
       "[2] The condition number is large, 7.47e+08. This might indicate that there are\n",
       "strong multicollinearity or other numerical problems.\n",
       "\"\"\""
      ]
     },
     "execution_count": 26,
     "metadata": {},
     "output_type": "execute_result"
    }
   ],
   "source": [
    "MLR_model.summary()"
   ]
  },
  {
   "cell_type": "markdown",
   "metadata": {
    "collapsed": true
   },
   "source": [
    "<table align=\"left\">\n",
    "    <tr>\n",
    "        <td width=\"6%\">\n",
    "            <img src=\"question_icon.png\">\n",
    "        </td>\n",
    "        <td>\n",
    "            <div align=\"left\", style=\"font-size:120%\">\n",
    "                <font color=\"#21618C\">\n",
    "                    <b>6. If economic indices are used to predict the life expectancy, calculate the total variation for the observed values of life expectancy.</b>\n",
    "                </font>\n",
    "            </div>\n",
    "        </td>\n",
    "    </tr>\n",
    "</table>"
   ]
  },
  {
   "cell_type": "code",
   "execution_count": 28,
   "metadata": {},
   "outputs": [
    {
     "name": "stdout",
     "output_type": "stream",
     "text": [
      "SSR: 6292.571603999805\n",
      "SSE: 2527.2338798711353\n",
      "SST: 8819.80548387094\n"
     ]
    }
   ],
   "source": [
    "# type your code here\n",
    "# selecting independent variables that represent the economic indices of GDP and HDI(Income)\n",
    "X = df_lifeExp.iloc[:,[11,15]]\n",
    "\n",
    "# 'sm.add_constant' adds the intercept to the model\n",
    "X = sm.add_constant(X)\n",
    "\n",
    "# set the dependent variable\n",
    "y = df_lifeExp['Expected']\n",
    " \n",
    "# building a model with an intercept\n",
    "# fit() is used to fit the OLS model\n",
    "MLR_model = sm.OLS(y,X).fit()\n",
    "\n",
    "# capture predicted values\n",
    "predicted = MLR_model.predict(X)\n",
    "\n",
    "# calculate the SSR on train dataset\n",
    "ssr = np.sum((predicted - y.mean())**2)\n",
    "\n",
    "# print the SSR value\n",
    "print(\"SSR:\",ssr)\n",
    "\n",
    "# calculate the SSE on train dataset\n",
    "sse = np.sum((y - predicted)**2)\n",
    "\n",
    "# print the SSE value\n",
    "print(\"SSE:\",sse)\n",
    "\n",
    "# calculate the SST on train dataset\n",
    "# print the SST value\n",
    "print(\"SST:\",(sse+ssr))"
   ]
  },
  {
   "cell_type": "markdown",
   "metadata": {
    "collapsed": true
   },
   "source": [
    "<table align=\"left\">\n",
    "    <tr>\n",
    "        <td width=\"6%\">\n",
    "            <img src=\"question_icon.png\">\n",
    "        </td>\n",
    "        <td>\n",
    "            <div align=\"left\", style=\"font-size:120%\">\n",
    "                <font color=\"#21618C\">\n",
    "                    <b>7. Determine the lower bound and upper bound for estimated value of life expectancy per unit change in HDI (for income)</b>\n",
    "                </font>\n",
    "            </div>\n",
    "        </td>\n",
    "    </tr>\n",
    "</table>"
   ]
  },
  {
   "cell_type": "code",
   "execution_count": 30,
   "metadata": {},
   "outputs": [
    {
     "name": "stdout",
     "output_type": "stream",
     "text": [
      "                     0          1\n",
      "Income_Index 97.009477 102.472029\n"
     ]
    }
   ],
   "source": [
    "# type your code here\n",
    "# selecting independent variables that describes HDI\n",
    "X = df_lifeExp.iloc[:,[15]]\n",
    "\n",
    "# set the dependent variable\n",
    "y = df_lifeExp['Expected']\n",
    "\n",
    "# building a model with an intercept\n",
    "# fit() is used to fit the OLS model\n",
    "SLR_model = sm.OLS(y,X).fit()\n",
    "\n",
    "# CI for β coefficient\n",
    "print(SLR_model.conf_int())"
   ]
  },
  {
   "cell_type": "markdown",
   "metadata": {},
   "source": [
    "<a id=\"ML_eval\"> </a>\n",
    "## 4. Model Evaluation"
   ]
  },
  {
   "cell_type": "markdown",
   "metadata": {
    "collapsed": true
   },
   "source": [
    "<table align=\"left\">\n",
    "    <tr>\n",
    "        <td width=\"6%\">\n",
    "            <img src=\"question_icon.png\">\n",
    "        </td>\n",
    "        <td>\n",
    "            <div align=\"left\", style=\"font-size:120%\">\n",
    "                <font color=\"#21618C\">\n",
    "                    <b>8. A model is built to analyze the impact of mortality on Life expectancy. Would the addition of information about population of the country lead to a better prediction?</b>\n",
    "                </font>\n",
    "            </div>\n",
    "        </td>\n",
    "    </tr>\n",
    "</table>"
   ]
  },
  {
   "cell_type": "code",
   "execution_count": 10,
   "metadata": {},
   "outputs": [],
   "source": [
    "# type your code here\n",
    "#Adult_mortality,underfive_death,Infant_death\n",
    "#Life expectancy\n",
    "#population"
   ]
  },
  {
   "cell_type": "markdown",
   "metadata": {
    "collapsed": true
   },
   "source": [
    "<table align=\"left\">\n",
    "    <tr>\n",
    "        <td width=\"6%\">\n",
    "            <img src=\"question_icon.png\">\n",
    "        </td>\n",
    "        <td>\n",
    "            <div align=\"left\", style=\"font-size:120%\">\n",
    "                <font color=\"#21618C\">\n",
    "                    <b>9. Fit a full model and test the significance of the overall model. <br></b>\n",
    "                </font>\n",
    "            </div>\n",
    "        </td>\n",
    "    </tr>\n",
    "</table>"
   ]
  },
  {
   "cell_type": "code",
   "execution_count": 11,
   "metadata": {
    "scrolled": true
   },
   "outputs": [],
   "source": [
    "# type your code here"
   ]
  },
  {
   "cell_type": "markdown",
   "metadata": {},
   "source": [
    "<a id=\"assum\"> </a>\n",
    "## 5. Assumptions of Linear Regression"
   ]
  },
  {
   "cell_type": "markdown",
   "metadata": {
    "collapsed": true
   },
   "source": [
    "<table align=\"left\">\n",
    "    <tr>\n",
    "        <td width=\"6%\">\n",
    "            <img src=\"question_icon.png\">\n",
    "        </td>\n",
    "        <td>\n",
    "            <div align=\"left\", style=\"font-size:120%\">\n",
    "                <font color=\"#21618C\">\n",
    "                    <b>10. A model is built using all the features (full model) to predict the life expectancy. Check whether the residuals obtained form the model follow a normal distribution.</b>\n",
    "                </font>\n",
    "            </div>\n",
    "        </td>\n",
    "    </tr>\n",
    "</table>"
   ]
  },
  {
   "cell_type": "code",
   "execution_count": 36,
   "metadata": {},
   "outputs": [
    {
     "data": {
      "text/html": [
       "<table class=\"simpletable\">\n",
       "<caption>OLS Regression Results</caption>\n",
       "<tr>\n",
       "  <th>Dep. Variable:</th>        <td>Expected</td>     <th>  R-squared:         </th> <td>   0.847</td>\n",
       "</tr>\n",
       "<tr>\n",
       "  <th>Model:</th>                   <td>OLS</td>       <th>  Adj. R-squared:    </th> <td>   0.826</td>\n",
       "</tr>\n",
       "<tr>\n",
       "  <th>Method:</th>             <td>Least Squares</td>  <th>  F-statistic:       </th> <td>   39.82</td>\n",
       "</tr>\n",
       "<tr>\n",
       "  <th>Date:</th>             <td>Sun, 28 Mar 2021</td> <th>  Prob (F-statistic):</th> <td>5.10e-37</td>\n",
       "</tr>\n",
       "<tr>\n",
       "  <th>Time:</th>                 <td>11:20:33</td>     <th>  Log-Likelihood:    </th> <td> -324.00</td>\n",
       "</tr>\n",
       "<tr>\n",
       "  <th>No. Observations:</th>      <td>   124</td>      <th>  AIC:               </th> <td>   680.0</td>\n",
       "</tr>\n",
       "<tr>\n",
       "  <th>Df Residuals:</th>          <td>   108</td>      <th>  BIC:               </th> <td>   725.1</td>\n",
       "</tr>\n",
       "<tr>\n",
       "  <th>Df Model:</th>              <td>    15</td>      <th>                     </th>     <td> </td>   \n",
       "</tr>\n",
       "<tr>\n",
       "  <th>Covariance Type:</th>      <td>nonrobust</td>    <th>                     </th>     <td> </td>   \n",
       "</tr>\n",
       "</table>\n",
       "<table class=\"simpletable\">\n",
       "<tr>\n",
       "           <td></td>             <th>coef</th>     <th>std err</th>      <th>t</th>      <th>P>|t|</th>  <th>[0.025</th>    <th>0.975]</th>  \n",
       "</tr>\n",
       "<tr>\n",
       "  <th>const</th>              <td>   61.3372</td> <td>    3.544</td> <td>   17.306</td> <td> 0.000</td> <td>   54.312</td> <td>   68.363</td>\n",
       "</tr>\n",
       "<tr>\n",
       "  <th>Adult_Mortality</th>    <td>   -0.0230</td> <td>    0.004</td> <td>   -5.670</td> <td> 0.000</td> <td>   -0.031</td> <td>   -0.015</td>\n",
       "</tr>\n",
       "<tr>\n",
       "  <th>Infant_Deaths</th>      <td>    0.0571</td> <td>    0.037</td> <td>    1.550</td> <td> 0.124</td> <td>   -0.016</td> <td>    0.130</td>\n",
       "</tr>\n",
       "<tr>\n",
       "  <th>Hepatitis </th>         <td>    0.0691</td> <td>    0.032</td> <td>    2.179</td> <td> 0.031</td> <td>    0.006</td> <td>    0.132</td>\n",
       "</tr>\n",
       "<tr>\n",
       "  <th>Measles </th>           <td>-5.634e-05</td> <td> 6.09e-05</td> <td>   -0.926</td> <td> 0.357</td> <td>   -0.000</td> <td> 6.43e-05</td>\n",
       "</tr>\n",
       "<tr>\n",
       "  <th> BMI </th>              <td>   -0.0241</td> <td>    0.022</td> <td>   -1.073</td> <td> 0.286</td> <td>   -0.069</td> <td>    0.020</td>\n",
       "</tr>\n",
       "<tr>\n",
       "  <th>Underfive_Deaths </th>  <td>   -0.0404</td> <td>    0.027</td> <td>   -1.494</td> <td> 0.138</td> <td>   -0.094</td> <td>    0.013</td>\n",
       "</tr>\n",
       "<tr>\n",
       "  <th>Polio</th>              <td>   -0.0101</td> <td>    0.022</td> <td>   -0.459</td> <td> 0.647</td> <td>   -0.053</td> <td>    0.033</td>\n",
       "</tr>\n",
       "<tr>\n",
       "  <th>Diphtheria </th>        <td>   -0.0331</td> <td>    0.040</td> <td>   -0.833</td> <td> 0.407</td> <td>   -0.112</td> <td>    0.046</td>\n",
       "</tr>\n",
       "<tr>\n",
       "  <th> HIV</th>               <td>   -1.0481</td> <td>    0.268</td> <td>   -3.917</td> <td> 0.000</td> <td>   -1.578</td> <td>   -0.518</td>\n",
       "</tr>\n",
       "<tr>\n",
       "  <th>GDP</th>                <td> 5.253e-05</td> <td> 3.47e-05</td> <td>    1.514</td> <td> 0.133</td> <td>-1.62e-05</td> <td>    0.000</td>\n",
       "</tr>\n",
       "<tr>\n",
       "  <th>Population</th>         <td>-1.931e-08</td> <td> 8.56e-09</td> <td>   -2.256</td> <td> 0.026</td> <td>-3.63e-08</td> <td>-2.34e-09</td>\n",
       "</tr>\n",
       "<tr>\n",
       "  <th>Malnourished10_19 </th> <td>   -0.4381</td> <td>    0.297</td> <td>   -1.476</td> <td> 0.143</td> <td>   -1.027</td> <td>    0.150</td>\n",
       "</tr>\n",
       "<tr>\n",
       "  <th>Malnourished5_9</th>    <td>    0.2444</td> <td>    0.278</td> <td>    0.878</td> <td> 0.382</td> <td>   -0.308</td> <td>    0.796</td>\n",
       "</tr>\n",
       "<tr>\n",
       "  <th>Income_Index</th>       <td>   23.4857</td> <td>    4.273</td> <td>    5.496</td> <td> 0.000</td> <td>   15.016</td> <td>   31.956</td>\n",
       "</tr>\n",
       "<tr>\n",
       "  <th>Status_Developing</th>  <td>   -2.3978</td> <td>    1.116</td> <td>   -2.149</td> <td> 0.034</td> <td>   -4.609</td> <td>   -0.187</td>\n",
       "</tr>\n",
       "</table>\n",
       "<table class=\"simpletable\">\n",
       "<tr>\n",
       "  <th>Omnibus:</th>       <td> 7.747</td> <th>  Durbin-Watson:     </th> <td>   1.757</td>\n",
       "</tr>\n",
       "<tr>\n",
       "  <th>Prob(Omnibus):</th> <td> 0.021</td> <th>  Jarque-Bera (JB):  </th> <td>  13.151</td>\n",
       "</tr>\n",
       "<tr>\n",
       "  <th>Skew:</th>          <td> 0.191</td> <th>  Prob(JB):          </th> <td> 0.00139</td>\n",
       "</tr>\n",
       "<tr>\n",
       "  <th>Kurtosis:</th>      <td> 4.549</td> <th>  Cond. No.          </th> <td>7.47e+08</td>\n",
       "</tr>\n",
       "</table><br/><br/>Notes:<br/>[1] Standard Errors assume that the covariance matrix of the errors is correctly specified.<br/>[2] The condition number is large, 7.47e+08. This might indicate that there are<br/>strong multicollinearity or other numerical problems."
      ],
      "text/plain": [
       "<class 'statsmodels.iolib.summary.Summary'>\n",
       "\"\"\"\n",
       "                            OLS Regression Results                            \n",
       "==============================================================================\n",
       "Dep. Variable:               Expected   R-squared:                       0.847\n",
       "Model:                            OLS   Adj. R-squared:                  0.826\n",
       "Method:                 Least Squares   F-statistic:                     39.82\n",
       "Date:                Sun, 28 Mar 2021   Prob (F-statistic):           5.10e-37\n",
       "Time:                        11:20:33   Log-Likelihood:                -324.00\n",
       "No. Observations:                 124   AIC:                             680.0\n",
       "Df Residuals:                     108   BIC:                             725.1\n",
       "Df Model:                          15                                         \n",
       "Covariance Type:            nonrobust                                         \n",
       "======================================================================================\n",
       "                         coef    std err          t      P>|t|      [0.025      0.975]\n",
       "--------------------------------------------------------------------------------------\n",
       "const                 61.3372      3.544     17.306      0.000      54.312      68.363\n",
       "Adult_Mortality       -0.0230      0.004     -5.670      0.000      -0.031      -0.015\n",
       "Infant_Deaths          0.0571      0.037      1.550      0.124      -0.016       0.130\n",
       "Hepatitis              0.0691      0.032      2.179      0.031       0.006       0.132\n",
       "Measles            -5.634e-05   6.09e-05     -0.926      0.357      -0.000    6.43e-05\n",
       " BMI                  -0.0241      0.022     -1.073      0.286      -0.069       0.020\n",
       "Underfive_Deaths      -0.0404      0.027     -1.494      0.138      -0.094       0.013\n",
       "Polio                 -0.0101      0.022     -0.459      0.647      -0.053       0.033\n",
       "Diphtheria            -0.0331      0.040     -0.833      0.407      -0.112       0.046\n",
       " HIV                  -1.0481      0.268     -3.917      0.000      -1.578      -0.518\n",
       "GDP                 5.253e-05   3.47e-05      1.514      0.133   -1.62e-05       0.000\n",
       "Population         -1.931e-08   8.56e-09     -2.256      0.026   -3.63e-08   -2.34e-09\n",
       "Malnourished10_19     -0.4381      0.297     -1.476      0.143      -1.027       0.150\n",
       "Malnourished5_9        0.2444      0.278      0.878      0.382      -0.308       0.796\n",
       "Income_Index          23.4857      4.273      5.496      0.000      15.016      31.956\n",
       "Status_Developing     -2.3978      1.116     -2.149      0.034      -4.609      -0.187\n",
       "==============================================================================\n",
       "Omnibus:                        7.747   Durbin-Watson:                   1.757\n",
       "Prob(Omnibus):                  0.021   Jarque-Bera (JB):               13.151\n",
       "Skew:                           0.191   Prob(JB):                      0.00139\n",
       "Kurtosis:                       4.549   Cond. No.                     7.47e+08\n",
       "==============================================================================\n",
       "\n",
       "Notes:\n",
       "[1] Standard Errors assume that the covariance matrix of the errors is correctly specified.\n",
       "[2] The condition number is large, 7.47e+08. This might indicate that there are\n",
       "strong multicollinearity or other numerical problems.\n",
       "\"\"\""
      ]
     },
     "execution_count": 36,
     "metadata": {},
     "output_type": "execute_result"
    }
   ],
   "source": [
    "# type your code here\n",
    "#H0=Data follows Normal distribution\n",
    "#H1=Data follows not Nosrmal distribution\n",
    "# we include all the numeric predictors\n",
    "X = df_lifeExp.iloc[:,2:16]\n",
    "\n",
    "# use 'drop_first' to create (n-1) dummy variables using get_dummies()\n",
    "# use 'prefix' to add prefix to category of dummy variable\n",
    "encoded_status = pd.get_dummies(data = df_lifeExp['Status'], drop_first=True, prefix = 'Status')\n",
    "\n",
    "# concat the dummy variable with features describing immunization \n",
    "# create a dataframe of all relevant independent variables\n",
    "# 'axis=1' concates the dataframes along columns \n",
    "X = pd.concat([pd.DataFrame(X), encoded_status], axis=1)\n",
    "\n",
    "# 'sm.add_constant' adds the intercept to the model\n",
    "X =  sm.add_constant(X)\n",
    "\n",
    "# set the dependent variable\n",
    "y = df_lifeExp['Expected']\n",
    "\n",
    "# building a model with an intercept\n",
    "# fit() is used to fit the OLS model\n",
    "MLR_model_full = sm.OLS(y,X).fit()\n",
    "MLR_model_full.summary()"
   ]
  },
  {
   "cell_type": "code",
   "execution_count": 37,
   "metadata": {},
   "outputs": [
    {
     "name": "stdout",
     "output_type": "stream",
     "text": [
      "Test statistic: 0.9734908938407898\n",
      "P-Value: 0.015233161859214306\n"
     ]
    }
   ],
   "source": [
    "# shapiro() returns a tuple having the values of test statistics and the corresponding p-value\n",
    "stat, p_value = shapiro(MLR_model_full.resid)\n",
    "\n",
    "#If data is normal distribution then residual should not be normal distribution\n",
    "\n",
    "# print the test statistic and corresponding p-value \n",
    "print('Test statistic:', stat)\n",
    "print('P-Value:', p_value)\n",
    "#P-val should less than 0.05 then residual is Normal Distribution"
   ]
  },
  {
   "cell_type": "code",
   "execution_count": 35,
   "metadata": {},
   "outputs": [
    {
     "data": {
      "image/png": "[encoded data removed]",
      "text/plain": [
       "<Figure size 360x360 with 1 Axes>"
      ]
     },
     "metadata": {
      "needs_background": "light"
     },
     "output_type": "display_data"
    }
   ],
   "source": [
    "sns.displot(MLR_model_full.resid)\n",
    "plt.show()"
   ]
  },
  {
   "cell_type": "markdown",
   "metadata": {
    "collapsed": true
   },
   "source": [
    "<table align=\"left\">\n",
    "    <tr>\n",
    "        <td width=\"6%\">\n",
    "            <img src=\"question_icon.png\">\n",
    "        </td>\n",
    "        <td>\n",
    "            <div align=\"left\", style=\"font-size:120%\">\n",
    "                <font color=\"#21618C\">\n",
    "                        <b>11. Does the interaction of status of the country and its GDP have significant effect on life expectancy? (consider the full model)</b>\n",
    "                </font>\n",
    "            </div>\n",
    "        </td>\n",
    "    </tr>\n",
    "</table>"
   ]
  },
  {
   "cell_type": "code",
   "execution_count": 13,
   "metadata": {},
   "outputs": [],
   "source": [
    "# type your code here"
   ]
  },
  {
   "cell_type": "markdown",
   "metadata": {
    "collapsed": true
   },
   "source": [
    "<table align=\"left\">\n",
    "    <tr>\n",
    "        <td width=\"6%\">\n",
    "            <img src=\"question_icon.png\">\n",
    "        </td>\n",
    "        <td>\n",
    "            <div align=\"left\", style=\"font-size:120%\">\n",
    "                <font color=\"#21618C\">\n",
    "                    <b>12. Construct a full no-intecept model. What would you conclude when all the variables take value 0? </b>\n",
    "                </font>\n",
    "            </div>\n",
    "        </td>\n",
    "    </tr>\n",
    "</table>"
   ]
  },
  {
   "cell_type": "code",
   "execution_count": 38,
   "metadata": {},
   "outputs": [
    {
     "name": "stdout",
     "output_type": "stream",
     "text": [
      "                                 OLS Regression Results                                \n",
      "=======================================================================================\n",
      "Dep. Variable:               Expected   R-squared (uncentered):                   0.993\n",
      "Model:                            OLS   Adj. R-squared (uncentered):              0.992\n",
      "Method:                 Least Squares   F-statistic:                              940.0\n",
      "Date:                Sun, 28 Mar 2021   Prob (F-statistic):                   4.84e-108\n",
      "Time:                        11:24:31   Log-Likelihood:                         -399.28\n",
      "No. Observations:                 124   AIC:                                      830.6\n",
      "Df Residuals:                     108   BIC:                                      875.7\n",
      "Df Model:                          16                                                  \n",
      "Covariance Type:            nonrobust                                                  \n",
      "======================================================================================\n",
      "                         coef    std err          t      P>|t|      [0.025      0.975]\n",
      "--------------------------------------------------------------------------------------\n",
      "Adult_Mortality       -0.0069      0.007     -0.960      0.339      -0.021       0.007\n",
      "Infant_Deaths         -0.0807      0.066     -1.224      0.223      -0.211       0.050\n",
      "Hepatitis              0.0305      0.058      0.523      0.602      -0.085       0.146\n",
      "Measles               -0.0002      0.000     -1.516      0.133      -0.000    5.18e-05\n",
      " BMI                  -0.0697      0.041     -1.696      0.093      -0.151       0.012\n",
      "Underfive_Deaths       0.0712      0.048      1.482      0.141      -0.024       0.166\n",
      "Polio                  0.0180      0.040      0.449      0.654      -0.061       0.097\n",
      "Diphtheria             0.0388      0.073      0.535      0.593      -0.105       0.183\n",
      " HIV                   0.5728      0.455      1.258      0.211      -0.330       1.475\n",
      "GDP                -3.684e-05    6.3e-05     -0.585      0.560      -0.000    8.81e-05\n",
      "Population         -1.747e-08   1.58e-08     -1.107      0.271   -4.87e-08    1.38e-08\n",
      "Malnourished10_19     -1.1120      0.546     -2.035      0.044      -2.195      -0.029\n",
      "Malnourished5_9        1.6540      0.496      3.334      0.001       0.671       2.637\n",
      "Income_Index          43.2384     11.241      3.846      0.000      20.956      65.520\n",
      "Schooling              2.1667      0.601      3.608      0.000       0.976       3.357\n",
      "Status_Developing      7.8535      1.821      4.313      0.000       4.244      11.463\n",
      "==============================================================================\n",
      "Omnibus:                        7.813   Durbin-Watson:                   1.591\n",
      "Prob(Omnibus):                  0.020   Jarque-Bera (JB):                7.565\n",
      "Skew:                           0.588   Prob(JB):                       0.0228\n",
      "Kurtosis:                       3.282   Cond. No.                     8.75e+08\n",
      "==============================================================================\n",
      "\n",
      "Notes:\n",
      "[1] R² is computed without centering (uncentered) since the model does not contain a constant.\n",
      "[2] Standard Errors assume that the covariance matrix of the errors is correctly specified.\n",
      "[3] The condition number is large, 8.75e+08. This might indicate that there are\n",
      "strong multicollinearity or other numerical problems.\n"
     ]
    }
   ],
   "source": [
    "#Here we were not adding constant to x variable\n",
    "# type your code here\n",
    "# we include all the numeric predictors\n",
    "X = df_lifeExp.iloc[:,2:17]\n",
    "\n",
    "# use 'drop_first' to create (n-1) dummy variables using get_dummies()\n",
    "# use 'prefix' to add prefix to category of dummy variable\n",
    "encoded_status = pd.get_dummies(data = df_lifeExp['Status'], drop_first=True, prefix = 'Status')\n",
    "\n",
    "# concat the dummy variable with features describing immunization \n",
    "# create a dataframe of all relevant independent variables\n",
    "# 'axis=1' concates the dataframes along columns \n",
    "X = pd.concat([pd.DataFrame(X), encoded_status], axis=1)\n",
    "\n",
    "# set the dependent variable\n",
    "y = df_lifeExp['Expected']\n",
    "\n",
    "# building a model with an intercept\n",
    "# fit() is used to fit the OLS model\n",
    "MLR_model_full_no_intercept = sm.OLS(y,X).fit()\n",
    "\n",
    "# print the model sumary\n",
    "print(MLR_model_full_no_intercept.summary())"
   ]
  },
  {
   "cell_type": "markdown",
   "metadata": {},
   "source": [
    "### Now we shall consider the FEV dataset."
   ]
  },
  {
   "cell_type": "markdown",
   "metadata": {},
   "source": [
    "### About the data set (Respiratory function data)\n",
    "\n",
    "Dataset consists of information about respiratory function in youths and factors that might impact the respiratory function. <br> Attribute information: \n",
    "\n",
    "**Age:** Age in years\n",
    "\n",
    "**Height (cm):** Height (cm) in cm \n",
    "\n",
    "**Sex:** Gender of a person\n",
    "\n",
    "**Smoke_habits** Whether the person is a smoker or non- smoker\n",
    "\n",
    "**FEV:**  Forced Exhalation Volume (FEV), a measure of how much air somebody can forcibly exhale from their lung (Percentage)"
   ]
  },
  {
   "cell_type": "markdown",
   "metadata": {},
   "source": [
    "#### Load the dataset and check the first five observations"
   ]
  },
  {
   "cell_type": "code",
   "execution_count": 41,
   "metadata": {},
   "outputs": [
    {
     "data": {
      "text/html": [
       "<div>\n",
       "<style scoped>\n",
       "    .dataframe tbody tr th:only-of-type {\n",
       "        vertical-align: middle;\n",
       "    }\n",
       "\n",
       "    .dataframe tbody tr th {\n",
       "        vertical-align: top;\n",
       "    }\n",
       "\n",
       "    .dataframe thead th {\n",
       "        text-align: right;\n",
       "    }\n",
       "</style>\n",
       "<table border=\"1\" class=\"dataframe\">\n",
       "  <thead>\n",
       "    <tr style=\"text-align: right;\">\n",
       "      <th></th>\n",
       "      <th>Age</th>\n",
       "      <th>Height (cm)</th>\n",
       "      <th>Sex</th>\n",
       "      <th>Smoke_habit</th>\n",
       "      <th>FEV</th>\n",
       "    </tr>\n",
       "  </thead>\n",
       "  <tbody>\n",
       "    <tr>\n",
       "      <th>0</th>\n",
       "      <td>16</td>\n",
       "      <td>157.000000</td>\n",
       "      <td>F</td>\n",
       "      <td>smoker</td>\n",
       "      <td>1.708000</td>\n",
       "    </tr>\n",
       "    <tr>\n",
       "      <th>1</th>\n",
       "      <td>17</td>\n",
       "      <td>167.500000</td>\n",
       "      <td>F</td>\n",
       "      <td>smoker</td>\n",
       "      <td>1.724000</td>\n",
       "    </tr>\n",
       "    <tr>\n",
       "      <th>2</th>\n",
       "      <td>19</td>\n",
       "      <td>154.500000</td>\n",
       "      <td>F</td>\n",
       "      <td>smoker</td>\n",
       "      <td>1.720000</td>\n",
       "    </tr>\n",
       "    <tr>\n",
       "      <th>3</th>\n",
       "      <td>16</td>\n",
       "      <td>163.000000</td>\n",
       "      <td>M</td>\n",
       "      <td>smoker</td>\n",
       "      <td>1.558000</td>\n",
       "    </tr>\n",
       "    <tr>\n",
       "      <th>4</th>\n",
       "      <td>16</td>\n",
       "      <td>157.000000</td>\n",
       "      <td>M</td>\n",
       "      <td>smoker</td>\n",
       "      <td>1.895000</td>\n",
       "    </tr>\n",
       "  </tbody>\n",
       "</table>\n",
       "</div>"
      ],
      "text/plain": [
       "   Age  Height (cm) Sex Smoke_habit      FEV\n",
       "0   16   157.000000   F      smoker 1.708000\n",
       "1   17   167.500000   F      smoker 1.724000\n",
       "2   19   154.500000   F      smoker 1.720000\n",
       "3   16   163.000000   M      smoker 1.558000\n",
       "4   16   157.000000   M      smoker 1.895000"
      ]
     },
     "execution_count": 41,
     "metadata": {},
     "output_type": "execute_result"
    }
   ],
   "source": [
    "# load the csv file\n",
    "df_FEV=pd.read_csv('FEV_data.csv')\n",
    "df_FEV.head()\n",
    "# type your code here"
   ]
  },
  {
   "cell_type": "markdown",
   "metadata": {
    "collapsed": true
   },
   "source": [
    "<table align=\"left\">\n",
    "    <tr>\n",
    "        <td width=\"6%\">\n",
    "            <img src=\"question_icon.png\">\n",
    "        </td>\n",
    "        <td>\n",
    "            <div align=\"left\", style=\"font-size:120%\">\n",
    "                <font color=\"#21618C\">\n",
    "                    <b>13. Identify the numeric variable(s) that have highest impact on the FEV of a person</b>\n",
    "                </font>\n",
    "            </div>\n",
    "        </td>\n",
    "    </tr>\n",
    "</table>"
   ]
  },
  {
   "cell_type": "code",
   "execution_count": 42,
   "metadata": {},
   "outputs": [
    {
     "data": {
      "image/png": "[encoded data removed]",
      "text/plain": [
       "<Figure size 1080x576 with 2 Axes>"
      ]
     },
     "metadata": {
      "needs_background": "light"
     },
     "output_type": "display_data"
    }
   ],
   "source": [
    "# type your code here\n",
    "# set dimensions for the plot figure\n",
    "fig_dims = (15,8)\n",
    "fig, ax = plt.subplots(figsize=fig_dims)\n",
    "\n",
    "# create a copy of dataframe\n",
    "df_FEV_num = df_FEV[[\"Age\",\"Height (cm)\", \"FEV\"]]\n",
    "\n",
    "# plot the heat map\n",
    "# corr: give the correlation matrix\n",
    "# annot: prints the correlation values in the chart\n",
    "# annot_kws: sets the font size of the annotation\n",
    "sns.heatmap(df_FEV_num.corr(), annot = True, annot_kws = {\"size\": 20})\n",
    "\n",
    "# rotate the y-axis labels\n",
    "# set text size using 'fontsize'\n",
    "plt.yticks(rotation = 'horizontal', fontsize = 15)\n",
    "plt.xticks(fontsize = 15)\n",
    "\n",
    "# display the plot\n",
    "plt.show()\n",
    "\n",
    "#Height is strongly coefficient than age and FEV"
   ]
  },
  {
   "cell_type": "markdown",
   "metadata": {
    "collapsed": true
   },
   "source": [
    "<table align=\"left\">\n",
    "    <tr>\n",
    "        <td width=\"6%\">\n",
    "            <img src=\"question_icon.png\">\n",
    "        </td>\n",
    "        <td>\n",
    "            <div align=\"left\", style=\"font-size:120%\">\n",
    "                <font color=\"#21618C\">\n",
    "                    <b>14. What is the impact of smoking habit of a person on FEV?\n",
    "                    </b>\n",
    "                </font>\n",
    "            </div>\n",
    "        </td>\n",
    "    </tr>\n",
    "</table>"
   ]
  },
  {
   "cell_type": "code",
   "execution_count": 43,
   "metadata": {},
   "outputs": [
    {
     "name": "stdout",
     "output_type": "stream",
     "text": [
      "                            OLS Regression Results                            \n",
      "==============================================================================\n",
      "Dep. Variable:                    FEV   R-squared:                       0.098\n",
      "Model:                            OLS   Adj. R-squared:                  0.097\n",
      "Method:                 Least Squares   F-statistic:                     70.92\n",
      "Date:                Sun, 28 Mar 2021   Prob (F-statistic):           2.36e-16\n",
      "Time:                        12:03:35   Log-Likelihood:                -800.43\n",
      "No. Observations:                 654   AIC:                             1605.\n",
      "Df Residuals:                     652   BIC:                             1614.\n",
      "Df Model:                           1                                         \n",
      "Covariance Type:            nonrobust                                         \n",
      "==============================================================================\n",
      "                 coef    std err          t      P>|t|      [0.025      0.975]\n",
      "------------------------------------------------------------------------------\n",
      "const          3.4206      0.098     34.729      0.000       3.227       3.614\n",
      "smoker        -0.8778      0.104     -8.422      0.000      -1.082      -0.673\n",
      "==============================================================================\n",
      "Omnibus:                       37.782   Durbin-Watson:                   1.125\n",
      "Prob(Omnibus):                  0.000   Jarque-Bera (JB):               42.957\n",
      "Skew:                           0.622   Prob(JB):                     4.70e-10\n",
      "Kurtosis:                       3.167   Cond. No.                         5.96\n",
      "==============================================================================\n",
      "\n",
      "Notes:\n",
      "[1] Standard Errors assume that the covariance matrix of the errors is correctly specified.\n"
     ]
    }
   ],
   "source": [
    "# type your code here\n",
    "# consider the independent variables\n",
    "X = df_FEV[\"Smoke_habit\"]\n",
    "\n",
    "# convert the categorical variable to dummy variable\n",
    "# get_dummies(): converts the variable to categorical variable\n",
    "# drop_first=True: indicates n-1 dummy enoding; if set to false indicated one-hot encoding\n",
    "X = pd.get_dummies(X, drop_first=True)\n",
    "\n",
    "# consider the dependent variable\n",
    "y = df_FEV[\"FEV\"]\n",
    "\n",
    "# fit a model with an intercept using fit()\n",
    "# add_constant(): adds the intercept term to the model\n",
    "LM_model = sm.OLS(y, sm.add_constant(X)).fit()\n",
    "\n",
    "# print the summary output\n",
    "print(LM_model.summary())\n"
   ]
  },
  {
   "cell_type": "markdown",
   "metadata": {
    "collapsed": true
   },
   "source": [
    "<table align=\"left\">\n",
    "    <tr>\n",
    "        <td width=\"6%\">\n",
    "            <img src=\"question_icon.png\">\n",
    "        </td>\n",
    "        <td>\n",
    "            <div align=\"left\", style=\"font-size:120%\">\n",
    "                <font color=\"#21618C\">\n",
    "                    <b>15. A Linear regression model is used to analyze the impact of all possible features on respiratory function (FEV). How do we check whether there is multicollinearity present or not?</b>\n",
    "                </font>\n",
    "            </div>\n",
    "        </td>\n",
    "    </tr>\n",
    "</table>"
   ]
  },
  {
   "cell_type": "code",
   "execution_count": 45,
   "metadata": {
    "scrolled": false
   },
   "outputs": [
    {
     "name": "stdout",
     "output_type": "stream",
     "text": [
      "                            OLS Regression Results                            \n",
      "==============================================================================\n",
      "Dep. Variable:                    FEV   R-squared:                       0.701\n",
      "Model:                            OLS   Adj. R-squared:                  0.699\n",
      "Method:                 Least Squares   F-statistic:                     379.5\n",
      "Date:                Sun, 28 Mar 2021   Prob (F-statistic):          2.78e-168\n",
      "Time:                        12:14:04   Log-Likelihood:                -439.94\n",
      "No. Observations:                 654   AIC:                             889.9\n",
      "Df Residuals:                     649   BIC:                             912.3\n",
      "Df Model:                           4                                         \n",
      "Covariance Type:            nonrobust                                         \n",
      "======================================================================================\n",
      "                         coef    std err          t      P>|t|      [0.025      0.975]\n",
      "--------------------------------------------------------------------------------------\n",
      "const                -16.5268      0.575    -28.727      0.000     -17.656     -15.397\n",
      "Age                    0.0026      0.007      0.374      0.708      -0.011       0.016\n",
      "Height (cm)            0.1192      0.003     34.063      0.000       0.112       0.126\n",
      "Sex_M                  0.1801      0.038      4.769      0.000       0.106       0.254\n",
      "Smoke_habit_smoker    -0.2231      0.063     -3.515      0.000      -0.348      -0.098\n",
      "==============================================================================\n",
      "Omnibus:                      113.397   Durbin-Watson:                   1.647\n",
      "Prob(Omnibus):                  0.000   Jarque-Bera (JB):              652.393\n",
      "Skew:                          -0.625   Prob(JB):                    2.16e-142\n",
      "Kurtosis:                       7.730   Cond. No.                     5.03e+03\n",
      "==============================================================================\n",
      "\n",
      "Notes:\n",
      "[1] Standard Errors assume that the covariance matrix of the errors is correctly specified.\n",
      "[2] The condition number is large, 5.03e+03. This might indicate that there are\n",
      "strong multicollinearity or other numerical problems.\n"
     ]
    }
   ],
   "source": [
    "# type your code here\n",
    "# consider the independent variables\n",
    "# select_dtypes: selects the desired the variable having specified datatype\n",
    "# include: includes the variables with specified datatype\n",
    "# drop(): drops specified column(s)/row(s) from the dataframe\n",
    "# axis: specifies whether to drop labels from index or columns; use 1 for columns and 0 for index\n",
    "df_FEV_num = df_FEV.select_dtypes(include=np.number).drop([\"FEV\"],axis=1)\n",
    "\n",
    "# consider all the categorical variables in the data\n",
    "# select_dtypes: selects the desired the variable having specified datatype\n",
    "# include: includes the variables with specified datatype\n",
    "df_FEV_cat = df_FEV.select_dtypes(include=\"object\")\n",
    "\n",
    "# convert the categorical variable to dummy variable\n",
    "# get_dummies(): converts the variable to categorical variable\n",
    "# drop_first=True: indicates n-1 dummy enoding; if set to false indicated one-hot encoding\n",
    "dummy_variables = pd.get_dummies(df_FEV_cat, drop_first=True)\n",
    "\n",
    "# concatenate the numerical and dummy variables\n",
    "# axis: specifies whether to drop labels from index or colum\n",
    "X = pd.concat([df_FEV_num, dummy_variables],axis=1)\n",
    "\n",
    "# consider the dependent variable\n",
    "y = df_FEV[\"FEV\"]\n",
    "\n",
    "# fit a full model with an intercept using fit()\n",
    "# add_constant(): adds the intercept term to the model\n",
    "MLR_model = sm.OLS(y, sm.add_constant(X)).fit()\n",
    "\n",
    "# print the summary output\n",
    "print(MLR_model.summary())\n"
   ]
  },
  {
   "cell_type": "markdown",
   "metadata": {},
   "source": [
    "#Othere ways for finding multiple co relation\n",
    "1.Variation implement factor\n",
    "2.Corelation plot"
   ]
  },
  {
   "cell_type": "markdown",
   "metadata": {
    "collapsed": true
   },
   "source": [
    "<table align=\"left\">\n",
    "    <tr>\n",
    "        <td width=\"6%\">\n",
    "            <img src=\"question_icon.png\">\n",
    "        </td>\n",
    "        <td>\n",
    "            <div align=\"left\", style=\"font-size:120%\">\n",
    "                <font color=\"#21618C\">\n",
    "                    <b>16.  A Linear regression model is used to analyze the impact of all possible features on respiratory function (FEV). Check whether the error terms are serially independent?</b>\n",
    "                </font>\n",
    "            </div>\n",
    "        </td>\n",
    "    </tr>\n",
    "</table>"
   ]
  },
  {
   "cell_type": "markdown",
   "metadata": {},
   "source": [
    "H0=Error terms are not auto corelated\n",
    "H1=Error terms are auto corelated\n",
    "Durbin-Watson: 1.647 (From the model summary)"
   ]
  },
  {
   "cell_type": "code",
   "execution_count": 46,
   "metadata": {},
   "outputs": [
    {
     "data": {
      "text/plain": [
       "1.6472983005218602"
      ]
     },
     "execution_count": 46,
     "metadata": {},
     "output_type": "execute_result"
    }
   ],
   "source": [
    "#Another way for interpretation\n",
    "# consider the independent variables\n",
    "# select_dtypes: selects the desired the variable having specified datatype\n",
    "# include: includes the variables with specified datatype\n",
    "# drop(): drops specified column(s)/row(s) from the dataframe\n",
    "# axis: specifies whether to drop labels from index or columns; use 1 for columns and 0 for index\n",
    "df_FEV_num = df_FEV.select_dtypes(include=np.number).drop([\"FEV\"],axis=1)\n",
    "\n",
    "# consider all the categorical variables in the data\n",
    "# select_dtypes: selects the desired the variable having specified datatype\n",
    "# include: includes the variables with specified datatype\n",
    "df_FEV_cat = df_FEV.select_dtypes(include=\"object\")\n",
    "\n",
    "# convert the categorical variable to dummy variable\n",
    "# get_dummies(): converts the variable to categorical variable\n",
    "# drop_first=True: indicates n-1 dummy enoding; if set to false indicated one-hot encoding\n",
    "dummy_variables = pd.get_dummies(df_FEV_cat, drop_first=True)\n",
    "\n",
    "# concatenate the numerical and dummy variables\n",
    "# axis: specifies whether to drop labels from index or column\n",
    "X = pd.concat([df_FEV_num, dummy_variables],axis=1)\n",
    "\n",
    "# consider the dependent variable\n",
    "y = df_FEV[\"FEV\"]\n",
    "\n",
    "# fit a full model with an intercept using fit()\n",
    "# add_constant(): adds the intercept term to the model\n",
    "MLR_model = sm.OLS(y, sm.add_constant(X)).fit()\n",
    "\n",
    "# compute residuals using 'resid'\n",
    "residuals = MLR_model.resid\n",
    "\n",
    "# perform Durbin-Watson test \n",
    "durbin_watson(residuals)"
   ]
  },
  {
   "cell_type": "markdown",
   "metadata": {
    "collapsed": true
   },
   "source": [
    "<table align=\"left\">\n",
    "    <tr>\n",
    "        <td width=\"6%\">\n",
    "            <img src=\"question_icon.png\">\n",
    "        </td>\n",
    "        <td>\n",
    "            <div align=\"left\", style=\"font-size:120%\">\n",
    "                <font color=\"#21618C\">\n",
    "                    <b>17. A model is built using all the features to predict the FEV. Check whether the residuals obtained form the model are normally distributed. </b>\n",
    "                </font>\n",
    "            </div>\n",
    "        </td>\n",
    "    </tr>\n",
    "</table>"
   ]
  },
  {
   "cell_type": "code",
   "execution_count": 20,
   "metadata": {
    "scrolled": false
   },
   "outputs": [],
   "source": [
    "# type your code here\n"
   ]
  },
  {
   "cell_type": "markdown",
   "metadata": {},
   "source": [
    "<a id=\"ml_perf\"> </a>\n",
    "## 6. Model Performance"
   ]
  },
  {
   "cell_type": "markdown",
   "metadata": {
    "collapsed": true
   },
   "source": [
    "<table align=\"left\">\n",
    "    <tr>\n",
    "        <td width=\"6%\">\n",
    "            <img src=\"question_icon.png\">\n",
    "        </td>\n",
    "        <td>\n",
    "            <div align=\"left\", style=\"font-size:120%\">\n",
    "                <font color=\"#21618C\">\n",
    "                    <b>18. Build a full model on 70% of the given data. Calculate the mean square error and the root mean square error on the test set.</b>\n",
    "                </font>\n",
    "            </div>\n",
    "        </td>\n",
    "    </tr>\n",
    "</table>"
   ]
  },
  {
   "cell_type": "code",
   "execution_count": 56,
   "metadata": {},
   "outputs": [
    {
     "name": "stdout",
     "output_type": "stream",
     "text": [
      "Mean Squared Error (MSE):  0.2403\n",
      "Root Mean Squared Error (RMSE):  0.4902\n"
     ]
    }
   ],
   "source": [
    "# type your code here\n",
    "# consider the independent variables\n",
    "# select_dtypes: selects the desired the variable having specified datatype\n",
    "# include: includes the variables with specified datatype\n",
    "# drop(): drops specified column(s)/row(s) from the dataframe\n",
    "# axis: specifies whether to drop labels from index or columns; use 1 for columns and 0 for index\n",
    "df_FEV_num = df_FEV.select_dtypes(include=np.number).drop([\"FEV\"],axis=1)\n",
    "\n",
    "# consider all the categorical variables in the data\n",
    "# select_dtypes: selects the desired the variable having specified datatype\n",
    "# include: includes the variables with specified datatype\n",
    "df_FEV_cat = df_FEV.select_dtypes(include=\"object\")\n",
    "\n",
    "# convert the categorical variable to dummy variable\n",
    "# get_dummies(): converts the variable to categorical variable\n",
    "# drop_first=True: indicates n-1 dummy enoding; if set to false indicated one-hot encoding\n",
    "dummy_variables = pd.get_dummies(df_FEV_cat, drop_first=True)\n",
    "\n",
    "# concatenate the numerical and dummy variables\n",
    "# axis: specifies whether to drop labels from index or column\n",
    "X = pd.concat([df_FEV_num, dummy_variables],axis=1)\n",
    "\n",
    "# add_constant(): adds the intercept term to the model\n",
    "X = sm.add_constant(X)\n",
    "\n",
    "# consider the dependent variable\n",
    "y = df_FEV[\"FEV\"]\n",
    "\n",
    "# split data into train subset and test subset\n",
    "# set 'random_state' to generate the same dataset each time you run the code \n",
    "# 'test_size' returns the proportion of data to be included in the testing set\n",
    "X_train, X_test, y_train, y_test = train_test_split(X, y, random_state = 1, test_size = 0.3)\n",
    "\n",
    "# fit a full model using fit()\n",
    "MLR_model = sm.OLS(y, X).fit()\n",
    "\n",
    "# predict the y values\n",
    "y_pred = MLR_model.predict(X_test)\n",
    "\n",
    "# calculating the MSE for the test data and then rounding the value upto 4 digits\n",
    "mse_test = round(mean_squared_error(y_test, y_pred),4)\n",
    "\n",
    "# printing the mse for the test set\n",
    "print(\"Mean Squared Error (MSE): \", mse_test)\n",
    "\n",
    "# taking the square root of the mse and then rounding the value upto 4 digits\n",
    "rmse_test = round(np.sqrt(mse_test), 4)\n",
    "\n",
    "# printing the rmse for the test set\n",
    "print(\"Root Mean Squared Error (RMSE): \", rmse_test)"
   ]
  },
  {
   "cell_type": "markdown",
   "metadata": {
    "collapsed": true
   },
   "source": [
    "<table align=\"left\">\n",
    "    <tr>\n",
    "        <td width=\"6%\">\n",
    "            <img src=\"question_icon.png\">\n",
    "        </td>\n",
    "        <td>\n",
    "            <div align=\"left\", style=\"font-size:120%\">\n",
    "                <font color=\"#21618C\">\n",
    "                    <b>19. Calculate the mean absolute error and the  mean absolute percentage error for the test set using the model in Q18. Compare the values of RMSE and MAE. </b>\n",
    "                </font>\n",
    "            </div>\n",
    "        </td>\n",
    "    </tr>\n",
    "</table>"
   ]
  },
  {
   "cell_type": "code",
   "execution_count": 63,
   "metadata": {},
   "outputs": [
    {
     "ename": "SyntaxError",
     "evalue": "invalid syntax (<ipython-input-63-d324b95a310f>, line 12)",
     "output_type": "error",
     "traceback": [
      "\u001b[1;36m  File \u001b[1;32m\"<ipython-input-63-d324b95a310f>\"\u001b[1;36m, line \u001b[1;32m12\u001b[0m\n\u001b[1;33m    mae_test = round(mean_absolute_error(y_test, y_pred),4)\u001b[0m\n\u001b[1;37m    ^\u001b[0m\n\u001b[1;31mSyntaxError\u001b[0m\u001b[1;31m:\u001b[0m invalid syntax\n"
     ]
    }
   ],
   "source": [
    "# type your code here\n",
    "# a user defined function to calculate MAPE \n",
    "# the function take arguments: actual and predicted values\n",
    "# it returns the MAPE \n",
    "def mape(actual, predicted):\n",
    "    return (np.mean(np.abs((actual - predicted) / actual)) * 100\n",
    "# consider the full model in Q18\n",
    "# calculating the MAE for the test data and then rounding the value upto 4 digits\n",
    "\n",
    "# consider the full model in Q18\n",
    "# calculating the MAE for the test data and then rounding the value upto 4 digits\n",
    "mae_test = round(mean_absolute_error(y_test, y_pred),4)\n",
    "\n",
    "# printing the MAE for the test set\n",
    "print(\"Mean Absolute Error (MAE) on test set: \", mae_test)\n",
    "\n",
    "# Calculating the MAPE using the \"mape()\" function created above\n",
    "\n",
    "# calculating the MAPE for the  data and then rounding the value upto 4 digits\n",
    "mape_test = round(mape(y_test, y_pred),4)\n",
    "\n",
    "# printing the mape for the tra set\n",
    "print(\"Mean Absolute Percentage Error (MAPE) on test set: \", mape_test)"
   ]
  },
  {
   "cell_type": "markdown",
   "metadata": {
    "collapsed": true
   },
   "source": [
    "<table align=\"left\">\n",
    "    <tr>\n",
    "        <td width=\"6%\">\n",
    "            <img src=\"question_icon.png\">\n",
    "        </td>\n",
    "        <td>\n",
    "            <div align=\"left\", style=\"font-size:120%\">\n",
    "                <font color=\"#21618C\">\n",
    "                    <b>20. Build the full model on 80% of the given data and check if the model is overfitted? </b>\n",
    "                </font>\n",
    "            </div>\n",
    "        </td>\n",
    "    </tr>\n",
    "</table>"
   ]
  },
  {
   "cell_type": "code",
   "execution_count": 23,
   "metadata": {},
   "outputs": [],
   "source": [
    "# type your code here"
   ]
  }
 ],
 "metadata": {
  "kernelspec": {
   "display_name": "Python 3",
   "language": "python",
   "name": "python3"
  },
  "language_info": {
   "codemirror_mode": {
    "name": "ipython",
    "version": 3
   },
   "file_extension": ".py",
   "mimetype": "text/x-python",
   "name": "python",
   "nbconvert_exporter": "python",
   "pygments_lexer": "ipython3",
   "version": "3.8.5"
  }
 },
 "nbformat": 4,
 "nbformat_minor": 2
}
