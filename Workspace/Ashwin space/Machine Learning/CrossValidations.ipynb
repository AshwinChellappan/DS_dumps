{
 "cells": [
  {
   "cell_type": "code",
   "execution_count": 5,
   "metadata": {},
   "outputs": [],
   "source": [
    "from sklearn.model_selection import KFold,LeaveOneOut,cross_val_score\n",
    "import pandas as pd\n",
    "import numpy as np\n",
    "import matplotlib.pyplot as plt\n",
    "import seaborn as sns\n",
    "#KFold used to create test and Train for Cross validation test"
   ]
  },
  {
   "cell_type": "code",
   "execution_count": 4,
   "metadata": {},
   "outputs": [
    {
     "name": "stdout",
     "output_type": "stream",
     "text": [
      "[2 3 4 5 6 7 8 9] [0 1]\n",
      "[0 1 4 5 6 7 8 9] [2 3]\n",
      "[0 1 2 3 6 7 8 9] [4 5]\n",
      "[0 1 2 3 4 5 8 9] [6 7]\n",
      "[0 1 2 3 4 5 6 7] [8 9]\n"
     ]
    }
   ],
   "source": [
    "dd=[1,2,3,4,5,6,7,8,9,10]\n",
    "kf=KFold(n_splits=5)\n",
    "for d1,d2 in kf.split(dd):\n",
    "    print(d1,d2)"
   ]
  },
  {
   "cell_type": "code",
   "execution_count": 8,
   "metadata": {},
   "outputs": [
    {
     "name": "stdout",
     "output_type": "stream",
     "text": [
      "\n",
      "\n",
      "X_train:  [4 5 6 7 8 9]  Y_train:  [40 50 60 70 80 90]\n",
      "x_test:  [1 2 3]  Y_test:  [10 20 30]\n",
      "\n",
      "\n",
      "X_train:  [1 2 3 7 8 9]  Y_train:  [10 20 30 70 80 90]\n",
      "x_test:  [4 5 6]  Y_test:  [40 50 60]\n",
      "\n",
      "\n",
      "X_train:  [1 2 3 4 5 6]  Y_train:  [10 20 30 40 50 60]\n",
      "x_test:  [7 8 9]  Y_test:  [70 80 90]\n"
     ]
    }
   ],
   "source": [
    "X=[1,2,3,4,5,6,7,8,9]\n",
    "Y=[10,20,30,40,50,60,70,80,90]\n",
    "kf=KFold(n_splits=3)\n",
    "for d1,d2 in kf.split(Y):\n",
    "    x_train=np.asarray(X)[d1]\n",
    "    Y_train=np.asarray(Y)[d1]\n",
    "    x_test=np.asarray(X)[d2]\n",
    "    Y_test=np.asarray(Y)[d2]\n",
    "    print('\\n')\n",
    "    print('X_train: ',x_train,' Y_train: ',Y_train,)\n",
    "    print('x_test: ',x_test,' Y_test: ',Y_test)"
   ]
  },
  {
   "cell_type": "code",
   "execution_count": 10,
   "metadata": {},
   "outputs": [
    {
     "name": "stdout",
     "output_type": "stream",
     "text": [
      "\n",
      "\n",
      "X_train:  [2 3 4 5 6 7 8 9]  Y_train:  [20 30 40 50 60 70 80 90]\n",
      "x_test:  [1]  Y_test:  [10]\n",
      "\n",
      "\n",
      "X_train:  [1 3 4 5 6 7 8 9]  Y_train:  [10 30 40 50 60 70 80 90]\n",
      "x_test:  [2]  Y_test:  [20]\n",
      "\n",
      "\n",
      "X_train:  [1 2 4 5 6 7 8 9]  Y_train:  [10 20 40 50 60 70 80 90]\n",
      "x_test:  [3]  Y_test:  [30]\n",
      "\n",
      "\n",
      "X_train:  [1 2 3 5 6 7 8 9]  Y_train:  [10 20 30 50 60 70 80 90]\n",
      "x_test:  [4]  Y_test:  [40]\n",
      "\n",
      "\n",
      "X_train:  [1 2 3 4 6 7 8 9]  Y_train:  [10 20 30 40 60 70 80 90]\n",
      "x_test:  [5]  Y_test:  [50]\n",
      "\n",
      "\n",
      "X_train:  [1 2 3 4 5 7 8 9]  Y_train:  [10 20 30 40 50 70 80 90]\n",
      "x_test:  [6]  Y_test:  [60]\n",
      "\n",
      "\n",
      "X_train:  [1 2 3 4 5 6 8 9]  Y_train:  [10 20 30 40 50 60 80 90]\n",
      "x_test:  [7]  Y_test:  [70]\n",
      "\n",
      "\n",
      "X_train:  [1 2 3 4 5 6 7 9]  Y_train:  [10 20 30 40 50 60 70 90]\n",
      "x_test:  [8]  Y_test:  [80]\n",
      "\n",
      "\n",
      "X_train:  [1 2 3 4 5 6 7 8]  Y_train:  [10 20 30 40 50 60 70 80]\n",
      "x_test:  [9]  Y_test:  [90]\n"
     ]
    }
   ],
   "source": [
    "loo=LeaveOneOut()\n",
    "for d1,d2 in loo.split(Y):\n",
    "    x_train=np.asarray(X)[d1]\n",
    "    Y_train=np.asarray(Y)[d1]\n",
    "    x_test=np.asarray(X)[d2]\n",
    "    Y_test=np.asarray(Y)[d2]\n",
    "    print('\\n')\n",
    "    print('X_train: ',x_train,' Y_train: ',Y_train,)\n",
    "    print('x_test: ',x_test,' Y_test: ',Y_test)"
   ]
  },
  {
   "cell_type": "markdown",
   "metadata": {},
   "source": [
    "### Applying Cross Validation on Boston Data"
   ]
  },
  {
   "cell_type": "code",
   "execution_count": 9,
   "metadata": {},
   "outputs": [],
   "source": [
    "from sklearn.datasets import load_boston\n",
    "boston=load_boston()\n",
    "bos=pd.DataFrame(boston.data,columns=boston.feature_names)\n",
    "bos['price']=boston.target\n",
    "bos=bos.sample(frac=1,random_state=4).reset_index(drop=True)"
   ]
  },
  {
   "cell_type": "code",
   "execution_count": 10,
   "metadata": {},
   "outputs": [],
   "source": [
    "Y=bos['price']\n",
    "X=bos.drop(['price','INDUS','AGE'],axis=1)"
   ]
  },
  {
   "cell_type": "code",
   "execution_count": 11,
   "metadata": {},
   "outputs": [],
   "source": [
    "from sklearn.model_selection import train_test_split\n",
    "X_train, X_test, y_train, y_test = train_test_split(X,Y, test_size=0.33, random_state=42)"
   ]
  },
  {
   "cell_type": "markdown",
   "metadata": {},
   "source": [
    "Train-Test Method"
   ]
  },
  {
   "cell_type": "code",
   "execution_count": 12,
   "metadata": {},
   "outputs": [],
   "source": [
    "from sklearn.linear_model import LinearRegression\n",
    "from sklearn.metrics import r2_score,mean_squared_error"
   ]
  },
  {
   "cell_type": "code",
   "execution_count": 13,
   "metadata": {},
   "outputs": [
    {
     "name": "stdout",
     "output_type": "stream",
     "text": [
      "R2 train 0.7282942769350065 R2-Test 0.7571839237517559\n"
     ]
    }
   ],
   "source": [
    "lir=LinearRegression(fit_intercept=True)\n",
    "lir.fit(X_train,y_train)\n",
    "y_train_pred=lir.predict(X_train)\n",
    "r2_train=r2_score(y_train,y_train_pred)\n",
    "rmse_train=np.sqrt(mean_squared_error(y_train,y_train_pred))\n",
    "y_test_pred=lir.predict(X_test)\n",
    "r2_test=r2_score(y_test,y_test_pred)\n",
    "rmse_train=np.sqrt(mean_squared_error(y_test,y_test_pred))\n",
    "print('R2 train',r2_train,'R2-Test',r2_test)"
   ]
  },
  {
   "cell_type": "code",
   "execution_count": 20,
   "metadata": {},
   "outputs": [],
   "source": [
    "Kf=KFold(n_splits=5)"
   ]
  },
  {
   "cell_type": "code",
   "execution_count": 21,
   "metadata": {},
   "outputs": [
    {
     "ename": "NameError",
     "evalue": "name 'kf' is not defined",
     "output_type": "error",
     "traceback": [
      "\u001b[1;31m---------------------------------------------------------------------------\u001b[0m",
      "\u001b[1;31mNameError\u001b[0m                                 Traceback (most recent call last)",
      "\u001b[1;32m<ipython-input-21-96b8666f19a8>\u001b[0m in \u001b[0;36m<module>\u001b[1;34m\u001b[0m\n\u001b[0;32m      1\u001b[0m \u001b[0mi\u001b[0m\u001b[1;33m=\u001b[0m\u001b[1;36m1\u001b[0m\u001b[1;33m\u001b[0m\u001b[1;33m\u001b[0m\u001b[0m\n\u001b[1;32m----> 2\u001b[1;33m \u001b[1;32mfor\u001b[0m \u001b[0mtrain_index\u001b[0m\u001b[1;33m,\u001b[0m\u001b[0mtest_index\u001b[0m \u001b[1;32min\u001b[0m \u001b[0mkf\u001b[0m\u001b[1;33m.\u001b[0m\u001b[0msplit\u001b[0m\u001b[1;33m(\u001b[0m\u001b[0mY\u001b[0m\u001b[1;33m)\u001b[0m\u001b[1;33m:\u001b[0m\u001b[1;33m\u001b[0m\u001b[1;33m\u001b[0m\u001b[0m\n\u001b[0m\u001b[0;32m      3\u001b[0m     \u001b[0mX_train\u001b[0m\u001b[1;33m=\u001b[0m\u001b[0mX\u001b[0m\u001b[1;33m.\u001b[0m\u001b[0miloc\u001b[0m\u001b[1;33m[\u001b[0m\u001b[0mtrain_index\u001b[0m\u001b[1;33m]\u001b[0m\u001b[1;33m\u001b[0m\u001b[1;33m\u001b[0m\u001b[0m\n\u001b[0;32m      4\u001b[0m     \u001b[0mY_train\u001b[0m\u001b[1;33m=\u001b[0m\u001b[0mY\u001b[0m\u001b[1;33m[\u001b[0m\u001b[0mtrain_index\u001b[0m\u001b[1;33m]\u001b[0m\u001b[1;33m\u001b[0m\u001b[1;33m\u001b[0m\u001b[0m\n\u001b[0;32m      5\u001b[0m     \u001b[0mX_test\u001b[0m\u001b[1;33m=\u001b[0m\u001b[0mX\u001b[0m\u001b[1;33m.\u001b[0m\u001b[0miloc\u001b[0m\u001b[1;33m[\u001b[0m\u001b[0mtest_index\u001b[0m\u001b[1;33m]\u001b[0m\u001b[1;33m\u001b[0m\u001b[1;33m\u001b[0m\u001b[0m\n",
      "\u001b[1;31mNameError\u001b[0m: name 'kf' is not defined"
     ]
    }
   ],
   "source": [
    "\n",
    "i=1\n",
    "for train_index,test_index in kf.split(Y):\n",
    "    X_train=X.iloc[train_index]\n",
    "    Y_train=Y[train_index]\n",
    "    X_test=X.iloc[test_index]\n",
    "    Y_test=Y[test_index]\n",
    "    lir=LinearRegression(fit_intercept=True)\n",
    "    lir.fit(X_train,y_train)\n",
    "    y_train_pred=lir.predict(X_train)\n",
    "    r2_train=r2_score(y_train,y_train_pred)\n",
    "    rmse_train=np.sqrt(mean_squared_error(y_train,y_train_pred))\n",
    "    y_test_pred=lir.predict(X_test)\n",
    "    r2_test=r2_score(y_test,y_test_pred)\n",
    "    rmse_train=np.sqrt(mean_squared_error(y_test,y_test_pred))\n",
    "    print('fold',i,'R2-Train',r2_train,'R2-Test',r2_test)\n",
    "    "
   ]
  },
  {
   "cell_type": "markdown",
   "metadata": {},
   "source": [
    "## To avoid above function use cross val score"
   ]
  },
  {
   "cell_type": "code",
   "execution_count": 7,
   "metadata": {},
   "outputs": [
    {
     "data": {
      "text/plain": [
       "dict_keys(['explained_variance', 'r2', 'max_error', 'neg_median_absolute_error', 'neg_mean_absolute_error', 'neg_mean_squared_error', 'neg_mean_squared_log_error', 'neg_root_mean_squared_error', 'neg_mean_poisson_deviance', 'neg_mean_gamma_deviance', 'accuracy', 'roc_auc', 'roc_auc_ovr', 'roc_auc_ovo', 'roc_auc_ovr_weighted', 'roc_auc_ovo_weighted', 'balanced_accuracy', 'average_precision', 'neg_log_loss', 'neg_brier_score', 'adjusted_rand_score', 'homogeneity_score', 'completeness_score', 'v_measure_score', 'mutual_info_score', 'adjusted_mutual_info_score', 'normalized_mutual_info_score', 'fowlkes_mallows_score', 'precision', 'precision_macro', 'precision_micro', 'precision_samples', 'precision_weighted', 'recall', 'recall_macro', 'recall_micro', 'recall_samples', 'recall_weighted', 'f1', 'f1_macro', 'f1_micro', 'f1_samples', 'f1_weighted', 'jaccard', 'jaccard_macro', 'jaccard_micro', 'jaccard_samples', 'jaccard_weighted'])"
      ]
     },
     "execution_count": 7,
     "metadata": {},
     "output_type": "execute_result"
    }
   ],
   "source": [
    "import sklearn\n",
    "sklearn.metrics.SCORERS.keys()"
   ]
  },
  {
   "cell_type": "code",
   "execution_count": 18,
   "metadata": {},
   "outputs": [
    {
     "data": {
      "text/plain": [
       "array([0.72926545, 0.73489712, 0.74067434, 0.77127926, 0.66318346])"
      ]
     },
     "execution_count": 18,
     "metadata": {},
     "output_type": "execute_result"
    }
   ],
   "source": [
    "lir=LinearRegression()\n",
    "kfold=KFold(n_splits=5,shffule=True,random_state=5)\n",
    "cv=cross_val_score(lir,X,Y,cv=kfold,scoring='r2')\n",
    "cv ## From the five iteration getting Test score"
   ]
  },
  {
   "cell_type": "code",
   "execution_count": null,
   "metadata": {},
   "outputs": [],
   "source": [
    "loo=LeaveOneOut()\n",
    "cv=cross_val_score(lir,X,Y,cv=loo,scoring='neg_mean_squared_error')\n",
    "cvr=np.sqrt((cv*-1).mean())\n",
    "cvr"
   ]
  }
 ],
 "metadata": {
  "kernelspec": {
   "display_name": "Python 3",
   "language": "python",
   "name": "python3"
  },
  "language_info": {
   "codemirror_mode": {
    "name": "ipython",
    "version": 3
   },
   "file_extension": ".py",
   "mimetype": "text/x-python",
   "name": "python",
   "nbconvert_exporter": "python",
   "pygments_lexer": "ipython3",
   "version": "3.8.5"
  }
 },
 "nbformat": 4,
 "nbformat_minor": 4
}
