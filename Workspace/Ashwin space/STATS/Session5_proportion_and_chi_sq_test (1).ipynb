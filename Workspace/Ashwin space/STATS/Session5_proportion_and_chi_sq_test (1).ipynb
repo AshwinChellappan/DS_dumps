{
 "cells": [
  {
   "cell_type": "code",
   "execution_count": 1,
   "metadata": {
    "executionInfo": {
     "elapsed": 6130,
     "status": "ok",
     "timestamp": 1613571985449,
     "user": {
      "displayName": "Mahesh Anand",
      "photoUrl": "https://lh3.googleusercontent.com/a-/AOh14GgKd7FxLgzXO0MxUwypCgML3QfaeTdE0nT8cpHwLQ=s64",
      "userId": "06788086636039591358"
     },
     "user_tz": -330
    },
    "id": "g8XXIZYFks51"
   },
   "outputs": [],
   "source": [
    "import numpy as np\n",
    "import pandas as pd\n",
    "import scipy.stats as stats\n",
    "from scipy.stats import ttest_ind\n",
    "import matplotlib.pyplot as plt\n",
    "%matplotlib inline"
   ]
  },
  {
   "cell_type": "code",
   "execution_count": 2,
   "metadata": {
    "executionInfo": {
     "elapsed": 6125,
     "status": "ok",
     "timestamp": 1613571985451,
     "user": {
      "displayName": "Mahesh Anand",
      "photoUrl": "https://lh3.googleusercontent.com/a-/AOh14GgKd7FxLgzXO0MxUwypCgML3QfaeTdE0nT8cpHwLQ=s64",
      "userId": "06788086636039591358"
     },
     "user_tz": -330
    },
    "id": "MVSh2bwyLA_p"
   },
   "outputs": [],
   "source": [
    "import warnings\n",
    "warnings.filterwarnings('ignore')"
   ]
  },
  {
   "cell_type": "code",
   "execution_count": 3,
   "metadata": {
    "colab": {
     "base_uri": "https://localhost:8080/"
    },
    "executionInfo": {
     "elapsed": 27253,
     "status": "ok",
     "timestamp": 1613572006588,
     "user": {
      "displayName": "Mahesh Anand",
      "photoUrl": "https://lh3.googleusercontent.com/a-/AOh14GgKd7FxLgzXO0MxUwypCgML3QfaeTdE0nT8cpHwLQ=s64",
      "userId": "06788086636039591358"
     },
     "user_tz": -330
    },
    "id": "xJnvXVj10m-E",
    "outputId": "576a269d-2063-48e9-96aa-68b7241a412c"
   },
   "outputs": [
    {
     "name": "stdout",
     "output_type": "stream",
     "text": [
      "Mounted at /content/drive\n"
     ]
    }
   ],
   "source": [
    "from google.colab import drive\n",
    "drive.mount('/content/drive')"
   ]
  },
  {
   "cell_type": "code",
   "execution_count": 5,
   "metadata": {
    "colab": {
     "base_uri": "https://localhost:8080/",
     "height": 235
    },
    "executionInfo": {
     "elapsed": 912,
     "status": "ok",
     "timestamp": 1613572973451,
     "user": {
      "displayName": "Mahesh Anand",
      "photoUrl": "https://lh3.googleusercontent.com/a-/AOh14GgKd7FxLgzXO0MxUwypCgML3QfaeTdE0nT8cpHwLQ=s64",
      "userId": "06788086636039591358"
     },
     "user_tz": -330
    },
    "id": "WVrSHlvk2jdJ",
    "outputId": "b67239d2-bf7e-4df0-ec0c-9df9a5a9389f"
   },
   "outputs": [
    {
     "data": {
      "text/html": [
       "<div>\n",
       "<style scoped>\n",
       "    .dataframe tbody tr th:only-of-type {\n",
       "        vertical-align: middle;\n",
       "    }\n",
       "\n",
       "    .dataframe tbody tr th {\n",
       "        vertical-align: top;\n",
       "    }\n",
       "\n",
       "    .dataframe thead th {\n",
       "        text-align: right;\n",
       "    }\n",
       "</style>\n",
       "<table border=\"1\" class=\"dataframe\">\n",
       "  <thead>\n",
       "    <tr style=\"text-align: right;\">\n",
       "      <th></th>\n",
       "      <th>Age</th>\n",
       "      <th>Income</th>\n",
       "      <th>Income2</th>\n",
       "      <th>Deposit</th>\n",
       "      <th>Deposit2</th>\n",
       "      <th>Customer_type</th>\n",
       "      <th>Deposit_Scheme</th>\n",
       "    </tr>\n",
       "    <tr>\n",
       "      <th>User I.D</th>\n",
       "      <th></th>\n",
       "      <th></th>\n",
       "      <th></th>\n",
       "      <th></th>\n",
       "      <th></th>\n",
       "      <th></th>\n",
       "      <th></th>\n",
       "    </tr>\n",
       "  </thead>\n",
       "  <tbody>\n",
       "    <tr>\n",
       "      <th>ACX570081</th>\n",
       "      <td>26</td>\n",
       "      <td>32900</td>\n",
       "      <td>20230</td>\n",
       "      <td>14805.0</td>\n",
       "      <td>11935.7</td>\n",
       "      <td>Irregular</td>\n",
       "      <td>Hal-Yearly</td>\n",
       "    </tr>\n",
       "    <tr>\n",
       "      <th>ACX570082</th>\n",
       "      <td>43</td>\n",
       "      <td>37390</td>\n",
       "      <td>21410</td>\n",
       "      <td>19442.8</td>\n",
       "      <td>10276.8</td>\n",
       "      <td>Regular</td>\n",
       "      <td>Quaterly</td>\n",
       "    </tr>\n",
       "    <tr>\n",
       "      <th>ACX570083</th>\n",
       "      <td>35</td>\n",
       "      <td>11300</td>\n",
       "      <td>22290</td>\n",
       "      <td>5989.0</td>\n",
       "      <td>9361.8</td>\n",
       "      <td>Irregular</td>\n",
       "      <td>Monthly</td>\n",
       "    </tr>\n",
       "    <tr>\n",
       "      <th>ACX570084</th>\n",
       "      <td>27</td>\n",
       "      <td>41680</td>\n",
       "      <td>26970</td>\n",
       "      <td>19589.6</td>\n",
       "      <td>15912.3</td>\n",
       "      <td>Irregular</td>\n",
       "      <td>Quaterly</td>\n",
       "    </tr>\n",
       "    <tr>\n",
       "      <th>ACX570085</th>\n",
       "      <td>42</td>\n",
       "      <td>27170</td>\n",
       "      <td>27220</td>\n",
       "      <td>14943.5</td>\n",
       "      <td>11160.2</td>\n",
       "      <td>Regular</td>\n",
       "      <td>Quaterly</td>\n",
       "    </tr>\n",
       "  </tbody>\n",
       "</table>\n",
       "</div>"
      ],
      "text/plain": [
       "           Age  Income  Income2  Deposit  Deposit2 Customer_type Deposit_Scheme\n",
       "User I.D                                                                       \n",
       "ACX570081   26   32900    20230  14805.0   11935.7     Irregular     Hal-Yearly\n",
       "ACX570082   43   37390    21410  19442.8   10276.8       Regular       Quaterly\n",
       "ACX570083   35   11300    22290   5989.0    9361.8     Irregular        Monthly\n",
       "ACX570084   27   41680    26970  19589.6   15912.3     Irregular       Quaterly\n",
       "ACX570085   42   27170    27220  14943.5   11160.2       Regular       Quaterly"
      ]
     },
     "execution_count": 5,
     "metadata": {
      "tags": []
     },
     "output_type": "execute_result"
    }
   ],
   "source": [
    "A=pd.read_csv('/content/drive/My Drive/Statistics Mahesh Anand/Bank.csv',index_col=0)\n",
    "A.head()"
   ]
  },
  {
   "cell_type": "code",
   "execution_count": 6,
   "metadata": {
    "colab": {
     "base_uri": "https://localhost:8080/"
    },
    "executionInfo": {
     "elapsed": 985,
     "status": "ok",
     "timestamp": 1613573011055,
     "user": {
      "displayName": "Mahesh Anand",
      "photoUrl": "https://lh3.googleusercontent.com/a-/AOh14GgKd7FxLgzXO0MxUwypCgML3QfaeTdE0nT8cpHwLQ=s64",
      "userId": "06788086636039591358"
     },
     "user_tz": -330
    },
    "id": "t5eROl7KZaT5",
    "outputId": "a53ff353-364e-4891-8a1d-59c3b17cffad"
   },
   "outputs": [
    {
     "data": {
      "text/plain": [
       "(264, 7)"
      ]
     },
     "execution_count": 6,
     "metadata": {
      "tags": []
     },
     "output_type": "execute_result"
    }
   ],
   "source": [
    "A.shape"
   ]
  },
  {
   "cell_type": "code",
   "execution_count": null,
   "metadata": {
    "colab": {
     "base_uri": "https://localhost:8080/"
    },
    "executionInfo": {
     "elapsed": 1005,
     "status": "ok",
     "timestamp": 1613485586069,
     "user": {
      "displayName": "Mahesh Anand",
      "photoUrl": "https://lh3.googleusercontent.com/a-/AOh14GgKd7FxLgzXO0MxUwypCgML3QfaeTdE0nT8cpHwLQ=s64",
      "userId": "06788086636039591358"
     },
     "user_tz": -330
    },
    "id": "hrv5LvBXgEFy",
    "outputId": "0c0d42f6-29ba-4f37-e017-d0c9d06c2b5e"
   },
   "outputs": [
    {
     "data": {
      "text/plain": [
       "Index(['Age', 'Income', 'Income2', 'Deposit', 'Deposit2', 'Customer_type',\n",
       "       'Deposit_Scheme'],\n",
       "      dtype='object')"
      ]
     },
     "execution_count": 6,
     "metadata": {
      "tags": []
     },
     "output_type": "execute_result"
    }
   ],
   "source": [
    "A.columns"
   ]
  },
  {
   "cell_type": "code",
   "execution_count": 7,
   "metadata": {
    "colab": {
     "base_uri": "https://localhost:8080/"
    },
    "executionInfo": {
     "elapsed": 933,
     "status": "ok",
     "timestamp": 1613573075608,
     "user": {
      "displayName": "Mahesh Anand",
      "photoUrl": "https://lh3.googleusercontent.com/a-/AOh14GgKd7FxLgzXO0MxUwypCgML3QfaeTdE0nT8cpHwLQ=s64",
      "userId": "06788086636039591358"
     },
     "user_tz": -330
    },
    "id": "1auNwg9vgG_Y",
    "outputId": "7e6529d2-9123-4982-bd61-8e019e349103"
   },
   "outputs": [
    {
     "data": {
      "text/plain": [
       "Ttest_relResult(statistic=7.3845805999351475, pvalue=2.0214409662318323e-12)"
      ]
     },
     "execution_count": 7,
     "metadata": {
      "tags": []
     },
     "output_type": "execute_result"
    }
   ],
   "source": [
    "stats.ttest_rel(A.Income, A.Income2)"
   ]
  },
  {
   "cell_type": "code",
   "execution_count": 8,
   "metadata": {
    "colab": {
     "base_uri": "https://localhost:8080/"
    },
    "executionInfo": {
     "elapsed": 866,
     "status": "ok",
     "timestamp": 1613573155251,
     "user": {
      "displayName": "Mahesh Anand",
      "photoUrl": "https://lh3.googleusercontent.com/a-/AOh14GgKd7FxLgzXO0MxUwypCgML3QfaeTdE0nT8cpHwLQ=s64",
      "userId": "06788086636039591358"
     },
     "user_tz": -330
    },
    "id": "NQLGVuTQacjG",
    "outputId": "1a3bd830-49f2-4e24-ca82-c638c5bd402c"
   },
   "outputs": [
    {
     "data": {
      "text/plain": [
       "(30104.583333333332, 25014.545454545456)"
      ]
     },
     "execution_count": 8,
     "metadata": {
      "tags": []
     },
     "output_type": "execute_result"
    }
   ],
   "source": [
    "A['Income'].mean(),A['Income2'].mean()"
   ]
  },
  {
   "cell_type": "code",
   "execution_count": 9,
   "metadata": {
    "colab": {
     "base_uri": "https://localhost:8080/"
    },
    "executionInfo": {
     "elapsed": 962,
     "status": "ok",
     "timestamp": 1613573200074,
     "user": {
      "displayName": "Mahesh Anand",
      "photoUrl": "https://lh3.googleusercontent.com/a-/AOh14GgKd7FxLgzXO0MxUwypCgML3QfaeTdE0nT8cpHwLQ=s64",
      "userId": "06788086636039591358"
     },
     "user_tz": -330
    },
    "id": "03Bx1ZB5azoK",
    "outputId": "bad8f6c0-3ce4-4217-b224-bf5d1009dc0a"
   },
   "outputs": [
    {
     "data": {
      "text/plain": [
       "Ttest_relResult(statistic=6.9895298325640995, pvalue=2.266359033247305e-11)"
      ]
     },
     "execution_count": 9,
     "metadata": {
      "tags": []
     },
     "output_type": "execute_result"
    }
   ],
   "source": [
    "stats.ttest_rel(A.Deposit, A.Deposit2)"
   ]
  },
  {
   "cell_type": "code",
   "execution_count": null,
   "metadata": {
    "colab": {
     "base_uri": "https://localhost:8080/"
    },
    "executionInfo": {
     "elapsed": 910,
     "status": "ok",
     "timestamp": 1613488709845,
     "user": {
      "displayName": "Mahesh Anand",
      "photoUrl": "https://lh3.googleusercontent.com/a-/AOh14GgKd7FxLgzXO0MxUwypCgML3QfaeTdE0nT8cpHwLQ=s64",
      "userId": "06788086636039591358"
     },
     "user_tz": -330
    },
    "id": "PEy7lOOTa6c4",
    "outputId": "4863f23b-108f-4f04-9eb3-415176e7a7d9"
   },
   "outputs": [
    {
     "data": {
      "text/plain": [
       "(15601.345075757581, 12915.172348484848)"
      ]
     },
     "execution_count": 16,
     "metadata": {
      "tags": []
     },
     "output_type": "execute_result"
    }
   ],
   "source": [
    "A['Deposit'].mean(),A['Deposit2'].mean()"
   ]
  },
  {
   "cell_type": "markdown",
   "metadata": {
    "id": "VZuQXaZUTThQ"
   },
   "source": [
    "# Two sample Z-Test for difference in proportions\n",
    "* Verify for the Migraine data, verify the headache proportion is same for male and female patients\n",
    "* $H_0$: P1 = P2\n",
    "* $H_a$: P1 $\\neq$ P2"
   ]
  },
  {
   "cell_type": "code",
   "execution_count": 10,
   "metadata": {
    "colab": {
     "base_uri": "https://localhost:8080/"
    },
    "executionInfo": {
     "elapsed": 947,
     "status": "ok",
     "timestamp": 1613575147931,
     "user": {
      "displayName": "Mahesh Anand",
      "photoUrl": "https://lh3.googleusercontent.com/a-/AOh14GgKd7FxLgzXO0MxUwypCgML3QfaeTdE0nT8cpHwLQ=s64",
      "userId": "06788086636039591358"
     },
     "user_tz": -330
    },
    "id": "x2tdFzHYdAxE",
    "outputId": "316c96c7-b0a0-46d6-d0e0-dc81f91f3a54"
   },
   "outputs": [
    {
     "data": {
      "text/plain": [
       "(0.4274028629856851, 0.47568710359408034)"
      ]
     },
     "execution_count": 10,
     "metadata": {
      "tags": []
     },
     "output_type": "execute_result"
    }
   ],
   "source": [
    "#Holiday preference quiz\n",
    "p1=209/489\n",
    "p2=225/473\n",
    "pp=434/(489+473)\n",
    "p1,p2"
   ]
  },
  {
   "cell_type": "code",
   "execution_count": 11,
   "metadata": {
    "colab": {
     "base_uri": "https://localhost:8080/"
    },
    "executionInfo": {
     "elapsed": 1804,
     "status": "ok",
     "timestamp": 1613575201472,
     "user": {
      "displayName": "Mahesh Anand",
      "photoUrl": "https://lh3.googleusercontent.com/a-/AOh14GgKd7FxLgzXO0MxUwypCgML3QfaeTdE0nT8cpHwLQ=s64",
      "userId": "06788086636039591358"
     },
     "user_tz": -330
    },
    "id": "0nfDqrK_eodA",
    "outputId": "deaa17c6-0e0e-4a58-a0e6-c77f7a9866c0"
   },
   "outputs": [
    {
     "data": {
      "text/plain": [
       "-1.5045828782072506"
      ]
     },
     "execution_count": 11,
     "metadata": {
      "tags": []
     },
     "output_type": "execute_result"
    }
   ],
   "source": [
    "z_data=(p1-p2)/np.sqrt(pp*(1-pp)*(1/489+1/473))\n",
    "z_data"
   ]
  },
  {
   "cell_type": "code",
   "execution_count": 13,
   "metadata": {
    "colab": {
     "base_uri": "https://localhost:8080/"
    },
    "executionInfo": {
     "elapsed": 905,
     "status": "ok",
     "timestamp": 1613575500464,
     "user": {
      "displayName": "Mahesh Anand",
      "photoUrl": "https://lh3.googleusercontent.com/a-/AOh14GgKd7FxLgzXO0MxUwypCgML3QfaeTdE0nT8cpHwLQ=s64",
      "userId": "06788086636039591358"
     },
     "user_tz": -330
    },
    "id": "Wh8e0jm7gk7h",
    "outputId": "29948ca9-6924-44f6-843c-a5fecbb38850"
   },
   "outputs": [
    {
     "data": {
      "text/plain": [
       "(-1.5045828782072506, 0.13243135094767947)"
      ]
     },
     "execution_count": 13,
     "metadata": {
      "tags": []
     },
     "output_type": "execute_result"
    }
   ],
   "source": [
    "proportions_ztest([209,225],[489,473])"
   ]
  },
  {
   "cell_type": "code",
   "execution_count": 14,
   "metadata": {
    "colab": {
     "base_uri": "https://localhost:8080/"
    },
    "executionInfo": {
     "elapsed": 1516,
     "status": "ok",
     "timestamp": 1613575592909,
     "user": {
      "displayName": "Mahesh Anand",
      "photoUrl": "https://lh3.googleusercontent.com/a-/AOh14GgKd7FxLgzXO0MxUwypCgML3QfaeTdE0nT8cpHwLQ=s64",
      "userId": "06788086636039591358"
     },
     "user_tz": -330
    },
    "id": "zNqMIUIieEk3",
    "outputId": "24e29482-fb27-4ffc-c8b3-b9ef37ee5b55"
   },
   "outputs": [
    {
     "data": {
      "text/plain": [
       "(0.5725971370143149, 0.5243128964059197)"
      ]
     },
     "execution_count": 14,
     "metadata": {
      "tags": []
     },
     "output_type": "execute_result"
    }
   ],
   "source": [
    "#cruise holiday\n",
    "p1=280/489\n",
    "p2=248/473\n",
    "pp=(280+248)/(489+473)\n",
    "p1,p2"
   ]
  },
  {
   "cell_type": "code",
   "execution_count": 15,
   "metadata": {
    "colab": {
     "base_uri": "https://localhost:8080/"
    },
    "executionInfo": {
     "elapsed": 1878,
     "status": "ok",
     "timestamp": 1613575610129,
     "user": {
      "displayName": "Mahesh Anand",
      "photoUrl": "https://lh3.googleusercontent.com/a-/AOh14GgKd7FxLgzXO0MxUwypCgML3QfaeTdE0nT8cpHwLQ=s64",
      "userId": "06788086636039591358"
     },
     "user_tz": -330
    },
    "id": "uVX8xZYTgf3K",
    "outputId": "3663a849-10b7-4c03-d2c7-9a373feeccfd"
   },
   "outputs": [
    {
     "data": {
      "text/plain": [
       "(1.5045828782072488, 0.1324313509476798)"
      ]
     },
     "execution_count": 15,
     "metadata": {
      "tags": []
     },
     "output_type": "execute_result"
    }
   ],
   "source": [
    "proportions_ztest([280,248],[489,473])"
   ]
  },
  {
   "cell_type": "code",
   "execution_count": null,
   "metadata": {
    "colab": {
     "base_uri": "https://localhost:8080/"
    },
    "executionInfo": {
     "elapsed": 925,
     "status": "ok",
     "timestamp": 1613489704216,
     "user": {
      "displayName": "Mahesh Anand",
      "photoUrl": "https://lh3.googleusercontent.com/a-/AOh14GgKd7FxLgzXO0MxUwypCgML3QfaeTdE0nT8cpHwLQ=s64",
      "userId": "06788086636039591358"
     },
     "user_tz": -330
    },
    "id": "jyGJt3sNdbT-",
    "outputId": "371053f5-6896-43ac-c24f-731f0c825f10"
   },
   "outputs": [
    {
     "data": {
      "text/plain": [
       "1.5045828782072488"
      ]
     },
     "execution_count": 31,
     "metadata": {
      "tags": []
     },
     "output_type": "execute_result"
    }
   ],
   "source": [
    "z_data=(p1-p2)/np.sqrt(pp*(1-pp)*(1/489+1/473))\n",
    "z_data"
   ]
  },
  {
   "cell_type": "code",
   "execution_count": 16,
   "metadata": {
    "colab": {
     "base_uri": "https://localhost:8080/",
     "height": 204
    },
    "executionInfo": {
     "elapsed": 884,
     "status": "ok",
     "timestamp": 1613575771679,
     "user": {
      "displayName": "Mahesh Anand",
      "photoUrl": "https://lh3.googleusercontent.com/a-/AOh14GgKd7FxLgzXO0MxUwypCgML3QfaeTdE0nT8cpHwLQ=s64",
      "userId": "06788086636039591358"
     },
     "user_tz": -330
    },
    "id": "liIFvGUjPhPP",
    "outputId": "195b14cb-67c7-4b0b-ecb2-b807368dcbdf"
   },
   "outputs": [
    {
     "data": {
      "text/html": [
       "<div>\n",
       "<style scoped>\n",
       "    .dataframe tbody tr th:only-of-type {\n",
       "        vertical-align: middle;\n",
       "    }\n",
       "\n",
       "    .dataframe tbody tr th {\n",
       "        vertical-align: top;\n",
       "    }\n",
       "\n",
       "    .dataframe thead th {\n",
       "        text-align: right;\n",
       "    }\n",
       "</style>\n",
       "<table border=\"1\" class=\"dataframe\">\n",
       "  <thead>\n",
       "    <tr style=\"text-align: right;\">\n",
       "      <th></th>\n",
       "      <th>id</th>\n",
       "      <th>time</th>\n",
       "      <th>dos</th>\n",
       "      <th>hatype</th>\n",
       "      <th>age</th>\n",
       "      <th>airq</th>\n",
       "      <th>medication</th>\n",
       "      <th>headache</th>\n",
       "      <th>Gender</th>\n",
       "    </tr>\n",
       "  </thead>\n",
       "  <tbody>\n",
       "    <tr>\n",
       "      <th>1</th>\n",
       "      <td>1</td>\n",
       "      <td>-11</td>\n",
       "      <td>753</td>\n",
       "      <td>Aura</td>\n",
       "      <td>30</td>\n",
       "      <td>9.0</td>\n",
       "      <td>continuing</td>\n",
       "      <td>yes</td>\n",
       "      <td>female</td>\n",
       "    </tr>\n",
       "    <tr>\n",
       "      <th>2</th>\n",
       "      <td>1</td>\n",
       "      <td>-10</td>\n",
       "      <td>754</td>\n",
       "      <td>Aura</td>\n",
       "      <td>30</td>\n",
       "      <td>7.0</td>\n",
       "      <td>continuing</td>\n",
       "      <td>yes</td>\n",
       "      <td>female</td>\n",
       "    </tr>\n",
       "    <tr>\n",
       "      <th>3</th>\n",
       "      <td>1</td>\n",
       "      <td>-9</td>\n",
       "      <td>755</td>\n",
       "      <td>Aura</td>\n",
       "      <td>30</td>\n",
       "      <td>10.0</td>\n",
       "      <td>continuing</td>\n",
       "      <td>yes</td>\n",
       "      <td>female</td>\n",
       "    </tr>\n",
       "    <tr>\n",
       "      <th>4</th>\n",
       "      <td>1</td>\n",
       "      <td>-8</td>\n",
       "      <td>756</td>\n",
       "      <td>Aura</td>\n",
       "      <td>30</td>\n",
       "      <td>13.0</td>\n",
       "      <td>continuing</td>\n",
       "      <td>yes</td>\n",
       "      <td>female</td>\n",
       "    </tr>\n",
       "    <tr>\n",
       "      <th>5</th>\n",
       "      <td>1</td>\n",
       "      <td>-7</td>\n",
       "      <td>757</td>\n",
       "      <td>Aura</td>\n",
       "      <td>30</td>\n",
       "      <td>18.0</td>\n",
       "      <td>continuing</td>\n",
       "      <td>yes</td>\n",
       "      <td>female</td>\n",
       "    </tr>\n",
       "  </tbody>\n",
       "</table>\n",
       "</div>"
      ],
      "text/plain": [
       "   id  time  dos hatype  age  airq  medication headache  Gender\n",
       "1   1   -11  753   Aura   30   9.0  continuing      yes  female\n",
       "2   1   -10  754   Aura   30   7.0  continuing      yes  female\n",
       "3   1    -9  755   Aura   30  10.0  continuing      yes  female\n",
       "4   1    -8  756   Aura   30  13.0  continuing      yes  female\n",
       "5   1    -7  757   Aura   30  18.0  continuing      yes  female"
      ]
     },
     "execution_count": 16,
     "metadata": {
      "tags": []
     },
     "output_type": "execute_result"
    }
   ],
   "source": [
    "M=pd.read_csv('/content/drive/My Drive/Statistics Mahesh Anand/Migraine.csv',index_col=0)\n",
    "M.head()"
   ]
  },
  {
   "cell_type": "code",
   "execution_count": 20,
   "metadata": {
    "colab": {
     "base_uri": "https://localhost:8080/"
    },
    "executionInfo": {
     "elapsed": 958,
     "status": "ok",
     "timestamp": 1613575916084,
     "user": {
      "displayName": "Mahesh Anand",
      "photoUrl": "https://lh3.googleusercontent.com/a-/AOh14GgKd7FxLgzXO0MxUwypCgML3QfaeTdE0nT8cpHwLQ=s64",
      "userId": "06788086636039591358"
     },
     "user_tz": -330
    },
    "id": "ezXD85GOnlmN",
    "outputId": "662bb056-a3d7-4619-e23b-da9de649d6fc"
   },
   "outputs": [
    {
     "data": {
      "text/plain": [
       "4152"
      ]
     },
     "execution_count": 20,
     "metadata": {
      "tags": []
     },
     "output_type": "execute_result"
    }
   ],
   "source": [
    "M.shape[0]"
   ]
  },
  {
   "cell_type": "code",
   "execution_count": 17,
   "metadata": {
    "colab": {
     "base_uri": "https://localhost:8080/"
    },
    "executionInfo": {
     "elapsed": 2797,
     "status": "ok",
     "timestamp": 1613575801112,
     "user": {
      "displayName": "Mahesh Anand",
      "photoUrl": "https://lh3.googleusercontent.com/a-/AOh14GgKd7FxLgzXO0MxUwypCgML3QfaeTdE0nT8cpHwLQ=s64",
      "userId": "06788086636039591358"
     },
     "user_tz": -330
    },
    "id": "me38G1leTemL",
    "outputId": "29a154bf-7218-40e3-8bec-4dd3d437143c"
   },
   "outputs": [
    {
     "name": "stdout",
     "output_type": "stream",
     "text": [
      "Gender    female  male\n",
      "headache              \n",
      "no          1266   220\n",
      "yes         2279   387\n"
     ]
    }
   ],
   "source": [
    "#Let P1 be the headache=yes for female\n",
    "#Let P2 be the headache=yes for male\n",
    "CT=pd.crosstab(M['headache'],M['Gender'])\n",
    "print(CT)"
   ]
  },
  {
   "cell_type": "code",
   "execution_count": 22,
   "metadata": {
    "colab": {
     "base_uri": "https://localhost:8080/"
    },
    "executionInfo": {
     "elapsed": 1361,
     "status": "ok",
     "timestamp": 1613575932594,
     "user": {
      "displayName": "Mahesh Anand",
      "photoUrl": "https://lh3.googleusercontent.com/a-/AOh14GgKd7FxLgzXO0MxUwypCgML3QfaeTdE0nT8cpHwLQ=s64",
      "userId": "06788086636039591358"
     },
     "user_tz": -330
    },
    "id": "XdEe72KHXQjp",
    "outputId": "a423f111-13bb-4ffd-9a66-916d344cdf62"
   },
   "outputs": [
    {
     "data": {
      "text/plain": [
       "(0.6428772919605078, 0.6375617792421746)"
      ]
     },
     "execution_count": 22,
     "metadata": {
      "tags": []
     },
     "output_type": "execute_result"
    }
   ],
   "source": [
    "p1=2279/(1266+2279)\n",
    "p2=387/(607)\n",
    "p1,p2"
   ]
  },
  {
   "cell_type": "code",
   "execution_count": null,
   "metadata": {
    "colab": {
     "base_uri": "https://localhost:8080/"
    },
    "executionInfo": {
     "elapsed": 934,
     "status": "ok",
     "timestamp": 1613490016550,
     "user": {
      "displayName": "Mahesh Anand",
      "photoUrl": "https://lh3.googleusercontent.com/a-/AOh14GgKd7FxLgzXO0MxUwypCgML3QfaeTdE0nT8cpHwLQ=s64",
      "userId": "06788086636039591358"
     },
     "user_tz": -330
    },
    "id": "kna8t6s3f8V9",
    "outputId": "d1a4446a-09bf-4fff-e128-33206c5f4671"
   },
   "outputs": [
    {
     "data": {
      "text/plain": [
       "3545"
      ]
     },
     "execution_count": 35,
     "metadata": {
      "tags": []
     },
     "output_type": "execute_result"
    }
   ],
   "source": [
    "1266+2279"
   ]
  },
  {
   "cell_type": "code",
   "execution_count": 21,
   "metadata": {
    "colab": {
     "base_uri": "https://localhost:8080/"
    },
    "executionInfo": {
     "elapsed": 1163,
     "status": "ok",
     "timestamp": 1613575929514,
     "user": {
      "displayName": "Mahesh Anand",
      "photoUrl": "https://lh3.googleusercontent.com/a-/AOh14GgKd7FxLgzXO0MxUwypCgML3QfaeTdE0nT8cpHwLQ=s64",
      "userId": "06788086636039591358"
     },
     "user_tz": -330
    },
    "id": "aHxlFS0mXsqh",
    "outputId": "5ebc4984-2b23-4210-ed14-f4aab4454d16"
   },
   "outputs": [
    {
     "data": {
      "text/plain": [
       "0.6421001926782274"
      ]
     },
     "execution_count": 21,
     "metadata": {
      "tags": []
     },
     "output_type": "execute_result"
    }
   ],
   "source": [
    "#pooled proportion\n",
    "pp=(2279+387)/M.shape[0]\n",
    "pp"
   ]
  },
  {
   "cell_type": "code",
   "execution_count": 23,
   "metadata": {
    "colab": {
     "base_uri": "https://localhost:8080/"
    },
    "executionInfo": {
     "elapsed": 933,
     "status": "ok",
     "timestamp": 1613575938507,
     "user": {
      "displayName": "Mahesh Anand",
      "photoUrl": "https://lh3.googleusercontent.com/a-/AOh14GgKd7FxLgzXO0MxUwypCgML3QfaeTdE0nT8cpHwLQ=s64",
      "userId": "06788086636039591358"
     },
     "user_tz": -330
    },
    "id": "n0FoQQFgfwBw",
    "outputId": "3a5a5549-9a88-461c-dc32-f08a0de2753a"
   },
   "outputs": [
    {
     "data": {
      "text/plain": [
       "0.2524275906432048"
      ]
     },
     "execution_count": 23,
     "metadata": {
      "tags": []
     },
     "output_type": "execute_result"
    }
   ],
   "source": [
    "z_data=(p1-p2)/np.sqrt(pp*(1-pp)*(1/3545+1/607))\n",
    "z_data"
   ]
  },
  {
   "cell_type": "code",
   "execution_count": 12,
   "metadata": {
    "executionInfo": {
     "elapsed": 907,
     "status": "ok",
     "timestamp": 1613575437001,
     "user": {
      "displayName": "Mahesh Anand",
      "photoUrl": "https://lh3.googleusercontent.com/a-/AOh14GgKd7FxLgzXO0MxUwypCgML3QfaeTdE0nT8cpHwLQ=s64",
      "userId": "06788086636039591358"
     },
     "user_tz": -330
    },
    "id": "0ZxkwFs0X6IZ"
   },
   "outputs": [],
   "source": [
    "from statsmodels.stats.proportion import proportions_ztest"
   ]
  },
  {
   "cell_type": "code",
   "execution_count": null,
   "metadata": {
    "colab": {
     "base_uri": "https://localhost:8080/"
    },
    "executionInfo": {
     "elapsed": 918,
     "status": "ok",
     "timestamp": 1613490396770,
     "user": {
      "displayName": "Mahesh Anand",
      "photoUrl": "https://lh3.googleusercontent.com/a-/AOh14GgKd7FxLgzXO0MxUwypCgML3QfaeTdE0nT8cpHwLQ=s64",
      "userId": "06788086636039591358"
     },
     "user_tz": -330
    },
    "id": "TML0I_x5YPno",
    "outputId": "fe81c25d-fb13-44dc-ec19-4aeccd8b6cfe"
   },
   "outputs": [
    {
     "data": {
      "text/plain": [
       "(0.2524275906432048, 0.8007105762350393)"
      ]
     },
     "execution_count": 41,
     "metadata": {
      "tags": []
     },
     "output_type": "execute_result"
    }
   ],
   "source": [
    "proportions_ztest([2279,387],[3545,607])"
   ]
  },
  {
   "cell_type": "code",
   "execution_count": null,
   "metadata": {
    "colab": {
     "base_uri": "https://localhost:8080/"
    },
    "executionInfo": {
     "elapsed": 1166,
     "status": "ok",
     "timestamp": 1613490783370,
     "user": {
      "displayName": "Mahesh Anand",
      "photoUrl": "https://lh3.googleusercontent.com/a-/AOh14GgKd7FxLgzXO0MxUwypCgML3QfaeTdE0nT8cpHwLQ=s64",
      "userId": "06788086636039591358"
     },
     "user_tz": -330
    },
    "id": "G68jW_TXiOYX",
    "outputId": "3fad3cce-3b2b-4a92-8789-197d6395afcd"
   },
   "outputs": [
    {
     "data": {
      "text/plain": [
       "(0.0, 1.0)"
      ]
     },
     "execution_count": 49,
     "metadata": {
      "tags": []
     },
     "output_type": "execute_result"
    }
   ],
   "source": [
    "proportions_ztest(1044,1800,.58) #one sample proportion test"
   ]
  },
  {
   "cell_type": "code",
   "execution_count": 25,
   "metadata": {
    "colab": {
     "base_uri": "https://localhost:8080/"
    },
    "executionInfo": {
     "elapsed": 979,
     "status": "ok",
     "timestamp": 1613576692463,
     "user": {
      "displayName": "Mahesh Anand",
      "photoUrl": "https://lh3.googleusercontent.com/a-/AOh14GgKd7FxLgzXO0MxUwypCgML3QfaeTdE0nT8cpHwLQ=s64",
      "userId": "06788086636039591358"
     },
     "user_tz": -330
    },
    "id": "9RvK4ViBkVRN",
    "outputId": "37188262-8a15-446c-eca0-a7e61ed4cd13"
   },
   "outputs": [
    {
     "data": {
      "text/plain": [
       "(0.0, 1.0)"
      ]
     },
     "execution_count": 25,
     "metadata": {
      "tags": []
     },
     "output_type": "execute_result"
    }
   ],
   "source": [
    "proportions_ztest(900,1500,.6) #one sample proportion test"
   ]
  },
  {
   "cell_type": "code",
   "execution_count": null,
   "metadata": {
    "colab": {
     "base_uri": "https://localhost:8080/"
    },
    "executionInfo": {
     "elapsed": 951,
     "status": "ok",
     "timestamp": 1613490756317,
     "user": {
      "displayName": "Mahesh Anand",
      "photoUrl": "https://lh3.googleusercontent.com/a-/AOh14GgKd7FxLgzXO0MxUwypCgML3QfaeTdE0nT8cpHwLQ=s64",
      "userId": "06788086636039591358"
     },
     "user_tz": -330
    },
    "id": "z6ZN9IM2inWy",
    "outputId": "31da90fa-344c-425c-db67-4f1560424a5f"
   },
   "outputs": [
    {
     "data": {
      "text/plain": [
       "0.58"
      ]
     },
     "execution_count": 48,
     "metadata": {
      "tags": []
     },
     "output_type": "execute_result"
    }
   ],
   "source": [
    "1044/1800"
   ]
  },
  {
   "cell_type": "markdown",
   "metadata": {
    "id": "YmZ70iCaYfvC"
   },
   "source": [
    "Since the p-val >0.05 (5%) it falls in acceptence zone of null hypothesis (Ho) ie., headache proportion is same for male and female patients"
   ]
  },
  {
   "cell_type": "markdown",
   "metadata": {
    "id": "sQxh3HabhXV9"
   },
   "source": [
    "# Chi-square Test\n",
    "* Goodness of fit tests are hypothesis tests that are used for comparing the observed distribution of data with expected distribution of the data to decide whether there is any statistically significant difference between the observed distribution and a theoretical distribution based on the comparison of observed frequencies in the data and the expected frequencies if the data follows a specified theoretical distribution.\n",
    "\n",
    "| Hypothesis | Description                                                           |\n",
    "| ----------- | -------------------------------------------------------------------- |\n",
    "| Null hypothesis | There is no statistically significant difference between the observed frequencies and the expected frequencies from a hypothesized distribution |\n",
    "| Alternative hypothesis | There is statistically significant difference between the observed frequencies and the expected frequencies from a hypothesized distribution |\n"
   ]
  },
  {
   "cell_type": "markdown",
   "metadata": {
    "id": "4v5p15-eidLB"
   },
   "source": [
    "Chi-square statistic for goodness of fit is given by \n",
    "$\\chi^2$ = $\\sum_{i=1}^{n}\\sum_{j=1}^{m}\\frac{({O_{ij}-E_{ij}})^2}{E_{ij}}$"
   ]
  },
  {
   "cell_type": "markdown",
   "metadata": {
    "id": "ffKgEB6qiui0"
   },
   "source": [
    "Load the Migraine dataset and verify whether the type of migraine is dependent on Gender or not "
   ]
  },
  {
   "cell_type": "code",
   "execution_count": null,
   "metadata": {
    "colab": {
     "base_uri": "https://localhost:8080/"
    },
    "executionInfo": {
     "elapsed": 1798,
     "status": "ok",
     "timestamp": 1613492461164,
     "user": {
      "displayName": "Mahesh Anand",
      "photoUrl": "https://lh3.googleusercontent.com/a-/AOh14GgKd7FxLgzXO0MxUwypCgML3QfaeTdE0nT8cpHwLQ=s64",
      "userId": "06788086636039591358"
     },
     "user_tz": -330
    },
    "id": "yfelgx0Rktg_",
    "outputId": "5010a3e5-dc71-4692-82a6-5c76c96c590d"
   },
   "outputs": [
    {
     "data": {
      "text/plain": [
       "No Aura    1985\n",
       "Aura       1710\n",
       "Mixed       457\n",
       "Name: hatype, dtype: int64"
      ]
     },
     "execution_count": 53,
     "metadata": {
      "tags": []
     },
     "output_type": "execute_result"
    }
   ],
   "source": [
    "M['hatype'].value_counts()"
   ]
  },
  {
   "cell_type": "code",
   "execution_count": null,
   "metadata": {
    "colab": {
     "base_uri": "https://localhost:8080/"
    },
    "executionInfo": {
     "elapsed": 1872,
     "status": "ok",
     "timestamp": 1613492493488,
     "user": {
      "displayName": "Mahesh Anand",
      "photoUrl": "https://lh3.googleusercontent.com/a-/AOh14GgKd7FxLgzXO0MxUwypCgML3QfaeTdE0nT8cpHwLQ=s64",
      "userId": "06788086636039591358"
     },
     "user_tz": -330
    },
    "id": "Bf-XWZizk0gN",
    "outputId": "c7ca807e-a9f4-490f-e652-0efc90f38b08"
   },
   "outputs": [
    {
     "data": {
      "text/plain": [
       "female    3545\n",
       "male       607\n",
       "Name: Gender, dtype: int64"
      ]
     },
     "execution_count": 54,
     "metadata": {
      "tags": []
     },
     "output_type": "execute_result"
    }
   ],
   "source": [
    "M['Gender'].value_counts()"
   ]
  },
  {
   "cell_type": "code",
   "execution_count": 26,
   "metadata": {
    "executionInfo": {
     "elapsed": 984,
     "status": "ok",
     "timestamp": 1613577798887,
     "user": {
      "displayName": "Mahesh Anand",
      "photoUrl": "https://lh3.googleusercontent.com/a-/AOh14GgKd7FxLgzXO0MxUwypCgML3QfaeTdE0nT8cpHwLQ=s64",
      "userId": "06788086636039591358"
     },
     "user_tz": -330
    },
    "id": "2WOh264pjlx8"
   },
   "outputs": [],
   "source": [
    "from scipy.stats import chi2_contingency,chisquare"
   ]
  },
  {
   "cell_type": "code",
   "execution_count": 27,
   "metadata": {
    "colab": {
     "base_uri": "https://localhost:8080/",
     "height": 142
    },
    "executionInfo": {
     "elapsed": 934,
     "status": "ok",
     "timestamp": 1613577801019,
     "user": {
      "displayName": "Mahesh Anand",
      "photoUrl": "https://lh3.googleusercontent.com/a-/AOh14GgKd7FxLgzXO0MxUwypCgML3QfaeTdE0nT8cpHwLQ=s64",
      "userId": "06788086636039591358"
     },
     "user_tz": -330
    },
    "id": "Tyw5-HgLjstw",
    "outputId": "07191732-3d17-4de2-93c1-3329ee8ef975"
   },
   "outputs": [
    {
     "data": {
      "text/html": [
       "<div>\n",
       "<style scoped>\n",
       "    .dataframe tbody tr th:only-of-type {\n",
       "        vertical-align: middle;\n",
       "    }\n",
       "\n",
       "    .dataframe tbody tr th {\n",
       "        vertical-align: top;\n",
       "    }\n",
       "\n",
       "    .dataframe thead th {\n",
       "        text-align: right;\n",
       "    }\n",
       "</style>\n",
       "<table border=\"1\" class=\"dataframe\">\n",
       "  <thead>\n",
       "    <tr style=\"text-align: right;\">\n",
       "      <th>hatype</th>\n",
       "      <th>Aura</th>\n",
       "      <th>Mixed</th>\n",
       "      <th>No Aura</th>\n",
       "    </tr>\n",
       "    <tr>\n",
       "      <th>Gender</th>\n",
       "      <th></th>\n",
       "      <th></th>\n",
       "      <th></th>\n",
       "    </tr>\n",
       "  </thead>\n",
       "  <tbody>\n",
       "    <tr>\n",
       "      <th>female</th>\n",
       "      <td>1593</td>\n",
       "      <td>291</td>\n",
       "      <td>1661</td>\n",
       "    </tr>\n",
       "    <tr>\n",
       "      <th>male</th>\n",
       "      <td>117</td>\n",
       "      <td>166</td>\n",
       "      <td>324</td>\n",
       "    </tr>\n",
       "  </tbody>\n",
       "</table>\n",
       "</div>"
      ],
      "text/plain": [
       "hatype  Aura  Mixed  No Aura\n",
       "Gender                      \n",
       "female  1593    291     1661\n",
       "male     117    166      324"
      ]
     },
     "execution_count": 27,
     "metadata": {
      "tags": []
     },
     "output_type": "execute_result"
    }
   ],
   "source": [
    "CT=pd.crosstab(M['Gender'],M['hatype'])\n",
    "CT"
   ]
  },
  {
   "cell_type": "code",
   "execution_count": 28,
   "metadata": {
    "colab": {
     "base_uri": "https://localhost:8080/"
    },
    "executionInfo": {
     "elapsed": 1106,
     "status": "ok",
     "timestamp": 1613577867420,
     "user": {
      "displayName": "Mahesh Anand",
      "photoUrl": "https://lh3.googleusercontent.com/a-/AOh14GgKd7FxLgzXO0MxUwypCgML3QfaeTdE0nT8cpHwLQ=s64",
      "userId": "06788086636039591358"
     },
     "user_tz": -330
    },
    "id": "NZTaky2XpgPk",
    "outputId": "0e5c717f-fa08-46e7-dfd7-4feb2328e2cf"
   },
   "outputs": [
    {
     "data": {
      "text/plain": [
       "(0.44936530324400564, 0.08208744710860366, 0.4685472496473907)"
      ]
     },
     "execution_count": 28,
     "metadata": {
      "tags": []
     },
     "output_type": "execute_result"
    }
   ],
   "source": [
    "1593/3545,291/3545,1661/3545"
   ]
  },
  {
   "cell_type": "code",
   "execution_count": 29,
   "metadata": {
    "colab": {
     "base_uri": "https://localhost:8080/"
    },
    "executionInfo": {
     "elapsed": 902,
     "status": "ok",
     "timestamp": 1613577893280,
     "user": {
      "displayName": "Mahesh Anand",
      "photoUrl": "https://lh3.googleusercontent.com/a-/AOh14GgKd7FxLgzXO0MxUwypCgML3QfaeTdE0nT8cpHwLQ=s64",
      "userId": "06788086636039591358"
     },
     "user_tz": -330
    },
    "id": "7dP7LLIupuvO",
    "outputId": "16fb3cd9-b19f-4c29-c5f4-e3d61c36f30c"
   },
   "outputs": [
    {
     "data": {
      "text/plain": [
       "(0.1927512355848435, 0.27347611202635913, 0.5337726523887973)"
      ]
     },
     "execution_count": 29,
     "metadata": {
      "tags": []
     },
     "output_type": "execute_result"
    }
   ],
   "source": [
    "117/607,166/607,324/607"
   ]
  },
  {
   "cell_type": "code",
   "execution_count": 30,
   "metadata": {
    "colab": {
     "base_uri": "https://localhost:8080/"
    },
    "executionInfo": {
     "elapsed": 877,
     "status": "ok",
     "timestamp": 1613577968291,
     "user": {
      "displayName": "Mahesh Anand",
      "photoUrl": "https://lh3.googleusercontent.com/a-/AOh14GgKd7FxLgzXO0MxUwypCgML3QfaeTdE0nT8cpHwLQ=s64",
      "userId": "06788086636039591358"
     },
     "user_tz": -330
    },
    "id": "R1WdOkiIvTRB",
    "outputId": "ecb6cebc-e7db-40e0-b33b-cafec7e01bac"
   },
   "outputs": [
    {
     "data": {
      "text/plain": [
       "(259.94962922327386,\n",
       " 3.569893234435195e-57,\n",
       " 2,\n",
       " array([[1460.00722543,  390.18906551, 1694.80370906],\n",
       "        [ 249.99277457,   66.81093449,  290.19629094]]))"
      ]
     },
     "execution_count": 30,
     "metadata": {
      "tags": []
     },
     "output_type": "execute_result"
    }
   ],
   "source": [
    "chi2_contingency(CT)"
   ]
  },
  {
   "cell_type": "markdown",
   "metadata": {
    "id": "1ntk4bV7uAuq"
   },
   "source": [
    "Post-hoc Analysis\n",
    "* Female are highly sensitive to aura \n",
    "* Male are highly sensitive to mixed"
   ]
  },
  {
   "cell_type": "code",
   "execution_count": 31,
   "metadata": {
    "colab": {
     "base_uri": "https://localhost:8080/"
    },
    "executionInfo": {
     "elapsed": 1107,
     "status": "ok",
     "timestamp": 1613578067733,
     "user": {
      "displayName": "Mahesh Anand",
      "photoUrl": "https://lh3.googleusercontent.com/a-/AOh14GgKd7FxLgzXO0MxUwypCgML3QfaeTdE0nT8cpHwLQ=s64",
      "userId": "06788086636039591358"
     },
     "user_tz": -330
    },
    "id": "Nfb2JqLgp871",
    "outputId": "e27d5002-8808-41e4-af04-e86f05506156"
   },
   "outputs": [
    {
     "data": {
      "text/plain": [
       "1460.007225433526"
      ]
     },
     "execution_count": 31,
     "metadata": {
      "tags": []
     },
     "output_type": "execute_result"
    }
   ],
   "source": [
    "#Expected Frequencies\n",
    "(3545*1710)/M.shape[0]"
   ]
  },
  {
   "cell_type": "code",
   "execution_count": 32,
   "metadata": {
    "colab": {
     "base_uri": "https://localhost:8080/"
    },
    "executionInfo": {
     "elapsed": 998,
     "status": "ok",
     "timestamp": 1613578088388,
     "user": {
      "displayName": "Mahesh Anand",
      "photoUrl": "https://lh3.googleusercontent.com/a-/AOh14GgKd7FxLgzXO0MxUwypCgML3QfaeTdE0nT8cpHwLQ=s64",
      "userId": "06788086636039591358"
     },
     "user_tz": -330
    },
    "id": "2WF3cNxlqmVL",
    "outputId": "3b760b9e-63cd-4ffd-f50b-383050284212"
   },
   "outputs": [
    {
     "data": {
      "text/plain": [
       "390.1890655105973"
      ]
     },
     "execution_count": 32,
     "metadata": {
      "tags": []
     },
     "output_type": "execute_result"
    }
   ],
   "source": [
    "(3545*457)/M.shape[0]"
   ]
  },
  {
   "cell_type": "code",
   "execution_count": null,
   "metadata": {
    "colab": {
     "base_uri": "https://localhost:8080/"
    },
    "executionInfo": {
     "elapsed": 918,
     "status": "ok",
     "timestamp": 1613492887913,
     "user": {
      "displayName": "Mahesh Anand",
      "photoUrl": "https://lh3.googleusercontent.com/a-/AOh14GgKd7FxLgzXO0MxUwypCgML3QfaeTdE0nT8cpHwLQ=s64",
      "userId": "06788086636039591358"
     },
     "user_tz": -330
    },
    "id": "IA23QhXgqmYt",
    "outputId": "d163a992-5b7b-49a6-a8fa-2098fa4a4d1b"
   },
   "outputs": [
    {
     "data": {
      "text/plain": [
       "1694.8037090558767"
      ]
     },
     "execution_count": 61,
     "metadata": {
      "tags": []
     },
     "output_type": "execute_result"
    }
   ],
   "source": [
    "(3545*1985)/M.shape[0]"
   ]
  },
  {
   "cell_type": "code",
   "execution_count": null,
   "metadata": {
    "colab": {
     "base_uri": "https://localhost:8080/"
    },
    "executionInfo": {
     "elapsed": 889,
     "status": "ok",
     "timestamp": 1613492965201,
     "user": {
      "displayName": "Mahesh Anand",
      "photoUrl": "https://lh3.googleusercontent.com/a-/AOh14GgKd7FxLgzXO0MxUwypCgML3QfaeTdE0nT8cpHwLQ=s64",
      "userId": "06788086636039591358"
     },
     "user_tz": -330
    },
    "id": "3x-fDP2pqmg1",
    "outputId": "696b5476-6d7b-4f60-9294-574e27fcf1cc"
   },
   "outputs": [
    {
     "data": {
      "text/plain": [
       "249.992774566474"
      ]
     },
     "execution_count": 62,
     "metadata": {
      "tags": []
     },
     "output_type": "execute_result"
    }
   ],
   "source": [
    "(607*1710)/M.shape[0]"
   ]
  },
  {
   "cell_type": "code",
   "execution_count": null,
   "metadata": {
    "colab": {
     "base_uri": "https://localhost:8080/"
    },
    "executionInfo": {
     "elapsed": 1038,
     "status": "ok",
     "timestamp": 1613492999612,
     "user": {
      "displayName": "Mahesh Anand",
      "photoUrl": "https://lh3.googleusercontent.com/a-/AOh14GgKd7FxLgzXO0MxUwypCgML3QfaeTdE0nT8cpHwLQ=s64",
      "userId": "06788086636039591358"
     },
     "user_tz": -330
    },
    "id": "v3ueusBrqmlz",
    "outputId": "2850b1dd-5b9f-4c47-942b-20fd1e40b474"
   },
   "outputs": [
    {
     "data": {
      "text/plain": [
       "66.8109344894027"
      ]
     },
     "execution_count": 63,
     "metadata": {
      "tags": []
     },
     "output_type": "execute_result"
    }
   ],
   "source": [
    "(607*457)/M.shape[0]"
   ]
  },
  {
   "cell_type": "code",
   "execution_count": null,
   "metadata": {
    "colab": {
     "base_uri": "https://localhost:8080/"
    },
    "executionInfo": {
     "elapsed": 942,
     "status": "ok",
     "timestamp": 1613493007813,
     "user": {
      "displayName": "Mahesh Anand",
      "photoUrl": "https://lh3.googleusercontent.com/a-/AOh14GgKd7FxLgzXO0MxUwypCgML3QfaeTdE0nT8cpHwLQ=s64",
      "userId": "06788086636039591358"
     },
     "user_tz": -330
    },
    "id": "maS3Ii-vqmoc",
    "outputId": "805f0061-7d75-4a2f-9cd3-8f34d86224b6"
   },
   "outputs": [
    {
     "data": {
      "text/plain": [
       "290.1962909441233"
      ]
     },
     "execution_count": 64,
     "metadata": {
      "tags": []
     },
     "output_type": "execute_result"
    }
   ],
   "source": [
    "(607*1985)/M.shape[0]"
   ]
  },
  {
   "cell_type": "code",
   "execution_count": null,
   "metadata": {
    "colab": {
     "base_uri": "https://localhost:8080/"
    },
    "executionInfo": {
     "elapsed": 1440,
     "status": "ok",
     "timestamp": 1611729505788,
     "user": {
      "displayName": "Mahesh Anand",
      "photoUrl": "https://lh3.googleusercontent.com/a-/AOh14GiAxRvO4nLPhI4SJLaIoUVmhr8lm1tddyCLyKOj=s64",
      "userId": "06788086636039591358"
     },
     "user_tz": -330
    },
    "id": "rInRyOrBjz7N",
    "outputId": "8c03fc2a-f1dd-4a76-8092-73277a95a368"
   },
   "outputs": [
    {
     "data": {
      "text/plain": [
       "(0.44936530324400564, 0.1927512355848435)"
      ]
     },
     "execution_count": 12,
     "metadata": {
      "tags": []
     },
     "output_type": "execute_result"
    }
   ],
   "source": [
    "#Prop of Aura\n",
    "1593/3545,117/607"
   ]
  },
  {
   "cell_type": "code",
   "execution_count": null,
   "metadata": {
    "colab": {
     "base_uri": "https://localhost:8080/"
    },
    "executionInfo": {
     "elapsed": 1498,
     "status": "ok",
     "timestamp": 1611747908887,
     "user": {
      "displayName": "Mahesh Anand",
      "photoUrl": "https://lh3.googleusercontent.com/a-/AOh14GiAxRvO4nLPhI4SJLaIoUVmhr8lm1tddyCLyKOj=s64",
      "userId": "06788086636039591358"
     },
     "user_tz": -330
    },
    "id": "iAsk0ycskJco",
    "outputId": "00fda69c-aa67-44ff-b650-77fbd4b30d3b"
   },
   "outputs": [
    {
     "data": {
      "text/plain": [
       "(0.08208744710860366, 0.27347611202635913)"
      ]
     },
     "execution_count": 60,
     "metadata": {
      "tags": []
     },
     "output_type": "execute_result"
    }
   ],
   "source": [
    "#Prop of Mixed type\n",
    "291/3545,166/607"
   ]
  },
  {
   "cell_type": "code",
   "execution_count": null,
   "metadata": {
    "colab": {
     "base_uri": "https://localhost:8080/"
    },
    "executionInfo": {
     "elapsed": 1351,
     "status": "ok",
     "timestamp": 1611747910883,
     "user": {
      "displayName": "Mahesh Anand",
      "photoUrl": "https://lh3.googleusercontent.com/a-/AOh14GiAxRvO4nLPhI4SJLaIoUVmhr8lm1tddyCLyKOj=s64",
      "userId": "06788086636039591358"
     },
     "user_tz": -330
    },
    "id": "ovnHFBxSkSUA",
    "outputId": "8f57b469-a4b7-4be2-a0c9-378aabc26d7d"
   },
   "outputs": [
    {
     "data": {
      "text/plain": [
       "(0.4685472496473907, 0.5337726523887973)"
      ]
     },
     "execution_count": 61,
     "metadata": {
      "tags": []
     },
     "output_type": "execute_result"
    }
   ],
   "source": [
    "#Prop of No-Aura\n",
    "1661/3545,324/607"
   ]
  },
  {
   "cell_type": "code",
   "execution_count": null,
   "metadata": {
    "colab": {
     "base_uri": "https://localhost:8080/"
    },
    "executionInfo": {
     "elapsed": 923,
     "status": "ok",
     "timestamp": 1613493088606,
     "user": {
      "displayName": "Mahesh Anand",
      "photoUrl": "https://lh3.googleusercontent.com/a-/AOh14GgKd7FxLgzXO0MxUwypCgML3QfaeTdE0nT8cpHwLQ=s64",
      "userId": "06788086636039591358"
     },
     "user_tz": -330
    },
    "id": "O-vYufPPkiOs",
    "outputId": "e4c48dc9-6d30-4291-dfd0-fe2346335667"
   },
   "outputs": [
    {
     "data": {
      "text/plain": [
       "(259.94962922327386,\n",
       " 3.569893234435195e-57,\n",
       " 2,\n",
       " array([[1460.00722543,  390.18906551, 1694.80370906],\n",
       "        [ 249.99277457,   66.81093449,  290.19629094]]))"
      ]
     },
     "execution_count": 67,
     "metadata": {
      "tags": []
     },
     "output_type": "execute_result"
    }
   ],
   "source": [
    "chi2_contingency(CT)"
   ]
  },
  {
   "cell_type": "code",
   "execution_count": 33,
   "metadata": {
    "executionInfo": {
     "elapsed": 1075,
     "status": "ok",
     "timestamp": 1613578212973,
     "user": {
      "displayName": "Mahesh Anand",
      "photoUrl": "https://lh3.googleusercontent.com/a-/AOh14GgKd7FxLgzXO0MxUwypCgML3QfaeTdE0nT8cpHwLQ=s64",
      "userId": "06788086636039591358"
     },
     "user_tz": -330
    },
    "id": "MfjA284vkpcv"
   },
   "outputs": [],
   "source": [
    "oc=np.array([1593,117,291,166,1661,324])\n",
    "ec=np.array([1460.00722543,249.99277457,390.18906551, 66.81093449,1694.80370906,290.19629094])"
   ]
  },
  {
   "cell_type": "code",
   "execution_count": 34,
   "metadata": {
    "colab": {
     "base_uri": "https://localhost:8080/"
    },
    "executionInfo": {
     "elapsed": 769,
     "status": "ok",
     "timestamp": 1613578214105,
     "user": {
      "displayName": "Mahesh Anand",
      "photoUrl": "https://lh3.googleusercontent.com/a-/AOh14GgKd7FxLgzXO0MxUwypCgML3QfaeTdE0nT8cpHwLQ=s64",
      "userId": "06788086636039591358"
     },
     "user_tz": -330
    },
    "id": "xsberWXTktei",
    "outputId": "9caa2f64-dd04-405a-ea0c-f19123a0098e"
   },
   "outputs": [
    {
     "data": {
      "text/plain": [
       "259.9496292245235"
      ]
     },
     "execution_count": 34,
     "metadata": {
      "tags": []
     },
     "output_type": "execute_result"
    }
   ],
   "source": [
    "np.sum((oc-ec)**2/ec)"
   ]
  },
  {
   "cell_type": "markdown",
   "metadata": {
    "id": "oNbZUb_kk7uV"
   },
   "source": [
    "* P-val <0.05, which rejects Ho, ie., there is a significant difference in proportions of migraine type among male and female \n",
    "* We can do the post-hoc analysis and infer the characteristics of migraine types\n"
   ]
  }
 ],
 "metadata": {
  "colab": {
   "authorship_tag": "ABX9TyP+fVPk9yJ5Fc8lmO+fNEn0",
   "collapsed_sections": [],
   "name": "Session5_proportion_and_chi_sq_test.ipynb",
   "provenance": []
  },
  "kernelspec": {
   "display_name": "Python 3",
   "language": "python",
   "name": "python3"
  },
  "language_info": {
   "codemirror_mode": {
    "name": "ipython",
    "version": 3
   },
   "file_extension": ".py",
   "mimetype": "text/x-python",
   "name": "python",
   "nbconvert_exporter": "python",
   "pygments_lexer": "ipython3",
   "version": "3.8.5"
  }
 },
 "nbformat": 4,
 "nbformat_minor": 1
}
