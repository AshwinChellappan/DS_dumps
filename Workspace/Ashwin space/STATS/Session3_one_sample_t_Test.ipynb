{
 "cells": [
  {
   "cell_type": "code",
   "execution_count": 1,
   "metadata": {
    "executionInfo": {
     "elapsed": 3119,
     "status": "ok",
     "timestamp": 1612888553111,
     "user": {
      "displayName": "Mahesh Anand",
      "photoUrl": "https://lh3.googleusercontent.com/a-/AOh14GgKd7FxLgzXO0MxUwypCgML3QfaeTdE0nT8cpHwLQ=s64",
      "userId": "06788086636039591358"
     },
     "user_tz": -330
    },
    "id": "g8XXIZYFks51"
   },
   "outputs": [],
   "source": [
    "import numpy as np\n",
    "import pandas as pd\n",
    "import scipy.stats as stats\n",
    "from scipy.stats import skewnorm\n",
    "import matplotlib.pyplot as plt\n",
    "%matplotlib inline"
   ]
  },
  {
   "cell_type": "code",
   "execution_count": 23,
   "metadata": {
    "executionInfo": {
     "elapsed": 2521,
     "status": "ok",
     "timestamp": 1612888553527,
     "user": {
      "displayName": "Mahesh Anand",
      "photoUrl": "https://lh3.googleusercontent.com/a-/AOh14GgKd7FxLgzXO0MxUwypCgML3QfaeTdE0nT8cpHwLQ=s64",
      "userId": "06788086636039591358"
     },
     "user_tz": -330
    },
    "id": "MVSh2bwyLA_p"
   },
   "outputs": [],
   "source": [
    "import warnings\n",
    "warnings.filterwarnings('ignore')"
   ]
  },
  {
   "cell_type": "markdown",
   "metadata": {
    "id": "6KpP72bvZ6lV"
   },
   "source": [
    "#Central Limit Theorem\n",
    "* CLT states that for a large sample drawn from a population with mean $\\mu$ and standard deviation $\\sigma$, the sampling distribution of mean, follows an approximate normal distribution with mean, μ and standard error σ / √(n) irrespective of the distribution of the population for large sample size.\n",
    "\n",
    "* As a general rule, statisticians have found that for any population distribution, when the sample size is at least 30 & above, the sampling distribution of the mean is approximately **normal.**\n"
   ]
  },
  {
   "cell_type": "code",
   "execution_count": 2,
   "metadata": {
    "colab": {
     "base_uri": "https://localhost:8080/",
     "height": 315
    },
    "executionInfo": {
     "elapsed": 1975,
     "status": "ok",
     "timestamp": 1612888556723,
     "user": {
      "displayName": "Mahesh Anand",
      "photoUrl": "https://lh3.googleusercontent.com/a-/AOh14GgKd7FxLgzXO0MxUwypCgML3QfaeTdE0nT8cpHwLQ=s64",
      "userId": "06788086636039591358"
     },
     "user_tz": -330
    },
    "id": "YQMOorL9DZG9",
    "outputId": "41a60040-2b1c-4248-ef94-86e3ed93738f"
   },
   "outputs": [
    {
     "data": {
      "text/plain": [
       "array([[<AxesSubplot:title={'center':'0'}>]], dtype=object)"
      ]
     },
     "execution_count": 2,
     "metadata": {},
     "output_type": "execute_result"
    },
    {
     "data": {
      "image/png": "[encoded data removed]",
      "text/plain": [
       "<Figure size 432x288 with 1 Axes>"
      ]
     },
     "metadata": {
      "needs_background": "light"
     },
     "output_type": "display_data"
    }
   ],
   "source": [
    "#Let us simulate the population (N=5000) of delivery time of food delivery company with the following specification\n",
    "#Mean=60 min ,standard_deviation=20min\n",
    "pop_skewed=skewnorm.rvs(7,size=50000)\n",
    "pop_skewed_df=pd.DataFrame(pop_skewed)\n",
    "pop_skewed_df.hist()"
   ]
  },
  {
   "cell_type": "code",
   "execution_count": 7,
   "metadata": {
    "colab": {
     "base_uri": "https://localhost:8080/"
    },
    "executionInfo": {
     "elapsed": 1233,
     "status": "ok",
     "timestamp": 1612882737458,
     "user": {
      "displayName": "Mahesh Anand",
      "photoUrl": "https://lh3.googleusercontent.com/a-/AOh14GgKd7FxLgzXO0MxUwypCgML3QfaeTdE0nT8cpHwLQ=s64",
      "userId": "06788086636039591358"
     },
     "user_tz": -330
    },
    "id": "11u8eauAkNCr",
    "outputId": "0ffd833d-c0c4-4df6-da06-739023051736"
   },
   "outputs": [
    {
     "data": {
      "text/plain": [
       "0    0.906077\n",
       "dtype: float64"
      ]
     },
     "execution_count": 7,
     "metadata": {
      "tags": []
     },
     "output_type": "execute_result"
    }
   ],
   "source": [
    "pop_skewed_df.skew()"
   ]
  },
  {
   "cell_type": "code",
   "execution_count": 25,
   "metadata": {
    "colab": {
     "base_uri": "https://localhost:8080/"
    },
    "executionInfo": {
     "elapsed": 1995,
     "status": "ok",
     "timestamp": 1612888563404,
     "user": {
      "displayName": "Mahesh Anand",
      "photoUrl": "https://lh3.googleusercontent.com/a-/AOh14GgKd7FxLgzXO0MxUwypCgML3QfaeTdE0nT8cpHwLQ=s64",
      "userId": "06788086636039591358"
     },
     "user_tz": -330
    },
    "id": "xyfdMvpV_Ttd",
    "outputId": "81eb6f6e-59da-41a2-cbf8-f87614377e13"
   },
   "outputs": [
    {
     "data": {
      "text/plain": [
       "array([-0.39543272,  0.02856669, -0.49359777, -0.12292297,  0.21653471,\n",
       "       -0.45869689,  0.49339455, -0.29905773,  1.08431335,  2.04875819,\n",
       "        0.67991579, -0.88387084, -0.05141271,  0.36357622, -0.43847339,\n",
       "       -0.06886795, -1.25784609,  0.67384976,  1.58043222, -0.56777726,\n",
       "       -0.60350349, -1.04470122, -0.27211555,  0.55491037, -1.21991384,\n",
       "       -0.62979979,  0.82172777,  0.40880364,  0.41838561,  1.61815737,\n",
       "        1.04441038, -1.21490041, -1.11965455,  0.12574523, -1.39915743,\n",
       "       -1.25383568,  0.36430638,  0.87107486,  0.97939254, -0.45318494,\n",
       "       -0.89735164, -0.90836747,  0.46296362, -1.82882981, -0.6014151 ,\n",
       "        0.12313355, -0.79177815,  0.72756371,  0.01213541,  0.43454622])"
      ]
     },
     "execution_count": 25,
     "metadata": {
      "tags": []
     },
     "output_type": "execute_result"
    }
   ],
   "source": [
    "import random\n",
    "dtime=np.random.randn(5000)\n",
    "dtime[:50]"
   ]
  },
  {
   "cell_type": "code",
   "execution_count": null,
   "metadata": {
    "colab": {
     "base_uri": "https://localhost:8080/",
     "height": 315
    },
    "executionInfo": {
     "elapsed": 1484,
     "status": "ok",
     "timestamp": 1611574087987,
     "user": {
      "displayName": "Mahesh Anand",
      "photoUrl": "https://lh3.googleusercontent.com/a-/AOh14GiAxRvO4nLPhI4SJLaIoUVmhr8lm1tddyCLyKOj=s64",
      "userId": "06788086636039591358"
     },
     "user_tz": -330
    },
    "id": "yGzoGIWy_jMx",
    "outputId": "6c79c055-2868-49db-f4d3-6ae99771cc1d"
   },
   "outputs": [
    {
     "data": {
      "text/plain": [
       "array([[<matplotlib.axes._subplots.AxesSubplot object at 0x7f5869fdf2b0>]],\n",
       "      dtype=object)"
      ]
     },
     "execution_count": 40,
     "metadata": {
      "tags": []
     },
     "output_type": "execute_result"
    },
    {
     "data": {
      "image/png": "[encoded data removed]",
      "text/plain": [
       "<Figure size 432x288 with 1 Axes>"
      ]
     },
     "metadata": {
      "needs_background": "light",
      "tags": []
     },
     "output_type": "display_data"
    }
   ],
   "source": [
    "dtime_df=pd.DataFrame(dtime)\n",
    "dtime_df.hist()"
   ]
  },
  {
   "cell_type": "code",
   "execution_count": 26,
   "metadata": {
    "colab": {
     "base_uri": "https://localhost:8080/"
    },
    "executionInfo": {
     "elapsed": 1874,
     "status": "ok",
     "timestamp": 1612888582219,
     "user": {
      "displayName": "Mahesh Anand",
      "photoUrl": "https://lh3.googleusercontent.com/a-/AOh14GgKd7FxLgzXO0MxUwypCgML3QfaeTdE0nT8cpHwLQ=s64",
      "userId": "06788086636039591358"
     },
     "user_tz": -330
    },
    "id": "dH1QyDxHBhqc",
    "outputId": "a5bdb394-a063-4b49-ba37-5f7c17069e5d"
   },
   "outputs": [
    {
     "data": {
      "text/plain": [
       "array([749137.12811536, 691626.59879427, 754723.72781419, 687438.6569944 ,\n",
       "       731874.16261479, 687776.59951215, 684198.33008517, 678724.89928259,\n",
       "       696353.87147768, 704619.43019409, 764638.83055503, 689618.99438769,\n",
       "       697401.74093708, 699677.04609911, 704638.0287711 , 680930.49644295,\n",
       "       716236.11626228, 694407.51870331, 673476.46695612, 713511.57009729,\n",
       "       734672.60977538, 757476.28364956, 689366.09765653, 739525.48508047,\n",
       "       692642.92856149, 687623.76791818, 785742.4013049 , 700214.24072098,\n",
       "       729075.02460435, 709054.65448348, 700001.33501638, 684501.24818989,\n",
       "       733226.70637699, 681044.47629105, 701755.65759032, 692200.29224257,\n",
       "       701945.44888782, 736430.91181564, 710459.45070905, 694784.2630206 ,\n",
       "       707606.7535224 , 670455.85405403, 729259.04074758, 689400.05837784,\n",
       "       690428.05323686, 777777.36973378, 694107.65220073, 686268.62227001,\n",
       "       740536.04644897, 687921.55177946, 706824.40836008, 709495.08167768,\n",
       "       682165.67822083, 748583.61275232, 773044.72528549, 679524.18296519,\n",
       "       709650.22523089, 688443.86594368, 701455.88012303, 685167.05446772,\n",
       "       720868.02581471, 709867.01021752, 687799.53636687, 666765.82671284,\n",
       "       753062.1039134 , 683601.62121885, 693714.47863187, 753755.217839  ,\n",
       "       695126.0442992 , 686881.19171522, 730166.19699854, 687151.12024565,\n",
       "       728197.55829702, 774119.17714239, 711771.35870055, 727104.41764361,\n",
       "       703719.46221941, 721350.18215787, 680834.64441723, 682479.7637229 ,\n",
       "       688231.75470134, 710728.66048482, 695601.16353685, 702772.0638699 ,\n",
       "       700845.17650423, 690246.99278306, 720489.6072847 , 676134.31752801,\n",
       "       679184.21327045, 688890.24775756, 706473.89825504, 680703.93151359,\n",
       "       667147.4385214 , 725172.55185038, 672120.1345178 , 705391.09557101,\n",
       "       701459.99069952, 730333.37757485, 682481.91308063, 724515.48932942])"
      ]
     },
     "execution_count": 26,
     "metadata": {
      "tags": []
     },
     "output_type": "execute_result"
    }
   ],
   "source": [
    "#convert all 50,000 samples in time scale (pop_mean=709584)\n",
    "pop=pop_skewed*40000+678000\n",
    "pop[:100]"
   ]
  },
  {
   "cell_type": "code",
   "execution_count": 27,
   "metadata": {
    "colab": {
     "base_uri": "https://localhost:8080/"
    },
    "executionInfo": {
     "elapsed": 1062,
     "status": "ok",
     "timestamp": 1612888586165,
     "user": {
      "displayName": "Mahesh Anand",
      "photoUrl": "https://lh3.googleusercontent.com/a-/AOh14GgKd7FxLgzXO0MxUwypCgML3QfaeTdE0nT8cpHwLQ=s64",
      "userId": "06788086636039591358"
     },
     "user_tz": -330
    },
    "id": "NfMSFpDJB0bM",
    "outputId": "04140ad7-f1ec-4bc9-e1ac-f7ab658ad44b"
   },
   "outputs": [
    {
     "data": {
      "text/plain": [
       "(709701.666329538, 24515.679325867673)"
      ]
     },
     "execution_count": 27,
     "metadata": {
      "tags": []
     },
     "output_type": "execute_result"
    }
   ],
   "source": [
    "#True mean (pop)\n",
    "np.mean(pop),np.std(pop,ddof=1)"
   ]
  },
  {
   "cell_type": "code",
   "execution_count": 28,
   "metadata": {
    "executionInfo": {
     "elapsed": 1194,
     "status": "ok",
     "timestamp": 1612888611505,
     "user": {
      "displayName": "Mahesh Anand",
      "photoUrl": "https://lh3.googleusercontent.com/a-/AOh14GgKd7FxLgzXO0MxUwypCgML3QfaeTdE0nT8cpHwLQ=s64",
      "userId": "06788086636039591358"
     },
     "user_tz": -330
    },
    "id": "17iw-RgnptqZ"
   },
   "outputs": [],
   "source": [
    "from scipy.stats import ttest_1samp"
   ]
  },
  {
   "cell_type": "code",
   "execution_count": 31,
   "metadata": {
    "colab": {
     "base_uri": "https://localhost:8080/"
    },
    "executionInfo": {
     "elapsed": 1114,
     "status": "ok",
     "timestamp": 1612888677575,
     "user": {
      "displayName": "Mahesh Anand",
      "photoUrl": "https://lh3.googleusercontent.com/a-/AOh14GgKd7FxLgzXO0MxUwypCgML3QfaeTdE0nT8cpHwLQ=s64",
      "userId": "06788086636039591358"
     },
     "user_tz": -330
    },
    "id": "HaLh3ILip_wM",
    "outputId": "7b82de4b-981b-4154-f51a-8296fcb67333"
   },
   "outputs": [
    {
     "data": {
      "text/plain": [
       "710021.2776104624"
      ]
     },
     "execution_count": 31,
     "metadata": {
      "tags": []
     },
     "output_type": "execute_result"
    }
   ],
   "source": [
    "np.mean(samp)"
   ]
  },
  {
   "cell_type": "code",
   "execution_count": 32,
   "metadata": {
    "colab": {
     "base_uri": "https://localhost:8080/"
    },
    "executionInfo": {
     "elapsed": 1082,
     "status": "ok",
     "timestamp": 1612888689869,
     "user": {
      "displayName": "Mahesh Anand",
      "photoUrl": "https://lh3.googleusercontent.com/a-/AOh14GgKd7FxLgzXO0MxUwypCgML3QfaeTdE0nT8cpHwLQ=s64",
      "userId": "06788086636039591358"
     },
     "user_tz": -330
    },
    "id": "esoBGOrfqD1Q",
    "outputId": "5db5fe9f-31b5-4d6d-d8f2-b9d48f2feed0"
   },
   "outputs": [
    {
     "data": {
      "text/plain": [
       "500"
      ]
     },
     "execution_count": 32,
     "metadata": {
      "tags": []
     },
     "output_type": "execute_result"
    }
   ],
   "source": [
    "len(samp)"
   ]
  },
  {
   "cell_type": "code",
   "execution_count": 34,
   "metadata": {
    "colab": {
     "base_uri": "https://localhost:8080/"
    },
    "executionInfo": {
     "elapsed": 1122,
     "status": "ok",
     "timestamp": 1612888704779,
     "user": {
      "displayName": "Mahesh Anand",
      "photoUrl": "https://lh3.googleusercontent.com/a-/AOh14GgKd7FxLgzXO0MxUwypCgML3QfaeTdE0nT8cpHwLQ=s64",
      "userId": "06788086636039591358"
     },
     "user_tz": -330
    },
    "id": "pog-_Av_qGPS",
    "outputId": "250a918b-fe22-472d-96ac-9be6bc9cc0cd"
   },
   "outputs": [
    {
     "data": {
      "text/plain": [
       "1073.369171993358"
      ]
     },
     "execution_count": 34,
     "metadata": {
      "tags": []
     },
     "output_type": "execute_result"
    }
   ],
   "source": [
    "SEM"
   ]
  },
  {
   "cell_type": "markdown",
   "metadata": {
    "id": "0pPweMARqgF5"
   },
   "source": [
    "Ho: pop(mean) = 720000\n",
    "Ha: Pop(mean) != 720000"
   ]
  },
  {
   "cell_type": "code",
   "execution_count": 35,
   "metadata": {
    "colab": {
     "base_uri": "https://localhost:8080/"
    },
    "executionInfo": {
     "elapsed": 1071,
     "status": "ok",
     "timestamp": 1612888786993,
     "user": {
      "displayName": "Mahesh Anand",
      "photoUrl": "https://lh3.googleusercontent.com/a-/AOh14GgKd7FxLgzXO0MxUwypCgML3QfaeTdE0nT8cpHwLQ=s64",
      "userId": "06788086636039591358"
     },
     "user_tz": -330
    },
    "id": "q3ZssEXGpx0G",
    "outputId": "c0695d9b-6418-42ec-d685-964c581a2b50"
   },
   "outputs": [
    {
     "data": {
      "text/plain": [
       "Ttest_1sampResult(statistic=-9.27679922704918, pvalue=5.293632917263714e-19)"
      ]
     },
     "execution_count": 35,
     "metadata": {
      "tags": []
     },
     "output_type": "execute_result"
    }
   ],
   "source": [
    "ttest_1samp(samp,720000)"
   ]
  },
  {
   "cell_type": "markdown",
   "metadata": {
    "id": "eGY44Vf4qmeV"
   },
   "source": [
    "since,p-val<5% (0.05) we reject H0, which implies our sample doesn't represent 720000"
   ]
  },
  {
   "cell_type": "code",
   "execution_count": 37,
   "metadata": {
    "colab": {
     "base_uri": "https://localhost:8080/"
    },
    "executionInfo": {
     "elapsed": 1515,
     "status": "ok",
     "timestamp": 1612888935312,
     "user": {
      "displayName": "Mahesh Anand",
      "photoUrl": "https://lh3.googleusercontent.com/a-/AOh14GgKd7FxLgzXO0MxUwypCgML3QfaeTdE0nT8cpHwLQ=s64",
      "userId": "06788086636039591358"
     },
     "user_tz": -330
    },
    "id": "etuRAtOxq5Lh",
    "outputId": "8cc40c76-a412-4e47-ccde-2f68d1ad3aa6"
   },
   "outputs": [
    {
     "data": {
      "text/plain": [
       "Ttest_1sampResult(statistic=-0.9098771117510696, pvalue=0.36332659503768683)"
      ]
     },
     "execution_count": 37,
     "metadata": {
      "tags": []
     },
     "output_type": "execute_result"
    }
   ],
   "source": [
    "ttest_1samp(samp,711000)"
   ]
  },
  {
   "cell_type": "code",
   "execution_count": null,
   "metadata": {
    "id": "0nPtzXV5q8ij"
   },
   "outputs": [],
   "source": []
  },
  {
   "cell_type": "markdown",
   "metadata": {
    "id": "Ne_Qeeiuzj4p"
   },
   "source": [
    "* We need to estimate the true mean of the above population as close as possible\n",
    "* Practically point estimate is impossible, we can do a closer prediction with range estimate with different confidence interval levels\n"
   ]
  },
  {
   "cell_type": "code",
   "execution_count": 10,
   "metadata": {
    "executionInfo": {
     "elapsed": 1259,
     "status": "ok",
     "timestamp": 1612882910864,
     "user": {
      "displayName": "Mahesh Anand",
      "photoUrl": "https://lh3.googleusercontent.com/a-/AOh14GgKd7FxLgzXO0MxUwypCgML3QfaeTdE0nT8cpHwLQ=s64",
      "userId": "06788086636039591358"
     },
     "user_tz": -330
    },
    "id": "qmculSZZZWpf"
   },
   "outputs": [],
   "source": [
    "#Method-1 (as per the theoretical definition of CLT)\n",
    "trial=[]\n",
    "for itr in np.arange(100):\n",
    "  samp=[]\n",
    "  for val in np.arange(500):\n",
    "    samp.append(np.random.choice(pop))\n",
    "  trial.append(np.mean(samp))"
   ]
  },
  {
   "cell_type": "code",
   "execution_count": 11,
   "metadata": {
    "colab": {
     "base_uri": "https://localhost:8080/",
     "height": 281
    },
    "executionInfo": {
     "elapsed": 1165,
     "status": "ok",
     "timestamp": 1612882914670,
     "user": {
      "displayName": "Mahesh Anand",
      "photoUrl": "https://lh3.googleusercontent.com/a-/AOh14GgKd7FxLgzXO0MxUwypCgML3QfaeTdE0nT8cpHwLQ=s64",
      "userId": "06788086636039591358"
     },
     "user_tz": -330
    },
    "id": "89SwdtqD0w0W",
    "outputId": "62ac824d-e9c5-4be1-8f45-8d5be034d2ef"
   },
   "outputs": [
    {
     "data": {
      "image/png": "[encoded data removed]",
      "text/plain": [
       "<Figure size 432x288 with 1 Axes>"
      ]
     },
     "metadata": {
      "needs_background": "light",
      "tags": []
     },
     "output_type": "display_data"
    }
   ],
   "source": [
    "trial_df=pd.DataFrame(trial)\n",
    "trial_df.hist()\n",
    "plt.show()"
   ]
  },
  {
   "cell_type": "code",
   "execution_count": 12,
   "metadata": {
    "colab": {
     "base_uri": "https://localhost:8080/"
    },
    "executionInfo": {
     "elapsed": 1259,
     "status": "ok",
     "timestamp": 1612882930116,
     "user": {
      "displayName": "Mahesh Anand",
      "photoUrl": "https://lh3.googleusercontent.com/a-/AOh14GgKd7FxLgzXO0MxUwypCgML3QfaeTdE0nT8cpHwLQ=s64",
      "userId": "06788086636039591358"
     },
     "user_tz": -330
    },
    "id": "jfPYwJ7R1ENL",
    "outputId": "14bd5703-67c9-4231-b3d2-4a97dc7a36b1"
   },
   "outputs": [
    {
     "data": {
      "text/plain": [
       "0   -0.088372\n",
       "dtype: float64"
      ]
     },
     "execution_count": 12,
     "metadata": {
      "tags": []
     },
     "output_type": "execute_result"
    }
   ],
   "source": [
    "trial_df.skew()"
   ]
  },
  {
   "cell_type": "code",
   "execution_count": 13,
   "metadata": {
    "colab": {
     "base_uri": "https://localhost:8080/"
    },
    "executionInfo": {
     "elapsed": 1055,
     "status": "ok",
     "timestamp": 1612882981187,
     "user": {
      "displayName": "Mahesh Anand",
      "photoUrl": "https://lh3.googleusercontent.com/a-/AOh14GgKd7FxLgzXO0MxUwypCgML3QfaeTdE0nT8cpHwLQ=s64",
      "userId": "06788086636039591358"
     },
     "user_tz": -330
    },
    "id": "Wrylik7-1ZwE",
    "outputId": "661c5b22-f667-4b84-af2a-2cb39ef1cb31"
   },
   "outputs": [
    {
     "data": {
      "text/plain": [
       "(709647.2480975529, 1145.837467928753)"
      ]
     },
     "execution_count": 13,
     "metadata": {
      "tags": []
     },
     "output_type": "execute_result"
    }
   ],
   "source": [
    "np.mean(trial),np.std(trial,ddof=1)"
   ]
  },
  {
   "cell_type": "code",
   "execution_count": 14,
   "metadata": {
    "colab": {
     "base_uri": "https://localhost:8080/"
    },
    "executionInfo": {
     "elapsed": 1156,
     "status": "ok",
     "timestamp": 1612883005530,
     "user": {
      "displayName": "Mahesh Anand",
      "photoUrl": "https://lh3.googleusercontent.com/a-/AOh14GgKd7FxLgzXO0MxUwypCgML3QfaeTdE0nT8cpHwLQ=s64",
      "userId": "06788086636039591358"
     },
     "user_tz": -330
    },
    "id": "evRGMN-yUQp5",
    "outputId": "90d9f085-50a4-426b-bd6d-9e5bf374c723"
   },
   "outputs": [
    {
     "data": {
      "text/plain": [
       "707401.4066604126"
      ]
     },
     "execution_count": 14,
     "metadata": {
      "tags": []
     },
     "output_type": "execute_result"
    }
   ],
   "source": [
    "#95% CI\n",
    "np.mean(trial)-1.96*np.std(trial,ddof=1)"
   ]
  },
  {
   "cell_type": "code",
   "execution_count": 15,
   "metadata": {
    "colab": {
     "base_uri": "https://localhost:8080/"
    },
    "executionInfo": {
     "elapsed": 1120,
     "status": "ok",
     "timestamp": 1612883007830,
     "user": {
      "displayName": "Mahesh Anand",
      "photoUrl": "https://lh3.googleusercontent.com/a-/AOh14GgKd7FxLgzXO0MxUwypCgML3QfaeTdE0nT8cpHwLQ=s64",
      "userId": "06788086636039591358"
     },
     "user_tz": -330
    },
    "id": "b2KPVXOIUWMB",
    "outputId": "c05999de-2feb-448e-85eb-faba6e333092"
   },
   "outputs": [
    {
     "data": {
      "text/plain": [
       "711893.0895346933"
      ]
     },
     "execution_count": 15,
     "metadata": {
      "tags": []
     },
     "output_type": "execute_result"
    }
   ],
   "source": [
    "np.mean(trial)+1.96*np.std(trial,ddof=1)"
   ]
  },
  {
   "cell_type": "markdown",
   "metadata": {
    "id": "dlkw5mlV1jJY"
   },
   "source": [
    "* The above standard deviation represents the STANDARD ERROR OF THE MEAN (SEM)\n",
    "* 95% Confidence Interval Range [x_bar-1.96xSEM to x_bar+1.96xSEM]\n",
    "* 99% Confidence Interval Range [x_bar-2.58xSEM to x_bar+2.58xSEM]"
   ]
  },
  {
   "cell_type": "code",
   "execution_count": null,
   "metadata": {
    "colab": {
     "base_uri": "https://localhost:8080/"
    },
    "executionInfo": {
     "elapsed": 1268,
     "status": "ok",
     "timestamp": 1611556629328,
     "user": {
      "displayName": "Mahesh Anand",
      "photoUrl": "https://lh3.googleusercontent.com/a-/AOh14GiAxRvO4nLPhI4SJLaIoUVmhr8lm1tddyCLyKOj=s64",
      "userId": "06788086636039591358"
     },
     "user_tz": -330
    },
    "id": "uRYm_lTK2nYv",
    "outputId": "341cab3b-7f90-4268-c6c7-69b1e3de7884"
   },
   "outputs": [
    {
     "name": "stdout",
     "output_type": "stream",
     "text": [
      "0.005\n",
      "0.025\n"
     ]
    }
   ],
   "source": [
    "print((1/100)/2) # 1% error is symmetrically splitted with 0.5% either side of the normal distribution\n",
    "print((5/100)/2) # 5% error is symmetrically splitted with 2.5% either side of the normal distribution"
   ]
  },
  {
   "cell_type": "code",
   "execution_count": null,
   "metadata": {
    "colab": {
     "base_uri": "https://localhost:8080/"
    },
    "executionInfo": {
     "elapsed": 1273,
     "status": "ok",
     "timestamp": 1611556632460,
     "user": {
      "displayName": "Mahesh Anand",
      "photoUrl": "https://lh3.googleusercontent.com/a-/AOh14GiAxRvO4nLPhI4SJLaIoUVmhr8lm1tddyCLyKOj=s64",
      "userId": "06788086636039591358"
     },
     "user_tz": -330
    },
    "id": "-qrrXTLT1fJ_",
    "outputId": "e600660b-0380-4763-9bbe-bb007358b97c"
   },
   "outputs": [
    {
     "data": {
      "text/plain": [
       "(2.575829303548901, 1.9599639845400545)"
      ]
     },
     "execution_count": 13,
     "metadata": {
      "tags": []
     },
     "output_type": "execute_result"
    }
   ],
   "source": [
    "stats.norm.isf(0.005),stats.norm.isf(0.025)"
   ]
  },
  {
   "cell_type": "code",
   "execution_count": null,
   "metadata": {
    "colab": {
     "base_uri": "https://localhost:8080/"
    },
    "executionInfo": {
     "elapsed": 1198,
     "status": "ok",
     "timestamp": 1611556636188,
     "user": {
      "displayName": "Mahesh Anand",
      "photoUrl": "https://lh3.googleusercontent.com/a-/AOh14GiAxRvO4nLPhI4SJLaIoUVmhr8lm1tddyCLyKOj=s64",
      "userId": "06788086636039591358"
     },
     "user_tz": -330
    },
    "id": "0iEc40Qu3GVQ",
    "outputId": "17b5128c-c420-4683-b699-162bd5116b9d"
   },
   "outputs": [
    {
     "data": {
      "text/plain": [
       "[57.62658944127126, 61.23190763824089]"
      ]
     },
     "execution_count": 14,
     "metadata": {
      "tags": []
     },
     "output_type": "execute_result"
    }
   ],
   "source": [
    "#95% Confidence Interval Range\n",
    "[np.mean(trial)-1.96*np.std(trial,ddof=1),np.mean(trial)+1.96*np.std(trial,ddof=1)]"
   ]
  },
  {
   "cell_type": "markdown",
   "metadata": {
    "id": "3AmvELhY5rw5"
   },
   "source": [
    "* From the above range estimate of population mean,we can say that the true mean (59.34) lies in the above 95% confidence interval [57.62658944127126, 61.23190763824089]"
   ]
  },
  {
   "cell_type": "code",
   "execution_count": null,
   "metadata": {
    "id": "TEGZnk7KRLdD"
   },
   "outputs": [],
   "source": [
    "#Method-2 (More practical approximated approach)"
   ]
  },
  {
   "cell_type": "code",
   "execution_count": 3,
   "metadata": {
    "executionInfo": {
     "elapsed": 1274,
     "status": "ok",
     "timestamp": 1612888641671,
     "user": {
      "displayName": "Mahesh Anand",
      "photoUrl": "https://lh3.googleusercontent.com/a-/AOh14GgKd7FxLgzXO0MxUwypCgML3QfaeTdE0nT8cpHwLQ=s64",
      "userId": "06788086636039591358"
     },
     "user_tz": -330
    },
    "id": "agxM0PeBRTEQ"
   },
   "outputs": [
    {
     "ename": "NameError",
     "evalue": "name 'pop' is not defined",
     "output_type": "error",
     "traceback": [
      "\u001b[1;31m---------------------------------------------------------------------------\u001b[0m",
      "\u001b[1;31mNameError\u001b[0m                                 Traceback (most recent call last)",
      "\u001b[1;32m<ipython-input-3-57d3cb22b452>\u001b[0m in \u001b[0;36m<module>\u001b[1;34m\u001b[0m\n\u001b[0;32m      1\u001b[0m \u001b[0msamp\u001b[0m\u001b[1;33m=\u001b[0m\u001b[1;33m[\u001b[0m\u001b[1;33m]\u001b[0m\u001b[1;33m\u001b[0m\u001b[1;33m\u001b[0m\u001b[0m\n\u001b[0;32m      2\u001b[0m \u001b[1;32mfor\u001b[0m \u001b[0mval\u001b[0m \u001b[1;32min\u001b[0m \u001b[0mnp\u001b[0m\u001b[1;33m.\u001b[0m\u001b[0marange\u001b[0m\u001b[1;33m(\u001b[0m\u001b[1;36m500\u001b[0m\u001b[1;33m)\u001b[0m\u001b[1;33m:\u001b[0m\u001b[1;33m\u001b[0m\u001b[1;33m\u001b[0m\u001b[0m\n\u001b[1;32m----> 3\u001b[1;33m   \u001b[0msamp\u001b[0m\u001b[1;33m.\u001b[0m\u001b[0mappend\u001b[0m\u001b[1;33m(\u001b[0m\u001b[0mnp\u001b[0m\u001b[1;33m.\u001b[0m\u001b[0mrandom\u001b[0m\u001b[1;33m.\u001b[0m\u001b[0mchoice\u001b[0m\u001b[1;33m(\u001b[0m\u001b[0mpop\u001b[0m\u001b[1;33m)\u001b[0m\u001b[1;33m)\u001b[0m\u001b[1;33m\u001b[0m\u001b[1;33m\u001b[0m\u001b[0m\n\u001b[0m",
      "\u001b[1;31mNameError\u001b[0m: name 'pop' is not defined"
     ]
    }
   ],
   "source": [
    "samp=[]\n",
    "for val in np.arange(500):\n",
    "  samp.append(np.random.choice(pop))"
   ]
  },
  {
   "cell_type": "code",
   "execution_count": 30,
   "metadata": {
    "colab": {
     "base_uri": "https://localhost:8080/"
    },
    "executionInfo": {
     "elapsed": 830,
     "status": "ok",
     "timestamp": 1612888643433,
     "user": {
      "displayName": "Mahesh Anand",
      "photoUrl": "https://lh3.googleusercontent.com/a-/AOh14GgKd7FxLgzXO0MxUwypCgML3QfaeTdE0nT8cpHwLQ=s64",
      "userId": "06788086636039591358"
     },
     "user_tz": -330
    },
    "id": "fD9w5UtYTPT4",
    "outputId": "57c4cea9-ace2-40d9-df65-94320a124a73"
   },
   "outputs": [
    {
     "data": {
      "text/plain": [
       "710021.2776104624"
      ]
     },
     "execution_count": 30,
     "metadata": {
      "tags": []
     },
     "output_type": "execute_result"
    }
   ],
   "source": [
    "np.mean(samp)"
   ]
  },
  {
   "cell_type": "markdown",
   "metadata": {
    "id": "kd8AlHEtThG1"
   },
   "source": [
    "* To match the theoretical approach of CLT,  SEM is calculated as follows: s / √(n)"
   ]
  },
  {
   "cell_type": "code",
   "execution_count": 18,
   "metadata": {
    "colab": {
     "base_uri": "https://localhost:8080/"
    },
    "executionInfo": {
     "elapsed": 1127,
     "status": "ok",
     "timestamp": 1612883103279,
     "user": {
      "displayName": "Mahesh Anand",
      "photoUrl": "https://lh3.googleusercontent.com/a-/AOh14GgKd7FxLgzXO0MxUwypCgML3QfaeTdE0nT8cpHwLQ=s64",
      "userId": "06788086636039591358"
     },
     "user_tz": -330
    },
    "id": "LK4zTFv_T8gC",
    "outputId": "97d043bf-3198-43e5-d5f9-eecb96a966de"
   },
   "outputs": [
    {
     "data": {
      "text/plain": [
       "1073.369171993358"
      ]
     },
     "execution_count": 18,
     "metadata": {
      "tags": []
     },
     "output_type": "execute_result"
    }
   ],
   "source": [
    "SEM=np.std(samp,ddof=1)/np.sqrt(500)\n",
    "SEM"
   ]
  },
  {
   "cell_type": "code",
   "execution_count": 19,
   "metadata": {
    "colab": {
     "base_uri": "https://localhost:8080/"
    },
    "executionInfo": {
     "elapsed": 1037,
     "status": "ok",
     "timestamp": 1612883136102,
     "user": {
      "displayName": "Mahesh Anand",
      "photoUrl": "https://lh3.googleusercontent.com/a-/AOh14GgKd7FxLgzXO0MxUwypCgML3QfaeTdE0nT8cpHwLQ=s64",
      "userId": "06788086636039591358"
     },
     "user_tz": -330
    },
    "id": "FCbPHtZsUHmQ",
    "outputId": "3c7ea0a1-b9fe-4a2f-c2c9-7ba8152f93e6"
   },
   "outputs": [
    {
     "data": {
      "text/plain": [
       "[708141.0951804518, 712348.7023346658]"
      ]
     },
     "execution_count": 19,
     "metadata": {
      "tags": []
     },
     "output_type": "execute_result"
    }
   ],
   "source": [
    "#95% Confidence Interval Range\n",
    "[np.mean(samp)-1.96*np.std(samp,ddof=1)/np.sqrt(500),np.mean(samp)+1.96*np.std(samp,ddof=1)/np.sqrt(500)]"
   ]
  },
  {
   "cell_type": "markdown",
   "metadata": {
    "id": "ZIQ7rFRXUcb6"
   },
   "source": [
    "* From the above range estimate of population mean,we can say that the true mean (59.34) lies in the above 95% confidence interval [56.73968918180259, 60.12895600337146]"
   ]
  },
  {
   "cell_type": "code",
   "execution_count": 20,
   "metadata": {
    "colab": {
     "base_uri": "https://localhost:8080/"
    },
    "executionInfo": {
     "elapsed": 1106,
     "status": "ok",
     "timestamp": 1612883188240,
     "user": {
      "displayName": "Mahesh Anand",
      "photoUrl": "https://lh3.googleusercontent.com/a-/AOh14GgKd7FxLgzXO0MxUwypCgML3QfaeTdE0nT8cpHwLQ=s64",
      "userId": "06788086636039591358"
     },
     "user_tz": -330
    },
    "id": "pe1shFIvlAXv",
    "outputId": "032998ed-4ece-4bdd-c8b7-2f6434ae0a29"
   },
   "outputs": [
    {
     "data": {
      "text/plain": [
       "[708484.5733154897, 712005.2241996279]"
      ]
     },
     "execution_count": 20,
     "metadata": {
      "tags": []
     },
     "output_type": "execute_result"
    }
   ],
   "source": [
    "#90% Confidence Interval Range\n",
    "[np.mean(samp)-1.64*np.std(samp,ddof=1)/np.sqrt(500),np.mean(samp)+1.64*np.std(samp,ddof=1)/np.sqrt(500)]"
   ]
  },
  {
   "cell_type": "code",
   "execution_count": 21,
   "metadata": {
    "colab": {
     "base_uri": "https://localhost:8080/"
    },
    "executionInfo": {
     "elapsed": 1062,
     "status": "ok",
     "timestamp": 1612883219175,
     "user": {
      "displayName": "Mahesh Anand",
      "photoUrl": "https://lh3.googleusercontent.com/a-/AOh14GgKd7FxLgzXO0MxUwypCgML3QfaeTdE0nT8cpHwLQ=s64",
      "userId": "06788086636039591358"
     },
     "user_tz": -330
    },
    "id": "TiEG1h3glHP8",
    "outputId": "07c950ac-ba9d-4a4f-a54c-83b6ff24d941"
   },
   "outputs": [
    {
     "data": {
      "text/plain": [
       "[709171.5295855654, 711318.2679295521]"
      ]
     },
     "execution_count": 21,
     "metadata": {
      "tags": []
     },
     "output_type": "execute_result"
    }
   ],
   "source": [
    "#68% Confidence Interval Range\n",
    "[np.mean(samp)-1*np.std(samp,ddof=1)/np.sqrt(500),np.mean(samp)+1*np.std(samp,ddof=1)/np.sqrt(500)]"
   ]
  },
  {
   "cell_type": "markdown",
   "metadata": {
    "id": "8c_JVZRiUznD"
   },
   "source": [
    "ONE SAMPLE t TEST\n",
    "* Hypothesis is a claim made by a person / organization.\n",
    "\n",
    "* The claim is usually about the population parameters such as mean or proportion and we seek evidence from a sample for the support of the claim.\n",
    "\n",
    "* Hypothesis testing is a process used for either rejecting or retaining null hypothesis."
   ]
  },
  {
   "cell_type": "code",
   "execution_count": null,
   "metadata": {
    "id": "nCoCGCQbU3Nc"
   },
   "outputs": [],
   "source": [
    "from scipy.stats import ttest_1samp"
   ]
  },
  {
   "cell_type": "code",
   "execution_count": null,
   "metadata": {
    "colab": {
     "base_uri": "https://localhost:8080/"
    },
    "executionInfo": {
     "elapsed": 1158,
     "status": "ok",
     "timestamp": 1611742981498,
     "user": {
      "displayName": "Mahesh Anand",
      "photoUrl": "https://lh3.googleusercontent.com/a-/AOh14GiAxRvO4nLPhI4SJLaIoUVmhr8lm1tddyCLyKOj=s64",
      "userId": "06788086636039591358"
     },
     "user_tz": -330
    },
    "id": "aD5VUuXoXcnn",
    "outputId": "7cdbe237-1919-40b8-fb30-8f5146b030aa"
   },
   "outputs": [
    {
     "data": {
      "text/plain": [
       "Ttest_1sampResult(statistic=28.027535271692038, pvalue=1.5930664416523687e-104)"
      ]
     },
     "execution_count": 38,
     "metadata": {
      "tags": []
     },
     "output_type": "execute_result"
    }
   ],
   "source": [
    "#Ho:mean_del=60min\n",
    "#Ha:mean_del != 60min\n",
    "ttest_1samp(samp,60) #Expected mean delivery time is 6omin"
   ]
  },
  {
   "cell_type": "code",
   "execution_count": null,
   "metadata": {
    "colab": {
     "base_uri": "https://localhost:8080/"
    },
    "executionInfo": {
     "elapsed": 1098,
     "status": "ok",
     "timestamp": 1611742496599,
     "user": {
      "displayName": "Mahesh Anand",
      "photoUrl": "https://lh3.googleusercontent.com/a-/AOh14GiAxRvO4nLPhI4SJLaIoUVmhr8lm1tddyCLyKOj=s64",
      "userId": "06788086636039591358"
     },
     "user_tz": -330
    },
    "id": "J-JM6tlkVkhI",
    "outputId": "f39e0300-2cc2-488f-b241-854f6264a120"
   },
   "outputs": [
    {
     "data": {
      "text/plain": [
       "(74.23044363906209, 11.353206415928028)"
      ]
     },
     "execution_count": 24,
     "metadata": {
      "tags": []
     },
     "output_type": "execute_result"
    }
   ],
   "source": [
    "x_bar=np.mean(samp)\n",
    "s=np.std(samp,ddof=1)\n",
    "x_bar,s"
   ]
  },
  {
   "cell_type": "code",
   "execution_count": null,
   "metadata": {
    "colab": {
     "base_uri": "https://localhost:8080/"
    },
    "executionInfo": {
     "elapsed": 1278,
     "status": "ok",
     "timestamp": 1611742645150,
     "user": {
      "displayName": "Mahesh Anand",
      "photoUrl": "https://lh3.googleusercontent.com/a-/AOh14GiAxRvO4nLPhI4SJLaIoUVmhr8lm1tddyCLyKOj=s64",
      "userId": "06788086636039591358"
     },
     "user_tz": -330
    },
    "id": "BrQA7RQpWMGg",
    "outputId": "80f3cb6b-309d-41b8-9c06-fe4270e2260a"
   },
   "outputs": [
    {
     "data": {
      "text/plain": [
       "0.5077308261720365"
      ]
     },
     "execution_count": 28,
     "metadata": {
      "tags": []
     },
     "output_type": "execute_result"
    }
   ],
   "source": [
    "sem=s/np.sqrt(500)\n",
    "sem"
   ]
  },
  {
   "cell_type": "code",
   "execution_count": null,
   "metadata": {
    "colab": {
     "base_uri": "https://localhost:8080/"
    },
    "executionInfo": {
     "elapsed": 1134,
     "status": "ok",
     "timestamp": 1611742554496,
     "user": {
      "displayName": "Mahesh Anand",
      "photoUrl": "https://lh3.googleusercontent.com/a-/AOh14GiAxRvO4nLPhI4SJLaIoUVmhr8lm1tddyCLyKOj=s64",
      "userId": "06788086636039591358"
     },
     "user_tz": -330
    },
    "id": "IJ7d-E05V3rK",
    "outputId": "298d9548-141b-443b-939b-42f0e6a396fc"
   },
   "outputs": [
    {
     "data": {
      "text/plain": [
       "500"
      ]
     },
     "execution_count": 27,
     "metadata": {
      "tags": []
     },
     "output_type": "execute_result"
    }
   ],
   "source": [
    "len(samp)"
   ]
  },
  {
   "cell_type": "code",
   "execution_count": null,
   "metadata": {
    "colab": {
     "base_uri": "https://localhost:8080/"
    },
    "executionInfo": {
     "elapsed": 1371,
     "status": "ok",
     "timestamp": 1611742730138,
     "user": {
      "displayName": "Mahesh Anand",
      "photoUrl": "https://lh3.googleusercontent.com/a-/AOh14GiAxRvO4nLPhI4SJLaIoUVmhr8lm1tddyCLyKOj=s64",
      "userId": "06788086636039591358"
     },
     "user_tz": -330
    },
    "id": "jkLgf1aHVQZI",
    "outputId": "98fe92a2-9d5b-43c8-f3b0-a5006c2ffcfe"
   },
   "outputs": [
    {
     "data": {
      "text/plain": [
       "28.02753527169203"
      ]
     },
     "execution_count": 33,
     "metadata": {
      "tags": []
     },
     "output_type": "execute_result"
    }
   ],
   "source": [
    "t_stat=(x_bar-60)/sem\n",
    "t_stat"
   ]
  },
  {
   "cell_type": "code",
   "execution_count": null,
   "metadata": {
    "colab": {
     "base_uri": "https://localhost:8080/"
    },
    "executionInfo": {
     "elapsed": 1117,
     "status": "ok",
     "timestamp": 1611742989933,
     "user": {
      "displayName": "Mahesh Anand",
      "photoUrl": "https://lh3.googleusercontent.com/a-/AOh14GiAxRvO4nLPhI4SJLaIoUVmhr8lm1tddyCLyKOj=s64",
      "userId": "06788086636039591358"
     },
     "user_tz": -330
    },
    "id": "VsombS9mz5uY",
    "outputId": "8158acc0-bc14-45db-d3ee-ee60c2fc0212"
   },
   "outputs": [
    {
     "data": {
      "text/plain": [
       "Ttest_1sampResult(statistic=-1.5156778380778488, pvalue=0.13023401581188138)"
      ]
     },
     "execution_count": 39,
     "metadata": {
      "tags": []
     },
     "output_type": "execute_result"
    }
   ],
   "source": [
    "ttest_1samp(samp,75) #Expected mean delivery time is 75min"
   ]
  },
  {
   "cell_type": "code",
   "execution_count": null,
   "metadata": {
    "id": "iXHkjaa9dV_Q"
   },
   "outputs": [],
   "source": []
  },
  {
   "cell_type": "markdown",
   "metadata": {
    "id": "bMcxZq2iXwwb"
   },
   "source": [
    "since p-val >5% (0.05) we have enough evidence null hypothesis is TRUE (sample) is the representation of expected mean delivery time of 75min"
   ]
  },
  {
   "cell_type": "code",
   "execution_count": null,
   "metadata": {
    "colab": {
     "base_uri": "https://localhost:8080/"
    },
    "executionInfo": {
     "elapsed": 1259,
     "status": "ok",
     "timestamp": 1611744715343,
     "user": {
      "displayName": "Mahesh Anand",
      "photoUrl": "https://lh3.googleusercontent.com/a-/AOh14GiAxRvO4nLPhI4SJLaIoUVmhr8lm1tddyCLyKOj=s64",
      "userId": "06788086636039591358"
     },
     "user_tz": -330
    },
    "id": "Jvf9WXbvdW5Z",
    "outputId": "2619c9ee-4f65-457e-870a-a6127c090a24"
   },
   "outputs": [
    {
     "data": {
      "text/plain": [
       "1.7374889710522776"
      ]
     },
     "execution_count": 42,
     "metadata": {
      "tags": []
     },
     "output_type": "execute_result"
    }
   ],
   "source": [
    "(32-30)/np.sqrt((15**2/200)+(10**2/500))"
   ]
  }
 ],
 "metadata": {
  "colab": {
   "authorship_tag": "ABX9TyNKGG4y6FnJpZEOQIcqv32W",
   "collapsed_sections": [],
   "name": "Session3_one_sample_t_Test.ipynb",
   "provenance": []
  },
  "kernelspec": {
   "display_name": "Python 3",
   "language": "python",
   "name": "python3"
  },
  "language_info": {
   "codemirror_mode": {
    "name": "ipython",
    "version": 3
   },
   "file_extension": ".py",
   "mimetype": "text/x-python",
   "name": "python",
   "nbconvert_exporter": "python",
   "pygments_lexer": "ipython3",
   "version": "3.8.5"
  }
 },
 "nbformat": 4,
 "nbformat_minor": 1
}
