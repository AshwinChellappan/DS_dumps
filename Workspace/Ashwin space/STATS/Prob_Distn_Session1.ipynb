{
 "cells": [
  {
   "cell_type": "code",
   "execution_count": 1,
   "metadata": {
    "executionInfo": {
     "elapsed": 2817,
     "status": "ok",
     "timestamp": 1612281930819,
     "user": {
      "displayName": "Mahesh Anand",
      "photoUrl": "https://lh3.googleusercontent.com/a-/AOh14GiAxRvO4nLPhI4SJLaIoUVmhr8lm1tddyCLyKOj=s64",
      "userId": "06788086636039591358"
     },
     "user_tz": -330
    },
    "id": "g8XXIZYFks51"
   },
   "outputs": [],
   "source": [
    "import numpy as np\r\n",
    "import pandas as pd\r\n",
    "import matplotlib.pyplot as plt\r\n",
    "%matplotlib inline"
   ]
  },
  {
   "cell_type": "code",
   "execution_count": 2,
   "metadata": {
    "executionInfo": {
     "elapsed": 3179,
     "status": "ok",
     "timestamp": 1612281931188,
     "user": {
      "displayName": "Mahesh Anand",
      "photoUrl": "https://lh3.googleusercontent.com/a-/AOh14GiAxRvO4nLPhI4SJLaIoUVmhr8lm1tddyCLyKOj=s64",
      "userId": "06788086636039591358"
     },
     "user_tz": -330
    },
    "id": "MVSh2bwyLA_p"
   },
   "outputs": [],
   "source": [
    "import warnings\r\n",
    "warnings.filterwarnings('ignore')"
   ]
  },
  {
   "cell_type": "markdown",
   "metadata": {
    "id": "ecAUZDZWBMEq"
   },
   "source": [
    "# Discrete Probability Distribution: Binomial \r\n",
    "* A T-shirt manufacturing company regularly conducts quality checks at specified period on the products it manufactures. Their empirical data of manufacturing report says,4% of their products were defective. Suppose a random sample of 250 T-shirts were picked from the manufacturing unit,what is the probability that,\r\n",
    "* a) None of the T-shirts are defective\r\n",
    "* b) 5 or fewer T-shirts are defective\r\n",
    "* c) 20 or more T-shirts are defective\r\n",
    "* d) What is the mean value of this Binomial Distribution \r\n",
    "* e) Plot the Binomial Distribution"
   ]
  },
  {
   "cell_type": "code",
   "execution_count": 4,
   "metadata": {
    "executionInfo": {
     "elapsed": 986,
     "status": "ok",
     "timestamp": 1612282010316,
     "user": {
      "displayName": "Mahesh Anand",
      "photoUrl": "https://lh3.googleusercontent.com/a-/AOh14GiAxRvO4nLPhI4SJLaIoUVmhr8lm1tddyCLyKOj=s64",
      "userId": "06788086636039591358"
     },
     "user_tz": -330
    },
    "id": "YQMOorL9DZG9"
   },
   "outputs": [],
   "source": [
    "import scipy.stats as stats"
   ]
  },
  {
   "cell_type": "code",
   "execution_count": 23,
   "metadata": {
    "colab": {
     "base_uri": "https://localhost:8080/"
    },
    "executionInfo": {
     "elapsed": 921,
     "status": "ok",
     "timestamp": 1612283151937,
     "user": {
      "displayName": "Mahesh Anand",
      "photoUrl": "https://lh3.googleusercontent.com/a-/AOh14GiAxRvO4nLPhI4SJLaIoUVmhr8lm1tddyCLyKOj=s64",
      "userId": "06788086636039591358"
     },
     "user_tz": -330
    },
    "id": "GiA8f-Z2pYaD",
    "outputId": "8aadab6d-483c-41ac-e94d-80415803ce06"
   },
   "outputs": [
    {
     "data": {
      "text/plain": [
       "3.696649374485171e-05"
      ]
     },
     "execution_count": 23,
     "metadata": {
      "tags": []
     },
     "output_type": "execute_result"
    }
   ],
   "source": [
    "#a) we need to calculate P(x=0) = n C x*P^x*Q^(n-x)\r\n",
    "#Here n=250, x=0, P=defective % = 4%=0.04, Q= Non-defective % = 96% = 0.96\r\n",
    "n=250\r\n",
    "p=0.04\r\n",
    "stats.binom.pmf(0,n,p)"
   ]
  },
  {
   "cell_type": "code",
   "execution_count": null,
   "metadata": {
    "colab": {
     "base_uri": "https://localhost:8080/"
    },
    "executionInfo": {
     "elapsed": 978,
     "status": "ok",
     "timestamp": 1611314168671,
     "user": {
      "displayName": "Mahesh Anand",
      "photoUrl": "https://lh3.googleusercontent.com/a-/AOh14GiAxRvO4nLPhI4SJLaIoUVmhr8lm1tddyCLyKOj=s64",
      "userId": "06788086636039591358"
     },
     "user_tz": -330
    },
    "id": "QDgSLfLMFcLs",
    "outputId": "3de214c7-5785-49f9-957b-b5dea8fd511a"
   },
   "outputs": [
    {
     "data": {
      "text/plain": [
       "0.06329328366342199"
      ]
     },
     "execution_count": 56,
     "metadata": {
      "tags": []
     },
     "output_type": "execute_result"
    }
   ],
   "source": [
    "#b) 5 or fewer => P(x<=5)= P(x=0)+P(x=1)+P(x=2)+P(x=3)+P(x=4)+P(x=5)\r\n",
    "stats.binom.cdf(5,n,p) \r\n",
    "#OR\r\n",
    "stats.binom.pmf(0,n,p)+stats.binom.pmf(1,n,p)+stats.binom.pmf(2,n,p)+stats.binom.pmf(3,n,p)+stats.binom.pmf(4,n,p)+stats.binom.pmf(5,n,p)"
   ]
  },
  {
   "cell_type": "code",
   "execution_count": 17,
   "metadata": {
    "colab": {
     "base_uri": "https://localhost:8080/"
    },
    "executionInfo": {
     "elapsed": 984,
     "status": "ok",
     "timestamp": 1612282880575,
     "user": {
      "displayName": "Mahesh Anand",
      "photoUrl": "https://lh3.googleusercontent.com/a-/AOh14GiAxRvO4nLPhI4SJLaIoUVmhr8lm1tddyCLyKOj=s64",
      "userId": "06788086636039591358"
     },
     "user_tz": -330
    },
    "id": "QcMHULj1GXSr",
    "outputId": "e2a01ad0-e9d4-4bce-bd33-9c7cee2b9c4e"
   },
   "outputs": [
    {
     "data": {
      "text/plain": [
       "0.002814404938111137"
      ]
     },
     "execution_count": 17,
     "metadata": {
      "tags": []
     },
     "output_type": "execute_result"
    }
   ],
   "source": [
    "#c) 20 or more => P(x>=20)= P(x=20)+........+ all cummulative probabilities in right hand side\r\n",
    "1-stats.binom.cdf(19,n,p)"
   ]
  },
  {
   "cell_type": "code",
   "execution_count": null,
   "metadata": {
    "colab": {
     "base_uri": "https://localhost:8080/"
    },
    "executionInfo": {
     "elapsed": 983,
     "status": "ok",
     "timestamp": 1611314319278,
     "user": {
      "displayName": "Mahesh Anand",
      "photoUrl": "https://lh3.googleusercontent.com/a-/AOh14GiAxRvO4nLPhI4SJLaIoUVmhr8lm1tddyCLyKOj=s64",
      "userId": "06788086636039591358"
     },
     "user_tz": -330
    },
    "id": "ngL__OUlHQpg",
    "outputId": "c1edb3b7-0e96-4522-9933-cc89c6d973b7"
   },
   "outputs": [
    {
     "data": {
      "text/plain": [
       "10.0"
      ]
     },
     "execution_count": 58,
     "metadata": {
      "tags": []
     },
     "output_type": "execute_result"
    }
   ],
   "source": [
    "#d)Mean value of Binomial distribution = n*p\r\n",
    "#Here, mean implies 4% of 250\r\n",
    "0.04*250"
   ]
  },
  {
   "cell_type": "code",
   "execution_count": null,
   "metadata": {
    "colab": {
     "base_uri": "https://localhost:8080/"
    },
    "executionInfo": {
     "elapsed": 1005,
     "status": "ok",
     "timestamp": 1611314422184,
     "user": {
      "displayName": "Mahesh Anand",
      "photoUrl": "https://lh3.googleusercontent.com/a-/AOh14GiAxRvO4nLPhI4SJLaIoUVmhr8lm1tddyCLyKOj=s64",
      "userId": "06788086636039591358"
     },
     "user_tz": -330
    },
    "id": "3vMG9yB20pf7",
    "outputId": "cbfcd716-09a3-4dfa-ff0c-996885704e7f"
   },
   "outputs": [
    {
     "data": {
      "text/plain": [
       "0.12768812205208388"
      ]
     },
     "execution_count": 63,
     "metadata": {
      "tags": []
     },
     "output_type": "execute_result"
    }
   ],
   "source": [
    "stats.binom.pmf(10,n,p)"
   ]
  },
  {
   "cell_type": "code",
   "execution_count": 24,
   "metadata": {
    "colab": {
     "base_uri": "https://localhost:8080/"
    },
    "executionInfo": {
     "elapsed": 1020,
     "status": "ok",
     "timestamp": 1612283206518,
     "user": {
      "displayName": "Mahesh Anand",
      "photoUrl": "https://lh3.googleusercontent.com/a-/AOh14GiAxRvO4nLPhI4SJLaIoUVmhr8lm1tddyCLyKOj=s64",
      "userId": "06788086636039591358"
     },
     "user_tz": -330
    },
    "id": "MiU8lQyNkTnC",
    "outputId": "78a674dd-052f-49a6-8915-824b82e5a3a3"
   },
   "outputs": [
    {
     "data": {
      "text/plain": [
       "array([3.69664937e-05, 3.85067643e-04, 1.99753840e-03, 6.88041004e-03,\n",
       "       1.77027217e-02, 3.62905794e-02, 6.17443886e-02, 8.96763739e-02,\n",
       "       1.13496661e-01, 1.27158296e-01, 1.27688122e-01, 1.16080111e-01,\n",
       "       9.63303699e-02, 7.34827821e-02, 5.18316053e-02, 3.39784968e-02,\n",
       "       2.07941321e-02, 1.19260464e-02, 6.43233520e-03, 3.27259159e-03,\n",
       "       1.57493470e-03, 7.18720202e-04, 3.11717663e-04, 1.28752948e-04,\n",
       "       5.07411791e-05, 1.91125108e-05, 6.89153034e-06, 2.38225740e-06,\n",
       "       7.90540774e-07, 2.52155247e-07, 7.73976522e-08, 2.28864025e-08,\n",
       "       6.52620072e-09, 1.79635323e-09, 4.77706680e-10, 1.22838861e-10,\n",
       "       3.05675405e-11, 7.36650188e-12, 1.72046590e-12, 3.89678174e-13])"
      ]
     },
     "execution_count": 24,
     "metadata": {
      "tags": []
     },
     "output_type": "execute_result"
    }
   ],
   "source": [
    "binom_dist"
   ]
  },
  {
   "cell_type": "code",
   "execution_count": 27,
   "metadata": {
    "colab": {
     "base_uri": "https://localhost:8080/",
     "height": 295
    },
    "executionInfo": {
     "elapsed": 998,
     "status": "ok",
     "timestamp": 1612283475437,
     "user": {
      "displayName": "Mahesh Anand",
      "photoUrl": "https://lh3.googleusercontent.com/a-/AOh14GiAxRvO4nLPhI4SJLaIoUVmhr8lm1tddyCLyKOj=s64",
      "userId": "06788086636039591358"
     },
     "user_tz": -330
    },
    "id": "3mQNIHyYHwRo",
    "outputId": "ea54ad2f-3459-4cd6-8858-f06d63f4483b"
   },
   "outputs": [
    {
     "data": {
      "image/png": "[encoded data removed]",
      "text/plain": [
       "<Figure size 432x288 with 1 Axes>"
      ]
     },
     "metadata": {
      "needs_background": "light",
      "tags": []
     },
     "output_type": "display_data"
    }
   ],
   "source": [
    "#e) to generate the plot,we need to define x-axis\r\n",
    "x=np.arange(0,40)\r\n",
    "binom_dist=stats.binom.pmf(x,n,p)\r\n",
    "plt.stem(x,binom_dist,'o-')\r\n",
    "plt.xlabel('x-values')\r\n",
    "plt.ylabel('Probability scores')\r\n",
    "plt.title('Binomial Distribution Plot')\r\n",
    "plt.show()"
   ]
  },
  {
   "cell_type": "code",
   "execution_count": 28,
   "metadata": {
    "colab": {
     "base_uri": "https://localhost:8080/"
    },
    "executionInfo": {
     "elapsed": 1092,
     "status": "ok",
     "timestamp": 1612283537623,
     "user": {
      "displayName": "Mahesh Anand",
      "photoUrl": "https://lh3.googleusercontent.com/a-/AOh14GiAxRvO4nLPhI4SJLaIoUVmhr8lm1tddyCLyKOj=s64",
      "userId": "06788086636039591358"
     },
     "user_tz": -330
    },
    "id": "oMU6cWYPllaL",
    "outputId": "45d803a1-67d0-4771-9160-9af3d3a6a253"
   },
   "outputs": [
    {
     "data": {
      "text/plain": [
       "array([ 0,  1,  2,  3,  4,  5,  6,  7,  8,  9, 10, 11, 12, 13, 14, 15, 16,\n",
       "       17, 18, 19, 20, 21, 22, 23, 24, 25, 26, 27, 28, 29, 30, 31, 32, 33,\n",
       "       34, 35, 36, 37, 38, 39])"
      ]
     },
     "execution_count": 28,
     "metadata": {
      "tags": []
     },
     "output_type": "execute_result"
    }
   ],
   "source": [
    "x"
   ]
  },
  {
   "cell_type": "code",
   "execution_count": 29,
   "metadata": {
    "colab": {
     "base_uri": "https://localhost:8080/"
    },
    "executionInfo": {
     "elapsed": 1313,
     "status": "ok",
     "timestamp": 1612283575887,
     "user": {
      "displayName": "Mahesh Anand",
      "photoUrl": "https://lh3.googleusercontent.com/a-/AOh14GiAxRvO4nLPhI4SJLaIoUVmhr8lm1tddyCLyKOj=s64",
      "userId": "06788086636039591358"
     },
     "user_tz": -330
    },
    "id": "uVIm0KpXhSzi",
    "outputId": "7fe1ee1c-63d9-4e3b-c6df-40d02f3e9c01"
   },
   "outputs": [
    {
     "data": {
      "text/plain": [
       "9.999999999995323"
      ]
     },
     "execution_count": 29,
     "metadata": {
      "tags": []
     },
     "output_type": "execute_result"
    }
   ],
   "source": [
    "x.dot(binom_dist) #this is analogous to the notion summation of x.p(x)"
   ]
  },
  {
   "cell_type": "code",
   "execution_count": 30,
   "metadata": {
    "colab": {
     "base_uri": "https://localhost:8080/"
    },
    "executionInfo": {
     "elapsed": 983,
     "status": "ok",
     "timestamp": 1612283637751,
     "user": {
      "displayName": "Mahesh Anand",
      "photoUrl": "https://lh3.googleusercontent.com/a-/AOh14GiAxRvO4nLPhI4SJLaIoUVmhr8lm1tddyCLyKOj=s64",
      "userId": "06788086636039591358"
     },
     "user_tz": -330
    },
    "id": "k4kt0-_Ql47K",
    "outputId": "ac75cc02-bd3e-4f48-f7dc-2939b74e86e1"
   },
   "outputs": [
    {
     "data": {
      "text/plain": [
       "10.0"
      ]
     },
     "execution_count": 30,
     "metadata": {
      "tags": []
     },
     "output_type": "execute_result"
    }
   ],
   "source": [
    "#mean value in Binom distn = n*p\r\n",
    "250*.04"
   ]
  },
  {
   "cell_type": "code",
   "execution_count": null,
   "metadata": {
    "colab": {
     "base_uri": "https://localhost:8080/"
    },
    "executionInfo": {
     "elapsed": 1298,
     "status": "ok",
     "timestamp": 1611185563881,
     "user": {
      "displayName": "Mahesh Anand",
      "photoUrl": "https://lh3.googleusercontent.com/a-/AOh14GiAxRvO4nLPhI4SJLaIoUVmhr8lm1tddyCLyKOj=s64",
      "userId": "06788086636039591358"
     },
     "user_tz": -330
    },
    "id": "FONhgQNfI7aV",
    "outputId": "ec5a175f-6caf-4765-dabd-d48542cfa63a"
   },
   "outputs": [
    {
     "data": {
      "text/plain": [
       "(10, 0.12768812205208388)"
      ]
     },
     "execution_count": 19,
     "metadata": {
      "tags": []
     },
     "output_type": "execute_result"
    }
   ],
   "source": [
    "np.argmax(binom_dist),np.max(binom_dist)"
   ]
  },
  {
   "cell_type": "code",
   "execution_count": 31,
   "metadata": {
    "colab": {
     "base_uri": "https://localhost:8080/"
    },
    "executionInfo": {
     "elapsed": 1172,
     "status": "ok",
     "timestamp": 1612283748128,
     "user": {
      "displayName": "Mahesh Anand",
      "photoUrl": "https://lh3.googleusercontent.com/a-/AOh14GiAxRvO4nLPhI4SJLaIoUVmhr8lm1tddyCLyKOj=s64",
      "userId": "06788086636039591358"
     },
     "user_tz": -330
    },
    "id": "s4vVJUnqi_S4",
    "outputId": "ee57b3d0-4bcb-4a57-a204-3a8880aecf05"
   },
   "outputs": [
    {
     "data": {
      "text/plain": [
       "3.098386676949792"
      ]
     },
     "execution_count": 31,
     "metadata": {
      "tags": []
     },
     "output_type": "execute_result"
    }
   ],
   "source": [
    "sd=np.sqrt(((x-10)**2).dot(binom_dist))  #more generic formula\r\n",
    "sd"
   ]
  },
  {
   "cell_type": "code",
   "execution_count": 32,
   "metadata": {
    "colab": {
     "base_uri": "https://localhost:8080/"
    },
    "executionInfo": {
     "elapsed": 1067,
     "status": "ok",
     "timestamp": 1612283797873,
     "user": {
      "displayName": "Mahesh Anand",
      "photoUrl": "https://lh3.googleusercontent.com/a-/AOh14GiAxRvO4nLPhI4SJLaIoUVmhr8lm1tddyCLyKOj=s64",
      "userId": "06788086636039591358"
     },
     "user_tz": -330
    },
    "id": "32n2j24hjLsC",
    "outputId": "4f17753c-44db-4a43-b25e-26d111109797"
   },
   "outputs": [
    {
     "data": {
      "text/plain": [
       "3.0983866769659336"
      ]
     },
     "execution_count": 32,
     "metadata": {
      "tags": []
     },
     "output_type": "execute_result"
    }
   ],
   "source": [
    "np.sqrt(n*p*(1-p))"
   ]
  },
  {
   "cell_type": "markdown",
   "metadata": {
    "id": "mf7w_3YMJLxN"
   },
   "source": [
    "* We could notice,the peak probability score of 12.76% at the mean value (10 T-shirts) "
   ]
  },
  {
   "cell_type": "markdown",
   "metadata": {
    "id": "EFaK9_TuL2rf"
   },
   "source": [
    "# Discrete Probability Distribution: Poisson\r\n",
    "#### A customer care unit of a fiber optic broadband service provider receives on an average 30 emails on a day regarding complaint in their service. To strategically plan the resource of service engineers, the following calculations are performed\r\n",
    "\r\n",
    "\r\n",
    "---------------\r\n",
    "a) What is the probability of receiving 100 complaints  in a given day?\r\n",
    "\r\n",
    "b)What is the probability of receiving 20 or less complaints in a given day? \r\n",
    "\r\n",
    "c)What is the probability of receiving 35 or more complaints in a given day?\r\n",
    "\r\n",
    "d)Plot the poisson distribution "
   ]
  },
  {
   "cell_type": "code",
   "execution_count": 33,
   "metadata": {
    "colab": {
     "base_uri": "https://localhost:8080/"
    },
    "executionInfo": {
     "elapsed": 1304,
     "status": "ok",
     "timestamp": 1612283980176,
     "user": {
      "displayName": "Mahesh Anand",
      "photoUrl": "https://lh3.googleusercontent.com/a-/AOh14GiAxRvO4nLPhI4SJLaIoUVmhr8lm1tddyCLyKOj=s64",
      "userId": "06788086636039591358"
     },
     "user_tz": -330
    },
    "id": "IscG7986JlHk",
    "outputId": "6d6d2337-ca2c-4bfe-8ab8-23e88453389a"
   },
   "outputs": [
    {
     "data": {
      "text/plain": [
       "5.1675818018385396e-24"
      ]
     },
     "execution_count": 33,
     "metadata": {
      "tags": []
     },
     "output_type": "execute_result"
    }
   ],
   "source": [
    "#a) we need to calculate P(x=100)\r\n",
    "#Here Lambda = 30 emails (average)\r\n",
    "L=30\r\n",
    "stats.poisson.pmf(100,L)"
   ]
  },
  {
   "cell_type": "code",
   "execution_count": 35,
   "metadata": {
    "colab": {
     "base_uri": "https://localhost:8080/"
    },
    "executionInfo": {
     "elapsed": 935,
     "status": "ok",
     "timestamp": 1612284019321,
     "user": {
      "displayName": "Mahesh Anand",
      "photoUrl": "https://lh3.googleusercontent.com/a-/AOh14GiAxRvO4nLPhI4SJLaIoUVmhr8lm1tddyCLyKOj=s64",
      "userId": "06788086636039591358"
     },
     "user_tz": -330
    },
    "id": "T5fr9IznPQhH",
    "outputId": "f7bb719e-af1e-4cf3-899f-5d56be14b975"
   },
   "outputs": [
    {
     "data": {
      "text/plain": [
       "0.035284618454228846"
      ]
     },
     "execution_count": 35,
     "metadata": {
      "tags": []
     },
     "output_type": "execute_result"
    }
   ],
   "source": [
    "#b)P(x<=20)\r\n",
    "stats.poisson.cdf(20,L)"
   ]
  },
  {
   "cell_type": "code",
   "execution_count": 36,
   "metadata": {
    "colab": {
     "base_uri": "https://localhost:8080/"
    },
    "executionInfo": {
     "elapsed": 1043,
     "status": "ok",
     "timestamp": 1612284077245,
     "user": {
      "displayName": "Mahesh Anand",
      "photoUrl": "https://lh3.googleusercontent.com/a-/AOh14GiAxRvO4nLPhI4SJLaIoUVmhr8lm1tddyCLyKOj=s64",
      "userId": "06788086636039591358"
     },
     "user_tz": -330
    },
    "id": "sbfPtBv5Ps7S",
    "outputId": "46f596b0-7575-4eb2-859d-49485aae5d54"
   },
   "outputs": [
    {
     "data": {
      "text/plain": [
       "0.20269167451688286"
      ]
     },
     "execution_count": 36,
     "metadata": {
      "tags": []
     },
     "output_type": "execute_result"
    }
   ],
   "source": [
    "#c) P(x>=35)\r\n",
    "1-stats.poisson.cdf(34,L)"
   ]
  },
  {
   "cell_type": "code",
   "execution_count": 44,
   "metadata": {
    "colab": {
     "base_uri": "https://localhost:8080/",
     "height": 295
    },
    "executionInfo": {
     "elapsed": 1663,
     "status": "ok",
     "timestamp": 1612284213369,
     "user": {
      "displayName": "Mahesh Anand",
      "photoUrl": "https://lh3.googleusercontent.com/a-/AOh14GiAxRvO4nLPhI4SJLaIoUVmhr8lm1tddyCLyKOj=s64",
      "userId": "06788086636039591358"
     },
     "user_tz": -330
    },
    "id": "MygIe77kQ7Y5",
    "outputId": "c328e921-ea57-413e-d1c2-dd7ff16d402b"
   },
   "outputs": [
    {
     "data": {
      "image/png": "[encoded data removed]",
      "text/plain": [
       "<Figure size 432x288 with 1 Axes>"
      ]
     },
     "metadata": {
      "needs_background": "light",
      "tags": []
     },
     "output_type": "display_data"
    }
   ],
   "source": [
    "x=np.arange(0,500)\r\n",
    "pois_dist=stats.poisson.pmf(x,L)\r\n",
    "plt.stem(x,pois_dist,'o-')\r\n",
    "plt.xlabel('x-values')\r\n",
    "plt.ylabel('Probability scores')\r\n",
    "plt.title('Poisson Distribution Plot')\r\n",
    "plt.show()"
   ]
  },
  {
   "cell_type": "code",
   "execution_count": null,
   "metadata": {
    "colab": {
     "base_uri": "https://localhost:8080/"
    },
    "executionInfo": {
     "elapsed": 919,
     "status": "ok",
     "timestamp": 1611315459726,
     "user": {
      "displayName": "Mahesh Anand",
      "photoUrl": "https://lh3.googleusercontent.com/a-/AOh14GiAxRvO4nLPhI4SJLaIoUVmhr8lm1tddyCLyKOj=s64",
      "userId": "06788086636039591358"
     },
     "user_tz": -330
    },
    "id": "AxxGIYgb4nFK",
    "outputId": "38f1c4cf-94ff-4bcb-e87b-66a39d4b0939"
   },
   "outputs": [
    {
     "data": {
      "text/plain": [
       "29"
      ]
     },
     "execution_count": 73,
     "metadata": {
      "tags": []
     },
     "output_type": "execute_result"
    }
   ],
   "source": [
    "np.argmax(pois_dist)"
   ]
  },
  {
   "cell_type": "code",
   "execution_count": 42,
   "metadata": {
    "colab": {
     "base_uri": "https://localhost:8080/"
    },
    "executionInfo": {
     "elapsed": 1315,
     "status": "ok",
     "timestamp": 1612284191557,
     "user": {
      "displayName": "Mahesh Anand",
      "photoUrl": "https://lh3.googleusercontent.com/a-/AOh14GiAxRvO4nLPhI4SJLaIoUVmhr8lm1tddyCLyKOj=s64",
      "userId": "06788086636039591358"
     },
     "user_tz": -330
    },
    "id": "2YE4lRVC4wuc",
    "outputId": "57ba56b5-216e-462f-ae42-fd8ef174448f"
   },
   "outputs": [
    {
     "data": {
      "text/plain": [
       "0.07263452647159181"
      ]
     },
     "execution_count": 42,
     "metadata": {
      "tags": []
     },
     "output_type": "execute_result"
    }
   ],
   "source": [
    "pois_dist[29]"
   ]
  },
  {
   "cell_type": "code",
   "execution_count": 45,
   "metadata": {
    "colab": {
     "base_uri": "https://localhost:8080/"
    },
    "executionInfo": {
     "elapsed": 1005,
     "status": "ok",
     "timestamp": 1612284222163,
     "user": {
      "displayName": "Mahesh Anand",
      "photoUrl": "https://lh3.googleusercontent.com/a-/AOh14GiAxRvO4nLPhI4SJLaIoUVmhr8lm1tddyCLyKOj=s64",
      "userId": "06788086636039591358"
     },
     "user_tz": -330
    },
    "id": "RJEsze6p4zab",
    "outputId": "4972f869-90e1-4496-f2a3-557c4df16bcf"
   },
   "outputs": [
    {
     "data": {
      "text/plain": [
       "0.07263452647159181"
      ]
     },
     "execution_count": 45,
     "metadata": {
      "tags": []
     },
     "output_type": "execute_result"
    }
   ],
   "source": [
    "pois_dist[30]"
   ]
  },
  {
   "cell_type": "markdown",
   "metadata": {
    "id": "OsMQLtRXRZSN"
   },
   "source": [
    "* We can notice the highest probability centered around the mean (ie) 30 complaints"
   ]
  },
  {
   "cell_type": "code",
   "execution_count": 48,
   "metadata": {
    "colab": {
     "base_uri": "https://localhost:8080/"
    },
    "executionInfo": {
     "elapsed": 1071,
     "status": "ok",
     "timestamp": 1612284313661,
     "user": {
      "displayName": "Mahesh Anand",
      "photoUrl": "https://lh3.googleusercontent.com/a-/AOh14GiAxRvO4nLPhI4SJLaIoUVmhr8lm1tddyCLyKOj=s64",
      "userId": "06788086636039591358"
     },
     "user_tz": -330
    },
    "id": "PZJ17HkPoV15",
    "outputId": "dddff008-2d03-4716-8d25-8eea259e9b69"
   },
   "outputs": [
    {
     "data": {
      "text/plain": [
       "5.47722557505168"
      ]
     },
     "execution_count": 48,
     "metadata": {
      "tags": []
     },
     "output_type": "execute_result"
    }
   ],
   "source": [
    "np.sqrt(x.dot(pois_dist))"
   ]
  },
  {
   "cell_type": "code",
   "execution_count": null,
   "metadata": {
    "colab": {
     "base_uri": "https://localhost:8080/"
    },
    "executionInfo": {
     "elapsed": 947,
     "status": "ok",
     "timestamp": 1611315739530,
     "user": {
      "displayName": "Mahesh Anand",
      "photoUrl": "https://lh3.googleusercontent.com/a-/AOh14GiAxRvO4nLPhI4SJLaIoUVmhr8lm1tddyCLyKOj=s64",
      "userId": "06788086636039591358"
     },
     "user_tz": -330
    },
    "id": "qcL3K8V1RpHU",
    "outputId": "262de6da-b227-4629-9803-5a4928b7ef08"
   },
   "outputs": [
    {
     "data": {
      "text/plain": [
       "5.477220430202007"
      ]
     },
     "execution_count": 80,
     "metadata": {
      "tags": []
     },
     "output_type": "execute_result"
    }
   ],
   "source": [
    "np.sqrt(x.dot(pois_dist)) #cross checking the mean value from histogram perspective x.P(x)"
   ]
  },
  {
   "cell_type": "code",
   "execution_count": 47,
   "metadata": {
    "colab": {
     "base_uri": "https://localhost:8080/"
    },
    "executionInfo": {
     "elapsed": 951,
     "status": "ok",
     "timestamp": 1612284289941,
     "user": {
      "displayName": "Mahesh Anand",
      "photoUrl": "https://lh3.googleusercontent.com/a-/AOh14GiAxRvO4nLPhI4SJLaIoUVmhr8lm1tddyCLyKOj=s64",
      "userId": "06788086636039591358"
     },
     "user_tz": -330
    },
    "id": "GVqSM4c2iTA5",
    "outputId": "1c4b0c94-af8a-4f53-ccf9-92e863d69066"
   },
   "outputs": [
    {
     "data": {
      "text/plain": [
       "5.477225575051677"
      ]
     },
     "execution_count": 47,
     "metadata": {
      "tags": []
     },
     "output_type": "execute_result"
    }
   ],
   "source": [
    "np.sqrt(((x-30)**2).dot(pois_dist))\r\n"
   ]
  },
  {
   "cell_type": "code",
   "execution_count": null,
   "metadata": {
    "id": "qmculSZZZWpf"
   },
   "outputs": [],
   "source": [
    ""
   ]
  }
 ],
 "metadata": {
  "colab": {
   "authorship_tag": "ABX9TyOwBPinwvfW43cupZBtaRox",
   "collapsed_sections": [],
   "name": "Prob_Distn_Session1.ipynb",
   "provenance": []
  },
  "kernelspec": {
   "display_name": "Python 3",
   "name": "python3"
  }
 },
 "nbformat": 4,
 "nbformat_minor": 0
}
