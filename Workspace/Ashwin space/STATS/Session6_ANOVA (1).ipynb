{
 "cells": [
  {
   "cell_type": "code",
   "execution_count": 1,
   "metadata": {
    "executionInfo": {
     "elapsed": 1767,
     "status": "ok",
     "timestamp": 1613662218976,
     "user": {
      "displayName": "Mahesh Anand",
      "photoUrl": "https://lh3.googleusercontent.com/a-/AOh14GgKd7FxLgzXO0MxUwypCgML3QfaeTdE0nT8cpHwLQ=s64",
      "userId": "06788086636039591358"
     },
     "user_tz": -330
    },
    "id": "g8XXIZYFks51"
   },
   "outputs": [],
   "source": [
    "import numpy as np\r\n",
    "import pandas as pd\r\n",
    "import scipy.stats as stats\r\n",
    "from scipy.stats import ttest_ind\r\n",
    "import seaborn as sns\r\n",
    "import matplotlib.pyplot as plt\r\n",
    "%matplotlib inline"
   ]
  },
  {
   "cell_type": "code",
   "execution_count": 2,
   "metadata": {
    "executionInfo": {
     "elapsed": 1759,
     "status": "ok",
     "timestamp": 1613662218979,
     "user": {
      "displayName": "Mahesh Anand",
      "photoUrl": "https://lh3.googleusercontent.com/a-/AOh14GgKd7FxLgzXO0MxUwypCgML3QfaeTdE0nT8cpHwLQ=s64",
      "userId": "06788086636039591358"
     },
     "user_tz": -330
    },
    "id": "MVSh2bwyLA_p"
   },
   "outputs": [],
   "source": [
    "import warnings\r\n",
    "warnings.filterwarnings('ignore')"
   ]
  },
  {
   "cell_type": "code",
   "execution_count": 3,
   "metadata": {
    "colab": {
     "base_uri": "https://localhost:8080/"
    },
    "executionInfo": {
     "elapsed": 27095,
     "status": "ok",
     "timestamp": 1613662245208,
     "user": {
      "displayName": "Mahesh Anand",
      "photoUrl": "https://lh3.googleusercontent.com/a-/AOh14GgKd7FxLgzXO0MxUwypCgML3QfaeTdE0nT8cpHwLQ=s64",
      "userId": "06788086636039591358"
     },
     "user_tz": -330
    },
    "id": "xJnvXVj10m-E",
    "outputId": "c5e2b84a-0c13-440c-d52d-1d0196bec38f"
   },
   "outputs": [
    {
     "name": "stdout",
     "output_type": "stream",
     "text": [
      "Mounted at /content/drive\n"
     ]
    }
   ],
   "source": [
    "from google.colab import drive\r\n",
    "drive.mount('/content/drive')"
   ]
  },
  {
   "cell_type": "markdown",
   "metadata": {
    "id": "dCY80HNikBXX"
   },
   "source": [
    "## Analysis of variance (ANOVA)\r\n",
    "\r\n",
    "ANOVA is a hypothesis testing technique tests the equality of two or more population means by examining the variances of samples that are taken.\r\n",
    "\r\n",
    "ANOVA tests the general rather than specific differences among means. "
   ]
  },
  {
   "cell_type": "code",
   "execution_count": 4,
   "metadata": {
    "executionInfo": {
     "elapsed": 1166,
     "status": "ok",
     "timestamp": 1613662251828,
     "user": {
      "displayName": "Mahesh Anand",
      "photoUrl": "https://lh3.googleusercontent.com/a-/AOh14GgKd7FxLgzXO0MxUwypCgML3QfaeTdE0nT8cpHwLQ=s64",
      "userId": "06788086636039591358"
     },
     "user_tz": -330
    },
    "id": "vcxwTQi0kCO-"
   },
   "outputs": [],
   "source": [
    "A=[30,40,50,60] \r\n",
    "B=[25,30,50,55]\r\n",
    "C=[25,30,40,45]\r\n",
    "D=[43,45,45,47] \r\n",
    "E=[37,40,40,43]\r\n",
    "F=[34,35,35,36]"
   ]
  },
  {
   "cell_type": "code",
   "execution_count": 15,
   "metadata": {
    "executionInfo": {
     "elapsed": 897,
     "status": "ok",
     "timestamp": 1613662925577,
     "user": {
      "displayName": "Mahesh Anand",
      "photoUrl": "https://lh3.googleusercontent.com/a-/AOh14GgKd7FxLgzXO0MxUwypCgML3QfaeTdE0nT8cpHwLQ=s64",
      "userId": "06788086636039591358"
     },
     "user_tz": -330
    },
    "id": "herCvoXdj_sB"
   },
   "outputs": [],
   "source": [
    "from scipy.stats import f_oneway"
   ]
  },
  {
   "cell_type": "code",
   "execution_count": 16,
   "metadata": {
    "colab": {
     "base_uri": "https://localhost:8080/"
    },
    "executionInfo": {
     "elapsed": 1001,
     "status": "ok",
     "timestamp": 1613662929720,
     "user": {
      "displayName": "Mahesh Anand",
      "photoUrl": "https://lh3.googleusercontent.com/a-/AOh14GgKd7FxLgzXO0MxUwypCgML3QfaeTdE0nT8cpHwLQ=s64",
      "userId": "06788086636039591358"
     },
     "user_tz": -330
    },
    "id": "1laAtzoFk-t2",
    "outputId": "7ca6f6fa-b992-407e-b69f-a0c7ed2fd251"
   },
   "outputs": [
    {
     "data": {
      "text/plain": [
       "F_onewayResult(statistic=0.6428571428571429, pvalue=0.5483227164089495)"
      ]
     },
     "execution_count": 16,
     "metadata": {
      "tags": []
     },
     "output_type": "execute_result"
    }
   ],
   "source": [
    "f_oneway(A,B,C)"
   ]
  },
  {
   "cell_type": "code",
   "execution_count": 17,
   "metadata": {
    "colab": {
     "base_uri": "https://localhost:8080/"
    },
    "executionInfo": {
     "elapsed": 944,
     "status": "ok",
     "timestamp": 1613662960585,
     "user": {
      "displayName": "Mahesh Anand",
      "photoUrl": "https://lh3.googleusercontent.com/a-/AOh14GgKd7FxLgzXO0MxUwypCgML3QfaeTdE0nT8cpHwLQ=s64",
      "userId": "06788086636039591358"
     },
     "user_tz": -330
    },
    "id": "rLKhB4OClFIw",
    "outputId": "94726ace-4d8f-4c01-fe99-f8b41678eb23"
   },
   "outputs": [
    {
     "data": {
      "text/plain": [
       "F_onewayResult(statistic=32.14285714285714, pvalue=7.970844367886858e-05)"
      ]
     },
     "execution_count": 17,
     "metadata": {
      "tags": []
     },
     "output_type": "execute_result"
    }
   ],
   "source": [
    "f_oneway(D,E,F)"
   ]
  },
  {
   "cell_type": "code",
   "execution_count": 18,
   "metadata": {
    "executionInfo": {
     "elapsed": 884,
     "status": "ok",
     "timestamp": 1613663057071,
     "user": {
      "displayName": "Mahesh Anand",
      "photoUrl": "https://lh3.googleusercontent.com/a-/AOh14GgKd7FxLgzXO0MxUwypCgML3QfaeTdE0nT8cpHwLQ=s64",
      "userId": "06788086636039591358"
     },
     "user_tz": -330
    },
    "id": "7Lf_KWs3lImY"
   },
   "outputs": [],
   "source": [
    "G1_df=pd.DataFrame()\r\n",
    "df1=pd.DataFrame({'group':'A','age':[30,40,50,60]})\r\n",
    "df2=pd.DataFrame({'group':'B','age':[25,30,50,55]})\r\n",
    "df3=pd.DataFrame({'group':'C','age':[25,30,40,45]})\r\n",
    "G1_df=G1_df.append(df1)\r\n",
    "G1_df=G1_df.append(df2)\r\n",
    "G1_df=G1_df.append(df3)"
   ]
  },
  {
   "cell_type": "code",
   "execution_count": 20,
   "metadata": {
    "colab": {
     "base_uri": "https://localhost:8080/",
     "height": 421
    },
    "executionInfo": {
     "elapsed": 884,
     "status": "ok",
     "timestamp": 1613663153005,
     "user": {
      "displayName": "Mahesh Anand",
      "photoUrl": "https://lh3.googleusercontent.com/a-/AOh14GgKd7FxLgzXO0MxUwypCgML3QfaeTdE0nT8cpHwLQ=s64",
      "userId": "06788086636039591358"
     },
     "user_tz": -330
    },
    "id": "wHio1WY4lSpw",
    "outputId": "748c5a9a-d092-4b6f-96a0-02ebd8c087fd"
   },
   "outputs": [
    {
     "data": {
      "text/html": [
       "<div>\n",
       "<style scoped>\n",
       "    .dataframe tbody tr th:only-of-type {\n",
       "        vertical-align: middle;\n",
       "    }\n",
       "\n",
       "    .dataframe tbody tr th {\n",
       "        vertical-align: top;\n",
       "    }\n",
       "\n",
       "    .dataframe thead th {\n",
       "        text-align: right;\n",
       "    }\n",
       "</style>\n",
       "<table border=\"1\" class=\"dataframe\">\n",
       "  <thead>\n",
       "    <tr style=\"text-align: right;\">\n",
       "      <th></th>\n",
       "      <th>group</th>\n",
       "      <th>age</th>\n",
       "    </tr>\n",
       "  </thead>\n",
       "  <tbody>\n",
       "    <tr>\n",
       "      <th>0</th>\n",
       "      <td>A</td>\n",
       "      <td>30</td>\n",
       "    </tr>\n",
       "    <tr>\n",
       "      <th>1</th>\n",
       "      <td>A</td>\n",
       "      <td>40</td>\n",
       "    </tr>\n",
       "    <tr>\n",
       "      <th>2</th>\n",
       "      <td>A</td>\n",
       "      <td>50</td>\n",
       "    </tr>\n",
       "    <tr>\n",
       "      <th>3</th>\n",
       "      <td>A</td>\n",
       "      <td>60</td>\n",
       "    </tr>\n",
       "    <tr>\n",
       "      <th>0</th>\n",
       "      <td>B</td>\n",
       "      <td>25</td>\n",
       "    </tr>\n",
       "    <tr>\n",
       "      <th>1</th>\n",
       "      <td>B</td>\n",
       "      <td>30</td>\n",
       "    </tr>\n",
       "    <tr>\n",
       "      <th>2</th>\n",
       "      <td>B</td>\n",
       "      <td>50</td>\n",
       "    </tr>\n",
       "    <tr>\n",
       "      <th>3</th>\n",
       "      <td>B</td>\n",
       "      <td>55</td>\n",
       "    </tr>\n",
       "    <tr>\n",
       "      <th>0</th>\n",
       "      <td>C</td>\n",
       "      <td>25</td>\n",
       "    </tr>\n",
       "    <tr>\n",
       "      <th>1</th>\n",
       "      <td>C</td>\n",
       "      <td>30</td>\n",
       "    </tr>\n",
       "    <tr>\n",
       "      <th>2</th>\n",
       "      <td>C</td>\n",
       "      <td>40</td>\n",
       "    </tr>\n",
       "    <tr>\n",
       "      <th>3</th>\n",
       "      <td>C</td>\n",
       "      <td>45</td>\n",
       "    </tr>\n",
       "  </tbody>\n",
       "</table>\n",
       "</div>"
      ],
      "text/plain": [
       "  group  age\n",
       "0     A   30\n",
       "1     A   40\n",
       "2     A   50\n",
       "3     A   60\n",
       "0     B   25\n",
       "1     B   30\n",
       "2     B   50\n",
       "3     B   55\n",
       "0     C   25\n",
       "1     C   30\n",
       "2     C   40\n",
       "3     C   45"
      ]
     },
     "execution_count": 20,
     "metadata": {
      "tags": []
     },
     "output_type": "execute_result"
    }
   ],
   "source": [
    "G1_df"
   ]
  },
  {
   "cell_type": "code",
   "execution_count": 42,
   "metadata": {
    "executionInfo": {
     "elapsed": 957,
     "status": "ok",
     "timestamp": 1613664575714,
     "user": {
      "displayName": "Mahesh Anand",
      "photoUrl": "https://lh3.googleusercontent.com/a-/AOh14GgKd7FxLgzXO0MxUwypCgML3QfaeTdE0nT8cpHwLQ=s64",
      "userId": "06788086636039591358"
     },
     "user_tz": -330
    },
    "id": "xhbzBV_ylUPk"
   },
   "outputs": [],
   "source": [
    "from   statsmodels.formula.api import ols\r\n",
    "from   statsmodels.stats.anova import anova_lm"
   ]
  },
  {
   "cell_type": "code",
   "execution_count": null,
   "metadata": {
    "colab": {
     "base_uri": "https://localhost:8080/"
    },
    "executionInfo": {
     "elapsed": 1189,
     "status": "ok",
     "timestamp": 1612263287837,
     "user": {
      "displayName": "Mahesh Anand",
      "photoUrl": "https://lh3.googleusercontent.com/a-/AOh14GiAxRvO4nLPhI4SJLaIoUVmhr8lm1tddyCLyKOj=s64",
      "userId": "06788086636039591358"
     },
     "user_tz": -330
    },
    "id": "6_-2CqzDqk8G",
    "outputId": "43b42654-c27b-4b37-e886-7487d252e1fd"
   },
   "outputs": [
    {
     "name": "stdout",
     "output_type": "stream",
     "text": [
      "           df  sum_sq     mean_sq         F    PR(>F)\n",
      "group     2.0   200.0  100.000000  0.642857  0.548323\n",
      "Residual  9.0  1400.0  155.555556       NaN       NaN\n"
     ]
    }
   ],
   "source": [
    "m1 = ols('age ~ group', data = G1_df).fit()\r\n",
    "aov_table = anova_lm(m1, typ=1)\r\n",
    "print(aov_table)"
   ]
  },
  {
   "cell_type": "code",
   "execution_count": 22,
   "metadata": {
    "executionInfo": {
     "elapsed": 1811,
     "status": "ok",
     "timestamp": 1613663488228,
     "user": {
      "displayName": "Mahesh Anand",
      "photoUrl": "https://lh3.googleusercontent.com/a-/AOh14GgKd7FxLgzXO0MxUwypCgML3QfaeTdE0nT8cpHwLQ=s64",
      "userId": "06788086636039591358"
     },
     "user_tz": -330
    },
    "id": "PXYAlstplXFo"
   },
   "outputs": [],
   "source": [
    "G2_df=pd.DataFrame()\r\n",
    "Df1=pd.DataFrame({'group':'D','age':[43,45,45,47]})\r\n",
    "Df2=pd.DataFrame({'group':'E','age':[37,40,40,43]})\r\n",
    "Df3=pd.DataFrame({'group':'F','age':[34,35,35,36]})\r\n",
    "G2_df=G2_df.append(Df1)\r\n",
    "G2_df=G2_df.append(Df2)\r\n",
    "G2_df=G2_df.append(Df3)"
   ]
  },
  {
   "cell_type": "code",
   "execution_count": 23,
   "metadata": {
    "colab": {
     "base_uri": "https://localhost:8080/",
     "height": 421
    },
    "executionInfo": {
     "elapsed": 1370,
     "status": "ok",
     "timestamp": 1613663489963,
     "user": {
      "displayName": "Mahesh Anand",
      "photoUrl": "https://lh3.googleusercontent.com/a-/AOh14GgKd7FxLgzXO0MxUwypCgML3QfaeTdE0nT8cpHwLQ=s64",
      "userId": "06788086636039591358"
     },
     "user_tz": -330
    },
    "id": "vO8xYutflbfW",
    "outputId": "7303749d-8103-484f-fa7b-f2e230e6ab71"
   },
   "outputs": [
    {
     "data": {
      "text/html": [
       "<div>\n",
       "<style scoped>\n",
       "    .dataframe tbody tr th:only-of-type {\n",
       "        vertical-align: middle;\n",
       "    }\n",
       "\n",
       "    .dataframe tbody tr th {\n",
       "        vertical-align: top;\n",
       "    }\n",
       "\n",
       "    .dataframe thead th {\n",
       "        text-align: right;\n",
       "    }\n",
       "</style>\n",
       "<table border=\"1\" class=\"dataframe\">\n",
       "  <thead>\n",
       "    <tr style=\"text-align: right;\">\n",
       "      <th></th>\n",
       "      <th>group</th>\n",
       "      <th>age</th>\n",
       "    </tr>\n",
       "  </thead>\n",
       "  <tbody>\n",
       "    <tr>\n",
       "      <th>0</th>\n",
       "      <td>D</td>\n",
       "      <td>43</td>\n",
       "    </tr>\n",
       "    <tr>\n",
       "      <th>1</th>\n",
       "      <td>D</td>\n",
       "      <td>45</td>\n",
       "    </tr>\n",
       "    <tr>\n",
       "      <th>2</th>\n",
       "      <td>D</td>\n",
       "      <td>45</td>\n",
       "    </tr>\n",
       "    <tr>\n",
       "      <th>3</th>\n",
       "      <td>D</td>\n",
       "      <td>47</td>\n",
       "    </tr>\n",
       "    <tr>\n",
       "      <th>0</th>\n",
       "      <td>E</td>\n",
       "      <td>37</td>\n",
       "    </tr>\n",
       "    <tr>\n",
       "      <th>1</th>\n",
       "      <td>E</td>\n",
       "      <td>40</td>\n",
       "    </tr>\n",
       "    <tr>\n",
       "      <th>2</th>\n",
       "      <td>E</td>\n",
       "      <td>40</td>\n",
       "    </tr>\n",
       "    <tr>\n",
       "      <th>3</th>\n",
       "      <td>E</td>\n",
       "      <td>43</td>\n",
       "    </tr>\n",
       "    <tr>\n",
       "      <th>0</th>\n",
       "      <td>F</td>\n",
       "      <td>34</td>\n",
       "    </tr>\n",
       "    <tr>\n",
       "      <th>1</th>\n",
       "      <td>F</td>\n",
       "      <td>35</td>\n",
       "    </tr>\n",
       "    <tr>\n",
       "      <th>2</th>\n",
       "      <td>F</td>\n",
       "      <td>35</td>\n",
       "    </tr>\n",
       "    <tr>\n",
       "      <th>3</th>\n",
       "      <td>F</td>\n",
       "      <td>36</td>\n",
       "    </tr>\n",
       "  </tbody>\n",
       "</table>\n",
       "</div>"
      ],
      "text/plain": [
       "  group  age\n",
       "0     D   43\n",
       "1     D   45\n",
       "2     D   45\n",
       "3     D   47\n",
       "0     E   37\n",
       "1     E   40\n",
       "2     E   40\n",
       "3     E   43\n",
       "0     F   34\n",
       "1     F   35\n",
       "2     F   35\n",
       "3     F   36"
      ]
     },
     "execution_count": 23,
     "metadata": {
      "tags": []
     },
     "output_type": "execute_result"
    }
   ],
   "source": [
    "G2_df"
   ]
  },
  {
   "cell_type": "code",
   "execution_count": 25,
   "metadata": {
    "colab": {
     "base_uri": "https://localhost:8080/"
    },
    "executionInfo": {
     "elapsed": 934,
     "status": "ok",
     "timestamp": 1613663582047,
     "user": {
      "displayName": "Mahesh Anand",
      "photoUrl": "https://lh3.googleusercontent.com/a-/AOh14GgKd7FxLgzXO0MxUwypCgML3QfaeTdE0nT8cpHwLQ=s64",
      "userId": "06788086636039591358"
     },
     "user_tz": -330
    },
    "id": "8VCYUrn4ldB9",
    "outputId": "06eb46af-f51b-46ea-92fa-50eb02b7ce97"
   },
   "outputs": [
    {
     "name": "stdout",
     "output_type": "stream",
     "text": [
      "           df  sum_sq     mean_sq          F   PR(>F)\n",
      "group     2.0   200.0  100.000000  32.142857  0.00008\n",
      "Residual  9.0    28.0    3.111111        NaN      NaN\n"
     ]
    }
   ],
   "source": [
    "mod = ols('age ~ group', data = G2_df).fit()\r\n",
    "aov_table =anova_lm(mod, typ=1)\r\n",
    "print(aov_table)"
   ]
  },
  {
   "cell_type": "code",
   "execution_count": null,
   "metadata": {
    "colab": {
     "base_uri": "https://localhost:8080/"
    },
    "executionInfo": {
     "elapsed": 1193,
     "status": "ok",
     "timestamp": 1612262542521,
     "user": {
      "displayName": "Mahesh Anand",
      "photoUrl": "https://lh3.googleusercontent.com/a-/AOh14GiAxRvO4nLPhI4SJLaIoUVmhr8lm1tddyCLyKOj=s64",
      "userId": "06788086636039591358"
     },
     "user_tz": -330
    },
    "id": "VmSK49KblgsA",
    "outputId": "16c69bec-a3eb-4f6b-da0c-bf9b5ff84fde"
   },
   "outputs": [
    {
     "data": {
      "text/plain": [
       "40.0"
      ]
     },
     "execution_count": 97,
     "metadata": {
      "tags": []
     },
     "output_type": "execute_result"
    }
   ],
   "source": [
    "oa=(np.sum(A)+np.sum(B)+np.sum(C))/12\r\n",
    "oa"
   ]
  },
  {
   "cell_type": "code",
   "execution_count": 5,
   "metadata": {
    "colab": {
     "base_uri": "https://localhost:8080/"
    },
    "executionInfo": {
     "elapsed": 988,
     "status": "ok",
     "timestamp": 1613662293248,
     "user": {
      "displayName": "Mahesh Anand",
      "photoUrl": "https://lh3.googleusercontent.com/a-/AOh14GgKd7FxLgzXO0MxUwypCgML3QfaeTdE0nT8cpHwLQ=s64",
      "userId": "06788086636039591358"
     },
     "user_tz": -330
    },
    "id": "hAtkNjYoV57W",
    "outputId": "effacdd8-2380-401b-8acb-6edb2fc44575"
   },
   "outputs": [
    {
     "data": {
      "text/plain": [
       "40.0"
      ]
     },
     "execution_count": 5,
     "metadata": {
      "tags": []
     },
     "output_type": "execute_result"
    }
   ],
   "source": [
    "oa=(np.sum(D)+np.sum(E)+np.sum(F))/12\r\n",
    "oa"
   ]
  },
  {
   "cell_type": "code",
   "execution_count": 6,
   "metadata": {
    "executionInfo": {
     "elapsed": 958,
     "status": "ok",
     "timestamp": 1613662307776,
     "user": {
      "displayName": "Mahesh Anand",
      "photoUrl": "https://lh3.googleusercontent.com/a-/AOh14GgKd7FxLgzXO0MxUwypCgML3QfaeTdE0nT8cpHwLQ=s64",
      "userId": "06788086636039591358"
     },
     "user_tz": -330
    },
    "id": "9NzCcocmlved"
   },
   "outputs": [],
   "source": [
    "Abar=np.mean(A)\r\n",
    "Bbar=np.mean(B)\r\n",
    "Cbar=np.mean(C)\r\n",
    "Dbar=np.mean(D)\r\n",
    "Ebar=np.mean(E)\r\n",
    "Fbar=np.mean(F)"
   ]
  },
  {
   "cell_type": "code",
   "execution_count": 7,
   "metadata": {
    "executionInfo": {
     "elapsed": 1080,
     "status": "ok",
     "timestamp": 1613662312034,
     "user": {
      "displayName": "Mahesh Anand",
      "photoUrl": "https://lh3.googleusercontent.com/a-/AOh14GgKd7FxLgzXO0MxUwypCgML3QfaeTdE0nT8cpHwLQ=s64",
      "userId": "06788086636039591358"
     },
     "user_tz": -330
    },
    "id": "95lwZs9Xl3GL"
   },
   "outputs": [],
   "source": [
    "Avar=np.var(A,ddof=1)\r\n",
    "Bvar=np.var(B,ddof=1)\r\n",
    "Cvar=np.var(C,ddof=1)\r\n",
    "Dvar=np.var(D,ddof=1)\r\n",
    "Evar=np.var(E,ddof=1)\r\n",
    "Fvar=np.var(F,ddof=1)"
   ]
  },
  {
   "cell_type": "code",
   "execution_count": 8,
   "metadata": {
    "colab": {
     "base_uri": "https://localhost:8080/"
    },
    "executionInfo": {
     "elapsed": 1011,
     "status": "ok",
     "timestamp": 1613662439450,
     "user": {
      "displayName": "Mahesh Anand",
      "photoUrl": "https://lh3.googleusercontent.com/a-/AOh14GgKd7FxLgzXO0MxUwypCgML3QfaeTdE0nT8cpHwLQ=s64",
      "userId": "06788086636039591358"
     },
     "user_tz": -330
    },
    "id": "DWiSAJXWlmIJ",
    "outputId": "529e8ecd-b17a-421d-82a6-7fbe01ebf7ec"
   },
   "outputs": [
    {
     "data": {
      "text/plain": [
       "200.0"
      ]
     },
     "execution_count": 8,
     "metadata": {
      "tags": []
     },
     "output_type": "execute_result"
    }
   ],
   "source": [
    "#MSTR Calculation (between sample variability)\r\n",
    "sstr=len(A)*(Abar-oa)**2+len(B)*(Bbar-oa)**2+len(C)*(Cbar-oa)**2\r\n",
    "sstr"
   ]
  },
  {
   "cell_type": "code",
   "execution_count": 9,
   "metadata": {
    "colab": {
     "base_uri": "https://localhost:8080/"
    },
    "executionInfo": {
     "elapsed": 956,
     "status": "ok",
     "timestamp": 1613662468920,
     "user": {
      "displayName": "Mahesh Anand",
      "photoUrl": "https://lh3.googleusercontent.com/a-/AOh14GgKd7FxLgzXO0MxUwypCgML3QfaeTdE0nT8cpHwLQ=s64",
      "userId": "06788086636039591358"
     },
     "user_tz": -330
    },
    "id": "ChafQz2IWCsy",
    "outputId": "1f144dc2-1368-442c-cc7a-fb28ccc5ae34"
   },
   "outputs": [
    {
     "data": {
      "text/plain": [
       "200.0"
      ]
     },
     "execution_count": 9,
     "metadata": {
      "tags": []
     },
     "output_type": "execute_result"
    }
   ],
   "source": [
    "#MSTR Calculation (between sample variability)\r\n",
    "sstr=len(D)*(Dbar-oa)**2+len(E)*(Ebar-oa)**2+len(F)*(Fbar-oa)**2\r\n",
    "sstr"
   ]
  },
  {
   "cell_type": "code",
   "execution_count": 10,
   "metadata": {
    "colab": {
     "base_uri": "https://localhost:8080/"
    },
    "executionInfo": {
     "elapsed": 889,
     "status": "ok",
     "timestamp": 1613662481340,
     "user": {
      "displayName": "Mahesh Anand",
      "photoUrl": "https://lh3.googleusercontent.com/a-/AOh14GgKd7FxLgzXO0MxUwypCgML3QfaeTdE0nT8cpHwLQ=s64",
      "userId": "06788086636039591358"
     },
     "user_tz": -330
    },
    "id": "7mEuV0MZmGzG",
    "outputId": "0ea40c4e-be83-4ba7-d966-7cdad3a01d54"
   },
   "outputs": [
    {
     "data": {
      "text/plain": [
       "100.0"
      ]
     },
     "execution_count": 10,
     "metadata": {
      "tags": []
     },
     "output_type": "execute_result"
    }
   ],
   "source": [
    "df1=3-1\r\n",
    "mstr=sstr/df1\r\n",
    "mstr"
   ]
  },
  {
   "cell_type": "code",
   "execution_count": 11,
   "metadata": {
    "colab": {
     "base_uri": "https://localhost:8080/"
    },
    "executionInfo": {
     "elapsed": 911,
     "status": "ok",
     "timestamp": 1613662813477,
     "user": {
      "displayName": "Mahesh Anand",
      "photoUrl": "https://lh3.googleusercontent.com/a-/AOh14GgKd7FxLgzXO0MxUwypCgML3QfaeTdE0nT8cpHwLQ=s64",
      "userId": "06788086636039591358"
     },
     "user_tz": -330
    },
    "id": "umhTmCUzmLgs",
    "outputId": "32eb8cd9-eae1-44cc-e2aa-8e7f9799585b"
   },
   "outputs": [
    {
     "name": "stdout",
     "output_type": "stream",
     "text": [
      "1400.0\n",
      "9\n"
     ]
    },
    {
     "data": {
      "text/plain": [
       "155.55555555555554"
      ]
     },
     "execution_count": 11,
     "metadata": {
      "tags": []
     },
     "output_type": "execute_result"
    }
   ],
   "source": [
    "#MSE Calculation (within sample variability)\r\n",
    "#Within Sample Variability (MSE)=SSE/dof             \r\n",
    "sse=(len(A)-1)*Avar+(len(B)-1)*Bvar+(len(C)-1)*Cvar\r\n",
    "df2=12-3\r\n",
    "print(sse)\r\n",
    "print(df2)\r\n",
    "sse/df2"
   ]
  },
  {
   "cell_type": "code",
   "execution_count": 12,
   "metadata": {
    "colab": {
     "base_uri": "https://localhost:8080/"
    },
    "executionInfo": {
     "elapsed": 1016,
     "status": "ok",
     "timestamp": 1613662850179,
     "user": {
      "displayName": "Mahesh Anand",
      "photoUrl": "https://lh3.googleusercontent.com/a-/AOh14GgKd7FxLgzXO0MxUwypCgML3QfaeTdE0nT8cpHwLQ=s64",
      "userId": "06788086636039591358"
     },
     "user_tz": -330
    },
    "id": "oZfidkdaW5iy",
    "outputId": "ee7d81fd-df9f-4b4e-e5f6-9ea53666e6fb"
   },
   "outputs": [
    {
     "data": {
      "text/plain": [
       "0.6428571428571429"
      ]
     },
     "execution_count": 12,
     "metadata": {
      "tags": []
     },
     "output_type": "execute_result"
    }
   ],
   "source": [
    "F_abc=100/155.55555555555554\r\n",
    "F_abc"
   ]
  },
  {
   "cell_type": "code",
   "execution_count": 13,
   "metadata": {
    "colab": {
     "base_uri": "https://localhost:8080/"
    },
    "executionInfo": {
     "elapsed": 966,
     "status": "ok",
     "timestamp": 1613662880211,
     "user": {
      "displayName": "Mahesh Anand",
      "photoUrl": "https://lh3.googleusercontent.com/a-/AOh14GgKd7FxLgzXO0MxUwypCgML3QfaeTdE0nT8cpHwLQ=s64",
      "userId": "06788086636039591358"
     },
     "user_tz": -330
    },
    "id": "DXQv_QJMXEJj",
    "outputId": "01b85eae-253e-43f8-cf08-3bfc615a6891"
   },
   "outputs": [
    {
     "name": "stdout",
     "output_type": "stream",
     "text": [
      "28.0\n",
      "9\n"
     ]
    },
    {
     "data": {
      "text/plain": [
       "3.111111111111111"
      ]
     },
     "execution_count": 13,
     "metadata": {
      "tags": []
     },
     "output_type": "execute_result"
    }
   ],
   "source": [
    "#MSE Calculation (within sample variability)\r\n",
    "#Within Sample Variability (MSE)=SSE/dof             \r\n",
    "sse=(len(D)-1)*Dvar+(len(E)-1)*Evar+(len(F)-1)*Fvar\r\n",
    "df2=12-3\r\n",
    "print(sse)\r\n",
    "print(df2)\r\n",
    "sse/df2"
   ]
  },
  {
   "cell_type": "code",
   "execution_count": 14,
   "metadata": {
    "colab": {
     "base_uri": "https://localhost:8080/"
    },
    "executionInfo": {
     "elapsed": 915,
     "status": "ok",
     "timestamp": 1613662885852,
     "user": {
      "displayName": "Mahesh Anand",
      "photoUrl": "https://lh3.googleusercontent.com/a-/AOh14GgKd7FxLgzXO0MxUwypCgML3QfaeTdE0nT8cpHwLQ=s64",
      "userId": "06788086636039591358"
     },
     "user_tz": -330
    },
    "id": "9UEjgC7WXRDt",
    "outputId": "e939b6db-3887-4d7c-9863-2cd630ed1c14"
   },
   "outputs": [
    {
     "data": {
      "text/plain": [
       "32.14285714297194"
      ]
     },
     "execution_count": 14,
     "metadata": {
      "tags": []
     },
     "output_type": "execute_result"
    }
   ],
   "source": [
    "F_def=100/3.1111111111\r\n",
    "F_def"
   ]
  },
  {
   "cell_type": "markdown",
   "metadata": {
    "id": "lze8qV18sYDe"
   },
   "source": [
    "* Verify does the salary varies with respect to Dept\r\n",
    "* Verify does the salary varies with respect to job_level\r\n"
   ]
  },
  {
   "cell_type": "code",
   "execution_count": 26,
   "metadata": {
    "colab": {
     "base_uri": "https://localhost:8080/",
     "height": 235
    },
    "executionInfo": {
     "elapsed": 1445,
     "status": "ok",
     "timestamp": 1613664043724,
     "user": {
      "displayName": "Mahesh Anand",
      "photoUrl": "https://lh3.googleusercontent.com/a-/AOh14GgKd7FxLgzXO0MxUwypCgML3QfaeTdE0nT8cpHwLQ=s64",
      "userId": "06788086636039591358"
     },
     "user_tz": -330
    },
    "id": "WVrSHlvk2jdJ",
    "outputId": "1e425ee6-f2e7-47ed-945d-f32e889bc652"
   },
   "outputs": [
    {
     "data": {
      "text/html": [
       "<div>\n",
       "<style scoped>\n",
       "    .dataframe tbody tr th:only-of-type {\n",
       "        vertical-align: middle;\n",
       "    }\n",
       "\n",
       "    .dataframe tbody tr th {\n",
       "        vertical-align: top;\n",
       "    }\n",
       "\n",
       "    .dataframe thead th {\n",
       "        text-align: right;\n",
       "    }\n",
       "</style>\n",
       "<table border=\"1\" class=\"dataframe\">\n",
       "  <thead>\n",
       "    <tr style=\"text-align: right;\">\n",
       "      <th></th>\n",
       "      <th>department</th>\n",
       "      <th>salary</th>\n",
       "      <th>new_hire</th>\n",
       "      <th>job_level</th>\n",
       "    </tr>\n",
       "    <tr>\n",
       "      <th>employee_id</th>\n",
       "      <th></th>\n",
       "      <th></th>\n",
       "      <th></th>\n",
       "      <th></th>\n",
       "    </tr>\n",
       "  </thead>\n",
       "  <tbody>\n",
       "    <tr>\n",
       "      <th>1</th>\n",
       "      <td>Sales</td>\n",
       "      <td>103263.63550</td>\n",
       "      <td>No</td>\n",
       "      <td>Salaried</td>\n",
       "    </tr>\n",
       "    <tr>\n",
       "      <th>2</th>\n",
       "      <td>Engineering</td>\n",
       "      <td>80708.64104</td>\n",
       "      <td>No</td>\n",
       "      <td>Hourly</td>\n",
       "    </tr>\n",
       "    <tr>\n",
       "      <th>4</th>\n",
       "      <td>Engineering</td>\n",
       "      <td>60737.04786</td>\n",
       "      <td>Yes</td>\n",
       "      <td>Hourly</td>\n",
       "    </tr>\n",
       "    <tr>\n",
       "      <th>5</th>\n",
       "      <td>Engineering</td>\n",
       "      <td>99116.32328</td>\n",
       "      <td>Yes</td>\n",
       "      <td>Salaried</td>\n",
       "    </tr>\n",
       "    <tr>\n",
       "      <th>7</th>\n",
       "      <td>Engineering</td>\n",
       "      <td>51021.64386</td>\n",
       "      <td>No</td>\n",
       "      <td>Hourly</td>\n",
       "    </tr>\n",
       "  </tbody>\n",
       "</table>\n",
       "</div>"
      ],
      "text/plain": [
       "              department        salary new_hire job_level\n",
       "employee_id                                              \n",
       "1                  Sales  103263.63550       No  Salaried\n",
       "2            Engineering   80708.64104       No    Hourly\n",
       "4            Engineering   60737.04786      Yes    Hourly\n",
       "5            Engineering   99116.32328      Yes  Salaried\n",
       "7            Engineering   51021.64386       No    Hourly"
      ]
     },
     "execution_count": 26,
     "metadata": {
      "tags": []
     },
     "output_type": "execute_result"
    }
   ],
   "source": [
    "A=pd.read_csv('/content/drive/My Drive/MSD/fair_pay_data.csv',index_col=0)\r\n",
    "A.head()"
   ]
  },
  {
   "cell_type": "code",
   "execution_count": 27,
   "metadata": {
    "colab": {
     "base_uri": "https://localhost:8080/"
    },
    "executionInfo": {
     "elapsed": 943,
     "status": "ok",
     "timestamp": 1613664069735,
     "user": {
      "displayName": "Mahesh Anand",
      "photoUrl": "https://lh3.googleusercontent.com/a-/AOh14GgKd7FxLgzXO0MxUwypCgML3QfaeTdE0nT8cpHwLQ=s64",
      "userId": "06788086636039591358"
     },
     "user_tz": -330
    },
    "id": "aCKcnIau33Gu",
    "outputId": "1e438718-4d27-4ba4-88bd-9ba2d56209dc"
   },
   "outputs": [
    {
     "data": {
      "text/plain": [
       "Engineering    961\n",
       "Sales          446\n",
       "Finance         63\n",
       "Name: department, dtype: int64"
      ]
     },
     "execution_count": 27,
     "metadata": {
      "tags": []
     },
     "output_type": "execute_result"
    }
   ],
   "source": [
    "A['department'].value_counts()"
   ]
  },
  {
   "cell_type": "code",
   "execution_count": 31,
   "metadata": {
    "colab": {
     "base_uri": "https://localhost:8080/",
     "height": 318
    },
    "executionInfo": {
     "elapsed": 950,
     "status": "ok",
     "timestamp": 1613664227464,
     "user": {
      "displayName": "Mahesh Anand",
      "photoUrl": "https://lh3.googleusercontent.com/a-/AOh14GgKd7FxLgzXO0MxUwypCgML3QfaeTdE0nT8cpHwLQ=s64",
      "userId": "06788086636039591358"
     },
     "user_tz": -330
    },
    "id": "WFcivNxM4N4j",
    "outputId": "96c9b80f-4f0d-49ac-87ed-8cdca85c9040"
   },
   "outputs": [
    {
     "data": {
      "text/plain": [
       "<matplotlib.axes._subplots.AxesSubplot at 0x7efe624ae0f0>"
      ]
     },
     "execution_count": 31,
     "metadata": {
      "tags": []
     },
     "output_type": "execute_result"
    },
    {
     "data": {
      "image/png": "[encoded data removed]",
      "text/plain": [
       "<Figure size 432x288 with 1 Axes>"
      ]
     },
     "metadata": {
      "needs_background": "light",
      "tags": []
     },
     "output_type": "display_data"
    }
   ],
   "source": [
    "A.boxplot(column='salary',by='department')"
   ]
  },
  {
   "cell_type": "code",
   "execution_count": 28,
   "metadata": {
    "colab": {
     "base_uri": "https://localhost:8080/"
    },
    "executionInfo": {
     "elapsed": 891,
     "status": "ok",
     "timestamp": 1613664140748,
     "user": {
      "displayName": "Mahesh Anand",
      "photoUrl": "https://lh3.googleusercontent.com/a-/AOh14GgKd7FxLgzXO0MxUwypCgML3QfaeTdE0nT8cpHwLQ=s64",
      "userId": "06788086636039591358"
     },
     "user_tz": -330
    },
    "id": "ImjNZdBz4GX0",
    "outputId": "3fa90393-9429-420c-d2cf-6f726baf2332"
   },
   "outputs": [
    {
     "data": {
      "text/plain": [
       "Hourly      1039\n",
       "Salaried     326\n",
       "Manager      105\n",
       "Name: job_level, dtype: int64"
      ]
     },
     "execution_count": 28,
     "metadata": {
      "tags": []
     },
     "output_type": "execute_result"
    }
   ],
   "source": [
    "A['job_level'].value_counts()"
   ]
  },
  {
   "cell_type": "code",
   "execution_count": 32,
   "metadata": {
    "colab": {
     "base_uri": "https://localhost:8080/",
     "height": 319
    },
    "executionInfo": {
     "elapsed": 1022,
     "status": "ok",
     "timestamp": 1613664272559,
     "user": {
      "displayName": "Mahesh Anand",
      "photoUrl": "https://lh3.googleusercontent.com/a-/AOh14GgKd7FxLgzXO0MxUwypCgML3QfaeTdE0nT8cpHwLQ=s64",
      "userId": "06788086636039591358"
     },
     "user_tz": -330
    },
    "id": "DAArI-9j4pWD",
    "outputId": "489e9269-5afe-4a88-f948-5509c2bd98fb"
   },
   "outputs": [
    {
     "data": {
      "text/plain": [
       "<matplotlib.axes._subplots.AxesSubplot at 0x7efe623c18d0>"
      ]
     },
     "execution_count": 32,
     "metadata": {
      "tags": []
     },
     "output_type": "execute_result"
    },
    {
     "data": {
      "image/png": "[encoded data removed]",
      "text/plain": [
       "<Figure size 432x288 with 1 Axes>"
      ]
     },
     "metadata": {
      "needs_background": "light",
      "tags": []
     },
     "output_type": "display_data"
    }
   ],
   "source": [
    "A.boxplot(column='salary',by='job_level')"
   ]
  },
  {
   "cell_type": "code",
   "execution_count": 37,
   "metadata": {
    "executionInfo": {
     "elapsed": 1045,
     "status": "ok",
     "timestamp": 1613664392738,
     "user": {
      "displayName": "Mahesh Anand",
      "photoUrl": "https://lh3.googleusercontent.com/a-/AOh14GgKd7FxLgzXO0MxUwypCgML3QfaeTdE0nT8cpHwLQ=s64",
      "userId": "06788086636039591358"
     },
     "user_tz": -330
    },
    "id": "pQTij9lLoFWX"
   },
   "outputs": [],
   "source": [
    "g1=A['salary'][A['department']=='Engineering']\r\n",
    "g2=A['salary'][A['department']=='Sales']\r\n",
    "g3=A['salary'][A['department']=='Finance']"
   ]
  },
  {
   "cell_type": "code",
   "execution_count": 38,
   "metadata": {
    "colab": {
     "base_uri": "https://localhost:8080/"
    },
    "executionInfo": {
     "elapsed": 895,
     "status": "ok",
     "timestamp": 1613664395463,
     "user": {
      "displayName": "Mahesh Anand",
      "photoUrl": "https://lh3.googleusercontent.com/a-/AOh14GgKd7FxLgzXO0MxUwypCgML3QfaeTdE0nT8cpHwLQ=s64",
      "userId": "06788086636039591358"
     },
     "user_tz": -330
    },
    "id": "14WSvBBB49n2",
    "outputId": "b561aa29-ebe6-4b36-febc-3acc7fe7098c"
   },
   "outputs": [
    {
     "data": {
      "text/plain": [
       "(73560.73841627462, 75039.9375778251, 76651.66425492064)"
      ]
     },
     "execution_count": 38,
     "metadata": {
      "tags": []
     },
     "output_type": "execute_result"
    }
   ],
   "source": [
    "g1.mean(),g2.mean(),g3.mean()"
   ]
  },
  {
   "cell_type": "code",
   "execution_count": 39,
   "metadata": {
    "executionInfo": {
     "elapsed": 954,
     "status": "ok",
     "timestamp": 1613664444701,
     "user": {
      "displayName": "Mahesh Anand",
      "photoUrl": "https://lh3.googleusercontent.com/a-/AOh14GgKd7FxLgzXO0MxUwypCgML3QfaeTdE0nT8cpHwLQ=s64",
      "userId": "06788086636039591358"
     },
     "user_tz": -330
    },
    "id": "PVgfjSqTr7kR"
   },
   "outputs": [],
   "source": [
    "g1=A['salary'][A['job_level']=='Hourly']\r\n",
    "g2=A['salary'][A['job_level']=='Salaried']\r\n",
    "g3=A['salary'][A['job_level']=='Manager']"
   ]
  },
  {
   "cell_type": "code",
   "execution_count": 40,
   "metadata": {
    "colab": {
     "base_uri": "https://localhost:8080/"
    },
    "executionInfo": {
     "elapsed": 891,
     "status": "ok",
     "timestamp": 1613664461318,
     "user": {
      "displayName": "Mahesh Anand",
      "photoUrl": "https://lh3.googleusercontent.com/a-/AOh14GgKd7FxLgzXO0MxUwypCgML3QfaeTdE0nT8cpHwLQ=s64",
      "userId": "06788086636039591358"
     },
     "user_tz": -330
    },
    "id": "pwm-CiU-5WFj",
    "outputId": "b9769d40-ebd9-4ab9-dbcb-382da010f740"
   },
   "outputs": [
    {
     "data": {
      "text/plain": [
       "(64251.24077572664, 91143.073100092, 119229.1012304762)"
      ]
     },
     "execution_count": 40,
     "metadata": {
      "tags": []
     },
     "output_type": "execute_result"
    }
   ],
   "source": [
    "g1.mean(),g2.mean(),g3.mean()"
   ]
  },
  {
   "cell_type": "code",
   "execution_count": 43,
   "metadata": {
    "colab": {
     "base_uri": "https://localhost:8080/"
    },
    "executionInfo": {
     "elapsed": 953,
     "status": "ok",
     "timestamp": 1613664611840,
     "user": {
      "displayName": "Mahesh Anand",
      "photoUrl": "https://lh3.googleusercontent.com/a-/AOh14GgKd7FxLgzXO0MxUwypCgML3QfaeTdE0nT8cpHwLQ=s64",
      "userId": "06788086636039591358"
     },
     "user_tz": -330
    },
    "id": "XMrXcTVzsBO4",
    "outputId": "372db4d1-9865-4ead-fe1d-5c33d16257e7"
   },
   "outputs": [
    {
     "name": "stdout",
     "output_type": "stream",
     "text": [
      "                df        sum_sq       mean_sq            F    PR(>F)\n",
      "department     2.0  1.081095e+09  5.405473e+08     6.774632  0.001179\n",
      "job_level      2.0  4.084238e+11  2.042119e+11  2559.369839  0.000000\n",
      "Residual    1465.0  1.168922e+11  7.978992e+07          NaN       NaN\n"
     ]
    }
   ],
   "source": [
    "m1 = ols('salary ~ department+job_level', data = A).fit()\r\n",
    "aov_table = anova_lm(m1, typ=1)\r\n",
    "print(aov_table)"
   ]
  },
  {
   "cell_type": "code",
   "execution_count": 44,
   "metadata": {
    "colab": {
     "base_uri": "https://localhost:8080/"
    },
    "executionInfo": {
     "elapsed": 3232,
     "status": "ok",
     "timestamp": 1613665266779,
     "user": {
      "displayName": "Mahesh Anand",
      "photoUrl": "https://lh3.googleusercontent.com/a-/AOh14GgKd7FxLgzXO0MxUwypCgML3QfaeTdE0nT8cpHwLQ=s64",
      "userId": "06788086636039591358"
     },
     "user_tz": -330
    },
    "id": "2yXI5DyWyQ2y",
    "outputId": "6b817a12-761e-4e75-d843-c7ccf614f830"
   },
   "outputs": [
    {
     "data": {
      "text/plain": [
       "(264, 8)"
      ]
     },
     "execution_count": 44,
     "metadata": {
      "tags": []
     },
     "output_type": "execute_result"
    }
   ],
   "source": [
    "data = pd.read_csv(\"/content/drive/My Drive/Statistics Mahesh Anand/Bank.csv\")\r\n",
    "data.shape"
   ]
  },
  {
   "cell_type": "code",
   "execution_count": 45,
   "metadata": {
    "colab": {
     "base_uri": "https://localhost:8080/",
     "height": 204
    },
    "executionInfo": {
     "elapsed": 1835,
     "status": "ok",
     "timestamp": 1613665338366,
     "user": {
      "displayName": "Mahesh Anand",
      "photoUrl": "https://lh3.googleusercontent.com/a-/AOh14GgKd7FxLgzXO0MxUwypCgML3QfaeTdE0nT8cpHwLQ=s64",
      "userId": "06788086636039591358"
     },
     "user_tz": -330
    },
    "id": "aBkaGlHA8unS",
    "outputId": "6c46edee-f15a-43f3-f4d7-8022ef654dc1"
   },
   "outputs": [
    {
     "data": {
      "text/html": [
       "<div>\n",
       "<style scoped>\n",
       "    .dataframe tbody tr th:only-of-type {\n",
       "        vertical-align: middle;\n",
       "    }\n",
       "\n",
       "    .dataframe tbody tr th {\n",
       "        vertical-align: top;\n",
       "    }\n",
       "\n",
       "    .dataframe thead th {\n",
       "        text-align: right;\n",
       "    }\n",
       "</style>\n",
       "<table border=\"1\" class=\"dataframe\">\n",
       "  <thead>\n",
       "    <tr style=\"text-align: right;\">\n",
       "      <th></th>\n",
       "      <th>User I.D</th>\n",
       "      <th>Age</th>\n",
       "      <th>Income</th>\n",
       "      <th>Income2</th>\n",
       "      <th>Deposit</th>\n",
       "      <th>Deposit2</th>\n",
       "      <th>Customer_type</th>\n",
       "      <th>Deposit_Scheme</th>\n",
       "    </tr>\n",
       "  </thead>\n",
       "  <tbody>\n",
       "    <tr>\n",
       "      <th>0</th>\n",
       "      <td>ACX570081</td>\n",
       "      <td>26</td>\n",
       "      <td>32900</td>\n",
       "      <td>20230</td>\n",
       "      <td>14805.0</td>\n",
       "      <td>11935.7</td>\n",
       "      <td>Irregular</td>\n",
       "      <td>Hal-Yearly</td>\n",
       "    </tr>\n",
       "    <tr>\n",
       "      <th>1</th>\n",
       "      <td>ACX570082</td>\n",
       "      <td>43</td>\n",
       "      <td>37390</td>\n",
       "      <td>21410</td>\n",
       "      <td>19442.8</td>\n",
       "      <td>10276.8</td>\n",
       "      <td>Regular</td>\n",
       "      <td>Quaterly</td>\n",
       "    </tr>\n",
       "    <tr>\n",
       "      <th>2</th>\n",
       "      <td>ACX570083</td>\n",
       "      <td>35</td>\n",
       "      <td>11300</td>\n",
       "      <td>22290</td>\n",
       "      <td>5989.0</td>\n",
       "      <td>9361.8</td>\n",
       "      <td>Irregular</td>\n",
       "      <td>Monthly</td>\n",
       "    </tr>\n",
       "    <tr>\n",
       "      <th>3</th>\n",
       "      <td>ACX570084</td>\n",
       "      <td>27</td>\n",
       "      <td>41680</td>\n",
       "      <td>26970</td>\n",
       "      <td>19589.6</td>\n",
       "      <td>15912.3</td>\n",
       "      <td>Irregular</td>\n",
       "      <td>Quaterly</td>\n",
       "    </tr>\n",
       "    <tr>\n",
       "      <th>4</th>\n",
       "      <td>ACX570085</td>\n",
       "      <td>42</td>\n",
       "      <td>27170</td>\n",
       "      <td>27220</td>\n",
       "      <td>14943.5</td>\n",
       "      <td>11160.2</td>\n",
       "      <td>Regular</td>\n",
       "      <td>Quaterly</td>\n",
       "    </tr>\n",
       "  </tbody>\n",
       "</table>\n",
       "</div>"
      ],
      "text/plain": [
       "    User I.D  Age  Income  ...  Deposit2  Customer_type  Deposit_Scheme\n",
       "0  ACX570081   26   32900  ...   11935.7      Irregular      Hal-Yearly\n",
       "1  ACX570082   43   37390  ...   10276.8        Regular        Quaterly\n",
       "2  ACX570083   35   11300  ...    9361.8      Irregular         Monthly\n",
       "3  ACX570084   27   41680  ...   15912.3      Irregular        Quaterly\n",
       "4  ACX570085   42   27170  ...   11160.2        Regular        Quaterly\n",
       "\n",
       "[5 rows x 8 columns]"
      ]
     },
     "execution_count": 45,
     "metadata": {
      "tags": []
     },
     "output_type": "execute_result"
    }
   ],
   "source": [
    "data.head()"
   ]
  },
  {
   "cell_type": "code",
   "execution_count": 46,
   "metadata": {
    "executionInfo": {
     "elapsed": 1790,
     "status": "ok",
     "timestamp": 1613665363253,
     "user": {
      "displayName": "Mahesh Anand",
      "photoUrl": "https://lh3.googleusercontent.com/a-/AOh14GgKd7FxLgzXO0MxUwypCgML3QfaeTdE0nT8cpHwLQ=s64",
      "userId": "06788086636039591358"
     },
     "user_tz": -330
    },
    "id": "IO3KRKk3yVCI"
   },
   "outputs": [],
   "source": [
    "bins = [0, 18, 24, 30, 40, 48, np.inf]\r\n",
    "names = [\"Group-A\", \"Group-B\", \"Group-C\", \"Group-D\" , \"Group-E\" , \"Group-F\" ]\r\n",
    "\r\n",
    "data['Age_Group'] = pd.cut(data.Age, bins, labels=names)"
   ]
  },
  {
   "cell_type": "code",
   "execution_count": 47,
   "metadata": {
    "colab": {
     "base_uri": "https://localhost:8080/",
     "height": 204
    },
    "executionInfo": {
     "elapsed": 1768,
     "status": "ok",
     "timestamp": 1613665373725,
     "user": {
      "displayName": "Mahesh Anand",
      "photoUrl": "https://lh3.googleusercontent.com/a-/AOh14GgKd7FxLgzXO0MxUwypCgML3QfaeTdE0nT8cpHwLQ=s64",
      "userId": "06788086636039591358"
     },
     "user_tz": -330
    },
    "id": "GEvIANCq823s",
    "outputId": "4269fc00-6cf9-40b7-a4bf-82becbf5421a"
   },
   "outputs": [
    {
     "data": {
      "text/html": [
       "<div>\n",
       "<style scoped>\n",
       "    .dataframe tbody tr th:only-of-type {\n",
       "        vertical-align: middle;\n",
       "    }\n",
       "\n",
       "    .dataframe tbody tr th {\n",
       "        vertical-align: top;\n",
       "    }\n",
       "\n",
       "    .dataframe thead th {\n",
       "        text-align: right;\n",
       "    }\n",
       "</style>\n",
       "<table border=\"1\" class=\"dataframe\">\n",
       "  <thead>\n",
       "    <tr style=\"text-align: right;\">\n",
       "      <th></th>\n",
       "      <th>User I.D</th>\n",
       "      <th>Age</th>\n",
       "      <th>Income</th>\n",
       "      <th>Income2</th>\n",
       "      <th>Deposit</th>\n",
       "      <th>Deposit2</th>\n",
       "      <th>Customer_type</th>\n",
       "      <th>Deposit_Scheme</th>\n",
       "      <th>Age_Group</th>\n",
       "    </tr>\n",
       "  </thead>\n",
       "  <tbody>\n",
       "    <tr>\n",
       "      <th>0</th>\n",
       "      <td>ACX570081</td>\n",
       "      <td>26</td>\n",
       "      <td>32900</td>\n",
       "      <td>20230</td>\n",
       "      <td>14805.0</td>\n",
       "      <td>11935.7</td>\n",
       "      <td>Irregular</td>\n",
       "      <td>Hal-Yearly</td>\n",
       "      <td>Group-C</td>\n",
       "    </tr>\n",
       "    <tr>\n",
       "      <th>1</th>\n",
       "      <td>ACX570082</td>\n",
       "      <td>43</td>\n",
       "      <td>37390</td>\n",
       "      <td>21410</td>\n",
       "      <td>19442.8</td>\n",
       "      <td>10276.8</td>\n",
       "      <td>Regular</td>\n",
       "      <td>Quaterly</td>\n",
       "      <td>Group-E</td>\n",
       "    </tr>\n",
       "    <tr>\n",
       "      <th>2</th>\n",
       "      <td>ACX570083</td>\n",
       "      <td>35</td>\n",
       "      <td>11300</td>\n",
       "      <td>22290</td>\n",
       "      <td>5989.0</td>\n",
       "      <td>9361.8</td>\n",
       "      <td>Irregular</td>\n",
       "      <td>Monthly</td>\n",
       "      <td>Group-D</td>\n",
       "    </tr>\n",
       "    <tr>\n",
       "      <th>3</th>\n",
       "      <td>ACX570084</td>\n",
       "      <td>27</td>\n",
       "      <td>41680</td>\n",
       "      <td>26970</td>\n",
       "      <td>19589.6</td>\n",
       "      <td>15912.3</td>\n",
       "      <td>Irregular</td>\n",
       "      <td>Quaterly</td>\n",
       "      <td>Group-C</td>\n",
       "    </tr>\n",
       "    <tr>\n",
       "      <th>4</th>\n",
       "      <td>ACX570085</td>\n",
       "      <td>42</td>\n",
       "      <td>27170</td>\n",
       "      <td>27220</td>\n",
       "      <td>14943.5</td>\n",
       "      <td>11160.2</td>\n",
       "      <td>Regular</td>\n",
       "      <td>Quaterly</td>\n",
       "      <td>Group-E</td>\n",
       "    </tr>\n",
       "  </tbody>\n",
       "</table>\n",
       "</div>"
      ],
      "text/plain": [
       "    User I.D  Age  Income  ...  Customer_type  Deposit_Scheme  Age_Group\n",
       "0  ACX570081   26   32900  ...      Irregular      Hal-Yearly    Group-C\n",
       "1  ACX570082   43   37390  ...        Regular        Quaterly    Group-E\n",
       "2  ACX570083   35   11300  ...      Irregular         Monthly    Group-D\n",
       "3  ACX570084   27   41680  ...      Irregular        Quaterly    Group-C\n",
       "4  ACX570085   42   27170  ...        Regular        Quaterly    Group-E\n",
       "\n",
       "[5 rows x 9 columns]"
      ]
     },
     "execution_count": 47,
     "metadata": {
      "tags": []
     },
     "output_type": "execute_result"
    }
   ],
   "source": [
    "data.head()"
   ]
  },
  {
   "cell_type": "code",
   "execution_count": 48,
   "metadata": {
    "colab": {
     "base_uri": "https://localhost:8080/",
     "height": 296
    },
    "executionInfo": {
     "elapsed": 908,
     "status": "ok",
     "timestamp": 1613665429816,
     "user": {
      "displayName": "Mahesh Anand",
      "photoUrl": "https://lh3.googleusercontent.com/a-/AOh14GgKd7FxLgzXO0MxUwypCgML3QfaeTdE0nT8cpHwLQ=s64",
      "userId": "06788086636039591358"
     },
     "user_tz": -330
    },
    "id": "sxMfD3VcyhwE",
    "outputId": "8be5be3e-7c79-487a-9cb0-d3e25a15c6e0"
   },
   "outputs": [
    {
     "data": {
      "image/png": "[encoded data removed]",
      "text/plain": [
       "<Figure size 432x288 with 1 Axes>"
      ]
     },
     "metadata": {
      "needs_background": "light",
      "tags": []
     },
     "output_type": "display_data"
    }
   ],
   "source": [
    "import matplotlib.pyplot as plt\r\n",
    "import seaborn as sns\r\n",
    "sns.boxplot(x = \"Age_Group\", y = \"Income\", data = data)\r\n",
    "plt.title('Mean Income by  Age Group')\r\n",
    "plt.show()"
   ]
  },
  {
   "cell_type": "code",
   "execution_count": 49,
   "metadata": {
    "colab": {
     "base_uri": "https://localhost:8080/"
    },
    "executionInfo": {
     "elapsed": 1476,
     "status": "ok",
     "timestamp": 1613665485837,
     "user": {
      "displayName": "Mahesh Anand",
      "photoUrl": "https://lh3.googleusercontent.com/a-/AOh14GgKd7FxLgzXO0MxUwypCgML3QfaeTdE0nT8cpHwLQ=s64",
      "userId": "06788086636039591358"
     },
     "user_tz": -330
    },
    "id": "gpPV-4TIyiqd",
    "outputId": "52c44b83-5555-4aa8-9af6-3e05d44f245c"
   },
   "outputs": [
    {
     "name": "stdout",
     "output_type": "stream",
     "text": [
      "                 sum_sq     df         F    PR(>F)\n",
      "Age_Group  1.806153e+08    5.0  0.405621  0.844716\n",
      "Residual   2.297650e+10  258.0       NaN       NaN\n"
     ]
    }
   ],
   "source": [
    "import statsmodels.api as sm\r\n",
    "from   statsmodels.formula.api import ols\r\n",
    " \r\n",
    "mod = ols('Income ~ Age_Group', data = data).fit()\r\n",
    "aov_table = sm.stats.anova_lm(mod, typ=2)\r\n",
    "print(aov_table)"
   ]
  },
  {
   "cell_type": "code",
   "execution_count": 50,
   "metadata": {
    "colab": {
     "base_uri": "https://localhost:8080/",
     "height": 296
    },
    "executionInfo": {
     "elapsed": 980,
     "status": "ok",
     "timestamp": 1613665525336,
     "user": {
      "displayName": "Mahesh Anand",
      "photoUrl": "https://lh3.googleusercontent.com/a-/AOh14GgKd7FxLgzXO0MxUwypCgML3QfaeTdE0nT8cpHwLQ=s64",
      "userId": "06788086636039591358"
     },
     "user_tz": -330
    },
    "id": "vEQYPBTryo1Z",
    "outputId": "0a7f73b0-cf2a-4c62-f4c0-f6fcf35773b3"
   },
   "outputs": [
    {
     "data": {
      "image/png": "[encoded data removed]",
      "text/plain": [
       "<Figure size 432x288 with 1 Axes>"
      ]
     },
     "metadata": {
      "needs_background": "light",
      "tags": []
     },
     "output_type": "display_data"
    }
   ],
   "source": [
    "import matplotlib.pyplot as plt\r\n",
    "import seaborn as sns\r\n",
    "sns.boxplot(x = \"Deposit_Scheme\", y = \"Income\", data = data)\r\n",
    "plt.title('Mean Income by  Deposit')\r\n",
    "plt.show()"
   ]
  },
  {
   "cell_type": "code",
   "execution_count": 51,
   "metadata": {
    "colab": {
     "base_uri": "https://localhost:8080/"
    },
    "executionInfo": {
     "elapsed": 1783,
     "status": "ok",
     "timestamp": 1613665667601,
     "user": {
      "displayName": "Mahesh Anand",
      "photoUrl": "https://lh3.googleusercontent.com/a-/AOh14GgKd7FxLgzXO0MxUwypCgML3QfaeTdE0nT8cpHwLQ=s64",
      "userId": "06788086636039591358"
     },
     "user_tz": -330
    },
    "id": "epgo6Jboyq55",
    "outputId": "0aa497d1-a314-4af3-d2f3-bad6c5008895"
   },
   "outputs": [
    {
     "name": "stdout",
     "output_type": "stream",
     "text": [
      "                      sum_sq     df         F        PR(>F)\n",
      "Deposit_Scheme  7.799853e+09    3.0  44.01742  4.891310e-23\n",
      "Residual        1.535727e+10  260.0       NaN           NaN\n"
     ]
    }
   ],
   "source": [
    "import statsmodels.api as sm\r\n",
    "from   statsmodels.formula.api import ols\r\n",
    " \r\n",
    "mod = ols('Income ~ Deposit_Scheme', data = data).fit()\r\n",
    "aov_table = sm.stats.anova_lm(mod, typ=2)\r\n",
    "print(aov_table)"
   ]
  },
  {
   "cell_type": "markdown",
   "metadata": {
    "id": "yg_SdPM2yyJT"
   },
   "source": [
    "####Conclussion :\r\n",
    "\r\n",
    "As the p-value (4.891310e-23) is less than alpha (0.05) implies,We reject Null hypothesis.That means mean Income over different Deposit Scheme are not same or in other words different Deposit Schemes are influenced by the Income & the purchasing power of the investor. \r\n",
    "\r\n",
    "#### Tukey Test\r\n",
    "Now,we will try to find out for which Deposit scheme the mean income are not same.For that,we \r\n",
    "will conduct a Tukey test.\r\n",
    "\r\n",
    "Tukey test gives us a way to peep inside the data and find out where the variation is. It will give the permutation combination of several classes and 'reject' column help us identify the variation between the groups."
   ]
  },
  {
   "cell_type": "code",
   "execution_count": 52,
   "metadata": {
    "colab": {
     "base_uri": "https://localhost:8080/"
    },
    "executionInfo": {
     "elapsed": 1801,
     "status": "ok",
     "timestamp": 1613665774320,
     "user": {
      "displayName": "Mahesh Anand",
      "photoUrl": "https://lh3.googleusercontent.com/a-/AOh14GgKd7FxLgzXO0MxUwypCgML3QfaeTdE0nT8cpHwLQ=s64",
      "userId": "06788086636039591358"
     },
     "user_tz": -330
    },
    "id": "__viQ2QhyyvS",
    "outputId": "baa0b486-4b2d-448e-de7c-f4624695ea44"
   },
   "outputs": [
    {
     "name": "stdout",
     "output_type": "stream",
     "text": [
      "        Multiple Comparison of Means - Tukey HSD, FWER=0.05        \n",
      "===================================================================\n",
      "  group1    group2   meandiff  p-adj     lower      upper    reject\n",
      "-------------------------------------------------------------------\n",
      "Hal-Yearly  Monthly -11265.787  0.001 -15750.5592 -6781.0149   True\n",
      "Hal-Yearly Quaterly -1084.7775 0.7602   -4081.533  1911.9779  False\n",
      "Hal-Yearly   Yearly  9037.4893  0.001   5420.7781 12654.2006   True\n",
      "   Monthly Quaterly 10181.0095  0.001   5923.9097 14438.1093   True\n",
      "   Monthly   Yearly 20303.2764  0.001  15589.1534 25017.3993   True\n",
      "  Quaterly   Yearly 10122.2668  0.001    6792.054 13452.4797   True\n",
      "-------------------------------------------------------------------\n"
     ]
    }
   ],
   "source": [
    "from statsmodels.stats.multicomp import pairwise_tukeyhsd\r\n",
    "print(pairwise_tukeyhsd(data['Income'],data['Deposit_Scheme']))"
   ]
  },
  {
   "cell_type": "markdown",
   "metadata": {
    "id": "epPRd8Bry3rt"
   },
   "source": [
    "####Conclussion:\r\n",
    "\"reject = True\" implies there exists significant difference in the Group mean.\r\n",
    "\r\n",
    "Apart from the mean Income of Half-Yearly and Quaterly Deposite Scheme all other Deposit Scheme has significant difference."
   ]
  },
  {
   "cell_type": "code",
   "execution_count": null,
   "metadata": {
    "id": "23-6gHlDy4o_"
   },
   "outputs": [],
   "source": [
    ""
   ]
  }
 ],
 "metadata": {
  "colab": {
   "authorship_tag": "ABX9TyN4HNPGd7r8pbGUsqcOYtlx",
   "collapsed_sections": [],
   "name": "Session6_ANOVA.ipynb",
   "provenance": []
  },
  "kernelspec": {
   "display_name": "Python 3",
   "name": "python3"
  }
 },
 "nbformat": 4,
 "nbformat_minor": 0
}
