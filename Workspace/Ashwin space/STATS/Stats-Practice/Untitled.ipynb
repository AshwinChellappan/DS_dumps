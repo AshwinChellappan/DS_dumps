{
 "cells": [
  {
   "cell_type": "code",
   "execution_count": 19,
   "metadata": {},
   "outputs": [],
   "source": [
    "import pandas as pd\n",
    "import numpy as np\n",
    "import seaborn as sns\n",
    "import matplotlib.pyplot as plt\n",
    "from scipy import stats\n",
    "from scipy.stats import shapiro"
   ]
  },
  {
   "cell_type": "code",
   "execution_count": 33,
   "metadata": {},
   "outputs": [],
   "source": [
    "data=pd.read_csv('Laliga.csv')"
   ]
  },
  {
   "cell_type": "code",
   "execution_count": 3,
   "metadata": {},
   "outputs": [
    {
     "data": {
      "text/html": [
       "<div>\n",
       "<style scoped>\n",
       "    .dataframe tbody tr th:only-of-type {\n",
       "        vertical-align: middle;\n",
       "    }\n",
       "\n",
       "    .dataframe tbody tr th {\n",
       "        vertical-align: top;\n",
       "    }\n",
       "\n",
       "    .dataframe thead th {\n",
       "        text-align: right;\n",
       "    }\n",
       "</style>\n",
       "<table border=\"1\" class=\"dataframe\">\n",
       "  <thead>\n",
       "    <tr style=\"text-align: right;\">\n",
       "      <th></th>\n",
       "      <th>Unnamed: 0</th>\n",
       "      <th>Unnamed: 1</th>\n",
       "      <th>Unnamed: 2</th>\n",
       "      <th>Unnamed: 3</th>\n",
       "      <th>Unnamed: 4</th>\n",
       "      <th>Unnamed: 5</th>\n",
       "      <th>Unnamed: 6</th>\n",
       "      <th>Unnamed: 7</th>\n",
       "      <th>Unnamed: 8</th>\n",
       "      <th>Unnamed: 9</th>\n",
       "      <th>Unnamed: 10</th>\n",
       "      <th>Unnamed: 11</th>\n",
       "      <th>Unnamed: 12</th>\n",
       "      <th>Unnamed: 13</th>\n",
       "      <th>Unnamed: 14</th>\n",
       "      <th>Unnamed: 15</th>\n",
       "      <th>Unnamed: 16</th>\n",
       "      <th>Unnamed: 17</th>\n",
       "      <th>Unnamed: 18</th>\n",
       "      <th>Unnamed: 19</th>\n",
       "    </tr>\n",
       "  </thead>\n",
       "  <tbody>\n",
       "    <tr>\n",
       "      <th>0</th>\n",
       "      <td>Pos</td>\n",
       "      <td>Team</td>\n",
       "      <td>Seasons</td>\n",
       "      <td>Points</td>\n",
       "      <td>GamesPlayed</td>\n",
       "      <td>GamesWon</td>\n",
       "      <td>GamesDrawn</td>\n",
       "      <td>GamesLost</td>\n",
       "      <td>GoalsFor</td>\n",
       "      <td>GoalsAgainst</td>\n",
       "      <td>Champion</td>\n",
       "      <td>Runner-up</td>\n",
       "      <td>Third</td>\n",
       "      <td>Fourth</td>\n",
       "      <td>Fifth</td>\n",
       "      <td>Sixth</td>\n",
       "      <td>T</td>\n",
       "      <td>Debut</td>\n",
       "      <td>Since/LastApp</td>\n",
       "      <td>BestPosition</td>\n",
       "    </tr>\n",
       "    <tr>\n",
       "      <th>1</th>\n",
       "      <td>1</td>\n",
       "      <td>Real Madrid</td>\n",
       "      <td>86</td>\n",
       "      <td>4385</td>\n",
       "      <td>2762</td>\n",
       "      <td>1647</td>\n",
       "      <td>552</td>\n",
       "      <td>563</td>\n",
       "      <td>5947</td>\n",
       "      <td>3140</td>\n",
       "      <td>33</td>\n",
       "      <td>23</td>\n",
       "      <td>8</td>\n",
       "      <td>8</td>\n",
       "      <td>3</td>\n",
       "      <td>4</td>\n",
       "      <td>79</td>\n",
       "      <td>1929</td>\n",
       "      <td>1929</td>\n",
       "      <td>1</td>\n",
       "    </tr>\n",
       "    <tr>\n",
       "      <th>2</th>\n",
       "      <td>2</td>\n",
       "      <td>Barcelona</td>\n",
       "      <td>86</td>\n",
       "      <td>4262</td>\n",
       "      <td>2762</td>\n",
       "      <td>1581</td>\n",
       "      <td>573</td>\n",
       "      <td>608</td>\n",
       "      <td>5900</td>\n",
       "      <td>3114</td>\n",
       "      <td>25</td>\n",
       "      <td>25</td>\n",
       "      <td>12</td>\n",
       "      <td>12</td>\n",
       "      <td>4</td>\n",
       "      <td>6</td>\n",
       "      <td>83</td>\n",
       "      <td>1929</td>\n",
       "      <td>1929</td>\n",
       "      <td>1</td>\n",
       "    </tr>\n",
       "    <tr>\n",
       "      <th>3</th>\n",
       "      <td>3</td>\n",
       "      <td>Atletico Madrid</td>\n",
       "      <td>80</td>\n",
       "      <td>3442</td>\n",
       "      <td>2614</td>\n",
       "      <td>1241</td>\n",
       "      <td>598</td>\n",
       "      <td>775</td>\n",
       "      <td>4534</td>\n",
       "      <td>3309</td>\n",
       "      <td>10</td>\n",
       "      <td>8</td>\n",
       "      <td>16</td>\n",
       "      <td>9</td>\n",
       "      <td>7</td>\n",
       "      <td>6</td>\n",
       "      <td>56</td>\n",
       "      <td>1929</td>\n",
       "      <td>2002-03</td>\n",
       "      <td>1</td>\n",
       "    </tr>\n",
       "    <tr>\n",
       "      <th>4</th>\n",
       "      <td>4</td>\n",
       "      <td>Valencia</td>\n",
       "      <td>82</td>\n",
       "      <td>3386</td>\n",
       "      <td>2664</td>\n",
       "      <td>1187</td>\n",
       "      <td>616</td>\n",
       "      <td>861</td>\n",
       "      <td>4398</td>\n",
       "      <td>3469</td>\n",
       "      <td>6</td>\n",
       "      <td>6</td>\n",
       "      <td>10</td>\n",
       "      <td>11</td>\n",
       "      <td>10</td>\n",
       "      <td>7</td>\n",
       "      <td>50</td>\n",
       "      <td>1931-32</td>\n",
       "      <td>1987-88</td>\n",
       "      <td>1</td>\n",
       "    </tr>\n",
       "  </tbody>\n",
       "</table>\n",
       "</div>"
      ],
      "text/plain": [
       "  Unnamed: 0       Unnamed: 1 Unnamed: 2 Unnamed: 3   Unnamed: 4 Unnamed: 5  \\\n",
       "0        Pos             Team    Seasons     Points  GamesPlayed   GamesWon   \n",
       "1          1      Real Madrid         86       4385         2762       1647   \n",
       "2          2        Barcelona         86       4262         2762       1581   \n",
       "3          3  Atletico Madrid         80       3442         2614       1241   \n",
       "4          4         Valencia         82       3386         2664       1187   \n",
       "\n",
       "   Unnamed: 6 Unnamed: 7 Unnamed: 8    Unnamed: 9 Unnamed: 10 Unnamed: 11  \\\n",
       "0  GamesDrawn  GamesLost   GoalsFor  GoalsAgainst    Champion   Runner-up   \n",
       "1         552        563       5947          3140          33          23   \n",
       "2         573        608       5900          3114          25          25   \n",
       "3         598        775       4534          3309          10           8   \n",
       "4         616        861       4398          3469           6           6   \n",
       "\n",
       "  Unnamed: 12 Unnamed: 13 Unnamed: 14 Unnamed: 15 Unnamed: 16 Unnamed: 17  \\\n",
       "0       Third      Fourth       Fifth       Sixth           T       Debut   \n",
       "1           8           8           3           4          79        1929   \n",
       "2          12          12           4           6          83        1929   \n",
       "3          16           9           7           6          56        1929   \n",
       "4          10          11          10           7          50     1931-32   \n",
       "\n",
       "     Unnamed: 18   Unnamed: 19  \n",
       "0  Since/LastApp  BestPosition  \n",
       "1           1929             1  \n",
       "2           1929             1  \n",
       "3        2002-03             1  \n",
       "4        1987-88             1  "
      ]
     },
     "execution_count": 3,
     "metadata": {},
     "output_type": "execute_result"
    }
   ],
   "source": [
    "data.head()"
   ]
  },
  {
   "cell_type": "code",
   "execution_count": 49,
   "metadata": {},
   "outputs": [],
   "source": [
    "data=data.rename(columns=data.iloc[0]).drop(data.index[0])"
   ]
  },
  {
   "cell_type": "code",
   "execution_count": 50,
   "metadata": {},
   "outputs": [
    {
     "data": {
      "text/plain": [
       "Index(['Pos', 'Team', 'Seasons', 'Points', 'GamesPlayed', 'GamesWon',\n",
       "       'GamesDrawn', 'GamesLost', 'GoalsFor', 'GoalsAgainst', 'Champion',\n",
       "       'Runner-up', 'Third', 'Fourth', 'Fifth', 'Sixth', 'T', 'Debu',\n",
       "       'Since/LastApp', 'BestPosition'],\n",
       "      dtype='object')"
      ]
     },
     "execution_count": 50,
     "metadata": {},
     "output_type": "execute_result"
    }
   ],
   "source": [
    "data.columns"
   ]
  },
  {
   "cell_type": "code",
   "execution_count": 54,
   "metadata": {},
   "outputs": [
    {
     "data": {
      "text/plain": [
       "array(['1929', '1931', '1934', '1939', '1932', '1941', '1948', '1944',\n",
       "       '1935', '1949', '1933', '1960', '1951', '1998', '1977', '1959',\n",
       "       '2004', '1961', '1940', '1930', '1963', '1974', '1943', '1987',\n",
       "       '1991', '2007', '1962', '1994', '1978', '1971', '1999', '2014',\n",
       "       '1990', '1947', '1996', '1995', '1945', '1953', '1979', '1950',\n",
       "       '2016', '2009', '1956', '1955', '2017'], dtype=object)"
      ]
     },
     "execution_count": 54,
     "metadata": {},
     "output_type": "execute_result"
    }
   ],
   "source": [
    "data['Debu'].unique()"
   ]
  },
  {
   "cell_type": "code",
   "execution_count": 55,
   "metadata": {},
   "outputs": [],
   "source": [
    "data['Debu']=data['Debu'].astype(str).str[:4].astype('int', copy=True, errors= 'ignore')"
   ]
  },
  {
   "cell_type": "code",
   "execution_count": 63,
   "metadata": {},
   "outputs": [],
   "source": [
    "data['Since/LastApp']=data['Since/LastApp'].astype(str).str[:4].astype('int', copy=True, errors= 'ignore')"
   ]
  },
  {
   "cell_type": "code",
   "execution_count": 104,
   "metadata": {},
   "outputs": [],
   "source": [
    "data['Points']=data['Points'].astype('int', copy=True, errors= 'ignore')"
   ]
  },
  {
   "cell_type": "code",
   "execution_count": 133,
   "metadata": {},
   "outputs": [],
   "source": [
    "data['GamesPlayed']=data['GamesPlayed'].astype('int', copy=True, errors= 'ignore')\n",
    "data['GamesWon']=data['GamesWon'].astype('int', copy=True, errors= 'ignore')\n",
    "data['BestPosition']=data['BestPosition'].astype('int', copy=True, errors= 'ignore')"
   ]
  },
  {
   "cell_type": "code",
   "execution_count": null,
   "metadata": {},
   "outputs": [],
   "source": [
    "data.replace('-',0,inplace=True)"
   ]
  },
  {
   "cell_type": "code",
   "execution_count": 56,
   "metadata": {},
   "outputs": [
    {
     "data": {
      "text/plain": [
       "dtype('int32')"
      ]
     },
     "execution_count": 56,
     "metadata": {},
     "output_type": "execute_result"
    }
   ],
   "source": [
    "data['Debu'].dtype"
   ]
  },
  {
   "cell_type": "code",
   "execution_count": 77,
   "metadata": {},
   "outputs": [
    {
     "data": {
      "text/plain": [
       "1929"
      ]
     },
     "execution_count": 77,
     "metadata": {},
     "output_type": "execute_result"
    }
   ],
   "source": [
    "data['Debu'].min()"
   ]
  },
  {
   "cell_type": "code",
   "execution_count": null,
   "metadata": {},
   "outputs": [],
   "source": [
    "#1.Which are the teams which started playing between 1930-1980?"
   ]
  },
  {
   "cell_type": "code",
   "execution_count": 65,
   "metadata": {},
   "outputs": [],
   "source": [
    "df_new = data[data['Debu'].between(1930, 1980)]"
   ]
  },
  {
   "cell_type": "code",
   "execution_count": 66,
   "metadata": {},
   "outputs": [
    {
     "data": {
      "text/html": [
       "<div>\n",
       "<style scoped>\n",
       "    .dataframe tbody tr th:only-of-type {\n",
       "        vertical-align: middle;\n",
       "    }\n",
       "\n",
       "    .dataframe tbody tr th {\n",
       "        vertical-align: top;\n",
       "    }\n",
       "\n",
       "    .dataframe thead th {\n",
       "        text-align: right;\n",
       "    }\n",
       "</style>\n",
       "<table border=\"1\" class=\"dataframe\">\n",
       "  <thead>\n",
       "    <tr style=\"text-align: right;\">\n",
       "      <th></th>\n",
       "      <th>Pos</th>\n",
       "      <th>Team</th>\n",
       "      <th>Seasons</th>\n",
       "      <th>Points</th>\n",
       "      <th>GamesPlayed</th>\n",
       "      <th>GamesWon</th>\n",
       "      <th>GamesDrawn</th>\n",
       "      <th>GamesLost</th>\n",
       "      <th>GoalsFor</th>\n",
       "      <th>GoalsAgainst</th>\n",
       "      <th>Champion</th>\n",
       "      <th>Runner-up</th>\n",
       "      <th>Third</th>\n",
       "      <th>Fourth</th>\n",
       "      <th>Fifth</th>\n",
       "      <th>Sixth</th>\n",
       "      <th>T</th>\n",
       "      <th>Debu</th>\n",
       "      <th>Since/LastApp</th>\n",
       "      <th>BestPosition</th>\n",
       "    </tr>\n",
       "  </thead>\n",
       "  <tbody>\n",
       "    <tr>\n",
       "      <th>4</th>\n",
       "      <td>4</td>\n",
       "      <td>Valencia</td>\n",
       "      <td>82</td>\n",
       "      <td>3386</td>\n",
       "      <td>2664</td>\n",
       "      <td>1187</td>\n",
       "      <td>616</td>\n",
       "      <td>861</td>\n",
       "      <td>4398</td>\n",
       "      <td>3469</td>\n",
       "      <td>6</td>\n",
       "      <td>6</td>\n",
       "      <td>10</td>\n",
       "      <td>11</td>\n",
       "      <td>10</td>\n",
       "      <td>7</td>\n",
       "      <td>50</td>\n",
       "      <td>1931</td>\n",
       "      <td>1987</td>\n",
       "      <td>1</td>\n",
       "    </tr>\n",
       "    <tr>\n",
       "      <th>6</th>\n",
       "      <td>6</td>\n",
       "      <td>Sevilla</td>\n",
       "      <td>73</td>\n",
       "      <td>2819</td>\n",
       "      <td>2408</td>\n",
       "      <td>990</td>\n",
       "      <td>531</td>\n",
       "      <td>887</td>\n",
       "      <td>3680</td>\n",
       "      <td>3373</td>\n",
       "      <td>1</td>\n",
       "      <td>4</td>\n",
       "      <td>4</td>\n",
       "      <td>5</td>\n",
       "      <td>12</td>\n",
       "      <td>6</td>\n",
       "      <td>32</td>\n",
       "      <td>1934</td>\n",
       "      <td>2001</td>\n",
       "      <td>1</td>\n",
       "    </tr>\n",
       "    <tr>\n",
       "      <th>9</th>\n",
       "      <td>9</td>\n",
       "      <td>Zaragoza</td>\n",
       "      <td>58</td>\n",
       "      <td>2109</td>\n",
       "      <td>1986</td>\n",
       "      <td>698</td>\n",
       "      <td>522</td>\n",
       "      <td>766</td>\n",
       "      <td>2683</td>\n",
       "      <td>2847</td>\n",
       "      <td>-</td>\n",
       "      <td>1</td>\n",
       "      <td>4</td>\n",
       "      <td>5</td>\n",
       "      <td>4</td>\n",
       "      <td>4</td>\n",
       "      <td>18</td>\n",
       "      <td>1939</td>\n",
       "      <td>2012</td>\n",
       "      <td>2</td>\n",
       "    </tr>\n",
       "    <tr>\n",
       "      <th>10</th>\n",
       "      <td>10</td>\n",
       "      <td>Real Betis</td>\n",
       "      <td>51</td>\n",
       "      <td>1884</td>\n",
       "      <td>1728</td>\n",
       "      <td>606</td>\n",
       "      <td>440</td>\n",
       "      <td>682</td>\n",
       "      <td>2159</td>\n",
       "      <td>2492</td>\n",
       "      <td>1</td>\n",
       "      <td>-</td>\n",
       "      <td>2</td>\n",
       "      <td>3</td>\n",
       "      <td>4</td>\n",
       "      <td>4</td>\n",
       "      <td>14</td>\n",
       "      <td>1932</td>\n",
       "      <td>2015</td>\n",
       "      <td>1</td>\n",
       "    </tr>\n",
       "    <tr>\n",
       "      <th>11</th>\n",
       "      <td>11</td>\n",
       "      <td>Deportivo La Coruna</td>\n",
       "      <td>45</td>\n",
       "      <td>1814</td>\n",
       "      <td>1530</td>\n",
       "      <td>563</td>\n",
       "      <td>392</td>\n",
       "      <td>575</td>\n",
       "      <td>2052</td>\n",
       "      <td>2188</td>\n",
       "      <td>1</td>\n",
       "      <td>5</td>\n",
       "      <td>4</td>\n",
       "      <td>1</td>\n",
       "      <td>-</td>\n",
       "      <td>1</td>\n",
       "      <td>12</td>\n",
       "      <td>1941</td>\n",
       "      <td>2014</td>\n",
       "      <td>1</td>\n",
       "    </tr>\n",
       "  </tbody>\n",
       "</table>\n",
       "</div>"
      ],
      "text/plain": [
       "   Pos                 Team Seasons Points GamesPlayed GamesWon GamesDrawn  \\\n",
       "4    4             Valencia      82   3386        2664     1187        616   \n",
       "6    6              Sevilla      73   2819        2408      990        531   \n",
       "9    9             Zaragoza      58   2109        1986      698        522   \n",
       "10  10           Real Betis      51   1884        1728      606        440   \n",
       "11  11  Deportivo La Coruna      45   1814        1530      563        392   \n",
       "\n",
       "   GamesLost GoalsFor GoalsAgainst Champion Runner-up Third Fourth Fifth  \\\n",
       "4        861     4398         3469        6         6    10     11    10   \n",
       "6        887     3680         3373        1         4     4      5    12   \n",
       "9        766     2683         2847        -         1     4      5     4   \n",
       "10       682     2159         2492        1         -     2      3     4   \n",
       "11       575     2052         2188        1         5     4      1     -   \n",
       "\n",
       "   Sixth   T  Debu  Since/LastApp BestPosition  \n",
       "4      7  50  1931           1987            1  \n",
       "6      6  32  1934           2001            1  \n",
       "9      4  18  1939           2012            2  \n",
       "10     4  14  1932           2015            1  \n",
       "11     1  12  1941           2014            1  "
      ]
     },
     "execution_count": 66,
     "metadata": {},
     "output_type": "execute_result"
    }
   ],
   "source": [
    "df_new.head()"
   ]
  },
  {
   "cell_type": "code",
   "execution_count": 68,
   "metadata": {},
   "outputs": [
    {
     "data": {
      "text/plain": [
       "count      37.000000\n",
       "mean     1951.000000\n",
       "std        14.632536\n",
       "min      1930.000000\n",
       "25%      1940.000000\n",
       "50%      1949.000000\n",
       "75%      1961.000000\n",
       "max      1979.000000\n",
       "Name: Debu, dtype: float64"
      ]
     },
     "execution_count": 68,
     "metadata": {},
     "output_type": "execute_result"
    }
   ],
   "source": [
    "df_new['Debu'].describe()"
   ]
  },
  {
   "cell_type": "code",
   "execution_count": 79,
   "metadata": {},
   "outputs": [
    {
     "name": "stderr",
     "output_type": "stream",
     "text": [
      "C:\\Users\\AS20188795\\Anaconda3\\lib\\site-packages\\seaborn\\distributions.py:2551: FutureWarning: `distplot` is a deprecated function and will be removed in a future version. Please adapt your code to use either `displot` (a figure-level function with similar flexibility) or `histplot` (an axes-level function for histograms).\n",
      "  warnings.warn(msg, FutureWarning)\n"
     ]
    },
    {
     "data": {
      "image/png": "[encoded data removed]",
      "text/plain": [
       "<Figure size 432x288 with 1 Axes>"
      ]
     },
     "metadata": {
      "needs_background": "light"
     },
     "output_type": "display_data"
    }
   ],
   "source": [
    "sns.distplot(df_new['Debu'])\n",
    "plt.show()"
   ]
  },
  {
   "cell_type": "code",
   "execution_count": 112,
   "metadata": {},
   "outputs": [
    {
     "data": {
      "text/plain": [
       "Pos              object\n",
       "Team             object\n",
       "Seasons          object\n",
       "Points            int32\n",
       "GamesPlayed       int32\n",
       "GamesWon          int32\n",
       "GamesDrawn       object\n",
       "GamesLost        object\n",
       "GoalsFor         object\n",
       "GoalsAgainst     object\n",
       "Champion         object\n",
       "Runner-up        object\n",
       "Third            object\n",
       "Fourth           object\n",
       "Fifth            object\n",
       "Sixth            object\n",
       "T                object\n",
       "Debu              int32\n",
       "Since/LastApp     int32\n",
       "BestPosition     object\n",
       "dtype: object"
      ]
     },
     "execution_count": 112,
     "metadata": {},
     "output_type": "execute_result"
    }
   ],
   "source": [
    "data.dtypes"
   ]
  },
  {
   "cell_type": "code",
   "execution_count": null,
   "metadata": {},
   "outputs": [],
   "source": [
    "#2.Which are the top 5 teams in terms of points?"
   ]
  },
  {
   "cell_type": "code",
   "execution_count": 107,
   "metadata": {},
   "outputs": [
    {
     "data": {
      "text/html": [
       "<div>\n",
       "<style scoped>\n",
       "    .dataframe tbody tr th:only-of-type {\n",
       "        vertical-align: middle;\n",
       "    }\n",
       "\n",
       "    .dataframe tbody tr th {\n",
       "        vertical-align: top;\n",
       "    }\n",
       "\n",
       "    .dataframe thead th {\n",
       "        text-align: right;\n",
       "    }\n",
       "</style>\n",
       "<table border=\"1\" class=\"dataframe\">\n",
       "  <thead>\n",
       "    <tr style=\"text-align: right;\">\n",
       "      <th></th>\n",
       "      <th>Points</th>\n",
       "      <th>Team</th>\n",
       "    </tr>\n",
       "  </thead>\n",
       "  <tbody>\n",
       "    <tr>\n",
       "      <th>1</th>\n",
       "      <td>4385</td>\n",
       "      <td>Real Madrid</td>\n",
       "    </tr>\n",
       "    <tr>\n",
       "      <th>2</th>\n",
       "      <td>4262</td>\n",
       "      <td>Barcelona</td>\n",
       "    </tr>\n",
       "    <tr>\n",
       "      <th>3</th>\n",
       "      <td>3442</td>\n",
       "      <td>Atletico Madrid</td>\n",
       "    </tr>\n",
       "    <tr>\n",
       "      <th>4</th>\n",
       "      <td>3386</td>\n",
       "      <td>Valencia</td>\n",
       "    </tr>\n",
       "    <tr>\n",
       "      <th>5</th>\n",
       "      <td>3368</td>\n",
       "      <td>Athletic Bilbao</td>\n",
       "    </tr>\n",
       "  </tbody>\n",
       "</table>\n",
       "</div>"
      ],
      "text/plain": [
       "   Points             Team\n",
       "1    4385      Real Madrid\n",
       "2    4262        Barcelona\n",
       "3    3442  Atletico Madrid\n",
       "4    3386         Valencia\n",
       "5    3368  Athletic Bilbao"
      ]
     },
     "execution_count": 107,
     "metadata": {},
     "output_type": "execute_result"
    }
   ],
   "source": [
    "data[['Points','Team']].sort_values(by = 'Points',ascending = False).head(5)"
   ]
  },
  {
   "cell_type": "code",
   "execution_count": 110,
   "metadata": {},
   "outputs": [
    {
     "data": {
      "text/html": [
       "<div>\n",
       "<style scoped>\n",
       "    .dataframe tbody tr th:only-of-type {\n",
       "        vertical-align: middle;\n",
       "    }\n",
       "\n",
       "    .dataframe tbody tr th {\n",
       "        vertical-align: top;\n",
       "    }\n",
       "\n",
       "    .dataframe thead th {\n",
       "        text-align: right;\n",
       "    }\n",
       "</style>\n",
       "<table border=\"1\" class=\"dataframe\">\n",
       "  <thead>\n",
       "    <tr style=\"text-align: right;\">\n",
       "      <th></th>\n",
       "      <th>Pos</th>\n",
       "      <th>Team</th>\n",
       "      <th>Seasons</th>\n",
       "      <th>Points</th>\n",
       "      <th>GamesPlayed</th>\n",
       "      <th>GamesWon</th>\n",
       "      <th>GamesDrawn</th>\n",
       "      <th>GamesLost</th>\n",
       "      <th>GoalsFor</th>\n",
       "      <th>GoalsAgainst</th>\n",
       "      <th>Champion</th>\n",
       "      <th>Runner-up</th>\n",
       "      <th>Third</th>\n",
       "      <th>Fourth</th>\n",
       "      <th>Fifth</th>\n",
       "      <th>Sixth</th>\n",
       "      <th>T</th>\n",
       "      <th>Debu</th>\n",
       "      <th>Since/LastApp</th>\n",
       "      <th>BestPosition</th>\n",
       "    </tr>\n",
       "  </thead>\n",
       "  <tbody>\n",
       "    <tr>\n",
       "      <th>1</th>\n",
       "      <td>1</td>\n",
       "      <td>Real Madrid</td>\n",
       "      <td>86</td>\n",
       "      <td>4385</td>\n",
       "      <td>2762</td>\n",
       "      <td>1647</td>\n",
       "      <td>552</td>\n",
       "      <td>563</td>\n",
       "      <td>5947</td>\n",
       "      <td>3140</td>\n",
       "      <td>33</td>\n",
       "      <td>23</td>\n",
       "      <td>8</td>\n",
       "      <td>8</td>\n",
       "      <td>3</td>\n",
       "      <td>4</td>\n",
       "      <td>79</td>\n",
       "      <td>1929</td>\n",
       "      <td>1929</td>\n",
       "      <td>1</td>\n",
       "    </tr>\n",
       "    <tr>\n",
       "      <th>2</th>\n",
       "      <td>2</td>\n",
       "      <td>Barcelona</td>\n",
       "      <td>86</td>\n",
       "      <td>4262</td>\n",
       "      <td>2762</td>\n",
       "      <td>1581</td>\n",
       "      <td>573</td>\n",
       "      <td>608</td>\n",
       "      <td>5900</td>\n",
       "      <td>3114</td>\n",
       "      <td>25</td>\n",
       "      <td>25</td>\n",
       "      <td>12</td>\n",
       "      <td>12</td>\n",
       "      <td>4</td>\n",
       "      <td>6</td>\n",
       "      <td>83</td>\n",
       "      <td>1929</td>\n",
       "      <td>1929</td>\n",
       "      <td>1</td>\n",
       "    </tr>\n",
       "    <tr>\n",
       "      <th>3</th>\n",
       "      <td>3</td>\n",
       "      <td>Atletico Madrid</td>\n",
       "      <td>80</td>\n",
       "      <td>3442</td>\n",
       "      <td>2614</td>\n",
       "      <td>1241</td>\n",
       "      <td>598</td>\n",
       "      <td>775</td>\n",
       "      <td>4534</td>\n",
       "      <td>3309</td>\n",
       "      <td>10</td>\n",
       "      <td>8</td>\n",
       "      <td>16</td>\n",
       "      <td>9</td>\n",
       "      <td>7</td>\n",
       "      <td>6</td>\n",
       "      <td>56</td>\n",
       "      <td>1929</td>\n",
       "      <td>2002</td>\n",
       "      <td>1</td>\n",
       "    </tr>\n",
       "    <tr>\n",
       "      <th>4</th>\n",
       "      <td>4</td>\n",
       "      <td>Valencia</td>\n",
       "      <td>82</td>\n",
       "      <td>3386</td>\n",
       "      <td>2664</td>\n",
       "      <td>1187</td>\n",
       "      <td>616</td>\n",
       "      <td>861</td>\n",
       "      <td>4398</td>\n",
       "      <td>3469</td>\n",
       "      <td>6</td>\n",
       "      <td>6</td>\n",
       "      <td>10</td>\n",
       "      <td>11</td>\n",
       "      <td>10</td>\n",
       "      <td>7</td>\n",
       "      <td>50</td>\n",
       "      <td>1931</td>\n",
       "      <td>1987</td>\n",
       "      <td>1</td>\n",
       "    </tr>\n",
       "    <tr>\n",
       "      <th>5</th>\n",
       "      <td>5</td>\n",
       "      <td>Athletic Bilbao</td>\n",
       "      <td>86</td>\n",
       "      <td>3368</td>\n",
       "      <td>2762</td>\n",
       "      <td>1209</td>\n",
       "      <td>633</td>\n",
       "      <td>920</td>\n",
       "      <td>4631</td>\n",
       "      <td>3700</td>\n",
       "      <td>8</td>\n",
       "      <td>7</td>\n",
       "      <td>10</td>\n",
       "      <td>5</td>\n",
       "      <td>8</td>\n",
       "      <td>10</td>\n",
       "      <td>49</td>\n",
       "      <td>1929</td>\n",
       "      <td>1929</td>\n",
       "      <td>1</td>\n",
       "    </tr>\n",
       "  </tbody>\n",
       "</table>\n",
       "</div>"
      ],
      "text/plain": [
       "  Pos             Team Seasons  Points GamesPlayed GamesWon GamesDrawn  \\\n",
       "1   1      Real Madrid      86    4385        2762     1647        552   \n",
       "2   2        Barcelona      86    4262        2762     1581        573   \n",
       "3   3  Atletico Madrid      80    3442        2614     1241        598   \n",
       "4   4         Valencia      82    3386        2664     1187        616   \n",
       "5   5  Athletic Bilbao      86    3368        2762     1209        633   \n",
       "\n",
       "  GamesLost GoalsFor GoalsAgainst Champion Runner-up Third Fourth Fifth Sixth  \\\n",
       "1       563     5947         3140       33        23     8      8     3     4   \n",
       "2       608     5900         3114       25        25    12     12     4     6   \n",
       "3       775     4534         3309       10         8    16      9     7     6   \n",
       "4       861     4398         3469        6         6    10     11    10     7   \n",
       "5       920     4631         3700        8         7    10      5     8    10   \n",
       "\n",
       "    T  Debu  Since/LastApp BestPosition  \n",
       "1  79  1929           1929            1  \n",
       "2  83  1929           1929            1  \n",
       "3  56  1929           2002            1  \n",
       "4  50  1931           1987            1  \n",
       "5  49  1929           1929            1  "
      ]
     },
     "execution_count": 110,
     "metadata": {},
     "output_type": "execute_result"
    }
   ],
   "source": [
    "data.sort_values(by='Points',ascending=False).head(5)"
   ]
  },
  {
   "cell_type": "code",
   "execution_count": 105,
   "metadata": {},
   "outputs": [
    {
     "data": {
      "text/plain": [
       "dtype('int32')"
      ]
     },
     "execution_count": 105,
     "metadata": {},
     "output_type": "execute_result"
    }
   ],
   "source": [
    "data['Points'].dtype"
   ]
  },
  {
   "cell_type": "markdown",
   "metadata": {},
   "source": [
    "3.What is the distribution of the winning percentage for all teams? Which teams are in the top 5 in terms of winning percentage? (Winning percentage= (GamesWon / GamesPlayed)*100)"
   ]
  },
  {
   "cell_type": "code",
   "execution_count": 134,
   "metadata": {},
   "outputs": [],
   "source": [
    "data['WinningPercentage']=(data['GamesWon']/data['GamesPlayed'])*100"
   ]
  },
  {
   "cell_type": "code",
   "execution_count": 135,
   "metadata": {},
   "outputs": [],
   "source": [
    "df=data[['Team','WinningPercentage','BestPosition']].sort_values(by='WinningPercentage',ascending=False)"
   ]
  },
  {
   "cell_type": "code",
   "execution_count": 136,
   "metadata": {},
   "outputs": [
    {
     "data": {
      "text/html": [
       "<div>\n",
       "<style scoped>\n",
       "    .dataframe tbody tr th:only-of-type {\n",
       "        vertical-align: middle;\n",
       "    }\n",
       "\n",
       "    .dataframe tbody tr th {\n",
       "        vertical-align: top;\n",
       "    }\n",
       "\n",
       "    .dataframe thead th {\n",
       "        text-align: right;\n",
       "    }\n",
       "</style>\n",
       "<table border=\"1\" class=\"dataframe\">\n",
       "  <thead>\n",
       "    <tr style=\"text-align: right;\">\n",
       "      <th></th>\n",
       "      <th>Team</th>\n",
       "      <th>WinningPercentage</th>\n",
       "      <th>BestPosition</th>\n",
       "    </tr>\n",
       "  </thead>\n",
       "  <tbody>\n",
       "    <tr>\n",
       "      <th>1</th>\n",
       "      <td>Real Madrid</td>\n",
       "      <td>59.630702</td>\n",
       "      <td>1</td>\n",
       "    </tr>\n",
       "    <tr>\n",
       "      <th>2</th>\n",
       "      <td>Barcelona</td>\n",
       "      <td>57.241130</td>\n",
       "      <td>1</td>\n",
       "    </tr>\n",
       "    <tr>\n",
       "      <th>3</th>\n",
       "      <td>Atletico Madrid</td>\n",
       "      <td>47.475134</td>\n",
       "      <td>1</td>\n",
       "    </tr>\n",
       "    <tr>\n",
       "      <th>4</th>\n",
       "      <td>Valencia</td>\n",
       "      <td>44.557057</td>\n",
       "      <td>1</td>\n",
       "    </tr>\n",
       "    <tr>\n",
       "      <th>5</th>\n",
       "      <td>Athletic Bilbao</td>\n",
       "      <td>43.772629</td>\n",
       "      <td>1</td>\n",
       "    </tr>\n",
       "  </tbody>\n",
       "</table>\n",
       "</div>"
      ],
      "text/plain": [
       "              Team  WinningPercentage  BestPosition\n",
       "1      Real Madrid          59.630702             1\n",
       "2        Barcelona          57.241130             1\n",
       "3  Atletico Madrid          47.475134             1\n",
       "4         Valencia          44.557057             1\n",
       "5  Athletic Bilbao          43.772629             1"
      ]
     },
     "execution_count": 136,
     "metadata": {},
     "output_type": "execute_result"
    }
   ],
   "source": [
    "df.head()"
   ]
  },
  {
   "cell_type": "markdown",
   "metadata": {},
   "source": [
    "4.Is there a significant difference in the winning percentage for teams which have attained a best position between 1-3 and those teams which have had a best position between 4-7."
   ]
  },
  {
   "cell_type": "code",
   "execution_count": null,
   "metadata": {},
   "outputs": [],
   "source": [
    "#H0=There is no significant difference\n",
    "#H1=There is significant difference"
   ]
  },
  {
   "cell_type": "code",
   "execution_count": 140,
   "metadata": {},
   "outputs": [],
   "source": [
    "a=df[df['BestPosition'].between(1,3)]"
   ]
  },
  {
   "cell_type": "code",
   "execution_count": 144,
   "metadata": {},
   "outputs": [],
   "source": [
    "b=df[df['BestPosition'].between(4,7)]"
   ]
  },
  {
   "cell_type": "code",
   "execution_count": 148,
   "metadata": {},
   "outputs": [],
   "source": [
    "t,p=stats.ttest_ind(a['WinningPercentage'],b['WinningPercentage'])"
   ]
  },
  {
   "cell_type": "code",
   "execution_count": 156,
   "metadata": {},
   "outputs": [
    {
     "name": "stdout",
     "output_type": "stream",
     "text": [
      "T-value 4.9927153394472805\n",
      "P-value 1.5362101870160653e-05\n"
     ]
    }
   ],
   "source": [
    "print('T-value',t)\n",
    "print('P-value',p)"
   ]
  },
  {
   "cell_type": "code",
   "execution_count": null,
   "metadata": {},
   "outputs": [],
   "source": [
    "#Hence p value is less than 0.05 ,Hence we reject null Hypothesis,\n",
    "#So we conclude there is significant difference b/w winning percentage of position 1-3 and 4-7"
   ]
  },
  {
   "cell_type": "code",
   "execution_count": null,
   "metadata": {},
   "outputs": [],
   "source": []
  },
  {
   "cell_type": "code",
   "execution_count": 2,
   "metadata": {},
   "outputs": [],
   "source": [
    "df=pd.read_csv('Golf.csv')"
   ]
  },
  {
   "cell_type": "code",
   "execution_count": 3,
   "metadata": {},
   "outputs": [
    {
     "data": {
      "text/html": [
       "<div>\n",
       "<style scoped>\n",
       "    .dataframe tbody tr th:only-of-type {\n",
       "        vertical-align: middle;\n",
       "    }\n",
       "\n",
       "    .dataframe tbody tr th {\n",
       "        vertical-align: top;\n",
       "    }\n",
       "\n",
       "    .dataframe thead th {\n",
       "        text-align: right;\n",
       "    }\n",
       "</style>\n",
       "<table border=\"1\" class=\"dataframe\">\n",
       "  <thead>\n",
       "    <tr style=\"text-align: right;\">\n",
       "      <th></th>\n",
       "      <th>Current</th>\n",
       "      <th>New</th>\n",
       "    </tr>\n",
       "  </thead>\n",
       "  <tbody>\n",
       "    <tr>\n",
       "      <th>0</th>\n",
       "      <td>264</td>\n",
       "      <td>277</td>\n",
       "    </tr>\n",
       "    <tr>\n",
       "      <th>1</th>\n",
       "      <td>261</td>\n",
       "      <td>269</td>\n",
       "    </tr>\n",
       "    <tr>\n",
       "      <th>2</th>\n",
       "      <td>267</td>\n",
       "      <td>263</td>\n",
       "    </tr>\n",
       "    <tr>\n",
       "      <th>3</th>\n",
       "      <td>272</td>\n",
       "      <td>266</td>\n",
       "    </tr>\n",
       "    <tr>\n",
       "      <th>4</th>\n",
       "      <td>258</td>\n",
       "      <td>262</td>\n",
       "    </tr>\n",
       "  </tbody>\n",
       "</table>\n",
       "</div>"
      ],
      "text/plain": [
       "   Current  New\n",
       "0      264  277\n",
       "1      261  269\n",
       "2      267  263\n",
       "3      272  266\n",
       "4      258  262"
      ]
     },
     "execution_count": 3,
     "metadata": {},
     "output_type": "execute_result"
    }
   ],
   "source": [
    "df.head()"
   ]
  },
  {
   "cell_type": "code",
   "execution_count": 5,
   "metadata": {},
   "outputs": [
    {
     "data": {
      "text/html": [
       "<div>\n",
       "<style scoped>\n",
       "    .dataframe tbody tr th:only-of-type {\n",
       "        vertical-align: middle;\n",
       "    }\n",
       "\n",
       "    .dataframe tbody tr th {\n",
       "        vertical-align: top;\n",
       "    }\n",
       "\n",
       "    .dataframe thead th {\n",
       "        text-align: right;\n",
       "    }\n",
       "</style>\n",
       "<table border=\"1\" class=\"dataframe\">\n",
       "  <thead>\n",
       "    <tr style=\"text-align: right;\">\n",
       "      <th></th>\n",
       "      <th>Current</th>\n",
       "      <th>New</th>\n",
       "    </tr>\n",
       "  </thead>\n",
       "  <tbody>\n",
       "    <tr>\n",
       "      <th>count</th>\n",
       "      <td>40.000000</td>\n",
       "      <td>40.000000</td>\n",
       "    </tr>\n",
       "    <tr>\n",
       "      <th>mean</th>\n",
       "      <td>270.275000</td>\n",
       "      <td>267.500000</td>\n",
       "    </tr>\n",
       "    <tr>\n",
       "      <th>std</th>\n",
       "      <td>8.752985</td>\n",
       "      <td>9.896904</td>\n",
       "    </tr>\n",
       "    <tr>\n",
       "      <th>min</th>\n",
       "      <td>255.000000</td>\n",
       "      <td>250.000000</td>\n",
       "    </tr>\n",
       "    <tr>\n",
       "      <th>25%</th>\n",
       "      <td>263.000000</td>\n",
       "      <td>262.000000</td>\n",
       "    </tr>\n",
       "    <tr>\n",
       "      <th>50%</th>\n",
       "      <td>270.000000</td>\n",
       "      <td>265.000000</td>\n",
       "    </tr>\n",
       "    <tr>\n",
       "      <th>75%</th>\n",
       "      <td>275.250000</td>\n",
       "      <td>274.500000</td>\n",
       "    </tr>\n",
       "    <tr>\n",
       "      <th>max</th>\n",
       "      <td>289.000000</td>\n",
       "      <td>289.000000</td>\n",
       "    </tr>\n",
       "  </tbody>\n",
       "</table>\n",
       "</div>"
      ],
      "text/plain": [
       "          Current         New\n",
       "count   40.000000   40.000000\n",
       "mean   270.275000  267.500000\n",
       "std      8.752985    9.896904\n",
       "min    255.000000  250.000000\n",
       "25%    263.000000  262.000000\n",
       "50%    270.000000  265.000000\n",
       "75%    275.250000  274.500000\n",
       "max    289.000000  289.000000"
      ]
     },
     "execution_count": 5,
     "metadata": {},
     "output_type": "execute_result"
    }
   ],
   "source": [
    "df.describe()"
   ]
  },
  {
   "cell_type": "markdown",
   "metadata": {},
   "source": [
    "1.Formulate and present the rationale for a hypothesis test that Par could use to compare the driving distances of the current and new golf balls."
   ]
  },
  {
   "cell_type": "code",
   "execution_count": null,
   "metadata": {},
   "outputs": [],
   "source": [
    "#H0-There is no significant difference between the performance of Old and New ball coating\n",
    "#H1-There is significant difference between the performance of Old and New ball coating"
   ]
  },
  {
   "cell_type": "markdown",
   "metadata": {},
   "source": [
    "2.Analyze the data to provide the hypothesis testing conclusion. What is the p-value for your test? What is your recommendation for Par Inc."
   ]
  },
  {
   "cell_type": "code",
   "execution_count": 6,
   "metadata": {},
   "outputs": [
    {
     "name": "stdout",
     "output_type": "stream",
     "text": [
      "Test statistic: 0.9769172668457031  ; P-Value : 0.1566435992717743\n"
     ]
    }
   ],
   "source": [
    "stats,p_value=shapiro(df)\n",
    "print('Test statistic:',stats,' ; P-Value :',p_value)"
   ]
  },
  {
   "cell_type": "markdown",
   "metadata": {},
   "source": [
    "P-Value greater than 0.05 then data is normally distributed"
   ]
  },
  {
   "cell_type": "markdown",
   "metadata": {},
   "source": [
    "3.\tWhat is the 95% confidence interval for the population mean of each model, and what is the 95% confidence interval for the difference between the means of the two population?"
   ]
  },
  {
   "cell_type": "code",
   "execution_count": 8,
   "metadata": {},
   "outputs": [
    {
     "data": {
      "text/plain": [
       "Current    8.64288\n",
       "New        9.77241\n",
       "dtype: float64"
      ]
     },
     "execution_count": 8,
     "metadata": {},
     "output_type": "execute_result"
    }
   ],
   "source": [
    "np.std(df)"
   ]
  },
  {
   "cell_type": "code",
   "execution_count": 21,
   "metadata": {},
   "outputs": [
    {
     "data": {
      "text/plain": [
       "Current    270.275\n",
       "New        267.500\n",
       "dtype: float64"
      ]
     },
     "execution_count": 21,
     "metadata": {},
     "output_type": "execute_result"
    }
   ],
   "source": [
    "np.mean(df)"
   ]
  },
  {
   "cell_type": "code",
   "execution_count": 12,
   "metadata": {},
   "outputs": [],
   "source": [
    "mean=267\n",
    "std=9.77241"
   ]
  },
  {
   "cell_type": "code",
   "execution_count": 20,
   "metadata": {},
   "outputs": [
    {
     "data": {
      "text/plain": [
       "(263.9715544141783, 270.0284455858217)"
      ]
     },
     "execution_count": 20,
     "metadata": {},
     "output_type": "execute_result"
    }
   ],
   "source": [
    "stats.norm.interval(0.95,loc=mean,scale=std/np.sqrt(40))"
   ]
  },
  {
   "cell_type": "code",
   "execution_count": 24,
   "metadata": {},
   "outputs": [
    {
     "name": "stdout",
     "output_type": "stream",
     "text": [
      "Zscore : -2.196026152894708\n"
     ]
    }
   ],
   "source": [
    "z_score=(267-270)/(8.64/np.sqrt(40))\n",
    "print('Zscore :',z_score)"
   ]
  },
  {
   "cell_type": "markdown",
   "metadata": {},
   "source": [
    "Zscore less than p-value, thus we reject null hypothesis nad conclude there is enough evidence to claim there is significance of new ball and old ball"
   ]
  },
  {
   "cell_type": "code",
   "execution_count": null,
   "metadata": {},
   "outputs": [],
   "source": []
  },
  {
   "cell_type": "markdown",
   "metadata": {},
   "source": [
    "3)"
   ]
  },
  {
   "cell_type": "code",
   "execution_count": 25,
   "metadata": {},
   "outputs": [],
   "source": [
    "n=200\n",
    "mean_samp=140\n",
    "std_samp=25"
   ]
  },
  {
   "cell_type": "markdown",
   "metadata": {},
   "source": [
    "a)Calculate the estimated standard error of the sample mean? What does the standard error indicate?"
   ]
  },
  {
   "cell_type": "code",
   "execution_count": 33,
   "metadata": {},
   "outputs": [
    {
     "data": {
      "text/plain": [
       "9.899494936611665"
      ]
     },
     "execution_count": 33,
     "metadata": {},
     "output_type": "execute_result"
    }
   ],
   "source": [
    "140/np.sqrt(200)"
   ]
  },
  {
   "cell_type": "markdown",
   "metadata": {},
   "source": [
    "9.899 is the estimate of standard error of the mean"
   ]
  },
  {
   "cell_type": "markdown",
   "metadata": {},
   "source": [
    "b)Estimate a 95% confidence interval for the true mean blood pressure for all 60-year old women with glaucoma."
   ]
  },
  {
   "cell_type": "code",
   "execution_count": 29,
   "metadata": {},
   "outputs": [
    {
     "data": {
      "text/plain": [
       "(136.5352404391258, 143.4647595608742)"
      ]
     },
     "execution_count": 29,
     "metadata": {},
     "output_type": "execute_result"
    }
   ],
   "source": [
    "stats.norm.interval(0.95,loc=140,scale=25/np.sqrt(200))"
   ]
  },
  {
   "cell_type": "markdown",
   "metadata": {},
   "source": [
    "c)\tAssume that instead of 200, a random sample of only 100 60-year old women with glaucoma was chosen. The sample mean and standard deviation estimates are the same as those in the original study. What is the estimated 95% confidence interval for the true mean blood pressure?"
   ]
  },
  {
   "cell_type": "code",
   "execution_count": 30,
   "metadata": {},
   "outputs": [
    {
     "data": {
      "text/plain": [
       "(135.10009003864985, 144.89990996135015)"
      ]
     },
     "execution_count": 30,
     "metadata": {},
     "output_type": "execute_result"
    }
   ],
   "source": [
    "stats.norm.interval(0.95,loc=140,scale=25/np.sqrt(100))"
   ]
  },
  {
   "cell_type": "markdown",
   "metadata": {},
   "source": [
    "d)Which of the two above intervals are wider?"
   ]
  },
  {
   "cell_type": "markdown",
   "metadata": {},
   "source": [
    "Sample for 100 has wider interval"
   ]
  },
  {
   "cell_type": "markdown",
   "metadata": {},
   "source": [
    "e)Explain in non-technical terms why the estimated standard error of a sample mean tends to decrease with an increase in sample size."
   ]
  },
  {
   "cell_type": "markdown",
   "metadata": {},
   "source": [
    "Standard error decreases when sample size increases – as the sample size gets closer to the true size of the population, the sample means cluster more and more around the true population mean"
   ]
  }
 ],
 "metadata": {
  "kernelspec": {
   "display_name": "Python 3",
   "language": "python",
   "name": "python3"
  },
  "language_info": {
   "codemirror_mode": {
    "name": "ipython",
    "version": 3
   },
   "file_extension": ".py",
   "mimetype": "text/x-python",
   "name": "python",
   "nbconvert_exporter": "python",
   "pygments_lexer": "ipython3",
   "version": "3.8.8"
  }
 },
 "nbformat": 4,
 "nbformat_minor": 4
}
