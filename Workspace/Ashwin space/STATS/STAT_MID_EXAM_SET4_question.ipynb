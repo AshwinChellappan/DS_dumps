{
 "cells": [
  {
   "cell_type": "markdown",
   "metadata": {
    "id": "fN1cxf55QZVp"
   },
   "source": [
    "# STAT MID EXAM"
   ]
  },
  {
   "cell_type": "markdown",
   "metadata": {
    "id": "kOUA_Rp0QZVr"
   },
   "source": [
    "### We combined two datasets in single CSV file mention below columns belongs to \n",
    "\n",
    "#### Party \n",
    "‘Party’ data contains public opinion poll surveyed a simple random sample of 100 voters. Respondents were classified by gender (male or female) and by voting preference (Republican, Democrat, or Independent)\n",
    "    \n",
    "    #### Gender\n",
    "    #### Party\n",
    "\n",
    "#### Insurance \n",
    "‘Insurance’ data contains information about, \n",
    "    \n",
    "    #### age\n",
    "    #### sex\n",
    "    #### bmi\n",
    "    #### children\n",
    "    #### smoker\n",
    "    #### region\n",
    "    #### charges"
   ]
  },
  {
   "cell_type": "code",
   "execution_count": null,
   "metadata": {
    "id": "3gU3OoA4QZVt"
   },
   "outputs": [],
   "source": [
    "import pandas as pd\n",
    "import csv\n",
    "with open(\"data_set.csv\",\"r\")as file:\n",
    "    reader=csv.reader(file)\n",
    "df=pd.read_csv(\"data_set.csv\")\n",
    "df.head()"
   ]
  },
  {
   "cell_type": "code",
   "execution_count": null,
   "metadata": {
    "id": "0gpK3IpUQZV3"
   },
   "outputs": [],
   "source": [
    "Party = df.iloc[:100,:2]\n",
    "Party.head()"
   ]
  },
  {
   "cell_type": "code",
   "execution_count": null,
   "metadata": {
    "id": "YG1Ko9txQZWC"
   },
   "outputs": [],
   "source": [
    "Insurance = df.iloc[:,2:]\n",
    "Insurance.head()"
   ]
  },
  {
   "cell_type": "markdown",
   "metadata": {
    "id": "c3TQr-cuQZWK"
   },
   "source": [
    "_________________"
   ]
  },
  {
   "cell_type": "markdown",
   "metadata": {
    "id": "PiBO_06RQZWL"
   },
   "source": [
    "# SECTION A: 5 MARKS"
   ]
  },
  {
   "cell_type": "markdown",
   "metadata": {
    "id": "2enWKxdHQZWM"
   },
   "source": [
    "_________________"
   ]
  },
  {
   "cell_type": "markdown",
   "metadata": {
    "id": "7vThbe0yQZWN"
   },
   "source": [
    "<span style=\"font-family: Arial; font-weight:bold;font-size:1.5em;color:#7d5b06;\">1.Read the dataset(Party.xlsx) ,which contains public opinion poll surveyed a simple random sample of 100 voters. Respondents were classified by gender (male or female) and by voting preference (Republican, Democrat, or Independent).Do the men's voting preferences differ significantly from the women's preferences? Use a 0.05 level of significance.\n",
    "\n",
    "A.Frame Null and Alternate Hypothesis ( 1 Mark)\n",
    "\n",
    "B.State which test to be performed  (1 Mark)\n",
    "\n",
    "C.Perform the test  (2 Mark)\n",
    "\n",
    "D.Interpret the results  (1 Mark)\n"
   ]
  },
  {
   "cell_type": "code",
   "execution_count": null,
   "metadata": {
    "id": "tiAwaRNlQZWO"
   },
   "outputs": [],
   "source": [
    "#Kindly change the below cells from markdown to code and execute it "
   ]
  },
  {
   "cell_type": "code",
   "execution_count": 1,
   "metadata": {},
   "outputs": [],
   "source": [
    "import numpy as np\n",
    "import pandas as pd\n",
    "import matplotlib.pyplot as plt\n",
    "import seaborn as sns"
   ]
  },
  {
   "cell_type": "code",
   "execution_count": null,
   "metadata": {
    "id": "zADSWDpzQZWS"
   },
   "outputs": [],
   "source": [
    "Party = df.iloc[:100,:2]\n",
    "Party.head()"
   ]
  },
  {
   "cell_type": "code",
   "execution_count": 3,
   "metadata": {
    "id": "7rJYpCodQZWb"
   },
   "outputs": [
    {
     "data": {
      "text/html": [
       "<div>\n",
       "<style scoped>\n",
       "    .dataframe tbody tr th:only-of-type {\n",
       "        vertical-align: middle;\n",
       "    }\n",
       "\n",
       "    .dataframe tbody tr th {\n",
       "        vertical-align: top;\n",
       "    }\n",
       "\n",
       "    .dataframe thead th {\n",
       "        text-align: right;\n",
       "    }\n",
       "</style>\n",
       "<table border=\"1\" class=\"dataframe\">\n",
       "  <thead>\n",
       "    <tr style=\"text-align: right;\">\n",
       "      <th></th>\n",
       "      <th>Gender</th>\n",
       "      <th>Party</th>\n",
       "      <th>age</th>\n",
       "      <th>sex</th>\n",
       "      <th>bmi</th>\n",
       "      <th>children</th>\n",
       "      <th>smoker</th>\n",
       "      <th>region</th>\n",
       "      <th>charges</th>\n",
       "    </tr>\n",
       "  </thead>\n",
       "  <tbody>\n",
       "    <tr>\n",
       "      <th>0</th>\n",
       "      <td>M</td>\n",
       "      <td>Republic</td>\n",
       "      <td>19</td>\n",
       "      <td>female</td>\n",
       "      <td>27.900</td>\n",
       "      <td>0</td>\n",
       "      <td>yes</td>\n",
       "      <td>southwest</td>\n",
       "      <td>16884.92400</td>\n",
       "    </tr>\n",
       "    <tr>\n",
       "      <th>1</th>\n",
       "      <td>F</td>\n",
       "      <td>Republic</td>\n",
       "      <td>18</td>\n",
       "      <td>male</td>\n",
       "      <td>33.770</td>\n",
       "      <td>1</td>\n",
       "      <td>no</td>\n",
       "      <td>southeast</td>\n",
       "      <td>1725.55230</td>\n",
       "    </tr>\n",
       "    <tr>\n",
       "      <th>2</th>\n",
       "      <td>M</td>\n",
       "      <td>Republic</td>\n",
       "      <td>28</td>\n",
       "      <td>male</td>\n",
       "      <td>33.000</td>\n",
       "      <td>3</td>\n",
       "      <td>no</td>\n",
       "      <td>southeast</td>\n",
       "      <td>4449.46200</td>\n",
       "    </tr>\n",
       "    <tr>\n",
       "      <th>3</th>\n",
       "      <td>M</td>\n",
       "      <td>Republic</td>\n",
       "      <td>33</td>\n",
       "      <td>male</td>\n",
       "      <td>22.705</td>\n",
       "      <td>0</td>\n",
       "      <td>no</td>\n",
       "      <td>northwest</td>\n",
       "      <td>21984.47061</td>\n",
       "    </tr>\n",
       "    <tr>\n",
       "      <th>4</th>\n",
       "      <td>M</td>\n",
       "      <td>Republic</td>\n",
       "      <td>32</td>\n",
       "      <td>male</td>\n",
       "      <td>28.880</td>\n",
       "      <td>0</td>\n",
       "      <td>no</td>\n",
       "      <td>northwest</td>\n",
       "      <td>3866.85520</td>\n",
       "    </tr>\n",
       "  </tbody>\n",
       "</table>\n",
       "</div>"
      ],
      "text/plain": [
       "  Gender     Party  age     sex     bmi  children smoker     region  \\\n",
       "0      M  Republic   19  female  27.900         0    yes  southwest   \n",
       "1      F  Republic   18    male  33.770         1     no  southeast   \n",
       "2      M  Republic   28    male  33.000         3     no  southeast   \n",
       "3      M  Republic   33    male  22.705         0     no  northwest   \n",
       "4      M  Republic   32    male  28.880         0     no  northwest   \n",
       "\n",
       "       charges  \n",
       "0  16884.92400  \n",
       "1   1725.55230  \n",
       "2   4449.46200  \n",
       "3  21984.47061  \n",
       "4   3866.85520  "
      ]
     },
     "execution_count": 3,
     "metadata": {},
     "output_type": "execute_result"
    }
   ],
   "source": [
    "data=pd.read_csv('MID.csv')\n",
    "data.head()"
   ]
  },
  {
   "cell_type": "markdown",
   "metadata": {
    "id": "IIPdS5t8QZWl"
   },
   "source": [
    "_________________"
   ]
  },
  {
   "cell_type": "markdown",
   "metadata": {
    "id": "EcKYTwWZQZWp"
   },
   "source": [
    "# SECTION B: 10 MARKS"
   ]
  },
  {
   "cell_type": "markdown",
   "metadata": {
    "id": "vO4ycXj9QZWq"
   },
   "source": [
    "_________________"
   ]
  },
  {
   "cell_type": "markdown",
   "metadata": {
    "id": "Y4_-3ejGQZWr"
   },
   "source": [
    "### 2. The demand for a particular spare part was found to vary from day to day.  In a sample study the following information was obtained.\n",
    "\n",
    "|Days|Monday|Tuesday|Wednesday|Thurshday|Friday|Saturday|\n",
    "|--|--|--|--|--|--|--|\n",
    "|Quality Demanded | 1124|1125|1100|1120|1126|1155|\n",
    "\n",
    "Test the hypothesis at 1% level of significance that the number demanded depends upon the day and write your interpretations. (10 marks)"
   ]
  },
  {
   "cell_type": "code",
   "execution_count": null,
   "metadata": {
    "id": "c2-JIpgvQZWu"
   },
   "outputs": [],
   "source": []
  },
  {
   "cell_type": "markdown",
   "metadata": {
    "id": "dVx5qyFOQZW0"
   },
   "source": [
    "_________________"
   ]
  },
  {
   "cell_type": "markdown",
   "metadata": {
    "id": "3wm2yv9xQZW6"
   },
   "source": [
    "# SECTION C: 15 MARKS"
   ]
  },
  {
   "cell_type": "markdown",
   "metadata": {
    "id": "n6fQ5gDQQZW7"
   },
   "source": [
    "_________________"
   ]
  },
  {
   "cell_type": "markdown",
   "metadata": {
    "id": "eNIyoRyxQZW8"
   },
   "source": [
    "### 3.\tLoad the dataset insurance.csv and answer below question\n",
    "\n",
    "#### a. Do charges of people who smoke differ significantly from the people who don't?\n",
    "\n",
    "#### b. Does bmi of males differ significantly from that of females?\n",
    "\n",
    "#### c. Is the proportion of smokers significantly different in different genders?"
   ]
  },
  {
   "cell_type": "code",
   "execution_count": null,
   "metadata": {
    "id": "kVH2FXnOQZW-"
   },
   "outputs": [],
   "source": [
    "#Kindly change the below cells from markdown to code and execute it "
   ]
  },
  {
   "cell_type": "code",
   "execution_count": null,
   "metadata": {
    "id": "8pZbACIjQZXJ"
   },
   "outputs": [],
   "source": [
    "Insurance = df.iloc[:,2:]\n",
    "Insurance.head()"
   ]
  },
  {
   "cell_type": "code",
   "execution_count": null,
   "metadata": {
    "id": "YVQkRrrlQZXQ"
   },
   "outputs": [],
   "source": []
  }
 ],
 "metadata": {
  "colab": {
   "collapsed_sections": [],
   "name": "STAT_MID_EXAM_SET4_question.ipynb",
   "provenance": []
  },
  "kernelspec": {
   "display_name": "Python 3",
   "language": "python",
   "name": "python3"
  },
  "language_info": {
   "codemirror_mode": {
    "name": "ipython",
    "version": 3
   },
   "file_extension": ".py",
   "mimetype": "text/x-python",
   "name": "python",
   "nbconvert_exporter": "python",
   "pygments_lexer": "ipython3",
   "version": "3.8.5"
  }
 },
 "nbformat": 4,
 "nbformat_minor": 1
}
