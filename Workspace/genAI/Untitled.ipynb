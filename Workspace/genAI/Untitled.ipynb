{
 "cells": [
  {
   "cell_type": "code",
   "execution_count": 29,
   "id": "3f50a71f",
   "metadata": {},
   "outputs": [],
   "source": [
    "import random\n",
    "import string"
   ]
  },
  {
   "cell_type": "code",
   "execution_count": 30,
   "id": "e1e6f08a",
   "metadata": {},
   "outputs": [],
   "source": [
    "from typing import Union\n",
    "import pandas as pd\n",
    "from sklearn.model_selection import train_test_split\n",
    "import numpy as np"
   ]
  },
  {
   "cell_type": "code",
   "execution_count": 31,
   "id": "be9893b9",
   "metadata": {},
   "outputs": [],
   "source": [
    "train = pd.read_csv('output_21_9_v2.csv')"
   ]
  },
  {
   "cell_type": "code",
   "execution_count": 32,
   "id": "dd614a9b",
   "metadata": {},
   "outputs": [],
   "source": [
    "train = train.rename(columns={'Input_tweet': 'input_text'})"
   ]
  },
  {
   "cell_type": "code",
   "execution_count": 33,
   "id": "d67cea1a",
   "metadata": {},
   "outputs": [],
   "source": [
    "train = train.rename(columns={'output_text': 'output_text'})"
   ]
  },
  {
   "cell_type": "code",
   "execution_count": 34,
   "id": "7c229240",
   "metadata": {},
   "outputs": [],
   "source": [
    "# train = train.dropna()\n",
    "train['output_text']=''\n",
    "for i in range(len(train)):\n",
    "    train[str('output_text')][i] = 'Sentiment-'+ str(train['Sentiment'][i]) + ',Product-'+ str(train['Product'][i])+ ',Company_Name-'+ str(train['Company_Name'][i])+ ',Category-'+ str(train['Category'][i]) + ',Country-'+ str(train['Country'][i]) +',State-'+ str(train['State'][i])"
   ]
  },
  {
   "cell_type": "code",
   "execution_count": 35,
   "id": "676c3c48",
   "metadata": {},
   "outputs": [],
   "source": [
    "train_df = train[['input_text','output_text']]\n",
    "train_df=train_df[0:30]"
   ]
  },
  {
   "cell_type": "code",
   "execution_count": 36,
   "id": "0069317f",
   "metadata": {},
   "outputs": [
    {
     "data": {
      "text/plain": [
       "30"
      ]
     },
     "execution_count": 36,
     "metadata": {},
     "output_type": "execute_result"
    }
   ],
   "source": [
    "len(train_df)"
   ]
  },
  {
   "cell_type": "code",
   "execution_count": 10,
   "id": "f5fe5da0",
   "metadata": {},
   "outputs": [
    {
     "data": {
      "text/html": [
       "<div>\n",
       "<style scoped>\n",
       "    .dataframe tbody tr th:only-of-type {\n",
       "        vertical-align: middle;\n",
       "    }\n",
       "\n",
       "    .dataframe tbody tr th {\n",
       "        vertical-align: top;\n",
       "    }\n",
       "\n",
       "    .dataframe thead th {\n",
       "        text-align: right;\n",
       "    }\n",
       "</style>\n",
       "<table border=\"1\" class=\"dataframe\">\n",
       "  <thead>\n",
       "    <tr style=\"text-align: right;\">\n",
       "      <th></th>\n",
       "      <th>input_text</th>\n",
       "      <th>output_text</th>\n",
       "    </tr>\n",
       "  </thead>\n",
       "  <tbody>\n",
       "    <tr>\n",
       "      <th>0</th>\n",
       "      <td>Excited to meet the @samsungmobileus at #sxsw ...</td>\n",
       "      <td>Sentiment-negative,Product-Galaxy S,Company_Na...</td>\n",
       "    </tr>\n",
       "    <tr>\n",
       "      <th>1</th>\n",
       "      <td>This is a #WINNING picture #android #google #s...</td>\n",
       "      <td>Sentiment-positive,Product-android,Company_Nam...</td>\n",
       "    </tr>\n",
       "    <tr>\n",
       "      <th>2</th>\n",
       "      <td>they took away the lego pit but replaced it wi...</td>\n",
       "      <td>Sentiment-Negative,Product-Lego,Company_Name-L...</td>\n",
       "    </tr>\n",
       "    <tr>\n",
       "      <th>3</th>\n",
       "      <td>Alert the media.  I just saw the one and only ...</td>\n",
       "      <td>Sentiment-positive,Product-Android,Company_Nam...</td>\n",
       "    </tr>\n",
       "    <tr>\n",
       "      <th>4</th>\n",
       "      <td>Farooqui: Now about mobile. iOS, with Android ...</td>\n",
       "      <td>Sentiment-positive,Product-iOS,Company_Name-Ap...</td>\n",
       "    </tr>\n",
       "    <tr>\n",
       "      <th>5</th>\n",
       "      <td>Talked to some great developers at the Android...</td>\n",
       "      <td>Sentiment-positive,Product-Android,Company_Nam...</td>\n",
       "    </tr>\n",
       "    <tr>\n",
       "      <th>6</th>\n",
       "      <td>There are thousands of iPad 2's floating aroun...</td>\n",
       "      <td>Sentiment-negative,Product-iPad 2,Company_Name...</td>\n",
       "    </tr>\n",
       "    <tr>\n",
       "      <th>7</th>\n",
       "      <td>Woot! RT @mention First Android @mention disc ...</td>\n",
       "      <td>Sentiment-positive,Product-Android,Company_Nam...</td>\n",
       "    </tr>\n",
       "    <tr>\n",
       "      <th>8</th>\n",
       "      <td>Heard at #sxsw #Android is now the leading mar...</td>\n",
       "      <td>Sentiment-Positive,Product-Android,Company_Nam...</td>\n",
       "    </tr>\n",
       "    <tr>\n",
       "      <th>9</th>\n",
       "      <td>Quadroid = Qualcomm + Android just called the ...</td>\n",
       "      <td>Sentiment-positive,Product-Quadroid,Company_Na...</td>\n",
       "    </tr>\n",
       "    <tr>\n",
       "      <th>10</th>\n",
       "      <td>{link} via @mention pretty neat database I mus...</td>\n",
       "      <td>Sentiment-Positive,Product-Android,Company_Nam...</td>\n",
       "    </tr>\n",
       "    <tr>\n",
       "      <th>11</th>\n",
       "      <td>Why does all the #Android meetups here in #Aus...</td>\n",
       "      <td>Sentiment-negative,Product-Android,Company_Nam...</td>\n",
       "    </tr>\n",
       "    <tr>\n",
       "      <th>12</th>\n",
       "      <td>@mention Android just got a big call out at #s...</td>\n",
       "      <td>Sentiment-positive,Product-Android,Company_Nam...</td>\n",
       "    </tr>\n",
       "    <tr>\n",
       "      <th>13</th>\n",
       "      <td>@mention Android needs a way to group apps lik...</td>\n",
       "      <td>Sentiment-negative,Product-Android,Company_Nam...</td>\n",
       "    </tr>\n",
       "    <tr>\n",
       "      <th>14</th>\n",
       "      <td>Piece of awesomeness: Arduino + android = Flam...</td>\n",
       "      <td>Sentiment-positive,Product-Arduino,Company_Nam...</td>\n",
       "    </tr>\n",
       "    <tr>\n",
       "      <th>15</th>\n",
       "      <td>@mention Congratulations on winning the Androi...</td>\n",
       "      <td>Sentiment-positive,Product-Android,Company_Nam...</td>\n",
       "    </tr>\n",
       "    <tr>\n",
       "      <th>16</th>\n",
       "      <td>@mention crew ripped up Android party - thanks...</td>\n",
       "      <td>Sentiment-positive,Product-Android,Company_Nam...</td>\n",
       "    </tr>\n",
       "    <tr>\n",
       "      <th>17</th>\n",
       "      <td>Great UI demo of @mention on @mention {link} #...</td>\n",
       "      <td>Sentiment-positive,Product-xoom,Company_Name-g...</td>\n",
       "    </tr>\n",
       "    <tr>\n",
       "      <th>18</th>\n",
       "      <td>#android dev meetup was mostly ppl looking for...</td>\n",
       "      <td>Sentiment-Positive,Product-Android,Company_Nam...</td>\n",
       "    </tr>\n",
       "    <tr>\n",
       "      <th>19</th>\n",
       "      <td>I'm giving $100 to the next person who comes u...</td>\n",
       "      <td>Sentiment-positive,Product-Android,Company_Nam...</td>\n",
       "    </tr>\n",
       "    <tr>\n",
       "      <th>20</th>\n",
       "      <td>Lunch with @mention at #CNNGrill. View from th...</td>\n",
       "      <td>Sentiment-positive,Product-Android,Company_Nam...</td>\n",
       "    </tr>\n",
       "    <tr>\n",
       "      <th>21</th>\n",
       "      <td>What's behind #Android's race to No. 1? {link}...</td>\n",
       "      <td>Sentiment-positive,Product-Android,Company_Nam...</td>\n",
       "    </tr>\n",
       "    <tr>\n",
       "      <th>22</th>\n",
       "      <td>the @mention booth is up and ready for the #sx...</td>\n",
       "      <td>Sentiment-positive,Product-Android,Company_Nam...</td>\n",
       "    </tr>\n",
       "    <tr>\n",
       "      <th>23</th>\n",
       "      <td>Just met Jared at the Android meetup #sxsw. Bi...</td>\n",
       "      <td>Sentiment-positive,Product-Android,Company_Nam...</td>\n",
       "    </tr>\n",
       "    <tr>\n",
       "      <th>24</th>\n",
       "      <td>#SXSW is just starting, #CTIA is around the co...</td>\n",
       "      <td>Sentiment-positive,Product-Android,Company_Nam...</td>\n",
       "    </tr>\n",
       "    <tr>\n",
       "      <th>25</th>\n",
       "      <td>Tech Check podcast -- South By Southwest, Andr...</td>\n",
       "      <td>Sentiment-positive,Product-Android,Company_Nam...</td>\n",
       "    </tr>\n",
       "    <tr>\n",
       "      <th>26</th>\n",
       "      <td>@mention launching Gowalla 3 for Droid at #SxS...</td>\n",
       "      <td>Sentiment-positive,Product-Gowalla,Company_Nam...</td>\n",
       "    </tr>\n",
       "    <tr>\n",
       "      <th>27</th>\n",
       "      <td>*Spark selected as a finalist in Team Android ...</td>\n",
       "      <td>Sentiment-positive,Product-Spark,Company_Name-...</td>\n",
       "    </tr>\n",
       "    <tr>\n",
       "      <th>28</th>\n",
       "      <td>It looks like a laptop, but it's a dock for th...</td>\n",
       "      <td>Sentiment-positive,Product-Motorola Atrix,Comp...</td>\n",
       "    </tr>\n",
       "    <tr>\n",
       "      <th>29</th>\n",
       "      <td>We're at Lustre Pearl for #teamandroidsxsw cau...</td>\n",
       "      <td>Sentiment-positive,Product-Android,Company_Nam...</td>\n",
       "    </tr>\n",
       "  </tbody>\n",
       "</table>\n",
       "</div>"
      ],
      "text/plain": [
       "                                           input_text  \\\n",
       "0   Excited to meet the @samsungmobileus at #sxsw ...   \n",
       "1   This is a #WINNING picture #android #google #s...   \n",
       "2   they took away the lego pit but replaced it wi...   \n",
       "3   Alert the media.  I just saw the one and only ...   \n",
       "4   Farooqui: Now about mobile. iOS, with Android ...   \n",
       "5   Talked to some great developers at the Android...   \n",
       "6   There are thousands of iPad 2's floating aroun...   \n",
       "7   Woot! RT @mention First Android @mention disc ...   \n",
       "8   Heard at #sxsw #Android is now the leading mar...   \n",
       "9   Quadroid = Qualcomm + Android just called the ...   \n",
       "10  {link} via @mention pretty neat database I mus...   \n",
       "11  Why does all the #Android meetups here in #Aus...   \n",
       "12  @mention Android just got a big call out at #s...   \n",
       "13  @mention Android needs a way to group apps lik...   \n",
       "14  Piece of awesomeness: Arduino + android = Flam...   \n",
       "15  @mention Congratulations on winning the Androi...   \n",
       "16  @mention crew ripped up Android party - thanks...   \n",
       "17  Great UI demo of @mention on @mention {link} #...   \n",
       "18  #android dev meetup was mostly ppl looking for...   \n",
       "19  I'm giving $100 to the next person who comes u...   \n",
       "20  Lunch with @mention at #CNNGrill. View from th...   \n",
       "21  What's behind #Android's race to No. 1? {link}...   \n",
       "22  the @mention booth is up and ready for the #sx...   \n",
       "23  Just met Jared at the Android meetup #sxsw. Bi...   \n",
       "24  #SXSW is just starting, #CTIA is around the co...   \n",
       "25  Tech Check podcast -- South By Southwest, Andr...   \n",
       "26  @mention launching Gowalla 3 for Droid at #SxS...   \n",
       "27  *Spark selected as a finalist in Team Android ...   \n",
       "28  It looks like a laptop, but it's a dock for th...   \n",
       "29  We're at Lustre Pearl for #teamandroidsxsw cau...   \n",
       "\n",
       "                                          output_text  \n",
       "0   Sentiment-negative,Product-Galaxy S,Company_Na...  \n",
       "1   Sentiment-positive,Product-android,Company_Nam...  \n",
       "2   Sentiment-Negative,Product-Lego,Company_Name-L...  \n",
       "3   Sentiment-positive,Product-Android,Company_Nam...  \n",
       "4   Sentiment-positive,Product-iOS,Company_Name-Ap...  \n",
       "5   Sentiment-positive,Product-Android,Company_Nam...  \n",
       "6   Sentiment-negative,Product-iPad 2,Company_Name...  \n",
       "7   Sentiment-positive,Product-Android,Company_Nam...  \n",
       "8   Sentiment-Positive,Product-Android,Company_Nam...  \n",
       "9   Sentiment-positive,Product-Quadroid,Company_Na...  \n",
       "10  Sentiment-Positive,Product-Android,Company_Nam...  \n",
       "11  Sentiment-negative,Product-Android,Company_Nam...  \n",
       "12  Sentiment-positive,Product-Android,Company_Nam...  \n",
       "13  Sentiment-negative,Product-Android,Company_Nam...  \n",
       "14  Sentiment-positive,Product-Arduino,Company_Nam...  \n",
       "15  Sentiment-positive,Product-Android,Company_Nam...  \n",
       "16  Sentiment-positive,Product-Android,Company_Nam...  \n",
       "17  Sentiment-positive,Product-xoom,Company_Name-g...  \n",
       "18  Sentiment-Positive,Product-Android,Company_Nam...  \n",
       "19  Sentiment-positive,Product-Android,Company_Nam...  \n",
       "20  Sentiment-positive,Product-Android,Company_Nam...  \n",
       "21  Sentiment-positive,Product-Android,Company_Nam...  \n",
       "22  Sentiment-positive,Product-Android,Company_Nam...  \n",
       "23  Sentiment-positive,Product-Android,Company_Nam...  \n",
       "24  Sentiment-positive,Product-Android,Company_Nam...  \n",
       "25  Sentiment-positive,Product-Android,Company_Nam...  \n",
       "26  Sentiment-positive,Product-Gowalla,Company_Nam...  \n",
       "27  Sentiment-positive,Product-Spark,Company_Name-...  \n",
       "28  Sentiment-positive,Product-Motorola Atrix,Comp...  \n",
       "29  Sentiment-positive,Product-Android,Company_Nam...  "
      ]
     },
     "execution_count": 10,
     "metadata": {},
     "output_type": "execute_result"
    }
   ],
   "source": [
    "train_df"
   ]
  },
  {
   "cell_type": "code",
   "execution_count": 37,
   "id": "df0d9623",
   "metadata": {},
   "outputs": [
    {
     "data": {
      "text/plain": [
       "'Excited to meet the @samsungmobileus at #sxsw so I can show them my Sprint Galaxy S still running Android 2.1.   #fail'"
      ]
     },
     "execution_count": 37,
     "metadata": {},
     "output_type": "execute_result"
    }
   ],
   "source": [
    "train_df.input_text.iloc[0]"
   ]
  },
  {
   "cell_type": "code",
   "execution_count": 36,
   "id": "3d6c0059",
   "metadata": {},
   "outputs": [
    {
     "data": {
      "text/plain": [
       "'Sentiment-negative,Product-Galaxy S,Company_Name-Samsung,Category-Mobile,Country-United States,State-Texas'"
      ]
     },
     "execution_count": 36,
     "metadata": {},
     "output_type": "execute_result"
    }
   ],
   "source": [
    "train_df.output_text.iloc[0]"
   ]
  },
  {
   "cell_type": "code",
   "execution_count": 11,
   "id": "3e33dfeb",
   "metadata": {},
   "outputs": [
    {
     "data": {
      "text/html": [
       "<div>\n",
       "<style scoped>\n",
       "    .dataframe tbody tr th:only-of-type {\n",
       "        vertical-align: middle;\n",
       "    }\n",
       "\n",
       "    .dataframe tbody tr th {\n",
       "        vertical-align: top;\n",
       "    }\n",
       "\n",
       "    .dataframe thead th {\n",
       "        text-align: right;\n",
       "    }\n",
       "</style>\n",
       "<table border=\"1\" class=\"dataframe\">\n",
       "  <thead>\n",
       "    <tr style=\"text-align: right;\">\n",
       "      <th></th>\n",
       "      <th>input_text</th>\n",
       "      <th>output_text</th>\n",
       "    </tr>\n",
       "  </thead>\n",
       "  <tbody>\n",
       "    <tr>\n",
       "      <th>25</th>\n",
       "      <td>Tech Check podcast -- South By Southwest, Andr...</td>\n",
       "      <td>Sentiment-positive,Product-Android,Company_Nam...</td>\n",
       "    </tr>\n",
       "    <tr>\n",
       "      <th>26</th>\n",
       "      <td>@mention launching Gowalla 3 for Droid at #SxS...</td>\n",
       "      <td>Sentiment-positive,Product-Gowalla,Company_Nam...</td>\n",
       "    </tr>\n",
       "    <tr>\n",
       "      <th>27</th>\n",
       "      <td>*Spark selected as a finalist in Team Android ...</td>\n",
       "      <td>Sentiment-positive,Product-Spark,Company_Name-...</td>\n",
       "    </tr>\n",
       "    <tr>\n",
       "      <th>28</th>\n",
       "      <td>It looks like a laptop, but it's a dock for th...</td>\n",
       "      <td>Sentiment-positive,Product-Motorola Atrix,Comp...</td>\n",
       "    </tr>\n",
       "    <tr>\n",
       "      <th>29</th>\n",
       "      <td>We're at Lustre Pearl for #teamandroidsxsw cau...</td>\n",
       "      <td>Sentiment-positive,Product-Android,Company_Nam...</td>\n",
       "    </tr>\n",
       "  </tbody>\n",
       "</table>\n",
       "</div>"
      ],
      "text/plain": [
       "                                           input_text  \\\n",
       "25  Tech Check podcast -- South By Southwest, Andr...   \n",
       "26  @mention launching Gowalla 3 for Droid at #SxS...   \n",
       "27  *Spark selected as a finalist in Team Android ...   \n",
       "28  It looks like a laptop, but it's a dock for th...   \n",
       "29  We're at Lustre Pearl for #teamandroidsxsw cau...   \n",
       "\n",
       "                                          output_text  \n",
       "25  Sentiment-positive,Product-Android,Company_Nam...  \n",
       "26  Sentiment-positive,Product-Gowalla,Company_Nam...  \n",
       "27  Sentiment-positive,Product-Spark,Company_Name-...  \n",
       "28  Sentiment-positive,Product-Motorola Atrix,Comp...  \n",
       "29  Sentiment-positive,Product-Android,Company_Nam...  "
      ]
     },
     "execution_count": 11,
     "metadata": {},
     "output_type": "execute_result"
    }
   ],
   "source": [
    "train_df.tail()"
   ]
  },
  {
   "cell_type": "code",
   "execution_count": 12,
   "id": "dead6f79",
   "metadata": {},
   "outputs": [
    {
     "data": {
      "text/plain": [
       "30"
      ]
     },
     "execution_count": 12,
     "metadata": {},
     "output_type": "execute_result"
    }
   ],
   "source": [
    "len(train_df)"
   ]
  },
  {
   "cell_type": "code",
   "execution_count": 51,
   "id": "a567812d",
   "metadata": {},
   "outputs": [],
   "source": [
    "# end=0\n",
    "# start=0\n",
    "# for i in range(start,len(train_df)):\n",
    "#     ipTxt=\"\"\n",
    "#     opTxt=\"\"\n",
    "#     increment=random.randint(2,4)\n",
    "#     print(\"increment\",increment) \n",
    "#     print(\"start\",start)\n",
    "#     end=start+increment\n",
    "#     print(\"end\",end)\n",
    "#     for i in range(start,end):\n",
    "#         if i<len(train_df):\n",
    "#             ipTxt=ipTxt+\"[\"+train_df.input_text.iloc[i]+\"]\"\n",
    "#             opTxt=opTxt+\"[\"+train_df.output_text.iloc[i]+\"]\"\n",
    "#     start=start+increment\n",
    "#     print(ipTxt)\n",
    "#     end=end+start\n",
    "    "
   ]
  },
  {
   "cell_type": "code",
   "execution_count": 38,
   "id": "8ff83c57",
   "metadata": {},
   "outputs": [],
   "source": [
    "Question=\" \\\"Question: Please provide about the tweet details Sentiment, Product, Company Name, Category, Country, State from tweet. Do not provide Product, Company Name, country, State if not mentioned explicitly in tweet. Tweets are passed as array and you will return the output as array with comma separated values for Sentiment, Product, Company Name, Category, Country, State in each element of array?\""
   ]
  },
  {
   "cell_type": "code",
   "execution_count": 41,
   "id": "5860544b",
   "metadata": {},
   "outputs": [
    {
     "name": "stdout",
     "output_type": "stream",
     "text": [
      "Final statement\n",
      "[{ \"input_text\":  \"Question: Please provide about the tweet details Sentiment, Product, Company Name, Category, Country, State from tweet. Do not provide Product, Company Name, country, State if not mentioned explicitly in tweet. Tweets are passed as array and you will return the output as array with comma separated values for Sentiment, Product, Company Name, Category, Country, State in each element of array? Context: [Excited to meet the @samsungmobileus at #sxsw so I can show them my Sprint Galaxy S still running Android 2.1.   #fail][This is a #WINNING picture #android #google #sxsw {link}]\", \"output_text\":\" [Excited to meet the @samsungmobileus at #sxsw so I can show them my Sprint Galaxy S still running Android 2.1.   #fail][This is a #WINNING picture #android #google #sxsw {link}] \" }{ \"input_text\":  \"Question: Please provide about the tweet details Sentiment, Product, Company Name, Category, Country, State from tweet. Do not provide Product, Company Name, country, State if not mentioned explicitly in tweet. Tweets are passed as array and you will return the output as array with comma separated values for Sentiment, Product, Company Name, Category, Country, State in each element of array? Context: [they took away the lego pit but replaced it with a recharging station ;) #sxsw and i might check prices for an iphone - crap samsung android][Alert the media.  I just saw the one and only Android tablet at #sxsw.  Like finding a needle in a haystack!  I also saw a Cr-48.][Farooqui: Now about mobile. iOS, with Android catching up fast and will grow more once they allow in-app purchasing. #gamesfortv #sxsw]\", \"output_text\":\" [they took away the lego pit but replaced it with a recharging station ;) #sxsw and i might check prices for an iphone - crap samsung android][Alert the media.  I just saw the one and only Android tablet at #sxsw.  Like finding a needle in a haystack!  I also saw a Cr-48.][Farooqui: Now about mobile. iOS, with Android catching up fast and will grow more once they allow in-app purchasing. #gamesfortv #sxsw] \" }{ \"input_text\":  \"Question: Please provide about the tweet details Sentiment, Product, Company Name, Category, Country, State from tweet. Do not provide Product, Company Name, country, State if not mentioned explicitly in tweet. Tweets are passed as array and you will return the output as array with comma separated values for Sentiment, Product, Company Name, Category, Country, State in each element of array? Context: [Talked to some great developers at the Android meetup. Looking forward to working with them. #sxsw #android #androidsxsw][There are thousands of iPad 2's floating around Austin at #sxsw and I have not seen even one single Android tablet.  Not even one. Zero.][Woot! RT @mention First Android @mention disc {link} ... Market version coming soon! #SXSW]\", \"output_text\":\" [Talked to some great developers at the Android meetup. Looking forward to working with them. #sxsw #android #androidsxsw][There are thousands of iPad 2's floating around Austin at #sxsw and I have not seen even one single Android tablet.  Not even one. Zero.][Woot! RT @mention First Android @mention disc {link} ... Market version coming soon! #SXSW] \" }{ \"input_text\":  \"Question: Please provide about the tweet details Sentiment, Product, Company Name, Category, Country, State from tweet. Do not provide Product, Company Name, country, State if not mentioned explicitly in tweet. Tweets are passed as array and you will return the output as array with comma separated values for Sentiment, Product, Company Name, Category, Country, State in each element of array? Context: [Heard at #sxsw #Android is now the leading market share of smart phones in US. #getjarsxsw][Quadroid = Qualcomm + Android just called the platform of the next decade vs Wintel #sxsw #cloud]\", \"output_text\":\" [Heard at #sxsw #Android is now the leading market share of smart phones in US. #getjarsxsw][Quadroid = Qualcomm + Android just called the platform of the next decade vs Wintel #sxsw #cloud] \" }{ \"input_text\":  \"Question: Please provide about the tweet details Sentiment, Product, Company Name, Category, Country, State from tweet. Do not provide Product, Company Name, country, State if not mentioned explicitly in tweet. Tweets are passed as array and you will return the output as array with comma separated values for Sentiment, Product, Company Name, Category, Country, State in each element of array? Context: [{link} via @mention pretty neat database I must say.  does it work on my #android we shall see. #sxsw #party #free][Why does all the #Android meetups here in #Austin are when I'm at work. Well at least there is the PS meetup #sxsw][@mention Android just got a big call out at #sxsw in they #gamelayer opening keynote. I knew you'd appreciate.]\", \"output_text\":\" [{link} via @mention pretty neat database I must say.  does it work on my #android we shall see. #sxsw #party #free][Why does all the #Android meetups here in #Austin are when I'm at work. Well at least there is the PS meetup #sxsw][@mention Android just got a big call out at #sxsw in they #gamelayer opening keynote. I knew you'd appreciate.] \" }{ \"input_text\":  \"Question: Please provide about the tweet details Sentiment, Product, Company Name, Category, Country, State from tweet. Do not provide Product, Company Name, country, State if not mentioned explicitly in tweet. Tweets are passed as array and you will return the output as array with comma separated values for Sentiment, Product, Company Name, Category, Country, State in each element of array? Context: [@mention Android needs a way to group apps like you can now do with iPad/iPod. #SXSW #hhrs][Piece of awesomeness: Arduino + android = Flaming skulls  {link} @mention @mention #sxsw #smartthings]\", \"output_text\":\" [@mention Android needs a way to group apps like you can now do with iPad/iPod. #SXSW #hhrs][Piece of awesomeness: Arduino + android = Flaming skulls  {link} @mention @mention #sxsw #smartthings] \" }{ \"input_text\":  \"Question: Please provide about the tweet details Sentiment, Product, Company Name, Category, Country, State from tweet. Do not provide Product, Company Name, country, State if not mentioned explicitly in tweet. Tweets are passed as array and you will return the output as array with comma separated values for Sentiment, Product, Company Name, Category, Country, State in each element of array? Context: [@mention Congratulations on winning the Android award! :) #sxsw][@mention crew ripped up Android party - thanks for having us Droid! {link} #sxsw][Great UI demo of @mention on @mention {link} #xoom #sxsw #android #tech #tablet][#android dev meetup was mostly ppl looking for devs. Good skill to learn if you havent already. #SXSW #mccannsxsw]\", \"output_text\":\" [@mention Congratulations on winning the Android award! :) #sxsw][@mention crew ripped up Android party - thanks for having us Droid! {link} #sxsw][Great UI demo of @mention on @mention {link} #xoom #sxsw #android #tech #tablet][#android dev meetup was mostly ppl looking for devs. Good skill to learn if you havent already. #SXSW #mccannsxsw] \" }{ \"input_text\":  \"Question: Please provide about the tweet details Sentiment, Product, Company Name, Category, Country, State from tweet. Do not provide Product, Company Name, country, State if not mentioned explicitly in tweet. Tweets are passed as array and you will return the output as array with comma separated values for Sentiment, Product, Company Name, Category, Country, State in each element of array? Context: [I'm giving $100 to the next person who comes up to me at #SXSW and tells me how cool Android is -- look around for me!  Look hard.][Lunch with @mention at #CNNGrill. View from the HTML5 dev trenches: Android is painful, iOS is sleek (for what @mention is doing) #sxsw]\", \"output_text\":\" [I'm giving $100 to the next person who comes up to me at #SXSW and tells me how cool Android is -- look around for me!  Look hard.][Lunch with @mention at #CNNGrill. View from the HTML5 dev trenches: Android is painful, iOS is sleek (for what @mention is doing) #sxsw] \" }{ \"input_text\":  \"Question: Please provide about the tweet details Sentiment, Product, Company Name, Category, Country, State from tweet. Do not provide Product, Company Name, country, State if not mentioned explicitly in tweet. Tweets are passed as array and you will return the output as array with comma separated values for Sentiment, Product, Company Name, Category, Country, State in each element of array? Context: [What's behind #Android's race to No. 1? {link} #smartphones #technology #mobile #sxsw #sxswi][the @mention booth is up and ready for the #sxsw tradeshow tmr! Off to the Android party...][Just met Jared at the Android meetup #sxsw. Big Android fan!  {link}]\", \"output_text\":\" [What's behind #Android's race to No. 1? {link} #smartphones #technology #mobile #sxsw #sxswi][the @mention booth is up and ready for the #sxsw tradeshow tmr! Off to the Android party...][Just met Jared at the Android meetup #sxsw. Big Android fan!  {link}] \" }{ \"input_text\":  \"Question: Please provide about the tweet details Sentiment, Product, Company Name, Category, Country, State from tweet. Do not provide Product, Company Name, country, State if not mentioned explicitly in tweet. Tweets are passed as array and you will return the output as array with comma separated values for Sentiment, Product, Company Name, Category, Country, State in each element of array? Context: [#SXSW is just starting, #CTIA is around the corner and #googleio is only a hop skip and a jump from there, good time to be an #android fan][Tech Check podcast -- South By Southwest, Android passes BlackBerry, a big Twitter fail -- {link} #sxsw #cnn][@mention launching Gowalla 3 for Droid at #SxSW - should push 4square and Groupon {link}][*Spark selected as a finalist in Team Android Choice awards! If you're in Austin 3/13, please come &amp; support {link} #sxsw]\", \"output_text\":\" [#SXSW is just starting, #CTIA is around the corner and #googleio is only a hop skip and a jump from there, good time to be an #android fan][Tech Check podcast -- South By Southwest, Android passes BlackBerry, a big Twitter fail -- {link} #sxsw #cnn][@mention launching Gowalla 3 for Droid at #SxSW - should push 4square and Groupon {link}][*Spark selected as a finalist in Team Android Choice awards! If you're in Austin 3/13, please come &amp; support {link} #sxsw] \" }{ \"input_text\":  \"Question: Please provide about the tweet details Sentiment, Product, Company Name, Category, Country, State from tweet. Do not provide Product, Company Name, country, State if not mentioned explicitly in tweet. Tweets are passed as array and you will return the output as array with comma separated values for Sentiment, Product, Company Name, Category, Country, State in each element of array? Context: [It looks like a laptop, but it's a dock for the Motorola Atrix, an Android phone from #ATT. It is awesome. #SXSW {link}][We're at Lustre Pearl for #teamandroidsxsw cause we love our Android geeks! #sxsw {link}]\", \"output_text\":\" [It looks like a laptop, but it's a dock for the Motorola Atrix, an Android phone from #ATT. It is awesome. #SXSW {link}][We're at Lustre Pearl for #teamandroidsxsw cause we love our Android geeks! #sxsw {link}] \" }]\n"
     ]
    }
   ],
   "source": [
    "end = 0\n",
    "start = 0\n",
    "sentence = \"\"\n",
    "itera=0\n",
    "for _ in range(len(train_df)):  # Use '_' as the loop variable since 'i' is already used\n",
    "    cip = \"\"\n",
    "    oip= \"\"\n",
    "    increment = random.randint(2, 4)\n",
    "    #print(\"increment\", increment)\n",
    "\n",
    "    end = start + increment\n",
    "    #print(\"end\", end)\n",
    "    if(itera<len(train_df)-1):\n",
    "        for i in range(start, end):\n",
    "            ipTxt = \"\"\n",
    "            opTxt = \"\"\n",
    "            #print(\"i\", i)\n",
    "\n",
    "            if i > len(train_df) - 1:\n",
    "                break\n",
    "            else:       \n",
    "                ipTxt += \"[\" + train_df['input_text'].iloc[i] + \"]\"\n",
    "                opTxt += \"[\" + train_df['input_text'].iloc[i] + \"]\"\n",
    "                start = end\n",
    "            cip += ipTxt\n",
    "            oip += opTxt\n",
    "        tweet= \"{ \\\"input_text\\\": \"+Question+\" Context: \"+cip+\"\\\", \\\"output_text\\\":\\\" \"+oip+\" \\\" }\"\n",
    "        #print(tweet)\n",
    "        sentence += tweet\n",
    "        #print(\"Exiting loop\")\n",
    "        itera=i\n",
    "\n",
    "# Corrected the sentence format to close the JSON array\n",
    "sentence = \"[\" + sentence + \"]\"\n",
    "print(\"Final statement\")\n",
    "print(sentence)"
   ]
  },
  {
   "cell_type": "code",
   "execution_count": 42,
   "id": "c6718478",
   "metadata": {},
   "outputs": [],
   "source": [
    "prompt_file = open(\"Output.jsonl\",'w', encoding=\"utf-8\")\n",
    "prompt_file.write(sentence)\n",
    "prompt_file.close()"
   ]
  }
 ],
 "metadata": {
  "kernelspec": {
   "display_name": "Python 3",
   "language": "python",
   "name": "python3"
  },
  "language_info": {
   "codemirror_mode": {
    "name": "ipython",
    "version": 3
   },
   "file_extension": ".py",
   "mimetype": "text/x-python",
   "name": "python",
   "nbconvert_exporter": "python",
   "pygments_lexer": "ipython3",
   "version": "3.8.8"
  }
 },
 "nbformat": 4,
 "nbformat_minor": 5
}
