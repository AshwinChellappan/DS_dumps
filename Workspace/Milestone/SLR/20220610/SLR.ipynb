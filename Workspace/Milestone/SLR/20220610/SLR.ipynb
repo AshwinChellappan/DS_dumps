{
 "cells": [
  {
   "cell_type": "code",
   "execution_count": 1,
   "id": "8c6d0a19",
   "metadata": {},
   "outputs": [],
   "source": [
    "import numpy as np\n",
    "import pandas as pd\n",
    "import matplotlib.pyplot as plt\n",
    "import seaborn as sns"
   ]
  },
  {
   "cell_type": "code",
   "execution_count": 2,
   "id": "1bffc895",
   "metadata": {},
   "outputs": [],
   "source": [
    "df=pd.read_csv('C:\\\\Ashwin\\\\Learning\\\\Materials\\\\DataScience\\\\DataScience\\\\Material\\\\SLR\\\\Day 1\\\\Emp_reimb.csv')"
   ]
  },
  {
   "cell_type": "code",
   "execution_count": 3,
   "id": "6267412e",
   "metadata": {},
   "outputs": [
    {
     "data": {
      "text/html": [
       "<div>\n",
       "<style scoped>\n",
       "    .dataframe tbody tr th:only-of-type {\n",
       "        vertical-align: middle;\n",
       "    }\n",
       "\n",
       "    .dataframe tbody tr th {\n",
       "        vertical-align: top;\n",
       "    }\n",
       "\n",
       "    .dataframe thead th {\n",
       "        text-align: right;\n",
       "    }\n",
       "</style>\n",
       "<table border=\"1\" class=\"dataframe\">\n",
       "  <thead>\n",
       "    <tr style=\"text-align: right;\">\n",
       "      <th></th>\n",
       "      <th>Year</th>\n",
       "      <th>Type_of_yr</th>\n",
       "      <th>Emp_ID</th>\n",
       "      <th>Income</th>\n",
       "      <th>Other_Income</th>\n",
       "      <th>Overtime</th>\n",
       "      <th>Total_Income</th>\n",
       "      <th>Health_Insurance</th>\n",
       "      <th>Retirement</th>\n",
       "      <th>Other_Benefits</th>\n",
       "      <th>Total_Benefits</th>\n",
       "      <th>Total_Reimbursement</th>\n",
       "    </tr>\n",
       "  </thead>\n",
       "  <tbody>\n",
       "    <tr>\n",
       "      <th>0</th>\n",
       "      <td>2015</td>\n",
       "      <td>Financial</td>\n",
       "      <td>42865</td>\n",
       "      <td>92288.22</td>\n",
       "      <td>267.45</td>\n",
       "      <td>270.45</td>\n",
       "      <td>92826.12</td>\n",
       "      <td>12500.56</td>\n",
       "      <td>20703.20</td>\n",
       "      <td>7605.75</td>\n",
       "      <td>40809.51</td>\n",
       "      <td>133635.63</td>\n",
       "    </tr>\n",
       "    <tr>\n",
       "      <th>1</th>\n",
       "      <td>2015</td>\n",
       "      <td>Calendar</td>\n",
       "      <td>28253</td>\n",
       "      <td>1466.38</td>\n",
       "      <td>0.00</td>\n",
       "      <td>350.23</td>\n",
       "      <td>1816.61</td>\n",
       "      <td>442.03</td>\n",
       "      <td>3.00</td>\n",
       "      <td>141.59</td>\n",
       "      <td>586.62</td>\n",
       "      <td>2403.23</td>\n",
       "    </tr>\n",
       "    <tr>\n",
       "      <th>2</th>\n",
       "      <td>2018</td>\n",
       "      <td>Financial</td>\n",
       "      <td>30664</td>\n",
       "      <td>76536.95</td>\n",
       "      <td>10855.94</td>\n",
       "      <td>13586.72</td>\n",
       "      <td>100979.61</td>\n",
       "      <td>12464.61</td>\n",
       "      <td>18636.19</td>\n",
       "      <td>8011.41</td>\n",
       "      <td>39112.21</td>\n",
       "      <td>140091.82</td>\n",
       "    </tr>\n",
       "    <tr>\n",
       "      <th>3</th>\n",
       "      <td>2018</td>\n",
       "      <td>Financial</td>\n",
       "      <td>19482</td>\n",
       "      <td>45659.88</td>\n",
       "      <td>1625.37</td>\n",
       "      <td>3.00</td>\n",
       "      <td>47288.25</td>\n",
       "      <td>0.00</td>\n",
       "      <td>10084.20</td>\n",
       "      <td>3936.63</td>\n",
       "      <td>14020.83</td>\n",
       "      <td>61309.08</td>\n",
       "    </tr>\n",
       "    <tr>\n",
       "      <th>4</th>\n",
       "      <td>2017</td>\n",
       "      <td>Financial</td>\n",
       "      <td>7183</td>\n",
       "      <td>41832.00</td>\n",
       "      <td>0.00</td>\n",
       "      <td>6.00</td>\n",
       "      <td>41838.00</td>\n",
       "      <td>5908.52</td>\n",
       "      <td>7621.60</td>\n",
       "      <td>3254.50</td>\n",
       "      <td>16784.62</td>\n",
       "      <td>58622.62</td>\n",
       "    </tr>\n",
       "  </tbody>\n",
       "</table>\n",
       "</div>"
      ],
      "text/plain": [
       "   Year Type_of_yr  Emp_ID    Income  Other_Income  Overtime  Total_Income  \\\n",
       "0  2015  Financial   42865  92288.22        267.45    270.45      92826.12   \n",
       "1  2015   Calendar   28253   1466.38          0.00    350.23       1816.61   \n",
       "2  2018  Financial   30664  76536.95      10855.94  13586.72     100979.61   \n",
       "3  2018  Financial   19482  45659.88       1625.37      3.00      47288.25   \n",
       "4  2017  Financial    7183  41832.00          0.00      6.00      41838.00   \n",
       "\n",
       "   Health_Insurance  Retirement  Other_Benefits  Total_Benefits  \\\n",
       "0          12500.56    20703.20         7605.75        40809.51   \n",
       "1            442.03        3.00          141.59          586.62   \n",
       "2          12464.61    18636.19         8011.41        39112.21   \n",
       "3              0.00    10084.20         3936.63        14020.83   \n",
       "4           5908.52     7621.60         3254.50        16784.62   \n",
       "\n",
       "   Total_Reimbursement  \n",
       "0            133635.63  \n",
       "1              2403.23  \n",
       "2            140091.82  \n",
       "3             61309.08  \n",
       "4             58622.62  "
      ]
     },
     "execution_count": 3,
     "metadata": {},
     "output_type": "execute_result"
    }
   ],
   "source": [
    "df.head()"
   ]
  },
  {
   "cell_type": "code",
   "execution_count": 18,
   "id": "f144a738",
   "metadata": {},
   "outputs": [
    {
     "data": {
      "text/plain": [
       "<AxesSubplot:>"
      ]
     },
     "execution_count": 18,
     "metadata": {},
     "output_type": "execute_result"
    },
    {
     "data": {
      "image/png": "[encoded data removed]",
      "text/plain": [
       "<Figure size 432x288 with 2 Axes>"
      ]
     },
     "metadata": {
      "needs_background": "light"
     },
     "output_type": "display_data"
    }
   ],
   "source": [
    "#Checking for multiple relationship\n",
    "sns.heatmap(df.corr(),annot=True)"
   ]
  },
  {
   "cell_type": "code",
   "execution_count": 37,
   "id": "bf53deb7",
   "metadata": {},
   "outputs": [],
   "source": [
    "from sklearn.model_selection import train_test_split, cross_val_score, GridSearchCV\n",
    "from sklearn.linear_model import LinearRegression\n",
    "from sklearn.tree import DecisionTreeRegressor\n",
    "from sklearn.ensemble import RandomForestRegressor\n",
    "from sklearn.linear_model import ElasticNet"
   ]
  },
  {
   "cell_type": "code",
   "execution_count": 34,
   "id": "4426da56",
   "metadata": {},
   "outputs": [
    {
     "data": {
      "text/plain": [
       "((26320, 9), (11281, 9), (26320,), (11281,))"
      ]
     },
     "execution_count": 34,
     "metadata": {},
     "output_type": "execute_result"
    }
   ],
   "source": [
    "x_train,x_test,y_train,y_test=train_test_split(inp_col,target_col,test_size=0.3,random_state=1)\n",
    "x_train.shape,x_test.shape,y_train.shape,y_test.shape"
   ]
  },
  {
   "cell_type": "code",
   "execution_count": 35,
   "id": "29bcd396",
   "metadata": {},
   "outputs": [
    {
     "name": "stdout",
     "output_type": "stream",
     "text": [
      "Root Mean Squared Error: 0.0\n",
      "r-squared :  1.0\n",
      "r-squared :  1.0\n"
     ]
    }
   ],
   "source": [
    "#\n",
    "from sklearn.linear_model import LinearRegression\n",
    "from sklearn.metrics import r2_score,mean_squared_error\n",
    "lin_model=LinearRegression().fit(x_train,y_train)\n",
    "y_pred=lin_model.predict(x_test)\n",
    "mse_test=mean_squared_error(y_pred,y_test)\n",
    "print('Root Mean Squared Error:',round(np.sqrt(mse_test), 4))\n",
    "r2_value_rfe = lin_model.score(x_train, y_train)\n",
    "print('r-squared : ', r2_value_rfe)\n",
    "r2_value_rfe_test = lin_model.score(x_test, y_test)\n",
    "print('r-squared : ', r2_value_rfe_test)"
   ]
  },
  {
   "cell_type": "code",
   "execution_count": 38,
   "id": "90f638d2",
   "metadata": {},
   "outputs": [
    {
     "name": "stdout",
     "output_type": "stream",
     "text": [
      "Root Mean Squared Error: 1884.3529\n",
      "r-squared :  0.998858828742838\n",
      "r-squared :  0.9988949810327193\n"
     ]
    }
   ],
   "source": [
    "enet = ElasticNet(alpha=0.1,l1_ratio=0.5).fit(x_train,y_train)\n",
    "y_pred=enet.predict(x_test)\n",
    "mse_test=mean_squared_error(y_pred,y_test)\n",
    "print('Root Mean Squared Error:',round(np.sqrt(mse_test), 4))\n",
    "r2_value_rfe = enet.score(x_train, y_train)\n",
    "print('r-squared : ', r2_value_rfe)\n",
    "r2_value_rfe_test = enet.score(x_test, y_test)\n",
    "print('r-squared : ', r2_value_rfe_test)"
   ]
  },
  {
   "cell_type": "code",
   "execution_count": 40,
   "id": "0363d549",
   "metadata": {},
   "outputs": [
    {
     "name": "stdout",
     "output_type": "stream",
     "text": [
      "All Train scores:  [0.99876452 0.99897032 0.99869003 0.99887726 0.99897289]\n",
      "\n",
      "Minimum score obtained:  0.9987\n",
      "Maximum score obtained:  0.999\n",
      "Average score obtained:  0.9989\n",
      "\n",
      "All Test scores:  [0.99873331 0.99878813 0.99889406 0.99888393 0.99886487]\n",
      "\n",
      "Minimum score obtained:  0.9987\n",
      "Maximum score obtained:  0.9989\n",
      "Average score obtained:  0.9988\n"
     ]
    }
   ],
   "source": [
    "#Model Evaluation using Cross validation score\n",
    "scores = cross_val_score(   estimator = ElasticNet(alpha=0.1,l1_ratio=0.5), \n",
    "                            X = x_train, \n",
    "                            y = y_train, \n",
    "                            cv = 5, \n",
    "                            scoring = 'r2',\n",
    "                         )\n",
    "print('All Train scores: ', scores)  \n",
    "print(\"\\nMinimum score obtained: \", round(min(scores), 4)) \n",
    "print(\"Maximum score obtained: \", round(max(scores), 4))  \n",
    "print(\"Average score obtained: \", round(np.mean(scores), 4))\n",
    "\n",
    "\n",
    "scores = cross_val_score(   estimator = ElasticNet(alpha=0.1,l1_ratio=0.5), \n",
    "                            X = x_test, \n",
    "                            y = y_test, \n",
    "                            cv = 5, \n",
    "                            scoring = 'r2',\n",
    "                         )\n",
    "print('\\nAll Test scores: ', scores)  \n",
    "print(\"\\nMinimum score obtained: \", round(min(scores), 4)) \n",
    "print(\"Maximum score obtained: \", round(max(scores), 4))  \n",
    "print(\"Average score obtained: \", round(np.mean(scores), 4))"
   ]
  },
  {
   "cell_type": "code",
   "execution_count": 42,
   "id": "c46113f8",
   "metadata": {},
   "outputs": [
    {
     "name": "stdout",
     "output_type": "stream",
     "text": [
      "           Features           VIF\n",
      "0            Emp_ID  1.000125e+00\n",
      "1            Income  1.756682e+09\n",
      "2      Other_Income  9.123626e+07\n",
      "3          Overtime  1.439535e+07\n",
      "4      Total_Income  5.868737e+07\n",
      "5  Health_Insurance  4.240806e+06\n",
      "6        Retirement  8.549604e+06\n",
      "7    Other_Benefits  7.489774e+06\n",
      "8    Total_Benefits  1.822166e+07\n"
     ]
    }
   ],
   "source": [
    "#Calculating VIF\n",
    "from statsmodels.stats.outliers_influence import variance_inflation_factor\n",
    "vif = pd.DataFrame()\n",
    "vif[\"Features\"] = inp_col.columns\n",
    "vif[\"VIF\"] = [variance_inflation_factor(inp_col.values, i) for i in range(inp_col.shape[1])]\n",
    "print(vif)"
   ]
  },
  {
   "cell_type": "code",
   "execution_count": 26,
   "id": "eb1422d3",
   "metadata": {},
   "outputs": [
    {
     "name": "stdout",
     "output_type": "stream",
     "text": [
      "                                 OLS Regression Results                                 \n",
      "========================================================================================\n",
      "Dep. Variable:     Total_Reimbursement   R-squared (uncentered):                   0.999\n",
      "Model:                             OLS   Adj. R-squared (uncentered):              0.999\n",
      "Method:                  Least Squares   F-statistic:                          6.988e+06\n",
      "Date:                 Fri, 10 Jun 2022   Prob (F-statistic):                        0.00\n",
      "Time:                         11:47:41   Log-Likelihood:                     -3.4725e+05\n",
      "No. Observations:                37601   AIC:                                  6.945e+05\n",
      "Df Residuals:                    37593   BIC:                                  6.946e+05\n",
      "Df Model:                            8                                                  \n",
      "Covariance Type:             nonrobust                                                  \n",
      "====================================================================================\n",
      "                       coef    std err          t      P>|t|      [0.025      0.975]\n",
      "------------------------------------------------------------------------------------\n",
      "Emp_ID              -1.1541     12.795     -0.090      0.928     -26.233      23.925\n",
      "Income            6.411e+17   1.07e+14   6016.518      0.000    6.41e+17    6.41e+17\n",
      "Other_Income       3.78e+16   6.28e+12   6016.518      0.000    3.78e+16    3.78e+16\n",
      "Overtime          2.142e+16   3.56e+12   6016.518      0.000    2.14e+16    2.14e+16\n",
      "Total_Income      -6.56e+17   1.09e+14  -6016.518      0.000   -6.56e+17   -6.56e+17\n",
      "Health_Insurance  -6.16e+17   1.02e+14  -6016.518      0.000   -6.16e+17   -6.16e+17\n",
      "Retirement       -1.082e+18    1.8e+14  -6016.518      0.000   -1.08e+18   -1.08e+18\n",
      "Other_Benefits   -3.821e+17   6.35e+13  -6016.518      0.000   -3.82e+17   -3.82e+17\n",
      "Total_Benefits    1.961e+18   3.26e+14   6016.518      0.000    1.96e+18    1.96e+18\n",
      "==============================================================================\n",
      "Omnibus:                     9023.679   Durbin-Watson:                   1.996\n",
      "Prob(Omnibus):                  0.000   Jarque-Bera (JB):             1612.452\n",
      "Skew:                          -0.058   Prob(JB):                         0.00\n",
      "Kurtosis:                       1.992   Cond. No.                     1.48e+16\n",
      "==============================================================================\n",
      "\n",
      "Notes:\n",
      "[1] R² is computed without centering (uncentered) since the model does not contain a constant.\n",
      "[2] Standard Errors assume that the covariance matrix of the errors is correctly specified.\n",
      "[3] The smallest eigenvalue is 9.6e-28. This might indicate that there are\n",
      "strong multicollinearity problems or that the design matrix is singular.\n"
     ]
    }
   ],
   "source": [
    "#Base model\n",
    "import statsmodels.api as sm\n",
    "y=target_col\n",
    "X=inp_col\n",
    "MLR_model = sm.OLS(y,X).fit()\n",
    "print(MLR_model.summary())"
   ]
  },
  {
   "cell_type": "code",
   "execution_count": 24,
   "id": "fbeab5e2",
   "metadata": {},
   "outputs": [],
   "source": [
    "target_col=df['Total_Reimbursement']\n",
    "inp_col=df.drop(['Year','Type_of_yr','Total_Reimbursement'],axis=1)"
   ]
  },
  {
   "cell_type": "code",
   "execution_count": 20,
   "id": "ad32a677",
   "metadata": {},
   "outputs": [
    {
     "name": "stderr",
     "output_type": "stream",
     "text": [
      "C:\\Ashwin\\Learning\\Datascience\\lib\\site-packages\\pandas\\core\\indexing.py:1754: SettingWithCopyWarning: \n",
      "A value is trying to be set on a copy of a slice from a DataFrame.\n",
      "Try using .loc[row_indexer,col_indexer] = value instead\n",
      "\n",
      "See the caveats in the documentation: https://pandas.pydata.org/pandas-docs/stable/user_guide/indexing.html#returning-a-view-versus-a-copy\n",
      "  self._setitem_single_column(loc, val, pi)\n"
     ]
    },
    {
     "data": {
      "text/html": [
       "<div>\n",
       "<style scoped>\n",
       "    .dataframe tbody tr th:only-of-type {\n",
       "        vertical-align: middle;\n",
       "    }\n",
       "\n",
       "    .dataframe tbody tr th {\n",
       "        vertical-align: top;\n",
       "    }\n",
       "\n",
       "    .dataframe thead th {\n",
       "        text-align: right;\n",
       "    }\n",
       "</style>\n",
       "<table border=\"1\" class=\"dataframe\">\n",
       "  <thead>\n",
       "    <tr style=\"text-align: right;\">\n",
       "      <th></th>\n",
       "      <th>Year</th>\n",
       "      <th>Type_of_yr</th>\n",
       "      <th>Emp_ID</th>\n",
       "      <th>Income</th>\n",
       "      <th>Other_Income</th>\n",
       "      <th>Overtime</th>\n",
       "      <th>Total_Income</th>\n",
       "      <th>Health_Insurance</th>\n",
       "      <th>Retirement</th>\n",
       "      <th>Other_Benefits</th>\n",
       "      <th>Total_Benefits</th>\n",
       "      <th>Total_Reimbursement</th>\n",
       "    </tr>\n",
       "  </thead>\n",
       "  <tbody>\n",
       "    <tr>\n",
       "      <th>0</th>\n",
       "      <td>2015</td>\n",
       "      <td>Financial</td>\n",
       "      <td>1.021278</td>\n",
       "      <td>0.979272</td>\n",
       "      <td>-0.476483</td>\n",
       "      <td>-0.234449</td>\n",
       "      <td>0.921924</td>\n",
       "      <td>0.911621</td>\n",
       "      <td>1.173963</td>\n",
       "      <td>1.141794</td>\n",
       "      <td>1.156388</td>\n",
       "      <td>133635.63</td>\n",
       "    </tr>\n",
       "    <tr>\n",
       "      <th>1</th>\n",
       "      <td>2015</td>\n",
       "      <td>Calendar</td>\n",
       "      <td>0.082710</td>\n",
       "      <td>-1.259481</td>\n",
       "      <td>-0.588280</td>\n",
       "      <td>-0.175594</td>\n",
       "      <td>-1.270526</td>\n",
       "      <td>-1.504303</td>\n",
       "      <td>-1.186975</td>\n",
       "      <td>-1.269380</td>\n",
       "      <td>-1.374560</td>\n",
       "      <td>2403.23</td>\n",
       "    </tr>\n",
       "    <tr>\n",
       "      <th>3</th>\n",
       "      <td>2018</td>\n",
       "      <td>Financial</td>\n",
       "      <td>-0.480675</td>\n",
       "      <td>-0.170114</td>\n",
       "      <td>0.091140</td>\n",
       "      <td>-0.431752</td>\n",
       "      <td>-0.175099</td>\n",
       "      <td>-1.592864</td>\n",
       "      <td>-0.037175</td>\n",
       "      <td>-0.043455</td>\n",
       "      <td>-0.529238</td>\n",
       "      <td>61309.08</td>\n",
       "    </tr>\n",
       "    <tr>\n",
       "      <th>4</th>\n",
       "      <td>2017</td>\n",
       "      <td>Financial</td>\n",
       "      <td>-1.270673</td>\n",
       "      <td>-0.264471</td>\n",
       "      <td>-0.588280</td>\n",
       "      <td>-0.429539</td>\n",
       "      <td>-0.306397</td>\n",
       "      <td>-0.409093</td>\n",
       "      <td>-0.318044</td>\n",
       "      <td>-0.263806</td>\n",
       "      <td>-0.355332</td>\n",
       "      <td>58622.62</td>\n",
       "    </tr>\n",
       "    <tr>\n",
       "      <th>5</th>\n",
       "      <td>2017</td>\n",
       "      <td>Calendar</td>\n",
       "      <td>1.507584</td>\n",
       "      <td>0.531722</td>\n",
       "      <td>0.015083</td>\n",
       "      <td>-0.431014</td>\n",
       "      <td>0.506445</td>\n",
       "      <td>0.989313</td>\n",
       "      <td>0.506980</td>\n",
       "      <td>0.698624</td>\n",
       "      <td>0.726492</td>\n",
       "      <td>109556.84</td>\n",
       "    </tr>\n",
       "  </tbody>\n",
       "</table>\n",
       "</div>"
      ],
      "text/plain": [
       "   Year Type_of_yr    Emp_ID    Income  Other_Income  Overtime  Total_Income  \\\n",
       "0  2015  Financial  1.021278  0.979272     -0.476483 -0.234449      0.921924   \n",
       "1  2015   Calendar  0.082710 -1.259481     -0.588280 -0.175594     -1.270526   \n",
       "3  2018  Financial -0.480675 -0.170114      0.091140 -0.431752     -0.175099   \n",
       "4  2017  Financial -1.270673 -0.264471     -0.588280 -0.429539     -0.306397   \n",
       "5  2017   Calendar  1.507584  0.531722      0.015083 -0.431014      0.506445   \n",
       "\n",
       "   Health_Insurance  Retirement  Other_Benefits  Total_Benefits  \\\n",
       "0          0.911621    1.173963        1.141794        1.156388   \n",
       "1         -1.504303   -1.186975       -1.269380       -1.374560   \n",
       "3         -1.592864   -0.037175       -0.043455       -0.529238   \n",
       "4         -0.409093   -0.318044       -0.263806       -0.355332   \n",
       "5          0.989313    0.506980        0.698624        0.726492   \n",
       "\n",
       "   Total_Reimbursement  \n",
       "0            133635.63  \n",
       "1              2403.23  \n",
       "3             61309.08  \n",
       "4             58622.62  \n",
       "5            109556.84  "
      ]
     },
     "execution_count": 20,
     "metadata": {},
     "output_type": "execute_result"
    }
   ],
   "source": [
    "#4.Scaling data\n",
    "df.iloc[:, 2:11] = df.iloc[:, 2:11].apply(lambda rec: (rec - rec.mean()) / rec.std())\n",
    "df.head()"
   ]
  },
  {
   "cell_type": "code",
   "execution_count": null,
   "id": "c729f1c8",
   "metadata": {},
   "outputs": [],
   "source": [
    "#3.checking for null variable\n",
    "df.isna().sum()\n",
    "df.isnull().sum()\n",
    "#4.Checking for duplicate values\n",
    "df.duplicated().sum()\n",
    "#5.Handling null values"
   ]
  },
  {
   "cell_type": "code",
   "execution_count": 19,
   "id": "f1e19af3",
   "metadata": {},
   "outputs": [
    {
     "name": "stderr",
     "output_type": "stream",
     "text": [
      "<ipython-input-19-c616e44e6aa0>:5: FutureWarning: Automatic reindexing on DataFrame vs Series comparisons is deprecated and will raise ValueError in a future version.  Do `left, right = left.align(right, axis=1, copy=False)` before e.g. `left == right`\n",
      "  df = df[~((df < (Q1 - 1.5 * IQR)) | (df > (Q3 + 1.5 * IQR))).any(axis=1)]\n",
      "<ipython-input-19-c616e44e6aa0>:5: FutureWarning: Automatic reindexing on DataFrame vs Series comparisons is deprecated and will raise ValueError in a future version.  Do `left, right = left.align(right, axis=1, copy=False)` before e.g. `left == right`\n",
      "  df = df[~((df < (Q1 - 1.5 * IQR)) | (df > (Q3 + 1.5 * IQR))).any(axis=1)]\n"
     ]
    },
    {
     "data": {
      "text/plain": [
       "(37601, 12)"
      ]
     },
     "execution_count": 19,
     "metadata": {},
     "output_type": "execute_result"
    }
   ],
   "source": [
    "#Checking for outlier\n",
    "Q1 = df.quantile(0.25)\n",
    "Q3 = df.quantile(0.75)\n",
    "IQR = Q3 - Q1\n",
    "df = df[~((df < (Q1 - 1.5 * IQR)) | (df > (Q3 + 1.5 * IQR))).any(axis=1)]\n",
    "df.shape"
   ]
  },
  {
   "cell_type": "code",
   "execution_count": 12,
   "id": "33eddce8",
   "metadata": {},
   "outputs": [
    {
     "data": {
      "text/plain": [
       "Year                   -1.490196\n",
       "Emp_ID                 -1.200390\n",
       "Income                  0.364251\n",
       "Other_Income           81.428060\n",
       "Overtime               27.278675\n",
       "Total_Income            0.295859\n",
       "Health_Insurance       -1.100428\n",
       "Retirement              0.098035\n",
       "Other_Benefits          4.821056\n",
       "Total_Benefits         -0.689455\n",
       "Total_Reimbursement    -0.155537\n",
       "dtype: float64"
      ]
     },
     "execution_count": 12,
     "metadata": {},
     "output_type": "execute_result"
    }
   ],
   "source": [
    "#2. Univariate, Multivariate Analysis\n",
    "#Checking skewness and kurtosis\n",
    "df.skew()\n",
    "df.kurtosis()"
   ]
  },
  {
   "cell_type": "code",
   "execution_count": null,
   "id": "037b6ce2",
   "metadata": {},
   "outputs": [],
   "source": []
  },
  {
   "cell_type": "code",
   "execution_count": 9,
   "id": "ee7243a8",
   "metadata": {},
   "outputs": [],
   "source": [
    "#1.converting column to respective data types\n",
    "df['Year']=df['Year'].astype(object)"
   ]
  },
  {
   "cell_type": "code",
   "execution_count": 4,
   "id": "ad8079a2",
   "metadata": {},
   "outputs": [
    {
     "data": {
      "text/plain": [
       "(49794, 12)"
      ]
     },
     "execution_count": 4,
     "metadata": {},
     "output_type": "execute_result"
    }
   ],
   "source": [
    "df.shape"
   ]
  },
  {
   "cell_type": "code",
   "execution_count": 10,
   "id": "eebf7eef",
   "metadata": {},
   "outputs": [
    {
     "name": "stdout",
     "output_type": "stream",
     "text": [
      "<class 'pandas.core.frame.DataFrame'>\n",
      "RangeIndex: 49794 entries, 0 to 49793\n",
      "Data columns (total 12 columns):\n",
      " #   Column               Non-Null Count  Dtype  \n",
      "---  ------               --------------  -----  \n",
      " 0   Year                 49794 non-null  object \n",
      " 1   Type_of_yr           49794 non-null  object \n",
      " 2   Emp_ID               49794 non-null  int64  \n",
      " 3   Income               49794 non-null  float64\n",
      " 4   Other_Income         49794 non-null  float64\n",
      " 5   Overtime             49794 non-null  float64\n",
      " 6   Total_Income         49794 non-null  float64\n",
      " 7   Health_Insurance     49794 non-null  float64\n",
      " 8   Retirement           49794 non-null  float64\n",
      " 9   Other_Benefits       49794 non-null  float64\n",
      " 10  Total_Benefits       49794 non-null  float64\n",
      " 11  Total_Reimbursement  49794 non-null  float64\n",
      "dtypes: float64(9), int64(1), object(2)\n",
      "memory usage: 4.6+ MB\n"
     ]
    }
   ],
   "source": [
    "df.info()"
   ]
  }
 ],
 "metadata": {
  "kernelspec": {
   "display_name": "Python 3",
   "language": "python",
   "name": "python3"
  },
  "language_info": {
   "codemirror_mode": {
    "name": "ipython",
    "version": 3
   },
   "file_extension": ".py",
   "mimetype": "text/x-python",
   "name": "python",
   "nbconvert_exporter": "python",
   "pygments_lexer": "ipython3",
   "version": "3.8.8"
  }
 },
 "nbformat": 4,
 "nbformat_minor": 5
}
