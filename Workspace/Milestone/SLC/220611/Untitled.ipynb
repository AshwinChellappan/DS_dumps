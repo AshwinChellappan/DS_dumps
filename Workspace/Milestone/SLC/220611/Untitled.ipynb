{
 "cells": [
  {
   "cell_type": "code",
   "execution_count": 2,
   "id": "af7c837c",
   "metadata": {},
   "outputs": [],
   "source": [
    "import numpy as np\n",
    "import pandas as pd\n",
    "import matplotlib.pyplot as plt\n",
    "import seaborn as sns"
   ]
  },
  {
   "cell_type": "code",
   "execution_count": 3,
   "id": "822cd4bb",
   "metadata": {},
   "outputs": [],
   "source": [
    "df=pd.read_csv('C:\\\\Ashwin\\\\Learning\\\\Workspace\\\\Workspace\\\\Capstone Project\\\\Practise\\\\data.csv')"
   ]
  },
  {
   "cell_type": "code",
   "execution_count": 4,
   "id": "7287fdec",
   "metadata": {},
   "outputs": [
    {
     "data": {
      "text/html": [
       "<div>\n",
       "<style scoped>\n",
       "    .dataframe tbody tr th:only-of-type {\n",
       "        vertical-align: middle;\n",
       "    }\n",
       "\n",
       "    .dataframe tbody tr th {\n",
       "        vertical-align: top;\n",
       "    }\n",
       "\n",
       "    .dataframe thead th {\n",
       "        text-align: right;\n",
       "    }\n",
       "</style>\n",
       "<table border=\"1\" class=\"dataframe\">\n",
       "  <thead>\n",
       "    <tr style=\"text-align: right;\">\n",
       "      <th></th>\n",
       "      <th>Bankrupt?</th>\n",
       "      <th>ROA(C) before interest and depreciation before interest</th>\n",
       "      <th>ROA(A) before interest and % after tax</th>\n",
       "      <th>ROA(B) before interest and depreciation after tax</th>\n",
       "      <th>Operating Gross Margin</th>\n",
       "      <th>Realized Sales Gross Margin</th>\n",
       "      <th>Operating Profit Rate</th>\n",
       "      <th>Pre-tax net Interest Rate</th>\n",
       "      <th>After-tax net Interest Rate</th>\n",
       "      <th>Non-industry income and expenditure/revenue</th>\n",
       "      <th>...</th>\n",
       "      <th>Net Income to Total Assets</th>\n",
       "      <th>Total assets to GNP price</th>\n",
       "      <th>No-credit Interval</th>\n",
       "      <th>Gross Profit to Sales</th>\n",
       "      <th>Net Income to Stockholder's Equity</th>\n",
       "      <th>Liability to Equity</th>\n",
       "      <th>Degree of Financial Leverage (DFL)</th>\n",
       "      <th>Interest Coverage Ratio (Interest expense to EBIT)</th>\n",
       "      <th>Net Income Flag</th>\n",
       "      <th>Equity to Liability</th>\n",
       "    </tr>\n",
       "  </thead>\n",
       "  <tbody>\n",
       "    <tr>\n",
       "      <th>0</th>\n",
       "      <td>1</td>\n",
       "      <td>0.370594</td>\n",
       "      <td>0.424389</td>\n",
       "      <td>0.405750</td>\n",
       "      <td>0.601457</td>\n",
       "      <td>0.601457</td>\n",
       "      <td>0.998969</td>\n",
       "      <td>0.796887</td>\n",
       "      <td>0.808809</td>\n",
       "      <td>0.302646</td>\n",
       "      <td>...</td>\n",
       "      <td>0.716845</td>\n",
       "      <td>0.009219</td>\n",
       "      <td>0.622879</td>\n",
       "      <td>0.601453</td>\n",
       "      <td>0.827890</td>\n",
       "      <td>0.290202</td>\n",
       "      <td>0.026601</td>\n",
       "      <td>0.564050</td>\n",
       "      <td>1</td>\n",
       "      <td>0.016469</td>\n",
       "    </tr>\n",
       "    <tr>\n",
       "      <th>1</th>\n",
       "      <td>1</td>\n",
       "      <td>0.464291</td>\n",
       "      <td>0.538214</td>\n",
       "      <td>0.516730</td>\n",
       "      <td>0.610235</td>\n",
       "      <td>0.610235</td>\n",
       "      <td>0.998946</td>\n",
       "      <td>0.797380</td>\n",
       "      <td>0.809301</td>\n",
       "      <td>0.303556</td>\n",
       "      <td>...</td>\n",
       "      <td>0.795297</td>\n",
       "      <td>0.008323</td>\n",
       "      <td>0.623652</td>\n",
       "      <td>0.610237</td>\n",
       "      <td>0.839969</td>\n",
       "      <td>0.283846</td>\n",
       "      <td>0.264577</td>\n",
       "      <td>0.570175</td>\n",
       "      <td>1</td>\n",
       "      <td>0.020794</td>\n",
       "    </tr>\n",
       "    <tr>\n",
       "      <th>2</th>\n",
       "      <td>1</td>\n",
       "      <td>0.426071</td>\n",
       "      <td>0.499019</td>\n",
       "      <td>0.472295</td>\n",
       "      <td>0.601450</td>\n",
       "      <td>0.601364</td>\n",
       "      <td>0.998857</td>\n",
       "      <td>0.796403</td>\n",
       "      <td>0.808388</td>\n",
       "      <td>0.302035</td>\n",
       "      <td>...</td>\n",
       "      <td>0.774670</td>\n",
       "      <td>0.040003</td>\n",
       "      <td>0.623841</td>\n",
       "      <td>0.601449</td>\n",
       "      <td>0.836774</td>\n",
       "      <td>0.290189</td>\n",
       "      <td>0.026555</td>\n",
       "      <td>0.563706</td>\n",
       "      <td>1</td>\n",
       "      <td>0.016474</td>\n",
       "    </tr>\n",
       "    <tr>\n",
       "      <th>3</th>\n",
       "      <td>1</td>\n",
       "      <td>0.399844</td>\n",
       "      <td>0.451265</td>\n",
       "      <td>0.457733</td>\n",
       "      <td>0.583541</td>\n",
       "      <td>0.583541</td>\n",
       "      <td>0.998700</td>\n",
       "      <td>0.796967</td>\n",
       "      <td>0.808966</td>\n",
       "      <td>0.303350</td>\n",
       "      <td>...</td>\n",
       "      <td>0.739555</td>\n",
       "      <td>0.003252</td>\n",
       "      <td>0.622929</td>\n",
       "      <td>0.583538</td>\n",
       "      <td>0.834697</td>\n",
       "      <td>0.281721</td>\n",
       "      <td>0.026697</td>\n",
       "      <td>0.564663</td>\n",
       "      <td>1</td>\n",
       "      <td>0.023982</td>\n",
       "    </tr>\n",
       "    <tr>\n",
       "      <th>4</th>\n",
       "      <td>1</td>\n",
       "      <td>0.465022</td>\n",
       "      <td>0.538432</td>\n",
       "      <td>0.522298</td>\n",
       "      <td>0.598783</td>\n",
       "      <td>0.598783</td>\n",
       "      <td>0.998973</td>\n",
       "      <td>0.797366</td>\n",
       "      <td>0.809304</td>\n",
       "      <td>0.303475</td>\n",
       "      <td>...</td>\n",
       "      <td>0.795016</td>\n",
       "      <td>0.003878</td>\n",
       "      <td>0.623521</td>\n",
       "      <td>0.598782</td>\n",
       "      <td>0.839973</td>\n",
       "      <td>0.278514</td>\n",
       "      <td>0.024752</td>\n",
       "      <td>0.575617</td>\n",
       "      <td>1</td>\n",
       "      <td>0.035490</td>\n",
       "    </tr>\n",
       "  </tbody>\n",
       "</table>\n",
       "<p>5 rows × 96 columns</p>\n",
       "</div>"
      ],
      "text/plain": [
       "   Bankrupt?   ROA(C) before interest and depreciation before interest  \\\n",
       "0          1                                           0.370594          \n",
       "1          1                                           0.464291          \n",
       "2          1                                           0.426071          \n",
       "3          1                                           0.399844          \n",
       "4          1                                           0.465022          \n",
       "\n",
       "    ROA(A) before interest and % after tax  \\\n",
       "0                                 0.424389   \n",
       "1                                 0.538214   \n",
       "2                                 0.499019   \n",
       "3                                 0.451265   \n",
       "4                                 0.538432   \n",
       "\n",
       "    ROA(B) before interest and depreciation after tax  \\\n",
       "0                                           0.405750    \n",
       "1                                           0.516730    \n",
       "2                                           0.472295    \n",
       "3                                           0.457733    \n",
       "4                                           0.522298    \n",
       "\n",
       "    Operating Gross Margin   Realized Sales Gross Margin  \\\n",
       "0                 0.601457                      0.601457   \n",
       "1                 0.610235                      0.610235   \n",
       "2                 0.601450                      0.601364   \n",
       "3                 0.583541                      0.583541   \n",
       "4                 0.598783                      0.598783   \n",
       "\n",
       "    Operating Profit Rate   Pre-tax net Interest Rate  \\\n",
       "0                0.998969                    0.796887   \n",
       "1                0.998946                    0.797380   \n",
       "2                0.998857                    0.796403   \n",
       "3                0.998700                    0.796967   \n",
       "4                0.998973                    0.797366   \n",
       "\n",
       "    After-tax net Interest Rate   Non-industry income and expenditure/revenue  \\\n",
       "0                      0.808809                                      0.302646   \n",
       "1                      0.809301                                      0.303556   \n",
       "2                      0.808388                                      0.302035   \n",
       "3                      0.808966                                      0.303350   \n",
       "4                      0.809304                                      0.303475   \n",
       "\n",
       "   ...   Net Income to Total Assets   Total assets to GNP price  \\\n",
       "0  ...                     0.716845                    0.009219   \n",
       "1  ...                     0.795297                    0.008323   \n",
       "2  ...                     0.774670                    0.040003   \n",
       "3  ...                     0.739555                    0.003252   \n",
       "4  ...                     0.795016                    0.003878   \n",
       "\n",
       "    No-credit Interval   Gross Profit to Sales  \\\n",
       "0             0.622879                0.601453   \n",
       "1             0.623652                0.610237   \n",
       "2             0.623841                0.601449   \n",
       "3             0.622929                0.583538   \n",
       "4             0.623521                0.598782   \n",
       "\n",
       "    Net Income to Stockholder's Equity   Liability to Equity  \\\n",
       "0                             0.827890              0.290202   \n",
       "1                             0.839969              0.283846   \n",
       "2                             0.836774              0.290189   \n",
       "3                             0.834697              0.281721   \n",
       "4                             0.839973              0.278514   \n",
       "\n",
       "    Degree of Financial Leverage (DFL)  \\\n",
       "0                             0.026601   \n",
       "1                             0.264577   \n",
       "2                             0.026555   \n",
       "3                             0.026697   \n",
       "4                             0.024752   \n",
       "\n",
       "    Interest Coverage Ratio (Interest expense to EBIT)   Net Income Flag  \\\n",
       "0                                           0.564050                   1   \n",
       "1                                           0.570175                   1   \n",
       "2                                           0.563706                   1   \n",
       "3                                           0.564663                   1   \n",
       "4                                           0.575617                   1   \n",
       "\n",
       "    Equity to Liability  \n",
       "0              0.016469  \n",
       "1              0.020794  \n",
       "2              0.016474  \n",
       "3              0.023982  \n",
       "4              0.035490  \n",
       "\n",
       "[5 rows x 96 columns]"
      ]
     },
     "execution_count": 4,
     "metadata": {},
     "output_type": "execute_result"
    }
   ],
   "source": [
    "df.head()"
   ]
  },
  {
   "cell_type": "code",
   "execution_count": 6,
   "id": "3225bdc6",
   "metadata": {},
   "outputs": [],
   "source": [
    "df.columns = df.columns.str.strip()\n",
    "df.columns = df.columns.str.replace(\" \" ,\"_\")\n",
    "df.rename(columns = {'Bankrupt?' :'Bankrupt' },inplace=True)"
   ]
  },
  {
   "cell_type": "code",
   "execution_count": null,
   "id": "c1de68ef",
   "metadata": {},
   "outputs": [],
   "source": [
    "#Checking null/duplicate values"
   ]
  },
  {
   "cell_type": "code",
   "execution_count": 16,
   "id": "de091076",
   "metadata": {},
   "outputs": [
    {
     "data": {
      "text/plain": [
       "(6514, 96)"
      ]
     },
     "execution_count": 16,
     "metadata": {},
     "output_type": "execute_result"
    }
   ],
   "source": [
    "#Handling outlier\n",
    "Q1 = df.quantile(0.01)\n",
    "Q3 = df.quantile(0.99)\n",
    "IQR = Q3 - Q1\n",
    "df = df[~((df < (Q1-6*IQR)) | (df > (Q3 + 6*IQR))).any(axis = 1)]\n",
    "df.shape"
   ]
  },
  {
   "cell_type": "code",
   "execution_count": 15,
   "id": "a427d914",
   "metadata": {},
   "outputs": [
    {
     "data": {
      "text/html": [
       "<div>\n",
       "<style scoped>\n",
       "    .dataframe tbody tr th:only-of-type {\n",
       "        vertical-align: middle;\n",
       "    }\n",
       "\n",
       "    .dataframe tbody tr th {\n",
       "        vertical-align: top;\n",
       "    }\n",
       "\n",
       "    .dataframe thead th {\n",
       "        text-align: right;\n",
       "    }\n",
       "</style>\n",
       "<table border=\"1\" class=\"dataframe\">\n",
       "  <thead>\n",
       "    <tr style=\"text-align: right;\">\n",
       "      <th></th>\n",
       "      <th>Bankrupt</th>\n",
       "      <th>ROA(C)_before_interest_and_depreciation_before_interest</th>\n",
       "      <th>ROA(A)_before_interest_and_%_after_tax</th>\n",
       "      <th>ROA(B)_before_interest_and_depreciation_after_tax</th>\n",
       "      <th>Operating_Gross_Margin</th>\n",
       "      <th>Realized_Sales_Gross_Margin</th>\n",
       "      <th>Operating_Profit_Rate</th>\n",
       "      <th>Pre-tax_net_Interest_Rate</th>\n",
       "      <th>After-tax_net_Interest_Rate</th>\n",
       "      <th>Non-industry_income_and_expenditure/revenue</th>\n",
       "      <th>...</th>\n",
       "      <th>Net_Income_to_Total_Assets</th>\n",
       "      <th>Total_assets_to_GNP_price</th>\n",
       "      <th>No-credit_Interval</th>\n",
       "      <th>Gross_Profit_to_Sales</th>\n",
       "      <th>Net_Income_to_Stockholder's_Equity</th>\n",
       "      <th>Liability_to_Equity</th>\n",
       "      <th>Degree_of_Financial_Leverage_(DFL)</th>\n",
       "      <th>Interest_Coverage_Ratio_(Interest_expense_to_EBIT)</th>\n",
       "      <th>Net_Income_Flag</th>\n",
       "      <th>Equity_to_Liability</th>\n",
       "    </tr>\n",
       "  </thead>\n",
       "  <tbody>\n",
       "    <tr>\n",
       "      <th>0</th>\n",
       "      <td>1.0</td>\n",
       "      <td>0.381454</td>\n",
       "      <td>0.420377</td>\n",
       "      <td>0.405750</td>\n",
       "      <td>0.709830</td>\n",
       "      <td>0.707021</td>\n",
       "      <td>0.912856</td>\n",
       "      <td>0.550915</td>\n",
       "      <td>0.523433</td>\n",
       "      <td>0.411011</td>\n",
       "      <td>...</td>\n",
       "      <td>0.650414</td>\n",
       "      <td>0.009119</td>\n",
       "      <td>0.459292</td>\n",
       "      <td>0.709820</td>\n",
       "      <td>0.796851</td>\n",
       "      <td>0.135752</td>\n",
       "      <td>0.260955</td>\n",
       "      <td>0.527779</td>\n",
       "      <td>0.0</td>\n",
       "      <td>0.009952</td>\n",
       "    </tr>\n",
       "    <tr>\n",
       "      <th>1</th>\n",
       "      <td>1.0</td>\n",
       "      <td>0.411561</td>\n",
       "      <td>0.447439</td>\n",
       "      <td>0.457733</td>\n",
       "      <td>0.628209</td>\n",
       "      <td>0.625724</td>\n",
       "      <td>0.880983</td>\n",
       "      <td>0.555418</td>\n",
       "      <td>0.533724</td>\n",
       "      <td>0.443784</td>\n",
       "      <td>...</td>\n",
       "      <td>0.680432</td>\n",
       "      <td>0.003151</td>\n",
       "      <td>0.459534</td>\n",
       "      <td>0.628201</td>\n",
       "      <td>0.850553</td>\n",
       "      <td>0.060711</td>\n",
       "      <td>0.261897</td>\n",
       "      <td>0.530599</td>\n",
       "      <td>0.0</td>\n",
       "      <td>0.023846</td>\n",
       "    </tr>\n",
       "    <tr>\n",
       "      <th>2</th>\n",
       "      <td>1.0</td>\n",
       "      <td>0.478649</td>\n",
       "      <td>0.535214</td>\n",
       "      <td>0.522298</td>\n",
       "      <td>0.697649</td>\n",
       "      <td>0.694889</td>\n",
       "      <td>0.913320</td>\n",
       "      <td>0.577930</td>\n",
       "      <td>0.555996</td>\n",
       "      <td>0.449630</td>\n",
       "      <td>...</td>\n",
       "      <td>0.753743</td>\n",
       "      <td>0.003776</td>\n",
       "      <td>0.462408</td>\n",
       "      <td>0.697648</td>\n",
       "      <td>0.892175</td>\n",
       "      <td>0.032330</td>\n",
       "      <td>0.242818</td>\n",
       "      <td>0.580957</td>\n",
       "      <td>0.0</td>\n",
       "      <td>0.045126</td>\n",
       "    </tr>\n",
       "    <tr>\n",
       "      <th>3</th>\n",
       "      <td>1.0</td>\n",
       "      <td>0.400070</td>\n",
       "      <td>0.411100</td>\n",
       "      <td>0.419134</td>\n",
       "      <td>0.658415</td>\n",
       "      <td>0.656169</td>\n",
       "      <td>0.887885</td>\n",
       "      <td>0.551820</td>\n",
       "      <td>0.520878</td>\n",
       "      <td>0.432889</td>\n",
       "      <td>...</td>\n",
       "      <td>0.641922</td>\n",
       "      <td>0.005177</td>\n",
       "      <td>0.457961</td>\n",
       "      <td>0.658427</td>\n",
       "      <td>0.813014</td>\n",
       "      <td>0.090494</td>\n",
       "      <td>0.261688</td>\n",
       "      <td>0.530023</td>\n",
       "      <td>0.0</td>\n",
       "      <td>0.015621</td>\n",
       "    </tr>\n",
       "    <tr>\n",
       "      <th>4</th>\n",
       "      <td>0.0</td>\n",
       "      <td>0.402378</td>\n",
       "      <td>0.441840</td>\n",
       "      <td>0.436158</td>\n",
       "      <td>0.794077</td>\n",
       "      <td>0.790935</td>\n",
       "      <td>0.915685</td>\n",
       "      <td>0.557954</td>\n",
       "      <td>0.533381</td>\n",
       "      <td>0.418841</td>\n",
       "      <td>...</td>\n",
       "      <td>0.676552</td>\n",
       "      <td>0.018272</td>\n",
       "      <td>0.463062</td>\n",
       "      <td>0.794080</td>\n",
       "      <td>0.813336</td>\n",
       "      <td>0.156123</td>\n",
       "      <td>0.261168</td>\n",
       "      <td>0.528468</td>\n",
       "      <td>0.0</td>\n",
       "      <td>0.008462</td>\n",
       "    </tr>\n",
       "  </tbody>\n",
       "</table>\n",
       "<p>5 rows × 96 columns</p>\n",
       "</div>"
      ],
      "text/plain": [
       "   Bankrupt  ROA(C)_before_interest_and_depreciation_before_interest  \\\n",
       "0       1.0                                           0.381454         \n",
       "1       1.0                                           0.411561         \n",
       "2       1.0                                           0.478649         \n",
       "3       1.0                                           0.400070         \n",
       "4       0.0                                           0.402378         \n",
       "\n",
       "   ROA(A)_before_interest_and_%_after_tax  \\\n",
       "0                                0.420377   \n",
       "1                                0.447439   \n",
       "2                                0.535214   \n",
       "3                                0.411100   \n",
       "4                                0.441840   \n",
       "\n",
       "   ROA(B)_before_interest_and_depreciation_after_tax  Operating_Gross_Margin  \\\n",
       "0                                           0.405750                0.709830   \n",
       "1                                           0.457733                0.628209   \n",
       "2                                           0.522298                0.697649   \n",
       "3                                           0.419134                0.658415   \n",
       "4                                           0.436158                0.794077   \n",
       "\n",
       "   Realized_Sales_Gross_Margin  Operating_Profit_Rate  \\\n",
       "0                     0.707021               0.912856   \n",
       "1                     0.625724               0.880983   \n",
       "2                     0.694889               0.913320   \n",
       "3                     0.656169               0.887885   \n",
       "4                     0.790935               0.915685   \n",
       "\n",
       "   Pre-tax_net_Interest_Rate  After-tax_net_Interest_Rate  \\\n",
       "0                   0.550915                     0.523433   \n",
       "1                   0.555418                     0.533724   \n",
       "2                   0.577930                     0.555996   \n",
       "3                   0.551820                     0.520878   \n",
       "4                   0.557954                     0.533381   \n",
       "\n",
       "   Non-industry_income_and_expenditure/revenue  ...  \\\n",
       "0                                     0.411011  ...   \n",
       "1                                     0.443784  ...   \n",
       "2                                     0.449630  ...   \n",
       "3                                     0.432889  ...   \n",
       "4                                     0.418841  ...   \n",
       "\n",
       "   Net_Income_to_Total_Assets  Total_assets_to_GNP_price  No-credit_Interval  \\\n",
       "0                    0.650414                   0.009119            0.459292   \n",
       "1                    0.680432                   0.003151            0.459534   \n",
       "2                    0.753743                   0.003776            0.462408   \n",
       "3                    0.641922                   0.005177            0.457961   \n",
       "4                    0.676552                   0.018272            0.463062   \n",
       "\n",
       "   Gross_Profit_to_Sales  Net_Income_to_Stockholder's_Equity  \\\n",
       "0               0.709820                            0.796851   \n",
       "1               0.628201                            0.850553   \n",
       "2               0.697648                            0.892175   \n",
       "3               0.658427                            0.813014   \n",
       "4               0.794080                            0.813336   \n",
       "\n",
       "   Liability_to_Equity  Degree_of_Financial_Leverage_(DFL)  \\\n",
       "0             0.135752                            0.260955   \n",
       "1             0.060711                            0.261897   \n",
       "2             0.032330                            0.242818   \n",
       "3             0.090494                            0.261688   \n",
       "4             0.156123                            0.261168   \n",
       "\n",
       "   Interest_Coverage_Ratio_(Interest_expense_to_EBIT)  Net_Income_Flag  \\\n",
       "0                                           0.527779               0.0   \n",
       "1                                           0.530599               0.0   \n",
       "2                                           0.580957               0.0   \n",
       "3                                           0.530023               0.0   \n",
       "4                                           0.528468               0.0   \n",
       "\n",
       "   Equity_to_Liability  \n",
       "0             0.009952  \n",
       "1             0.023846  \n",
       "2             0.045126  \n",
       "3             0.015621  \n",
       "4             0.008462  \n",
       "\n",
       "[5 rows x 96 columns]"
      ]
     },
     "execution_count": 15,
     "metadata": {},
     "output_type": "execute_result"
    }
   ],
   "source": [
    "#Scaling data to same range\n",
    "from sklearn.preprocessing import MinMaxScaler\n",
    "minmax=MinMaxScaler()\n",
    "df_scaled=minmax.fit_transform(df)\n",
    "df_scaled=pd.DataFrame(data=df_scaled,columns=df.columns)\n",
    "df_scaled.head()"
   ]
  },
  {
   "cell_type": "code",
   "execution_count": 39,
   "id": "2b50b11d",
   "metadata": {},
   "outputs": [],
   "source": []
  },
  {
   "cell_type": "code",
   "execution_count": null,
   "id": "810025d3",
   "metadata": {},
   "outputs": [],
   "source": []
  },
  {
   "cell_type": "code",
   "execution_count": 17,
   "id": "c9b9909d",
   "metadata": {},
   "outputs": [],
   "source": [
    "#Getting target and independent variables\n",
    "input_cols=df_scaled.drop('Bankrupt',axis=1)\n",
    "traget_cols=df_scaled['Bankrupt']"
   ]
  },
  {
   "cell_type": "code",
   "execution_count": 47,
   "id": "1ab74b19",
   "metadata": {},
   "outputs": [
    {
     "name": "stdout",
     "output_type": "stream",
     "text": [
      "Shape of X before SMOTE:(6552, 90)\n",
      "Shape of X after SMOTE:(12738, 90) \n",
      "\n",
      "\n",
      "Target Class distributuion before SMOTE:\n",
      "0.0    0.97207\n",
      "1.0    0.02793\n",
      "Name: Bankrupt, dtype: float64\n",
      "Target Class distributuion after SMOTE :\n",
      "0.0    0.5\n",
      "1.0    0.5\n",
      "Name: Bankrupt, dtype: float64\n"
     ]
    }
   ],
   "source": [
    "from sklearn.feature_selection import mutual_info_classif \n",
    "from imblearn.over_sampling import SMOTE \n",
    "mutual_info = mutual_info_classif(X= input_cols,y= traget_cols) \n",
    "pruned_features = input_cols.columns[np.where(mutual_info>0)]\n",
    "input_cols_pruned = input_cols[pruned_features]\n",
    "sm = SMOTE(random_state=123)\n",
    "X_sm , y_sm = sm.fit_resample(input_cols_pruned,traget_cols)\n",
    "print(f'''Shape of X before SMOTE:{input_cols_pruned.shape}\n",
    "Shape of X after SMOTE:{X_sm.shape}''',\"\\n\\n\")\n",
    "print(f'''Target Class distributuion before SMOTE:\\n{traget_cols.value_counts(normalize=True)}\n",
    "Target Class distributuion after SMOTE :\\n{y_sm.value_counts(normalize=True)}''')"
   ]
  },
  {
   "cell_type": "code",
   "execution_count": 60,
   "id": "a7417cf6",
   "metadata": {},
   "outputs": [],
   "source": [
    "from sklearn.model_selection import train_test_split,cross_val_score, GridSearchCV\n",
    "x_train,x_test,y_train,y_test=train_test_split(X_sm,y_sm,test_size=0.3,random_state=30)"
   ]
  },
  {
   "cell_type": "code",
   "execution_count": 53,
   "id": "6e332854",
   "metadata": {},
   "outputs": [],
   "source": [
    "from sklearn.linear_model import LogisticRegression\n",
    "from sklearn.tree import DecisionTreeClassifier\n",
    "from sklearn.ensemble import RandomForestClassifier\n",
    "from sklearn.ensemble import StackingClassifier\n",
    "from sklearn.ensemble import GradientBoostingClassifier\n",
    "from xgboost import XGBClassifier\n",
    "from sklearn.naive_bayes import GaussianNB\n",
    "from sklearn.neighbors import KNeighborsClassifier\n",
    "from sklearn.metrics import accuracy_score, confusion_matrix, classification_report, roc_curve, roc_auc_score, f1_score, precision_score"
   ]
  },
  {
   "cell_type": "code",
   "execution_count": 55,
   "id": "a494e3f8",
   "metadata": {},
   "outputs": [
    {
     "name": "stdout",
     "output_type": "stream",
     "text": [
      "0.9594453165881738\n",
      "[[1757  138]\n",
      " [  17 1910]]\n"
     ]
    }
   ],
   "source": [
    "dt_model=RandomForestClassifier(max_depth=8,random_state=1,).fit(x_train,y_train)\n",
    "y_pred=dt_model.predict(x_test)\n",
    "print(accuracy_score(y_test,y_pred))\n",
    "print(confusion_matrix(y_test,y_pred))"
   ]
  },
  {
   "cell_type": "code",
   "execution_count": 57,
   "id": "9597df4d",
   "metadata": {},
   "outputs": [
    {
     "name": "stdout",
     "output_type": "stream",
     "text": [
      "0.9756671899529042\n",
      "[[1802   93]\n",
      " [   0 1927]]\n"
     ]
    }
   ],
   "source": [
    "knnclassifier=KNeighborsClassifier(n_neighbors=2).fit(x_train,y_train)\n",
    "y_pred=knnclassifier.predict(x_test)\n",
    "print(accuracy_score(y_test,y_pred))\n",
    "print(confusion_matrix(y_test,y_pred))"
   ]
  },
  {
   "cell_type": "code",
   "execution_count": 61,
   "id": "d5d4d61f",
   "metadata": {},
   "outputs": [
    {
     "data": {
      "text/plain": [
       "array([0.97757848, 0.98542601, 0.97197309, 0.97085202, 0.97982063,\n",
       "       0.96860987, 0.97530864, 0.97306397, 0.97867565, 0.97867565])"
      ]
     },
     "execution_count": 61,
     "metadata": {},
     "output_type": "execute_result"
    }
   ],
   "source": [
    "#Cross validation for KNN\n",
    "cross_val_score(estimator = knnclassifier, X = x_train, y = y_train, scoring = \"accuracy\", cv = 10)"
   ]
  },
  {
   "cell_type": "code",
   "execution_count": 62,
   "id": "398a95db",
   "metadata": {},
   "outputs": [
    {
     "data": {
      "text/plain": [
       "{'n_neighbors': 5}"
      ]
     },
     "execution_count": 62,
     "metadata": {},
     "output_type": "execute_result"
    }
   ],
   "source": [
    "#Hyper parameter tuning for KNN Algorithm\n",
    "params = [{\"n_neighbors\":[1,2,3,4,5]}]\n",
    "knnclassifier = KNeighborsClassifier()\n",
    "RF_grid = GridSearchCV(estimator = knnclassifier, param_grid = params, cv = 5, scoring = \"recall\")\n",
    "RF_grid.fit(x_train,y_train)\n",
    "RF_grid.best_params_"
   ]
  },
  {
   "cell_type": "code",
   "execution_count": 63,
   "id": "9dc2657b",
   "metadata": {},
   "outputs": [
    {
     "name": "stdout",
     "output_type": "stream",
     "text": [
      "0.9594453165881738\n",
      "[[1757  138]\n",
      " [  17 1910]]\n"
     ]
    }
   ],
   "source": [
    "#XGBoost\n",
    "XGB = XGBClassifier(learning_rate = 0.01, gamma = 2, use_label_encoder = False, eval_metric = \"logloss\", n_estimators = 200, max_depth = 6)\n",
    "XGB.fit(x_train, y_train)\n",
    "y_pred=dt_model.predict(x_test)\n",
    "print(accuracy_score(y_test,y_pred))\n",
    "print(confusion_matrix(y_test,y_pred))\n",
    "#print(classification_report(ytest, XGB.predict(xtest)))"
   ]
  },
  {
   "cell_type": "code",
   "execution_count": 69,
   "id": "22ad7c81",
   "metadata": {},
   "outputs": [
    {
     "name": "stdout",
     "output_type": "stream",
     "text": [
      "0.97854526425955\n",
      "[[1822   73]\n",
      " [   9 1918]]\n"
     ]
    }
   ],
   "source": [
    "base_learners = [('KNN', KNeighborsClassifier()),\n",
    "                 ('KNN1', KNeighborsClassifier()),\n",
    "                ('KNN2', KNeighborsClassifier())]\n",
    "\n",
    "stack_model_gdBoost = StackingClassifier(estimators = base_learners, final_estimator = KNeighborsClassifier())\n",
    "stack_model_gdBoost.fit(x_train, y_train)\n",
    "y_pred = stack_model_gdBoost.predict(x_test)\n",
    "print(accuracy_score(y_test,y_pred))\n",
    "print(confusion_matrix(y_test,y_pred))"
   ]
  },
  {
   "cell_type": "code",
   "execution_count": null,
   "id": "95f6431b",
   "metadata": {},
   "outputs": [],
   "source": [
    "#Hyper parameter Tuning\n",
    "#params = [{\"max_depth\":[7,8,9,10,11], \"max_features\":[6,7,8,9], \"n_estimators\":[100,120,140,150]}]\n",
    "#RF = RandomForestClassifier()\n",
    "#RF_grid = GridSearchCV(estimator = RF, param_grid = params, cv = 5, scoring = \"recall\")\n",
    "#RF_grid.fit(x_train,y_train)\n",
    "#RF_grid.best_params_"
   ]
  },
  {
   "cell_type": "code",
   "execution_count": null,
   "id": "267e5d2a",
   "metadata": {},
   "outputs": [],
   "source": []
  },
  {
   "cell_type": "code",
   "execution_count": 19,
   "id": "b6c7a7b2",
   "metadata": {},
   "outputs": [],
   "source": [
    "from sklearn.model_selection import train_test_split\n",
    "x_train,x_test,y_train,y_test=train_test_split(input_cols,traget_cols,test_size=0.3,random_state=30)"
   ]
  },
  {
   "cell_type": "code",
   "execution_count": 21,
   "id": "b1058acc",
   "metadata": {},
   "outputs": [
    {
     "name": "stdout",
     "output_type": "stream",
     "text": [
      "Accuracy: 0.9674465920651069\n",
      "Confusion Matrix [[1897   58]\n",
      " [   6    5]]\n",
      "              precision    recall  f1-score   support\n",
      "\n",
      "         0.0       1.00      0.97      0.98      1955\n",
      "         1.0       0.08      0.45      0.14        11\n",
      "\n",
      "    accuracy                           0.97      1966\n",
      "   macro avg       0.54      0.71      0.56      1966\n",
      "weighted avg       0.99      0.97      0.98      1966\n",
      "\n"
     ]
    }
   ],
   "source": [
    "#Base model\n",
    "from sklearn.linear_model import LogisticRegression\n",
    "from sklearn.metrics import accuracy_score\n",
    "from sklearn.metrics import confusion_matrix\n",
    "from sklearn import metrics\n",
    "logreg=LogisticRegression()\n",
    "logreg.fit(x_train,y_train)\n",
    "log_pred=logreg.predict(x_test)\n",
    "print('Accuracy:',accuracy_score(log_pred,y_test))\n",
    "print('Confusion Matrix',confusion_matrix(log_pred,y_test))\n",
    "print(metrics.classification_report(log_pred,y_test))"
   ]
  },
  {
   "cell_type": "code",
   "execution_count": 49,
   "id": "64e47dc0",
   "metadata": {},
   "outputs": [
    {
     "name": "stdout",
     "output_type": "stream",
     "text": [
      "Accuracy: 0.8901098901098901\n",
      "Confusion Matrix [[1644  169]\n",
      " [ 251 1758]]\n",
      "              precision    recall  f1-score   support\n",
      "\n",
      "         0.0       0.87      0.91      0.89      1813\n",
      "         1.0       0.91      0.88      0.89      2009\n",
      "\n",
      "    accuracy                           0.89      3822\n",
      "   macro avg       0.89      0.89      0.89      3822\n",
      "weighted avg       0.89      0.89      0.89      3822\n",
      "\n"
     ]
    },
    {
     "name": "stderr",
     "output_type": "stream",
     "text": [
      "C:\\Ashwin\\Learning\\Datascience\\lib\\site-packages\\sklearn\\linear_model\\_logistic.py:763: ConvergenceWarning: lbfgs failed to converge (status=1):\n",
      "STOP: TOTAL NO. of ITERATIONS REACHED LIMIT.\n",
      "\n",
      "Increase the number of iterations (max_iter) or scale the data as shown in:\n",
      "    https://scikit-learn.org/stable/modules/preprocessing.html\n",
      "Please also refer to the documentation for alternative solver options:\n",
      "    https://scikit-learn.org/stable/modules/linear_model.html#logistic-regression\n",
      "  n_iter_i = _check_optimize_result(\n"
     ]
    }
   ],
   "source": [
    "#Base model after Smote\n",
    "from sklearn.linear_model import LogisticRegression\n",
    "from sklearn.metrics import accuracy_score\n",
    "from sklearn.metrics import confusion_matrix\n",
    "from sklearn import metrics\n",
    "logreg=LogisticRegression()\n",
    "logreg.fit(x_train,y_train)\n",
    "log_pred=logreg.predict(x_test)\n",
    "print('Accuracy:',accuracy_score(log_pred,y_test))\n",
    "print('Confusion Matrix',confusion_matrix(log_pred,y_test))\n",
    "print(metrics.classification_report(log_pred,y_test))"
   ]
  },
  {
   "cell_type": "code",
   "execution_count": 22,
   "id": "2de5a61e",
   "metadata": {},
   "outputs": [
    {
     "name": "stdout",
     "output_type": "stream",
     "text": [
      "Accuracy: 0.9491353001017294\n",
      "Confusion Matrix [[1847   44]\n",
      " [  56   19]]\n",
      "              precision    recall  f1-score   support\n",
      "\n",
      "         0.0       0.97      0.98      0.97      1891\n",
      "         1.0       0.30      0.25      0.28        75\n",
      "\n",
      "    accuracy                           0.95      1966\n",
      "   macro avg       0.64      0.62      0.62      1966\n",
      "weighted avg       0.95      0.95      0.95      1966\n",
      "\n"
     ]
    }
   ],
   "source": [
    "#Basemodel - Decision tree\n",
    "from sklearn.tree import DecisionTreeClassifier\n",
    "dtree=DecisionTreeClassifier()\n",
    "dtree.fit(x_train,y_train)\n",
    "dtree_pred=dtree.predict(x_test)\n",
    "print('Accuracy:',accuracy_score(dtree_pred,y_test))\n",
    "print('Confusion Matrix',confusion_matrix(dtree_pred,y_test))\n",
    "print(metrics.classification_report(dtree_pred,y_test))"
   ]
  },
  {
   "cell_type": "code",
   "execution_count": 50,
   "id": "41dfbc29",
   "metadata": {},
   "outputs": [
    {
     "name": "stdout",
     "output_type": "stream",
     "text": [
      "Accuracy: 0.9542124542124543\n",
      "Confusion Matrix [[1786   66]\n",
      " [ 109 1861]]\n",
      "              precision    recall  f1-score   support\n",
      "\n",
      "         0.0       0.94      0.96      0.95      1852\n",
      "         1.0       0.97      0.94      0.96      1970\n",
      "\n",
      "    accuracy                           0.95      3822\n",
      "   macro avg       0.95      0.95      0.95      3822\n",
      "weighted avg       0.95      0.95      0.95      3822\n",
      "\n"
     ]
    }
   ],
   "source": [
    "#Basemodel - Decision tree after resamling\n",
    "from sklearn.tree import DecisionTreeClassifier\n",
    "dtree=DecisionTreeClassifier()\n",
    "dtree.fit(x_train,y_train)\n",
    "dtree_pred=dtree.predict(x_test)\n",
    "print('Accuracy:',accuracy_score(dtree_pred,y_test))\n",
    "print('Confusion Matrix',confusion_matrix(dtree_pred,y_test))\n",
    "print(metrics.classification_report(dtree_pred,y_test))"
   ]
  },
  {
   "cell_type": "code",
   "execution_count": 36,
   "id": "74f26925",
   "metadata": {},
   "outputs": [
    {
     "data": {
      "text/plain": [
       "'0.91'"
      ]
     },
     "execution_count": 36,
     "metadata": {},
     "output_type": "execute_result"
    }
   ],
   "source": [
    "#Applying PCA for 95% variance\n",
    "from sklearn.decomposition import PCA\n",
    "pca_again = PCA(0.95)\n",
    "df_train_pca2 = pca_again.fit_transform(x_train)\n",
    "df_train_pca2.shape\n",
    "learner_pca2 = LogisticRegression()\n",
    "model_pca2 = learner_pca2.fit(df_train_pca2,y_train)\n",
    "df_test_pca2 = pca_again.transform(x_test)\n",
    "df_test_pca2.shape\n",
    "pred_probs_test2 = model_pca2.predict_proba(df_test_pca2)[:,1]\n",
    "\"{:2.2f}\".format(metrics.roc_auc_score(y_test, pred_probs_test2))"
   ]
  },
  {
   "cell_type": "code",
   "execution_count": 51,
   "id": "b245fb11",
   "metadata": {},
   "outputs": [
    {
     "data": {
      "text/plain": [
       "'0.94'"
      ]
     },
     "execution_count": 51,
     "metadata": {},
     "output_type": "execute_result"
    }
   ],
   "source": [
    "#Applying PCA for 95% variance after sampling\n",
    "from sklearn.decomposition import PCA\n",
    "pca_again = PCA(0.95)\n",
    "df_train_pca2 = pca_again.fit_transform(x_train)\n",
    "df_train_pca2.shape\n",
    "learner_pca2 = LogisticRegression()\n",
    "model_pca2 = learner_pca2.fit(df_train_pca2,y_train)\n",
    "df_test_pca2 = pca_again.transform(x_test)\n",
    "df_test_pca2.shape\n",
    "pred_probs_test2 = model_pca2.predict_proba(df_test_pca2)[:,1]\n",
    "\"{:2.2f}\".format(metrics.roc_auc_score(y_test, pred_probs_test2))"
   ]
  },
  {
   "cell_type": "code",
   "execution_count": 37,
   "id": "c575db73",
   "metadata": {},
   "outputs": [
    {
     "name": "stdout",
     "output_type": "stream",
     "text": [
      "Gradient Boosted Classifier AUC=0.882\n"
     ]
    }
   ],
   "source": [
    "#Ensemble technique - Gradient boosting\n",
    "from sklearn.ensemble import RandomForestClassifier, GradientBoostingClassifier,AdaBoostClassifier\n",
    "gbc = GradientBoostingClassifier(learning_rate=0.1,max_depth=2,random_state=123,subsample=0.8,n_estimators=600)\n",
    "gbc_fit = gbc.fit(df_train_pca2,y_train)\n",
    "gbc_pred = gbc_fit.predict_proba(df_test_pca2)\n",
    "gbc_pred = gbc_pred[:,1]\n",
    "gbc_fpr, gbc_tpr, _ = metrics.roc_curve(y_test,  gbc_pred)\n",
    "gbc_auc = metrics.roc_auc_score(y_test,gbc_pred)\n",
    "print('Gradient Boosted Classifier AUC=%.3f' % (gbc_auc))"
   ]
  },
  {
   "cell_type": "code",
   "execution_count": 52,
   "id": "75745be3",
   "metadata": {},
   "outputs": [
    {
     "name": "stdout",
     "output_type": "stream",
     "text": [
      "Gradient Boosted Classifier AUC=0.981\n"
     ]
    }
   ],
   "source": [
    "#Ensemble technique - Gradient boosting after sampling\n",
    "from sklearn.ensemble import RandomForestClassifier, GradientBoostingClassifier,AdaBoostClassifier\n",
    "gbc = GradientBoostingClassifier(learning_rate=0.1,max_depth=2,random_state=123,subsample=0.8,n_estimators=600)\n",
    "gbc_fit = gbc.fit(df_train_pca2,y_train)\n",
    "gbc_pred = gbc_fit.predict_proba(df_test_pca2)\n",
    "gbc_pred = gbc_pred[:,1]\n",
    "gbc_fpr, gbc_tpr, _ = metrics.roc_curve(y_test,  gbc_pred)\n",
    "gbc_auc = metrics.roc_auc_score(y_test,gbc_pred)\n",
    "print('Gradient Boosted Classifier AUC=%.3f' % (gbc_auc))"
   ]
  }
 ],
 "metadata": {
  "kernelspec": {
   "display_name": "Python 3",
   "language": "python",
   "name": "python3"
  },
  "language_info": {
   "codemirror_mode": {
    "name": "ipython",
    "version": 3
   },
   "file_extension": ".py",
   "mimetype": "text/x-python",
   "name": "python",
   "nbconvert_exporter": "python",
   "pygments_lexer": "ipython3",
   "version": "3.8.8"
  }
 },
 "nbformat": 4,
 "nbformat_minor": 5
}
