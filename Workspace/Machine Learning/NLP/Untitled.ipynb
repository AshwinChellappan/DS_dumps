{
 "cells": [
  {
   "cell_type": "code",
   "execution_count": 3,
   "id": "0feef8ec",
   "metadata": {},
   "outputs": [
    {
     "name": "stdout",
     "output_type": "stream",
     "text": [
      "Collecting pyspark==2.4.4\n",
      "  Downloading pyspark-2.4.4.tar.gz (215.7 MB)\n",
      "Collecting py4j==0.10.7\n",
      "  Downloading py4j-0.10.7-py2.py3-none-any.whl (197 kB)\n",
      "Building wheels for collected packages: pyspark\n",
      "  Building wheel for pyspark (setup.py): started\n",
      "  Building wheel for pyspark (setup.py): finished with status 'done'\n",
      "  Created wheel for pyspark: filename=pyspark-2.4.4-py2.py3-none-any.whl size=216130389 sha256=dbc2e3a543eac6766bc01092dc67d4a0200529968e0e73118faf4d58bc3c73fb\n",
      "  Stored in directory: c:\\users\\ac16\\appdata\\local\\pip\\cache\\wheels\\2f\\68\\df\\a094fd6e3c269067f562832302ed538586a86411467ebdf69b\n",
      "Successfully built pyspark\n",
      "Installing collected packages: py4j, pyspark\n",
      "Successfully installed py4j-0.10.7 pyspark-2.4.4\n",
      "Note: you may need to restart the kernel to use updated packages.\n"
     ]
    }
   ],
   "source": [
    "pip install pyspark==2.4.4"
   ]
  },
  {
   "cell_type": "code",
   "execution_count": 5,
   "id": "a3cd8779",
   "metadata": {},
   "outputs": [
    {
     "name": "stdout",
     "output_type": "stream",
     "text": [
      "Collecting johnsnowlabs\n",
      "  Downloading johnsnowlabs-4.2.5-py3-none-any.whl (74 kB)\n",
      "Collecting spark-nlp\n",
      "  Downloading spark_nlp-4.2.6-py2.py3-none-any.whl (453 kB)\n",
      "Requirement already satisfied: colorama in c:\\ashwin\\learning\\datascience\\lib\\site-packages (from johnsnowlabs) (0.4.4)\n",
      "Collecting dataclasses\n",
      "  Downloading dataclasses-0.6-py3-none-any.whl (14 kB)\n",
      "Collecting databricks-api\n",
      "  Downloading databricks_api-0.8.0-py3-none-any.whl (7.2 kB)\n",
      "Requirement already satisfied: numpy in c:\\ashwin\\learning\\datascience\\lib\\site-packages (from johnsnowlabs) (1.20.1)\n",
      "Collecting spark-nlp-display==4.1\n",
      "  Downloading spark_nlp_display-4.1-py3-none-any.whl (95 kB)\n",
      "Collecting nlu==4.0.1rc4\n",
      "  Downloading nlu-4.0.1rc4-py3-none-any.whl (570 kB)\n",
      "Collecting pydantic\n",
      "  Downloading pydantic-1.10.4-cp38-cp38-win_amd64.whl (2.2 MB)\n",
      "Collecting spark-nlp\n",
      "  Downloading spark_nlp-4.2.4-py2.py3-none-any.whl (448 kB)\n",
      "Requirement already satisfied: requests in c:\\ashwin\\learning\\datascience\\lib\\site-packages (from johnsnowlabs) (2.25.1)\n",
      "Collecting pyspark==3.1.2\n",
      "  Downloading pyspark-3.1.2.tar.gz (212.4 MB)\n",
      "Collecting pandas>=1.3.5\n",
      "  Downloading pandas-1.5.2-cp38-cp38-win_amd64.whl (11.0 MB)\n",
      "Collecting pyarrow>=0.16.0\n",
      "  Downloading pyarrow-10.0.1-cp38-cp38-win_amd64.whl (20.3 MB)\n",
      "Collecting py4j==0.10.9\n",
      "  Downloading py4j-0.10.9-py2.py3-none-any.whl (198 kB)\n",
      "Collecting svgwrite==1.4\n",
      "  Downloading svgwrite-1.4-py3-none-any.whl (66 kB)\n",
      "Requirement already satisfied: ipython in c:\\ashwin\\learning\\datascience\\lib\\site-packages (from spark-nlp-display==4.1->johnsnowlabs) (7.22.0)\n",
      "Requirement already satisfied: python-dateutil>=2.8.1 in c:\\ashwin\\learning\\datascience\\lib\\site-packages (from pandas>=1.3.5->nlu==4.0.1rc4->johnsnowlabs) (2.8.1)\n",
      "Collecting numpy\n",
      "  Downloading numpy-1.24.1-cp38-cp38-win_amd64.whl (14.9 MB)\n",
      "Requirement already satisfied: pytz>=2020.1 in c:\\ashwin\\learning\\datascience\\lib\\site-packages (from pandas>=1.3.5->nlu==4.0.1rc4->johnsnowlabs) (2021.1)\n",
      "Requirement already satisfied: six>=1.5 in c:\\ashwin\\learning\\datascience\\lib\\site-packages (from python-dateutil>=2.8.1->pandas>=1.3.5->nlu==4.0.1rc4->johnsnowlabs) (1.15.0)\n",
      "Collecting databricks-cli\n",
      "  Downloading databricks-cli-0.17.4.tar.gz (82 kB)\n",
      "Requirement already satisfied: click>=7.0 in c:\\ashwin\\learning\\datascience\\lib\\site-packages (from databricks-cli->databricks-api->johnsnowlabs) (7.1.2)\n",
      "Collecting pyjwt>=1.7.0\n",
      "  Downloading PyJWT-2.6.0-py3-none-any.whl (20 kB)\n",
      "Requirement already satisfied: oauthlib>=3.1.0 in c:\\ashwin\\learning\\datascience\\lib\\site-packages (from databricks-cli->databricks-api->johnsnowlabs) (3.2.0)\n",
      "Collecting tabulate>=0.7.7\n",
      "  Downloading tabulate-0.9.0-py3-none-any.whl (35 kB)\n",
      "Requirement already satisfied: certifi>=2017.4.17 in c:\\ashwin\\learning\\datascience\\lib\\site-packages (from requests->johnsnowlabs) (2020.12.5)\n",
      "Requirement already satisfied: chardet<5,>=3.0.2 in c:\\ashwin\\learning\\datascience\\lib\\site-packages (from requests->johnsnowlabs) (4.0.0)\n",
      "Requirement already satisfied: urllib3<1.27,>=1.21.1 in c:\\ashwin\\learning\\datascience\\lib\\site-packages (from requests->johnsnowlabs) (1.26.4)\n",
      "Requirement already satisfied: idna<3,>=2.5 in c:\\ashwin\\learning\\datascience\\lib\\site-packages (from requests->johnsnowlabs) (2.10)\n",
      "Requirement already satisfied: pickleshare in c:\\ashwin\\learning\\datascience\\lib\\site-packages (from ipython->spark-nlp-display==4.1->johnsnowlabs) (0.7.5)\n",
      "Requirement already satisfied: setuptools>=18.5 in c:\\ashwin\\learning\\datascience\\lib\\site-packages (from ipython->spark-nlp-display==4.1->johnsnowlabs) (52.0.0.post20210125)\n",
      "Requirement already satisfied: backcall in c:\\ashwin\\learning\\datascience\\lib\\site-packages (from ipython->spark-nlp-display==4.1->johnsnowlabs) (0.2.0)\n",
      "Requirement already satisfied: decorator in c:\\ashwin\\learning\\datascience\\lib\\site-packages (from ipython->spark-nlp-display==4.1->johnsnowlabs) (5.0.6)\n",
      "Requirement already satisfied: prompt-toolkit!=3.0.0,!=3.0.1,<3.1.0,>=2.0.0 in c:\\ashwin\\learning\\datascience\\lib\\site-packages (from ipython->spark-nlp-display==4.1->johnsnowlabs) (3.0.17)\n",
      "Requirement already satisfied: pygments in c:\\ashwin\\learning\\datascience\\lib\\site-packages (from ipython->spark-nlp-display==4.1->johnsnowlabs) (2.8.1)\n",
      "Requirement already satisfied: jedi>=0.16 in c:\\ashwin\\learning\\datascience\\lib\\site-packages (from ipython->spark-nlp-display==4.1->johnsnowlabs) (0.17.2)\n",
      "Requirement already satisfied: traitlets>=4.2 in c:\\ashwin\\learning\\datascience\\lib\\site-packages (from ipython->spark-nlp-display==4.1->johnsnowlabs) (5.0.5)\n",
      "Requirement already satisfied: parso<0.8.0,>=0.7.0 in c:\\ashwin\\learning\\datascience\\lib\\site-packages (from jedi>=0.16->ipython->spark-nlp-display==4.1->johnsnowlabs) (0.7.0)\n",
      "Requirement already satisfied: wcwidth in c:\\ashwin\\learning\\datascience\\lib\\site-packages (from prompt-toolkit!=3.0.0,!=3.0.1,<3.1.0,>=2.0.0->ipython->spark-nlp-display==4.1->johnsnowlabs) (0.2.5)\n",
      "Requirement already satisfied: ipython-genutils in c:\\ashwin\\learning\\datascience\\lib\\site-packages (from traitlets>=4.2->ipython->spark-nlp-display==4.1->johnsnowlabs) (0.2.0)\n",
      "Collecting typing-extensions>=4.2.0\n",
      "  Downloading typing_extensions-4.4.0-py3-none-any.whl (26 kB)\n",
      "Building wheels for collected packages: pyspark, databricks-cli\n",
      "  Building wheel for pyspark (setup.py): started\n",
      "  Building wheel for pyspark (setup.py): finished with status 'done'\n",
      "  Created wheel for pyspark: filename=pyspark-3.1.2-py2.py3-none-any.whl size=212880768 sha256=39713969a25c9793059bd93e6389d64faf2b9102c4e66d59bcdb7f4277b2e99b\n",
      "  Stored in directory: c:\\users\\ac16\\appdata\\local\\pip\\cache\\wheels\\df\\88\\9e\\58ef1f74892fef590330ca0830b5b6d995ba29b44f977b3926\n",
      "  Building wheel for databricks-cli (setup.py): started\n",
      "  Building wheel for databricks-cli (setup.py): finished with status 'done'\n",
      "  Created wheel for databricks-cli: filename=databricks_cli-0.17.4-py3-none-any.whl size=142891 sha256=f04282c68532820c67a89ccf873dff4bb95b621dcfaadd12cdc8edbe94ae853d\n",
      "  Stored in directory: c:\\users\\ac16\\appdata\\local\\pip\\cache\\wheels\\48\\7c\\6e\\4bf2c1748c7ecf994ca951591de81674ed6bf633e1e337d873\n",
      "Successfully built pyspark databricks-cli\n",
      "Installing collected packages: tabulate, pyjwt, numpy, typing-extensions, svgwrite, spark-nlp, pyarrow, py4j, pandas, dataclasses, databricks-cli, spark-nlp-display, pyspark, pydantic, nlu, databricks-api, johnsnowlabs\n",
      "  Attempting uninstall: numpy\n",
      "    Found existing installation: numpy 1.20.1\n",
      "    Uninstalling numpy-1.20.1:\n",
      "      Successfully uninstalled numpy-1.20.1\n",
      "  Attempting uninstall: typing-extensions\n",
      "    Found existing installation: typing-extensions 3.7.4.3\n",
      "    Uninstalling typing-extensions-3.7.4.3:\n",
      "      Successfully uninstalled typing-extensions-3.7.4.3\n",
      "  Attempting uninstall: py4j\n",
      "    Found existing installation: py4j 0.10.7\n",
      "    Uninstalling py4j-0.10.7:\n",
      "      Successfully uninstalled py4j-0.10.7\n",
      "  Attempting uninstall: pandas\n",
      "    Found existing installation: pandas 1.2.4\n",
      "    Uninstalling pandas-1.2.4:\n",
      "      Successfully uninstalled pandas-1.2.4\n",
      "  Attempting uninstall: pyspark\n",
      "    Found existing installation: pyspark 2.4.4\n",
      "    Uninstalling pyspark-2.4.4:\n",
      "      Successfully uninstalled pyspark-2.4.4\n",
      "Successfully installed databricks-api-0.8.0 databricks-cli-0.17.4 dataclasses-0.6 johnsnowlabs-4.2.5 nlu-4.0.1rc4 numpy-1.24.1 pandas-1.5.2 py4j-0.10.9 pyarrow-10.0.1 pydantic-1.10.4 pyjwt-2.6.0 pyspark-3.1.2 spark-nlp-4.2.4 spark-nlp-display-4.1 svgwrite-1.4 tabulate-0.9.0 typing-extensions-4.4.0\n",
      "Note: you may need to restart the kernel to use updated packages.\n"
     ]
    },
    {
     "name": "stderr",
     "output_type": "stream",
     "text": [
      "ERROR: pip's dependency resolver does not currently take into account all the packages that are installed. This behaviour is the source of the following dependency conflicts.\n",
      "scipy 1.6.2 requires numpy<1.23.0,>=1.16.5, but you have numpy 1.24.1 which is incompatible.\n"
     ]
    }
   ],
   "source": [
    "pip install johnsnowlabs spark-nlp"
   ]
  },
  {
   "cell_type": "code",
   "execution_count": 6,
   "id": "ebdcb44b",
   "metadata": {},
   "outputs": [
    {
     "name": "stdout",
     "output_type": "stream",
     "text": [
      "Note: you may need to restart the kernel to use updated packages.\n"
     ]
    },
    {
     "name": "stderr",
     "output_type": "stream",
     "text": [
      "ERROR: Invalid requirement: '—'\n"
     ]
    }
   ],
   "source": [
    "pip install  johnsnowlabs spark-nlp — channel conda-forge"
   ]
  }
 ],
 "metadata": {
  "kernelspec": {
   "display_name": "Python 3",
   "language": "python",
   "name": "python3"
  },
  "language_info": {
   "codemirror_mode": {
    "name": "ipython",
    "version": 3
   },
   "file_extension": ".py",
   "mimetype": "text/x-python",
   "name": "python",
   "nbconvert_exporter": "python",
   "pygments_lexer": "ipython3",
   "version": "3.8.8"
  }
 },
 "nbformat": 4,
 "nbformat_minor": 5
}
