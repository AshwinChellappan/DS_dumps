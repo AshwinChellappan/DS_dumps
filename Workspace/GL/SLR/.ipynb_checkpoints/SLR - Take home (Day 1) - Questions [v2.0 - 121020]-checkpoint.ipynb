{
 "cells": [
  {
   "cell_type": "markdown",
   "metadata": {},
   "source": [
    "<table align=\"center\" width=100%>\n",
    "    <tr>\n",
    "        <td width=\"15%\">\n",
    "            <img src=\"homework.png\">\n",
    "        </td>\n",
    "        <td>\n",
    "            <div align=\"center\">\n",
    "                <font color=\"#21618C\" size=8px>\n",
    "                    <b> Take-Home <br>(Day 1)\n",
    "                    </b>\n",
    "                </font>\n",
    "            </div>\n",
    "        </td>\n",
    "    </tr>\n",
    "</table>"
   ]
  },
  {
   "cell_type": "markdown",
   "metadata": {},
   "source": [
    "### Import the required libraries"
   ]
  },
  {
   "cell_type": "code",
   "execution_count": 87,
   "metadata": {},
   "outputs": [],
   "source": [
    "# type your code here\n",
    "import numpy as np\n",
    "import pandas as pd\n",
    "import seaborn as sns\n",
    "import matplotlib.pyplot as plt\n",
    "import statsmodels\n",
    "import statsmodels.api as sm\n",
    "from sklearn.metrics import mean_absolute_error\n",
    "from sklearn.metrics import mean_squared_error\n",
    "from sklearn.model_selection import train_test_split"
   ]
  },
  {
   "cell_type": "markdown",
   "metadata": {},
   "source": [
    "#### Read the data\n",
    "\n",
    "Load the csv file and set the first column as index"
   ]
  },
  {
   "cell_type": "code",
   "execution_count": 101,
   "metadata": {},
   "outputs": [
    {
     "data": {
      "text/html": [
       "<div>\n",
       "<style scoped>\n",
       "    .dataframe tbody tr th:only-of-type {\n",
       "        vertical-align: middle;\n",
       "    }\n",
       "\n",
       "    .dataframe tbody tr th {\n",
       "        vertical-align: top;\n",
       "    }\n",
       "\n",
       "    .dataframe thead th {\n",
       "        text-align: right;\n",
       "    }\n",
       "</style>\n",
       "<table border=\"1\" class=\"dataframe\">\n",
       "  <thead>\n",
       "    <tr style=\"text-align: right;\">\n",
       "      <th></th>\n",
       "      <th>Car_Name</th>\n",
       "      <th>Year</th>\n",
       "      <th>Selling_Price</th>\n",
       "      <th>Present_Price</th>\n",
       "      <th>Kms_Driven</th>\n",
       "      <th>Fuel_Type</th>\n",
       "      <th>Seller_Type</th>\n",
       "      <th>Transmission</th>\n",
       "      <th>Owner</th>\n",
       "    </tr>\n",
       "  </thead>\n",
       "  <tbody>\n",
       "    <tr>\n",
       "      <th>0</th>\n",
       "      <td>ritz</td>\n",
       "      <td>2014</td>\n",
       "      <td>3.35</td>\n",
       "      <td>5.59</td>\n",
       "      <td>27000</td>\n",
       "      <td>Petrol</td>\n",
       "      <td>Dealer</td>\n",
       "      <td>Manual</td>\n",
       "      <td>0</td>\n",
       "    </tr>\n",
       "    <tr>\n",
       "      <th>1</th>\n",
       "      <td>sx4</td>\n",
       "      <td>2013</td>\n",
       "      <td>4.75</td>\n",
       "      <td>9.54</td>\n",
       "      <td>43000</td>\n",
       "      <td>Diesel</td>\n",
       "      <td>Dealer</td>\n",
       "      <td>Manual</td>\n",
       "      <td>0</td>\n",
       "    </tr>\n",
       "    <tr>\n",
       "      <th>2</th>\n",
       "      <td>ciaz</td>\n",
       "      <td>2017</td>\n",
       "      <td>7.25</td>\n",
       "      <td>9.85</td>\n",
       "      <td>6900</td>\n",
       "      <td>Petrol</td>\n",
       "      <td>Dealer</td>\n",
       "      <td>Manual</td>\n",
       "      <td>0</td>\n",
       "    </tr>\n",
       "    <tr>\n",
       "      <th>3</th>\n",
       "      <td>wagon r</td>\n",
       "      <td>2011</td>\n",
       "      <td>2.85</td>\n",
       "      <td>4.15</td>\n",
       "      <td>5200</td>\n",
       "      <td>Petrol</td>\n",
       "      <td>Dealer</td>\n",
       "      <td>Manual</td>\n",
       "      <td>0</td>\n",
       "    </tr>\n",
       "    <tr>\n",
       "      <th>4</th>\n",
       "      <td>swift</td>\n",
       "      <td>2014</td>\n",
       "      <td>4.60</td>\n",
       "      <td>6.87</td>\n",
       "      <td>42450</td>\n",
       "      <td>Diesel</td>\n",
       "      <td>Dealer</td>\n",
       "      <td>Manual</td>\n",
       "      <td>0</td>\n",
       "    </tr>\n",
       "  </tbody>\n",
       "</table>\n",
       "</div>"
      ],
      "text/plain": [
       "  Car_Name  Year  Selling_Price  Present_Price  Kms_Driven Fuel_Type  \\\n",
       "0     ritz  2014           3.35           5.59       27000    Petrol   \n",
       "1      sx4  2013           4.75           9.54       43000    Diesel   \n",
       "2     ciaz  2017           7.25           9.85        6900    Petrol   \n",
       "3  wagon r  2011           2.85           4.15        5200    Petrol   \n",
       "4    swift  2014           4.60           6.87       42450    Diesel   \n",
       "\n",
       "  Seller_Type Transmission  Owner  \n",
       "0      Dealer       Manual      0  \n",
       "1      Dealer       Manual      0  \n",
       "2      Dealer       Manual      0  \n",
       "3      Dealer       Manual      0  \n",
       "4      Dealer       Manual      0  "
      ]
     },
     "execution_count": 101,
     "metadata": {},
     "output_type": "execute_result"
    }
   ],
   "source": [
    "# type your code here\n",
    "df=pd.read_csv('car_price.csv')\n",
    "df.head()"
   ]
  },
  {
   "cell_type": "code",
   "execution_count": 51,
   "metadata": {},
   "outputs": [
    {
     "data": {
      "text/plain": [
       "(301, 9)"
      ]
     },
     "execution_count": 51,
     "metadata": {},
     "output_type": "execute_result"
    }
   ],
   "source": [
    "df.shape"
   ]
  },
  {
   "cell_type": "code",
   "execution_count": 3,
   "metadata": {},
   "outputs": [
    {
     "data": {
      "text/plain": [
       "Car_Name          object\n",
       "Year               int64\n",
       "Selling_Price    float64\n",
       "Present_Price    float64\n",
       "Kms_Driven         int64\n",
       "Fuel_Type         object\n",
       "Seller_Type       object\n",
       "Transmission      object\n",
       "Owner              int64\n",
       "dtype: object"
      ]
     },
     "execution_count": 3,
     "metadata": {},
     "output_type": "execute_result"
    }
   ],
   "source": [
    "df.dtypes"
   ]
  },
  {
   "cell_type": "code",
   "execution_count": 13,
   "metadata": {},
   "outputs": [
    {
     "data": {
      "text/plain": [
       "Manual       261\n",
       "Automatic     40\n",
       "Name: Transmission, dtype: int64"
      ]
     },
     "execution_count": 13,
     "metadata": {},
     "output_type": "execute_result"
    }
   ],
   "source": [
    "df.Transmission.value_counts()"
   ]
  },
  {
   "cell_type": "code",
   "execution_count": 62,
   "metadata": {},
   "outputs": [
    {
     "data": {
      "text/plain": [
       "(301, 4)"
      ]
     },
     "execution_count": 62,
     "metadata": {},
     "output_type": "execute_result"
    }
   ],
   "source": [
    "df_cat=df.select_dtypes(include=object)\n",
    "df_cat.shape"
   ]
  },
  {
   "cell_type": "code",
   "execution_count": 63,
   "metadata": {},
   "outputs": [
    {
     "data": {
      "text/html": [
       "<div>\n",
       "<style scoped>\n",
       "    .dataframe tbody tr th:only-of-type {\n",
       "        vertical-align: middle;\n",
       "    }\n",
       "\n",
       "    .dataframe tbody tr th {\n",
       "        vertical-align: top;\n",
       "    }\n",
       "\n",
       "    .dataframe thead th {\n",
       "        text-align: right;\n",
       "    }\n",
       "</style>\n",
       "<table border=\"1\" class=\"dataframe\">\n",
       "  <thead>\n",
       "    <tr style=\"text-align: right;\">\n",
       "      <th></th>\n",
       "      <th>Year</th>\n",
       "      <th>Selling_Price</th>\n",
       "      <th>Present_Price</th>\n",
       "      <th>Kms_Driven</th>\n",
       "    </tr>\n",
       "  </thead>\n",
       "  <tbody>\n",
       "    <tr>\n",
       "      <th>0</th>\n",
       "      <td>2014</td>\n",
       "      <td>3.35</td>\n",
       "      <td>5.59</td>\n",
       "      <td>27000</td>\n",
       "    </tr>\n",
       "    <tr>\n",
       "      <th>1</th>\n",
       "      <td>2013</td>\n",
       "      <td>4.75</td>\n",
       "      <td>9.54</td>\n",
       "      <td>43000</td>\n",
       "    </tr>\n",
       "    <tr>\n",
       "      <th>2</th>\n",
       "      <td>2017</td>\n",
       "      <td>7.25</td>\n",
       "      <td>9.85</td>\n",
       "      <td>6900</td>\n",
       "    </tr>\n",
       "    <tr>\n",
       "      <th>3</th>\n",
       "      <td>2011</td>\n",
       "      <td>2.85</td>\n",
       "      <td>4.15</td>\n",
       "      <td>5200</td>\n",
       "    </tr>\n",
       "    <tr>\n",
       "      <th>4</th>\n",
       "      <td>2014</td>\n",
       "      <td>4.60</td>\n",
       "      <td>6.87</td>\n",
       "      <td>42450</td>\n",
       "    </tr>\n",
       "  </tbody>\n",
       "</table>\n",
       "</div>"
      ],
      "text/plain": [
       "   Year  Selling_Price  Present_Price  Kms_Driven\n",
       "0  2014           3.35           5.59       27000\n",
       "1  2013           4.75           9.54       43000\n",
       "2  2017           7.25           9.85        6900\n",
       "3  2011           2.85           4.15        5200\n",
       "4  2014           4.60           6.87       42450"
      ]
     },
     "execution_count": 63,
     "metadata": {},
     "output_type": "execute_result"
    }
   ],
   "source": [
    "df_num=df.iloc[:,1:5]\n",
    "df_num.head()"
   ]
  },
  {
   "cell_type": "code",
   "execution_count": null,
   "metadata": {},
   "outputs": [],
   "source": []
  },
  {
   "cell_type": "code",
   "execution_count": 64,
   "metadata": {},
   "outputs": [],
   "source": [
    "X=pd.get_dummies(df_cat,drop_first=True)"
   ]
  },
  {
   "cell_type": "code",
   "execution_count": 65,
   "metadata": {},
   "outputs": [
    {
     "data": {
      "text/plain": [
       "(301, 101)"
      ]
     },
     "execution_count": 65,
     "metadata": {},
     "output_type": "execute_result"
    }
   ],
   "source": [
    "X.shape"
   ]
  },
  {
   "cell_type": "code",
   "execution_count": 66,
   "metadata": {},
   "outputs": [],
   "source": [
    "X=pd.concat([X,df_num],axis=1)"
   ]
  },
  {
   "cell_type": "code",
   "execution_count": 68,
   "metadata": {},
   "outputs": [
    {
     "data": {
      "text/html": [
       "<div>\n",
       "<style scoped>\n",
       "    .dataframe tbody tr th:only-of-type {\n",
       "        vertical-align: middle;\n",
       "    }\n",
       "\n",
       "    .dataframe tbody tr th {\n",
       "        vertical-align: top;\n",
       "    }\n",
       "\n",
       "    .dataframe thead th {\n",
       "        text-align: right;\n",
       "    }\n",
       "</style>\n",
       "<table border=\"1\" class=\"dataframe\">\n",
       "  <thead>\n",
       "    <tr style=\"text-align: right;\">\n",
       "      <th></th>\n",
       "      <th>Car_Name_Activa 3g</th>\n",
       "      <th>Car_Name_Activa 4g</th>\n",
       "      <th>Car_Name_Bajaj  ct 100</th>\n",
       "      <th>Car_Name_Bajaj Avenger 150</th>\n",
       "      <th>Car_Name_Bajaj Avenger 150 street</th>\n",
       "      <th>Car_Name_Bajaj Avenger 220</th>\n",
       "      <th>Car_Name_Bajaj Avenger 220 dtsi</th>\n",
       "      <th>Car_Name_Bajaj Avenger Street 220</th>\n",
       "      <th>Car_Name_Bajaj Discover 100</th>\n",
       "      <th>Car_Name_Bajaj Discover 125</th>\n",
       "      <th>...</th>\n",
       "      <th>Car_Name_wagon r</th>\n",
       "      <th>Car_Name_xcent</th>\n",
       "      <th>Fuel_Type_Diesel</th>\n",
       "      <th>Fuel_Type_Petrol</th>\n",
       "      <th>Seller_Type_Individual</th>\n",
       "      <th>Transmission_Manual</th>\n",
       "      <th>Year</th>\n",
       "      <th>Selling_Price</th>\n",
       "      <th>Present_Price</th>\n",
       "      <th>Kms_Driven</th>\n",
       "    </tr>\n",
       "  </thead>\n",
       "  <tbody>\n",
       "    <tr>\n",
       "      <th>0</th>\n",
       "      <td>0</td>\n",
       "      <td>0</td>\n",
       "      <td>0</td>\n",
       "      <td>0</td>\n",
       "      <td>0</td>\n",
       "      <td>0</td>\n",
       "      <td>0</td>\n",
       "      <td>0</td>\n",
       "      <td>0</td>\n",
       "      <td>0</td>\n",
       "      <td>...</td>\n",
       "      <td>0</td>\n",
       "      <td>0</td>\n",
       "      <td>0</td>\n",
       "      <td>1</td>\n",
       "      <td>0</td>\n",
       "      <td>1</td>\n",
       "      <td>2014</td>\n",
       "      <td>3.35</td>\n",
       "      <td>5.59</td>\n",
       "      <td>27000</td>\n",
       "    </tr>\n",
       "    <tr>\n",
       "      <th>1</th>\n",
       "      <td>0</td>\n",
       "      <td>0</td>\n",
       "      <td>0</td>\n",
       "      <td>0</td>\n",
       "      <td>0</td>\n",
       "      <td>0</td>\n",
       "      <td>0</td>\n",
       "      <td>0</td>\n",
       "      <td>0</td>\n",
       "      <td>0</td>\n",
       "      <td>...</td>\n",
       "      <td>0</td>\n",
       "      <td>0</td>\n",
       "      <td>1</td>\n",
       "      <td>0</td>\n",
       "      <td>0</td>\n",
       "      <td>1</td>\n",
       "      <td>2013</td>\n",
       "      <td>4.75</td>\n",
       "      <td>9.54</td>\n",
       "      <td>43000</td>\n",
       "    </tr>\n",
       "    <tr>\n",
       "      <th>2</th>\n",
       "      <td>0</td>\n",
       "      <td>0</td>\n",
       "      <td>0</td>\n",
       "      <td>0</td>\n",
       "      <td>0</td>\n",
       "      <td>0</td>\n",
       "      <td>0</td>\n",
       "      <td>0</td>\n",
       "      <td>0</td>\n",
       "      <td>0</td>\n",
       "      <td>...</td>\n",
       "      <td>0</td>\n",
       "      <td>0</td>\n",
       "      <td>0</td>\n",
       "      <td>1</td>\n",
       "      <td>0</td>\n",
       "      <td>1</td>\n",
       "      <td>2017</td>\n",
       "      <td>7.25</td>\n",
       "      <td>9.85</td>\n",
       "      <td>6900</td>\n",
       "    </tr>\n",
       "    <tr>\n",
       "      <th>3</th>\n",
       "      <td>0</td>\n",
       "      <td>0</td>\n",
       "      <td>0</td>\n",
       "      <td>0</td>\n",
       "      <td>0</td>\n",
       "      <td>0</td>\n",
       "      <td>0</td>\n",
       "      <td>0</td>\n",
       "      <td>0</td>\n",
       "      <td>0</td>\n",
       "      <td>...</td>\n",
       "      <td>1</td>\n",
       "      <td>0</td>\n",
       "      <td>0</td>\n",
       "      <td>1</td>\n",
       "      <td>0</td>\n",
       "      <td>1</td>\n",
       "      <td>2011</td>\n",
       "      <td>2.85</td>\n",
       "      <td>4.15</td>\n",
       "      <td>5200</td>\n",
       "    </tr>\n",
       "    <tr>\n",
       "      <th>4</th>\n",
       "      <td>0</td>\n",
       "      <td>0</td>\n",
       "      <td>0</td>\n",
       "      <td>0</td>\n",
       "      <td>0</td>\n",
       "      <td>0</td>\n",
       "      <td>0</td>\n",
       "      <td>0</td>\n",
       "      <td>0</td>\n",
       "      <td>0</td>\n",
       "      <td>...</td>\n",
       "      <td>0</td>\n",
       "      <td>0</td>\n",
       "      <td>1</td>\n",
       "      <td>0</td>\n",
       "      <td>0</td>\n",
       "      <td>1</td>\n",
       "      <td>2014</td>\n",
       "      <td>4.60</td>\n",
       "      <td>6.87</td>\n",
       "      <td>42450</td>\n",
       "    </tr>\n",
       "  </tbody>\n",
       "</table>\n",
       "<p>5 rows × 105 columns</p>\n",
       "</div>"
      ],
      "text/plain": [
       "   Car_Name_Activa 3g  Car_Name_Activa 4g  Car_Name_Bajaj  ct 100  \\\n",
       "0                   0                   0                       0   \n",
       "1                   0                   0                       0   \n",
       "2                   0                   0                       0   \n",
       "3                   0                   0                       0   \n",
       "4                   0                   0                       0   \n",
       "\n",
       "   Car_Name_Bajaj Avenger 150  Car_Name_Bajaj Avenger 150 street  \\\n",
       "0                           0                                  0   \n",
       "1                           0                                  0   \n",
       "2                           0                                  0   \n",
       "3                           0                                  0   \n",
       "4                           0                                  0   \n",
       "\n",
       "   Car_Name_Bajaj Avenger 220  Car_Name_Bajaj Avenger 220 dtsi  \\\n",
       "0                           0                                0   \n",
       "1                           0                                0   \n",
       "2                           0                                0   \n",
       "3                           0                                0   \n",
       "4                           0                                0   \n",
       "\n",
       "   Car_Name_Bajaj Avenger Street 220  Car_Name_Bajaj Discover 100  \\\n",
       "0                                  0                            0   \n",
       "1                                  0                            0   \n",
       "2                                  0                            0   \n",
       "3                                  0                            0   \n",
       "4                                  0                            0   \n",
       "\n",
       "   Car_Name_Bajaj Discover 125  ...  Car_Name_wagon r  Car_Name_xcent  \\\n",
       "0                            0  ...                 0               0   \n",
       "1                            0  ...                 0               0   \n",
       "2                            0  ...                 0               0   \n",
       "3                            0  ...                 1               0   \n",
       "4                            0  ...                 0               0   \n",
       "\n",
       "   Fuel_Type_Diesel  Fuel_Type_Petrol  Seller_Type_Individual  \\\n",
       "0                 0                 1                       0   \n",
       "1                 1                 0                       0   \n",
       "2                 0                 1                       0   \n",
       "3                 0                 1                       0   \n",
       "4                 1                 0                       0   \n",
       "\n",
       "   Transmission_Manual  Year  Selling_Price  Present_Price  Kms_Driven  \n",
       "0                    1  2014           3.35           5.59       27000  \n",
       "1                    1  2013           4.75           9.54       43000  \n",
       "2                    1  2017           7.25           9.85        6900  \n",
       "3                    1  2011           2.85           4.15        5200  \n",
       "4                    1  2014           4.60           6.87       42450  \n",
       "\n",
       "[5 rows x 105 columns]"
      ]
     },
     "execution_count": 68,
     "metadata": {},
     "output_type": "execute_result"
    }
   ],
   "source": [
    "X.head()"
   ]
  },
  {
   "cell_type": "code",
   "execution_count": 72,
   "metadata": {},
   "outputs": [],
   "source": [
    "X_indep=X.drop('Selling_Price',axis=1)"
   ]
  },
  {
   "cell_type": "code",
   "execution_count": 80,
   "metadata": {},
   "outputs": [],
   "source": [
    "y=X['Selling_Price']"
   ]
  },
  {
   "cell_type": "code",
   "execution_count": 81,
   "metadata": {},
   "outputs": [
    {
     "data": {
      "text/plain": [
       "0    3.35\n",
       "1    4.75\n",
       "2    7.25\n",
       "3    2.85\n",
       "4    4.60\n",
       "Name: Selling_Price, dtype: float64"
      ]
     },
     "execution_count": 81,
     "metadata": {},
     "output_type": "execute_result"
    }
   ],
   "source": [
    "y.head()"
   ]
  },
  {
   "cell_type": "markdown",
   "metadata": {},
   "source": [
    "Our objective is to predict the selling price of the cars data."
   ]
  },
  {
   "cell_type": "markdown",
   "metadata": {},
   "source": [
    "**The data definition is as follows:** <br><br>\n",
    "**Car_Name:** name of the car <br>\n",
    "\n",
    "**YearThis:** year in which the car was bought <br>\n",
    "\n",
    "**Present_Price:** current ex-showroom price of the car (in lakhs)<br>\n",
    "\n",
    "**Kms_Driven:** distance completed by the car in km <br>\n",
    "\n",
    "**Fuel_Type:** fuel type of the car <br>\n",
    "\n",
    "**Seller_Type:** defines whether the seller is a dealer or an individual<br>\n",
    "\n",
    "**Transmission:** defines whether the car is manual or automatic <br>\n",
    "\n",
    "**Owner:** defines the number of owners the car has previously had <br>\n",
    "\n",
    "**Selling_Price:** price the owner wants to sell the car at (in lakhs) (response variable)"
   ]
  },
  {
   "cell_type": "markdown",
   "metadata": {},
   "source": [
    "### Let's begin with some hands-on practice exercises"
   ]
  },
  {
   "cell_type": "markdown",
   "metadata": {},
   "source": [
    "<table align=\"left\">\n",
    "    <tr>\n",
    "        <td width=\"6%\">\n",
    "            <img src=\"question_icon.png\">\n",
    "        </td>\n",
    "        <td>\n",
    "            <div align=\"left\", style=\"font-size:120%\">\n",
    "                <font color=\"#21618C\">\n",
    "                    <b>1. Build a full model and interpret the beta coefficients </b>\n",
    "                </font>\n",
    "            </div>\n",
    "        </td>\n",
    "    </tr>\n",
    "</table>"
   ]
  },
  {
   "cell_type": "markdown",
   "metadata": {},
   "source": [
    "        Hint: A full model is a model which includes all the features "
   ]
  },
  {
   "cell_type": "code",
   "execution_count": 82,
   "metadata": {},
   "outputs": [
    {
     "name": "stdout",
     "output_type": "stream",
     "text": [
      "                                 OLS Regression Results                                \n",
      "=======================================================================================\n",
      "Dep. Variable:          Selling_Price   R-squared (uncentered):                   0.953\n",
      "Model:                            OLS   Adj. R-squared (uncentered):              0.928\n",
      "Method:                 Least Squares   F-statistic:                              38.07\n",
      "Date:                Mon, 24 May 2021   Prob (F-statistic):                    1.01e-91\n",
      "Time:                        07:23:18   Log-Likelihood:                         -549.16\n",
      "No. Observations:                 301   AIC:                                      1306.\n",
      "Df Residuals:                     197   BIC:                                      1692.\n",
      "Df Model:                         104                                                  \n",
      "Covariance Type:            nonrobust                                                  \n",
      "======================================================================================================\n",
      "                                         coef    std err          t      P>|t|      [0.025      0.975]\n",
      "------------------------------------------------------------------------------------------------------\n",
      "Car_Name_Activa 3g                     3.9658      2.403      1.651      0.100      -0.773       8.704\n",
      "Car_Name_Activa 4g                    -2.1141      2.754     -0.768      0.444      -7.544       3.316\n",
      "Car_Name_Bajaj  ct 100                -1.0905      2.660     -0.410      0.682      -6.336       4.155\n",
      "Car_Name_Bajaj Avenger 150            -1.6054      2.675     -0.600      0.549      -6.880       3.669\n",
      "Car_Name_Bajaj Avenger 150 street     -1.4328      2.666     -0.537      0.592      -6.691       3.825\n",
      "Car_Name_Bajaj Avenger 220            -1.8177      2.209     -0.823      0.412      -6.174       2.538\n",
      "Car_Name_Bajaj Avenger 220 dtsi       -1.5790      2.317     -0.682      0.496      -6.148       2.990\n",
      "Car_Name_Bajaj Avenger Street 220     -1.5970      2.660     -0.600      0.549      -6.842       3.648\n",
      "Car_Name_Bajaj Discover 100           -1.4662      2.665     -0.550      0.583      -6.723       3.790\n",
      "Car_Name_Bajaj Discover 125           -1.4164      2.313     -0.612      0.541      -5.978       3.145\n",
      "Car_Name_Bajaj Dominar 400            -1.6984      2.676     -0.635      0.526      -6.975       3.578\n",
      "Car_Name_Bajaj Pulsar  NS 200         -1.4593      2.661     -0.548      0.584      -6.707       3.789\n",
      "Car_Name_Bajaj Pulsar 135 LS          -1.6565      2.670     -0.620      0.536      -6.921       3.608\n",
      "Car_Name_Bajaj Pulsar 150             -1.0391      2.106     -0.493      0.622      -5.192       3.114\n",
      "Car_Name_Bajaj Pulsar 220 F           -1.2665      2.309     -0.548      0.584      -5.820       3.287\n",
      "Car_Name_Bajaj Pulsar NS 200          -1.5940      2.188     -0.729      0.467      -5.908       2.720\n",
      "Car_Name_Bajaj Pulsar RS200           -1.7100      2.673     -0.640      0.523      -6.982       3.562\n",
      "Car_Name_Hero  CBZ Xtreme             -1.0651      2.645     -0.403      0.688      -6.282       4.152\n",
      "Car_Name_Hero  Ignitor Disc           -1.6074      2.663     -0.604      0.547      -6.858       3.644\n",
      "Car_Name_Hero Extreme                 -1.5300      2.323     -0.659      0.511      -6.111       3.051\n",
      "Car_Name_Hero Glamour                 -1.6415      2.667     -0.616      0.539      -6.901       3.617\n",
      "Car_Name_Hero Honda CBZ extreme       -0.2694      2.638     -0.102      0.919      -5.472       4.933\n",
      "Car_Name_Hero Honda Passion Pro       -0.4991      2.645     -0.189      0.851      -5.716       4.718\n",
      "Car_Name_Hero Hunk                    -1.0584      2.645     -0.400      0.689      -6.275       4.158\n",
      "Car_Name_Hero Passion Pro             -1.8055      2.335     -0.773      0.440      -6.410       2.799\n",
      "Car_Name_Hero Passion X pro           -1.0575      2.661     -0.397      0.692      -6.306       4.191\n",
      "Car_Name_Hero Splender Plus           -0.7293      2.652     -0.275      0.784      -5.960       4.501\n",
      "Car_Name_Hero Splender iSmart         -1.5455      2.327     -0.664      0.507      -6.135       3.044\n",
      "Car_Name_Hero Super Splendor          -0.7607      2.642     -0.288      0.774      -5.971       4.450\n",
      "Car_Name_Honda Activa 125             -1.6478      2.737     -0.602      0.548      -7.045       3.750\n",
      "Car_Name_Honda Activa 4G              -1.9784      2.419     -0.818      0.414      -6.749       2.792\n",
      "Car_Name_Honda CB Hornet 160R         -1.6303      2.203     -0.740      0.460      -5.975       2.714\n",
      "Car_Name_Honda CB Shine               -1.1017      2.305     -0.478      0.633      -5.647       3.443\n",
      "Car_Name_Honda CB Trigger             -1.7499      2.670     -0.655      0.513      -7.015       3.515\n",
      "Car_Name_Honda CB Unicorn             -1.1249      2.656     -0.424      0.672      -6.362       4.113\n",
      "Car_Name_Honda CB twister             -1.2758      2.312     -0.552      0.582      -5.835       3.283\n",
      "Car_Name_Honda CBR 150                -1.5352      2.312     -0.664      0.508      -6.096       3.025\n",
      "Car_Name_Honda Dream Yuga             -1.6269      2.676     -0.608      0.544      -6.904       3.650\n",
      "Car_Name_Honda Karizma                 0.6225      2.279      0.273      0.785      -3.872       5.117\n",
      "Car_Name_Hyosung GT250R               -2.9112      2.661     -1.094      0.275      -8.158       2.336\n",
      "Car_Name_KTM 390 Duke                 -2.4972      2.667     -0.936      0.350      -7.758       2.763\n",
      "Car_Name_KTM RC200                    -1.7740      2.328     -0.762      0.447      -6.366       2.818\n",
      "Car_Name_KTM RC390                    -1.9096      2.659     -0.718      0.474      -7.154       3.335\n",
      "Car_Name_Mahindra Mojo XT300          -0.9961      2.655     -0.375      0.708      -6.233       4.240\n",
      "Car_Name_Royal Enfield Bullet 350     -1.6297      2.674     -0.610      0.543      -6.902       3.643\n",
      "Car_Name_Royal Enfield Classic 350    -1.3756      2.034     -0.676      0.500      -5.386       2.635\n",
      "Car_Name_Royal Enfield Classic 500    -1.7252      2.309     -0.747      0.456      -6.279       2.828\n",
      "Car_Name_Royal Enfield Thunder 350    -1.6285      2.129     -0.765      0.445      -5.827       2.570\n",
      "Car_Name_Royal Enfield Thunder 500    -1.9320      2.198     -0.879      0.380      -6.266       2.402\n",
      "Car_Name_Suzuki Access 125            -2.2917      2.745     -0.835      0.405      -7.706       3.123\n",
      "Car_Name_TVS Apache RTR 160           -1.3757      2.190     -0.628      0.531      -5.695       2.944\n",
      "Car_Name_TVS Apache RTR 180           -1.7098      2.323     -0.736      0.463      -6.290       2.871\n",
      "Car_Name_TVS Jupyter                  -1.7282      2.739     -0.631      0.529      -7.130       3.674\n",
      "Car_Name_TVS Sport                    -1.4518      2.672     -0.543      0.587      -6.721       3.817\n",
      "Car_Name_TVS Wego                     -1.7474      2.734     -0.639      0.524      -7.140       3.645\n",
      "Car_Name_UM Renegade Mojave           -1.6215      2.675     -0.606      0.545      -6.896       3.653\n",
      "Car_Name_Yamaha FZ  v 2.0             -1.2907      2.316     -0.557      0.578      -5.859       3.277\n",
      "Car_Name_Yamaha FZ 16                 -1.3470      2.667     -0.505      0.614      -6.606       3.912\n",
      "Car_Name_Yamaha FZ S                  -2.0106      2.673     -0.752      0.453      -7.281       3.260\n",
      "Car_Name_Yamaha FZ S V 2.0            -1.2462      2.188     -0.570      0.570      -5.562       3.069\n",
      "Car_Name_Yamaha Fazer                 -1.8922      2.672     -0.708      0.480      -7.162       3.378\n",
      "Car_Name_alto 800                     -2.5868      2.899     -0.892      0.373      -8.304       3.130\n",
      "Car_Name_alto k10                     -2.2413      2.360     -0.950      0.343      -6.895       2.413\n",
      "Car_Name_amaze                        -3.0021      2.316     -1.296      0.196      -7.569       1.565\n",
      "Car_Name_baleno                       -2.7357      2.912     -0.939      0.349      -8.479       3.008\n",
      "Car_Name_brio                         -2.1304      2.287     -0.932      0.353      -6.640       2.379\n",
      "Car_Name_camry                       -15.2972      2.976     -5.140      0.000     -21.167      -9.428\n",
      "Car_Name_ciaz                         -2.9338      2.303     -1.274      0.204      -7.476       1.608\n",
      "Car_Name_city                         -4.0132      2.279     -1.761      0.080      -8.508       0.482\n",
      "Car_Name_corolla                      -7.9469      2.919     -2.722      0.007     -13.704      -2.190\n",
      "Car_Name_corolla altis                -8.4680      2.408     -3.517      0.001     -13.216      -3.720\n",
      "Car_Name_creta                        -1.5519      2.520     -0.616      0.539      -6.521       3.417\n",
      "Car_Name_dzire                        -3.5397      2.389     -1.482      0.140      -8.251       1.171\n",
      "Car_Name_elantra                      -2.9816      2.629     -1.134      0.258      -8.167       2.204\n",
      "Car_Name_eon                          -2.7219      2.340     -1.163      0.246      -7.336       1.893\n",
      "Car_Name_ertiga                       -3.4763      2.349     -1.480      0.141      -8.110       1.157\n",
      "Car_Name_etios cross                  -3.4383      2.452     -1.402      0.162      -8.274       1.397\n",
      "Car_Name_etios g                      -2.8425      2.455     -1.158      0.248      -7.684       1.999\n",
      "Car_Name_etios gd                     -4.4112      2.891     -1.526      0.129     -10.113       1.290\n",
      "Car_Name_etios liva                   -3.3590      2.385     -1.408      0.161      -8.062       1.344\n",
      "Car_Name_fortuner                     -8.5709      2.794     -3.067      0.002     -14.081      -3.061\n",
      "Car_Name_grand i10                    -1.9917      2.302     -0.865      0.388      -6.532       2.549\n",
      "Car_Name_i10                          -2.2165      2.354     -0.942      0.348      -6.859       2.426\n",
      "Car_Name_i20                          -3.2072      2.288     -1.402      0.163      -7.719       1.305\n",
      "Car_Name_ignis                        -2.2378      2.896     -0.773      0.441      -7.949       3.473\n",
      "Car_Name_innova                       -3.6303      2.371     -1.531      0.127      -8.306       1.046\n",
      "Car_Name_jazz                         -2.8221      2.326     -1.213      0.226      -7.409       1.765\n",
      "Car_Name_land cruiser                -41.7994      7.060     -5.920      0.000     -55.723     -27.876\n",
      "Car_Name_omni                         -2.2545      2.883     -0.782      0.435      -7.940       3.431\n",
      "Car_Name_ritz                         -3.1099      2.384     -1.304      0.194      -7.812       1.592\n",
      "Car_Name_s cross                      -3.4393      2.896     -1.188      0.236      -9.151       2.272\n",
      "Car_Name_swift                        -2.6587      2.254     -1.180      0.240      -7.104       1.786\n",
      "Car_Name_sx4                          -4.9815      2.338     -2.131      0.034      -9.591      -0.372\n",
      "Car_Name_verna                        -3.5537      2.270     -1.565      0.119      -8.030       0.923\n",
      "Car_Name_vitara brezza                -2.4597      2.917     -0.843      0.400      -8.211       3.292\n",
      "Car_Name_wagon r                      -2.7377      2.417     -1.133      0.259      -7.504       2.028\n",
      "Car_Name_xcent                        -2.6961      2.460     -1.096      0.274      -7.548       2.156\n",
      "Fuel_Type_Diesel                       0.8665      1.510      0.574      0.567      -2.111       3.844\n",
      "Fuel_Type_Petrol                      -0.3612      1.473     -0.245      0.807      -3.267       2.545\n",
      "Seller_Type_Individual                -0.6930      1.181     -0.587      0.558      -3.022       1.636\n",
      "Transmission_Manual                   -0.2504      0.543     -0.461      0.645      -1.321       0.820\n",
      "Year                                   0.0016      0.001      1.141      0.255      -0.001       0.004\n",
      "Present_Price                          0.8093      0.074     10.918      0.000       0.663       0.955\n",
      "Kms_Driven                         -2.482e-05   3.86e-06     -6.423      0.000   -3.24e-05   -1.72e-05\n",
      "==============================================================================\n",
      "Omnibus:                      103.914   Durbin-Watson:                   2.162\n",
      "Prob(Omnibus):                  0.000   Jarque-Bera (JB):             1519.122\n",
      "Skew:                           0.965   Prob(JB):                         0.00\n",
      "Kurtosis:                      13.835   Cond. No.                     9.59e+06\n",
      "==============================================================================\n",
      "\n",
      "Notes:\n",
      "[1] R² is computed without centering (uncentered) since the model does not contain a constant.\n",
      "[2] Standard Errors assume that the covariance matrix of the errors is correctly specified.\n",
      "[3] The condition number is large, 9.59e+06. This might indicate that there are\n",
      "strong multicollinearity or other numerical problems.\n"
     ]
    }
   ],
   "source": [
    "# type your code here\n",
    "MLR_model = sm.OLS(y,X_indep).fit()\n",
    "print(MLR_model.summary())"
   ]
  },
  {
   "cell_type": "code",
   "execution_count": 88,
   "metadata": {},
   "outputs": [
    {
     "name": "stdout",
     "output_type": "stream",
     "text": [
      "Mean Squared Error (MSE):  2.1483\n",
      "Root Mean Squared Error (RMSE):  1.4657\n"
     ]
    }
   ],
   "source": [
    "X_train, X_test, y_train, y_test = train_test_split(X_indep, y, random_state = 1, test_size = 0.3)\n",
    "y_pred = MLR_model.predict(X_test)\n",
    "\n",
    "mse_test = round(mean_squared_error(y_test, y_pred),4)\n",
    "# printing the mse for the test set\n",
    "print(\"Mean Squared Error (MSE): \", mse_test)\n",
    "# taking the square root of the mse and then rounding the value upto 4 digits\n",
    "rmse_test = round(np.sqrt(mse_test), 4)\n",
    "# printing the rmse for the test set\n",
    "print(\"Root Mean Squared Error (RMSE): \", rmse_test)"
   ]
  },
  {
   "cell_type": "markdown",
   "metadata": {},
   "source": [
    "<table align=\"left\">\n",
    "    <tr>\n",
    "        <td width=\"6%\">\n",
    "            <img src=\"question_icon.png\">\n",
    "        </td>\n",
    "        <td>\n",
    "            <div align=\"left\", style=\"font-size:120%\">\n",
    "                <font color=\"#21618C\">\n",
    "                    <b>2. Is there multicollinearity present? If yes, which variables are involved in multicollinearity?    </b>\n",
    "                </font>\n",
    "            </div>\n",
    "        </td>\n",
    "    </tr>\n",
    "</table>"
   ]
  },
  {
   "cell_type": "code",
   "execution_count": 85,
   "metadata": {},
   "outputs": [
    {
     "data": {
      "image/png": "[encoded data removed]",
      "text/plain": [
       "<Figure size 432x288 with 2 Axes>"
      ]
     },
     "metadata": {
      "needs_background": "light"
     },
     "output_type": "display_data"
    }
   ],
   "source": [
    "# type your code here\n",
    "sns.heatmap(df.corr(),annot=True)\n",
    "plt.show()"
   ]
  },
  {
   "cell_type": "markdown",
   "metadata": {},
   "source": [
    "<table align=\"left\">\n",
    "    <tr>\n",
    "        <td width=\"6%\">\n",
    "            <img src=\"question_icon.png\">\n",
    "        </td>\n",
    "        <td>\n",
    "            <div align=\"left\", style=\"font-size:120%\">\n",
    "                <font color=\"#21618C\">\n",
    "                    <b>3. What is the impact of present price of the car and seller type on the selling price?\n",
    "                    </b>\n",
    "                </font>\n",
    "            </div>\n",
    "        </td>\n",
    "    </tr>\n",
    "</table>"
   ]
  },
  {
   "cell_type": "code",
   "execution_count": 1,
   "metadata": {},
   "outputs": [],
   "source": [
    "# type your code here\n",
    "#Selling price and Present price has high corelation"
   ]
  },
  {
   "cell_type": "markdown",
   "metadata": {},
   "source": [
    "<table align=\"left\">\n",
    "    <tr>\n",
    "        <td width=\"6%\">\n",
    "            <img src=\"question_icon.png\">\n",
    "        </td>\n",
    "        <td>\n",
    "            <div align=\"left\", style=\"font-size:120%\">\n",
    "                <font color=\"#21618C\">\n",
    "                    <b>4. Consider all the numeric features in the data. Do all of them significantly contribute to explaining the variation in the selling price?\n",
    "                    </b>\n",
    "                </font>\n",
    "            </div>\n",
    "        </td>\n",
    "    </tr>\n",
    "</table>"
   ]
  },
  {
   "cell_type": "code",
   "execution_count": 115,
   "metadata": {},
   "outputs": [
    {
     "data": {
      "text/plain": [
       "Car_Name          object\n",
       "Year               int64\n",
       "Selling_Price    float64\n",
       "Present_Price    float64\n",
       "Kms_Driven         int64\n",
       "Fuel_Type         object\n",
       "Seller_Type       object\n",
       "Transmission      object\n",
       "Owner              int64\n",
       "dtype: object"
      ]
     },
     "execution_count": 115,
     "metadata": {},
     "output_type": "execute_result"
    }
   ],
   "source": [
    "df.dtypes"
   ]
  },
  {
   "cell_type": "code",
   "execution_count": 116,
   "metadata": {},
   "outputs": [
    {
     "data": {
      "text/html": [
       "<div>\n",
       "<style scoped>\n",
       "    .dataframe tbody tr th:only-of-type {\n",
       "        vertical-align: middle;\n",
       "    }\n",
       "\n",
       "    .dataframe tbody tr th {\n",
       "        vertical-align: top;\n",
       "    }\n",
       "\n",
       "    .dataframe thead th {\n",
       "        text-align: right;\n",
       "    }\n",
       "</style>\n",
       "<table border=\"1\" class=\"dataframe\">\n",
       "  <thead>\n",
       "    <tr style=\"text-align: right;\">\n",
       "      <th></th>\n",
       "      <th>Year</th>\n",
       "      <th>Kms_Driven</th>\n",
       "      <th>Owner</th>\n",
       "    </tr>\n",
       "  </thead>\n",
       "  <tbody>\n",
       "    <tr>\n",
       "      <th>0</th>\n",
       "      <td>2014</td>\n",
       "      <td>27000</td>\n",
       "      <td>0</td>\n",
       "    </tr>\n",
       "    <tr>\n",
       "      <th>1</th>\n",
       "      <td>2013</td>\n",
       "      <td>43000</td>\n",
       "      <td>0</td>\n",
       "    </tr>\n",
       "    <tr>\n",
       "      <th>2</th>\n",
       "      <td>2017</td>\n",
       "      <td>6900</td>\n",
       "      <td>0</td>\n",
       "    </tr>\n",
       "    <tr>\n",
       "      <th>3</th>\n",
       "      <td>2011</td>\n",
       "      <td>5200</td>\n",
       "      <td>0</td>\n",
       "    </tr>\n",
       "    <tr>\n",
       "      <th>4</th>\n",
       "      <td>2014</td>\n",
       "      <td>42450</td>\n",
       "      <td>0</td>\n",
       "    </tr>\n",
       "  </tbody>\n",
       "</table>\n",
       "</div>"
      ],
      "text/plain": [
       "   Year  Kms_Driven  Owner\n",
       "0  2014       27000      0\n",
       "1  2013       43000      0\n",
       "2  2017        6900      0\n",
       "3  2011        5200      0\n",
       "4  2014       42450      0"
      ]
     },
     "execution_count": 116,
     "metadata": {},
     "output_type": "execute_result"
    }
   ],
   "source": [
    "x=df.select_dtypes(include='int64')\n",
    "x.head()"
   ]
  },
  {
   "cell_type": "code",
   "execution_count": 117,
   "metadata": {},
   "outputs": [],
   "source": [
    "# type your code here\n",
    "\n",
    "y=df['Selling_Price']\n",
    "MLR_model = sm.OLS(y,x).fit()"
   ]
  },
  {
   "cell_type": "code",
   "execution_count": 118,
   "metadata": {},
   "outputs": [
    {
     "name": "stdout",
     "output_type": "stream",
     "text": [
      "                                 OLS Regression Results                                \n",
      "=======================================================================================\n",
      "Dep. Variable:          Selling_Price   R-squared (uncentered):                   0.463\n",
      "Model:                            OLS   Adj. R-squared (uncentered):              0.458\n",
      "Method:                 Least Squares   F-statistic:                              85.63\n",
      "Date:                Mon, 24 May 2021   Prob (F-statistic):                    5.56e-40\n",
      "Time:                        07:40:52   Log-Likelihood:                         -914.50\n",
      "No. Observations:                 301   AIC:                                      1835.\n",
      "Df Residuals:                     298   BIC:                                      1846.\n",
      "Df Model:                           3                                                  \n",
      "Covariance Type:            nonrobust                                                  \n",
      "==============================================================================\n",
      "                 coef    std err          t      P>|t|      [0.025      0.975]\n",
      "------------------------------------------------------------------------------\n",
      "Year           0.0023      0.000     11.282      0.000       0.002       0.003\n",
      "Kms_Driven  4.928e-06   7.56e-06      0.652      0.515   -9.95e-06    1.98e-05\n",
      "Owner         -1.8766      1.187     -1.582      0.115      -4.212       0.458\n",
      "==============================================================================\n",
      "Omnibus:                      181.183   Durbin-Watson:                   1.034\n",
      "Prob(Omnibus):                  0.000   Jarque-Bera (JB):             1267.292\n",
      "Skew:                           2.472   Prob(JB):                    6.47e-276\n",
      "Kurtosis:                      11.752   Cond. No.                     2.17e+05\n",
      "==============================================================================\n",
      "\n",
      "Notes:\n",
      "[1] R² is computed without centering (uncentered) since the model does not contain a constant.\n",
      "[2] Standard Errors assume that the covariance matrix of the errors is correctly specified.\n",
      "[3] The condition number is large, 2.17e+05. This might indicate that there are\n",
      "strong multicollinearity or other numerical problems.\n"
     ]
    }
   ],
   "source": [
    "print(MLR_model.summary())"
   ]
  },
  {
   "cell_type": "markdown",
   "metadata": {},
   "source": [
    "<table align=\"left\">\n",
    "    <tr>\n",
    "        <td width=\"6%\">\n",
    "            <img src=\"question_icon.png\">\n",
    "        </td>\n",
    "        <td>\n",
    "            <div align=\"left\", style=\"font-size:120%\">\n",
    "                <font color=\"#21618C\">\n",
    "                    <b>5. In the model obtained in question 4, consider the interaction effect of the present price of the car and the year in which it was purchased. Compare the resultant model with the model obtained in previous question and give your interpretation \n",
    "                    </b>\n",
    "                </font>\n",
    "            </div>\n",
    "        </td>\n",
    "    </tr>\n",
    "</table>"
   ]
  },
  {
   "cell_type": "code",
   "execution_count": 1,
   "metadata": {},
   "outputs": [],
   "source": [
    "# type your code here"
   ]
  },
  {
   "cell_type": "markdown",
   "metadata": {},
   "source": [
    "<table align=\"left\">\n",
    "    <tr>\n",
    "        <td width=\"6%\">\n",
    "            <img src=\"question_icon.png\">\n",
    "        </td>\n",
    "        <td>\n",
    "            <div align=\"left\", style=\"font-size:120%\">\n",
    "                <font color=\"#21618C\">\n",
    "                    <b>6. What is the impact of fuel type of cars on the selling price? \n",
    "                    </b>\n",
    "                </font>\n",
    "            </div>\n",
    "        </td>\n",
    "    </tr>\n",
    "</table>"
   ]
  },
  {
   "cell_type": "code",
   "execution_count": 120,
   "metadata": {},
   "outputs": [
    {
     "data": {
      "text/plain": [
       "Car_Name          object\n",
       "Year               int64\n",
       "Selling_Price    float64\n",
       "Present_Price    float64\n",
       "Kms_Driven         int64\n",
       "Fuel_Type         object\n",
       "Seller_Type       object\n",
       "Transmission      object\n",
       "Owner              int64\n",
       "dtype: object"
      ]
     },
     "execution_count": 120,
     "metadata": {},
     "output_type": "execute_result"
    }
   ],
   "source": [
    "df.dtypes"
   ]
  },
  {
   "cell_type": "code",
   "execution_count": 130,
   "metadata": {},
   "outputs": [],
   "source": [
    "# type your code here\n"
   ]
  },
  {
   "cell_type": "code",
   "execution_count": 128,
   "metadata": {},
   "outputs": [
    {
     "data": {
      "image/png": "[encoded data removed]",
      "text/plain": [
       "<Figure size 432x288 with 1 Axes>"
      ]
     },
     "metadata": {
      "needs_background": "light"
     },
     "output_type": "display_data"
    }
   ],
   "source": [
    "sns.histplot(df['Fuel_Type'])\n",
    "plt.show()"
   ]
  },
  {
   "cell_type": "markdown",
   "metadata": {},
   "source": [
    "<table align=\"left\">\n",
    "    <tr>\n",
    "        <td width=\"6%\">\n",
    "            <img src=\"question_icon.png\">\n",
    "        </td>\n",
    "        <td>\n",
    "            <div align=\"left\", style=\"font-size:120%\">\n",
    "                <font color=\"#21618C\">\n",
    "                    <b>7. Does the model significantly explain variation in the target variable? Justify your answer with analysis of variation \n",
    "                    </b>\n",
    "                </font>\n",
    "            </div>\n",
    "        </td>\n",
    "    </tr>\n",
    "</table>"
   ]
  },
  {
   "cell_type": "markdown",
   "metadata": {},
   "source": [
    "            Regress the selling price over the transmission.\n",
    "            \n",
    "            Selling_Price ~ Transmission"
   ]
  },
  {
   "cell_type": "code",
   "execution_count": 1,
   "metadata": {},
   "outputs": [],
   "source": [
    "# type your code here\n"
   ]
  },
  {
   "cell_type": "markdown",
   "metadata": {},
   "source": [
    "<table align=\"left\">\n",
    "    <tr>\n",
    "        <td width=\"6%\">\n",
    "            <img src=\"question_icon.png\">\n",
    "        </td>\n",
    "        <td>\n",
    "            <div align=\"left\", style=\"font-size:120%\">\n",
    "                <font color=\"#21618C\">\n",
    "                    <b>8. Regress the selling price over the present price. Compare the 99% and 95% confidence interval of present price of a car\n",
    "                    </b>\n",
    "                </font>\n",
    "            </div>\n",
    "        </td>\n",
    "    </tr>\n",
    "</table>"
   ]
  },
  {
   "cell_type": "code",
   "execution_count": 1,
   "metadata": {},
   "outputs": [],
   "source": [
    "# type your code here"
   ]
  },
  {
   "cell_type": "markdown",
   "metadata": {},
   "source": [
    "<table align=\"left\">\n",
    "    <tr>\n",
    "        <td width=\"6%\">\n",
    "            <img src=\"question_icon.png\">\n",
    "        </td>\n",
    "        <td>\n",
    "            <div align=\"left\", style=\"font-size:120%\">\n",
    "                <font color=\"#21618C\">\n",
    "                        <b>9. Verify the statement: The sum of the residuals in any regression model that contains an intercept β<sub>0</sub> is always zero\n",
    "                    </b>\n",
    "                </font>\n",
    "            </div>\n",
    "        </td>\n",
    "    </tr>\n",
    "</table>"
   ]
  },
  {
   "cell_type": "markdown",
   "metadata": {},
   "source": [
    "        To verify the result, we will fit a regression model of 'Present_Price' on 'Selling_Price' "
   ]
  },
  {
   "cell_type": "code",
   "execution_count": 1,
   "metadata": {},
   "outputs": [],
   "source": [
    "# type your code here"
   ]
  },
  {
   "cell_type": "markdown",
   "metadata": {},
   "source": [
    "<table align=\"left\">\n",
    "    <tr>\n",
    "        <td width=\"6%\">\n",
    "            <img src=\"question_icon.png\">\n",
    "        </td>\n",
    "        <td>\n",
    "            <div align=\"left\", style=\"font-size:120%\">\n",
    "                <font color=\"#21618C\">\n",
    "                    <b>10. Consider two models as specified below. Compare the performance of the models\n",
    "                    </b>\n",
    "                </font>\n",
    "            </div>\n",
    "        </td>\n",
    "    </tr>\n",
    "</table>"
   ]
  },
  {
   "cell_type": "markdown",
   "metadata": {},
   "source": [
    "                First model:\n",
    "        \n",
    "        Selling_Price ~ Year + Present_Price + Kms_Driven + Owner + Fuel_Type + Seller_Type + Transmission\n",
    "        \n",
    "        \n",
    "                Second model:\n",
    "        \n",
    "        Selling_Price ~ Year + Present_Price + Kms_Driven + Owner "
   ]
  },
  {
   "cell_type": "code",
   "execution_count": 1,
   "metadata": {},
   "outputs": [],
   "source": [
    "# type your code here"
   ]
  }
 ],
 "metadata": {
  "kernelspec": {
   "display_name": "Python 3",
   "language": "python",
   "name": "python3"
  },
  "language_info": {
   "codemirror_mode": {
    "name": "ipython",
    "version": 3
   },
   "file_extension": ".py",
   "mimetype": "text/x-python",
   "name": "python",
   "nbconvert_exporter": "python",
   "pygments_lexer": "ipython3",
   "version": "3.8.5"
  }
 },
 "nbformat": 4,
 "nbformat_minor": 2
}
