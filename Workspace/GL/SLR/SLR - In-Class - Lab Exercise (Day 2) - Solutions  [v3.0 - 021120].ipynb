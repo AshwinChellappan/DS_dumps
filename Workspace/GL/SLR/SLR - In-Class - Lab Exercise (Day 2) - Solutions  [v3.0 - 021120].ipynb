{
 "cells": [
  {
   "cell_type": "markdown",
   "metadata": {},
   "source": [
    "<table align=\"center\" width=100%>\n",
    "    <tr>\n",
    "        <td width=\"15%\">\n",
    "            <img src=\"in_class.png\">\n",
    "        </td>\n",
    "        <td>\n",
    "            <div align=\"center\">\n",
    "                <font color=\"#21618C\" size=8px>\n",
    "                    <b> Inclass - Lab <br>(Day 2)\n",
    "                    </b>\n",
    "                </font>\n",
    "            </div>\n",
    "        </td>\n",
    "    </tr>\n",
    "</table>"
   ]
  },
  {
   "cell_type": "markdown",
   "metadata": {},
   "source": [
    "### About the data set (White wine data)\n",
    "\n",
    "The dataset contains information about several factors describing the quality of white wine.<br> Attribute information: \n",
    "\n",
    "**Fixed_Acidity:** The ph value for titrable acid content (0-7)\n",
    "\n",
    "**Volatile_Acidity:** Measure of acidity due to bacteria\n",
    "\n",
    "**Citric_Acid:** Amount of citric acid present in wine\n",
    "\n",
    "**Residual_Sugar:** Amount of grape sugar in gms/litre\n",
    "\n",
    "**Chlorides:** Amount of chlorides present in wine\n",
    "\n",
    "**Free_Sulfur-dioxide:** Amount of SO2 that is not bound to other molecules\n",
    "\n",
    "**Total_Sulfur-dioxide:** Portion of SO2 that is free in the wine plus the portion that is bound to other chemicals in the wine\n",
    "\n",
    "**Density:** Density of wine (gms/cm<sup>3</sup>)\n",
    "\n",
    "**pH:** The pH value of wine (0-14)\n",
    "\n",
    "**Sulphates:** Amount of salts of sulphuric acid \n",
    "\n",
    "**Alcohol:** Alcohol content in percentage\n",
    "\n",
    "**Quality:** Wine quality \n",
    "\n",
    "Data citation: P. Cortez, A. Cerdeira, F. Almeida, T. Matos and J. Reis. Modeling wine preferences by data mining from physicochemical properties. In Decision Support Systems, Elsevier, 47(4):547-553, 2009."
   ]
  },
  {
   "cell_type": "markdown",
   "metadata": {},
   "source": [
    "## Table of Content\n",
    "\n",
    "1. **[Feature Transformation](#trans)**\n",
    "2. **[Feature Selection](#sel)**\n",
    "3. **[Model Validation](#cv)**"
   ]
  },
  {
   "cell_type": "markdown",
   "metadata": {},
   "source": [
    "**Import the required libraries**"
   ]
  },
  {
   "cell_type": "code",
   "execution_count": 2,
   "metadata": {
    "scrolled": true
   },
   "outputs": [],
   "source": [
    "# import 'Pandas' \n",
    "import pandas as pd \n",
    "\n",
    "# import 'Numpy' \n",
    "import numpy as np\n",
    "\n",
    "# import subpackage of Matplotlib\n",
    "import matplotlib.pyplot as plt\n",
    "\n",
    "# import 'Seaborn' \n",
    "import seaborn as sns\n",
    "\n",
    "# to suppress warnings \n",
    "from warnings import filterwarnings\n",
    "filterwarnings('ignore')\n",
    "\n",
    "# display all columns of the dataframe\n",
    "pd.options.display.max_columns = None\n",
    "\n",
    "# display all rows of the dataframe\n",
    "pd.options.display.max_rows = None\n",
    " \n",
    "# to display the float values upto 6 decimal places     \n",
    "pd.options.display.float_format = '{:.6f}'.format\n",
    "\n",
    "# import train-test split \n",
    "from sklearn.model_selection import train_test_split\n",
    "\n",
    "# import various functions from statsmodel to perform linear regression\n",
    "import statsmodels\n",
    "import statsmodels.api as sm\n",
    "import statsmodels.stats.api as sms\n",
    "from statsmodels.graphics.gofplots import qqplot\n",
    "from statsmodels.stats.outliers_influence import variance_inflation_factor\n",
    "import statsmodels.tsa.api as smt\n",
    "\n",
    "# import various functions from scipy\n",
    "from scipy import stats\n",
    "\n",
    "# import 'metrics' from sklearn is used for evaluating the model performance\n",
    "from sklearn.metrics import mean_squared_error\n",
    "\n",
    "# import StandardScaler for scaling the data\n",
    "from sklearn.preprocessing import StandardScaler\n",
    "\n",
    "# functions for forward selection\n",
    "from mlxtend.feature_selection import SequentialFeatureSelector as sfs\n",
    "from sklearn.feature_selection import RFE\n",
    "\n",
    "# functions for linear regression\n",
    "from sklearn.linear_model import LinearRegression\n",
    "\n",
    "# functions for  cross validation\n",
    "from sklearn.model_selection import LeaveOneOut\n",
    "from sklearn.model_selection import cross_val_score\n",
    "from sklearn.model_selection import KFold\n",
    "from sklearn import preprocessing"
   ]
  },
  {
   "cell_type": "code",
   "execution_count": 2,
   "metadata": {},
   "outputs": [],
   "source": [
    "# set the plot size using 'rcParams' \n",
    "# once the plot size is set using 'rcParams', it sets the size of all the forthcoming plots in the file \n",
    "# pass width and height in inches to 'figure.figsize'  \n",
    "plt.rcParams['figure.figsize'] = [15,8]"
   ]
  },
  {
   "cell_type": "markdown",
   "metadata": {},
   "source": [
    "#### Load the first dataset and check the first two observations"
   ]
  },
  {
   "cell_type": "code",
   "execution_count": 3,
   "metadata": {},
   "outputs": [
    {
     "data": {
      "text/html": [
       "<div>\n",
       "<style scoped>\n",
       "    .dataframe tbody tr th:only-of-type {\n",
       "        vertical-align: middle;\n",
       "    }\n",
       "\n",
       "    .dataframe tbody tr th {\n",
       "        vertical-align: top;\n",
       "    }\n",
       "\n",
       "    .dataframe thead th {\n",
       "        text-align: right;\n",
       "    }\n",
       "</style>\n",
       "<table border=\"1\" class=\"dataframe\">\n",
       "  <thead>\n",
       "    <tr style=\"text-align: right;\">\n",
       "      <th></th>\n",
       "      <th>fixed acidity</th>\n",
       "      <th>volatile acidity</th>\n",
       "      <th>citric acid</th>\n",
       "      <th>residual sugar</th>\n",
       "      <th>chlorides</th>\n",
       "      <th>free sulfur dioxide</th>\n",
       "      <th>total sulfur dioxide</th>\n",
       "      <th>density</th>\n",
       "      <th>pH</th>\n",
       "      <th>sulphates</th>\n",
       "      <th>alcohol</th>\n",
       "      <th>quality</th>\n",
       "    </tr>\n",
       "  </thead>\n",
       "  <tbody>\n",
       "    <tr>\n",
       "      <th>0</th>\n",
       "      <td>7.000000</td>\n",
       "      <td>0.270000</td>\n",
       "      <td>0.360000</td>\n",
       "      <td>20.700000</td>\n",
       "      <td>0.045000</td>\n",
       "      <td>45.000000</td>\n",
       "      <td>170.000000</td>\n",
       "      <td>1.001000</td>\n",
       "      <td>3.000000</td>\n",
       "      <td>0.450000</td>\n",
       "      <td>8.800000</td>\n",
       "      <td>6</td>\n",
       "    </tr>\n",
       "    <tr>\n",
       "      <th>1</th>\n",
       "      <td>6.300000</td>\n",
       "      <td>0.300000</td>\n",
       "      <td>0.340000</td>\n",
       "      <td>1.600000</td>\n",
       "      <td>0.049000</td>\n",
       "      <td>14.000000</td>\n",
       "      <td>132.000000</td>\n",
       "      <td>0.994000</td>\n",
       "      <td>3.300000</td>\n",
       "      <td>0.490000</td>\n",
       "      <td>9.500000</td>\n",
       "      <td>6</td>\n",
       "    </tr>\n",
       "  </tbody>\n",
       "</table>\n",
       "</div>"
      ],
      "text/plain": [
       "   fixed acidity  volatile acidity  citric acid  residual sugar  chlorides  \\\n",
       "0       7.000000          0.270000     0.360000       20.700000   0.045000   \n",
       "1       6.300000          0.300000     0.340000        1.600000   0.049000   \n",
       "\n",
       "   free sulfur dioxide  total sulfur dioxide  density       pH  sulphates  \\\n",
       "0            45.000000            170.000000 1.001000 3.000000   0.450000   \n",
       "1            14.000000            132.000000 0.994000 3.300000   0.490000   \n",
       "\n",
       "   alcohol  quality  \n",
       "0 8.800000        6  \n",
       "1 9.500000        6  "
      ]
     },
     "execution_count": 3,
     "metadata": {},
     "output_type": "execute_result"
    }
   ],
   "source": [
    "# load the csv file\n",
    "# sep: which synmbol is used as seperator, here it is ';'\n",
    "df_wine = pd.read_csv('whitewine.csv',sep=';')\n",
    "\n",
    "# display the first two observations\n",
    "df_wine.head(2)"
   ]
  },
  {
   "cell_type": "code",
   "execution_count": 4,
   "metadata": {},
   "outputs": [
    {
     "data": {
      "text/plain": [
       "fixed acidity           float64\n",
       "volatile acidity        float64\n",
       "citric acid             float64\n",
       "residual sugar          float64\n",
       "chlorides               float64\n",
       "free sulfur dioxide     float64\n",
       "total sulfur dioxide    float64\n",
       "density                 float64\n",
       "pH                      float64\n",
       "sulphates               float64\n",
       "alcohol                 float64\n",
       "quality                   int64\n",
       "dtype: object"
      ]
     },
     "execution_count": 4,
     "metadata": {},
     "output_type": "execute_result"
    }
   ],
   "source": [
    "# check data types of variables\n",
    "df_wine.dtypes"
   ]
  },
  {
   "cell_type": "markdown",
   "metadata": {},
   "source": [
    "### Let's begin with some hands-on practice exercises"
   ]
  },
  {
   "cell_type": "markdown",
   "metadata": {},
   "source": [
    "<a id=\"trans\"> </a>\n",
    "## 1. Feature Transformation"
   ]
  },
  {
   "cell_type": "markdown",
   "metadata": {},
   "source": [
    "## We shall use the wine quality dataset"
   ]
  },
  {
   "cell_type": "markdown",
   "metadata": {
    "collapsed": true
   },
   "source": [
    "<table align=\"left\">\n",
    "    <tr>\n",
    "        <td width=\"6%\">\n",
    "            <img src=\"question_icon.png\">\n",
    "        </td>\n",
    "        <td>\n",
    "            <div align=\"left\", style=\"font-size:120%\">\n",
    "                <font color=\"#21618C\">\n",
    "                    <b>1. Does the variable 'volatile acidity' need transformation ?</b>\n",
    "                </font>\n",
    "            </div>\n",
    "        </td>\n",
    "    </tr>\n",
    "</table>"
   ]
  },
  {
   "cell_type": "markdown",
   "metadata": {},
   "source": [
    "Let us first see the distribution of the variable 'Volatile acidity'."
   ]
  },
  {
   "cell_type": "code",
   "execution_count": 5,
   "metadata": {},
   "outputs": [
    {
     "data": {
      "image/png": "[encoded data removed]",
      "text/plain": [
       "<Figure size 1080x576 with 1 Axes>"
      ]
     },
     "metadata": {
      "needs_background": "light"
     },
     "output_type": "display_data"
    }
   ],
   "source": [
    "# plot histogram\n",
    "plt.hist(df_wine['volatile acidity'])\n",
    "\n",
    "# add plot title\n",
    "# set text size using 'fontsize'\n",
    "plt.title('Distribution of volatile acidity', fontsize = 15)\n",
    "\n",
    "# label x-axis\n",
    "# set text size to 15 using 'fontsize'\n",
    "plt.xlabel('Volatile Acidity', fontsize = 15)\n",
    "\n",
    "# label y-axis \n",
    "# set text size using 'fontsize'\n",
    "plt.ylabel('Frequency', fontsize = 15)\n",
    "\n",
    "# display the plot\n",
    "plt.show()"
   ]
  },
  {
   "cell_type": "markdown",
   "metadata": {},
   "source": [
    "We see it is positively skewed. So, we shall apply transformation."
   ]
  },
  {
   "cell_type": "code",
   "execution_count": 6,
   "metadata": {},
   "outputs": [
    {
     "data": {
      "image/png": "[encoded data removed]",
      "text/plain": [
       "<Figure size 1080x576 with 1 Axes>"
      ]
     },
     "metadata": {
      "needs_background": "light"
     },
     "output_type": "display_data"
    }
   ],
   "source": [
    "# applying log transformation\n",
    "df_wine['volatile acidity'] = np.log(df_wine['volatile acidity'])\n",
    "\n",
    "# plot histogram of log transformed variable\n",
    "plt.hist(df_wine['volatile acidity'])\n",
    "\n",
    "# add plot title\n",
    "# set text size using 'fontsize'\n",
    "plt.title('Distribution of volatile acidity', fontsize = 15)\n",
    "\n",
    "# label x-axis\n",
    "# set text size to 15 using 'fontsize'\n",
    "plt.xlabel('Volatile Acidity', fontsize = 15)\n",
    "\n",
    "# label y-axis \n",
    "# set text size using 'fontsize'\n",
    "plt.ylabel('Frequency', fontsize = 15)\n",
    "\n",
    "# display the plot\n",
    "plt.show()"
   ]
  },
  {
   "cell_type": "markdown",
   "metadata": {},
   "source": [
    "As we can see from the figure above, after applying log transformation the skewness of the variable is reduced and it follows a near normal distribution."
   ]
  },
  {
   "cell_type": "markdown",
   "metadata": {
    "collapsed": true
   },
   "source": [
    "<table align=\"left\">\n",
    "    <tr>\n",
    "        <td width=\"6%\">\n",
    "            <img src=\"question_icon.png\">\n",
    "        </td>\n",
    "        <td>\n",
    "            <div align=\"left\", style=\"font-size:120%\">\n",
    "                <font color=\"#21618C\">\n",
    "                    <b>2. How can we reduce skewness of variable 'Residual_Sugar'?</b>\n",
    "                </font>\n",
    "            </div>\n",
    "        </td>\n",
    "    </tr>\n",
    "</table>"
   ]
  },
  {
   "cell_type": "code",
   "execution_count": 7,
   "metadata": {},
   "outputs": [
    {
     "data": {
      "image/png": "[encoded data removed]",
      "text/plain": [
       "<Figure size 1080x576 with 1 Axes>"
      ]
     },
     "metadata": {
      "needs_background": "light"
     },
     "output_type": "display_data"
    }
   ],
   "source": [
    "# plot histogram\n",
    "plt.hist(df_wine['residual sugar'])\n",
    "\n",
    "# add plot title\n",
    "# set text size using 'fontsize'\n",
    "plt.title('Distribution of Residual sugar', fontsize = 15)\n",
    "\n",
    "# label x-axis\n",
    "# set text size to 15 using 'fontsize'\n",
    "plt.xlabel('Residual sugar', fontsize = 15)\n",
    "\n",
    "# label y-axis \n",
    "# set text size using 'fontsize'\n",
    "plt.ylabel('Frequency', fontsize = 15)\n",
    "\n",
    "# display the plot\n",
    "plt.show()"
   ]
  },
  {
   "cell_type": "code",
   "execution_count": 8,
   "metadata": {},
   "outputs": [
    {
     "data": {
      "image/png": "[encoded data removed]",
      "text/plain": [
       "<Figure size 1080x576 with 1 Axes>"
      ]
     },
     "metadata": {
      "needs_background": "light"
     },
     "output_type": "display_data"
    }
   ],
   "source": [
    "# applying box-cox transformation using boxcox()\n",
    "# RS_lambda captures the optimal lamba value for box cox transformation\n",
    "df_wine['residual sugar'], RS_lambda = stats.boxcox(df_wine['residual sugar'])\n",
    "\n",
    "# plot histogram of transformed residual sugar\n",
    "plt.hist(df_wine['residual sugar'])\n",
    "\n",
    "# add plot title\n",
    "# set text size using 'fontsize'\n",
    "plt.title('Distribution of Residual sugar', fontsize = 15)\n",
    "\n",
    "# label x-axis\n",
    "# set text size to 15 using 'fontsize'\n",
    "plt.xlabel('Residual sugar', fontsize = 15)\n",
    "\n",
    "# label y-axis \n",
    "# set text size using 'fontsize'\n",
    "plt.ylabel('Frequency', fontsize = 15)\n",
    "\n",
    "# display the plot\n",
    "plt.show()"
   ]
  },
  {
   "cell_type": "markdown",
   "metadata": {},
   "source": [
    "As we can see the skewness of the 'Residual_sugar' is reduced by using box-cox transformation"
   ]
  },
  {
   "cell_type": "markdown",
   "metadata": {
    "collapsed": true
   },
   "source": [
    "<table align=\"left\">\n",
    "    <tr>\n",
    "        <td width=\"6%\">\n",
    "            <img src=\"question_icon.png\">\n",
    "        </td>\n",
    "        <td>\n",
    "            <div align=\"left\", style=\"font-size:120%\">\n",
    "                <font color=\"#21618C\">\n",
    "                    <b>3. Are there features in the dataset that add little to no information ?</b>\n",
    "                </font>\n",
    "            </div>\n",
    "        </td>\n",
    "    </tr>\n",
    "</table>"
   ]
  },
  {
   "cell_type": "code",
   "execution_count": 9,
   "metadata": {},
   "outputs": [
    {
     "data": {
      "text/plain": [
       "fixed acidity             0.712114\n",
       "volatile acidity          0.114351\n",
       "citric acid               0.014646\n",
       "residual sugar            1.217180\n",
       "chlorides                 0.000477\n",
       "free sulfur dioxide     289.242720\n",
       "total sulfur dioxide   1806.085491\n",
       "density                   0.000009\n",
       "pH                        0.022801\n",
       "sulphates                 0.013025\n",
       "alcohol                   1.514427\n",
       "quality                   0.784356\n",
       "dtype: float64"
      ]
     },
     "execution_count": 9,
     "metadata": {},
     "output_type": "execute_result"
    }
   ],
   "source": [
    "# var(): calculates variance for all attributes in dataframe\n",
    "df_wine.var()"
   ]
  },
  {
   "cell_type": "markdown",
   "metadata": {},
   "source": [
    "From the above result we can see the variables `chlorides` and `density` have a near zero variance, which implies they adds almost no new information to the data. Hence they can be eliminated during feature selection. "
   ]
  },
  {
   "cell_type": "markdown",
   "metadata": {
    "collapsed": true
   },
   "source": [
    "<table align=\"left\">\n",
    "    <tr>\n",
    "        <td width=\"6%\">\n",
    "            <img src=\"question_icon.png\">\n",
    "        </td>\n",
    "        <td>\n",
    "            <div align=\"left\", style=\"font-size:120%\">\n",
    "                <font color=\"#21618C\">\n",
    "                    <b>4. Which transformation method is best suited to treat the skewness in variable 'alcohol'?</b>\n",
    "                </font>\n",
    "            </div>\n",
    "        </td>\n",
    "    </tr>\n",
    "</table>"
   ]
  },
  {
   "cell_type": "code",
   "execution_count": 10,
   "metadata": {},
   "outputs": [
    {
     "data": {
      "image/png": "[encoded data removed]",
      "text/plain": [
       "<Figure size 1080x576 with 1 Axes>"
      ]
     },
     "metadata": {
      "needs_background": "light"
     },
     "output_type": "display_data"
    }
   ],
   "source": [
    "# plot the histogram of variable alcohol\n",
    "df_wine.alcohol.hist()\n",
    "\n",
    "# add plot title\n",
    "# set text size using 'fontsize'\n",
    "plt.title('Distribution of Alcohol content', fontsize = 15)\n",
    "\n",
    "# label x-axis\n",
    "# set text size to 15 using 'fontsize'\n",
    "plt.xlabel('Alcohol content', fontsize = 15)\n",
    "\n",
    "# label y-axis \n",
    "# set text size using 'fontsize'\n",
    "plt.ylabel('Frequency', fontsize = 15)\n",
    "\n",
    "# display the plot\n",
    "plt.show()"
   ]
  },
  {
   "cell_type": "code",
   "execution_count": 11,
   "metadata": {},
   "outputs": [
    {
     "data": {
      "image/png": "[encoded data removed]",
      "text/plain": [
       "<Figure size 1080x576 with 1 Axes>"
      ]
     },
     "metadata": {
      "needs_background": "light"
     },
     "output_type": "display_data"
    }
   ],
   "source": [
    "# applying log transformation\n",
    "new_alcohol = np.log(df_wine.alcohol)\n",
    "\n",
    "# plot histogram for transformed values of alcohol column\n",
    "new_alcohol.hist()\n",
    "\n",
    "# add plot title\n",
    "# set text size using 'fontsize'\n",
    "plt.title('Distribution of Alcohol content', fontsize = 15)\n",
    "\n",
    "# label x-axis\n",
    "# set text size to 15 using 'fontsize'\n",
    "plt.xlabel('Alcohol content', fontsize = 15)\n",
    "\n",
    "# label y-axis \n",
    "# set text size using 'fontsize'\n",
    "plt.ylabel('Frequency', fontsize = 15)\n",
    "\n",
    "# display the plot\n",
    "plt.show()"
   ]
  },
  {
   "cell_type": "markdown",
   "metadata": {},
   "source": [
    "Even after log transformation the variable is still skewed, so we try reciprocal transformation"
   ]
  },
  {
   "cell_type": "code",
   "execution_count": 12,
   "metadata": {},
   "outputs": [
    {
     "data": {
      "image/png": "[encoded data removed]",
      "text/plain": [
       "<Figure size 1080x576 with 1 Axes>"
      ]
     },
     "metadata": {
      "needs_background": "light"
     },
     "output_type": "display_data"
    }
   ],
   "source": [
    "# applying reciprocal transformation\n",
    "df_wine.alcohol = np.reciprocal(df_wine.alcohol)\n",
    "\n",
    "# plot histogram for transformed values of alcohol column\n",
    "df_wine.alcohol.hist()\n",
    "\n",
    "# add plot title\n",
    "# set text size using 'fontsize'\n",
    "plt.title('Distribution of Alcohol content', fontsize = 15)\n",
    "\n",
    "# label x-axis\n",
    "# set text size to 15 using 'fontsize'\n",
    "plt.xlabel('Alcohol content', fontsize = 15)\n",
    "\n",
    "# label y-axis \n",
    "# set text size using 'fontsize'\n",
    "plt.ylabel('Frequency', fontsize = 15)\n",
    "\n",
    "# display the plot\n",
    "plt.show()"
   ]
  },
  {
   "cell_type": "markdown",
   "metadata": {},
   "source": [
    "Hence we can see that reciprocal transform is the most suitable transformation to treat the skweness of variable 'alcohol'"
   ]
  },
  {
   "cell_type": "markdown",
   "metadata": {
    "collapsed": true
   },
   "source": [
    "<table align=\"left\">\n",
    "    <tr>\n",
    "        <td width=\"6%\">\n",
    "            <img src=\"question_icon.png\">\n",
    "        </td>\n",
    "        <td>\n",
    "            <div align=\"left\", style=\"font-size:120%\">\n",
    "                <font color=\"#21618C\">\n",
    "                    <b>5. Does scaling the feature 'pH' lead to better prediction when considering a full model ?</b>\n",
    "                </font>\n",
    "            </div>\n",
    "        </td>\n",
    "    </tr>\n",
    "</table>"
   ]
  },
  {
   "cell_type": "code",
   "execution_count": 13,
   "metadata": {},
   "outputs": [
    {
     "data": {
      "image/png": "[encoded data removed]",
      "text/plain": [
       "<Figure size 1080x576 with 1 Axes>"
      ]
     },
     "metadata": {
      "needs_background": "light"
     },
     "output_type": "display_data"
    }
   ],
   "source": [
    "# plot histogram\n",
    "df_wine.pH.hist()\n",
    "\n",
    "# add plot title\n",
    "# set text size using 'fontsize'\n",
    "plt.title('Distribution of pH', fontsize = 15)\n",
    "\n",
    "# label x-axis\n",
    "# set text size to 15 using 'fontsize'\n",
    "plt.xlabel('pH', fontsize = 15)\n",
    "\n",
    "# label y-axis \n",
    "# set text size using 'fontsize'\n",
    "plt.ylabel('Frequency', fontsize = 15)\n",
    "\n",
    "# display the plot\n",
    "plt.show()"
   ]
  },
  {
   "cell_type": "code",
   "execution_count": 14,
   "metadata": {},
   "outputs": [
    {
     "name": "stdout",
     "output_type": "stream",
     "text": [
      "                            OLS Regression Results                            \n",
      "==============================================================================\n",
      "Dep. Variable:                quality   R-squared:                       0.249\n",
      "Model:                            OLS   Adj. R-squared:                  0.248\n",
      "Method:                 Least Squares   F-statistic:                     162.2\n",
      "Date:                Mon, 02 Nov 2020   Prob (F-statistic):          3.45e-295\n",
      "Time:                        15:41:16   Log-Likelihood:                -5652.5\n",
      "No. Observations:                4898   AIC:                         1.133e+04\n",
      "Df Residuals:                    4887   BIC:                         1.140e+04\n",
      "Df Model:                          10                                         \n",
      "Covariance Type:            nonrobust                                         \n",
      "========================================================================================\n",
      "                           coef    std err          t      P>|t|      [0.025      0.975]\n",
      "----------------------------------------------------------------------------------------\n",
      "const                  209.7778      7.009     29.932      0.000     196.038     223.518\n",
      "fixed acidity            0.0998      0.016      6.098      0.000       0.068       0.132\n",
      "volatile acidity        -0.5346      0.034    -15.526      0.000      -0.602      -0.467\n",
      "citric acid              0.2121      0.097      2.184      0.029       0.022       0.403\n",
      "residual sugar           0.4215      0.018     23.637      0.000       0.387       0.456\n",
      "chlorides               -1.8038      0.547     -3.296      0.001      -2.877      -0.731\n",
      "free sulfur dioxide      0.0037      0.001      4.356      0.000       0.002       0.005\n",
      "total sulfur dioxide    -0.0012      0.000     -2.999      0.003      -0.002      -0.000\n",
      "density               -210.2763      7.206    -29.179      0.000    -224.404    -196.149\n",
      "pH                       0.8410      0.086      9.748      0.000       0.672       1.010\n",
      "sulphates                0.7495      0.099      7.545      0.000       0.555       0.944\n",
      "==============================================================================\n",
      "Omnibus:                      541.712   Durbin-Watson:                   1.633\n",
      "Prob(Omnibus):                  0.000   Jarque-Bera (JB):             2952.193\n",
      "Skew:                           0.388   Prob(JB):                         0.00\n",
      "Kurtosis:                       6.723   Cond. No.                     1.37e+05\n",
      "==============================================================================\n",
      "\n",
      "Warnings:\n",
      "[1] Standard Errors assume that the covariance matrix of the errors is correctly specified.\n",
      "[2] The condition number is large, 1.37e+05. This might indicate that there are\n",
      "strong multicollinearity or other numerical problems.\n"
     ]
    }
   ],
   "source": [
    "# select all features of the data for full model\n",
    "X = df_wine.iloc[:,:10]\n",
    "# to estimate the regression coefficient, a constant term of '1' needs to be added as a separate column\n",
    "# 'sm.add_constant' adds the intercept to the model\n",
    "X = sm.add_constant(X)\n",
    "\n",
    "# set the dependent variable\n",
    "y = df_wine['quality']\n",
    "\n",
    "# building a model with an intercept\n",
    "# fit() is used to fit the OLS model\n",
    "MLR_model = sm.OLS(y,X).fit()\n",
    "\n",
    "# print model summary\n",
    "print(MLR_model.summary())"
   ]
  },
  {
   "cell_type": "markdown",
   "metadata": {},
   "source": [
    "Since the variable is not highly skewed we can use standardization for the scaling of 'pH' variable"
   ]
  },
  {
   "cell_type": "code",
   "execution_count": 15,
   "metadata": {},
   "outputs": [],
   "source": [
    "# create the Scaler object\n",
    "scaler = preprocessing.StandardScaler()\n",
    "\n",
    "# fit your data on the scaler object\n",
    "# we pass the column by converting into dataframe since fit_transform() requires a dataframe input\n",
    "df_wine.pH = scaler.fit_transform(pd.DataFrame(df_wine.pH))"
   ]
  },
  {
   "cell_type": "code",
   "execution_count": 16,
   "metadata": {},
   "outputs": [
    {
     "name": "stdout",
     "output_type": "stream",
     "text": [
      "                            OLS Regression Results                            \n",
      "==============================================================================\n",
      "Dep. Variable:                quality   R-squared:                       0.249\n",
      "Model:                            OLS   Adj. R-squared:                  0.248\n",
      "Method:                 Least Squares   F-statistic:                     162.2\n",
      "Date:                Mon, 02 Nov 2020   Prob (F-statistic):          3.45e-295\n",
      "Time:                        15:41:16   Log-Likelihood:                -5652.5\n",
      "No. Observations:                4898   AIC:                         1.133e+04\n",
      "Df Residuals:                    4887   BIC:                         1.140e+04\n",
      "Df Model:                          10                                         \n",
      "Covariance Type:            nonrobust                                         \n",
      "========================================================================================\n",
      "                           coef    std err          t      P>|t|      [0.025      0.975]\n",
      "----------------------------------------------------------------------------------------\n",
      "const                  212.4592      7.067     30.066      0.000     198.606     226.313\n",
      "fixed acidity            0.0998      0.016      6.098      0.000       0.068       0.132\n",
      "volatile acidity        -0.5346      0.034    -15.526      0.000      -0.602      -0.467\n",
      "citric acid              0.2121      0.097      2.184      0.029       0.022       0.403\n",
      "residual sugar           0.4215      0.018     23.637      0.000       0.387       0.456\n",
      "chlorides               -1.8038      0.547     -3.296      0.001      -2.877      -0.731\n",
      "free sulfur dioxide      0.0037      0.001      4.356      0.000       0.002       0.005\n",
      "total sulfur dioxide    -0.0012      0.000     -2.999      0.003      -0.002      -0.000\n",
      "density               -210.2763      7.206    -29.179      0.000    -224.404    -196.149\n",
      "pH                       0.1270      0.013      9.748      0.000       0.101       0.153\n",
      "sulphates                0.7495      0.099      7.545      0.000       0.555       0.944\n",
      "==============================================================================\n",
      "Omnibus:                      541.712   Durbin-Watson:                   1.633\n",
      "Prob(Omnibus):                  0.000   Jarque-Bera (JB):             2952.193\n",
      "Skew:                           0.388   Prob(JB):                         0.00\n",
      "Kurtosis:                       6.723   Cond. No.                     1.38e+05\n",
      "==============================================================================\n",
      "\n",
      "Warnings:\n",
      "[1] Standard Errors assume that the covariance matrix of the errors is correctly specified.\n",
      "[2] The condition number is large, 1.38e+05. This might indicate that there are\n",
      "strong multicollinearity or other numerical problems.\n"
     ]
    }
   ],
   "source": [
    "# select all features of the data for full model\n",
    "X = df_wine.iloc[:,:10]\n",
    "\n",
    "# to estimate the regression coefficient, a constant term of '1' needs to be added as a separate column\n",
    "# 'sm.add_constant' adds the intercept to the model\n",
    "X = sm.add_constant(X)\n",
    "\n",
    "# set the dependent variable\n",
    "y = df_wine['quality']\n",
    "\n",
    "# building a model with an intercept\n",
    "# fit() is used to fit the OLS model\n",
    "MLR_model = sm.OLS(y,X).fit()\n",
    "\n",
    "# print model summary\n",
    "print(MLR_model.summary())"
   ]
  },
  {
   "cell_type": "markdown",
   "metadata": {},
   "source": [
    "As we can see the scaling of 'pH' feature does no have any impact on prediction performance since the R<sup>2</sup> value for the both the models is equal. From this we can infer that scaling does not necessarily improve the model even if the range of features are different."
   ]
  },
  {
   "cell_type": "markdown",
   "metadata": {
    "collapsed": true
   },
   "source": [
    "<table align=\"left\">\n",
    "    <tr>\n",
    "        <td width=\"6%\">\n",
    "            <img src=\"question_icon.png\">\n",
    "        </td>\n",
    "        <td>\n",
    "            <div align=\"left\", style=\"font-size:120%\">\n",
    "                <font color=\"#21618C\">\n",
    "                    <b>6. What could be done to resolve the issue of multicollinearity if present?</b>\n",
    "                </font>\n",
    "            </div>\n",
    "        </td>\n",
    "    </tr>\n",
    "</table>"
   ]
  },
  {
   "cell_type": "code",
   "execution_count": 17,
   "metadata": {},
   "outputs": [
    {
     "name": "stdout",
     "output_type": "stream",
     "text": [
      "                Features        VIF\n",
      "0          fixed acidity  91.718190\n",
      "1       volatile acidity  18.927934\n",
      "2            citric acid   9.922203\n",
      "3         residual sugar   4.761999\n",
      "4              chlorides   6.471258\n",
      "5    free sulfur dioxide   9.282963\n",
      "6   total sulfur dioxide  25.628547\n",
      "7                density 190.177133\n",
      "8                     pH   1.341398\n",
      "9              sulphates  20.594745\n",
      "10               alcohol 131.577683\n"
     ]
    }
   ],
   "source": [
    "# create an empty dataframe to store the VIF for each variable\n",
    "vif = pd.DataFrame()\n",
    "\n",
    "# filter the numerical features in the dataset\n",
    "# select_dtypes: selects the variable having specified datatype\n",
    "df_numeric = df_wine.select_dtypes(include=[np.number])\n",
    "\n",
    "# drop the target variable\n",
    "# 'axis = 1' drops the specified column\n",
    "df_numeric = df_numeric.drop(\"quality\", axis = 1)\n",
    "\n",
    "# create a column of variable names\n",
    "vif[\"Features\"] = df_numeric.columns\n",
    "\n",
    "# calculate VIF using list comprehension \n",
    "# use for loop to access each variable \n",
    "# calculate VIF for each variable and create a column 'VIF' to store the values \n",
    "vif[\"VIF\"] = [variance_inflation_factor(df_numeric.values, i) for i in range(df_numeric.shape[1])]\n",
    "\n",
    "# print the VIF\n",
    "print(vif)"
   ]
  },
  {
   "cell_type": "markdown",
   "metadata": {},
   "source": [
    "From the above result we can see that multicollinearity is present and to determine the variables that contribute to multicollinearity we use VIF threshold value = 10. Hence to rectify the problem of multicollinearity we need to eliminate the variables `fixed acidity`,`volatile acidity`,`total sulfur dioxide`,`density`, `sulphates` and `alcohol`."
   ]
  },
  {
   "cell_type": "markdown",
   "metadata": {
    "collapsed": true
   },
   "source": [
    "<table align=\"left\">\n",
    "    <tr>\n",
    "        <td width=\"6%\">\n",
    "            <img src=\"question_icon.png\">\n",
    "        </td>\n",
    "        <td>\n",
    "            <div align=\"left\", style=\"font-size:120%\">\n",
    "                <font color=\"#21618C\">\n",
    "                    <b>7.  Fit a full model. Is the assumption for normality of residuals violated ?</b>\n",
    "                </font>\n",
    "            </div>\n",
    "        </td>\n",
    "    </tr>\n",
    "</table>"
   ]
  },
  {
   "cell_type": "code",
   "execution_count": 18,
   "metadata": {},
   "outputs": [
    {
     "name": "stdout",
     "output_type": "stream",
     "text": [
      "                            OLS Regression Results                            \n",
      "==============================================================================\n",
      "Dep. Variable:                quality   R-squared:                       0.249\n",
      "Model:                            OLS   Adj. R-squared:                  0.248\n",
      "Method:                 Least Squares   F-statistic:                     162.2\n",
      "Date:                Mon, 02 Nov 2020   Prob (F-statistic):          3.45e-295\n",
      "Time:                        15:41:16   Log-Likelihood:                -5652.5\n",
      "No. Observations:                4898   AIC:                         1.133e+04\n",
      "Df Residuals:                    4887   BIC:                         1.140e+04\n",
      "Df Model:                          10                                         \n",
      "Covariance Type:            nonrobust                                         \n",
      "========================================================================================\n",
      "                           coef    std err          t      P>|t|      [0.025      0.975]\n",
      "----------------------------------------------------------------------------------------\n",
      "const                  212.4592      7.067     30.066      0.000     198.606     226.313\n",
      "fixed acidity            0.0998      0.016      6.098      0.000       0.068       0.132\n",
      "volatile acidity        -0.5346      0.034    -15.526      0.000      -0.602      -0.467\n",
      "citric acid              0.2121      0.097      2.184      0.029       0.022       0.403\n",
      "residual sugar           0.4215      0.018     23.637      0.000       0.387       0.456\n",
      "chlorides               -1.8038      0.547     -3.296      0.001      -2.877      -0.731\n",
      "free sulfur dioxide      0.0037      0.001      4.356      0.000       0.002       0.005\n",
      "total sulfur dioxide    -0.0012      0.000     -2.999      0.003      -0.002      -0.000\n",
      "density               -210.2763      7.206    -29.179      0.000    -224.404    -196.149\n",
      "pH                       0.1270      0.013      9.748      0.000       0.101       0.153\n",
      "sulphates                0.7495      0.099      7.545      0.000       0.555       0.944\n",
      "==============================================================================\n",
      "Omnibus:                      541.712   Durbin-Watson:                   1.633\n",
      "Prob(Omnibus):                  0.000   Jarque-Bera (JB):             2952.193\n",
      "Skew:                           0.388   Prob(JB):                         0.00\n",
      "Kurtosis:                       6.723   Cond. No.                     1.38e+05\n",
      "==============================================================================\n",
      "\n",
      "Warnings:\n",
      "[1] Standard Errors assume that the covariance matrix of the errors is correctly specified.\n",
      "[2] The condition number is large, 1.38e+05. This might indicate that there are\n",
      "strong multicollinearity or other numerical problems.\n"
     ]
    }
   ],
   "source": [
    "# select all features of the data for full model\n",
    "X = df_wine.iloc[:,:10]\n",
    "\n",
    "# to estimate the regression coefficient, a constant term of '1' needs to be added as a separate column\n",
    "# 'sm.add_constant' adds the intercept to the model\n",
    "X = sm.add_constant(X)\n",
    "\n",
    "# set the dependent variable\n",
    "y = df_wine['quality']\n",
    "\n",
    "# building a model with an intercept\n",
    "# fit() is used to fit the OLS model\n",
    "MLR_model = sm.OLS(y,X).fit()\n",
    "\n",
    "# obtain the residuals using resid\n",
    "residuals = MLR_model.resid\n",
    "\n",
    "# print model summary\n",
    "print(MLR_model.summary())"
   ]
  },
  {
   "cell_type": "code",
   "execution_count": 19,
   "metadata": {},
   "outputs": [
    {
     "data": {
      "image/png": "[encoded data removed]",
      "text/plain": [
       "<Figure size 1080x576 with 1 Axes>"
      ]
     },
     "metadata": {
      "needs_background": "light"
     },
     "output_type": "display_data"
    }
   ],
   "source": [
    "# plot the Q-Q plot\n",
    "# 'r' represents the regression line\n",
    "qqplot(MLR_model.resid, line = 'r')\n",
    "\n",
    "# set the plot title\n",
    "# set text size using 'fontsize'\n",
    "plt.title('Q-Q Plot', fontsize = 15)\n",
    "\n",
    "# set the x-axis label\n",
    "# set text size using 'fontsize'\n",
    "plt.xlabel('Theoretical Quantiles', fontsize = 15)\n",
    "\n",
    "# set the y-axis label\n",
    "# set text size using 'fontsize'\n",
    "plt.ylabel('Sample Quantiles', fontsize = 15)\n",
    "\n",
    "# display the plot\n",
    "plt.show()"
   ]
  },
  {
   "cell_type": "markdown",
   "metadata": {},
   "source": [
    "As we can see from the above plot the residuals do follow a near normal distribution"
   ]
  },
  {
   "cell_type": "markdown",
   "metadata": {
    "collapsed": true
   },
   "source": [
    "<table align=\"left\">\n",
    "    <tr>\n",
    "        <td width=\"6%\">\n",
    "            <img src=\"question_icon.png\">\n",
    "        </td>\n",
    "        <td>\n",
    "            <div align=\"left\", style=\"font-size:120%\">\n",
    "                <font color=\"#21618C\">\n",
    "                    <b>8. Does the transformation of variable 'citric acid' affect the performance of prediction model?</b>\n",
    "                </font>\n",
    "            </div>\n",
    "        </td>\n",
    "    </tr>\n",
    "</table>"
   ]
  },
  {
   "cell_type": "markdown",
   "metadata": {},
   "source": [
    "Let us check the distribution of citric acid"
   ]
  },
  {
   "cell_type": "code",
   "execution_count": 20,
   "metadata": {},
   "outputs": [
    {
     "data": {
      "image/png": "[encoded data removed]",
      "text/plain": [
       "<Figure size 1080x576 with 1 Axes>"
      ]
     },
     "metadata": {
      "needs_background": "light"
     },
     "output_type": "display_data"
    }
   ],
   "source": [
    "# plot histogram\n",
    "df_wine['citric acid'].hist()\n",
    "\n",
    "# add plot title\n",
    "# set text size using 'fontsize'\n",
    "plt.title('Distribution of citric acid', fontsize = 15)\n",
    "\n",
    "# label x-axis\n",
    "# set text size to 15 using 'fontsize'\n",
    "plt.xlabel('citric acid', fontsize = 15)\n",
    "\n",
    "# label y-axis \n",
    "# set text size using 'fontsize'\n",
    "plt.ylabel('Frequency', fontsize = 15)\n",
    "\n",
    "# display the plot\n",
    "plt.show()"
   ]
  },
  {
   "cell_type": "code",
   "execution_count": 21,
   "metadata": {},
   "outputs": [
    {
     "name": "stdout",
     "output_type": "stream",
     "text": [
      "                            OLS Regression Results                            \n",
      "==============================================================================\n",
      "Dep. Variable:                quality   R-squared:                       0.249\n",
      "Model:                            OLS   Adj. R-squared:                  0.248\n",
      "Method:                 Least Squares   F-statistic:                     162.2\n",
      "Date:                Mon, 02 Nov 2020   Prob (F-statistic):          3.45e-295\n",
      "Time:                        15:41:16   Log-Likelihood:                -5652.5\n",
      "No. Observations:                4898   AIC:                         1.133e+04\n",
      "Df Residuals:                    4887   BIC:                         1.140e+04\n",
      "Df Model:                          10                                         \n",
      "Covariance Type:            nonrobust                                         \n",
      "========================================================================================\n",
      "                           coef    std err          t      P>|t|      [0.025      0.975]\n",
      "----------------------------------------------------------------------------------------\n",
      "const                  212.4592      7.067     30.066      0.000     198.606     226.313\n",
      "fixed acidity            0.0998      0.016      6.098      0.000       0.068       0.132\n",
      "volatile acidity        -0.5346      0.034    -15.526      0.000      -0.602      -0.467\n",
      "citric acid              0.2121      0.097      2.184      0.029       0.022       0.403\n",
      "residual sugar           0.4215      0.018     23.637      0.000       0.387       0.456\n",
      "chlorides               -1.8038      0.547     -3.296      0.001      -2.877      -0.731\n",
      "free sulfur dioxide      0.0037      0.001      4.356      0.000       0.002       0.005\n",
      "total sulfur dioxide    -0.0012      0.000     -2.999      0.003      -0.002      -0.000\n",
      "density               -210.2763      7.206    -29.179      0.000    -224.404    -196.149\n",
      "pH                       0.1270      0.013      9.748      0.000       0.101       0.153\n",
      "sulphates                0.7495      0.099      7.545      0.000       0.555       0.944\n",
      "==============================================================================\n",
      "Omnibus:                      541.712   Durbin-Watson:                   1.633\n",
      "Prob(Omnibus):                  0.000   Jarque-Bera (JB):             2952.193\n",
      "Skew:                           0.388   Prob(JB):                         0.00\n",
      "Kurtosis:                       6.723   Cond. No.                     1.38e+05\n",
      "==============================================================================\n",
      "\n",
      "Warnings:\n",
      "[1] Standard Errors assume that the covariance matrix of the errors is correctly specified.\n",
      "[2] The condition number is large, 1.38e+05. This might indicate that there are\n",
      "strong multicollinearity or other numerical problems.\n"
     ]
    }
   ],
   "source": [
    "# select all features of the data for full model\n",
    "X = df_wine.iloc[:,:10]\n",
    "\n",
    "# to estimate the regression coefficient, a constant term of '1' needs to be added as a separate column\n",
    "# 'sm.add_constant' adds the intercept to the model\n",
    "X = sm.add_constant(X)\n",
    "\n",
    "# set the dependent variable\n",
    "y = df_wine['quality']\n",
    "\n",
    "# building a model with an intercept\n",
    "# fit() is used to fit the OLS model\n",
    "MLR_model = sm.OLS(y,X).fit()\n",
    "\n",
    "# print model summary\n",
    "print(MLR_model.summary())"
   ]
  },
  {
   "cell_type": "code",
   "execution_count": 22,
   "metadata": {},
   "outputs": [],
   "source": [
    "# perform square root transformation\n",
    "df_wine['citric acid'] = np.sqrt(df_wine['citric acid'])"
   ]
  },
  {
   "cell_type": "code",
   "execution_count": 23,
   "metadata": {},
   "outputs": [
    {
     "name": "stdout",
     "output_type": "stream",
     "text": [
      "                            OLS Regression Results                            \n",
      "==============================================================================\n",
      "Dep. Variable:                quality   R-squared:                       0.250\n",
      "Model:                            OLS   Adj. R-squared:                  0.249\n",
      "Method:                 Least Squares   F-statistic:                     163.3\n",
      "Date:                Mon, 02 Nov 2020   Prob (F-statistic):          7.23e-297\n",
      "Time:                        15:41:16   Log-Likelihood:                -5648.6\n",
      "No. Observations:                4898   AIC:                         1.132e+04\n",
      "Df Residuals:                    4887   BIC:                         1.139e+04\n",
      "Df Model:                          10                                         \n",
      "Covariance Type:            nonrobust                                         \n",
      "========================================================================================\n",
      "                           coef    std err          t      P>|t|      [0.025      0.975]\n",
      "----------------------------------------------------------------------------------------\n",
      "const                  211.3771      7.067     29.909      0.000     197.522     225.232\n",
      "fixed acidity            0.0932      0.016      5.658      0.000       0.061       0.125\n",
      "volatile acidity        -0.5198      0.035    -14.938      0.000      -0.588      -0.452\n",
      "citric acid              0.3929      0.111      3.543      0.000       0.176       0.610\n",
      "residual sugar           0.4189      0.018     23.487      0.000       0.384       0.454\n",
      "chlorides               -1.8705      0.547     -3.421      0.001      -2.942      -0.799\n",
      "free sulfur dioxide      0.0037      0.001      4.360      0.000       0.002       0.005\n",
      "total sulfur dioxide    -0.0012      0.000     -3.122      0.002      -0.002      -0.000\n",
      "density               -209.2561      7.206    -29.037      0.000    -223.384    -195.128\n",
      "pH                       0.1276      0.013      9.804      0.000       0.102       0.153\n",
      "sulphates                0.7387      0.099      7.438      0.000       0.544       0.933\n",
      "==============================================================================\n",
      "Omnibus:                      531.779   Durbin-Watson:                   1.631\n",
      "Prob(Omnibus):                  0.000   Jarque-Bera (JB):             2838.905\n",
      "Skew:                           0.384   Prob(JB):                         0.00\n",
      "Kurtosis:                       6.650   Cond. No.                     1.38e+05\n",
      "==============================================================================\n",
      "\n",
      "Warnings:\n",
      "[1] Standard Errors assume that the covariance matrix of the errors is correctly specified.\n",
      "[2] The condition number is large, 1.38e+05. This might indicate that there are\n",
      "strong multicollinearity or other numerical problems.\n"
     ]
    }
   ],
   "source": [
    "# select all features of the data for full model\n",
    "X = df_wine.iloc[:,:10]\n",
    "\n",
    "# to estimate the regression coefficient, a constant term of '1' needs to be added as a separate column\n",
    "# 'sm.add_constant' adds the intercept to the model\n",
    "X = sm.add_constant(X)\n",
    "\n",
    "# set the dependent variable\n",
    "y = df_wine['quality']\n",
    "\n",
    "# building a model with an intercept\n",
    "# fit() is used to fit the OLS model\n",
    "MLR_model = sm.OLS(y,X).fit()\n",
    "\n",
    "print(MLR_model.summary())"
   ]
  },
  {
   "cell_type": "markdown",
   "metadata": {},
   "source": [
    "We have used square root transformation since the variable 'citric acid' takes near zero values. After transformation we can see the R<sup>2</sup> value has slightely increased hence this transformation leads to a slight improvement in model performance."
   ]
  },
  {
   "cell_type": "markdown",
   "metadata": {
    "collapsed": true
   },
   "source": [
    "<table align=\"left\">\n",
    "    <tr>\n",
    "        <td width=\"6%\">\n",
    "            <img src=\"question_icon.png\">\n",
    "        </td>\n",
    "        <td>\n",
    "            <div align=\"left\", style=\"font-size:120%\">\n",
    "                <font color=\"#21618C\">\n",
    "                    <b>9. Fit a full model. Check whether variable has linear relationship with the wine quality<br></b>\n",
    "                </font>\n",
    "            </div>\n",
    "        </td>\n",
    "    </tr>\n",
    "</table>"
   ]
  },
  {
   "cell_type": "code",
   "execution_count": 24,
   "metadata": {},
   "outputs": [
    {
     "data": {
      "image/png": "[encoded data removed]",
      "text/plain": [
       "<Figure size 1080x576 with 10 Axes>"
      ]
     },
     "metadata": {
      "needs_background": "light"
     },
     "output_type": "display_data"
    }
   ],
   "source": [
    "# select all features of the data for full model\n",
    "X = df_wine.iloc[:,:10]\n",
    "\n",
    "# to estimate the regression coefficient, a constant term of '1' needs to be added as a separate column\n",
    "# 'sm.add_constant' adds the intercept to the model\n",
    "X = sm.add_constant(X)\n",
    "\n",
    "# set the dependent variable\n",
    "y = df_wine['quality']\n",
    "\n",
    "# building a model with an intercept\n",
    "# fit() is used to fit the OLS model\n",
    "MLR_model = sm.OLS(y,X).fit()\n",
    "\n",
    "# capture residuals for the model\n",
    "residuals = MLR_model.resid\n",
    "\n",
    "# create subplots of scatter plots\n",
    "# pass the number of rows in a subplot to 'nrows'\n",
    "# pass the number of columns in a subplot to 'ncolumns'\n",
    "# set plot size using 'figsize'\n",
    "fig, ax = plt.subplots(nrows = 2, ncols= 5, figsize=(15,8))\n",
    "\n",
    "# use for loop to create scatter plot for residuals and each independent variable (do not cosider the intercept)\n",
    "# 'ax' assigns axes object to draw the plot onto\n",
    "# set_ylabel() is used to set label to y axis\n",
    "for variable, subplot in zip(X.columns[1:], ax.flatten()):\n",
    "    z = sns.scatterplot(X[variable], residuals , ax=subplot)\n",
    "    z.set_ylabel(\"Residuals\", fontsize = 10)\n",
    "\n",
    "    \n",
    "plt.tight_layout()\n",
    "# display the plot\n",
    "plt.show()"
   ]
  },
  {
   "cell_type": "markdown",
   "metadata": {},
   "source": [
    "We can see that since there is no pattern observed in plots for variables `fixed acidity`,`volatile acidity`, `citric acid`, `residual sugar`, `total sulfur dioxide`, `density` and `pH`, these variables vary linearly with the target variable."
   ]
  },
  {
   "cell_type": "markdown",
   "metadata": {},
   "source": [
    "<a id=\"sel\"> </a>\n",
    "## 2. Feature Selection"
   ]
  },
  {
   "cell_type": "markdown",
   "metadata": {
    "collapsed": true
   },
   "source": [
    "<table align=\"left\">\n",
    "    <tr>\n",
    "        <td width=\"6%\">\n",
    "            <img src=\"question_icon.png\">\n",
    "        </td>\n",
    "        <td>\n",
    "            <div align=\"left\", style=\"font-size:120%\">\n",
    "                <font color=\"#21618C\">\n",
    "                    <b>10. Find the top five significant variables from the dataset using forward selection technique. Also display the R-squared score for the model built using these five variables.</b>\n",
    "                </font>\n",
    "            </div>\n",
    "        </td>\n",
    "    </tr>\n",
    "</table>"
   ]
  },
  {
   "cell_type": "code",
   "execution_count": 25,
   "metadata": {},
   "outputs": [],
   "source": [
    "# set of independent variables\n",
    "# drop the target variable using 'drop()'\n",
    "# 'axis = 1' drops the specified column\n",
    "X = df_wine.drop('quality', axis = 1)\n",
    "\n",
    "# dependent variable\n",
    "y = df_wine['quality']\n",
    "\n",
    "# split data into train subset and test subset\n",
    "# set 'random_state' to generate the same dataset each time you run the code \n",
    "# 'test_size' returns the proportion of data to be included in the testing set\n",
    "X_train, X_test, y_train, y_test = train_test_split(X, y, test_size = 0.20, random_state = 10)\n",
    "\n",
    "# initiate linear regression model to use in feature selection\n",
    "linreg = LinearRegression()"
   ]
  },
  {
   "cell_type": "code",
   "execution_count": 26,
   "metadata": {},
   "outputs": [
    {
     "name": "stderr",
     "output_type": "stream",
     "text": [
      "[Parallel(n_jobs=1)]: Using backend SequentialBackend with 1 concurrent workers.\n",
      "[Parallel(n_jobs=1)]: Done   1 out of   1 | elapsed:    0.0s remaining:    0.0s\n",
      "[Parallel(n_jobs=1)]: Done  11 out of  11 | elapsed:    0.0s finished\n",
      "\n",
      "[2020-11-02 15:41:17] Features: 1/5 -- score: 0.1768294545295732[Parallel(n_jobs=1)]: Using backend SequentialBackend with 1 concurrent workers.\n",
      "[Parallel(n_jobs=1)]: Done   1 out of   1 | elapsed:    0.0s remaining:    0.0s\n",
      "[Parallel(n_jobs=1)]: Done  10 out of  10 | elapsed:    0.0s finished\n",
      "\n",
      "[2020-11-02 15:41:17] Features: 2/5 -- score: 0.2225955408959681[Parallel(n_jobs=1)]: Using backend SequentialBackend with 1 concurrent workers.\n",
      "[Parallel(n_jobs=1)]: Done   1 out of   1 | elapsed:    0.0s remaining:    0.0s\n",
      "[Parallel(n_jobs=1)]: Done   9 out of   9 | elapsed:    0.0s finished\n",
      "\n",
      "[2020-11-02 15:41:18] Features: 3/5 -- score: 0.24814099958287109[Parallel(n_jobs=1)]: Using backend SequentialBackend with 1 concurrent workers.\n",
      "[Parallel(n_jobs=1)]: Done   1 out of   1 | elapsed:    0.0s remaining:    0.0s\n",
      "[Parallel(n_jobs=1)]: Done   8 out of   8 | elapsed:    0.0s finished\n",
      "\n",
      "[2020-11-02 15:41:18] Features: 4/5 -- score: 0.2554200537362845[Parallel(n_jobs=1)]: Using backend SequentialBackend with 1 concurrent workers.\n",
      "[Parallel(n_jobs=1)]: Done   1 out of   1 | elapsed:    0.0s remaining:    0.0s\n",
      "[Parallel(n_jobs=1)]: Done   7 out of   7 | elapsed:    0.0s finished\n",
      "\n",
      "[2020-11-02 15:41:18] Features: 5/5 -- score: 0.25925031726784187"
     ]
    }
   ],
   "source": [
    "# build forward feature selection\n",
    "# pass the regression model to 'estimator'\n",
    "# pass number of required feartures to 'k_features'. Here '5' is the stopping rule\n",
    "# 'forward=True' performs forward selection method\n",
    "# 'verbose=1' returns the number of features at the corresponding step\n",
    "# 'verbose=2' returns the R-squared scores and the number of features at the corresponding step\n",
    "# 'scoring=r2' considers R-squared score to select the feature\n",
    "linreg_forward = sfs(estimator = linreg, k_features = 5, forward = True, verbose = 2, scoring = 'r2')\n",
    "\n",
    "# fit the forward selection on training data using fit()\n",
    "sfs_forward = linreg_forward.fit(X_train, y_train)"
   ]
  },
  {
   "cell_type": "code",
   "execution_count": 27,
   "metadata": {},
   "outputs": [
    {
     "name": "stdout",
     "output_type": "stream",
     "text": [
      "Features selelected using forward selection are: \n",
      " ('fixed acidity', 'volatile acidity', 'residual sugar', 'sulphates', 'alcohol')\n",
      "\n",
      "R-squared:  0.25925031726784187\n"
     ]
    }
   ],
   "source": [
    "# print the selected feature names when k_features = 5\n",
    "print('Features selelected using forward selection are: \\n',sfs_forward.k_feature_names_)\n",
    "\n",
    "# print the R-squared value\n",
    "print('\\nR-squared: ', sfs_forward.k_score_)"
   ]
  },
  {
   "cell_type": "markdown",
   "metadata": {
    "collapsed": true
   },
   "source": [
    "<table align=\"left\">\n",
    "    <tr>\n",
    "        <td width=\"6%\">\n",
    "            <img src=\"question_icon.png\">\n",
    "        </td>\n",
    "        <td>\n",
    "            <div align=\"left\", style=\"font-size:120%\">\n",
    "                <font color=\"#21618C\">\n",
    "                        <b>11. Find the top five significant variables from the dataset using backward elimination technique. Also display the R-squared score for the model built using these five variables.<br><br> Compare the R-squared value obtained from question 10 with the value obtained using backward elimination.</b>\n",
    "                </font>\n",
    "            </div>\n",
    "        </td>\n",
    "    </tr>\n",
    "</table>"
   ]
  },
  {
   "cell_type": "code",
   "execution_count": 28,
   "metadata": {},
   "outputs": [
    {
     "name": "stderr",
     "output_type": "stream",
     "text": [
      "[Parallel(n_jobs=1)]: Using backend SequentialBackend with 1 concurrent workers.\n",
      "[Parallel(n_jobs=1)]: Done   1 out of   1 | elapsed:    0.0s remaining:    0.0s\n",
      "[Parallel(n_jobs=1)]: Done  11 out of  11 | elapsed:    0.0s finished\n",
      "\n",
      "[2020-11-02 15:41:18] Features: 10/5 -- score: 0.26272797106730666[Parallel(n_jobs=1)]: Using backend SequentialBackend with 1 concurrent workers.\n",
      "[Parallel(n_jobs=1)]: Done   1 out of   1 | elapsed:    0.0s remaining:    0.0s\n",
      "[Parallel(n_jobs=1)]: Done  10 out of  10 | elapsed:    0.0s finished\n",
      "\n",
      "[2020-11-02 15:41:18] Features: 9/5 -- score: 0.26284989675041903[Parallel(n_jobs=1)]: Using backend SequentialBackend with 1 concurrent workers.\n",
      "[Parallel(n_jobs=1)]: Done   1 out of   1 | elapsed:    0.0s remaining:    0.0s\n",
      "[Parallel(n_jobs=1)]: Done   9 out of   9 | elapsed:    0.0s finished\n",
      "\n",
      "[2020-11-02 15:41:18] Features: 8/5 -- score: 0.26292539544329296[Parallel(n_jobs=1)]: Using backend SequentialBackend with 1 concurrent workers.\n",
      "[Parallel(n_jobs=1)]: Done   1 out of   1 | elapsed:    0.0s remaining:    0.0s\n",
      "[Parallel(n_jobs=1)]: Done   8 out of   8 | elapsed:    0.0s finished\n",
      "\n",
      "[2020-11-02 15:41:18] Features: 7/5 -- score: 0.2627199085561771[Parallel(n_jobs=1)]: Using backend SequentialBackend with 1 concurrent workers.\n",
      "[Parallel(n_jobs=1)]: Done   1 out of   1 | elapsed:    0.0s remaining:    0.0s\n",
      "[Parallel(n_jobs=1)]: Done   7 out of   7 | elapsed:    0.0s finished\n",
      "\n",
      "[2020-11-02 15:41:18] Features: 6/5 -- score: 0.26131803984442514[Parallel(n_jobs=1)]: Using backend SequentialBackend with 1 concurrent workers.\n",
      "[Parallel(n_jobs=1)]: Done   1 out of   1 | elapsed:    0.0s remaining:    0.0s\n",
      "[Parallel(n_jobs=1)]: Done   6 out of   6 | elapsed:    0.0s finished\n",
      "\n",
      "[2020-11-02 15:41:18] Features: 5/5 -- score: 0.2596014080792644"
     ]
    }
   ],
   "source": [
    "# initiate linear regression model to use in feature selection\n",
    "linreg = LinearRegression()\n",
    "\n",
    "# build backward feature selection\n",
    "# pass the regression model to 'estimator'\n",
    "# pass number of required feartures to 'k_features'\n",
    "# 'forward=False' performs backward selection method\n",
    "# 'verbose=1' returns the number of features at the corresponding step\n",
    "# 'verbose=2' returns the R-squared scores and the number of features at the corresponding step\n",
    "# 'scoring=r2' considers R-squared score to select the feature\n",
    "linreg_backward = sfs(estimator = linreg, k_features = 5, forward = False, verbose = 2, scoring = 'r2')\n",
    "\n",
    "# fit the backward elimination on training data using fit()\n",
    "sfs_backward = linreg_backward.fit(X_train, y_train)"
   ]
  },
  {
   "cell_type": "code",
   "execution_count": 29,
   "metadata": {},
   "outputs": [
    {
     "name": "stdout",
     "output_type": "stream",
     "text": [
      "Features selelected using backward elimination are: \n",
      " ('volatile acidity', 'residual sugar', 'density', 'sulphates', 'alcohol')\n",
      "\n",
      "R-squared:  0.2596014080792644\n"
     ]
    }
   ],
   "source": [
    "# print the selected feature names when k_features = 5 \n",
    "print('Features selelected using backward elimination are: \\n', sfs_backward.k_feature_names_)\n",
    "\n",
    "# print the R-squared value\n",
    "print('\\nR-squared: ', sfs_backward.k_score_)"
   ]
  },
  {
   "cell_type": "markdown",
   "metadata": {},
   "source": [
    "We can see that the R-Squared score obtained from backward selection is more than that from backward elimination. "
   ]
  },
  {
   "cell_type": "markdown",
   "metadata": {
    "collapsed": true
   },
   "source": [
    "<table align=\"left\">\n",
    "    <tr>\n",
    "        <td width=\"6%\">\n",
    "            <img src=\"question_icon.png\">\n",
    "        </td>\n",
    "        <td>\n",
    "            <div align=\"left\", style=\"font-size:120%\">\n",
    "                <font color=\"#21618C\">\n",
    "                    <b>12. Find the best set of significant variables from the dataset using forward selection technique such that the selected set should have 2 to 6 features. Also display the R-squared score for the model built using the selected variables</b>\n",
    "                </font>\n",
    "            </div>\n",
    "        </td>\n",
    "    </tr>\n",
    "</table>"
   ]
  },
  {
   "cell_type": "code",
   "execution_count": 30,
   "metadata": {},
   "outputs": [
    {
     "name": "stderr",
     "output_type": "stream",
     "text": [
      "[Parallel(n_jobs=1)]: Using backend SequentialBackend with 1 concurrent workers.\n",
      "[Parallel(n_jobs=1)]: Done   1 out of   1 | elapsed:    0.0s remaining:    0.0s\n",
      "[Parallel(n_jobs=1)]: Done  11 out of  11 | elapsed:    0.0s finished\n",
      "\n",
      "[2020-11-02 15:41:18] Features: 1/6 -- score: 0.1768294545295732[Parallel(n_jobs=1)]: Using backend SequentialBackend with 1 concurrent workers.\n",
      "[Parallel(n_jobs=1)]: Done   1 out of   1 | elapsed:    0.0s remaining:    0.0s\n",
      "[Parallel(n_jobs=1)]: Done  10 out of  10 | elapsed:    0.0s finished\n",
      "\n",
      "[2020-11-02 15:41:18] Features: 2/6 -- score: 0.2225955408959681[Parallel(n_jobs=1)]: Using backend SequentialBackend with 1 concurrent workers.\n",
      "[Parallel(n_jobs=1)]: Done   1 out of   1 | elapsed:    0.0s remaining:    0.0s\n",
      "[Parallel(n_jobs=1)]: Done   9 out of   9 | elapsed:    0.0s finished\n",
      "\n",
      "[2020-11-02 15:41:18] Features: 3/6 -- score: 0.24814099958287109[Parallel(n_jobs=1)]: Using backend SequentialBackend with 1 concurrent workers.\n",
      "[Parallel(n_jobs=1)]: Done   1 out of   1 | elapsed:    0.0s remaining:    0.0s\n",
      "[Parallel(n_jobs=1)]: Done   8 out of   8 | elapsed:    0.0s finished\n",
      "\n",
      "[2020-11-02 15:41:18] Features: 4/6 -- score: 0.2554200537362845[Parallel(n_jobs=1)]: Using backend SequentialBackend with 1 concurrent workers.\n",
      "[Parallel(n_jobs=1)]: Done   1 out of   1 | elapsed:    0.0s remaining:    0.0s\n",
      "[Parallel(n_jobs=1)]: Done   7 out of   7 | elapsed:    0.0s finished\n",
      "\n",
      "[2020-11-02 15:41:18] Features: 5/6 -- score: 0.25925031726784187[Parallel(n_jobs=1)]: Using backend SequentialBackend with 1 concurrent workers.\n",
      "[Parallel(n_jobs=1)]: Done   1 out of   1 | elapsed:    0.0s remaining:    0.0s\n",
      "[Parallel(n_jobs=1)]: Done   6 out of   6 | elapsed:    0.0s finished\n",
      "\n",
      "[2020-11-02 15:41:19] Features: 6/6 -- score: 0.26131803984442514"
     ]
    }
   ],
   "source": [
    "# initiate linear regression model to use in feature selection\n",
    "linreg = LinearRegression()\n",
    "\n",
    "# build step forward selection\n",
    "# pass the regression model to 'estimator'\n",
    "# pass number of required feartures to 'k_features'\n",
    "# (2,6) means that all the possible subsets sequentially will be created \n",
    "# 'forward=True' performs forward selection method\n",
    "# 'verbose=1' returns the number of features at the corresponding step\n",
    "# 'verbose=2' returns the R-squared scores and the number of features at the corresponding step\n",
    "# 'scoring=r2' considers R-squared score to select the feature\n",
    "linreg_forward = sfs(estimator = linreg, k_features = (2,6), forward = True, verbose = 2, scoring = 'r2')\n",
    "\n",
    "# fit the step forward selection on training data using fit()\n",
    "sfs_forward_range = linreg_forward.fit(X_train, y_train)"
   ]
  },
  {
   "cell_type": "code",
   "execution_count": 31,
   "metadata": {},
   "outputs": [
    {
     "name": "stdout",
     "output_type": "stream",
     "text": [
      "Features selelected using forward selection are: \n",
      "  ('fixed acidity', 'volatile acidity', 'residual sugar', 'density', 'sulphates', 'alcohol')\n",
      "\n",
      "R-squared:  0.26131803984442514\n"
     ]
    }
   ],
   "source": [
    "# print the selected feature names when k_features = (2, 6)\n",
    "print('Features selelected using forward selection are: \\n ',sfs_forward_range.k_feature_names_)\n",
    "\n",
    "# print the R- squared value\n",
    "print('\\nR-squared: ', sfs_forward_range.k_score_)"
   ]
  },
  {
   "cell_type": "markdown",
   "metadata": {
    "collapsed": true
   },
   "source": [
    "<table align=\"left\">\n",
    "    <tr>\n",
    "        <td width=\"6%\">\n",
    "            <img src=\"question_icon.png\">\n",
    "        </td>\n",
    "        <td>\n",
    "            <div align=\"left\", style=\"font-size:120%\">\n",
    "                <font color=\"#21618C\">\n",
    "                    <b>13. Find the best set of significant variables from the dataset using forward selection technique. Also display the R-squared score for the model built using the selected variables.</b>\n",
    "                </font>\n",
    "            </div>\n",
    "        </td>\n",
    "    </tr>\n",
    "</table>"
   ]
  },
  {
   "cell_type": "code",
   "execution_count": 32,
   "metadata": {},
   "outputs": [
    {
     "name": "stderr",
     "output_type": "stream",
     "text": [
      "[Parallel(n_jobs=1)]: Using backend SequentialBackend with 1 concurrent workers.\n",
      "[Parallel(n_jobs=1)]: Done   1 out of   1 | elapsed:    0.0s remaining:    0.0s\n",
      "[Parallel(n_jobs=1)]: Done  11 out of  11 | elapsed:    0.0s finished\n",
      "\n",
      "[2020-11-02 15:41:19] Features: 1/11 -- score: 0.1768294545295732[Parallel(n_jobs=1)]: Using backend SequentialBackend with 1 concurrent workers.\n",
      "[Parallel(n_jobs=1)]: Done   1 out of   1 | elapsed:    0.0s remaining:    0.0s\n",
      "[Parallel(n_jobs=1)]: Done  10 out of  10 | elapsed:    0.0s finished\n",
      "\n",
      "[2020-11-02 15:41:19] Features: 2/11 -- score: 0.2225955408959681[Parallel(n_jobs=1)]: Using backend SequentialBackend with 1 concurrent workers.\n",
      "[Parallel(n_jobs=1)]: Done   1 out of   1 | elapsed:    0.0s remaining:    0.0s\n",
      "[Parallel(n_jobs=1)]: Done   9 out of   9 | elapsed:    0.0s finished\n",
      "\n",
      "[2020-11-02 15:41:19] Features: 3/11 -- score: 0.24814099958287109[Parallel(n_jobs=1)]: Using backend SequentialBackend with 1 concurrent workers.\n",
      "[Parallel(n_jobs=1)]: Done   1 out of   1 | elapsed:    0.0s remaining:    0.0s\n",
      "[Parallel(n_jobs=1)]: Done   8 out of   8 | elapsed:    0.0s finished\n",
      "\n",
      "[2020-11-02 15:41:19] Features: 4/11 -- score: 0.2554200537362845[Parallel(n_jobs=1)]: Using backend SequentialBackend with 1 concurrent workers.\n",
      "[Parallel(n_jobs=1)]: Done   1 out of   1 | elapsed:    0.0s remaining:    0.0s\n",
      "[Parallel(n_jobs=1)]: Done   7 out of   7 | elapsed:    0.0s finished\n",
      "\n",
      "[2020-11-02 15:41:19] Features: 5/11 -- score: 0.25925031726784187[Parallel(n_jobs=1)]: Using backend SequentialBackend with 1 concurrent workers.\n",
      "[Parallel(n_jobs=1)]: Done   1 out of   1 | elapsed:    0.0s remaining:    0.0s\n",
      "[Parallel(n_jobs=1)]: Done   6 out of   6 | elapsed:    0.0s finished\n",
      "\n",
      "[2020-11-02 15:41:19] Features: 6/11 -- score: 0.26131803984442514[Parallel(n_jobs=1)]: Using backend SequentialBackend with 1 concurrent workers.\n",
      "[Parallel(n_jobs=1)]: Done   1 out of   1 | elapsed:    0.0s remaining:    0.0s\n",
      "[Parallel(n_jobs=1)]: Done   5 out of   5 | elapsed:    0.0s finished\n",
      "\n",
      "[2020-11-02 15:41:19] Features: 7/11 -- score: 0.2627199085561771[Parallel(n_jobs=1)]: Using backend SequentialBackend with 1 concurrent workers.\n",
      "[Parallel(n_jobs=1)]: Done   1 out of   1 | elapsed:    0.0s remaining:    0.0s\n",
      "[Parallel(n_jobs=1)]: Done   4 out of   4 | elapsed:    0.0s finished\n",
      "\n",
      "[2020-11-02 15:41:19] Features: 8/11 -- score: 0.26292539544329296[Parallel(n_jobs=1)]: Using backend SequentialBackend with 1 concurrent workers.\n",
      "[Parallel(n_jobs=1)]: Done   1 out of   1 | elapsed:    0.0s remaining:    0.0s\n",
      "[Parallel(n_jobs=1)]: Done   3 out of   3 | elapsed:    0.0s finished\n",
      "\n",
      "[2020-11-02 15:41:19] Features: 9/11 -- score: 0.26284989675041903[Parallel(n_jobs=1)]: Using backend SequentialBackend with 1 concurrent workers.\n",
      "[Parallel(n_jobs=1)]: Done   1 out of   1 | elapsed:    0.0s remaining:    0.0s\n",
      "[Parallel(n_jobs=1)]: Done   2 out of   2 | elapsed:    0.0s finished\n",
      "\n",
      "[2020-11-02 15:41:19] Features: 10/11 -- score: 0.26272797106730666[Parallel(n_jobs=1)]: Using backend SequentialBackend with 1 concurrent workers.\n",
      "[Parallel(n_jobs=1)]: Done   1 out of   1 | elapsed:    0.0s remaining:    0.0s\n",
      "[Parallel(n_jobs=1)]: Done   1 out of   1 | elapsed:    0.0s finished\n",
      "\n",
      "[2020-11-02 15:41:19] Features: 11/11 -- score: 0.26090010720006074"
     ]
    }
   ],
   "source": [
    "# initiate linear regression model to use in feature selection\n",
    "linreg = LinearRegression()\n",
    "\n",
    "# build step forward selection\n",
    "# pass the regression model to 'estimator'\n",
    "# pass number of required feartures to 'k_features'. 'best' means that a best possible subset will be selected  \n",
    "# 'forward=True' performs forward selection method\n",
    "# 'verbose=1' returns the number of features at the corresponding step\n",
    "# 'verbose=2' returns the R-squared scores and the number of features at the corresponding step\n",
    "# 'scoring=r2' considers R-squared score to select the feature\n",
    "linreg_forward = sfs(estimator = linreg, k_features = 'best', forward = True, verbose = 2, scoring = 'r2')\n",
    "\n",
    "# fit the step forward selection on training data using fit()\n",
    "sfs_forward = linreg_forward.fit(X_train, y_train)"
   ]
  },
  {
   "cell_type": "code",
   "execution_count": 33,
   "metadata": {},
   "outputs": [
    {
     "name": "stdout",
     "output_type": "stream",
     "text": [
      "Features selelected using forward selection are:\n",
      "  ('fixed acidity', 'volatile acidity', 'citric acid', 'residual sugar', 'free sulfur dioxide', 'density', 'sulphates', 'alcohol')\n",
      "\n",
      "R-Squared:  0.26292539544329296\n"
     ]
    }
   ],
   "source": [
    "# print the selected feature names \n",
    "print('Features selelected using forward selection are:\\n ', sfs_forward.k_feature_names_)\n",
    "\n",
    "# print the R- squared value\n",
    "print('\\nR-Squared: ', sfs_forward.k_score_)"
   ]
  },
  {
   "cell_type": "markdown",
   "metadata": {
    "collapsed": true
   },
   "source": [
    "<table align=\"left\">\n",
    "    <tr>\n",
    "        <td width=\"6%\">\n",
    "            <img src=\"question_icon.png\">\n",
    "        </td>\n",
    "        <td>\n",
    "            <div align=\"left\", style=\"font-size:120%\">\n",
    "                <font color=\"#21618C\">\n",
    "                    <b>14. Find the best set of significant variables from the dataset using backward elimination technique. Also display the R-squared score for the model built using the selected variables. <br><br>Compare the R-squared value obtained from question 13 with the value obtained using backward elimination.</b>\n",
    "                </font>\n",
    "            </div>\n",
    "        </td>\n",
    "    </tr>\n",
    "</table>"
   ]
  },
  {
   "cell_type": "code",
   "execution_count": 34,
   "metadata": {},
   "outputs": [
    {
     "name": "stderr",
     "output_type": "stream",
     "text": [
      "[Parallel(n_jobs=1)]: Using backend SequentialBackend with 1 concurrent workers.\n",
      "[Parallel(n_jobs=1)]: Done   1 out of   1 | elapsed:    0.0s remaining:    0.0s\n",
      "[Parallel(n_jobs=1)]: Done  11 out of  11 | elapsed:    0.0s finished\n",
      "\n",
      "[2020-11-02 15:41:19] Features: 10/1 -- score: 0.26272797106730666[Parallel(n_jobs=1)]: Using backend SequentialBackend with 1 concurrent workers.\n",
      "[Parallel(n_jobs=1)]: Done   1 out of   1 | elapsed:    0.0s remaining:    0.0s\n",
      "[Parallel(n_jobs=1)]: Done  10 out of  10 | elapsed:    0.0s finished\n",
      "\n",
      "[2020-11-02 15:41:19] Features: 9/1 -- score: 0.26284989675041903[Parallel(n_jobs=1)]: Using backend SequentialBackend with 1 concurrent workers.\n",
      "[Parallel(n_jobs=1)]: Done   1 out of   1 | elapsed:    0.0s remaining:    0.0s\n",
      "[Parallel(n_jobs=1)]: Done   9 out of   9 | elapsed:    0.0s finished\n",
      "\n",
      "[2020-11-02 15:41:19] Features: 8/1 -- score: 0.26292539544329296[Parallel(n_jobs=1)]: Using backend SequentialBackend with 1 concurrent workers.\n",
      "[Parallel(n_jobs=1)]: Done   1 out of   1 | elapsed:    0.0s remaining:    0.0s\n",
      "[Parallel(n_jobs=1)]: Done   8 out of   8 | elapsed:    0.0s finished\n",
      "\n",
      "[2020-11-02 15:41:19] Features: 7/1 -- score: 0.2627199085561771[Parallel(n_jobs=1)]: Using backend SequentialBackend with 1 concurrent workers.\n",
      "[Parallel(n_jobs=1)]: Done   1 out of   1 | elapsed:    0.0s remaining:    0.0s\n",
      "[Parallel(n_jobs=1)]: Done   7 out of   7 | elapsed:    0.0s finished\n",
      "\n",
      "[2020-11-02 15:41:19] Features: 6/1 -- score: 0.26131803984442514[Parallel(n_jobs=1)]: Using backend SequentialBackend with 1 concurrent workers.\n",
      "[Parallel(n_jobs=1)]: Done   1 out of   1 | elapsed:    0.0s remaining:    0.0s\n",
      "[Parallel(n_jobs=1)]: Done   6 out of   6 | elapsed:    0.0s finished\n",
      "\n",
      "[2020-11-02 15:41:20] Features: 5/1 -- score: 0.2596014080792644[Parallel(n_jobs=1)]: Using backend SequentialBackend with 1 concurrent workers.\n",
      "[Parallel(n_jobs=1)]: Done   1 out of   1 | elapsed:    0.0s remaining:    0.0s\n",
      "[Parallel(n_jobs=1)]: Done   5 out of   5 | elapsed:    0.0s finished\n",
      "\n",
      "[2020-11-02 15:41:20] Features: 4/1 -- score: 0.2534681033973626[Parallel(n_jobs=1)]: Using backend SequentialBackend with 1 concurrent workers.\n",
      "[Parallel(n_jobs=1)]: Done   1 out of   1 | elapsed:    0.0s remaining:    0.0s\n",
      "[Parallel(n_jobs=1)]: Done   4 out of   4 | elapsed:    0.0s finished\n",
      "\n",
      "[2020-11-02 15:41:20] Features: 3/1 -- score: 0.24814099958287109[Parallel(n_jobs=1)]: Using backend SequentialBackend with 1 concurrent workers.\n",
      "[Parallel(n_jobs=1)]: Done   1 out of   1 | elapsed:    0.0s remaining:    0.0s\n",
      "[Parallel(n_jobs=1)]: Done   3 out of   3 | elapsed:    0.0s finished\n",
      "\n",
      "[2020-11-02 15:41:20] Features: 2/1 -- score: 0.2225955408959681[Parallel(n_jobs=1)]: Using backend SequentialBackend with 1 concurrent workers.\n",
      "[Parallel(n_jobs=1)]: Done   1 out of   1 | elapsed:    0.0s remaining:    0.0s\n",
      "[Parallel(n_jobs=1)]: Done   2 out of   2 | elapsed:    0.0s finished\n",
      "\n",
      "[2020-11-02 15:41:20] Features: 1/1 -- score: 0.1768294545295732"
     ]
    }
   ],
   "source": [
    "# initiate linear regression model to use in feature selection\n",
    "linreg = LinearRegression()\n",
    "\n",
    "# build step backward feature selection\n",
    "# pass the regression model to 'estimator'\n",
    "# pass number of required features to 'k_features'. 'best' means that a best possible subset will be selected \n",
    "# 'forward=False' performs backward selection method\n",
    "# 'verbose=1' returns the number of features at the corresponding step\n",
    "# 'scoring=r2' considers R-squared score to select the feature\n",
    "linreg_backward = sfs(estimator = linreg, k_features = 'best', forward = False, verbose = 2, scoring = 'r2')\n",
    "\n",
    "# fit the backward elimination on training data using fit()\n",
    "sfs_backward = linreg_backward.fit(X_train, y_train)"
   ]
  },
  {
   "cell_type": "code",
   "execution_count": 35,
   "metadata": {},
   "outputs": [
    {
     "name": "stdout",
     "output_type": "stream",
     "text": [
      "Features selelected using backward elimination are: \n",
      "  ('fixed acidity', 'volatile acidity', 'citric acid', 'residual sugar', 'free sulfur dioxide', 'density', 'sulphates', 'alcohol')\n",
      "\n",
      "R-squared:  0.26292539544329296\n"
     ]
    }
   ],
   "source": [
    "# print the selected feature names when k_features = 'best'\n",
    "print('Features selelected using backward elimination are: \\n ', sfs_backward.k_feature_names_)\n",
    "\n",
    "# print the R-squared value\n",
    "print('\\nR-squared: ', sfs_backward.k_score_)"
   ]
  },
  {
   "cell_type": "markdown",
   "metadata": {},
   "source": [
    "The R-Squared score obtained using backward elimination is more than that of forward selection."
   ]
  },
  {
   "cell_type": "markdown",
   "metadata": {
    "collapsed": true
   },
   "source": [
    "<table align=\"left\">\n",
    "    <tr>\n",
    "        <td width=\"6%\">\n",
    "            <img src=\"question_icon.png\">\n",
    "        </td>\n",
    "        <td>\n",
    "            <div align=\"left\", style=\"font-size:120%\">\n",
    "                <font color=\"#21618C\">\n",
    "                    <b>15. Find the best set of significant variables from the dataset among all the possible subsets of the variables. Build a linear regression model using the best subset and find the R-Squared value for that model.</b>\n",
    "                </font>\n",
    "            </div>\n",
    "        </td>\n",
    "    </tr>\n",
    "</table>"
   ]
  },
  {
   "cell_type": "code",
   "execution_count": 36,
   "metadata": {},
   "outputs": [
    {
     "name": "stdout",
     "output_type": "stream",
     "text": [
      "Index(['volatile acidity', 'residual sugar', 'density', 'sulphates',\n",
      "       'alcohol'],\n",
      "      dtype='object')\n"
     ]
    }
   ],
   "source": [
    "# initiate linear regression model to use in feature selection\n",
    "linreg_rfe = LinearRegression()\n",
    "\n",
    "# Build the RFE model\n",
    "# pass the regression model to 'estimator'\n",
    "# pass number of required features to 'n_features_to_select'\n",
    "# if we do not pass the number of features, RFE considers half of the features\n",
    "rfe_model = RFE(estimator=linreg_rfe, n_features_to_select = 5)\n",
    "\n",
    "# fit the RFE model on the training dataset using fit()\n",
    "rfe_model = rfe_model.fit(X_train, y_train)\n",
    "\n",
    "# create a series containing feature and its corresponding rank obtained from RFE\n",
    "# 'ranking_' returns the rank of each variable after applying RFE\n",
    "# pass the ranks as the 'data' of a series\n",
    "# 'index' assigns feature names as index of a series \n",
    "feat_index = pd.Series(data = rfe_model.ranking_, index = X_train.columns)\n",
    "\n",
    "# select the features with rank = 1\n",
    "# 'index' returns the indices of a series (i.e. features with rank=1) \n",
    "signi_feat_rfe = feat_index[feat_index==1].index\n",
    "\n",
    "# print the significant features obtained from RFE\n",
    "print(signi_feat_rfe)"
   ]
  },
  {
   "cell_type": "markdown",
   "metadata": {},
   "source": [
    "Lets create a linear regression model using the significant variables obtained after RFE."
   ]
  },
  {
   "cell_type": "code",
   "execution_count": 37,
   "metadata": {},
   "outputs": [
    {
     "name": "stdout",
     "output_type": "stream",
     "text": [
      "The r-squared value for the model built using the variables obtained using RFE is:  0.2670600321282073\n"
     ]
    }
   ],
   "source": [
    "# store the X_train with significant variables in new_X_train\n",
    "new_X_train = X_train[signi_feat_rfe]\n",
    "\n",
    "# initiate linear regression\n",
    "linreg = LinearRegression()\n",
    "\n",
    "# build the model using new_X_train and y_train\n",
    "linreg.fit(new_X_train, y_train)\n",
    "\n",
    "# check the score\n",
    "r2_value_rfe = linreg.score(new_X_train, y_train)\n",
    "\n",
    "# print the r-scored value\n",
    "print('The r-squared value for the model built using the variables obtained using RFE is: ', r2_value_rfe)"
   ]
  },
  {
   "cell_type": "markdown",
   "metadata": {
    "collapsed": true
   },
   "source": [
    "<table align=\"left\">\n",
    "    <tr>\n",
    "        <td width=\"6%\">\n",
    "            <img src=\"question_icon.png\">\n",
    "        </td>\n",
    "        <td>\n",
    "            <div align=\"left\", style=\"font-size:120%\">\n",
    "                <font color=\"#21618C\">\n",
    "                    <b>16. Calculate the RMSE for the train set and test set for the model created using the top 5 variables obtained from forward selection in question 10. Check if the model is overfitted on the train set or not. If yes, then why do you think so?</b>\n",
    "                </font>\n",
    "            </div>\n",
    "        </td>\n",
    "    </tr>\n",
    "</table>"
   ]
  },
  {
   "cell_type": "code",
   "execution_count": 38,
   "metadata": {},
   "outputs": [
    {
     "data": {
      "text/plain": [
       "LinearRegression()"
      ]
     },
     "execution_count": 38,
     "metadata": {},
     "output_type": "execute_result"
    }
   ],
   "source": [
    "# storing the significant variables obtained after performing the forward selection\n",
    "sfs_features = sfs_forward.k_feature_names_\n",
    "\n",
    "# Creating a subset of X_train and X_test using sfs_features\n",
    "new_X_train = X_train.loc[:,sfs_features]\n",
    "new_X_test = X_test.loc[:,sfs_features]\n",
    "\n",
    "# initiate the Linear Regression model\n",
    "linreg = LinearRegression()\n",
    "\n",
    "# fit the model \n",
    "linreg.fit(new_X_train, y_train)"
   ]
  },
  {
   "cell_type": "code",
   "execution_count": 39,
   "metadata": {},
   "outputs": [
    {
     "name": "stdout",
     "output_type": "stream",
     "text": [
      "Root Mean Squared Error (RMSE) on training set:  0.7576\n",
      "Root Mean Squared Error (RMSE) on test set:  0.7512\n"
     ]
    }
   ],
   "source": [
    "# for training set:\n",
    "# train_pred: Prediction made by the model on the training dataset 'X_train'\n",
    "# y_train: Actual values of the target variable for the train dataset\n",
    "\n",
    "# for testing set:\n",
    "# test_pred: Prediction made by the model on the test dataset 'y_train'\n",
    "# y_test: Actual values of the target variable for the test dataset\n",
    "\n",
    "# predict the output of the target variable from the train data\n",
    "# train_pred can also be obtained from \"MLR_model_with_significant_var.fittedvalues\"\n",
    "train_pred = linreg.predict(new_X_train)\n",
    "\n",
    "# predict the output of the target variable from the test data\n",
    "test_pred = linreg.predict(new_X_test)\n",
    "\n",
    "# calculate the mse using the \"mean_squared_error\" function\n",
    "\n",
    "# MSE for the train data\n",
    "mse_train = mean_squared_error(y_train, train_pred)\n",
    "\n",
    "# take the square root of the mse and then rounding the value upto 4 digits\n",
    "rmse_train = round(np.sqrt(mse_train), 4)\n",
    "\n",
    "# print the rmse for the train set\n",
    "print(\"Root Mean Squared Error (RMSE) on training set: \", rmse_train)\n",
    "\n",
    "# MSE for the test data\n",
    "mse_test = mean_squared_error(y_test, test_pred)\n",
    "\n",
    "# take the square root of the mse and then rounding the value upto 4 digits\n",
    "rmse_test = round(np.sqrt(mse_test), 4)\n",
    "\n",
    "# print the rmse for the test set\n",
    "print(\"Root Mean Squared Error (RMSE) on test set: \", rmse_test)"
   ]
  },
  {
   "cell_type": "markdown",
   "metadata": {},
   "source": [
    "From the RMSE values for the train set and the test set, we can see that the errors are nearly same. Thus, we can conclude that the model is not overfitted on the training data."
   ]
  },
  {
   "cell_type": "markdown",
   "metadata": {},
   "source": [
    "<a id=\"cv\"> </a>\n",
    "## 3. Model Validation"
   ]
  },
  {
   "cell_type": "markdown",
   "metadata": {
    "collapsed": true
   },
   "source": [
    "<table align=\"left\">\n",
    "    <tr>\n",
    "        <td width=\"6%\">\n",
    "            <img src=\"question_icon.png\">\n",
    "        </td>\n",
    "        <td>\n",
    "            <div align=\"left\", style=\"font-size:120%\">\n",
    "                <font color=\"#21618C\">\n",
    "                    <b>17. Create a new feature based on the 'pH' which tells whether wine is acidic, basic or neutral. Will this variable significantly contribute to the model?</b>\n",
    "                </font>\n",
    "            </div>\n",
    "        </td>\n",
    "    </tr>\n",
    "</table>"
   ]
  },
  {
   "cell_type": "code",
   "execution_count": 40,
   "metadata": {},
   "outputs": [],
   "source": [
    "# create a new feature for better understanding of pH \n",
    "# create an empty list\n",
    "ph_verbose=[]\n",
    "\n",
    "# for the pH value equal to 7 append the list ph_verbose with 'Neutral'\n",
    "# for the pH value greater than 7 append the list ph_verbose with 'Basic'\n",
    "# for the pH value less than 7 append the list ph_verbose with 'Acidic'\n",
    "for i in range(0,df_wine.pH.shape[0]):\n",
    "    if df_wine.pH.iloc[i] == 7:\n",
    "        ph_verbose.append('Neutral')\n",
    "    elif df_wine.pH.iloc[i]>7:\n",
    "        ph_verbose.append('Basic')    \n",
    "    elif df_wine.pH.iloc[i]<7:\n",
    "        ph_verbose.append('Acidic')\n",
    "\n",
    "# create a new feature 'pH_verbose' with elements as 'ph_verbose'       \n",
    "df_wine[\"pH_verbose\"] = ph_verbose "
   ]
  },
  {
   "cell_type": "code",
   "execution_count": 41,
   "metadata": {},
   "outputs": [
    {
     "data": {
      "text/plain": [
       "Acidic    4898\n",
       "Name: pH_verbose, dtype: int64"
      ]
     },
     "execution_count": 41,
     "metadata": {},
     "output_type": "execute_result"
    }
   ],
   "source": [
    "# print the count for each category\n",
    "df_wine[\"pH_verbose\"].value_counts()"
   ]
  },
  {
   "cell_type": "markdown",
   "metadata": {},
   "source": [
    "We see that there is only one value in the feature. Thus, it can be removed."
   ]
  },
  {
   "cell_type": "code",
   "execution_count": 42,
   "metadata": {},
   "outputs": [],
   "source": [
    "# drop the variable 'pH_verbose'\n",
    "# # drop the target variable using 'drop()'\n",
    "# 'axis = 1' drops the specified column\n",
    "# 'inplace = True': makes the change in the original memory location of the dataframe\n",
    "df_wine.drop(\"pH_verbose\", axis = 1, inplace = True)"
   ]
  },
  {
   "cell_type": "markdown",
   "metadata": {
    "collapsed": true
   },
   "source": [
    "<table align=\"left\">\n",
    "    <tr>\n",
    "        <td width=\"6%\">\n",
    "            <img src=\"question_icon.png\">\n",
    "        </td>\n",
    "        <td>\n",
    "            <div align=\"left\", style=\"font-size:120%\">\n",
    "                <font color=\"#21618C\">\n",
    "                    <b>18. Fit the a full model. Validate the model using cross validation method</b>\n",
    "                </font>\n",
    "            </div>\n",
    "        </td>\n",
    "    </tr>\n",
    "</table>"
   ]
  },
  {
   "cell_type": "code",
   "execution_count": 43,
   "metadata": {},
   "outputs": [],
   "source": [
    "# creating a function get_score that returns the R-squared score for the training set\n",
    "# get_score takes 5 parameters\n",
    "def get_score(model, X_train_k, X_test_k, y_train_k, y_test_k):\n",
    "    model.fit(X_train_k, y_train_k)                                # fit the model \n",
    "    return model.score(X_test_k, y_test_k)                         # return the R-squared value"
   ]
  },
  {
   "cell_type": "code",
   "execution_count": 44,
   "metadata": {},
   "outputs": [],
   "source": [
    "# copying the original dataset\n",
    "df_wine_copy = df_wine.copy()\n",
    "\n",
    "# set of independent variables\n",
    "# drop the target variable using 'drop()'\n",
    "# 'axis = 1' drops the specified column\n",
    "X = df_wine_copy.drop('quality', axis = 1)\n",
    "\n",
    "# dependent variable\n",
    "y = df_wine_copy['quality']\n",
    "\n",
    "# split data into train subset and test subset using train_test_split()\n",
    "# 'test_size' returns the proportion of data to be included in the testing set\n",
    "# set 'random_state' to generate the same dataset each time you run the code \n",
    "X_train, X_test, y_train, y_test = train_test_split(X, y, test_size = 0.30, random_state = 10)"
   ]
  },
  {
   "cell_type": "code",
   "execution_count": 45,
   "metadata": {},
   "outputs": [],
   "source": [
    "# using cross_val_score() for k-fold cross validation\n",
    "# estimator: pass the machine learning function. Here we are performing linear regression\n",
    "# pass the X_train and y_train sets\n",
    "# cv: stands for number of folds. Similar to k in KFold\n",
    "# scoring: pass the scoring parameter \n",
    "# e.g. 'r2' for r-squared, 'neg_mean_squared_error' for mean squared error (negative)\n",
    "scores = cross_val_score(   estimator = LinearRegression(), \n",
    "                            X = X_train, \n",
    "                            y = y_train, \n",
    "                            cv = 2, \n",
    "                            scoring = 'r2',\n",
    "                         )"
   ]
  },
  {
   "cell_type": "code",
   "execution_count": 46,
   "metadata": {},
   "outputs": [
    {
     "name": "stdout",
     "output_type": "stream",
     "text": [
      "All scores:  [0.26950597 0.26298895]\n",
      "\n",
      "Minimum score obtained:  0.263\n",
      "Maximum score obtained:  0.2695\n",
      "Average score obtained:  0.2662\n"
     ]
    }
   ],
   "source": [
    "# print all scores \n",
    "print('All scores: ', scores)  \n",
    "\n",
    "# print the minimum score from the list \n",
    "# use 'round()' to round-off the minimum score upto 4 digits \n",
    "# min() returns minimum score  \n",
    "print(\"\\nMinimum score obtained: \", round(min(scores), 4)) \n",
    "\n",
    "# print the maximum score from the list \n",
    "# use 'round()' to round-off the maximum score upto 4 digits \n",
    "# max() returns maximum score  \n",
    "print(\"Maximum score obtained: \", round(max(scores), 4))  \n",
    "\n",
    "# print the average score from the list \n",
    "# use 'round()' to round-off the average score upto 4 digits \n",
    "# np.mean() returns average score  \n",
    "print(\"Average score obtained: \", round(np.mean(scores), 4))"
   ]
  },
  {
   "cell_type": "markdown",
   "metadata": {
    "collapsed": true
   },
   "source": [
    "<table align=\"left\">\n",
    "    <tr>\n",
    "        <td width=\"6%\">\n",
    "            <img src=\"question_icon.png\">\n",
    "        </td>\n",
    "        <td>\n",
    "            <div align=\"left\", style=\"font-size:120%\">\n",
    "                <font color=\"#21618C\">\n",
    "                    <b>19. Fit the a full model. Validate the model using 5 - fold cross validation</b>\n",
    "                </font>\n",
    "            </div>\n",
    "        </td>\n",
    "    </tr>\n",
    "</table>"
   ]
  },
  {
   "cell_type": "code",
   "execution_count": 47,
   "metadata": {},
   "outputs": [],
   "source": [
    "# n_splits: specify the number of k folds\n",
    "kf = KFold(n_splits = 5)"
   ]
  },
  {
   "cell_type": "code",
   "execution_count": 48,
   "metadata": {},
   "outputs": [
    {
     "name": "stdout",
     "output_type": "stream",
     "text": [
      "All scores:  [0.3025330978340006, 0.2145782726274531, 0.2248655906279018, 0.31626109791391577, 0.2314969913284417]\n",
      "\n",
      "Minimum score obtained:  0.2146\n",
      "Maximum score obtained:  0.3163\n",
      "Average score obtained:  0.2579\n"
     ]
    }
   ],
   "source": [
    "# create an empty list to store the scores\n",
    "scores = []\n",
    "\n",
    "# kf.split() splits the indices of X_train into train_index and test_index\n",
    "# further dividing the X_train and y_train sets into train and test sets for cross validation\n",
    "# Remember: Cross validation works on training set not on test set\n",
    "\n",
    "for train_index, test_index in kf.split(X_train):\n",
    "    X_train_k, X_test_k, y_train_k, y_test_k = X_train.iloc[train_index], X_train.iloc[test_index], \\\n",
    "                                               y_train.iloc[train_index], y_train.iloc[test_index]\n",
    "    # calling the function 'get_scores()' and appending the scores in the list 'scores'\n",
    "    scores.append(get_score(LinearRegression(), X_train_k, X_test_k, y_train_k, y_test_k))\n",
    "    \n",
    "# print all scores \n",
    "print('All scores: ', scores)  \n",
    "\n",
    "# print the minimum score from the list \n",
    "# use 'round()' to round-off the minimum score upto 4 digits \n",
    "# min() returns minimum score  \n",
    "print(\"\\nMinimum score obtained: \", round(min(scores), 4)) \n",
    "\n",
    "# print the maximum score from the list \n",
    "# use 'round()' to round-off the maximum score upto 4 digits \n",
    "# max() returns maximum score  \n",
    "print(\"Maximum score obtained: \", round(max(scores), 4))  \n",
    "\n",
    "# print the average score from the list \n",
    "# use 'round()' to round-off the average score upto 4 digits \n",
    "# np.mean() returns average score  \n",
    "print(\"Average score obtained: \", round(np.mean(scores), 4))"
   ]
  },
  {
   "cell_type": "markdown",
   "metadata": {
    "collapsed": true
   },
   "source": [
    "<table align=\"left\">\n",
    "    <tr>\n",
    "        <td width=\"6%\">\n",
    "            <img src=\"question_icon.png\">\n",
    "        </td>\n",
    "        <td>\n",
    "            <div align=\"left\", style=\"font-size:120%\">\n",
    "                <font color=\"#21618C\">\n",
    "                    <b>20. Fit the a full model. Validate the model using leave one out cross validation</b>\n",
    "                </font>\n",
    "            </div>\n",
    "        </td>\n",
    "    </tr>\n",
    "</table>"
   ]
  },
  {
   "cell_type": "code",
   "execution_count": 49,
   "metadata": {},
   "outputs": [],
   "source": [
    "# copying the original dataset\n",
    "df_wine_copy = df_wine.copy()\n",
    "\n",
    "# set of independent variables\n",
    "# drop the target variable using 'drop()'\n",
    "# 'axis = 1' drops the specified column\n",
    "X = df_wine_copy.drop('quality', axis = 1)\n",
    "\n",
    "# dependent variable\n",
    "y = df_wine_copy['quality']\n",
    "\n",
    "# split data into train subset and test subset\n",
    "# set 'random_state' to generate the same dataset each time you run the code \n",
    "# 'test_size' returns the proportion of data to be included in the testing set\n",
    "X_train, X_test, y_train, y_test = train_test_split(X, y, test_size = 0.30, random_state = 10)"
   ]
  },
  {
   "cell_type": "code",
   "execution_count": 50,
   "metadata": {},
   "outputs": [],
   "source": [
    "# create an empty to store the MSE for each model\n",
    "loocv_rmse = []\n",
    "\n",
    "# instantiate the LOOCV method \n",
    "loocv = LeaveOneOut()\n",
    "\n",
    "# use the for loop to build the regression model for each cross validation \n",
    "# use split() to split the dataset into two subsets; one with (n-1) data points and another with 1 data point\n",
    "# where, n = total number of observations\n",
    "\n",
    "for train_index, test_index in loocv.split(X_train):\n",
    "    # create the train dataset, use iloc[] to retrieve the corresponding observations in train data\n",
    "    # create the test dataset, use iloc[] to retrieve the corresponding observations in test data\n",
    "    X_train_l, X_test_l, y_train_l, y_test_l = X_train.iloc[train_index], X_train.iloc[test_index], \\\n",
    "                                               y_train.iloc[train_index], y_train.iloc[test_index]\n",
    "    \n",
    "    linreg = LinearRegression()\n",
    "    \n",
    "    # fit the OLS model on training dataset\n",
    "    linreg.fit(X_train_l, y_train_l)\n",
    "    \n",
    "    # calculate MSE using test dataset\n",
    "    # use predict() to predict the values of target variable\n",
    "    mse = mean_squared_error(y_test_l, linreg.predict(X_test_l))\n",
    "    # calculate the RMSE\n",
    "    rmse = np.sqrt(mse)\n",
    "    \n",
    "    # use append() to add each RMSE to the list 'loocv_rmse'\n",
    "    loocv_rmse.append(rmse)"
   ]
  },
  {
   "cell_type": "code",
   "execution_count": 51,
   "metadata": {},
   "outputs": [
    {
     "name": "stdout",
     "output_type": "stream",
     "text": [
      "\n",
      "Minimum rmse obtained:  0.0002\n",
      "Maximum rmse obtained:  5.7922\n",
      "Average rmse obtained:  0.5909\n"
     ]
    }
   ],
   "source": [
    "# print the minimum rmse from the list \n",
    "# use 'round()' to round-off the minimum rmse upto 4 digits \n",
    "# min() returns minimum rmse  \n",
    "print(\"\\nMinimum rmse obtained: \", round(min(loocv_rmse), 4))  \n",
    "\n",
    "# print the maximum rmse from the list \n",
    "# use 'round()' to round-off the maximum rmse upto 4 digits \n",
    "# max() returns maximum rmse  \n",
    "print(\"Maximum rmse obtained: \", round(max(loocv_rmse), 4))  \n",
    "\n",
    "# print the average rmse from the list \n",
    "# use 'round()' to round-off the average rmse upto 4 digits \n",
    "# np.mean() returns average rmse  \n",
    "print(\"Average rmse obtained: \", round(np.mean(loocv_rmse), 4))"
   ]
  }
 ],
 "metadata": {
  "kernelspec": {
   "display_name": "Python 3",
   "language": "python",
   "name": "python3"
  },
  "language_info": {
   "codemirror_mode": {
    "name": "ipython",
    "version": 3
   },
   "file_extension": ".py",
   "mimetype": "text/x-python",
   "name": "python",
   "nbconvert_exporter": "python",
   "pygments_lexer": "ipython3",
   "version": "3.8.8"
  }
 },
 "nbformat": 4,
 "nbformat_minor": 2
}
