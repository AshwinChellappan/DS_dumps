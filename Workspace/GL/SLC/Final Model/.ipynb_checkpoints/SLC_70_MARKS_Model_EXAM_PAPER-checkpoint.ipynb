{
 "cells": [
  {
   "cell_type": "markdown",
   "metadata": {},
   "source": [
    "# SLC FINAL EXAM"
   ]
  },
  {
   "cell_type": "markdown",
   "metadata": {},
   "source": [
    "### DATA DESCRIPTION: \n",
    "\n",
    "This data set contains details of a bank's customers and the target variable is a binary variable reflecting the fact whether the customer left the bank (closed his account) or he continues to be a customer. \n",
    "\n",
    " RowNumber: Row Numbers from 1 to 10000 \n",
    "\n",
    " CustomerId: Unique Ids for bank customer identification \n",
    "\n",
    " Surname: Customer's last name \n",
    "\n",
    " CreditScore: Credit score of the customer \n",
    "\n",
    " Geography: The country from which the customer belongs \n",
    "\n",
    " Gender: Male or Female \n",
    "\n",
    " Age: Age of the customer \n",
    "\n",
    " Tenure: Number of years for which the customer has been with the bank \n",
    "\n",
    " Balance: Bank balance of the customer \n",
    "\n",
    " NumOfProducts: Number of bank products the customer is utilising \n",
    "\n",
    " HasCrCard: Binary Flag for whether the customer holds a credit card with the bank or not \n",
    "\n",
    " IsActiveMember: Binary Flag for whether the customer is an active member with the bank or not \n",
    "\n",
    " EstimatedSalary: Estimated salary of the customer in Dollars \n",
    "\n",
    " Exited: Binary flag 1 if the customer closed account with bank and 0 if the customer is retained \n",
    "\n",
    " > Target Column Description: Exited is a class label used to divide into groups (customer closed account or not). \n",
    " "
   ]
  },
  {
   "cell_type": "markdown",
   "metadata": {},
   "source": [
    "### 1.\tRead the dataset (tab, csv, xls, txt, inbuilt dataset)"
   ]
  },
  {
   "cell_type": "code",
   "execution_count": null,
   "metadata": {
    "colab": {},
    "colab_type": "code",
    "id": "0xRueviLlY72"
   },
   "outputs": [],
   "source": [
    "# Kindly change the below cells from markdown to code and execute it "
   ]
  },
  {
   "cell_type": "markdown",
   "metadata": {
    "colab_type": "text",
    "id": "O_tINAIolY77"
   },
   "source": [
    "import csv\n",
    "\n",
    "with open(\"data_set.csv\",\"r\")as file:\n",
    "    \n",
    "    reader=csv.reader(file)\n",
    "    \n",
    "df=pd.read_csv(\"data_set.csv\")\n",
    "\n",
    "df.head()\n"
   ]
  },
  {
   "cell_type": "code",
   "execution_count": null,
   "metadata": {},
   "outputs": [],
   "source": []
  },
  {
   "cell_type": "markdown",
   "metadata": {},
   "source": [
    "### 2.\tSummarize important observations from the data set (5 Marks)\n",
    "\n",
    "Some pointers which would help you, but don’t be limited by these\n",
    "\n",
    "a.\tFind out number of rows; no. & types of variables (continuous, categorical etc.)\n",
    "\n",
    "b.\tCalculate five-point summary for numerical variables\n",
    "\n",
    "c.\tSummarize observations for categorical variables – no. of categories, % observations in each category\n"
   ]
  },
  {
   "cell_type": "code",
   "execution_count": null,
   "metadata": {},
   "outputs": [],
   "source": []
  },
  {
   "cell_type": "markdown",
   "metadata": {},
   "source": [
    "### 3.\tCheck for defects in the data. Perform necessary actions to ‘fix’ these defects (5 Marks)\n",
    "\n",
    "Some pointers which would help you, but don’t be limited by these\n",
    "\n",
    "a.\tDo variables have missing/null values?\n",
    "\n",
    "b.\tDo variables have outliers?\n",
    "\n",
    "c.\tIs the Target distributed evenly? Is it a defect? If Yes, what steps are being taken to rectify the problem. \n"
   ]
  },
  {
   "cell_type": "code",
   "execution_count": null,
   "metadata": {},
   "outputs": [],
   "source": []
  },
  {
   "cell_type": "markdown",
   "metadata": {},
   "source": [
    "### 4.\tSummarize relationships among variables (10 marks)               \n",
    "a.\tPlot relevant categorical plots. Find out which are the variables most correlated or appear to be in causation with Target? Do you want to exclude some variables from the model based on this analysis? What other actions will you take?\n",
    "\n",
    "\n",
    "b.\tPlot all independent variables with the target & find out the relationship? Perform the Relevant Tests to find out if the Independent variables are associated with the Target Variable.\n",
    "\n",
    " Hint: based on your observations you may want to transform features or create additional features.\n"
   ]
  },
  {
   "cell_type": "code",
   "execution_count": null,
   "metadata": {},
   "outputs": [],
   "source": []
  },
  {
   "cell_type": "markdown",
   "metadata": {
    "_uuid": "9f29fa3003e7fc145f7d89c614446b2afafb3ccb"
   },
   "source": [
    "### 5.\tSplit dataset into train and test (70:30) (5 marks)\n",
    "a.\tAre both train and test representative of the overall data? How would you ascertain this statistically?\n"
   ]
  },
  {
   "cell_type": "code",
   "execution_count": null,
   "metadata": {},
   "outputs": [],
   "source": []
  },
  {
   "cell_type": "markdown",
   "metadata": {
    "_uuid": "2fcd4a30b10e5bf2f390190e6f3ac1c86ebc43b0"
   },
   "source": [
    "### 6.\tFit a base model and explain the reason of selecting that model. Please write your key observations (15 marks) \n",
    "\n",
    "a.\tWhat is the overall Accuracy? Please comment on whether it is good or not. \n",
    "\n",
    "b.\tWhat is Precision, Recall and F1 Score and what will be the optimization objective keeping in mind the problem statement.\n",
    "\n",
    "c.\tWhich variables are significant?\n",
    "\n",
    "d.\tWhat is Cohen’s Kappa Value and what inference do you make from the model\n",
    "e.\tWhich other key model output parameters do you want to look at? \n"
   ]
  },
  {
   "cell_type": "code",
   "execution_count": null,
   "metadata": {},
   "outputs": [],
   "source": []
  },
  {
   "cell_type": "markdown",
   "metadata": {
    "_uuid": "1d74e48a7d887524399923f72b0d138c53e6f791"
   },
   "source": [
    "### 7.\tHow do you improve overall efficiency of the model? Write clearly the changes that you will make before re-fitting the model. Fit the final model. (20 marks)\n",
    "Please feel free to have any number of iterations to get to the final answer. Marks are awarded based on the quality of final model you are able to achieve. \n"
   ]
  },
  {
   "cell_type": "code",
   "execution_count": null,
   "metadata": {},
   "outputs": [],
   "source": []
  },
  {
   "cell_type": "markdown",
   "metadata": {},
   "source": [
    "### 8.\tSummarize as follows (10 marks) \n",
    "\n",
    "1.\tSummarize the overall fit of the model and list down the measures to prove that it is a good model\n",
    "\n",
    "2.\tWrite down a business interpretation/explanation of the model – which variables are affecting the target the most and explain the relationship. Feel free to use charts or graphs to explain.\n",
    "\n",
    "3.\tWhat changes from the base model had the most effect on model performance?\n",
    "\n",
    "4.\tWhat are the key risks to your results and interpretation?\n"
   ]
  },
  {
   "cell_type": "code",
   "execution_count": null,
   "metadata": {},
   "outputs": [],
   "source": []
  }
 ],
 "metadata": {
  "kernelspec": {
   "display_name": "Python 3",
   "language": "python",
   "name": "python3"
  },
  "language_info": {
   "codemirror_mode": {
    "name": "ipython",
    "version": 3
   },
   "file_extension": ".py",
   "mimetype": "text/x-python",
   "name": "python",
   "nbconvert_exporter": "python",
   "pygments_lexer": "ipython3",
   "version": "3.7.3"
  }
 },
 "nbformat": 4,
 "nbformat_minor": 4
}
