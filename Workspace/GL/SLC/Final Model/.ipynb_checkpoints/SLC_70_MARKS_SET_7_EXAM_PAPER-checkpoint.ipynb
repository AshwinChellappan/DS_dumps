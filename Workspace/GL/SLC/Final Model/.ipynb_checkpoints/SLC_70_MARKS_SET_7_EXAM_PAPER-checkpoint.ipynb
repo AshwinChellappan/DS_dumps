{
 "cells": [
  {
   "cell_type": "markdown",
   "metadata": {
    "id": "Ng7pAjo0fLku"
   },
   "source": [
    "# SLC FINAL EXAM"
   ]
  },
  {
   "cell_type": "markdown",
   "metadata": {
    "id": "So_VuQfXfLku"
   },
   "source": [
    "### DATA DESCRIPTION: \n",
    "\n",
    "The data is related with direct marketing campaigns of a Portuguese banking institution. The marketing campaigns were based on phone calls. Often, more than one contact to the same client was required, in order to access if the product (bank term deposit) would be ('yes') or not ('no') subscribed. \n",
    " \n",
    "### ATTRIBUTE INFORMATION: \n",
    "\n",
    "1. age: (numeric) \n",
    "2. job :  Type of job (categorical: 'admin.','bluecollar','entrepreneur','housemaid','management','retired','selfemployed','services','student','technician','unemployed','unknown') \n",
    "3. marital : marital status (categorical: 'divorced',' married',' single',' unknown'; note: 'divorced' means divorced or widowed) \n",
    "4. education:  (categorical: 'basic.4y','basic.6y','basic.9y','high.school','illiterate','professional.course','university.degr ee','unknown') \n",
    "\n",
    "5. default:  has credit in default? (categorical: 'no', 'yes',' unknown') \n",
    "\n",
    "6. housing: has housing loan? (categorical: 'no', 'yes', 'unknown') \n",
    "7. loan: has personal loan? (categorical: 'no', 'yes', 'unknown') \n",
    "8. contact: contact communication type (categorical: 'cellular', 'telephone') \n",
    "\n",
    "9. month: last contact month of year (categorical: 'jan', 'feb', 'mar', ..., 'nov', 'dec') \n",
    "\n",
    "10. day_of_week: last contact day of the week (categorical: 'mon','tue','wed','thu','fri') \n",
    "\n",
    "11. duration: last contact duration, in seconds (numeric). Important note this attribute highly affects the output target (e.g., if duration=0 then y='no'). Yet, the duration is not known before a call is performed. Also, after the end of the call y is obviously known. Thus, this input should only be included for benchmark purposes and should be discarded if the intention is to have a realistic predictive model. \n",
    "12. campaign: number of contacts performed during this campaign and for this client (numeric, includes last contact) \n",
    "\n",
    "13. pdays: number of days that passed by after the client was last contacted from a previous campaign (numeric; 999 means client was not previously contacted) \n",
    "\n",
    "14. previous:  number of contacts performed before this campaign and for this client (numeric) \n",
    "\n",
    "15. poutcome: outcome of the previous marketing campaign (categorical: 'failure','nonexistent','success') \n",
    "\n",
    "16. emp.var.rat e: employment variation rate - quarterly indicator (numeric) \n",
    "\n",
    "17. cons.price.i dx: consumer price index - monthly indicator (numeric) 18. cons.conf.id:  consumer confidence index - monthly indicator (numeric) \n",
    "19. euribor3m  euribor 3 month rate - daily indicator (numeric) \n",
    "20. nr.employe d:  number of employees - quarterly indicator (numeric) 21. y:  has the client subscribed a term deposit? (binary: 'yes','no') \n",
    "\n",
    "\n",
    "\n",
    "\n",
    "\n"
   ]
  },
  {
   "cell_type": "markdown",
   "metadata": {
    "id": "Yb6qJg4xfLkv"
   },
   "source": [
    "### 1.\tRead the dataset (tab, csv, xls, txt, inbuilt dataset)"
   ]
  },
  {
   "cell_type": "code",
   "execution_count": null,
   "metadata": {
    "id": "0xRueviLlY72"
   },
   "outputs": [],
   "source": [
    "# Kindly change the below cells from markdown to code and execute it "
   ]
  },
  {
   "cell_type": "markdown",
   "metadata": {
    "id": "O_tINAIolY77"
   },
   "source": [
    "import csv\n",
    "\n",
    "with open(\"data_set.csv\",\"r\")as file:\n",
    "    \n",
    "    reader=csv.reader(file)\n",
    "    \n",
    "df=pd.read_csv(\"data_set.csv\")\n",
    "\n",
    "df.head()\n"
   ]
  },
  {
   "cell_type": "code",
   "execution_count": null,
   "metadata": {
    "id": "4ojhToypfLkw"
   },
   "outputs": [],
   "source": [
    ""
   ]
  },
  {
   "cell_type": "markdown",
   "metadata": {
    "id": "7sdYDOOYfLkx"
   },
   "source": [
    "### 2.\tSummarize important observations from the data set (5 Marks)\n",
    "\n",
    "Some pointers which would help you, but don’t be limited by these\n",
    "\n",
    "a.\tFind out number of rows; no. & types of variables (continuous, categorical etc.) (1 Mark)\n",
    "\n",
    "b.\tCalculate five-point summary for numerical variables(2 Marks)\n",
    "\n",
    "c.\tSummarize observations for categorical variables – no. of categories, % observations in each category(2 Marks)\n"
   ]
  },
  {
   "cell_type": "code",
   "execution_count": null,
   "metadata": {
    "id": "pd2S7x4IfLkx"
   },
   "outputs": [],
   "source": [
    ""
   ]
  },
  {
   "cell_type": "markdown",
   "metadata": {
    "id": "9UC420VwfLkx"
   },
   "source": [
    "### 3.\tCheck for defects in the data. Perform necessary actions to ‘fix’ these defects (5 Marks)\n",
    "\n",
    "Some pointers which would help you, but don’t be limited by these\n",
    "\n",
    "a.\tDo variables have missing/null values?(2 Marks)\n",
    "\n",
    "b.\tDo variables have outliers?(2 Marks)\n",
    "\n",
    "c.\tIs the Target distributed evenly? Is it a defect? If Yes, what steps are being taken to rectify the problem. (1 Marks)\n"
   ]
  },
  {
   "cell_type": "code",
   "execution_count": null,
   "metadata": {
    "id": "5iIMRGogfLky"
   },
   "outputs": [],
   "source": [
    ""
   ]
  },
  {
   "cell_type": "markdown",
   "metadata": {
    "id": "0IL_zN7gfLky"
   },
   "source": [
    "### 4.\tSummarize relationships among variables (10 marks)               \n",
    "a.\tPlot relevant categorical plots. Find out which are the variables most correlated or appear to be in causation with Target? Do you want to exclude some variables from the model based on this analysis? What other actions will you take?(5 Marks)\n",
    "\n",
    "\n",
    "b.\tPlot all independent variables with the target & find out the relationship? Perform the Relevant Tests to find out if the Independent variables are associated with the Target Variable.(5 Marks)\n",
    "\n",
    " Hint: based on your observations you may want to transform features or create additional features.\n"
   ]
  },
  {
   "cell_type": "code",
   "execution_count": null,
   "metadata": {
    "id": "WS20M5sdfLky"
   },
   "outputs": [],
   "source": [
    ""
   ]
  },
  {
   "cell_type": "markdown",
   "metadata": {
    "_uuid": "9f29fa3003e7fc145f7d89c614446b2afafb3ccb",
    "id": "DBpPguk0fLky"
   },
   "source": [
    "### 5.\tSplit dataset into train and test (70:30) (5 marks)\n",
    "a.\tAre both train and test representative of the overall data? How would you ascertain this statistically?\n"
   ]
  },
  {
   "cell_type": "code",
   "execution_count": null,
   "metadata": {
    "id": "ihkq8mV2fLkz"
   },
   "outputs": [],
   "source": [
    ""
   ]
  },
  {
   "cell_type": "markdown",
   "metadata": {
    "_uuid": "2fcd4a30b10e5bf2f390190e6f3ac1c86ebc43b0",
    "id": "pipW1ppgfLkz"
   },
   "source": [
    "### 6.\tFit a base model and explain the reason of selecting that model. Please write your key observations (15 marks) \n",
    "\n",
    "a.\tWhat is the overall Accuracy? Please comment on whether it is good or not.(3 Marks) \n",
    "\n",
    "b.\tWhat is Precision, Recall and F1 Score and what will be the optimization objective keeping in mind the problem statement.(3 Marks)\n",
    "\n",
    "c.\tWhich variables are significant?(3 Marks)\n",
    "\n",
    "d.\tWhat is Cohen’s Kappa Value and what inference do you make from the model(3 Marks)\n",
    "\n",
    "e.\tWhich other key model output parameters do you want to look at? (3 Marks)\n"
   ]
  },
  {
   "cell_type": "code",
   "execution_count": null,
   "metadata": {
    "id": "NX-p6bjVfLkz"
   },
   "outputs": [],
   "source": [
    ""
   ]
  },
  {
   "cell_type": "markdown",
   "metadata": {
    "_uuid": "1d74e48a7d887524399923f72b0d138c53e6f791",
    "id": "VCHNCnjJfLkz"
   },
   "source": [
    "### 7.\tHow do you improve overall efficiency of the model? Write clearly the changes that you will make before re-fitting the model. Fit the final model. (20 marks)\n",
    "Please feel free to have any number of iterations to get to the final answer. Marks are awarded based on the quality of final model you are able to achieve. \n"
   ]
  },
  {
   "cell_type": "code",
   "execution_count": null,
   "metadata": {
    "id": "4fIP8152fLkz"
   },
   "outputs": [],
   "source": [
    ""
   ]
  },
  {
   "cell_type": "markdown",
   "metadata": {
    "id": "ooJJEqdUfLk0"
   },
   "source": [
    "### 8.\tSummarize as follows (10 marks) \n",
    "\n",
    "1.\tSummarize the overall fit of the model and list down the measures to prove that it is a good model(3 Marks)\n",
    "\n",
    "2.\tWrite down a business interpretation/explanation of the model – which variables are affecting the target the most and explain the relationship. Feel free to use charts or graphs to explain.(3 Marks)\n",
    "\n",
    "3.\tWhat changes from the base model had the most effect on model performance?(2 Marks)\n",
    "\n",
    "4.\tWhat are the key risks to your results and interpretation?(2 Marks)\n"
   ]
  },
  {
   "cell_type": "code",
   "execution_count": null,
   "metadata": {
    "id": "WNC5SwLafLk0"
   },
   "outputs": [],
   "source": [
    ""
   ]
  }
 ],
 "metadata": {
  "colab": {
   "collapsed_sections": [],
   "name": "SLC_70_MARKS_SET_7_EXAM_PAPER.ipynb",
   "provenance": []
  },
  "kernelspec": {
   "display_name": "Python 3",
   "language": "python",
   "name": "python3"
  },
  "language_info": {
   "codemirror_mode": {
    "name": "ipython",
    "version": 3
   },
   "file_extension": ".py",
   "mimetype": "text/x-python",
   "name": "python",
   "nbconvert_exporter": "python",
   "pygments_lexer": "ipython3",
   "version": "3.7.3"
  }
 },
 "nbformat": 4,
 "nbformat_minor": 0
}
