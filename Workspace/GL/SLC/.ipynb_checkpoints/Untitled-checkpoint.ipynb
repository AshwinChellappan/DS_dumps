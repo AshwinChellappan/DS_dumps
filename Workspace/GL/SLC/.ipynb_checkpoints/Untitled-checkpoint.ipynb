{
 "cells": [
  {
   "cell_type": "code",
   "execution_count": 45,
   "metadata": {},
   "outputs": [],
   "source": [
    "import numpy as np\n",
    "import matplotlib.pyplot as plt\n",
    "import pandas as pd\n",
    "import scikitplot as skplt"
   ]
  },
  {
   "cell_type": "code",
   "execution_count": null,
   "metadata": {},
   "outputs": [],
   "source": [
    "##--------------------Logistic Regression-----------"
   ]
  },
  {
   "cell_type": "code",
   "execution_count": 7,
   "metadata": {},
   "outputs": [],
   "source": [
    "from sklearn.datasets import load_breast_cancer\n",
    "dataset=load_breast_cancer()"
   ]
  },
  {
   "cell_type": "code",
   "execution_count": 8,
   "metadata": {},
   "outputs": [],
   "source": [
    "X=dataset.data\n",
    "y=dataset.target"
   ]
  },
  {
   "cell_type": "code",
   "execution_count": null,
   "metadata": {},
   "outputs": [],
   "source": [
    "#Scaling -- result in Dataleakage"
   ]
  },
  {
   "cell_type": "code",
   "execution_count": 12,
   "metadata": {},
   "outputs": [],
   "source": [
    "from sklearn.model_selection import train_test_split\n",
    "x_train,x_test,y_train,y_test=train_test_split(X,y)"
   ]
  },
  {
   "cell_type": "code",
   "execution_count": 23,
   "metadata": {},
   "outputs": [],
   "source": [
    "#Scaling ---No problem\n",
    "from sklearn.preprocessing import StandardScaler\n",
    "sc=StandardScaler()\n",
    "x_train=sc.fit_transform(x_train) # Fit transform create a copy"
   ]
  },
  {
   "cell_type": "code",
   "execution_count": 24,
   "metadata": {},
   "outputs": [
    {
     "data": {
      "text/plain": [
       "LogisticRegression(max_iter=1000, solver='saga')"
      ]
     },
     "execution_count": 24,
     "metadata": {},
     "output_type": "execute_result"
    }
   ],
   "source": [
    "# Logistic Regression\n",
    "from sklearn.linear_model import LogisticRegression\n",
    "log_reg=LogisticRegression(solver='saga',max_iter=1000)\n",
    "log_reg.fit(x_train,y_train)\n",
    "#Logistic Regression get best of coefficient"
   ]
  },
  {
   "cell_type": "code",
   "execution_count": 26,
   "metadata": {},
   "outputs": [
    {
     "data": {
      "text/plain": [
       "array([0.99295775, 0.96478873, 0.97887324])"
      ]
     },
     "execution_count": 26,
     "metadata": {},
     "output_type": "execute_result"
    }
   ],
   "source": [
    "#K-Fold for checking sampling bias\n",
    "#This function go on for 3 times and aggregate the best\n",
    "from sklearn.model_selection import cross_val_score\n",
    "cross_val_score(log_reg,x_train,y_train,cv=3) #No possible for sampling bias ,this gives accuracy \n",
    "# Eg: 74,75,73,77,71 ,Here sampling bias possible"
   ]
  },
  {
   "cell_type": "code",
   "execution_count": 29,
   "metadata": {},
   "outputs": [
    {
     "data": {
      "text/plain": [
       "array([1, 1, 1, 1, 1, 0, 0, 1, 0, 0, 0, 0, 1, 1, 0, 1, 1, 1, 1, 0, 1, 0,\n",
       "       1, 1, 1, 1, 1, 0, 1, 0, 1, 1, 0, 0, 1, 0, 1, 0, 1, 0, 0, 1, 1, 1,\n",
       "       1, 1, 1, 0, 1, 0, 1, 0, 0, 1, 1, 1, 0, 1, 1, 1, 1, 1, 1, 1, 1, 1,\n",
       "       1, 1, 1, 1, 0, 1, 1, 1, 1, 1, 1, 1, 0, 1, 1, 1, 0, 1, 1, 1, 1, 1,\n",
       "       1, 0, 0, 0, 1, 0, 1, 0, 0, 0, 1, 1, 0, 1, 1, 1, 1, 1, 1, 0, 1, 1,\n",
       "       1, 1, 0, 0, 1, 0, 0, 1, 0, 1, 0, 0, 1, 1, 0, 0, 1, 1, 1, 0, 1, 0,\n",
       "       1, 1, 0, 0, 1, 1, 1, 0, 1, 1, 1, 1, 1, 0, 1, 1, 0, 0, 1, 0, 1, 0,\n",
       "       1, 1, 1, 1, 1, 1, 0, 1, 0, 1, 0, 1, 0, 0, 1, 0, 0, 0, 1, 0, 0, 1,\n",
       "       0, 1, 0, 1, 1, 0, 1, 0, 0, 1, 0, 0, 1, 1, 0, 0, 1, 0, 1, 1, 0, 0,\n",
       "       0, 1, 1, 1, 1, 1, 0, 1, 1, 1, 1, 1, 1, 1, 0, 1, 0, 0, 1, 1, 1, 1,\n",
       "       1, 1, 1, 1, 1, 1, 1, 1, 1, 1, 0, 0, 1, 0, 1, 1, 0, 1, 0, 1, 0, 1,\n",
       "       0, 1, 0, 1, 1, 1, 1, 0, 0, 0, 1, 0, 1, 1, 0, 0, 0, 0, 1, 0, 1, 1,\n",
       "       1, 1, 0, 0, 1, 0, 1, 0, 1, 0, 1, 0, 0, 1, 1, 1, 1, 0, 0, 1, 0, 1,\n",
       "       0, 1, 1, 1, 0, 1, 0, 1, 1, 0, 1, 0, 0, 0, 0, 1, 1, 1, 1, 1, 1, 0,\n",
       "       1, 1, 1, 0, 0, 1, 1, 1, 0, 1, 1, 1, 1, 1, 1, 1, 1, 0, 1, 0, 1, 1,\n",
       "       0, 1, 1, 0, 0, 1, 1, 0, 0, 0, 1, 0, 0, 1, 1, 0, 1, 1, 1, 1, 1, 1,\n",
       "       1, 0, 1, 1, 1, 1, 1, 1, 1, 1, 1, 0, 1, 0, 0, 1, 1, 0, 0, 1, 0, 0,\n",
       "       0, 1, 0, 0, 0, 0, 1, 0, 1, 0, 1, 0, 1, 1, 1, 1, 0, 1, 0, 0, 0, 0,\n",
       "       0, 0, 1, 1, 1, 1, 1, 1, 1, 0, 1, 1, 1, 1, 1, 1, 1, 1, 0, 1, 1, 1,\n",
       "       0, 1, 0, 0, 1, 0, 1, 1])"
      ]
     },
     "execution_count": 29,
     "metadata": {},
     "output_type": "execute_result"
    }
   ],
   "source": [
    "from sklearn.model_selection import cross_val_predict\n",
    "y_pred=cross_val_predict(log_reg,x_train,y_train,cv=3)\n",
    "y_pred # Gives prediction values"
   ]
  },
  {
   "cell_type": "code",
   "execution_count": 36,
   "metadata": {},
   "outputs": [
    {
     "data": {
      "text/plain": [
       "array([[156,   6],\n",
       "       [  3, 261]], dtype=int64)"
      ]
     },
     "execution_count": 36,
     "metadata": {},
     "output_type": "execute_result"
    }
   ],
   "source": [
    "from sklearn.metrics import accuracy_score,precision_score,confusion_matrix,recall_score,f1_score\n",
    "accuracy_score(y_train,y_pred) #0.9788732394366197\n",
    "precision_score(y_train,y_pred)#0.9775280898876404\n",
    "recall_score(y_train,y_pred)#0.9886363636363636\n",
    "f1_score(y_train,y_pred)#0.983050847457627\n",
    "cm=confusion_matrix(y_train,y_pred)\n",
    "cm\n",
    "# 6-FN- people having cancer and telling as not cancer\n",
    "# 3-FP- "
   ]
  },
  {
   "cell_type": "code",
   "execution_count": 39,
   "metadata": {},
   "outputs": [
    {
     "data": {
      "text/plain": [
       "<AxesSubplot:title={'center':'Confusion Matrix'}, xlabel='Predicted label', ylabel='True label'>"
      ]
     },
     "execution_count": 39,
     "metadata": {},
     "output_type": "execute_result"
    },
    {
     "data": {
      "image/png": "[encoded data removed]",
      "text/plain": [
       "<Figure size 432x288 with 2 Axes>"
      ]
     },
     "metadata": {
      "needs_background": "light"
     },
     "output_type": "display_data"
    }
   ],
   "source": [
    "skplt.metrics.plot_confusion_matrix(y_train,y_pred)"
   ]
  },
  {
   "cell_type": "code",
   "execution_count": 40,
   "metadata": {},
   "outputs": [
    {
     "data": {
      "text/plain": [
       "array([  9.23105972,  13.67127886,   3.14799024,   3.60825216,\n",
       "        11.81004351, -17.36956035, -20.53063552,   8.546831  ,\n",
       "        -1.54802739,  -8.69616336, -12.43030381,  -3.44267806,\n",
       "         9.323839  ,   2.10171707, -10.7151033 ,   9.10578572,\n",
       "         1.36375876,   7.22649931,   3.88287227,  -7.25103968,\n",
       "         6.03710619, -12.55122215,   9.0816017 ,   6.79753941,\n",
       "         9.57188742,   9.31151756,   3.28725284,  -9.26081098,\n",
       "         5.28068844, -16.71175617,   6.80129622,   7.60218224,\n",
       "        -2.53167957, -11.62544986,   8.79597946,  -4.99875568,\n",
       "         7.55862492, -23.91475892,   3.26838277,  -4.47510302,\n",
       "       -17.68848437,   7.72233477,   5.45056101,  11.46551436,\n",
       "         6.55432011,   3.95551761,   4.47677384, -11.79812808,\n",
       "         6.63842627, -14.5349637 ,   7.11496901,  -0.5737585 ,\n",
       "        -0.45456847,   4.86202362,   5.63507795,   4.39650424,\n",
       "       -10.56473227,   3.03041963,   7.58718452,   3.72357691,\n",
       "        10.13674253,  10.69458355,   9.74092381,   7.83009002,\n",
       "         6.80613652,   2.05927175,   2.31736124,   6.28363775,\n",
       "        10.2751322 ,   0.12433048,  -8.53702204,   4.48759717,\n",
       "         5.16082388,   9.94459544,   8.65686116,   5.30955887,\n",
       "         2.87762819,   4.17243507,  -6.18469985,   4.90691852,\n",
       "         3.87916812,   9.19386417,  -4.13340018,   2.92320465,\n",
       "         5.85068243,   1.85149989,   3.77470922,   4.15516222,\n",
       "        10.7068563 , -11.37477186,  -0.04762611, -12.94859386,\n",
       "         7.35938916,  -6.42335908,   3.92517873,  -7.15109673,\n",
       "        -5.39804181,  -9.75860977,   1.5727005 ,   6.20054991,\n",
       "        -2.85020395,   8.02205481,   8.79505311,   9.22027877,\n",
       "         9.03489754,   2.14623314,   6.69246606,  -2.17266636,\n",
       "         3.49595853,   2.25254936,   9.63718723,  14.06468487,\n",
       "        -0.4367236 , -12.82880364,   0.78069126,  -6.16684267,\n",
       "       -11.204023  ,   1.17237471,  -1.54985061,  11.07041376,\n",
       "        -1.4551214 ,  -6.78634749,   2.87358554,  10.09498862,\n",
       "       -15.95199724, -13.07003523,   8.37222979,   1.90972844,\n",
       "         2.2670975 ,  -4.10529336,   7.93240161,  -5.51294196,\n",
       "         4.20584147,   5.33369888, -12.67353618, -16.69667   ,\n",
       "         6.6766225 ,   2.96970271,   4.39046364, -12.80469886,\n",
       "         3.64023574,   7.24168452,   7.59475298,   4.50249647,\n",
       "         8.98840365, -15.28310356,   6.75493231,   4.31609592,\n",
       "       -16.67861706, -13.36548413,   4.11228637, -15.87607013,\n",
       "         6.25915567,  -5.84633052,   9.26291416,   9.50789537,\n",
       "         1.51762213,   4.11666142,   4.59302527,   3.34769645,\n",
       "        -9.32365836,  11.41268664, -15.92659933,   5.78374948,\n",
       "        -2.6208424 ,   6.0831059 ,  -0.08807719, -11.17962916,\n",
       "         9.26459347, -10.18601094,  -2.58661317,  -1.98098966,\n",
       "         7.78709798,  -1.27046498, -15.88980016,   9.75823363,\n",
       "        -5.96194492,   9.14968502,  -9.03206474,   3.57363517,\n",
       "         2.7421438 ,  -5.64866845,   5.45151045,  -7.6446344 ,\n",
       "        -7.89621396,  12.27637578,  -4.35834744,  -3.16280373,\n",
       "         8.49407325,  10.59584459,  -9.83239938, -22.21455955,\n",
       "         3.69570959, -20.4493151 ,  11.23592449,  10.38312527,\n",
       "       -15.11705347, -20.87835445,  -0.33446919,  16.1278138 ,\n",
       "         9.77510468,   6.08465854,  14.72781608,  10.48302221,\n",
       "        -7.34483544,   4.54404777,   6.34636628,   7.21744324,\n",
       "         7.59671833,   4.48497281,   1.74334312,   5.1825502 ,\n",
       "       -15.07527553,   1.50489087,  -9.25324094, -14.18746865,\n",
       "         0.76610831,   1.09835423,   7.74947677,   6.04398914,\n",
       "         9.6582674 ,   1.17776689,   4.89190112,   6.49581846,\n",
       "         7.14744673,   5.02237412,  11.51174621,  10.70737162,\n",
       "         2.5606317 ,   5.52118584, -10.33751118, -17.20255702,\n",
       "         5.45695492,  -1.01160314,   2.13756943,   6.33558612,\n",
       "       -10.44336508,   8.92675836, -22.97761632,  14.21320012,\n",
       "        -7.03990761,   9.94967449, -19.06386846,   5.94664295,\n",
       "       -16.03243347,   1.15807897,   5.34140249,   0.19456337,\n",
       "        12.11714361,  -5.63534065,  -3.18280581, -14.72920864,\n",
       "         6.09359561, -13.94601482,   6.43440204,   1.09766333,\n",
       "       -13.15662132, -10.73025858, -14.5761836 ,  -7.45475608,\n",
       "         7.09224199,  -5.32649291,   4.90685572,   2.65344775,\n",
       "        12.32517827,   2.89052491,  -8.52673052,  -8.03591022,\n",
       "         8.7776721 , -26.94645048,   2.14583105, -26.76608911,\n",
       "         8.13520298,  -5.96533288,   4.79891226,  -8.27891224,\n",
       "        -5.6329596 ,   8.0761953 ,   6.33778873,   3.70950123,\n",
       "         8.77839247,  -8.41492232,  -1.30817977,   2.27438396,\n",
       "       -14.8792978 ,   5.08913873,  -4.62418311,   5.46195218,\n",
       "         3.8771813 ,   8.52956791, -16.7660698 ,  10.13786983,\n",
       "        -5.33549344,   1.62055712,   4.44943203, -15.61240543,\n",
       "         7.67063119, -26.52538724,  -2.71553705,  -6.58362711,\n",
       "        -5.94134534,   2.42755517,   8.41950807,   6.56688425,\n",
       "         9.68880596,   8.16067969,   7.18214225,  -5.16696604,\n",
       "         2.49005124,   6.39158751,   4.93681236, -12.78016702,\n",
       "        -2.43462988,   8.50022639,   2.40132401,   6.75133699,\n",
       "       -22.75472624,   0.52546631,   9.58771549,  10.64397925,\n",
       "         4.67524503,   2.78551632,   7.21068922,   9.70319541,\n",
       "         1.50245589, -16.6666729 ,   4.36983753,  -5.39177323,\n",
       "         2.07817511,   5.09033721,  -1.95064086,   5.86715169,\n",
       "         4.89003538,  -4.07810658,  -3.18867944,  11.06750355,\n",
       "         4.44550748, -26.68492198,  -8.06167244,  -7.30395925,\n",
       "         6.62032282,  -5.75676976,  -4.67593787,   6.66343707,\n",
       "         3.59405201,  -5.25578105,   4.57721991,   8.02636625,\n",
       "         9.81556211,   9.41364685,   5.44689609,   9.50875059,\n",
       "         1.97285798,  -8.36119893,   6.60228478,   5.41497142,\n",
       "         6.7855945 ,  15.00157813,   9.92680473,   8.09437472,\n",
       "         6.29685462,   9.80783501,   3.61681214, -10.30684695,\n",
       "         4.05884892, -23.10704771,  -2.05537062,   4.48329361,\n",
       "         7.57704993,  -4.41178901,  -8.60724213,   5.81333448,\n",
       "       -16.91080279, -11.86462669,  -9.10235082,   0.88495145,\n",
       "        -1.22188791,  -3.80057305,  -6.9001333 , -12.95996935,\n",
       "         0.79500454,  -9.75438695,   4.74774116, -23.18801302,\n",
       "         0.90716286,  -7.78643076,   6.70920603,   8.92681624,\n",
       "         7.18596155,   5.25516917,  -8.93921384,   6.30058362,\n",
       "        -0.50707965,  -9.43702438, -11.5342952 , -13.44732768,\n",
       "        -7.40461918,  -5.97786286,   6.80392236,   6.05140565,\n",
       "         2.08928583,   9.15562252,   7.78982087,   6.28873864,\n",
       "         2.02858578,  -6.49492107,   9.21737825,   7.0253237 ,\n",
       "         5.04699949,   7.35559299,   8.39636203,  11.48884675,\n",
       "         6.90105663,  11.21468071,  -5.34784624,   9.9291911 ,\n",
       "         4.95503976,  11.37586639, -12.09425029,   8.15425007,\n",
       "        -8.38593552,  -5.13318814,   2.26813842, -14.97605458,\n",
       "         1.58290857,  11.25269152])"
      ]
     },
     "execution_count": 40,
     "metadata": {},
     "output_type": "execute_result"
    }
   ],
   "source": [
    "#ROC , AUC Score\n",
    "y_scores=cross_val_predict(log_reg,x_train,y_train,cv=3,method='decision_function')\n",
    "y_scores #log of odds ration called as logit (-in ti + in)"
   ]
  },
  {
   "cell_type": "code",
   "execution_count": 51,
   "metadata": {},
   "outputs": [
    {
     "data": {
      "image/png": "[encoded data removed]",
      "text/plain": [
       "<Figure size 432x288 with 1 Axes>"
      ]
     },
     "metadata": {
      "needs_background": "light"
     },
     "output_type": "display_data"
    }
   ],
   "source": [
    "from sklearn.metrics import precision_recall_curve,roc_curve,roc_auc_score\n",
    "precision,recall,threshold=precision_recall_curve(y_train,y_scores)\n",
    "plt.plot(threshold,precision[:-1],c='r',label='Precision')\n",
    "plt.plot(threshold,recall[:-1],c='g',label='Recall')\n",
    "plt.legend()\n",
    "plt.xlabel('Threshold')\n",
    "plt.ylabel('Precision & Recall')\n",
    "plt.title('Precision Recall Curve')\n",
    "plt.show()"
   ]
  },
  {
   "cell_type": "code",
   "execution_count": 54,
   "metadata": {},
   "outputs": [
    {
     "data": {
      "image/png": "[encoded data removed]",
      "text/plain": [
       "<Figure size 432x288 with 1 Axes>"
      ]
     },
     "metadata": {
      "needs_background": "light"
     },
     "output_type": "display_data"
    }
   ],
   "source": [
    "plt.plot(recall[: -1],precision[:-1],c='r',label='Precision')\n",
    "plt.legend()\n",
    "plt.xlabel('Recall')\n",
    "plt.ylabel('Precision ')\n",
    "plt.title('Precision Vs Recall')\n",
    "plt.show()\n",
    "\n",
    "# best point 0.8 where Precision and Recall high"
   ]
  },
  {
   "cell_type": "code",
   "execution_count": 61,
   "metadata": {},
   "outputs": [
    {
     "data": {
      "image/png": "[encoded data removed]",
      "text/plain": [
       "<Figure size 432x288 with 1 Axes>"
      ]
     },
     "metadata": {
      "needs_background": "light"
     },
     "output_type": "display_data"
    }
   ],
   "source": [
    "fpr,tpr,th=roc_curve(y_train,y_scores)\n",
    "plt.plot([0,1],[0,1],'k--')\n",
    "plt.xlabel('False Positivity Rate (1- Specificity)')\n",
    "plt.ylabel('True Positivity Rate (Sensitivity or Recall)')\n",
    "plt.plot(fpr,tpr)\n",
    "plt.title('ROC Curve')\n",
    "plt.show()"
   ]
  }
 ],
 "metadata": {
  "kernelspec": {
   "display_name": "Python 3",
   "language": "python",
   "name": "python3"
  },
  "language_info": {
   "codemirror_mode": {
    "name": "ipython",
    "version": 3
   },
   "file_extension": ".py",
   "mimetype": "text/x-python",
   "name": "python",
   "nbconvert_exporter": "python",
   "pygments_lexer": "ipython3",
   "version": "3.8.5"
  }
 },
 "nbformat": 4,
 "nbformat_minor": 4
}
