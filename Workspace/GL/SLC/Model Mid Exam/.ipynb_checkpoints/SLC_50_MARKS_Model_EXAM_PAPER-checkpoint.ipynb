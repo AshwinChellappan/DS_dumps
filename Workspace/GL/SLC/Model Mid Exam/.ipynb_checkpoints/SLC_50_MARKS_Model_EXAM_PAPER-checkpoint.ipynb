{
 "cells": [
  {
   "cell_type": "markdown",
   "metadata": {
    "id": "LTxPuulsa8GT"
   },
   "source": [
    "# SLC MID EXAM"
   ]
  },
  {
   "cell_type": "markdown",
   "metadata": {
    "id": "m1own42Wa8GW"
   },
   "source": [
    "____________"
   ]
  },
  {
   "cell_type": "markdown",
   "metadata": {
    "id": "oAg3NEhna8GZ"
   },
   "source": [
    "### DATASET INFORMATION: \n",
    "\n",
    "\n"
   ]
  },
  {
   "cell_type": "markdown",
   "metadata": {
    "id": "kk_seMtfa8Gc"
   },
   "source": [
    "\n",
    "COLUMN DESCRIPTIONS: \n",
    "\n",
    "\n",
    " Id: ID number \n",
    "\n",
    " Diagnosis:   The diagnosis of breast tissues (M = malignant, B = benign) \n",
    "\n",
    " radius_mean:   mean of distances from center to points on the perimeter \n",
    "\n",
    " texture_mean:  standard deviation of gray-scale values \n",
    "\n",
    " perimeter_mean:  mean size of the core tumor \n",
    "\n",
    " area_mean: \n",
    "\n",
    " smoothness_mean:  mean of local variation in radius lengths \n",
    "\n",
    " compactness_mean: mean of perimeter^2 / area - 1.0 \n",
    "\n",
    " concavity_mean: mean of severity of concave portions of the contour \n",
    "\n",
    " concave points_mean: mean for number of concave portions of the contour \n",
    "\n",
    " symmetry_mean: \n",
    "\n",
    " fractal_dimension_mean: mean for \"coastline approximation\" - 1 \n",
    "\n",
    " radius_se: standard error for the mean of distances from center to points on the perimeter \n",
    "\n",
    " texture_se: standard error for standard deviation of gray-scale values \n",
    "\n",
    " perimeter_se: \n",
    "\n",
    " area_se: \n",
    "\n",
    " smoothness_se: standard error for local variation in radius lengths \n",
    "\n",
    " compactness_se: standard error for perimeter^2 / area - 1.0 \n",
    "\n",
    " concavity_se: standard error for severity of concave portions of the contour \n",
    "\n",
    " concave points_se: standard error for number of concave portions of the contour \n",
    "\n",
    " symmetry_se: \n",
    "\n",
    " fractal_dimension_se: standard error for \"coastline approximation\" - 1 \n",
    "\n",
    " radius_worst\"worst\" or largest mean value for mean of distances from center to points on the perimeter \n",
    "\n",
    " texture_worst: \"worst\" or largest mean value for standard deviation of gray-scale values \n",
    "\n",
    " perimeter_worst: \n",
    "\n",
    " area_worst: \n",
    "\n",
    " smoothness_worst: \"worst\" or largest mean value for local variation in radius lengths \n",
    "\n",
    " compactness_worst:  \"worst\" or largest mean value for perimeter^2 / area - 1.0 \n",
    "\n",
    "\n",
    "\n",
    " concavity_worst: \"worst\" or largest mean value for severity of concave portions of the contour \n",
    "\n",
    " concave points_worst: \"worst\" or largest mean value for number of concave portions of the contour \n",
    "\n",
    " symmetry_worst: \n",
    "\n",
    " fractal_dimension_worst: \"worst\" or largest mean value for \"coastline approximation\" – 1 "
   ]
  },
  {
   "cell_type": "code",
   "execution_count": null,
   "metadata": {
    "id": "-MvD553Na8Gd"
   },
   "outputs": [],
   "source": [
    "# Kindly change the below cells from markdown to code and execute it "
   ]
  },
  {
   "cell_type": "markdown",
   "metadata": {
    "id": "4AE2Eo4Ra8Gm"
   },
   "source": [
    "import pandas as pd\n",
    "\n",
    "import csv\n",
    "\n",
    "with open(\"data_set.csv\",\"r\")as file:\n",
    "\n",
    "reader=csv.reader(file)\n",
    "df=pd.read_csv(\"data_set.csv\")\n",
    "\n",
    "df.head()"
   ]
  },
  {
   "cell_type": "markdown",
   "metadata": {
    "id": "uUYJMTfKa8Gn"
   },
   "source": [
    "### 1.\tData Understanding (8 marks)\n",
    "\n",
    "a.\tRead the dataset (tab, csv, xls, txt, inbuilt dataset). What are the number of rows and no. of cols & types of variables (continuous, categorical etc.)? (1 MARK)\n",
    "\n",
    "b.\tCalculate five-point summary for numerical variables (1 MARK)\n",
    "\n",
    "c.\tSummarize observations for categorical variables – no. of categories, % observations in each category. (2 mark)\n",
    "\n",
    "d.\tCheck for defects in the data such as missing values, null, outliers, etc and also check for class imbalance. (4 marks)\n",
    "\n"
   ]
  },
  {
   "cell_type": "code",
   "execution_count": null,
   "metadata": {
    "id": "bkCw2iFGa8Gp"
   },
   "outputs": [],
   "source": [
    ""
   ]
  },
  {
   "cell_type": "markdown",
   "metadata": {
    "id": "Mw9JIusia8Gz"
   },
   "source": [
    "### 2.\tData Preparation (17 marks)\n",
    "\n",
    "a.\tFix the defects found above and do appropriate treatment if any. (4 marks)\n",
    "\n",
    "b.\tVisualize the data using relevant plots. Find out the variables which are highly correlated with Target? (5 marks)\n",
    "\n",
    "c.\tDo you want to exclude some variables from the model based on this analysis? What other actions will you take before moving ahead with model creation? (4 marks)\n",
    "\n",
    "d. Split dataset into train and test (70:30). Are both train and test representative of the overall data? How would you ascertain this statistically? (4 marks)"
   ]
  },
  {
   "cell_type": "code",
   "execution_count": null,
   "metadata": {
    "id": "6rvMdD9ba8G1"
   },
   "outputs": [],
   "source": [
    ""
   ]
  },
  {
   "cell_type": "markdown",
   "metadata": {
    "id": "EX01IkUsa8G7"
   },
   "source": [
    "### 3.\tModel Building (25 marks)\n",
    "\n",
    "a.\tFit a base model and explain the reason of selecting that model. Please write your key observations. (5 marks)\n",
    "\n",
    "b.\tWhat is the overall Accuracy? Please comment on whether it is good or not.  (4 mark)\n",
    "\n",
    "c.\tEvaluate the model built using Precision, Recall and F1 Score and what will be the optimization objective keeping in mind the problem statement. (5 marks) \n",
    "\n",
    "d.\tHow do you improve the accuracy of the model? Write clearly the changes that you will make before re-fitting the model. Fit the final model.  (7 marks)\n",
    "\n",
    "e.\tWrite down a business interpretation/explanation of the model – which variables are affecting the target the most and explain the relationship. Feel free to use charts or graphs to explain. (4 marks)\n"
   ]
  },
  {
   "cell_type": "code",
   "execution_count": null,
   "metadata": {
    "id": "kiRe0CpAa8G8"
   },
   "outputs": [],
   "source": [
    ""
   ]
  }
 ],
 "metadata": {
  "colab": {
   "collapsed_sections": [],
   "name": "SLC_30_MARKS_SET_4_EXAM_PAPER.ipynb",
   "provenance": []
  },
  "kernelspec": {
   "display_name": "Python 3",
   "language": "python",
   "name": "python3"
  },
  "language_info": {
   "codemirror_mode": {
    "name": "ipython",
    "version": 3
   },
   "file_extension": ".py",
   "mimetype": "text/x-python",
   "name": "python",
   "nbconvert_exporter": "python",
   "pygments_lexer": "ipython3",
   "version": "3.7.3"
  }
 },
 "nbformat": 4,
 "nbformat_minor": 0
}
