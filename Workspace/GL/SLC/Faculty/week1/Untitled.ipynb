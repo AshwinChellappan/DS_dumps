{
 "cells": [
  {
   "cell_type": "code",
   "execution_count": 1,
   "metadata": {},
   "outputs": [],
   "source": [
    "import pandas as pd\n",
    "import numpy as np\n",
    "import seaborn as sns\n",
    "import matplotlib.pyplot as plt\n",
    "from sklearn.preprocessing import StandardScaler \n",
    "from sklearn.model_selection import train_test_split"
   ]
  },
  {
   "cell_type": "code",
   "execution_count": 60,
   "metadata": {},
   "outputs": [],
   "source": [
    "import statsmodels\n",
    "import statsmodels.api as sm\n",
    "from sklearn import metrics\n",
    "from sklearn.linear_model import LogisticRegression\n",
    "from sklearn.metrics import classification_report\n",
    "from sklearn.metrics import cohen_kappa_score\n",
    "from sklearn.metrics import confusion_matrix\n",
    "from sklearn.metrics import roc_curve\n",
    "from sklearn.metrics import accuracy_score\n",
    "from sklearn.feature_selection import RFE"
   ]
  },
  {
   "cell_type": "code",
   "execution_count": 18,
   "metadata": {},
   "outputs": [],
   "source": [
    "df=pd.read_csv('Admission_Predict.csv')"
   ]
  },
  {
   "cell_type": "code",
   "execution_count": 3,
   "metadata": {},
   "outputs": [
    {
     "data": {
      "text/html": [
       "<div>\n",
       "<style scoped>\n",
       "    .dataframe tbody tr th:only-of-type {\n",
       "        vertical-align: middle;\n",
       "    }\n",
       "\n",
       "    .dataframe tbody tr th {\n",
       "        vertical-align: top;\n",
       "    }\n",
       "\n",
       "    .dataframe thead th {\n",
       "        text-align: right;\n",
       "    }\n",
       "</style>\n",
       "<table border=\"1\" class=\"dataframe\">\n",
       "  <thead>\n",
       "    <tr style=\"text-align: right;\">\n",
       "      <th></th>\n",
       "      <th>Serial No.</th>\n",
       "      <th>GRE Score</th>\n",
       "      <th>TOEFL Score</th>\n",
       "      <th>University Rating</th>\n",
       "      <th>SOP</th>\n",
       "      <th>LOR</th>\n",
       "      <th>CGPA</th>\n",
       "      <th>Research</th>\n",
       "      <th>Chance of Admit</th>\n",
       "    </tr>\n",
       "  </thead>\n",
       "  <tbody>\n",
       "    <tr>\n",
       "      <th>0</th>\n",
       "      <td>1</td>\n",
       "      <td>337</td>\n",
       "      <td>118</td>\n",
       "      <td>4</td>\n",
       "      <td>4.5</td>\n",
       "      <td>4.5</td>\n",
       "      <td>9.65</td>\n",
       "      <td>1</td>\n",
       "      <td>1</td>\n",
       "    </tr>\n",
       "    <tr>\n",
       "      <th>1</th>\n",
       "      <td>2</td>\n",
       "      <td>324</td>\n",
       "      <td>107</td>\n",
       "      <td>4</td>\n",
       "      <td>4.0</td>\n",
       "      <td>4.5</td>\n",
       "      <td>8.87</td>\n",
       "      <td>1</td>\n",
       "      <td>1</td>\n",
       "    </tr>\n",
       "    <tr>\n",
       "      <th>2</th>\n",
       "      <td>3</td>\n",
       "      <td>316</td>\n",
       "      <td>104</td>\n",
       "      <td>3</td>\n",
       "      <td>3.0</td>\n",
       "      <td>3.5</td>\n",
       "      <td>8.00</td>\n",
       "      <td>1</td>\n",
       "      <td>0</td>\n",
       "    </tr>\n",
       "    <tr>\n",
       "      <th>3</th>\n",
       "      <td>4</td>\n",
       "      <td>322</td>\n",
       "      <td>110</td>\n",
       "      <td>3</td>\n",
       "      <td>3.5</td>\n",
       "      <td>2.5</td>\n",
       "      <td>8.67</td>\n",
       "      <td>1</td>\n",
       "      <td>1</td>\n",
       "    </tr>\n",
       "    <tr>\n",
       "      <th>4</th>\n",
       "      <td>5</td>\n",
       "      <td>314</td>\n",
       "      <td>103</td>\n",
       "      <td>2</td>\n",
       "      <td>2.0</td>\n",
       "      <td>3.0</td>\n",
       "      <td>8.21</td>\n",
       "      <td>0</td>\n",
       "      <td>0</td>\n",
       "    </tr>\n",
       "  </tbody>\n",
       "</table>\n",
       "</div>"
      ],
      "text/plain": [
       "   Serial No.  GRE Score  TOEFL Score  University Rating  SOP  LOR  CGPA  \\\n",
       "0           1        337          118                  4  4.5  4.5  9.65   \n",
       "1           2        324          107                  4  4.0  4.5  8.87   \n",
       "2           3        316          104                  3  3.0  3.5  8.00   \n",
       "3           4        322          110                  3  3.5  2.5  8.67   \n",
       "4           5        314          103                  2  2.0  3.0  8.21   \n",
       "\n",
       "   Research  Chance of Admit  \n",
       "0         1                1  \n",
       "1         1                1  \n",
       "2         1                0  \n",
       "3         1                1  \n",
       "4         0                0  "
      ]
     },
     "execution_count": 3,
     "metadata": {},
     "output_type": "execute_result"
    }
   ],
   "source": [
    "df.head()"
   ]
  },
  {
   "cell_type": "code",
   "execution_count": 6,
   "metadata": {},
   "outputs": [
    {
     "data": {
      "text/plain": [
       "Serial No.           0\n",
       "GRE Score            0\n",
       "TOEFL Score          0\n",
       "University Rating    0\n",
       "SOP                  0\n",
       "LOR                  0\n",
       "CGPA                 0\n",
       "Research             0\n",
       "Chance of Admit      0\n",
       "dtype: int64"
      ]
     },
     "execution_count": 6,
     "metadata": {},
     "output_type": "execute_result"
    }
   ],
   "source": [
    "df.isna().sum()"
   ]
  },
  {
   "cell_type": "code",
   "execution_count": 10,
   "metadata": {},
   "outputs": [],
   "source": [
    "df.drop('Serial No.',axis=1,inplace=True)"
   ]
  },
  {
   "cell_type": "code",
   "execution_count": 14,
   "metadata": {},
   "outputs": [
    {
     "data": {
      "image/png": "[encoded data removed]",
      "text/plain": [
       "<Figure size 432x288 with 9 Axes>"
      ]
     },
     "metadata": {
      "needs_background": "light"
     },
     "output_type": "display_data"
    }
   ],
   "source": [
    "df.drop('Chance of Admit', axis = 1).hist()\n",
    "plt.tight_layout()\n",
    "plt.show()  "
   ]
  },
  {
   "cell_type": "code",
   "execution_count": 16,
   "metadata": {},
   "outputs": [
    {
     "data": {
      "text/plain": [
       "GRE Score           -0.062893\n",
       "TOEFL Score          0.057216\n",
       "University Rating    0.171260\n",
       "SOP                 -0.275761\n",
       "LOR                 -0.106991\n",
       "CGPA                -0.065991\n",
       "Research            -0.191582\n",
       "dtype: float64"
      ]
     },
     "execution_count": 16,
     "metadata": {},
     "output_type": "execute_result"
    }
   ],
   "source": [
    "df.drop('Chance of Admit', axis = 1).skew()"
   ]
  },
  {
   "cell_type": "code",
   "execution_count": 17,
   "metadata": {},
   "outputs": [
    {
     "name": "stderr",
     "output_type": "stream",
     "text": [
      "C:\\Users\\AS20188795\\Anaconda3\\lib\\site-packages\\seaborn\\_decorators.py:36: FutureWarning: Pass the following variable as a keyword arg: x. From version 0.12, the only valid positional argument will be `data`, and passing other arguments without an explicit keyword will result in an error or misinterpretation.\n",
      "  warnings.warn(\n"
     ]
    },
    {
     "data": {
      "image/png": "[encoded data removed]",
      "text/plain": [
       "<Figure size 432x288 with 1 Axes>"
      ]
     },
     "metadata": {
      "needs_background": "light"
     },
     "output_type": "display_data"
    }
   ],
   "source": [
    "sns.countplot(df.Research)\n",
    "\n",
    "# add plot and axes labels\n",
    "# set text size using 'fontsize'\n",
    "plt.title('Count Plot for Categorical Variable (Research)', fontsize = 15)\n",
    "plt.xlabel('Research', fontsize = 15)\n",
    "plt.ylabel('Count', fontsize = 15)\n",
    "\n",
    "# display the plot\n",
    "plt.show()"
   ]
  },
  {
   "cell_type": "code",
   "execution_count": 21,
   "metadata": {},
   "outputs": [
    {
     "data": {
      "text/html": [
       "<div>\n",
       "<style scoped>\n",
       "    .dataframe tbody tr th:only-of-type {\n",
       "        vertical-align: middle;\n",
       "    }\n",
       "\n",
       "    .dataframe tbody tr th {\n",
       "        vertical-align: top;\n",
       "    }\n",
       "\n",
       "    .dataframe thead th {\n",
       "        text-align: right;\n",
       "    }\n",
       "</style>\n",
       "<table border=\"1\" class=\"dataframe\">\n",
       "  <thead>\n",
       "    <tr style=\"text-align: right;\">\n",
       "      <th></th>\n",
       "      <th>Serial No.</th>\n",
       "      <th>GRE Score</th>\n",
       "      <th>TOEFL Score</th>\n",
       "      <th>University Rating</th>\n",
       "      <th>SOP</th>\n",
       "      <th>LOR</th>\n",
       "      <th>CGPA</th>\n",
       "      <th>Research</th>\n",
       "      <th>Chance of Admit</th>\n",
       "    </tr>\n",
       "  </thead>\n",
       "  <tbody>\n",
       "    <tr>\n",
       "      <th>0</th>\n",
       "      <td>1</td>\n",
       "      <td>337</td>\n",
       "      <td>118</td>\n",
       "      <td>4</td>\n",
       "      <td>4.5</td>\n",
       "      <td>4.5</td>\n",
       "      <td>9.65</td>\n",
       "      <td>1</td>\n",
       "      <td>1</td>\n",
       "    </tr>\n",
       "    <tr>\n",
       "      <th>1</th>\n",
       "      <td>2</td>\n",
       "      <td>324</td>\n",
       "      <td>107</td>\n",
       "      <td>4</td>\n",
       "      <td>4.0</td>\n",
       "      <td>4.5</td>\n",
       "      <td>8.87</td>\n",
       "      <td>1</td>\n",
       "      <td>1</td>\n",
       "    </tr>\n",
       "    <tr>\n",
       "      <th>2</th>\n",
       "      <td>3</td>\n",
       "      <td>316</td>\n",
       "      <td>104</td>\n",
       "      <td>3</td>\n",
       "      <td>3.0</td>\n",
       "      <td>3.5</td>\n",
       "      <td>8.00</td>\n",
       "      <td>1</td>\n",
       "      <td>0</td>\n",
       "    </tr>\n",
       "    <tr>\n",
       "      <th>3</th>\n",
       "      <td>4</td>\n",
       "      <td>322</td>\n",
       "      <td>110</td>\n",
       "      <td>3</td>\n",
       "      <td>3.5</td>\n",
       "      <td>2.5</td>\n",
       "      <td>8.67</td>\n",
       "      <td>1</td>\n",
       "      <td>1</td>\n",
       "    </tr>\n",
       "    <tr>\n",
       "      <th>4</th>\n",
       "      <td>5</td>\n",
       "      <td>314</td>\n",
       "      <td>103</td>\n",
       "      <td>2</td>\n",
       "      <td>2.0</td>\n",
       "      <td>3.0</td>\n",
       "      <td>8.21</td>\n",
       "      <td>0</td>\n",
       "      <td>0</td>\n",
       "    </tr>\n",
       "  </tbody>\n",
       "</table>\n",
       "</div>"
      ],
      "text/plain": [
       "   Serial No.  GRE Score  TOEFL Score  University Rating  SOP  LOR  CGPA  \\\n",
       "0           1        337          118                  4  4.5  4.5  9.65   \n",
       "1           2        324          107                  4  4.0  4.5  8.87   \n",
       "2           3        316          104                  3  3.0  3.5  8.00   \n",
       "3           4        322          110                  3  3.5  2.5  8.67   \n",
       "4           5        314          103                  2  2.0  3.0  8.21   \n",
       "\n",
       "   Research  Chance of Admit  \n",
       "0         1                1  \n",
       "1         1                1  \n",
       "2         1                0  \n",
       "3         1                1  \n",
       "4         0                0  "
      ]
     },
     "execution_count": 21,
     "metadata": {},
     "output_type": "execute_result"
    }
   ],
   "source": [
    "df.head()"
   ]
  },
  {
   "cell_type": "code",
   "execution_count": 20,
   "metadata": {},
   "outputs": [
    {
     "data": {
      "text/plain": [
       "Serial No.             int64\n",
       "GRE Score              int64\n",
       "TOEFL Score            int64\n",
       "University Rating      int64\n",
       "SOP                  float64\n",
       "LOR                  float64\n",
       "CGPA                 float64\n",
       "Research               int64\n",
       "Chance of Admit        int64\n",
       "dtype: object"
      ]
     },
     "execution_count": 20,
     "metadata": {},
     "output_type": "execute_result"
    }
   ],
   "source": [
    "df.dtypes"
   ]
  },
  {
   "cell_type": "code",
   "execution_count": 26,
   "metadata": {},
   "outputs": [],
   "source": []
  },
  {
   "cell_type": "code",
   "execution_count": 19,
   "metadata": {},
   "outputs": [],
   "source": [
    "df.drop('Serial No.',axis=1,inplace=True)"
   ]
  },
  {
   "cell_type": "code",
   "execution_count": 96,
   "metadata": {},
   "outputs": [
    {
     "data": {
      "text/html": [
       "<div>\n",
       "<style scoped>\n",
       "    .dataframe tbody tr th:only-of-type {\n",
       "        vertical-align: middle;\n",
       "    }\n",
       "\n",
       "    .dataframe tbody tr th {\n",
       "        vertical-align: top;\n",
       "    }\n",
       "\n",
       "    .dataframe thead th {\n",
       "        text-align: right;\n",
       "    }\n",
       "</style>\n",
       "<table border=\"1\" class=\"dataframe\">\n",
       "  <thead>\n",
       "    <tr style=\"text-align: right;\">\n",
       "      <th></th>\n",
       "      <th>GRE Score</th>\n",
       "      <th>TOEFL Score</th>\n",
       "      <th>University Rating</th>\n",
       "      <th>SOP</th>\n",
       "      <th>LOR</th>\n",
       "      <th>CGPA</th>\n",
       "      <th>Research</th>\n",
       "      <th>Chance of Admit</th>\n",
       "    </tr>\n",
       "  </thead>\n",
       "  <tbody>\n",
       "    <tr>\n",
       "      <th>0</th>\n",
       "      <td>337</td>\n",
       "      <td>118</td>\n",
       "      <td>4</td>\n",
       "      <td>4.5</td>\n",
       "      <td>4.5</td>\n",
       "      <td>9.65</td>\n",
       "      <td>1</td>\n",
       "      <td>1</td>\n",
       "    </tr>\n",
       "    <tr>\n",
       "      <th>1</th>\n",
       "      <td>324</td>\n",
       "      <td>107</td>\n",
       "      <td>4</td>\n",
       "      <td>4.0</td>\n",
       "      <td>4.5</td>\n",
       "      <td>8.87</td>\n",
       "      <td>1</td>\n",
       "      <td>1</td>\n",
       "    </tr>\n",
       "    <tr>\n",
       "      <th>2</th>\n",
       "      <td>316</td>\n",
       "      <td>104</td>\n",
       "      <td>3</td>\n",
       "      <td>3.0</td>\n",
       "      <td>3.5</td>\n",
       "      <td>8.00</td>\n",
       "      <td>1</td>\n",
       "      <td>0</td>\n",
       "    </tr>\n",
       "    <tr>\n",
       "      <th>3</th>\n",
       "      <td>322</td>\n",
       "      <td>110</td>\n",
       "      <td>3</td>\n",
       "      <td>3.5</td>\n",
       "      <td>2.5</td>\n",
       "      <td>8.67</td>\n",
       "      <td>1</td>\n",
       "      <td>1</td>\n",
       "    </tr>\n",
       "    <tr>\n",
       "      <th>4</th>\n",
       "      <td>314</td>\n",
       "      <td>103</td>\n",
       "      <td>2</td>\n",
       "      <td>2.0</td>\n",
       "      <td>3.0</td>\n",
       "      <td>8.21</td>\n",
       "      <td>0</td>\n",
       "      <td>0</td>\n",
       "    </tr>\n",
       "  </tbody>\n",
       "</table>\n",
       "</div>"
      ],
      "text/plain": [
       "   GRE Score  TOEFL Score  University Rating  SOP  LOR  CGPA  Research  \\\n",
       "0        337          118                  4  4.5  4.5  9.65         1   \n",
       "1        324          107                  4  4.0  4.5  8.87         1   \n",
       "2        316          104                  3  3.0  3.5  8.00         1   \n",
       "3        322          110                  3  3.5  2.5  8.67         1   \n",
       "4        314          103                  2  2.0  3.0  8.21         0   \n",
       "\n",
       "   Chance of Admit  \n",
       "0                1  \n",
       "1                1  \n",
       "2                0  \n",
       "3                1  \n",
       "4                0  "
      ]
     },
     "execution_count": 96,
     "metadata": {},
     "output_type": "execute_result"
    }
   ],
   "source": [
    "df.head()"
   ]
  },
  {
   "cell_type": "code",
   "execution_count": 20,
   "metadata": {},
   "outputs": [],
   "source": [
    "df_num_scaled=df.drop('Chance of Admit',axis=1)"
   ]
  },
  {
   "cell_type": "code",
   "execution_count": 21,
   "metadata": {},
   "outputs": [],
   "source": [
    "scaler=StandardScaler()\n",
    "num_scaled=scaler.fit_transform(df_num_scaled)\n",
    "df_num_scal= pd.DataFrame(num_scaled, columns = df_num_scaled.columns)"
   ]
  },
  {
   "cell_type": "code",
   "execution_count": 22,
   "metadata": {},
   "outputs": [
    {
     "data": {
      "text/html": [
       "<div>\n",
       "<style scoped>\n",
       "    .dataframe tbody tr th:only-of-type {\n",
       "        vertical-align: middle;\n",
       "    }\n",
       "\n",
       "    .dataframe tbody tr th {\n",
       "        vertical-align: top;\n",
       "    }\n",
       "\n",
       "    .dataframe thead th {\n",
       "        text-align: right;\n",
       "    }\n",
       "</style>\n",
       "<table border=\"1\" class=\"dataframe\">\n",
       "  <thead>\n",
       "    <tr style=\"text-align: right;\">\n",
       "      <th></th>\n",
       "      <th>GRE Score</th>\n",
       "      <th>TOEFL Score</th>\n",
       "      <th>University Rating</th>\n",
       "      <th>SOP</th>\n",
       "      <th>LOR</th>\n",
       "      <th>CGPA</th>\n",
       "      <th>Research</th>\n",
       "    </tr>\n",
       "  </thead>\n",
       "  <tbody>\n",
       "    <tr>\n",
       "      <th>0</th>\n",
       "      <td>1.762107</td>\n",
       "      <td>1.746971</td>\n",
       "      <td>0.798829</td>\n",
       "      <td>1.093864</td>\n",
       "      <td>1.167321</td>\n",
       "      <td>1.764818</td>\n",
       "      <td>0.909112</td>\n",
       "    </tr>\n",
       "    <tr>\n",
       "      <th>1</th>\n",
       "      <td>0.627656</td>\n",
       "      <td>-0.067635</td>\n",
       "      <td>0.798829</td>\n",
       "      <td>0.596653</td>\n",
       "      <td>1.167321</td>\n",
       "      <td>0.455151</td>\n",
       "      <td>0.909112</td>\n",
       "    </tr>\n",
       "    <tr>\n",
       "      <th>2</th>\n",
       "      <td>-0.070467</td>\n",
       "      <td>-0.562528</td>\n",
       "      <td>-0.076600</td>\n",
       "      <td>-0.397769</td>\n",
       "      <td>0.052933</td>\n",
       "      <td>-1.005631</td>\n",
       "      <td>0.909112</td>\n",
       "    </tr>\n",
       "    <tr>\n",
       "      <th>3</th>\n",
       "      <td>0.453126</td>\n",
       "      <td>0.427257</td>\n",
       "      <td>-0.076600</td>\n",
       "      <td>0.099442</td>\n",
       "      <td>-1.061454</td>\n",
       "      <td>0.119339</td>\n",
       "      <td>0.909112</td>\n",
       "    </tr>\n",
       "    <tr>\n",
       "      <th>4</th>\n",
       "      <td>-0.244998</td>\n",
       "      <td>-0.727492</td>\n",
       "      <td>-0.952029</td>\n",
       "      <td>-1.392191</td>\n",
       "      <td>-0.504260</td>\n",
       "      <td>-0.653029</td>\n",
       "      <td>-1.099975</td>\n",
       "    </tr>\n",
       "  </tbody>\n",
       "</table>\n",
       "</div>"
      ],
      "text/plain": [
       "   GRE Score  TOEFL Score  University Rating       SOP       LOR      CGPA  \\\n",
       "0   1.762107     1.746971           0.798829  1.093864  1.167321  1.764818   \n",
       "1   0.627656    -0.067635           0.798829  0.596653  1.167321  0.455151   \n",
       "2  -0.070467    -0.562528          -0.076600 -0.397769  0.052933 -1.005631   \n",
       "3   0.453126     0.427257          -0.076600  0.099442 -1.061454  0.119339   \n",
       "4  -0.244998    -0.727492          -0.952029 -1.392191 -0.504260 -0.653029   \n",
       "\n",
       "   Research  \n",
       "0  0.909112  \n",
       "1  0.909112  \n",
       "2  0.909112  \n",
       "3  0.909112  \n",
       "4 -1.099975  "
      ]
     },
     "execution_count": 22,
     "metadata": {},
     "output_type": "execute_result"
    }
   ],
   "source": [
    "df_num_scal.head()"
   ]
  },
  {
   "cell_type": "code",
   "execution_count": 27,
   "metadata": {},
   "outputs": [],
   "source": [
    "X=df_num_scal\n",
    "y=df['Chance of Admit']"
   ]
  },
  {
   "cell_type": "code",
   "execution_count": 13,
   "metadata": {},
   "outputs": [],
   "source": [
    "X=X.drop('Serial No.',axis=1)"
   ]
  },
  {
   "cell_type": "code",
   "execution_count": 28,
   "metadata": {},
   "outputs": [
    {
     "data": {
      "text/html": [
       "<div>\n",
       "<style scoped>\n",
       "    .dataframe tbody tr th:only-of-type {\n",
       "        vertical-align: middle;\n",
       "    }\n",
       "\n",
       "    .dataframe tbody tr th {\n",
       "        vertical-align: top;\n",
       "    }\n",
       "\n",
       "    .dataframe thead th {\n",
       "        text-align: right;\n",
       "    }\n",
       "</style>\n",
       "<table border=\"1\" class=\"dataframe\">\n",
       "  <thead>\n",
       "    <tr style=\"text-align: right;\">\n",
       "      <th></th>\n",
       "      <th>GRE Score</th>\n",
       "      <th>TOEFL Score</th>\n",
       "      <th>University Rating</th>\n",
       "      <th>SOP</th>\n",
       "      <th>LOR</th>\n",
       "      <th>CGPA</th>\n",
       "      <th>Research</th>\n",
       "    </tr>\n",
       "  </thead>\n",
       "  <tbody>\n",
       "    <tr>\n",
       "      <th>0</th>\n",
       "      <td>1.762107</td>\n",
       "      <td>1.746971</td>\n",
       "      <td>0.798829</td>\n",
       "      <td>1.093864</td>\n",
       "      <td>1.167321</td>\n",
       "      <td>1.764818</td>\n",
       "      <td>0.909112</td>\n",
       "    </tr>\n",
       "    <tr>\n",
       "      <th>1</th>\n",
       "      <td>0.627656</td>\n",
       "      <td>-0.067635</td>\n",
       "      <td>0.798829</td>\n",
       "      <td>0.596653</td>\n",
       "      <td>1.167321</td>\n",
       "      <td>0.455151</td>\n",
       "      <td>0.909112</td>\n",
       "    </tr>\n",
       "    <tr>\n",
       "      <th>2</th>\n",
       "      <td>-0.070467</td>\n",
       "      <td>-0.562528</td>\n",
       "      <td>-0.076600</td>\n",
       "      <td>-0.397769</td>\n",
       "      <td>0.052933</td>\n",
       "      <td>-1.005631</td>\n",
       "      <td>0.909112</td>\n",
       "    </tr>\n",
       "    <tr>\n",
       "      <th>3</th>\n",
       "      <td>0.453126</td>\n",
       "      <td>0.427257</td>\n",
       "      <td>-0.076600</td>\n",
       "      <td>0.099442</td>\n",
       "      <td>-1.061454</td>\n",
       "      <td>0.119339</td>\n",
       "      <td>0.909112</td>\n",
       "    </tr>\n",
       "    <tr>\n",
       "      <th>4</th>\n",
       "      <td>-0.244998</td>\n",
       "      <td>-0.727492</td>\n",
       "      <td>-0.952029</td>\n",
       "      <td>-1.392191</td>\n",
       "      <td>-0.504260</td>\n",
       "      <td>-0.653029</td>\n",
       "      <td>-1.099975</td>\n",
       "    </tr>\n",
       "  </tbody>\n",
       "</table>\n",
       "</div>"
      ],
      "text/plain": [
       "   GRE Score  TOEFL Score  University Rating       SOP       LOR      CGPA  \\\n",
       "0   1.762107     1.746971           0.798829  1.093864  1.167321  1.764818   \n",
       "1   0.627656    -0.067635           0.798829  0.596653  1.167321  0.455151   \n",
       "2  -0.070467    -0.562528          -0.076600 -0.397769  0.052933 -1.005631   \n",
       "3   0.453126     0.427257          -0.076600  0.099442 -1.061454  0.119339   \n",
       "4  -0.244998    -0.727492          -0.952029 -1.392191 -0.504260 -0.653029   \n",
       "\n",
       "   Research  \n",
       "0  0.909112  \n",
       "1  0.909112  \n",
       "2  0.909112  \n",
       "3  0.909112  \n",
       "4 -1.099975  "
      ]
     },
     "execution_count": 28,
     "metadata": {},
     "output_type": "execute_result"
    }
   ],
   "source": [
    "X.head()"
   ]
  },
  {
   "cell_type": "code",
   "execution_count": 29,
   "metadata": {},
   "outputs": [],
   "source": [
    "\n",
    "x_train,x_test,y_train,y_test=train_test_split(X,y,random_state = 10, test_size = 0.2)"
   ]
  },
  {
   "cell_type": "code",
   "execution_count": 30,
   "metadata": {},
   "outputs": [
    {
     "name": "stdout",
     "output_type": "stream",
     "text": [
      "Optimization terminated successfully.\n",
      "         Current function value: 0.246939\n",
      "         Iterations 8\n"
     ]
    }
   ],
   "source": [
    "logreg=sm.Logit(y_train,x_train).fit()"
   ]
  },
  {
   "cell_type": "code",
   "execution_count": 31,
   "metadata": {},
   "outputs": [
    {
     "name": "stdout",
     "output_type": "stream",
     "text": [
      "                           Logit Regression Results                           \n",
      "==============================================================================\n",
      "Dep. Variable:        Chance of Admit   No. Observations:                  320\n",
      "Model:                          Logit   Df Residuals:                      313\n",
      "Method:                           MLE   Df Model:                            6\n",
      "Date:                Tue, 25 May 2021   Pseudo R-squ.:                  0.6405\n",
      "Time:                        17:11:05   Log-Likelihood:                -79.020\n",
      "converged:                       True   LL-Null:                       -219.78\n",
      "Covariance Type:            nonrobust   LLR p-value:                 7.446e-58\n",
      "=====================================================================================\n",
      "                        coef    std err          z      P>|z|      [0.025      0.975]\n",
      "-------------------------------------------------------------------------------------\n",
      "GRE Score             0.6107      0.424      1.439      0.150      -0.221       1.443\n",
      "TOEFL Score           0.2469      0.396      0.623      0.533      -0.529       1.023\n",
      "University Rating     0.6871      0.375      1.833      0.067      -0.047       1.422\n",
      "SOP                   0.1692      0.356      0.475      0.635      -0.529       0.868\n",
      "LOR                   0.5261      0.305      1.725      0.085      -0.072       1.124\n",
      "CGPA                  2.5179      0.523      4.812      0.000       1.492       3.543\n",
      "Research              0.2970      0.223      1.329      0.184      -0.141       0.735\n",
      "=====================================================================================\n"
     ]
    }
   ],
   "source": [
    "print(logreg.summary())"
   ]
  },
  {
   "cell_type": "code",
   "execution_count": 33,
   "metadata": {},
   "outputs": [
    {
     "data": {
      "text/plain": [
       "GRE Score             1.841660\n",
       "TOEFL Score           1.280012\n",
       "University Rating     1.987877\n",
       "SOP                   1.184324\n",
       "LOR                   1.692396\n",
       "CGPA                 12.401981\n",
       "Research              1.345755\n",
       "dtype: float64"
      ]
     },
     "execution_count": 33,
     "metadata": {},
     "output_type": "execute_result"
    }
   ],
   "source": [
    "df_odds = pd.DataFrame(np.exp(logreg.params), columns= ['Odds']) "
   ]
  },
  {
   "cell_type": "code",
   "execution_count": 35,
   "metadata": {},
   "outputs": [],
   "source": [
    "y_pred_prob =logreg.predict(x_test)"
   ]
  },
  {
   "cell_type": "code",
   "execution_count": 36,
   "metadata": {},
   "outputs": [],
   "source": [
    "y_pred = [ 0 if x < 0.5 else 1 for x in y_pred_prob]"
   ]
  },
  {
   "cell_type": "code",
   "execution_count": 38,
   "metadata": {},
   "outputs": [
    {
     "data": {
      "text/plain": [
       "array([[32,  4],\n",
       "       [10, 34]], dtype=int64)"
      ]
     },
     "execution_count": 38,
     "metadata": {},
     "output_type": "execute_result"
    }
   ],
   "source": [
    "cm=confusion_matrix(y_pred,y_test)\n",
    "cm"
   ]
  },
  {
   "cell_type": "code",
   "execution_count": 39,
   "metadata": {},
   "outputs": [],
   "source": [
    "TN = cm[0,0]\n",
    "TP = cm[1,1]\n",
    "FP = cm[0,1]\n",
    "FN = cm[1,0]"
   ]
  },
  {
   "cell_type": "code",
   "execution_count": 58,
   "metadata": {},
   "outputs": [
    {
     "data": {
      "text/plain": [
       "Text(0.02, 0.9, \"('AUC Score:', 0.8283)\")"
      ]
     },
     "execution_count": 58,
     "metadata": {},
     "output_type": "execute_result"
    },
    {
     "data": {
      "image/png": "[encoded data removed]",
      "text/plain": [
       "<Figure size 432x288 with 1 Axes>"
      ]
     },
     "metadata": {
      "needs_background": "light"
     },
     "output_type": "display_data"
    }
   ],
   "source": [
    "fpr, tpr, thresholds = roc_curve(y_test, y_pred_prob)\n",
    "plt.plot(fpr, tpr)\n",
    "plt.text(x = 0.02, y = 0.9, s = ('AUC Score:', round(metrics.roc_auc_score(y_test, y_pred),4)))"
   ]
  },
  {
   "cell_type": "code",
   "execution_count": 57,
   "metadata": {},
   "outputs": [
    {
     "name": "stdout",
     "output_type": "stream",
     "text": [
      "              precision    recall  f1-score   support\n",
      "\n",
      "           0       0.76      0.89      0.82        36\n",
      "           1       0.89      0.77      0.83        44\n",
      "\n",
      "    accuracy                           0.82        80\n",
      "   macro avg       0.83      0.83      0.82        80\n",
      "weighted avg       0.83      0.82      0.83        80\n",
      "\n"
     ]
    }
   ],
   "source": [
    "print(classification_report(y_pred,y_test))"
   ]
  },
  {
   "cell_type": "code",
   "execution_count": 53,
   "metadata": {},
   "outputs": [],
   "source": [
    "# create an empty dataframe to store the scores for various algorithms\n",
    "score_card = pd.DataFrame(columns=['Probability Cutoff', 'AUC Score', 'Precision Score', 'Recall Score',\n",
    "                                       'Accuracy Score', 'Kappa Score', 'f1-score'])\n",
    "\n",
    "# append the result table for all performance scores\n",
    "# performance measures considered for model comparision are 'AUC Score', 'Precision Score', 'Recall Score','Accuracy Score',\n",
    "# 'Kappa Score', and 'f1-score'\n",
    "# compile the required information in a user defined function \n",
    "def update_score_card(model, cutoff):\n",
    "    \n",
    "    # let 'y_pred_prob' be the predicted values of y\n",
    "    y_pred_prob = logreg.predict(x_test)\n",
    "\n",
    "    # convert probabilities to 0 and 1 using 'if_else'\n",
    "    y_pred = [ 0 if x < cutoff else 1 for x in y_pred_prob]\n",
    "    \n",
    "    # assign 'score_card' as global variable\n",
    "    global score_card\n",
    "\n",
    "    # append the results to the dataframe 'score_card'\n",
    "    # 'ignore_index = True' do not consider the index labels\n",
    "    score_card = score_card.append({'Probability Cutoff': cutoff,\n",
    "                                    'AUC Score' : metrics.roc_auc_score(y_test, y_pred),\n",
    "                                    'Precision Score': metrics.precision_score(y_test, y_pred),\n",
    "                                    'Recall Score': metrics.recall_score(y_test, y_pred),\n",
    "                                    'Accuracy Score': metrics.accuracy_score(y_test, y_pred),\n",
    "                                    'Kappa Score':metrics.cohen_kappa_score(y_test, y_pred),\n",
    "                                    'f1-score': metrics.f1_score(y_test, y_pred)}, \n",
    "                                    ignore_index = True)"
   ]
  },
  {
   "cell_type": "code",
   "execution_count": 54,
   "metadata": {},
   "outputs": [],
   "source": [
    "cutoff = [0.1, 0.2, 0.3, 0.4, 0.5, 0.6, 0.7, 0.8, 0.9]\n",
    "\n",
    "# use the for loop to compute performance measures for each value of the cut-off\n",
    "# call the update_score_card() to update the score card for each cut-off\n",
    "# pass the model and cut-off value to the function\n",
    "for value in cutoff:\n",
    "    update_score_card(logreg, value)"
   ]
  },
  {
   "cell_type": "code",
   "execution_count": 55,
   "metadata": {},
   "outputs": [
    {
     "name": "stdout",
     "output_type": "stream",
     "text": [
      "Score Card for Logistic regression:\n"
     ]
    },
    {
     "data": {
      "text/html": [
       "<style  type=\"text/css\" >\n",
       "#T_f8a9a784_bd4f_11eb_a544_e1afc196ca67row6_col1,#T_f8a9a784_bd4f_11eb_a544_e1afc196ca67row6_col4,#T_f8a9a784_bd4f_11eb_a544_e1afc196ca67row6_col5,#T_f8a9a784_bd4f_11eb_a544_e1afc196ca67row6_col6{\n",
       "            background-color:  lightblue;\n",
       "        }</style><table id=\"T_f8a9a784_bd4f_11eb_a544_e1afc196ca67\" ><thead>    <tr>        <th class=\"blank level0\" ></th>        <th class=\"col_heading level0 col0\" >Probability Cutoff</th>        <th class=\"col_heading level0 col1\" >AUC Score</th>        <th class=\"col_heading level0 col2\" >Precision Score</th>        <th class=\"col_heading level0 col3\" >Recall Score</th>        <th class=\"col_heading level0 col4\" >Accuracy Score</th>        <th class=\"col_heading level0 col5\" >Kappa Score</th>        <th class=\"col_heading level0 col6\" >f1-score</th>    </tr></thead><tbody>\n",
       "                <tr>\n",
       "                        <th id=\"T_f8a9a784_bd4f_11eb_a544_e1afc196ca67level0_row0\" class=\"row_heading level0 row0\" >0</th>\n",
       "                        <td id=\"T_f8a9a784_bd4f_11eb_a544_e1afc196ca67row0_col0\" class=\"data row0 col0\" >0.100000</td>\n",
       "                        <td id=\"T_f8a9a784_bd4f_11eb_a544_e1afc196ca67row0_col1\" class=\"data row0 col1\" >0.724937</td>\n",
       "                        <td id=\"T_f8a9a784_bd4f_11eb_a544_e1afc196ca67row0_col2\" class=\"data row0 col2\" >0.627119</td>\n",
       "                        <td id=\"T_f8a9a784_bd4f_11eb_a544_e1afc196ca67row0_col3\" class=\"data row0 col3\" >0.973684</td>\n",
       "                        <td id=\"T_f8a9a784_bd4f_11eb_a544_e1afc196ca67row0_col4\" class=\"data row0 col4\" >0.712500</td>\n",
       "                        <td id=\"T_f8a9a784_bd4f_11eb_a544_e1afc196ca67row0_col5\" class=\"data row0 col5\" >0.438339</td>\n",
       "                        <td id=\"T_f8a9a784_bd4f_11eb_a544_e1afc196ca67row0_col6\" class=\"data row0 col6\" >0.762887</td>\n",
       "            </tr>\n",
       "            <tr>\n",
       "                        <th id=\"T_f8a9a784_bd4f_11eb_a544_e1afc196ca67level0_row1\" class=\"row_heading level0 row1\" >1</th>\n",
       "                        <td id=\"T_f8a9a784_bd4f_11eb_a544_e1afc196ca67row1_col0\" class=\"data row1 col0\" >0.200000</td>\n",
       "                        <td id=\"T_f8a9a784_bd4f_11eb_a544_e1afc196ca67row1_col1\" class=\"data row1 col1\" >0.820175</td>\n",
       "                        <td id=\"T_f8a9a784_bd4f_11eb_a544_e1afc196ca67row1_col2\" class=\"data row1 col2\" >0.725490</td>\n",
       "                        <td id=\"T_f8a9a784_bd4f_11eb_a544_e1afc196ca67row1_col3\" class=\"data row1 col3\" >0.973684</td>\n",
       "                        <td id=\"T_f8a9a784_bd4f_11eb_a544_e1afc196ca67row1_col4\" class=\"data row1 col4\" >0.812500</td>\n",
       "                        <td id=\"T_f8a9a784_bd4f_11eb_a544_e1afc196ca67row1_col5\" class=\"data row1 col5\" >0.630086</td>\n",
       "                        <td id=\"T_f8a9a784_bd4f_11eb_a544_e1afc196ca67row1_col6\" class=\"data row1 col6\" >0.831461</td>\n",
       "            </tr>\n",
       "            <tr>\n",
       "                        <th id=\"T_f8a9a784_bd4f_11eb_a544_e1afc196ca67level0_row2\" class=\"row_heading level0 row2\" >2</th>\n",
       "                        <td id=\"T_f8a9a784_bd4f_11eb_a544_e1afc196ca67row2_col0\" class=\"data row2 col0\" >0.300000</td>\n",
       "                        <td id=\"T_f8a9a784_bd4f_11eb_a544_e1afc196ca67row2_col1\" class=\"data row2 col1\" >0.818922</td>\n",
       "                        <td id=\"T_f8a9a784_bd4f_11eb_a544_e1afc196ca67row2_col2\" class=\"data row2 col2\" >0.734694</td>\n",
       "                        <td id=\"T_f8a9a784_bd4f_11eb_a544_e1afc196ca67row2_col3\" class=\"data row2 col3\" >0.947368</td>\n",
       "                        <td id=\"T_f8a9a784_bd4f_11eb_a544_e1afc196ca67row2_col4\" class=\"data row2 col4\" >0.812500</td>\n",
       "                        <td id=\"T_f8a9a784_bd4f_11eb_a544_e1afc196ca67row2_col5\" class=\"data row2 col5\" >0.629172</td>\n",
       "                        <td id=\"T_f8a9a784_bd4f_11eb_a544_e1afc196ca67row2_col6\" class=\"data row2 col6\" >0.827586</td>\n",
       "            </tr>\n",
       "            <tr>\n",
       "                        <th id=\"T_f8a9a784_bd4f_11eb_a544_e1afc196ca67level0_row3\" class=\"row_heading level0 row3\" >3</th>\n",
       "                        <td id=\"T_f8a9a784_bd4f_11eb_a544_e1afc196ca67row3_col0\" class=\"data row3 col0\" >0.400000</td>\n",
       "                        <td id=\"T_f8a9a784_bd4f_11eb_a544_e1afc196ca67row3_col1\" class=\"data row3 col1\" >0.829574</td>\n",
       "                        <td id=\"T_f8a9a784_bd4f_11eb_a544_e1afc196ca67row3_col2\" class=\"data row3 col2\" >0.760870</td>\n",
       "                        <td id=\"T_f8a9a784_bd4f_11eb_a544_e1afc196ca67row3_col3\" class=\"data row3 col3\" >0.921053</td>\n",
       "                        <td id=\"T_f8a9a784_bd4f_11eb_a544_e1afc196ca67row3_col4\" class=\"data row3 col4\" >0.825000</td>\n",
       "                        <td id=\"T_f8a9a784_bd4f_11eb_a544_e1afc196ca67row3_col5\" class=\"data row3 col5\" >0.652605</td>\n",
       "                        <td id=\"T_f8a9a784_bd4f_11eb_a544_e1afc196ca67row3_col6\" class=\"data row3 col6\" >0.833333</td>\n",
       "            </tr>\n",
       "            <tr>\n",
       "                        <th id=\"T_f8a9a784_bd4f_11eb_a544_e1afc196ca67level0_row4\" class=\"row_heading level0 row4\" >4</th>\n",
       "                        <td id=\"T_f8a9a784_bd4f_11eb_a544_e1afc196ca67row4_col0\" class=\"data row4 col0\" >0.500000</td>\n",
       "                        <td id=\"T_f8a9a784_bd4f_11eb_a544_e1afc196ca67row4_col1\" class=\"data row4 col1\" >0.828321</td>\n",
       "                        <td id=\"T_f8a9a784_bd4f_11eb_a544_e1afc196ca67row4_col2\" class=\"data row4 col2\" >0.772727</td>\n",
       "                        <td id=\"T_f8a9a784_bd4f_11eb_a544_e1afc196ca67row4_col3\" class=\"data row4 col3\" >0.894737</td>\n",
       "                        <td id=\"T_f8a9a784_bd4f_11eb_a544_e1afc196ca67row4_col4\" class=\"data row4 col4\" >0.825000</td>\n",
       "                        <td id=\"T_f8a9a784_bd4f_11eb_a544_e1afc196ca67row4_col5\" class=\"data row4 col5\" >0.651741</td>\n",
       "                        <td id=\"T_f8a9a784_bd4f_11eb_a544_e1afc196ca67row4_col6\" class=\"data row4 col6\" >0.829268</td>\n",
       "            </tr>\n",
       "            <tr>\n",
       "                        <th id=\"T_f8a9a784_bd4f_11eb_a544_e1afc196ca67level0_row5\" class=\"row_heading level0 row5\" >5</th>\n",
       "                        <td id=\"T_f8a9a784_bd4f_11eb_a544_e1afc196ca67row5_col0\" class=\"data row5 col0\" >0.600000</td>\n",
       "                        <td id=\"T_f8a9a784_bd4f_11eb_a544_e1afc196ca67row5_col1\" class=\"data row5 col1\" >0.838972</td>\n",
       "                        <td id=\"T_f8a9a784_bd4f_11eb_a544_e1afc196ca67row5_col2\" class=\"data row5 col2\" >0.804878</td>\n",
       "                        <td id=\"T_f8a9a784_bd4f_11eb_a544_e1afc196ca67row5_col3\" class=\"data row5 col3\" >0.868421</td>\n",
       "                        <td id=\"T_f8a9a784_bd4f_11eb_a544_e1afc196ca67row5_col4\" class=\"data row5 col4\" >0.837500</td>\n",
       "                        <td id=\"T_f8a9a784_bd4f_11eb_a544_e1afc196ca67row5_col5\" class=\"data row5 col5\" >0.675406</td>\n",
       "                        <td id=\"T_f8a9a784_bd4f_11eb_a544_e1afc196ca67row5_col6\" class=\"data row5 col6\" >0.835443</td>\n",
       "            </tr>\n",
       "            <tr>\n",
       "                        <th id=\"T_f8a9a784_bd4f_11eb_a544_e1afc196ca67level0_row6\" class=\"row_heading level0 row6\" >6</th>\n",
       "                        <td id=\"T_f8a9a784_bd4f_11eb_a544_e1afc196ca67row6_col0\" class=\"data row6 col0\" >0.700000</td>\n",
       "                        <td id=\"T_f8a9a784_bd4f_11eb_a544_e1afc196ca67row6_col1\" class=\"data row6 col1\" >0.862782</td>\n",
       "                        <td id=\"T_f8a9a784_bd4f_11eb_a544_e1afc196ca67row6_col2\" class=\"data row6 col2\" >0.846154</td>\n",
       "                        <td id=\"T_f8a9a784_bd4f_11eb_a544_e1afc196ca67row6_col3\" class=\"data row6 col3\" >0.868421</td>\n",
       "                        <td id=\"T_f8a9a784_bd4f_11eb_a544_e1afc196ca67row6_col4\" class=\"data row6 col4\" >0.862500</td>\n",
       "                        <td id=\"T_f8a9a784_bd4f_11eb_a544_e1afc196ca67row6_col5\" class=\"data row6 col5\" >0.724656</td>\n",
       "                        <td id=\"T_f8a9a784_bd4f_11eb_a544_e1afc196ca67row6_col6\" class=\"data row6 col6\" >0.857143</td>\n",
       "            </tr>\n",
       "            <tr>\n",
       "                        <th id=\"T_f8a9a784_bd4f_11eb_a544_e1afc196ca67level0_row7\" class=\"row_heading level0 row7\" >7</th>\n",
       "                        <td id=\"T_f8a9a784_bd4f_11eb_a544_e1afc196ca67row7_col0\" class=\"data row7 col0\" >0.800000</td>\n",
       "                        <td id=\"T_f8a9a784_bd4f_11eb_a544_e1afc196ca67row7_col1\" class=\"data row7 col1\" >0.810150</td>\n",
       "                        <td id=\"T_f8a9a784_bd4f_11eb_a544_e1afc196ca67row7_col2\" class=\"data row7 col2\" >0.828571</td>\n",
       "                        <td id=\"T_f8a9a784_bd4f_11eb_a544_e1afc196ca67row7_col3\" class=\"data row7 col3\" >0.763158</td>\n",
       "                        <td id=\"T_f8a9a784_bd4f_11eb_a544_e1afc196ca67row7_col4\" class=\"data row7 col4\" >0.812500</td>\n",
       "                        <td id=\"T_f8a9a784_bd4f_11eb_a544_e1afc196ca67row7_col5\" class=\"data row7 col5\" >0.622642</td>\n",
       "                        <td id=\"T_f8a9a784_bd4f_11eb_a544_e1afc196ca67row7_col6\" class=\"data row7 col6\" >0.794521</td>\n",
       "            </tr>\n",
       "            <tr>\n",
       "                        <th id=\"T_f8a9a784_bd4f_11eb_a544_e1afc196ca67level0_row8\" class=\"row_heading level0 row8\" >8</th>\n",
       "                        <td id=\"T_f8a9a784_bd4f_11eb_a544_e1afc196ca67row8_col0\" class=\"data row8 col0\" >0.900000</td>\n",
       "                        <td id=\"T_f8a9a784_bd4f_11eb_a544_e1afc196ca67row8_col1\" class=\"data row8 col1\" >0.844612</td>\n",
       "                        <td id=\"T_f8a9a784_bd4f_11eb_a544_e1afc196ca67row8_col2\" class=\"data row8 col2\" >0.933333</td>\n",
       "                        <td id=\"T_f8a9a784_bd4f_11eb_a544_e1afc196ca67row8_col3\" class=\"data row8 col3\" >0.736842</td>\n",
       "                        <td id=\"T_f8a9a784_bd4f_11eb_a544_e1afc196ca67row8_col4\" class=\"data row8 col4\" >0.850000</td>\n",
       "                        <td id=\"T_f8a9a784_bd4f_11eb_a544_e1afc196ca67row8_col5\" class=\"data row8 col5\" >0.696203</td>\n",
       "                        <td id=\"T_f8a9a784_bd4f_11eb_a544_e1afc196ca67row8_col6\" class=\"data row8 col6\" >0.823529</td>\n",
       "            </tr>\n",
       "    </tbody></table>"
      ],
      "text/plain": [
       "<pandas.io.formats.style.Styler at 0x23b0f4f57f0>"
      ]
     },
     "execution_count": 55,
     "metadata": {},
     "output_type": "execute_result"
    }
   ],
   "source": [
    "print('Score Card for Logistic regression:')\n",
    "\n",
    "# sort the dataframe based on the probability cut-off values ascending order\n",
    "# 'reset_index' resets the index of the dataframe\n",
    "# 'drop = True' drops the previous index\n",
    "score_card = score_card.sort_values('Probability Cutoff').reset_index(drop = True)\n",
    "\n",
    "# color the cell in the columns 'AUC Score', 'Accuracy Score', 'Kappa Score', 'f1-score' having maximum values\n",
    "# 'style.highlight_max' assigns color to the maximum value\n",
    "# pass specified color to the parameter, 'color'\n",
    "# pass the data to limit the color assignment to the parameter, 'subset' \n",
    "score_card.style.highlight_max(color = 'lightblue', subset = ['AUC Score', 'Accuracy Score', 'Kappa Score', 'f1-score'])"
   ]
  },
  {
   "cell_type": "code",
   "execution_count": 64,
   "metadata": {},
   "outputs": [
    {
     "data": {
      "text/html": [
       "<div>\n",
       "<style scoped>\n",
       "    .dataframe tbody tr th:only-of-type {\n",
       "        vertical-align: middle;\n",
       "    }\n",
       "\n",
       "    .dataframe tbody tr th {\n",
       "        vertical-align: top;\n",
       "    }\n",
       "\n",
       "    .dataframe thead th {\n",
       "        text-align: right;\n",
       "    }\n",
       "</style>\n",
       "<table border=\"1\" class=\"dataframe\">\n",
       "  <thead>\n",
       "    <tr style=\"text-align: right;\">\n",
       "      <th></th>\n",
       "      <th>GRE Score</th>\n",
       "      <th>TOEFL Score</th>\n",
       "      <th>University Rating</th>\n",
       "      <th>SOP</th>\n",
       "      <th>LOR</th>\n",
       "      <th>CGPA</th>\n",
       "      <th>Research</th>\n",
       "    </tr>\n",
       "  </thead>\n",
       "  <tbody>\n",
       "    <tr>\n",
       "      <th>303</th>\n",
       "      <td>0.540391</td>\n",
       "      <td>-0.067635</td>\n",
       "      <td>-0.076600</td>\n",
       "      <td>0.099442</td>\n",
       "      <td>0.052933</td>\n",
       "      <td>-0.082148</td>\n",
       "      <td>0.909112</td>\n",
       "    </tr>\n",
       "    <tr>\n",
       "      <th>349</th>\n",
       "      <td>-0.332263</td>\n",
       "      <td>-1.057420</td>\n",
       "      <td>-0.076600</td>\n",
       "      <td>-0.894980</td>\n",
       "      <td>-0.504260</td>\n",
       "      <td>-0.938469</td>\n",
       "      <td>-1.099975</td>\n",
       "    </tr>\n",
       "    <tr>\n",
       "      <th>149</th>\n",
       "      <td>-0.506794</td>\n",
       "      <td>-0.232599</td>\n",
       "      <td>-0.952029</td>\n",
       "      <td>0.099442</td>\n",
       "      <td>-0.504260</td>\n",
       "      <td>-0.569076</td>\n",
       "      <td>0.909112</td>\n",
       "    </tr>\n",
       "    <tr>\n",
       "      <th>100</th>\n",
       "      <td>0.453126</td>\n",
       "      <td>-0.067635</td>\n",
       "      <td>-0.076600</td>\n",
       "      <td>0.099442</td>\n",
       "      <td>0.052933</td>\n",
       "      <td>-0.233263</td>\n",
       "      <td>0.909112</td>\n",
       "    </tr>\n",
       "    <tr>\n",
       "      <th>175</th>\n",
       "      <td>0.278595</td>\n",
       "      <td>0.592221</td>\n",
       "      <td>0.798829</td>\n",
       "      <td>1.093864</td>\n",
       "      <td>0.052933</td>\n",
       "      <td>0.455151</td>\n",
       "      <td>0.909112</td>\n",
       "    </tr>\n",
       "  </tbody>\n",
       "</table>\n",
       "</div>"
      ],
      "text/plain": [
       "     GRE Score  TOEFL Score  University Rating       SOP       LOR      CGPA  \\\n",
       "303   0.540391    -0.067635          -0.076600  0.099442  0.052933 -0.082148   \n",
       "349  -0.332263    -1.057420          -0.076600 -0.894980 -0.504260 -0.938469   \n",
       "149  -0.506794    -0.232599          -0.952029  0.099442 -0.504260 -0.569076   \n",
       "100   0.453126    -0.067635          -0.076600  0.099442  0.052933 -0.233263   \n",
       "175   0.278595     0.592221           0.798829  1.093864  0.052933  0.455151   \n",
       "\n",
       "     Research  \n",
       "303  0.909112  \n",
       "349 -1.099975  \n",
       "149  0.909112  \n",
       "100  0.909112  \n",
       "175  0.909112  "
      ]
     },
     "execution_count": 64,
     "metadata": {},
     "output_type": "execute_result"
    }
   ],
   "source": [
    "x_train.head()"
   ]
  },
  {
   "cell_type": "code",
   "execution_count": 73,
   "metadata": {},
   "outputs": [
    {
     "name": "stdout",
     "output_type": "stream",
     "text": [
      "Index(['GRE Score', 'University Rating', 'LOR', 'CGPA'], dtype='object')\n"
     ]
    }
   ],
   "source": [
    "logreg = LogisticRegression()\n",
    "rfe_model = RFE(estimator = logreg, n_features_to_select = 4)\n",
    "rfe_model = rfe_model.fit(x_train, y_train)\n",
    "feat_index = pd.Series(data = rfe_model.ranking_, index = x_train.columns)\n",
    "signi_feat_rfe = feat_index[feat_index==1].index\n",
    "print(signi_feat_rfe)"
   ]
  },
  {
   "cell_type": "code",
   "execution_count": 75,
   "metadata": {},
   "outputs": [
    {
     "name": "stdout",
     "output_type": "stream",
     "text": [
      "Optimization terminated successfully.\n",
      "         Current function value: 0.258466\n",
      "         Iterations 8\n",
      "                           Logit Regression Results                           \n",
      "==============================================================================\n",
      "Dep. Variable:        Chance of Admit   No. Observations:                  320\n",
      "Model:                          Logit   Df Residuals:                      317\n",
      "Method:                           MLE   Df Model:                            2\n",
      "Date:                Tue, 25 May 2021   Pseudo R-squ.:                  0.6237\n",
      "Time:                        17:52:11   Log-Likelihood:                -82.709\n",
      "converged:                       True   LL-Null:                       -219.78\n",
      "Covariance Type:            nonrobust   LLR p-value:                 2.963e-60\n",
      "=====================================================================================\n",
      "                        coef    std err          z      P>|z|      [0.025      0.975]\n",
      "-------------------------------------------------------------------------------------\n",
      "GRE Score             0.8758      0.356      2.463      0.014       0.179       1.573\n",
      "University Rating     0.9716      0.332      2.928      0.003       0.321       1.622\n",
      "CGPA                  2.7279      0.488      5.588      0.000       1.771       3.685\n",
      "=====================================================================================\n"
     ]
    }
   ],
   "source": [
    "logreg_rfe = sm.Logit(y_train, x_train[[ 'GRE Score', 'University Rating', 'CGPA']]).fit()\n",
    "print(logreg_rfe.summary())"
   ]
  },
  {
   "cell_type": "code",
   "execution_count": 80,
   "metadata": {},
   "outputs": [],
   "source": [
    "ref_pred=logreg_rfe.predict(x_test[[ 'GRE Score', 'University Rating', 'CGPA']])"
   ]
  }
 ],
 "metadata": {
  "kernelspec": {
   "display_name": "Python 3",
   "language": "python",
   "name": "python3"
  },
  "language_info": {
   "codemirror_mode": {
    "name": "ipython",
    "version": 3
   },
   "file_extension": ".py",
   "mimetype": "text/x-python",
   "name": "python",
   "nbconvert_exporter": "python",
   "pygments_lexer": "ipython3",
   "version": "3.8.5"
  }
 },
 "nbformat": 4,
 "nbformat_minor": 4
}
