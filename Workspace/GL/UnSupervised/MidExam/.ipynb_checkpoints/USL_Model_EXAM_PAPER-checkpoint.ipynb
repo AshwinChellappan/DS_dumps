{
 "cells": [
  {
   "cell_type": "markdown",
   "metadata": {
    "id": "j8mRQmWr7Z2s"
   },
   "source": [
    "# USL MID EXAM"
   ]
  },
  {
   "cell_type": "markdown",
   "metadata": {
    "id": "GH-vv_Il2OsK"
   },
   "source": [
    "##### DATA SET DESCRIPTION : \n",
    "\n",
    "\n",
    "The Avila data set has been extracted from 800 images of the the \"Avila Bible\", a giant Latin copy of the whole Bible produced during the XII century between Italy and Spain.  \n",
    "The palaeographic analysis of the manuscript has individuated the presence of 12 copyists. The pages written by each copyist are not equally numerous. \n",
    "Each pattern contains 10 features and corresponds to a group of 4 consecutive rows.\n",
    "\n",
    "The prediction task consists in associating each pattern to one of the 12 copyists (labeled as: A, B, C, D, E, F, G, H, I, W, X, Y). The data have has been normalized, by using the Z-normalization method.\n",
    "\n",
    "Drop the labeled(Class) column from the dataset for the clustering purpose. If required used the label column for cluster quality evaluation purpose.\n"
   ]
  },
  {
   "cell_type": "markdown",
   "metadata": {
    "id": "NXHSpx3w2OsK"
   },
   "source": [
    "\n",
    "* F1\t=intercolumnar distance\n",
    "* F2=\tupper margin\n",
    "* F3\t=lower margin\n",
    "* F4\t=exploitation\n",
    "* F5\t=row number\n",
    "* F6\t=modular ratio\n",
    "* F7\t=interlinear spacing\n",
    "* F8\t=weight\n",
    "* F9\t=peak number\n",
    "* F10\t=modular ratio/ interlinear spacing\n",
    "* Class=\tA, B, C, D, E, F, G, H, I, W, X, Y\n"
   ]
  },
  {
   "cell_type": "code",
   "execution_count": null,
   "metadata": {
    "id": "QRDp2ngTqriF"
   },
   "outputs": [],
   "source": [
    "# Kindly change the below cells from markdown to code and execute it "
   ]
  },
  {
   "cell_type": "markdown",
   "metadata": {
    "id": "LKQC6w15qriK"
   },
   "source": [
    "import pandas as pd\n",
    "\n",
    "import csv\n",
    "\n",
    "with open(\"data_set.csv\",\"r\")as file:\n",
    "\n",
    "    reader=csv.reader(file)\n",
    "    \n",
    "df=pd.read_csv(\"data_set.csv\")\n",
    "\n",
    "df.head()\n"
   ]
  },
  {
   "cell_type": "markdown",
   "metadata": {
    "id": "LalRSDxV4vhC"
   },
   "source": [
    "### 1. Data Understanding (8 marks)\n",
    "\n",
    "#### a. Read the dataset (tab, csv, xls, txt, inbuilt dataset). What are the number of rows and no. of cols\n",
    "& types of variables (continuous, categorical etc.)? (1 MARK)\n",
    "\n"
   ]
  },
  {
   "cell_type": "code",
   "execution_count": null,
   "metadata": {
    "id": "1rpTQ1i57Z27"
   },
   "outputs": [],
   "source": []
  },
  {
   "cell_type": "code",
   "execution_count": null,
   "metadata": {
    "id": "FQ-SHX_E8CNX"
   },
   "outputs": [],
   "source": []
  },
  {
   "cell_type": "markdown",
   "metadata": {
    "id": "lpBTYvw28Ezi"
   },
   "source": [
    "#### b Calculate five-point summary for numerical variables (1 MARK) "
   ]
  },
  {
   "cell_type": "code",
   "execution_count": null,
   "metadata": {
    "id": "TqW5T1K67Z3I"
   },
   "outputs": [],
   "source": []
  },
  {
   "cell_type": "markdown",
   "metadata": {
    "id": "jffujtLi8M_u"
   },
   "source": [
    "#### c. Summarize observations for categorical variables – no. of categories, % observations in each category.  (2 MARKS)"
   ]
  },
  {
   "cell_type": "code",
   "execution_count": null,
   "metadata": {
    "id": "vs6E7aU07Z3T"
   },
   "outputs": [],
   "source": []
  },
  {
   "cell_type": "markdown",
   "metadata": {
    "id": "oc9ljItS7Z3Y"
   },
   "source": [
    "#### d. Generate the covariance and correlation tables for the data (2 MARKS)"
   ]
  },
  {
   "cell_type": "code",
   "execution_count": null,
   "metadata": {
    "id": "FG1TlcH97Z3Z"
   },
   "outputs": [],
   "source": []
  },
  {
   "cell_type": "markdown",
   "metadata": {
    "id": "S1Dr9k137Z3d"
   },
   "source": [
    "##### e. Create Visualization plots to find the relationship amongst the variables. (2 MARKS) "
   ]
  },
  {
   "cell_type": "code",
   "execution_count": null,
   "metadata": {
    "id": "9xOABzrJ7Z3e"
   },
   "outputs": [],
   "source": []
  },
  {
   "cell_type": "markdown",
   "metadata": {
    "id": "rsO5AATt42Cl"
   },
   "source": [
    "### 2. How will you decide when to apply PCA based on the correlation? (5 marks)\n",
    "\n",
    "#### Apply PCA on the above dataset and determine the number of PCA components to be used so that 95% of the variance in data is explained by the same. (12 marks)"
   ]
  },
  {
   "cell_type": "code",
   "execution_count": null,
   "metadata": {
    "id": "jPzKjvWF7Z3j"
   },
   "outputs": [],
   "source": []
  },
  {
   "cell_type": "markdown",
   "metadata": {
    "id": "gC28pkuO8SiV"
   },
   "source": [
    "### 3. Use PCA dimensions to cluster the data. Apply K-means/ Agglomerative clustering based on the data. (25 Marks) Some pointers which would help you, but don’t be limited by these "
   ]
  },
  {
   "cell_type": "code",
   "execution_count": null,
   "metadata": {
    "id": "NWwpjbcY8XRr"
   },
   "outputs": [],
   "source": []
  },
  {
   "cell_type": "markdown",
   "metadata": {
    "id": "DBz210z58Uz_"
   },
   "source": [
    "#### a. Find the optimal K Value. (6 marks)"
   ]
  },
  {
   "cell_type": "code",
   "execution_count": null,
   "metadata": {
    "id": "Hkk04XfR7Z3w"
   },
   "outputs": [],
   "source": []
  },
  {
   "cell_type": "markdown",
   "metadata": {
    "id": "_PsMu6947Z30"
   },
   "source": [
    "#### b.\tApply Clustering and find out if the data points have been clustered correctly using appropriate visualization (8 marks)"
   ]
  },
  {
   "cell_type": "code",
   "execution_count": null,
   "metadata": {
    "id": "UZdk0fBY7Z30"
   },
   "outputs": [],
   "source": []
  },
  {
   "cell_type": "markdown",
   "metadata": {
    "id": "eJKrPg-Y7Z34"
   },
   "source": [
    "#### c.\tEvaluate the clusters formed using appropriate metrics to support the model built. (6 marks)"
   ]
  },
  {
   "cell_type": "code",
   "execution_count": null,
   "metadata": {
    "id": "rAKhv8eo7Z35"
   },
   "outputs": [],
   "source": []
  },
  {
   "cell_type": "markdown",
   "metadata": {
    "id": "DBLnljbc7Z39"
   },
   "source": [
    "#### d.Write down a business interpretation/explanation of the model – which variables are affecting the target the most and explain the relationship. What changes from the base model had the most effect on model performance? (5 marks)"
   ]
  },
  {
   "cell_type": "code",
   "execution_count": null,
   "metadata": {
    "id": "r8AS2ZOA7Z3-"
   },
   "outputs": [],
   "source": []
  }
 ],
 "metadata": {
  "colab": {
   "collapsed_sections": [],
   "name": "USL_30_MARKS_SET_5_EXAM_PAPER.ipynb",
   "provenance": []
  },
  "kernelspec": {
   "display_name": "Python 3",
   "language": "python",
   "name": "python3"
  },
  "language_info": {
   "codemirror_mode": {
    "name": "ipython",
    "version": 3
   },
   "file_extension": ".py",
   "mimetype": "text/x-python",
   "name": "python",
   "nbconvert_exporter": "python",
   "pygments_lexer": "ipython3",
   "version": "3.8.3"
  }
 },
 "nbformat": 4,
 "nbformat_minor": 1
}
