{
 "cells": [
  {
   "cell_type": "markdown",
   "metadata": {},
   "source": [
    "<table align=\"center\" width=100%>\n",
    "    <tr>\n",
    "        <td width=\"15%\">\n",
    "            <img src=\"homework.png\">\n",
    "        </td>\n",
    "        <td>\n",
    "            <div align=\"center\">\n",
    "                <font color=\"#21618C\" size=8px>\n",
    "                    <b> Take-Home <br>(Week 1)\n",
    "                    </b>\n",
    "                </font>\n",
    "            </div>\n",
    "        </td>\n",
    "    </tr>\n",
    "</table>"
   ]
  },
  {
   "cell_type": "markdown",
   "metadata": {},
   "source": [
    "#### Import the required libraries"
   ]
  },
  {
   "cell_type": "code",
   "execution_count": 1,
   "metadata": {},
   "outputs": [],
   "source": [
    "# import 'Pandas' \n",
    "import pandas as pd \n",
    "\n",
    "# import 'Numpy' \n",
    "import numpy as np\n",
    "\n",
    "# import subpackage of Matplotlib\n",
    "import matplotlib.pyplot as plt\n",
    "import matplotlib.cm as cm\n",
    "\n",
    "# import 'Seaborn' \n",
    "import seaborn as sns\n",
    "\n",
    "# to suppress warnings \n",
    "from warnings import filterwarnings\n",
    "filterwarnings('ignore')\n",
    " \n",
    "# import functions to perform scaling and normalization\n",
    "from sklearn.preprocessing import MinMaxScaler\n",
    "\n",
    "# import various functions from sklearn \n",
    "from sklearn.metrics import silhouette_score, silhouette_samples\n",
    "from sklearn.cluster import KMeans"
   ]
  },
  {
   "cell_type": "code",
   "execution_count": 2,
   "metadata": {},
   "outputs": [],
   "source": [
    "# set the plot size using 'rcParams'\n",
    "# once the plot size is set using 'rcParams', it sets the size of all the forthcoming plots in the file\n",
    "# pass width and height in inches to 'figure.figsize' \n",
    "plt.rcParams['figure.figsize'] = [15,8]"
   ]
  },
  {
   "cell_type": "markdown",
   "metadata": {},
   "source": [
    "#### Read the data\n",
    "\n",
    "Load the csv file and print the first five observations."
   ]
  },
  {
   "cell_type": "code",
   "execution_count": 3,
   "metadata": {
    "scrolled": true
   },
   "outputs": [
    {
     "data": {
      "text/html": [
       "<div>\n",
       "<style scoped>\n",
       "    .dataframe tbody tr th:only-of-type {\n",
       "        vertical-align: middle;\n",
       "    }\n",
       "\n",
       "    .dataframe tbody tr th {\n",
       "        vertical-align: top;\n",
       "    }\n",
       "\n",
       "    .dataframe thead th {\n",
       "        text-align: right;\n",
       "    }\n",
       "</style>\n",
       "<table border=\"1\" class=\"dataframe\">\n",
       "  <thead>\n",
       "    <tr style=\"text-align: right;\">\n",
       "      <th></th>\n",
       "      <th>Region</th>\n",
       "      <th>Vegetables</th>\n",
       "      <th>Personal_care</th>\n",
       "      <th>Milk</th>\n",
       "      <th>Grocery</th>\n",
       "      <th>Plasticware</th>\n",
       "    </tr>\n",
       "  </thead>\n",
       "  <tbody>\n",
       "    <tr>\n",
       "      <th>0</th>\n",
       "      <td>Rochester</td>\n",
       "      <td>12667</td>\n",
       "      <td>2674</td>\n",
       "      <td>9656</td>\n",
       "      <td>7561</td>\n",
       "      <td>212</td>\n",
       "    </tr>\n",
       "    <tr>\n",
       "      <th>1</th>\n",
       "      <td>Rochester</td>\n",
       "      <td>7058</td>\n",
       "      <td>3293</td>\n",
       "      <td>9810</td>\n",
       "      <td>9568</td>\n",
       "      <td>1757</td>\n",
       "    </tr>\n",
       "    <tr>\n",
       "      <th>2</th>\n",
       "      <td>Rochester</td>\n",
       "      <td>6346</td>\n",
       "      <td>3516</td>\n",
       "      <td>8808</td>\n",
       "      <td>7684</td>\n",
       "      <td>2408</td>\n",
       "    </tr>\n",
       "    <tr>\n",
       "      <th>3</th>\n",
       "      <td>Rochester</td>\n",
       "      <td>13251</td>\n",
       "      <td>507</td>\n",
       "      <td>1196</td>\n",
       "      <td>4221</td>\n",
       "      <td>6407</td>\n",
       "    </tr>\n",
       "    <tr>\n",
       "      <th>4</th>\n",
       "      <td>Rochester</td>\n",
       "      <td>22620</td>\n",
       "      <td>1777</td>\n",
       "      <td>5410</td>\n",
       "      <td>7198</td>\n",
       "      <td>3908</td>\n",
       "    </tr>\n",
       "  </tbody>\n",
       "</table>\n",
       "</div>"
      ],
      "text/plain": [
       "      Region  Vegetables  Personal_care  Milk  Grocery  Plasticware\n",
       "0  Rochester       12667           2674  9656     7561          212\n",
       "1  Rochester        7058           3293  9810     9568         1757\n",
       "2  Rochester        6346           3516  8808     7684         2408\n",
       "3  Rochester       13251            507  1196     4221         6407\n",
       "4  Rochester       22620           1777  5410     7198         3908"
      ]
     },
     "execution_count": 3,
     "metadata": {},
     "output_type": "execute_result"
    }
   ],
   "source": [
    "# read the data\n",
    "df_retail = pd.read_csv(\"wholesale_cust.csv\")\n",
    "\n",
    "# display the first five rows of the data\n",
    "df_retail.head()"
   ]
  },
  {
   "cell_type": "markdown",
   "metadata": {},
   "source": [
    "The dataset includes the yearly spendings (in dollars) of the retailers on the products purchased from the wholesale market. Our objective is to group the retailers based on their purchase. "
   ]
  },
  {
   "cell_type": "markdown",
   "metadata": {},
   "source": [
    "**The data definition is as follows:** <br>\n",
    "\n",
    "**Region**:  City of the retailer\n",
    "\n",
    "**Vegetables**: Annual spending on vegetables\n",
    "\n",
    "**Personal_care**: Annual spending on personal care products\n",
    "\n",
    "**Milk**: Annual spending on milk and milk products\n",
    "\n",
    "**Grocery**: Annual spending on grocery\n",
    "\n",
    "**Plasticware**: Annual spending on plasticware (container, bottles, dishes and so on)"
   ]
  },
  {
   "cell_type": "markdown",
   "metadata": {},
   "source": [
    "### Let's begin with some hands-on practice exercises"
   ]
  },
  {
   "cell_type": "markdown",
   "metadata": {},
   "source": [
    "<table align=\"left\">\n",
    "    <tr>\n",
    "        <td width=\"6%\">\n",
    "            <img src=\"question_icon.png\">\n",
    "        </td>\n",
    "        <td>\n",
    "            <div align=\"left\", style=\"font-size:120%\">\n",
    "                <font color=\"#21618C\">\n",
    "                    <b>1. Is there any retailer whose entry is recorded more than once? If yes, do the needful.</b>\n",
    "                </font>\n",
    "            </div>\n",
    "        </td>\n",
    "    </tr>\n",
    "</table>"
   ]
  },
  {
   "cell_type": "code",
   "execution_count": 4,
   "metadata": {},
   "outputs": [
    {
     "data": {
      "text/plain": [
       "Int64Index([30, 277, 317, 430, 443], dtype='int64')"
      ]
     },
     "execution_count": 4,
     "metadata": {},
     "output_type": "execute_result"
    }
   ],
   "source": [
    "# identify any duplicate records in the data\n",
    "# find the row indices of the duplicate entries\n",
    "df_retail[df_retail.duplicated() == True].index"
   ]
  },
  {
   "cell_type": "markdown",
   "metadata": {},
   "source": [
    "The indices in the above output represents the duplicate records. Let us remove these observations from the original data."
   ]
  },
  {
   "cell_type": "code",
   "execution_count": 5,
   "metadata": {},
   "outputs": [
    {
     "data": {
      "text/plain": [
       "False    439\n",
       "dtype: int64"
      ]
     },
     "execution_count": 5,
     "metadata": {},
     "output_type": "execute_result"
    }
   ],
   "source": [
    "# drop the duplicates\n",
    "# ignore the row indexes using 'ignore_index = True'\n",
    "df_retail = df_retail.drop_duplicates(ignore_index = True)\n",
    "\n",
    "# check for the duplicates in the new dataframe \n",
    "df_retail.duplicated().value_counts()"
   ]
  },
  {
   "cell_type": "markdown",
   "metadata": {},
   "source": [
    "**Interpretation**: The above output shows that there are no duplicates in the data. And now there are 439 unique entries in the data."
   ]
  },
  {
   "cell_type": "markdown",
   "metadata": {},
   "source": [
    "<table align=\"left\">\n",
    "    <tr>\n",
    "        <td width=\"6%\">\n",
    "            <img src=\"question_icon.png\">\n",
    "        </td>\n",
    "        <td>\n",
    "            <div align=\"left\", style=\"font-size:120%\">\n",
    "                <font color=\"#21618C\">\n",
    "                    <b>2. Identify the different cities to which the retailers belong. Also, visualize their count in different cities.</b>\n",
    "                </font>\n",
    "            </div>\n",
    "        </td>\n",
    "    </tr>\n",
    "</table>"
   ]
  },
  {
   "cell_type": "code",
   "execution_count": 6,
   "metadata": {},
   "outputs": [
    {
     "data": {
      "text/plain": [
       "array(['Rochester', 'Oneonta', 'Albany'], dtype=object)"
      ]
     },
     "execution_count": 6,
     "metadata": {},
     "output_type": "execute_result"
    }
   ],
   "source": [
    "# use 'unique()' to identify the different cities in the data\n",
    "df_retail.Region.unique()"
   ]
  },
  {
   "cell_type": "markdown",
   "metadata": {},
   "source": [
    "The retailers are from 3 different cities. Now let us use the countplot to visualize the count of retailers in each city."
   ]
  },
  {
   "cell_type": "code",
   "execution_count": 7,
   "metadata": {},
   "outputs": [
    {
     "data": {
      "image/png": "[encoded data removed]",
      "text/plain": [
       "<Figure size 1080x576 with 1 Axes>"
      ]
     },
     "metadata": {
      "needs_background": "light"
     },
     "output_type": "display_data"
    }
   ],
   "source": [
    "# use a countplot to plot the number of retailers for each region\n",
    "sns.countplot(x = df_retail.Region)\n",
    "\n",
    "# use below code to print the values in the graph\n",
    "# 'x' and 'y' gives position of the text\n",
    "# 's' is the text \n",
    "plt.text(x = -0.05, y = df_retail.Region.value_counts()[0] + 1, s = df_retail.Region.value_counts()[0])\n",
    "plt.text(x = 0.98, y = df_retail.Region.value_counts()[1] + 1, s = df_retail.Region.value_counts()[1])\n",
    "plt.text(x = 1.98, y = df_retail.Region.value_counts()[2] + 1, s = df_retail.Region.value_counts()[2])\n",
    "\n",
    "# set plot and axes labels\n",
    "# set text size using 'fontsize'\n",
    "plt.title('Distribution of Region', fontsize = 15)\n",
    "plt.xlabel('Region', fontsize = 15)\n",
    "plt.ylabel('Number of Retailers', fontsize = 15)\n",
    "\n",
    "# display the plot\n",
    "plt.show()"
   ]
  },
  {
   "cell_type": "markdown",
   "metadata": {},
   "source": [
    "**Interpretation**: The above plot shows that 315 retailers are from Rochester. The number of retailers from Albany is least."
   ]
  },
  {
   "cell_type": "markdown",
   "metadata": {},
   "source": [
    "<table align=\"left\">\n",
    "    <tr>\n",
    "        <td width=\"6%\">\n",
    "            <img src=\"question_icon.png\">\n",
    "        </td>\n",
    "        <td>\n",
    "            <div align=\"left\", style=\"font-size:120%\">\n",
    "                <font color=\"#21618C\">\n",
    "                    <b>3. Identify the extreme observations in the data using a visualization technique. </b>\n",
    "                </font>\n",
    "            </div>\n",
    "        </td>\n",
    "    </tr>\n",
    "</table>"
   ]
  },
  {
   "cell_type": "code",
   "execution_count": 8,
   "metadata": {},
   "outputs": [
    {
     "data": {
      "image/png": "[encoded data removed]",
      "text/plain": [
       "<Figure size 1080x576 with 6 Axes>"
      ]
     },
     "metadata": {
      "needs_background": "light"
     },
     "output_type": "display_data"
    }
   ],
   "source": [
    "# consider the numeric variables\n",
    "# remove the categorical variable 'Region'\n",
    "df_num = df_retail.drop(['Region'], axis = 1)\n",
    "\n",
    "# plot the boxplot for each numerical variable to identify the outliers\n",
    "# set the number of rows in the subplot using the parameter, 'nrows'\n",
    "# set the number of columns in the subplot using the parameter, 'ncols'\n",
    "# 'figsize' sets the figure size\n",
    "fig, ax = plt.subplots(nrows = 2, ncols = 3, figsize=(15, 8))\n",
    "\n",
    "# use for loop to plot the boxplot for each variable\n",
    "for variable, subplot in zip(df_num.columns, ax.flatten()):\n",
    "    \n",
    "    # use boxplot() to plot the graph\n",
    "    # pass the axes for the plot to the parameter, 'ax'\n",
    "    sns.boxplot(df_retail[variable], ax = subplot)\n",
    "\n",
    "# adjust the subplots\n",
    "plt.tight_layout()\n",
    "  \n",
    "# display the plot\n",
    "plt.show()"
   ]
  },
  {
   "cell_type": "markdown",
   "metadata": {},
   "source": [
    "**Interpretation**: The above boxplots show the presence of extreme observations in each of the variables."
   ]
  },
  {
   "cell_type": "markdown",
   "metadata": {},
   "source": [
    "<table align=\"left\">\n",
    "    <tr>\n",
    "        <td width=\"6%\">\n",
    "            <img src=\"question_icon.png\">\n",
    "        </td>\n",
    "        <td>\n",
    "            <div align=\"left\", style=\"font-size:120%\">\n",
    "                <font color=\"#21618C\">\n",
    "                    <b>4. Use the appropriate technique to remove the observations greater than 3*IQR above the third quartile.\n",
    "                    </b>\n",
    "                </font>\n",
    "            </div>\n",
    "        </td>\n",
    "    </tr>\n",
    "</table>"
   ]
  },
  {
   "cell_type": "markdown",
   "metadata": {},
   "source": [
    "Here we use the IQR method to remove the data points greater than (third quartile + 3.IQR)"
   ]
  },
  {
   "cell_type": "code",
   "execution_count": 9,
   "metadata": {},
   "outputs": [
    {
     "data": {
      "text/plain": [
       "(406, 6)"
      ]
     },
     "execution_count": 9,
     "metadata": {},
     "output_type": "execute_result"
    }
   ],
   "source": [
    "# calculate the first quartile\n",
    "Q1 = df_retail.quantile(0.25)\n",
    "\n",
    "# calculate the third quartile\n",
    "Q3 = df_retail.quantile(0.75)\n",
    "\n",
    "# The Interquartile Range (IQR) is defined as the difference between the third and first quartile\n",
    "# calculate IQR for each numeric variable\n",
    "IQR = Q3 - Q1\n",
    "\n",
    "# retrieve the dataframe without the observations greater than Q3+3*IQR\n",
    "# '~' returns the values that do not satisfy the given conditions \n",
    "# i.e. it returns values between the less than Q3+3*IQR\n",
    "# 'any(axis=1)' checks the entire row for atleast one 'True' entry (those rows represents outliers in the data)\n",
    "df_retail = df_retail[~(df_retail > (Q3 + 3 * IQR)).any(axis=1)]\n",
    "\n",
    "# check the shape of the data\n",
    "df_retail.shape"
   ]
  },
  {
   "cell_type": "markdown",
   "metadata": {},
   "source": [
    "**Interpretation**: The above output shows that 33 extreme outliers are removed from the data."
   ]
  },
  {
   "cell_type": "markdown",
   "metadata": {},
   "source": [
    "<table align=\"left\">\n",
    "    <tr>\n",
    "        <td width=\"6%\">\n",
    "            <img src=\"question_icon.png\">\n",
    "        </td>\n",
    "        <td>\n",
    "            <div align=\"left\", style=\"font-size:120%\">\n",
    "                <font color=\"#21618C\">\n",
    "                    <b>5. Transform the numerical variables such that the values will be between 0 and 1.\n",
    "                    </b>\n",
    "                </font>\n",
    "            </div>\n",
    "        </td>\n",
    "    </tr>\n",
    "</table>"
   ]
  },
  {
   "cell_type": "code",
   "execution_count": 10,
   "metadata": {},
   "outputs": [
    {
     "data": {
      "text/html": [
       "<div>\n",
       "<style scoped>\n",
       "    .dataframe tbody tr th:only-of-type {\n",
       "        vertical-align: middle;\n",
       "    }\n",
       "\n",
       "    .dataframe tbody tr th {\n",
       "        vertical-align: top;\n",
       "    }\n",
       "\n",
       "    .dataframe thead th {\n",
       "        text-align: right;\n",
       "    }\n",
       "</style>\n",
       "<table border=\"1\" class=\"dataframe\">\n",
       "  <thead>\n",
       "    <tr style=\"text-align: right;\">\n",
       "      <th></th>\n",
       "      <th>Vegetables</th>\n",
       "      <th>Personal_care</th>\n",
       "      <th>Milk</th>\n",
       "      <th>Grocery</th>\n",
       "      <th>Plasticware</th>\n",
       "    </tr>\n",
       "  </thead>\n",
       "  <tbody>\n",
       "    <tr>\n",
       "      <th>0</th>\n",
       "      <td>0.225515</td>\n",
       "      <td>0.180011</td>\n",
       "      <td>0.409920</td>\n",
       "      <td>0.217163</td>\n",
       "      <td>0.018091</td>\n",
       "    </tr>\n",
       "    <tr>\n",
       "      <th>1</th>\n",
       "      <td>0.125632</td>\n",
       "      <td>0.221728</td>\n",
       "      <td>0.416472</td>\n",
       "      <td>0.274860</td>\n",
       "      <td>0.151822</td>\n",
       "    </tr>\n",
       "    <tr>\n",
       "      <th>2</th>\n",
       "      <td>0.112953</td>\n",
       "      <td>0.236757</td>\n",
       "      <td>0.373846</td>\n",
       "      <td>0.220699</td>\n",
       "      <td>0.208171</td>\n",
       "    </tr>\n",
       "    <tr>\n",
       "      <th>3</th>\n",
       "      <td>0.235914</td>\n",
       "      <td>0.033967</td>\n",
       "      <td>0.050028</td>\n",
       "      <td>0.121144</td>\n",
       "      <td>0.554315</td>\n",
       "    </tr>\n",
       "    <tr>\n",
       "      <th>4</th>\n",
       "      <td>0.402753</td>\n",
       "      <td>0.119558</td>\n",
       "      <td>0.229293</td>\n",
       "      <td>0.206727</td>\n",
       "      <td>0.338007</td>\n",
       "    </tr>\n",
       "  </tbody>\n",
       "</table>\n",
       "</div>"
      ],
      "text/plain": [
       "   Vegetables  Personal_care      Milk   Grocery  Plasticware\n",
       "0    0.225515       0.180011  0.409920  0.217163     0.018091\n",
       "1    0.125632       0.221728  0.416472  0.274860     0.151822\n",
       "2    0.112953       0.236757  0.373846  0.220699     0.208171\n",
       "3    0.235914       0.033967  0.050028  0.121144     0.554315\n",
       "4    0.402753       0.119558  0.229293  0.206727     0.338007"
      ]
     },
     "execution_count": 10,
     "metadata": {},
     "output_type": "execute_result"
    }
   ],
   "source": [
    "# consider the numerical variables\n",
    "num_var = df_retail.drop(['Region'], axis=1)\n",
    "\n",
    "# initialize the MinMaxScaler\n",
    "X_norm = MinMaxScaler()\n",
    "\n",
    "# normalize all the columns of the dataframe 'num_var'\n",
    "num_norm = X_norm.fit_transform(num_var)\n",
    "\n",
    "# create a dataframe of normalized variables\n",
    "# pass the required column names to the parameter 'columns'\n",
    "X_scaled = pd.DataFrame(num_norm, columns = num_var.columns)\n",
    "\n",
    "X_scaled.head()"
   ]
  },
  {
   "cell_type": "code",
   "execution_count": 11,
   "metadata": {},
   "outputs": [
    {
     "name": "stdout",
     "output_type": "stream",
     "text": [
      "Minimum: \n",
      " Vegetables       0.0\n",
      "Personal_care    0.0\n",
      "Milk             0.0\n",
      "Grocery          0.0\n",
      "Plasticware      0.0\n",
      "dtype: float64\n",
      "Maximum: \n",
      " Vegetables       1.0\n",
      "Personal_care    1.0\n",
      "Milk             1.0\n",
      "Grocery          1.0\n",
      "Plasticware      1.0\n",
      "dtype: float64\n"
     ]
    }
   ],
   "source": [
    "# check the min() and max() of each variable\n",
    "print('Minimum: \\n', X_scaled.min())\n",
    "\n",
    "print('Maximum: \\n', X_scaled.max())"
   ]
  },
  {
   "cell_type": "markdown",
   "metadata": {},
   "source": [
    "**Interpretation**: The minimum and maximum value for each variable is 0 and 1 respectively. Thus we can say that all the variables have values between 0 and 1."
   ]
  },
  {
   "cell_type": "markdown",
   "metadata": {},
   "source": [
    "<table align=\"left\">\n",
    "    <tr>\n",
    "        <td width=\"6%\">\n",
    "            <img src=\"question_icon.png\">\n",
    "        </td>\n",
    "        <td>\n",
    "            <div align=\"left\", style=\"font-size:120%\">\n",
    "                <font color=\"#21618C\">\n",
    "                    <b>6. Perform K-Means clustering with varying K from 2 to 4, and identify the optimal number of clusters using the Silhouette plot.\n",
    "                    </b>\n",
    "                </font>\n",
    "            </div>\n",
    "        </td>\n",
    "    </tr>\n",
    "</table>"
   ]
  },
  {
   "cell_type": "code",
   "execution_count": 12,
   "metadata": {
    "scrolled": false
   },
   "outputs": [
    {
     "data": {
      "image/png": "[encoded data removed]",
      "text/plain": [
       "<Figure size 1080x576 with 1 Axes>"
      ]
     },
     "metadata": {
      "needs_background": "light"
     },
     "output_type": "display_data"
    },
    {
     "data": {
      "image/png": "[encoded data removed]",
      "text/plain": [
       "<Figure size 1080x576 with 1 Axes>"
      ]
     },
     "metadata": {
      "needs_background": "light"
     },
     "output_type": "display_data"
    },
    {
     "data": {
      "image/png": "[encoded data removed]",
      "text/plain": [
       "<Figure size 1080x576 with 1 Axes>"
      ]
     },
     "metadata": {
      "needs_background": "light"
     },
     "output_type": "display_data"
    }
   ],
   "source": [
    "# consider different K values\n",
    "n_clusters = [2, 3, 4]\n",
    "\n",
    "# consider an array of the data\n",
    "X_scaled = np.array(X_scaled)\n",
    "\n",
    "# for each value of K, plot the silhouette plot\n",
    "for K in n_clusters:\n",
    "    \n",
    "    # create a subplot with 1 row and 2 columns\n",
    "    fig, ax = plt.subplots(1,1)\n",
    "    \n",
    "    # set the figure size\n",
    "    fig.set_size_inches(15, 8)\n",
    "\n",
    "    # initialize the cluster with 'K' value and a random generator\n",
    "    model = KMeans(n_clusters = K, random_state = 10)\n",
    "    \n",
    "    # fit and predict on the scaled data\n",
    "    cluster_labels = model.fit_predict(X_scaled)\n",
    "\n",
    "    # the 'silhouette_score()' gives the average value for all the samples\n",
    "    silhouette_avg = silhouette_score(X_scaled, cluster_labels)\n",
    "    \n",
    "    # compute the silhouette coefficient for each sample\n",
    "    sample_silhouette_values = silhouette_samples(X_scaled, cluster_labels)\n",
    "    \n",
    "    y_lower = 10\n",
    "    for i in range(K):\n",
    "        \n",
    "        # aggregate the silhouette scores for samples belonging to cluster i, and sort them\n",
    "        ith_cluster_silhouette_values = sample_silhouette_values[cluster_labels == i]\n",
    "        \n",
    "        # sort the silhouette coefficient\n",
    "        ith_cluster_silhouette_values.sort()\n",
    "        \n",
    "        # calculate the size of the cluster\n",
    "        size_cluster_i = ith_cluster_silhouette_values.shape[0]\n",
    "        y_upper = y_lower + size_cluster_i\n",
    "\n",
    "        # color each cluster \n",
    "        color = cm.nipy_spectral(float(i+1) / K)\n",
    "        ax.fill_betweenx(np.arange(y_lower, y_upper), 0, ith_cluster_silhouette_values, facecolor=color, edgecolor=color)\n",
    "\n",
    "        # label the silhouette plots with their cluster numbers at the middle\n",
    "        ax.text(-0.05, y_lower + 0.5 * size_cluster_i, str(i))\n",
    "\n",
    "        # compute the new y_lower for next plot\n",
    "        y_lower = y_upper + 10 \n",
    "\n",
    "    # plot the vertical line for average silhouette score of all the values\n",
    "    # pass the required color and linestyle\n",
    "    ax.axvline(x = silhouette_avg, color = \"red\", linestyle = \"--\")\n",
    "\n",
    "    # clear the y-axis ticks\n",
    "    ax.set_yticks([])  \n",
    "    \n",
    "    # set the ticks for x-axis \n",
    "    ax.set_xticks([-0.1, 0, 0.2, 0.4, 0.6, 0.8])\n",
    "\n",
    "    # set the axes and plot label\n",
    "    # set the font size using 'fontsize'\n",
    "    ax.set_title('Silhouette Plot (K = ' + str(K) + ')', fontsize = 15)\n",
    "    ax.set_xlabel('Silhouette Coefficient', fontsize = 15)\n",
    "    ax.set_ylabel('Cluster Label', fontsize = 15)\n",
    "    \n",
    "# display the plot\n",
    "plt.show()"
   ]
  },
  {
   "cell_type": "markdown",
   "metadata": {},
   "source": [
    "**Interpretation**: The plots show that for K = 3 and K = 4, there are outliers (observations with negative Silhouette coefficient) in some of the clusters. Thus we can not choose these values as the optimal number for creating the clusters. \n",
    "\n",
    "For K = 2, there are no outliers present; also, the Silhouette coefficients are greater than the average score. Thus, for this dataset, K = 2 is the optimal number of clusters."
   ]
  },
  {
   "cell_type": "markdown",
   "metadata": {},
   "source": [
    "<table align=\"left\">\n",
    "    <tr>\n",
    "        <td width=\"6%\">\n",
    "            <img src=\"question_icon.png\">\n",
    "        </td>\n",
    "        <td>\n",
    "            <div align=\"left\", style=\"font-size:120%\">\n",
    "                <font color=\"#21618C\">\n",
    "                    <b>7. Consider the numerical variables to create two clusters and visualize them using the variables 'Vegetables' and 'Personal_care'.</b>\n",
    "                </font>\n",
    "            </div>\n",
    "        </td>\n",
    "    </tr>\n",
    "</table>"
   ]
  },
  {
   "cell_type": "markdown",
   "metadata": {},
   "source": [
    "Let us perform K-Means clustering for K = 2 using the numerical variables."
   ]
  },
  {
   "cell_type": "code",
   "execution_count": 13,
   "metadata": {},
   "outputs": [],
   "source": [
    "# build a K-Means model with 2 clusters\n",
    "# consider a 'random_state' for same centroid initialization for each code run \n",
    "clusters = KMeans(n_clusters = 2, random_state = 10)\n",
    "\n",
    "# fit the model\n",
    "clusters.fit(X_scaled)\n",
    "\n",
    "# create a copy of the original dataframe\n",
    "df_cluster = df_retail.copy()\n",
    "\n",
    "# add the cluster labels as the new column in the dataframe\n",
    "df_cluster['Cluster_id'] = clusters.labels_"
   ]
  },
  {
   "cell_type": "markdown",
   "metadata": {},
   "source": [
    "Now, plot a scatter plot to visualize the two clusters using the variables `Vegetables` and `Personal_care`."
   ]
  },
  {
   "cell_type": "code",
   "execution_count": 14,
   "metadata": {},
   "outputs": [
    {
     "data": {
      "image/png": "[encoded data removed]",
      "text/plain": [
       "<Figure size 1080x576 with 1 Axes>"
      ]
     },
     "metadata": {
      "needs_background": "light"
     },
     "output_type": "display_data"
    }
   ],
   "source": [
    "# plot a scatter plot\n",
    "# pass the x and y axis to plot the data\n",
    "# pass the hue parameter to create the clusters with different colors\n",
    "sns.scatterplot(x = 'Vegetables', y = 'Personal_care', data = df_cluster, hue = 'Cluster_id')\n",
    "\n",
    "# set the axes and plot labels\n",
    "# set the font size using 'fontsize'\n",
    "plt.title('K-Means Clustering (K=2)', fontsize = 15)\n",
    "plt.xlabel('Vegetables', fontsize = 15)\n",
    "plt.ylabel('Personal Care', fontsize = 15)\n",
    "\n",
    "# display the plot\n",
    "plt.show()"
   ]
  },
  {
   "cell_type": "markdown",
   "metadata": {},
   "source": [
    "**Interpretation**: The above scatter plot shows that the majority of the retailers in the 1st cluster tends to deal in vegetables over personal care products. Some of the retailers are prone to buy the vegetables as well as personal care products."
   ]
  },
  {
   "cell_type": "markdown",
   "metadata": {},
   "source": [
    "<table align=\"left\">\n",
    "    <tr>\n",
    "        <td width=\"6%\">\n",
    "            <img src=\"question_icon.png\">\n",
    "        </td>\n",
    "        <td>\n",
    "            <div align=\"left\", style=\"font-size:120%\">\n",
    "                <font color=\"#21618C\">\n",
    "                    <b>8. Draw insights from the clusters formed in the previous question with respect to each variable in the data.</b>\n",
    "                </font>\n",
    "            </div>\n",
    "        </td>\n",
    "    </tr>\n",
    "</table>"
   ]
  },
  {
   "cell_type": "markdown",
   "metadata": {},
   "source": [
    "In the previous question, we clustered the data into two groups. Now let us retrieve the clusters and interpret them.\n",
    "\n",
    "#### Retrieve the 1st cluster"
   ]
  },
  {
   "cell_type": "code",
   "execution_count": 15,
   "metadata": {},
   "outputs": [
    {
     "data": {
      "text/plain": [
       "(301, 7)"
      ]
     },
     "execution_count": 15,
     "metadata": {},
     "output_type": "execute_result"
    }
   ],
   "source": [
    "# check the number of observations in the 1st cluster\n",
    "df_cluster[df_cluster['Cluster_id'] == 0].shape"
   ]
  },
  {
   "cell_type": "code",
   "execution_count": 16,
   "metadata": {
    "scrolled": true
   },
   "outputs": [
    {
     "data": {
      "text/html": [
       "<div>\n",
       "<style scoped>\n",
       "    .dataframe tbody tr th:only-of-type {\n",
       "        vertical-align: middle;\n",
       "    }\n",
       "\n",
       "    .dataframe tbody tr th {\n",
       "        vertical-align: top;\n",
       "    }\n",
       "\n",
       "    .dataframe thead th {\n",
       "        text-align: right;\n",
       "    }\n",
       "</style>\n",
       "<table border=\"1\" class=\"dataframe\">\n",
       "  <thead>\n",
       "    <tr style=\"text-align: right;\">\n",
       "      <th></th>\n",
       "      <th>Vegetables</th>\n",
       "      <th>Personal_care</th>\n",
       "      <th>Milk</th>\n",
       "      <th>Grocery</th>\n",
       "      <th>Plasticware</th>\n",
       "      <th>Cluster_id</th>\n",
       "    </tr>\n",
       "  </thead>\n",
       "  <tbody>\n",
       "    <tr>\n",
       "      <th>count</th>\n",
       "      <td>301.000000</td>\n",
       "      <td>301.000000</td>\n",
       "      <td>301.000000</td>\n",
       "      <td>301.000000</td>\n",
       "      <td>301.000000</td>\n",
       "      <td>301.0</td>\n",
       "    </tr>\n",
       "    <tr>\n",
       "      <th>mean</th>\n",
       "      <td>12843.687708</td>\n",
       "      <td>852.249169</td>\n",
       "      <td>2963.335548</td>\n",
       "      <td>3719.053156</td>\n",
       "      <td>2659.521595</td>\n",
       "      <td>0.0</td>\n",
       "    </tr>\n",
       "    <tr>\n",
       "      <th>std</th>\n",
       "      <td>11175.894002</td>\n",
       "      <td>1032.337985</td>\n",
       "      <td>2457.159741</td>\n",
       "      <td>2779.975303</td>\n",
       "      <td>2647.164314</td>\n",
       "      <td>0.0</td>\n",
       "    </tr>\n",
       "    <tr>\n",
       "      <th>min</th>\n",
       "      <td>3.000000</td>\n",
       "      <td>3.000000</td>\n",
       "      <td>20.000000</td>\n",
       "      <td>7.000000</td>\n",
       "      <td>3.000000</td>\n",
       "      <td>0.0</td>\n",
       "    </tr>\n",
       "    <tr>\n",
       "      <th>25%</th>\n",
       "      <td>4420.000000</td>\n",
       "      <td>200.000000</td>\n",
       "      <td>1137.000000</td>\n",
       "      <td>1694.000000</td>\n",
       "      <td>778.000000</td>\n",
       "      <td>0.0</td>\n",
       "    </tr>\n",
       "    <tr>\n",
       "      <th>50%</th>\n",
       "      <td>9670.000000</td>\n",
       "      <td>409.000000</td>\n",
       "      <td>2182.000000</td>\n",
       "      <td>2856.000000</td>\n",
       "      <td>1651.000000</td>\n",
       "      <td>0.0</td>\n",
       "    </tr>\n",
       "    <tr>\n",
       "      <th>75%</th>\n",
       "      <td>18044.000000</td>\n",
       "      <td>967.000000</td>\n",
       "      <td>3965.000000</td>\n",
       "      <td>5119.000000</td>\n",
       "      <td>3746.000000</td>\n",
       "      <td>0.0</td>\n",
       "    </tr>\n",
       "    <tr>\n",
       "      <th>max</th>\n",
       "      <td>56159.000000</td>\n",
       "      <td>5316.000000</td>\n",
       "      <td>18664.000000</td>\n",
       "      <td>16966.000000</td>\n",
       "      <td>11556.000000</td>\n",
       "      <td>0.0</td>\n",
       "    </tr>\n",
       "  </tbody>\n",
       "</table>\n",
       "</div>"
      ],
      "text/plain": [
       "         Vegetables  Personal_care          Milk       Grocery   Plasticware  \\\n",
       "count    301.000000     301.000000    301.000000    301.000000    301.000000   \n",
       "mean   12843.687708     852.249169   2963.335548   3719.053156   2659.521595   \n",
       "std    11175.894002    1032.337985   2457.159741   2779.975303   2647.164314   \n",
       "min        3.000000       3.000000     20.000000      7.000000      3.000000   \n",
       "25%     4420.000000     200.000000   1137.000000   1694.000000    778.000000   \n",
       "50%     9670.000000     409.000000   2182.000000   2856.000000   1651.000000   \n",
       "75%    18044.000000     967.000000   3965.000000   5119.000000   3746.000000   \n",
       "max    56159.000000    5316.000000  18664.000000  16966.000000  11556.000000   \n",
       "\n",
       "       Cluster_id  \n",
       "count       301.0  \n",
       "mean          0.0  \n",
       "std           0.0  \n",
       "min           0.0  \n",
       "25%           0.0  \n",
       "50%           0.0  \n",
       "75%           0.0  \n",
       "max           0.0  "
      ]
     },
     "execution_count": 16,
     "metadata": {},
     "output_type": "execute_result"
    }
   ],
   "source": [
    "# use the 'describe()' to get the statistical summary of the numerical variables\n",
    "df_cluster[df_cluster['Cluster_id'] == 0].describe()"
   ]
  },
  {
   "cell_type": "code",
   "execution_count": 17,
   "metadata": {},
   "outputs": [
    {
     "data": {
      "text/html": [
       "<div>\n",
       "<style scoped>\n",
       "    .dataframe tbody tr th:only-of-type {\n",
       "        vertical-align: middle;\n",
       "    }\n",
       "\n",
       "    .dataframe tbody tr th {\n",
       "        vertical-align: top;\n",
       "    }\n",
       "\n",
       "    .dataframe thead th {\n",
       "        text-align: right;\n",
       "    }\n",
       "</style>\n",
       "<table border=\"1\" class=\"dataframe\">\n",
       "  <thead>\n",
       "    <tr style=\"text-align: right;\">\n",
       "      <th></th>\n",
       "      <th>Region</th>\n",
       "    </tr>\n",
       "  </thead>\n",
       "  <tbody>\n",
       "    <tr>\n",
       "      <th>count</th>\n",
       "      <td>301</td>\n",
       "    </tr>\n",
       "    <tr>\n",
       "      <th>unique</th>\n",
       "      <td>3</td>\n",
       "    </tr>\n",
       "    <tr>\n",
       "      <th>top</th>\n",
       "      <td>Rochester</td>\n",
       "    </tr>\n",
       "    <tr>\n",
       "      <th>freq</th>\n",
       "      <td>215</td>\n",
       "    </tr>\n",
       "  </tbody>\n",
       "</table>\n",
       "</div>"
      ],
      "text/plain": [
       "           Region\n",
       "count         301\n",
       "unique          3\n",
       "top     Rochester\n",
       "freq          215"
      ]
     },
     "execution_count": 17,
     "metadata": {},
     "output_type": "execute_result"
    }
   ],
   "source": [
    "# use the 'describe(include = 'object')' to get the statistical summary of the categorical variable\n",
    "df_cluster[df_cluster['Cluster_id'] == 0].describe(include = 'object')"
   ]
  },
  {
   "cell_type": "markdown",
   "metadata": {},
   "source": [
    "**Interpretation**: This cluster contains the records of 301 retailers out of which 71% are from Rochester. The above output shows that, majority of the retailers in this cluster are purchasing vegetables from the wholesaler. They are spending the least money on buying the personal care products."
   ]
  },
  {
   "cell_type": "markdown",
   "metadata": {},
   "source": [
    "#### Retrieve the 2nd cluster"
   ]
  },
  {
   "cell_type": "code",
   "execution_count": 18,
   "metadata": {},
   "outputs": [
    {
     "data": {
      "text/plain": [
       "(105, 7)"
      ]
     },
     "execution_count": 18,
     "metadata": {},
     "output_type": "execute_result"
    }
   ],
   "source": [
    "# check the number of observations in the 2nd cluster\n",
    "df_cluster[df_cluster['Cluster_id'] == 1].shape"
   ]
  },
  {
   "cell_type": "code",
   "execution_count": 19,
   "metadata": {
    "scrolled": true
   },
   "outputs": [
    {
     "data": {
      "text/html": [
       "<div>\n",
       "<style scoped>\n",
       "    .dataframe tbody tr th:only-of-type {\n",
       "        vertical-align: middle;\n",
       "    }\n",
       "\n",
       "    .dataframe tbody tr th {\n",
       "        vertical-align: top;\n",
       "    }\n",
       "\n",
       "    .dataframe thead th {\n",
       "        text-align: right;\n",
       "    }\n",
       "</style>\n",
       "<table border=\"1\" class=\"dataframe\">\n",
       "  <thead>\n",
       "    <tr style=\"text-align: right;\">\n",
       "      <th></th>\n",
       "      <th>Vegetables</th>\n",
       "      <th>Personal_care</th>\n",
       "      <th>Milk</th>\n",
       "      <th>Grocery</th>\n",
       "      <th>Plasticware</th>\n",
       "      <th>Cluster_id</th>\n",
       "    </tr>\n",
       "  </thead>\n",
       "  <tbody>\n",
       "    <tr>\n",
       "      <th>count</th>\n",
       "      <td>105.000000</td>\n",
       "      <td>105.000000</td>\n",
       "      <td>105.000000</td>\n",
       "      <td>105.000000</td>\n",
       "      <td>105.000000</td>\n",
       "      <td>105.0</td>\n",
       "    </tr>\n",
       "    <tr>\n",
       "      <th>mean</th>\n",
       "      <td>6129.904762</td>\n",
       "      <td>6440.114286</td>\n",
       "      <td>9818.219048</td>\n",
       "      <td>15270.495238</td>\n",
       "      <td>1451.885714</td>\n",
       "      <td>1.0</td>\n",
       "    </tr>\n",
       "    <tr>\n",
       "      <th>std</th>\n",
       "      <td>6478.159070</td>\n",
       "      <td>3016.213815</td>\n",
       "      <td>4437.085194</td>\n",
       "      <td>6073.861403</td>\n",
       "      <td>1521.581113</td>\n",
       "      <td>0.0</td>\n",
       "    </tr>\n",
       "    <tr>\n",
       "      <th>min</th>\n",
       "      <td>18.000000</td>\n",
       "      <td>282.000000</td>\n",
       "      <td>1266.000000</td>\n",
       "      <td>4748.000000</td>\n",
       "      <td>26.000000</td>\n",
       "      <td>1.0</td>\n",
       "    </tr>\n",
       "    <tr>\n",
       "      <th>25%</th>\n",
       "      <td>1420.000000</td>\n",
       "      <td>4424.000000</td>\n",
       "      <td>6721.000000</td>\n",
       "      <td>10908.000000</td>\n",
       "      <td>365.000000</td>\n",
       "      <td>1.0</td>\n",
       "    </tr>\n",
       "    <tr>\n",
       "      <th>50%</th>\n",
       "      <td>4456.000000</td>\n",
       "      <td>6236.000000</td>\n",
       "      <td>9232.000000</td>\n",
       "      <td>13586.000000</td>\n",
       "      <td>934.000000</td>\n",
       "      <td>1.0</td>\n",
       "    </tr>\n",
       "    <tr>\n",
       "      <th>75%</th>\n",
       "      <td>8797.000000</td>\n",
       "      <td>7677.000000</td>\n",
       "      <td>11991.000000</td>\n",
       "      <td>19805.000000</td>\n",
       "      <td>1998.000000</td>\n",
       "      <td>1.0</td>\n",
       "    </tr>\n",
       "    <tr>\n",
       "      <th>max</th>\n",
       "      <td>31708.000000</td>\n",
       "      <td>14841.000000</td>\n",
       "      <td>23527.000000</td>\n",
       "      <td>34792.000000</td>\n",
       "      <td>10156.000000</td>\n",
       "      <td>1.0</td>\n",
       "    </tr>\n",
       "  </tbody>\n",
       "</table>\n",
       "</div>"
      ],
      "text/plain": [
       "         Vegetables  Personal_care          Milk       Grocery   Plasticware  \\\n",
       "count    105.000000     105.000000    105.000000    105.000000    105.000000   \n",
       "mean    6129.904762    6440.114286   9818.219048  15270.495238   1451.885714   \n",
       "std     6478.159070    3016.213815   4437.085194   6073.861403   1521.581113   \n",
       "min       18.000000     282.000000   1266.000000   4748.000000     26.000000   \n",
       "25%     1420.000000    4424.000000   6721.000000  10908.000000    365.000000   \n",
       "50%     4456.000000    6236.000000   9232.000000  13586.000000    934.000000   \n",
       "75%     8797.000000    7677.000000  11991.000000  19805.000000   1998.000000   \n",
       "max    31708.000000   14841.000000  23527.000000  34792.000000  10156.000000   \n",
       "\n",
       "       Cluster_id  \n",
       "count       105.0  \n",
       "mean          1.0  \n",
       "std           0.0  \n",
       "min           1.0  \n",
       "25%           1.0  \n",
       "50%           1.0  \n",
       "75%           1.0  \n",
       "max           1.0  "
      ]
     },
     "execution_count": 19,
     "metadata": {},
     "output_type": "execute_result"
    }
   ],
   "source": [
    "# use the 'describe()' to get the statistical summary of the numerical variables\n",
    "df_cluster[df_cluster['Cluster_id'] == 1].describe()"
   ]
  },
  {
   "cell_type": "code",
   "execution_count": 20,
   "metadata": {},
   "outputs": [
    {
     "data": {
      "text/html": [
       "<div>\n",
       "<style scoped>\n",
       "    .dataframe tbody tr th:only-of-type {\n",
       "        vertical-align: middle;\n",
       "    }\n",
       "\n",
       "    .dataframe tbody tr th {\n",
       "        vertical-align: top;\n",
       "    }\n",
       "\n",
       "    .dataframe thead th {\n",
       "        text-align: right;\n",
       "    }\n",
       "</style>\n",
       "<table border=\"1\" class=\"dataframe\">\n",
       "  <thead>\n",
       "    <tr style=\"text-align: right;\">\n",
       "      <th></th>\n",
       "      <th>Region</th>\n",
       "    </tr>\n",
       "  </thead>\n",
       "  <tbody>\n",
       "    <tr>\n",
       "      <th>count</th>\n",
       "      <td>105</td>\n",
       "    </tr>\n",
       "    <tr>\n",
       "      <th>unique</th>\n",
       "      <td>3</td>\n",
       "    </tr>\n",
       "    <tr>\n",
       "      <th>top</th>\n",
       "      <td>Rochester</td>\n",
       "    </tr>\n",
       "    <tr>\n",
       "      <th>freq</th>\n",
       "      <td>77</td>\n",
       "    </tr>\n",
       "  </tbody>\n",
       "</table>\n",
       "</div>"
      ],
      "text/plain": [
       "           Region\n",
       "count         105\n",
       "unique          3\n",
       "top     Rochester\n",
       "freq           77"
      ]
     },
     "execution_count": 20,
     "metadata": {},
     "output_type": "execute_result"
    }
   ],
   "source": [
    "# use the 'describe(include = 'object')' to get the statistical summary of the categorical variable\n",
    "df_cluster[df_cluster['Cluster_id'] == 1].describe(include = 'object')"
   ]
  },
  {
   "cell_type": "markdown",
   "metadata": {},
   "source": [
    "**Interpretation**: This cluster contains the records of 105 retailers out of which 73% are from Rochester. The above output shows that, majority of the retailers in this cluster are purchasing grocery along with the milk and milk products from the wholesaler. They are spending the least money on buying the plasticware products."
   ]
  },
  {
   "cell_type": "markdown",
   "metadata": {},
   "source": [
    "<table align=\"left\">\n",
    "    <tr>\n",
    "        <td width=\"6%\">\n",
    "            <img src=\"question_icon.png\">\n",
    "        </td>\n",
    "        <td>\n",
    "            <div align=\"left\", style=\"font-size:120%\">\n",
    "                <font color=\"#21618C\">\n",
    "                    <b>9. Group the retailers from Oneonta into 1 to 5 clusters and find the optimal number of clusters using within cluster sum of squares.</b>\n",
    "                </font>\n",
    "            </div>\n",
    "        </td>\n",
    "    </tr>\n",
    "</table>"
   ]
  },
  {
   "cell_type": "code",
   "execution_count": 21,
   "metadata": {},
   "outputs": [
    {
     "data": {
      "text/html": [
       "<div>\n",
       "<style scoped>\n",
       "    .dataframe tbody tr th:only-of-type {\n",
       "        vertical-align: middle;\n",
       "    }\n",
       "\n",
       "    .dataframe tbody tr th {\n",
       "        vertical-align: top;\n",
       "    }\n",
       "\n",
       "    .dataframe thead th {\n",
       "        text-align: right;\n",
       "    }\n",
       "</style>\n",
       "<table border=\"1\" class=\"dataframe\">\n",
       "  <thead>\n",
       "    <tr style=\"text-align: right;\">\n",
       "      <th></th>\n",
       "      <th>Region</th>\n",
       "      <th>Vegetables</th>\n",
       "      <th>Personal_care</th>\n",
       "      <th>Milk</th>\n",
       "      <th>Grocery</th>\n",
       "      <th>Plasticware</th>\n",
       "    </tr>\n",
       "  </thead>\n",
       "  <tbody>\n",
       "    <tr>\n",
       "      <th>196</th>\n",
       "      <td>Oneonta</td>\n",
       "      <td>2427</td>\n",
       "      <td>4314</td>\n",
       "      <td>7097</td>\n",
       "      <td>10391</td>\n",
       "      <td>1125</td>\n",
       "    </tr>\n",
       "    <tr>\n",
       "      <th>197</th>\n",
       "      <td>Oneonta</td>\n",
       "      <td>11686</td>\n",
       "      <td>592</td>\n",
       "      <td>2154</td>\n",
       "      <td>6824</td>\n",
       "      <td>3531</td>\n",
       "    </tr>\n",
       "    <tr>\n",
       "      <th>198</th>\n",
       "      <td>Oneonta</td>\n",
       "      <td>9670</td>\n",
       "      <td>402</td>\n",
       "      <td>2280</td>\n",
       "      <td>2112</td>\n",
       "      <td>520</td>\n",
       "    </tr>\n",
       "    <tr>\n",
       "      <th>199</th>\n",
       "      <td>Oneonta</td>\n",
       "      <td>3067</td>\n",
       "      <td>9959</td>\n",
       "      <td>13240</td>\n",
       "      <td>23127</td>\n",
       "      <td>3946</td>\n",
       "    </tr>\n",
       "    <tr>\n",
       "      <th>200</th>\n",
       "      <td>Oneonta</td>\n",
       "      <td>4484</td>\n",
       "      <td>14235</td>\n",
       "      <td>14399</td>\n",
       "      <td>24708</td>\n",
       "      <td>3544</td>\n",
       "    </tr>\n",
       "  </tbody>\n",
       "</table>\n",
       "</div>"
      ],
      "text/plain": [
       "      Region  Vegetables  Personal_care   Milk  Grocery  Plasticware\n",
       "196  Oneonta        2427           4314   7097    10391         1125\n",
       "197  Oneonta       11686            592   2154     6824         3531\n",
       "198  Oneonta        9670            402   2280     2112          520\n",
       "199  Oneonta        3067           9959  13240    23127         3946\n",
       "200  Oneonta        4484          14235  14399    24708         3544"
      ]
     },
     "execution_count": 21,
     "metadata": {},
     "output_type": "execute_result"
    }
   ],
   "source": [
    "# cosider the retailers from Oneonta\n",
    "df_Oneonta = df_retail[df_retail['Region'] == 'Oneonta']\n",
    "\n",
    "# check the head() of the new dataframe\n",
    "df_Oneonta.head()"
   ]
  },
  {
   "cell_type": "markdown",
   "metadata": {},
   "source": [
    "Before applying K-Means clustering, let us scale the variables."
   ]
  },
  {
   "cell_type": "code",
   "execution_count": 22,
   "metadata": {},
   "outputs": [
    {
     "data": {
      "text/html": [
       "<div>\n",
       "<style scoped>\n",
       "    .dataframe tbody tr th:only-of-type {\n",
       "        vertical-align: middle;\n",
       "    }\n",
       "\n",
       "    .dataframe tbody tr th {\n",
       "        vertical-align: top;\n",
       "    }\n",
       "\n",
       "    .dataframe thead th {\n",
       "        text-align: right;\n",
       "    }\n",
       "</style>\n",
       "<table border=\"1\" class=\"dataframe\">\n",
       "  <thead>\n",
       "    <tr style=\"text-align: right;\">\n",
       "      <th></th>\n",
       "      <th>Vegetables</th>\n",
       "      <th>Personal_care</th>\n",
       "      <th>Milk</th>\n",
       "      <th>Grocery</th>\n",
       "      <th>Plasticware</th>\n",
       "    </tr>\n",
       "  </thead>\n",
       "  <tbody>\n",
       "    <tr>\n",
       "      <th>0</th>\n",
       "      <td>0.042968</td>\n",
       "      <td>0.302811</td>\n",
       "      <td>0.293910</td>\n",
       "      <td>0.408853</td>\n",
       "      <td>0.097493</td>\n",
       "    </tr>\n",
       "    <tr>\n",
       "      <th>1</th>\n",
       "      <td>0.208116</td>\n",
       "      <td>0.041251</td>\n",
       "      <td>0.081482</td>\n",
       "      <td>0.261571</td>\n",
       "      <td>0.308434</td>\n",
       "    </tr>\n",
       "    <tr>\n",
       "      <th>2</th>\n",
       "      <td>0.172157</td>\n",
       "      <td>0.027899</td>\n",
       "      <td>0.086897</td>\n",
       "      <td>0.067014</td>\n",
       "      <td>0.044450</td>\n",
       "    </tr>\n",
       "    <tr>\n",
       "      <th>3</th>\n",
       "      <td>0.054383</td>\n",
       "      <td>0.699508</td>\n",
       "      <td>0.557910</td>\n",
       "      <td>0.934721</td>\n",
       "      <td>0.344819</td>\n",
       "    </tr>\n",
       "    <tr>\n",
       "      <th>4</th>\n",
       "      <td>0.079658</td>\n",
       "      <td>1.000000</td>\n",
       "      <td>0.607718</td>\n",
       "      <td>1.000000</td>\n",
       "      <td>0.309574</td>\n",
       "    </tr>\n",
       "  </tbody>\n",
       "</table>\n",
       "</div>"
      ],
      "text/plain": [
       "   Vegetables  Personal_care      Milk   Grocery  Plasticware\n",
       "0    0.042968       0.302811  0.293910  0.408853     0.097493\n",
       "1    0.208116       0.041251  0.081482  0.261571     0.308434\n",
       "2    0.172157       0.027899  0.086897  0.067014     0.044450\n",
       "3    0.054383       0.699508  0.557910  0.934721     0.344819\n",
       "4    0.079658       1.000000  0.607718  1.000000     0.309574"
      ]
     },
     "execution_count": 22,
     "metadata": {},
     "output_type": "execute_result"
    }
   ],
   "source": [
    "# initialize the MinMaxScaler\n",
    "X_norm = MinMaxScaler()\n",
    "\n",
    "# normalize all the numerical columns of the dataframe 'df_Oneonta'\n",
    "# drop the categorical variable 'Region'\n",
    "num_norm = X_norm.fit_transform(df_Oneonta.drop('Region', axis = 1))\n",
    "\n",
    "# create a dataframe of normalized variables\n",
    "# pass the required column names to the parameter 'columns'\n",
    "X_scaled = pd.DataFrame(num_norm, columns = ['Vegetables', 'Personal_care', 'Milk', 'Grocery', 'Plasticware'])\n",
    "\n",
    "X_scaled.head()"
   ]
  },
  {
   "cell_type": "markdown",
   "metadata": {},
   "source": [
    "Perform K-Means clustering with K varying from 1 to 5 and  calculate the WCSS."
   ]
  },
  {
   "cell_type": "code",
   "execution_count": 23,
   "metadata": {
    "scrolled": true
   },
   "outputs": [
    {
     "name": "stdout",
     "output_type": "stream",
     "text": [
      "[17.400852996032093, 10.391198465449936, 8.071081740605749, 6.588652504325825, 5.501962036993137]\n"
     ]
    }
   ],
   "source": [
    "# perform K-Means with K from 1 to 5 and calculate the WCSS (Within Cluster Sum of Squares)\n",
    "# consider an empty list to store the WCSS\n",
    "wcss  = []\n",
    "\n",
    "# use for loop to perform K-Means with different values of K\n",
    "# set the 'random_state' to obtain the same centroid initialization for each code run\n",
    "# fit the model on scaled data\n",
    "# append the value of WCSS for each K to the list 'wcss'\n",
    "# the 'inertia_' retuns the WCSS for specific value of K\n",
    "for i in range(1, 6):\n",
    "    kmeans = KMeans(n_clusters = i, random_state = 10)\n",
    "    kmeans.fit(X_scaled)\n",
    "    wcss.append(kmeans.inertia_)\n",
    "\n",
    "# print the WCSS for each K \n",
    "print(wcss)"
   ]
  },
  {
   "cell_type": "markdown",
   "metadata": {},
   "source": [
    "**Interpretation**: We can see that the WCSS is decreasing rapidly for K = 2 and 3. The rate of decrease in WCSS is reduced after K = 3. Thus we can say that K = 3 is the optimal number of clusters."
   ]
  },
  {
   "cell_type": "markdown",
   "metadata": {},
   "source": [
    "<table align=\"left\">\n",
    "    <tr>\n",
    "        <td width=\"6%\">\n",
    "            <img src=\"question_icon.png\">\n",
    "        </td>\n",
    "        <td>\n",
    "            <div align=\"left\", style=\"font-size:120%\">\n",
    "                <font color=\"#21618C\">\n",
    "                    <b>10. Group the retailers from Oneonta into the optimal number of clusters obtained in Q9. Also, find the number of retailers in each cluster.</b>\n",
    "                </font>\n",
    "            </div>\n",
    "        </td>\n",
    "    </tr>\n",
    "</table>"
   ]
  },
  {
   "cell_type": "markdown",
   "metadata": {},
   "source": [
    "In the previous question, we obtained the optimal number of clusters as K = 3. Now, let us build the K-Means clustering model with K = 3."
   ]
  },
  {
   "cell_type": "code",
   "execution_count": 24,
   "metadata": {},
   "outputs": [],
   "source": [
    "# build a K-Means model with 3 clusters\n",
    "# consider a 'random_state' for same centroid initialization for each code run \n",
    "clusters = KMeans(n_clusters = 3, random_state = 10)\n",
    "\n",
    "# fit the model\n",
    "clusters.fit(X_scaled)\n",
    "\n",
    "# add the cluster labels as the new column in the dataframe 'df_Oneonta'\n",
    "df_Oneonta['Cluster'] = clusters.labels_"
   ]
  },
  {
   "cell_type": "markdown",
   "metadata": {},
   "source": [
    "Now let us find the number of retailers in each cluster."
   ]
  },
  {
   "cell_type": "code",
   "execution_count": 25,
   "metadata": {
    "scrolled": true
   },
   "outputs": [
    {
     "data": {
      "text/plain": [
       "0    43\n",
       "2    15\n",
       "1    15\n",
       "Name: Cluster, dtype: int64"
      ]
     },
     "execution_count": 25,
     "metadata": {},
     "output_type": "execute_result"
    }
   ],
   "source": [
    "# use the 'value_counts()' to get the cluster size\n",
    "df_Oneonta.Cluster.value_counts()"
   ]
  },
  {
   "cell_type": "markdown",
   "metadata": {},
   "source": [
    "**Interpretation**: The retailers from Oneonta are clustered into 3 groups. The 1st cluster is the largest one with 43 retailers. Both the 2nd and the 3rd cluster contain 15 retailers each."
   ]
  }
 ],
 "metadata": {
  "kernelspec": {
   "display_name": "Python 3",
   "language": "python",
   "name": "python3"
  },
  "language_info": {
   "codemirror_mode": {
    "name": "ipython",
    "version": 3
   },
   "file_extension": ".py",
   "mimetype": "text/x-python",
   "name": "python",
   "nbconvert_exporter": "python",
   "pygments_lexer": "ipython3",
   "version": "3.8.5"
  }
 },
 "nbformat": 4,
 "nbformat_minor": 2
}
