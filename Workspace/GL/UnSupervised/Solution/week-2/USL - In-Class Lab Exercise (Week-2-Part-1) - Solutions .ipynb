{
 "cells": [
  {
   "cell_type": "markdown",
   "metadata": {},
   "source": [
    "<table align=\"center\" width=100%>\n",
    "    <tr>\n",
    "        <td width=\"15%\">\n",
    "            <img src=\"in_class.png\">\n",
    "        </td>\n",
    "        <td>\n",
    "            <div align=\"center\">\n",
    "                <font color=\"#21618C\" size=8px>\n",
    "                    <b> Inclass-Lab  <br>(Week-2-Part-1)\n",
    "                    </b>\n",
    "                </font>\n",
    "            </div>\n",
    "        </td>\n",
    "    </tr>\n",
    "</table>"
   ]
  },
  {
   "cell_type": "markdown",
   "metadata": {},
   "source": [
    "### About the dataset (CO<sub>2</sub> emission data)\n",
    "\n",
    "In the dataset, the CO<sub>2</sub> emission for various regions in the world is given. Our objective is to group the regions based on the factors affecting the environment in terms of the greenhouse gases, where CO<sub>2</sub> is a primary greenhouse gas. \n",
    "\n",
    "Many developing and developed countries in the world are contributing to the CO<sub>2</sub> emission in the environment. It is interesting to know that the increase in atmospheric carbon dioxide is responsible for about two-thirds of the total energy imbalance that is causing Earth's temperature to rise and leads to global warming.\n",
    "\n",
    "**Region**: Region of the country\n",
    "\n",
    "**CO2 Emission**: Annual CO<sub>2</sub> emission (in tonnes)\n",
    "\n",
    "**Ease of Business**: The ease of business in the country\n",
    "\n",
    "**Energy Usage**: Energy used by the country in various forms\n",
    "\n",
    "**GDP**: GDP of a country\n",
    "\n",
    "**Internet Usage**: Usage of the internet \n",
    "\n",
    "**Population total**: Total population of a country"
   ]
  },
  {
   "cell_type": "markdown",
   "metadata": {},
   "source": [
    "## Table of Content\n",
    "\n",
    "1. **[Exploratory Data Analysis](#lib)**\n",
    "2. **[Hierarchical Clustering](#hie)**\n"
   ]
  },
  {
   "cell_type": "markdown",
   "metadata": {},
   "source": [
    "#### Import the required libraries"
   ]
  },
  {
   "cell_type": "code",
   "execution_count": 1,
   "metadata": {},
   "outputs": [],
   "source": [
    "# import 'numpy' to compute high-level mathematics functions \n",
    "import numpy as np\n",
    "\n",
    "# import 'pandas' to perform data manipulation\n",
    "import pandas as pd\n",
    "\n",
    "# import 'matplotlib.pyplot' for visualization\n",
    "import matplotlib.pyplot as plt\n",
    "\n",
    "# import 'seaborn' for high-level statistical graphics\n",
    "import seaborn as sns\n",
    "\n",
    "# to ignore the warnings run the following code\n",
    "import warnings\n",
    "warnings.filterwarnings(\"ignore\")\n",
    "\n",
    "# run below code to convert the 'exponential' values to float\n",
    "np.set_printoptions(suppress = True)\n",
    "\n",
    "# import functions from sklearn to perform clustering\n",
    "from sklearn.preprocessing import StandardScaler\n",
    "from sklearn.metrics import silhouette_score \n",
    "from sklearn.cluster import AgglomerativeClustering\n",
    "from sklearn.metrics.pairwise import euclidean_distances\n",
    "from sklearn.cluster import DBSCAN\n",
    "\n",
    "# import functions from scipy to perform clustering\n",
    "from scipy.cluster.hierarchy import linkage\n",
    "from scipy.cluster.hierarchy import dendrogram\n",
    "from scipy.cluster.hierarchy import cophenet\n",
    "\n",
    "# to consider the float upto 2 decimals \n",
    "pd.options.display.float_format = '{:.2f}'.format"
   ]
  },
  {
   "cell_type": "markdown",
   "metadata": {},
   "source": [
    "#### Read the data\n",
    "\n",
    "Load the csv file and print the first five observations."
   ]
  },
  {
   "cell_type": "code",
   "execution_count": 2,
   "metadata": {},
   "outputs": [
    {
     "data": {
      "text/html": [
       "<div>\n",
       "<style scoped>\n",
       "    .dataframe tbody tr th:only-of-type {\n",
       "        vertical-align: middle;\n",
       "    }\n",
       "\n",
       "    .dataframe tbody tr th {\n",
       "        vertical-align: top;\n",
       "    }\n",
       "\n",
       "    .dataframe thead th {\n",
       "        text-align: right;\n",
       "    }\n",
       "</style>\n",
       "<table border=\"1\" class=\"dataframe\">\n",
       "  <thead>\n",
       "    <tr style=\"text-align: right;\">\n",
       "      <th></th>\n",
       "      <th>Region</th>\n",
       "      <th>CO2 Emissions</th>\n",
       "      <th>Ease of Business</th>\n",
       "      <th>Energy Usage</th>\n",
       "      <th>GDP</th>\n",
       "      <th>Internet Usage</th>\n",
       "      <th>Population Total</th>\n",
       "    </tr>\n",
       "  </thead>\n",
       "  <tbody>\n",
       "    <tr>\n",
       "      <th>0</th>\n",
       "      <td>Europe</td>\n",
       "      <td>4294</td>\n",
       "      <td>151</td>\n",
       "      <td>1976</td>\n",
       "      <td>5652325082.00</td>\n",
       "      <td>0.01</td>\n",
       "      <td>3033659</td>\n",
       "    </tr>\n",
       "    <tr>\n",
       "      <th>1</th>\n",
       "      <td>Europe</td>\n",
       "      <td>4166</td>\n",
       "      <td>151</td>\n",
       "      <td>2172</td>\n",
       "      <td>7464446950.00</td>\n",
       "      <td>0.02</td>\n",
       "      <td>3014579</td>\n",
       "    </tr>\n",
       "    <tr>\n",
       "      <th>2</th>\n",
       "      <td>Europe</td>\n",
       "      <td>4254</td>\n",
       "      <td>151</td>\n",
       "      <td>2172</td>\n",
       "      <td>8376483740.00</td>\n",
       "      <td>0.06</td>\n",
       "      <td>2992724</td>\n",
       "    </tr>\n",
       "    <tr>\n",
       "      <th>3</th>\n",
       "      <td>Europe</td>\n",
       "      <td>3865</td>\n",
       "      <td>151</td>\n",
       "      <td>2068</td>\n",
       "      <td>9132562332.00</td>\n",
       "      <td>0.10</td>\n",
       "      <td>2968028</td>\n",
       "    </tr>\n",
       "    <tr>\n",
       "      <th>4</th>\n",
       "      <td>Europe</td>\n",
       "      <td>4056</td>\n",
       "      <td>151</td>\n",
       "      <td>2025</td>\n",
       "      <td>10701011856.00</td>\n",
       "      <td>0.15</td>\n",
       "      <td>2940880</td>\n",
       "    </tr>\n",
       "  </tbody>\n",
       "</table>\n",
       "</div>"
      ],
      "text/plain": [
       "   Region  CO2 Emissions  Ease of Business  Energy Usage            GDP  \\\n",
       "0  Europe           4294               151          1976  5652325082.00   \n",
       "1  Europe           4166               151          2172  7464446950.00   \n",
       "2  Europe           4254               151          2172  8376483740.00   \n",
       "3  Europe           3865               151          2068  9132562332.00   \n",
       "4  Europe           4056               151          2025 10701011856.00   \n",
       "\n",
       "   Internet Usage  Population Total  \n",
       "0            0.01           3033659  \n",
       "1            0.02           3014579  \n",
       "2            0.06           2992724  \n",
       "3            0.10           2968028  \n",
       "4            0.15           2940880  "
      ]
     },
     "execution_count": 2,
     "metadata": {},
     "output_type": "execute_result"
    }
   ],
   "source": [
    "# read the dataset\n",
    "df_CO2Emission = pd.read_csv('CO2_emission_data.csv')\n",
    "\n",
    "# display first five observations using head()\n",
    "df_CO2Emission.head()"
   ]
  },
  {
   "cell_type": "markdown",
   "metadata": {},
   "source": [
    "\n",
    "### Let's begin with some hands-on practice exercises"
   ]
  },
  {
   "cell_type": "markdown",
   "metadata": {},
   "source": [
    "<a id=\"lib\"> </a>\n",
    "## 1. Exploratory Data Analysis"
   ]
  },
  {
   "cell_type": "markdown",
   "metadata": {},
   "source": [
    "<table align=\"left\">\n",
    "    <tr>\n",
    "        <td width=\"6%\">\n",
    "            <img src=\"question_icon.png\">\n",
    "        </td>\n",
    "        <td>\n",
    "            <div align=\"left\", style=\"font-size:120%\">\n",
    "                <font color=\"#21618C\">\n",
    "                    <b>1. Identify the different regions to which the countries belong and visualize the count of countries.</b>\n",
    "                </font>\n",
    "            </div>\n",
    "        </td>\n",
    "    </tr>\n",
    "</table>"
   ]
  },
  {
   "cell_type": "code",
   "execution_count": 3,
   "metadata": {},
   "outputs": [
    {
     "data": {
      "text/plain": [
       "array(['Europe', 'Africa', 'The Americas', 'Asia', 'Oceania',\n",
       "       'Middle East'], dtype=object)"
      ]
     },
     "execution_count": 3,
     "metadata": {},
     "output_type": "execute_result"
    }
   ],
   "source": [
    "# we search for unique regions from the region column\n",
    "df_CO2Emission.Region.unique()"
   ]
  },
  {
   "cell_type": "markdown",
   "metadata": {},
   "source": [
    "**Interpretation:** There are 6 regions in the given data. Now we plot the count of countries in each region."
   ]
  },
  {
   "cell_type": "code",
   "execution_count": 4,
   "metadata": {},
   "outputs": [
    {
     "data": {
      "image/png": "[encoded data removed]",
      "text/plain": [
       "<Figure size 1080x576 with 1 Axes>"
      ]
     },
     "metadata": {
      "needs_background": "light"
     },
     "output_type": "display_data"
    }
   ],
   "source": [
    "# set the font size using 'figsize'\n",
    "plt.figure(figsize=(15,8))\n",
    "\n",
    "# use a countplot to plot the number of countries for each region\n",
    "sns.countplot(x = df_CO2Emission.Region)\n",
    "\n",
    "# use below code to print the values in the graph\n",
    "# 'x' and 'y' gives position of the text\n",
    "# 's' is the text \n",
    "plt.text(x = -0.05, y = df_CO2Emission.Region.value_counts()[0] + 1, s = df_CO2Emission.Region.value_counts()[0])\n",
    "plt.text(x = 1.98, y = df_CO2Emission.Region.value_counts()[1] + 1, s = df_CO2Emission.Region.value_counts()[1])\n",
    "plt.text(x = 0.98, y = df_CO2Emission.Region.value_counts()[2] + 1, s = df_CO2Emission.Region.value_counts()[2])\n",
    "plt.text(x = 2.98, y = df_CO2Emission.Region.value_counts()[3] + 1, s = df_CO2Emission.Region.value_counts()[3])\n",
    "plt.text(x = 4.98, y = df_CO2Emission.Region.value_counts()[4] + 1, s = df_CO2Emission.Region.value_counts()[4])\n",
    "plt.text(x = 3.98, y = df_CO2Emission.Region.value_counts()[5] + 1, s = df_CO2Emission.Region.value_counts()[5])\n",
    "\n",
    "# set plot plot title\n",
    "# set text size using 'fontsize'\n",
    "plt.title('Distribution of Region', fontsize = 15)\n",
    "\n",
    "# set axes labels\n",
    "# set text size using 'fontsize'\n",
    "plt.xlabel('Region', fontsize = 15)\n",
    "plt.ylabel('Number of countries', fontsize = 15)\n",
    "\n",
    "# display the plot\n",
    "plt.show()"
   ]
  },
  {
   "cell_type": "markdown",
   "metadata": {},
   "source": [
    "**Interpretation:**  The maximum number of countries in the data belong to Europian region and the minimum number of countries in the data belong to Oceania."
   ]
  },
  {
   "cell_type": "markdown",
   "metadata": {},
   "source": [
    "<table align=\"left\">\n",
    "    <tr>\n",
    "        <td width=\"6%\">\n",
    "            <img src=\"question_icon.png\">\n",
    "        </td>\n",
    "        <td>\n",
    "            <div align=\"left\", style=\"font-size:120%\">\n",
    "                <font color=\"#21618C\">\n",
    "                    <b>2. Check the datatype, dimension and summary statistics of the data.</b>\n",
    "                </font>\n",
    "            </div>\n",
    "        </td>\n",
    "    </tr>\n",
    "</table>"
   ]
  },
  {
   "cell_type": "code",
   "execution_count": 5,
   "metadata": {},
   "outputs": [
    {
     "data": {
      "text/plain": [
       "Region               object\n",
       "CO2 Emissions         int64\n",
       "Ease of Business      int64\n",
       "Energy Usage          int64\n",
       "GDP                 float64\n",
       "Internet Usage      float64\n",
       "Population Total      int64\n",
       "dtype: object"
      ]
     },
     "execution_count": 5,
     "metadata": {},
     "output_type": "execute_result"
    }
   ],
   "source": [
    "# to check datatype of each variable\n",
    "df_CO2Emission.dtypes"
   ]
  },
  {
   "cell_type": "markdown",
   "metadata": {},
   "source": [
    "**Interpretation:** All the variables except `Region` are numerical whereas 'Region' is a categorical variable."
   ]
  },
  {
   "cell_type": "code",
   "execution_count": 6,
   "metadata": {},
   "outputs": [
    {
     "data": {
      "text/plain": [
       "(1243, 7)"
      ]
     },
     "execution_count": 6,
     "metadata": {},
     "output_type": "execute_result"
    }
   ],
   "source": [
    "# to check the dimension of data\n",
    "df_CO2Emission.shape"
   ]
  },
  {
   "cell_type": "markdown",
   "metadata": {},
   "source": [
    "**Interpretation:** There are 1243 observations and 7 variables in the data."
   ]
  },
  {
   "cell_type": "code",
   "execution_count": 7,
   "metadata": {},
   "outputs": [
    {
     "data": {
      "text/html": [
       "<div>\n",
       "<style scoped>\n",
       "    .dataframe tbody tr th:only-of-type {\n",
       "        vertical-align: middle;\n",
       "    }\n",
       "\n",
       "    .dataframe tbody tr th {\n",
       "        vertical-align: top;\n",
       "    }\n",
       "\n",
       "    .dataframe thead th {\n",
       "        text-align: right;\n",
       "    }\n",
       "</style>\n",
       "<table border=\"1\" class=\"dataframe\">\n",
       "  <thead>\n",
       "    <tr style=\"text-align: right;\">\n",
       "      <th></th>\n",
       "      <th>CO2 Emissions</th>\n",
       "      <th>Ease of Business</th>\n",
       "      <th>Energy Usage</th>\n",
       "      <th>GDP</th>\n",
       "      <th>Internet Usage</th>\n",
       "      <th>Population Total</th>\n",
       "    </tr>\n",
       "  </thead>\n",
       "  <tbody>\n",
       "    <tr>\n",
       "      <th>count</th>\n",
       "      <td>1243.00</td>\n",
       "      <td>1243.00</td>\n",
       "      <td>1243.00</td>\n",
       "      <td>1243.00</td>\n",
       "      <td>1236.00</td>\n",
       "      <td>1243.00</td>\n",
       "    </tr>\n",
       "    <tr>\n",
       "      <th>mean</th>\n",
       "      <td>189766.62</td>\n",
       "      <td>88.28</td>\n",
       "      <td>75418.42</td>\n",
       "      <td>353554814174.66</td>\n",
       "      <td>0.33</td>\n",
       "      <td>45134936.48</td>\n",
       "    </tr>\n",
       "    <tr>\n",
       "      <th>std</th>\n",
       "      <td>769702.72</td>\n",
       "      <td>52.77</td>\n",
       "      <td>270758.65</td>\n",
       "      <td>1358969743285.45</td>\n",
       "      <td>1.63</td>\n",
       "      <td>160048304.35</td>\n",
       "    </tr>\n",
       "    <tr>\n",
       "      <th>min</th>\n",
       "      <td>48.00</td>\n",
       "      <td>1.00</td>\n",
       "      <td>30.00</td>\n",
       "      <td>123258507.00</td>\n",
       "      <td>0.00</td>\n",
       "      <td>69660.00</td>\n",
       "    </tr>\n",
       "    <tr>\n",
       "      <th>25%</th>\n",
       "      <td>3111.50</td>\n",
       "      <td>45.00</td>\n",
       "      <td>2721.00</td>\n",
       "      <td>7746580674.00</td>\n",
       "      <td>0.06</td>\n",
       "      <td>2097087.50</td>\n",
       "    </tr>\n",
       "    <tr>\n",
       "      <th>50%</th>\n",
       "      <td>16208.00</td>\n",
       "      <td>85.00</td>\n",
       "      <td>9318.00</td>\n",
       "      <td>24680372724.00</td>\n",
       "      <td>0.20</td>\n",
       "      <td>7739900.00</td>\n",
       "    </tr>\n",
       "    <tr>\n",
       "      <th>75%</th>\n",
       "      <td>75812.00</td>\n",
       "      <td>131.00</td>\n",
       "      <td>34956.50</td>\n",
       "      <td>177000000000.00</td>\n",
       "      <td>0.46</td>\n",
       "      <td>28846635.50</td>\n",
       "    </tr>\n",
       "    <tr>\n",
       "      <th>max</th>\n",
       "      <td>8286892.00</td>\n",
       "      <td>186.00</td>\n",
       "      <td>2727728.00</td>\n",
       "      <td>16200000000000.00</td>\n",
       "      <td>57.00</td>\n",
       "      <td>1350695000.00</td>\n",
       "    </tr>\n",
       "  </tbody>\n",
       "</table>\n",
       "</div>"
      ],
      "text/plain": [
       "       CO2 Emissions  Ease of Business  Energy Usage               GDP  \\\n",
       "count        1243.00           1243.00       1243.00           1243.00   \n",
       "mean       189766.62             88.28      75418.42   353554814174.66   \n",
       "std        769702.72             52.77     270758.65  1358969743285.45   \n",
       "min            48.00              1.00         30.00      123258507.00   \n",
       "25%          3111.50             45.00       2721.00     7746580674.00   \n",
       "50%         16208.00             85.00       9318.00    24680372724.00   \n",
       "75%         75812.00            131.00      34956.50   177000000000.00   \n",
       "max       8286892.00            186.00    2727728.00 16200000000000.00   \n",
       "\n",
       "       Internet Usage  Population Total  \n",
       "count         1236.00           1243.00  \n",
       "mean             0.33       45134936.48  \n",
       "std              1.63      160048304.35  \n",
       "min              0.00          69660.00  \n",
       "25%              0.06        2097087.50  \n",
       "50%              0.20        7739900.00  \n",
       "75%              0.46       28846635.50  \n",
       "max             57.00     1350695000.00  "
      ]
     },
     "execution_count": 7,
     "metadata": {},
     "output_type": "execute_result"
    }
   ],
   "source": [
    "# the 'describe()' returns the statistical summary of data\n",
    "df_CO2Emission.describe()"
   ]
  },
  {
   "cell_type": "markdown",
   "metadata": {},
   "source": [
    "**Interpretation:** The above summary returns some statistical insights about the data. \n",
    "\n",
    "i) The middle 50% of the CO2 emission data is between 3111 tonnes to 75812 tonnes. The standard deviation is 769702 tonnes which is much greater than the mean. This implies there is so much variation in the CO2 emission variable.\n",
    "\n",
    "ii) The average GDP is near about 35000 crores where the maximum GDP is near about 16200 billions which indicates the developed countries in the corresponding region.  \n",
    "\n",
    "iii) Maximum the energy usage is near about 27 lac units where maximum total population is 135 crores. "
   ]
  },
  {
   "cell_type": "markdown",
   "metadata": {},
   "source": [
    "<table align=\"left\">\n",
    "    <tr>\n",
    "        <td width=\"6%\">\n",
    "            <img src=\"question_icon.png\">\n",
    "        </td>\n",
    "        <td>\n",
    "            <div align=\"left\", style=\"font-size:120%\">\n",
    "                <font color=\"#21618C\">\n",
    "                    <b>3. Drop the variables 'Region', 'Ease of Business', 'Internet Usage'.</b>\n",
    "                </font>\n",
    "            </div>\n",
    "        </td>\n",
    "    </tr>\n",
    "</table>"
   ]
  },
  {
   "cell_type": "code",
   "execution_count": 8,
   "metadata": {},
   "outputs": [
    {
     "data": {
      "text/html": [
       "<div>\n",
       "<style scoped>\n",
       "    .dataframe tbody tr th:only-of-type {\n",
       "        vertical-align: middle;\n",
       "    }\n",
       "\n",
       "    .dataframe tbody tr th {\n",
       "        vertical-align: top;\n",
       "    }\n",
       "\n",
       "    .dataframe thead th {\n",
       "        text-align: right;\n",
       "    }\n",
       "</style>\n",
       "<table border=\"1\" class=\"dataframe\">\n",
       "  <thead>\n",
       "    <tr style=\"text-align: right;\">\n",
       "      <th></th>\n",
       "      <th>CO2 Emissions</th>\n",
       "      <th>Energy Usage</th>\n",
       "      <th>GDP</th>\n",
       "      <th>Population Total</th>\n",
       "    </tr>\n",
       "  </thead>\n",
       "  <tbody>\n",
       "    <tr>\n",
       "      <th>0</th>\n",
       "      <td>4294</td>\n",
       "      <td>1976</td>\n",
       "      <td>5652325082.00</td>\n",
       "      <td>3033659</td>\n",
       "    </tr>\n",
       "    <tr>\n",
       "      <th>1</th>\n",
       "      <td>4166</td>\n",
       "      <td>2172</td>\n",
       "      <td>7464446950.00</td>\n",
       "      <td>3014579</td>\n",
       "    </tr>\n",
       "    <tr>\n",
       "      <th>2</th>\n",
       "      <td>4254</td>\n",
       "      <td>2172</td>\n",
       "      <td>8376483740.00</td>\n",
       "      <td>2992724</td>\n",
       "    </tr>\n",
       "    <tr>\n",
       "      <th>3</th>\n",
       "      <td>3865</td>\n",
       "      <td>2068</td>\n",
       "      <td>9132562332.00</td>\n",
       "      <td>2968028</td>\n",
       "    </tr>\n",
       "    <tr>\n",
       "      <th>4</th>\n",
       "      <td>4056</td>\n",
       "      <td>2025</td>\n",
       "      <td>10701011856.00</td>\n",
       "      <td>2940880</td>\n",
       "    </tr>\n",
       "  </tbody>\n",
       "</table>\n",
       "</div>"
      ],
      "text/plain": [
       "   CO2 Emissions  Energy Usage            GDP  Population Total\n",
       "0           4294          1976  5652325082.00           3033659\n",
       "1           4166          2172  7464446950.00           3014579\n",
       "2           4254          2172  8376483740.00           2992724\n",
       "3           3865          2068  9132562332.00           2968028\n",
       "4           4056          2025 10701011856.00           2940880"
      ]
     },
     "execution_count": 8,
     "metadata": {},
     "output_type": "execute_result"
    }
   ],
   "source": [
    "# consider the required variables only \n",
    "# pass the list of variables to the drop()\n",
    "# 'axis = 1' drops the specified column\n",
    "df_CO2Emission = df_CO2Emission.drop(['Region', 'Ease of Business', 'Internet Usage'], axis = 1)\n",
    "\n",
    "# to print first five observations \n",
    "df_CO2Emission.head()"
   ]
  },
  {
   "cell_type": "markdown",
   "metadata": {},
   "source": [
    "**Interpretation:**  The above output shows that we have dropped the variables 'Region', 'Ease of Business', 'Internet Usage'. Now we have 4 variables in the data."
   ]
  },
  {
   "cell_type": "markdown",
   "metadata": {},
   "source": [
    "<table align=\"left\">\n",
    "    <tr>\n",
    "        <td width=\"6%\">\n",
    "            <img src=\"question_icon.png\">\n",
    "        </td>\n",
    "        <td>\n",
    "            <div align=\"left\", style=\"font-size:120%\">\n",
    "                <font color=\"#21618C\">\n",
    "                    <b>4. Check if there are missing values, if yes then remove the observations with missing values.</b>\n",
    "                </font>\n",
    "            </div>\n",
    "        </td>\n",
    "    </tr>\n",
    "</table>"
   ]
  },
  {
   "cell_type": "code",
   "execution_count": 9,
   "metadata": {},
   "outputs": [
    {
     "data": {
      "text/plain": [
       "CO2 Emissions       0\n",
       "Energy Usage        0\n",
       "GDP                 0\n",
       "Population Total    0\n",
       "dtype: int64"
      ]
     },
     "execution_count": 9,
     "metadata": {},
     "output_type": "execute_result"
    }
   ],
   "source": [
    "# to check for null values and sum them column-wise\n",
    "total_missings = df_CO2Emission.isnull().sum()\n",
    "total_missings"
   ]
  },
  {
   "cell_type": "markdown",
   "metadata": {},
   "source": [
    "**Interpretation:**  There are no missing values in the data."
   ]
  },
  {
   "cell_type": "markdown",
   "metadata": {},
   "source": [
    "<table align=\"left\">\n",
    "    <tr>\n",
    "        <td width=\"6%\">\n",
    "            <img src=\"question_icon.png\">\n",
    "        </td>\n",
    "        <td>\n",
    "            <div align=\"left\", style=\"font-size:120%\">\n",
    "                <font color=\"#21618C\">\n",
    "                    <b>5. Check if there are outliers in the data and visualize the outliers using a boxplot.</b>\n",
    "                </font>\n",
    "            </div>\n",
    "        </td>\n",
    "    </tr>\n",
    "</table>"
   ]
  },
  {
   "cell_type": "code",
   "execution_count": 10,
   "metadata": {},
   "outputs": [
    {
     "data": {
      "image/png": "[encoded data removed]",
      "text/plain": [
       "<Figure size 1080x576 with 4 Axes>"
      ]
     },
     "metadata": {
      "needs_background": "light"
     },
     "output_type": "display_data"
    }
   ],
   "source": [
    "# plot the boxplot for each variable \n",
    "\n",
    "# set the number of rows in the subplot using the parameter, 'nrows'\n",
    "# set the number of columns in the subplot using the parameter, 'ncols'\n",
    "# 'figsize' sets the figure size\n",
    "fig, ax = plt.subplots(nrows = 2, ncols = 2, figsize=(15, 8))\n",
    "\n",
    "# use for loop to plot the boxplot for each variable\n",
    "for variable, subplot in zip(df_CO2Emission.columns, ax.flatten()):\n",
    "    \n",
    "    # use boxplot() to plot the graph\n",
    "    # pass the axes for the plot to the parameter, 'ax'\n",
    "    sns.boxplot(df_CO2Emission[variable], ax = subplot)\n",
    "\n",
    "# display the plot\n",
    "plt.show()"
   ]
  },
  {
   "cell_type": "markdown",
   "metadata": {},
   "source": [
    "**Interpretation:** From the above boxplots, we can see that there are so many outliers present in all the variables. We need to remove them before the further analysis."
   ]
  },
  {
   "cell_type": "markdown",
   "metadata": {},
   "source": [
    "<table align=\"left\">\n",
    "    <tr>\n",
    "        <td width=\"6%\">\n",
    "            <img src=\"question_icon.png\">\n",
    "        </td>\n",
    "        <td>\n",
    "            <div align=\"left\", style=\"font-size:120%\">\n",
    "                <font color=\"#21618C\">\n",
    "                    <b>6. Remove the outliers using 3.5IQR and check the shape of the data.</b>\n",
    "                </font>\n",
    "            </div>\n",
    "        </td>\n",
    "    </tr>\n",
    "</table>"
   ]
  },
  {
   "cell_type": "markdown",
   "metadata": {},
   "source": [
    "Generally, we use the 1.5IQR method to remove the outliers. Here, there are some extreme outliers that we need to remove. Thus, we use condition as 3.5IQR."
   ]
  },
  {
   "cell_type": "code",
   "execution_count": 11,
   "metadata": {},
   "outputs": [
    {
     "data": {
      "text/plain": [
       "(1054, 4)"
      ]
     },
     "execution_count": 11,
     "metadata": {},
     "output_type": "execute_result"
    }
   ],
   "source": [
    "# calculate the first quartile\n",
    "Q1 = df_CO2Emission.quantile(0.25)\n",
    "\n",
    "# calculate the third quartile\n",
    "Q3 = df_CO2Emission.quantile(0.75)\n",
    "\n",
    "# The Interquartile Range (IQR) is defined as the difference between the third and first quartile\n",
    "# calculate IQR for each numeric variable\n",
    "IQR = Q3 - Q1\n",
    "\n",
    "# retrieve the dataframe without the outliers\n",
    "# '~' returns the values that do not satisfy the given conditions \n",
    "# i.e. it returns values between the range [Q1-3.5*IQR, Q3+3.5*IQR]\n",
    "# '|' is used as 'OR' operator on multiple conditions   \n",
    "# 'any(axis=1)' checks the entire row for atleast one 'True' entry (those rows represents outliers in the data)\n",
    "df_CO2Emission = df_CO2Emission[~((df_CO2Emission < (Q1 - 3.5 * IQR)) | (df_CO2Emission > (Q3 + 3.5 * IQR))).any(axis=1)]\n",
    "\n",
    "# check the shape of the data \n",
    "df_CO2Emission.shape"
   ]
  },
  {
   "cell_type": "markdown",
   "metadata": {},
   "source": [
    "**Interpretation:**  From the dimension of the data, we can see that there are 1054 observations and 4 variables in the data. We have removed the extreme outliers."
   ]
  },
  {
   "cell_type": "markdown",
   "metadata": {},
   "source": [
    "<table align=\"left\">\n",
    "    <tr>\n",
    "        <td width=\"6%\">\n",
    "            <img src=\"question_icon.png\">\n",
    "        </td>\n",
    "        <td>\n",
    "            <div align=\"left\", style=\"font-size:120%\">\n",
    "                <font color=\"#21618C\">\n",
    "                    <b>7. Visualize the data obtained after removing the outliers with the help of a boxplot.</b>\n",
    "                </font>\n",
    "            </div>\n",
    "        </td>\n",
    "    </tr>\n",
    "</table>"
   ]
  },
  {
   "cell_type": "code",
   "execution_count": 12,
   "metadata": {},
   "outputs": [
    {
     "data": {
      "image/png": "[encoded data removed]",
      "text/plain": [
       "<Figure size 1080x576 with 4 Axes>"
      ]
     },
     "metadata": {
      "needs_background": "light"
     },
     "output_type": "display_data"
    }
   ],
   "source": [
    "# plot the boxplot for each variables\n",
    "\n",
    "# set the number of rows in the subplot using the parameter, 'nrows'\n",
    "# set the number of columns in the subplot using the parameter, 'ncols'\n",
    "# 'figsize' sets the figure size\n",
    "fig, ax = plt.subplots(nrows = 2, ncols = 2, figsize=(15, 8))\n",
    "\n",
    "# use for loop to plot the boxplot for each variable\n",
    "for variable, subplot in zip(df_CO2Emission.columns, ax.flatten()):\n",
    "    \n",
    "    # use boxplot() to plot the graph\n",
    "    # pass the axes for the plot to the parameter, 'ax'\n",
    "    sns.boxplot(df_CO2Emission[variable], ax = subplot)\n",
    "\n",
    "# display the plot\n",
    "plt.show()"
   ]
  },
  {
   "cell_type": "markdown",
   "metadata": {},
   "source": [
    "**Interpretation:**  \n",
    "\n",
    "i) Observing the range of the boxplot, we can say that the extreme outliers are removed from the original data.\n",
    "\n",
    "ii) The new 'outliers' that we can see in the variables are moderate outliers that lied within the min/max range before removing the actual outliers."
   ]
  },
  {
   "cell_type": "markdown",
   "metadata": {},
   "source": [
    "Now the data is ready for hierarchical clustering."
   ]
  },
  {
   "cell_type": "markdown",
   "metadata": {},
   "source": [
    "<table align=\"left\">\n",
    "    <tr>\n",
    "        <td width=\"6%\">\n",
    "            <img src=\"question_icon.png\">\n",
    "        </td>\n",
    "        <td>\n",
    "            <div align=\"left\", style=\"font-size:120%\">\n",
    "                <font color=\"#21618C\">\n",
    "                    <b>8. Transform the variables in the standard form such that they will have mean 0 and standard deviation 1 and get the summary.</b>\n",
    "                </font>\n",
    "            </div>\n",
    "        </td>\n",
    "    </tr>\n",
    "</table>"
   ]
  },
  {
   "cell_type": "code",
   "execution_count": 13,
   "metadata": {},
   "outputs": [],
   "source": [
    "# select the variables for model building and store it in 'features'\n",
    "features = df_CO2Emission[['CO2 Emissions','Energy Usage','GDP','Population Total']]\n",
    "\n",
    "# instantiate the 'StandardScaler'\n",
    "scaler = StandardScaler()\n",
    "\n",
    "# fit_transform() transforms the data by first computing the mean and sd and later scaling the data\n",
    "# name the standardized data as 'features_scaled'\n",
    "features_scaled = scaler.fit_transform(features)"
   ]
  },
  {
   "cell_type": "code",
   "execution_count": 14,
   "metadata": {},
   "outputs": [
    {
     "data": {
      "text/html": [
       "<div>\n",
       "<style scoped>\n",
       "    .dataframe tbody tr th:only-of-type {\n",
       "        vertical-align: middle;\n",
       "    }\n",
       "\n",
       "    .dataframe tbody tr th {\n",
       "        vertical-align: top;\n",
       "    }\n",
       "\n",
       "    .dataframe thead th {\n",
       "        text-align: right;\n",
       "    }\n",
       "</style>\n",
       "<table border=\"1\" class=\"dataframe\">\n",
       "  <thead>\n",
       "    <tr style=\"text-align: right;\">\n",
       "      <th></th>\n",
       "      <th>CO2 Emissions</th>\n",
       "      <th>Energy Usage</th>\n",
       "      <th>GDP</th>\n",
       "      <th>Population Total</th>\n",
       "    </tr>\n",
       "  </thead>\n",
       "  <tbody>\n",
       "    <tr>\n",
       "      <th>count</th>\n",
       "      <td>1054.00</td>\n",
       "      <td>1054.00</td>\n",
       "      <td>1054.00</td>\n",
       "      <td>1054.00</td>\n",
       "    </tr>\n",
       "    <tr>\n",
       "      <th>mean</th>\n",
       "      <td>0.00</td>\n",
       "      <td>0.00</td>\n",
       "      <td>0.00</td>\n",
       "      <td>-0.00</td>\n",
       "    </tr>\n",
       "    <tr>\n",
       "      <th>std</th>\n",
       "      <td>1.00</td>\n",
       "      <td>1.00</td>\n",
       "      <td>1.00</td>\n",
       "      <td>1.00</td>\n",
       "    </tr>\n",
       "    <tr>\n",
       "      <th>min</th>\n",
       "      <td>-1.00</td>\n",
       "      <td>-1.00</td>\n",
       "      <td>-1.00</td>\n",
       "      <td>-1.00</td>\n",
       "    </tr>\n",
       "    <tr>\n",
       "      <th>25%</th>\n",
       "      <td>-1.00</td>\n",
       "      <td>-1.00</td>\n",
       "      <td>-1.00</td>\n",
       "      <td>-1.00</td>\n",
       "    </tr>\n",
       "    <tr>\n",
       "      <th>50%</th>\n",
       "      <td>-0.00</td>\n",
       "      <td>-0.00</td>\n",
       "      <td>-0.00</td>\n",
       "      <td>-0.00</td>\n",
       "    </tr>\n",
       "    <tr>\n",
       "      <th>75%</th>\n",
       "      <td>0.00</td>\n",
       "      <td>0.00</td>\n",
       "      <td>-0.00</td>\n",
       "      <td>0.00</td>\n",
       "    </tr>\n",
       "    <tr>\n",
       "      <th>max</th>\n",
       "      <td>5.00</td>\n",
       "      <td>5.00</td>\n",
       "      <td>5.00</td>\n",
       "      <td>5.00</td>\n",
       "    </tr>\n",
       "  </tbody>\n",
       "</table>\n",
       "</div>"
      ],
      "text/plain": [
       "       CO2 Emissions  Energy Usage     GDP  Population Total\n",
       "count        1054.00       1054.00 1054.00           1054.00\n",
       "mean            0.00          0.00    0.00             -0.00\n",
       "std             1.00          1.00    1.00              1.00\n",
       "min            -1.00         -1.00   -1.00             -1.00\n",
       "25%            -1.00         -1.00   -1.00             -1.00\n",
       "50%            -0.00         -0.00   -0.00             -0.00\n",
       "75%             0.00          0.00   -0.00              0.00\n",
       "max             5.00          5.00    5.00              5.00"
      ]
     },
     "execution_count": 14,
     "metadata": {},
     "output_type": "execute_result"
    }
   ],
   "source": [
    "# convert the array back to a dataframe\n",
    "# pass the required column names to the parameter 'columns'\n",
    "df_scaled = pd.DataFrame(features_scaled, columns = df_CO2Emission.columns)\n",
    "\n",
    "# summarize the dataframe\n",
    "# use 'round()' to consider the integer values\n",
    "round(df_scaled.describe())"
   ]
  },
  {
   "cell_type": "markdown",
   "metadata": {},
   "source": [
    "**Interpretation:** Here all the variables have a mean 0 and standard deviation of 1. Now they are in the standard form. "
   ]
  },
  {
   "cell_type": "markdown",
   "metadata": {},
   "source": [
    "<a id=\"hie\"></a>\n",
    "## 2. Hierarchical Clustering"
   ]
  },
  {
   "cell_type": "markdown",
   "metadata": {},
   "source": [
    "<table align=\"left\">\n",
    "    <tr>\n",
    "        <td width=\"6%\">\n",
    "            <img src=\"question_icon.png\">\n",
    "        </td>\n",
    "        <td>\n",
    "            <div align=\"left\", style=\"font-size:120%\">\n",
    "                <font color=\"#21618C\">\n",
    "                    <b>9. Use the 'ward' linkage method and print the first 10 observations of the linkage matrix.</b>\n",
    "                </font>\n",
    "            </div>\n",
    "        </td>\n",
    "    </tr>\n",
    "</table>"
   ]
  },
  {
   "cell_type": "code",
   "execution_count": 15,
   "metadata": {},
   "outputs": [
    {
     "name": "stdout",
     "output_type": "stream",
     "text": [
      "[[380.         382.           0.00002257   2.        ]\n",
      " [391.         392.           0.00003782   2.        ]\n",
      " [381.         383.           0.0000863    2.        ]\n",
      " [ 36.          37.           0.00008787   2.        ]\n",
      " [ 26.          27.           0.00010737   2.        ]\n",
      " [495.         496.           0.00011967   2.        ]\n",
      " [384.         385.           0.00012006   2.        ]\n",
      " [816.         818.           0.00014106   2.        ]\n",
      " [960.         961.           0.00014553   2.        ]\n",
      " [389.         390.           0.00014886   2.        ]]\n"
     ]
    }
   ],
   "source": [
    "# instantiate linkage object with scaled data and consider 'ward' linkage method \n",
    "link_mat = linkage(features_scaled, method = 'ward')     \n",
    "\n",
    "# print first 10 observations of the linkage matrix 'link_mat'\n",
    "print(link_mat[0:10])"
   ]
  },
  {
   "cell_type": "markdown",
   "metadata": {},
   "source": [
    "**Interpretation:** \n",
    "\n",
    "i) The 1st column and the 2nd column represent observations that are merged together. The distance at which the observations are merged is given in the 3rd column which is used to plot the dendrogram. The 4th column in the linkage matrix is the number of observations in the merged cluster.\n",
    "\n",
    "ii) Here at the ith iteration, the observations `link_mat[i,0]` and `link_mat[i,1]` are considered to form a cluster n+i (n+i is the index of cluster obtained at ith iteration). A cluster with an index less than n corresponds to one of the original observations. \n",
    "\n",
    "iii) Consider the 3rd row in the linkage matrix, here the 1st observation is 381.0 (in the 1st column) and the 2nd observation is 383.0 (in the 2nd column). We merge these two observations to form a cluster and get the linkage distance as 0.000086 (in the 3rd column). Now, there are two obsevations in this newly formed cluster (which is given in the 4th column)."
   ]
  },
  {
   "cell_type": "markdown",
   "metadata": {},
   "source": [
    "<table align=\"left\">\n",
    "    <tr>\n",
    "        <td width=\"6%\">\n",
    "            <img src=\"question_icon.png\">\n",
    "        </td>\n",
    "        <td>\n",
    "            <div align=\"left\", style=\"font-size:120%\">\n",
    "                <font color=\"#21618C\">\n",
    "                    <b>10. Visualize the clusters obtained using dendrogram and find the optimal number of clusters.</b>\n",
    "                </font>\n",
    "            </div>\n",
    "        </td>\n",
    "    </tr>\n",
    "</table>"
   ]
  },
  {
   "cell_type": "code",
   "execution_count": 16,
   "metadata": {},
   "outputs": [
    {
     "data": {
      "image/png": "[encoded data removed]",
      "text/plain": [
       "<Figure size 1080x576 with 1 Axes>"
      ]
     },
     "metadata": {
      "needs_background": "light"
     },
     "output_type": "display_data"
    }
   ],
   "source": [
    "# plot the dendrogram\n",
    "# set the font size using 'figsize'\n",
    "plt.figure(figsize=(15,8))\n",
    "\n",
    "# pass the linkage matrix\n",
    "dendro = dendrogram(link_mat)\n",
    "\n",
    "# annotate the distance on the y-axis for distance > 15\n",
    "# 'dendro' returns the dictionary containing x,y coordinates and the color list for each merge\n",
    "# the 'icoord' returns the x-coordinates for the rectangle that represents the merging\n",
    "# the 'dcoord' returns the y-coordinates (distance) for the each corner of the rectangle that represents the merging\n",
    "for i, d, c in zip(dendro['icoord'], dendro['dcoord'], dendro['color_list']):\n",
    "    \n",
    "    # consider 'x' as the x-coordinate of the average distance on the merging line\n",
    "    x = sum(i[1:3])/2\n",
    "    \n",
    "    # consider 'y' as the distance at which the merging occurs \n",
    "    y = d[1]\n",
    "    \n",
    "    # pass the if-condition for annotation\n",
    "    if y > 15:\n",
    "        \n",
    "        # plot the bullet and annotate the merging distance 'y'\n",
    "        plt.plot(x, y, 'o', c=c)\n",
    "        \n",
    "        # pass the conditions to annotate the distance\n",
    "        plt.annotate(\"%.3g\" % y, (x, y), xytext = (0, -5), textcoords = 'offset points', va = 'top', ha = 'center')\n",
    "\n",
    "# set the plot labels\n",
    "# set the font size using 'fontsize'\n",
    "plt.title('Dendrogram', fontsize = 15)\n",
    "\n",
    "# set axes labels\n",
    "# set the font size using 'fontsize'\n",
    "plt.xlabel('Index', fontsize = 15)\n",
    "plt.ylabel('Distance', fontsize = 15)\n",
    "\n",
    "# display the plot\n",
    "plt.show()"
   ]
  },
  {
   "cell_type": "markdown",
   "metadata": {},
   "source": [
    "**Interpretation:** The dendrogram above shows that the optimal number of clusters is two."
   ]
  },
  {
   "cell_type": "markdown",
   "metadata": {},
   "source": [
    "<table align=\"left\">\n",
    "    <tr>\n",
    "        <td width=\"6%\">\n",
    "            <img src=\"question_icon.png\">\n",
    "        </td>\n",
    "        <td>\n",
    "            <div align=\"left\", style=\"font-size:120%\">\n",
    "                <font color=\"#21618C\">\n",
    "                    <b>11. Find the cophenetic correlation coefficient and interpret it.</b>\n",
    "                </font>\n",
    "            </div>\n",
    "        </td>\n",
    "    </tr>\n",
    "</table>"
   ]
  },
  {
   "cell_type": "code",
   "execution_count": 17,
   "metadata": {},
   "outputs": [
    {
     "name": "stdout",
     "output_type": "stream",
     "text": [
      "0.7973822617121825\n"
     ]
    }
   ],
   "source": [
    "# calculate the euclidean distance between the observations \n",
    "eucli_dist = euclidean_distances(features_scaled)\n",
    "\n",
    "# the above code will return the matrix of 1054x1054\n",
    "# consider only the array of upper triangular matrix\n",
    "# k=1 considers the upper triangular values without the diagonal elements\n",
    "dist_array = eucli_dist[np.triu_indices(1054, k = 1)]\n",
    "\n",
    "# pass the linkage matrix and actual distance\n",
    "# 1st output of the cophenet() is the correlation coefficient\n",
    "coeff, cophenet_dist = cophenet(link_mat, dist_array)\n",
    "\n",
    "# print the cophenetic correlation coefficient\n",
    "print(coeff)"
   ]
  },
  {
   "cell_type": "markdown",
   "metadata": {},
   "source": [
    "**Interpretation:** The cophenetic correlation coefficient is 0.80 which is close to 1 which means that the dendrogram is well defined concerning the clusters."
   ]
  },
  {
   "cell_type": "markdown",
   "metadata": {},
   "source": [
    "<table align=\"left\">\n",
    "    <tr>\n",
    "        <td width=\"6%\">\n",
    "            <img src=\"question_icon.png\">\n",
    "        </td>\n",
    "        <td>\n",
    "            <div align=\"left\", style=\"font-size:120%\">\n",
    "                <font color=\"#21618C\">\n",
    "                    <b>12. Instantiate clustering method with an optimal number of clusters and 'ward' linkage method.</b>\n",
    "                </font>\n",
    "            </div>\n",
    "        </td>\n",
    "    </tr>\n",
    "</table>"
   ]
  },
  {
   "cell_type": "code",
   "execution_count": 18,
   "metadata": {
    "scrolled": true
   },
   "outputs": [
    {
     "data": {
      "text/plain": [
       "AgglomerativeClustering()"
      ]
     },
     "execution_count": 18,
     "metadata": {},
     "output_type": "execute_result"
    }
   ],
   "source": [
    "# agglomerative clustering recursively merges the pair of clusters that minimally increases a given linkage distance.\n",
    "# instantiate clustering method with 2 clusters and 'ward' linkage method\n",
    "# ‘ward’ method of linkage minimizes the variance of the clusters that are being merged\n",
    "clusters = AgglomerativeClustering(n_clusters = 2, linkage = 'ward')\n",
    "\n",
    "# fit the model on the scaled data\n",
    "clusters.fit(features_scaled)"
   ]
  },
  {
   "cell_type": "markdown",
   "metadata": {},
   "source": [
    "<table align=\"left\">\n",
    "    <tr>\n",
    "        <td width=\"6%\">\n",
    "            <img src=\"question_icon.png\">\n",
    "        </td>\n",
    "        <td>\n",
    "            <div align=\"left\", style=\"font-size:120%\">\n",
    "                <font color=\"#21618C\">\n",
    "                    <b>13. Obtain the cluster labels and add a column containing the cluster number to the original data.</b>\n",
    "                </font>\n",
    "            </div>\n",
    "        </td>\n",
    "    </tr>\n",
    "</table>"
   ]
  },
  {
   "cell_type": "code",
   "execution_count": 19,
   "metadata": {},
   "outputs": [
    {
     "data": {
      "text/html": [
       "<div>\n",
       "<style scoped>\n",
       "    .dataframe tbody tr th:only-of-type {\n",
       "        vertical-align: middle;\n",
       "    }\n",
       "\n",
       "    .dataframe tbody tr th {\n",
       "        vertical-align: top;\n",
       "    }\n",
       "\n",
       "    .dataframe thead th {\n",
       "        text-align: right;\n",
       "    }\n",
       "</style>\n",
       "<table border=\"1\" class=\"dataframe\">\n",
       "  <thead>\n",
       "    <tr style=\"text-align: right;\">\n",
       "      <th></th>\n",
       "      <th>CO2 Emissions</th>\n",
       "      <th>Energy Usage</th>\n",
       "      <th>GDP</th>\n",
       "      <th>Population Total</th>\n",
       "      <th>Cluster</th>\n",
       "    </tr>\n",
       "  </thead>\n",
       "  <tbody>\n",
       "    <tr>\n",
       "      <th>0</th>\n",
       "      <td>4294</td>\n",
       "      <td>1976</td>\n",
       "      <td>5652325082.00</td>\n",
       "      <td>3033659</td>\n",
       "      <td>1</td>\n",
       "    </tr>\n",
       "    <tr>\n",
       "      <th>1</th>\n",
       "      <td>4166</td>\n",
       "      <td>2172</td>\n",
       "      <td>7464446950.00</td>\n",
       "      <td>3014579</td>\n",
       "      <td>1</td>\n",
       "    </tr>\n",
       "    <tr>\n",
       "      <th>2</th>\n",
       "      <td>4254</td>\n",
       "      <td>2172</td>\n",
       "      <td>8376483740.00</td>\n",
       "      <td>2992724</td>\n",
       "      <td>1</td>\n",
       "    </tr>\n",
       "    <tr>\n",
       "      <th>3</th>\n",
       "      <td>3865</td>\n",
       "      <td>2068</td>\n",
       "      <td>9132562332.00</td>\n",
       "      <td>2968028</td>\n",
       "      <td>1</td>\n",
       "    </tr>\n",
       "    <tr>\n",
       "      <th>4</th>\n",
       "      <td>4056</td>\n",
       "      <td>2025</td>\n",
       "      <td>10701011856.00</td>\n",
       "      <td>2940880</td>\n",
       "      <td>1</td>\n",
       "    </tr>\n",
       "  </tbody>\n",
       "</table>\n",
       "</div>"
      ],
      "text/plain": [
       "   CO2 Emissions  Energy Usage            GDP  Population Total  Cluster\n",
       "0           4294          1976  5652325082.00           3033659        1\n",
       "1           4166          2172  7464446950.00           3014579        1\n",
       "2           4254          2172  8376483740.00           2992724        1\n",
       "3           3865          2068  9132562332.00           2968028        1\n",
       "4           4056          2025 10701011856.00           2940880        1"
      ]
     },
     "execution_count": 19,
     "metadata": {},
     "output_type": "execute_result"
    }
   ],
   "source": [
    "# add a column containing cluster number to the original data\n",
    "df_CO2Emission['Cluster'] = clusters.labels_\n",
    "\n",
    "# print head() of the newly formed dataframe\n",
    "df_CO2Emission.head()"
   ]
  },
  {
   "cell_type": "markdown",
   "metadata": {},
   "source": [
    "**Interpretation:** The observations belonging to the 1st cluster are labeled as 0 and the observations belonging to the 2nd cluster are labeled as 1."
   ]
  },
  {
   "cell_type": "markdown",
   "metadata": {},
   "source": [
    "<table align=\"left\">\n",
    "    <tr>\n",
    "        <td width=\"6%\">\n",
    "            <img src=\"question_icon.png\">\n",
    "        </td>\n",
    "        <td>\n",
    "            <div align=\"left\", style=\"font-size:120%\">\n",
    "                <font color=\"#21618C\">\n",
    "                    <b>14. Find the size of each cluster and plot the count plot for the cluster size.</b>\n",
    "                </font>\n",
    "            </div>\n",
    "        </td>\n",
    "    </tr>\n",
    "</table>"
   ]
  },
  {
   "cell_type": "code",
   "execution_count": 20,
   "metadata": {},
   "outputs": [
    {
     "data": {
      "text/plain": [
       "1    820\n",
       "0    234\n",
       "Name: Cluster, dtype: int64"
      ]
     },
     "execution_count": 20,
     "metadata": {},
     "output_type": "execute_result"
    }
   ],
   "source": [
    "# check the size of each cluster\n",
    "df_CO2Emission['Cluster'].value_counts()"
   ]
  },
  {
   "cell_type": "markdown",
   "metadata": {},
   "source": [
    "**Interpretation:** There are 234 observations belonging to the 1st cluster and there are 820 observations the belongs to the 2nd cluster."
   ]
  },
  {
   "cell_type": "code",
   "execution_count": 21,
   "metadata": {},
   "outputs": [
    {
     "data": {
      "image/png": "[encoded data removed]",
      "text/plain": [
       "<Figure size 1080x576 with 1 Axes>"
      ]
     },
     "metadata": {
      "needs_background": "light"
     },
     "output_type": "display_data"
    }
   ],
   "source": [
    "# set the font size using 'figsize'\n",
    "plt.figure(figsize=(15,8))\n",
    "\n",
    "# plot the countplot for the cluster size\n",
    "sns.countplot(data = df_CO2Emission, x = 'Cluster')\n",
    "\n",
    "# use below code to print the values in the graph\n",
    "# 'x' and 'y' gives position of the text\n",
    "# 's' is the text \n",
    "plt.text(x = -0.05, y = df_CO2Emission['Cluster'].value_counts()[0] + 1, s = df_CO2Emission['Cluster'].value_counts()[0])\n",
    "plt.text(x = 0.98, y = df_CO2Emission['Cluster'].value_counts()[1] + 1, s = df_CO2Emission['Cluster'].value_counts()[1])\n",
    "\n",
    "# set the axes and plot labels\n",
    "# set the font size using 'fontsize'\n",
    "plt.title('Size of Cluster', fontsize = 15)\n",
    "plt.xlabel('Cluster', fontsize = 15)\n",
    "plt.ylabel('CO2 Emission', fontsize = 15)\n",
    "\n",
    "# display the plot\n",
    "plt.show()"
   ]
  },
  {
   "cell_type": "markdown",
   "metadata": {},
   "source": [
    "**Interpretation:** The maximum number of observations is in the 2nd cluster."
   ]
  },
  {
   "cell_type": "markdown",
   "metadata": {},
   "source": [
    "<table align=\"left\">\n",
    "    <tr>\n",
    "        <td width=\"6%\">\n",
    "            <img src=\"question_icon.png\">\n",
    "        </td>\n",
    "        <td>\n",
    "            <div align=\"left\", style=\"font-size:120%\">\n",
    "                <font color=\"#21618C\">\n",
    "                    <b>15. Plot the scatterplot to visualize the clusters using 'CO2 Emissions' and 'Energy Usage'.</b>\n",
    "                </font>\n",
    "            </div>\n",
    "        </td>\n",
    "    </tr>\n",
    "</table>"
   ]
  },
  {
   "cell_type": "code",
   "execution_count": 22,
   "metadata": {},
   "outputs": [
    {
     "data": {
      "image/png": "[encoded data removed]",
      "text/plain": [
       "<Figure size 1080x576 with 1 Axes>"
      ]
     },
     "metadata": {
      "needs_background": "light"
     },
     "output_type": "display_data"
    }
   ],
   "source": [
    "# set the font size using 'figsize'\n",
    "plt.figure(figsize=(15,8))\n",
    "\n",
    "# plot the scatterplot to visualize the clusters\n",
    "# pass the hue parameter to assign different colors to observatiosn in each cluster\n",
    "sns.scatterplot(x = 'CO2 Emissions', y = 'Energy Usage', data = df_CO2Emission, hue = 'Cluster')\n",
    "\n",
    "# set the axes and plot labels\n",
    "# set the font size using 'fontsize'\n",
    "plt.title('Hierarchical Clustering', fontsize = 15)\n",
    "plt.xlabel('CO2 Emissions', fontsize = 15)\n",
    "plt.ylabel('Energy Usage', fontsize = 15)\n",
    "\n",
    "# display the plot\n",
    "plt.show()"
   ]
  },
  {
   "cell_type": "markdown",
   "metadata": {},
   "source": [
    "**Interpretation:** The above scatterplot shows that two clusters are well-formed. It shows that the majority of the regions in the 1st cluster tend to have maximum CO2 emission and energy usages.\n",
    "Almost all the regions in the 2nd cluster tend to have minimum CO2 emission and energy usage than those in the 1st cluster."
   ]
  },
  {
   "cell_type": "markdown",
   "metadata": {},
   "source": [
    "<table align=\"left\">\n",
    "    <tr>\n",
    "        <td width=\"6%\">\n",
    "            <img src=\"question_icon.png\">\n",
    "        </td>\n",
    "        <td>\n",
    "            <div align=\"left\", style=\"font-size:120%\">\n",
    "                <font color=\"#21618C\">\n",
    "                    <b>16. Obtain the first 10 observations for 1st cluster and find its summary.</b>\n",
    "                </font>\n",
    "            </div>\n",
    "        </td>\n",
    "    </tr>\n",
    "</table>"
   ]
  },
  {
   "cell_type": "code",
   "execution_count": 23,
   "metadata": {},
   "outputs": [
    {
     "data": {
      "text/html": [
       "<div>\n",
       "<style scoped>\n",
       "    .dataframe tbody tr th:only-of-type {\n",
       "        vertical-align: middle;\n",
       "    }\n",
       "\n",
       "    .dataframe tbody tr th {\n",
       "        vertical-align: top;\n",
       "    }\n",
       "\n",
       "    .dataframe thead th {\n",
       "        text-align: right;\n",
       "    }\n",
       "</style>\n",
       "<table border=\"1\" class=\"dataframe\">\n",
       "  <thead>\n",
       "    <tr style=\"text-align: right;\">\n",
       "      <th></th>\n",
       "      <th>CO2 Emissions</th>\n",
       "      <th>Energy Usage</th>\n",
       "      <th>GDP</th>\n",
       "      <th>Population Total</th>\n",
       "      <th>Cluster</th>\n",
       "    </tr>\n",
       "  </thead>\n",
       "  <tbody>\n",
       "    <tr>\n",
       "      <th>8</th>\n",
       "      <td>92533</td>\n",
       "      <td>30698</td>\n",
       "      <td>67863832648.00</td>\n",
       "      <td>33003442</td>\n",
       "      <td>0</td>\n",
       "    </tr>\n",
       "    <tr>\n",
       "      <th>9</th>\n",
       "      <td>89493</td>\n",
       "      <td>30974</td>\n",
       "      <td>85324997370.00</td>\n",
       "      <td>33461345</td>\n",
       "      <td>0</td>\n",
       "    </tr>\n",
       "    <tr>\n",
       "      <th>10</th>\n",
       "      <td>107128</td>\n",
       "      <td>32335</td>\n",
       "      <td>103000000000.00</td>\n",
       "      <td>33960903</td>\n",
       "      <td>0</td>\n",
       "    </tr>\n",
       "    <tr>\n",
       "      <th>11</th>\n",
       "      <td>103963</td>\n",
       "      <td>34658</td>\n",
       "      <td>117000000000.00</td>\n",
       "      <td>34507214</td>\n",
       "      <td>0</td>\n",
       "    </tr>\n",
       "    <tr>\n",
       "      <th>12</th>\n",
       "      <td>112339</td>\n",
       "      <td>36793</td>\n",
       "      <td>135000000000.00</td>\n",
       "      <td>35097043</td>\n",
       "      <td>0</td>\n",
       "    </tr>\n",
       "    <tr>\n",
       "      <th>13</th>\n",
       "      <td>114619</td>\n",
       "      <td>37425</td>\n",
       "      <td>171000000000.00</td>\n",
       "      <td>35725377</td>\n",
       "      <td>0</td>\n",
       "    </tr>\n",
       "    <tr>\n",
       "      <th>14</th>\n",
       "      <td>124586</td>\n",
       "      <td>40823</td>\n",
       "      <td>137000000000.00</td>\n",
       "      <td>36383302</td>\n",
       "      <td>0</td>\n",
       "    </tr>\n",
       "    <tr>\n",
       "      <th>15</th>\n",
       "      <td>123475</td>\n",
       "      <td>40105</td>\n",
       "      <td>161000000000.00</td>\n",
       "      <td>37062820</td>\n",
       "      <td>0</td>\n",
       "    </tr>\n",
       "    <tr>\n",
       "      <th>16</th>\n",
       "      <td>123475</td>\n",
       "      <td>41852</td>\n",
       "      <td>199000000000.00</td>\n",
       "      <td>37762962</td>\n",
       "      <td>0</td>\n",
       "    </tr>\n",
       "    <tr>\n",
       "      <th>17</th>\n",
       "      <td>123475</td>\n",
       "      <td>41852</td>\n",
       "      <td>204000000000.00</td>\n",
       "      <td>38481705</td>\n",
       "      <td>0</td>\n",
       "    </tr>\n",
       "  </tbody>\n",
       "</table>\n",
       "</div>"
      ],
      "text/plain": [
       "    CO2 Emissions  Energy Usage             GDP  Population Total  Cluster\n",
       "8           92533         30698  67863832648.00          33003442        0\n",
       "9           89493         30974  85324997370.00          33461345        0\n",
       "10         107128         32335 103000000000.00          33960903        0\n",
       "11         103963         34658 117000000000.00          34507214        0\n",
       "12         112339         36793 135000000000.00          35097043        0\n",
       "13         114619         37425 171000000000.00          35725377        0\n",
       "14         124586         40823 137000000000.00          36383302        0\n",
       "15         123475         40105 161000000000.00          37062820        0\n",
       "16         123475         41852 199000000000.00          37762962        0\n",
       "17         123475         41852 204000000000.00          38481705        0"
      ]
     },
     "execution_count": 23,
     "metadata": {},
     "output_type": "execute_result"
    }
   ],
   "source": [
    "# first 10 observations in the cluster_1\n",
    "df_CO2Emission[df_CO2Emission.Cluster == 0].head(10)"
   ]
  },
  {
   "cell_type": "markdown",
   "metadata": {},
   "source": [
    "**Interpretation:** The above output shows the first ten observations belonging to the 1st cluster."
   ]
  },
  {
   "cell_type": "code",
   "execution_count": 24,
   "metadata": {},
   "outputs": [
    {
     "data": {
      "text/html": [
       "<div>\n",
       "<style scoped>\n",
       "    .dataframe tbody tr th:only-of-type {\n",
       "        vertical-align: middle;\n",
       "    }\n",
       "\n",
       "    .dataframe tbody tr th {\n",
       "        vertical-align: top;\n",
       "    }\n",
       "\n",
       "    .dataframe thead th {\n",
       "        text-align: right;\n",
       "    }\n",
       "</style>\n",
       "<table border=\"1\" class=\"dataframe\">\n",
       "  <thead>\n",
       "    <tr style=\"text-align: right;\">\n",
       "      <th></th>\n",
       "      <th>CO2 Emissions</th>\n",
       "      <th>Energy Usage</th>\n",
       "      <th>GDP</th>\n",
       "      <th>Population Total</th>\n",
       "      <th>Cluster</th>\n",
       "    </tr>\n",
       "  </thead>\n",
       "  <tbody>\n",
       "    <tr>\n",
       "      <th>count</th>\n",
       "      <td>234.00</td>\n",
       "      <td>234.00</td>\n",
       "      <td>234.00</td>\n",
       "      <td>234.00</td>\n",
       "      <td>234.00</td>\n",
       "    </tr>\n",
       "    <tr>\n",
       "      <th>mean</th>\n",
       "      <td>114965.60</td>\n",
       "      <td>49870.94</td>\n",
       "      <td>236719737453.08</td>\n",
       "      <td>32435995.82</td>\n",
       "      <td>0.00</td>\n",
       "    </tr>\n",
       "    <tr>\n",
       "      <th>std</th>\n",
       "      <td>83140.40</td>\n",
       "      <td>26678.21</td>\n",
       "      <td>153080153053.87</td>\n",
       "      <td>26770777.97</td>\n",
       "      <td>0.00</td>\n",
       "    </tr>\n",
       "    <tr>\n",
       "      <th>min</th>\n",
       "      <td>2226.00</td>\n",
       "      <td>19971.00</td>\n",
       "      <td>7707034813.00</td>\n",
       "      <td>1359114.00</td>\n",
       "      <td>0.00</td>\n",
       "    </tr>\n",
       "    <tr>\n",
       "      <th>25%</th>\n",
       "      <td>63767.50</td>\n",
       "      <td>30598.25</td>\n",
       "      <td>130000000000.00</td>\n",
       "      <td>9097401.75</td>\n",
       "      <td>0.00</td>\n",
       "    </tr>\n",
       "    <tr>\n",
       "      <th>50%</th>\n",
       "      <td>95160.50</td>\n",
       "      <td>39972.50</td>\n",
       "      <td>205000000000.00</td>\n",
       "      <td>27516491.00</td>\n",
       "      <td>0.00</td>\n",
       "    </tr>\n",
       "    <tr>\n",
       "      <th>75%</th>\n",
       "      <td>159756.50</td>\n",
       "      <td>62885.75</td>\n",
       "      <td>341500000000.00</td>\n",
       "      <td>45853665.25</td>\n",
       "      <td>0.00</td>\n",
       "    </tr>\n",
       "    <tr>\n",
       "      <th>max</th>\n",
       "      <td>329605.00</td>\n",
       "      <td>137343.00</td>\n",
       "      <td>678000000000.00</td>\n",
       "      <td>96706764.00</td>\n",
       "      <td>0.00</td>\n",
       "    </tr>\n",
       "  </tbody>\n",
       "</table>\n",
       "</div>"
      ],
      "text/plain": [
       "       CO2 Emissions  Energy Usage             GDP  Population Total  Cluster\n",
       "count         234.00        234.00          234.00            234.00   234.00\n",
       "mean       114965.60      49870.94 236719737453.08       32435995.82     0.00\n",
       "std         83140.40      26678.21 153080153053.87       26770777.97     0.00\n",
       "min          2226.00      19971.00   7707034813.00        1359114.00     0.00\n",
       "25%         63767.50      30598.25 130000000000.00        9097401.75     0.00\n",
       "50%         95160.50      39972.50 205000000000.00       27516491.00     0.00\n",
       "75%        159756.50      62885.75 341500000000.00       45853665.25     0.00\n",
       "max        329605.00     137343.00 678000000000.00       96706764.00     0.00"
      ]
     },
     "execution_count": 24,
     "metadata": {},
     "output_type": "execute_result"
    }
   ],
   "source": [
    "# statistical summary of the variables\n",
    "df_CO2Emission[df_CO2Emission.Cluster==0].describe()"
   ]
  },
  {
   "cell_type": "markdown",
   "metadata": {},
   "source": [
    "**Interpretation:**\n",
    "\n",
    "i) The average CO2 emission is about 114965 tonnes for the countries in the regions where the average GDP is 23671 crores. \n",
    "\n",
    "ii) The average energy usage is near about 49 thousand units where the maximum population is 9 crores. \n",
    "\n",
    "iii) In the regions where there are developed countries, we generally observe high GDP and CO2 emission."
   ]
  },
  {
   "cell_type": "markdown",
   "metadata": {},
   "source": [
    "<table align=\"left\">\n",
    "    <tr>\n",
    "        <td width=\"6%\">\n",
    "            <img src=\"question_icon.png\">\n",
    "        </td>\n",
    "        <td>\n",
    "            <div align=\"left\", style=\"font-size:120%\">\n",
    "                <font color=\"#21618C\">\n",
    "                    <b>17. Obtain the first 10 observations for the 2nd cluster and find its summary.</b>\n",
    "                </font>\n",
    "            </div>\n",
    "        </td>\n",
    "    </tr>\n",
    "</table>"
   ]
  },
  {
   "cell_type": "code",
   "execution_count": 25,
   "metadata": {},
   "outputs": [
    {
     "data": {
      "text/html": [
       "<div>\n",
       "<style scoped>\n",
       "    .dataframe tbody tr th:only-of-type {\n",
       "        vertical-align: middle;\n",
       "    }\n",
       "\n",
       "    .dataframe tbody tr th {\n",
       "        vertical-align: top;\n",
       "    }\n",
       "\n",
       "    .dataframe thead th {\n",
       "        text-align: right;\n",
       "    }\n",
       "</style>\n",
       "<table border=\"1\" class=\"dataframe\">\n",
       "  <thead>\n",
       "    <tr style=\"text-align: right;\">\n",
       "      <th></th>\n",
       "      <th>CO2 Emissions</th>\n",
       "      <th>Energy Usage</th>\n",
       "      <th>GDP</th>\n",
       "      <th>Population Total</th>\n",
       "      <th>Cluster</th>\n",
       "    </tr>\n",
       "  </thead>\n",
       "  <tbody>\n",
       "    <tr>\n",
       "      <th>0</th>\n",
       "      <td>4294</td>\n",
       "      <td>1976</td>\n",
       "      <td>5652325082.00</td>\n",
       "      <td>3033659</td>\n",
       "      <td>1</td>\n",
       "    </tr>\n",
       "    <tr>\n",
       "      <th>1</th>\n",
       "      <td>4166</td>\n",
       "      <td>2172</td>\n",
       "      <td>7464446950.00</td>\n",
       "      <td>3014579</td>\n",
       "      <td>1</td>\n",
       "    </tr>\n",
       "    <tr>\n",
       "      <th>2</th>\n",
       "      <td>4254</td>\n",
       "      <td>2172</td>\n",
       "      <td>8376483740.00</td>\n",
       "      <td>2992724</td>\n",
       "      <td>1</td>\n",
       "    </tr>\n",
       "    <tr>\n",
       "      <th>3</th>\n",
       "      <td>3865</td>\n",
       "      <td>2068</td>\n",
       "      <td>9132562332.00</td>\n",
       "      <td>2968028</td>\n",
       "      <td>1</td>\n",
       "    </tr>\n",
       "    <tr>\n",
       "      <th>4</th>\n",
       "      <td>4056</td>\n",
       "      <td>2025</td>\n",
       "      <td>10701011856.00</td>\n",
       "      <td>2940880</td>\n",
       "      <td>1</td>\n",
       "    </tr>\n",
       "    <tr>\n",
       "      <th>5</th>\n",
       "      <td>4129</td>\n",
       "      <td>2061</td>\n",
       "      <td>12881352688.00</td>\n",
       "      <td>2912559</td>\n",
       "      <td>1</td>\n",
       "    </tr>\n",
       "    <tr>\n",
       "      <th>6</th>\n",
       "      <td>3880</td>\n",
       "      <td>2068</td>\n",
       "      <td>12044212904.00</td>\n",
       "      <td>2884303</td>\n",
       "      <td>1</td>\n",
       "    </tr>\n",
       "    <tr>\n",
       "      <th>7</th>\n",
       "      <td>4283</td>\n",
       "      <td>2059</td>\n",
       "      <td>11926953259.00</td>\n",
       "      <td>2856673</td>\n",
       "      <td>1</td>\n",
       "    </tr>\n",
       "    <tr>\n",
       "      <th>18</th>\n",
       "      <td>9065</td>\n",
       "      <td>9004</td>\n",
       "      <td>14188949240.00</td>\n",
       "      <td>15421075</td>\n",
       "      <td>1</td>\n",
       "    </tr>\n",
       "    <tr>\n",
       "      <th>19</th>\n",
       "      <td>18793</td>\n",
       "      <td>9676</td>\n",
       "      <td>19640862550.00</td>\n",
       "      <td>15976715</td>\n",
       "      <td>1</td>\n",
       "    </tr>\n",
       "  </tbody>\n",
       "</table>\n",
       "</div>"
      ],
      "text/plain": [
       "    CO2 Emissions  Energy Usage            GDP  Population Total  Cluster\n",
       "0            4294          1976  5652325082.00           3033659        1\n",
       "1            4166          2172  7464446950.00           3014579        1\n",
       "2            4254          2172  8376483740.00           2992724        1\n",
       "3            3865          2068  9132562332.00           2968028        1\n",
       "4            4056          2025 10701011856.00           2940880        1\n",
       "5            4129          2061 12881352688.00           2912559        1\n",
       "6            3880          2068 12044212904.00           2884303        1\n",
       "7            4283          2059 11926953259.00           2856673        1\n",
       "18           9065          9004 14188949240.00          15421075        1\n",
       "19          18793          9676 19640862550.00          15976715        1"
      ]
     },
     "execution_count": 25,
     "metadata": {},
     "output_type": "execute_result"
    }
   ],
   "source": [
    "# first 10 observations in the cluster_2\n",
    "df_CO2Emission[df_CO2Emission.Cluster == 1].head(10)"
   ]
  },
  {
   "cell_type": "markdown",
   "metadata": {},
   "source": [
    "**Interpretation:** The above output shows the first ten observations belonging to the 2nd cluster."
   ]
  },
  {
   "cell_type": "code",
   "execution_count": 26,
   "metadata": {},
   "outputs": [
    {
     "data": {
      "text/html": [
       "<div>\n",
       "<style scoped>\n",
       "    .dataframe tbody tr th:only-of-type {\n",
       "        vertical-align: middle;\n",
       "    }\n",
       "\n",
       "    .dataframe tbody tr th {\n",
       "        vertical-align: top;\n",
       "    }\n",
       "\n",
       "    .dataframe thead th {\n",
       "        text-align: right;\n",
       "    }\n",
       "</style>\n",
       "<table border=\"1\" class=\"dataframe\">\n",
       "  <thead>\n",
       "    <tr style=\"text-align: right;\">\n",
       "      <th></th>\n",
       "      <th>CO2 Emissions</th>\n",
       "      <th>Energy Usage</th>\n",
       "      <th>GDP</th>\n",
       "      <th>Population Total</th>\n",
       "      <th>Cluster</th>\n",
       "    </tr>\n",
       "  </thead>\n",
       "  <tbody>\n",
       "    <tr>\n",
       "      <th>count</th>\n",
       "      <td>820.00</td>\n",
       "      <td>820.00</td>\n",
       "      <td>820.00</td>\n",
       "      <td>820.00</td>\n",
       "      <td>820.00</td>\n",
       "    </tr>\n",
       "    <tr>\n",
       "      <th>mean</th>\n",
       "      <td>12706.83</td>\n",
       "      <td>6355.90</td>\n",
       "      <td>22616353698.80</td>\n",
       "      <td>6981026.71</td>\n",
       "      <td>1.00</td>\n",
       "    </tr>\n",
       "    <tr>\n",
       "      <th>std</th>\n",
       "      <td>15888.05</td>\n",
       "      <td>6865.60</td>\n",
       "      <td>32445483084.99</td>\n",
       "      <td>9259193.28</td>\n",
       "      <td>0.00</td>\n",
       "    </tr>\n",
       "    <tr>\n",
       "      <th>min</th>\n",
       "      <td>48.00</td>\n",
       "      <td>30.00</td>\n",
       "      <td>123258507.00</td>\n",
       "      <td>69660.00</td>\n",
       "      <td>1.00</td>\n",
       "    </tr>\n",
       "    <tr>\n",
       "      <th>25%</th>\n",
       "      <td>1503.00</td>\n",
       "      <td>758.50</td>\n",
       "      <td>3407603301.50</td>\n",
       "      <td>765673.75</td>\n",
       "      <td>1.00</td>\n",
       "    </tr>\n",
       "    <tr>\n",
       "      <th>50%</th>\n",
       "      <td>5865.50</td>\n",
       "      <td>3917.00</td>\n",
       "      <td>11478683633.50</td>\n",
       "      <td>3684119.00</td>\n",
       "      <td>1.00</td>\n",
       "    </tr>\n",
       "    <tr>\n",
       "      <th>75%</th>\n",
       "      <td>18806.00</td>\n",
       "      <td>9156.25</td>\n",
       "      <td>26144480318.25</td>\n",
       "      <td>9407481.50</td>\n",
       "      <td>1.00</td>\n",
       "    </tr>\n",
       "    <tr>\n",
       "      <th>max</th>\n",
       "      <td>67242.00</td>\n",
       "      <td>29501.00</td>\n",
       "      <td>203000000000.00</td>\n",
       "      <td>52487293.00</td>\n",
       "      <td>1.00</td>\n",
       "    </tr>\n",
       "  </tbody>\n",
       "</table>\n",
       "</div>"
      ],
      "text/plain": [
       "       CO2 Emissions  Energy Usage             GDP  Population Total  Cluster\n",
       "count         820.00        820.00          820.00            820.00   820.00\n",
       "mean        12706.83       6355.90  22616353698.80        6981026.71     1.00\n",
       "std         15888.05       6865.60  32445483084.99        9259193.28     0.00\n",
       "min            48.00         30.00    123258507.00          69660.00     1.00\n",
       "25%          1503.00        758.50   3407603301.50         765673.75     1.00\n",
       "50%          5865.50       3917.00  11478683633.50        3684119.00     1.00\n",
       "75%         18806.00       9156.25  26144480318.25        9407481.50     1.00\n",
       "max         67242.00      29501.00 203000000000.00       52487293.00     1.00"
      ]
     },
     "execution_count": 26,
     "metadata": {},
     "output_type": "execute_result"
    }
   ],
   "source": [
    "# statistical summary of the variables\n",
    "df_CO2Emission[df_CO2Emission.Cluster== 1].describe()"
   ]
  },
  {
   "cell_type": "markdown",
   "metadata": {},
   "source": [
    "**Interpretation:** \n",
    "\n",
    "i) From the above output we can observe that the average CO2 emission is near about 12706 tonnes for the regions where the average GDP is 2261 crore. \n",
    "\n",
    "ii) The middle 50% of the energy usage is between 758 to 9156 units.\n",
    "\n",
    "iii) In the regions with the developing countries, we generally observe low GDP and CO2 emission."
   ]
  }
 ],
 "metadata": {
  "kernelspec": {
   "display_name": "Python 3",
   "language": "python",
   "name": "python3"
  },
  "language_info": {
   "codemirror_mode": {
    "name": "ipython",
    "version": 3
   },
   "file_extension": ".py",
   "mimetype": "text/x-python",
   "name": "python",
   "nbconvert_exporter": "python",
   "pygments_lexer": "ipython3",
   "version": "3.8.8"
  }
 },
 "nbformat": 4,
 "nbformat_minor": 2
}
