{
 "cells": [
  {
   "cell_type": "markdown",
   "metadata": {},
   "source": [
    "<table align=\"center\" width=100%>\n",
    "    <tr>\n",
    "        <td width=\"15%\">\n",
    "            <img src=\"homework.png\">\n",
    "        </td>\n",
    "        <td>\n",
    "            <div align=\"center\">\n",
    "                <font color=\"#21618C\" size=8px>\n",
    "                    <b> Take-Home <br>(Week-2-Part-2)\n",
    "                    </b>\n",
    "                </font>\n",
    "            </div>\n",
    "        </td>\n",
    "    </tr>\n",
    "</table>"
   ]
  },
  {
   "cell_type": "markdown",
   "metadata": {},
   "source": [
    "#### Import the required libraries"
   ]
  },
  {
   "cell_type": "code",
   "execution_count": 1,
   "metadata": {},
   "outputs": [],
   "source": [
    "# to perform algebraic calculations\n",
    "import numpy as np\n",
    "\n",
    "# to perform operations on the datasets and dataframes\n",
    "import pandas as pd   \n",
    " \n",
    "# to convert data into standard form\n",
    "from sklearn.preprocessing import StandardScaler \n",
    "\n",
    "# to get the eigenvalues and eigenvectors\n",
    "import numpy.linalg as lin\n",
    "\n",
    "# to perform PCA\n",
    "from sklearn.decomposition import PCA\n",
    "\n",
    "# to visualize data\n",
    "import seaborn as sns \n",
    "\n",
    "# to plot graphs\n",
    "import matplotlib.pyplot as plt  \n",
    "\n",
    "# filter the warnings\n",
    "import warnings\n",
    "warnings.filterwarnings('ignore')"
   ]
  },
  {
   "cell_type": "markdown",
   "metadata": {},
   "source": [
    "#### Read the data\n",
    "\n",
    "Load the csv file and print the first five observations."
   ]
  },
  {
   "cell_type": "code",
   "execution_count": 2,
   "metadata": {},
   "outputs": [
    {
     "data": {
      "text/html": [
       "<div>\n",
       "<style scoped>\n",
       "    .dataframe tbody tr th:only-of-type {\n",
       "        vertical-align: middle;\n",
       "    }\n",
       "\n",
       "    .dataframe tbody tr th {\n",
       "        vertical-align: top;\n",
       "    }\n",
       "\n",
       "    .dataframe thead th {\n",
       "        text-align: right;\n",
       "    }\n",
       "</style>\n",
       "<table border=\"1\" class=\"dataframe\">\n",
       "  <thead>\n",
       "    <tr style=\"text-align: right;\">\n",
       "      <th></th>\n",
       "      <th>Language</th>\n",
       "      <th>Country</th>\n",
       "      <th>Duration</th>\n",
       "      <th>Budget</th>\n",
       "      <th>Gross Earnings</th>\n",
       "      <th>Facebook_Likes_Director</th>\n",
       "      <th>Facebook_Likes_Actor</th>\n",
       "      <th>Facebook_Likes_Music</th>\n",
       "      <th>Facebook_Likes_Actress</th>\n",
       "      <th>Facebook_Likes_Total_Cast</th>\n",
       "      <th>Facenumber_in_posters</th>\n",
       "      <th>User_upvotes</th>\n",
       "      <th>Reviews_by_Users</th>\n",
       "      <th>IMDB_Score</th>\n",
       "    </tr>\n",
       "  </thead>\n",
       "  <tbody>\n",
       "    <tr>\n",
       "      <th>0</th>\n",
       "      <td>English</td>\n",
       "      <td>USA</td>\n",
       "      <td>123</td>\n",
       "      <td>385907</td>\n",
       "      <td>2300000.0</td>\n",
       "      <td>204</td>\n",
       "      <td>436</td>\n",
       "      <td>22</td>\n",
       "      <td>9</td>\n",
       "      <td>481</td>\n",
       "      <td>1</td>\n",
       "      <td>10718</td>\n",
       "      <td>88</td>\n",
       "      <td>8.0</td>\n",
       "    </tr>\n",
       "    <tr>\n",
       "      <th>1</th>\n",
       "      <td>English</td>\n",
       "      <td>USA</td>\n",
       "      <td>110</td>\n",
       "      <td>100000</td>\n",
       "      <td>3000000.0</td>\n",
       "      <td>0</td>\n",
       "      <td>2</td>\n",
       "      <td>2</td>\n",
       "      <td>0</td>\n",
       "      <td>4</td>\n",
       "      <td>1</td>\n",
       "      <td>5</td>\n",
       "      <td>1</td>\n",
       "      <td>4.8</td>\n",
       "    </tr>\n",
       "    <tr>\n",
       "      <th>2</th>\n",
       "      <td>English</td>\n",
       "      <td>USA</td>\n",
       "      <td>151</td>\n",
       "      <td>245000</td>\n",
       "      <td>3000000.0</td>\n",
       "      <td>54</td>\n",
       "      <td>81</td>\n",
       "      <td>12</td>\n",
       "      <td>6</td>\n",
       "      <td>108</td>\n",
       "      <td>0</td>\n",
       "      <td>4849</td>\n",
       "      <td>45</td>\n",
       "      <td>8.3</td>\n",
       "    </tr>\n",
       "    <tr>\n",
       "      <th>3</th>\n",
       "      <td>German</td>\n",
       "      <td>Germany</td>\n",
       "      <td>145</td>\n",
       "      <td>6000000</td>\n",
       "      <td>26435.0</td>\n",
       "      <td>756</td>\n",
       "      <td>136</td>\n",
       "      <td>23</td>\n",
       "      <td>18</td>\n",
       "      <td>203</td>\n",
       "      <td>1</td>\n",
       "      <td>111841</td>\n",
       "      <td>413</td>\n",
       "      <td>8.3</td>\n",
       "    </tr>\n",
       "    <tr>\n",
       "      <th>4</th>\n",
       "      <td>German</td>\n",
       "      <td>Germany</td>\n",
       "      <td>110</td>\n",
       "      <td>6000000</td>\n",
       "      <td>9950.0</td>\n",
       "      <td>21</td>\n",
       "      <td>426</td>\n",
       "      <td>20</td>\n",
       "      <td>3</td>\n",
       "      <td>455</td>\n",
       "      <td>1</td>\n",
       "      <td>7431</td>\n",
       "      <td>84</td>\n",
       "      <td>8.0</td>\n",
       "    </tr>\n",
       "  </tbody>\n",
       "</table>\n",
       "</div>"
      ],
      "text/plain": [
       "  Language  Country  Duration   Budget  Gross Earnings  \\\n",
       "0  English      USA       123   385907       2300000.0   \n",
       "1  English      USA       110   100000       3000000.0   \n",
       "2  English      USA       151   245000       3000000.0   \n",
       "3   German  Germany       145  6000000         26435.0   \n",
       "4   German  Germany       110  6000000          9950.0   \n",
       "\n",
       "   Facebook_Likes_Director  Facebook_Likes_Actor  Facebook_Likes_Music  \\\n",
       "0                      204                   436                    22   \n",
       "1                        0                     2                     2   \n",
       "2                       54                    81                    12   \n",
       "3                      756                   136                    23   \n",
       "4                       21                   426                    20   \n",
       "\n",
       "   Facebook_Likes_Actress  Facebook_Likes_Total_Cast  Facenumber_in_posters  \\\n",
       "0                       9                        481                      1   \n",
       "1                       0                          4                      1   \n",
       "2                       6                        108                      0   \n",
       "3                      18                        203                      1   \n",
       "4                       3                        455                      1   \n",
       "\n",
       "   User_upvotes  Reviews_by_Users  IMDB_Score  \n",
       "0         10718                88         8.0  \n",
       "1             5                 1         4.8  \n",
       "2          4849                45         8.3  \n",
       "3        111841               413         8.3  \n",
       "4          7431                84         8.0  "
      ]
     },
     "execution_count": 2,
     "metadata": {},
     "output_type": "execute_result"
    }
   ],
   "source": [
    "# read dataset\n",
    "df_movies = pd.read_csv('Movies_Data.csv')\n",
    " \n",
    "# to print first five rows of dataset\n",
    "df_movies.head()"
   ]
  },
  {
   "cell_type": "markdown",
   "metadata": {},
   "source": [
    "The data includes the information about the various factors affecting the popularity of the movies.  \n",
    "\n",
    "**The data definition is as follows:** \n",
    "\n",
    "**Language:** The language in which the movie is produced\n",
    "\n",
    "**Country:** The name of the country in which the movie is produced\n",
    "\n",
    "**Duration:** Time duration of the movie in minutes\n",
    "\n",
    "**Budget:** Overall cost to produce the movie in dollars\n",
    "\n",
    "**Gross_Earnings:** Box office collection of the movie\n",
    "\n",
    "**Facebook_Likes_Director:** Likes on Facebook for director of the movie\n",
    "\n",
    "**Facebook_Likes_Actor:** Likes on Facebook for an actor of the movie\n",
    "\n",
    "**Facebook_Likes_Music:** Likes on Facebook for the music of the movie\n",
    "\n",
    "**Facebook_Likes_Actress:** Likes on Facebook for an actress of the movie\n",
    "\n",
    "**Facebook_Likes_Total_Cast:** Likes on Facebook for all the characters in the movie\n",
    "\n",
    "**Facenumber_in_posters:** Number of faces on the movie poster\n",
    "\n",
    "**User_upvotes:** Upvotes given by the users \n",
    "\n",
    "**Reviews_by_Users:** Number of reviews given by the users\n",
    "\n",
    "**IMDB_Score:** Internet Movie Database (IMDB) score of the movie which is based on individual ratings"
   ]
  },
  {
   "cell_type": "markdown",
   "metadata": {},
   "source": [
    "### Let's begin with some hands-on practice exercises"
   ]
  },
  {
   "cell_type": "markdown",
   "metadata": {},
   "source": [
    "<table align=\"left\">\n",
    "    <tr>\n",
    "        <td width=\"6%\">\n",
    "            <img src=\"question_icon.png\">\n",
    "        </td>\n",
    "        <td>\n",
    "            <div align=\"left\", style=\"font-size:120%\">\n",
    "                <font color=\"#21618C\">\n",
    "                    <b>1. Find the dimension of the data and check if there are any missing values present in the data. </b>\n",
    "                </font>\n",
    "            </div>\n",
    "        </td>\n",
    "    </tr>\n",
    "</table>"
   ]
  },
  {
   "cell_type": "code",
   "execution_count": 3,
   "metadata": {},
   "outputs": [
    {
     "name": "stdout",
     "output_type": "stream",
     "text": [
      "(1290, 14)\n"
     ]
    }
   ],
   "source": [
    "# to know the dimension of the data \n",
    "print(df_movies.shape)  "
   ]
  },
  {
   "cell_type": "markdown",
   "metadata": {},
   "source": [
    "**Interpretation**: There are 1290 observations and 14 variables in the data."
   ]
  },
  {
   "cell_type": "code",
   "execution_count": 4,
   "metadata": {},
   "outputs": [
    {
     "data": {
      "text/plain": [
       "Language                     0\n",
       "Country                      0\n",
       "Duration                     0\n",
       "Budget                       0\n",
       "Gross Earnings               0\n",
       "Facebook_Likes_Director      0\n",
       "Facebook_Likes_Actor         0\n",
       "Facebook_Likes_Music         0\n",
       "Facebook_Likes_Actress       0\n",
       "Facebook_Likes_Total_Cast    0\n",
       "Facenumber_in_posters        0\n",
       "User_upvotes                 0\n",
       "Reviews_by_Users             0\n",
       "IMDB_Score                   0\n",
       "dtype: int64"
      ]
     },
     "execution_count": 4,
     "metadata": {},
     "output_type": "execute_result"
    }
   ],
   "source": [
    "# 'isnull().sum()' returns the number of missing values in each variable\n",
    "df_movies.isnull().sum()"
   ]
  },
  {
   "cell_type": "markdown",
   "metadata": {},
   "source": [
    "**Interpretation:** The above output shows that there are no missing values present in the data. "
   ]
  },
  {
   "cell_type": "markdown",
   "metadata": {},
   "source": [
    "<table align=\"left\">\n",
    "    <tr>\n",
    "        <td width=\"6%\">\n",
    "            <img src=\"question_icon.png\">\n",
    "        </td>\n",
    "        <td>\n",
    "            <div align=\"left\", style=\"font-size:120%\">\n",
    "                <font color=\"#21618C\">\n",
    "                    <b>2. Check the data type of each variable and consider only the numerical variables for the further analysis. </b>\n",
    "                </font>\n",
    "            </div>\n",
    "        </td>\n",
    "    </tr>\n",
    "</table>"
   ]
  },
  {
   "cell_type": "code",
   "execution_count": 5,
   "metadata": {},
   "outputs": [
    {
     "data": {
      "text/plain": [
       "Language                      object\n",
       "Country                       object\n",
       "Duration                       int64\n",
       "Budget                         int64\n",
       "Gross Earnings               float64\n",
       "Facebook_Likes_Director        int64\n",
       "Facebook_Likes_Actor           int64\n",
       "Facebook_Likes_Music           int64\n",
       "Facebook_Likes_Actress         int64\n",
       "Facebook_Likes_Total_Cast      int64\n",
       "Facenumber_in_posters          int64\n",
       "User_upvotes                   int64\n",
       "Reviews_by_Users               int64\n",
       "IMDB_Score                   float64\n",
       "dtype: object"
      ]
     },
     "execution_count": 5,
     "metadata": {},
     "output_type": "execute_result"
    }
   ],
   "source": [
    "# to know the data type of each variable use 'dtypes'\n",
    "df_movies.dtypes  "
   ]
  },
  {
   "cell_type": "markdown",
   "metadata": {},
   "source": [
    "**Interpretation:** The above output shows that the 'Language' and 'Country' are categorical variables whereas all other variables are numerical."
   ]
  },
  {
   "cell_type": "code",
   "execution_count": 6,
   "metadata": {},
   "outputs": [
    {
     "data": {
      "text/html": [
       "<div>\n",
       "<style scoped>\n",
       "    .dataframe tbody tr th:only-of-type {\n",
       "        vertical-align: middle;\n",
       "    }\n",
       "\n",
       "    .dataframe tbody tr th {\n",
       "        vertical-align: top;\n",
       "    }\n",
       "\n",
       "    .dataframe thead th {\n",
       "        text-align: right;\n",
       "    }\n",
       "</style>\n",
       "<table border=\"1\" class=\"dataframe\">\n",
       "  <thead>\n",
       "    <tr style=\"text-align: right;\">\n",
       "      <th></th>\n",
       "      <th>Duration</th>\n",
       "      <th>Budget</th>\n",
       "      <th>Gross Earnings</th>\n",
       "      <th>Facebook_Likes_Director</th>\n",
       "      <th>Facebook_Likes_Actor</th>\n",
       "      <th>Facebook_Likes_Music</th>\n",
       "      <th>Facebook_Likes_Actress</th>\n",
       "      <th>Facebook_Likes_Total_Cast</th>\n",
       "      <th>Facenumber_in_posters</th>\n",
       "      <th>User_upvotes</th>\n",
       "      <th>Reviews_by_Users</th>\n",
       "      <th>IMDB_Score</th>\n",
       "    </tr>\n",
       "  </thead>\n",
       "  <tbody>\n",
       "    <tr>\n",
       "      <th>0</th>\n",
       "      <td>123</td>\n",
       "      <td>385907</td>\n",
       "      <td>2300000.0</td>\n",
       "      <td>204</td>\n",
       "      <td>436</td>\n",
       "      <td>22</td>\n",
       "      <td>9</td>\n",
       "      <td>481</td>\n",
       "      <td>1</td>\n",
       "      <td>10718</td>\n",
       "      <td>88</td>\n",
       "      <td>8.0</td>\n",
       "    </tr>\n",
       "    <tr>\n",
       "      <th>1</th>\n",
       "      <td>110</td>\n",
       "      <td>100000</td>\n",
       "      <td>3000000.0</td>\n",
       "      <td>0</td>\n",
       "      <td>2</td>\n",
       "      <td>2</td>\n",
       "      <td>0</td>\n",
       "      <td>4</td>\n",
       "      <td>1</td>\n",
       "      <td>5</td>\n",
       "      <td>1</td>\n",
       "      <td>4.8</td>\n",
       "    </tr>\n",
       "    <tr>\n",
       "      <th>2</th>\n",
       "      <td>151</td>\n",
       "      <td>245000</td>\n",
       "      <td>3000000.0</td>\n",
       "      <td>54</td>\n",
       "      <td>81</td>\n",
       "      <td>12</td>\n",
       "      <td>6</td>\n",
       "      <td>108</td>\n",
       "      <td>0</td>\n",
       "      <td>4849</td>\n",
       "      <td>45</td>\n",
       "      <td>8.3</td>\n",
       "    </tr>\n",
       "    <tr>\n",
       "      <th>3</th>\n",
       "      <td>145</td>\n",
       "      <td>6000000</td>\n",
       "      <td>26435.0</td>\n",
       "      <td>756</td>\n",
       "      <td>136</td>\n",
       "      <td>23</td>\n",
       "      <td>18</td>\n",
       "      <td>203</td>\n",
       "      <td>1</td>\n",
       "      <td>111841</td>\n",
       "      <td>413</td>\n",
       "      <td>8.3</td>\n",
       "    </tr>\n",
       "    <tr>\n",
       "      <th>4</th>\n",
       "      <td>110</td>\n",
       "      <td>6000000</td>\n",
       "      <td>9950.0</td>\n",
       "      <td>21</td>\n",
       "      <td>426</td>\n",
       "      <td>20</td>\n",
       "      <td>3</td>\n",
       "      <td>455</td>\n",
       "      <td>1</td>\n",
       "      <td>7431</td>\n",
       "      <td>84</td>\n",
       "      <td>8.0</td>\n",
       "    </tr>\n",
       "  </tbody>\n",
       "</table>\n",
       "</div>"
      ],
      "text/plain": [
       "   Duration   Budget  Gross Earnings  Facebook_Likes_Director  \\\n",
       "0       123   385907       2300000.0                      204   \n",
       "1       110   100000       3000000.0                        0   \n",
       "2       151   245000       3000000.0                       54   \n",
       "3       145  6000000         26435.0                      756   \n",
       "4       110  6000000          9950.0                       21   \n",
       "\n",
       "   Facebook_Likes_Actor  Facebook_Likes_Music  Facebook_Likes_Actress  \\\n",
       "0                   436                    22                       9   \n",
       "1                     2                     2                       0   \n",
       "2                    81                    12                       6   \n",
       "3                   136                    23                      18   \n",
       "4                   426                    20                       3   \n",
       "\n",
       "   Facebook_Likes_Total_Cast  Facenumber_in_posters  User_upvotes  \\\n",
       "0                        481                      1         10718   \n",
       "1                          4                      1             5   \n",
       "2                        108                      0          4849   \n",
       "3                        203                      1        111841   \n",
       "4                        455                      1          7431   \n",
       "\n",
       "   Reviews_by_Users  IMDB_Score  \n",
       "0                88         8.0  \n",
       "1                 1         4.8  \n",
       "2                45         8.3  \n",
       "3               413         8.3  \n",
       "4                84         8.0  "
      ]
     },
     "execution_count": 6,
     "metadata": {},
     "output_type": "execute_result"
    }
   ],
   "source": [
    "#  use the 'drop()' to remove the variables with data type as 'object'\n",
    "# 'axis = 1' removes the specified column\n",
    "df_movie_num = df_movies.drop(['Language', 'Country'], axis = 1)\n",
    "\n",
    "# to get first five observations\n",
    "df_movie_num.head()"
   ]
  },
  {
   "cell_type": "code",
   "execution_count": 7,
   "metadata": {},
   "outputs": [
    {
     "data": {
      "text/plain": [
       "(1290, 12)"
      ]
     },
     "execution_count": 7,
     "metadata": {},
     "output_type": "execute_result"
    }
   ],
   "source": [
    "# to check dimension\n",
    "df_movie_num.shape"
   ]
  },
  {
   "cell_type": "markdown",
   "metadata": {},
   "source": [
    "**Interpretation:**  The above output shows that we have dropped the variables 'Language' and 'Country'. Now there are 12 variables in the data."
   ]
  },
  {
   "cell_type": "markdown",
   "metadata": {},
   "source": [
    "<table align=\"left\">\n",
    "    <tr>\n",
    "        <td width=\"6%\">\n",
    "            <img src=\"question_icon.png\">\n",
    "        </td>\n",
    "        <td>\n",
    "            <div align=\"left\", style=\"font-size:120%\">\n",
    "                <font color=\"#21618C\">\n",
    "                    <b>3. Find the summary statistics of each variable. </b>\n",
    "                </font>\n",
    "            </div>\n",
    "        </td>\n",
    "    </tr>\n",
    "</table>"
   ]
  },
  {
   "cell_type": "code",
   "execution_count": 8,
   "metadata": {},
   "outputs": [
    {
     "data": {
      "text/html": [
       "<div>\n",
       "<style scoped>\n",
       "    .dataframe tbody tr th:only-of-type {\n",
       "        vertical-align: middle;\n",
       "    }\n",
       "\n",
       "    .dataframe tbody tr th {\n",
       "        vertical-align: top;\n",
       "    }\n",
       "\n",
       "    .dataframe thead th {\n",
       "        text-align: right;\n",
       "    }\n",
       "</style>\n",
       "<table border=\"1\" class=\"dataframe\">\n",
       "  <thead>\n",
       "    <tr style=\"text-align: right;\">\n",
       "      <th></th>\n",
       "      <th>Duration</th>\n",
       "      <th>Budget</th>\n",
       "      <th>Gross Earnings</th>\n",
       "      <th>Facebook_Likes_Director</th>\n",
       "      <th>Facebook_Likes_Actor</th>\n",
       "      <th>Facebook_Likes_Music</th>\n",
       "      <th>Facebook_Likes_Actress</th>\n",
       "      <th>Facebook_Likes_Total_Cast</th>\n",
       "      <th>Facenumber_in_posters</th>\n",
       "      <th>User_upvotes</th>\n",
       "      <th>Reviews_by_Users</th>\n",
       "      <th>IMDB_Score</th>\n",
       "    </tr>\n",
       "  </thead>\n",
       "  <tbody>\n",
       "    <tr>\n",
       "      <th>count</th>\n",
       "      <td>1290.00</td>\n",
       "      <td>1290.00</td>\n",
       "      <td>1290.00</td>\n",
       "      <td>1290.00</td>\n",
       "      <td>1290.00</td>\n",
       "      <td>1290.00</td>\n",
       "      <td>1290.00</td>\n",
       "      <td>1290.00</td>\n",
       "      <td>1290.00</td>\n",
       "      <td>1290.00</td>\n",
       "      <td>1290.00</td>\n",
       "      <td>1290.00</td>\n",
       "    </tr>\n",
       "    <tr>\n",
       "      <th>mean</th>\n",
       "      <td>112.82</td>\n",
       "      <td>28064254.65</td>\n",
       "      <td>49910044.81</td>\n",
       "      <td>1013.70</td>\n",
       "      <td>5362.68</td>\n",
       "      <td>1258.91</td>\n",
       "      <td>464.82</td>\n",
       "      <td>7834.00</td>\n",
       "      <td>1.18</td>\n",
       "      <td>86714.17</td>\n",
       "      <td>257.57</td>\n",
       "      <td>6.68</td>\n",
       "    </tr>\n",
       "    <tr>\n",
       "      <th>std</th>\n",
       "      <td>27.43</td>\n",
       "      <td>84671282.13</td>\n",
       "      <td>68286094.29</td>\n",
       "      <td>3429.38</td>\n",
       "      <td>8742.57</td>\n",
       "      <td>2940.10</td>\n",
       "      <td>894.00</td>\n",
       "      <td>11185.34</td>\n",
       "      <td>1.62</td>\n",
       "      <td>158029.38</td>\n",
       "      <td>347.51</td>\n",
       "      <td>1.06</td>\n",
       "    </tr>\n",
       "    <tr>\n",
       "      <th>min</th>\n",
       "      <td>25.00</td>\n",
       "      <td>7000.00</td>\n",
       "      <td>-89351708.00</td>\n",
       "      <td>0.00</td>\n",
       "      <td>0.00</td>\n",
       "      <td>0.00</td>\n",
       "      <td>0.00</td>\n",
       "      <td>0.00</td>\n",
       "      <td>0.00</td>\n",
       "      <td>5.00</td>\n",
       "      <td>1.00</td>\n",
       "      <td>2.30</td>\n",
       "    </tr>\n",
       "    <tr>\n",
       "      <th>25%</th>\n",
       "      <td>96.00</td>\n",
       "      <td>4534695.75</td>\n",
       "      <td>8882564.50</td>\n",
       "      <td>6.00</td>\n",
       "      <td>607.00</td>\n",
       "      <td>277.00</td>\n",
       "      <td>136.25</td>\n",
       "      <td>1439.25</td>\n",
       "      <td>0.00</td>\n",
       "      <td>10149.75</td>\n",
       "      <td>78.00</td>\n",
       "      <td>6.10</td>\n",
       "    </tr>\n",
       "    <tr>\n",
       "      <th>50%</th>\n",
       "      <td>107.00</td>\n",
       "      <td>15000000.00</td>\n",
       "      <td>27530615.50</td>\n",
       "      <td>55.00</td>\n",
       "      <td>935.50</td>\n",
       "      <td>567.50</td>\n",
       "      <td>327.00</td>\n",
       "      <td>2707.50</td>\n",
       "      <td>1.00</td>\n",
       "      <td>34495.50</td>\n",
       "      <td>160.50</td>\n",
       "      <td>6.80</td>\n",
       "    </tr>\n",
       "    <tr>\n",
       "      <th>75%</th>\n",
       "      <td>123.00</td>\n",
       "      <td>35000000.00</td>\n",
       "      <td>66815566.50</td>\n",
       "      <td>272.00</td>\n",
       "      <td>10000.00</td>\n",
       "      <td>852.00</td>\n",
       "      <td>598.00</td>\n",
       "      <td>12179.00</td>\n",
       "      <td>2.00</td>\n",
       "      <td>91909.00</td>\n",
       "      <td>308.00</td>\n",
       "      <td>7.40</td>\n",
       "    </tr>\n",
       "    <tr>\n",
       "      <th>max</th>\n",
       "      <td>330.00</td>\n",
       "      <td>2400000000.00</td>\n",
       "      <td>855798918.00</td>\n",
       "      <td>21000.00</td>\n",
       "      <td>49000.00</td>\n",
       "      <td>29000.00</td>\n",
       "      <td>13000.00</td>\n",
       "      <td>74382.00</td>\n",
       "      <td>15.00</td>\n",
       "      <td>1689764.00</td>\n",
       "      <td>4144.00</td>\n",
       "      <td>9.30</td>\n",
       "    </tr>\n",
       "  </tbody>\n",
       "</table>\n",
       "</div>"
      ],
      "text/plain": [
       "       Duration        Budget  Gross Earnings  Facebook_Likes_Director  \\\n",
       "count   1290.00       1290.00         1290.00                  1290.00   \n",
       "mean     112.82   28064254.65     49910044.81                  1013.70   \n",
       "std       27.43   84671282.13     68286094.29                  3429.38   \n",
       "min       25.00       7000.00    -89351708.00                     0.00   \n",
       "25%       96.00    4534695.75      8882564.50                     6.00   \n",
       "50%      107.00   15000000.00     27530615.50                    55.00   \n",
       "75%      123.00   35000000.00     66815566.50                   272.00   \n",
       "max      330.00 2400000000.00    855798918.00                 21000.00   \n",
       "\n",
       "       Facebook_Likes_Actor  Facebook_Likes_Music  Facebook_Likes_Actress  \\\n",
       "count               1290.00               1290.00                 1290.00   \n",
       "mean                5362.68               1258.91                  464.82   \n",
       "std                 8742.57               2940.10                  894.00   \n",
       "min                    0.00                  0.00                    0.00   \n",
       "25%                  607.00                277.00                  136.25   \n",
       "50%                  935.50                567.50                  327.00   \n",
       "75%                10000.00                852.00                  598.00   \n",
       "max                49000.00              29000.00                13000.00   \n",
       "\n",
       "       Facebook_Likes_Total_Cast  Facenumber_in_posters  User_upvotes  \\\n",
       "count                    1290.00                1290.00       1290.00   \n",
       "mean                     7834.00                   1.18      86714.17   \n",
       "std                     11185.34                   1.62     158029.38   \n",
       "min                         0.00                   0.00          5.00   \n",
       "25%                      1439.25                   0.00      10149.75   \n",
       "50%                      2707.50                   1.00      34495.50   \n",
       "75%                     12179.00                   2.00      91909.00   \n",
       "max                     74382.00                  15.00    1689764.00   \n",
       "\n",
       "       Reviews_by_Users  IMDB_Score  \n",
       "count           1290.00     1290.00  \n",
       "mean             257.57        6.68  \n",
       "std              347.51        1.06  \n",
       "min                1.00        2.30  \n",
       "25%               78.00        6.10  \n",
       "50%              160.50        6.80  \n",
       "75%              308.00        7.40  \n",
       "max             4144.00        9.30  "
      ]
     },
     "execution_count": 8,
     "metadata": {},
     "output_type": "execute_result"
    }
   ],
   "source": [
    "# to convert the scientific exp form of variables \n",
    "# consider the float values upto 2 decimals \n",
    "pd.options.display.float_format = '{:.2f}'.format\n",
    "\n",
    "# describe() is used to get the summary statistics of each variable\n",
    "df_movie_num.describe() "
   ]
  },
  {
   "cell_type": "markdown",
   "metadata": {},
   "source": [
    "**Interpretation:**\n",
    "\n",
    "i) The average duration of a movie is 112 minutes. \n",
    "\n",
    "ii) The average production cost of the movie is 28064254 dollars. There is so much variation between the production cost as the standard deviation is 84671282 dollars.\n",
    "\n",
    "iii) The average facebook likes for all the characters in the movie is 7834.\n",
    "\n",
    "iv) The 50% of the box office collection of the movies is between 8882564 dollars and 66815566 dollars. The average production cost is less than the gross earnings of the movie."
   ]
  },
  {
   "cell_type": "markdown",
   "metadata": {},
   "source": [
    "<table align=\"left\">\n",
    "    <tr>\n",
    "        <td width=\"6%\">\n",
    "            <img src=\"question_icon.png\">\n",
    "        </td>\n",
    "        <td>\n",
    "            <div align=\"left\", style=\"font-size:120%\">\n",
    "                <font color=\"#21618C\">\n",
    "                    <b>4. Check if there are any outliers present in the data and visualize using boxplot. </b>\n",
    "                </font>\n",
    "            </div>\n",
    "        </td>\n",
    "    </tr>\n",
    "</table>"
   ]
  },
  {
   "cell_type": "code",
   "execution_count": 9,
   "metadata": {
    "scrolled": false
   },
   "outputs": [
    {
     "data": {
      "image/png": "[encoded data removed]",
      "text/plain": [
       "<Figure size 1080x576 with 12 Axes>"
      ]
     },
     "metadata": {
      "needs_background": "light"
     },
     "output_type": "display_data"
    }
   ],
   "source": [
    "# use 'figsize' to fix the size\n",
    "# use 'nrows' to fix number of rows\n",
    "# use 'ncols' to fix number of columns\n",
    "fig, ax = plt.subplots(nrows = 4, ncols = 3, figsize=(15, 8))\n",
    "\n",
    "# use for loop to plot the boxplot for each variable\n",
    "for variable, subplot in zip(df_movie_num.columns, ax.flatten()):  \n",
    "    \n",
    "    # use boxplot() to plot the graph\n",
    "    # pass the variables in the data\n",
    "    # pass the axes for the plot to the parameter, 'ax'\n",
    "    sns.boxplot(df_movie_num[variable], ax = subplot)\n",
    "\n",
    "# adjust the subplots\n",
    "plt.tight_layout()\n",
    "\n",
    "# display the plot\n",
    "plt.show()"
   ]
  },
  {
   "cell_type": "markdown",
   "metadata": {},
   "source": [
    "**Interpretation:** From the boxplots above we can see that there are outliers in the data. We need to remove these outliers before further analysis."
   ]
  },
  {
   "cell_type": "markdown",
   "metadata": {},
   "source": [
    "<table align=\"left\">\n",
    "    <tr>\n",
    "        <td width=\"6%\">\n",
    "            <img src=\"question_icon.png\">\n",
    "        </td>\n",
    "        <td>\n",
    "            <div align=\"left\", style=\"font-size:120%\">\n",
    "                <font color=\"#21618C\">\n",
    "                    <b>5. Remove the outliers using 1.5IQR. </b>\n",
    "                </font>\n",
    "            </div>\n",
    "        </td>\n",
    "    </tr>\n",
    "</table>"
   ]
  },
  {
   "cell_type": "code",
   "execution_count": 10,
   "metadata": {},
   "outputs": [
    {
     "data": {
      "text/plain": [
       "(816, 12)"
      ]
     },
     "execution_count": 10,
     "metadata": {},
     "output_type": "execute_result"
    }
   ],
   "source": [
    "# calculate the first quartile\n",
    "Q1 = df_movie_num.quantile(0.25)\n",
    "\n",
    "# calculate the third quartile\n",
    "Q3 = df_movie_num.quantile(0.75)\n",
    "\n",
    "# The Interquartile Range (IQR) is defined as the difference between the third and first quartile\n",
    "# calculate IQR for each numeric variable\n",
    "IQR = Q3 - Q1\n",
    "\n",
    "# retrieve the dataframe without the outliers\n",
    "# '~' returns the values that do not satisfy the given conditions \n",
    "# i.e. it returns values between the range [Q1-1.5*IQR, Q3+1.5*IQR]\n",
    "# '|' is used as 'OR' operator on multiple conditions   \n",
    "# 'any(axis=1)' checks the entire row for atleast one 'True' entry (those rows represents outliers in the data)\n",
    "df_movie_num = df_movie_num[~((df_movie_num < (Q1 - 1.5 * IQR)) | (df_movie_num > (Q3 + 1.5 * IQR))).any(axis=1)]\n",
    "\n",
    "# check the shape of the data \n",
    "df_movie_num.shape"
   ]
  },
  {
   "cell_type": "markdown",
   "metadata": {},
   "source": [
    "**Interpretation:**  From the dimension of the data, we can see that there are 816 observations and 12 variables in the data. Thus, we have removed the outliers."
   ]
  },
  {
   "cell_type": "markdown",
   "metadata": {},
   "source": [
    "<table align=\"left\">\n",
    "    <tr>\n",
    "        <td width=\"6%\">\n",
    "            <img src=\"question_icon.png\">\n",
    "        </td>\n",
    "        <td>\n",
    "            <div align=\"left\", style=\"font-size:120%\">\n",
    "                <font color=\"#21618C\">\n",
    "                    <b>6. Transform the variables in the standard form such that they will have mean 0 and standard deviation 1 and get the summary.</b>\n",
    "                </font>\n",
    "            </div>\n",
    "        </td>\n",
    "    </tr>\n",
    "</table>"
   ]
  },
  {
   "cell_type": "code",
   "execution_count": 11,
   "metadata": {},
   "outputs": [
    {
     "data": {
      "text/plain": [
       "array([[ 0.98167482, -0.96169127, -0.89868158, ..., -0.64875997,\n",
       "        -0.54660839,  1.69768664],\n",
       "       [ 0.20834893, -0.97670514, -0.87835168, ..., -0.91316241,\n",
       "        -1.22570299, -1.99432582],\n",
       "       [ 2.64729982, -0.96909074, -0.87835168, ..., -0.79360995,\n",
       "        -0.88225285,  2.04381281],\n",
       "       ...,\n",
       "       [-0.26754393, -0.96557236, -0.928271  , ..., -0.84092252,\n",
       "        -0.66369367,  0.19780658],\n",
       "       [ 0.26783553, -0.95569989, -0.93686285, ..., -0.82742227,\n",
       "        -0.55441408,  0.89005892],\n",
       "       [-0.0295975 , -0.1417463 ,  0.57046118, ..., -0.04176719,\n",
       "         0.85060921, -0.14831959]])"
      ]
     },
     "execution_count": 11,
     "metadata": {},
     "output_type": "execute_result"
    }
   ],
   "source": [
    "# instantiate the 'StandardScaler'\n",
    "scaler = StandardScaler()\n",
    "\n",
    "# fit_transform() transforms the data by first computing the mean and sd and later scaling the data\n",
    "# name the standardized data as 'features_scaled'\n",
    "features_scaled = scaler.fit_transform(df_movie_num)\n",
    "features_scaled"
   ]
  },
  {
   "cell_type": "code",
   "execution_count": 12,
   "metadata": {},
   "outputs": [
    {
     "data": {
      "text/html": [
       "<div>\n",
       "<style scoped>\n",
       "    .dataframe tbody tr th:only-of-type {\n",
       "        vertical-align: middle;\n",
       "    }\n",
       "\n",
       "    .dataframe tbody tr th {\n",
       "        vertical-align: top;\n",
       "    }\n",
       "\n",
       "    .dataframe thead th {\n",
       "        text-align: right;\n",
       "    }\n",
       "</style>\n",
       "<table border=\"1\" class=\"dataframe\">\n",
       "  <thead>\n",
       "    <tr style=\"text-align: right;\">\n",
       "      <th></th>\n",
       "      <th>Duration</th>\n",
       "      <th>Budget</th>\n",
       "      <th>Gross Earnings</th>\n",
       "      <th>Facebook_Likes_Director</th>\n",
       "      <th>Facebook_Likes_Actor</th>\n",
       "      <th>Facebook_Likes_Music</th>\n",
       "      <th>Facebook_Likes_Actress</th>\n",
       "      <th>Facebook_Likes_Total_Cast</th>\n",
       "      <th>Facenumber_in_posters</th>\n",
       "      <th>User_upvotes</th>\n",
       "      <th>Reviews_by_Users</th>\n",
       "      <th>IMDB_Score</th>\n",
       "    </tr>\n",
       "  </thead>\n",
       "  <tbody>\n",
       "    <tr>\n",
       "      <th>count</th>\n",
       "      <td>816.00</td>\n",
       "      <td>816.00</td>\n",
       "      <td>816.00</td>\n",
       "      <td>816.00</td>\n",
       "      <td>816.00</td>\n",
       "      <td>816.00</td>\n",
       "      <td>816.00</td>\n",
       "      <td>816.00</td>\n",
       "      <td>816.00</td>\n",
       "      <td>816.00</td>\n",
       "      <td>816.00</td>\n",
       "      <td>816.00</td>\n",
       "    </tr>\n",
       "    <tr>\n",
       "      <th>mean</th>\n",
       "      <td>-0.00</td>\n",
       "      <td>-0.00</td>\n",
       "      <td>-0.00</td>\n",
       "      <td>-0.00</td>\n",
       "      <td>-0.00</td>\n",
       "      <td>0.00</td>\n",
       "      <td>-0.00</td>\n",
       "      <td>0.00</td>\n",
       "      <td>0.00</td>\n",
       "      <td>0.00</td>\n",
       "      <td>0.00</td>\n",
       "      <td>0.00</td>\n",
       "    </tr>\n",
       "    <tr>\n",
       "      <th>std</th>\n",
       "      <td>1.00</td>\n",
       "      <td>1.00</td>\n",
       "      <td>1.00</td>\n",
       "      <td>1.00</td>\n",
       "      <td>1.00</td>\n",
       "      <td>1.00</td>\n",
       "      <td>1.00</td>\n",
       "      <td>1.00</td>\n",
       "      <td>1.00</td>\n",
       "      <td>1.00</td>\n",
       "      <td>1.00</td>\n",
       "      <td>1.00</td>\n",
       "    </tr>\n",
       "    <tr>\n",
       "      <th>min</th>\n",
       "      <td>-2.47</td>\n",
       "      <td>-0.98</td>\n",
       "      <td>-1.78</td>\n",
       "      <td>-0.72</td>\n",
       "      <td>-0.60</td>\n",
       "      <td>-1.64</td>\n",
       "      <td>-1.29</td>\n",
       "      <td>-0.81</td>\n",
       "      <td>-0.86</td>\n",
       "      <td>-0.91</td>\n",
       "      <td>-1.23</td>\n",
       "      <td>-2.69</td>\n",
       "    </tr>\n",
       "    <tr>\n",
       "      <th>25%</th>\n",
       "      <td>-0.74</td>\n",
       "      <td>-0.80</td>\n",
       "      <td>-0.80</td>\n",
       "      <td>-0.68</td>\n",
       "      <td>-0.48</td>\n",
       "      <td>-0.85</td>\n",
       "      <td>-0.86</td>\n",
       "      <td>-0.58</td>\n",
       "      <td>-0.86</td>\n",
       "      <td>-0.75</td>\n",
       "      <td>-0.76</td>\n",
       "      <td>-0.61</td>\n",
       "    </tr>\n",
       "    <tr>\n",
       "      <th>50%</th>\n",
       "      <td>-0.21</td>\n",
       "      <td>-0.38</td>\n",
       "      <td>-0.34</td>\n",
       "      <td>-0.46</td>\n",
       "      <td>-0.43</td>\n",
       "      <td>-0.05</td>\n",
       "      <td>-0.23</td>\n",
       "      <td>-0.39</td>\n",
       "      <td>0.01</td>\n",
       "      <td>-0.39</td>\n",
       "      <td>-0.29</td>\n",
       "      <td>0.08</td>\n",
       "    </tr>\n",
       "    <tr>\n",
       "      <th>75%</th>\n",
       "      <td>0.62</td>\n",
       "      <td>0.49</td>\n",
       "      <td>0.50</td>\n",
       "      <td>0.30</td>\n",
       "      <td>-0.39</td>\n",
       "      <td>0.85</td>\n",
       "      <td>0.74</td>\n",
       "      <td>-0.03</td>\n",
       "      <td>0.87</td>\n",
       "      <td>0.46</td>\n",
       "      <td>0.54</td>\n",
       "      <td>0.77</td>\n",
       "    </tr>\n",
       "    <tr>\n",
       "      <th>max</th>\n",
       "      <td>3.30</td>\n",
       "      <td>3.22</td>\n",
       "      <td>3.50</td>\n",
       "      <td>3.77</td>\n",
       "      <td>4.25</td>\n",
       "      <td>1.71</td>\n",
       "      <td>2.68</td>\n",
       "      <td>3.91</td>\n",
       "      <td>3.47</td>\n",
       "      <td>4.10</td>\n",
       "      <td>3.79</td>\n",
       "      <td>2.39</td>\n",
       "    </tr>\n",
       "  </tbody>\n",
       "</table>\n",
       "</div>"
      ],
      "text/plain": [
       "       Duration  Budget  Gross Earnings  Facebook_Likes_Director  \\\n",
       "count    816.00  816.00          816.00                   816.00   \n",
       "mean      -0.00   -0.00           -0.00                    -0.00   \n",
       "std        1.00    1.00            1.00                     1.00   \n",
       "min       -2.47   -0.98           -1.78                    -0.72   \n",
       "25%       -0.74   -0.80           -0.80                    -0.68   \n",
       "50%       -0.21   -0.38           -0.34                    -0.46   \n",
       "75%        0.62    0.49            0.50                     0.30   \n",
       "max        3.30    3.22            3.50                     3.77   \n",
       "\n",
       "       Facebook_Likes_Actor  Facebook_Likes_Music  Facebook_Likes_Actress  \\\n",
       "count                816.00                816.00                  816.00   \n",
       "mean                  -0.00                  0.00                   -0.00   \n",
       "std                    1.00                  1.00                    1.00   \n",
       "min                   -0.60                 -1.64                   -1.29   \n",
       "25%                   -0.48                 -0.85                   -0.86   \n",
       "50%                   -0.43                 -0.05                   -0.23   \n",
       "75%                   -0.39                  0.85                    0.74   \n",
       "max                    4.25                  1.71                    2.68   \n",
       "\n",
       "       Facebook_Likes_Total_Cast  Facenumber_in_posters  User_upvotes  \\\n",
       "count                     816.00                 816.00        816.00   \n",
       "mean                        0.00                   0.00          0.00   \n",
       "std                         1.00                   1.00          1.00   \n",
       "min                        -0.81                  -0.86         -0.91   \n",
       "25%                        -0.58                  -0.86         -0.75   \n",
       "50%                        -0.39                   0.01         -0.39   \n",
       "75%                        -0.03                   0.87          0.46   \n",
       "max                         3.91                   3.47          4.10   \n",
       "\n",
       "       Reviews_by_Users  IMDB_Score  \n",
       "count            816.00      816.00  \n",
       "mean               0.00        0.00  \n",
       "std                1.00        1.00  \n",
       "min               -1.23       -2.69  \n",
       "25%               -0.76       -0.61  \n",
       "50%               -0.29        0.08  \n",
       "75%                0.54        0.77  \n",
       "max                3.79        2.39  "
      ]
     },
     "execution_count": 12,
     "metadata": {},
     "output_type": "execute_result"
    }
   ],
   "source": [
    "# convert the array back to a dataframe\n",
    "# pass the required column names to the parameter 'columns'\n",
    "summary = pd.DataFrame(features_scaled, columns = df_movie_num.columns)\n",
    "\n",
    "# check the statistical summary \n",
    "summary.describe()"
   ]
  },
  {
   "cell_type": "markdown",
   "metadata": {},
   "source": [
    "**Interpretation:** Here all the variables have a mean 0 and standard deviation of 1. Now they are in the standard form. "
   ]
  },
  {
   "cell_type": "markdown",
   "metadata": {},
   "source": [
    "Now the data is ready for principal component analysis."
   ]
  },
  {
   "cell_type": "markdown",
   "metadata": {},
   "source": [
    "<table align=\"left\">\n",
    "    <tr>\n",
    "        <td width=\"6%\">\n",
    "            <img src=\"question_icon.png\">\n",
    "        </td>\n",
    "        <td>\n",
    "            <div align=\"left\", style=\"font-size:120%\">\n",
    "                <font color=\"#21618C\">\n",
    "                    <b>7. Obtain a covariance matrix and find the eigenvalues. Hence arrange the eigenvalues in decreasing order. </b>\n",
    "                </font>\n",
    "            </div>\n",
    "        </td>\n",
    "    </tr>\n",
    "</table>"
   ]
  },
  {
   "cell_type": "code",
   "execution_count": 13,
   "metadata": {},
   "outputs": [
    {
     "data": {
      "text/plain": [
       "array([[ 1.00122699,  0.23212022,  0.11293518,  0.17243579,  0.15257657,\n",
       "         0.0708679 ,  0.04907752,  0.15295669,  0.02679595,  0.13314716,\n",
       "         0.13173008,  0.27252797],\n",
       "       [ 0.23212022,  1.00122699,  0.27363375,  0.15334358,  0.22934785,\n",
       "         0.2716813 ,  0.24451357,  0.26400159,  0.03755116,  0.23404983,\n",
       "         0.1378179 , -0.22920726],\n",
       "       [ 0.11293518,  0.27363375,  1.00122699,  0.1199378 ,  0.0654592 ,\n",
       "         0.14307292,  0.1385004 ,  0.09386991, -0.02329767,  0.45833533,\n",
       "         0.22540712,  0.05217967],\n",
       "       [ 0.17243579,  0.15334358,  0.1199378 ,  1.00122699,  0.05246468,\n",
       "         0.06644522,  0.04390895,  0.05918187,  0.05888775,  0.19789613,\n",
       "         0.12708188,  0.15713751],\n",
       "       [ 0.15257657,  0.22934785,  0.0654592 ,  0.05246468,  1.00122699,\n",
       "         0.37429659,  0.29799103,  0.98329299,  0.101542  ,  0.17417609,\n",
       "         0.12099606,  0.04212114],\n",
       "       [ 0.0708679 ,  0.2716813 ,  0.14307292,  0.06644522,  0.37429659,\n",
       "         1.00122699,  0.82410666,  0.50950541,  0.11714473,  0.18431454,\n",
       "         0.16011511, -0.09217325],\n",
       "       [ 0.04907752,  0.24451357,  0.1385004 ,  0.04390895,  0.29799103,\n",
       "         0.82410666,  1.00122699,  0.45587517,  0.09338539,  0.16728585,\n",
       "         0.17140368, -0.08213416],\n",
       "       [ 0.15295669,  0.26400159,  0.09386991,  0.05918187,  0.98329299,\n",
       "         0.50950541,  0.45587517,  1.00122699,  0.11311924,  0.19489721,\n",
       "         0.14273905,  0.01813501],\n",
       "       [ 0.02679595,  0.03755116, -0.02329767,  0.05888775,  0.101542  ,\n",
       "         0.11714473,  0.09338539,  0.11311924,  1.00122699,  0.00672734,\n",
       "        -0.03885517,  0.00557938],\n",
       "       [ 0.13314716,  0.23404983,  0.45833533,  0.19789613,  0.17417609,\n",
       "         0.18431454,  0.16728585,  0.19489721,  0.00672734,  1.00122699,\n",
       "         0.72750969,  0.357821  ],\n",
       "       [ 0.13173008,  0.1378179 ,  0.22540712,  0.12708188,  0.12099606,\n",
       "         0.16011511,  0.17140368,  0.14273905, -0.03885517,  0.72750969,\n",
       "         1.00122699,  0.28916559],\n",
       "       [ 0.27252797, -0.22920726,  0.05217967,  0.15713751,  0.04212114,\n",
       "        -0.09217325, -0.08213416,  0.01813501,  0.00557938,  0.357821  ,\n",
       "         0.28916559,  1.00122699]])"
      ]
     },
     "execution_count": 13,
     "metadata": {},
     "output_type": "execute_result"
    }
   ],
   "source": [
    "# np.cov() returns covariance matrix row vise\n",
    "# take transpose of standardized dataframe\n",
    "trans_features_scaled = np.transpose(features_scaled)\n",
    "\n",
    "# to get covariance matrix\n",
    "cov_matrix = np.cov(trans_features_scaled)\n",
    "\n",
    "# print the matrix\n",
    "cov_matrix"
   ]
  },
  {
   "cell_type": "code",
   "execution_count": 14,
   "metadata": {},
   "outputs": [
    {
     "data": {
      "text/plain": [
       "(12, 12)"
      ]
     },
     "execution_count": 14,
     "metadata": {},
     "output_type": "execute_result"
    }
   ],
   "source": [
    "# to get shape of covariance matrix\n",
    "cov_matrix.shape"
   ]
  },
  {
   "cell_type": "markdown",
   "metadata": {},
   "source": [
    "**Interpretation:** The above output returns the covariance matrix which is a symmetric matrix of dimension 12*12. The diagonal entries represent the variance of each variable (which is always equal to 1, as we are using the standardized data) and the off-diagonal entries represent the covariances between the variables."
   ]
  },
  {
   "cell_type": "code",
   "execution_count": 15,
   "metadata": {},
   "outputs": [
    {
     "data": {
      "text/plain": [
       "array([3.28223121e+00, 2.00114967e+00, 2.97351391e-03, 1.70656062e-01,\n",
       "       2.11353852e-01, 4.30562273e-01, 1.30056755e+00, 1.14135852e+00,\n",
       "       7.05593722e-01, 8.21407447e-01, 9.15881664e-01, 1.03098845e+00])"
      ]
     },
     "execution_count": 15,
     "metadata": {},
     "output_type": "execute_result"
    }
   ],
   "source": [
    "# to get eigenvalues\n",
    "# the 'eig()' returns the eigenvalues and eigenvectors of the given matrix\n",
    "eig_values, eig_vectors = lin.eig(cov_matrix)\n",
    "\n",
    "# print the eigenvalues\n",
    "eig_values"
   ]
  },
  {
   "cell_type": "markdown",
   "metadata": {},
   "source": [
    "**Interpretation:** The above array returns the 12 eigenvalues of the covariance matrix.\n",
    "\n",
    "Now arrange thse values in descending order."
   ]
  },
  {
   "cell_type": "code",
   "execution_count": 16,
   "metadata": {},
   "outputs": [
    {
     "data": {
      "text/plain": [
       "[3.2822312065140125,\n",
       " 2.001149668241441,\n",
       " 1.3005675546221707,\n",
       " 1.1413585166858677,\n",
       " 1.0309884462442032,\n",
       " 0.9158816638591913,\n",
       " 0.8214074471312937,\n",
       " 0.7055937222739884,\n",
       " 0.43056227311273176,\n",
       " 0.21135385172389973,\n",
       " 0.17065606206378084,\n",
       " 0.0029735139077817457]"
      ]
     },
     "execution_count": 16,
     "metadata": {},
     "output_type": "execute_result"
    }
   ],
   "source": [
    "# use 'tolist()' to convert array to list\n",
    "eig_values = eig_values.tolist()\n",
    "\n",
    "# to arrange the eigenvalues in descending order\n",
    "# 'sort(reverse = True)' will sort the eigenvalues in descending order\n",
    "eig_values_sorted = sorted(eig_values ,reverse = True)  \n",
    "\n",
    "# print the eigenvalues\n",
    "eig_values_sorted"
   ]
  },
  {
   "cell_type": "markdown",
   "metadata": {},
   "source": [
    "**Interpretation:** The above list represents the eigenvalues in decreasing order. The highest eigenvalue is 3.2822 and the lowest value is 0.0029."
   ]
  },
  {
   "cell_type": "markdown",
   "metadata": {},
   "source": [
    "<table align=\"left\">\n",
    "    <tr>\n",
    "        <td width=\"6%\">\n",
    "            <img src=\"question_icon.png\">\n",
    "        </td>\n",
    "        <td>\n",
    "            <div align=\"left\", style=\"font-size:120%\">\n",
    "                <font color=\"#21618C\">\n",
    "                    <b>8. Draw the scree plot and obtain the optimal number of components. Hence find the percentage of variation explained by the optimal number of components. </b>\n",
    "                </font>\n",
    "            </div>\n",
    "        </td>\n",
    "    </tr>\n",
    "</table>"
   ]
  },
  {
   "cell_type": "code",
   "execution_count": 17,
   "metadata": {},
   "outputs": [
    {
     "data": {
      "image/png": "[encoded data removed]",
      "text/plain": [
       "<Figure size 1080x576 with 1 Axes>"
      ]
     },
     "metadata": {},
     "output_type": "display_data"
    }
   ],
   "source": [
    "# visualize the elbow plot to get the optimal value of number of components\n",
    "# pass the required style for the plot\n",
    "plt.style.use(\"fivethirtyeight\")\n",
    "\n",
    "# set the figure size using 'figsize'\n",
    "plt.figure(figsize=(15,8))\n",
    "\n",
    "# pass the values 1,2,...,12 to represent the ith component on X-axis\n",
    "# pass the sorted eigenvalues on the y-axis\n",
    "plt.plot(range(1,13), eig_values_sorted)\n",
    "\n",
    "# set the axes and plot labels\n",
    "plt.xlabel(\"Number of Components\")\n",
    "plt.title('Scree Plot for Optimal Number of Components')\n",
    "plt.ylabel(\"Eigenvalues\")\n",
    "\n",
    "# display the plot\n",
    "plt.show()"
   ]
  },
  {
   "cell_type": "markdown",
   "metadata": {},
   "source": [
    "**Interpretation:** From the above scree plot, we can see an elbow point is for `number of components = 3`. Note that, after the elbow point, the principal components do not contribute much to the variance in the data. \n",
    "\n",
    "Find the percentage of variation explained by the first three components."
   ]
  },
  {
   "cell_type": "code",
   "execution_count": 18,
   "metadata": {},
   "outputs": [
    {
     "name": "stdout",
     "output_type": "stream",
     "text": [
      "Percentage of variation explained by 1st component 0.27318407202909734\n",
      "Percentage of variation explained by 2nd component 0.16655810657851053\n",
      "Percentage of variation explained by 3rd component 0.108247810152887\n",
      "percentage of variation explained by the first three components 0.5479899887604949\n"
     ]
    }
   ],
   "source": [
    "# percentage of variation explained by 1st component \n",
    "p1 = eig_values_sorted[0] / sum(eig_values_sorted)\n",
    "print('Percentage of variation explained by 1st component', p1)\n",
    "\n",
    "# percentage of variation explained by 2nd component \n",
    "p2 = eig_values_sorted[1] / sum(eig_values_sorted)\n",
    "print('Percentage of variation explained by 2nd component', p2)\n",
    "\n",
    "# percentage of variation explained by 3rd component \n",
    "p3 = eig_values_sorted[2] / sum(eig_values_sorted)\n",
    "print('Percentage of variation explained by 3rd component', p3)\n",
    "\n",
    "# percentage of variation explained by the first three components \n",
    "print('percentage of variation explained by the first three components', p1+p2+p3)"
   ]
  },
  {
   "cell_type": "markdown",
   "metadata": {},
   "source": [
    "**Interpretation:** Here the 1st 3 principal components explain approximately 55% of the variation in the data."
   ]
  },
  {
   "cell_type": "markdown",
   "metadata": {},
   "source": [
    "<table align=\"left\">\n",
    "    <tr>\n",
    "        <td width=\"6%\">\n",
    "            <img src=\"question_icon.png\">\n",
    "        </td>\n",
    "        <td>\n",
    "            <div align=\"left\", style=\"font-size:120%\">\n",
    "                <font color=\"#21618C\">\n",
    "                    <b>9. Perform the principal component analysis using python libraries with the optimal number of components obtained in the previous question. </b>\n",
    "                </font>\n",
    "            </div>\n",
    "        </td>\n",
    "    </tr>\n",
    "</table>"
   ]
  },
  {
   "cell_type": "code",
   "execution_count": 19,
   "metadata": {},
   "outputs": [
    {
     "data": {
      "text/html": [
       "<div>\n",
       "<style scoped>\n",
       "    .dataframe tbody tr th:only-of-type {\n",
       "        vertical-align: middle;\n",
       "    }\n",
       "\n",
       "    .dataframe tbody tr th {\n",
       "        vertical-align: top;\n",
       "    }\n",
       "\n",
       "    .dataframe thead th {\n",
       "        text-align: right;\n",
       "    }\n",
       "</style>\n",
       "<table border=\"1\" class=\"dataframe\">\n",
       "  <thead>\n",
       "    <tr style=\"text-align: right;\">\n",
       "      <th></th>\n",
       "      <th>principal_component 1</th>\n",
       "      <th>principal_component 2</th>\n",
       "      <th>principal_component 3</th>\n",
       "    </tr>\n",
       "  </thead>\n",
       "  <tbody>\n",
       "    <tr>\n",
       "      <th>0</th>\n",
       "      <td>-2.05</td>\n",
       "      <td>1.31</td>\n",
       "      <td>2.07</td>\n",
       "    </tr>\n",
       "    <tr>\n",
       "      <th>1</th>\n",
       "      <td>-3.01</td>\n",
       "      <td>-1.06</td>\n",
       "      <td>0.08</td>\n",
       "    </tr>\n",
       "    <tr>\n",
       "      <th>2</th>\n",
       "      <td>-2.16</td>\n",
       "      <td>1.48</td>\n",
       "      <td>2.50</td>\n",
       "    </tr>\n",
       "    <tr>\n",
       "      <th>3</th>\n",
       "      <td>-2.32</td>\n",
       "      <td>0.83</td>\n",
       "      <td>1.74</td>\n",
       "    </tr>\n",
       "    <tr>\n",
       "      <th>4</th>\n",
       "      <td>-2.46</td>\n",
       "      <td>0.68</td>\n",
       "      <td>1.50</td>\n",
       "    </tr>\n",
       "  </tbody>\n",
       "</table>\n",
       "</div>"
      ],
      "text/plain": [
       "   principal_component 1  principal_component 2  principal_component 3\n",
       "0                  -2.05                   1.31                   2.07\n",
       "1                  -3.01                  -1.06                   0.08\n",
       "2                  -2.16                   1.48                   2.50\n",
       "3                  -2.32                   0.83                   1.74\n",
       "4                  -2.46                   0.68                   1.50"
      ]
     },
     "execution_count": 19,
     "metadata": {},
     "output_type": "execute_result"
    }
   ],
   "source": [
    "# specify the required no of components\n",
    "# take 'n_components=3' based on the analysis of scree plot\n",
    "# pass the 'random_state' to get the same output for multiple runs\n",
    "pca = PCA(n_components = 3, random_state = 10)\n",
    "\n",
    "# the 'fit_transform()' fits the PCA on the data transforms the data to compute the principal components \n",
    "# pass the standardized data to fit PCA\n",
    "components = pca.fit_transform(features_scaled)\n",
    "\n",
    "# create a dataframe of principal components\n",
    "# pass the required column names to the parameter 'columns'\n",
    "df_pca = pd.DataFrame(data = components, columns = ['principal_component 1','principal_component 2','principal_component 3'])\n",
    "\n",
    "# head() to display top five rows of the transformed data\n",
    "df_pca.head()"
   ]
  },
  {
   "cell_type": "markdown",
   "metadata": {},
   "source": [
    "**Interpretation:** The above output returns the required principal components. Here the number of variables in the data is reduced from 12 to 3. "
   ]
  },
  {
   "cell_type": "markdown",
   "metadata": {},
   "source": [
    "<table align=\"left\">\n",
    "    <tr>\n",
    "        <td width=\"6%\">\n",
    "            <img src=\"question_icon.png\">\n",
    "        </td>\n",
    "        <td>\n",
    "            <div align=\"left\", style=\"font-size:120%\">\n",
    "                <font color=\"#21618C\">\n",
    "                    <b>10. Check the equality of the equation Ax = $\\lambda$x, where A is the covariance matrix, $\\lambda$ is the largest eigenvalue of A and x is the eigenvector corresponding $\\lambda$.  </b>\n",
    "                </font>\n",
    "            </div>\n",
    "        </td>\n",
    "    </tr>\n",
    "</table>"
   ]
  },
  {
   "cell_type": "markdown",
   "metadata": {},
   "source": [
    "In Q7, we obtained the eigenvalues and eigenvectors of the covariance matrix. To check the equality of the given equation, let us first calculate the left hand side and right hand side of the equation separately; and then equate both sides."
   ]
  },
  {
   "cell_type": "code",
   "execution_count": 20,
   "metadata": {
    "scrolled": true
   },
   "outputs": [
    {
     "name": "stdout",
     "output_type": "stream",
     "text": [
      "LHS: \n",
      " [-0.55223706 -0.89630064 -0.710136   -0.4308137  -1.29594254 -1.31081395\n",
      " -1.2344963  -1.43826701 -0.26062365 -1.04137191 -0.88130104 -0.23550467]\n",
      "--------------\n",
      "RHS: \n",
      " [-0.55223706 -0.89630064 -0.710136   -0.4308137  -1.29594254 -1.31081395\n",
      " -1.2344963  -1.43826701 -0.26062365 -1.04137191 -0.88130104 -0.23550467]\n"
     ]
    }
   ],
   "source": [
    "# consider the left hand side of the equation (i.e. Ax)\n",
    "# since the 'eig_values[0]' is the largest eigenvalue of covariance matrix  \n",
    "# eigenvector corresponding to that eigenvalue is given by 'eig_vectors[:,0]'\n",
    "# the 'dot()' performs the matrix multiplication\n",
    "LHS = np.dot(cov_matrix, eig_vectors[:,0])\n",
    "\n",
    "# consider the right hand side of the equation (i.e. 𝜆x)\n",
    "# 𝜆 represents the largest eigenvalue of the covariance matrix\n",
    "RHS = eig_values[0]*eig_vectors[:,0]\n",
    "\n",
    "# check the equality of LHS and RHS\n",
    "print('LHS: \\n', LHS)\n",
    "print('--------------')\n",
    "print('RHS: \\n', RHS)"
   ]
  },
  {
   "cell_type": "markdown",
   "metadata": {},
   "source": [
    "**Interpretation:** The above output shows that the equation on the left hand side (i.e. Ax) and the equation on the right hand side (i.e. 𝜆x) has same elements in the array. Thus, we can say that `Ax = 𝜆x` where A is the covariance matrix, 𝜆  is the largest eigenvalue of A and x is the eigenvector corresponding to 𝜆."
   ]
  }
 ],
 "metadata": {
  "kernelspec": {
   "display_name": "Python 3",
   "language": "python",
   "name": "python3"
  },
  "language_info": {
   "codemirror_mode": {
    "name": "ipython",
    "version": 3
   },
   "file_extension": ".py",
   "mimetype": "text/x-python",
   "name": "python",
   "nbconvert_exporter": "python",
   "pygments_lexer": "ipython3",
   "version": "3.8.3"
  }
 },
 "nbformat": 4,
 "nbformat_minor": 2
}
